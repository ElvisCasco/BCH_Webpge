{
  "cells": [
    {
      "cell_type": "raw",
      "metadata": {},
      "source": [
        "---\n",
        "title: BCH_Webpage\n",
        "author: Elvis Casco\n",
        "execute:\n",
        "  echo: false\n",
        "  warning: false\n",
        "format:\n",
        "  pdf:\n",
        "    toc: true\n",
        "    warnings: false\n",
        "keep-ipynb: true\n",
        "lang: es\n",
        "---"
      ],
      "id": "2175a045"
    },
    {
      "cell_type": "markdown",
      "metadata": {},
      "source": [
        "# Librerías\n",
        "\n",
        "Para generar los datos en una carpeta específica, debe tenerse el contenido de la carpeta \"functions\" y \"data\".\n",
        "\n",
        "Las librerías de R que deben instalarse previamente son:\n",
        "\n",
        "- readxl\n",
        "- rio\n"
      ],
      "id": "ecc0b233"
    },
    {
      "cell_type": "code",
      "metadata": {},
      "source": [
        "#using CategoricalArrays,Chain,CSV,DataFrames,Dates,FileIO,ImageShow,LaTeXStrings,Metrics,Plots,Plotly,PrettyTables,RCall,Statistics,StatsBase,StatsPlots,StateSpaceModels,XLSX;\n",
        "using CSV,DataFrames,Dates,RCall,StatsBase\n",
        "\n",
        "wd = @__DIR__;\n",
        "include(wd * \"/functions/fn_process.jl\");\n",
        "include(wd * \"/functions/fn_get_data.jl\");"
      ],
      "id": "9c85f1e9",
      "execution_count": null,
      "outputs": []
    },
    {
      "cell_type": "code",
      "metadata": {},
      "source": [
        "data = get_data()\n",
        "CSV.write(\n",
        "    wd * \"/data/database.csv\",\n",
        "    data;\n",
        "    delim = \";\")"
      ],
      "id": "1aff176d",
      "execution_count": null,
      "outputs": []
    },
    {
      "cell_type": "code",
      "metadata": {},
      "source": [
        "data"
      ],
      "id": "530c2652",
      "execution_count": null,
      "outputs": []
    }
  ],
  "metadata": {
    "kernelspec": {
      "name": "julia-1.10",
      "language": "julia",
      "display_name": "Julia 1.10.3"
    }
  },
  "nbformat": 4,
  "nbformat_minor": 5
}