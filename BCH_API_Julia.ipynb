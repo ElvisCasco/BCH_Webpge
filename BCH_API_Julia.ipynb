{
  "cells": [
    {
      "cell_type": "raw",
      "metadata": {},
      "source": [
        "---\n",
        "title: BCH_API_Julia\n",
        "author: Elvis Casco\n",
        "execute:\n",
        "  echo: true\n",
        "format:\n",
        "  html:\n",
        "    code-fold: true\n",
        "    code-tools: true\n",
        "    toc: true\n",
        "    echo: true\n",
        "keep-ipynb: true\n",
        "---"
      ],
      "id": "0e080adc"
    },
    {
      "cell_type": "markdown",
      "metadata": {},
      "source": [
        "En este proceso se explica la forma en que pueden descargarse los datos disponibles en la [API](https://bchapi-am.developer.azure-api.net/) del Banco Central de Honduras (BCH), utilizando Julia.\n",
        "\n",
        "# Acceso a los Datos\n",
        "\n",
        "Una vez que se crea el registro de usuario (usar el botón \"Suscribirse\" en el [sitio web](https://bchapi-am.developer.azure-api.net/), puede verse el procedimiento de registro e inicio de sesión en [YouTube](https://www.youtube.com/watch?v=8ZBllMSsKw4)), se necesita obtener una clave (ver explicación en [YouTube](https://www.youtube.com/watch?v=mV90s74OCfc)), ejecutando una consulta al catálogo de indicadores. Favor sustituir en el código la clave actual por su clave asignada.\n",
        "\n",
        "Para conocer los datos disponibles, se debe ejecutar una consulta al catálogo de indicadores, que contiene información sobre las series disponibles:\n",
        "\n",
        "* Nombre (código)\n",
        "* Descripción\n",
        "* Periodicidad\n",
        "* Grupo\n",
        "* Correlativo del Grupo\n"
      ],
      "id": "752957a1"
    },
    {
      "cell_type": "code",
      "metadata": {},
      "source": [
        "#import Pkg; Pkg.add(\"IMFData\")\n",
        "using Azure,Chain,CSV,DataFrames,DataFramesMeta,Dates,HTTP,JSON,JSON3\n",
        "\n",
        "wd = @__DIR__\n",
        "clave = \"ff34cff7b0024ea39eb565fccb9f03b6\" #Favor ingresar la clave proporcionada."
      ],
      "id": "b91dfcef",
      "execution_count": null,
      "outputs": []
    },
    {
      "cell_type": "markdown",
      "metadata": {},
      "source": [
        "# Formatos de consulta\n",
        "\n",
        "## 1. Consulta de catálogo de indicadores\n",
        "\n",
        "Consulta el catálogo de indicadores publicados mediante la Web-API, asimismo, se obtiene el detalle de la información del indicador: Id, nombre, descripción, grupo, correlativo de grupo y periodicidad. Ningún parámetro es obligatorio.\n",
        "\n",
        "El formato para realizar una consulta personalizada es el siguiente:\n",
        "\n",
        "`https://bchapi-am.azure-api.net/api/v1/indicadores[?formato][&nombre][&descripcion][&periodicidad][&ordenamiento][&grupo][&correlativogrupo][&omitir][&reciente]`\n",
        "\n",
        "Este es el listado de todos los indicadores disponibles:\n"
      ],
      "id": "375556d1"
    },
    {
      "cell_type": "code",
      "metadata": {},
      "source": [
        "function get_indicators(key)\n",
        "  url = \"https://bchapi-am.azure-api.net/api/v1/indicadores/?formato=Json\"\n",
        "  usr = Dict(\"clave\" => key)\n",
        "  js = HTTP.get(url; headers = usr)\n",
        "  df = DataFrames.DataFrame(JSON.parse(String(js.body)))\n",
        "  df = df[!,[:Id,:Nombre,:Descripcion,:CorrelativoGrupo,:Grupo,:Periodicidad]]\n",
        "end\n",
        "\n",
        "function get_indicators_filter(key,url)\n",
        "  usr = Dict(\"clave\" => key)\n",
        "  js = HTTP.get(url; headers = usr)\n",
        "  df = DataFrames.DataFrame(JSON.parse(String(js.body)))\n",
        "  df = df[!,[:Id,:Nombre,:Descripcion,:CorrelativoGrupo,:Grupo,:Periodicidad]]\n",
        "end"
      ],
      "id": "fd8f5f41",
      "execution_count": null,
      "outputs": []
    },
    {
      "cell_type": "code",
      "metadata": {},
      "source": [
        "key = clave\n",
        "get_indicators(key)"
      ],
      "id": "52e54dbe",
      "execution_count": null,
      "outputs": []
    },
    {
      "cell_type": "markdown",
      "metadata": {},
      "source": [
        "Consultar solamente los indicadores filtrados por nombre (puede usarse partes del nombre), por ejemplo, \"ESR\":\n"
      ],
      "id": "9ab67eab"
    },
    {
      "cell_type": "code",
      "metadata": {},
      "source": [
        "url = \"https://bchapi-am.azure-api.net/api/v1/indicadores/?formato=Json&nombre=ESR\"\n",
        "get_indicators_filter(key,url)"
      ],
      "id": "3fdfa423",
      "execution_count": null,
      "outputs": []
    },
    {
      "cell_type": "markdown",
      "metadata": {},
      "source": [
        "Esto aplica para el resto de los campos; un ejemplo de consulta con varios filtros:\n"
      ],
      "id": "f28f1441"
    },
    {
      "cell_type": "code",
      "metadata": {},
      "source": [
        "url = \"https://bchapi-am.azure-api.net/api/v1/indicadores/?formato=Json&nombre=PIBA&correlativogrupo=10&Descripcion=Constantes\"\n",
        "get_indicators_filter(key,url)"
      ],
      "id": "3e727d61",
      "execution_count": null,
      "outputs": []
    },
    {
      "cell_type": "markdown",
      "metadata": {},
      "source": [
        "Nota: tomar en cuenta para todas las consultas por filtro que si la ruta no existe, el código genera un error.\n",
        "\n",
        "## 2. Consulta cifras por Id de indicador\n",
        "\n",
        "Consulta las cifras para un indicador en específico obtenido por el Id del indicador. El parámetro \"Id\" es un campo obligatorio el resto de criterios quedan a consideración del usuario. Si no se especifican parámetros, se obtendrán todos los datos disponibles para el indicador requerido, lo que podría demorar la obtención de la consulta, en ese sentido lo que se sugiere afinar la búsqueda a los criterios requeridos.\n",
        "\n",
        "El formato para realizar una consulta personalizada es el siguiente:\n",
        "\n",
        "`https://bchapi-am.azure-api.net/api/v1/indicadores/{id}/cifras[?formato][&fechaInicio][&fechaFinal][&valorMinimo][&valorMaximo][&ordenamiento][&omitir][&reciente]`\n"
      ],
      "id": "75f94092"
    },
    {
      "cell_type": "code",
      "metadata": {},
      "source": [
        "function get_data_indicator(key,id)\n",
        "  url = \"https://bchapi-am.azure-api.net/api/v1/indicadores/\" *  string(id) * \"/cifras\"\n",
        "  usr = Dict(\"clave\" => key)\n",
        "  js = HTTP.get(url; headers = usr)\n",
        "  df = DataFrames.DataFrame(JSON.parse(String(js.body)))\n",
        "  myFormat = Dates.DateFormat(\"yyy-mm-ddTHH:MM:SS\")\n",
        "  df.Fecha = @. Dates.Date(Dates.DateTime.(df.Fecha ,myFormat))\n",
        "  df = df[!,[:IndicadorId,:Nombre,:Descripcion,:Fecha,:Valor]]\n",
        "  DataFrames.sort!(df,[:Fecha],rev=true)\n",
        "  return df\n",
        "end\n",
        "\n",
        "function get_data_indicator_filter(key,url,id)\n",
        "  usr = Dict(\"clave\" => key)\n",
        "  js = HTTP.get(url; headers = usr)\n",
        "  df = DataFrames.DataFrame(JSON.parse(String(js.body)))\n",
        "  myFormat = Dates.DateFormat(\"yyy-mm-ddTHH:MM:SS\")\n",
        "  df.Fecha = @. Dates.Date(Dates.DateTime.(df.Fecha ,myFormat))\n",
        "  df = df[!,[:IndicadorId,:Nombre,:Descripcion,:Fecha,:Valor]]\n",
        "  DataFrames.sort!(df,[:Fecha],rev=true)\n",
        "  return df\n",
        "end\n",
        "\n",
        "function get_data_indicators(key,ids)\n",
        "  ids = collect(ids)\n",
        "  df = DataFrames.DataFrame()\n",
        "  for i in ids\n",
        "    df = vcat(df,get_data_indicator(key,i))\n",
        "  end\n",
        "  return df\n",
        "end"
      ],
      "id": "82b99753",
      "execution_count": null,
      "outputs": []
    },
    {
      "cell_type": "markdown",
      "metadata": {},
      "source": [
        "Consultar solo un indicador:\n"
      ],
      "id": "06cf1b51"
    },
    {
      "cell_type": "code",
      "metadata": {},
      "source": [
        "id = 1500\n",
        "get_data_indicator(key,id)"
      ],
      "id": "02ebd443",
      "execution_count": null,
      "outputs": []
    },
    {
      "cell_type": "markdown",
      "metadata": {},
      "source": [
        "Consultar varios indicadores, usando rangos:\n"
      ],
      "id": "90f8ef5d"
    },
    {
      "cell_type": "code",
      "metadata": {},
      "source": [
        "ids = 1:10\n",
        "get_data_indicators(key,ids)"
      ],
      "id": "eb77dc46",
      "execution_count": null,
      "outputs": []
    },
    {
      "cell_type": "markdown",
      "metadata": {},
      "source": [
        "Consultar varios indicadores, usando IDs no contínuas:\n"
      ],
      "id": "94ad5d2d"
    },
    {
      "cell_type": "code",
      "metadata": {},
      "source": [
        "ids = 1,7,25,36\n",
        "get_data_indicators(key,ids)"
      ],
      "id": "167f4889",
      "execution_count": null,
      "outputs": []
    },
    {
      "cell_type": "markdown",
      "metadata": {},
      "source": [
        "Consultar solo un indicador, usando filtros:\n"
      ],
      "id": "ff433322"
    },
    {
      "cell_type": "code",
      "metadata": {},
      "source": [
        "id = 36\n",
        "url = \"https://bchapi-am.azure-api.net/api/v1/indicadores/\" * string(id) * \"/cifras?FechaInicio=2023-03-01&FechaFinal=2023-09-01\"\n",
        "get_data_indicator_filter(key,url,id)"
      ],
      "id": "c3facf4b",
      "execution_count": null,
      "outputs": []
    },
    {
      "cell_type": "markdown",
      "metadata": {},
      "source": [
        "## 3. Consulta Indicadores por grupo\n",
        "\n",
        "Consulta un conjunto de indicadores publicados mediante la Web-API por grupo de indicadores. El parámetro \"grupo\" es un campo obligatorio.\n",
        "\n",
        "El formato para realizar una consulta personalizada es el siguiente:\n",
        "\n",
        "`https://bchapi-am.azure-api.net/api/v1/indicadores/grupo/{grupo}[?formato]`\n"
      ],
      "id": "9f62cf28"
    },
    {
      "cell_type": "code",
      "metadata": {},
      "source": [
        "function get_groups(key)\n",
        "  url = \"https://bchapi-am.azure-api.net/api/v1/indicadores?formato=Json\"\n",
        "  usr = Dict(\"clave\" => key)\n",
        "  js = HTTP.get(url; headers = usr)\n",
        "  df = DataFrames.DataFrame(JSON.parse(String(js.body)))\n",
        "  DataFrames.sort!(df,:CorrelativoGrupo)\n",
        "  df = df[!,[:CorrelativoGrupo,:Grupo,:Id,:Nombre,:Descripcion,:Periodicidad]]\n",
        "  return df\n",
        "end\n",
        "\n",
        "function get_groups_filter(key,url)\n",
        "  usr = Dict(\"clave\" => key)\n",
        "  js = HTTP.get(url; headers = usr)\n",
        "  df = DataFrames.DataFrame(JSON.parse(String(js.body)))\n",
        "  DataFrames.sort!(df,:Id)\n",
        "  return df\n",
        "end"
      ],
      "id": "28b465d7",
      "execution_count": null,
      "outputs": []
    },
    {
      "cell_type": "markdown",
      "metadata": {},
      "source": [
        "Consultar lista de todos los indicadores:\n"
      ],
      "id": "28b83b3f"
    },
    {
      "cell_type": "code",
      "metadata": {},
      "source": [
        "get_groups(key)"
      ],
      "id": "14ab9648",
      "execution_count": null,
      "outputs": []
    },
    {
      "cell_type": "markdown",
      "metadata": {},
      "source": [
        "Consultar componentes de grupo por filtro (en este caso debe especificarse el nombre completo del grupo, de acuerdo con la tabla anterior; caso contrario, se generan errores):\n"
      ],
      "id": "311fb090"
    },
    {
      "cell_type": "code",
      "metadata": {},
      "source": [
        "url = \"https://bchapi-am.azure-api.net/api/v1/indicadores/grupo/ESR-PIBT-PROD-OG-CONST?formato=Json\"\n",
        "get_groups_filter(key,url)"
      ],
      "id": "8713a02d",
      "execution_count": null,
      "outputs": []
    },
    {
      "cell_type": "markdown",
      "metadata": {},
      "source": [
        "## 4. Consulta cifras por grupo de indicadores\n",
        "\n",
        "Consultar las cifras de todos los indicadores por grupo de indicadores. El parámetro \"grupo\" es un campo obligatorio.\n",
        "\n",
        "El formato para realizar una consulta personalizada es el siguiente:\n",
        "\n",
        "`https://bchapi-am.azure-api.net/api/v1/indicadores/grupo/{grupo}/cifras[?formato]`\n",
        "\n",
        "Debe especificarse el nombre completo del (los) grupo(s), de acuerdo con la tabla anterior; caso contrario, se generan errores.\n"
      ],
      "id": "048a879c"
    },
    {
      "cell_type": "code",
      "metadata": {},
      "source": [
        "function get_data_group(key,group)\n",
        "  url = \"https://bchapi-am.azure-api.net/api/v1/indicadores/grupo/\" *  group * \"/cifras\"\n",
        "  usr = Dict(\"clave\" => key)\n",
        "  js = HTTP.get(url; headers = usr)\n",
        "  df = DataFrames.DataFrame(JSON.parse(String(js.body)))\n",
        "  myFormat = Dates.DateFormat(\"yyy-mm-ddTHH:MM:SS\")\n",
        "  df.Fecha = @. Dates.Date(Dates.DateTime.(df.Fecha ,myFormat))\n",
        "  df[!,:Grupo] .= group\n",
        "  df = df[!,[:Grupo,:IndicadorId,:Nombre,:Descripcion,:Fecha,:Valor]]\n",
        "  DataFrames.sort!(df,[:IndicadorId,:Fecha],rev=[false,true])\n",
        "  return df\n",
        "end\n",
        "\n",
        "function get_data_groups(key,groups)\n",
        "  df = DataFrames.DataFrame()\n",
        "  for i in 1:size(groups)[1]\n",
        "    df = vcat(df,get_data_group(key,groups[i]))\n",
        "  end\n",
        "  return df\n",
        "end"
      ],
      "id": "480e9f64",
      "execution_count": null,
      "outputs": []
    },
    {
      "cell_type": "markdown",
      "metadata": {},
      "source": [
        "Consultar cifras de un solo grupo:\n"
      ],
      "id": "aad706c1"
    },
    {
      "cell_type": "code",
      "metadata": {},
      "source": [
        "group = \"ESR-PIBT-PROD-OG-CONST\"\n",
        "get_data_group(key,group)"
      ],
      "id": "7cce0493",
      "execution_count": null,
      "outputs": []
    },
    {
      "cell_type": "markdown",
      "metadata": {},
      "source": [
        "Consultar cifras de varios grupos:\n"
      ],
      "id": "56fc44b8"
    },
    {
      "cell_type": "code",
      "metadata": {},
      "source": [
        "groups = [\"ESR-PIBT-PROD-OG-CONST\",\"ESE-PII-01\"]\n",
        "get_data_groups(key,groups)"
      ],
      "id": "f5361982",
      "execution_count": null,
      "outputs": []
    },
    {
      "cell_type": "markdown",
      "metadata": {},
      "source": [
        "## 5. Consulta por fecha de registro\n",
        "\n",
        "Consulta el valor de un indicador para una fecha específica. Todos los parámetros son obligatorios.\n",
        "\n",
        "El formato para realizar una consulta personalizada es el siguiente:\n",
        "\n",
        "`https://bchapi-am.azure-api.net/api/v1/indicadores/{id}/cifras/{fecha}[?formato]`\n"
      ],
      "id": "adc337ca"
    },
    {
      "cell_type": "code",
      "metadata": {},
      "source": [
        "function get_data_date(key,id,date)\n",
        "  url = \"https://bchapi-am.azure-api.net/api/v1/indicadores/\" * string(id) * \"/cifras/\" * date * \"?formato=JSON\"\n",
        "  usr = Dict(\"clave\" => key)\n",
        "  js = HTTP.get(url; headers = usr)\n",
        "  df = DataFrames.DataFrame(JSON.parse(String(js.body)))\n",
        "  myFormat = Dates.DateFormat(\"yyy-mm-ddTHH:MM:SS\")\n",
        "  df.Fecha = @. Dates.Date(Dates.DateTime.(df.Fecha ,myFormat))\n",
        "  df[!,:Grupo] .= group\n",
        "  df = df[!,[:Grupo,:IndicadorId,:Nombre,:Descripcion,:Fecha,:Valor]]\n",
        "  DataFrames.sort!(df,[:IndicadorId,:Fecha],rev=[false,true])\n",
        "  return df\n",
        "end"
      ],
      "id": "2040237f",
      "execution_count": null,
      "outputs": []
    },
    {
      "cell_type": "markdown",
      "metadata": {},
      "source": [
        "Consultar solamente un Id y una fecha:\n"
      ],
      "id": "3c2288da"
    },
    {
      "cell_type": "code",
      "metadata": {},
      "source": [
        "id = 1\n",
        "date = \"2023-03-01\"\n",
        "get_data_date(key,id,date)"
      ],
      "id": "eaae7218",
      "execution_count": null,
      "outputs": []
    },
    {
      "cell_type": "markdown",
      "metadata": {},
      "source": [
        "## 6. Consulta de información por Id de indicador\n",
        "\n",
        "Consulta el detalle de la información del indicador: Id, nombre, descripción, grupo, correlativo de grupo y periodicidad. El parámetro \"Id\" es un campo obligatorio.\n",
        "\n",
        "El formato para realizar una consulta personalizada es el siguiente:\n",
        "\n",
        "`https://bchapi-am.azure-api.net/api/v1/indicadores/{id}/cifras/{fecha}[?formato]`\n"
      ],
      "id": "43cada3f"
    },
    {
      "cell_type": "code",
      "metadata": {},
      "source": [
        "function get_info_id(key,id)\n",
        "  url = \"https://bchapi-am.azure-api.net/api/v1/indicadores/\" * string(id) * \"?formato=JSON\"\n",
        "  usr = Dict(\"clave\" => key)\n",
        "  js = HTTP.get(url; headers = usr)\n",
        "  df = DataFrames.DataFrame(JSON.parse(String(js.body)))\n",
        "  df = df[!,[:Id,:Nombre,:Descripcion,:Periodicidad,:CorrelativoGrupo,:Grupo]]\n",
        "  return df\n",
        "end\n",
        "\n",
        "function get_info_ids(key,ids)\n",
        "  ids = collect(ids)\n",
        "  df = DataFrames.DataFrame()\n",
        "  for i in ids\n",
        "    df = vcat(df,get_info_id(key,i))\n",
        "  end\n",
        "  return df\n",
        "end"
      ],
      "id": "990481f5",
      "execution_count": null,
      "outputs": []
    },
    {
      "cell_type": "markdown",
      "metadata": {},
      "source": [
        "Consultar solamente un Id:\n"
      ],
      "id": "5404f8b1"
    },
    {
      "cell_type": "code",
      "metadata": {},
      "source": [
        "id = 1\n",
        "get_info_id(key,id)"
      ],
      "id": "076dad64",
      "execution_count": null,
      "outputs": []
    },
    {
      "cell_type": "markdown",
      "metadata": {},
      "source": [
        "Consultar varios Ids, rango:\n"
      ],
      "id": "7e2bd871"
    },
    {
      "cell_type": "code",
      "metadata": {},
      "source": [
        "ids = 1:3\n",
        "get_info_ids(key,ids)"
      ],
      "id": "25a649ac",
      "execution_count": null,
      "outputs": []
    },
    {
      "cell_type": "markdown",
      "metadata": {},
      "source": [
        "Consultar varios Ids, números:\n"
      ],
      "id": "e1a9fd65"
    },
    {
      "cell_type": "code",
      "metadata": {},
      "source": [
        "ids = 1,7,25\n",
        "get_info_ids(key,ids)"
      ],
      "id": "05d7573d",
      "execution_count": null,
      "outputs": []
    },
    {
      "cell_type": "markdown",
      "metadata": {},
      "source": [
        "## 7. Conteo de cifras para cada indicador\n",
        "\n",
        "Consulta los indicadores publicados mediante la Web-API devolviendo el conteo de registros disponibles para cada uno. Todos los filtros son opcionales.\n",
        "\n",
        "El formato para realizar una consulta personalizada es el siguiente:\n",
        "\n",
        "`https://bchapi-am.azure-api.net/api/v1/indicadores/conteos[?formato][&nombre][&descripcion][&periodicidad][&ordenamiento][&conteoMinimo][&conteoMaximo][&ordenamientoConteo][&grupo][&correlativogrupo][&omitir][&reciente]`\n",
        "\n",
        "Esta forma de consulta permite filtrar por valores incompletos de los elementos nombre, descripcion y grupo.\n"
      ],
      "id": "f860d732"
    },
    {
      "cell_type": "code",
      "metadata": {},
      "source": [
        "function get_count_gids(key,url)\n",
        "  usr = Dict(\"clave\" => key)\n",
        "  js = HTTP.get(url; headers = usr)\n",
        "  df = DataFrames.DataFrame(JSON.parse(String(js.body)))\n",
        "  df = df[!,[:Id,:Nombre,:Descripcion,:Periodicidad,:CorrelativoGrupo,:Grupo,:Conteo]]\n",
        "  return df\n",
        "end"
      ],
      "id": "f287d304",
      "execution_count": null,
      "outputs": []
    },
    {
      "cell_type": "markdown",
      "metadata": {},
      "source": [
        "Filtro por nombre del indicador:\n"
      ],
      "id": "5cda2b3c"
    },
    {
      "cell_type": "code",
      "metadata": {},
      "source": [
        "filtro = \"EC-\"\n",
        "url = \"https://bchapi-am.azure-api.net/api/v1/indicadores/conteos?formato=Json&nombre=\" * filtro\n",
        "get_count_gids(key,url)"
      ],
      "id": "efaae4e1",
      "execution_count": null,
      "outputs": []
    },
    {
      "cell_type": "markdown",
      "metadata": {},
      "source": [
        "Filtro por descripción del indicador:\n"
      ],
      "id": "91e3f5fe"
    },
    {
      "cell_type": "code",
      "metadata": {},
      "source": [
        "filtro = \"cambio\"\n",
        "url = \"https://bchapi-am.azure-api.net/api/v1/indicadores/conteos?formato=Json&descripcion=\" * filtro\n",
        "get_count_gids(key,url)"
      ],
      "id": "15f8f8b6",
      "execution_count": null,
      "outputs": []
    },
    {
      "cell_type": "markdown",
      "metadata": {},
      "source": [
        "Filtro por periodicidad del indicador:\n",
        "\n",
        "- Diario;\n",
        "- Mensual;\n",
        "- Trimestral; y\n",
        "- Anual.\n"
      ],
      "id": "23740eaa"
    },
    {
      "cell_type": "code",
      "metadata": {},
      "source": [
        "filtro = \"Mensual\"\n",
        "url = \"https://bchapi-am.azure-api.net/api/v1/indicadores/conteos?formato=Json&periodicidad=\" * filtro\n",
        "get_count_gids(key,url)"
      ],
      "id": "4c917e54",
      "execution_count": null,
      "outputs": []
    },
    {
      "cell_type": "markdown",
      "metadata": {},
      "source": [
        "Filtro por grupo del indicador:\n"
      ],
      "id": "dfadc874"
    },
    {
      "cell_type": "code",
      "metadata": {},
      "source": [
        "filtro = \"ODA\"\n",
        "url = \"https://bchapi-am.azure-api.net/api/v1/indicadores/conteos?formato=Json&grupo=\" * filtro\n",
        "get_count_gids(key,url)"
      ],
      "id": "d80b48a9",
      "execution_count": null,
      "outputs": []
    },
    {
      "cell_type": "markdown",
      "metadata": {},
      "source": [
        "Filtro por correlativo de grupo del indicador:\n"
      ],
      "id": "28c413b0"
    },
    {
      "cell_type": "code",
      "metadata": {},
      "source": [
        "filtro = 10\n",
        "url = \"https://bchapi-am.azure-api.net/api/v1/indicadores/conteos?formato=Json&correlativogrupo=\" * string(filtro)\n",
        "get_count_gids(key,url)"
      ],
      "id": "2b0231ef",
      "execution_count": null,
      "outputs": []
    },
    {
      "cell_type": "markdown",
      "metadata": {},
      "source": [
        "## 8. Conteo de cifras para un indicador\n",
        "\n",
        "Consulta el conteo de registros disponibles para un indicador en específico. El parámetro \"Id\" es un campo obligatorio.\n",
        "\n",
        "El formato para realizar una consulta personalizada es el siguiente:\n",
        "\n",
        "`https://bchapi-am.azure-api.net/api/v1/indicadores/{id}/conteos[?formato]`\n"
      ],
      "id": "21ddf114"
    },
    {
      "cell_type": "code",
      "metadata": {},
      "source": [
        "function get_count_id1(key,id)\n",
        "  url = \"https://bchapi-am.azure-api.net/api/v1/indicadores/\" * string(id) * \"/conteos?formato=Json\"\n",
        "  usr = Dict(\"clave\" => key)\n",
        "  js = HTTP.get(url; headers = usr)\n",
        "  df = DataFrames.DataFrame(JSON.parse(String(js.body)))\n",
        "  df = df[!,[:Id,:Nombre,:Descripcion,:Periodicidad,:CorrelativoGrupo,:Grupo,:Conteo]]\n",
        "  return df\n",
        "end"
      ],
      "id": "129ec215",
      "execution_count": null,
      "outputs": []
    },
    {
      "cell_type": "code",
      "metadata": {},
      "source": [
        "id = 110\n",
        "get_count_id1(key,id)"
      ],
      "id": "627fb406",
      "execution_count": null,
      "outputs": []
    },
    {
      "cell_type": "markdown",
      "metadata": {},
      "source": [
        "# Grupos\n",
        "\n",
        "Las variables están categorizadas en 8 grupos principales y 54 subgrupos (ESE-BP-01 y ESE-CEB-01 contienen variables de periodicidad anual o trimestral, y EM-TPM-01 tiene variables de periodicidad diaria o mensual). La nomenclatura utilizada permite dividir estos en un máximo de cinco niveles, tomando en cuenta el separador (-). Se explicarán los mismos a continuacion, ordenando de acuerdo al número de niveles (número de subgrupos).\n"
      ],
      "id": "69dfabfe"
    },
    {
      "cell_type": "code",
      "metadata": {},
      "source": [
        "df = get_groups(key)\n",
        "df_groups = @chain df begin\n",
        "  DataFrames.groupby(\n",
        "    # [:Grupo,:CorrelativoGrupo,:Periodicidad])\n",
        "    # [:Grupo])\n",
        "    [:Grupo,:Periodicidad])\n",
        "  DataFrames.combine(\n",
        "    nrow => :Conteo)\n",
        "end\n",
        "DataFrames.sort!(df_groups,:Conteo,rev=true)\n",
        "df_groups = hcat(\n",
        "  df_groups,\n",
        "  DataFrames.select(\n",
        "    df_groups, \n",
        "    :Grupo =>\n",
        "      ByRow(x -> get.(Ref(split(x, '-')), 1:5, missing)) =>\n",
        "      [:Gr1,:Gr2,:Gr3,:Gr4,:Gr5]))\n",
        "CSV.write(\n",
        "    wd .* \"/api/grupos_julia.csv\",\n",
        "    delim = \";\",\n",
        "  df_groups);"
      ],
      "id": "3bb81d45",
      "execution_count": null,
      "outputs": []
    },
    {
      "cell_type": "markdown",
      "metadata": {},
      "source": [
        "Todos los grupos pueden clasificarse en al menos dos subgrupos:\n"
      ],
      "id": "84992514"
    },
    {
      "cell_type": "code",
      "metadata": {},
      "source": [
        "df_groups\n",
        "DataFrames.describe(\n",
        "  df_groups, \n",
        "  :nmissing, \n",
        "  length => :length,\n",
        "  cols = [:Gr1,:Gr2,:Gr3,:Gr4,:Gr5])"
      ],
      "id": "a17a8d0c",
      "execution_count": null,
      "outputs": []
    },
    {
      "cell_type": "code",
      "metadata": {},
      "source": [
        "function count_groups(x)\n",
        "  c = 5\n",
        "  @inbounds for i in eachindex(x)\n",
        "      if ismissing(x[i])\n",
        "          c -= 1\n",
        "      end\n",
        "  end\n",
        "  return c\n",
        "end"
      ],
      "id": "09f75e3d",
      "execution_count": null,
      "outputs": []
    },
    {
      "cell_type": "code",
      "metadata": {},
      "source": [
        "DataFrames.transform!(\n",
        "  df_groups, \n",
        "  AsTable(Between(:Gr1,:Gr5)) => ByRow(count_groups) => :N_Subgrupos)\n",
        "DataFrames.sort!(df_groups,[:Grupo,:N_Subgrupos],rev=[true,true])"
      ],
      "id": "d34a5918",
      "execution_count": null,
      "outputs": []
    },
    {
      "cell_type": "markdown",
      "metadata": {},
      "source": [
        "Los 8 grupos principales mencionados permiten consolidar los archivos de acuerdo con el origen de los datos en la página web del BCH, que en su mayoría pueden consultarse en los reportes dinámicos. A su vez, estos grupos pueden subdividirse en 25 subgrupos:\n",
        "\n",
        "1. EOM = Estadísticas de Operaciones Monetarias\n",
        "\n",
        "1.1. OMA = Operaciones de Mercado Abierto\n",
        "\n",
        "Cuatro niveles de agregación:\n",
        "\n",
        "- 01 = Tasas de Rendimiento Diario de Valores Gubernamentales\n",
        "- 02 = Créditos (Niv_Descr_4 = 1-3) e Inversiones (Niv_Descr_4 = 4-6): Monto, Número de Solicitudes y Tasa\n",
        "- 03 = Monto, Número de Operaciones y Tasa\n",
        "- 04 = Monto, Número de Operaciones y Tasa (Dólares - Lempiras)\n",
        "\n",
        "2. ESR = Estadísticas del Sector Real\n",
        "\n",
        "2.1. COU = Cuadro de Oferta y Utilización\n",
        "\n",
        "2.2. CCI = Clasificación Cruzada Industria\n",
        "\n",
        "2.3. VAB = Valor Agregado Bruto\n",
        "\n",
        "2.4. PIBA = PIB Anual\n",
        "\n",
        "2.5. PIBT = PIB Trimestral\n",
        "\n",
        "2.6. ODA = Oferta y Demanda Agregada\n",
        "\n",
        "2.7. IMAE = Índice Mensual de la Actividad Económica\n",
        "\n",
        "3. ESE = Estadísticas del Sector Externo\n",
        "4. EMF = Estadísiticas Monetarias y Financieras (Sector Fiscal)\n",
        "5. EM = Estadísticas Monetarias (TPM y RIN)\n",
        "6. ESP = Estadísticas de Sistema de Pagos\n",
        "7. EC = Estadísticas de Tipo de Cambio\n",
        "8. EP = Estadísticas de Precios\n",
        "\n",
        "Los grupos se subdividen en 25 subgrupos:\n"
      ],
      "id": "ef1ed5fc"
    }
  ],
  "metadata": {
    "kernelspec": {
      "name": "julia-1.10",
      "language": "julia",
      "display_name": "Julia 1.10.3"
    }
  },
  "nbformat": 4,
  "nbformat_minor": 5
}