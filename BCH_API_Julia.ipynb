{
  "cells": [
    {
      "cell_type": "raw",
      "metadata": {},
      "source": [
        "---\n",
        "title: BCH_API_Julia\n",
        "author: Elvis Casco\n",
        "execute:\n",
        "  echo: true\n",
        "format:\n",
        "  html:\n",
        "    code-fold: true\n",
        "    code-tools: true\n",
        "    toc: true\n",
        "    echo: true\n",
        "keep-ipynb: true\n",
        "---"
      ],
      "id": "2b39fe59"
    },
    {
      "cell_type": "markdown",
      "metadata": {},
      "source": [
        "En este proceso se explica la forma en que pueden descargarse los datos disponibles en la [API](https://bchapi-am.developer.azure-api.net/) del Banco Central de Honduras (BCH), utilizando Julia.\n",
        "\n",
        "# Acceso a los Datos\n",
        "\n",
        "Una vez que se crea el registro de usuario (usar el botón \"Suscribirse\" en el [sitio web](https://bchapi-am.developer.azure-api.net/), puede verse el procedimiento de registro e inicio de sesión en [YouTube](https://www.youtube.com/watch?v=8ZBllMSsKw4)), se necesita obtener una clave (ver explicación en [YouTube](https://www.youtube.com/watch?v=mV90s74OCfc)), ejecutando una consulta al catálogo de indicadores. Favor sustituir en el código la clave actual por su clave asignada.\n",
        "\n",
        "Para conocer los datos disponibles, se debe ejecutar una consulta al catálogo de indicadores, que contiene información sobre las series disponibles:\n",
        "\n",
        "* Nombre (código)\n",
        "* Descripción\n",
        "* Periodicidad\n",
        "* Grupo\n",
        "* Correlativo del Grupo\n"
      ],
      "id": "92e3b20b"
    },
    {
      "cell_type": "code",
      "metadata": {},
      "source": [
        "#import Pkg; Pkg.add(\"IMFData\")\n",
        "using Azure,Chain,CSV,DataFrames,DataFramesMeta,Dates,HTTP,JSON,JSON3\n",
        "\n",
        "wd = @__DIR__\n",
        "clave = \"ff34cff7b0024ea39eb565fccb9f03b6\" #Favor ingresar la clave proporcionada."
      ],
      "id": "486bcc76",
      "execution_count": null,
      "outputs": []
    },
    {
      "cell_type": "code",
      "metadata": {},
      "source": [
        "function count_groups(x)\n",
        "  # Función para contar separaciones de grupo tomando caracter \"-\".\n",
        "  c = 5\n",
        "  @inbounds for i in eachindex(x)\n",
        "      if ismissing(x[i])\n",
        "          c -= 1\n",
        "      end\n",
        "  end\n",
        "  return c\n",
        "end\n",
        "\n",
        "function count_description(x)\n",
        "  # Función para contar separaciones de indicador tomando caracter \"-\".\n",
        "  c = 8\n",
        "  @inbounds for i in eachindex(x)\n",
        "      if ismissing(x[i])\n",
        "          c -= 1\n",
        "      end\n",
        "  end\n",
        "  return c\n",
        "end"
      ],
      "id": "180421c0",
      "execution_count": null,
      "outputs": []
    },
    {
      "cell_type": "markdown",
      "metadata": {},
      "source": [
        "# Formatos de consulta\n",
        "\n",
        "## 1. Consulta de catálogo de indicadores\n",
        "\n",
        "Consulta el catálogo de indicadores publicados mediante la Web-API, asimismo, se obtiene el detalle de la información del indicador: Id, nombre, descripción, grupo, correlativo de grupo y periodicidad. Ningún parámetro es obligatorio.\n",
        "\n",
        "El formato para realizar una consulta personalizada es el siguiente:\n",
        "\n",
        "`https://bchapi-am.azure-api.net/api/v1/indicadores[?formato][&nombre][&descripcion][&periodicidad][&ordenamiento][&grupo][&correlativogrupo][&omitir][&reciente]`\n",
        "\n",
        "Este es el listado de todos los indicadores disponibles:\n"
      ],
      "id": "686d78aa"
    },
    {
      "cell_type": "code",
      "metadata": {},
      "source": [
        "function get_indicators(key)\n",
        "  url = \"https://bchapi-am.azure-api.net/api/v1/indicadores/?formato=Json\"\n",
        "  usr = Dict(\"clave\" => key)\n",
        "  js = HTTP.get(url; headers = usr)\n",
        "  df = DataFrames.DataFrame(JSON.parse(String(js.body)))\n",
        "  df = df[!,[:Id,:Nombre,:Descripcion,:CorrelativoGrupo,:Grupo,:Periodicidad]]\n",
        "end\n",
        "\n",
        "function get_indicators_filter(key,url)\n",
        "  usr = Dict(\"clave\" => key)\n",
        "  js = HTTP.get(url; headers = usr)\n",
        "  df = DataFrames.DataFrame(JSON.parse(String(js.body)))\n",
        "  df = df[!,[:Id,:Nombre,:Descripcion,:CorrelativoGrupo,:Grupo,:Periodicidad]]\n",
        "end"
      ],
      "id": "d3cd9c32",
      "execution_count": null,
      "outputs": []
    },
    {
      "cell_type": "code",
      "metadata": {},
      "source": [
        "key = clave\n",
        "df = get_indicators(key)\n",
        "df = hcat(\n",
        "  df,\n",
        "  DataFrames.select(\n",
        "    df, \n",
        "    :Descripcion =>\n",
        "      ByRow(x -> get.(Ref(split(x, '-')), 1:8, missing)) =>\n",
        "      [:Niv_Descr_1,:Niv_Descr_2,:Niv_Descr_3,:Niv_Descr_4,:Niv_Descr_5,:Niv_Descr_6,:Niv_Descr_7,:Niv_Descr_8]))\n",
        "DataFrames.transform!(\n",
        "  df, \n",
        "  AsTable(Between(:Niv_Descr_1,:Niv_Descr_8)) => ByRow(count_description) => :Niv_Descr)\n",
        "df = hcat(\n",
        "  df,\n",
        "  DataFrames.select(\n",
        "    df, \n",
        "    :Grupo =>\n",
        "      ByRow(x -> get.(Ref(split(x, '-')), 1:5, missing)) =>\n",
        "      [:Niv_Gr_1,:Niv_Gr_2,:Niv_Gr_3,:Niv_Gr_4,:Niv_Gr_5]))\n",
        "DataFrames.transform!(\n",
        "  df, \n",
        "  AsTable(Between(:Niv_Gr_1,:Niv_Gr_5)) => ByRow(count_groups) => :Niv_Gr)\n",
        "CSV.write(\n",
        "    wd .* \"/api/variables_julia.csv\",\n",
        "    delim = \";\",\n",
        "  df);"
      ],
      "id": "1f228431",
      "execution_count": null,
      "outputs": []
    },
    {
      "cell_type": "markdown",
      "metadata": {},
      "source": [
        "Consultar solamente los indicadores filtrados por nombre (puede usarse partes del nombre), por ejemplo, \"ESR\":\n"
      ],
      "id": "8d857d5b"
    },
    {
      "cell_type": "code",
      "metadata": {},
      "source": [
        "url = \"https://bchapi-am.azure-api.net/api/v1/indicadores/?formato=Json&nombre=ESR\"\n",
        "get_indicators_filter(key,url)"
      ],
      "id": "9d93f320",
      "execution_count": null,
      "outputs": []
    },
    {
      "cell_type": "markdown",
      "metadata": {},
      "source": [
        "Esto aplica para el resto de los campos; un ejemplo de consulta con varios filtros:\n"
      ],
      "id": "cbf80146"
    },
    {
      "cell_type": "code",
      "metadata": {},
      "source": [
        "url = \"https://bchapi-am.azure-api.net/api/v1/indicadores/?formato=Json&nombre=PIBA&correlativogrupo=10&Descripcion=Constantes\"\n",
        "get_indicators_filter(key,url)"
      ],
      "id": "6258e983",
      "execution_count": null,
      "outputs": []
    },
    {
      "cell_type": "markdown",
      "metadata": {},
      "source": [
        "Nota: tomar en cuenta para todas las consultas por filtro que si la ruta no existe, el código genera un error.\n",
        "\n",
        "## 2. Consulta cifras por Id de indicador\n",
        "\n",
        "Consulta las cifras para un indicador en específico obtenido por el Id del indicador. El parámetro \"Id\" es un campo obligatorio el resto de criterios quedan a consideración del usuario. Si no se especifican parámetros, se obtendrán todos los datos disponibles para el indicador requerido, lo que podría demorar la obtención de la consulta, en ese sentido lo que se sugiere afinar la búsqueda a los criterios requeridos.\n",
        "\n",
        "El formato para realizar una consulta personalizada es el siguiente:\n",
        "\n",
        "`https://bchapi-am.azure-api.net/api/v1/indicadores/{id}/cifras[?formato][&fechaInicio][&fechaFinal][&valorMinimo][&valorMaximo][&ordenamiento][&omitir][&reciente]`\n"
      ],
      "id": "ebf1af97"
    },
    {
      "cell_type": "code",
      "metadata": {},
      "source": [
        "function get_data_indicator(key,id)\n",
        "  url = \"https://bchapi-am.azure-api.net/api/v1/indicadores/\" *  string(id) * \"/cifras\"\n",
        "  usr = Dict(\"clave\" => key)\n",
        "  js = HTTP.get(url; headers = usr)\n",
        "  df = DataFrames.DataFrame(JSON.parse(String(js.body)))\n",
        "  myFormat = Dates.DateFormat(\"yyy-mm-ddTHH:MM:SS\")\n",
        "  df.Fecha = @. Dates.Date(Dates.DateTime.(df.Fecha ,myFormat))\n",
        "  df = df[!,[:IndicadorId,:Nombre,:Descripcion,:Fecha,:Valor]]\n",
        "  DataFrames.sort!(df,[:Fecha],rev=true)\n",
        "  return df\n",
        "end\n",
        "\n",
        "function get_data_indicator_filter(key,url,id)\n",
        "  usr = Dict(\"clave\" => key)\n",
        "  js = HTTP.get(url; headers = usr)\n",
        "  df = DataFrames.DataFrame(JSON.parse(String(js.body)))\n",
        "  myFormat = Dates.DateFormat(\"yyy-mm-ddTHH:MM:SS\")\n",
        "  df.Fecha = @. Dates.Date(Dates.DateTime.(df.Fecha ,myFormat))\n",
        "  df = df[!,[:IndicadorId,:Nombre,:Descripcion,:Fecha,:Valor]]\n",
        "  DataFrames.sort!(df,[:Fecha],rev=true)\n",
        "  return df\n",
        "end\n",
        "\n",
        "function get_data_indicators(key,ids)\n",
        "  ids = collect(ids)\n",
        "  df = DataFrames.DataFrame()\n",
        "  for i in ids\n",
        "    df = vcat(df,get_data_indicator(key,i))\n",
        "  end\n",
        "  return df\n",
        "end"
      ],
      "id": "0ac5f0a2",
      "execution_count": null,
      "outputs": []
    },
    {
      "cell_type": "markdown",
      "metadata": {},
      "source": [
        "Consultar solo un indicador:\n"
      ],
      "id": "05e9f368"
    },
    {
      "cell_type": "code",
      "metadata": {},
      "source": [
        "id = 5\n",
        "get_data_indicator(key,id)"
      ],
      "id": "750f5c24",
      "execution_count": null,
      "outputs": []
    },
    {
      "cell_type": "markdown",
      "metadata": {},
      "source": [
        "Consultar varios indicadores, usando rangos:\n"
      ],
      "id": "5051d77c"
    },
    {
      "cell_type": "code",
      "metadata": {},
      "source": [
        "ids = 1:10\n",
        "get_data_indicators(key,ids)"
      ],
      "id": "8c3ec2b4",
      "execution_count": null,
      "outputs": []
    },
    {
      "cell_type": "markdown",
      "metadata": {},
      "source": [
        "Consultar varios indicadores, usando IDs no contínuas:\n"
      ],
      "id": "0ec3cf89"
    },
    {
      "cell_type": "code",
      "metadata": {},
      "source": [
        "ids = 1,7,25,36\n",
        "get_data_indicators(key,ids)"
      ],
      "id": "f4454215",
      "execution_count": null,
      "outputs": []
    },
    {
      "cell_type": "markdown",
      "metadata": {},
      "source": [
        "Consultar solo un indicador, usando filtros:\n"
      ],
      "id": "52e31fde"
    },
    {
      "cell_type": "code",
      "metadata": {},
      "source": [
        "id = 36\n",
        "url = \"https://bchapi-am.azure-api.net/api/v1/indicadores/\" * string(id) * \"/cifras?FechaInicio=2023-03-01&FechaFinal=2023-09-01\"\n",
        "get_data_indicator_filter(key,url,id)"
      ],
      "id": "7c8bf350",
      "execution_count": null,
      "outputs": []
    },
    {
      "cell_type": "markdown",
      "metadata": {},
      "source": [
        "## 3. Consulta Indicadores por grupo\n",
        "\n",
        "Consulta un conjunto de indicadores publicados mediante la Web-API por grupo de indicadores. El parámetro \"grupo\" es un campo obligatorio.\n",
        "\n",
        "El formato para realizar una consulta personalizada es el siguiente:\n",
        "\n",
        "`https://bchapi-am.azure-api.net/api/v1/indicadores/grupo/{grupo}[?formato]`\n"
      ],
      "id": "279a7727"
    },
    {
      "cell_type": "code",
      "metadata": {},
      "source": [
        "function get_groups(key)\n",
        "  url = \"https://bchapi-am.azure-api.net/api/v1/indicadores?formato=Json\"\n",
        "  usr = Dict(\"clave\" => key)\n",
        "  js = HTTP.get(url; headers = usr)\n",
        "  df = DataFrames.DataFrame(JSON.parse(String(js.body)))\n",
        "  DataFrames.sort!(df,:CorrelativoGrupo)\n",
        "  df = df[!,[:Id,:Descripcion,:Periodicidad,:Grupo,:Nombre,:CorrelativoGrupo]]\n",
        "  return df\n",
        "end\n",
        "\n",
        "function get_groups_filter(key,url)\n",
        "  usr = Dict(\"clave\" => key)\n",
        "  js = HTTP.get(url; headers = usr)\n",
        "  df = DataFrames.DataFrame(JSON.parse(String(js.body)))\n",
        "  DataFrames.sort!(df,:Id)\n",
        "  return df\n",
        "end"
      ],
      "id": "0a51597d",
      "execution_count": null,
      "outputs": []
    },
    {
      "cell_type": "markdown",
      "metadata": {},
      "source": [
        "Consultar lista de todos los indicadores:\n"
      ],
      "id": "87ae8463"
    },
    {
      "cell_type": "code",
      "metadata": {},
      "source": [
        "get_groups(key)"
      ],
      "id": "0e99e4b3",
      "execution_count": null,
      "outputs": []
    },
    {
      "cell_type": "markdown",
      "metadata": {},
      "source": [
        "Consultar componentes de grupo por filtro (en este caso debe especificarse el nombre completo del grupo, de acuerdo con la tabla anterior; caso contrario, se generan errores):\n"
      ],
      "id": "e6364a39"
    },
    {
      "cell_type": "code",
      "metadata": {},
      "source": [
        "url = \"https://bchapi-am.azure-api.net/api/v1/indicadores/grupo/ESR-PIBT-PROD-OG-CONST?formato=Json\"\n",
        "get_groups_filter(key,url)"
      ],
      "id": "ca0c8b25",
      "execution_count": null,
      "outputs": []
    },
    {
      "cell_type": "markdown",
      "metadata": {},
      "source": [
        "## 4. Consulta cifras por grupo de indicadores\n",
        "\n",
        "Consultar las cifras de todos los indicadores por grupo de indicadores. El parámetro \"grupo\" es un campo obligatorio.\n",
        "\n",
        "El formato para realizar una consulta personalizada es el siguiente:\n",
        "\n",
        "`https://bchapi-am.azure-api.net/api/v1/indicadores/grupo/{grupo}/cifras[?formato]`\n",
        "\n",
        "Debe especificarse el nombre completo del (los) grupo(s), de acuerdo con la tabla anterior; caso contrario, se generan errores.\n"
      ],
      "id": "6844b964"
    },
    {
      "cell_type": "code",
      "metadata": {},
      "source": [
        "function get_data_group(key,group)\n",
        "  url = \"https://bchapi-am.azure-api.net/api/v1/indicadores/grupo/\" *  group * \"/cifras\"\n",
        "  usr = Dict(\"clave\" => key)\n",
        "  js = HTTP.get(url; headers = usr)\n",
        "  df = DataFrames.DataFrame(JSON.parse(String(js.body)))\n",
        "  myFormat = Dates.DateFormat(\"yyy-mm-ddTHH:MM:SS\")\n",
        "  df.Fecha = @. Dates.Date(Dates.DateTime.(df.Fecha ,myFormat))\n",
        "  df[!,:Grupo] .= group\n",
        "  df = df[!,[:Grupo,:IndicadorId,:Nombre,:Descripcion,:Fecha,:Valor]]\n",
        "  DataFrames.sort!(df,[:IndicadorId,:Fecha],rev=[false,true])\n",
        "  return df\n",
        "end\n",
        "\n",
        "function get_data_groups(key,groups)\n",
        "  df = DataFrames.DataFrame()\n",
        "  for i in 1:size(groups)[1]\n",
        "    df = vcat(df,get_data_group(key,groups[i]))\n",
        "  end\n",
        "  return df\n",
        "end"
      ],
      "id": "fec6c8f9",
      "execution_count": null,
      "outputs": []
    },
    {
      "cell_type": "markdown",
      "metadata": {},
      "source": [
        "Consultar cifras de un solo grupo:\n"
      ],
      "id": "b86fb5df"
    },
    {
      "cell_type": "code",
      "metadata": {},
      "source": [
        "group = \"ESR-PIBT-PROD-OG-CONST\"\n",
        "get_data_group(key,group)"
      ],
      "id": "8be312db",
      "execution_count": null,
      "outputs": []
    },
    {
      "cell_type": "markdown",
      "metadata": {},
      "source": [
        "Consultar cifras de varios grupos:\n"
      ],
      "id": "59fc04c9"
    },
    {
      "cell_type": "code",
      "metadata": {},
      "source": [
        "groups = [\"ESR-PIBT-PROD-OG-CONST\",\"ESE-PII-01\"]\n",
        "get_data_groups(key,groups)"
      ],
      "id": "69bc9512",
      "execution_count": null,
      "outputs": []
    },
    {
      "cell_type": "markdown",
      "metadata": {},
      "source": [
        "## 5. Consulta por fecha de registro\n",
        "\n",
        "Consulta el valor de un indicador para una fecha específica. Todos los parámetros son obligatorios.\n",
        "\n",
        "El formato para realizar una consulta personalizada es el siguiente:\n",
        "\n",
        "`https://bchapi-am.azure-api.net/api/v1/indicadores/{id}/cifras/{fecha}[?formato]`\n"
      ],
      "id": "87bd4752"
    },
    {
      "cell_type": "code",
      "metadata": {},
      "source": [
        "function get_data_date(key,id,date)\n",
        "  url = \"https://bchapi-am.azure-api.net/api/v1/indicadores/\" * string(id) * \"/cifras/\" * date * \"?formato=JSON\"\n",
        "  usr = Dict(\"clave\" => key)\n",
        "  js = HTTP.get(url; headers = usr)\n",
        "  df = DataFrames.DataFrame(JSON.parse(String(js.body)))\n",
        "  myFormat = Dates.DateFormat(\"yyy-mm-ddTHH:MM:SS\")\n",
        "  df.Fecha = @. Dates.Date(Dates.DateTime.(df.Fecha ,myFormat))\n",
        "  df[!,:Grupo] .= group\n",
        "  df = df[!,[:Grupo,:IndicadorId,:Nombre,:Descripcion,:Fecha,:Valor]]\n",
        "  DataFrames.sort!(df,[:IndicadorId,:Fecha],rev=[false,true])\n",
        "  return df\n",
        "end"
      ],
      "id": "429e330b",
      "execution_count": null,
      "outputs": []
    },
    {
      "cell_type": "markdown",
      "metadata": {},
      "source": [
        "Consultar solamente un Id y una fecha:\n"
      ],
      "id": "8ca91019"
    },
    {
      "cell_type": "code",
      "metadata": {},
      "source": [
        "id = 1\n",
        "date = \"2023-03-01\"\n",
        "get_data_date(key,id,date)"
      ],
      "id": "19e3317a",
      "execution_count": null,
      "outputs": []
    },
    {
      "cell_type": "markdown",
      "metadata": {},
      "source": [
        "## 6. Consulta de información por Id de indicador\n",
        "\n",
        "Consulta el detalle de la información del indicador: Id, nombre, descripción, grupo, correlativo de grupo y periodicidad. El parámetro \"Id\" es un campo obligatorio.\n",
        "\n",
        "El formato para realizar una consulta personalizada es el siguiente:\n",
        "\n",
        "`https://bchapi-am.azure-api.net/api/v1/indicadores/{id}/cifras/{fecha}[?formato]`\n"
      ],
      "id": "3fffcb37"
    },
    {
      "cell_type": "code",
      "metadata": {},
      "source": [
        "function get_info_id(key,id)\n",
        "  url = \"https://bchapi-am.azure-api.net/api/v1/indicadores/\" * string(id) * \"?formato=JSON\"\n",
        "  usr = Dict(\"clave\" => key)\n",
        "  js = HTTP.get(url; headers = usr)\n",
        "  df = DataFrames.DataFrame(JSON.parse(String(js.body)))\n",
        "  df = df[!,[:Id,:Nombre,:Descripcion,:Periodicidad,:CorrelativoGrupo,:Grupo]]\n",
        "  return df\n",
        "end\n",
        "\n",
        "function get_info_ids(key,ids)\n",
        "  ids = collect(ids)\n",
        "  df = DataFrames.DataFrame()\n",
        "  for i in ids\n",
        "    df = vcat(df,get_info_id(key,i))\n",
        "  end\n",
        "  return df\n",
        "end"
      ],
      "id": "582e823e",
      "execution_count": null,
      "outputs": []
    },
    {
      "cell_type": "markdown",
      "metadata": {},
      "source": [
        "Consultar solamente un Id:\n"
      ],
      "id": "5c4aca81"
    },
    {
      "cell_type": "code",
      "metadata": {},
      "source": [
        "id = 1\n",
        "get_info_id(key,id)"
      ],
      "id": "9b9abc94",
      "execution_count": null,
      "outputs": []
    },
    {
      "cell_type": "markdown",
      "metadata": {},
      "source": [
        "Consultar varios Ids, rango:\n"
      ],
      "id": "3bbcb53e"
    },
    {
      "cell_type": "code",
      "metadata": {},
      "source": [
        "ids = 1:3\n",
        "get_info_ids(key,ids)"
      ],
      "id": "4ae2901f",
      "execution_count": null,
      "outputs": []
    },
    {
      "cell_type": "markdown",
      "metadata": {},
      "source": [
        "Consultar varios Ids, números:\n"
      ],
      "id": "c7126ab4"
    },
    {
      "cell_type": "code",
      "metadata": {},
      "source": [
        "ids = 1,7,25\n",
        "get_info_ids(key,ids)"
      ],
      "id": "e4d2b51e",
      "execution_count": null,
      "outputs": []
    },
    {
      "cell_type": "markdown",
      "metadata": {},
      "source": [
        "## 7. Conteo de cifras para cada indicador\n",
        "\n",
        "Consulta los indicadores publicados mediante la Web-API devolviendo el conteo de registros disponibles para cada uno. Todos los filtros son opcionales.\n",
        "\n",
        "El formato para realizar una consulta personalizada es el siguiente:\n",
        "\n",
        "`https://bchapi-am.azure-api.net/api/v1/indicadores/conteos[?formato][&nombre][&descripcion][&periodicidad][&ordenamiento][&conteoMinimo][&conteoMaximo][&ordenamientoConteo][&grupo][&correlativogrupo][&omitir][&reciente]`\n",
        "\n",
        "Esta forma de consulta permite filtrar por valores incompletos de los elementos nombre, descripcion y grupo.\n"
      ],
      "id": "5cf29103"
    },
    {
      "cell_type": "code",
      "metadata": {},
      "source": [
        "function get_count_gids(key,url)\n",
        "  usr = Dict(\"clave\" => key)\n",
        "  js = HTTP.get(url; headers = usr)\n",
        "  df = DataFrames.DataFrame(JSON.parse(String(js.body)))\n",
        "  df = df[!,[:Id,:Nombre,:Descripcion,:Periodicidad,:CorrelativoGrupo,:Grupo,:Conteo]]\n",
        "  return df\n",
        "end"
      ],
      "id": "f901b2e1",
      "execution_count": null,
      "outputs": []
    },
    {
      "cell_type": "markdown",
      "metadata": {},
      "source": [
        "Filtro por nombre del indicador:\n"
      ],
      "id": "289b0cf7"
    },
    {
      "cell_type": "code",
      "metadata": {},
      "source": [
        "filtro = \"EC-\"\n",
        "url = \"https://bchapi-am.azure-api.net/api/v1/indicadores/conteos?formato=Json&nombre=\" * filtro\n",
        "get_count_gids(key,url)"
      ],
      "id": "9997b238",
      "execution_count": null,
      "outputs": []
    },
    {
      "cell_type": "markdown",
      "metadata": {},
      "source": [
        "Filtro por descripción del indicador:\n"
      ],
      "id": "be5acc1a"
    },
    {
      "cell_type": "code",
      "metadata": {},
      "source": [
        "filtro = \"cambio\"\n",
        "url = \"https://bchapi-am.azure-api.net/api/v1/indicadores/conteos?formato=Json&descripcion=\" * filtro\n",
        "get_count_gids(key,url)"
      ],
      "id": "7d028cd6",
      "execution_count": null,
      "outputs": []
    },
    {
      "cell_type": "markdown",
      "metadata": {},
      "source": [
        "Filtro por periodicidad del indicador:\n",
        "\n",
        "- Diario;\n",
        "- Mensual;\n",
        "- Trimestral; y\n",
        "- Anual.\n"
      ],
      "id": "de71c164"
    },
    {
      "cell_type": "code",
      "metadata": {},
      "source": [
        "filtro = \"Mensual\"\n",
        "url = \"https://bchapi-am.azure-api.net/api/v1/indicadores/conteos?formato=Json&periodicidad=\" * filtro\n",
        "get_count_gids(key,url)"
      ],
      "id": "56e598bb",
      "execution_count": null,
      "outputs": []
    },
    {
      "cell_type": "markdown",
      "metadata": {},
      "source": [
        "Filtro por grupo del indicador:\n"
      ],
      "id": "79a301f3"
    },
    {
      "cell_type": "code",
      "metadata": {},
      "source": [
        "filtro = \"ODA\"\n",
        "url = \"https://bchapi-am.azure-api.net/api/v1/indicadores/conteos?formato=Json&grupo=\" * filtro\n",
        "get_count_gids(key,url)"
      ],
      "id": "070d25bd",
      "execution_count": null,
      "outputs": []
    },
    {
      "cell_type": "markdown",
      "metadata": {},
      "source": [
        "Filtro por correlativo de grupo del indicador:\n"
      ],
      "id": "c9470806"
    },
    {
      "cell_type": "code",
      "metadata": {},
      "source": [
        "filtro = 10\n",
        "url = \"https://bchapi-am.azure-api.net/api/v1/indicadores/conteos?formato=Json&correlativogrupo=\" * string(filtro)\n",
        "get_count_gids(key,url)"
      ],
      "id": "1e2417de",
      "execution_count": null,
      "outputs": []
    },
    {
      "cell_type": "markdown",
      "metadata": {},
      "source": [
        "## 8. Conteo de cifras para un indicador\n",
        "\n",
        "Consulta el conteo de registros disponibles para un indicador en específico. El parámetro \"Id\" es un campo obligatorio.\n",
        "\n",
        "El formato para realizar una consulta personalizada es el siguiente:\n",
        "\n",
        "`https://bchapi-am.azure-api.net/api/v1/indicadores/{id}/conteos[?formato]`\n"
      ],
      "id": "37c71af8"
    },
    {
      "cell_type": "code",
      "metadata": {},
      "source": [
        "function get_count_id1(key,id)\n",
        "  url = \"https://bchapi-am.azure-api.net/api/v1/indicadores/\" * string(id) * \"/conteos?formato=Json\"\n",
        "  usr = Dict(\"clave\" => key)\n",
        "  js = HTTP.get(url; headers = usr)\n",
        "  df = DataFrames.DataFrame(JSON.parse(String(js.body)))\n",
        "  df = df[!,[:Id,:Nombre,:Descripcion,:Periodicidad,:CorrelativoGrupo,:Grupo,:Conteo]]\n",
        "  return df\n",
        "end"
      ],
      "id": "d0fb08b0",
      "execution_count": null,
      "outputs": []
    },
    {
      "cell_type": "code",
      "metadata": {},
      "source": [
        "id = 110\n",
        "get_count_id1(key,id)"
      ],
      "id": "21c95a14",
      "execution_count": null,
      "outputs": []
    },
    {
      "cell_type": "markdown",
      "metadata": {},
      "source": [
        "# Grupos\n",
        "\n",
        "Las variables están categorizadas en 8 grupos principales y 54 subgrupos (ESE-BP-01 y ESE-CEB-01 contienen variables de periodicidad anual o trimestral, y EM-TPM-01 tiene variables de periodicidad diaria o mensual). La nomenclatura utilizada permite dividir estos en un máximo de cinco niveles, tomando en cuenta el separador (-). Se explicarán los mismos a continuacion, ordenando de acuerdo al número de niveles (número de subgrupos).\n"
      ],
      "id": "a7d69c05"
    },
    {
      "cell_type": "code",
      "metadata": {},
      "source": [
        "df = get_groups(key)\n",
        "df_groups = @chain df begin\n",
        "  DataFrames.groupby(\n",
        "    # [:Grupo,:CorrelativoGrupo,:Periodicidad])\n",
        "    # [:Grupo])\n",
        "    [:Grupo,:Periodicidad])\n",
        "  DataFrames.combine(\n",
        "    nrow => :Conteo)\n",
        "end\n",
        "DataFrames.sort!(df_groups,:Conteo,rev=true)\n",
        "df_groups = hcat(\n",
        "  df_groups,\n",
        "  DataFrames.select(\n",
        "    df_groups, \n",
        "    :Grupo =>\n",
        "      ByRow(x -> get.(Ref(split(x, '-')), 1:5, missing)) =>\n",
        "      [:Gr1,:Gr2,:Gr3,:Gr4,:Gr5]))\n",
        "CSV.write(\n",
        "    wd .* \"/api/grupos_julia.csv\",\n",
        "    delim = \";\",\n",
        "  df_groups);"
      ],
      "id": "d0334dd6",
      "execution_count": null,
      "outputs": []
    },
    {
      "cell_type": "markdown",
      "metadata": {},
      "source": [
        "Todos los grupos pueden clasificarse en al menos dos subgrupos:\n"
      ],
      "id": "575b600f"
    },
    {
      "cell_type": "code",
      "metadata": {},
      "source": [
        "df_groups\n",
        "DataFrames.describe(\n",
        "  df_groups, \n",
        "  :nmissing, \n",
        "  length => :length,\n",
        "  cols = [:Gr1,:Gr2,:Gr3,:Gr4,:Gr5])\n",
        "DataFrames.transform!(\n",
        "  df_groups, \n",
        "  AsTable(Between(:Gr1,:Gr5)) => ByRow(count_groups) => :Niv_Gr)\n",
        "DataFrames.sort!(df_groups,[:Grupo,:Niv_Gr],rev=[true,true])"
      ],
      "id": "3d7be4cd",
      "execution_count": null,
      "outputs": []
    },
    {
      "cell_type": "markdown",
      "metadata": {},
      "source": [
        "Los 8 grupos principales mencionados permiten consolidar los archivos de acuerdo con el origen de los datos en la página web del BCH, que en su mayoría pueden consultarse en los reportes dinámicos. A su vez, estos grupos pueden subdividirse en 25 subgrupos:\n",
        "\n",
        "## EOM = Estadísticas de Operaciones Monetarias\n",
        "\n",
        "### OMA = Operaciones de Mercado Abierto**\n",
        "\n",
        "Cuatro niveles de agregación:\n",
        "\n",
        "* 01 = Tasas de Rendimiento Diario de Valores Gubernamentales\n"
      ],
      "id": "844c7f8b"
    },
    {
      "cell_type": "code",
      "metadata": {},
      "source": [
        "filtro = \"EOM-OMA-01\"\n",
        "url = \"https://bchapi-am.azure-api.net/api/v1/indicadores/grupo/\" * filtro * \"?formato=Json\"\n",
        "get_groups_filter(key,url)"
      ],
      "id": "1591af07",
      "execution_count": null,
      "outputs": []
    },
    {
      "cell_type": "markdown",
      "metadata": {},
      "source": [
        "* 02 = Créditos (Niv_Descr_4 = 1-3) e Inversiones (Niv_Descr_4 = 4-6): Monto, Número de Solicitudes y Tasa\n"
      ],
      "id": "6f04cbb4"
    },
    {
      "cell_type": "code",
      "metadata": {},
      "source": [
        "filtro = \"EOM-OMA-02\"\n",
        "url = \"https://bchapi-am.azure-api.net/api/v1/indicadores/grupo/\" * filtro * \"?formato=Json\"\n",
        "get_groups_filter(key,url)"
      ],
      "id": "74550e4f",
      "execution_count": null,
      "outputs": []
    },
    {
      "cell_type": "markdown",
      "metadata": {},
      "source": [
        "* 03 = Monto, Número de Operaciones y Tasa\n"
      ],
      "id": "9621dd0b"
    },
    {
      "cell_type": "code",
      "metadata": {},
      "source": [
        "filtro = \"EOM-OMA-03\"\n",
        "url = \"https://bchapi-am.azure-api.net/api/v1/indicadores/grupo/\" * filtro * \"?formato=Json\"\n",
        "get_groups_filter(key,url)"
      ],
      "id": "371d1043",
      "execution_count": null,
      "outputs": []
    },
    {
      "cell_type": "markdown",
      "metadata": {},
      "source": [
        "* 04 = Monto, Número de Operaciones y Tasa (Dólares - Lempiras)\n"
      ],
      "id": "6b494bec"
    },
    {
      "cell_type": "code",
      "metadata": {},
      "source": [
        "filtro = \"EOM-OMA-04\"\n",
        "url = \"https://bchapi-am.azure-api.net/api/v1/indicadores/grupo/\" * filtro * \"?formato=Json\"\n",
        "get_groups_filter(key,url)"
      ],
      "id": "b62d3aa6",
      "execution_count": null,
      "outputs": []
    },
    {
      "cell_type": "markdown",
      "metadata": {},
      "source": [
        "## ESR = Estadísticas del Sector Real\n",
        "\n",
        "### COU = Cuadro de Oferta y Utilización\n",
        "\n",
        "Detalla la interacción del producto con la actividad (el detalle se toma de acuerdo con la estructura de la columna \"Nombre\"). Para conocer la estructura de las estadísticas derivadas de este cuadro, consultar en la [página web del BCH](https://www.bch.hn/estadisticas-y-publicaciones-economicas/sector-real/cuentas-nacionales-anuales-base-2000/cuadro-oferta-y-utilizacion).\n",
        "\n",
        "El orden está de acuerdo con el Nivel de Descripción 2 (Niv_Descr_2) y Nivel de Descripción 3 (Niv_Descr_3) de la columna Nombre, para los casos de:\n",
        "\n",
        "* VALOR BRUTO DE PRODUCCIÓN: En el cuadro original, las filas son los productos a un nivel de dos dígitos de la Nomenclatura de Productos de Honduras (NPH) y las columnas son las actiivades económicas tomando en cuenta la Nomenclatura de Actividades Económicas de Honduras (NAEH).\n",
        "\n",
        "* CONSUMO INTERMEDIO: En el cuadro original, las filas son los productos a un nivel de dos dígitos de la Nomenclatura de Productos de Honduras (NPH) y las columnas son las actividades económicas tomando en cuenta la Nomenclatura de Actividades Económicas de Honduras (NAEH).\n",
        "\n",
        "* VALOR AGREGADO: En el cuadro original, las filas son los elementos indispensables para calcular el Valor Agregado Bruto, VAB (Remuneración de los Asalariados, Impuestos sobre la Producción y las Importaciones, Subvenciones, Excedente de Explotación, Ingreso Mixto y Consumo de Capital Fijo) y las columnas son las actiivades económicas tomando en cuenta la Nomenclatura de Actividades Económicas de Honduras (NAEH).\n",
        "\n",
        "* OFERTA: En el cuadro original, las filas son los productos a un nivel de dos dígitos de la Nomenclatura de Productos de Honduras (NPH) y las columnas son los componentes de la Oferta Agregada a Precios de Comprador (Producción, Importaciones CIF, Ajuste CIF/FOB, Impuestos y Subvenciones a los Productos y Márgenes de Distribución).\n",
        "\n",
        "* UTILIZACIÓN: En el cuadro original, las filas son los productos a un nivel de dos dígitos de la Nomenclatura de Productos de Honduras (NPH) y las columnas son los componentes de la Utilización Agregada a Precios de Comprador (Consumo Intermedio, Exportciones FOB, Gasto de Consumo Final y Formación Bruta de Capital).\n",
        "\n",
        "Cada uno de estos detalles corresponde a una hoja de Excel en el archivo anual correspondiente.\n",
        "\n",
        "Tomar en cuenta que, para realizar el cálculo del VAB por NAEH, se debe sumar las columnas de Valor Bruto de Producción y restar las de Consumo Intermedio; adicionalmente, como los datos correspondientes a Impuestos sobre los Productos y los Márgenes de Distribución solamente se encuentran a nivel de NPH, no se puede tener un VAB total que se obtenga por suma de VAB a nivel de actividad individual, en vista que debe restarse las de Subvenciones a los productos, mismas que se encuentran en el Cuadro de Oferta solamente a nivel de NPH. Esta forma de obtener el VAB se conoce como el cálculo del PIB por el enfoque del Ingreso.\n",
        "\n",
        "Como la Oferta y Utilización están detalladas a nivel de NPH, el VAB por NPH a partir de los dos detalles previos, se puede obtener por dos métodos:\n",
        "\n",
        "* Suma de Producción + Impuestos - Subvenciones a los Productos + Márgenes de Distribución (Oferta) - Consumo Intermedio (Utilización) => PIB por el enfoque de la Produccion.\n",
        "* Exportaciones FOB + Gasto de Consumo Final + Formación Bruta de Capital (Utilización) - Importaciones CIF - Ajuste CIF/FOB (Oferta) => PIB por el enfoque del Gasto.\n"
      ],
      "id": "84d4b0e6"
    },
    {
      "cell_type": "code",
      "metadata": {},
      "source": [
        "filtro = \"ESR-COU-01\"\n",
        "url = \"https://bchapi-am.azure-api.net/api/v1/indicadores/grupo/\" * filtro * \"?formato=Json\"\n",
        "get_groups_filter(key,url)"
      ],
      "id": "97192de3",
      "execution_count": null,
      "outputs": []
    },
    {
      "cell_type": "markdown",
      "metadata": {},
      "source": [
        "### CCI = Clasificación Cruzada Industria\n",
        "\n",
        "Para conocer la estructura de las estadísticas derivadas de este cuadro, consultar en la [página web del BCH](https://www.bch.hn/estadisticas-y-publicaciones-economicas/sector-real/cuentas-nacionales-anuales-base-2000/clasificacion-cruzada-industria-sector-institucional).\n",
        "\n",
        "El archivo contiene 3 hojas, que pueden filtrarse de acuerdo con el Nivel de Descripción 1 (Niv_Descr_1) de la variable:\n",
        "\n",
        "* Producción Bruta\n",
        "* Consumo Intermedio\n",
        "* Valor Agregado\n",
        "\n",
        "Los cuadros en cada hoja contienen los valores a nivel de Industria en las filas y a nivel de Sector Institucional en las columnas.\n",
        "\n",
        "Debido a que el VAB implica tomar en cuenta impuestos y subvenciones a nivel de NPH, no es posible obtener el cálculo de esta variable por suma a partir de los cuadros del CCI (ver explicación en el apartado del COU).\n"
      ],
      "id": "a593ce4c"
    },
    {
      "cell_type": "code",
      "metadata": {},
      "source": [
        "filtro = \"ESR-CCI-01\"\n",
        "url = \"https://bchapi-am.azure-api.net/api/v1/indicadores/grupo/\" * filtro * \"?formato=Json\"\n",
        "get_groups_filter(key,url)"
      ],
      "id": "2ef77122",
      "execution_count": null,
      "outputs": []
    },
    {
      "cell_type": "markdown",
      "metadata": {},
      "source": [
        "### VAB = Valor Agregado Bruto\n",
        "\n",
        "#### Valor y Variación, Corrientes y Constantes, por NAEH\n"
      ],
      "id": "3841f1f9"
    },
    {
      "cell_type": "code",
      "metadata": {},
      "source": [
        "filtro = \"ESR-VAB-01\"\n",
        "url = \"https://bchapi-am.azure-api.net/api/v1/indicadores/grupo/\" * filtro * \"?formato=Json\"\n",
        "get_groups_filter(key,url)"
      ],
      "id": "00df07e0",
      "execution_count": null,
      "outputs": []
    },
    {
      "cell_type": "markdown",
      "metadata": {},
      "source": [
        "#### Precio y Variación, Corrientes y Constantes, por NAEH\n"
      ],
      "id": "c3ac8fc4"
    },
    {
      "cell_type": "code",
      "metadata": {},
      "source": [
        "filtro = \"ESR-VAB-02\"\n",
        "url = \"https://bchapi-am.azure-api.net/api/v1/indicadores/grupo/\" * filtro * \"?formato=Json\"\n",
        "get_groups_filter(key,url)"
      ],
      "id": "c93abfec",
      "execution_count": null,
      "outputs": []
    },
    {
      "cell_type": "markdown",
      "metadata": {},
      "source": [
        "Notar que aquí el Nivel de Descripción 6 (Niv_Descr_6) no es una buena opción de desagregación, puesto que los componentes son \"Actividad Económica\" y “Productos Alimenticios, Bebidas y Tabaco”; esta última está detallada en mayor grado en el Nivel de Descripción 7 (Niv_Descr_7).\n",
        "\n",
        "### PIBA = PIB Anual\n",
        "\n",
        "#### Valores Corrientes y Constantes, por Actividad Económica\n",
        "\n",
        "La información se encuentra en la viñeta \"Sector Real\" de la [página web del BCH](https://www.bch.hn/estadisticas-y-publicaciones-economicas/reportes-dinamicos/sector-real).\n",
        "\n",
        "* Rama de Actividad Económica (RAE)\n",
        "* Series Agregadas\n",
        "* Variación RAE\n",
        "* Variación Series Agregadas\n"
      ],
      "id": "24161c94"
    },
    {
      "cell_type": "code",
      "metadata": {},
      "source": [
        "filtro = \"ESR-PIBA-01\"\n",
        "url = \"https://bchapi-am.azure-api.net/api/v1/indicadores/grupo/\" * filtro * \"?formato=Json\"\n",
        "get_groups_filter(key,url)"
      ],
      "id": "65b1c51c",
      "execution_count": null,
      "outputs": []
    },
    {
      "cell_type": "markdown",
      "metadata": {},
      "source": [
        "#### Precios y Variación, por Componente del Gasto\n"
      ],
      "id": "5c3d6101"
    },
    {
      "cell_type": "code",
      "metadata": {},
      "source": [
        "filtro = \"ESR-PIBA-02\"\n",
        "url = \"https://bchapi-am.azure-api.net/api/v1/indicadores/grupo/\" * filtro * \"?formato=Json\"\n",
        "get_groups_filter(key,url)"
      ],
      "id": "77ed25f1",
      "execution_count": null,
      "outputs": []
    },
    {
      "cell_type": "markdown",
      "metadata": {},
      "source": [
        "Tipo de Valores (\"Niv_Descr_5\"):\n",
        "\n",
        "* Corrientes\n",
        "* Constantes\n",
        "\n",
        "#### Precios y Variación, por Componente del Ingreso\n"
      ],
      "id": "7cf05558"
    },
    {
      "cell_type": "code",
      "metadata": {},
      "source": [
        "filtro = \"ESR-PIBA-03\"\n",
        "url = \"https://bchapi-am.azure-api.net/api/v1/indicadores/grupo/\" * filtro * \"?formato=Json\"\n",
        "get_groups_filter(key,url)"
      ],
      "id": "db479255",
      "execution_count": null,
      "outputs": []
    },
    {
      "cell_type": "markdown",
      "metadata": {},
      "source": [
        "Componente del Ingreso:\n",
        "\n",
        "* Remuneración de los asalariados\n",
        "* Impuestos netos de subvenciones sobre la producción y las importaciones\n",
        "* Excedente de Explotación bruto\n",
        "* Ingreso Mixto bruto\n",
        "* Producto Interno Bruto (pm)\n",
        "\n",
        "#### Ingreso Nacional, PIB, PNB\n"
      ],
      "id": "c8aba28f"
    },
    {
      "cell_type": "code",
      "metadata": {},
      "source": [
        "filtro = \"ESR-PIBA-04\"\n",
        "url = \"https://bchapi-am.azure-api.net/api/v1/indicadores/grupo/\" * filtro * \"?formato=Json\"\n",
        "get_groups_filter(key,url)"
      ],
      "id": "a05e9c7b",
      "execution_count": null,
      "outputs": []
    },
    {
      "cell_type": "markdown",
      "metadata": {},
      "source": [
        "* Dólares\n",
        "* Lempiras\n",
        "\n",
        "### PIBT = PIB Trimestral\n",
        "\n",
        "Lo que se detalla a continuación se obtiene a partir de los datos del [Portal de Consulta del Sistema de Cuentas Trimestrales](https://sisee.bch.hn/SCNT/Login.aspx?ReturnUrl=%2fSCNT%2fPortalPrincipal.aspx).\n",
        "\n",
        "#### PROD = PIB Trimestral por el Enfoque de la Producción\n",
        "\n",
        "CorrelativoGrupo:\n",
        "\n",
        "1. Agricultura Ganaderí­a Caza Silvicultura y Pesca \n",
        "2. Explotación de Minas y Canteras\n",
        "3. Industrias Manufactureras\n",
        "4. Electricidad y Distribución de Agua\n",
        "5. Construcción\n",
        "6. Comercio Reparación de Vehí­culos Automotores Motocicletas Efectos Personales y Enseres Domésticos Hoteles y Restaurantes\n",
        "7. Transporte y Almacenamiento\n",
        "8. Comunicaciones\n",
        "9. Intermediación Financiera\n",
        "10. Propiedad de Vivienda Actividades Inmobiliarias y Empresariales\n",
        "11. Administración Pública y Defensa Planes de Seguridad Social de Afiliación Obligatoria\n",
        "12. Servicios de Enseñanza Servicios Sociales y de Salud\n",
        "13. Servicios Comunitarios Sociales y Personales\n",
        "14. Menos Servicios de Intermediación Financiera Medidos Indirectamente (SIFMI)\n",
        "15. Valor Agregado Bruto a precios básicos\n",
        "16. Más Impuestos netos de subvenciones sobre la producción y las importaciones\n",
        "17. Producto Interno Bruto a precios de mercado\n",
        "\n",
        "\n",
        "##### OG-CONST = PIB Trimestral por el Enfoque de la Producción, Serie Original, Valores Constantes\n"
      ],
      "id": "b52db262"
    },
    {
      "cell_type": "code",
      "metadata": {},
      "source": [
        "filtro = \"ESR-PIBT-PROD-OG-CONST\"\n",
        "url = \"https://bchapi-am.azure-api.net/api/v1/indicadores/grupo/\" * filtro * \"?formato=Json\"\n",
        "get_groups_filter(key,url)"
      ],
      "id": "844d5da4",
      "execution_count": null,
      "outputs": []
    },
    {
      "cell_type": "markdown",
      "metadata": {},
      "source": [
        "##### OG-CORR = PIB Trimestral por el Enfoque de la Producción, Serie Original, Valores Corrientes\n"
      ],
      "id": "2c24bcf9"
    },
    {
      "cell_type": "code",
      "metadata": {},
      "source": [
        "filtro = \"ESR-PIBT-PROD-OG-CORR\"\n",
        "url = \"https://bchapi-am.azure-api.net/api/v1/indicadores/grupo/\" * filtro * \"?formato=Json\"\n",
        "get_groups_filter(key,url)"
      ],
      "id": "f76f2a68",
      "execution_count": null,
      "outputs": []
    },
    {
      "cell_type": "markdown",
      "metadata": {},
      "source": [
        "##### DES-CONST = PIB Trimestral por el Enfoque de la Producción, Serie Desestacionalizada, Valores Constantes\n"
      ],
      "id": "2597c600"
    },
    {
      "cell_type": "code",
      "metadata": {},
      "source": [
        "filtro = \"ESR-PIBT-PROD-DES-CONST\"\n",
        "url = \"https://bchapi-am.azure-api.net/api/v1/indicadores/grupo/\" * filtro * \"?formato=Json\"\n",
        "get_groups_filter(key,url)"
      ],
      "id": "91c59361",
      "execution_count": null,
      "outputs": []
    },
    {
      "cell_type": "markdown",
      "metadata": {},
      "source": [
        "##### DES-CORR = PIB Trimestral por el Enfoque de la Producción, Serie Desestacionalizada, Valores Corrientes\n"
      ],
      "id": "683ea8e3"
    },
    {
      "cell_type": "code",
      "metadata": {},
      "source": [
        "filtro = \"ESR-PIBT-PROD-DES-CORR\"\n",
        "url = \"https://bchapi-am.azure-api.net/api/v1/indicadores/grupo/\" * filtro * \"?formato=Json\"\n",
        "get_groups_filter(key,url)"
      ],
      "id": "b311e5e2",
      "execution_count": null,
      "outputs": []
    },
    {
      "cell_type": "markdown",
      "metadata": {},
      "source": [
        "#### GAST = PIB Trimestral por el Enfoque del Gasto\n",
        "\n",
        "CorrelativoGrupo:\n",
        "\n",
        "1.\tGastos de Consumo Final\n",
        "2.\tSector Privado\n",
        "3.\tSector PÃºblico\n",
        "4.\tFormaciÃ³n Bruta de Capital\n",
        "5.\tExportaciones de Bienes y Servicios\n",
        "6.\tImportaciÃ³n de Bienes y Servicios\n",
        "7.\tProducto Interno Bruto a precios de mercado\n",
        "\n",
        "\n",
        "##### OG-CONST = PIB Trimestral por el Enfoque de del Gasto, Serie Original, Valores Constantes\n"
      ],
      "id": "577bc5c8"
    },
    {
      "cell_type": "code",
      "metadata": {},
      "source": [
        "filtro = \"ESR-PIBT-GAST-OG-CONST\"\n",
        "url = \"https://bchapi-am.azure-api.net/api/v1/indicadores/grupo/\" * filtro * \"?formato=Json\"\n",
        "get_groups_filter(key,url)"
      ],
      "id": "a182365d",
      "execution_count": null,
      "outputs": []
    },
    {
      "cell_type": "markdown",
      "metadata": {},
      "source": [
        "##### OG-CORR = PIB Trimestral por el Enfoque de del Gasto, Serie Original, Valores Corrientes\n"
      ],
      "id": "4f9b3882"
    },
    {
      "cell_type": "code",
      "metadata": {},
      "source": [
        "filtro = \"ESR-PIBT-GAST-OG-CORR\"\n",
        "url = \"https://bchapi-am.azure-api.net/api/v1/indicadores/grupo/\" * filtro * \"?formato=Json\"\n",
        "get_groups_filter(key,url)"
      ],
      "id": "8b13db16",
      "execution_count": null,
      "outputs": []
    },
    {
      "cell_type": "markdown",
      "metadata": {},
      "source": [
        "##### DES-CONST = PIB Trimestral por el Enfoque del Gasto, Serie Desestacionalizada, Valores Constantes\n"
      ],
      "id": "d9ca1924"
    },
    {
      "cell_type": "code",
      "metadata": {},
      "source": [
        "filtro = \"ESR-PIBT-GAST-DES-CONST\"\n",
        "url = \"https://bchapi-am.azure-api.net/api/v1/indicadores/grupo/\" * filtro * \"?formato=Json\"\n",
        "get_groups_filter(key,url)"
      ],
      "id": "3dd6aa71",
      "execution_count": null,
      "outputs": []
    },
    {
      "cell_type": "markdown",
      "metadata": {},
      "source": [
        "##### DES-CORR = PIB Trimestral por el Enfoque del Gasto, Serie Desestacionalizada, Valores Corrientes\n"
      ],
      "id": "3603caf6"
    },
    {
      "cell_type": "code",
      "metadata": {},
      "source": [
        "filtro = \"ESR-PIBT-GAST-DES-CORR\"\n",
        "url = \"https://bchapi-am.azure-api.net/api/v1/indicadores/grupo/\" * filtro * \"?formato=Json\"\n",
        "get_groups_filter(key,url)"
      ],
      "id": "f127279c",
      "execution_count": null,
      "outputs": []
    },
    {
      "cell_type": "markdown",
      "metadata": {},
      "source": [
        "#### TDC = PIB Trimestral, Tasas de Crecimiento, Valores Ajustados\n"
      ],
      "id": "f800cadd"
    },
    {
      "cell_type": "code",
      "metadata": {},
      "source": [
        "filtro = \"ESR-PIBT-TDC-Valores\"\n",
        "url = \"https://bchapi-am.azure-api.net/api/v1/indicadores/grupo/\" * filtro * \"?formato=Json\"\n",
        "get_groups_filter(key,url)"
      ],
      "id": "e9dfde4c",
      "execution_count": null,
      "outputs": []
    },
    {
      "cell_type": "markdown",
      "metadata": {},
      "source": [
        "### ODA = Oferta y Demanda Agregada\n",
        "\n",
        "La estructura de estas variables puede verse en el [INE](https://view.officeapps.live.com/op/view.aspx?src=https%3A%2F%2Fine.gob.hn%2Fv4%2Fwp-content%2Fuploads%2F2023%2F06%2F7.1.5-Oferta-y-demanda-global-millones-de-lempiras-corrientes-2017-2021.xlsx&wdOrigin=BROWSELINK).\n",
        "\n",
        "#### Oferta Global\n",
        "\n",
        "Los números corresponden al correlativo de acuerdo con el cuadro citado.\n",
        "\n",
        "**Niv_Descr_2 = VALOR AGREGADO BRUTO; Niv_Descr_3:**\n",
        "\n",
        "3. AGRICULTURA, GANADERÍA, CAZA, SILVICULTURA Y PESCA (A PRECIOS BÁSICOS)\n",
        "4. EXPLOTACIÓN DE MINAS Y CANTERAS (A PRECIOS BÁSICOS)\n",
        "5. INDUSTRIA MANUFACTURERA (A PRECIOS BÁSICOS)\n",
        "6. CONSTRUCCIÓN (A PRECIOS BÁSICOS)\n",
        "7. COMERCIO, HOTELES Y RESTAURANTES (A PRECIOS BÁSICOS)\n",
        "9. MENOS: SERVICIOS DE INTERMEDIACIÓN FINANCIERA MEDIDOS INDIRECTAMENTE (A PRECIOS BÁSICOS)\n",
        "\n",
        "Niv_Descr_4 corresponde a:\n",
        "\n",
        "* EN MILLONES DE LEMPIRAS CONSTANTES\n",
        "* EN MILLONES DE LEMPIRAS CORRIENTES\n",
        "* VARIACIONES RELATIVAS CONSTANTE\n",
        "* VARIACIONES RELATIVAS CORRIENTES\n",
        "\n",
        "**Niv_Descr_2 = \"\"; Niv_Descr_3 = \"\"; Niv_Descr_4:**\n",
        "\n",
        "8. OTROS SERVICIOS (A PRECIOS BÁSICOS)\n",
        "10. IMPUESTOS NETOS DE SUBVENCIONES SOBRE LA PRODUCCIÓN Y LAS IMPORTACIONES\n",
        "11. PRODUCTO INTERNO BRUTO A PRECIOS DE MERCADO\n",
        "12. IMPORTACIONES DE BIENES Y SERVICIOS C.I.F.\n",
        "1. OFERTA GLOBAL\n",
        "13. TOTAL VALOR AGREGADO BRUTO A PRECIOS BáSICOS\n",
        "14. VALOR AGREGADO BRUTO\n",
        "2. VALOR AGREGADO BRUTO A PRECIOS BÁSICOS\n",
        "\n",
        "Niv_Descr_5 corresponde a:\n",
        "\n",
        "* EN MILLONES DE LEMPIRAS CONSTANTES\n",
        "* EN MILLONES DE LEMPIRAS CORRIENTES\n",
        "* VARIACIONES RELATIVAS CONSTANTE\n",
        "* VARIACIONES RELATIVAS CORRIENTES\n",
        "\n",
        "#### Demanda Global\n",
        "\n",
        "**Niv_Descr_2 = \"\"; Niv_Descr_3 = \"\"; Niv_Descr_4:**\n",
        "\n",
        "1. DEMANDA GLOBAL\n",
        "2. DEMANDA INTERNA\n",
        "3. GASTOS DE CONSUMO FINAL\n",
        "4. INVERSIÓN INTERNA BRUTA\n",
        "5. FORMACIÓN BRUTA DE CAPITAL FIJO\n",
        "6. VARIACIÓN DE EXISTENCIAS\n",
        "7. DEMANDA EXTERNA\n",
        "8. EXPORTACIÓN DE BIENES Y SERVICIOS F.O.B.\n",
        "\n",
        "Niv_Descr_5, de acuerdo con lo anterior, es:\n",
        "\n",
        "* EN MILLONES DE LEMPIRAS CONSTANTES\n",
        "* EN MILLONES DE LEMPIRAS CORRIENTES\n",
        "* VARIACIONES RELATIVAS CONSTANTE\n",
        "* VARIACIONES RELATIVAS CORRIENTES\n",
        "\n",
        "**Variables con valores en Niv_Descr_2 y Niv_Descr_3, corresponde a las siguientes series:**\n",
        "\n",
        "3. GASTOS DE CONSUMO FINAL\n",
        "5. FORMACIÓN BRUTA DE CAPITAL FIJO\n",
        "\n",
        "De Niv_Descr_3 se obtiene:\n",
        "\n",
        "a. SECTOR PRIVADO\n",
        "b. SECTOR PÚBLICO\n",
        "\n",
        "Niv_Descr_4, de acuerdo con lo anterior, es:\n",
        "\n",
        "* EN MILLONES DE LEMPIRAS CONSTANTES\n",
        "* EN MILLONES DE LEMPIRAS CORRIENTES\n",
        "* VARIACIONES RELATIVAS CONSTANTE\n",
        "* VARIACIONES RELATIVAS CORRIENTES\n"
      ],
      "id": "333fd9ba"
    },
    {
      "cell_type": "code",
      "metadata": {},
      "source": [
        "filtro = \"ESR-ODA-01\"\n",
        "url = \"https://bchapi-am.azure-api.net/api/v1/indicadores/grupo/\" * filtro * \"?formato=Json\"\n",
        "get_groups_filter(key,url)"
      ],
      "id": "29fc973c",
      "execution_count": null,
      "outputs": []
    },
    {
      "cell_type": "markdown",
      "metadata": {},
      "source": [
        "### IMAE = Índice Mensual de la Actividad Económica\n",
        "\n",
        "Las actividades (Niv_Descr_4) son:\n",
        "\n",
        "1. Agricultura, Ganaderia, Silvicultura y Pesca\n",
        "2. Minas y Canteras\n",
        "3. Industria Manufacturera\n",
        "4. Electricidad y Agua\n",
        "5. Construcción\n",
        "6. Comercio\n",
        "7. Hoteles y Restaurantes\n",
        "8. Transporte y Almacenamiento\n",
        "9. Correo y Telecomunicaciones\n",
        "10. Inter. Financiera, Seguros y Fondos de Pensiones\n",
        "11. Otros Servicios\n",
        "12. Serie Original\n",
        "13. Tendencia Ciclo\n",
        "\n",
        "El tipo de valor (Niv_Descr_5) de dichas variables es:\n",
        "\n",
        "* Índice\n",
        "* Acumulada\n",
        "* Interanual\n"
      ],
      "id": "24abdc48"
    },
    {
      "cell_type": "code",
      "metadata": {},
      "source": [
        "filtro = \"ESR-IMAE-01\"\n",
        "url = \"https://bchapi-am.azure-api.net/api/v1/indicadores/grupo/\" * filtro * \"?formato=Json\"\n",
        "get_groups_filter(key,url)"
      ],
      "id": "ad697573",
      "execution_count": null,
      "outputs": []
    },
    {
      "cell_type": "markdown",
      "metadata": {},
      "source": [
        "## ESE = Estadísticas del Sector Externo\n",
        "\n",
        "### DE = Deuda Externa\n",
        "\n",
        "#### 01 - Deudor\n"
      ],
      "id": "352e5571"
    },
    {
      "cell_type": "code",
      "metadata": {},
      "source": [
        "filtro = \"ESE-DE-01\"\n",
        "url = \"https://bchapi-am.azure-api.net/api/v1/indicadores/grupo/\" * filtro * \"?formato=Json\"\n",
        "get_groups_filter(key,url)"
      ],
      "id": "6ec090b4",
      "execution_count": null,
      "outputs": []
    },
    {
      "cell_type": "markdown",
      "metadata": {},
      "source": [
        "#### 02 - Acreedor\n"
      ],
      "id": "f1dc2340"
    },
    {
      "cell_type": "code",
      "metadata": {},
      "source": [
        "filtro = \"ESE-DE-02\"\n",
        "url = \"https://bchapi-am.azure-api.net/api/v1/indicadores/grupo/\" * filtro * \"?formato=Json\"\n",
        "get_groups_filter(key,url)"
      ],
      "id": "1c6a30f9",
      "execution_count": null,
      "outputs": []
    },
    {
      "cell_type": "markdown",
      "metadata": {},
      "source": [
        "### 03 - Institución\n",
        "\n",
        "Las instituciones son:\n",
        "\n",
        "* Banco Central\n",
        "* Gobierno general\n",
        "* Otras sociedades financieras\n",
        "* Otros Sectores\n",
        "* Saldo bruto de la deuda externa\n",
        "* Sociedades no financieras\n",
        "\n",
        "Las cuentas son: \n",
        "\n",
        "* Asignación de Derechos especiales de giro\n",
        "* Créditos y anticipos comerciales\n",
        "* Moneda y depósitos\n",
        "* Otros pasivos de deuda\n",
        "* Préstamos\n",
        "* Tí­tulos de deuda\n",
        "* Saldo bruto de la deuda externa\n"
      ],
      "id": "5be43922"
    },
    {
      "cell_type": "code",
      "metadata": {},
      "source": [
        "filtro = \"ESE-DE-03\"\n",
        "url = \"https://bchapi-am.azure-api.net/api/v1/indicadores/grupo/\" * filtro * \"?formato=Json\"\n",
        "get_groups_filter(key,url)"
      ],
      "id": "081f880c",
      "execution_count": null,
      "outputs": []
    },
    {
      "cell_type": "markdown",
      "metadata": {},
      "source": [
        "### 04 - Pagos que vencen en un año o menos\n"
      ],
      "id": "0f2199a5"
    },
    {
      "cell_type": "code",
      "metadata": {},
      "source": [
        "filtro = \"ESE-DE-04\"\n",
        "url = \"https://bchapi-am.azure-api.net/api/v1/indicadores/grupo/\" * filtro * \"?formato=Json\"\n",
        "get_groups_filter(key,url)"
      ],
      "id": "fec00787",
      "execution_count": null,
      "outputs": []
    },
    {
      "cell_type": "markdown",
      "metadata": {},
      "source": [
        "Por institución:\n",
        "\n",
        "* Gobierno general\n",
        "* Banco Central\n",
        "* Otros Sectores\n",
        "* Otras sociedades financieras\n",
        "* Sociedades no financieras\n",
        "* Deuda externa total a corto plazo\n",
        "\n",
        "Por plazos:\n",
        "\n",
        "* A corto plazo según el vencimiento original\n",
        "* A largo plazo exigible dentro de un año o antes\n",
        "* Deuda externa total a corto plazo\n",
        "\n",
        "Por Cuenta:\n",
        "\n",
        "* Asignación de Derechos especiales de giro\n",
        "* Moneda y depósitos\n",
        "* Tí­tulos de deuda\n",
        "* Préstamos\n",
        "* Créditos y anticipos comerciales\n",
        "* Otros pasivos de deuda\n",
        "* Deuda externa total a corto plazo (según el vencimiento residual)\n",
        "\n",
        "**OJO: REVISAR LA CONSULTA A PARTIR DE 7392 HASTA 7446**\n",
        "\n",
        "### CEB = Comercio Exterior de Bienes\n",
        "\n",
        "#### 01 - Productos\n",
        "\n",
        "* Banano\n",
        "* Café\n",
        "* Aceite de Palma\n",
        "* Camarones\n",
        "* Melones y Sandí­as\n",
        "* Legumbres y Hortalizas\n",
        "* Puros o Cigarros\n",
        "* Textiles\n",
        "* Jabones\n",
        "* Plásticos y su Manufacturas\n",
        "* Papel y Cartón\n",
        "\n",
        "Tipo de valor:\n",
        "\n",
        "* Volumen\n",
        "* Valor\n",
        "* Precio\n",
        "\n",
        "Periodicidad:\n",
        "\n",
        "* Trimestral\n",
        "* Anual\n"
      ],
      "id": "2f641c6c"
    },
    {
      "cell_type": "code",
      "metadata": {},
      "source": [
        "filtro = \"ESE-CEB-01\"\n",
        "url = \"https://bchapi-am.azure-api.net/api/v1/indicadores/grupo/\" * filtro * \"?formato=Json\"\n",
        "get_groups_filter(key,url)"
      ],
      "id": "19fd2f08",
      "execution_count": null,
      "outputs": []
    },
    {
      "cell_type": "markdown",
      "metadata": {},
      "source": [
        "**OJO: Niv_Descr_7 y Niv_Descr_8 son iguales**\n",
        "\n",
        "#### 02 - Combustibles\n",
        "\n",
        "* Gasolina regular\n",
        "* Bunker\n",
        "* Diesel\n",
        "* Total combustibles\n",
        "* Gasolina superior\n",
        "* Kerosene\n",
        "* LPG\n",
        "\n",
        "Tipo de valor:\n",
        "\n",
        "* Barriles\n",
        "* Valor\n",
        "* Precio\n"
      ],
      "id": "49c64c6a"
    },
    {
      "cell_type": "code",
      "metadata": {},
      "source": [
        "filtro = \"ESE-CEB-02\"\n",
        "url = \"https://bchapi-am.azure-api.net/api/v1/indicadores/grupo/\" * filtro * \"?formato=Json\"\n",
        "get_groups_filter(key,url)"
      ],
      "id": "7704e6af",
      "execution_count": null,
      "outputs": []
    },
    {
      "cell_type": "markdown",
      "metadata": {},
      "source": [
        "#### 03 AE, BT Sección, Secciones\n",
        "\n",
        "* Importaciones AE\n",
        "* Importaciones BT Sección\n",
        "* Importaciones Secciones: Valores en Millones de USD y Peso en Kilos\n"
      ],
      "id": "b5b520c1"
    },
    {
      "cell_type": "code",
      "metadata": {},
      "source": [
        "filtro = \"ESE-CEB-03\"\n",
        "url = \"https://bchapi-am.azure-api.net/api/v1/indicadores/grupo/\" * filtro * \"?formato=Json\"\n",
        "get_groups_filter(key,url)"
      ],
      "id": "65c960e3",
      "execution_count": null,
      "outputs": []
    },
    {
      "cell_type": "markdown",
      "metadata": {},
      "source": [
        "#### 04 AE y BT\n",
        "\n",
        "* Exportaciones AE\n",
        "* Exportaciones BT\n"
      ],
      "id": "651ce508"
    },
    {
      "cell_type": "code",
      "metadata": {},
      "source": [
        "filtro = \"ESE-CEB-04\"\n",
        "url = \"https://bchapi-am.azure-api.net/api/v1/indicadores/grupo/\" * filtro * \"?formato=Json\"\n",
        "get_groups_filter(key,url)"
      ],
      "id": "081057c5",
      "execution_count": null,
      "outputs": []
    },
    {
      "cell_type": "markdown",
      "metadata": {},
      "source": [
        "### BP = Balanza de Pagos\n",
        "\n",
        "- Trimestral\n",
        "- Anual\n"
      ],
      "id": "52247dff"
    },
    {
      "cell_type": "code",
      "metadata": {},
      "source": [
        "filtro = \"ESE-BP-01\"\n",
        "url = \"https://bchapi-am.azure-api.net/api/v1/indicadores/grupo/\" * filtro * \"?formato=Json\"\n",
        "get_groups_filter(key,url)"
      ],
      "id": "6b613006",
      "execution_count": null,
      "outputs": []
    },
    {
      "cell_type": "markdown",
      "metadata": {},
      "source": [
        "### IES = Ingresos y Egresos de Servicios\n",
        "\n",
        "Ingresos y Egresos:\n",
        "\n",
        "* Exportaciones (Ingresos)\n",
        "* Importaciones (Egresos)\n",
        "\n",
        "Periodicidad:\n",
        "\n",
        "* Anual\n",
        "* Trimestral\n",
        "\n",
        "Variables:\n",
        "\n",
        "* Transporte\n",
        "* Viajes\n",
        "* Servicios de Comunicaciones\n",
        "* Otros Servicios Empresariales\n",
        "* Servicios de Gobierno\n",
        "* Otros Servicios\n",
        "* Servicios de Seguro\n",
        "* Servicios de InformÃ¡tica e Información\n",
        "* Servicios de RegalÃ­as y Derechos de Licencia\n",
        "\n",
        "**OJO: La columna Periodicidad menciona que todo es Trimestral, sin embargo la Descripción menciona valores anuales y trimestrales.**\n"
      ],
      "id": "ac496582"
    },
    {
      "cell_type": "code",
      "metadata": {},
      "source": [
        "filtro = \"ESE-IES-01\"\n",
        "url = \"https://bchapi-am.azure-api.net/api/v1/indicadores/grupo/\" * filtro * \"?formato=Json\"\n",
        "get_groups_filter(key,url)"
      ],
      "id": "28df7261",
      "execution_count": null,
      "outputs": []
    },
    {
      "cell_type": "markdown",
      "metadata": {},
      "source": [
        "### PII = Posición de Inversión Internacional\n",
        "\n",
        "Agrupación:\n",
        "\n",
        "* Posición de Inversión Internacional por Categorí­a\n",
        "* Posición de los Activos Financieros con no Residentes por Componente\n",
        "* Posición de los Pasivos Financieros con no Residentes por Componente\n",
        "* Posición de Inversión Internacional Neta por Componente\n",
        "\n",
        "Cuentas:\n",
        "\n",
        "* Activos\n",
        "* Pasivos\n",
        "* PII Neta\n",
        "* Inversió³n extranjera directa\n",
        "* Inversión de cartera\n",
        "* Derivados financieros\n",
        "* Otra inversión\n",
        "* Activos de reservas lí­quidos oficiales\n"
      ],
      "id": "6cac5ae8"
    },
    {
      "cell_type": "code",
      "metadata": {},
      "source": [
        "filtro = \"ESE-PII-01\"\n",
        "url = \"https://bchapi-am.azure-api.net/api/v1/indicadores/grupo/\" * filtro * \"?formato=Json\"\n",
        "get_groups_filter(key,url)"
      ],
      "id": "d5db0bab",
      "execution_count": null,
      "outputs": []
    },
    {
      "cell_type": "markdown",
      "metadata": {},
      "source": [
        "### IED = Inversión Extranjera Directa\n"
      ],
      "id": "ead90a40"
    },
    {
      "cell_type": "code",
      "metadata": {},
      "source": [
        "filtro = \"ESE-IED-01\"\n",
        "url = \"https://bchapi-am.azure-api.net/api/v1/indicadores/grupo/\" * filtro * \"?formato=Json\"\n",
        "get_groups_filter(key,url)"
      ],
      "id": "91e6952a",
      "execution_count": null,
      "outputs": []
    },
    {
      "cell_type": "markdown",
      "metadata": {},
      "source": [
        "## EMF = Estadísiticas Monetarias y Financieras (Sector Fiscal)\n",
        "\n",
        "### AMCC = Agregados Monetarios, Crédito y Captación\n",
        "\n",
        "#### 01 Agregados Monetarios, Crédito y Captación\n"
      ],
      "id": "fac8ec91"
    },
    {
      "cell_type": "code",
      "metadata": {},
      "source": [
        "filtro = \"EMF-AMCC-01\"\n",
        "url = \"https://bchapi-am.azure-api.net/api/v1/indicadores/grupo/\" * filtro * \"?formato=Json\"\n",
        "get_groups_filter(key,url)"
      ],
      "id": "513673c8",
      "execution_count": null,
      "outputs": []
    },
    {
      "cell_type": "markdown",
      "metadata": {},
      "source": [
        "#### 02 Captación: Bancos Comerciales y Otras Sociedades de Depósito (Variación y Saldo)\n"
      ],
      "id": "c306a352"
    },
    {
      "cell_type": "code",
      "metadata": {},
      "source": [
        "filtro = \"EMF-AMCC-02\"\n",
        "url = \"https://bchapi-am.azure-api.net/api/v1/indicadores/grupo/\" * filtro * \"?formato=Json\"\n",
        "get_groups_filter(key,url)"
      ],
      "id": "2a4005c6",
      "execution_count": null,
      "outputs": []
    },
    {
      "cell_type": "markdown",
      "metadata": {},
      "source": [
        "#### 03 Crédito de los Bancos Comerciales\n"
      ],
      "id": "58c82b39"
    },
    {
      "cell_type": "code",
      "metadata": {},
      "source": [
        "filtro = \"EMF-AMCC-03\"\n",
        "url = \"https://bchapi-am.azure-api.net/api/v1/indicadores/grupo/\" * filtro * \"?formato=Json\"\n",
        "get_groups_filter(key,url)"
      ],
      "id": "7b007cfa",
      "execution_count": null,
      "outputs": []
    },
    {
      "cell_type": "markdown",
      "metadata": {},
      "source": [
        "#### 04 Crédito Otras Sociedades de Depósito\n"
      ],
      "id": "2641f3e2"
    },
    {
      "cell_type": "code",
      "metadata": {},
      "source": [
        "filtro = \"EMF-AMCC-04\"\n",
        "url = \"https://bchapi-am.azure-api.net/api/v1/indicadores/grupo/\" * filtro * \"?formato=Json\"\n",
        "get_groups_filter(key,url)"
      ],
      "id": "e602a50b",
      "execution_count": null,
      "outputs": []
    },
    {
      "cell_type": "markdown",
      "metadata": {},
      "source": [
        "#### 05 Saldo de Préstamos (Millones de Lempiras)\n"
      ],
      "id": "7ce5e647"
    },
    {
      "cell_type": "code",
      "metadata": {},
      "source": [
        "filtro = \"EMF-AMCC-05\"\n",
        "url = \"https://bchapi-am.azure-api.net/api/v1/indicadores/grupo/\" * filtro * \"?formato=Json\"\n",
        "get_groups_filter(key,url)"
      ],
      "id": "0b0c1cc2",
      "execution_count": null,
      "outputs": []
    },
    {
      "cell_type": "markdown",
      "metadata": {},
      "source": [
        "De los siguientes sectores:\n",
        "\n",
        "* Agropecuaria\n",
        "* Comercio\n",
        "* Consumo\n",
        "* Industria\n",
        "* Propiedad Raí­z\n",
        "* Servicios\n",
        "* Total\n",
        "\n",
        "#### 06 Préstamos Nuevos (Flujos acumulados en millones de lempiras)\n"
      ],
      "id": "edda5edb"
    },
    {
      "cell_type": "code",
      "metadata": {},
      "source": [
        "filtro = \"EMF-AMCC-06\"\n",
        "url = \"https://bchapi-am.azure-api.net/api/v1/indicadores/grupo/\" * filtro * \"?formato=Json\"\n",
        "get_groups_filter(key,url)"
      ],
      "id": "4f4a17cd",
      "execution_count": null,
      "outputs": []
    },
    {
      "cell_type": "markdown",
      "metadata": {},
      "source": [
        "De los siguientes sectores:\n",
        "\n",
        "* Agropecuaria\n",
        "* Comercio\n",
        "* Consumo\n",
        "* Industria\n",
        "* Propiedad Raí­z\n",
        "* Servicios\n",
        "* Total\n",
        "\n",
        "### TI = Tasas de Interés\n",
        "\n",
        "#### 01 Tasas de Interés, Activa y Pasiva, por Moneda\n",
        "\n",
        "Por Tipo:\n",
        "\n",
        "* Activa Préstamos\n",
        "* Pasiva Ahorros\n",
        "* Pasiva Cheques\n",
        "* Pasiva Plazo\n",
        "\n",
        "Por Moneda:\n",
        "\n",
        "* Moneda Nacional\n",
        "* Moneda Extranjera\n"
      ],
      "id": "94187a32"
    },
    {
      "cell_type": "code",
      "metadata": {},
      "source": [
        "filtro = \"EMF-TI-01\"\n",
        "url = \"https://bchapi-am.azure-api.net/api/v1/indicadores/grupo/\" * filtro * \"?formato=Json\"\n",
        "get_groups_filter(key,url)"
      ],
      "id": "f49fe472",
      "execution_count": null,
      "outputs": []
    },
    {
      "cell_type": "markdown",
      "metadata": {},
      "source": [
        "#### 02 Por Actividad\n",
        "\n",
        "Por Moneda:\n",
        "\n",
        "* Moneda Nacional\n",
        "* Moneda Extranjera\n"
      ],
      "id": "9febf1a4"
    },
    {
      "cell_type": "code",
      "metadata": {},
      "source": [
        "filtro = \"EMF-TI-02\"\n",
        "url = \"https://bchapi-am.azure-api.net/api/v1/indicadores/grupo/\" * filtro * \"?formato=Json\"\n",
        "get_groups_filter(key,url)"
      ],
      "id": "195f2793",
      "execution_count": null,
      "outputs": []
    },
    {
      "cell_type": "markdown",
      "metadata": {},
      "source": [
        "#### 03 Tasas de Interés Anuales\n",
        "\n",
        "* Tasas de Interés Anuales Mí­nimas y Máximas del Sistema Bancario Comercial\n",
        "* Tasas de Interés Anuales Promedio Ponderadas del Sistema Financiero\n",
        "\n",
        "Por tipo:\n",
        "Activa\n",
        "Pasiva\n",
        "\n",
        "Por Unidad de Medida:\n",
        "\n",
        "* Máxima\n",
        "* Mínima\n",
        "* Promedio\n",
        "* Por Moneda:\n",
        "\n",
        "* Nacional\n",
        "* Extranjera\n"
      ],
      "id": "42c27c80"
    },
    {
      "cell_type": "code",
      "metadata": {},
      "source": [
        "filtro = \"EMF-TI-03\"\n",
        "url = \"https://bchapi-am.azure-api.net/api/v1/indicadores/grupo/\" * filtro * \"?formato=Json\"\n",
        "get_groups_filter(key,url)"
      ],
      "id": "1536566e",
      "execution_count": null,
      "outputs": []
    },
    {
      "cell_type": "markdown",
      "metadata": {},
      "source": [
        "### PFS = Panorama de las Sociedades Financieras\n",
        "\n",
        "#### 01 Bancos Comerciales, Activos y Pasivos Externos\n"
      ],
      "id": "6231a5a6"
    },
    {
      "cell_type": "code",
      "metadata": {},
      "source": [
        "filtro = \"EMF-PFS-01\"\n",
        "url = \"https://bchapi-am.azure-api.net/api/v1/indicadores/grupo/\" * filtro * \"?formato=Json\"\n",
        "get_groups_filter(key,url)"
      ],
      "id": "367562a4",
      "execution_count": null,
      "outputs": []
    },
    {
      "cell_type": "markdown",
      "metadata": {},
      "source": [
        "#### 02 Activos y Pasivos Externos\n"
      ],
      "id": "95e27b01"
    },
    {
      "cell_type": "code",
      "metadata": {},
      "source": [
        "filtro = \"EMF-PFS-02\"\n",
        "url = \"https://bchapi-am.azure-api.net/api/v1/indicadores/grupo/\" * filtro * \"?formato=Json\"\n",
        "get_groups_filter(key,url)"
      ],
      "id": "a3e936a6",
      "execution_count": null,
      "outputs": []
    },
    {
      "cell_type": "markdown",
      "metadata": {},
      "source": [
        "### EBM = Emisión y Base Monetaria\n",
        "\n",
        "* Saldo\n",
        "* Variación\n"
      ],
      "id": "ac84999a"
    },
    {
      "cell_type": "code",
      "metadata": {},
      "source": [
        "filtro = \"EMF-EBM-01\"\n",
        "url = \"https://bchapi-am.azure-api.net/api/v1/indicadores/grupo/\" * filtro * \"?formato=Json\"\n",
        "get_groups_filter(key,url)"
      ],
      "id": "7678fd67",
      "execution_count": null,
      "outputs": []
    },
    {
      "cell_type": "markdown",
      "metadata": {},
      "source": [
        "## EM = Estadísticas Monetarias (TPM y RIN)\n",
        "\n",
        "### Reservas Internacionales Netas (RIN)\n",
        "\n",
        "* RIN\n",
        "* Activos de Reserva Oficial\n"
      ],
      "id": "7af8e87c"
    },
    {
      "cell_type": "code",
      "metadata": {},
      "source": [
        "filtro = \"EM-RIN-01\"\n",
        "url = \"https://bchapi-am.azure-api.net/api/v1/indicadores/grupo/\" * filtro * \"?formato=Json\"\n",
        "get_groups_filter(key,url)"
      ],
      "id": "9c7aa4a2",
      "execution_count": null,
      "outputs": []
    },
    {
      "cell_type": "markdown",
      "metadata": {},
      "source": [
        "### TPM\n"
      ],
      "id": "d2d75d3a"
    },
    {
      "cell_type": "code",
      "metadata": {},
      "source": [
        "filtro = \"EM-TPM-01\"\n",
        "url = \"https://bchapi-am.azure-api.net/api/v1/indicadores/grupo/\" * filtro * \"?formato=Json\"\n",
        "get_groups_filter(key,url)"
      ],
      "id": "fc8b87bd",
      "execution_count": null,
      "outputs": []
    },
    {
      "cell_type": "markdown",
      "metadata": {},
      "source": [
        "## ESP = Estadísticas de Sistema de Pagos\n",
        "\n",
        "### ACH = Operaciones de Crédito Compensadas en Ceproban y Liquidadas en BCH\n"
      ],
      "id": "47b816df"
    },
    {
      "cell_type": "code",
      "metadata": {},
      "source": [
        "filtro = \"ESP-ACH-01\"\n",
        "url = \"https://bchapi-am.azure-api.net/api/v1/indicadores/grupo/\" * filtro * \"?formato=Json\"\n",
        "get_groups_filter(key,url)"
      ],
      "id": "064e4e69",
      "execution_count": null,
      "outputs": []
    },
    {
      "cell_type": "markdown",
      "metadata": {},
      "source": [
        "### CCECH = Cheques Compensados en Ceproban y Liquidados en BCH\n"
      ],
      "id": "ab85d2c3"
    },
    {
      "cell_type": "code",
      "metadata": {},
      "source": [
        "filtro = \"ESP-CCECH-01\"\n",
        "url = \"https://bchapi-am.azure-api.net/api/v1/indicadores/grupo/\" * filtro * \"?formato=Json\"\n",
        "get_groups_filter(key,url)"
      ],
      "id": "52b5d7fe",
      "execution_count": null,
      "outputs": []
    },
    {
      "cell_type": "markdown",
      "metadata": {},
      "source": [
        "## EC = Estadísticas de Tipo de Cambio\n",
        "\n",
        "### TCR = Tipo de Cambio de Referencia\n"
      ],
      "id": "b95b56c3"
    },
    {
      "cell_type": "code",
      "metadata": {},
      "source": [
        "filtro = \"EC-TCR\"\n",
        "url = \"https://bchapi-am.azure-api.net/api/v1/indicadores/grupo/\" * filtro * \"?formato=Json\"\n",
        "get_groups_filter(key,url)"
      ],
      "id": "940551da",
      "execution_count": null,
      "outputs": []
    },
    {
      "cell_type": "markdown",
      "metadata": {},
      "source": [
        "### TCN = Tipo de Cambio Nominal\n"
      ],
      "id": "15e7e4f0"
    },
    {
      "cell_type": "code",
      "metadata": {},
      "source": [
        "filtro = \"EC-TCR\"\n",
        "url = \"https://bchapi-am.azure-api.net/api/v1/indicadores/grupo/\" * filtro * \"?formato=Json\"\n",
        "get_groups_filter(key,url)"
      ],
      "id": "efa2dcbd",
      "execution_count": null,
      "outputs": []
    },
    {
      "cell_type": "markdown",
      "metadata": {},
      "source": [
        "## EP = Estadísticas de Precios\n",
        "\n",
        "### IPC Índice de Precios al Consumidor\n"
      ],
      "id": "1816004b"
    },
    {
      "cell_type": "code",
      "metadata": {},
      "source": [
        "filtro = \"EP-IPC-01\"\n",
        "url = \"https://bchapi-am.azure-api.net/api/v1/indicadores/grupo/\" * filtro * \"?formato=Json\"\n",
        "get_groups_filter(key,url)"
      ],
      "id": "20ac96b5",
      "execution_count": null,
      "outputs": []
    },
    {
      "cell_type": "markdown",
      "metadata": {},
      "source": [
        "# Descargar Indicadores por Rangos\n"
      ],
      "id": "91dfe265"
    },
    {
      "cell_type": "code",
      "metadata": {},
      "source": [
        "ids = 1:7391 # Total de indicadores: 11519\n",
        "get_data_indicators(key,ids)"
      ],
      "id": "9805e96a",
      "execution_count": null,
      "outputs": []
    },
    {
      "cell_type": "markdown",
      "metadata": {},
      "source": [
        "**OJO: REVISAR LA CONSULTA A PARTIR DE 7392 HASTA 7446**\n"
      ],
      "id": "d0dfa9ac"
    },
    {
      "cell_type": "code",
      "metadata": {},
      "source": [
        "key = clave\n",
        "df = get_indicators(key)"
      ],
      "id": "6cd51a33",
      "execution_count": null,
      "outputs": []
    }
  ],
  "metadata": {
    "kernelspec": {
      "name": "julia-1.10",
      "language": "julia",
      "display_name": "Julia 1.10.3"
    }
  },
  "nbformat": 4,
  "nbformat_minor": 5
}