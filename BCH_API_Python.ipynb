{
 "cells": [
  {
   "cell_type": "raw",
   "id": "1ef14203",
   "metadata": {},
   "source": [
    "---\n",
    "title: Estadísticas del Banco Central de Honduras\n",
    "authors:\n",
    "  - Gabriela Margoth López Gutierrez\n",
    "  - Elvis Teodoro Casco Alfaro\n",
    "institute: Banco Central de Honduras\n",
    "execute:\n",
    "  echo: false\n",
    "crossref:\n",
    "  fig-title: Gráfico\n",
    "  tbl-title: Tabla\n",
    "  fig-prefix: Gráfico\n",
    "  tbl-prefix: Tabla\n",
    "format:\n",
    "  html:\n",
    "    echo: true\n",
    "    toc: true\n",
    "    toc-depth: 7\n",
    "    code-fold: true\n",
    "    warnings: false\n",
    "keep-ipynb: true\n",
    "---"
   ]
  },
  {
   "cell_type": "markdown",
   "id": "12fa68ed",
   "metadata": {},
   "source": [
    "En este proceso se explica la forma en que pueden descargarse los datos disponibles en la [API](https://bchapi-am.developer.azure-api.net/) del Banco Central de Honduras (BCH), utilizando Python.\n",
    "\n",
    "# Funciones\n"
   ]
  },
  {
   "cell_type": "code",
   "execution_count": 1,
   "id": "492ea454",
   "metadata": {},
   "outputs": [],
   "source": [
    "import urllib.request, json\n",
    "import pandas as pd\n",
    "import plotly.express as px\n",
    "import polars as pl\n",
    "import subprocess\n",
    "import os\n",
    "\n",
    "from IPython.display import Markdown\n",
    "from tabulate import tabulate\n",
    "\n",
    "clave_asignada = \"ff34cff7b0024ea39eb565fccb9f03b6\" #Favor ingresar la clave proporcionada.\n",
    "\n",
    "# Las funciones que ejecutan los procesos están guardadas\n",
    "# en el archivo \"/functions/bch_api.py\";\n",
    "# si se ejecuta este código en otra ruta, debe sustituirse el path:\n",
    "# file_path + \"/functions/bch_api.py\"\n",
    "# file_path = os.path.dirname(__file__)\n",
    "file_path = os.getcwd()\n",
    "exec(open(file_path + \"/functions/bch_api.py\").read())"
   ]
  },
  {
   "cell_type": "markdown",
   "id": "c7987aad",
   "metadata": {},
   "source": [
    "# Acceso a los Datos\n",
    "\n",
    "Una vez que se crea el registro de usuario (usar el botón \"Suscribirse\" en el [sitio web](https://bchapi-am.developer.azure-api.net/), puede verse el procedimiento de registro e inicio de sesión en [YouTube](https://www.youtube.com/watch?v=8ZBllMSsKw4)), se necesita obtener una clave (ver explicación en [YouTube](https://www.youtube.com/watch?v=mV90s74OCfc)), ejecutando una consulta al catálogo de indicadores. Favor sustituir en el código la clave actual por su clave asignada.\n",
    "\n",
    "Para conocer los datos disponibles, se debe ejecutar una consulta al catálogo de indicadores, que contiene información sobre las series disponibles:\n",
    "\n",
    "* Nombre (código)\n",
    "* Descripción\n",
    "* Periodicidad\n",
    "* Grupo\n",
    "* Correlativo del Grupo\n",
    "\n",
    "Como ejemplo de la consulta que contiene todas las variables, se muestran los primeros cinco elementos:\n"
   ]
  },
  {
   "cell_type": "code",
   "execution_count": 2,
   "id": "62b1221f",
   "metadata": {},
   "outputs": [
    {
     "name": "stderr",
     "output_type": "stream",
     "text": [
      "<string>:29: FutureWarning:\n",
      "\n",
      "Passing literal json to 'read_json' is deprecated and will be removed in a future version. To read from a literal string, wrap it in a 'StringIO' object.\n",
      "\n"
     ]
    },
    {
     "data": {
      "text/html": [
       "<div>\n",
       "<style scoped>\n",
       "    .dataframe tbody tr th:only-of-type {\n",
       "        vertical-align: middle;\n",
       "    }\n",
       "\n",
       "    .dataframe tbody tr th {\n",
       "        vertical-align: top;\n",
       "    }\n",
       "\n",
       "    .dataframe thead th {\n",
       "        text-align: right;\n",
       "    }\n",
       "</style>\n",
       "<table border=\"1\" class=\"dataframe\">\n",
       "  <thead>\n",
       "    <tr style=\"text-align: right;\">\n",
       "      <th></th>\n",
       "      <th>Id</th>\n",
       "      <th>Nombre</th>\n",
       "      <th>Descripcion</th>\n",
       "      <th>Periodicidad</th>\n",
       "      <th>Grupo</th>\n",
       "      <th>CorrelativoGrupo</th>\n",
       "    </tr>\n",
       "  </thead>\n",
       "  <tbody>\n",
       "    <tr>\n",
       "      <th>0</th>\n",
       "      <td>1</td>\n",
       "      <td>ESR-PIBT-PROD-DES-CONST-15</td>\n",
       "      <td>Serie Desestacionalizada-VALORES CONSTANTES-21...</td>\n",
       "      <td>Trimestral</td>\n",
       "      <td>ESR-PIBT-PROD-DES-CONST</td>\n",
       "      <td>15</td>\n",
       "    </tr>\n",
       "    <tr>\n",
       "      <th>1</th>\n",
       "      <td>2</td>\n",
       "      <td>ESR-PIBT-PROD-DES-CORR-12</td>\n",
       "      <td>Serie Desestacionalizada-VALORES CORRIENTES-14...</td>\n",
       "      <td>Trimestral</td>\n",
       "      <td>ESR-PIBT-PROD-DES-CORR</td>\n",
       "      <td>12</td>\n",
       "    </tr>\n",
       "    <tr>\n",
       "      <th>2</th>\n",
       "      <td>3</td>\n",
       "      <td>ESR-PIBT-PROD-DES-CORR-13</td>\n",
       "      <td>Serie Desestacionalizada-VALORES CORRIENTES-16...</td>\n",
       "      <td>Trimestral</td>\n",
       "      <td>ESR-PIBT-PROD-DES-CORR</td>\n",
       "      <td>13</td>\n",
       "    </tr>\n",
       "    <tr>\n",
       "      <th>3</th>\n",
       "      <td>4</td>\n",
       "      <td>ESR-PIBT-PROD-DES-CORR-14</td>\n",
       "      <td>Serie Desestacionalizada-VALORES CORRIENTES-20...</td>\n",
       "      <td>Trimestral</td>\n",
       "      <td>ESR-PIBT-PROD-DES-CORR</td>\n",
       "      <td>14</td>\n",
       "    </tr>\n",
       "    <tr>\n",
       "      <th>4</th>\n",
       "      <td>5</td>\n",
       "      <td>ESR-PIBT-PROD-DES-CORR-15</td>\n",
       "      <td>Serie Desestacionalizada-VALORES CORRIENTES-21...</td>\n",
       "      <td>Trimestral</td>\n",
       "      <td>ESR-PIBT-PROD-DES-CORR</td>\n",
       "      <td>15</td>\n",
       "    </tr>\n",
       "  </tbody>\n",
       "</table>\n",
       "</div>"
      ],
      "text/plain": [
       "   Id                      Nombre  \\\n",
       "0   1  ESR-PIBT-PROD-DES-CONST-15   \n",
       "1   2   ESR-PIBT-PROD-DES-CORR-12   \n",
       "2   3   ESR-PIBT-PROD-DES-CORR-13   \n",
       "3   4   ESR-PIBT-PROD-DES-CORR-14   \n",
       "4   5   ESR-PIBT-PROD-DES-CORR-15   \n",
       "\n",
       "                                         Descripcion Periodicidad  \\\n",
       "0  Serie Desestacionalizada-VALORES CONSTANTES-21...   Trimestral   \n",
       "1  Serie Desestacionalizada-VALORES CORRIENTES-14...   Trimestral   \n",
       "2  Serie Desestacionalizada-VALORES CORRIENTES-16...   Trimestral   \n",
       "3  Serie Desestacionalizada-VALORES CORRIENTES-20...   Trimestral   \n",
       "4  Serie Desestacionalizada-VALORES CORRIENTES-21...   Trimestral   \n",
       "\n",
       "                     Grupo CorrelativoGrupo  \n",
       "0  ESR-PIBT-PROD-DES-CONST               15  \n",
       "1   ESR-PIBT-PROD-DES-CORR               12  \n",
       "2   ESR-PIBT-PROD-DES-CORR               13  \n",
       "3   ESR-PIBT-PROD-DES-CORR               14  \n",
       "4   ESR-PIBT-PROD-DES-CORR               15  "
      ]
     },
     "execution_count": 2,
     "metadata": {},
     "output_type": "execute_result"
    }
   ],
   "source": [
    "dfmeta = get_groups_vscode()\n",
    "dfmeta.head()"
   ]
  },
  {
   "cell_type": "markdown",
   "id": "ebf6b373",
   "metadata": {},
   "source": [
    "# Grupos\n",
    "\n",
    "Las variables están categorizadas en 8 grupos principales y 54 subgrupos. La nomenclatura utilizada permite dividir estos en un máximo de cinco niveles, tomando en cuenta el separador (-). Se explicarán los mismos a continuacion, ordenando de acuerdo al número de niveles (número de subgrupos).\n"
   ]
  },
  {
   "cell_type": "code",
   "execution_count": 3,
   "id": "893467b2",
   "metadata": {},
   "outputs": [
    {
     "name": "stdout",
     "output_type": "stream",
     "text": [
      "11519 variables\n",
      "54 grupos\n",
      "shape: (54, 8)\n",
      "┌────────────────────┬─────────────┬──────────┬──────────┬──────────┬──────────┬──────────┬────────┐\n",
      "│ Grupo              ┆ N_Variables ┆ Niv_Gr_1 ┆ Niv_Gr_2 ┆ Niv_Gr_3 ┆ Niv_Gr_4 ┆ Niv_Gr_5 ┆ Niv_Gr │\n",
      "│ ---                ┆ ---         ┆ ---      ┆ ---      ┆ ---      ┆ ---      ┆ ---      ┆ ---    │\n",
      "│ str                ┆ i64         ┆ str      ┆ str      ┆ str      ┆ str      ┆ str      ┆ i64    │\n",
      "╞════════════════════╪═════════════╪══════════╪══════════╪══════════╪══════════╪══════════╪════════╡\n",
      "│ ESR-PIBT-PROD-DES- ┆ 17          ┆ ESR      ┆ PIBT     ┆ PROD     ┆ DES      ┆ CONST    ┆ 5      │\n",
      "│ CONST              ┆             ┆          ┆          ┆          ┆          ┆          ┆        │\n",
      "│ ESR-PIBT-PROD-OG-C ┆ 17          ┆ ESR      ┆ PIBT     ┆ PROD     ┆ OG       ┆ CONST    ┆ 5      │\n",
      "│ ONST               ┆             ┆          ┆          ┆          ┆          ┆          ┆        │\n",
      "│ ESR-PIBT-PROD-OG-C ┆ 17          ┆ ESR      ┆ PIBT     ┆ PROD     ┆ OG       ┆ CORR     ┆ 5      │\n",
      "│ ORR                ┆             ┆          ┆          ┆          ┆          ┆          ┆        │\n",
      "│ ESR-PIBT-PROD-DES- ┆ 17          ┆ ESR      ┆ PIBT     ┆ PROD     ┆ DES      ┆ CORR     ┆ 5      │\n",
      "│ CORR               ┆             ┆          ┆          ┆          ┆          ┆          ┆        │\n",
      "│ ESR-PIBT-GAST-DES- ┆ 7           ┆ ESR      ┆ PIBT     ┆ GAST     ┆ DES      ┆ CONST    ┆ 5      │\n",
      "│ CONST              ┆             ┆          ┆          ┆          ┆          ┆          ┆        │\n",
      "│ …                  ┆ …           ┆ …        ┆ …        ┆ …        ┆ …        ┆ …        ┆ …      │\n",
      "│ EP-IPC-01          ┆ 3           ┆ EP       ┆ IPC      ┆ 01       ┆ null     ┆ null     ┆ 3      │\n",
      "│ EOM-OMA-03         ┆ 3           ┆ EOM      ┆ OMA      ┆ 03       ┆ null     ┆ null     ┆ 3      │\n",
      "│ EM-TPM-01          ┆ 2           ┆ EM       ┆ TPM      ┆ 01       ┆ null     ┆ null     ┆ 3      │\n",
      "│ EC-TCN-01          ┆ 2           ┆ EC       ┆ TCN      ┆ 01       ┆ null     ┆ null     ┆ 3      │\n",
      "│ EC-TCR             ┆ 1           ┆ EC       ┆ TCR      ┆ null     ┆ null     ┆ null     ┆ 2      │\n",
      "└────────────────────┴─────────────┴──────────┴──────────┴──────────┴──────────┴──────────┴────────┘\n"
     ]
    },
    {
     "name": "stderr",
     "output_type": "stream",
     "text": [
      "<string>:29: FutureWarning:\n",
      "\n",
      "Passing literal json to 'read_json' is deprecated and will be removed in a future version. To read from a literal string, wrap it in a 'StringIO' object.\n",
      "\n"
     ]
    }
   ],
   "source": [
    "# Agregar niveles de Descripción y Grupo\n",
    "df_all = dfmeta\n",
    "df_all[['Niv_Descr_1','Niv_Descr_2','Niv_Descr_3','Niv_Descr_4','Niv_Descr_5','Niv_Descr_6','Niv_Descr_7','Niv_Descr_8']] = df_all['Descripcion'].str.split(\n",
    "    '-',expand=True)\n",
    "df_all[\"Niv_Descr\"] = df_all.notnull().sum(axis=1) - 6\n",
    "df_all[\n",
    "    ['Niv_Gr_1','Niv_Gr_2','Niv_Gr_3','Niv_Gr_4','Niv_Gr_5']]  = df_all['Grupo'].str.split('-',expand=True)\n",
    "df_all[\"Niv_Gr\"] = df_all.notnull().sum(axis=1) - 2\n",
    "df_all = pl.DataFrame(df_all)\n",
    "df_all.write_csv(\n",
    "        \"api/variables.csv\",\n",
    "        separator=\";\")\n",
    "\n",
    "res_grupo = save_groups_vscode()\n",
    "print(res_grupo)"
   ]
  },
  {
   "cell_type": "markdown",
   "id": "dffc38f8",
   "metadata": {},
   "source": [
    "Los 8 grupos mencionados permiten consolidar los archivos de acuerdo con el origen de los datos en la página web del BCH, que en su mayoría pueden consultarse en los [reportes dinámicos](https://www.bch.hn/estadisticas-y-publicaciones-economicas/reportes-dinamicos).\n",
    "\n",
    "1. EOM = [Estadísticas de Operaciones Monetarias](https://www.bch.hn/estadisticas-y-publicaciones-economicas/reportes-dinamicos/operaciones-de-mercado-abierto)\n",
    "2. ESR = [Estadísticas del Sector Real](https://www.bch.hn/estadisticas-y-publicaciones-economicas/reportes-dinamicos/sector-real)\n",
    "3. ESE = [Estadísticas del Sector Externo](https://www.bch.hn/estadisticas-y-publicaciones-economicas/reportes-dinamicos/sector-externo)\n",
    "4. EMF = [Estadísiticas Monetarias y Financieras (Sector Fiscal)](https://www.bch.hn/estadisticas-y-publicaciones-economicas/reportes-dinamicos/sector-fiscal)\n",
    "5. EM = [Estadísticas Monetarias (TPM y RIN)](https://www.bch.hn/estadisticas-y-publicaciones-economicas/reportes-dinamicos/sector-monetario)\n",
    "6. ESP = [Estadísticas de Sistema de Pagos](https://www.bch.hn/estadisticas-y-publicaciones-economicas/reportes-dinamicos/sistema-de-pagos)\n",
    "7. EC = [Estadísticas de Tipo de Cambio](https://www.bch.hn/estadisticas-y-publicaciones-economicas/reportes-dinamicos/tipo-de-cambio)\n",
    "8. EP = [Estadísticas de Precios](https://www.bch.hn/estadisticas-y-publicaciones-economicas/reportes-dinamicos/precios)\n",
    "\n",
    "Los grupos se subdividen en 25 subgrupos:\n"
   ]
  },
  {
   "cell_type": "code",
   "execution_count": 4,
   "id": "a5d86755",
   "metadata": {},
   "outputs": [
    {
     "name": "stderr",
     "output_type": "stream",
     "text": [
      "<string>:29: FutureWarning:\n",
      "\n",
      "Passing literal json to 'read_json' is deprecated and will be removed in a future version. To read from a literal string, wrap it in a 'StringIO' object.\n",
      "\n"
     ]
    },
    {
     "name": "stdout",
     "output_type": "stream",
     "text": [
      "11519 variables\n",
      "54 grupos\n"
     ]
    },
    {
     "name": "stdout",
     "output_type": "stream",
     "text": [
      "54 variables\n",
      "8 grupos\n",
      "25 subgrupos\n"
     ]
    },
    {
     "data": {
      "text/html": [
       "<div><style>\n",
       ".dataframe > thead > tr,\n",
       ".dataframe > tbody > tr {\n",
       "  text-align: right;\n",
       "  white-space: pre-wrap;\n",
       "}\n",
       "</style>\n",
       "<small>shape: (8, 3)</small><table border=\"1\" class=\"dataframe\"><thead><tr><th>Niv_Gr_1</th><th>N_Variables</th><th>N_Subgrupos</th></tr><tr><td>str</td><td>u32</td><td>u32</td></tr></thead><tbody><tr><td>&quot;ESR&quot;</td><td>19</td><td>7</td></tr><tr><td>&quot;ESE&quot;</td><td>12</td><td>6</td></tr><tr><td>&quot;EMF&quot;</td><td>12</td><td>4</td></tr><tr><td>&quot;EOM&quot;</td><td>4</td><td>1</td></tr><tr><td>&quot;EC&quot;</td><td>2</td><td>2</td></tr><tr><td>&quot;EM&quot;</td><td>2</td><td>2</td></tr><tr><td>&quot;ESP&quot;</td><td>2</td><td>2</td></tr><tr><td>&quot;EP&quot;</td><td>1</td><td>1</td></tr></tbody></table></div>"
      ],
      "text/plain": [
       "shape: (8, 3)\n",
       "┌──────────┬─────────────┬─────────────┐\n",
       "│ Niv_Gr_1 ┆ N_Variables ┆ N_Subgrupos │\n",
       "│ ---      ┆ ---         ┆ ---         │\n",
       "│ str      ┆ u32         ┆ u32         │\n",
       "╞══════════╪═════════════╪═════════════╡\n",
       "│ ESR      ┆ 19          ┆ 7           │\n",
       "│ ESE      ┆ 12          ┆ 6           │\n",
       "│ EMF      ┆ 12          ┆ 4           │\n",
       "│ EOM      ┆ 4           ┆ 1           │\n",
       "│ EC       ┆ 2           ┆ 2           │\n",
       "│ EM       ┆ 2           ┆ 2           │\n",
       "│ ESP      ┆ 2           ┆ 2           │\n",
       "│ EP       ┆ 1           ┆ 1           │\n",
       "└──────────┴─────────────┴─────────────┘"
      ]
     },
     "execution_count": 4,
     "metadata": {},
     "output_type": "execute_result"
    }
   ],
   "source": [
    "res = res_nivel_1()\n",
    "res"
   ]
  },
  {
   "cell_type": "markdown",
   "id": "1d40a46b",
   "metadata": {},
   "source": [
    "# Descripción de los Datos\n",
    "\n",
    "A continuación se presentan los detalles de los grupos por nivel de agregación, ordenados de acuerdo al número de variables que contienen.\n",
    "\n",
    "### EOM = Estadísticas de Operaciones Monetarias\n",
    "\n",
    "Los datos están disponibles en la [página web del BCH](https://www.bch.hn/estadisticas-y-publicaciones-economicas/reportes-dinamicos/operaciones-de-mercado-abierto).\n"
   ]
  },
  {
   "cell_type": "code",
   "execution_count": 5,
   "id": "7408b103",
   "metadata": {},
   "outputs": [
    {
     "name": "stderr",
     "output_type": "stream",
     "text": [
      "<string>:29: FutureWarning:\n",
      "\n",
      "Passing literal json to 'read_json' is deprecated and will be removed in a future version. To read from a literal string, wrap it in a 'StringIO' object.\n",
      "\n"
     ]
    },
    {
     "name": "stdout",
     "output_type": "stream",
     "text": [
      "11519 variables\n",
      "54 grupos\n"
     ]
    },
    {
     "name": "stdout",
     "output_type": "stream",
     "text": [
      "4 variables\n",
      "1 grupos\n",
      "4 subgrupos\n"
     ]
    },
    {
     "data": {
      "text/html": [
       "<div><style>\n",
       ".dataframe > thead > tr,\n",
       ".dataframe > tbody > tr {\n",
       "  text-align: right;\n",
       "  white-space: pre-wrap;\n",
       "}\n",
       "</style>\n",
       "<small>shape: (1, 4)</small><table border=\"1\" class=\"dataframe\"><thead><tr><th>Niv_Gr_1</th><th>Niv_Gr_2</th><th>N_Variables</th><th>N_Niv_Gr_2</th></tr><tr><td>str</td><td>str</td><td>u32</td><td>u32</td></tr></thead><tbody><tr><td>&quot;EOM&quot;</td><td>&quot;OMA&quot;</td><td>4</td><td>4</td></tr></tbody></table></div>"
      ],
      "text/plain": [
       "shape: (1, 4)\n",
       "┌──────────┬──────────┬─────────────┬────────────┐\n",
       "│ Niv_Gr_1 ┆ Niv_Gr_2 ┆ N_Variables ┆ N_Niv_Gr_2 │\n",
       "│ ---      ┆ ---      ┆ ---         ┆ ---        │\n",
       "│ str      ┆ str      ┆ u32         ┆ u32        │\n",
       "╞══════════╪══════════╪═════════════╪════════════╡\n",
       "│ EOM      ┆ OMA      ┆ 4           ┆ 4          │\n",
       "└──────────┴──────────┴─────────────┴────────────┘"
      ]
     },
     "execution_count": 5,
     "metadata": {},
     "output_type": "execute_result"
    }
   ],
   "source": [
    "res_nivel_2(\"EOM\")"
   ]
  },
  {
   "cell_type": "markdown",
   "id": "8f191480",
   "metadata": {},
   "source": [
    "Contiene solamente un subgrupo:\n",
    "\n",
    "- OMA = Operaciones de Mercado Abierto\n",
    "\n",
    "#### OMA = Operaciones de Mercado Abierto\n",
    "\n",
    "Cuatro niveles de agregación:\n",
    "\n",
    "* 01 = Tasas de Rendimiento Diario de Valores Gubernamentales\n",
    "* 02 = Créditos (Niv_Descr_4 = 1-3) e Inversiones (Niv_Descr_4 = 4-6): Monto, Número de Solicitudes y Tasa\n",
    "* 03 = Monto, Número de Operaciones y Tasa\n",
    "* 04 = Monto, Número de Operaciones y Tasa (Dólares - Lempiras)\n",
    "\n",
    "En cada una de las tablas subsiguientes, la columna N_Variables corresponde al número de variables que contiene cada nivel.\n"
   ]
  },
  {
   "cell_type": "code",
   "execution_count": 6,
   "id": "09a2ab89",
   "metadata": {},
   "outputs": [
    {
     "name": "stdout",
     "output_type": "stream",
     "text": [
      "4 subgrupos\n",
      "5575 variables\n"
     ]
    },
    {
     "name": "stderr",
     "output_type": "stream",
     "text": [
      "<string>:29: FutureWarning:\n",
      "\n",
      "Passing literal json to 'read_json' is deprecated and will be removed in a future version. To read from a literal string, wrap it in a 'StringIO' object.\n",
      "\n"
     ]
    },
    {
     "data": {
      "text/html": [
       "<div><style>\n",
       ".dataframe > thead > tr,\n",
       ".dataframe > tbody > tr {\n",
       "  text-align: right;\n",
       "  white-space: pre-wrap;\n",
       "}\n",
       "</style>\n",
       "<small>shape: (4, 4)</small><table border=\"1\" class=\"dataframe\"><thead><tr><th>Niv_Gr_1</th><th>Niv_Gr_2</th><th>Niv_Gr_3</th><th>N_Variables</th></tr><tr><td>str</td><td>str</td><td>str</td><td>u32</td></tr></thead><tbody><tr><td>&quot;EOM&quot;</td><td>&quot;OMA&quot;</td><td>&quot;01&quot;</td><td>5560</td></tr><tr><td>&quot;EOM&quot;</td><td>&quot;OMA&quot;</td><td>&quot;02&quot;</td><td>6</td></tr><tr><td>&quot;EOM&quot;</td><td>&quot;OMA&quot;</td><td>&quot;03&quot;</td><td>3</td></tr><tr><td>&quot;EOM&quot;</td><td>&quot;OMA&quot;</td><td>&quot;04&quot;</td><td>6</td></tr></tbody></table></div>"
      ],
      "text/plain": [
       "shape: (4, 4)\n",
       "┌──────────┬──────────┬──────────┬─────────────┐\n",
       "│ Niv_Gr_1 ┆ Niv_Gr_2 ┆ Niv_Gr_3 ┆ N_Variables │\n",
       "│ ---      ┆ ---      ┆ ---      ┆ ---         │\n",
       "│ str      ┆ str      ┆ str      ┆ u32         │\n",
       "╞══════════╪══════════╪══════════╪═════════════╡\n",
       "│ EOM      ┆ OMA      ┆ 01       ┆ 5560        │\n",
       "│ EOM      ┆ OMA      ┆ 02       ┆ 6           │\n",
       "│ EOM      ┆ OMA      ┆ 03       ┆ 3           │\n",
       "│ EOM      ┆ OMA      ┆ 04       ┆ 6           │\n",
       "└──────────┴──────────┴──────────┴─────────────┘"
      ]
     },
     "execution_count": 6,
     "metadata": {},
     "output_type": "execute_result"
    }
   ],
   "source": [
    "res_nivel_3(\"EOM\",\"OMA\",\"Niv_Gr_3\").sort(\"Niv_Gr_3\")"
   ]
  },
  {
   "cell_type": "markdown",
   "id": "2a5a03ae",
   "metadata": {},
   "source": [
    "###### 01 = Tasas de Rendimiento Diario de Valores Gubernamentales \n",
    "\n",
    "Este es el nivel que contiene más variables, todas corresponden a las \"Tasas de Rendimiento Diario de Valores Gubernamentales\":\n"
   ]
  },
  {
   "cell_type": "code",
   "execution_count": 7,
   "id": "fee50c26",
   "metadata": {},
   "outputs": [
    {
     "name": "stderr",
     "output_type": "stream",
     "text": [
      "<string>:29: FutureWarning:\n",
      "\n",
      "Passing literal json to 'read_json' is deprecated and will be removed in a future version. To read from a literal string, wrap it in a 'StringIO' object.\n",
      "\n"
     ]
    },
    {
     "data": {
      "text/html": [
       "<div><style>\n",
       ".dataframe > thead > tr,\n",
       ".dataframe > tbody > tr {\n",
       "  text-align: right;\n",
       "  white-space: pre-wrap;\n",
       "}\n",
       "</style>\n",
       "<small>shape: (1, 5)</small><table border=\"1\" class=\"dataframe\"><thead><tr><th>Niv_Gr_1</th><th>Niv_Gr_2</th><th>Niv_Gr_3</th><th>Niv_Descr_1</th><th>N_Variables</th></tr><tr><td>str</td><td>str</td><td>str</td><td>str</td><td>u32</td></tr></thead><tbody><tr><td>&quot;EOM&quot;</td><td>&quot;OMA&quot;</td><td>&quot;01&quot;</td><td>&quot;Tasas de Rendi…</td><td>5560</td></tr></tbody></table></div>"
      ],
      "text/plain": [
       "shape: (1, 5)\n",
       "┌──────────┬──────────┬──────────┬───────────────────────────────────┬─────────────┐\n",
       "│ Niv_Gr_1 ┆ Niv_Gr_2 ┆ Niv_Gr_3 ┆ Niv_Descr_1                       ┆ N_Variables │\n",
       "│ ---      ┆ ---      ┆ ---      ┆ ---                               ┆ ---         │\n",
       "│ str      ┆ str      ┆ str      ┆ str                               ┆ u32         │\n",
       "╞══════════╪══════════╪══════════╪═══════════════════════════════════╪═════════════╡\n",
       "│ EOM      ┆ OMA      ┆ 01       ┆ Tasas de Rendimiento Diario de V… ┆ 5560        │\n",
       "└──────────┴──────────┴──────────┴───────────────────────────────────┴─────────────┘"
      ]
     },
     "execution_count": 7,
     "metadata": {},
     "output_type": "execute_result"
    }
   ],
   "source": [
    "res_nivel_4(\n",
    "    \"EOM\",\"OMA\",\n",
    "    \"Niv_Gr_3\",\"01\",\n",
    "    \"Niv_Descr_1\")"
   ]
  },
  {
   "cell_type": "markdown",
   "id": "1a3948cd",
   "metadata": {},
   "source": [
    "Para listar todas las variables:\n"
   ]
  },
  {
   "cell_type": "code",
   "execution_count": 8,
   "id": "08f07cf6",
   "metadata": {},
   "outputs": [
    {
     "name": "stderr",
     "output_type": "stream",
     "text": [
      "<string>:29: FutureWarning:\n",
      "\n",
      "Passing literal json to 'read_json' is deprecated and will be removed in a future version. To read from a literal string, wrap it in a 'StringIO' object.\n",
      "\n"
     ]
    },
    {
     "data": {
      "text/html": [
       "<div><style>\n",
       ".dataframe > thead > tr,\n",
       ".dataframe > tbody > tr {\n",
       "  text-align: right;\n",
       "  white-space: pre-wrap;\n",
       "}\n",
       "</style>\n",
       "<small>shape: (5_560, 7)</small><table border=\"1\" class=\"dataframe\"><thead><tr><th>Niv_Gr_1</th><th>Niv_Gr_2</th><th>Niv_Gr_3</th><th>Id</th><th>Nombre</th><th>Niv_Descr_1</th><th>N_Variables</th></tr><tr><td>str</td><td>str</td><td>str</td><td>i64</td><td>str</td><td>str</td><td>u32</td></tr></thead><tbody><tr><td>&quot;EOM&quot;</td><td>&quot;OMA&quot;</td><td>&quot;01&quot;</td><td>701</td><td>&quot;EOM-OMA-01-1&quot;</td><td>&quot;Tasas de Rendi…</td><td>1</td></tr><tr><td>&quot;EOM&quot;</td><td>&quot;OMA&quot;</td><td>&quot;01&quot;</td><td>710</td><td>&quot;EOM-OMA-01-10&quot;</td><td>&quot;Tasas de Rendi…</td><td>1</td></tr><tr><td>&quot;EOM&quot;</td><td>&quot;OMA&quot;</td><td>&quot;01&quot;</td><td>800</td><td>&quot;EOM-OMA-01-100…</td><td>&quot;Tasas de Rendi…</td><td>1</td></tr><tr><td>&quot;EOM&quot;</td><td>&quot;OMA&quot;</td><td>&quot;01&quot;</td><td>1700</td><td>&quot;EOM-OMA-01-100…</td><td>&quot;Tasas de Rendi…</td><td>1</td></tr><tr><td>&quot;EOM&quot;</td><td>&quot;OMA&quot;</td><td>&quot;01&quot;</td><td>1701</td><td>&quot;EOM-OMA-01-100…</td><td>&quot;Tasas de Rendi…</td><td>1</td></tr><tr><td>&hellip;</td><td>&hellip;</td><td>&hellip;</td><td>&hellip;</td><td>&hellip;</td><td>&hellip;</td><td>&hellip;</td></tr><tr><td>&quot;EOM&quot;</td><td>&quot;OMA&quot;</td><td>&quot;01&quot;</td><td>1695</td><td>&quot;EOM-OMA-01-995…</td><td>&quot;Tasas de Rendi…</td><td>1</td></tr><tr><td>&quot;EOM&quot;</td><td>&quot;OMA&quot;</td><td>&quot;01&quot;</td><td>1696</td><td>&quot;EOM-OMA-01-996…</td><td>&quot;Tasas de Rendi…</td><td>1</td></tr><tr><td>&quot;EOM&quot;</td><td>&quot;OMA&quot;</td><td>&quot;01&quot;</td><td>1697</td><td>&quot;EOM-OMA-01-997…</td><td>&quot;Tasas de Rendi…</td><td>1</td></tr><tr><td>&quot;EOM&quot;</td><td>&quot;OMA&quot;</td><td>&quot;01&quot;</td><td>1698</td><td>&quot;EOM-OMA-01-998…</td><td>&quot;Tasas de Rendi…</td><td>1</td></tr><tr><td>&quot;EOM&quot;</td><td>&quot;OMA&quot;</td><td>&quot;01&quot;</td><td>1699</td><td>&quot;EOM-OMA-01-999…</td><td>&quot;Tasas de Rendi…</td><td>1</td></tr></tbody></table></div>"
      ],
      "text/plain": [
       "shape: (5_560, 7)\n",
       "┌──────────┬──────────┬──────────┬──────┬─────────────────┬──────────────────────┬─────────────┐\n",
       "│ Niv_Gr_1 ┆ Niv_Gr_2 ┆ Niv_Gr_3 ┆ Id   ┆ Nombre          ┆ Niv_Descr_1          ┆ N_Variables │\n",
       "│ ---      ┆ ---      ┆ ---      ┆ ---  ┆ ---             ┆ ---                  ┆ ---         │\n",
       "│ str      ┆ str      ┆ str      ┆ i64  ┆ str             ┆ str                  ┆ u32         │\n",
       "╞══════════╪══════════╪══════════╪══════╪═════════════════╪══════════════════════╪═════════════╡\n",
       "│ EOM      ┆ OMA      ┆ 01       ┆ 701  ┆ EOM-OMA-01-1    ┆ Tasas de Rendimiento ┆ 1           │\n",
       "│          ┆          ┆          ┆      ┆                 ┆ Diario de V…         ┆             │\n",
       "│ EOM      ┆ OMA      ┆ 01       ┆ 710  ┆ EOM-OMA-01-10   ┆ Tasas de Rendimiento ┆ 1           │\n",
       "│          ┆          ┆          ┆      ┆                 ┆ Diario de V…         ┆             │\n",
       "│ EOM      ┆ OMA      ┆ 01       ┆ 800  ┆ EOM-OMA-01-100  ┆ Tasas de Rendimiento ┆ 1           │\n",
       "│          ┆          ┆          ┆      ┆                 ┆ Diario de V…         ┆             │\n",
       "│ EOM      ┆ OMA      ┆ 01       ┆ 1700 ┆ EOM-OMA-01-1000 ┆ Tasas de Rendimiento ┆ 1           │\n",
       "│          ┆          ┆          ┆      ┆                 ┆ Diario de V…         ┆             │\n",
       "│ EOM      ┆ OMA      ┆ 01       ┆ 1701 ┆ EOM-OMA-01-1001 ┆ Tasas de Rendimiento ┆ 1           │\n",
       "│          ┆          ┆          ┆      ┆                 ┆ Diario de V…         ┆             │\n",
       "│ …        ┆ …        ┆ …        ┆ …    ┆ …               ┆ …                    ┆ …           │\n",
       "│ EOM      ┆ OMA      ┆ 01       ┆ 1695 ┆ EOM-OMA-01-995  ┆ Tasas de Rendimiento ┆ 1           │\n",
       "│          ┆          ┆          ┆      ┆                 ┆ Diario de V…         ┆             │\n",
       "│ EOM      ┆ OMA      ┆ 01       ┆ 1696 ┆ EOM-OMA-01-996  ┆ Tasas de Rendimiento ┆ 1           │\n",
       "│          ┆          ┆          ┆      ┆                 ┆ Diario de V…         ┆             │\n",
       "│ EOM      ┆ OMA      ┆ 01       ┆ 1697 ┆ EOM-OMA-01-997  ┆ Tasas de Rendimiento ┆ 1           │\n",
       "│          ┆          ┆          ┆      ┆                 ┆ Diario de V…         ┆             │\n",
       "│ EOM      ┆ OMA      ┆ 01       ┆ 1698 ┆ EOM-OMA-01-998  ┆ Tasas de Rendimiento ┆ 1           │\n",
       "│          ┆          ┆          ┆      ┆                 ┆ Diario de V…         ┆             │\n",
       "│ EOM      ┆ OMA      ┆ 01       ┆ 1699 ┆ EOM-OMA-01-999  ┆ Tasas de Rendimiento ┆ 1           │\n",
       "│          ┆          ┆          ┆      ┆                 ┆ Diario de V…         ┆             │\n",
       "└──────────┴──────────┴──────────┴──────┴─────────────────┴──────────────────────┴─────────────┘"
      ]
     },
     "execution_count": 8,
     "metadata": {},
     "output_type": "execute_result"
    }
   ],
   "source": [
    "res_nivel_6(\n",
    "    \"EOM\",\"OMA\",\n",
    "    \"Niv_Gr_3\",\"01\",\n",
    "    \"Id\",\"Nombre\",\"Niv_Descr_1\").sort(\"Nombre\")"
   ]
  },
  {
   "cell_type": "markdown",
   "id": "6beb6397",
   "metadata": {},
   "source": [
    "La consulta para una serie individual puede realizarse solamente mediante el uso de la \"Id\" correspondiente; por ejemplo, el Id 701 da como resultado:\n"
   ]
  },
  {
   "cell_type": "code",
   "execution_count": 9,
   "id": "2d95fd5e",
   "metadata": {},
   "outputs": [
    {
     "name": "stderr",
     "output_type": "stream",
     "text": [
      "<string>:29: FutureWarning:\n",
      "\n",
      "Passing literal json to 'read_json' is deprecated and will be removed in a future version. To read from a literal string, wrap it in a 'StringIO' object.\n",
      "\n"
     ]
    },
    {
     "name": "stderr",
     "output_type": "stream",
     "text": [
      "<string>:29: FutureWarning:\n",
      "\n",
      "Passing literal json to 'read_json' is deprecated and will be removed in a future version. To read from a literal string, wrap it in a 'StringIO' object.\n",
      "\n"
     ]
    },
    {
     "data": {
      "text/html": [
       "<div><style>\n",
       ".dataframe > thead > tr,\n",
       ".dataframe > tbody > tr {\n",
       "  text-align: right;\n",
       "  white-space: pre-wrap;\n",
       "}\n",
       "</style>\n",
       "<small>shape: (33, 2)</small><table border=\"1\" class=\"dataframe\"><thead><tr><th>Fecha</th><th>Tasas de Rendimiento Diario de Valores Gubernamentales - Dias Plazo - 1001</th></tr><tr><td>date</td><td>f64</td></tr></thead><tbody><tr><td>2024-05-21</td><td>5.8</td></tr><tr><td>2024-05-20</td><td>5.8</td></tr><tr><td>2024-05-19</td><td>5.8</td></tr><tr><td>2024-05-18</td><td>5.8</td></tr><tr><td>2024-05-17</td><td>5.8</td></tr><tr><td>&hellip;</td><td>&hellip;</td></tr><tr><td>2024-04-23</td><td>5.71</td></tr><tr><td>2024-04-22</td><td>5.71</td></tr><tr><td>2024-04-21</td><td>5.71</td></tr><tr><td>2024-04-20</td><td>5.71</td></tr><tr><td>2024-04-19</td><td>5.71</td></tr></tbody></table></div>"
      ],
      "text/plain": [
       "shape: (33, 2)\n",
       "┌────────────┬───────────────────────────────────┐\n",
       "│ Fecha      ┆ Tasas de Rendimiento Diario de V… │\n",
       "│ ---        ┆ ---                               │\n",
       "│ date       ┆ f64                               │\n",
       "╞════════════╪═══════════════════════════════════╡\n",
       "│ 2024-05-21 ┆ 5.8                               │\n",
       "│ 2024-05-20 ┆ 5.8                               │\n",
       "│ 2024-05-19 ┆ 5.8                               │\n",
       "│ 2024-05-18 ┆ 5.8                               │\n",
       "│ 2024-05-17 ┆ 5.8                               │\n",
       "│ …          ┆ …                                 │\n",
       "│ 2024-04-23 ┆ 5.71                              │\n",
       "│ 2024-04-22 ┆ 5.71                              │\n",
       "│ 2024-04-21 ┆ 5.71                              │\n",
       "│ 2024-04-20 ┆ 5.71                              │\n",
       "│ 2024-04-19 ┆ 5.71                              │\n",
       "└────────────┴───────────────────────────────────┘"
      ]
     },
     "execution_count": 9,
     "metadata": {},
     "output_type": "execute_result"
    }
   ],
   "source": [
    "Id = 1701\n",
    "df = get_df(Id)\n",
    "# get_plot(Id)\n",
    "df"
   ]
  },
  {
   "cell_type": "markdown",
   "id": "63c14c65",
   "metadata": {},
   "source": [
    "###### 02 = Créditos (Niv_Descr_4 = 1-3) e Inversiones (Niv_Descr_4 = 4-6): Monto, Número de Solicitudes y Tasa\n"
   ]
  },
  {
   "cell_type": "code",
   "execution_count": 10,
   "id": "28703b6e",
   "metadata": {},
   "outputs": [
    {
     "name": "stderr",
     "output_type": "stream",
     "text": [
      "<string>:29: FutureWarning:\n",
      "\n",
      "Passing literal json to 'read_json' is deprecated and will be removed in a future version. To read from a literal string, wrap it in a 'StringIO' object.\n",
      "\n"
     ]
    },
    {
     "data": {
      "text/html": [
       "<div><style>\n",
       ".dataframe > thead > tr,\n",
       ".dataframe > tbody > tr {\n",
       "  text-align: right;\n",
       "  white-space: pre-wrap;\n",
       "}\n",
       "</style>\n",
       "<small>shape: (2, 5)</small><table border=\"1\" class=\"dataframe\"><thead><tr><th>Niv_Gr_1</th><th>Niv_Gr_2</th><th>Niv_Gr_3</th><th>Niv_Descr_5</th><th>N_Variables</th></tr><tr><td>str</td><td>str</td><td>str</td><td>str</td><td>u32</td></tr></thead><tbody><tr><td>&quot;EOM&quot;</td><td>&quot;OMA&quot;</td><td>&quot;02&quot;</td><td>&quot;Créditos&quot;</td><td>3</td></tr><tr><td>&quot;EOM&quot;</td><td>&quot;OMA&quot;</td><td>&quot;02&quot;</td><td>&quot;Inversiones&quot;</td><td>3</td></tr></tbody></table></div>"
      ],
      "text/plain": [
       "shape: (2, 5)\n",
       "┌──────────┬──────────┬──────────┬─────────────┬─────────────┐\n",
       "│ Niv_Gr_1 ┆ Niv_Gr_2 ┆ Niv_Gr_3 ┆ Niv_Descr_5 ┆ N_Variables │\n",
       "│ ---      ┆ ---      ┆ ---      ┆ ---         ┆ ---         │\n",
       "│ str      ┆ str      ┆ str      ┆ str         ┆ u32         │\n",
       "╞══════════╪══════════╪══════════╪═════════════╪═════════════╡\n",
       "│ EOM      ┆ OMA      ┆ 02       ┆ Créditos    ┆ 3           │\n",
       "│ EOM      ┆ OMA      ┆ 02       ┆ Inversiones ┆ 3           │\n",
       "└──────────┴──────────┴──────────┴─────────────┴─────────────┘"
      ]
     },
     "execution_count": 10,
     "metadata": {},
     "output_type": "execute_result"
    }
   ],
   "source": [
    "res_nivel_4(\n",
    "    \"EOM\",\"OMA\",\n",
    "    \"Niv_Gr_3\",\"02\",\n",
    "    \"Niv_Descr_5\")"
   ]
  },
  {
   "cell_type": "markdown",
   "id": "8aa889e7",
   "metadata": {},
   "source": [
    "Todas las variables:\n"
   ]
  },
  {
   "cell_type": "code",
   "execution_count": 11,
   "id": "377fb89c",
   "metadata": {},
   "outputs": [
    {
     "name": "stderr",
     "output_type": "stream",
     "text": [
      "<string>:29: FutureWarning:\n",
      "\n",
      "Passing literal json to 'read_json' is deprecated and will be removed in a future version. To read from a literal string, wrap it in a 'StringIO' object.\n",
      "\n"
     ]
    },
    {
     "data": {
      "text/html": [
       "<div><style>\n",
       ".dataframe > thead > tr,\n",
       ".dataframe > tbody > tr {\n",
       "  text-align: right;\n",
       "  white-space: pre-wrap;\n",
       "}\n",
       "</style>\n",
       "<small>shape: (6, 8)</small><table border=\"1\" class=\"dataframe\"><thead><tr><th>Niv_Gr_1</th><th>Niv_Gr_2</th><th>Niv_Gr_3</th><th>Id</th><th>Nombre</th><th>Niv_Descr_5</th><th>Niv_Descr_6</th><th>N_Variables</th></tr><tr><td>str</td><td>str</td><td>str</td><td>i64</td><td>str</td><td>str</td><td>str</td><td>u32</td></tr></thead><tbody><tr><td>&quot;EOM&quot;</td><td>&quot;OMA&quot;</td><td>&quot;02&quot;</td><td>6261</td><td>&quot;EOM-OMA-02-1&quot;</td><td>&quot;Créditos&quot;</td><td>&quot;Monto&quot;</td><td>1</td></tr><tr><td>&quot;EOM&quot;</td><td>&quot;OMA&quot;</td><td>&quot;02&quot;</td><td>6262</td><td>&quot;EOM-OMA-02-2&quot;</td><td>&quot;Créditos&quot;</td><td>&quot;Número de Soli…</td><td>1</td></tr><tr><td>&quot;EOM&quot;</td><td>&quot;OMA&quot;</td><td>&quot;02&quot;</td><td>6263</td><td>&quot;EOM-OMA-02-3&quot;</td><td>&quot;Créditos&quot;</td><td>&quot;Tasa&quot;</td><td>1</td></tr><tr><td>&quot;EOM&quot;</td><td>&quot;OMA&quot;</td><td>&quot;02&quot;</td><td>6264</td><td>&quot;EOM-OMA-02-4&quot;</td><td>&quot;Inversiones&quot;</td><td>&quot;Monto&quot;</td><td>1</td></tr><tr><td>&quot;EOM&quot;</td><td>&quot;OMA&quot;</td><td>&quot;02&quot;</td><td>6265</td><td>&quot;EOM-OMA-02-5&quot;</td><td>&quot;Inversiones&quot;</td><td>&quot;Número de Soli…</td><td>1</td></tr><tr><td>&quot;EOM&quot;</td><td>&quot;OMA&quot;</td><td>&quot;02&quot;</td><td>6266</td><td>&quot;EOM-OMA-02-6&quot;</td><td>&quot;Inversiones&quot;</td><td>&quot;Tasa&quot;</td><td>1</td></tr></tbody></table></div>"
      ],
      "text/plain": [
       "shape: (6, 8)\n",
       "┌──────────┬──────────┬──────────┬──────┬──────────────┬─────────────┬───────────────┬─────────────┐\n",
       "│ Niv_Gr_1 ┆ Niv_Gr_2 ┆ Niv_Gr_3 ┆ Id   ┆ Nombre       ┆ Niv_Descr_5 ┆ Niv_Descr_6   ┆ N_Variables │\n",
       "│ ---      ┆ ---      ┆ ---      ┆ ---  ┆ ---          ┆ ---         ┆ ---           ┆ ---         │\n",
       "│ str      ┆ str      ┆ str      ┆ i64  ┆ str          ┆ str         ┆ str           ┆ u32         │\n",
       "╞══════════╪══════════╪══════════╪══════╪══════════════╪═════════════╪═══════════════╪═════════════╡\n",
       "│ EOM      ┆ OMA      ┆ 02       ┆ 6261 ┆ EOM-OMA-02-1 ┆ Créditos    ┆ Monto         ┆ 1           │\n",
       "│ EOM      ┆ OMA      ┆ 02       ┆ 6262 ┆ EOM-OMA-02-2 ┆ Créditos    ┆ Número de     ┆ 1           │\n",
       "│          ┆          ┆          ┆      ┆              ┆             ┆ Solicitudes   ┆             │\n",
       "│ EOM      ┆ OMA      ┆ 02       ┆ 6263 ┆ EOM-OMA-02-3 ┆ Créditos    ┆ Tasa          ┆ 1           │\n",
       "│ EOM      ┆ OMA      ┆ 02       ┆ 6264 ┆ EOM-OMA-02-4 ┆ Inversiones ┆ Monto         ┆ 1           │\n",
       "│ EOM      ┆ OMA      ┆ 02       ┆ 6265 ┆ EOM-OMA-02-5 ┆ Inversiones ┆ Número de     ┆ 1           │\n",
       "│          ┆          ┆          ┆      ┆              ┆             ┆ Solicitudes   ┆             │\n",
       "│ EOM      ┆ OMA      ┆ 02       ┆ 6266 ┆ EOM-OMA-02-6 ┆ Inversiones ┆ Tasa          ┆ 1           │\n",
       "└──────────┴──────────┴──────────┴──────┴──────────────┴─────────────┴───────────────┴─────────────┘"
      ]
     },
     "execution_count": 11,
     "metadata": {},
     "output_type": "execute_result"
    }
   ],
   "source": [
    "res_nivel_7(\n",
    "    \"EOM\",\"OMA\",\n",
    "    \"Niv_Gr_3\",\"02\",\n",
    "    \"Id\",\"Nombre\",\"Niv_Descr_5\",\"Niv_Descr_6\").sort(\"Nombre\")"
   ]
  },
  {
   "cell_type": "markdown",
   "id": "4a19f149",
   "metadata": {},
   "source": [
    "Resultados de una sola variable:\n"
   ]
  },
  {
   "cell_type": "code",
   "execution_count": 12,
   "id": "4a04ad4a",
   "metadata": {},
   "outputs": [
    {
     "name": "stderr",
     "output_type": "stream",
     "text": [
      "<string>:29: FutureWarning:\n",
      "\n",
      "Passing literal json to 'read_json' is deprecated and will be removed in a future version. To read from a literal string, wrap it in a 'StringIO' object.\n",
      "\n"
     ]
    },
    {
     "name": "stderr",
     "output_type": "stream",
     "text": [
      "<string>:29: FutureWarning:\n",
      "\n",
      "Passing literal json to 'read_json' is deprecated and will be removed in a future version. To read from a literal string, wrap it in a 'StringIO' object.\n",
      "\n"
     ]
    },
    {
     "data": {
      "text/html": [
       "<div><style>\n",
       ".dataframe > thead > tr,\n",
       ".dataframe > tbody > tr {\n",
       "  text-align: right;\n",
       "  white-space: pre-wrap;\n",
       "}\n",
       "</style>\n",
       "<small>shape: (1_059, 2)</small><table border=\"1\" class=\"dataframe\"><thead><tr><th>Fecha</th><th>EOM-OMA-02-1-Créditos-Monto</th></tr><tr><td>date</td><td>f64</td></tr></thead><tbody><tr><td>2024-03-22</td><td>2000.0</td></tr><tr><td>2024-03-21</td><td>0.0</td></tr><tr><td>2024-03-20</td><td>0.0</td></tr><tr><td>2024-03-19</td><td>0.0</td></tr><tr><td>2024-03-18</td><td>168.0</td></tr><tr><td>&hellip;</td><td>&hellip;</td></tr><tr><td>2020-01-08</td><td>0.0</td></tr><tr><td>2020-01-07</td><td>0.0</td></tr><tr><td>2020-01-06</td><td>400.0</td></tr><tr><td>2020-01-03</td><td>0.0</td></tr><tr><td>2020-01-02</td><td>0.0</td></tr></tbody></table></div>"
      ],
      "text/plain": [
       "shape: (1_059, 2)\n",
       "┌────────────┬─────────────────────────────┐\n",
       "│ Fecha      ┆ EOM-OMA-02-1-Créditos-Monto │\n",
       "│ ---        ┆ ---                         │\n",
       "│ date       ┆ f64                         │\n",
       "╞════════════╪═════════════════════════════╡\n",
       "│ 2024-03-22 ┆ 2000.0                      │\n",
       "│ 2024-03-21 ┆ 0.0                         │\n",
       "│ 2024-03-20 ┆ 0.0                         │\n",
       "│ 2024-03-19 ┆ 0.0                         │\n",
       "│ 2024-03-18 ┆ 168.0                       │\n",
       "│ …          ┆ …                           │\n",
       "│ 2020-01-08 ┆ 0.0                         │\n",
       "│ 2020-01-07 ┆ 0.0                         │\n",
       "│ 2020-01-06 ┆ 400.0                       │\n",
       "│ 2020-01-03 ┆ 0.0                         │\n",
       "│ 2020-01-02 ┆ 0.0                         │\n",
       "└────────────┴─────────────────────────────┘"
      ]
     },
     "execution_count": 12,
     "metadata": {},
     "output_type": "execute_result"
    }
   ],
   "source": [
    "Id = 6261\n",
    "df = get_df(Id)\n",
    "# get_plot(Id)\n",
    "df"
   ]
  },
  {
   "cell_type": "markdown",
   "id": "1986c5b8",
   "metadata": {},
   "source": [
    "###### 03 = Monto, Número de Operaciones y Tasa\n"
   ]
  },
  {
   "cell_type": "code",
   "execution_count": 13,
   "id": "f6f83d75",
   "metadata": {},
   "outputs": [
    {
     "name": "stderr",
     "output_type": "stream",
     "text": [
      "<string>:29: FutureWarning:\n",
      "\n",
      "Passing literal json to 'read_json' is deprecated and will be removed in a future version. To read from a literal string, wrap it in a 'StringIO' object.\n",
      "\n"
     ]
    },
    {
     "data": {
      "text/html": [
       "<div><style>\n",
       ".dataframe > thead > tr,\n",
       ".dataframe > tbody > tr {\n",
       "  text-align: right;\n",
       "  white-space: pre-wrap;\n",
       "}\n",
       "</style>\n",
       "<small>shape: (3, 5)</small><table border=\"1\" class=\"dataframe\"><thead><tr><th>Niv_Gr_1</th><th>Niv_Gr_2</th><th>Niv_Gr_3</th><th>Niv_Descr_5</th><th>N_Variables</th></tr><tr><td>str</td><td>str</td><td>str</td><td>str</td><td>u32</td></tr></thead><tbody><tr><td>&quot;EOM&quot;</td><td>&quot;OMA&quot;</td><td>&quot;03&quot;</td><td>&quot;Monto&quot;</td><td>1</td></tr><tr><td>&quot;EOM&quot;</td><td>&quot;OMA&quot;</td><td>&quot;03&quot;</td><td>&quot;Tasa&quot;</td><td>1</td></tr><tr><td>&quot;EOM&quot;</td><td>&quot;OMA&quot;</td><td>&quot;03&quot;</td><td>&quot;Número de Oper…</td><td>1</td></tr></tbody></table></div>"
      ],
      "text/plain": [
       "shape: (3, 5)\n",
       "┌──────────┬──────────┬──────────┬───────────────────────┬─────────────┐\n",
       "│ Niv_Gr_1 ┆ Niv_Gr_2 ┆ Niv_Gr_3 ┆ Niv_Descr_5           ┆ N_Variables │\n",
       "│ ---      ┆ ---      ┆ ---      ┆ ---                   ┆ ---         │\n",
       "│ str      ┆ str      ┆ str      ┆ str                   ┆ u32         │\n",
       "╞══════════╪══════════╪══════════╪═══════════════════════╪═════════════╡\n",
       "│ EOM      ┆ OMA      ┆ 03       ┆ Monto                 ┆ 1           │\n",
       "│ EOM      ┆ OMA      ┆ 03       ┆ Tasa                  ┆ 1           │\n",
       "│ EOM      ┆ OMA      ┆ 03       ┆ Número de Operaciones ┆ 1           │\n",
       "└──────────┴──────────┴──────────┴───────────────────────┴─────────────┘"
      ]
     },
     "execution_count": 13,
     "metadata": {},
     "output_type": "execute_result"
    }
   ],
   "source": [
    "res_nivel_4(\n",
    "    \"EOM\",\"OMA\",\n",
    "    \"Niv_Gr_3\",\"03\",\n",
    "    \"Niv_Descr_5\")"
   ]
  },
  {
   "cell_type": "markdown",
   "id": "416f49cd",
   "metadata": {},
   "source": [
    "Todas las variables:\n"
   ]
  },
  {
   "cell_type": "code",
   "execution_count": 14,
   "id": "b50bbc22",
   "metadata": {},
   "outputs": [
    {
     "name": "stderr",
     "output_type": "stream",
     "text": [
      "<string>:29: FutureWarning:\n",
      "\n",
      "Passing literal json to 'read_json' is deprecated and will be removed in a future version. To read from a literal string, wrap it in a 'StringIO' object.\n",
      "\n"
     ]
    },
    {
     "data": {
      "text/html": [
       "<div><style>\n",
       ".dataframe > thead > tr,\n",
       ".dataframe > tbody > tr {\n",
       "  text-align: right;\n",
       "  white-space: pre-wrap;\n",
       "}\n",
       "</style>\n",
       "<small>shape: (3, 7)</small><table border=\"1\" class=\"dataframe\"><thead><tr><th>Niv_Gr_1</th><th>Niv_Gr_2</th><th>Niv_Gr_3</th><th>Id</th><th>Nombre</th><th>Niv_Descr_5</th><th>N_Variables</th></tr><tr><td>str</td><td>str</td><td>str</td><td>i64</td><td>str</td><td>str</td><td>u32</td></tr></thead><tbody><tr><td>&quot;EOM&quot;</td><td>&quot;OMA&quot;</td><td>&quot;03&quot;</td><td>6267</td><td>&quot;EOM-OMA-03-1&quot;</td><td>&quot;Monto&quot;</td><td>1</td></tr><tr><td>&quot;EOM&quot;</td><td>&quot;OMA&quot;</td><td>&quot;03&quot;</td><td>6268</td><td>&quot;EOM-OMA-03-2&quot;</td><td>&quot;Número de Oper…</td><td>1</td></tr><tr><td>&quot;EOM&quot;</td><td>&quot;OMA&quot;</td><td>&quot;03&quot;</td><td>6269</td><td>&quot;EOM-OMA-03-3&quot;</td><td>&quot;Tasa&quot;</td><td>1</td></tr></tbody></table></div>"
      ],
      "text/plain": [
       "shape: (3, 7)\n",
       "┌──────────┬──────────┬──────────┬──────┬──────────────┬───────────────────────┬─────────────┐\n",
       "│ Niv_Gr_1 ┆ Niv_Gr_2 ┆ Niv_Gr_3 ┆ Id   ┆ Nombre       ┆ Niv_Descr_5           ┆ N_Variables │\n",
       "│ ---      ┆ ---      ┆ ---      ┆ ---  ┆ ---          ┆ ---                   ┆ ---         │\n",
       "│ str      ┆ str      ┆ str      ┆ i64  ┆ str          ┆ str                   ┆ u32         │\n",
       "╞══════════╪══════════╪══════════╪══════╪══════════════╪═══════════════════════╪═════════════╡\n",
       "│ EOM      ┆ OMA      ┆ 03       ┆ 6267 ┆ EOM-OMA-03-1 ┆ Monto                 ┆ 1           │\n",
       "│ EOM      ┆ OMA      ┆ 03       ┆ 6268 ┆ EOM-OMA-03-2 ┆ Número de Operaciones ┆ 1           │\n",
       "│ EOM      ┆ OMA      ┆ 03       ┆ 6269 ┆ EOM-OMA-03-3 ┆ Tasa                  ┆ 1           │\n",
       "└──────────┴──────────┴──────────┴──────┴──────────────┴───────────────────────┴─────────────┘"
      ]
     },
     "execution_count": 14,
     "metadata": {},
     "output_type": "execute_result"
    }
   ],
   "source": [
    "res_nivel_6(\n",
    "    \"EOM\",\"OMA\",\n",
    "    \"Niv_Gr_3\",\"03\",\n",
    "    \"Id\",\"Nombre\",\"Niv_Descr_5\").sort(\"Nombre\")"
   ]
  },
  {
   "cell_type": "markdown",
   "id": "8e854928",
   "metadata": {},
   "source": [
    "Resultados de una sola variable:\n"
   ]
  },
  {
   "cell_type": "code",
   "execution_count": 15,
   "id": "643c158a",
   "metadata": {},
   "outputs": [
    {
     "name": "stderr",
     "output_type": "stream",
     "text": [
      "<string>:29: FutureWarning:\n",
      "\n",
      "Passing literal json to 'read_json' is deprecated and will be removed in a future version. To read from a literal string, wrap it in a 'StringIO' object.\n",
      "\n"
     ]
    },
    {
     "name": "stderr",
     "output_type": "stream",
     "text": [
      "<string>:29: FutureWarning:\n",
      "\n",
      "Passing literal json to 'read_json' is deprecated and will be removed in a future version. To read from a literal string, wrap it in a 'StringIO' object.\n",
      "\n"
     ]
    },
    {
     "data": {
      "text/html": [
       "<div><style>\n",
       ".dataframe > thead > tr,\n",
       ".dataframe > tbody > tr {\n",
       "  text-align: right;\n",
       "  white-space: pre-wrap;\n",
       "}\n",
       "</style>\n",
       "<small>shape: (1_308, 2)</small><table border=\"1\" class=\"dataframe\"><thead><tr><th>Fecha</th><th>EOM-OMA-03-1-Monto</th></tr><tr><td>date</td><td>f64</td></tr></thead><tbody><tr><td>2024-03-22</td><td>3500.0</td></tr><tr><td>2024-03-21</td><td>4298.5</td></tr><tr><td>2024-03-20</td><td>297.5</td></tr><tr><td>2024-03-19</td><td>1044.0</td></tr><tr><td>2024-03-18</td><td>1500.0</td></tr><tr><td>&hellip;</td><td>&hellip;</td></tr><tr><td>2019-01-08</td><td>0.0</td></tr><tr><td>2019-01-07</td><td>3857.1</td></tr><tr><td>2019-01-04</td><td>400.0</td></tr><tr><td>2019-01-03</td><td>0.0</td></tr><tr><td>2019-01-02</td><td>1347.0</td></tr></tbody></table></div>"
      ],
      "text/plain": [
       "shape: (1_308, 2)\n",
       "┌────────────┬────────────────────┐\n",
       "│ Fecha      ┆ EOM-OMA-03-1-Monto │\n",
       "│ ---        ┆ ---                │\n",
       "│ date       ┆ f64                │\n",
       "╞════════════╪════════════════════╡\n",
       "│ 2024-03-22 ┆ 3500.0             │\n",
       "│ 2024-03-21 ┆ 4298.5             │\n",
       "│ 2024-03-20 ┆ 297.5              │\n",
       "│ 2024-03-19 ┆ 1044.0             │\n",
       "│ 2024-03-18 ┆ 1500.0             │\n",
       "│ …          ┆ …                  │\n",
       "│ 2019-01-08 ┆ 0.0                │\n",
       "│ 2019-01-07 ┆ 3857.1             │\n",
       "│ 2019-01-04 ┆ 400.0              │\n",
       "│ 2019-01-03 ┆ 0.0                │\n",
       "│ 2019-01-02 ┆ 1347.0             │\n",
       "└────────────┴────────────────────┘"
      ]
     },
     "execution_count": 15,
     "metadata": {},
     "output_type": "execute_result"
    }
   ],
   "source": [
    "Id = 6267\n",
    "df = get_df(Id)\n",
    "# get_plot(Id)\n",
    "df"
   ]
  },
  {
   "cell_type": "markdown",
   "id": "b64e7a84",
   "metadata": {},
   "source": [
    "###### 04 = Monto, Número de Operaciones y Tasa (Dólares - Lempiras)\n"
   ]
  },
  {
   "cell_type": "code",
   "execution_count": 16,
   "id": "df816839",
   "metadata": {},
   "outputs": [
    {
     "name": "stderr",
     "output_type": "stream",
     "text": [
      "<string>:29: FutureWarning:\n",
      "\n",
      "Passing literal json to 'read_json' is deprecated and will be removed in a future version. To read from a literal string, wrap it in a 'StringIO' object.\n",
      "\n"
     ]
    },
    {
     "data": {
      "text/html": [
       "<div><style>\n",
       ".dataframe > thead > tr,\n",
       ".dataframe > tbody > tr {\n",
       "  text-align: right;\n",
       "  white-space: pre-wrap;\n",
       "}\n",
       "</style>\n",
       "<small>shape: (3, 5)</small><table border=\"1\" class=\"dataframe\"><thead><tr><th>Niv_Gr_1</th><th>Niv_Gr_2</th><th>Niv_Gr_3</th><th>Niv_Descr_5</th><th>N_Variables</th></tr><tr><td>str</td><td>str</td><td>str</td><td>str</td><td>u32</td></tr></thead><tbody><tr><td>&quot;EOM&quot;</td><td>&quot;OMA&quot;</td><td>&quot;04&quot;</td><td>&quot;Monto&quot;</td><td>2</td></tr><tr><td>&quot;EOM&quot;</td><td>&quot;OMA&quot;</td><td>&quot;04&quot;</td><td>&quot;Tasa&quot;</td><td>2</td></tr><tr><td>&quot;EOM&quot;</td><td>&quot;OMA&quot;</td><td>&quot;04&quot;</td><td>&quot;Número de Oper…</td><td>2</td></tr></tbody></table></div>"
      ],
      "text/plain": [
       "shape: (3, 5)\n",
       "┌──────────┬──────────┬──────────┬───────────────────────┬─────────────┐\n",
       "│ Niv_Gr_1 ┆ Niv_Gr_2 ┆ Niv_Gr_3 ┆ Niv_Descr_5           ┆ N_Variables │\n",
       "│ ---      ┆ ---      ┆ ---      ┆ ---                   ┆ ---         │\n",
       "│ str      ┆ str      ┆ str      ┆ str                   ┆ u32         │\n",
       "╞══════════╪══════════╪══════════╪═══════════════════════╪═════════════╡\n",
       "│ EOM      ┆ OMA      ┆ 04       ┆ Monto                 ┆ 2           │\n",
       "│ EOM      ┆ OMA      ┆ 04       ┆ Tasa                  ┆ 2           │\n",
       "│ EOM      ┆ OMA      ┆ 04       ┆ Número de Operaciones ┆ 2           │\n",
       "└──────────┴──────────┴──────────┴───────────────────────┴─────────────┘"
      ]
     },
     "execution_count": 16,
     "metadata": {},
     "output_type": "execute_result"
    }
   ],
   "source": [
    "res_nivel_4(\n",
    "    \"EOM\",\"OMA\",\n",
    "    \"Niv_Gr_3\",\n",
    "    \"04\",\n",
    "    \"Niv_Descr_5\")"
   ]
  },
  {
   "cell_type": "code",
   "execution_count": 17,
   "id": "d23ad200",
   "metadata": {},
   "outputs": [
    {
     "name": "stderr",
     "output_type": "stream",
     "text": [
      "<string>:29: FutureWarning:\n",
      "\n",
      "Passing literal json to 'read_json' is deprecated and will be removed in a future version. To read from a literal string, wrap it in a 'StringIO' object.\n",
      "\n"
     ]
    },
    {
     "data": {
      "text/html": [
       "<div><style>\n",
       ".dataframe > thead > tr,\n",
       ".dataframe > tbody > tr {\n",
       "  text-align: right;\n",
       "  white-space: pre-wrap;\n",
       "}\n",
       "</style>\n",
       "<small>shape: (6, 6)</small><table border=\"1\" class=\"dataframe\"><thead><tr><th>Niv_Gr_1</th><th>Niv_Gr_2</th><th>Niv_Gr_3</th><th>Niv_Descr_5</th><th>Niv_Descr_6</th><th>N_Variables</th></tr><tr><td>str</td><td>str</td><td>str</td><td>str</td><td>str</td><td>u32</td></tr></thead><tbody><tr><td>&quot;EOM&quot;</td><td>&quot;OMA&quot;</td><td>&quot;04&quot;</td><td>&quot;Monto&quot;</td><td>&quot;Lempiras&quot;</td><td>1</td></tr><tr><td>&quot;EOM&quot;</td><td>&quot;OMA&quot;</td><td>&quot;04&quot;</td><td>&quot;Monto&quot;</td><td>&quot;Dólares&quot;</td><td>1</td></tr><tr><td>&quot;EOM&quot;</td><td>&quot;OMA&quot;</td><td>&quot;04&quot;</td><td>&quot;Número de Oper…</td><td>&quot;Lempiras&quot;</td><td>1</td></tr><tr><td>&quot;EOM&quot;</td><td>&quot;OMA&quot;</td><td>&quot;04&quot;</td><td>&quot;Tasa&quot;</td><td>&quot;Lempiras&quot;</td><td>1</td></tr><tr><td>&quot;EOM&quot;</td><td>&quot;OMA&quot;</td><td>&quot;04&quot;</td><td>&quot;Número de Oper…</td><td>&quot;Dólares&quot;</td><td>1</td></tr><tr><td>&quot;EOM&quot;</td><td>&quot;OMA&quot;</td><td>&quot;04&quot;</td><td>&quot;Tasa&quot;</td><td>&quot;Dólares&quot;</td><td>1</td></tr></tbody></table></div>"
      ],
      "text/plain": [
       "shape: (6, 6)\n",
       "┌──────────┬──────────┬──────────┬───────────────────────┬─────────────┬─────────────┐\n",
       "│ Niv_Gr_1 ┆ Niv_Gr_2 ┆ Niv_Gr_3 ┆ Niv_Descr_5           ┆ Niv_Descr_6 ┆ N_Variables │\n",
       "│ ---      ┆ ---      ┆ ---      ┆ ---                   ┆ ---         ┆ ---         │\n",
       "│ str      ┆ str      ┆ str      ┆ str                   ┆ str         ┆ u32         │\n",
       "╞══════════╪══════════╪══════════╪═══════════════════════╪═════════════╪═════════════╡\n",
       "│ EOM      ┆ OMA      ┆ 04       ┆ Monto                 ┆ Lempiras    ┆ 1           │\n",
       "│ EOM      ┆ OMA      ┆ 04       ┆ Monto                 ┆ Dólares     ┆ 1           │\n",
       "│ EOM      ┆ OMA      ┆ 04       ┆ Número de Operaciones ┆ Lempiras    ┆ 1           │\n",
       "│ EOM      ┆ OMA      ┆ 04       ┆ Tasa                  ┆ Lempiras    ┆ 1           │\n",
       "│ EOM      ┆ OMA      ┆ 04       ┆ Número de Operaciones ┆ Dólares     ┆ 1           │\n",
       "│ EOM      ┆ OMA      ┆ 04       ┆ Tasa                  ┆ Dólares     ┆ 1           │\n",
       "└──────────┴──────────┴──────────┴───────────────────────┴─────────────┴─────────────┘"
      ]
     },
     "execution_count": 17,
     "metadata": {},
     "output_type": "execute_result"
    }
   ],
   "source": [
    "res_nivel_5(\n",
    "    \"EOM\",\"OMA\",\n",
    "    \"Niv_Gr_3\",\"04\",\n",
    "    \"Niv_Descr_5\",\"Niv_Descr_6\")"
   ]
  },
  {
   "cell_type": "markdown",
   "id": "a5f68045",
   "metadata": {},
   "source": [
    "Todas las variables:\n"
   ]
  },
  {
   "cell_type": "code",
   "execution_count": 18,
   "id": "6c9febf8",
   "metadata": {},
   "outputs": [
    {
     "name": "stderr",
     "output_type": "stream",
     "text": [
      "<string>:29: FutureWarning:\n",
      "\n",
      "Passing literal json to 'read_json' is deprecated and will be removed in a future version. To read from a literal string, wrap it in a 'StringIO' object.\n",
      "\n"
     ]
    },
    {
     "data": {
      "text/html": [
       "<div><style>\n",
       ".dataframe > thead > tr,\n",
       ".dataframe > tbody > tr {\n",
       "  text-align: right;\n",
       "  white-space: pre-wrap;\n",
       "}\n",
       "</style>\n",
       "<small>shape: (6, 8)</small><table border=\"1\" class=\"dataframe\"><thead><tr><th>Niv_Gr_1</th><th>Niv_Gr_2</th><th>Niv_Gr_3</th><th>Id</th><th>Nombre</th><th>Niv_Descr_5</th><th>Niv_Descr_6</th><th>N_Variables</th></tr><tr><td>str</td><td>str</td><td>str</td><td>i64</td><td>str</td><td>str</td><td>str</td><td>u32</td></tr></thead><tbody><tr><td>&quot;EOM&quot;</td><td>&quot;OMA&quot;</td><td>&quot;04&quot;</td><td>6270</td><td>&quot;EOM-OMA-04-1&quot;</td><td>&quot;Monto&quot;</td><td>&quot;Dólares&quot;</td><td>1</td></tr><tr><td>&quot;EOM&quot;</td><td>&quot;OMA&quot;</td><td>&quot;04&quot;</td><td>6271</td><td>&quot;EOM-OMA-04-2&quot;</td><td>&quot;Monto&quot;</td><td>&quot;Lempiras&quot;</td><td>1</td></tr><tr><td>&quot;EOM&quot;</td><td>&quot;OMA&quot;</td><td>&quot;04&quot;</td><td>6272</td><td>&quot;EOM-OMA-04-3&quot;</td><td>&quot;Número de Oper…</td><td>&quot;Dólares&quot;</td><td>1</td></tr><tr><td>&quot;EOM&quot;</td><td>&quot;OMA&quot;</td><td>&quot;04&quot;</td><td>6273</td><td>&quot;EOM-OMA-04-4&quot;</td><td>&quot;Número de Oper…</td><td>&quot;Lempiras&quot;</td><td>1</td></tr><tr><td>&quot;EOM&quot;</td><td>&quot;OMA&quot;</td><td>&quot;04&quot;</td><td>6274</td><td>&quot;EOM-OMA-04-5&quot;</td><td>&quot;Tasa&quot;</td><td>&quot;Dólares&quot;</td><td>1</td></tr><tr><td>&quot;EOM&quot;</td><td>&quot;OMA&quot;</td><td>&quot;04&quot;</td><td>6275</td><td>&quot;EOM-OMA-04-6&quot;</td><td>&quot;Tasa&quot;</td><td>&quot;Lempiras&quot;</td><td>1</td></tr></tbody></table></div>"
      ],
      "text/plain": [
       "shape: (6, 8)\n",
       "┌──────────┬──────────┬──────────┬──────┬──────────────┬───────────────┬─────────────┬─────────────┐\n",
       "│ Niv_Gr_1 ┆ Niv_Gr_2 ┆ Niv_Gr_3 ┆ Id   ┆ Nombre       ┆ Niv_Descr_5   ┆ Niv_Descr_6 ┆ N_Variables │\n",
       "│ ---      ┆ ---      ┆ ---      ┆ ---  ┆ ---          ┆ ---           ┆ ---         ┆ ---         │\n",
       "│ str      ┆ str      ┆ str      ┆ i64  ┆ str          ┆ str           ┆ str         ┆ u32         │\n",
       "╞══════════╪══════════╪══════════╪══════╪══════════════╪═══════════════╪═════════════╪═════════════╡\n",
       "│ EOM      ┆ OMA      ┆ 04       ┆ 6270 ┆ EOM-OMA-04-1 ┆ Monto         ┆ Dólares     ┆ 1           │\n",
       "│ EOM      ┆ OMA      ┆ 04       ┆ 6271 ┆ EOM-OMA-04-2 ┆ Monto         ┆ Lempiras    ┆ 1           │\n",
       "│ EOM      ┆ OMA      ┆ 04       ┆ 6272 ┆ EOM-OMA-04-3 ┆ Número de     ┆ Dólares     ┆ 1           │\n",
       "│          ┆          ┆          ┆      ┆              ┆ Operaciones   ┆             ┆             │\n",
       "│ EOM      ┆ OMA      ┆ 04       ┆ 6273 ┆ EOM-OMA-04-4 ┆ Número de     ┆ Lempiras    ┆ 1           │\n",
       "│          ┆          ┆          ┆      ┆              ┆ Operaciones   ┆             ┆             │\n",
       "│ EOM      ┆ OMA      ┆ 04       ┆ 6274 ┆ EOM-OMA-04-5 ┆ Tasa          ┆ Dólares     ┆ 1           │\n",
       "│ EOM      ┆ OMA      ┆ 04       ┆ 6275 ┆ EOM-OMA-04-6 ┆ Tasa          ┆ Lempiras    ┆ 1           │\n",
       "└──────────┴──────────┴──────────┴──────┴──────────────┴───────────────┴─────────────┴─────────────┘"
      ]
     },
     "execution_count": 18,
     "metadata": {},
     "output_type": "execute_result"
    }
   ],
   "source": [
    "res_nivel_7(\n",
    "    \"EOM\",\"OMA\",\n",
    "    \"Niv_Gr_3\",\"04\",\n",
    "    \"Id\",\"Nombre\",\"Niv_Descr_5\",\"Niv_Descr_6\").sort(\"Nombre\")"
   ]
  },
  {
   "cell_type": "markdown",
   "id": "3613812c",
   "metadata": {},
   "source": [
    "Resultados de una sola variable:\n"
   ]
  },
  {
   "cell_type": "code",
   "execution_count": 19,
   "id": "a32bcc01",
   "metadata": {},
   "outputs": [
    {
     "name": "stderr",
     "output_type": "stream",
     "text": [
      "<string>:29: FutureWarning:\n",
      "\n",
      "Passing literal json to 'read_json' is deprecated and will be removed in a future version. To read from a literal string, wrap it in a 'StringIO' object.\n",
      "\n"
     ]
    },
    {
     "name": "stderr",
     "output_type": "stream",
     "text": [
      "<string>:29: FutureWarning:\n",
      "\n",
      "Passing literal json to 'read_json' is deprecated and will be removed in a future version. To read from a literal string, wrap it in a 'StringIO' object.\n",
      "\n"
     ]
    },
    {
     "data": {
      "text/html": [
       "<div><style>\n",
       ".dataframe > thead > tr,\n",
       ".dataframe > tbody > tr {\n",
       "  text-align: right;\n",
       "  white-space: pre-wrap;\n",
       "}\n",
       "</style>\n",
       "<small>shape: (1_308, 2)</small><table border=\"1\" class=\"dataframe\"><thead><tr><th>Fecha</th><th>EOM-OMA-04-1-Monto-Dólares</th></tr><tr><td>date</td><td>f64</td></tr></thead><tbody><tr><td>2024-03-22</td><td>0.0</td></tr><tr><td>2024-03-21</td><td>0.0</td></tr><tr><td>2024-03-20</td><td>0.0</td></tr><tr><td>2024-03-19</td><td>0.0</td></tr><tr><td>2024-03-18</td><td>0.0</td></tr><tr><td>&hellip;</td><td>&hellip;</td></tr><tr><td>2019-01-08</td><td>0.0</td></tr><tr><td>2019-01-07</td><td>0.0</td></tr><tr><td>2019-01-04</td><td>0.0</td></tr><tr><td>2019-01-03</td><td>0.0</td></tr><tr><td>2019-01-02</td><td>0.0</td></tr></tbody></table></div>"
      ],
      "text/plain": [
       "shape: (1_308, 2)\n",
       "┌────────────┬────────────────────────────┐\n",
       "│ Fecha      ┆ EOM-OMA-04-1-Monto-Dólares │\n",
       "│ ---        ┆ ---                        │\n",
       "│ date       ┆ f64                        │\n",
       "╞════════════╪════════════════════════════╡\n",
       "│ 2024-03-22 ┆ 0.0                        │\n",
       "│ 2024-03-21 ┆ 0.0                        │\n",
       "│ 2024-03-20 ┆ 0.0                        │\n",
       "│ 2024-03-19 ┆ 0.0                        │\n",
       "│ 2024-03-18 ┆ 0.0                        │\n",
       "│ …          ┆ …                          │\n",
       "│ 2019-01-08 ┆ 0.0                        │\n",
       "│ 2019-01-07 ┆ 0.0                        │\n",
       "│ 2019-01-04 ┆ 0.0                        │\n",
       "│ 2019-01-03 ┆ 0.0                        │\n",
       "│ 2019-01-02 ┆ 0.0                        │\n",
       "└────────────┴────────────────────────────┘"
      ]
     },
     "execution_count": 19,
     "metadata": {},
     "output_type": "execute_result"
    }
   ],
   "source": [
    "Id = 6270\n",
    "df = get_df(Id)\n",
    "# get_plot(Id)\n",
    "df"
   ]
  },
  {
   "cell_type": "markdown",
   "id": "e4f9ecf8",
   "metadata": {},
   "source": [
    "### ESR = Estadísticas del Sector Real\n"
   ]
  },
  {
   "cell_type": "code",
   "execution_count": 20,
   "id": "36a63dbb",
   "metadata": {},
   "outputs": [
    {
     "name": "stdout",
     "output_type": "stream",
     "text": [
      "11519 variables\n",
      "54 grupos\n",
      "19 variables\n",
      "7 grupos\n",
      "13 subgrupos\n"
     ]
    },
    {
     "name": "stderr",
     "output_type": "stream",
     "text": [
      "<string>:29: FutureWarning:\n",
      "\n",
      "Passing literal json to 'read_json' is deprecated and will be removed in a future version. To read from a literal string, wrap it in a 'StringIO' object.\n",
      "\n"
     ]
    },
    {
     "data": {
      "text/html": [
       "<div><style>\n",
       ".dataframe > thead > tr,\n",
       ".dataframe > tbody > tr {\n",
       "  text-align: right;\n",
       "  white-space: pre-wrap;\n",
       "}\n",
       "</style>\n",
       "<small>shape: (7, 4)</small><table border=\"1\" class=\"dataframe\"><thead><tr><th>Niv_Gr_1</th><th>Niv_Gr_2</th><th>N_Variables</th><th>N_Niv_Gr_2</th></tr><tr><td>str</td><td>str</td><td>u32</td><td>u32</td></tr></thead><tbody><tr><td>&quot;ESR&quot;</td><td>&quot;PIBT&quot;</td><td>9</td><td>3</td></tr><tr><td>&quot;ESR&quot;</td><td>&quot;PIBA&quot;</td><td>4</td><td>4</td></tr><tr><td>&quot;ESR&quot;</td><td>&quot;VAB&quot;</td><td>2</td><td>2</td></tr><tr><td>&quot;ESR&quot;</td><td>&quot;IMAE&quot;</td><td>1</td><td>1</td></tr><tr><td>&quot;ESR&quot;</td><td>&quot;ODA&quot;</td><td>1</td><td>1</td></tr><tr><td>&quot;ESR&quot;</td><td>&quot;COU&quot;</td><td>1</td><td>1</td></tr><tr><td>&quot;ESR&quot;</td><td>&quot;CCI&quot;</td><td>1</td><td>1</td></tr></tbody></table></div>"
      ],
      "text/plain": [
       "shape: (7, 4)\n",
       "┌──────────┬──────────┬─────────────┬────────────┐\n",
       "│ Niv_Gr_1 ┆ Niv_Gr_2 ┆ N_Variables ┆ N_Niv_Gr_2 │\n",
       "│ ---      ┆ ---      ┆ ---         ┆ ---        │\n",
       "│ str      ┆ str      ┆ u32         ┆ u32        │\n",
       "╞══════════╪══════════╪═════════════╪════════════╡\n",
       "│ ESR      ┆ PIBT     ┆ 9           ┆ 3          │\n",
       "│ ESR      ┆ PIBA     ┆ 4           ┆ 4          │\n",
       "│ ESR      ┆ VAB      ┆ 2           ┆ 2          │\n",
       "│ ESR      ┆ IMAE     ┆ 1           ┆ 1          │\n",
       "│ ESR      ┆ ODA      ┆ 1           ┆ 1          │\n",
       "│ ESR      ┆ COU      ┆ 1           ┆ 1          │\n",
       "│ ESR      ┆ CCI      ┆ 1           ┆ 1          │\n",
       "└──────────┴──────────┴─────────────┴────────────┘"
      ]
     },
     "execution_count": 20,
     "metadata": {},
     "output_type": "execute_result"
    }
   ],
   "source": [
    "res_nivel_2(\"ESR\")"
   ]
  },
  {
   "cell_type": "markdown",
   "id": "d0f4c0d3",
   "metadata": {},
   "source": [
    "* COU = Cuadro de Oferta y Utilización\n",
    "* CCI = Clasificación Cruzada Industria\n",
    "* VAB = Valor Agregado Bruto\n",
    "* PIBA = PIB Anual\n",
    "* PIBT = PIB Trimestral\n",
    "* ODA = Oferta y Demanda Agregada\n",
    "* IMAE = Índice Mensual de la Actividad Económica\n",
    "\n",
    "#### COU = Cuadro de Oferta y Utilización\n"
   ]
  },
  {
   "cell_type": "code",
   "execution_count": 21,
   "id": "da5baeaa",
   "metadata": {},
   "outputs": [
    {
     "name": "stdout",
     "output_type": "stream",
     "text": [
      "1 subgrupos\n",
      "3608 variables\n"
     ]
    },
    {
     "name": "stderr",
     "output_type": "stream",
     "text": [
      "<string>:29: FutureWarning:\n",
      "\n",
      "Passing literal json to 'read_json' is deprecated and will be removed in a future version. To read from a literal string, wrap it in a 'StringIO' object.\n",
      "\n"
     ]
    },
    {
     "data": {
      "text/html": [
       "<div><style>\n",
       ".dataframe > thead > tr,\n",
       ".dataframe > tbody > tr {\n",
       "  text-align: right;\n",
       "  white-space: pre-wrap;\n",
       "}\n",
       "</style>\n",
       "<small>shape: (1, 4)</small><table border=\"1\" class=\"dataframe\"><thead><tr><th>Niv_Gr_1</th><th>Niv_Gr_2</th><th>Niv_Gr_3</th><th>N_Variables</th></tr><tr><td>str</td><td>str</td><td>str</td><td>u32</td></tr></thead><tbody><tr><td>&quot;ESR&quot;</td><td>&quot;COU&quot;</td><td>&quot;01&quot;</td><td>3608</td></tr></tbody></table></div>"
      ],
      "text/plain": [
       "shape: (1, 4)\n",
       "┌──────────┬──────────┬──────────┬─────────────┐\n",
       "│ Niv_Gr_1 ┆ Niv_Gr_2 ┆ Niv_Gr_3 ┆ N_Variables │\n",
       "│ ---      ┆ ---      ┆ ---      ┆ ---         │\n",
       "│ str      ┆ str      ┆ str      ┆ u32         │\n",
       "╞══════════╪══════════╪══════════╪═════════════╡\n",
       "│ ESR      ┆ COU      ┆ 01       ┆ 3608        │\n",
       "└──────────┴──────────┴──────────┴─────────────┘"
      ]
     },
     "execution_count": 21,
     "metadata": {},
     "output_type": "execute_result"
    }
   ],
   "source": [
    "res_nivel_3(\"ESR\",\"COU\",\"Niv_Gr_3\")"
   ]
  },
  {
   "cell_type": "markdown",
   "id": "ed9a202e",
   "metadata": {},
   "source": [
    "Detalla la interacción del producto con la actividad (el detalle se toma de acuerdo con la estructura de la columna \"Nombre\"). Para conocer la estructura de las estadísticas derivadas de este cuadro, consultar en la [página web del BCH](https://www.bch.hn/estadisticas-y-publicaciones-economicas/sector-real/cuentas-nacionales-anuales-base-2000/cuadro-oferta-y-utilizacion).\n",
    "\n",
    "El orden está de acuerdo con el Nivel de Descripción 2 (Niv_Descr_2) y Nivel de Descripción 3 (Niv_Descr_3) de la columna Nombre, para los casos de:\n",
    "\n",
    "* VALOR BRUTO DE PRODUCCIÓN\n",
    "* CONSUMO INTERMEDIO\n",
    "* VALOR AGREGADO\n",
    "* OFERTA\n",
    "* UTILIZACIÓN\n",
    "\n",
    "Cada uno de estos detalles corresponde a una hoja de Excel en el archivo anual correspondiente.\n"
   ]
  },
  {
   "cell_type": "code",
   "execution_count": 22,
   "id": "aaf13c61",
   "metadata": {},
   "outputs": [
    {
     "name": "stderr",
     "output_type": "stream",
     "text": [
      "<string>:29: FutureWarning:\n",
      "\n",
      "Passing literal json to 'read_json' is deprecated and will be removed in a future version. To read from a literal string, wrap it in a 'StringIO' object.\n",
      "\n"
     ]
    },
    {
     "data": {
      "text/html": [
       "<div><style>\n",
       ".dataframe > thead > tr,\n",
       ".dataframe > tbody > tr {\n",
       "  text-align: right;\n",
       "  white-space: pre-wrap;\n",
       "}\n",
       "</style>\n",
       "<small>shape: (5, 5)</small><table border=\"1\" class=\"dataframe\"><thead><tr><th>Niv_Gr_1</th><th>Niv_Gr_2</th><th>Niv_Gr_3</th><th>Niv_Descr_1</th><th>N_Variables</th></tr><tr><td>str</td><td>str</td><td>str</td><td>str</td><td>u32</td></tr></thead><tbody><tr><td>&quot;ESR&quot;</td><td>&quot;COU&quot;</td><td>&quot;01&quot;</td><td>&quot;CONSUMO INTERM…</td><td>1044</td></tr><tr><td>&quot;ESR&quot;</td><td>&quot;COU&quot;</td><td>&quot;01&quot;</td><td>&quot;VALOR BRUTO DE…</td><td>1044</td></tr><tr><td>&quot;ESR&quot;</td><td>&quot;COU&quot;</td><td>&quot;01&quot;</td><td>&quot;UTILIZACIÓN&quot;</td><td>580</td></tr><tr><td>&quot;ESR&quot;</td><td>&quot;COU&quot;</td><td>&quot;01&quot;</td><td>&quot;OFERTA&quot;</td><td>580</td></tr><tr><td>&quot;ESR&quot;</td><td>&quot;COU&quot;</td><td>&quot;01&quot;</td><td>&quot;VALOR AGREGADO…</td><td>360</td></tr></tbody></table></div>"
      ],
      "text/plain": [
       "shape: (5, 5)\n",
       "┌──────────┬──────────┬──────────┬───────────────────────────┬─────────────┐\n",
       "│ Niv_Gr_1 ┆ Niv_Gr_2 ┆ Niv_Gr_3 ┆ Niv_Descr_1               ┆ N_Variables │\n",
       "│ ---      ┆ ---      ┆ ---      ┆ ---                       ┆ ---         │\n",
       "│ str      ┆ str      ┆ str      ┆ str                       ┆ u32         │\n",
       "╞══════════╪══════════╪══════════╪═══════════════════════════╪═════════════╡\n",
       "│ ESR      ┆ COU      ┆ 01       ┆ CONSUMO INTERMEDIO        ┆ 1044        │\n",
       "│ ESR      ┆ COU      ┆ 01       ┆ VALOR BRUTO DE PRODUCCIÓN ┆ 1044        │\n",
       "│ ESR      ┆ COU      ┆ 01       ┆ UTILIZACIÓN               ┆ 580         │\n",
       "│ ESR      ┆ COU      ┆ 01       ┆ OFERTA                    ┆ 580         │\n",
       "│ ESR      ┆ COU      ┆ 01       ┆ VALOR AGREGADO            ┆ 360         │\n",
       "└──────────┴──────────┴──────────┴───────────────────────────┴─────────────┘"
      ]
     },
     "execution_count": 22,
     "metadata": {},
     "output_type": "execute_result"
    }
   ],
   "source": [
    "res_nivel_4(\n",
    "    \"ESR\",\"COU\",\n",
    "    \"Niv_Gr_3\",\n",
    "    \"01\",\n",
    "    \"Niv_Descr_1\")"
   ]
  },
  {
   "cell_type": "markdown",
   "id": "306e1922",
   "metadata": {},
   "source": [
    "##### VALOR BRUTO DE PRODUCCIÓN\n",
    "\n",
    "En el cuadro original, las filas son los productos a un nivel de dos dígitos de la Nomenclatura de Productos de Honduras (NPH) y las columnas son las actiivades económicas tomando en cuenta la Nomenclatura de Actividades Económicas de Honduras (NAEH).\n"
   ]
  },
  {
   "cell_type": "code",
   "execution_count": 23,
   "id": "2d0000ac",
   "metadata": {},
   "outputs": [
    {
     "name": "stderr",
     "output_type": "stream",
     "text": [
      "<string>:29: FutureWarning:\n",
      "\n",
      "Passing literal json to 'read_json' is deprecated and will be removed in a future version. To read from a literal string, wrap it in a 'StringIO' object.\n",
      "\n"
     ]
    },
    {
     "data": {
      "text/html": [
       "<div><style>\n",
       ".dataframe > thead > tr,\n",
       ".dataframe > tbody > tr {\n",
       "  text-align: right;\n",
       "  white-space: pre-wrap;\n",
       "}\n",
       "</style>\n",
       "<small>shape: (1_044, 8)</small><table border=\"1\" class=\"dataframe\"><thead><tr><th>Niv_Gr_1</th><th>Niv_Gr_2</th><th>Niv_Gr_3</th><th>Niv_Descr_1</th><th>Id</th><th>Nombre</th><th>Descripcion</th><th>N_Variables</th></tr><tr><td>str</td><td>str</td><td>str</td><td>str</td><td>i64</td><td>str</td><td>str</td><td>u32</td></tr></thead><tbody><tr><td>&quot;ESR&quot;</td><td>&quot;COU&quot;</td><td>&quot;01&quot;</td><td>&quot;VALOR BRUTO DE…</td><td>10382</td><td>&quot;ESR-COU-01-256…</td><td>&quot;VALOR BRUTO DE…</td><td>1</td></tr><tr><td>&quot;ESR&quot;</td><td>&quot;COU&quot;</td><td>&quot;01&quot;</td><td>&quot;VALOR BRUTO DE…</td><td>10392</td><td>&quot;ESR-COU-01-257…</td><td>&quot;VALOR BRUTO DE…</td><td>1</td></tr><tr><td>&quot;ESR&quot;</td><td>&quot;COU&quot;</td><td>&quot;01&quot;</td><td>&quot;VALOR BRUTO DE…</td><td>10393</td><td>&quot;ESR-COU-01-257…</td><td>&quot;VALOR BRUTO DE…</td><td>1</td></tr><tr><td>&quot;ESR&quot;</td><td>&quot;COU&quot;</td><td>&quot;01&quot;</td><td>&quot;VALOR BRUTO DE…</td><td>10400</td><td>&quot;ESR-COU-01-258…</td><td>&quot;VALOR BRUTO DE…</td><td>1</td></tr><tr><td>&quot;ESR&quot;</td><td>&quot;COU&quot;</td><td>&quot;01&quot;</td><td>&quot;VALOR BRUTO DE…</td><td>10472</td><td>&quot;ESR-COU-01-265…</td><td>&quot;VALOR BRUTO DE…</td><td>1</td></tr><tr><td>&hellip;</td><td>&hellip;</td><td>&hellip;</td><td>&hellip;</td><td>&hellip;</td><td>&hellip;</td><td>&hellip;</td><td>&hellip;</td></tr><tr><td>&quot;ESR&quot;</td><td>&quot;COU&quot;</td><td>&quot;01&quot;</td><td>&quot;VALOR BRUTO DE…</td><td>11334</td><td>&quot;ESR-COU-01-351…</td><td>&quot;VALOR BRUTO DE…</td><td>1</td></tr><tr><td>&quot;ESR&quot;</td><td>&quot;COU&quot;</td><td>&quot;01&quot;</td><td>&quot;VALOR BRUTO DE…</td><td>11345</td><td>&quot;ESR-COU-01-352…</td><td>&quot;VALOR BRUTO DE…</td><td>1</td></tr><tr><td>&quot;ESR&quot;</td><td>&quot;COU&quot;</td><td>&quot;01&quot;</td><td>&quot;VALOR BRUTO DE…</td><td>11401</td><td>&quot;ESR-COU-01-358…</td><td>&quot;VALOR BRUTO DE…</td><td>1</td></tr><tr><td>&quot;ESR&quot;</td><td>&quot;COU&quot;</td><td>&quot;01&quot;</td><td>&quot;VALOR BRUTO DE…</td><td>11411</td><td>&quot;ESR-COU-01-359…</td><td>&quot;VALOR BRUTO DE…</td><td>1</td></tr><tr><td>&quot;ESR&quot;</td><td>&quot;COU&quot;</td><td>&quot;01&quot;</td><td>&quot;VALOR BRUTO DE…</td><td>11424</td><td>&quot;ESR-COU-01-360…</td><td>&quot;VALOR BRUTO DE…</td><td>1</td></tr></tbody></table></div>"
      ],
      "text/plain": [
       "shape: (1_044, 8)\n",
       "┌──────────┬──────────┬──────────┬──────────────┬───────┬──────────────┬─────────────┬─────────────┐\n",
       "│ Niv_Gr_1 ┆ Niv_Gr_2 ┆ Niv_Gr_3 ┆ Niv_Descr_1  ┆ Id    ┆ Nombre       ┆ Descripcion ┆ N_Variables │\n",
       "│ ---      ┆ ---      ┆ ---      ┆ ---          ┆ ---   ┆ ---          ┆ ---         ┆ ---         │\n",
       "│ str      ┆ str      ┆ str      ┆ str          ┆ i64   ┆ str          ┆ str         ┆ u32         │\n",
       "╞══════════╪══════════╪══════════╪══════════════╪═══════╪══════════════╪═════════════╪═════════════╡\n",
       "│ ESR      ┆ COU      ┆ 01       ┆ VALOR BRUTO  ┆ 10382 ┆ ESR-COU-01-2 ┆ VALOR BRUTO ┆ 1           │\n",
       "│          ┆          ┆          ┆ DE           ┆       ┆ 565          ┆ DE PRODUCCI ┆             │\n",
       "│          ┆          ┆          ┆ PRODUCCIÓN   ┆       ┆              ┆ ÓN-ACEITE…  ┆             │\n",
       "│ ESR      ┆ COU      ┆ 01       ┆ VALOR BRUTO  ┆ 10392 ┆ ESR-COU-01-2 ┆ VALOR BRUTO ┆ 1           │\n",
       "│          ┆          ┆          ┆ DE           ┆       ┆ 575          ┆ DE PRODUCCI ┆             │\n",
       "│          ┆          ┆          ┆ PRODUCCIÓN   ┆       ┆              ┆ ÓN-ACEITE…  ┆             │\n",
       "│ ESR      ┆ COU      ┆ 01       ┆ VALOR BRUTO  ┆ 10393 ┆ ESR-COU-01-2 ┆ VALOR BRUTO ┆ 1           │\n",
       "│          ┆          ┆          ┆ DE           ┆       ┆ 576          ┆ DE PRODUCCI ┆             │\n",
       "│          ┆          ┆          ┆ PRODUCCIÓN   ┆       ┆              ┆ ÓN-ACEITE…  ┆             │\n",
       "│ ESR      ┆ COU      ┆ 01       ┆ VALOR BRUTO  ┆ 10400 ┆ ESR-COU-01-2 ┆ VALOR BRUTO ┆ 1           │\n",
       "│          ┆          ┆          ┆ DE           ┆       ┆ 583          ┆ DE PRODUCCI ┆             │\n",
       "│          ┆          ┆          ┆ PRODUCCIÓN   ┆       ┆              ┆ ÓN-ANIMAL…  ┆             │\n",
       "│ ESR      ┆ COU      ┆ 01       ┆ VALOR BRUTO  ┆ 10472 ┆ ESR-COU-01-2 ┆ VALOR BRUTO ┆ 1           │\n",
       "│          ┆          ┆          ┆ DE           ┆       ┆ 655          ┆ DE PRODUCCI ┆             │\n",
       "│          ┆          ┆          ┆ PRODUCCIÓN   ┆       ┆              ┆ ÓN-CACAO,…  ┆             │\n",
       "│ …        ┆ …        ┆ …        ┆ …            ┆ …     ┆ …            ┆ …           ┆ …           │\n",
       "│ ESR      ┆ COU      ┆ 01       ┆ VALOR BRUTO  ┆ 11334 ┆ ESR-COU-01-3 ┆ VALOR BRUTO ┆ 1           │\n",
       "│          ┆          ┆          ┆ DE           ┆       ┆ 517          ┆ DE PRODUCCI ┆             │\n",
       "│          ┆          ┆          ┆ PRODUCCIÓN   ┆       ┆              ┆ ÓN-TABACO…  ┆             │\n",
       "│ ESR      ┆ COU      ┆ 01       ┆ VALOR BRUTO  ┆ 11345 ┆ ESR-COU-01-3 ┆ VALOR BRUTO ┆ 1           │\n",
       "│          ┆          ┆          ┆ DE           ┆       ┆ 528          ┆ DE PRODUCCI ┆             │\n",
       "│          ┆          ┆          ┆ PRODUCCIÓN   ┆       ┆              ┆ ÓN-TEXTIL…  ┆             │\n",
       "│ ESR      ┆ COU      ┆ 01       ┆ VALOR BRUTO  ┆ 11401 ┆ ESR-COU-01-3 ┆ VALOR BRUTO ┆ 1           │\n",
       "│          ┆          ┆          ┆ DE           ┆       ┆ 584          ┆ DE PRODUCCI ┆             │\n",
       "│          ┆          ┆          ┆ PRODUCCIÓN   ┆       ┆              ┆ ÓN-TUBÉRC…  ┆             │\n",
       "│ ESR      ┆ COU      ┆ 01       ┆ VALOR BRUTO  ┆ 11411 ┆ ESR-COU-01-3 ┆ VALOR BRUTO ┆ 1           │\n",
       "│          ┆          ┆          ┆ DE           ┆       ┆ 594          ┆ DE PRODUCCI ┆             │\n",
       "│          ┆          ┆          ┆ PRODUCCIÓN   ┆       ┆              ┆ ÓN-VIDRIO…  ┆             │\n",
       "│ ESR      ┆ COU      ┆ 01       ┆ VALOR BRUTO  ┆ 11424 ┆ ESR-COU-01-3 ┆ VALOR BRUTO ┆ 1           │\n",
       "│          ┆          ┆          ┆ DE           ┆       ┆ 607          ┆ DE PRODUCCI ┆             │\n",
       "│          ┆          ┆          ┆ PRODUCCIÓN   ┆       ┆              ┆ ÓN-VIDRIO…  ┆             │\n",
       "└──────────┴──────────┴──────────┴──────────────┴───────┴──────────────┴─────────────┴─────────────┘"
      ]
     },
     "execution_count": 23,
     "metadata": {},
     "output_type": "execute_result"
    }
   ],
   "source": [
    "res_nivel_7(\n",
    "    \"ESR\",\"COU\",\n",
    "    \"Niv_Gr_3\",\n",
    "    \"01\",\n",
    "    \"Niv_Descr_1\",\"Id\",\"Nombre\",\"Descripcion\").filter(pl.col(\"Niv_Descr_1\") == \"VALOR BRUTO DE PRODUCCIÓN\")"
   ]
  },
  {
   "cell_type": "markdown",
   "id": "7f11d80d",
   "metadata": {},
   "source": [
    "Resultados de una sola variable:\n"
   ]
  },
  {
   "cell_type": "code",
   "execution_count": 24,
   "id": "94177add",
   "metadata": {},
   "outputs": [
    {
     "name": "stderr",
     "output_type": "stream",
     "text": [
      "<string>:29: FutureWarning:\n",
      "\n",
      "Passing literal json to 'read_json' is deprecated and will be removed in a future version. To read from a literal string, wrap it in a 'StringIO' object.\n",
      "\n"
     ]
    },
    {
     "name": "stderr",
     "output_type": "stream",
     "text": [
      "<string>:29: FutureWarning:\n",
      "\n",
      "Passing literal json to 'read_json' is deprecated and will be removed in a future version. To read from a literal string, wrap it in a 'StringIO' object.\n",
      "\n"
     ]
    },
    {
     "data": {
      "text/html": [
       "<div><style>\n",
       ".dataframe > thead > tr,\n",
       ".dataframe > tbody > tr {\n",
       "  text-align: right;\n",
       "  white-space: pre-wrap;\n",
       "}\n",
       "</style>\n",
       "<small>shape: (23, 2)</small><table border=\"1\" class=\"dataframe\"><thead><tr><th>Fecha</th><th>VALOR BRUTO DE PRODUCCIÓN-ANIMALES VIVOS-INTERMEDIACIÓN FINANCIERA</th></tr><tr><td>date</td><td>i64</td></tr></thead><tbody><tr><td>2022-01-01</td><td>0</td></tr><tr><td>2021-01-01</td><td>0</td></tr><tr><td>2020-01-01</td><td>0</td></tr><tr><td>2019-01-01</td><td>0</td></tr><tr><td>2018-01-01</td><td>0</td></tr><tr><td>&hellip;</td><td>&hellip;</td></tr><tr><td>2004-01-01</td><td>0</td></tr><tr><td>2003-01-01</td><td>0</td></tr><tr><td>2002-01-01</td><td>0</td></tr><tr><td>2001-01-01</td><td>0</td></tr><tr><td>2000-01-01</td><td>0</td></tr></tbody></table></div>"
      ],
      "text/plain": [
       "shape: (23, 2)\n",
       "┌────────────┬───────────────────────────────────┐\n",
       "│ Fecha      ┆ VALOR BRUTO DE PRODUCCIÓN-ANIMAL… │\n",
       "│ ---        ┆ ---                               │\n",
       "│ date       ┆ i64                               │\n",
       "╞════════════╪═══════════════════════════════════╡\n",
       "│ 2022-01-01 ┆ 0                                 │\n",
       "│ 2021-01-01 ┆ 0                                 │\n",
       "│ 2020-01-01 ┆ 0                                 │\n",
       "│ 2019-01-01 ┆ 0                                 │\n",
       "│ 2018-01-01 ┆ 0                                 │\n",
       "│ …          ┆ …                                 │\n",
       "│ 2004-01-01 ┆ 0                                 │\n",
       "│ 2003-01-01 ┆ 0                                 │\n",
       "│ 2002-01-01 ┆ 0                                 │\n",
       "│ 2001-01-01 ┆ 0                                 │\n",
       "│ 2000-01-01 ┆ 0                                 │\n",
       "└────────────┴───────────────────────────────────┘"
      ]
     },
     "execution_count": 24,
     "metadata": {},
     "output_type": "execute_result"
    }
   ],
   "source": [
    "Id = 10410\n",
    "df = get_df(Id)\n",
    "# get_plot(Id)\n",
    "df"
   ]
  },
  {
   "cell_type": "markdown",
   "id": "920f1a83",
   "metadata": {},
   "source": [
    "##### CONSUMO INTERMEDIO\n",
    "\n",
    "En el cuadro original, las filas son los productos a un nivel de dos dígitos de la Nomenclatura de Productos de Honduras (NPH) y las columnas son las actiivades económicas tomando en cuenta la Nomenclatura de Actividades Económicas de Honduras (NAEH).\n"
   ]
  },
  {
   "cell_type": "code",
   "execution_count": 25,
   "id": "3086602f",
   "metadata": {},
   "outputs": [
    {
     "name": "stderr",
     "output_type": "stream",
     "text": [
      "<string>:29: FutureWarning:\n",
      "\n",
      "Passing literal json to 'read_json' is deprecated and will be removed in a future version. To read from a literal string, wrap it in a 'StringIO' object.\n",
      "\n"
     ]
    },
    {
     "data": {
      "text/html": [
       "<div><style>\n",
       ".dataframe > thead > tr,\n",
       ".dataframe > tbody > tr {\n",
       "  text-align: right;\n",
       "  white-space: pre-wrap;\n",
       "}\n",
       "</style>\n",
       "<small>shape: (1_044, 8)</small><table border=\"1\" class=\"dataframe\"><thead><tr><th>Niv_Gr_1</th><th>Niv_Gr_2</th><th>Niv_Gr_3</th><th>Niv_Descr_1</th><th>Id</th><th>Nombre</th><th>Descripcion</th><th>N_Variables</th></tr><tr><td>str</td><td>str</td><td>str</td><td>str</td><td>i64</td><td>str</td><td>str</td><td>u32</td></tr></thead><tbody><tr><td>&quot;ESR&quot;</td><td>&quot;COU&quot;</td><td>&quot;01&quot;</td><td>&quot;CONSUMO INTERM…</td><td>7823</td><td>&quot;ESR-COU-01-6&quot;</td><td>&quot;CONSUMO INTERM…</td><td>1</td></tr><tr><td>&quot;ESR&quot;</td><td>&quot;COU&quot;</td><td>&quot;01&quot;</td><td>&quot;CONSUMO INTERM…</td><td>7845</td><td>&quot;ESR-COU-01-28&quot;</td><td>&quot;CONSUMO INTERM…</td><td>1</td></tr><tr><td>&quot;ESR&quot;</td><td>&quot;COU&quot;</td><td>&quot;01&quot;</td><td>&quot;CONSUMO INTERM…</td><td>7872</td><td>&quot;ESR-COU-01-55&quot;</td><td>&quot;CONSUMO INTERM…</td><td>1</td></tr><tr><td>&quot;ESR&quot;</td><td>&quot;COU&quot;</td><td>&quot;01&quot;</td><td>&quot;CONSUMO INTERM…</td><td>7895</td><td>&quot;ESR-COU-01-78&quot;</td><td>&quot;CONSUMO INTERM…</td><td>1</td></tr><tr><td>&quot;ESR&quot;</td><td>&quot;COU&quot;</td><td>&quot;01&quot;</td><td>&quot;CONSUMO INTERM…</td><td>7908</td><td>&quot;ESR-COU-01-91&quot;</td><td>&quot;CONSUMO INTERM…</td><td>1</td></tr><tr><td>&hellip;</td><td>&hellip;</td><td>&hellip;</td><td>&hellip;</td><td>&hellip;</td><td>&hellip;</td><td>&hellip;</td><td>&hellip;</td></tr><tr><td>&quot;ESR&quot;</td><td>&quot;COU&quot;</td><td>&quot;01&quot;</td><td>&quot;CONSUMO INTERM…</td><td>8694</td><td>&quot;ESR-COU-01-877…</td><td>&quot;CONSUMO INTERM…</td><td>1</td></tr><tr><td>&quot;ESR&quot;</td><td>&quot;COU&quot;</td><td>&quot;01&quot;</td><td>&quot;CONSUMO INTERM…</td><td>8704</td><td>&quot;ESR-COU-01-887…</td><td>&quot;CONSUMO INTERM…</td><td>1</td></tr><tr><td>&quot;ESR&quot;</td><td>&quot;COU&quot;</td><td>&quot;01&quot;</td><td>&quot;CONSUMO INTERM…</td><td>8714</td><td>&quot;ESR-COU-01-897…</td><td>&quot;CONSUMO INTERM…</td><td>1</td></tr><tr><td>&quot;ESR&quot;</td><td>&quot;COU&quot;</td><td>&quot;01&quot;</td><td>&quot;CONSUMO INTERM…</td><td>8786</td><td>&quot;ESR-COU-01-969…</td><td>&quot;CONSUMO INTERM…</td><td>1</td></tr><tr><td>&quot;ESR&quot;</td><td>&quot;COU&quot;</td><td>&quot;01&quot;</td><td>&quot;CONSUMO INTERM…</td><td>8811</td><td>&quot;ESR-COU-01-994…</td><td>&quot;CONSUMO INTERM…</td><td>1</td></tr></tbody></table></div>"
      ],
      "text/plain": [
       "shape: (1_044, 8)\n",
       "┌──────────┬──────────┬──────────┬──────────────┬──────┬──────────────┬──────────────┬─────────────┐\n",
       "│ Niv_Gr_1 ┆ Niv_Gr_2 ┆ Niv_Gr_3 ┆ Niv_Descr_1  ┆ Id   ┆ Nombre       ┆ Descripcion  ┆ N_Variables │\n",
       "│ ---      ┆ ---      ┆ ---      ┆ ---          ┆ ---  ┆ ---          ┆ ---          ┆ ---         │\n",
       "│ str      ┆ str      ┆ str      ┆ str          ┆ i64  ┆ str          ┆ str          ┆ u32         │\n",
       "╞══════════╪══════════╪══════════╪══════════════╪══════╪══════════════╪══════════════╪═════════════╡\n",
       "│ ESR      ┆ COU      ┆ 01       ┆ CONSUMO      ┆ 7823 ┆ ESR-COU-01-6 ┆ CONSUMO INTE ┆ 1           │\n",
       "│          ┆          ┆          ┆ INTERMEDIO   ┆      ┆              ┆ RMEDIO-ACEIT ┆             │\n",
       "│          ┆          ┆          ┆              ┆      ┆              ┆ ES Y GRA…    ┆             │\n",
       "│ ESR      ┆ COU      ┆ 01       ┆ CONSUMO      ┆ 7845 ┆ ESR-COU-01-2 ┆ CONSUMO INTE ┆ 1           │\n",
       "│          ┆          ┆          ┆ INTERMEDIO   ┆      ┆ 8            ┆ RMEDIO-ANIMA ┆             │\n",
       "│          ┆          ┆          ┆              ┆      ┆              ┆ LES VIVO…    ┆             │\n",
       "│ ESR      ┆ COU      ┆ 01       ┆ CONSUMO      ┆ 7872 ┆ ESR-COU-01-5 ┆ CONSUMO INTE ┆ 1           │\n",
       "│          ┆          ┆          ┆ INTERMEDIO   ┆      ┆ 5            ┆ RMEDIO-BANAN ┆             │\n",
       "│          ┆          ┆          ┆              ┆      ┆              ┆ OS-ACTIV…    ┆             │\n",
       "│ ESR      ┆ COU      ┆ 01       ┆ CONSUMO      ┆ 7895 ┆ ESR-COU-01-7 ┆ CONSUMO INTE ┆ 1           │\n",
       "│          ┆          ┆          ┆ INTERMEDIO   ┆      ┆ 8            ┆ RMEDIO-BEBID ┆             │\n",
       "│          ┆          ┆          ┆              ┆      ┆              ┆ AS-CONST…    ┆             │\n",
       "│ ESR      ┆ COU      ┆ 01       ┆ CONSUMO      ┆ 7908 ┆ ESR-COU-01-9 ┆ CONSUMO INTE ┆ 1           │\n",
       "│          ┆          ┆          ┆ INTERMEDIO   ┆      ┆ 1            ┆ RMEDIO-CACAO ┆             │\n",
       "│          ┆          ┆          ┆              ┆      ┆              ┆ , CHOCOL…    ┆             │\n",
       "│ …        ┆ …        ┆ …        ┆ …            ┆ …    ┆ …            ┆ …            ┆ …           │\n",
       "│ ESR      ┆ COU      ┆ 01       ┆ CONSUMO      ┆ 8694 ┆ ESR-COU-01-8 ┆ CONSUMO INTE ┆ 1           │\n",
       "│          ┆          ┆          ┆ INTERMEDIO   ┆      ┆ 77           ┆ RMEDIO-SERVI ┆             │\n",
       "│          ┆          ┆          ┆              ┆      ┆              ┆ CIOS DIV…    ┆             │\n",
       "│ ESR      ┆ COU      ┆ 01       ┆ CONSUMO      ┆ 8704 ┆ ESR-COU-01-8 ┆ CONSUMO INTE ┆ 1           │\n",
       "│          ┆          ┆          ┆ INTERMEDIO   ┆      ┆ 87           ┆ RMEDIO-SERVI ┆             │\n",
       "│          ┆          ┆          ┆              ┆      ┆              ┆ CIOS INM…    ┆             │\n",
       "│ ESR      ┆ COU      ┆ 01       ┆ CONSUMO      ┆ 8714 ┆ ESR-COU-01-8 ┆ CONSUMO INTE ┆ 1           │\n",
       "│          ┆          ┆          ┆ INTERMEDIO   ┆      ┆ 97           ┆ RMEDIO-SERVI ┆             │\n",
       "│          ┆          ┆          ┆              ┆      ┆              ┆ CIOS INM…    ┆             │\n",
       "│ ESR      ┆ COU      ┆ 01       ┆ CONSUMO      ┆ 8786 ┆ ESR-COU-01-9 ┆ CONSUMO INTE ┆ 1           │\n",
       "│          ┆          ┆          ┆ INTERMEDIO   ┆      ┆ 69           ┆ RMEDIO-TEXTI ┆             │\n",
       "│          ┆          ┆          ┆              ┆      ┆              ┆ LES, PRE…    ┆             │\n",
       "│ ESR      ┆ COU      ┆ 01       ┆ CONSUMO      ┆ 8811 ┆ ESR-COU-01-9 ┆ CONSUMO INTE ┆ 1           │\n",
       "│          ┆          ┆          ┆ INTERMEDIO   ┆      ┆ 94           ┆ RMEDIO-TRIGO ┆             │\n",
       "│          ┆          ┆          ┆              ┆      ┆              ┆ -COMERCI…    ┆             │\n",
       "└──────────┴──────────┴──────────┴──────────────┴──────┴──────────────┴──────────────┴─────────────┘"
      ]
     },
     "execution_count": 25,
     "metadata": {},
     "output_type": "execute_result"
    }
   ],
   "source": [
    "res_nivel_7(\n",
    "    \"ESR\",\"COU\",\n",
    "    \"Niv_Gr_3\",\n",
    "    \"01\",\n",
    "    \"Niv_Descr_1\",\"Id\",\"Nombre\",\"Descripcion\").filter(pl.col(\"Niv_Descr_1\") == \"CONSUMO INTERMEDIO\")"
   ]
  },
  {
   "cell_type": "markdown",
   "id": "5a022cf8",
   "metadata": {},
   "source": [
    "Resultados de una sola variable:\n"
   ]
  },
  {
   "cell_type": "code",
   "execution_count": 26,
   "id": "7abbec53",
   "metadata": {},
   "outputs": [
    {
     "name": "stderr",
     "output_type": "stream",
     "text": [
      "<string>:29: FutureWarning:\n",
      "\n",
      "Passing literal json to 'read_json' is deprecated and will be removed in a future version. To read from a literal string, wrap it in a 'StringIO' object.\n",
      "\n"
     ]
    },
    {
     "name": "stderr",
     "output_type": "stream",
     "text": [
      "<string>:29: FutureWarning:\n",
      "\n",
      "Passing literal json to 'read_json' is deprecated and will be removed in a future version. To read from a literal string, wrap it in a 'StringIO' object.\n",
      "\n"
     ]
    },
    {
     "data": {
      "text/html": [
       "<div><style>\n",
       ".dataframe > thead > tr,\n",
       ".dataframe > tbody > tr {\n",
       "  text-align: right;\n",
       "  white-space: pre-wrap;\n",
       "}\n",
       "</style>\n",
       "<small>shape: (23, 2)</small><table border=\"1\" class=\"dataframe\"><thead><tr><th>Fecha</th><th>CONSUMO INTERMEDIO-ACEITES Y GRASAS ANIMALES Y VEGETALES-TRANSPORTE Y ALMACENAMIENTO</th></tr><tr><td>date</td><td>i64</td></tr></thead><tbody><tr><td>2022-01-01</td><td>0</td></tr><tr><td>2021-01-01</td><td>0</td></tr><tr><td>2020-01-01</td><td>0</td></tr><tr><td>2019-01-01</td><td>0</td></tr><tr><td>2018-01-01</td><td>0</td></tr><tr><td>&hellip;</td><td>&hellip;</td></tr><tr><td>2004-01-01</td><td>0</td></tr><tr><td>2003-01-01</td><td>0</td></tr><tr><td>2002-01-01</td><td>0</td></tr><tr><td>2001-01-01</td><td>0</td></tr><tr><td>2000-01-01</td><td>0</td></tr></tbody></table></div>"
      ],
      "text/plain": [
       "shape: (23, 2)\n",
       "┌────────────┬───────────────────────────────────┐\n",
       "│ Fecha      ┆ CONSUMO INTERMEDIO-ACEITES Y GRA… │\n",
       "│ ---        ┆ ---                               │\n",
       "│ date       ┆ i64                               │\n",
       "╞════════════╪═══════════════════════════════════╡\n",
       "│ 2022-01-01 ┆ 0                                 │\n",
       "│ 2021-01-01 ┆ 0                                 │\n",
       "│ 2020-01-01 ┆ 0                                 │\n",
       "│ 2019-01-01 ┆ 0                                 │\n",
       "│ 2018-01-01 ┆ 0                                 │\n",
       "│ …          ┆ …                                 │\n",
       "│ 2004-01-01 ┆ 0                                 │\n",
       "│ 2003-01-01 ┆ 0                                 │\n",
       "│ 2002-01-01 ┆ 0                                 │\n",
       "│ 2001-01-01 ┆ 0                                 │\n",
       "│ 2000-01-01 ┆ 0                                 │\n",
       "└────────────┴───────────────────────────────────┘"
      ]
     },
     "execution_count": 26,
     "metadata": {},
     "output_type": "execute_result"
    }
   ],
   "source": [
    "Id = 7835\n",
    "df = get_df(Id)\n",
    "# get_plot(Id)\n",
    "df"
   ]
  },
  {
   "cell_type": "markdown",
   "id": "0cb49c73",
   "metadata": {},
   "source": [
    "##### VALOR AGREGADO\n",
    "\n",
    "En el cuadro original, las filas son los elementos indispensables para calcular el Valor Agregado Bruto, VAB (Remuneración de los Asalariados, Impuestos sobre la Producción y las Importaciones, Subvenciones, Excedente de Explotación, Ingreso Mixto y Consumo de Capital Fijo) y las columnas son las actiivades económicas tomando en cuenta la Nomenclatura de Actividades Económicas de Honduras (NAEH).\n"
   ]
  },
  {
   "cell_type": "code",
   "execution_count": 27,
   "id": "36426982",
   "metadata": {},
   "outputs": [
    {
     "name": "stderr",
     "output_type": "stream",
     "text": [
      "<string>:29: FutureWarning:\n",
      "\n",
      "Passing literal json to 'read_json' is deprecated and will be removed in a future version. To read from a literal string, wrap it in a 'StringIO' object.\n",
      "\n"
     ]
    },
    {
     "data": {
      "text/html": [
       "<div><style>\n",
       ".dataframe > thead > tr,\n",
       ".dataframe > tbody > tr {\n",
       "  text-align: right;\n",
       "  white-space: pre-wrap;\n",
       "}\n",
       "</style>\n",
       "<small>shape: (360, 8)</small><table border=\"1\" class=\"dataframe\"><thead><tr><th>Niv_Gr_1</th><th>Niv_Gr_2</th><th>Niv_Gr_3</th><th>Niv_Descr_1</th><th>Id</th><th>Nombre</th><th>Descripcion</th><th>N_Variables</th></tr><tr><td>str</td><td>str</td><td>str</td><td>str</td><td>i64</td><td>str</td><td>str</td><td>u32</td></tr></thead><tbody><tr><td>&quot;ESR&quot;</td><td>&quot;COU&quot;</td><td>&quot;01&quot;</td><td>&quot;VALOR AGREGADO…</td><td>10056</td><td>&quot;ESR-COU-01-223…</td><td>&quot;VALOR AGREGADO…</td><td>1</td></tr><tr><td>&quot;ESR&quot;</td><td>&quot;COU&quot;</td><td>&quot;01&quot;</td><td>&quot;VALOR AGREGADO…</td><td>10089</td><td>&quot;ESR-COU-01-227…</td><td>&quot;VALOR AGREGADO…</td><td>1</td></tr><tr><td>&quot;ESR&quot;</td><td>&quot;COU&quot;</td><td>&quot;01&quot;</td><td>&quot;VALOR AGREGADO…</td><td>10118</td><td>&quot;ESR-COU-01-230…</td><td>&quot;VALOR AGREGADO…</td><td>1</td></tr><tr><td>&quot;ESR&quot;</td><td>&quot;COU&quot;</td><td>&quot;01&quot;</td><td>&quot;VALOR AGREGADO…</td><td>10133</td><td>&quot;ESR-COU-01-231…</td><td>&quot;VALOR AGREGADO…</td><td>1</td></tr><tr><td>&quot;ESR&quot;</td><td>&quot;COU&quot;</td><td>&quot;01&quot;</td><td>&quot;VALOR AGREGADO…</td><td>10146</td><td>&quot;ESR-COU-01-232…</td><td>&quot;VALOR AGREGADO…</td><td>1</td></tr><tr><td>&hellip;</td><td>&hellip;</td><td>&hellip;</td><td>&hellip;</td><td>&hellip;</td><td>&hellip;</td><td>&hellip;</td><td>&hellip;</td></tr><tr><td>&quot;ESR&quot;</td><td>&quot;COU&quot;</td><td>&quot;01&quot;</td><td>&quot;VALOR AGREGADO…</td><td>10345</td><td>&quot;ESR-COU-01-252…</td><td>&quot;VALOR AGREGADO…</td><td>1</td></tr><tr><td>&quot;ESR&quot;</td><td>&quot;COU&quot;</td><td>&quot;01&quot;</td><td>&quot;VALOR AGREGADO…</td><td>10352</td><td>&quot;ESR-COU-01-253…</td><td>&quot;VALOR AGREGADO…</td><td>1</td></tr><tr><td>&quot;ESR&quot;</td><td>&quot;COU&quot;</td><td>&quot;01&quot;</td><td>&quot;VALOR AGREGADO…</td><td>10369</td><td>&quot;ESR-COU-01-255…</td><td>&quot;VALOR AGREGADO…</td><td>1</td></tr><tr><td>&quot;ESR&quot;</td><td>&quot;COU&quot;</td><td>&quot;01&quot;</td><td>&quot;VALOR AGREGADO…</td><td>10372</td><td>&quot;ESR-COU-01-255…</td><td>&quot;VALOR AGREGADO…</td><td>1</td></tr><tr><td>&quot;ESR&quot;</td><td>&quot;COU&quot;</td><td>&quot;01&quot;</td><td>&quot;VALOR AGREGADO…</td><td>10378</td><td>&quot;ESR-COU-01-256…</td><td>&quot;VALOR AGREGADO…</td><td>1</td></tr></tbody></table></div>"
      ],
      "text/plain": [
       "shape: (360, 8)\n",
       "┌──────────┬──────────┬──────────┬──────────────┬───────┬──────────────┬─────────────┬─────────────┐\n",
       "│ Niv_Gr_1 ┆ Niv_Gr_2 ┆ Niv_Gr_3 ┆ Niv_Descr_1  ┆ Id    ┆ Nombre       ┆ Descripcion ┆ N_Variables │\n",
       "│ ---      ┆ ---      ┆ ---      ┆ ---          ┆ ---   ┆ ---          ┆ ---         ┆ ---         │\n",
       "│ str      ┆ str      ┆ str      ┆ str          ┆ i64   ┆ str          ┆ str         ┆ u32         │\n",
       "╞══════════╪══════════╪══════════╪══════════════╪═══════╪══════════════╪═════════════╪═════════════╡\n",
       "│ ESR      ┆ COU      ┆ 01       ┆ VALOR        ┆ 10056 ┆ ESR-COU-01-2 ┆ VALOR AGREG ┆ 1           │\n",
       "│          ┆          ┆          ┆ AGREGADO     ┆       ┆ 239          ┆ ADO-CONSUMO ┆             │\n",
       "│          ┆          ┆          ┆              ┆       ┆              ┆ DE CAPITA…  ┆             │\n",
       "│ ESR      ┆ COU      ┆ 01       ┆ VALOR        ┆ 10089 ┆ ESR-COU-01-2 ┆ VALOR AGREG ┆ 1           │\n",
       "│          ┆          ┆          ┆ AGREGADO     ┆       ┆ 272          ┆ ADO-CONTRIB ┆             │\n",
       "│          ┆          ┆          ┆              ┆       ┆              ┆ UCIONES SO… ┆             │\n",
       "│ ESR      ┆ COU      ┆ 01       ┆ VALOR        ┆ 10118 ┆ ESR-COU-01-2 ┆ VALOR AGREG ┆ 1           │\n",
       "│          ┆          ┆          ┆ AGREGADO     ┆       ┆ 301          ┆ ADO-EXCEDEN ┆             │\n",
       "│          ┆          ┆          ┆              ┆       ┆              ┆ TE DE EXPL… ┆             │\n",
       "│ ESR      ┆ COU      ┆ 01       ┆ VALOR        ┆ 10133 ┆ ESR-COU-01-2 ┆ VALOR AGREG ┆ 1           │\n",
       "│          ┆          ┆          ┆ AGREGADO     ┆       ┆ 316          ┆ ADO-EXCEDEN ┆             │\n",
       "│          ┆          ┆          ┆              ┆       ┆              ┆ TE DE EXPL… ┆             │\n",
       "│ ESR      ┆ COU      ┆ 01       ┆ VALOR        ┆ 10146 ┆ ESR-COU-01-2 ┆ VALOR AGREG ┆ 1           │\n",
       "│          ┆          ┆          ┆ AGREGADO     ┆       ┆ 329          ┆ ADO-EXCEDEN ┆             │\n",
       "│          ┆          ┆          ┆              ┆       ┆              ┆ TE DE EXPL… ┆             │\n",
       "│ …        ┆ …        ┆ …        ┆ …            ┆ …     ┆ …            ┆ …           ┆ …           │\n",
       "│ ESR      ┆ COU      ┆ 01       ┆ VALOR        ┆ 10345 ┆ ESR-COU-01-2 ┆ VALOR AGREG ┆ 1           │\n",
       "│          ┆          ┆          ┆ AGREGADO     ┆       ┆ 528          ┆ ADO-SUELDOS ┆             │\n",
       "│          ┆          ┆          ┆              ┆       ┆              ┆ Y SALARIO…  ┆             │\n",
       "│ ESR      ┆ COU      ┆ 01       ┆ VALOR        ┆ 10352 ┆ ESR-COU-01-2 ┆ VALOR AGREG ┆ 1           │\n",
       "│          ┆          ┆          ┆ AGREGADO     ┆       ┆ 535          ┆ ADO-SUELDOS ┆             │\n",
       "│          ┆          ┆          ┆              ┆       ┆              ┆ Y SALARIO…  ┆             │\n",
       "│ ESR      ┆ COU      ┆ 01       ┆ VALOR        ┆ 10369 ┆ ESR-COU-01-2 ┆ VALOR AGREG ┆ 1           │\n",
       "│          ┆          ┆          ┆ AGREGADO     ┆       ┆ 552          ┆ ADO-VALOR   ┆             │\n",
       "│          ┆          ┆          ┆              ┆       ┆              ┆ AGREGADO    ┆             │\n",
       "│          ┆          ┆          ┆              ┆       ┆              ┆ BR…         ┆             │\n",
       "│ ESR      ┆ COU      ┆ 01       ┆ VALOR        ┆ 10372 ┆ ESR-COU-01-2 ┆ VALOR AGREG ┆ 1           │\n",
       "│          ┆          ┆          ┆ AGREGADO     ┆       ┆ 555          ┆ ADO-VALOR   ┆             │\n",
       "│          ┆          ┆          ┆              ┆       ┆              ┆ AGREGADO    ┆             │\n",
       "│          ┆          ┆          ┆              ┆       ┆              ┆ BR…         ┆             │\n",
       "│ ESR      ┆ COU      ┆ 01       ┆ VALOR        ┆ 10378 ┆ ESR-COU-01-2 ┆ VALOR AGREG ┆ 1           │\n",
       "│          ┆          ┆          ┆ AGREGADO     ┆       ┆ 561          ┆ ADO-VALOR   ┆             │\n",
       "│          ┆          ┆          ┆              ┆       ┆              ┆ AGREGADO    ┆             │\n",
       "│          ┆          ┆          ┆              ┆       ┆              ┆ BR…         ┆             │\n",
       "└──────────┴──────────┴──────────┴──────────────┴───────┴──────────────┴─────────────┴─────────────┘"
      ]
     },
     "execution_count": 27,
     "metadata": {},
     "output_type": "execute_result"
    }
   ],
   "source": [
    "res_nivel_7(\n",
    "    \"ESR\",\"COU\",\n",
    "    \"Niv_Gr_3\",\n",
    "    \"01\",\n",
    "    \"Niv_Descr_1\",\"Id\",\"Nombre\",\"Descripcion\").filter(pl.col(\"Niv_Descr_1\") == \"VALOR AGREGADO\")"
   ]
  },
  {
   "cell_type": "markdown",
   "id": "51bf6067",
   "metadata": {},
   "source": [
    "Resultados de una sola variable:\n"
   ]
  },
  {
   "cell_type": "code",
   "execution_count": 28,
   "id": "f68af4bc",
   "metadata": {},
   "outputs": [
    {
     "name": "stderr",
     "output_type": "stream",
     "text": [
      "<string>:29: FutureWarning:\n",
      "\n",
      "Passing literal json to 'read_json' is deprecated and will be removed in a future version. To read from a literal string, wrap it in a 'StringIO' object.\n",
      "\n"
     ]
    },
    {
     "name": "stderr",
     "output_type": "stream",
     "text": [
      "<string>:29: FutureWarning:\n",
      "\n",
      "Passing literal json to 'read_json' is deprecated and will be removed in a future version. To read from a literal string, wrap it in a 'StringIO' object.\n",
      "\n"
     ]
    },
    {
     "data": {
      "text/html": [
       "<div><style>\n",
       ".dataframe > thead > tr,\n",
       ".dataframe > tbody > tr {\n",
       "  text-align: right;\n",
       "  white-space: pre-wrap;\n",
       "}\n",
       "</style>\n",
       "<small>shape: (23, 2)</small><table border=\"1\" class=\"dataframe\"><thead><tr><th>Fecha</th><th>VALOR AGREGADO-CONSUMO DE CAPITAL FIJO NO SOCIEDADES-AGRICULTURA, GANADERIA, CAZA, SILVICULTURA Y PESCA</th></tr><tr><td>date</td><td>f64</td></tr></thead><tbody><tr><td>2022-01-01</td><td>158.3</td></tr><tr><td>2021-01-01</td><td>150.3</td></tr><tr><td>2020-01-01</td><td>152.9</td></tr><tr><td>2019-01-01</td><td>157.9</td></tr><tr><td>2018-01-01</td><td>180.6</td></tr><tr><td>&hellip;</td><td>&hellip;</td></tr><tr><td>2004-01-01</td><td>119.6569</td></tr><tr><td>2003-01-01</td><td>118.6011</td></tr><tr><td>2002-01-01</td><td>111.2838</td></tr><tr><td>2001-01-01</td><td>99.3346</td></tr><tr><td>2000-01-01</td><td>502.5586</td></tr></tbody></table></div>"
      ],
      "text/plain": [
       "shape: (23, 2)\n",
       "┌────────────┬───────────────────────────────────┐\n",
       "│ Fecha      ┆ VALOR AGREGADO-CONSUMO DE CAPITA… │\n",
       "│ ---        ┆ ---                               │\n",
       "│ date       ┆ f64                               │\n",
       "╞════════════╪═══════════════════════════════════╡\n",
       "│ 2022-01-01 ┆ 158.3                             │\n",
       "│ 2021-01-01 ┆ 150.3                             │\n",
       "│ 2020-01-01 ┆ 152.9                             │\n",
       "│ 2019-01-01 ┆ 157.9                             │\n",
       "│ 2018-01-01 ┆ 180.6                             │\n",
       "│ …          ┆ …                                 │\n",
       "│ 2004-01-01 ┆ 119.6569                          │\n",
       "│ 2003-01-01 ┆ 118.6011                          │\n",
       "│ 2002-01-01 ┆ 111.2838                          │\n",
       "│ 2001-01-01 ┆ 99.3346                           │\n",
       "│ 2000-01-01 ┆ 502.5586                          │\n",
       "└────────────┴───────────────────────────────────┘"
      ]
     },
     "execution_count": 28,
     "metadata": {},
     "output_type": "execute_result"
    }
   ],
   "source": [
    "Id = 10024\n",
    "df = get_df(Id)\n",
    "# get_plot(Id)\n",
    "df"
   ]
  },
  {
   "cell_type": "markdown",
   "id": "fa2e7d17",
   "metadata": {},
   "source": [
    "##### OFERTA\n",
    "\n",
    "En el cuadro original, las filas son los productos a un nivel de dos dígitos de la Nomenclatura de Productos de Honduras (NPH) y las columnas son los componentes de la Oferta Agregada a Precios de Comprador (Producción, Importaciones CIF, Ajuste CIF/FOB, Impuestos y Subvenciones a los Productos y Márgenes de Distribución).\n"
   ]
  },
  {
   "cell_type": "code",
   "execution_count": 29,
   "id": "254f149c",
   "metadata": {},
   "outputs": [
    {
     "name": "stderr",
     "output_type": "stream",
     "text": [
      "<string>:29: FutureWarning:\n",
      "\n",
      "Passing literal json to 'read_json' is deprecated and will be removed in a future version. To read from a literal string, wrap it in a 'StringIO' object.\n",
      "\n"
     ]
    },
    {
     "data": {
      "text/html": [
       "<div><style>\n",
       ".dataframe > thead > tr,\n",
       ".dataframe > tbody > tr {\n",
       "  text-align: right;\n",
       "  white-space: pre-wrap;\n",
       "}\n",
       "</style>\n",
       "<small>shape: (580, 8)</small><table border=\"1\" class=\"dataframe\"><thead><tr><th>Niv_Gr_1</th><th>Niv_Gr_2</th><th>Niv_Gr_3</th><th>Niv_Descr_1</th><th>Id</th><th>Nombre</th><th>Descripcion</th><th>N_Variables</th></tr><tr><td>str</td><td>str</td><td>str</td><td>str</td><td>i64</td><td>str</td><td>str</td><td>u32</td></tr></thead><tbody><tr><td>&quot;ESR&quot;</td><td>&quot;COU&quot;</td><td>&quot;01&quot;</td><td>&quot;OFERTA&quot;</td><td>8902</td><td>&quot;ESR-COU-01-108…</td><td>&quot;OFERTA-BEBIDAS…</td><td>1</td></tr><tr><td>&quot;ESR&quot;</td><td>&quot;COU&quot;</td><td>&quot;01&quot;</td><td>&quot;OFERTA&quot;</td><td>8938</td><td>&quot;ESR-COU-01-112…</td><td>&quot;OFERTA-CARNE Y…</td><td>1</td></tr><tr><td>&quot;ESR&quot;</td><td>&quot;COU&quot;</td><td>&quot;01&quot;</td><td>&quot;OFERTA&quot;</td><td>8961</td><td>&quot;ESR-COU-01-114…</td><td>&quot;OFERTA-COMPRAS…</td><td>1</td></tr><tr><td>&quot;ESR&quot;</td><td>&quot;COU&quot;</td><td>&quot;01&quot;</td><td>&quot;OFERTA&quot;</td><td>9004</td><td>&quot;ESR-COU-01-118…</td><td>&quot;OFERTA-HOGARES…</td><td>1</td></tr><tr><td>&quot;ESR&quot;</td><td>&quot;COU&quot;</td><td>&quot;01&quot;</td><td>&quot;OFERTA&quot;</td><td>9027</td><td>&quot;ESR-COU-01-121…</td><td>&quot;OFERTA-MINERAL…</td><td>1</td></tr><tr><td>&hellip;</td><td>&hellip;</td><td>&hellip;</td><td>&hellip;</td><td>&hellip;</td><td>&hellip;</td><td>&hellip;</td><td>&hellip;</td></tr><tr><td>&quot;ESR&quot;</td><td>&quot;COU&quot;</td><td>&quot;01&quot;</td><td>&quot;OFERTA&quot;</td><td>9354</td><td>&quot;ESR-COU-01-153…</td><td>&quot;OFERTA-SERVICI…</td><td>1</td></tr><tr><td>&quot;ESR&quot;</td><td>&quot;COU&quot;</td><td>&quot;01&quot;</td><td>&quot;OFERTA&quot;</td><td>9362</td><td>&quot;ESR-COU-01-154…</td><td>&quot;OFERTA-SERVICI…</td><td>1</td></tr><tr><td>&quot;ESR&quot;</td><td>&quot;COU&quot;</td><td>&quot;01&quot;</td><td>&quot;OFERTA&quot;</td><td>9370</td><td>&quot;ESR-COU-01-155…</td><td>&quot;OFERTA-SERVICI…</td><td>1</td></tr><tr><td>&quot;ESR&quot;</td><td>&quot;COU&quot;</td><td>&quot;01&quot;</td><td>&quot;OFERTA&quot;</td><td>9413</td><td>&quot;ESR-COU-01-159…</td><td>&quot;OFERTA-TRIGO-I…</td><td>1</td></tr><tr><td>&quot;ESR&quot;</td><td>&quot;COU&quot;</td><td>&quot;01&quot;</td><td>&quot;OFERTA&quot;</td><td>9426</td><td>&quot;ESR-COU-01-160…</td><td>&quot;OFERTA-TUBÉRCU…</td><td>1</td></tr></tbody></table></div>"
      ],
      "text/plain": [
       "shape: (580, 8)\n",
       "┌──────────┬──────────┬──────────┬─────────────┬──────┬───────────────┬──────────────┬─────────────┐\n",
       "│ Niv_Gr_1 ┆ Niv_Gr_2 ┆ Niv_Gr_3 ┆ Niv_Descr_1 ┆ Id   ┆ Nombre        ┆ Descripcion  ┆ N_Variables │\n",
       "│ ---      ┆ ---      ┆ ---      ┆ ---         ┆ ---  ┆ ---           ┆ ---          ┆ ---         │\n",
       "│ str      ┆ str      ┆ str      ┆ str         ┆ i64  ┆ str           ┆ str          ┆ u32         │\n",
       "╞══════════╪══════════╪══════════╪═════════════╪══════╪═══════════════╪══════════════╪═════════════╡\n",
       "│ ESR      ┆ COU      ┆ 01       ┆ OFERTA      ┆ 8902 ┆ ESR-COU-01-10 ┆ OFERTA-BEBID ┆ 1           │\n",
       "│          ┆          ┆          ┆             ┆      ┆ 85            ┆ AS-AJUSTE    ┆             │\n",
       "│          ┆          ┆          ┆             ┆      ┆               ┆ CIF/FOB SO…  ┆             │\n",
       "│ ESR      ┆ COU      ┆ 01       ┆ OFERTA      ┆ 8938 ┆ ESR-COU-01-11 ┆ OFERTA-CARNE ┆ 1           │\n",
       "│          ┆          ┆          ┆             ┆      ┆ 21            ┆ Y PRODUCTOS  ┆             │\n",
       "│          ┆          ┆          ┆             ┆      ┆               ┆ DE CARN…     ┆             │\n",
       "│ ESR      ┆ COU      ┆ 01       ┆ OFERTA      ┆ 8961 ┆ ESR-COU-01-11 ┆ OFERTA-COMPR ┆ 1           │\n",
       "│          ┆          ┆          ┆             ┆      ┆ 44            ┆ AS DIRECTAS  ┆             │\n",
       "│          ┆          ┆          ┆             ┆      ┆               ┆ EN EL EX…    ┆             │\n",
       "│ ESR      ┆ COU      ┆ 01       ┆ OFERTA      ┆ 9004 ┆ ESR-COU-01-11 ┆ OFERTA-HOGAR ┆ 1           │\n",
       "│          ┆          ┆          ┆             ┆      ┆ 87            ┆ ES PRIVADOS  ┆             │\n",
       "│          ┆          ┆          ┆             ┆      ┆               ┆ CON SERV…    ┆             │\n",
       "│ ESR      ┆ COU      ┆ 01       ┆ OFERTA      ┆ 9027 ┆ ESR-COU-01-12 ┆ OFERTA-MINER ┆ 1           │\n",
       "│          ┆          ┆          ┆             ┆      ┆ 10            ┆ ALES METÁLIC ┆             │\n",
       "│          ┆          ┆          ┆             ┆      ┆               ┆ OS-SUBVE…    ┆             │\n",
       "│ …        ┆ …        ┆ …        ┆ …           ┆ …    ┆ …             ┆ …            ┆ …           │\n",
       "│ ESR      ┆ COU      ┆ 01       ┆ OFERTA      ┆ 9354 ┆ ESR-COU-01-15 ┆ OFERTA-SERVI ┆ 1           │\n",
       "│          ┆          ┆          ┆             ┆      ┆ 37            ┆ CIOS INMOBIL ┆             │\n",
       "│          ┆          ┆          ┆             ┆      ┆               ┆ IARIOS-I…    ┆             │\n",
       "│ ESR      ┆ COU      ┆ 01       ┆ OFERTA      ┆ 9362 ┆ ESR-COU-01-15 ┆ OFERTA-SERVI ┆ 1           │\n",
       "│          ┆          ┆          ┆             ┆      ┆ 45            ┆ CIOS PROPORC ┆             │\n",
       "│          ┆          ┆          ┆             ┆      ┆               ┆ IONADOS …    ┆             │\n",
       "│ ESR      ┆ COU      ┆ 01       ┆ OFERTA      ┆ 9370 ┆ ESR-COU-01-15 ┆ OFERTA-SERVI ┆ 1           │\n",
       "│          ┆          ┆          ┆             ┆      ┆ 53            ┆ CIOS PROPORC ┆             │\n",
       "│          ┆          ┆          ┆             ┆      ┆               ┆ IONADOS …    ┆             │\n",
       "│ ESR      ┆ COU      ┆ 01       ┆ OFERTA      ┆ 9413 ┆ ESR-COU-01-15 ┆ OFERTA-TRIGO ┆ 1           │\n",
       "│          ┆          ┆          ┆             ┆      ┆ 96            ┆ -IMPORTACION ┆             │\n",
       "│          ┆          ┆          ┆             ┆      ┆               ┆ ES CIF D…    ┆             │\n",
       "│ ESR      ┆ COU      ┆ 01       ┆ OFERTA      ┆ 9426 ┆ ESR-COU-01-16 ┆ OFERTA-TUBÉR ┆ 1           │\n",
       "│          ┆          ┆          ┆             ┆      ┆ 09            ┆ CULOS,       ┆             │\n",
       "│          ┆          ┆          ┆             ┆      ┆               ┆ RAÍCES,      ┆             │\n",
       "│          ┆          ┆          ┆             ┆      ┆               ┆ LEGUM…       ┆             │\n",
       "└──────────┴──────────┴──────────┴─────────────┴──────┴───────────────┴──────────────┴─────────────┘"
      ]
     },
     "execution_count": 29,
     "metadata": {},
     "output_type": "execute_result"
    }
   ],
   "source": [
    "res_nivel_7(\n",
    "    \"ESR\",\"COU\",\n",
    "    \"Niv_Gr_3\",\n",
    "    \"01\",\n",
    "    \"Niv_Descr_1\",\"Id\",\"Nombre\",\"Descripcion\").filter(pl.col(\"Niv_Descr_1\") == \"OFERTA\")"
   ]
  },
  {
   "cell_type": "markdown",
   "id": "b3a69144",
   "metadata": {},
   "source": [
    "Resultados de una sola variable:\n"
   ]
  },
  {
   "cell_type": "code",
   "execution_count": 30,
   "id": "989ccdd5",
   "metadata": {},
   "outputs": [
    {
     "name": "stderr",
     "output_type": "stream",
     "text": [
      "<string>:29: FutureWarning:\n",
      "\n",
      "Passing literal json to 'read_json' is deprecated and will be removed in a future version. To read from a literal string, wrap it in a 'StringIO' object.\n",
      "\n"
     ]
    },
    {
     "name": "stderr",
     "output_type": "stream",
     "text": [
      "<string>:29: FutureWarning:\n",
      "\n",
      "Passing literal json to 'read_json' is deprecated and will be removed in a future version. To read from a literal string, wrap it in a 'StringIO' object.\n",
      "\n"
     ]
    },
    {
     "data": {
      "text/html": [
       "<div><style>\n",
       ".dataframe > thead > tr,\n",
       ".dataframe > tbody > tr {\n",
       "  text-align: right;\n",
       "  white-space: pre-wrap;\n",
       "}\n",
       "</style>\n",
       "<small>shape: (23, 2)</small><table border=\"1\" class=\"dataframe\"><thead><tr><th>Fecha</th><th>OFERTA-ANIMALES VIVOS-TOTAL</th></tr><tr><td>date</td><td>f64</td></tr></thead><tbody><tr><td>2022-01-01</td><td>295.1</td></tr><tr><td>2021-01-01</td><td>204.6</td></tr><tr><td>2020-01-01</td><td>202.3</td></tr><tr><td>2019-01-01</td><td>223.0</td></tr><tr><td>2018-01-01</td><td>216.1</td></tr><tr><td>&hellip;</td><td>&hellip;</td></tr><tr><td>2004-01-01</td><td>57.6104</td></tr><tr><td>2003-01-01</td><td>55.0125</td></tr><tr><td>2002-01-01</td><td>55.1843</td></tr><tr><td>2001-01-01</td><td>53.1902</td></tr><tr><td>2000-01-01</td><td>51.0864</td></tr></tbody></table></div>"
      ],
      "text/plain": [
       "shape: (23, 2)\n",
       "┌────────────┬─────────────────────────────┐\n",
       "│ Fecha      ┆ OFERTA-ANIMALES VIVOS-TOTAL │\n",
       "│ ---        ┆ ---                         │\n",
       "│ date       ┆ f64                         │\n",
       "╞════════════╪═════════════════════════════╡\n",
       "│ 2022-01-01 ┆ 295.1                       │\n",
       "│ 2021-01-01 ┆ 204.6                       │\n",
       "│ 2020-01-01 ┆ 202.3                       │\n",
       "│ 2019-01-01 ┆ 223.0                       │\n",
       "│ 2018-01-01 ┆ 216.1                       │\n",
       "│ …          ┆ …                           │\n",
       "│ 2004-01-01 ┆ 57.6104                     │\n",
       "│ 2003-01-01 ┆ 55.0125                     │\n",
       "│ 2002-01-01 ┆ 55.1843                     │\n",
       "│ 2001-01-01 ┆ 53.1902                     │\n",
       "│ 2000-01-01 ┆ 51.0864                     │\n",
       "└────────────┴─────────────────────────────┘"
      ]
     },
     "execution_count": 30,
     "metadata": {},
     "output_type": "execute_result"
    }
   ],
   "source": [
    "Id = 8878\n",
    "df = get_df(Id)\n",
    "# get_plot(Id)\n",
    "df"
   ]
  },
  {
   "cell_type": "markdown",
   "id": "da0b7b42",
   "metadata": {},
   "source": [
    "##### UTILIZACIÓN\n",
    "\n",
    "En el cuadro original, las filas son los productos a un nivel de dos dígitos de la Nomenclatura de Productos de Honduras (NPH) y las columnas son los componentes de la Utilización Agregada a Precios de Comprador (Consumo Intermedio, Exportciones FOB, Gasto de Consumo Final y Formación Bruta de Capital).\n"
   ]
  },
  {
   "cell_type": "code",
   "execution_count": 31,
   "id": "74e0f06d",
   "metadata": {},
   "outputs": [
    {
     "name": "stderr",
     "output_type": "stream",
     "text": [
      "<string>:29: FutureWarning:\n",
      "\n",
      "Passing literal json to 'read_json' is deprecated and will be removed in a future version. To read from a literal string, wrap it in a 'StringIO' object.\n",
      "\n"
     ]
    },
    {
     "data": {
      "text/html": [
       "<div><style>\n",
       ".dataframe > thead > tr,\n",
       ".dataframe > tbody > tr {\n",
       "  text-align: right;\n",
       "  white-space: pre-wrap;\n",
       "}\n",
       "</style>\n",
       "<small>shape: (580, 8)</small><table border=\"1\" class=\"dataframe\"><thead><tr><th>Niv_Gr_1</th><th>Niv_Gr_2</th><th>Niv_Gr_3</th><th>Niv_Descr_1</th><th>Id</th><th>Nombre</th><th>Descripcion</th><th>N_Variables</th></tr><tr><td>str</td><td>str</td><td>str</td><td>str</td><td>i64</td><td>str</td><td>str</td><td>u32</td></tr></thead><tbody><tr><td>&quot;ESR&quot;</td><td>&quot;COU&quot;</td><td>&quot;01&quot;</td><td>&quot;UTILIZACIÓN&quot;</td><td>9447</td><td>&quot;ESR-COU-01-163…</td><td>&quot;UTILIZACIÓN-AC…</td><td>1</td></tr><tr><td>&quot;ESR&quot;</td><td>&quot;COU&quot;</td><td>&quot;01&quot;</td><td>&quot;UTILIZACIÓN&quot;</td><td>9451</td><td>&quot;ESR-COU-01-163…</td><td>&quot;UTILIZACIÓN-AC…</td><td>1</td></tr><tr><td>&quot;ESR&quot;</td><td>&quot;COU&quot;</td><td>&quot;01&quot;</td><td>&quot;UTILIZACIÓN&quot;</td><td>9543</td><td>&quot;ESR-COU-01-172…</td><td>&quot;UTILIZACIÓN-CO…</td><td>1</td></tr><tr><td>&quot;ESR&quot;</td><td>&quot;COU&quot;</td><td>&quot;01&quot;</td><td>&quot;UTILIZACIÓN&quot;</td><td>9578</td><td>&quot;ESR-COU-01-176…</td><td>&quot;UTILIZACIÓN-GR…</td><td>1</td></tr><tr><td>&quot;ESR&quot;</td><td>&quot;COU&quot;</td><td>&quot;01&quot;</td><td>&quot;UTILIZACIÓN&quot;</td><td>9586</td><td>&quot;ESR-COU-01-176…</td><td>&quot;UTILIZACIÓN-HO…</td><td>1</td></tr><tr><td>&hellip;</td><td>&hellip;</td><td>&hellip;</td><td>&hellip;</td><td>&hellip;</td><td>&hellip;</td><td>&hellip;</td><td>&hellip;</td></tr><tr><td>&quot;ESR&quot;</td><td>&quot;COU&quot;</td><td>&quot;01&quot;</td><td>&quot;UTILIZACIÓN&quot;</td><td>9955</td><td>&quot;ESR-COU-01-213…</td><td>&quot;UTILIZACIÓN-SU…</td><td>1</td></tr><tr><td>&quot;ESR&quot;</td><td>&quot;COU&quot;</td><td>&quot;01&quot;</td><td>&quot;UTILIZACIÓN&quot;</td><td>9956</td><td>&quot;ESR-COU-01-213…</td><td>&quot;UTILIZACIÓN-SU…</td><td>1</td></tr><tr><td>&quot;ESR&quot;</td><td>&quot;COU&quot;</td><td>&quot;01&quot;</td><td>&quot;UTILIZACIÓN&quot;</td><td>9983</td><td>&quot;ESR-COU-01-216…</td><td>&quot;UTILIZACIÓN-TO…</td><td>1</td></tr><tr><td>&quot;ESR&quot;</td><td>&quot;COU&quot;</td><td>&quot;01&quot;</td><td>&quot;UTILIZACIÓN&quot;</td><td>10002</td><td>&quot;ESR-COU-01-218…</td><td>&quot;UTILIZACIÓN-TU…</td><td>1</td></tr><tr><td>&quot;ESR&quot;</td><td>&quot;COU&quot;</td><td>&quot;01&quot;</td><td>&quot;UTILIZACIÓN&quot;</td><td>10006</td><td>&quot;ESR-COU-01-218…</td><td>&quot;UTILIZACIÓN-TU…</td><td>1</td></tr></tbody></table></div>"
      ],
      "text/plain": [
       "shape: (580, 8)\n",
       "┌──────────┬──────────┬──────────┬─────────────┬───────┬──────────────┬──────────────┬─────────────┐\n",
       "│ Niv_Gr_1 ┆ Niv_Gr_2 ┆ Niv_Gr_3 ┆ Niv_Descr_1 ┆ Id    ┆ Nombre       ┆ Descripcion  ┆ N_Variables │\n",
       "│ ---      ┆ ---      ┆ ---      ┆ ---         ┆ ---   ┆ ---          ┆ ---          ┆ ---         │\n",
       "│ str      ┆ str      ┆ str      ┆ str         ┆ i64   ┆ str          ┆ str          ┆ u32         │\n",
       "╞══════════╪══════════╪══════════╪═════════════╪═══════╪══════════════╪══════════════╪═════════════╡\n",
       "│ ESR      ┆ COU      ┆ 01       ┆ UTILIZACIÓN ┆ 9447  ┆ ESR-COU-01-1 ┆ UTILIZACIÓN- ┆ 1           │\n",
       "│          ┆          ┆          ┆             ┆       ┆ 630          ┆ ACEITES Y    ┆             │\n",
       "│          ┆          ┆          ┆             ┆       ┆              ┆ GRASAS ANI…  ┆             │\n",
       "│ ESR      ┆ COU      ┆ 01       ┆ UTILIZACIÓN ┆ 9451  ┆ ESR-COU-01-1 ┆ UTILIZACIÓN- ┆ 1           │\n",
       "│          ┆          ┆          ┆             ┆       ┆ 634          ┆ ACEITES Y    ┆             │\n",
       "│          ┆          ┆          ┆             ┆       ┆              ┆ GRASAS ANI…  ┆             │\n",
       "│ ESR      ┆ COU      ┆ 01       ┆ UTILIZACIÓN ┆ 9543  ┆ ESR-COU-01-1 ┆ UTILIZACIÓN- ┆ 1           │\n",
       "│          ┆          ┆          ┆             ┆       ┆ 726          ┆ CONSTRUCCIÓN ┆             │\n",
       "│          ┆          ┆          ┆             ┆       ┆              ┆ -FORMACI…    ┆             │\n",
       "│ ESR      ┆ COU      ┆ 01       ┆ UTILIZACIÓN ┆ 9578  ┆ ESR-COU-01-1 ┆ UTILIZACIÓN- ┆ 1           │\n",
       "│          ┆          ┆          ┆             ┆       ┆ 761          ┆ GRANOS BÁSIC ┆             │\n",
       "│          ┆          ┆          ┆             ┆       ┆              ┆ OS-TOTAL…    ┆             │\n",
       "│ ESR      ┆ COU      ┆ 01       ┆ UTILIZACIÓN ┆ 9586  ┆ ESR-COU-01-1 ┆ UTILIZACIÓN- ┆ 1           │\n",
       "│          ┆          ┆          ┆             ┆       ┆ 769          ┆ HOGARES      ┆             │\n",
       "│          ┆          ┆          ┆             ┆       ┆              ┆ PRIVADOS     ┆             │\n",
       "│          ┆          ┆          ┆             ┆       ┆              ┆ CON…         ┆             │\n",
       "│ …        ┆ …        ┆ …        ┆ …           ┆ …     ┆ …            ┆ …            ┆ …           │\n",
       "│ ESR      ┆ COU      ┆ 01       ┆ UTILIZACIÓN ┆ 9955  ┆ ESR-COU-01-2 ┆ UTILIZACIÓN- ┆ 1           │\n",
       "│          ┆          ┆          ┆             ┆       ┆ 138          ┆ SUSTANCIAS Y ┆             │\n",
       "│          ┆          ┆          ┆             ┆       ┆              ┆ PRODUCT…     ┆             │\n",
       "│ ESR      ┆ COU      ┆ 01       ┆ UTILIZACIÓN ┆ 9956  ┆ ESR-COU-01-2 ┆ UTILIZACIÓN- ┆ 1           │\n",
       "│          ┆          ┆          ┆             ┆       ┆ 139          ┆ SUSTANCIAS Y ┆             │\n",
       "│          ┆          ┆          ┆             ┆       ┆              ┆ PRODUCT…     ┆             │\n",
       "│ ESR      ┆ COU      ┆ 01       ┆ UTILIZACIÓN ┆ 9983  ┆ ESR-COU-01-2 ┆ UTILIZACIÓN- ┆ 1           │\n",
       "│          ┆          ┆          ┆             ┆       ┆ 166          ┆ TOTAL-FORMAC ┆             │\n",
       "│          ┆          ┆          ┆             ┆       ┆              ┆ IÓN BRUT…    ┆             │\n",
       "│ ESR      ┆ COU      ┆ 01       ┆ UTILIZACIÓN ┆ 10002 ┆ ESR-COU-01-2 ┆ UTILIZACIÓN- ┆ 1           │\n",
       "│          ┆          ┆          ┆             ┆       ┆ 185          ┆ TUBÉRCULOS,  ┆             │\n",
       "│          ┆          ┆          ┆             ┆       ┆              ┆ RAÍCES, …    ┆             │\n",
       "│ ESR      ┆ COU      ┆ 01       ┆ UTILIZACIÓN ┆ 10006 ┆ ESR-COU-01-2 ┆ UTILIZACIÓN- ┆ 1           │\n",
       "│          ┆          ┆          ┆             ┆       ┆ 189          ┆ TUBÉRCULOS,  ┆             │\n",
       "│          ┆          ┆          ┆             ┆       ┆              ┆ RAÍCES, …    ┆             │\n",
       "└──────────┴──────────┴──────────┴─────────────┴───────┴──────────────┴──────────────┴─────────────┘"
      ]
     },
     "execution_count": 31,
     "metadata": {},
     "output_type": "execute_result"
    }
   ],
   "source": [
    "res_nivel_7(\n",
    "    \"ESR\",\"COU\",\n",
    "    \"Niv_Gr_3\",\n",
    "    \"01\",\n",
    "    \"Niv_Descr_1\",\"Id\",\"Nombre\",\"Descripcion\").filter(pl.col(\"Niv_Descr_1\") == \"UTILIZACIÓN\")"
   ]
  },
  {
   "cell_type": "markdown",
   "id": "b8eda8df",
   "metadata": {},
   "source": [
    "Tomar en cuenta que, para realizar el cálculo del VAB por NAEH, se debe sumar las columnas de Valor Bruto de Producción y restar las de Consumo Intermedio; adicionalmente, como los datos correspondientes a Impuestos sobre los Productos y los Márgenes de Distribución solamente se encuentran a nivel de NPH, no se puede tener un VAB total que se obtenga por suma de VAB a nivel de actividad individual, en vista que debe restarse las de Subvenciones a los productos, mismas que se encuentran en el Cuadro de Oferta solamente a nivel de NPH. Esta forma de obtener el VAB se conoce como el cálculo del PIB por el enfoque del Ingreso.\n",
    "\n",
    "Como la Oferta y Utilización están detalladas a nivel de NPH, el VAB por NPH a partir de los dos detalles previos, se puede obtener por dos métodos:\n",
    "\n",
    "1. Suma de Producción + Impuestos - Subvenciones a los Productos + Márgenes de Distribución (Oferta) - Consumo Intermedio (Utilización) => PIB por el enfoque de la Produccion.\n",
    "2. Exportaciones FOB + Gasto de Consumo Final + Formación Bruta de Capital (Utilización) - Importaciones CIF - Ajuste CIF/FOB (Oferta) => PIB por el enfoque del Gasto.\n",
    "\n",
    "Para saber el contenido de todas las variables:\n"
   ]
  },
  {
   "cell_type": "code",
   "execution_count": 32,
   "id": "8a5e92f9",
   "metadata": {},
   "outputs": [
    {
     "name": "stderr",
     "output_type": "stream",
     "text": [
      "<string>:29: FutureWarning:\n",
      "\n",
      "Passing literal json to 'read_json' is deprecated and will be removed in a future version. To read from a literal string, wrap it in a 'StringIO' object.\n",
      "\n"
     ]
    },
    {
     "data": {
      "text/html": [
       "<div><style>\n",
       ".dataframe > thead > tr,\n",
       ".dataframe > tbody > tr {\n",
       "  text-align: right;\n",
       "  white-space: pre-wrap;\n",
       "}\n",
       "</style>\n",
       "<small>shape: (3_608, 8)</small><table border=\"1\" class=\"dataframe\"><thead><tr><th>Niv_Gr_1</th><th>Niv_Gr_2</th><th>Niv_Gr_3</th><th>Id</th><th>Niv_Descr_1</th><th>Nombre</th><th>Descripcion</th><th>N_Variables</th></tr><tr><td>str</td><td>str</td><td>str</td><td>i64</td><td>str</td><td>str</td><td>str</td><td>u32</td></tr></thead><tbody><tr><td>&quot;ESR&quot;</td><td>&quot;COU&quot;</td><td>&quot;01&quot;</td><td>7818</td><td>&quot;CONSUMO INTERM…</td><td>&quot;ESR-COU-01-1&quot;</td><td>&quot;CONSUMO INTERM…</td><td>1</td></tr><tr><td>&quot;ESR&quot;</td><td>&quot;COU&quot;</td><td>&quot;01&quot;</td><td>7819</td><td>&quot;CONSUMO INTERM…</td><td>&quot;ESR-COU-01-2&quot;</td><td>&quot;CONSUMO INTERM…</td><td>1</td></tr><tr><td>&quot;ESR&quot;</td><td>&quot;COU&quot;</td><td>&quot;01&quot;</td><td>7820</td><td>&quot;CONSUMO INTERM…</td><td>&quot;ESR-COU-01-3&quot;</td><td>&quot;CONSUMO INTERM…</td><td>1</td></tr><tr><td>&quot;ESR&quot;</td><td>&quot;COU&quot;</td><td>&quot;01&quot;</td><td>7821</td><td>&quot;CONSUMO INTERM…</td><td>&quot;ESR-COU-01-4&quot;</td><td>&quot;CONSUMO INTERM…</td><td>1</td></tr><tr><td>&quot;ESR&quot;</td><td>&quot;COU&quot;</td><td>&quot;01&quot;</td><td>7822</td><td>&quot;CONSUMO INTERM…</td><td>&quot;ESR-COU-01-5&quot;</td><td>&quot;CONSUMO INTERM…</td><td>1</td></tr><tr><td>&hellip;</td><td>&hellip;</td><td>&hellip;</td><td>&hellip;</td><td>&hellip;</td><td>&hellip;</td><td>&hellip;</td><td>&hellip;</td></tr><tr><td>&quot;ESR&quot;</td><td>&quot;COU&quot;</td><td>&quot;01&quot;</td><td>11421</td><td>&quot;VALOR BRUTO DE…</td><td>&quot;ESR-COU-01-360…</td><td>&quot;VALOR BRUTO DE…</td><td>1</td></tr><tr><td>&quot;ESR&quot;</td><td>&quot;COU&quot;</td><td>&quot;01&quot;</td><td>11422</td><td>&quot;VALOR BRUTO DE…</td><td>&quot;ESR-COU-01-360…</td><td>&quot;VALOR BRUTO DE…</td><td>1</td></tr><tr><td>&quot;ESR&quot;</td><td>&quot;COU&quot;</td><td>&quot;01&quot;</td><td>11423</td><td>&quot;VALOR BRUTO DE…</td><td>&quot;ESR-COU-01-360…</td><td>&quot;VALOR BRUTO DE…</td><td>1</td></tr><tr><td>&quot;ESR&quot;</td><td>&quot;COU&quot;</td><td>&quot;01&quot;</td><td>11424</td><td>&quot;VALOR BRUTO DE…</td><td>&quot;ESR-COU-01-360…</td><td>&quot;VALOR BRUTO DE…</td><td>1</td></tr><tr><td>&quot;ESR&quot;</td><td>&quot;COU&quot;</td><td>&quot;01&quot;</td><td>11425</td><td>&quot;VALOR BRUTO DE…</td><td>&quot;ESR-COU-01-360…</td><td>&quot;VALOR BRUTO DE…</td><td>1</td></tr></tbody></table></div>"
      ],
      "text/plain": [
       "shape: (3_608, 8)\n",
       "┌──────────┬──────────┬──────────┬───────┬──────────────┬──────────────┬─────────────┬─────────────┐\n",
       "│ Niv_Gr_1 ┆ Niv_Gr_2 ┆ Niv_Gr_3 ┆ Id    ┆ Niv_Descr_1  ┆ Nombre       ┆ Descripcion ┆ N_Variables │\n",
       "│ ---      ┆ ---      ┆ ---      ┆ ---   ┆ ---          ┆ ---          ┆ ---         ┆ ---         │\n",
       "│ str      ┆ str      ┆ str      ┆ i64   ┆ str          ┆ str          ┆ str         ┆ u32         │\n",
       "╞══════════╪══════════╪══════════╪═══════╪══════════════╪══════════════╪═════════════╪═════════════╡\n",
       "│ ESR      ┆ COU      ┆ 01       ┆ 7818  ┆ CONSUMO      ┆ ESR-COU-01-1 ┆ CONSUMO INT ┆ 1           │\n",
       "│          ┆          ┆          ┆       ┆ INTERMEDIO   ┆              ┆ ERMEDIO-ACE ┆             │\n",
       "│          ┆          ┆          ┆       ┆              ┆              ┆ ITES Y GRA… ┆             │\n",
       "│ ESR      ┆ COU      ┆ 01       ┆ 7819  ┆ CONSUMO      ┆ ESR-COU-01-2 ┆ CONSUMO INT ┆ 1           │\n",
       "│          ┆          ┆          ┆       ┆ INTERMEDIO   ┆              ┆ ERMEDIO-ACE ┆             │\n",
       "│          ┆          ┆          ┆       ┆              ┆              ┆ ITES Y GRA… ┆             │\n",
       "│ ESR      ┆ COU      ┆ 01       ┆ 7820  ┆ CONSUMO      ┆ ESR-COU-01-3 ┆ CONSUMO INT ┆ 1           │\n",
       "│          ┆          ┆          ┆       ┆ INTERMEDIO   ┆              ┆ ERMEDIO-ACE ┆             │\n",
       "│          ┆          ┆          ┆       ┆              ┆              ┆ ITES Y GRA… ┆             │\n",
       "│ ESR      ┆ COU      ┆ 01       ┆ 7821  ┆ CONSUMO      ┆ ESR-COU-01-4 ┆ CONSUMO INT ┆ 1           │\n",
       "│          ┆          ┆          ┆       ┆ INTERMEDIO   ┆              ┆ ERMEDIO-ACE ┆             │\n",
       "│          ┆          ┆          ┆       ┆              ┆              ┆ ITES Y GRA… ┆             │\n",
       "│ ESR      ┆ COU      ┆ 01       ┆ 7822  ┆ CONSUMO      ┆ ESR-COU-01-5 ┆ CONSUMO INT ┆ 1           │\n",
       "│          ┆          ┆          ┆       ┆ INTERMEDIO   ┆              ┆ ERMEDIO-ACE ┆             │\n",
       "│          ┆          ┆          ┆       ┆              ┆              ┆ ITES Y GRA… ┆             │\n",
       "│ …        ┆ …        ┆ …        ┆ …     ┆ …            ┆ …            ┆ …           ┆ …           │\n",
       "│ ESR      ┆ COU      ┆ 01       ┆ 11421 ┆ VALOR BRUTO  ┆ ESR-COU-01-3 ┆ VALOR BRUTO ┆ 1           │\n",
       "│          ┆          ┆          ┆       ┆ DE           ┆ 604          ┆ DE PRODUCCI ┆             │\n",
       "│          ┆          ┆          ┆       ┆ PRODUCCIÓN   ┆              ┆ ÓN-VIDRIO…  ┆             │\n",
       "│ ESR      ┆ COU      ┆ 01       ┆ 11422 ┆ VALOR BRUTO  ┆ ESR-COU-01-3 ┆ VALOR BRUTO ┆ 1           │\n",
       "│          ┆          ┆          ┆       ┆ DE           ┆ 605          ┆ DE PRODUCCI ┆             │\n",
       "│          ┆          ┆          ┆       ┆ PRODUCCIÓN   ┆              ┆ ÓN-VIDRIO…  ┆             │\n",
       "│ ESR      ┆ COU      ┆ 01       ┆ 11423 ┆ VALOR BRUTO  ┆ ESR-COU-01-3 ┆ VALOR BRUTO ┆ 1           │\n",
       "│          ┆          ┆          ┆       ┆ DE           ┆ 606          ┆ DE PRODUCCI ┆             │\n",
       "│          ┆          ┆          ┆       ┆ PRODUCCIÓN   ┆              ┆ ÓN-VIDRIO…  ┆             │\n",
       "│ ESR      ┆ COU      ┆ 01       ┆ 11424 ┆ VALOR BRUTO  ┆ ESR-COU-01-3 ┆ VALOR BRUTO ┆ 1           │\n",
       "│          ┆          ┆          ┆       ┆ DE           ┆ 607          ┆ DE PRODUCCI ┆             │\n",
       "│          ┆          ┆          ┆       ┆ PRODUCCIÓN   ┆              ┆ ÓN-VIDRIO…  ┆             │\n",
       "│ ESR      ┆ COU      ┆ 01       ┆ 11425 ┆ VALOR BRUTO  ┆ ESR-COU-01-3 ┆ VALOR BRUTO ┆ 1           │\n",
       "│          ┆          ┆          ┆       ┆ DE           ┆ 608          ┆ DE PRODUCCI ┆             │\n",
       "│          ┆          ┆          ┆       ┆ PRODUCCIÓN   ┆              ┆ ÓN-VIDRIO…  ┆             │\n",
       "└──────────┴──────────┴──────────┴───────┴──────────────┴──────────────┴─────────────┴─────────────┘"
      ]
     },
     "execution_count": 32,
     "metadata": {},
     "output_type": "execute_result"
    }
   ],
   "source": [
    "res_nivel_7(\n",
    "    \"ESR\",\"COU\",\n",
    "    \"Niv_Gr_3\",\n",
    "    \"01\",\n",
    "    \"Id\",\"Niv_Descr_1\",\"Nombre\",\"Descripcion\").sort(\"Id\")"
   ]
  },
  {
   "cell_type": "markdown",
   "id": "5fdbd407",
   "metadata": {},
   "source": [
    "Resultados de una sola variable:\n"
   ]
  },
  {
   "cell_type": "code",
   "execution_count": 33,
   "id": "8618b12e",
   "metadata": {},
   "outputs": [
    {
     "name": "stderr",
     "output_type": "stream",
     "text": [
      "<string>:29: FutureWarning:\n",
      "\n",
      "Passing literal json to 'read_json' is deprecated and will be removed in a future version. To read from a literal string, wrap it in a 'StringIO' object.\n",
      "\n"
     ]
    },
    {
     "name": "stderr",
     "output_type": "stream",
     "text": [
      "<string>:29: FutureWarning:\n",
      "\n",
      "Passing literal json to 'read_json' is deprecated and will be removed in a future version. To read from a literal string, wrap it in a 'StringIO' object.\n",
      "\n"
     ]
    },
    {
     "data": {
      "text/html": [
       "<div><style>\n",
       ".dataframe > thead > tr,\n",
       ".dataframe > tbody > tr {\n",
       "  text-align: right;\n",
       "  white-space: pre-wrap;\n",
       "}\n",
       "</style>\n",
       "<small>shape: (23, 2)</small><table border=\"1\" class=\"dataframe\"><thead><tr><th>Fecha</th><th>UTILIZACIÓN-AZÚCAR Y MELAZAS-GASTO DE CONSUMO FINAL HOGARES</th></tr><tr><td>date</td><td>f64</td></tr></thead><tbody><tr><td>2022-01-01</td><td>4206.8</td></tr><tr><td>2021-01-01</td><td>3931.1</td></tr><tr><td>2020-01-01</td><td>4047.3</td></tr><tr><td>2019-01-01</td><td>4790.1</td></tr><tr><td>2018-01-01</td><td>4614.6</td></tr><tr><td>&hellip;</td><td>&hellip;</td></tr><tr><td>2004-01-01</td><td>1641.5371</td></tr><tr><td>2003-01-01</td><td>1462.889</td></tr><tr><td>2002-01-01</td><td>1273.3699</td></tr><tr><td>2001-01-01</td><td>1205.4408</td></tr><tr><td>2000-01-01</td><td>1123.2441</td></tr></tbody></table></div>"
      ],
      "text/plain": [
       "shape: (23, 2)\n",
       "┌────────────┬───────────────────────────────────┐\n",
       "│ Fecha      ┆ UTILIZACIÓN-AZÚCAR Y MELAZAS-GAS… │\n",
       "│ ---        ┆ ---                               │\n",
       "│ date       ┆ f64                               │\n",
       "╞════════════╪═══════════════════════════════════╡\n",
       "│ 2022-01-01 ┆ 4206.8                            │\n",
       "│ 2021-01-01 ┆ 3931.1                            │\n",
       "│ 2020-01-01 ┆ 4047.3                            │\n",
       "│ 2019-01-01 ┆ 4790.1                            │\n",
       "│ 2018-01-01 ┆ 4614.6                            │\n",
       "│ …          ┆ …                                 │\n",
       "│ 2004-01-01 ┆ 1641.5371                         │\n",
       "│ 2003-01-01 ┆ 1462.889                          │\n",
       "│ 2002-01-01 ┆ 1273.3699                         │\n",
       "│ 2001-01-01 ┆ 1205.4408                         │\n",
       "│ 2000-01-01 ┆ 1123.2441                         │\n",
       "└────────────┴───────────────────────────────────┘"
      ]
     },
     "execution_count": 33,
     "metadata": {},
     "output_type": "execute_result"
    }
   ],
   "source": [
    "Id = 9465\n",
    "df = get_df(Id)\n",
    "# get_plot(Id)\n",
    "df"
   ]
  },
  {
   "cell_type": "markdown",
   "id": "8d0104cd",
   "metadata": {},
   "source": [
    "#### CCI = Clasificación Cruzada Industria Sector Institucional\n",
    "\n",
    "Para conocer la estructura de las estadísticas derivadas de este cuadro, consultar en la [página web del BCH](https://www.bch.hn/estadisticas-y-publicaciones-economicas/sector-real/cuentas-nacionales-anuales-base-2000/clasificacion-cruzada-industria-sector-institucional).\n",
    "\n",
    "El archivo contiene 3 hojas, que pueden filtrarse de acuerdo con el Nivel de Descripción 1 (Niv_Descr_1) de la variable:\n",
    "\n",
    "* Producción Bruta\n",
    "* Consumo Intermedio\n",
    "* Valor Agregado\n",
    "\n",
    "Los cuadros en cada hoja contienen los valores a nivel de Industria en las filas y a nivel de Sector Institucional en las columnas.\n",
    "\n",
    "Debido a que el VAB implica tomar en cuenta impuestos y subvenciones a nivel de NPH, no es posible obtener el cálculo de esta variable por suma a partir de los cuadros del CCI (ver explicación en el apartado del COU).\n"
   ]
  },
  {
   "cell_type": "code",
   "execution_count": 34,
   "id": "4adea45f",
   "metadata": {},
   "outputs": [
    {
     "name": "stdout",
     "output_type": "stream",
     "text": [
      "3 subgrupos\n",
      "371 variables\n"
     ]
    },
    {
     "name": "stderr",
     "output_type": "stream",
     "text": [
      "<string>:29: FutureWarning:\n",
      "\n",
      "Passing literal json to 'read_json' is deprecated and will be removed in a future version. To read from a literal string, wrap it in a 'StringIO' object.\n",
      "\n"
     ]
    },
    {
     "data": {
      "text/html": [
       "<div><style>\n",
       ".dataframe > thead > tr,\n",
       ".dataframe > tbody > tr {\n",
       "  text-align: right;\n",
       "  white-space: pre-wrap;\n",
       "}\n",
       "</style>\n",
       "<small>shape: (3, 4)</small><table border=\"1\" class=\"dataframe\"><thead><tr><th>Niv_Gr_1</th><th>Niv_Gr_2</th><th>Niv_Descr_1</th><th>N_Variables</th></tr><tr><td>str</td><td>str</td><td>str</td><td>u32</td></tr></thead><tbody><tr><td>&quot;ESR&quot;</td><td>&quot;CCI&quot;</td><td>&quot;Consumo Interm…</td><td>126</td></tr><tr><td>&quot;ESR&quot;</td><td>&quot;CCI&quot;</td><td>&quot;Valor Agregado…</td><td>126</td></tr><tr><td>&quot;ESR&quot;</td><td>&quot;CCI&quot;</td><td>&quot;Producción&quot;</td><td>119</td></tr></tbody></table></div>"
      ],
      "text/plain": [
       "shape: (3, 4)\n",
       "┌──────────┬──────────┬────────────────────┬─────────────┐\n",
       "│ Niv_Gr_1 ┆ Niv_Gr_2 ┆ Niv_Descr_1        ┆ N_Variables │\n",
       "│ ---      ┆ ---      ┆ ---                ┆ ---         │\n",
       "│ str      ┆ str      ┆ str                ┆ u32         │\n",
       "╞══════════╪══════════╪════════════════════╪═════════════╡\n",
       "│ ESR      ┆ CCI      ┆ Consumo Intermedio ┆ 126         │\n",
       "│ ESR      ┆ CCI      ┆ Valor Agregado     ┆ 126         │\n",
       "│ ESR      ┆ CCI      ┆ Producción         ┆ 119         │\n",
       "└──────────┴──────────┴────────────────────┴─────────────┘"
      ]
     },
     "execution_count": 34,
     "metadata": {},
     "output_type": "execute_result"
    }
   ],
   "source": [
    "res_nivel_3(\"ESR\",\"CCI\",\"Niv_Descr_1\")"
   ]
  },
  {
   "cell_type": "markdown",
   "id": "0b4b4428",
   "metadata": {},
   "source": [
    "\"Niv_Descr_2\" es la Industria (filas).\n"
   ]
  },
  {
   "cell_type": "code",
   "execution_count": 35,
   "id": "e976195a",
   "metadata": {},
   "outputs": [
    {
     "name": "stderr",
     "output_type": "stream",
     "text": [
      "<string>:29: FutureWarning:\n",
      "\n",
      "Passing literal json to 'read_json' is deprecated and will be removed in a future version. To read from a literal string, wrap it in a 'StringIO' object.\n",
      "\n"
     ]
    },
    {
     "data": {
      "text/html": [
       "<div><style>\n",
       ".dataframe > thead > tr,\n",
       ".dataframe > tbody > tr {\n",
       "  text-align: right;\n",
       "  white-space: pre-wrap;\n",
       "}\n",
       "</style>\n",
       "<small>shape: (53, 6)</small><table border=\"1\" class=\"dataframe\"><thead><tr><th>Niv_Gr_1</th><th>Niv_Gr_2</th><th>Niv_Gr_3</th><th>Niv_Descr_1</th><th>Niv_Descr_2</th><th>N_Variables</th></tr><tr><td>str</td><td>str</td><td>str</td><td>str</td><td>str</td><td>u32</td></tr></thead><tbody><tr><td>&quot;ESR&quot;</td><td>&quot;CCI&quot;</td><td>&quot;01&quot;</td><td>&quot;Consumo Interm…</td><td>&quot;Industrias Man…</td><td>7</td></tr><tr><td>&quot;ESR&quot;</td><td>&quot;CCI&quot;</td><td>&quot;01&quot;</td><td>&quot;Consumo Interm…</td><td>&quot;Intermediación…</td><td>7</td></tr><tr><td>&quot;ESR&quot;</td><td>&quot;CCI&quot;</td><td>&quot;01&quot;</td><td>&quot;Consumo Interm…</td><td>&quot;Servicios de I…</td><td>7</td></tr><tr><td>&quot;ESR&quot;</td><td>&quot;CCI&quot;</td><td>&quot;01&quot;</td><td>&quot;Producción&quot;</td><td>&quot;Servicios Soci…</td><td>7</td></tr><tr><td>&quot;ESR&quot;</td><td>&quot;CCI&quot;</td><td>&quot;01&quot;</td><td>&quot;Consumo Interm…</td><td>&quot;Administración…</td><td>7</td></tr><tr><td>&hellip;</td><td>&hellip;</td><td>&hellip;</td><td>&hellip;</td><td>&hellip;</td><td>&hellip;</td></tr><tr><td>&quot;ESR&quot;</td><td>&quot;CCI&quot;</td><td>&quot;01&quot;</td><td>&quot;Valor Agregado…</td><td>&quot;Servicios de E…</td><td>7</td></tr><tr><td>&quot;ESR&quot;</td><td>&quot;CCI&quot;</td><td>&quot;01&quot;</td><td>&quot;Consumo Interm…</td><td>&quot;Transporte y A…</td><td>7</td></tr><tr><td>&quot;ESR&quot;</td><td>&quot;CCI&quot;</td><td>&quot;01&quot;</td><td>&quot;Consumo Interm…</td><td>&quot;Servicios Soci…</td><td>7</td></tr><tr><td>&quot;ESR&quot;</td><td>&quot;CCI&quot;</td><td>&quot;01&quot;</td><td>&quot;Producción&quot;</td><td>&quot;Industrias Man…</td><td>7</td></tr><tr><td>&quot;ESR&quot;</td><td>&quot;CCI&quot;</td><td>&quot;01&quot;</td><td>&quot;Producción&quot;</td><td>&quot;Transporte y A…</td><td>7</td></tr></tbody></table></div>"
      ],
      "text/plain": [
       "shape: (53, 6)\n",
       "┌──────────┬──────────┬──────────┬────────────────────┬──────────────────────────────┬─────────────┐\n",
       "│ Niv_Gr_1 ┆ Niv_Gr_2 ┆ Niv_Gr_3 ┆ Niv_Descr_1        ┆ Niv_Descr_2                  ┆ N_Variables │\n",
       "│ ---      ┆ ---      ┆ ---      ┆ ---                ┆ ---                          ┆ ---         │\n",
       "│ str      ┆ str      ┆ str      ┆ str                ┆ str                          ┆ u32         │\n",
       "╞══════════╪══════════╪══════════╪════════════════════╪══════════════════════════════╪═════════════╡\n",
       "│ ESR      ┆ CCI      ┆ 01       ┆ Consumo Intermedio ┆ Industrias Manufactureras    ┆ 7           │\n",
       "│ ESR      ┆ CCI      ┆ 01       ┆ Consumo Intermedio ┆ Intermediación Financiera    ┆ 7           │\n",
       "│ ESR      ┆ CCI      ┆ 01       ┆ Consumo Intermedio ┆ Servicios de Intermediación  ┆ 7           │\n",
       "│          ┆          ┆          ┆                    ┆ Fina…                        ┆             │\n",
       "│ ESR      ┆ CCI      ┆ 01       ┆ Producción         ┆ Servicios Sociales y de      ┆ 7           │\n",
       "│          ┆          ┆          ┆                    ┆ Salud                        ┆             │\n",
       "│ ESR      ┆ CCI      ┆ 01       ┆ Consumo Intermedio ┆ Administración Pública y     ┆ 7           │\n",
       "│          ┆          ┆          ┆                    ┆ Defensa…                     ┆             │\n",
       "│ …        ┆ …        ┆ …        ┆ …                  ┆ …                            ┆ …           │\n",
       "│ ESR      ┆ CCI      ┆ 01       ┆ Valor Agregado     ┆ Servicios de Enseñanza       ┆ 7           │\n",
       "│ ESR      ┆ CCI      ┆ 01       ┆ Consumo Intermedio ┆ Transporte y Almacenamiento  ┆ 7           │\n",
       "│ ESR      ┆ CCI      ┆ 01       ┆ Consumo Intermedio ┆ Servicios Sociales y de      ┆ 7           │\n",
       "│          ┆          ┆          ┆                    ┆ Salud                        ┆             │\n",
       "│ ESR      ┆ CCI      ┆ 01       ┆ Producción         ┆ Industrias Manufactureras    ┆ 7           │\n",
       "│ ESR      ┆ CCI      ┆ 01       ┆ Producción         ┆ Transporte y Almacenamiento  ┆ 7           │\n",
       "└──────────┴──────────┴──────────┴────────────────────┴──────────────────────────────┴─────────────┘"
      ]
     },
     "execution_count": 35,
     "metadata": {},
     "output_type": "execute_result"
    }
   ],
   "source": [
    "res_nivel_5(\n",
    "    \"ESR\",\"CCI\",\n",
    "    \"Niv_Gr_3\",\n",
    "    \"01\",\n",
    "    \"Niv_Descr_1\",\"Niv_Descr_2\")"
   ]
  },
  {
   "cell_type": "markdown",
   "id": "0c06cfb3",
   "metadata": {},
   "source": [
    "\"Niv_Descr_3\" es el Sector Institucional (columnas).\n"
   ]
  },
  {
   "cell_type": "code",
   "execution_count": 36,
   "id": "c1aa1b54",
   "metadata": {},
   "outputs": [
    {
     "name": "stderr",
     "output_type": "stream",
     "text": [
      "<string>:29: FutureWarning:\n",
      "\n",
      "Passing literal json to 'read_json' is deprecated and will be removed in a future version. To read from a literal string, wrap it in a 'StringIO' object.\n",
      "\n"
     ]
    },
    {
     "data": {
      "text/html": [
       "<div><style>\n",
       ".dataframe > thead > tr,\n",
       ".dataframe > tbody > tr {\n",
       "  text-align: right;\n",
       "  white-space: pre-wrap;\n",
       "}\n",
       "</style>\n",
       "<small>shape: (21, 6)</small><table border=\"1\" class=\"dataframe\"><thead><tr><th>Niv_Gr_1</th><th>Niv_Gr_2</th><th>Niv_Gr_3</th><th>Niv_Descr_1</th><th>Niv_Descr_3</th><th>N_Variables</th></tr><tr><td>str</td><td>str</td><td>str</td><td>str</td><td>str</td><td>u32</td></tr></thead><tbody><tr><td>&quot;ESR&quot;</td><td>&quot;CCI&quot;</td><td>&quot;01&quot;</td><td>&quot;Valor Agregado…</td><td>&quot;Gobierno Gener…</td><td>18</td></tr><tr><td>&quot;ESR&quot;</td><td>&quot;CCI&quot;</td><td>&quot;01&quot;</td><td>&quot;Consumo Interm…</td><td>&quot;Hogares&quot;</td><td>18</td></tr><tr><td>&quot;ESR&quot;</td><td>&quot;CCI&quot;</td><td>&quot;01&quot;</td><td>&quot;Valor Agregado…</td><td>&quot;ISFLSH&quot;</td><td>18</td></tr><tr><td>&quot;ESR&quot;</td><td>&quot;CCI&quot;</td><td>&quot;01&quot;</td><td>&quot;Valor Agregado…</td><td>&quot;Sociedades  Fi…</td><td>18</td></tr><tr><td>&quot;ESR&quot;</td><td>&quot;CCI&quot;</td><td>&quot;01&quot;</td><td>&quot;Consumo Interm…</td><td>&quot;SIFMI&quot;</td><td>18</td></tr><tr><td>&hellip;</td><td>&hellip;</td><td>&hellip;</td><td>&hellip;</td><td>&hellip;</td><td>&hellip;</td></tr><tr><td>&quot;ESR&quot;</td><td>&quot;CCI&quot;</td><td>&quot;01&quot;</td><td>&quot;Producción&quot;</td><td>&quot;SIFMI&quot;</td><td>17</td></tr><tr><td>&quot;ESR&quot;</td><td>&quot;CCI&quot;</td><td>&quot;01&quot;</td><td>&quot;Producción&quot;</td><td>&quot;Hogares&quot;</td><td>17</td></tr><tr><td>&quot;ESR&quot;</td><td>&quot;CCI&quot;</td><td>&quot;01&quot;</td><td>&quot;Producción&quot;</td><td>&quot;Sociedades  Fi…</td><td>17</td></tr><tr><td>&quot;ESR&quot;</td><td>&quot;CCI&quot;</td><td>&quot;01&quot;</td><td>&quot;Producción&quot;</td><td>&quot;Gobierno Gener…</td><td>17</td></tr><tr><td>&quot;ESR&quot;</td><td>&quot;CCI&quot;</td><td>&quot;01&quot;</td><td>&quot;Producción&quot;</td><td>&quot;ISFLSH&quot;</td><td>17</td></tr></tbody></table></div>"
      ],
      "text/plain": [
       "shape: (21, 6)\n",
       "┌──────────┬──────────┬──────────┬────────────────────┬─────────────────────────┬─────────────┐\n",
       "│ Niv_Gr_1 ┆ Niv_Gr_2 ┆ Niv_Gr_3 ┆ Niv_Descr_1        ┆ Niv_Descr_3             ┆ N_Variables │\n",
       "│ ---      ┆ ---      ┆ ---      ┆ ---                ┆ ---                     ┆ ---         │\n",
       "│ str      ┆ str      ┆ str      ┆ str                ┆ str                     ┆ u32         │\n",
       "╞══════════╪══════════╪══════════╪════════════════════╪═════════════════════════╪═════════════╡\n",
       "│ ESR      ┆ CCI      ┆ 01       ┆ Valor Agregado     ┆ Gobierno General        ┆ 18          │\n",
       "│ ESR      ┆ CCI      ┆ 01       ┆ Consumo Intermedio ┆ Hogares                 ┆ 18          │\n",
       "│ ESR      ┆ CCI      ┆ 01       ┆ Valor Agregado     ┆ ISFLSH                  ┆ 18          │\n",
       "│ ESR      ┆ CCI      ┆ 01       ┆ Valor Agregado     ┆ Sociedades  Financieras ┆ 18          │\n",
       "│ ESR      ┆ CCI      ┆ 01       ┆ Consumo Intermedio ┆ SIFMI                   ┆ 18          │\n",
       "│ …        ┆ …        ┆ …        ┆ …                  ┆ …                       ┆ …           │\n",
       "│ ESR      ┆ CCI      ┆ 01       ┆ Producción         ┆ SIFMI                   ┆ 17          │\n",
       "│ ESR      ┆ CCI      ┆ 01       ┆ Producción         ┆ Hogares                 ┆ 17          │\n",
       "│ ESR      ┆ CCI      ┆ 01       ┆ Producción         ┆ Sociedades  Financieras ┆ 17          │\n",
       "│ ESR      ┆ CCI      ┆ 01       ┆ Producción         ┆ Gobierno General        ┆ 17          │\n",
       "│ ESR      ┆ CCI      ┆ 01       ┆ Producción         ┆ ISFLSH                  ┆ 17          │\n",
       "└──────────┴──────────┴──────────┴────────────────────┴─────────────────────────┴─────────────┘"
      ]
     },
     "execution_count": 36,
     "metadata": {},
     "output_type": "execute_result"
    }
   ],
   "source": [
    "res_nivel_5(\n",
    "    \"ESR\",\"CCI\",\n",
    "    \"Niv_Gr_3\",\n",
    "    \"01\",\n",
    "    \"Niv_Descr_1\",\"Niv_Descr_3\")"
   ]
  },
  {
   "cell_type": "markdown",
   "id": "f4a9c15d",
   "metadata": {},
   "source": [
    "Para saber el contenido de todas las variables:\n"
   ]
  },
  {
   "cell_type": "code",
   "execution_count": 37,
   "id": "93cc99cc",
   "metadata": {},
   "outputs": [
    {
     "name": "stderr",
     "output_type": "stream",
     "text": [
      "<string>:29: FutureWarning:\n",
      "\n",
      "Passing literal json to 'read_json' is deprecated and will be removed in a future version. To read from a literal string, wrap it in a 'StringIO' object.\n",
      "\n"
     ]
    },
    {
     "data": {
      "text/html": [
       "<div><style>\n",
       ".dataframe > thead > tr,\n",
       ".dataframe > tbody > tr {\n",
       "  text-align: right;\n",
       "  white-space: pre-wrap;\n",
       "}\n",
       "</style>\n",
       "<small>shape: (371, 8)</small><table border=\"1\" class=\"dataframe\"><thead><tr><th>Niv_Gr_1</th><th>Niv_Gr_2</th><th>Niv_Gr_3</th><th>Id</th><th>Niv_Descr_1</th><th>Niv_Descr_2</th><th>Niv_Descr_3</th><th>N_Variables</th></tr><tr><td>str</td><td>str</td><td>str</td><td>i64</td><td>str</td><td>str</td><td>str</td><td>u32</td></tr></thead><tbody><tr><td>&quot;ESR&quot;</td><td>&quot;CCI&quot;</td><td>&quot;01&quot;</td><td>7459</td><td>&quot;Consumo Interm…</td><td>&quot;Administración…</td><td>&quot;Sociedades  Fi…</td><td>1</td></tr><tr><td>&quot;ESR&quot;</td><td>&quot;CCI&quot;</td><td>&quot;01&quot;</td><td>7461</td><td>&quot;Consumo Interm…</td><td>&quot;Agricultura, G…</td><td>&quot;Economía Total…</td><td>1</td></tr><tr><td>&quot;ESR&quot;</td><td>&quot;CCI&quot;</td><td>&quot;01&quot;</td><td>7495</td><td>&quot;Consumo Interm…</td><td>&quot;Electricidad y…</td><td>&quot;Sociedades  No…</td><td>1</td></tr><tr><td>&quot;ESR&quot;</td><td>&quot;CCI&quot;</td><td>&quot;01&quot;</td><td>7504</td><td>&quot;Consumo Interm…</td><td>&quot;Hoteles y Rest…</td><td>&quot;Gobierno Gener…</td><td>1</td></tr><tr><td>&quot;ESR&quot;</td><td>&quot;CCI&quot;</td><td>&quot;01&quot;</td><td>7534</td><td>&quot;Consumo Interm…</td><td>&quot;Servicios Comu…</td><td>&quot;ISFLSH&quot;</td><td>1</td></tr><tr><td>&hellip;</td><td>&hellip;</td><td>&hellip;</td><td>&hellip;</td><td>&hellip;</td><td>&hellip;</td><td>&hellip;</td><td>&hellip;</td></tr><tr><td>&quot;ESR&quot;</td><td>&quot;CCI&quot;</td><td>&quot;01&quot;</td><td>7759</td><td>&quot;Valor Agregado…</td><td>&quot;Industrias Man…</td><td>&quot;SIFMI&quot;</td><td>1</td></tr><tr><td>&quot;ESR&quot;</td><td>&quot;CCI&quot;</td><td>&quot;01&quot;</td><td>7784</td><td>&quot;Valor Agregado…</td><td>&quot;Servicios de E…</td><td>&quot;Gobierno Gener…</td><td>1</td></tr><tr><td>&quot;ESR&quot;</td><td>&quot;CCI&quot;</td><td>&quot;01&quot;</td><td>7803</td><td>&quot;Valor Agregado…</td><td>&quot;Servicios Soci…</td><td>&quot;Sociedades  No…</td><td>1</td></tr><tr><td>&quot;ESR&quot;</td><td>&quot;CCI&quot;</td><td>&quot;01&quot;</td><td>7808</td><td>&quot;Valor Agregado…</td><td>&quot;Total&quot;</td><td>&quot;SIFMI&quot;</td><td>1</td></tr><tr><td>&quot;ESR&quot;</td><td>&quot;CCI&quot;</td><td>&quot;01&quot;</td><td>7813</td><td>&quot;Valor Agregado…</td><td>&quot;Transporte y A…</td><td>&quot;Hogares&quot;</td><td>1</td></tr></tbody></table></div>"
      ],
      "text/plain": [
       "shape: (371, 8)\n",
       "┌──────────┬──────────┬──────────┬──────┬──────────────┬──────────────┬──────────────┬─────────────┐\n",
       "│ Niv_Gr_1 ┆ Niv_Gr_2 ┆ Niv_Gr_3 ┆ Id   ┆ Niv_Descr_1  ┆ Niv_Descr_2  ┆ Niv_Descr_3  ┆ N_Variables │\n",
       "│ ---      ┆ ---      ┆ ---      ┆ ---  ┆ ---          ┆ ---          ┆ ---          ┆ ---         │\n",
       "│ str      ┆ str      ┆ str      ┆ i64  ┆ str          ┆ str          ┆ str          ┆ u32         │\n",
       "╞══════════╪══════════╪══════════╪══════╪══════════════╪══════════════╪══════════════╪═════════════╡\n",
       "│ ESR      ┆ CCI      ┆ 01       ┆ 7459 ┆ Consumo      ┆ Administraci ┆ Sociedades   ┆ 1           │\n",
       "│          ┆          ┆          ┆      ┆ Intermedio   ┆ ón Pública y ┆ Financieras  ┆             │\n",
       "│          ┆          ┆          ┆      ┆              ┆ Defensa…     ┆              ┆             │\n",
       "│ ESR      ┆ CCI      ┆ 01       ┆ 7461 ┆ Consumo      ┆ Agricultura, ┆ Economía     ┆ 1           │\n",
       "│          ┆          ┆          ┆      ┆ Intermedio   ┆ Ganadería,   ┆ Total        ┆             │\n",
       "│          ┆          ┆          ┆      ┆              ┆ Caza, Si…    ┆              ┆             │\n",
       "│ ESR      ┆ CCI      ┆ 01       ┆ 7495 ┆ Consumo      ┆ Electricidad ┆ Sociedades   ┆ 1           │\n",
       "│          ┆          ┆          ┆      ┆ Intermedio   ┆ y            ┆ No           ┆             │\n",
       "│          ┆          ┆          ┆      ┆              ┆ Distribución ┆ Financieras  ┆             │\n",
       "│          ┆          ┆          ┆      ┆              ┆ de A…        ┆              ┆             │\n",
       "│ ESR      ┆ CCI      ┆ 01       ┆ 7504 ┆ Consumo      ┆ Hoteles y    ┆ Gobierno     ┆ 1           │\n",
       "│          ┆          ┆          ┆      ┆ Intermedio   ┆ Restaurantes ┆ General      ┆             │\n",
       "│ ESR      ┆ CCI      ┆ 01       ┆ 7534 ┆ Consumo      ┆ Servicios    ┆ ISFLSH       ┆ 1           │\n",
       "│          ┆          ┆          ┆      ┆ Intermedio   ┆ Comunitarios ┆              ┆             │\n",
       "│          ┆          ┆          ┆      ┆              ┆ , Sociales…  ┆              ┆             │\n",
       "│ …        ┆ …        ┆ …        ┆ …    ┆ …            ┆ …            ┆ …            ┆ …           │\n",
       "│ ESR      ┆ CCI      ┆ 01       ┆ 7759 ┆ Valor        ┆ Industrias   ┆ SIFMI        ┆ 1           │\n",
       "│          ┆          ┆          ┆      ┆ Agregado     ┆ Manufacturer ┆              ┆             │\n",
       "│          ┆          ┆          ┆      ┆              ┆ as           ┆              ┆             │\n",
       "│ ESR      ┆ CCI      ┆ 01       ┆ 7784 ┆ Valor        ┆ Servicios de ┆ Gobierno     ┆ 1           │\n",
       "│          ┆          ┆          ┆      ┆ Agregado     ┆ Enseñanza    ┆ General      ┆             │\n",
       "│ ESR      ┆ CCI      ┆ 01       ┆ 7803 ┆ Valor        ┆ Servicios    ┆ Sociedades   ┆ 1           │\n",
       "│          ┆          ┆          ┆      ┆ Agregado     ┆ Sociales y   ┆ No           ┆             │\n",
       "│          ┆          ┆          ┆      ┆              ┆ de Salud     ┆ Financieras  ┆             │\n",
       "│ ESR      ┆ CCI      ┆ 01       ┆ 7808 ┆ Valor        ┆ Total        ┆ SIFMI        ┆ 1           │\n",
       "│          ┆          ┆          ┆      ┆ Agregado     ┆              ┆              ┆             │\n",
       "│ ESR      ┆ CCI      ┆ 01       ┆ 7813 ┆ Valor        ┆ Transporte y ┆ Hogares      ┆ 1           │\n",
       "│          ┆          ┆          ┆      ┆ Agregado     ┆ Almacenamien ┆              ┆             │\n",
       "│          ┆          ┆          ┆      ┆              ┆ to           ┆              ┆             │\n",
       "└──────────┴──────────┴──────────┴──────┴──────────────┴──────────────┴──────────────┴─────────────┘"
      ]
     },
     "execution_count": 37,
     "metadata": {},
     "output_type": "execute_result"
    }
   ],
   "source": [
    "res_nivel_7(\n",
    "    \"ESR\",\"CCI\",\n",
    "    \"Niv_Gr_3\",\n",
    "    \"01\",\n",
    "    \"Id\",\"Niv_Descr_1\",\"Niv_Descr_2\",\"Niv_Descr_3\")"
   ]
  },
  {
   "cell_type": "markdown",
   "id": "b1690899",
   "metadata": {},
   "source": [
    "Resultados de una sola variable:\n"
   ]
  },
  {
   "cell_type": "code",
   "execution_count": 38,
   "id": "10b34083",
   "metadata": {},
   "outputs": [
    {
     "name": "stderr",
     "output_type": "stream",
     "text": [
      "<string>:29: FutureWarning:\n",
      "\n",
      "Passing literal json to 'read_json' is deprecated and will be removed in a future version. To read from a literal string, wrap it in a 'StringIO' object.\n",
      "\n"
     ]
    },
    {
     "name": "stderr",
     "output_type": "stream",
     "text": [
      "<string>:29: FutureWarning:\n",
      "\n",
      "Passing literal json to 'read_json' is deprecated and will be removed in a future version. To read from a literal string, wrap it in a 'StringIO' object.\n",
      "\n"
     ]
    },
    {
     "data": {
      "text/html": [
       "<div><style>\n",
       ".dataframe > thead > tr,\n",
       ".dataframe > tbody > tr {\n",
       "  text-align: right;\n",
       "  white-space: pre-wrap;\n",
       "}\n",
       "</style>\n",
       "<small>shape: (20, 2)</small><table border=\"1\" class=\"dataframe\"><thead><tr><th>Fecha</th><th>Consumo Intermedio-Agricultura, Ganadería, Caza, Silvicultura y Pesca-Sociedades  No Financieras</th></tr><tr><td>date</td><td>f64</td></tr></thead><tbody><tr><td>2019-01-01</td><td>23535.2</td></tr><tr><td>2018-01-01</td><td>23435.6</td></tr><tr><td>2017-01-01</td><td>21930.4</td></tr><tr><td>2016-01-01</td><td>19951.6</td></tr><tr><td>2015-01-01</td><td>19002.0</td></tr><tr><td>&hellip;</td><td>&hellip;</td></tr><tr><td>2004-01-01</td><td>7631.9981</td></tr><tr><td>2003-01-01</td><td>6281.5443</td></tr><tr><td>2002-01-01</td><td>5304.4434</td></tr><tr><td>2001-01-01</td><td>4789.7977</td></tr><tr><td>2000-01-01</td><td>4310.7</td></tr></tbody></table></div>"
      ],
      "text/plain": [
       "shape: (20, 2)\n",
       "┌────────────┬───────────────────────────────────┐\n",
       "│ Fecha      ┆ Consumo Intermedio-Agricultura, … │\n",
       "│ ---        ┆ ---                               │\n",
       "│ date       ┆ f64                               │\n",
       "╞════════════╪═══════════════════════════════════╡\n",
       "│ 2019-01-01 ┆ 23535.2                           │\n",
       "│ 2018-01-01 ┆ 23435.6                           │\n",
       "│ 2017-01-01 ┆ 21930.4                           │\n",
       "│ 2016-01-01 ┆ 19951.6                           │\n",
       "│ 2015-01-01 ┆ 19002.0                           │\n",
       "│ …          ┆ …                                 │\n",
       "│ 2004-01-01 ┆ 7631.9981                         │\n",
       "│ 2003-01-01 ┆ 6281.5443                         │\n",
       "│ 2002-01-01 ┆ 5304.4434                         │\n",
       "│ 2001-01-01 ┆ 4789.7977                         │\n",
       "│ 2000-01-01 ┆ 4310.7                            │\n",
       "└────────────┴───────────────────────────────────┘"
      ]
     },
     "execution_count": 38,
     "metadata": {},
     "output_type": "execute_result"
    }
   ],
   "source": [
    "Id = 7467\n",
    "df = get_df(Id)\n",
    "# get_plot(Id)\n",
    "df"
   ]
  },
  {
   "cell_type": "markdown",
   "id": "02e2c1d0",
   "metadata": {},
   "source": [
    "#### VAB = Valor Agregado Bruto\n"
   ]
  },
  {
   "cell_type": "code",
   "execution_count": 39,
   "id": "e08780ed",
   "metadata": {},
   "outputs": [
    {
     "name": "stdout",
     "output_type": "stream",
     "text": [
      "2 subgrupos\n",
      "120 variables\n"
     ]
    },
    {
     "name": "stderr",
     "output_type": "stream",
     "text": [
      "<string>:29: FutureWarning:\n",
      "\n",
      "Passing literal json to 'read_json' is deprecated and will be removed in a future version. To read from a literal string, wrap it in a 'StringIO' object.\n",
      "\n"
     ]
    },
    {
     "data": {
      "text/html": [
       "<div><style>\n",
       ".dataframe > thead > tr,\n",
       ".dataframe > tbody > tr {\n",
       "  text-align: right;\n",
       "  white-space: pre-wrap;\n",
       "}\n",
       "</style>\n",
       "<small>shape: (2, 4)</small><table border=\"1\" class=\"dataframe\"><thead><tr><th>Niv_Gr_1</th><th>Niv_Gr_2</th><th>Niv_Gr_3</th><th>N_Variables</th></tr><tr><td>str</td><td>str</td><td>str</td><td>u32</td></tr></thead><tbody><tr><td>&quot;ESR&quot;</td><td>&quot;VAB&quot;</td><td>&quot;02&quot;</td><td>64</td></tr><tr><td>&quot;ESR&quot;</td><td>&quot;VAB&quot;</td><td>&quot;01&quot;</td><td>56</td></tr></tbody></table></div>"
      ],
      "text/plain": [
       "shape: (2, 4)\n",
       "┌──────────┬──────────┬──────────┬─────────────┐\n",
       "│ Niv_Gr_1 ┆ Niv_Gr_2 ┆ Niv_Gr_3 ┆ N_Variables │\n",
       "│ ---      ┆ ---      ┆ ---      ┆ ---         │\n",
       "│ str      ┆ str      ┆ str      ┆ u32         │\n",
       "╞══════════╪══════════╪══════════╪═════════════╡\n",
       "│ ESR      ┆ VAB      ┆ 02       ┆ 64          │\n",
       "│ ESR      ┆ VAB      ┆ 01       ┆ 56          │\n",
       "└──────────┴──────────┴──────────┴─────────────┘"
      ]
     },
     "execution_count": 39,
     "metadata": {},
     "output_type": "execute_result"
    }
   ],
   "source": [
    "res_nivel_3(\"ESR\",\"VAB\",\"Niv_Gr_3\")"
   ]
  },
  {
   "cell_type": "markdown",
   "id": "ce4cf4ac",
   "metadata": {},
   "source": [
    "##### Valor y Variación, Corrientes y Constantes, por NAEH\n"
   ]
  },
  {
   "cell_type": "code",
   "execution_count": 40,
   "id": "2277c76a",
   "metadata": {},
   "outputs": [
    {
     "name": "stderr",
     "output_type": "stream",
     "text": [
      "<string>:29: FutureWarning:\n",
      "\n",
      "Passing literal json to 'read_json' is deprecated and will be removed in a future version. To read from a literal string, wrap it in a 'StringIO' object.\n",
      "\n"
     ]
    },
    {
     "data": {
      "text/html": [
       "<div><style>\n",
       ".dataframe > thead > tr,\n",
       ".dataframe > tbody > tr {\n",
       "  text-align: right;\n",
       "  white-space: pre-wrap;\n",
       "}\n",
       "</style>\n",
       "<small>shape: (2, 5)</small><table border=\"1\" class=\"dataframe\"><thead><tr><th>Niv_Gr_1</th><th>Niv_Gr_2</th><th>Niv_Gr_3</th><th>Niv_Descr_4</th><th>N_Variables</th></tr><tr><td>str</td><td>str</td><td>str</td><td>str</td><td>u32</td></tr></thead><tbody><tr><td>&quot;ESR&quot;</td><td>&quot;VAB&quot;</td><td>&quot;01&quot;</td><td>&quot; Valor &quot;</td><td>28</td></tr><tr><td>&quot;ESR&quot;</td><td>&quot;VAB&quot;</td><td>&quot;01&quot;</td><td>&quot; Variación &quot;</td><td>28</td></tr></tbody></table></div>"
      ],
      "text/plain": [
       "shape: (2, 5)\n",
       "┌──────────┬──────────┬──────────┬─────────────┬─────────────┐\n",
       "│ Niv_Gr_1 ┆ Niv_Gr_2 ┆ Niv_Gr_3 ┆ Niv_Descr_4 ┆ N_Variables │\n",
       "│ ---      ┆ ---      ┆ ---      ┆ ---         ┆ ---         │\n",
       "│ str      ┆ str      ┆ str      ┆ str         ┆ u32         │\n",
       "╞══════════╪══════════╪══════════╪═════════════╪═════════════╡\n",
       "│ ESR      ┆ VAB      ┆ 01       ┆  Valor      ┆ 28          │\n",
       "│ ESR      ┆ VAB      ┆ 01       ┆  Variación  ┆ 28          │\n",
       "└──────────┴──────────┴──────────┴─────────────┴─────────────┘"
      ]
     },
     "execution_count": 40,
     "metadata": {},
     "output_type": "execute_result"
    }
   ],
   "source": [
    "res_nivel_4(\n",
    "    \"ESR\",\"VAB\",\n",
    "    \"Niv_Gr_3\",\n",
    "    \"01\",\n",
    "    \"Niv_Descr_4\")"
   ]
  },
  {
   "cell_type": "code",
   "execution_count": 41,
   "id": "27531647",
   "metadata": {},
   "outputs": [
    {
     "name": "stderr",
     "output_type": "stream",
     "text": [
      "<string>:29: FutureWarning:\n",
      "\n",
      "Passing literal json to 'read_json' is deprecated and will be removed in a future version. To read from a literal string, wrap it in a 'StringIO' object.\n",
      "\n"
     ]
    },
    {
     "data": {
      "text/html": [
       "<div><style>\n",
       ".dataframe > thead > tr,\n",
       ".dataframe > tbody > tr {\n",
       "  text-align: right;\n",
       "  white-space: pre-wrap;\n",
       "}\n",
       "</style>\n",
       "<small>shape: (4, 6)</small><table border=\"1\" class=\"dataframe\"><thead><tr><th>Niv_Gr_1</th><th>Niv_Gr_2</th><th>Niv_Gr_3</th><th>Niv_Descr_4</th><th>Niv_Descr_5</th><th>N_Variables</th></tr><tr><td>str</td><td>str</td><td>str</td><td>str</td><td>str</td><td>u32</td></tr></thead><tbody><tr><td>&quot;ESR&quot;</td><td>&quot;VAB&quot;</td><td>&quot;01&quot;</td><td>&quot; Variación &quot;</td><td>&quot; Constante &quot;</td><td>14</td></tr><tr><td>&quot;ESR&quot;</td><td>&quot;VAB&quot;</td><td>&quot;01&quot;</td><td>&quot; Valor &quot;</td><td>&quot; Corrientes &quot;</td><td>14</td></tr><tr><td>&quot;ESR&quot;</td><td>&quot;VAB&quot;</td><td>&quot;01&quot;</td><td>&quot; Valor &quot;</td><td>&quot; Constante &quot;</td><td>14</td></tr><tr><td>&quot;ESR&quot;</td><td>&quot;VAB&quot;</td><td>&quot;01&quot;</td><td>&quot; Variación &quot;</td><td>&quot; Corrientes &quot;</td><td>14</td></tr></tbody></table></div>"
      ],
      "text/plain": [
       "shape: (4, 6)\n",
       "┌──────────┬──────────┬──────────┬─────────────┬──────────────┬─────────────┐\n",
       "│ Niv_Gr_1 ┆ Niv_Gr_2 ┆ Niv_Gr_3 ┆ Niv_Descr_4 ┆ Niv_Descr_5  ┆ N_Variables │\n",
       "│ ---      ┆ ---      ┆ ---      ┆ ---         ┆ ---          ┆ ---         │\n",
       "│ str      ┆ str      ┆ str      ┆ str         ┆ str          ┆ u32         │\n",
       "╞══════════╪══════════╪══════════╪═════════════╪══════════════╪═════════════╡\n",
       "│ ESR      ┆ VAB      ┆ 01       ┆  Variación  ┆  Constante   ┆ 14          │\n",
       "│ ESR      ┆ VAB      ┆ 01       ┆  Valor      ┆  Corrientes  ┆ 14          │\n",
       "│ ESR      ┆ VAB      ┆ 01       ┆  Valor      ┆  Constante   ┆ 14          │\n",
       "│ ESR      ┆ VAB      ┆ 01       ┆  Variación  ┆  Corrientes  ┆ 14          │\n",
       "└──────────┴──────────┴──────────┴─────────────┴──────────────┴─────────────┘"
      ]
     },
     "execution_count": 41,
     "metadata": {},
     "output_type": "execute_result"
    }
   ],
   "source": [
    "res_nivel_5(\n",
    "    \"ESR\",\"VAB\",\n",
    "    \"Niv_Gr_3\",\n",
    "    \"01\",\n",
    "    \"Niv_Descr_4\",\"Niv_Descr_5\")"
   ]
  },
  {
   "cell_type": "markdown",
   "id": "a64beec6",
   "metadata": {},
   "source": [
    "Para saber el contenido de todas las variables:\n"
   ]
  },
  {
   "cell_type": "code",
   "execution_count": 42,
   "id": "6faaae3b",
   "metadata": {},
   "outputs": [
    {
     "name": "stderr",
     "output_type": "stream",
     "text": [
      "<string>:29: FutureWarning:\n",
      "\n",
      "Passing literal json to 'read_json' is deprecated and will be removed in a future version. To read from a literal string, wrap it in a 'StringIO' object.\n",
      "\n"
     ]
    },
    {
     "data": {
      "text/html": [
       "<div><style>\n",
       ".dataframe > thead > tr,\n",
       ".dataframe > tbody > tr {\n",
       "  text-align: right;\n",
       "  white-space: pre-wrap;\n",
       "}\n",
       "</style>\n",
       "<small>shape: (56, 8)</small><table border=\"1\" class=\"dataframe\"><thead><tr><th>Niv_Gr_1</th><th>Niv_Gr_2</th><th>Niv_Gr_3</th><th>Id</th><th>Niv_Descr_4</th><th>Niv_Descr_5</th><th>Niv_Descr_6</th><th>N_Variables</th></tr><tr><td>str</td><td>str</td><td>str</td><td>i64</td><td>str</td><td>str</td><td>str</td><td>u32</td></tr></thead><tbody><tr><td>&quot;ESR&quot;</td><td>&quot;VAB&quot;</td><td>&quot;01&quot;</td><td>233</td><td>&quot; Valor &quot;</td><td>&quot; Constante &quot;</td><td>&quot; Cultivo de So…</td><td>1</td></tr><tr><td>&quot;ESR&quot;</td><td>&quot;VAB&quot;</td><td>&quot;01&quot;</td><td>242</td><td>&quot; Valor &quot;</td><td>&quot; Constante &quot;</td><td>&quot; Cría de Aves …</td><td>1</td></tr><tr><td>&quot;ESR&quot;</td><td>&quot;VAB&quot;</td><td>&quot;01&quot;</td><td>247</td><td>&quot; Variación &quot;</td><td>&quot; Corrientes &quot;</td><td>&quot; Cultivo de So…</td><td>1</td></tr><tr><td>&quot;ESR&quot;</td><td>&quot;VAB&quot;</td><td>&quot;01&quot;</td><td>262</td><td>&quot; Variación &quot;</td><td>&quot; Constante &quot;</td><td>&quot; Cultivo de Ar…</td><td>1</td></tr><tr><td>&quot;ESR&quot;</td><td>&quot;VAB&quot;</td><td>&quot;01&quot;</td><td>267</td><td>&quot; Variación &quot;</td><td>&quot; Constante &quot;</td><td>&quot; Cría de Ganad…</td><td>1</td></tr><tr><td>&hellip;</td><td>&hellip;</td><td>&hellip;</td><td>&hellip;</td><td>&hellip;</td><td>&hellip;</td><td>&hellip;</td><td>&hellip;</td></tr><tr><td>&quot;ESR&quot;</td><td>&quot;VAB&quot;</td><td>&quot;01&quot;</td><td>228</td><td>&quot; Valor &quot;</td><td>&quot; Corrientes &quot;</td><td>&quot; Cría de Aves …</td><td>1</td></tr><tr><td>&quot;ESR&quot;</td><td>&quot;VAB&quot;</td><td>&quot;01&quot;</td><td>249</td><td>&quot; Variación &quot;</td><td>&quot; Corrientes &quot;</td><td>&quot; Cultivo de Pa…</td><td>1</td></tr><tr><td>&quot;ESR&quot;</td><td>&quot;VAB&quot;</td><td>&quot;01&quot;</td><td>266</td><td>&quot; Variación &quot;</td><td>&quot; Constante &quot;</td><td>&quot; Cultivo de Tu…</td><td>1</td></tr><tr><td>&quot;ESR&quot;</td><td>&quot;VAB&quot;</td><td>&quot;01&quot;</td><td>234</td><td>&quot; Valor &quot;</td><td>&quot; Constante &quot;</td><td>&quot; Cultivo de Ar…</td><td>1</td></tr><tr><td>&quot;ESR&quot;</td><td>&quot;VAB&quot;</td><td>&quot;01&quot;</td><td>243</td><td>&quot; Valor &quot;</td><td>&quot; Constante &quot;</td><td>&quot; Silvicultura&quot;</td><td>1</td></tr></tbody></table></div>"
      ],
      "text/plain": [
       "shape: (56, 8)\n",
       "┌──────────┬──────────┬──────────┬─────┬─────────────┬──────────────┬────────────────┬─────────────┐\n",
       "│ Niv_Gr_1 ┆ Niv_Gr_2 ┆ Niv_Gr_3 ┆ Id  ┆ Niv_Descr_4 ┆ Niv_Descr_5  ┆ Niv_Descr_6    ┆ N_Variables │\n",
       "│ ---      ┆ ---      ┆ ---      ┆ --- ┆ ---         ┆ ---          ┆ ---            ┆ ---         │\n",
       "│ str      ┆ str      ┆ str      ┆ i64 ┆ str         ┆ str          ┆ str            ┆ u32         │\n",
       "╞══════════╪══════════╪══════════╪═════╪═════════════╪══════════════╪════════════════╪═════════════╡\n",
       "│ ESR      ┆ VAB      ┆ 01       ┆ 233 ┆  Valor      ┆  Constante   ┆ Cultivo de     ┆ 1           │\n",
       "│          ┆          ┆          ┆     ┆             ┆              ┆ Sorgo          ┆             │\n",
       "│ ESR      ┆ VAB      ┆ 01       ┆ 242 ┆  Valor      ┆  Constante   ┆ Cría de Aves   ┆ 1           │\n",
       "│          ┆          ┆          ┆     ┆             ┆              ┆ de Corral      ┆             │\n",
       "│ ESR      ┆ VAB      ┆ 01       ┆ 247 ┆  Variación  ┆  Corrientes  ┆ Cultivo de     ┆ 1           │\n",
       "│          ┆          ┆          ┆     ┆             ┆              ┆ Sorgo          ┆             │\n",
       "│ ESR      ┆ VAB      ┆ 01       ┆ 262 ┆  Variación  ┆  Constante   ┆ Cultivo de     ┆ 1           │\n",
       "│          ┆          ┆          ┆     ┆             ┆              ┆ Arroz en       ┆             │\n",
       "│          ┆          ┆          ┆     ┆             ┆              ┆ Granza         ┆             │\n",
       "│ ESR      ┆ VAB      ┆ 01       ┆ 267 ┆  Variación  ┆  Constante   ┆ Cría de Ganado ┆ 1           │\n",
       "│          ┆          ┆          ┆     ┆             ┆              ┆ Vacuno         ┆             │\n",
       "│ …        ┆ …        ┆ …        ┆ …   ┆ …           ┆ …            ┆ …              ┆ …           │\n",
       "│ ESR      ┆ VAB      ┆ 01       ┆ 228 ┆  Valor      ┆  Corrientes  ┆ Cría de Aves   ┆ 1           │\n",
       "│          ┆          ┆          ┆     ┆             ┆              ┆ de Corral      ┆             │\n",
       "│ ESR      ┆ VAB      ┆ 01       ┆ 249 ┆  Variación  ┆  Corrientes  ┆ Cultivo de     ┆ 1           │\n",
       "│          ┆          ┆          ┆     ┆             ┆              ┆ Palma Africana ┆             │\n",
       "│ ESR      ┆ VAB      ┆ 01       ┆ 266 ┆  Variación  ┆  Constante   ┆ Cultivo de     ┆ 1           │\n",
       "│          ┆          ┆          ┆     ┆             ┆              ┆ Tubérculos,    ┆             │\n",
       "│          ┆          ┆          ┆     ┆             ┆              ┆ Hortaliz…      ┆             │\n",
       "│ ESR      ┆ VAB      ┆ 01       ┆ 234 ┆  Valor      ┆  Constante   ┆ Cultivo de     ┆ 1           │\n",
       "│          ┆          ┆          ┆     ┆             ┆              ┆ Arroz en       ┆             │\n",
       "│          ┆          ┆          ┆     ┆             ┆              ┆ Granza         ┆             │\n",
       "│ ESR      ┆ VAB      ┆ 01       ┆ 243 ┆  Valor      ┆  Constante   ┆  Silvicultura  ┆ 1           │\n",
       "└──────────┴──────────┴──────────┴─────┴─────────────┴──────────────┴────────────────┴─────────────┘"
      ]
     },
     "execution_count": 42,
     "metadata": {},
     "output_type": "execute_result"
    }
   ],
   "source": [
    "res_nivel_7(\n",
    "    \"ESR\",\"VAB\",\n",
    "    \"Niv_Gr_3\",\n",
    "    \"01\",\n",
    "    \"Id\",\"Niv_Descr_4\",\"Niv_Descr_5\",\"Niv_Descr_6\")"
   ]
  },
  {
   "cell_type": "markdown",
   "id": "8c56072c",
   "metadata": {},
   "source": [
    "Resultados de una sola variable:\n"
   ]
  },
  {
   "cell_type": "code",
   "execution_count": 43,
   "id": "dc141d94",
   "metadata": {},
   "outputs": [
    {
     "name": "stderr",
     "output_type": "stream",
     "text": [
      "<string>:29: FutureWarning:\n",
      "\n",
      "Passing literal json to 'read_json' is deprecated and will be removed in a future version. To read from a literal string, wrap it in a 'StringIO' object.\n",
      "\n"
     ]
    },
    {
     "name": "stderr",
     "output_type": "stream",
     "text": [
      "<string>:29: FutureWarning:\n",
      "\n",
      "Passing literal json to 'read_json' is deprecated and will be removed in a future version. To read from a literal string, wrap it in a 'StringIO' object.\n",
      "\n"
     ]
    },
    {
     "data": {
      "text/html": [
       "<div><style>\n",
       ".dataframe > thead > tr,\n",
       ".dataframe > tbody > tr {\n",
       "  text-align: right;\n",
       "  white-space: pre-wrap;\n",
       "}\n",
       "</style>\n",
       "<small>shape: (48, 2)</small><table border=\"1\" class=\"dataframe\"><thead><tr><th>Fecha</th><th>ESR-VAB-01 - Valor - Corrientes - Cultivo de Arroz en Granza</th></tr><tr><td>date</td><td>f64</td></tr></thead><tbody><tr><td>2023-01-01</td><td>157.8</td></tr><tr><td>2023-01-01</td><td>157.8</td></tr><tr><td>2022-01-01</td><td>206.8</td></tr><tr><td>2022-01-01</td><td>206.8</td></tr><tr><td>2021-01-01</td><td>242.2</td></tr><tr><td>&hellip;</td><td>&hellip;</td></tr><tr><td>2002-01-01</td><td>24.7</td></tr><tr><td>2001-01-01</td><td>19.9</td></tr><tr><td>2001-01-01</td><td>19.9</td></tr><tr><td>2000-01-01</td><td>18.7</td></tr><tr><td>2000-01-01</td><td>18.7</td></tr></tbody></table></div>"
      ],
      "text/plain": [
       "shape: (48, 2)\n",
       "┌────────────┬───────────────────────────────────┐\n",
       "│ Fecha      ┆ ESR-VAB-01 - Valor - Corrientes … │\n",
       "│ ---        ┆ ---                               │\n",
       "│ date       ┆ f64                               │\n",
       "╞════════════╪═══════════════════════════════════╡\n",
       "│ 2023-01-01 ┆ 157.8                             │\n",
       "│ 2023-01-01 ┆ 157.8                             │\n",
       "│ 2022-01-01 ┆ 206.8                             │\n",
       "│ 2022-01-01 ┆ 206.8                             │\n",
       "│ 2021-01-01 ┆ 242.2                             │\n",
       "│ …          ┆ …                                 │\n",
       "│ 2002-01-01 ┆ 24.7                              │\n",
       "│ 2001-01-01 ┆ 19.9                              │\n",
       "│ 2001-01-01 ┆ 19.9                              │\n",
       "│ 2000-01-01 ┆ 18.7                              │\n",
       "│ 2000-01-01 ┆ 18.7                              │\n",
       "└────────────┴───────────────────────────────────┘"
      ]
     },
     "execution_count": 43,
     "metadata": {},
     "output_type": "execute_result"
    }
   ],
   "source": [
    "Id = 220\n",
    "df = get_df(Id)\n",
    "# get_plot(Id)\n",
    "df"
   ]
  },
  {
   "cell_type": "markdown",
   "id": "8b3aa2df",
   "metadata": {},
   "source": [
    "##### Precio y Variación, Corrientes y Constantes, por NAEH\n"
   ]
  },
  {
   "cell_type": "code",
   "execution_count": 44,
   "id": "b44815cd",
   "metadata": {},
   "outputs": [
    {
     "name": "stderr",
     "output_type": "stream",
     "text": [
      "<string>:29: FutureWarning:\n",
      "\n",
      "Passing literal json to 'read_json' is deprecated and will be removed in a future version. To read from a literal string, wrap it in a 'StringIO' object.\n",
      "\n"
     ]
    },
    {
     "data": {
      "text/html": [
       "<div><style>\n",
       ".dataframe > thead > tr,\n",
       ".dataframe > tbody > tr {\n",
       "  text-align: right;\n",
       "  white-space: pre-wrap;\n",
       "}\n",
       "</style>\n",
       "<small>shape: (2, 5)</small><table border=\"1\" class=\"dataframe\"><thead><tr><th>Niv_Gr_1</th><th>Niv_Gr_2</th><th>Niv_Gr_3</th><th>Niv_Descr_4</th><th>N_Variables</th></tr><tr><td>str</td><td>str</td><td>str</td><td>str</td><td>u32</td></tr></thead><tbody><tr><td>&quot;ESR&quot;</td><td>&quot;VAB&quot;</td><td>&quot;02&quot;</td><td>&quot; Variación &quot;</td><td>32</td></tr><tr><td>&quot;ESR&quot;</td><td>&quot;VAB&quot;</td><td>&quot;02&quot;</td><td>&quot; Precio &quot;</td><td>32</td></tr></tbody></table></div>"
      ],
      "text/plain": [
       "shape: (2, 5)\n",
       "┌──────────┬──────────┬──────────┬─────────────┬─────────────┐\n",
       "│ Niv_Gr_1 ┆ Niv_Gr_2 ┆ Niv_Gr_3 ┆ Niv_Descr_4 ┆ N_Variables │\n",
       "│ ---      ┆ ---      ┆ ---      ┆ ---         ┆ ---         │\n",
       "│ str      ┆ str      ┆ str      ┆ str         ┆ u32         │\n",
       "╞══════════╪══════════╪══════════╪═════════════╪═════════════╡\n",
       "│ ESR      ┆ VAB      ┆ 02       ┆  Variación  ┆ 32          │\n",
       "│ ESR      ┆ VAB      ┆ 02       ┆  Precio     ┆ 32          │\n",
       "└──────────┴──────────┴──────────┴─────────────┴─────────────┘"
      ]
     },
     "execution_count": 44,
     "metadata": {},
     "output_type": "execute_result"
    }
   ],
   "source": [
    "res_nivel_4(\n",
    "    \"ESR\",\"VAB\",\n",
    "    \"Niv_Gr_3\",\n",
    "    \"02\",\n",
    "    \"Niv_Descr_4\")"
   ]
  },
  {
   "cell_type": "code",
   "execution_count": 45,
   "id": "efc9bdf0",
   "metadata": {},
   "outputs": [
    {
     "name": "stderr",
     "output_type": "stream",
     "text": [
      "<string>:29: FutureWarning:\n",
      "\n",
      "Passing literal json to 'read_json' is deprecated and will be removed in a future version. To read from a literal string, wrap it in a 'StringIO' object.\n",
      "\n"
     ]
    },
    {
     "data": {
      "text/html": [
       "<div><style>\n",
       ".dataframe > thead > tr,\n",
       ".dataframe > tbody > tr {\n",
       "  text-align: right;\n",
       "  white-space: pre-wrap;\n",
       "}\n",
       "</style>\n",
       "<small>shape: (4, 6)</small><table border=\"1\" class=\"dataframe\"><thead><tr><th>Niv_Gr_1</th><th>Niv_Gr_2</th><th>Niv_Gr_3</th><th>Niv_Descr_4</th><th>Niv_Descr_5</th><th>N_Variables</th></tr><tr><td>str</td><td>str</td><td>str</td><td>str</td><td>str</td><td>u32</td></tr></thead><tbody><tr><td>&quot;ESR&quot;</td><td>&quot;VAB&quot;</td><td>&quot;02&quot;</td><td>&quot; Precio &quot;</td><td>&quot; Constantes &quot;</td><td>16</td></tr><tr><td>&quot;ESR&quot;</td><td>&quot;VAB&quot;</td><td>&quot;02&quot;</td><td>&quot; Precio &quot;</td><td>&quot; Corrientes &quot;</td><td>16</td></tr><tr><td>&quot;ESR&quot;</td><td>&quot;VAB&quot;</td><td>&quot;02&quot;</td><td>&quot; Variación &quot;</td><td>&quot; Constantes &quot;</td><td>16</td></tr><tr><td>&quot;ESR&quot;</td><td>&quot;VAB&quot;</td><td>&quot;02&quot;</td><td>&quot; Variación &quot;</td><td>&quot; Corrientes &quot;</td><td>16</td></tr></tbody></table></div>"
      ],
      "text/plain": [
       "shape: (4, 6)\n",
       "┌──────────┬──────────┬──────────┬─────────────┬──────────────┬─────────────┐\n",
       "│ Niv_Gr_1 ┆ Niv_Gr_2 ┆ Niv_Gr_3 ┆ Niv_Descr_4 ┆ Niv_Descr_5  ┆ N_Variables │\n",
       "│ ---      ┆ ---      ┆ ---      ┆ ---         ┆ ---          ┆ ---         │\n",
       "│ str      ┆ str      ┆ str      ┆ str         ┆ str          ┆ u32         │\n",
       "╞══════════╪══════════╪══════════╪═════════════╪══════════════╪═════════════╡\n",
       "│ ESR      ┆ VAB      ┆ 02       ┆  Precio     ┆  Constantes  ┆ 16          │\n",
       "│ ESR      ┆ VAB      ┆ 02       ┆  Precio     ┆  Corrientes  ┆ 16          │\n",
       "│ ESR      ┆ VAB      ┆ 02       ┆  Variación  ┆  Constantes  ┆ 16          │\n",
       "│ ESR      ┆ VAB      ┆ 02       ┆  Variación  ┆  Corrientes  ┆ 16          │\n",
       "└──────────┴──────────┴──────────┴─────────────┴──────────────┴─────────────┘"
      ]
     },
     "execution_count": 45,
     "metadata": {},
     "output_type": "execute_result"
    }
   ],
   "source": [
    "res_nivel_5(\n",
    "    \"ESR\",\"VAB\",\n",
    "    \"Niv_Gr_3\",\n",
    "    \"02\",\n",
    "    \"Niv_Descr_4\",\"Niv_Descr_5\")"
   ]
  },
  {
   "cell_type": "markdown",
   "id": "9ba7a7a5",
   "metadata": {},
   "source": [
    "Notar que aquí el Nivel de Descripción 6 (Niv_Descr_6) no es una buena opción de desagregación, puesto que los componentes son \"Actividad Económica\" y \"Productos Alimenticios, Bebidas y Tabaco\"; esta última está detallada en mayor grado en el Nivel de Descripción 7 (Niv_Descr_7).\n",
    "\n",
    "Para saber el contenido de todas las variables:\n"
   ]
  },
  {
   "cell_type": "code",
   "execution_count": 46,
   "id": "b066dfb5",
   "metadata": {},
   "outputs": [
    {
     "name": "stderr",
     "output_type": "stream",
     "text": [
      "<string>:29: FutureWarning:\n",
      "\n",
      "Passing literal json to 'read_json' is deprecated and will be removed in a future version. To read from a literal string, wrap it in a 'StringIO' object.\n",
      "\n"
     ]
    },
    {
     "data": {
      "text/html": [
       "<div><style>\n",
       ".dataframe > thead > tr,\n",
       ".dataframe > tbody > tr {\n",
       "  text-align: right;\n",
       "  white-space: pre-wrap;\n",
       "}\n",
       "</style>\n",
       "<small>shape: (64, 8)</small><table border=\"1\" class=\"dataframe\"><thead><tr><th>Niv_Gr_1</th><th>Niv_Gr_2</th><th>Niv_Gr_3</th><th>Id</th><th>Niv_Descr_4</th><th>Niv_Descr_5</th><th>Niv_Descr_7</th><th>N_Variables</th></tr><tr><td>str</td><td>str</td><td>str</td><td>i64</td><td>str</td><td>str</td><td>str</td><td>u32</td></tr></thead><tbody><tr><td>&quot;ESR&quot;</td><td>&quot;VAB&quot;</td><td>&quot;02&quot;</td><td>283</td><td>&quot; Precio &quot;</td><td>&quot; Constantes &quot;</td><td>&quot; Valor Agregad…</td><td>1</td></tr><tr><td>&quot;ESR&quot;</td><td>&quot;VAB&quot;</td><td>&quot;02&quot;</td><td>300</td><td>&quot; Precio &quot;</td><td>&quot; Corrientes &quot;</td><td>&quot; Producción, P…</td><td>1</td></tr><tr><td>&quot;ESR&quot;</td><td>&quot;VAB&quot;</td><td>&quot;02&quot;</td><td>311</td><td>&quot; Variación &quot;</td><td>&quot; Constantes &quot;</td><td>&quot; Industrias Me…</td><td>1</td></tr><tr><td>&quot;ESR&quot;</td><td>&quot;VAB&quot;</td><td>&quot;02&quot;</td><td>278</td><td>&quot; Precio &quot;</td><td>&quot; Constantes &quot;</td><td>&quot; Fabricación d…</td><td>1</td></tr><tr><td>&quot;ESR&quot;</td><td>&quot;VAB&quot;</td><td>&quot;02&quot;</td><td>289</td><td>&quot; Precio &quot;</td><td>&quot; Corrientes &quot;</td><td>&quot; Productos Ali…</td><td>1</td></tr><tr><td>&hellip;</td><td>&hellip;</td><td>&hellip;</td><td>&hellip;</td><td>&hellip;</td><td>&hellip;</td><td>&hellip;</td><td>&hellip;</td></tr><tr><td>&quot;ESR&quot;</td><td>&quot;VAB&quot;</td><td>&quot;02&quot;</td><td>335</td><td>&quot; Variación &quot;</td><td>&quot; Corrientes &quot;</td><td>&quot; Elaboración d…</td><td>1</td></tr><tr><td>&quot;ESR&quot;</td><td>&quot;VAB&quot;</td><td>&quot;02&quot;</td><td>274</td><td>&quot; Precio &quot;</td><td>&quot; Constantes &quot;</td><td>&quot; Fabricación d…</td><td>1</td></tr><tr><td>&quot;ESR&quot;</td><td>&quot;VAB&quot;</td><td>&quot;02&quot;</td><td>285</td><td>&quot; Precio &quot;</td><td>&quot; Constantes &quot;</td><td>&quot; Elaboración d…</td><td>1</td></tr><tr><td>&quot;ESR&quot;</td><td>&quot;VAB&quot;</td><td>&quot;02&quot;</td><td>308</td><td>&quot; Variación &quot;</td><td>&quot; Constantes &quot;</td><td>&quot; Fabricación d…</td><td>1</td></tr><tr><td>&quot;ESR&quot;</td><td>&quot;VAB&quot;</td><td>&quot;02&quot;</td><td>336</td><td>&quot; Variación &quot;</td><td>&quot; Corrientes &quot;</td><td>&quot; Elaboración d…</td><td>1</td></tr></tbody></table></div>"
      ],
      "text/plain": [
       "shape: (64, 8)\n",
       "┌──────────┬──────────┬──────────┬─────┬─────────────┬──────────────┬────────────────┬─────────────┐\n",
       "│ Niv_Gr_1 ┆ Niv_Gr_2 ┆ Niv_Gr_3 ┆ Id  ┆ Niv_Descr_4 ┆ Niv_Descr_5  ┆ Niv_Descr_7    ┆ N_Variables │\n",
       "│ ---      ┆ ---      ┆ ---      ┆ --- ┆ ---         ┆ ---          ┆ ---            ┆ ---         │\n",
       "│ str      ┆ str      ┆ str      ┆ i64 ┆ str         ┆ str          ┆ str            ┆ u32         │\n",
       "╞══════════╪══════════╪══════════╪═════╪═════════════╪══════════════╪════════════════╪═════════════╡\n",
       "│ ESR      ┆ VAB      ┆ 02       ┆ 283 ┆  Precio     ┆  Constantes  ┆ Valor Agregado ┆ 1           │\n",
       "│          ┆          ┆          ┆     ┆             ┆              ┆ Bruto          ┆             │\n",
       "│ ESR      ┆ VAB      ┆ 02       ┆ 300 ┆  Precio     ┆  Corrientes  ┆ Producción,    ┆ 1           │\n",
       "│          ┆          ┆          ┆     ┆             ┆              ┆ Procesamiento  ┆             │\n",
       "│          ┆          ┆          ┆     ┆             ┆              ┆ y Con…         ┆             │\n",
       "│ ESR      ┆ VAB      ┆ 02       ┆ 311 ┆  Variación  ┆  Constantes  ┆ Industrias     ┆ 1           │\n",
       "│          ┆          ┆          ┆     ┆             ┆              ┆ Metálicas      ┆             │\n",
       "│          ┆          ┆          ┆     ┆             ┆              ┆ Básicas        ┆             │\n",
       "│ ESR      ┆ VAB      ┆ 02       ┆ 278 ┆  Precio     ┆  Constantes  ┆ Fabricación de ┆ 1           │\n",
       "│          ┆          ┆          ┆     ┆             ┆              ┆ Productos de   ┆             │\n",
       "│          ┆          ┆          ┆     ┆             ┆              ┆ Vid…           ┆             │\n",
       "│ ESR      ┆ VAB      ┆ 02       ┆ 289 ┆  Precio     ┆  Corrientes  ┆ Productos      ┆ 1           │\n",
       "│          ┆          ┆          ┆     ┆             ┆              ┆ Alimenticios,  ┆             │\n",
       "│          ┆          ┆          ┆     ┆             ┆              ┆ Bebidas…       ┆             │\n",
       "│ …        ┆ …        ┆ …        ┆ …   ┆ …           ┆ …            ┆ …              ┆ …           │\n",
       "│ ESR      ┆ VAB      ┆ 02       ┆ 335 ┆  Variación  ┆  Corrientes  ┆ Elaboración de ┆ 1           │\n",
       "│          ┆          ┆          ┆     ┆             ┆              ┆ Bebidas        ┆             │\n",
       "│ ESR      ┆ VAB      ┆ 02       ┆ 274 ┆  Precio     ┆  Constantes  ┆ Fabricación de ┆ 1           │\n",
       "│          ┆          ┆          ┆     ┆             ┆              ┆ Productos      ┆             │\n",
       "│          ┆          ┆          ┆     ┆             ┆              ┆ Textil…        ┆             │\n",
       "│ ESR      ┆ VAB      ┆ 02       ┆ 285 ┆  Precio     ┆  Constantes  ┆ Elaboración de ┆ 1           │\n",
       "│          ┆          ┆          ┆     ┆             ┆              ┆ Productos de   ┆             │\n",
       "│          ┆          ┆          ┆     ┆             ┆              ┆ Mol…           ┆             │\n",
       "│ ESR      ┆ VAB      ┆ 02       ┆ 308 ┆  Variación  ┆  Constantes  ┆ Fabricación de ┆ 1           │\n",
       "│          ┆          ┆          ┆     ┆             ┆              ┆ Papel y        ┆             │\n",
       "│          ┆          ┆          ┆     ┆             ┆              ┆ Producto…      ┆             │\n",
       "│ ESR      ┆ VAB      ┆ 02       ┆ 336 ┆  Variación  ┆  Corrientes  ┆ Elaboración de ┆ 1           │\n",
       "│          ┆          ┆          ┆     ┆             ┆              ┆ Productos de   ┆             │\n",
       "│          ┆          ┆          ┆     ┆             ┆              ┆ Tab…           ┆             │\n",
       "└──────────┴──────────┴──────────┴─────┴─────────────┴──────────────┴────────────────┴─────────────┘"
      ]
     },
     "execution_count": 46,
     "metadata": {},
     "output_type": "execute_result"
    }
   ],
   "source": [
    "res_nivel_7(\n",
    "    \"ESR\",\"VAB\",\n",
    "    \"Niv_Gr_3\",\n",
    "    \"02\",\n",
    "    \"Id\",\"Niv_Descr_4\",\"Niv_Descr_5\",\"Niv_Descr_7\")"
   ]
  },
  {
   "cell_type": "markdown",
   "id": "098bd8e0",
   "metadata": {},
   "source": [
    "Resultados de una sola variable:\n"
   ]
  },
  {
   "cell_type": "code",
   "execution_count": 47,
   "id": "d62c03f7",
   "metadata": {},
   "outputs": [
    {
     "name": "stderr",
     "output_type": "stream",
     "text": [
      "<string>:29: FutureWarning:\n",
      "\n",
      "Passing literal json to 'read_json' is deprecated and will be removed in a future version. To read from a literal string, wrap it in a 'StringIO' object.\n",
      "\n"
     ]
    },
    {
     "name": "stderr",
     "output_type": "stream",
     "text": [
      "<string>:29: FutureWarning:\n",
      "\n",
      "Passing literal json to 'read_json' is deprecated and will be removed in a future version. To read from a literal string, wrap it in a 'StringIO' object.\n",
      "\n"
     ]
    },
    {
     "data": {
      "text/html": [
       "<div><style>\n",
       ".dataframe > thead > tr,\n",
       ".dataframe > tbody > tr {\n",
       "  text-align: right;\n",
       "  white-space: pre-wrap;\n",
       "}\n",
       "</style>\n",
       "<small>shape: (48, 2)</small><table border=\"1\" class=\"dataframe\"><thead><tr><th>Fecha</th><th>ESR-VAB-02 - Precio - Constantes -  Actividad Económica - Productos Alimenticios, Bebidas y Tabaco</th></tr><tr><td>date</td><td>f64</td></tr></thead><tbody><tr><td>2023-01-01</td><td>20298.6</td></tr><tr><td>2023-01-01</td><td>20298.6</td></tr><tr><td>2022-01-01</td><td>20131.0</td></tr><tr><td>2022-01-01</td><td>20131.0</td></tr><tr><td>2021-01-01</td><td>19897.0</td></tr><tr><td>&hellip;</td><td>&hellip;</td></tr><tr><td>2002-01-01</td><td>9876.5</td></tr><tr><td>2001-01-01</td><td>9022.1</td></tr><tr><td>2001-01-01</td><td>9022.1</td></tr><tr><td>2000-01-01</td><td>8845.2</td></tr><tr><td>2000-01-01</td><td>8845.2</td></tr></tbody></table></div>"
      ],
      "text/plain": [
       "shape: (48, 2)\n",
       "┌────────────┬───────────────────────────────────┐\n",
       "│ Fecha      ┆ ESR-VAB-02 - Precio - Constantes… │\n",
       "│ ---        ┆ ---                               │\n",
       "│ date       ┆ f64                               │\n",
       "╞════════════╪═══════════════════════════════════╡\n",
       "│ 2023-01-01 ┆ 20298.6                           │\n",
       "│ 2023-01-01 ┆ 20298.6                           │\n",
       "│ 2022-01-01 ┆ 20131.0                           │\n",
       "│ 2022-01-01 ┆ 20131.0                           │\n",
       "│ 2021-01-01 ┆ 19897.0                           │\n",
       "│ …          ┆ …                                 │\n",
       "│ 2002-01-01 ┆ 9876.5                            │\n",
       "│ 2001-01-01 ┆ 9022.1                            │\n",
       "│ 2001-01-01 ┆ 9022.1                            │\n",
       "│ 2000-01-01 ┆ 8845.2                            │\n",
       "│ 2000-01-01 ┆ 8845.2                            │\n",
       "└────────────┴───────────────────────────────────┘"
      ]
     },
     "execution_count": 47,
     "metadata": {},
     "output_type": "execute_result"
    }
   ],
   "source": [
    "Id = 273\n",
    "df = get_df(Id)\n",
    "# get_plot(Id)\n",
    "df"
   ]
  },
  {
   "cell_type": "markdown",
   "id": "3e620363",
   "metadata": {},
   "source": [
    "#### PIBA = PIB Anual\n",
    "\n",
    "La información se encuentra en la viñeta \"Sector Real\" de la [página web del BCH](https://www.bch.hn/estadisticas-y-publicaciones-economicas/reportes-dinamicos/sector-real).\n"
   ]
  },
  {
   "cell_type": "code",
   "execution_count": 48,
   "id": "d72459dc",
   "metadata": {},
   "outputs": [
    {
     "name": "stdout",
     "output_type": "stream",
     "text": [
      "4 subgrupos\n",
      "118 variables\n"
     ]
    },
    {
     "name": "stderr",
     "output_type": "stream",
     "text": [
      "<string>:29: FutureWarning:\n",
      "\n",
      "Passing literal json to 'read_json' is deprecated and will be removed in a future version. To read from a literal string, wrap it in a 'StringIO' object.\n",
      "\n"
     ]
    },
    {
     "data": {
      "text/html": [
       "<div><style>\n",
       ".dataframe > thead > tr,\n",
       ".dataframe > tbody > tr {\n",
       "  text-align: right;\n",
       "  white-space: pre-wrap;\n",
       "}\n",
       "</style>\n",
       "<small>shape: (4, 4)</small><table border=\"1\" class=\"dataframe\"><thead><tr><th>Niv_Gr_1</th><th>Niv_Gr_2</th><th>Niv_Descr_3</th><th>N_Variables</th></tr><tr><td>str</td><td>str</td><td>str</td><td>u32</td></tr></thead><tbody><tr><td>&quot;ESR&quot;</td><td>&quot;PIBA&quot;</td><td>&quot;01 &quot;</td><td>84</td></tr><tr><td>&quot;ESR&quot;</td><td>&quot;PIBA&quot;</td><td>&quot;02 &quot;</td><td>18</td></tr><tr><td>&quot;ESR&quot;</td><td>&quot;PIBA&quot;</td><td>&quot;03 &quot;</td><td>10</td></tr><tr><td>&quot;ESR&quot;</td><td>&quot;PIBA&quot;</td><td>&quot;04 &quot;</td><td>6</td></tr></tbody></table></div>"
      ],
      "text/plain": [
       "shape: (4, 4)\n",
       "┌──────────┬──────────┬─────────────┬─────────────┐\n",
       "│ Niv_Gr_1 ┆ Niv_Gr_2 ┆ Niv_Descr_3 ┆ N_Variables │\n",
       "│ ---      ┆ ---      ┆ ---         ┆ ---         │\n",
       "│ str      ┆ str      ┆ str         ┆ u32         │\n",
       "╞══════════╪══════════╪═════════════╪═════════════╡\n",
       "│ ESR      ┆ PIBA     ┆ 01          ┆ 84          │\n",
       "│ ESR      ┆ PIBA     ┆ 02          ┆ 18          │\n",
       "│ ESR      ┆ PIBA     ┆ 03          ┆ 10          │\n",
       "│ ESR      ┆ PIBA     ┆ 04          ┆ 6           │\n",
       "└──────────┴──────────┴─────────────┴─────────────┘"
      ]
     },
     "execution_count": 48,
     "metadata": {},
     "output_type": "execute_result"
    }
   ],
   "source": [
    "res_nivel_3(\"ESR\",\"PIBA\",\"Niv_Descr_3\")"
   ]
  },
  {
   "cell_type": "markdown",
   "id": "58fd4e4a",
   "metadata": {},
   "source": [
    "##### 01 Valores Corrientes y Constantes, por Actividad Económica\n"
   ]
  },
  {
   "cell_type": "code",
   "execution_count": 49,
   "id": "67b27048",
   "metadata": {},
   "outputs": [
    {
     "name": "stderr",
     "output_type": "stream",
     "text": [
      "<string>:29: FutureWarning:\n",
      "\n",
      "Passing literal json to 'read_json' is deprecated and will be removed in a future version. To read from a literal string, wrap it in a 'StringIO' object.\n",
      "\n"
     ]
    },
    {
     "data": {
      "text/html": [
       "<div><style>\n",
       ".dataframe > thead > tr,\n",
       ".dataframe > tbody > tr {\n",
       "  text-align: right;\n",
       "  white-space: pre-wrap;\n",
       "}\n",
       "</style>\n",
       "<small>shape: (3, 5)</small><table border=\"1\" class=\"dataframe\"><thead><tr><th>Niv_Gr_1</th><th>Niv_Gr_2</th><th>Niv_Gr_3</th><th>Niv_Descr_4</th><th>N_Variables</th></tr><tr><td>str</td><td>str</td><td>str</td><td>str</td><td>u32</td></tr></thead><tbody><tr><td>&quot;ESR&quot;</td><td>&quot;PIBA&quot;</td><td>&quot;01&quot;</td><td>&quot; Constantes &quot;</td><td>42</td></tr><tr><td>&quot;ESR&quot;</td><td>&quot;PIBA&quot;</td><td>&quot;01&quot;</td><td>&quot; Corrientes &quot;</td><td>34</td></tr><tr><td>&quot;ESR&quot;</td><td>&quot;PIBA&quot;</td><td>&quot;01&quot;</td><td>&quot; Corrientes  &quot;</td><td>8</td></tr></tbody></table></div>"
      ],
      "text/plain": [
       "shape: (3, 5)\n",
       "┌──────────┬──────────┬──────────┬───────────────┬─────────────┐\n",
       "│ Niv_Gr_1 ┆ Niv_Gr_2 ┆ Niv_Gr_3 ┆ Niv_Descr_4   ┆ N_Variables │\n",
       "│ ---      ┆ ---      ┆ ---      ┆ ---           ┆ ---         │\n",
       "│ str      ┆ str      ┆ str      ┆ str           ┆ u32         │\n",
       "╞══════════╪══════════╪══════════╪═══════════════╪═════════════╡\n",
       "│ ESR      ┆ PIBA     ┆ 01       ┆  Constantes   ┆ 42          │\n",
       "│ ESR      ┆ PIBA     ┆ 01       ┆  Corrientes   ┆ 34          │\n",
       "│ ESR      ┆ PIBA     ┆ 01       ┆  Corrientes   ┆ 8           │\n",
       "└──────────┴──────────┴──────────┴───────────────┴─────────────┘"
      ]
     },
     "execution_count": 49,
     "metadata": {},
     "output_type": "execute_result"
    }
   ],
   "source": [
    "res_nivel_4(\n",
    "    \"ESR\",\"PIBA\",\n",
    "    \"Niv_Gr_3\",\n",
    "    \"01\",\n",
    "    \"Niv_Descr_4\")"
   ]
  },
  {
   "cell_type": "markdown",
   "id": "7c405f1a",
   "metadata": {},
   "source": [
    "* Rama de Actividad Económica (RAE)\n",
    "* Series Agregadas\n",
    "* Variación RAE\n",
    "* Variación Series Agregadas\n"
   ]
  },
  {
   "cell_type": "code",
   "execution_count": 50,
   "id": "1ba98583",
   "metadata": {},
   "outputs": [
    {
     "name": "stderr",
     "output_type": "stream",
     "text": [
      "<string>:29: FutureWarning:\n",
      "\n",
      "Passing literal json to 'read_json' is deprecated and will be removed in a future version. To read from a literal string, wrap it in a 'StringIO' object.\n",
      "\n"
     ]
    },
    {
     "data": {
      "text/html": [
       "<div><style>\n",
       ".dataframe > thead > tr,\n",
       ".dataframe > tbody > tr {\n",
       "  text-align: right;\n",
       "  white-space: pre-wrap;\n",
       "}\n",
       "</style>\n",
       "<small>shape: (84, 7)</small><table border=\"1\" class=\"dataframe\"><thead><tr><th>Niv_Gr_1</th><th>Niv_Gr_2</th><th>Niv_Gr_3</th><th>Niv_Descr_4</th><th>Niv_Descr_5</th><th>Niv_Descr_6</th><th>N_Variables</th></tr><tr><td>str</td><td>str</td><td>str</td><td>str</td><td>str</td><td>str</td><td>u32</td></tr></thead><tbody><tr><td>&quot;ESR&quot;</td><td>&quot;PIBA&quot;</td><td>&quot;01&quot;</td><td>&quot; Constantes &quot;</td><td>&quot; Variación RAE…</td><td>&quot; Servicios Com…</td><td>1</td></tr><tr><td>&quot;ESR&quot;</td><td>&quot;PIBA&quot;</td><td>&quot;01&quot;</td><td>&quot; Corrientes &quot;</td><td>&quot; Variación RAE…</td><td>&quot; Industrias Ma…</td><td>1</td></tr><tr><td>&quot;ESR&quot;</td><td>&quot;PIBA&quot;</td><td>&quot;01&quot;</td><td>&quot; Constantes &quot;</td><td>&quot; Rama de Activ…</td><td>&quot; Construcción&quot;</td><td>1</td></tr><tr><td>&quot;ESR&quot;</td><td>&quot;PIBA&quot;</td><td>&quot;01&quot;</td><td>&quot; Corrientes &quot;</td><td>&quot; Rama de Activ…</td><td>&quot; Construcción&quot;</td><td>1</td></tr><tr><td>&quot;ESR&quot;</td><td>&quot;PIBA&quot;</td><td>&quot;01&quot;</td><td>&quot; Corrientes &quot;</td><td>&quot; Variación RAE…</td><td>&quot; Electricidad …</td><td>1</td></tr><tr><td>&hellip;</td><td>&hellip;</td><td>&hellip;</td><td>&hellip;</td><td>&hellip;</td><td>&hellip;</td><td>&hellip;</td></tr><tr><td>&quot;ESR&quot;</td><td>&quot;PIBA&quot;</td><td>&quot;01&quot;</td><td>&quot; Constantes &quot;</td><td>&quot; Variación RAE…</td><td>&quot; Agricultura, …</td><td>1</td></tr><tr><td>&quot;ESR&quot;</td><td>&quot;PIBA&quot;</td><td>&quot;01&quot;</td><td>&quot; Constantes &quot;</td><td>&quot; Variación RAE…</td><td>&quot; Comunicacione…</td><td>1</td></tr><tr><td>&quot;ESR&quot;</td><td>&quot;PIBA&quot;</td><td>&quot;01&quot;</td><td>&quot; Constantes &quot;</td><td>&quot; Variación RAE…</td><td>&quot; Electricidad …</td><td>1</td></tr><tr><td>&quot;ESR&quot;</td><td>&quot;PIBA&quot;</td><td>&quot;01&quot;</td><td>&quot; Constantes &quot;</td><td>&quot; Variacion Ser…</td><td>&quot; Producto Naci…</td><td>1</td></tr><tr><td>&quot;ESR&quot;</td><td>&quot;PIBA&quot;</td><td>&quot;01&quot;</td><td>&quot; Corrientes &quot;</td><td>&quot; Rama de Activ…</td><td>&quot; Propiedad de …</td><td>1</td></tr></tbody></table></div>"
      ],
      "text/plain": [
       "shape: (84, 7)\n",
       "┌──────────┬──────────┬──────────┬──────────────┬──────────────────┬─────────────────┬─────────────┐\n",
       "│ Niv_Gr_1 ┆ Niv_Gr_2 ┆ Niv_Gr_3 ┆ Niv_Descr_4  ┆ Niv_Descr_5      ┆ Niv_Descr_6     ┆ N_Variables │\n",
       "│ ---      ┆ ---      ┆ ---      ┆ ---          ┆ ---              ┆ ---             ┆ ---         │\n",
       "│ str      ┆ str      ┆ str      ┆ str          ┆ str              ┆ str             ┆ u32         │\n",
       "╞══════════╪══════════╪══════════╪══════════════╪══════════════════╪═════════════════╪═════════════╡\n",
       "│ ESR      ┆ PIBA     ┆ 01       ┆  Constantes  ┆  Variación RAE   ┆ Servicios       ┆ 1           │\n",
       "│          ┆          ┆          ┆              ┆                  ┆ Comunitarios,   ┆             │\n",
       "│          ┆          ┆          ┆              ┆                  ┆ Sociale…        ┆             │\n",
       "│ ESR      ┆ PIBA     ┆ 01       ┆  Corrientes  ┆  Variación RAE   ┆ Industrias      ┆ 1           │\n",
       "│          ┆          ┆          ┆              ┆                  ┆ Manufactureras  ┆             │\n",
       "│ ESR      ┆ PIBA     ┆ 01       ┆  Constantes  ┆ Rama de          ┆  Construcción   ┆ 1           │\n",
       "│          ┆          ┆          ┆              ┆ Actividad        ┆                 ┆             │\n",
       "│          ┆          ┆          ┆              ┆ Económica        ┆                 ┆             │\n",
       "│ ESR      ┆ PIBA     ┆ 01       ┆  Corrientes  ┆ Rama de          ┆  Construcción   ┆ 1           │\n",
       "│          ┆          ┆          ┆              ┆ Actividad        ┆                 ┆             │\n",
       "│          ┆          ┆          ┆              ┆ Económica        ┆                 ┆             │\n",
       "│ ESR      ┆ PIBA     ┆ 01       ┆  Corrientes  ┆  Variación RAE   ┆ Electricidad y  ┆ 1           │\n",
       "│          ┆          ┆          ┆              ┆                  ┆ Distribución de ┆             │\n",
       "│          ┆          ┆          ┆              ┆                  ┆ …               ┆             │\n",
       "│ …        ┆ …        ┆ …        ┆ …            ┆ …                ┆ …               ┆ …           │\n",
       "│ ESR      ┆ PIBA     ┆ 01       ┆  Constantes  ┆  Variación RAE   ┆ Agricultura,    ┆ 1           │\n",
       "│          ┆          ┆          ┆              ┆                  ┆ Ganadería,      ┆             │\n",
       "│          ┆          ┆          ┆              ┆                  ┆ Caza, S…        ┆             │\n",
       "│ ESR      ┆ PIBA     ┆ 01       ┆  Constantes  ┆  Variación RAE   ┆  Comunicaciones ┆ 1           │\n",
       "│ ESR      ┆ PIBA     ┆ 01       ┆  Constantes  ┆  Variación RAE   ┆ Electricidad y  ┆ 1           │\n",
       "│          ┆          ┆          ┆              ┆                  ┆ Distribución de ┆             │\n",
       "│          ┆          ┆          ┆              ┆                  ┆ …               ┆             │\n",
       "│ ESR      ┆ PIBA     ┆ 01       ┆  Constantes  ┆ Variacion Series ┆ Producto        ┆ 1           │\n",
       "│          ┆          ┆          ┆              ┆ Agregadas        ┆ Nacional Neto = ┆             │\n",
       "│          ┆          ┆          ┆              ┆                  ┆ Ingres…         ┆             │\n",
       "│ ESR      ┆ PIBA     ┆ 01       ┆  Corrientes  ┆ Rama de          ┆ Propiedad de    ┆ 1           │\n",
       "│          ┆          ┆          ┆              ┆ Actividad        ┆ Vivienda        ┆             │\n",
       "│          ┆          ┆          ┆              ┆ Económica        ┆                 ┆             │\n",
       "└──────────┴──────────┴──────────┴──────────────┴──────────────────┴─────────────────┴─────────────┘"
      ]
     },
     "execution_count": 50,
     "metadata": {},
     "output_type": "execute_result"
    }
   ],
   "source": [
    "res_nivel_6(\n",
    "    \"ESR\",\"PIBA\",\n",
    "    \"Niv_Gr_3\",\n",
    "    \"01\",\n",
    "    \"Niv_Descr_4\",\"Niv_Descr_5\",\"Niv_Descr_6\")"
   ]
  },
  {
   "cell_type": "markdown",
   "id": "ba593c22",
   "metadata": {},
   "source": [
    "Para saber el contenido de todas las variables:\n"
   ]
  },
  {
   "cell_type": "code",
   "execution_count": 51,
   "id": "febd3cc5",
   "metadata": {},
   "outputs": [
    {
     "name": "stderr",
     "output_type": "stream",
     "text": [
      "<string>:29: FutureWarning:\n",
      "\n",
      "Passing literal json to 'read_json' is deprecated and will be removed in a future version. To read from a literal string, wrap it in a 'StringIO' object.\n",
      "\n"
     ]
    },
    {
     "data": {
      "text/html": [
       "<div><style>\n",
       ".dataframe > thead > tr,\n",
       ".dataframe > tbody > tr {\n",
       "  text-align: right;\n",
       "  white-space: pre-wrap;\n",
       "}\n",
       "</style>\n",
       "<small>shape: (84, 8)</small><table border=\"1\" class=\"dataframe\"><thead><tr><th>Niv_Gr_1</th><th>Niv_Gr_2</th><th>Niv_Gr_3</th><th>Id</th><th>Niv_Descr_4</th><th>Niv_Descr_5</th><th>Niv_Descr_6</th><th>N_Variables</th></tr><tr><td>str</td><td>str</td><td>str</td><td>i64</td><td>str</td><td>str</td><td>str</td><td>u32</td></tr></thead><tbody><tr><td>&quot;ESR&quot;</td><td>&quot;PIBA&quot;</td><td>&quot;01&quot;</td><td>110</td><td>&quot; Constantes &quot;</td><td>&quot; Rama de Activ…</td><td>&quot; Propiedad de …</td><td>1</td></tr><tr><td>&quot;ESR&quot;</td><td>&quot;PIBA&quot;</td><td>&quot;01&quot;</td><td>149</td><td>&quot; Corrientes &quot;</td><td>&quot; Rama de Activ…</td><td>&quot; Hoteles y Res…</td><td>1</td></tr><tr><td>&quot;ESR&quot;</td><td>&quot;PIBA&quot;</td><td>&quot;01&quot;</td><td>179</td><td>&quot; Corrientes  &quot;</td><td>&quot; Variacion Ser…</td><td>&quot; Producto Inte…</td><td>1</td></tr><tr><td>&quot;ESR&quot;</td><td>&quot;PIBA&quot;</td><td>&quot;01&quot;</td><td>111</td><td>&quot; Constantes &quot;</td><td>&quot; Rama de Activ…</td><td>&quot; Servicios Com…</td><td>1</td></tr><tr><td>&quot;ESR&quot;</td><td>&quot;PIBA&quot;</td><td>&quot;01&quot;</td><td>121</td><td>&quot; Constantes &quot;</td><td>&quot; Variación RAE…</td><td>&quot; Administració…</td><td>1</td></tr><tr><td>&hellip;</td><td>&hellip;</td><td>&hellip;</td><td>&hellip;</td><td>&hellip;</td><td>&hellip;</td><td>&hellip;</td><td>&hellip;</td></tr><tr><td>&quot;ESR&quot;</td><td>&quot;PIBA&quot;</td><td>&quot;01&quot;</td><td>104</td><td>&quot; Constantes &quot;</td><td>&quot; Rama de Activ…</td><td>&quot; Construcción&quot;</td><td>1</td></tr><tr><td>&quot;ESR&quot;</td><td>&quot;PIBA&quot;</td><td>&quot;01&quot;</td><td>126</td><td>&quot; Constantes &quot;</td><td>&quot; Variación RAE…</td><td>&quot; Electricidad …</td><td>1</td></tr><tr><td>&quot;ESR&quot;</td><td>&quot;PIBA&quot;</td><td>&quot;01&quot;</td><td>136</td><td>&quot; Constantes &quot;</td><td>&quot; Variación RAE…</td><td>&quot; Transporte, A…</td><td>1</td></tr><tr><td>&quot;ESR&quot;</td><td>&quot;PIBA&quot;</td><td>&quot;01&quot;</td><td>176</td><td>&quot; Corrientes  &quot;</td><td>&quot; Series Agrega…</td><td>&quot; Producto Naci…</td><td>1</td></tr><tr><td>&quot;ESR&quot;</td><td>&quot;PIBA&quot;</td><td>&quot;01&quot;</td><td>181</td><td>&quot; Corrientes  &quot;</td><td>&quot; Variacion Ser…</td><td>&quot; Producto Naci…</td><td>1</td></tr></tbody></table></div>"
      ],
      "text/plain": [
       "shape: (84, 8)\n",
       "┌──────────┬──────────┬──────────┬─────┬───────────────┬──────────────┬──────────────┬─────────────┐\n",
       "│ Niv_Gr_1 ┆ Niv_Gr_2 ┆ Niv_Gr_3 ┆ Id  ┆ Niv_Descr_4   ┆ Niv_Descr_5  ┆ Niv_Descr_6  ┆ N_Variables │\n",
       "│ ---      ┆ ---      ┆ ---      ┆ --- ┆ ---           ┆ ---          ┆ ---          ┆ ---         │\n",
       "│ str      ┆ str      ┆ str      ┆ i64 ┆ str           ┆ str          ┆ str          ┆ u32         │\n",
       "╞══════════╪══════════╪══════════╪═════╪═══════════════╪══════════════╪══════════════╪═════════════╡\n",
       "│ ESR      ┆ PIBA     ┆ 01       ┆ 110 ┆  Constantes   ┆ Rama de      ┆ Propiedad de ┆ 1           │\n",
       "│          ┆          ┆          ┆     ┆               ┆ Actividad    ┆ Vivienda     ┆             │\n",
       "│          ┆          ┆          ┆     ┆               ┆ Económica    ┆              ┆             │\n",
       "│ ESR      ┆ PIBA     ┆ 01       ┆ 149 ┆  Corrientes   ┆ Rama de      ┆ Hoteles y    ┆ 1           │\n",
       "│          ┆          ┆          ┆     ┆               ┆ Actividad    ┆ Restaurantes ┆             │\n",
       "│          ┆          ┆          ┆     ┆               ┆ Económica    ┆              ┆             │\n",
       "│ ESR      ┆ PIBA     ┆ 01       ┆ 179 ┆  Corrientes   ┆ Variacion    ┆ Producto     ┆ 1           │\n",
       "│          ┆          ┆          ┆     ┆               ┆ Series       ┆ Interno      ┆             │\n",
       "│          ┆          ┆          ┆     ┆               ┆ Agregadas    ┆ Bruto (pm)   ┆             │\n",
       "│ ESR      ┆ PIBA     ┆ 01       ┆ 111 ┆  Constantes   ┆ Rama de      ┆ Servicios    ┆ 1           │\n",
       "│          ┆          ┆          ┆     ┆               ┆ Actividad    ┆ Comunitarios ┆             │\n",
       "│          ┆          ┆          ┆     ┆               ┆ Económica    ┆ , Sociale…   ┆             │\n",
       "│ ESR      ┆ PIBA     ┆ 01       ┆ 121 ┆  Constantes   ┆ Variación    ┆ Administraci ┆ 1           │\n",
       "│          ┆          ┆          ┆     ┆               ┆ RAE          ┆ ón Pública y ┆             │\n",
       "│          ┆          ┆          ┆     ┆               ┆              ┆ Defens…      ┆             │\n",
       "│ …        ┆ …        ┆ …        ┆ …   ┆ …             ┆ …            ┆ …            ┆ …           │\n",
       "│ ESR      ┆ PIBA     ┆ 01       ┆ 104 ┆  Constantes   ┆ Rama de      ┆ Construcción ┆ 1           │\n",
       "│          ┆          ┆          ┆     ┆               ┆ Actividad    ┆              ┆             │\n",
       "│          ┆          ┆          ┆     ┆               ┆ Económica    ┆              ┆             │\n",
       "│ ESR      ┆ PIBA     ┆ 01       ┆ 126 ┆  Constantes   ┆ Variación    ┆ Electricidad ┆ 1           │\n",
       "│          ┆          ┆          ┆     ┆               ┆ RAE          ┆ y            ┆             │\n",
       "│          ┆          ┆          ┆     ┆               ┆              ┆ Distribución ┆             │\n",
       "│          ┆          ┆          ┆     ┆               ┆              ┆ de …         ┆             │\n",
       "│ ESR      ┆ PIBA     ┆ 01       ┆ 136 ┆  Constantes   ┆ Variación    ┆ Transporte,  ┆ 1           │\n",
       "│          ┆          ┆          ┆     ┆               ┆ RAE          ┆ Almacenamien ┆             │\n",
       "│          ┆          ┆          ┆     ┆               ┆              ┆ to           ┆             │\n",
       "│ ESR      ┆ PIBA     ┆ 01       ┆ 176 ┆  Corrientes   ┆ Series       ┆ Producto     ┆ 1           │\n",
       "│          ┆          ┆          ┆     ┆               ┆ Agregadas    ┆ Nacional     ┆             │\n",
       "│          ┆          ┆          ┆     ┆               ┆              ┆ Bruto (pm)   ┆             │\n",
       "│ ESR      ┆ PIBA     ┆ 01       ┆ 181 ┆  Corrientes   ┆ Variacion    ┆ Producto     ┆ 1           │\n",
       "│          ┆          ┆          ┆     ┆               ┆ Series       ┆ Nacional     ┆             │\n",
       "│          ┆          ┆          ┆     ┆               ┆ Agregadas    ┆ Neto =       ┆             │\n",
       "│          ┆          ┆          ┆     ┆               ┆              ┆ Ingres…      ┆             │\n",
       "└──────────┴──────────┴──────────┴─────┴───────────────┴──────────────┴──────────────┴─────────────┘"
      ]
     },
     "execution_count": 51,
     "metadata": {},
     "output_type": "execute_result"
    }
   ],
   "source": [
    "res_nivel_7(\n",
    "    \"ESR\",\"PIBA\",\n",
    "    \"Niv_Gr_3\",\n",
    "    \"01\",\n",
    "    \"Id\",\"Niv_Descr_4\",\"Niv_Descr_5\",\"Niv_Descr_6\")"
   ]
  },
  {
   "cell_type": "markdown",
   "id": "c751b7a5",
   "metadata": {},
   "source": [
    "Resultados de una sola variable:\n"
   ]
  },
  {
   "cell_type": "code",
   "execution_count": 52,
   "id": "f2a15bf6",
   "metadata": {},
   "outputs": [
    {
     "name": "stderr",
     "output_type": "stream",
     "text": [
      "<string>:29: FutureWarning:\n",
      "\n",
      "Passing literal json to 'read_json' is deprecated and will be removed in a future version. To read from a literal string, wrap it in a 'StringIO' object.\n",
      "\n"
     ]
    },
    {
     "name": "stderr",
     "output_type": "stream",
     "text": [
      "<string>:29: FutureWarning:\n",
      "\n",
      "Passing literal json to 'read_json' is deprecated and will be removed in a future version. To read from a literal string, wrap it in a 'StringIO' object.\n",
      "\n"
     ]
    },
    {
     "data": {
      "text/html": [
       "<div><style>\n",
       ".dataframe > thead > tr,\n",
       ".dataframe > tbody > tr {\n",
       "  text-align: right;\n",
       "  white-space: pre-wrap;\n",
       "}\n",
       "</style>\n",
       "<small>shape: (24, 2)</small><table border=\"1\" class=\"dataframe\"><thead><tr><th>Fecha</th><th>ESR-PIBA-01 - Constantes - Rama de Actividad Económica - Agricultura, Ganadería, Caza, Silvicultura y Pesca </th></tr><tr><td>date</td><td>f64</td></tr></thead><tbody><tr><td>2023-01-01</td><td>29758.4</td></tr><tr><td>2022-01-01</td><td>28627.6</td></tr><tr><td>2021-01-01</td><td>28536.8</td></tr><tr><td>2020-01-01</td><td>28987.9</td></tr><tr><td>2019-01-01</td><td>30626.7</td></tr><tr><td>&hellip;</td><td>&hellip;</td></tr><tr><td>2004-01-01</td><td>17952.3</td></tr><tr><td>2003-01-01</td><td>16743.2</td></tr><tr><td>2002-01-01</td><td>16358.9</td></tr><tr><td>2001-01-01</td><td>15654.0</td></tr><tr><td>2000-01-01</td><td>15328.9</td></tr></tbody></table></div>"
      ],
      "text/plain": [
       "shape: (24, 2)\n",
       "┌────────────┬───────────────────────────────────┐\n",
       "│ Fecha      ┆ ESR-PIBA-01 - Constantes - Rama … │\n",
       "│ ---        ┆ ---                               │\n",
       "│ date       ┆ f64                               │\n",
       "╞════════════╪═══════════════════════════════════╡\n",
       "│ 2023-01-01 ┆ 29758.4                           │\n",
       "│ 2022-01-01 ┆ 28627.6                           │\n",
       "│ 2021-01-01 ┆ 28536.8                           │\n",
       "│ 2020-01-01 ┆ 28987.9                           │\n",
       "│ 2019-01-01 ┆ 30626.7                           │\n",
       "│ …          ┆ …                                 │\n",
       "│ 2004-01-01 ┆ 17952.3                           │\n",
       "│ 2003-01-01 ┆ 16743.2                           │\n",
       "│ 2002-01-01 ┆ 16358.9                           │\n",
       "│ 2001-01-01 ┆ 15654.0                           │\n",
       "│ 2000-01-01 ┆ 15328.9                           │\n",
       "└────────────┴───────────────────────────────────┘"
      ]
     },
     "execution_count": 52,
     "metadata": {},
     "output_type": "execute_result"
    }
   ],
   "source": [
    "Id = 101\n",
    "df = get_df(Id)\n",
    "# get_plot(Id)\n",
    "df"
   ]
  },
  {
   "cell_type": "markdown",
   "id": "18746382",
   "metadata": {},
   "source": [
    "##### 02 Precios y Variación, por Componente del Gasto\n"
   ]
  },
  {
   "cell_type": "code",
   "execution_count": 53,
   "id": "074d100c",
   "metadata": {},
   "outputs": [
    {
     "name": "stderr",
     "output_type": "stream",
     "text": [
      "<string>:29: FutureWarning:\n",
      "\n",
      "Passing literal json to 'read_json' is deprecated and will be removed in a future version. To read from a literal string, wrap it in a 'StringIO' object.\n",
      "\n"
     ]
    },
    {
     "data": {
      "text/html": [
       "<div><style>\n",
       ".dataframe > thead > tr,\n",
       ".dataframe > tbody > tr {\n",
       "  text-align: right;\n",
       "  white-space: pre-wrap;\n",
       "}\n",
       "</style>\n",
       "<small>shape: (2, 5)</small><table border=\"1\" class=\"dataframe\"><thead><tr><th>Niv_Gr_1</th><th>Niv_Gr_2</th><th>Niv_Gr_3</th><th>Niv_Descr_4</th><th>N_Variables</th></tr><tr><td>str</td><td>str</td><td>str</td><td>str</td><td>u32</td></tr></thead><tbody><tr><td>&quot;ESR&quot;</td><td>&quot;PIBA&quot;</td><td>&quot;02&quot;</td><td>&quot; Precio &quot;</td><td>10</td></tr><tr><td>&quot;ESR&quot;</td><td>&quot;PIBA&quot;</td><td>&quot;02&quot;</td><td>&quot; Variación &quot;</td><td>8</td></tr></tbody></table></div>"
      ],
      "text/plain": [
       "shape: (2, 5)\n",
       "┌──────────┬──────────┬──────────┬─────────────┬─────────────┐\n",
       "│ Niv_Gr_1 ┆ Niv_Gr_2 ┆ Niv_Gr_3 ┆ Niv_Descr_4 ┆ N_Variables │\n",
       "│ ---      ┆ ---      ┆ ---      ┆ ---         ┆ ---         │\n",
       "│ str      ┆ str      ┆ str      ┆ str         ┆ u32         │\n",
       "╞══════════╪══════════╪══════════╪═════════════╪═════════════╡\n",
       "│ ESR      ┆ PIBA     ┆ 02       ┆  Precio     ┆ 10          │\n",
       "│ ESR      ┆ PIBA     ┆ 02       ┆  Variación  ┆ 8           │\n",
       "└──────────┴──────────┴──────────┴─────────────┴─────────────┘"
      ]
     },
     "execution_count": 53,
     "metadata": {},
     "output_type": "execute_result"
    }
   ],
   "source": [
    "res_nivel_4(\n",
    "    \"ESR\",\"PIBA\",\n",
    "    \"Niv_Gr_3\",\n",
    "    \"02\",\n",
    "    \"Niv_Descr_4\")"
   ]
  },
  {
   "cell_type": "markdown",
   "id": "4c6d7165",
   "metadata": {},
   "source": [
    "Tipo de Valores (\"Niv_Descr_5\"):\n",
    "\n",
    "* Corrientes\n",
    "* Constantes\n"
   ]
  },
  {
   "cell_type": "code",
   "execution_count": 54,
   "id": "1f624a3a",
   "metadata": {},
   "outputs": [
    {
     "name": "stderr",
     "output_type": "stream",
     "text": [
      "<string>:29: FutureWarning:\n",
      "\n",
      "Passing literal json to 'read_json' is deprecated and will be removed in a future version. To read from a literal string, wrap it in a 'StringIO' object.\n",
      "\n"
     ]
    },
    {
     "data": {
      "text/html": [
       "<div><style>\n",
       ".dataframe > thead > tr,\n",
       ".dataframe > tbody > tr {\n",
       "  text-align: right;\n",
       "  white-space: pre-wrap;\n",
       "}\n",
       "</style>\n",
       "<small>shape: (18, 7)</small><table border=\"1\" class=\"dataframe\"><thead><tr><th>Niv_Gr_1</th><th>Niv_Gr_2</th><th>Niv_Gr_3</th><th>Niv_Descr_4</th><th>Niv_Descr_5</th><th>Niv_Descr_6</th><th>N_Variables</th></tr><tr><td>str</td><td>str</td><td>str</td><td>str</td><td>str</td><td>str</td><td>u32</td></tr></thead><tbody><tr><td>&quot;ESR&quot;</td><td>&quot;PIBA&quot;</td><td>&quot;02&quot;</td><td>&quot; Precio &quot;</td><td>&quot; Corrientes &quot;</td><td>&quot; Exportación f…</td><td>1</td></tr><tr><td>&quot;ESR&quot;</td><td>&quot;PIBA&quot;</td><td>&quot;02&quot;</td><td>&quot; Variación &quot;</td><td>&quot; Corrientes &quot;</td><td>&quot; Formación Bru…</td><td>1</td></tr><tr><td>&quot;ESR&quot;</td><td>&quot;PIBA&quot;</td><td>&quot;02&quot;</td><td>&quot; Variación &quot;</td><td>&quot; Constantes &quot;</td><td>&quot; Formación Bru…</td><td>1</td></tr><tr><td>&quot;ESR&quot;</td><td>&quot;PIBA&quot;</td><td>&quot;02&quot;</td><td>&quot; Variación &quot;</td><td>&quot; Corrientes &quot;</td><td>&quot; Gasto de Cons…</td><td>1</td></tr><tr><td>&quot;ESR&quot;</td><td>&quot;PIBA&quot;</td><td>&quot;02&quot;</td><td>&quot; Precio &quot;</td><td>&quot; Constantes &quot;</td><td>&quot; Variación de …</td><td>1</td></tr><tr><td>&hellip;</td><td>&hellip;</td><td>&hellip;</td><td>&hellip;</td><td>&hellip;</td><td>&hellip;</td><td>&hellip;</td></tr><tr><td>&quot;ESR&quot;</td><td>&quot;PIBA&quot;</td><td>&quot;02&quot;</td><td>&quot; Precio &quot;</td><td>&quot; Constantes &quot;</td><td>&quot; Formación Bru…</td><td>1</td></tr><tr><td>&quot;ESR&quot;</td><td>&quot;PIBA&quot;</td><td>&quot;02&quot;</td><td>&quot; Variación &quot;</td><td>&quot; Constantes &quot;</td><td>&quot; Importación c…</td><td>1</td></tr><tr><td>&quot;ESR&quot;</td><td>&quot;PIBA&quot;</td><td>&quot;02&quot;</td><td>&quot; Precio &quot;</td><td>&quot; Constantes &quot;</td><td>&quot; Exportación f…</td><td>1</td></tr><tr><td>&quot;ESR&quot;</td><td>&quot;PIBA&quot;</td><td>&quot;02&quot;</td><td>&quot; Precio &quot;</td><td>&quot; Corrientes &quot;</td><td>&quot; Variación de …</td><td>1</td></tr><tr><td>&quot;ESR&quot;</td><td>&quot;PIBA&quot;</td><td>&quot;02&quot;</td><td>&quot; Variación &quot;</td><td>&quot; Corrientes &quot;</td><td>&quot; Importación c…</td><td>1</td></tr></tbody></table></div>"
      ],
      "text/plain": [
       "shape: (18, 7)\n",
       "┌──────────┬──────────┬──────────┬─────────────┬──────────────┬──────────────────────┬─────────────┐\n",
       "│ Niv_Gr_1 ┆ Niv_Gr_2 ┆ Niv_Gr_3 ┆ Niv_Descr_4 ┆ Niv_Descr_5  ┆ Niv_Descr_6          ┆ N_Variables │\n",
       "│ ---      ┆ ---      ┆ ---      ┆ ---         ┆ ---          ┆ ---                  ┆ ---         │\n",
       "│ str      ┆ str      ┆ str      ┆ str         ┆ str          ┆ str                  ┆ u32         │\n",
       "╞══════════╪══════════╪══════════╪═════════════╪══════════════╪══════════════════════╪═════════════╡\n",
       "│ ESR      ┆ PIBA     ┆ 02       ┆  Precio     ┆  Corrientes  ┆ Exportación fob de   ┆ 1           │\n",
       "│          ┆          ┆          ┆             ┆              ┆ bienes y ser…        ┆             │\n",
       "│ ESR      ┆ PIBA     ┆ 02       ┆  Variación  ┆  Corrientes  ┆ Formación Bruta de   ┆ 1           │\n",
       "│          ┆          ┆          ┆             ┆              ┆ Capital Fijo         ┆             │\n",
       "│ ESR      ┆ PIBA     ┆ 02       ┆  Variación  ┆  Constantes  ┆ Formación Bruta de   ┆ 1           │\n",
       "│          ┆          ┆          ┆             ┆              ┆ Capital Fijo         ┆             │\n",
       "│ ESR      ┆ PIBA     ┆ 02       ┆  Variación  ┆  Corrientes  ┆ Gasto de Consumo     ┆ 1           │\n",
       "│          ┆          ┆          ┆             ┆              ┆ Final                ┆             │\n",
       "│ ESR      ┆ PIBA     ┆ 02       ┆  Precio     ┆  Constantes  ┆ Variación de         ┆ 1           │\n",
       "│          ┆          ┆          ┆             ┆              ┆ Existencias          ┆             │\n",
       "│ …        ┆ …        ┆ …        ┆ …           ┆ …            ┆ …                    ┆ …           │\n",
       "│ ESR      ┆ PIBA     ┆ 02       ┆  Precio     ┆  Constantes  ┆ Formación Bruta de   ┆ 1           │\n",
       "│          ┆          ┆          ┆             ┆              ┆ Capital Fijo         ┆             │\n",
       "│ ESR      ┆ PIBA     ┆ 02       ┆  Variación  ┆  Constantes  ┆ Importación cif de   ┆ 1           │\n",
       "│          ┆          ┆          ┆             ┆              ┆ bienes y ser…        ┆             │\n",
       "│ ESR      ┆ PIBA     ┆ 02       ┆  Precio     ┆  Constantes  ┆ Exportación fob de   ┆ 1           │\n",
       "│          ┆          ┆          ┆             ┆              ┆ bienes y ser…        ┆             │\n",
       "│ ESR      ┆ PIBA     ┆ 02       ┆  Precio     ┆  Corrientes  ┆ Variación de         ┆ 1           │\n",
       "│          ┆          ┆          ┆             ┆              ┆ Existencias          ┆             │\n",
       "│ ESR      ┆ PIBA     ┆ 02       ┆  Variación  ┆  Corrientes  ┆ Importación cif de   ┆ 1           │\n",
       "│          ┆          ┆          ┆             ┆              ┆ bienes y ser…        ┆             │\n",
       "└──────────┴──────────┴──────────┴─────────────┴──────────────┴──────────────────────┴─────────────┘"
      ]
     },
     "execution_count": 54,
     "metadata": {},
     "output_type": "execute_result"
    }
   ],
   "source": [
    "res_nivel_6(\n",
    "    \"ESR\",\"PIBA\",\n",
    "    \"Niv_Gr_3\",\n",
    "    \"02\",\n",
    "    \"Niv_Descr_4\",\"Niv_Descr_5\",\"Niv_Descr_6\")"
   ]
  },
  {
   "cell_type": "markdown",
   "id": "8897f836",
   "metadata": {},
   "source": [
    "Para saber el contenido de todas las variables:\n"
   ]
  },
  {
   "cell_type": "code",
   "execution_count": 55,
   "id": "ae609469",
   "metadata": {},
   "outputs": [
    {
     "name": "stderr",
     "output_type": "stream",
     "text": [
      "<string>:29: FutureWarning:\n",
      "\n",
      "Passing literal json to 'read_json' is deprecated and will be removed in a future version. To read from a literal string, wrap it in a 'StringIO' object.\n",
      "\n"
     ]
    },
    {
     "data": {
      "text/html": [
       "<div><style>\n",
       ".dataframe > thead > tr,\n",
       ".dataframe > tbody > tr {\n",
       "  text-align: right;\n",
       "  white-space: pre-wrap;\n",
       "}\n",
       "</style>\n",
       "<small>shape: (18, 8)</small><table border=\"1\" class=\"dataframe\"><thead><tr><th>Niv_Gr_1</th><th>Niv_Gr_2</th><th>Niv_Gr_3</th><th>Id</th><th>Niv_Descr_4</th><th>Niv_Descr_5</th><th>Niv_Descr_6</th><th>N_Variables</th></tr><tr><td>str</td><td>str</td><td>str</td><td>i64</td><td>str</td><td>str</td><td>str</td><td>u32</td></tr></thead><tbody><tr><td>&quot;ESR&quot;</td><td>&quot;PIBA&quot;</td><td>&quot;02&quot;</td><td>197</td><td>&quot; Variación &quot;</td><td>&quot; Corrientes &quot;</td><td>&quot; Exportación f…</td><td>1</td></tr><tr><td>&quot;ESR&quot;</td><td>&quot;PIBA&quot;</td><td>&quot;02&quot;</td><td>183</td><td>&quot; Precio &quot;</td><td>&quot; Constantes &quot;</td><td>&quot; Exportación f…</td><td>1</td></tr><tr><td>&quot;ESR&quot;</td><td>&quot;PIBA&quot;</td><td>&quot;02&quot;</td><td>188</td><td>&quot; Precio &quot;</td><td>&quot; Corrientes &quot;</td><td>&quot; Exportación f…</td><td>1</td></tr><tr><td>&quot;ESR&quot;</td><td>&quot;PIBA&quot;</td><td>&quot;02&quot;</td><td>191</td><td>&quot; Precio &quot;</td><td>&quot; Corrientes &quot;</td><td>&quot; Importación c…</td><td>1</td></tr><tr><td>&quot;ESR&quot;</td><td>&quot;PIBA&quot;</td><td>&quot;02&quot;</td><td>187</td><td>&quot; Precio &quot;</td><td>&quot; Constantes &quot;</td><td>&quot; Variación de …</td><td>1</td></tr><tr><td>&hellip;</td><td>&hellip;</td><td>&hellip;</td><td>&hellip;</td><td>&hellip;</td><td>&hellip;</td><td>&hellip;</td><td>&hellip;</td></tr><tr><td>&quot;ESR&quot;</td><td>&quot;PIBA&quot;</td><td>&quot;02&quot;</td><td>194</td><td>&quot; Variación &quot;</td><td>&quot; Constantes &quot;</td><td>&quot; Formación Bru…</td><td>1</td></tr><tr><td>&quot;ESR&quot;</td><td>&quot;PIBA&quot;</td><td>&quot;02&quot;</td><td>195</td><td>&quot; Variación &quot;</td><td>&quot; Constantes &quot;</td><td>&quot; Gasto de Cons…</td><td>1</td></tr><tr><td>&quot;ESR&quot;</td><td>&quot;PIBA&quot;</td><td>&quot;02&quot;</td><td>186</td><td>&quot; Precio &quot;</td><td>&quot; Constantes &quot;</td><td>&quot; Importación c…</td><td>1</td></tr><tr><td>&quot;ESR&quot;</td><td>&quot;PIBA&quot;</td><td>&quot;02&quot;</td><td>190</td><td>&quot; Precio &quot;</td><td>&quot; Corrientes &quot;</td><td>&quot; Gasto de Cons…</td><td>1</td></tr><tr><td>&quot;ESR&quot;</td><td>&quot;PIBA&quot;</td><td>&quot;02&quot;</td><td>184</td><td>&quot; Precio &quot;</td><td>&quot; Constantes &quot;</td><td>&quot; Formación Bru…</td><td>1</td></tr></tbody></table></div>"
      ],
      "text/plain": [
       "shape: (18, 8)\n",
       "┌──────────┬──────────┬──────────┬─────┬─────────────┬──────────────┬────────────────┬─────────────┐\n",
       "│ Niv_Gr_1 ┆ Niv_Gr_2 ┆ Niv_Gr_3 ┆ Id  ┆ Niv_Descr_4 ┆ Niv_Descr_5  ┆ Niv_Descr_6    ┆ N_Variables │\n",
       "│ ---      ┆ ---      ┆ ---      ┆ --- ┆ ---         ┆ ---          ┆ ---            ┆ ---         │\n",
       "│ str      ┆ str      ┆ str      ┆ i64 ┆ str         ┆ str          ┆ str            ┆ u32         │\n",
       "╞══════════╪══════════╪══════════╪═════╪═════════════╪══════════════╪════════════════╪═════════════╡\n",
       "│ ESR      ┆ PIBA     ┆ 02       ┆ 197 ┆  Variación  ┆  Corrientes  ┆ Exportación    ┆ 1           │\n",
       "│          ┆          ┆          ┆     ┆             ┆              ┆ fob de bienes  ┆             │\n",
       "│          ┆          ┆          ┆     ┆             ┆              ┆ y ser…         ┆             │\n",
       "│ ESR      ┆ PIBA     ┆ 02       ┆ 183 ┆  Precio     ┆  Constantes  ┆ Exportación    ┆ 1           │\n",
       "│          ┆          ┆          ┆     ┆             ┆              ┆ fob de bienes  ┆             │\n",
       "│          ┆          ┆          ┆     ┆             ┆              ┆ y ser…         ┆             │\n",
       "│ ESR      ┆ PIBA     ┆ 02       ┆ 188 ┆  Precio     ┆  Corrientes  ┆ Exportación    ┆ 1           │\n",
       "│          ┆          ┆          ┆     ┆             ┆              ┆ fob de bienes  ┆             │\n",
       "│          ┆          ┆          ┆     ┆             ┆              ┆ y ser…         ┆             │\n",
       "│ ESR      ┆ PIBA     ┆ 02       ┆ 191 ┆  Precio     ┆  Corrientes  ┆ Importación    ┆ 1           │\n",
       "│          ┆          ┆          ┆     ┆             ┆              ┆ cif de bienes  ┆             │\n",
       "│          ┆          ┆          ┆     ┆             ┆              ┆ y ser…         ┆             │\n",
       "│ ESR      ┆ PIBA     ┆ 02       ┆ 187 ┆  Precio     ┆  Constantes  ┆ Variación de   ┆ 1           │\n",
       "│          ┆          ┆          ┆     ┆             ┆              ┆ Existencias    ┆             │\n",
       "│ …        ┆ …        ┆ …        ┆ …   ┆ …           ┆ …            ┆ …              ┆ …           │\n",
       "│ ESR      ┆ PIBA     ┆ 02       ┆ 194 ┆  Variación  ┆  Constantes  ┆ Formación      ┆ 1           │\n",
       "│          ┆          ┆          ┆     ┆             ┆              ┆ Bruta de       ┆             │\n",
       "│          ┆          ┆          ┆     ┆             ┆              ┆ Capital Fijo   ┆             │\n",
       "│ ESR      ┆ PIBA     ┆ 02       ┆ 195 ┆  Variación  ┆  Constantes  ┆ Gasto de       ┆ 1           │\n",
       "│          ┆          ┆          ┆     ┆             ┆              ┆ Consumo Final  ┆             │\n",
       "│ ESR      ┆ PIBA     ┆ 02       ┆ 186 ┆  Precio     ┆  Constantes  ┆ Importación    ┆ 1           │\n",
       "│          ┆          ┆          ┆     ┆             ┆              ┆ cif de bienes  ┆             │\n",
       "│          ┆          ┆          ┆     ┆             ┆              ┆ y ser…         ┆             │\n",
       "│ ESR      ┆ PIBA     ┆ 02       ┆ 190 ┆  Precio     ┆  Corrientes  ┆ Gasto de       ┆ 1           │\n",
       "│          ┆          ┆          ┆     ┆             ┆              ┆ Consumo Final  ┆             │\n",
       "│ ESR      ┆ PIBA     ┆ 02       ┆ 184 ┆  Precio     ┆  Constantes  ┆ Formación      ┆ 1           │\n",
       "│          ┆          ┆          ┆     ┆             ┆              ┆ Bruta de       ┆             │\n",
       "│          ┆          ┆          ┆     ┆             ┆              ┆ Capital Fijo   ┆             │\n",
       "└──────────┴──────────┴──────────┴─────┴─────────────┴──────────────┴────────────────┴─────────────┘"
      ]
     },
     "execution_count": 55,
     "metadata": {},
     "output_type": "execute_result"
    }
   ],
   "source": [
    "res_nivel_7(\n",
    "    \"ESR\",\"PIBA\",\n",
    "    \"Niv_Gr_3\",\n",
    "    \"02\",\n",
    "    \"Id\",\"Niv_Descr_4\",\"Niv_Descr_5\",\"Niv_Descr_6\")"
   ]
  },
  {
   "cell_type": "markdown",
   "id": "a9040b44",
   "metadata": {},
   "source": [
    "Resultados de una sola variable:\n"
   ]
  },
  {
   "cell_type": "code",
   "execution_count": 56,
   "id": "ca3a9c65",
   "metadata": {},
   "outputs": [
    {
     "name": "stderr",
     "output_type": "stream",
     "text": [
      "<string>:29: FutureWarning:\n",
      "\n",
      "Passing literal json to 'read_json' is deprecated and will be removed in a future version. To read from a literal string, wrap it in a 'StringIO' object.\n",
      "\n"
     ]
    },
    {
     "name": "stderr",
     "output_type": "stream",
     "text": [
      "<string>:29: FutureWarning:\n",
      "\n",
      "Passing literal json to 'read_json' is deprecated and will be removed in a future version. To read from a literal string, wrap it in a 'StringIO' object.\n",
      "\n"
     ]
    },
    {
     "data": {
      "text/html": [
       "<div><style>\n",
       ".dataframe > thead > tr,\n",
       ".dataframe > tbody > tr {\n",
       "  text-align: right;\n",
       "  white-space: pre-wrap;\n",
       "}\n",
       "</style>\n",
       "<small>shape: (46, 2)</small><table border=\"1\" class=\"dataframe\"><thead><tr><th>Fecha</th><th>ESR-PIBA-02 - Variación - Constantes - Formación Bruta de Capital Fijo</th></tr><tr><td>date</td><td>f64</td></tr></thead><tbody><tr><td>2023-01-01</td><td>12.9</td></tr><tr><td>2023-01-01</td><td>12.9</td></tr><tr><td>2022-01-01</td><td>2.6</td></tr><tr><td>2022-01-01</td><td>2.6</td></tr><tr><td>2021-01-01</td><td>41.5</td></tr><tr><td>&hellip;</td><td>&hellip;</td></tr><tr><td>2003-01-01</td><td>6.2</td></tr><tr><td>2002-01-01</td><td>-7.3</td></tr><tr><td>2002-01-01</td><td>-7.3</td></tr><tr><td>2001-01-01</td><td>-3.0</td></tr><tr><td>2001-01-01</td><td>-3.0</td></tr></tbody></table></div>"
      ],
      "text/plain": [
       "shape: (46, 2)\n",
       "┌────────────┬───────────────────────────────────┐\n",
       "│ Fecha      ┆ ESR-PIBA-02 - Variación - Consta… │\n",
       "│ ---        ┆ ---                               │\n",
       "│ date       ┆ f64                               │\n",
       "╞════════════╪═══════════════════════════════════╡\n",
       "│ 2023-01-01 ┆ 12.9                              │\n",
       "│ 2023-01-01 ┆ 12.9                              │\n",
       "│ 2022-01-01 ┆ 2.6                               │\n",
       "│ 2022-01-01 ┆ 2.6                               │\n",
       "│ 2021-01-01 ┆ 41.5                              │\n",
       "│ …          ┆ …                                 │\n",
       "│ 2003-01-01 ┆ 6.2                               │\n",
       "│ 2002-01-01 ┆ -7.3                              │\n",
       "│ 2002-01-01 ┆ -7.3                              │\n",
       "│ 2001-01-01 ┆ -3.0                              │\n",
       "│ 2001-01-01 ┆ -3.0                              │\n",
       "└────────────┴───────────────────────────────────┘"
      ]
     },
     "execution_count": 56,
     "metadata": {},
     "output_type": "execute_result"
    }
   ],
   "source": [
    "Id = 194\n",
    "df = get_df(Id)\n",
    "# get_plot(Id)\n",
    "df"
   ]
  },
  {
   "cell_type": "markdown",
   "id": "ec8a77e9",
   "metadata": {},
   "source": [
    "##### 03 Precios y Variación, por Componente del Ingreso\n"
   ]
  },
  {
   "cell_type": "code",
   "execution_count": 57,
   "id": "951d760d",
   "metadata": {},
   "outputs": [
    {
     "name": "stderr",
     "output_type": "stream",
     "text": [
      "<string>:29: FutureWarning:\n",
      "\n",
      "Passing literal json to 'read_json' is deprecated and will be removed in a future version. To read from a literal string, wrap it in a 'StringIO' object.\n",
      "\n"
     ]
    },
    {
     "data": {
      "text/html": [
       "<div><style>\n",
       ".dataframe > thead > tr,\n",
       ".dataframe > tbody > tr {\n",
       "  text-align: right;\n",
       "  white-space: pre-wrap;\n",
       "}\n",
       "</style>\n",
       "<small>shape: (2, 5)</small><table border=\"1\" class=\"dataframe\"><thead><tr><th>Niv_Gr_1</th><th>Niv_Gr_2</th><th>Niv_Gr_3</th><th>Niv_Descr_4</th><th>N_Variables</th></tr><tr><td>str</td><td>str</td><td>str</td><td>str</td><td>u32</td></tr></thead><tbody><tr><td>&quot;ESR&quot;</td><td>&quot;PIBA&quot;</td><td>&quot;03&quot;</td><td>&quot; Precio &quot;</td><td>5</td></tr><tr><td>&quot;ESR&quot;</td><td>&quot;PIBA&quot;</td><td>&quot;03&quot;</td><td>&quot; Variación &quot;</td><td>5</td></tr></tbody></table></div>"
      ],
      "text/plain": [
       "shape: (2, 5)\n",
       "┌──────────┬──────────┬──────────┬─────────────┬─────────────┐\n",
       "│ Niv_Gr_1 ┆ Niv_Gr_2 ┆ Niv_Gr_3 ┆ Niv_Descr_4 ┆ N_Variables │\n",
       "│ ---      ┆ ---      ┆ ---      ┆ ---         ┆ ---         │\n",
       "│ str      ┆ str      ┆ str      ┆ str         ┆ u32         │\n",
       "╞══════════╪══════════╪══════════╪═════════════╪═════════════╡\n",
       "│ ESR      ┆ PIBA     ┆ 03       ┆  Precio     ┆ 5           │\n",
       "│ ESR      ┆ PIBA     ┆ 03       ┆  Variación  ┆ 5           │\n",
       "└──────────┴──────────┴──────────┴─────────────┴─────────────┘"
      ]
     },
     "execution_count": 57,
     "metadata": {},
     "output_type": "execute_result"
    }
   ],
   "source": [
    "res_nivel_4(\n",
    "    \"ESR\",\"PIBA\",\n",
    "    \"Niv_Gr_3\",\n",
    "    \"03\",\n",
    "    \"Niv_Descr_4\")"
   ]
  },
  {
   "cell_type": "markdown",
   "id": "0451abfd",
   "metadata": {},
   "source": [
    "* Remuneración de los asalariados\n",
    "* Impuestos netos de subvenciones sobre la producción y las importaciones\n",
    "* Excedente de Explotación bruto\n",
    "* Ingreso Mixto bruto\n",
    "* Producto Interno Bruto (pm)\n"
   ]
  },
  {
   "cell_type": "code",
   "execution_count": 58,
   "id": "a9be2d0d",
   "metadata": {},
   "outputs": [
    {
     "name": "stderr",
     "output_type": "stream",
     "text": [
      "<string>:29: FutureWarning:\n",
      "\n",
      "Passing literal json to 'read_json' is deprecated and will be removed in a future version. To read from a literal string, wrap it in a 'StringIO' object.\n",
      "\n"
     ]
    },
    {
     "data": {
      "text/html": [
       "<div><style>\n",
       ".dataframe > thead > tr,\n",
       ".dataframe > tbody > tr {\n",
       "  text-align: right;\n",
       "  white-space: pre-wrap;\n",
       "}\n",
       "</style>\n",
       "<small>shape: (10, 6)</small><table border=\"1\" class=\"dataframe\"><thead><tr><th>Niv_Gr_1</th><th>Niv_Gr_2</th><th>Niv_Gr_3</th><th>Niv_Descr_4</th><th>Niv_Descr_5</th><th>N_Variables</th></tr><tr><td>str</td><td>str</td><td>str</td><td>str</td><td>str</td><td>u32</td></tr></thead><tbody><tr><td>&quot;ESR&quot;</td><td>&quot;PIBA&quot;</td><td>&quot;03&quot;</td><td>&quot; Precio &quot;</td><td>&quot; Ingreso Mixto…</td><td>1</td></tr><tr><td>&quot;ESR&quot;</td><td>&quot;PIBA&quot;</td><td>&quot;03&quot;</td><td>&quot; Precio &quot;</td><td>&quot; Excedente de …</td><td>1</td></tr><tr><td>&quot;ESR&quot;</td><td>&quot;PIBA&quot;</td><td>&quot;03&quot;</td><td>&quot; Precio &quot;</td><td>&quot; Remuneración …</td><td>1</td></tr><tr><td>&quot;ESR&quot;</td><td>&quot;PIBA&quot;</td><td>&quot;03&quot;</td><td>&quot; Variación &quot;</td><td>&quot; Producto Inte…</td><td>1</td></tr><tr><td>&quot;ESR&quot;</td><td>&quot;PIBA&quot;</td><td>&quot;03&quot;</td><td>&quot; Variación &quot;</td><td>&quot; Excedente de …</td><td>1</td></tr><tr><td>&quot;ESR&quot;</td><td>&quot;PIBA&quot;</td><td>&quot;03&quot;</td><td>&quot; Variación &quot;</td><td>&quot; Impuestos net…</td><td>1</td></tr><tr><td>&quot;ESR&quot;</td><td>&quot;PIBA&quot;</td><td>&quot;03&quot;</td><td>&quot; Precio &quot;</td><td>&quot; Impuestos net…</td><td>1</td></tr><tr><td>&quot;ESR&quot;</td><td>&quot;PIBA&quot;</td><td>&quot;03&quot;</td><td>&quot; Variación &quot;</td><td>&quot; Remuneración …</td><td>1</td></tr><tr><td>&quot;ESR&quot;</td><td>&quot;PIBA&quot;</td><td>&quot;03&quot;</td><td>&quot; Precio &quot;</td><td>&quot; Producto Inte…</td><td>1</td></tr><tr><td>&quot;ESR&quot;</td><td>&quot;PIBA&quot;</td><td>&quot;03&quot;</td><td>&quot; Variación &quot;</td><td>&quot; Ingreso Mixto…</td><td>1</td></tr></tbody></table></div>"
      ],
      "text/plain": [
       "shape: (10, 6)\n",
       "┌──────────┬──────────┬──────────┬─────────────┬───────────────────────────────────┬─────────────┐\n",
       "│ Niv_Gr_1 ┆ Niv_Gr_2 ┆ Niv_Gr_3 ┆ Niv_Descr_4 ┆ Niv_Descr_5                       ┆ N_Variables │\n",
       "│ ---      ┆ ---      ┆ ---      ┆ ---         ┆ ---                               ┆ ---         │\n",
       "│ str      ┆ str      ┆ str      ┆ str         ┆ str                               ┆ u32         │\n",
       "╞══════════╪══════════╪══════════╪═════════════╪═══════════════════════════════════╪═════════════╡\n",
       "│ ESR      ┆ PIBA     ┆ 03       ┆  Precio     ┆  Ingreso Mixto bruto              ┆ 1           │\n",
       "│ ESR      ┆ PIBA     ┆ 03       ┆  Precio     ┆  Excedente de Explotación bruto   ┆ 1           │\n",
       "│ ESR      ┆ PIBA     ┆ 03       ┆  Precio     ┆  Remuneración de los asalariados  ┆ 1           │\n",
       "│ ESR      ┆ PIBA     ┆ 03       ┆  Variación  ┆  Producto Interno Bruto (pm)      ┆ 1           │\n",
       "│ ESR      ┆ PIBA     ┆ 03       ┆  Variación  ┆  Excedente de Explotación bruto   ┆ 1           │\n",
       "│ ESR      ┆ PIBA     ┆ 03       ┆  Variación  ┆  Impuestos netos de subvenciones… ┆ 1           │\n",
       "│ ESR      ┆ PIBA     ┆ 03       ┆  Precio     ┆  Impuestos netos de subvenciones… ┆ 1           │\n",
       "│ ESR      ┆ PIBA     ┆ 03       ┆  Variación  ┆  Remuneración de los asalariados  ┆ 1           │\n",
       "│ ESR      ┆ PIBA     ┆ 03       ┆  Precio     ┆  Producto Interno Bruto (pm)      ┆ 1           │\n",
       "│ ESR      ┆ PIBA     ┆ 03       ┆  Variación  ┆  Ingreso Mixto bruto              ┆ 1           │\n",
       "└──────────┴──────────┴──────────┴─────────────┴───────────────────────────────────┴─────────────┘"
      ]
     },
     "execution_count": 58,
     "metadata": {},
     "output_type": "execute_result"
    }
   ],
   "source": [
    "res_nivel_5(\n",
    "    \"ESR\",\"PIBA\",\n",
    "    \"Niv_Gr_3\",\n",
    "    \"03\",\n",
    "    \"Niv_Descr_4\",\"Niv_Descr_5\")"
   ]
  },
  {
   "cell_type": "markdown",
   "id": "5a2cf9d7",
   "metadata": {},
   "source": [
    "Para saber el contenido de todas las variables:\n"
   ]
  },
  {
   "cell_type": "code",
   "execution_count": 59,
   "id": "290297cc",
   "metadata": {},
   "outputs": [
    {
     "name": "stderr",
     "output_type": "stream",
     "text": [
      "<string>:29: FutureWarning:\n",
      "\n",
      "Passing literal json to 'read_json' is deprecated and will be removed in a future version. To read from a literal string, wrap it in a 'StringIO' object.\n",
      "\n"
     ]
    },
    {
     "data": {
      "text/html": [
       "<div><style>\n",
       ".dataframe > thead > tr,\n",
       ".dataframe > tbody > tr {\n",
       "  text-align: right;\n",
       "  white-space: pre-wrap;\n",
       "}\n",
       "</style>\n",
       "<small>shape: (10, 8)</small><table border=\"1\" class=\"dataframe\"><thead><tr><th>Niv_Gr_1</th><th>Niv_Gr_2</th><th>Niv_Gr_3</th><th>Id</th><th>Nombre</th><th>Niv_Descr_4</th><th>Niv_Descr_5</th><th>N_Variables</th></tr><tr><td>str</td><td>str</td><td>str</td><td>i64</td><td>str</td><td>str</td><td>str</td><td>u32</td></tr></thead><tbody><tr><td>&quot;ESR&quot;</td><td>&quot;PIBA&quot;</td><td>&quot;03&quot;</td><td>204</td><td>&quot;ESR-PIBA-03-6&quot;</td><td>&quot; Precio &quot;</td><td>&quot; Producto Inte…</td><td>1</td></tr><tr><td>&quot;ESR&quot;</td><td>&quot;PIBA&quot;</td><td>&quot;03&quot;</td><td>201</td><td>&quot;ESR-PIBA-03-4&quot;</td><td>&quot; Precio &quot;</td><td>&quot; Excedente de …</td><td>1</td></tr><tr><td>&quot;ESR&quot;</td><td>&quot;PIBA&quot;</td><td>&quot;03&quot;</td><td>207</td><td>&quot;ESR-PIBA-03-8&quot;</td><td>&quot; Variación &quot;</td><td>&quot; Impuestos net…</td><td>1</td></tr><tr><td>&quot;ESR&quot;</td><td>&quot;PIBA&quot;</td><td>&quot;03&quot;</td><td>208</td><td>&quot;ESR-PIBA-03-10…</td><td>&quot; Variación &quot;</td><td>&quot; Ingreso Mixto…</td><td>1</td></tr><tr><td>&quot;ESR&quot;</td><td>&quot;PIBA&quot;</td><td>&quot;03&quot;</td><td>205</td><td>&quot;ESR-PIBA-03-1&quot;</td><td>&quot; Precio &quot;</td><td>&quot; Remuneración …</td><td>1</td></tr><tr><td>&quot;ESR&quot;</td><td>&quot;PIBA&quot;</td><td>&quot;03&quot;</td><td>206</td><td>&quot;ESR-PIBA-03-9&quot;</td><td>&quot; Variación &quot;</td><td>&quot; Excedente de …</td><td>1</td></tr><tr><td>&quot;ESR&quot;</td><td>&quot;PIBA&quot;</td><td>&quot;03&quot;</td><td>203</td><td>&quot;ESR-PIBA-03-5&quot;</td><td>&quot; Precio &quot;</td><td>&quot; Ingreso Mixto…</td><td>1</td></tr><tr><td>&quot;ESR&quot;</td><td>&quot;PIBA&quot;</td><td>&quot;03&quot;</td><td>209</td><td>&quot;ESR-PIBA-03-2&quot;</td><td>&quot; Variación &quot;</td><td>&quot; Producto Inte…</td><td>1</td></tr><tr><td>&quot;ESR&quot;</td><td>&quot;PIBA&quot;</td><td>&quot;03&quot;</td><td>202</td><td>&quot;ESR-PIBA-03-3&quot;</td><td>&quot; Precio &quot;</td><td>&quot; Impuestos net…</td><td>1</td></tr><tr><td>&quot;ESR&quot;</td><td>&quot;PIBA&quot;</td><td>&quot;03&quot;</td><td>210</td><td>&quot;ESR-PIBA-03-7&quot;</td><td>&quot; Variación &quot;</td><td>&quot; Remuneración …</td><td>1</td></tr></tbody></table></div>"
      ],
      "text/plain": [
       "shape: (10, 8)\n",
       "┌──────────┬──────────┬──────────┬─────┬───────────────┬─────────────┬───────────────┬─────────────┐\n",
       "│ Niv_Gr_1 ┆ Niv_Gr_2 ┆ Niv_Gr_3 ┆ Id  ┆ Nombre        ┆ Niv_Descr_4 ┆ Niv_Descr_5   ┆ N_Variables │\n",
       "│ ---      ┆ ---      ┆ ---      ┆ --- ┆ ---           ┆ ---         ┆ ---           ┆ ---         │\n",
       "│ str      ┆ str      ┆ str      ┆ i64 ┆ str           ┆ str         ┆ str           ┆ u32         │\n",
       "╞══════════╪══════════╪══════════╪═════╪═══════════════╪═════════════╪═══════════════╪═════════════╡\n",
       "│ ESR      ┆ PIBA     ┆ 03       ┆ 204 ┆ ESR-PIBA-03-6 ┆  Precio     ┆ Producto      ┆ 1           │\n",
       "│          ┆          ┆          ┆     ┆               ┆             ┆ Interno Bruto ┆             │\n",
       "│          ┆          ┆          ┆     ┆               ┆             ┆ (pm)          ┆             │\n",
       "│ ESR      ┆ PIBA     ┆ 03       ┆ 201 ┆ ESR-PIBA-03-4 ┆  Precio     ┆ Excedente de  ┆ 1           │\n",
       "│          ┆          ┆          ┆     ┆               ┆             ┆ Explotación   ┆             │\n",
       "│          ┆          ┆          ┆     ┆               ┆             ┆ bruto         ┆             │\n",
       "│ ESR      ┆ PIBA     ┆ 03       ┆ 207 ┆ ESR-PIBA-03-8 ┆  Variación  ┆ Impuestos     ┆ 1           │\n",
       "│          ┆          ┆          ┆     ┆               ┆             ┆ netos de      ┆             │\n",
       "│          ┆          ┆          ┆     ┆               ┆             ┆ subvenciones… ┆             │\n",
       "│ ESR      ┆ PIBA     ┆ 03       ┆ 208 ┆ ESR-PIBA-03-1 ┆  Variación  ┆ Ingreso Mixto ┆ 1           │\n",
       "│          ┆          ┆          ┆     ┆ 0             ┆             ┆ bruto         ┆             │\n",
       "│ ESR      ┆ PIBA     ┆ 03       ┆ 205 ┆ ESR-PIBA-03-1 ┆  Precio     ┆ Remuneración  ┆ 1           │\n",
       "│          ┆          ┆          ┆     ┆               ┆             ┆ de los        ┆             │\n",
       "│          ┆          ┆          ┆     ┆               ┆             ┆ asalariados   ┆             │\n",
       "│ ESR      ┆ PIBA     ┆ 03       ┆ 206 ┆ ESR-PIBA-03-9 ┆  Variación  ┆ Excedente de  ┆ 1           │\n",
       "│          ┆          ┆          ┆     ┆               ┆             ┆ Explotación   ┆             │\n",
       "│          ┆          ┆          ┆     ┆               ┆             ┆ bruto         ┆             │\n",
       "│ ESR      ┆ PIBA     ┆ 03       ┆ 203 ┆ ESR-PIBA-03-5 ┆  Precio     ┆ Ingreso Mixto ┆ 1           │\n",
       "│          ┆          ┆          ┆     ┆               ┆             ┆ bruto         ┆             │\n",
       "│ ESR      ┆ PIBA     ┆ 03       ┆ 209 ┆ ESR-PIBA-03-2 ┆  Variación  ┆ Producto      ┆ 1           │\n",
       "│          ┆          ┆          ┆     ┆               ┆             ┆ Interno Bruto ┆             │\n",
       "│          ┆          ┆          ┆     ┆               ┆             ┆ (pm)          ┆             │\n",
       "│ ESR      ┆ PIBA     ┆ 03       ┆ 202 ┆ ESR-PIBA-03-3 ┆  Precio     ┆ Impuestos     ┆ 1           │\n",
       "│          ┆          ┆          ┆     ┆               ┆             ┆ netos de      ┆             │\n",
       "│          ┆          ┆          ┆     ┆               ┆             ┆ subvenciones… ┆             │\n",
       "│ ESR      ┆ PIBA     ┆ 03       ┆ 210 ┆ ESR-PIBA-03-7 ┆  Variación  ┆ Remuneración  ┆ 1           │\n",
       "│          ┆          ┆          ┆     ┆               ┆             ┆ de los        ┆             │\n",
       "│          ┆          ┆          ┆     ┆               ┆             ┆ asalariados   ┆             │\n",
       "└──────────┴──────────┴──────────┴─────┴───────────────┴─────────────┴───────────────┴─────────────┘"
      ]
     },
     "execution_count": 59,
     "metadata": {},
     "output_type": "execute_result"
    }
   ],
   "source": [
    "res_nivel_7(\n",
    "    \"ESR\",\"PIBA\",\n",
    "    \"Niv_Gr_3\",\n",
    "    \"03\",\n",
    "    \"Id\",\"Nombre\",\"Niv_Descr_4\",\"Niv_Descr_5\")"
   ]
  },
  {
   "cell_type": "markdown",
   "id": "205d4c26",
   "metadata": {},
   "source": [
    "Resultados de una sola variable:\n"
   ]
  },
  {
   "cell_type": "code",
   "execution_count": 60,
   "id": "a29d60a6",
   "metadata": {},
   "outputs": [
    {
     "name": "stderr",
     "output_type": "stream",
     "text": [
      "<string>:29: FutureWarning:\n",
      "\n",
      "Passing literal json to 'read_json' is deprecated and will be removed in a future version. To read from a literal string, wrap it in a 'StringIO' object.\n",
      "\n"
     ]
    },
    {
     "name": "stderr",
     "output_type": "stream",
     "text": [
      "<string>:29: FutureWarning:\n",
      "\n",
      "Passing literal json to 'read_json' is deprecated and will be removed in a future version. To read from a literal string, wrap it in a 'StringIO' object.\n",
      "\n"
     ]
    },
    {
     "data": {
      "text/html": [
       "<div><style>\n",
       ".dataframe > thead > tr,\n",
       ".dataframe > tbody > tr {\n",
       "  text-align: right;\n",
       "  white-space: pre-wrap;\n",
       "}\n",
       "</style>\n",
       "<small>shape: (48, 2)</small><table border=\"1\" class=\"dataframe\"><thead><tr><th>Fecha</th><th>ESR-PIBA-03 - Precio - Impuestos netos de subvenciones sobre la producción y las importaciones</th></tr><tr><td>date</td><td>f64</td></tr></thead><tbody><tr><td>2023-01-01</td><td>96575.0</td></tr><tr><td>2023-01-01</td><td>96575.0</td></tr><tr><td>2022-01-01</td><td>86343.3</td></tr><tr><td>2022-01-01</td><td>86343.3</td></tr><tr><td>2021-01-01</td><td>79447.2</td></tr><tr><td>&hellip;</td><td>&hellip;</td></tr><tr><td>2002-01-01</td><td>14236.3</td></tr><tr><td>2001-01-01</td><td>13402.9</td></tr><tr><td>2001-01-01</td><td>13402.9</td></tr><tr><td>2000-01-01</td><td>11452.8</td></tr><tr><td>2000-01-01</td><td>11452.8</td></tr></tbody></table></div>"
      ],
      "text/plain": [
       "shape: (48, 2)\n",
       "┌────────────┬───────────────────────────────────┐\n",
       "│ Fecha      ┆ ESR-PIBA-03 - Precio - Impuestos… │\n",
       "│ ---        ┆ ---                               │\n",
       "│ date       ┆ f64                               │\n",
       "╞════════════╪═══════════════════════════════════╡\n",
       "│ 2023-01-01 ┆ 96575.0                           │\n",
       "│ 2023-01-01 ┆ 96575.0                           │\n",
       "│ 2022-01-01 ┆ 86343.3                           │\n",
       "│ 2022-01-01 ┆ 86343.3                           │\n",
       "│ 2021-01-01 ┆ 79447.2                           │\n",
       "│ …          ┆ …                                 │\n",
       "│ 2002-01-01 ┆ 14236.3                           │\n",
       "│ 2001-01-01 ┆ 13402.9                           │\n",
       "│ 2001-01-01 ┆ 13402.9                           │\n",
       "│ 2000-01-01 ┆ 11452.8                           │\n",
       "│ 2000-01-01 ┆ 11452.8                           │\n",
       "└────────────┴───────────────────────────────────┘"
      ]
     },
     "execution_count": 60,
     "metadata": {},
     "output_type": "execute_result"
    }
   ],
   "source": [
    "Id = 202\n",
    "df = get_df(Id)\n",
    "# get_plot(Id)\n",
    "df"
   ]
  },
  {
   "cell_type": "markdown",
   "id": "a9ae44cf",
   "metadata": {},
   "source": [
    "##### 04 Dólares y Lempiras\n"
   ]
  },
  {
   "cell_type": "code",
   "execution_count": 61,
   "id": "0595d4e2",
   "metadata": {},
   "outputs": [
    {
     "name": "stderr",
     "output_type": "stream",
     "text": [
      "<string>:29: FutureWarning:\n",
      "\n",
      "Passing literal json to 'read_json' is deprecated and will be removed in a future version. To read from a literal string, wrap it in a 'StringIO' object.\n",
      "\n"
     ]
    },
    {
     "data": {
      "text/html": [
       "<div><style>\n",
       ".dataframe > thead > tr,\n",
       ".dataframe > tbody > tr {\n",
       "  text-align: right;\n",
       "  white-space: pre-wrap;\n",
       "}\n",
       "</style>\n",
       "<small>shape: (2, 5)</small><table border=\"1\" class=\"dataframe\"><thead><tr><th>Niv_Gr_1</th><th>Niv_Gr_2</th><th>Niv_Gr_3</th><th>Niv_Descr_4</th><th>N_Variables</th></tr><tr><td>str</td><td>str</td><td>str</td><td>str</td><td>u32</td></tr></thead><tbody><tr><td>&quot;ESR&quot;</td><td>&quot;PIBA&quot;</td><td>&quot;04&quot;</td><td>&quot; Lempiras &quot;</td><td>3</td></tr><tr><td>&quot;ESR&quot;</td><td>&quot;PIBA&quot;</td><td>&quot;04&quot;</td><td>&quot; Dólares &quot;</td><td>3</td></tr></tbody></table></div>"
      ],
      "text/plain": [
       "shape: (2, 5)\n",
       "┌──────────┬──────────┬──────────┬─────────────┬─────────────┐\n",
       "│ Niv_Gr_1 ┆ Niv_Gr_2 ┆ Niv_Gr_3 ┆ Niv_Descr_4 ┆ N_Variables │\n",
       "│ ---      ┆ ---      ┆ ---      ┆ ---         ┆ ---         │\n",
       "│ str      ┆ str      ┆ str      ┆ str         ┆ u32         │\n",
       "╞══════════╪══════════╪══════════╪═════════════╪═════════════╡\n",
       "│ ESR      ┆ PIBA     ┆ 04       ┆  Lempiras   ┆ 3           │\n",
       "│ ESR      ┆ PIBA     ┆ 04       ┆  Dólares    ┆ 3           │\n",
       "└──────────┴──────────┴──────────┴─────────────┴─────────────┘"
      ]
     },
     "execution_count": 61,
     "metadata": {},
     "output_type": "execute_result"
    }
   ],
   "source": [
    "res_nivel_4(\n",
    "    \"ESR\",\"PIBA\",\n",
    "    \"Niv_Gr_3\",\n",
    "    \"04\",\n",
    "    \"Niv_Descr_4\")"
   ]
  },
  {
   "cell_type": "markdown",
   "id": "a4fc9c60",
   "metadata": {},
   "source": [
    "* Ingreso Nacional\n",
    "* Producto Interno Bruto\n",
    "* Producto Nacional Bruto\n"
   ]
  },
  {
   "cell_type": "code",
   "execution_count": 62,
   "id": "a5180d30",
   "metadata": {},
   "outputs": [
    {
     "name": "stderr",
     "output_type": "stream",
     "text": [
      "<string>:29: FutureWarning:\n",
      "\n",
      "Passing literal json to 'read_json' is deprecated and will be removed in a future version. To read from a literal string, wrap it in a 'StringIO' object.\n",
      "\n"
     ]
    },
    {
     "data": {
      "text/html": [
       "<div><style>\n",
       ".dataframe > thead > tr,\n",
       ".dataframe > tbody > tr {\n",
       "  text-align: right;\n",
       "  white-space: pre-wrap;\n",
       "}\n",
       "</style>\n",
       "<small>shape: (6, 6)</small><table border=\"1\" class=\"dataframe\"><thead><tr><th>Niv_Gr_1</th><th>Niv_Gr_2</th><th>Niv_Gr_3</th><th>Niv_Descr_4</th><th>Niv_Descr_6</th><th>N_Variables</th></tr><tr><td>str</td><td>str</td><td>str</td><td>str</td><td>str</td><td>u32</td></tr></thead><tbody><tr><td>&quot;ESR&quot;</td><td>&quot;PIBA&quot;</td><td>&quot;04&quot;</td><td>&quot; Dólares &quot;</td><td>&quot; Producto Naci…</td><td>1</td></tr><tr><td>&quot;ESR&quot;</td><td>&quot;PIBA&quot;</td><td>&quot;04&quot;</td><td>&quot; Dólares &quot;</td><td>&quot; Producto Inte…</td><td>1</td></tr><tr><td>&quot;ESR&quot;</td><td>&quot;PIBA&quot;</td><td>&quot;04&quot;</td><td>&quot; Lempiras &quot;</td><td>&quot; Ingreso Nacio…</td><td>1</td></tr><tr><td>&quot;ESR&quot;</td><td>&quot;PIBA&quot;</td><td>&quot;04&quot;</td><td>&quot; Lempiras &quot;</td><td>&quot; Producto Naci…</td><td>1</td></tr><tr><td>&quot;ESR&quot;</td><td>&quot;PIBA&quot;</td><td>&quot;04&quot;</td><td>&quot; Dólares &quot;</td><td>&quot; Ingreso Nacio…</td><td>1</td></tr><tr><td>&quot;ESR&quot;</td><td>&quot;PIBA&quot;</td><td>&quot;04&quot;</td><td>&quot; Lempiras &quot;</td><td>&quot; Producto Inte…</td><td>1</td></tr></tbody></table></div>"
      ],
      "text/plain": [
       "shape: (6, 6)\n",
       "┌──────────┬──────────┬──────────┬─────────────┬──────────────────────────┬─────────────┐\n",
       "│ Niv_Gr_1 ┆ Niv_Gr_2 ┆ Niv_Gr_3 ┆ Niv_Descr_4 ┆ Niv_Descr_6              ┆ N_Variables │\n",
       "│ ---      ┆ ---      ┆ ---      ┆ ---         ┆ ---                      ┆ ---         │\n",
       "│ str      ┆ str      ┆ str      ┆ str         ┆ str                      ┆ u32         │\n",
       "╞══════════╪══════════╪══════════╪═════════════╪══════════════════════════╪═════════════╡\n",
       "│ ESR      ┆ PIBA     ┆ 04       ┆  Dólares    ┆  Producto Nacional Bruto ┆ 1           │\n",
       "│ ESR      ┆ PIBA     ┆ 04       ┆  Dólares    ┆  Producto Interno Bruto  ┆ 1           │\n",
       "│ ESR      ┆ PIBA     ┆ 04       ┆  Lempiras   ┆  Ingreso Nacional        ┆ 1           │\n",
       "│ ESR      ┆ PIBA     ┆ 04       ┆  Lempiras   ┆  Producto Nacional Bruto ┆ 1           │\n",
       "│ ESR      ┆ PIBA     ┆ 04       ┆  Dólares    ┆  Ingreso Nacional        ┆ 1           │\n",
       "│ ESR      ┆ PIBA     ┆ 04       ┆  Lempiras   ┆  Producto Interno Bruto  ┆ 1           │\n",
       "└──────────┴──────────┴──────────┴─────────────┴──────────────────────────┴─────────────┘"
      ]
     },
     "execution_count": 62,
     "metadata": {},
     "output_type": "execute_result"
    }
   ],
   "source": [
    "res_nivel_5(\n",
    "    \"ESR\",\"PIBA\",\n",
    "    \"Niv_Gr_3\",\n",
    "    \"04\",\n",
    "    \"Niv_Descr_4\",\"Niv_Descr_6\")"
   ]
  },
  {
   "cell_type": "markdown",
   "id": "da29c5fc",
   "metadata": {},
   "source": [
    "Para saber el contenido de todas las variables:\n"
   ]
  },
  {
   "cell_type": "code",
   "execution_count": 63,
   "id": "43fa6922",
   "metadata": {},
   "outputs": [
    {
     "name": "stderr",
     "output_type": "stream",
     "text": [
      "<string>:29: FutureWarning:\n",
      "\n",
      "Passing literal json to 'read_json' is deprecated and will be removed in a future version. To read from a literal string, wrap it in a 'StringIO' object.\n",
      "\n"
     ]
    },
    {
     "data": {
      "text/html": [
       "<div><style>\n",
       ".dataframe > thead > tr,\n",
       ".dataframe > tbody > tr {\n",
       "  text-align: right;\n",
       "  white-space: pre-wrap;\n",
       "}\n",
       "</style>\n",
       "<small>shape: (6, 8)</small><table border=\"1\" class=\"dataframe\"><thead><tr><th>Niv_Gr_1</th><th>Niv_Gr_2</th><th>Niv_Gr_3</th><th>Id</th><th>Nombre</th><th>Niv_Descr_4</th><th>Niv_Descr_6</th><th>N_Variables</th></tr><tr><td>str</td><td>str</td><td>str</td><td>i64</td><td>str</td><td>str</td><td>str</td><td>u32</td></tr></thead><tbody><tr><td>&quot;ESR&quot;</td><td>&quot;PIBA&quot;</td><td>&quot;04&quot;</td><td>214</td><td>&quot;ESR-PIBA-04-1&quot;</td><td>&quot; Lempiras &quot;</td><td>&quot; Ingreso Nacio…</td><td>1</td></tr><tr><td>&quot;ESR&quot;</td><td>&quot;PIBA&quot;</td><td>&quot;04&quot;</td><td>216</td><td>&quot;ESR-PIBA-04-5&quot;</td><td>&quot; Lempiras &quot;</td><td>&quot; Producto Naci…</td><td>1</td></tr><tr><td>&quot;ESR&quot;</td><td>&quot;PIBA&quot;</td><td>&quot;04&quot;</td><td>212</td><td>&quot;ESR-PIBA-04-4&quot;</td><td>&quot; Dólares &quot;</td><td>&quot; Producto Inte…</td><td>1</td></tr><tr><td>&quot;ESR&quot;</td><td>&quot;PIBA&quot;</td><td>&quot;04&quot;</td><td>213</td><td>&quot;ESR-PIBA-04-6&quot;</td><td>&quot; Dólares &quot;</td><td>&quot; Producto Naci…</td><td>1</td></tr><tr><td>&quot;ESR&quot;</td><td>&quot;PIBA&quot;</td><td>&quot;04&quot;</td><td>211</td><td>&quot;ESR-PIBA-04-2&quot;</td><td>&quot; Dólares &quot;</td><td>&quot; Ingreso Nacio…</td><td>1</td></tr><tr><td>&quot;ESR&quot;</td><td>&quot;PIBA&quot;</td><td>&quot;04&quot;</td><td>215</td><td>&quot;ESR-PIBA-04-3&quot;</td><td>&quot; Lempiras &quot;</td><td>&quot; Producto Inte…</td><td>1</td></tr></tbody></table></div>"
      ],
      "text/plain": [
       "shape: (6, 8)\n",
       "┌──────────┬──────────┬──────────┬─────┬───────────────┬─────────────┬───────────────┬─────────────┐\n",
       "│ Niv_Gr_1 ┆ Niv_Gr_2 ┆ Niv_Gr_3 ┆ Id  ┆ Nombre        ┆ Niv_Descr_4 ┆ Niv_Descr_6   ┆ N_Variables │\n",
       "│ ---      ┆ ---      ┆ ---      ┆ --- ┆ ---           ┆ ---         ┆ ---           ┆ ---         │\n",
       "│ str      ┆ str      ┆ str      ┆ i64 ┆ str           ┆ str         ┆ str           ┆ u32         │\n",
       "╞══════════╪══════════╪══════════╪═════╪═══════════════╪═════════════╪═══════════════╪═════════════╡\n",
       "│ ESR      ┆ PIBA     ┆ 04       ┆ 214 ┆ ESR-PIBA-04-1 ┆  Lempiras   ┆ Ingreso       ┆ 1           │\n",
       "│          ┆          ┆          ┆     ┆               ┆             ┆ Nacional      ┆             │\n",
       "│ ESR      ┆ PIBA     ┆ 04       ┆ 216 ┆ ESR-PIBA-04-5 ┆  Lempiras   ┆ Producto      ┆ 1           │\n",
       "│          ┆          ┆          ┆     ┆               ┆             ┆ Nacional      ┆             │\n",
       "│          ┆          ┆          ┆     ┆               ┆             ┆ Bruto         ┆             │\n",
       "│ ESR      ┆ PIBA     ┆ 04       ┆ 212 ┆ ESR-PIBA-04-4 ┆  Dólares    ┆ Producto      ┆ 1           │\n",
       "│          ┆          ┆          ┆     ┆               ┆             ┆ Interno Bruto ┆             │\n",
       "│ ESR      ┆ PIBA     ┆ 04       ┆ 213 ┆ ESR-PIBA-04-6 ┆  Dólares    ┆ Producto      ┆ 1           │\n",
       "│          ┆          ┆          ┆     ┆               ┆             ┆ Nacional      ┆             │\n",
       "│          ┆          ┆          ┆     ┆               ┆             ┆ Bruto         ┆             │\n",
       "│ ESR      ┆ PIBA     ┆ 04       ┆ 211 ┆ ESR-PIBA-04-2 ┆  Dólares    ┆ Ingreso       ┆ 1           │\n",
       "│          ┆          ┆          ┆     ┆               ┆             ┆ Nacional      ┆             │\n",
       "│ ESR      ┆ PIBA     ┆ 04       ┆ 215 ┆ ESR-PIBA-04-3 ┆  Lempiras   ┆ Producto      ┆ 1           │\n",
       "│          ┆          ┆          ┆     ┆               ┆             ┆ Interno Bruto ┆             │\n",
       "└──────────┴──────────┴──────────┴─────┴───────────────┴─────────────┴───────────────┴─────────────┘"
      ]
     },
     "execution_count": 63,
     "metadata": {},
     "output_type": "execute_result"
    }
   ],
   "source": [
    "res_nivel_7(\n",
    "    \"ESR\",\"PIBA\",\n",
    "    \"Niv_Gr_3\",\n",
    "    \"04\",\n",
    "    \"Id\",\"Nombre\",\"Niv_Descr_4\",\"Niv_Descr_6\")"
   ]
  },
  {
   "cell_type": "markdown",
   "id": "9a678eab",
   "metadata": {},
   "source": [
    "Resultados de una sola variable:\n"
   ]
  },
  {
   "cell_type": "code",
   "execution_count": 64,
   "id": "0d568a10",
   "metadata": {},
   "outputs": [
    {
     "name": "stderr",
     "output_type": "stream",
     "text": [
      "<string>:29: FutureWarning:\n",
      "\n",
      "Passing literal json to 'read_json' is deprecated and will be removed in a future version. To read from a literal string, wrap it in a 'StringIO' object.\n",
      "\n"
     ]
    },
    {
     "name": "stderr",
     "output_type": "stream",
     "text": [
      "<string>:29: FutureWarning:\n",
      "\n",
      "Passing literal json to 'read_json' is deprecated and will be removed in a future version. To read from a literal string, wrap it in a 'StringIO' object.\n",
      "\n"
     ]
    },
    {
     "data": {
      "text/html": [
       "<div><style>\n",
       ".dataframe > thead > tr,\n",
       ".dataframe > tbody > tr {\n",
       "  text-align: right;\n",
       "  white-space: pre-wrap;\n",
       "}\n",
       "</style>\n",
       "<small>shape: (48, 2)</small><table border=\"1\" class=\"dataframe\"><thead><tr><th>Fecha</th><th>ESR-PIBA-04 - Dólares - IngresoNacionalDolares - Ingreso Nacional</th></tr><tr><td>date</td><td>f64</td></tr></thead><tbody><tr><td>2023-01-01</td><td>2746.0</td></tr><tr><td>2023-01-01</td><td>2746.0</td></tr><tr><td>2022-01-01</td><td>2533.5</td></tr><tr><td>2022-01-01</td><td>2533.5</td></tr><tr><td>2021-01-01</td><td>2261.7</td></tr><tr><td>&hellip;</td><td>&hellip;</td></tr><tr><td>2002-01-01</td><td>958.9</td></tr><tr><td>2001-01-01</td><td>957.5</td></tr><tr><td>2001-01-01</td><td>957.5</td></tr><tr><td>2000-01-01</td><td>929.4</td></tr><tr><td>2000-01-01</td><td>929.4</td></tr></tbody></table></div>"
      ],
      "text/plain": [
       "shape: (48, 2)\n",
       "┌────────────┬───────────────────────────────────┐\n",
       "│ Fecha      ┆ ESR-PIBA-04 - Dólares - IngresoN… │\n",
       "│ ---        ┆ ---                               │\n",
       "│ date       ┆ f64                               │\n",
       "╞════════════╪═══════════════════════════════════╡\n",
       "│ 2023-01-01 ┆ 2746.0                            │\n",
       "│ 2023-01-01 ┆ 2746.0                            │\n",
       "│ 2022-01-01 ┆ 2533.5                            │\n",
       "│ 2022-01-01 ┆ 2533.5                            │\n",
       "│ 2021-01-01 ┆ 2261.7                            │\n",
       "│ …          ┆ …                                 │\n",
       "│ 2002-01-01 ┆ 958.9                             │\n",
       "│ 2001-01-01 ┆ 957.5                             │\n",
       "│ 2001-01-01 ┆ 957.5                             │\n",
       "│ 2000-01-01 ┆ 929.4                             │\n",
       "│ 2000-01-01 ┆ 929.4                             │\n",
       "└────────────┴───────────────────────────────────┘"
      ]
     },
     "execution_count": 64,
     "metadata": {},
     "output_type": "execute_result"
    }
   ],
   "source": [
    "Id = 211\n",
    "df = get_df(Id)\n",
    "# get_plot(Id)\n",
    "df"
   ]
  },
  {
   "cell_type": "markdown",
   "id": "34f2ced2",
   "metadata": {},
   "source": [
    "#### PIBT = PIB Trimestral\n",
    "\n",
    "Esta información se obtiene a partir de los datos del [Portal de Consulta del Sistema de Cuentas Trimestrales](https://sisee.bch.hn/SCNT/PortalPrincipal.aspx).\n"
   ]
  },
  {
   "cell_type": "code",
   "execution_count": 65,
   "id": "99198ff5",
   "metadata": {},
   "outputs": [
    {
     "name": "stdout",
     "output_type": "stream",
     "text": [
      "3 subgrupos\n",
      "97 variables\n"
     ]
    },
    {
     "name": "stderr",
     "output_type": "stream",
     "text": [
      "<string>:29: FutureWarning:\n",
      "\n",
      "Passing literal json to 'read_json' is deprecated and will be removed in a future version. To read from a literal string, wrap it in a 'StringIO' object.\n",
      "\n"
     ]
    },
    {
     "data": {
      "text/html": [
       "<div><style>\n",
       ".dataframe > thead > tr,\n",
       ".dataframe > tbody > tr {\n",
       "  text-align: right;\n",
       "  white-space: pre-wrap;\n",
       "}\n",
       "</style>\n",
       "<small>shape: (3, 4)</small><table border=\"1\" class=\"dataframe\"><thead><tr><th>Niv_Gr_1</th><th>Niv_Gr_2</th><th>Niv_Gr_3</th><th>N_Variables</th></tr><tr><td>str</td><td>str</td><td>str</td><td>u32</td></tr></thead><tbody><tr><td>&quot;ESR&quot;</td><td>&quot;PIBT&quot;</td><td>&quot;PROD&quot;</td><td>68</td></tr><tr><td>&quot;ESR&quot;</td><td>&quot;PIBT&quot;</td><td>&quot;GAST&quot;</td><td>28</td></tr><tr><td>&quot;ESR&quot;</td><td>&quot;PIBT&quot;</td><td>&quot;TDC&quot;</td><td>1</td></tr></tbody></table></div>"
      ],
      "text/plain": [
       "shape: (3, 4)\n",
       "┌──────────┬──────────┬──────────┬─────────────┐\n",
       "│ Niv_Gr_1 ┆ Niv_Gr_2 ┆ Niv_Gr_3 ┆ N_Variables │\n",
       "│ ---      ┆ ---      ┆ ---      ┆ ---         │\n",
       "│ str      ┆ str      ┆ str      ┆ u32         │\n",
       "╞══════════╪══════════╪══════════╪═════════════╡\n",
       "│ ESR      ┆ PIBT     ┆ PROD     ┆ 68          │\n",
       "│ ESR      ┆ PIBT     ┆ GAST     ┆ 28          │\n",
       "│ ESR      ┆ PIBT     ┆ TDC      ┆ 1           │\n",
       "└──────────┴──────────┴──────────┴─────────────┘"
      ]
     },
     "execution_count": 65,
     "metadata": {},
     "output_type": "execute_result"
    }
   ],
   "source": [
    "res_nivel_3(\"ESR\",\"PIBT\",\"Niv_Gr_3\")"
   ]
  },
  {
   "cell_type": "markdown",
   "id": "b942c196",
   "metadata": {},
   "source": [
    "* PROD = PIB Trimestral por el Enfoque de la Producción\n",
    "* GAST = PIB Trimestral por el Enfoque del Gasto\n",
    "* TDC = Tasas de Crecimiento\n",
    "\n",
    "##### PROD = PIB Trimestral por el Enfoque de la Producción\n",
    "\n",
    "* Serie Original\n",
    "* Serie Desestacionalizada\n",
    "* Valores Corrientes\n",
    "* Valores Constantes\n",
    "\n",
    "Para saber el contenido de todas las variables:\n"
   ]
  },
  {
   "cell_type": "code",
   "execution_count": 66,
   "id": "a2163f61",
   "metadata": {},
   "outputs": [
    {
     "name": "stderr",
     "output_type": "stream",
     "text": [
      "<string>:29: FutureWarning:\n",
      "\n",
      "Passing literal json to 'read_json' is deprecated and will be removed in a future version. To read from a literal string, wrap it in a 'StringIO' object.\n",
      "\n"
     ]
    },
    {
     "data": {
      "text/html": [
       "<div><style>\n",
       ".dataframe > thead > tr,\n",
       ".dataframe > tbody > tr {\n",
       "  text-align: right;\n",
       "  white-space: pre-wrap;\n",
       "}\n",
       "</style>\n",
       "<small>shape: (68, 8)</small><table border=\"1\" class=\"dataframe\"><thead><tr><th>Niv_Gr_1</th><th>Niv_Gr_2</th><th>Niv_Gr_3</th><th>Id</th><th>Niv_Descr_1</th><th>Niv_Descr_2</th><th>Niv_Descr_4</th><th>N_Variables</th></tr><tr><td>str</td><td>str</td><td>str</td><td>i64</td><td>str</td><td>str</td><td>str</td><td>u32</td></tr></thead><tbody><tr><td>&quot;ESR&quot;</td><td>&quot;PIBT&quot;</td><td>&quot;PROD&quot;</td><td>47</td><td>&quot;Serie Desestac…</td><td>&quot;VALORES CORRIE…</td><td>&quot;Propiedad de V…</td><td>1</td></tr><tr><td>&quot;ESR&quot;</td><td>&quot;PIBT&quot;</td><td>&quot;PROD&quot;</td><td>59</td><td>&quot;Serie Original…</td><td>&quot;VALORES CONSTA…</td><td>&quot;Servicios Comu…</td><td>1</td></tr><tr><td>&quot;ESR&quot;</td><td>&quot;PIBT&quot;</td><td>&quot;PROD&quot;</td><td>83</td><td>&quot;Serie Desestac…</td><td>&quot;VALORES CONSTA…</td><td>&quot;Servicios de E…</td><td>1</td></tr><tr><td>&quot;ESR&quot;</td><td>&quot;PIBT&quot;</td><td>&quot;PROD&quot;</td><td>7</td><td>&quot;Serie Desestac…</td><td>&quot;VALORES CORRIE…</td><td>&quot;Producto Inter…</td><td>1</td></tr><tr><td>&quot;ESR&quot;</td><td>&quot;PIBT&quot;</td><td>&quot;PROD&quot;</td><td>20</td><td>&quot;Serie Desestac…</td><td>&quot;VALORES CORRIE…</td><td>&quot;Explotación de…</td><td>1</td></tr><tr><td>&hellip;</td><td>&hellip;</td><td>&hellip;</td><td>&hellip;</td><td>&hellip;</td><td>&hellip;</td><td>&hellip;</td><td>&hellip;</td></tr><tr><td>&quot;ESR&quot;</td><td>&quot;PIBT&quot;</td><td>&quot;PROD&quot;</td><td>85</td><td>&quot;Serie Desestac…</td><td>&quot;VALORES CONSTA…</td><td>&quot;Electricidad y…</td><td>1</td></tr><tr><td>&quot;ESR&quot;</td><td>&quot;PIBT&quot;</td><td>&quot;PROD&quot;</td><td>94</td><td>&quot;Serie Original…</td><td>&quot;VALORES CORRIE…</td><td>&quot;Propiedad de V…</td><td>1</td></tr><tr><td>&quot;ESR&quot;</td><td>&quot;PIBT&quot;</td><td>&quot;PROD&quot;</td><td>61</td><td>&quot;Serie Original…</td><td>&quot;VALORES CORRIE…</td><td>&quot;Comercio Repar…</td><td>1</td></tr><tr><td>&quot;ESR&quot;</td><td>&quot;PIBT&quot;</td><td>&quot;PROD&quot;</td><td>71</td><td>&quot;Serie Original…</td><td>&quot;VALORES CONSTA…</td><td>&quot;Agricultura Ga…</td><td>1</td></tr><tr><td>&quot;ESR&quot;</td><td>&quot;PIBT&quot;</td><td>&quot;PROD&quot;</td><td>78</td><td>&quot;Serie Desestac…</td><td>&quot;VALORES CONSTA…</td><td>&quot;Transporte y A…</td><td>1</td></tr></tbody></table></div>"
      ],
      "text/plain": [
       "shape: (68, 8)\n",
       "┌──────────┬──────────┬──────────┬─────┬───────────────┬──────────────┬──────────────┬─────────────┐\n",
       "│ Niv_Gr_1 ┆ Niv_Gr_2 ┆ Niv_Gr_3 ┆ Id  ┆ Niv_Descr_1   ┆ Niv_Descr_2  ┆ Niv_Descr_4  ┆ N_Variables │\n",
       "│ ---      ┆ ---      ┆ ---      ┆ --- ┆ ---           ┆ ---          ┆ ---          ┆ ---         │\n",
       "│ str      ┆ str      ┆ str      ┆ i64 ┆ str           ┆ str          ┆ str          ┆ u32         │\n",
       "╞══════════╪══════════╪══════════╪═════╪═══════════════╪══════════════╪══════════════╪═════════════╡\n",
       "│ ESR      ┆ PIBT     ┆ PROD     ┆ 47  ┆ Serie Desesta ┆ VALORES      ┆ Propiedad de ┆ 1           │\n",
       "│          ┆          ┆          ┆     ┆ cionalizada   ┆ CORRIENTES   ┆ Vivienda     ┆             │\n",
       "│          ┆          ┆          ┆     ┆               ┆              ┆ Actividade…  ┆             │\n",
       "│ ESR      ┆ PIBT     ┆ PROD     ┆ 59  ┆ Serie         ┆ VALORES      ┆ Servicios    ┆ 1           │\n",
       "│          ┆          ┆          ┆     ┆ Original      ┆ CONSTANTES   ┆ Comunitarios ┆             │\n",
       "│          ┆          ┆          ┆     ┆               ┆              ┆ Sociales …   ┆             │\n",
       "│ ESR      ┆ PIBT     ┆ PROD     ┆ 83  ┆ Serie Desesta ┆ VALORES      ┆ Servicios de ┆ 1           │\n",
       "│          ┆          ┆          ┆     ┆ cionalizada   ┆ CONSTANTES   ┆ Enseñanza    ┆             │\n",
       "│          ┆          ┆          ┆     ┆               ┆              ┆ Servicios…   ┆             │\n",
       "│ ESR      ┆ PIBT     ┆ PROD     ┆ 7   ┆ Serie Desesta ┆ VALORES      ┆ Producto     ┆ 1           │\n",
       "│          ┆          ┆          ┆     ┆ cionalizada   ┆ CORRIENTES   ┆ Interno      ┆             │\n",
       "│          ┆          ┆          ┆     ┆               ┆              ┆ Bruto a      ┆             │\n",
       "│          ┆          ┆          ┆     ┆               ┆              ┆ precios…     ┆             │\n",
       "│ ESR      ┆ PIBT     ┆ PROD     ┆ 20  ┆ Serie Desesta ┆ VALORES      ┆ Explotación  ┆ 1           │\n",
       "│          ┆          ┆          ┆     ┆ cionalizada   ┆ CORRIENTES   ┆ de Minas y   ┆             │\n",
       "│          ┆          ┆          ┆     ┆               ┆              ┆ Canteras     ┆             │\n",
       "│ …        ┆ …        ┆ …        ┆ …   ┆ …             ┆ …            ┆ …            ┆ …           │\n",
       "│ ESR      ┆ PIBT     ┆ PROD     ┆ 85  ┆ Serie Desesta ┆ VALORES      ┆ Electricidad ┆ 1           │\n",
       "│          ┆          ┆          ┆     ┆ cionalizada   ┆ CONSTANTES   ┆ y            ┆             │\n",
       "│          ┆          ┆          ┆     ┆               ┆              ┆ Distribución ┆             │\n",
       "│          ┆          ┆          ┆     ┆               ┆              ┆ de A…        ┆             │\n",
       "│ ESR      ┆ PIBT     ┆ PROD     ┆ 94  ┆ Serie         ┆ VALORES      ┆ Propiedad de ┆ 1           │\n",
       "│          ┆          ┆          ┆     ┆ Original      ┆ CORRIENTES   ┆ Vivienda     ┆             │\n",
       "│          ┆          ┆          ┆     ┆               ┆              ┆ Actividade…  ┆             │\n",
       "│ ESR      ┆ PIBT     ┆ PROD     ┆ 61  ┆ Serie         ┆ VALORES      ┆ Comercio     ┆ 1           │\n",
       "│          ┆          ┆          ┆     ┆ Original      ┆ CORRIENTES   ┆ Reparación   ┆             │\n",
       "│          ┆          ┆          ┆     ┆               ┆              ┆ de           ┆             │\n",
       "│          ┆          ┆          ┆     ┆               ┆              ┆ Vehículos…   ┆             │\n",
       "│ ESR      ┆ PIBT     ┆ PROD     ┆ 71  ┆ Serie         ┆ VALORES      ┆ Agricultura  ┆ 1           │\n",
       "│          ┆          ┆          ┆     ┆ Original      ┆ CONSTANTES   ┆ Ganadería    ┆             │\n",
       "│          ┆          ┆          ┆     ┆               ┆              ┆ Caza Silvi…  ┆             │\n",
       "│ ESR      ┆ PIBT     ┆ PROD     ┆ 78  ┆ Serie Desesta ┆ VALORES      ┆ Transporte y ┆ 1           │\n",
       "│          ┆          ┆          ┆     ┆ cionalizada   ┆ CONSTANTES   ┆ Almacenamien ┆             │\n",
       "│          ┆          ┆          ┆     ┆               ┆              ┆ to           ┆             │\n",
       "└──────────┴──────────┴──────────┴─────┴───────────────┴──────────────┴──────────────┴─────────────┘"
      ]
     },
     "execution_count": 66,
     "metadata": {},
     "output_type": "execute_result"
    }
   ],
   "source": [
    "res_nivel_7(\n",
    "    \"ESR\",\"PIBT\",\n",
    "    \"Niv_Gr_3\",\n",
    "    \"PROD\",\n",
    "    \"Id\",\"Niv_Descr_1\",\"Niv_Descr_2\",\"Niv_Descr_4\")"
   ]
  },
  {
   "cell_type": "markdown",
   "id": "64357140",
   "metadata": {},
   "source": [
    "Resultados de una sola variable:\n"
   ]
  },
  {
   "cell_type": "code",
   "execution_count": 67,
   "id": "8af90156",
   "metadata": {},
   "outputs": [
    {
     "name": "stderr",
     "output_type": "stream",
     "text": [
      "<string>:29: FutureWarning:\n",
      "\n",
      "Passing literal json to 'read_json' is deprecated and will be removed in a future version. To read from a literal string, wrap it in a 'StringIO' object.\n",
      "\n"
     ]
    },
    {
     "name": "stderr",
     "output_type": "stream",
     "text": [
      "<string>:29: FutureWarning:\n",
      "\n",
      "Passing literal json to 'read_json' is deprecated and will be removed in a future version. To read from a literal string, wrap it in a 'StringIO' object.\n",
      "\n"
     ]
    },
    {
     "data": {
      "text/html": [
       "<div><style>\n",
       ".dataframe > thead > tr,\n",
       ".dataframe > tbody > tr {\n",
       "  text-align: right;\n",
       "  white-space: pre-wrap;\n",
       "}\n",
       "</style>\n",
       "<small>shape: (96, 2)</small><table border=\"1\" class=\"dataframe\"><thead><tr><th>Fecha</th><th>Serie Desestacionalizada-VALORES CORRIENTES-14-Servicios de Enseñanza Servicios Sociales y de Salud</th></tr><tr><td>date</td><td>f64</td></tr></thead><tbody><tr><td>2023-12-01</td><td>20086.5</td></tr><tr><td>2023-09-01</td><td>19802.0</td></tr><tr><td>2023-06-01</td><td>19374.7</td></tr><tr><td>2023-03-01</td><td>18732.8</td></tr><tr><td>2022-12-01</td><td>18497.7</td></tr><tr><td>&hellip;</td><td>&hellip;</td></tr><tr><td>2001-03-01</td><td>2250.4</td></tr><tr><td>2000-12-01</td><td>1938.9</td></tr><tr><td>2000-09-01</td><td>1939.6</td></tr><tr><td>2000-06-01</td><td>1871.8</td></tr><tr><td>2000-03-01</td><td>1754.8</td></tr></tbody></table></div>"
      ],
      "text/plain": [
       "shape: (96, 2)\n",
       "┌────────────┬───────────────────────────────────┐\n",
       "│ Fecha      ┆ Serie Desestacionalizada-VALORES… │\n",
       "│ ---        ┆ ---                               │\n",
       "│ date       ┆ f64                               │\n",
       "╞════════════╪═══════════════════════════════════╡\n",
       "│ 2023-12-01 ┆ 20086.5                           │\n",
       "│ 2023-09-01 ┆ 19802.0                           │\n",
       "│ 2023-06-01 ┆ 19374.7                           │\n",
       "│ 2023-03-01 ┆ 18732.8                           │\n",
       "│ 2022-12-01 ┆ 18497.7                           │\n",
       "│ …          ┆ …                                 │\n",
       "│ 2001-03-01 ┆ 2250.4                            │\n",
       "│ 2000-12-01 ┆ 1938.9                            │\n",
       "│ 2000-09-01 ┆ 1939.6                            │\n",
       "│ 2000-06-01 ┆ 1871.8                            │\n",
       "│ 2000-03-01 ┆ 1754.8                            │\n",
       "└────────────┴───────────────────────────────────┘"
      ]
     },
     "execution_count": 67,
     "metadata": {},
     "output_type": "execute_result"
    }
   ],
   "source": [
    "Id = 2\n",
    "df = get_df(Id)\n",
    "# get_plot(Id)\n",
    "df"
   ]
  },
  {
   "cell_type": "markdown",
   "id": "77fd93c5",
   "metadata": {},
   "source": [
    "##### GAST = PIB Trimestral por el Enfoque del Gasto\n",
    "\n",
    "* Serie Original\n",
    "* Serie Desestacionalizada\n",
    "* Valores Corrientes\n",
    "* Valores Constantes\n",
    "\n",
    "Para saber el contenido de todas las variables:\n"
   ]
  },
  {
   "cell_type": "code",
   "execution_count": 68,
   "id": "30d43c52",
   "metadata": {},
   "outputs": [
    {
     "name": "stderr",
     "output_type": "stream",
     "text": [
      "<string>:29: FutureWarning:\n",
      "\n",
      "Passing literal json to 'read_json' is deprecated and will be removed in a future version. To read from a literal string, wrap it in a 'StringIO' object.\n",
      "\n"
     ]
    },
    {
     "data": {
      "text/html": [
       "<div><style>\n",
       ".dataframe > thead > tr,\n",
       ".dataframe > tbody > tr {\n",
       "  text-align: right;\n",
       "  white-space: pre-wrap;\n",
       "}\n",
       "</style>\n",
       "<small>shape: (28, 8)</small><table border=\"1\" class=\"dataframe\"><thead><tr><th>Niv_Gr_1</th><th>Niv_Gr_2</th><th>Niv_Gr_3</th><th>Id</th><th>Niv_Descr_1</th><th>Niv_Descr_2</th><th>Niv_Descr_4</th><th>N_Variables</th></tr><tr><td>str</td><td>str</td><td>str</td><td>i64</td><td>str</td><td>str</td><td>str</td><td>u32</td></tr></thead><tbody><tr><td>&quot;ESR&quot;</td><td>&quot;PIBT&quot;</td><td>&quot;GAST&quot;</td><td>11</td><td>&quot;Serie Original…</td><td>&quot;VALORES CONSTA…</td><td>&quot;Exportaciones …</td><td>1</td></tr><tr><td>&quot;ESR&quot;</td><td>&quot;PIBT&quot;</td><td>&quot;GAST&quot;</td><td>27</td><td>&quot;Serie Desestac…</td><td>&quot;VALORES CONSTA…</td><td>&quot;Importación de…</td><td>1</td></tr><tr><td>&quot;ESR&quot;</td><td>&quot;PIBT&quot;</td><td>&quot;GAST&quot;</td><td>30</td><td>&quot;Serie Desestac…</td><td>&quot;VALORES CORRIE…</td><td>&quot;Sector Privado…</td><td>1</td></tr><tr><td>&quot;ESR&quot;</td><td>&quot;PIBT&quot;</td><td>&quot;GAST&quot;</td><td>37</td><td>&quot;Serie Original…</td><td>&quot;VALORES CORRIE…</td><td>&quot;Gastos de Cons…</td><td>1</td></tr><tr><td>&quot;ESR&quot;</td><td>&quot;PIBT&quot;</td><td>&quot;GAST&quot;</td><td>43</td><td>&quot;Serie Original…</td><td>&quot;VALORES CORRIE…</td><td>&quot;Exportaciones …</td><td>1</td></tr><tr><td>&hellip;</td><td>&hellip;</td><td>&hellip;</td><td>&hellip;</td><td>&hellip;</td><td>&hellip;</td><td>&hellip;</td><td>&hellip;</td></tr><tr><td>&quot;ESR&quot;</td><td>&quot;PIBT&quot;</td><td>&quot;GAST&quot;</td><td>41</td><td>&quot;Serie Original…</td><td>&quot;VALORES CORRIE…</td><td>&quot;Producto Inter…</td><td>1</td></tr><tr><td>&quot;ESR&quot;</td><td>&quot;PIBT&quot;</td><td>&quot;GAST&quot;</td><td>42</td><td>&quot;Serie Original…</td><td>&quot;VALORES CORRIE…</td><td>&quot;Importación de…</td><td>1</td></tr><tr><td>&quot;ESR&quot;</td><td>&quot;PIBT&quot;</td><td>&quot;GAST&quot;</td><td>33</td><td>&quot;Serie Desestac…</td><td>&quot;VALORES CORRIE…</td><td>&quot;Exportaciones …</td><td>1</td></tr><tr><td>&quot;ESR&quot;</td><td>&quot;PIBT&quot;</td><td>&quot;GAST&quot;</td><td>35</td><td>&quot;Serie Desestac…</td><td>&quot;VALORES CONSTA…</td><td>&quot;Formación Brut…</td><td>1</td></tr><tr><td>&quot;ESR&quot;</td><td>&quot;PIBT&quot;</td><td>&quot;GAST&quot;</td><td>39</td><td>&quot;Serie Desestac…</td><td>&quot;VALORES CONSTA…</td><td>&quot;Sector Privado…</td><td>1</td></tr></tbody></table></div>"
      ],
      "text/plain": [
       "shape: (28, 8)\n",
       "┌──────────┬──────────┬──────────┬─────┬───────────────┬──────────────┬──────────────┬─────────────┐\n",
       "│ Niv_Gr_1 ┆ Niv_Gr_2 ┆ Niv_Gr_3 ┆ Id  ┆ Niv_Descr_1   ┆ Niv_Descr_2  ┆ Niv_Descr_4  ┆ N_Variables │\n",
       "│ ---      ┆ ---      ┆ ---      ┆ --- ┆ ---           ┆ ---          ┆ ---          ┆ ---         │\n",
       "│ str      ┆ str      ┆ str      ┆ i64 ┆ str           ┆ str          ┆ str          ┆ u32         │\n",
       "╞══════════╪══════════╪══════════╪═════╪═══════════════╪══════════════╪══════════════╪═════════════╡\n",
       "│ ESR      ┆ PIBT     ┆ GAST     ┆ 11  ┆ Serie         ┆ VALORES      ┆ Exportacione ┆ 1           │\n",
       "│          ┆          ┆          ┆     ┆ Original      ┆ CONSTANTES   ┆ s de Bienes  ┆             │\n",
       "│          ┆          ┆          ┆     ┆               ┆              ┆ y Servic…    ┆             │\n",
       "│ ESR      ┆ PIBT     ┆ GAST     ┆ 27  ┆ Serie Desesta ┆ VALORES      ┆ Importación  ┆ 1           │\n",
       "│          ┆          ┆          ┆     ┆ cionalizada   ┆ CONSTANTES   ┆ de Bienes y  ┆             │\n",
       "│          ┆          ┆          ┆     ┆               ┆              ┆ Servicio…    ┆             │\n",
       "│ ESR      ┆ PIBT     ┆ GAST     ┆ 30  ┆ Serie Desesta ┆ VALORES      ┆ Sector       ┆ 1           │\n",
       "│          ┆          ┆          ┆     ┆ cionalizada   ┆ CORRIENTES   ┆ Privado      ┆             │\n",
       "│ ESR      ┆ PIBT     ┆ GAST     ┆ 37  ┆ Serie         ┆ VALORES      ┆ Gastos de    ┆ 1           │\n",
       "│          ┆          ┆          ┆     ┆ Original      ┆ CORRIENTES   ┆ Consumo      ┆             │\n",
       "│          ┆          ┆          ┆     ┆               ┆              ┆ Final        ┆             │\n",
       "│ ESR      ┆ PIBT     ┆ GAST     ┆ 43  ┆ Serie         ┆ VALORES      ┆ Exportacione ┆ 1           │\n",
       "│          ┆          ┆          ┆     ┆ Original      ┆ CORRIENTES   ┆ s de Bienes  ┆             │\n",
       "│          ┆          ┆          ┆     ┆               ┆              ┆ y Servic…    ┆             │\n",
       "│ …        ┆ …        ┆ …        ┆ …   ┆ …             ┆ …            ┆ …            ┆ …           │\n",
       "│ ESR      ┆ PIBT     ┆ GAST     ┆ 41  ┆ Serie         ┆ VALORES      ┆ Producto     ┆ 1           │\n",
       "│          ┆          ┆          ┆     ┆ Original      ┆ CORRIENTES   ┆ Interno      ┆             │\n",
       "│          ┆          ┆          ┆     ┆               ┆              ┆ Bruto a      ┆             │\n",
       "│          ┆          ┆          ┆     ┆               ┆              ┆ precios…     ┆             │\n",
       "│ ESR      ┆ PIBT     ┆ GAST     ┆ 42  ┆ Serie         ┆ VALORES      ┆ Importación  ┆ 1           │\n",
       "│          ┆          ┆          ┆     ┆ Original      ┆ CORRIENTES   ┆ de Bienes y  ┆             │\n",
       "│          ┆          ┆          ┆     ┆               ┆              ┆ Servicio…    ┆             │\n",
       "│ ESR      ┆ PIBT     ┆ GAST     ┆ 33  ┆ Serie Desesta ┆ VALORES      ┆ Exportacione ┆ 1           │\n",
       "│          ┆          ┆          ┆     ┆ cionalizada   ┆ CORRIENTES   ┆ s de Bienes  ┆             │\n",
       "│          ┆          ┆          ┆     ┆               ┆              ┆ y Servic…    ┆             │\n",
       "│ ESR      ┆ PIBT     ┆ GAST     ┆ 35  ┆ Serie Desesta ┆ VALORES      ┆ Formación    ┆ 1           │\n",
       "│          ┆          ┆          ┆     ┆ cionalizada   ┆ CONSTANTES   ┆ Bruta de     ┆             │\n",
       "│          ┆          ┆          ┆     ┆               ┆              ┆ Capital      ┆             │\n",
       "│ ESR      ┆ PIBT     ┆ GAST     ┆ 39  ┆ Serie Desesta ┆ VALORES      ┆ Sector       ┆ 1           │\n",
       "│          ┆          ┆          ┆     ┆ cionalizada   ┆ CONSTANTES   ┆ Privado      ┆             │\n",
       "└──────────┴──────────┴──────────┴─────┴───────────────┴──────────────┴──────────────┴─────────────┘"
      ]
     },
     "execution_count": 68,
     "metadata": {},
     "output_type": "execute_result"
    }
   ],
   "source": [
    "res_nivel_7(\n",
    "    \"ESR\",\"PIBT\",\n",
    "    \"Niv_Gr_3\",\n",
    "    \"GAST\",\n",
    "    \"Id\",\"Niv_Descr_1\",\"Niv_Descr_2\",\"Niv_Descr_4\")"
   ]
  },
  {
   "cell_type": "markdown",
   "id": "bcecdfdf",
   "metadata": {},
   "source": [
    "Resultados de una sola variable:\n"
   ]
  },
  {
   "cell_type": "code",
   "execution_count": 69,
   "id": "4474a49c",
   "metadata": {},
   "outputs": [
    {
     "name": "stderr",
     "output_type": "stream",
     "text": [
      "<string>:29: FutureWarning:\n",
      "\n",
      "Passing literal json to 'read_json' is deprecated and will be removed in a future version. To read from a literal string, wrap it in a 'StringIO' object.\n",
      "\n"
     ]
    },
    {
     "name": "stderr",
     "output_type": "stream",
     "text": [
      "<string>:29: FutureWarning:\n",
      "\n",
      "Passing literal json to 'read_json' is deprecated and will be removed in a future version. To read from a literal string, wrap it in a 'StringIO' object.\n",
      "\n"
     ]
    },
    {
     "data": {
      "text/html": [
       "<div><style>\n",
       ".dataframe > thead > tr,\n",
       ".dataframe > tbody > tr {\n",
       "  text-align: right;\n",
       "  white-space: pre-wrap;\n",
       "}\n",
       "</style>\n",
       "<small>shape: (96, 2)</small><table border=\"1\" class=\"dataframe\"><thead><tr><th>Fecha</th><th>Serie Original-VALORES CONSTANTES-1-Gastos de Consumo Final</th></tr><tr><td>date</td><td>f64</td></tr></thead><tbody><tr><td>2023-12-01</td><td>63981.5</td></tr><tr><td>2023-09-01</td><td>56825.4</td></tr><tr><td>2023-06-01</td><td>58735.5</td></tr><tr><td>2023-03-01</td><td>55847.1</td></tr><tr><td>2022-12-01</td><td>60656.4</td></tr><tr><td>&hellip;</td><td>&hellip;</td></tr><tr><td>2001-03-01</td><td>22815.4</td></tr><tr><td>2000-12-01</td><td>23404.6</td></tr><tr><td>2000-09-01</td><td>22183.0</td></tr><tr><td>2000-06-01</td><td>22187.9</td></tr><tr><td>2000-03-01</td><td>21983.9</td></tr></tbody></table></div>"
      ],
      "text/plain": [
       "shape: (96, 2)\n",
       "┌────────────┬───────────────────────────────────┐\n",
       "│ Fecha      ┆ Serie Original-VALORES CONSTANTE… │\n",
       "│ ---        ┆ ---                               │\n",
       "│ date       ┆ f64                               │\n",
       "╞════════════╪═══════════════════════════════════╡\n",
       "│ 2023-12-01 ┆ 63981.5                           │\n",
       "│ 2023-09-01 ┆ 56825.4                           │\n",
       "│ 2023-06-01 ┆ 58735.5                           │\n",
       "│ 2023-03-01 ┆ 55847.1                           │\n",
       "│ 2022-12-01 ┆ 60656.4                           │\n",
       "│ …          ┆ …                                 │\n",
       "│ 2001-03-01 ┆ 22815.4                           │\n",
       "│ 2000-12-01 ┆ 23404.6                           │\n",
       "│ 2000-09-01 ┆ 22183.0                           │\n",
       "│ 2000-06-01 ┆ 22187.9                           │\n",
       "│ 2000-03-01 ┆ 21983.9                           │\n",
       "└────────────┴───────────────────────────────────┘"
      ]
     },
     "execution_count": 69,
     "metadata": {},
     "output_type": "execute_result"
    }
   ],
   "source": [
    "Id = 8\n",
    "df = get_df(Id)\n",
    "# get_plot(Id)\n",
    "df"
   ]
  },
  {
   "cell_type": "markdown",
   "id": "a86ab14b",
   "metadata": {},
   "source": [
    "##### TDC = Tasas de Crecimiento\n",
    "\n",
    "* Serie Original\n",
    "* Serie Desestacionalizada\n",
    "* Valores Corrientes\n",
    "* Valores Constantes\n",
    "\n",
    "Para saber el contenido de todas las variables:\n"
   ]
  },
  {
   "cell_type": "code",
   "execution_count": 70,
   "id": "8cb3b56f",
   "metadata": {},
   "outputs": [
    {
     "name": "stderr",
     "output_type": "stream",
     "text": [
      "<string>:29: FutureWarning:\n",
      "\n",
      "Passing literal json to 'read_json' is deprecated and will be removed in a future version. To read from a literal string, wrap it in a 'StringIO' object.\n",
      "\n"
     ]
    },
    {
     "data": {
      "text/html": [
       "<div><style>\n",
       ".dataframe > thead > tr,\n",
       ".dataframe > tbody > tr {\n",
       "  text-align: right;\n",
       "  white-space: pre-wrap;\n",
       "}\n",
       "</style>\n",
       "<small>shape: (1, 7)</small><table border=\"1\" class=\"dataframe\"><thead><tr><th>Niv_Gr_1</th><th>Niv_Gr_2</th><th>Niv_Gr_3</th><th>Id</th><th>Nombre</th><th>Niv_Descr_1</th><th>N_Variables</th></tr><tr><td>str</td><td>str</td><td>str</td><td>i64</td><td>str</td><td>str</td><td>u32</td></tr></thead><tbody><tr><td>&quot;ESR&quot;</td><td>&quot;PIBT&quot;</td><td>&quot;TDC&quot;</td><td>98</td><td>&quot;ESR-PIBT-TDC-V…</td><td>&quot;Valores Ajusta…</td><td>1</td></tr></tbody></table></div>"
      ],
      "text/plain": [
       "shape: (1, 7)\n",
       "┌──────────┬──────────┬──────────┬─────┬─────────────────────────┬───────────────────┬─────────────┐\n",
       "│ Niv_Gr_1 ┆ Niv_Gr_2 ┆ Niv_Gr_3 ┆ Id  ┆ Nombre                  ┆ Niv_Descr_1       ┆ N_Variables │\n",
       "│ ---      ┆ ---      ┆ ---      ┆ --- ┆ ---                     ┆ ---               ┆ ---         │\n",
       "│ str      ┆ str      ┆ str      ┆ i64 ┆ str                     ┆ str               ┆ u32         │\n",
       "╞══════════╪══════════╪══════════╪═════╪═════════════════════════╪═══════════════════╪═════════════╡\n",
       "│ ESR      ┆ PIBT     ┆ TDC      ┆ 98  ┆ ESR-PIBT-TDC-Valores-01 ┆ Valores Ajustados ┆ 1           │\n",
       "└──────────┴──────────┴──────────┴─────┴─────────────────────────┴───────────────────┴─────────────┘"
      ]
     },
     "execution_count": 70,
     "metadata": {},
     "output_type": "execute_result"
    }
   ],
   "source": [
    "res_nivel_6(\n",
    "    \"ESR\",\"PIBT\",\n",
    "    \"Niv_Gr_3\",\n",
    "    \"TDC\",\n",
    "    \"Id\",\"Nombre\",\"Niv_Descr_1\")"
   ]
  },
  {
   "cell_type": "markdown",
   "id": "716612b3",
   "metadata": {},
   "source": [
    "Resultados de una sola variable:\n"
   ]
  },
  {
   "cell_type": "code",
   "execution_count": 71,
   "id": "6df61bd9",
   "metadata": {},
   "outputs": [
    {
     "name": "stderr",
     "output_type": "stream",
     "text": [
      "<string>:29: FutureWarning:\n",
      "\n",
      "Passing literal json to 'read_json' is deprecated and will be removed in a future version. To read from a literal string, wrap it in a 'StringIO' object.\n",
      "\n"
     ]
    },
    {
     "name": "stderr",
     "output_type": "stream",
     "text": [
      "<string>:29: FutureWarning:\n",
      "\n",
      "Passing literal json to 'read_json' is deprecated and will be removed in a future version. To read from a literal string, wrap it in a 'StringIO' object.\n",
      "\n"
     ]
    },
    {
     "data": {
      "text/html": [
       "<div><style>\n",
       ".dataframe > thead > tr,\n",
       ".dataframe > tbody > tr {\n",
       "  text-align: right;\n",
       "  white-space: pre-wrap;\n",
       "}\n",
       "</style>\n",
       "<small>shape: (96, 2)</small><table border=\"1\" class=\"dataframe\"><thead><tr><th>Fecha</th><th>Valores Ajustados</th></tr><tr><td>date</td><td>f64</td></tr></thead><tbody><tr><td>2023-12-01</td><td>61948.8</td></tr><tr><td>2023-09-01</td><td>61244.0</td></tr><tr><td>2023-06-01</td><td>60564.6</td></tr><tr><td>2023-03-01</td><td>59727.1</td></tr><tr><td>2022-12-01</td><td>59862.9</td></tr><tr><td>&hellip;</td><td>&hellip;</td></tr><tr><td>2001-03-01</td><td>27225.7</td></tr><tr><td>2000-12-01</td><td>26992.4</td></tr><tr><td>2000-09-01</td><td>26710.9</td></tr><tr><td>2000-06-01</td><td>26528.2</td></tr><tr><td>2000-03-01</td><td>26393.4</td></tr></tbody></table></div>"
      ],
      "text/plain": [
       "shape: (96, 2)\n",
       "┌────────────┬───────────────────┐\n",
       "│ Fecha      ┆ Valores Ajustados │\n",
       "│ ---        ┆ ---               │\n",
       "│ date       ┆ f64               │\n",
       "╞════════════╪═══════════════════╡\n",
       "│ 2023-12-01 ┆ 61948.8           │\n",
       "│ 2023-09-01 ┆ 61244.0           │\n",
       "│ 2023-06-01 ┆ 60564.6           │\n",
       "│ 2023-03-01 ┆ 59727.1           │\n",
       "│ 2022-12-01 ┆ 59862.9           │\n",
       "│ …          ┆ …                 │\n",
       "│ 2001-03-01 ┆ 27225.7           │\n",
       "│ 2000-12-01 ┆ 26992.4           │\n",
       "│ 2000-09-01 ┆ 26710.9           │\n",
       "│ 2000-06-01 ┆ 26528.2           │\n",
       "│ 2000-03-01 ┆ 26393.4           │\n",
       "└────────────┴───────────────────┘"
      ]
     },
     "execution_count": 71,
     "metadata": {},
     "output_type": "execute_result"
    }
   ],
   "source": [
    "Id = 98\n",
    "df = get_df(Id)\n",
    "# get_plot(Id)\n",
    "df"
   ]
  },
  {
   "cell_type": "markdown",
   "id": "342509cc",
   "metadata": {},
   "source": [
    "#### ODA = Oferta y Demanda Agregada\n",
    "\n",
    "* Oferta Global\n",
    "* Demanda Global\n"
   ]
  },
  {
   "cell_type": "code",
   "execution_count": 72,
   "id": "7ccdb14b",
   "metadata": {},
   "outputs": [
    {
     "name": "stdout",
     "output_type": "stream",
     "text": [
      "2 subgrupos\n",
      "94 variables\n"
     ]
    },
    {
     "name": "stderr",
     "output_type": "stream",
     "text": [
      "<string>:29: FutureWarning:\n",
      "\n",
      "Passing literal json to 'read_json' is deprecated and will be removed in a future version. To read from a literal string, wrap it in a 'StringIO' object.\n",
      "\n"
     ]
    },
    {
     "data": {
      "text/html": [
       "<div><style>\n",
       ".dataframe > thead > tr,\n",
       ".dataframe > tbody > tr {\n",
       "  text-align: right;\n",
       "  white-space: pre-wrap;\n",
       "}\n",
       "</style>\n",
       "<small>shape: (2, 4)</small><table border=\"1\" class=\"dataframe\"><thead><tr><th>Niv_Gr_1</th><th>Niv_Gr_2</th><th>Niv_Descr_1</th><th>N_Variables</th></tr><tr><td>str</td><td>str</td><td>str</td><td>u32</td></tr></thead><tbody><tr><td>&quot;ESR&quot;</td><td>&quot;ODA&quot;</td><td>&quot;OFERTA GLOBAL&quot;</td><td>48</td></tr><tr><td>&quot;ESR&quot;</td><td>&quot;ODA&quot;</td><td>&quot;DEMANDA GLOBAL…</td><td>46</td></tr></tbody></table></div>"
      ],
      "text/plain": [
       "shape: (2, 4)\n",
       "┌──────────┬──────────┬────────────────┬─────────────┐\n",
       "│ Niv_Gr_1 ┆ Niv_Gr_2 ┆ Niv_Descr_1    ┆ N_Variables │\n",
       "│ ---      ┆ ---      ┆ ---            ┆ ---         │\n",
       "│ str      ┆ str      ┆ str            ┆ u32         │\n",
       "╞══════════╪══════════╪════════════════╪═════════════╡\n",
       "│ ESR      ┆ ODA      ┆ OFERTA GLOBAL  ┆ 48          │\n",
       "│ ESR      ┆ ODA      ┆ DEMANDA GLOBAL ┆ 46          │\n",
       "└──────────┴──────────┴────────────────┴─────────────┘"
      ]
     },
     "execution_count": 72,
     "metadata": {},
     "output_type": "execute_result"
    }
   ],
   "source": [
    "res_nivel_3(\"ESR\",\"ODA\",\"Niv_Descr_1\")"
   ]
  },
  {
   "cell_type": "markdown",
   "id": "e2572e83",
   "metadata": {},
   "source": [
    "##### Oferta Global\n",
    "\n",
    "Estas tablas están agrupadas de dos maneras:\n",
    "\n",
    "1. Variables con valores en \"Niv_Descr_2\" y \"Niv_Descr_3\", corresponde a las siguientes series:\n",
    "\n",
    "* AGRICULTURA, GANADERÍA, CAZA, SILVICULTURA Y PESCA (A PRECIOS BÁSICOS)\n",
    "* COMERCIO, HOTELES Y RESTAURANTES (A PRECIOS BÁSICOS)\n",
    "* CONSTRUCCIÓN (A PRECIOS BÁSICOS)\n",
    "* EXPLOTACIÓN DE MINAS Y CANTERAS (A PRECIOS BÁSICOS)\n",
    "* INDUSTRIA MANUFACTURERA (A PRECIOS BÁSICOS)\n",
    "* MENOS: SERVICIOS DE INTERMEDIACIÓN FINANCIERA MEDIDOS INDIRECTAMENTE (A PRECIOS BÁSICOS)\n",
    "\n",
    "El tipo de valor (\"Niv_Descr_4\") de dichas variables es:\n",
    "\n",
    "* EN MILLONES DE LEMPIRAS CONSTANTES\n",
    "* EN MILLONES DE LEMPIRAS CORRIENTES\n",
    "* VARIACIONES RELATIVAS CONSTANTE\n",
    "* VARIACIONES RELATIVAS CORRIENTES\n"
   ]
  },
  {
   "cell_type": "code",
   "execution_count": 73,
   "id": "bb817230",
   "metadata": {},
   "outputs": [
    {
     "name": "stderr",
     "output_type": "stream",
     "text": [
      "<string>:29: FutureWarning:\n",
      "\n",
      "Passing literal json to 'read_json' is deprecated and will be removed in a future version. To read from a literal string, wrap it in a 'StringIO' object.\n",
      "\n"
     ]
    },
    {
     "data": {
      "text/html": [
       "<div><style>\n",
       ".dataframe > thead > tr,\n",
       ".dataframe > tbody > tr {\n",
       "  text-align: right;\n",
       "  white-space: pre-wrap;\n",
       "}\n",
       "</style>\n",
       "<small>shape: (24, 8)</small><table border=\"1\" class=\"dataframe\"><thead><tr><th>Niv_Gr_1</th><th>Niv_Gr_2</th><th>Niv_Descr_1</th><th>Id</th><th>Niv_Descr_2</th><th>Niv_Descr_3</th><th>Niv_Descr_4</th><th>N_Variables</th></tr><tr><td>str</td><td>str</td><td>str</td><td>i64</td><td>str</td><td>str</td><td>str</td><td>u32</td></tr></thead><tbody><tr><td>&quot;ESR&quot;</td><td>&quot;ODA&quot;</td><td>&quot;OFERTA GLOBAL&quot;</td><td>11510</td><td>&quot;VALOR AGREGADO…</td><td>&quot;EXPLOTACIÓN DE…</td><td>&quot;VARIACIONES RE…</td><td>1</td></tr><tr><td>&quot;ESR&quot;</td><td>&quot;ODA&quot;</td><td>&quot;OFERTA GLOBAL&quot;</td><td>11519</td><td>&quot;VALOR AGREGADO…</td><td>&quot;MENOS: SERVICI…</td><td>&quot;VARIACIONES RE…</td><td>1</td></tr><tr><td>&quot;ESR&quot;</td><td>&quot;ODA&quot;</td><td>&quot;OFERTA GLOBAL&quot;</td><td>11506</td><td>&quot;VALOR AGREGADO…</td><td>&quot;CONSTRUCCIÓN (…</td><td>&quot;VARIACIONES RE…</td><td>1</td></tr><tr><td>&quot;ESR&quot;</td><td>&quot;ODA&quot;</td><td>&quot;OFERTA GLOBAL&quot;</td><td>11507</td><td>&quot;VALOR AGREGADO…</td><td>&quot;CONSTRUCCIÓN (…</td><td>&quot;VARIACIONES RE…</td><td>1</td></tr><tr><td>&quot;ESR&quot;</td><td>&quot;ODA&quot;</td><td>&quot;OFERTA GLOBAL&quot;</td><td>11502</td><td>&quot;VALOR AGREGADO…</td><td>&quot;COMERCIO, HOTE…</td><td>&quot;VARIACIONES RE…</td><td>1</td></tr><tr><td>&hellip;</td><td>&hellip;</td><td>&hellip;</td><td>&hellip;</td><td>&hellip;</td><td>&hellip;</td><td>&hellip;</td><td>&hellip;</td></tr><tr><td>&quot;ESR&quot;</td><td>&quot;ODA&quot;</td><td>&quot;OFERTA GLOBAL&quot;</td><td>11516</td><td>&quot;VALOR AGREGADO…</td><td>&quot;MENOS: SERVICI…</td><td>&quot;EN MILLONES DE…</td><td>1</td></tr><tr><td>&quot;ESR&quot;</td><td>&quot;ODA&quot;</td><td>&quot;OFERTA GLOBAL&quot;</td><td>11511</td><td>&quot;VALOR AGREGADO…</td><td>&quot;EXPLOTACIÓN DE…</td><td>&quot;VARIACIONES RE…</td><td>1</td></tr><tr><td>&quot;ESR&quot;</td><td>&quot;ODA&quot;</td><td>&quot;OFERTA GLOBAL&quot;</td><td>11496</td><td>&quot;VALOR AGREGADO…</td><td>&quot;AGRICULTURA, G…</td><td>&quot;EN MILLONES DE…</td><td>1</td></tr><tr><td>&quot;ESR&quot;</td><td>&quot;ODA&quot;</td><td>&quot;OFERTA GLOBAL&quot;</td><td>11500</td><td>&quot;VALOR AGREGADO…</td><td>&quot;COMERCIO, HOTE…</td><td>&quot;EN MILLONES DE…</td><td>1</td></tr><tr><td>&quot;ESR&quot;</td><td>&quot;ODA&quot;</td><td>&quot;OFERTA GLOBAL&quot;</td><td>11504</td><td>&quot;VALOR AGREGADO…</td><td>&quot;CONSTRUCCIÓN (…</td><td>&quot;EN MILLONES DE…</td><td>1</td></tr></tbody></table></div>"
      ],
      "text/plain": [
       "shape: (24, 8)\n",
       "┌──────────┬──────────┬─────────────┬───────┬─────────────┬─────────────┬─────────────┬────────────┐\n",
       "│ Niv_Gr_1 ┆ Niv_Gr_2 ┆ Niv_Descr_1 ┆ Id    ┆ Niv_Descr_2 ┆ Niv_Descr_3 ┆ Niv_Descr_4 ┆ N_Variable │\n",
       "│ ---      ┆ ---      ┆ ---         ┆ ---   ┆ ---         ┆ ---         ┆ ---         ┆ s          │\n",
       "│ str      ┆ str      ┆ str         ┆ i64   ┆ str         ┆ str         ┆ str         ┆ ---        │\n",
       "│          ┆          ┆             ┆       ┆             ┆             ┆             ┆ u32        │\n",
       "╞══════════╪══════════╪═════════════╪═══════╪═════════════╪═════════════╪═════════════╪════════════╡\n",
       "│ ESR      ┆ ODA      ┆ OFERTA      ┆ 11510 ┆ VALOR       ┆ EXPLOTACIÓN ┆ VARIACIONES ┆ 1          │\n",
       "│          ┆          ┆ GLOBAL      ┆       ┆ AGREGADO    ┆ DE MINAS Y  ┆ RELATIVAS   ┆            │\n",
       "│          ┆          ┆             ┆       ┆ BRUTO       ┆ CANTERAS …  ┆ CONSTANTE   ┆            │\n",
       "│ ESR      ┆ ODA      ┆ OFERTA      ┆ 11519 ┆ VALOR       ┆ MENOS:      ┆ VARIACIONES ┆ 1          │\n",
       "│          ┆          ┆ GLOBAL      ┆       ┆ AGREGADO    ┆ SERVICIOS   ┆ RELATIVAS   ┆            │\n",
       "│          ┆          ┆             ┆       ┆ BRUTO       ┆ DE INTERMED ┆ CORRIENTES  ┆            │\n",
       "│          ┆          ┆             ┆       ┆             ┆ IACI…       ┆             ┆            │\n",
       "│ ESR      ┆ ODA      ┆ OFERTA      ┆ 11506 ┆ VALOR       ┆ CONSTRUCCIÓ ┆ VARIACIONES ┆ 1          │\n",
       "│          ┆          ┆ GLOBAL      ┆       ┆ AGREGADO    ┆ N (A        ┆ RELATIVAS   ┆            │\n",
       "│          ┆          ┆             ┆       ┆ BRUTO       ┆ PRECIOS     ┆ CONSTANTE   ┆            │\n",
       "│          ┆          ┆             ┆       ┆             ┆ BÁSICOS)    ┆             ┆            │\n",
       "│ ESR      ┆ ODA      ┆ OFERTA      ┆ 11507 ┆ VALOR       ┆ CONSTRUCCIÓ ┆ VARIACIONES ┆ 1          │\n",
       "│          ┆          ┆ GLOBAL      ┆       ┆ AGREGADO    ┆ N (A        ┆ RELATIVAS   ┆            │\n",
       "│          ┆          ┆             ┆       ┆ BRUTO       ┆ PRECIOS     ┆ CORRIENTES  ┆            │\n",
       "│          ┆          ┆             ┆       ┆             ┆ BÁSICOS)    ┆             ┆            │\n",
       "│ ESR      ┆ ODA      ┆ OFERTA      ┆ 11502 ┆ VALOR       ┆ COMERCIO,   ┆ VARIACIONES ┆ 1          │\n",
       "│          ┆          ┆ GLOBAL      ┆       ┆ AGREGADO    ┆ HOTELES Y   ┆ RELATIVAS   ┆            │\n",
       "│          ┆          ┆             ┆       ┆ BRUTO       ┆ RESTAURANTE ┆ CONSTANTE   ┆            │\n",
       "│          ┆          ┆             ┆       ┆             ┆ S…          ┆             ┆            │\n",
       "│ …        ┆ …        ┆ …           ┆ …     ┆ …           ┆ …           ┆ …           ┆ …          │\n",
       "│ ESR      ┆ ODA      ┆ OFERTA      ┆ 11516 ┆ VALOR       ┆ MENOS:      ┆ EN MILLONES ┆ 1          │\n",
       "│          ┆          ┆ GLOBAL      ┆       ┆ AGREGADO    ┆ SERVICIOS   ┆ DE LEMPIRAS ┆            │\n",
       "│          ┆          ┆             ┆       ┆ BRUTO       ┆ DE INTERMED ┆ CONSTANT…   ┆            │\n",
       "│          ┆          ┆             ┆       ┆             ┆ IACI…       ┆             ┆            │\n",
       "│ ESR      ┆ ODA      ┆ OFERTA      ┆ 11511 ┆ VALOR       ┆ EXPLOTACIÓN ┆ VARIACIONES ┆ 1          │\n",
       "│          ┆          ┆ GLOBAL      ┆       ┆ AGREGADO    ┆ DE MINAS Y  ┆ RELATIVAS   ┆            │\n",
       "│          ┆          ┆             ┆       ┆ BRUTO       ┆ CANTERAS …  ┆ CORRIENTES  ┆            │\n",
       "│ ESR      ┆ ODA      ┆ OFERTA      ┆ 11496 ┆ VALOR       ┆ AGRICULTURA ┆ EN MILLONES ┆ 1          │\n",
       "│          ┆          ┆ GLOBAL      ┆       ┆ AGREGADO    ┆ ,           ┆ DE LEMPIRAS ┆            │\n",
       "│          ┆          ┆             ┆       ┆ BRUTO       ┆ GANADERÍA,  ┆ CONSTANT…   ┆            │\n",
       "│          ┆          ┆             ┆       ┆             ┆ CAZA, SI…   ┆             ┆            │\n",
       "│ ESR      ┆ ODA      ┆ OFERTA      ┆ 11500 ┆ VALOR       ┆ COMERCIO,   ┆ EN MILLONES ┆ 1          │\n",
       "│          ┆          ┆ GLOBAL      ┆       ┆ AGREGADO    ┆ HOTELES Y   ┆ DE LEMPIRAS ┆            │\n",
       "│          ┆          ┆             ┆       ┆ BRUTO       ┆ RESTAURANTE ┆ CONSTANT…   ┆            │\n",
       "│          ┆          ┆             ┆       ┆             ┆ S…          ┆             ┆            │\n",
       "│ ESR      ┆ ODA      ┆ OFERTA      ┆ 11504 ┆ VALOR       ┆ CONSTRUCCIÓ ┆ EN MILLONES ┆ 1          │\n",
       "│          ┆          ┆ GLOBAL      ┆       ┆ AGREGADO    ┆ N (A        ┆ DE LEMPIRAS ┆            │\n",
       "│          ┆          ┆             ┆       ┆ BRUTO       ┆ PRECIOS     ┆ CONSTANT…   ┆            │\n",
       "│          ┆          ┆             ┆       ┆             ┆ BÁSICOS)    ┆             ┆            │\n",
       "└──────────┴──────────┴─────────────┴───────┴─────────────┴─────────────┴─────────────┴────────────┘"
      ]
     },
     "execution_count": 73,
     "metadata": {},
     "output_type": "execute_result"
    }
   ],
   "source": [
    "res_nivel_7(\n",
    "    \"ESR\",\"ODA\",\n",
    "    \"Niv_Descr_1\",\n",
    "    \"OFERTA GLOBAL\",\n",
    "    \"Id\",\"Niv_Descr_2\",\"Niv_Descr_3\",\"Niv_Descr_4\"\n",
    "    ).filter((pl.col('Niv_Descr_2') != \"\"))"
   ]
  },
  {
   "cell_type": "markdown",
   "id": "1f116268",
   "metadata": {},
   "source": [
    "Resultados de una sola variable:\n"
   ]
  },
  {
   "cell_type": "code",
   "execution_count": 74,
   "id": "ad85e6e5",
   "metadata": {},
   "outputs": [
    {
     "name": "stderr",
     "output_type": "stream",
     "text": [
      "<string>:29: FutureWarning:\n",
      "\n",
      "Passing literal json to 'read_json' is deprecated and will be removed in a future version. To read from a literal string, wrap it in a 'StringIO' object.\n",
      "\n"
     ]
    },
    {
     "name": "stderr",
     "output_type": "stream",
     "text": [
      "<string>:29: FutureWarning:\n",
      "\n",
      "Passing literal json to 'read_json' is deprecated and will be removed in a future version. To read from a literal string, wrap it in a 'StringIO' object.\n",
      "\n"
     ]
    },
    {
     "data": {
      "text/html": [
       "<div><style>\n",
       ".dataframe > thead > tr,\n",
       ".dataframe > tbody > tr {\n",
       "  text-align: right;\n",
       "  white-space: pre-wrap;\n",
       "}\n",
       "</style>\n",
       "<small>shape: (23, 2)</small><table border=\"1\" class=\"dataframe\"><thead><tr><th>Fecha</th><th>OFERTA GLOBAL-VALOR AGREGADO BRUTO-MENOS: SERVICIOS DE INTERMEDIACIÓN FINANCIERA MEDIDOS INDIRECTAMENTE (A PRECIOS BÁSICOS)-VARIACIONES RELATIVAS CONSTANTE</th></tr><tr><td>date</td><td>f64</td></tr></thead><tbody><tr><td>2023-01-01</td><td>10.7</td></tr><tr><td>2022-01-01</td><td>12.4</td></tr><tr><td>2021-01-01</td><td>13.4</td></tr><tr><td>2020-01-01</td><td>1.8</td></tr><tr><td>2019-01-01</td><td>7.0</td></tr><tr><td>&hellip;</td><td>&hellip;</td></tr><tr><td>2005-01-01</td><td>22.5</td></tr><tr><td>2004-01-01</td><td>16.6</td></tr><tr><td>2003-01-01</td><td>13.3</td></tr><tr><td>2002-01-01</td><td>19.4</td></tr><tr><td>2001-01-01</td><td>10.7</td></tr></tbody></table></div>"
      ],
      "text/plain": [
       "shape: (23, 2)\n",
       "┌────────────┬───────────────────────────────────┐\n",
       "│ Fecha      ┆ OFERTA GLOBAL-VALOR AGREGADO BRU… │\n",
       "│ ---        ┆ ---                               │\n",
       "│ date       ┆ f64                               │\n",
       "╞════════════╪═══════════════════════════════════╡\n",
       "│ 2023-01-01 ┆ 10.7                              │\n",
       "│ 2022-01-01 ┆ 12.4                              │\n",
       "│ 2021-01-01 ┆ 13.4                              │\n",
       "│ 2020-01-01 ┆ 1.8                               │\n",
       "│ 2019-01-01 ┆ 7.0                               │\n",
       "│ …          ┆ …                                 │\n",
       "│ 2005-01-01 ┆ 22.5                              │\n",
       "│ 2004-01-01 ┆ 16.6                              │\n",
       "│ 2003-01-01 ┆ 13.3                              │\n",
       "│ 2002-01-01 ┆ 19.4                              │\n",
       "│ 2001-01-01 ┆ 10.7                              │\n",
       "└────────────┴───────────────────────────────────┘"
      ]
     },
     "execution_count": 74,
     "metadata": {},
     "output_type": "execute_result"
    }
   ],
   "source": [
    "Id = 11518\n",
    "df = get_df(Id)\n",
    "# get_plot(Id)\n",
    "df"
   ]
  },
  {
   "cell_type": "markdown",
   "id": "59a32da5",
   "metadata": {},
   "source": [
    "2. Variables sin valores en \"Niv_Descr_2\" y \"Niv_Descr_3\", corresponde a las siguientes series:\n",
    "\n",
    "* IMPORTACIONES DE BIENES Y SERVICIOS C.I.F.\n",
    "* IMPUESTOS NETOS DE SUBVENCIONES SOBRE LA PRODUCCIÓN Y LAS IMPORTACIONES\n",
    "* OFERTA GLOBAL\n",
    "* OTROS SERVICIOS (A PRECIOS BÃSICOS)\n",
    "* PRODUCTO INTERNO BRUTO A PRECIOS DE MERCADO\n",
    "* TOTAL VALOR AGREGADO BRUTO A PRECIOS BÁSICOS\n",
    "* VALOR AGREGADO BRUTO\n",
    "* VALOR AGREGADO BRUTO A PRECIOS BÁSICOS\n",
    "\n",
    "El tipo de valor (\"Niv_Descr_5\") de dichas variables es:\n",
    "\n",
    "* EN MILLONES DE LEMPIRAS CONSTANTES\n",
    "* EN MILLONES DE LEMPIRAS CORRIENTES\n",
    "* VARIACIONES RELATIVAS CONSTANTE\n",
    "* VARIACIONES RELATIVAS CORRIENTES\n",
    "\n",
    "Para saber el contenido de todas las variables:\n"
   ]
  },
  {
   "cell_type": "code",
   "execution_count": 75,
   "id": "bbc0143f",
   "metadata": {},
   "outputs": [
    {
     "name": "stderr",
     "output_type": "stream",
     "text": [
      "<string>:29: FutureWarning:\n",
      "\n",
      "Passing literal json to 'read_json' is deprecated and will be removed in a future version. To read from a literal string, wrap it in a 'StringIO' object.\n",
      "\n"
     ]
    },
    {
     "data": {
      "text/html": [
       "<div><style>\n",
       ".dataframe > thead > tr,\n",
       ".dataframe > tbody > tr {\n",
       "  text-align: right;\n",
       "  white-space: pre-wrap;\n",
       "}\n",
       "</style>\n",
       "<small>shape: (24, 8)</small><table border=\"1\" class=\"dataframe\"><thead><tr><th>Niv_Gr_1</th><th>Niv_Gr_2</th><th>Niv_Descr_1</th><th>Id</th><th>Niv_Descr_2</th><th>Niv_Descr_4</th><th>Niv_Descr_5</th><th>N_Variables</th></tr><tr><td>str</td><td>str</td><td>str</td><td>i64</td><td>str</td><td>str</td><td>str</td><td>u32</td></tr></thead><tbody><tr><td>&quot;ESR&quot;</td><td>&quot;ODA&quot;</td><td>&quot;OFERTA GLOBAL&quot;</td><td>11486</td><td>&quot;&quot;</td><td>&quot;OTROS SERVICIO…</td><td>&quot;VARIACIONES RE…</td><td>1</td></tr><tr><td>&quot;ESR&quot;</td><td>&quot;ODA&quot;</td><td>&quot;OFERTA GLOBAL&quot;</td><td>11483</td><td>&quot;&quot;</td><td>&quot;OFERTA GLOBAL&quot;</td><td>&quot;VARIACIONES RE…</td><td>1</td></tr><tr><td>&quot;ESR&quot;</td><td>&quot;ODA&quot;</td><td>&quot;OFERTA GLOBAL&quot;</td><td>11494</td><td>&quot;&quot;</td><td>&quot;VALOR AGREGADO…</td><td>&quot;VARIACIONES RE…</td><td>1</td></tr><tr><td>&quot;ESR&quot;</td><td>&quot;ODA&quot;</td><td>&quot;OFERTA GLOBAL&quot;</td><td>11477</td><td>&quot;&quot;</td><td>&quot;IMPUESTOS NETO…</td><td>&quot;EN MILLONES DE…</td><td>1</td></tr><tr><td>&quot;ESR&quot;</td><td>&quot;ODA&quot;</td><td>&quot;OFERTA GLOBAL&quot;</td><td>11478</td><td>&quot;&quot;</td><td>&quot;IMPUESTOS NETO…</td><td>&quot;VARIACIONES RE…</td><td>1</td></tr><tr><td>&hellip;</td><td>&hellip;</td><td>&hellip;</td><td>&hellip;</td><td>&hellip;</td><td>&hellip;</td><td>&hellip;</td><td>&hellip;</td></tr><tr><td>&quot;ESR&quot;</td><td>&quot;ODA&quot;</td><td>&quot;OFERTA GLOBAL&quot;</td><td>11485</td><td>&quot;&quot;</td><td>&quot;OTROS SERVICIO…</td><td>&quot;EN MILLONES DE…</td><td>1</td></tr><tr><td>&quot;ESR&quot;</td><td>&quot;ODA&quot;</td><td>&quot;OFERTA GLOBAL&quot;</td><td>11491</td><td>&quot;&quot;</td><td>&quot;PRODUCTO INTER…</td><td>&quot;VARIACIONES RE…</td><td>1</td></tr><tr><td>&quot;ESR&quot;</td><td>&quot;ODA&quot;</td><td>&quot;OFERTA GLOBAL&quot;</td><td>11492</td><td>&quot;&quot;</td><td>&quot;TOTAL VALOR AG…</td><td>&quot;EN MILLONES DE…</td><td>1</td></tr><tr><td>&quot;ESR&quot;</td><td>&quot;ODA&quot;</td><td>&quot;OFERTA GLOBAL&quot;</td><td>11481</td><td>&quot;&quot;</td><td>&quot;OFERTA GLOBAL&quot;</td><td>&quot;EN MILLONES DE…</td><td>1</td></tr><tr><td>&quot;ESR&quot;</td><td>&quot;ODA&quot;</td><td>&quot;OFERTA GLOBAL&quot;</td><td>11484</td><td>&quot;&quot;</td><td>&quot;OTROS SERVICIO…</td><td>&quot;EN MILLONES DE…</td><td>1</td></tr></tbody></table></div>"
      ],
      "text/plain": [
       "shape: (24, 8)\n",
       "┌──────────┬──────────┬─────────────┬───────┬─────────────┬─────────────┬─────────────┬────────────┐\n",
       "│ Niv_Gr_1 ┆ Niv_Gr_2 ┆ Niv_Descr_1 ┆ Id    ┆ Niv_Descr_2 ┆ Niv_Descr_4 ┆ Niv_Descr_5 ┆ N_Variable │\n",
       "│ ---      ┆ ---      ┆ ---         ┆ ---   ┆ ---         ┆ ---         ┆ ---         ┆ s          │\n",
       "│ str      ┆ str      ┆ str         ┆ i64   ┆ str         ┆ str         ┆ str         ┆ ---        │\n",
       "│          ┆          ┆             ┆       ┆             ┆             ┆             ┆ u32        │\n",
       "╞══════════╪══════════╪═════════════╪═══════╪═════════════╪═════════════╪═════════════╪════════════╡\n",
       "│ ESR      ┆ ODA      ┆ OFERTA      ┆ 11486 ┆             ┆ OTROS       ┆ VARIACIONES ┆ 1          │\n",
       "│          ┆          ┆ GLOBAL      ┆       ┆             ┆ SERVICIOS   ┆ RELATIVAS   ┆            │\n",
       "│          ┆          ┆             ┆       ┆             ┆ (A PRECIOS  ┆ CONSTANTE   ┆            │\n",
       "│          ┆          ┆             ┆       ┆             ┆ BÁSIC…      ┆             ┆            │\n",
       "│ ESR      ┆ ODA      ┆ OFERTA      ┆ 11483 ┆             ┆ OFERTA      ┆ VARIACIONES ┆ 1          │\n",
       "│          ┆          ┆ GLOBAL      ┆       ┆             ┆ GLOBAL      ┆ RELATIVAS   ┆            │\n",
       "│          ┆          ┆             ┆       ┆             ┆             ┆ CORRIENTES  ┆            │\n",
       "│ ESR      ┆ ODA      ┆ OFERTA      ┆ 11494 ┆             ┆ VALOR       ┆ VARIACIONES ┆ 1          │\n",
       "│          ┆          ┆ GLOBAL      ┆       ┆             ┆ AGREGADO    ┆ RELATIVAS   ┆            │\n",
       "│          ┆          ┆             ┆       ┆             ┆ BRUTO A     ┆ CONSTANTE   ┆            │\n",
       "│          ┆          ┆             ┆       ┆             ┆ PRECIOS B…  ┆             ┆            │\n",
       "│ ESR      ┆ ODA      ┆ OFERTA      ┆ 11477 ┆             ┆ IMPUESTOS   ┆ EN MILLONES ┆ 1          │\n",
       "│          ┆          ┆ GLOBAL      ┆       ┆             ┆ NETOS DE    ┆ DE LEMPIRAS ┆            │\n",
       "│          ┆          ┆             ┆       ┆             ┆ SUBVENCIONE ┆ CORRIENT…   ┆            │\n",
       "│          ┆          ┆             ┆       ┆             ┆ S …         ┆             ┆            │\n",
       "│ ESR      ┆ ODA      ┆ OFERTA      ┆ 11478 ┆             ┆ IMPUESTOS   ┆ VARIACIONES ┆ 1          │\n",
       "│          ┆          ┆ GLOBAL      ┆       ┆             ┆ NETOS DE    ┆ RELATIVAS   ┆            │\n",
       "│          ┆          ┆             ┆       ┆             ┆ SUBVENCIONE ┆ CONSTANTE   ┆            │\n",
       "│          ┆          ┆             ┆       ┆             ┆ S …         ┆             ┆            │\n",
       "│ …        ┆ …        ┆ …           ┆ …     ┆ …           ┆ …           ┆ …           ┆ …          │\n",
       "│ ESR      ┆ ODA      ┆ OFERTA      ┆ 11485 ┆             ┆ OTROS       ┆ EN MILLONES ┆ 1          │\n",
       "│          ┆          ┆ GLOBAL      ┆       ┆             ┆ SERVICIOS   ┆ DE LEMPIRAS ┆            │\n",
       "│          ┆          ┆             ┆       ┆             ┆ (A PRECIOS  ┆ CORRIENT…   ┆            │\n",
       "│          ┆          ┆             ┆       ┆             ┆ BÁSIC…      ┆             ┆            │\n",
       "│ ESR      ┆ ODA      ┆ OFERTA      ┆ 11491 ┆             ┆ PRODUCTO    ┆ VARIACIONES ┆ 1          │\n",
       "│          ┆          ┆ GLOBAL      ┆       ┆             ┆ INTERNO     ┆ RELATIVAS   ┆            │\n",
       "│          ┆          ┆             ┆       ┆             ┆ BRUTO A     ┆ CORRIENTES  ┆            │\n",
       "│          ┆          ┆             ┆       ┆             ┆ PRECIOS…    ┆             ┆            │\n",
       "│ ESR      ┆ ODA      ┆ OFERTA      ┆ 11492 ┆             ┆ TOTAL VALOR ┆ EN MILLONES ┆ 1          │\n",
       "│          ┆          ┆ GLOBAL      ┆       ┆             ┆ AGREGADO    ┆ DE LEMPIRAS ┆            │\n",
       "│          ┆          ┆             ┆       ┆             ┆ BRUTO A     ┆ CORRIENT…   ┆            │\n",
       "│          ┆          ┆             ┆       ┆             ┆ PRE…        ┆             ┆            │\n",
       "│ ESR      ┆ ODA      ┆ OFERTA      ┆ 11481 ┆             ┆ OFERTA      ┆ EN MILLONES ┆ 1          │\n",
       "│          ┆          ┆ GLOBAL      ┆       ┆             ┆ GLOBAL      ┆ DE LEMPIRAS ┆            │\n",
       "│          ┆          ┆             ┆       ┆             ┆             ┆ CORRIENT…   ┆            │\n",
       "│ ESR      ┆ ODA      ┆ OFERTA      ┆ 11484 ┆             ┆ OTROS       ┆ EN MILLONES ┆ 1          │\n",
       "│          ┆          ┆ GLOBAL      ┆       ┆             ┆ SERVICIOS   ┆ DE LEMPIRAS ┆            │\n",
       "│          ┆          ┆             ┆       ┆             ┆ (A PRECIOS  ┆ CONSTANT…   ┆            │\n",
       "│          ┆          ┆             ┆       ┆             ┆ BÁSIC…      ┆             ┆            │\n",
       "└──────────┴──────────┴─────────────┴───────┴─────────────┴─────────────┴─────────────┴────────────┘"
      ]
     },
     "execution_count": 75,
     "metadata": {},
     "output_type": "execute_result"
    }
   ],
   "source": [
    "res_nivel_7(\n",
    "    \"ESR\",\"ODA\",\n",
    "    \"Niv_Descr_1\",\n",
    "    \"OFERTA GLOBAL\",\n",
    "    \"Id\",\"Niv_Descr_2\",\"Niv_Descr_4\",\"Niv_Descr_5\"\n",
    "    ).filter((pl.col('Niv_Descr_2') == \"\"))"
   ]
  },
  {
   "cell_type": "markdown",
   "id": "b4e90793",
   "metadata": {},
   "source": [
    "Resultados de una sola variable:\n"
   ]
  },
  {
   "cell_type": "code",
   "execution_count": 76,
   "id": "d741454f",
   "metadata": {},
   "outputs": [
    {
     "name": "stderr",
     "output_type": "stream",
     "text": [
      "<string>:29: FutureWarning:\n",
      "\n",
      "Passing literal json to 'read_json' is deprecated and will be removed in a future version. To read from a literal string, wrap it in a 'StringIO' object.\n",
      "\n"
     ]
    },
    {
     "name": "stderr",
     "output_type": "stream",
     "text": [
      "<string>:29: FutureWarning:\n",
      "\n",
      "Passing literal json to 'read_json' is deprecated and will be removed in a future version. To read from a literal string, wrap it in a 'StringIO' object.\n",
      "\n"
     ]
    },
    {
     "data": {
      "text/html": [
       "<div><style>\n",
       ".dataframe > thead > tr,\n",
       ".dataframe > tbody > tr {\n",
       "  text-align: right;\n",
       "  white-space: pre-wrap;\n",
       "}\n",
       "</style>\n",
       "<small>shape: (24, 2)</small><table border=\"1\" class=\"dataframe\"><thead><tr><th>Fecha</th><th>OFERTA GLOBAL---IMPORTACIONES DE BIENES Y SERVICIOS C.I.F.-EN MILLONES DE LEMPIRAS CORRIENTES</th></tr><tr><td>date</td><td>f64</td></tr></thead><tbody><tr><td>2023-01-01</td><td>515765.4</td></tr><tr><td>2022-01-01</td><td>540641.5</td></tr><tr><td>2021-01-01</td><td>432645.9</td></tr><tr><td>2020-01-01</td><td>299223.4</td></tr><tr><td>2019-01-01</td><td>361267.7</td></tr><tr><td>&hellip;</td><td>&hellip;</td></tr><tr><td>2004-01-01</td><td>124423.4</td></tr><tr><td>2003-01-01</td><td>97336.4</td></tr><tr><td>2002-01-01</td><td>84303.0</td></tr><tr><td>2001-01-01</td><td>76450.8</td></tr><tr><td>2000-01-01</td><td>70839.7</td></tr></tbody></table></div>"
      ],
      "text/plain": [
       "shape: (24, 2)\n",
       "┌────────────┬───────────────────────────────────┐\n",
       "│ Fecha      ┆ OFERTA GLOBAL---IMPORTACIONES DE… │\n",
       "│ ---        ┆ ---                               │\n",
       "│ date       ┆ f64                               │\n",
       "╞════════════╪═══════════════════════════════════╡\n",
       "│ 2023-01-01 ┆ 515765.4                          │\n",
       "│ 2022-01-01 ┆ 540641.5                          │\n",
       "│ 2021-01-01 ┆ 432645.9                          │\n",
       "│ 2020-01-01 ┆ 299223.4                          │\n",
       "│ 2019-01-01 ┆ 361267.7                          │\n",
       "│ …          ┆ …                                 │\n",
       "│ 2004-01-01 ┆ 124423.4                          │\n",
       "│ 2003-01-01 ┆ 97336.4                           │\n",
       "│ 2002-01-01 ┆ 84303.0                           │\n",
       "│ 2001-01-01 ┆ 76450.8                           │\n",
       "│ 2000-01-01 ┆ 70839.7                           │\n",
       "└────────────┴───────────────────────────────────┘"
      ]
     },
     "execution_count": 76,
     "metadata": {},
     "output_type": "execute_result"
    }
   ],
   "source": [
    "Id = 11473\n",
    "df = get_df(Id)\n",
    "# get_plot(Id)\n",
    "df"
   ]
  },
  {
   "cell_type": "markdown",
   "id": "e4a189e2",
   "metadata": {},
   "source": [
    "##### Demanda Global\n",
    "\n",
    "Estas tablas están agrupadas de dos maneras:\n",
    "\n",
    "1. Variables con valores en \"Niv_Descr_2\" y \"Niv_Descr_3\", corresponde a las siguientes series:\n",
    "\n",
    "* FORMACIÓN BRUTA DE CAPITAL FIJO\n",
    "* GASTOS DE CONSUMO FINAL\n",
    "\n",
    "De \"Niv_Descr_3\" se obtiene:\n",
    "\n",
    "* SECTOR PRIVADO\n",
    "* SECTOR PÚBLICO\n",
    "\n",
    "El tipo de valor (\"Niv_Descr_4\") de dichas variables es:\n",
    "\n",
    "* EN MILLONES DE LEMPIRAS CONSTANTES\n",
    "* EN MILLONES DE LEMPIRAS CORRIENTES\n",
    "* VARIACIONES RELATIVAS CONSTANTE\n",
    "* VARIACIONES RELATIVAS CORRIENTES\n"
   ]
  },
  {
   "cell_type": "code",
   "execution_count": 77,
   "id": "cdf900f9",
   "metadata": {},
   "outputs": [
    {
     "name": "stderr",
     "output_type": "stream",
     "text": [
      "<string>:29: FutureWarning:\n",
      "\n",
      "Passing literal json to 'read_json' is deprecated and will be removed in a future version. To read from a literal string, wrap it in a 'StringIO' object.\n",
      "\n"
     ]
    },
    {
     "data": {
      "text/html": [
       "<div><style>\n",
       ".dataframe > thead > tr,\n",
       ".dataframe > tbody > tr {\n",
       "  text-align: right;\n",
       "  white-space: pre-wrap;\n",
       "}\n",
       "</style>\n",
       "<small>shape: (16, 8)</small><table border=\"1\" class=\"dataframe\"><thead><tr><th>Niv_Gr_1</th><th>Niv_Gr_2</th><th>Niv_Descr_1</th><th>Id</th><th>Niv_Descr_2</th><th>Niv_Descr_3</th><th>Niv_Descr_4</th><th>N_Variables</th></tr><tr><td>str</td><td>str</td><td>str</td><td>i64</td><td>str</td><td>str</td><td>str</td><td>u32</td></tr></thead><tbody><tr><td>&quot;ESR&quot;</td><td>&quot;ODA&quot;</td><td>&quot;DEMANDA GLOBAL…</td><td>11464</td><td>&quot;GASTOS DE CONS…</td><td>&quot;SECTOR PRIVADO…</td><td>&quot;EN MILLONES DE…</td><td>1</td></tr><tr><td>&quot;ESR&quot;</td><td>&quot;ODA&quot;</td><td>&quot;DEMANDA GLOBAL…</td><td>11460</td><td>&quot;FORMACIÓN BRUT…</td><td>&quot;SECTOR PÚBLICO…</td><td>&quot;EN MILLONES DE…</td><td>1</td></tr><tr><td>&quot;ESR&quot;</td><td>&quot;ODA&quot;</td><td>&quot;DEMANDA GLOBAL…</td><td>11468</td><td>&quot;GASTOS DE CONS…</td><td>&quot;SECTOR PÚBLICO…</td><td>&quot;EN MILLONES DE…</td><td>1</td></tr><tr><td>&quot;ESR&quot;</td><td>&quot;ODA&quot;</td><td>&quot;DEMANDA GLOBAL…</td><td>11457</td><td>&quot;FORMACIÓN BRUT…</td><td>&quot;SECTOR PRIVADO…</td><td>&quot;EN MILLONES DE…</td><td>1</td></tr><tr><td>&quot;ESR&quot;</td><td>&quot;ODA&quot;</td><td>&quot;DEMANDA GLOBAL…</td><td>11458</td><td>&quot;FORMACIÓN BRUT…</td><td>&quot;SECTOR PRIVADO…</td><td>&quot;VARIACIONES RE…</td><td>1</td></tr><tr><td>&hellip;</td><td>&hellip;</td><td>&hellip;</td><td>&hellip;</td><td>&hellip;</td><td>&hellip;</td><td>&hellip;</td><td>&hellip;</td></tr><tr><td>&quot;ESR&quot;</td><td>&quot;ODA&quot;</td><td>&quot;DEMANDA GLOBAL…</td><td>11459</td><td>&quot;FORMACIÓN BRUT…</td><td>&quot;SECTOR PRIVADO…</td><td>&quot;VARIACIONES RE…</td><td>1</td></tr><tr><td>&quot;ESR&quot;</td><td>&quot;ODA&quot;</td><td>&quot;DEMANDA GLOBAL…</td><td>11470</td><td>&quot;GASTOS DE CONS…</td><td>&quot;SECTOR PÚBLICO…</td><td>&quot;VARIACIONES RE…</td><td>1</td></tr><tr><td>&quot;ESR&quot;</td><td>&quot;ODA&quot;</td><td>&quot;DEMANDA GLOBAL…</td><td>11467</td><td>&quot;GASTOS DE CONS…</td><td>&quot;SECTOR PRIVADO…</td><td>&quot;VARIACIONES RE…</td><td>1</td></tr><tr><td>&quot;ESR&quot;</td><td>&quot;ODA&quot;</td><td>&quot;DEMANDA GLOBAL…</td><td>11469</td><td>&quot;GASTOS DE CONS…</td><td>&quot;SECTOR PÚBLICO…</td><td>&quot;EN MILLONES DE…</td><td>1</td></tr><tr><td>&quot;ESR&quot;</td><td>&quot;ODA&quot;</td><td>&quot;DEMANDA GLOBAL…</td><td>11456</td><td>&quot;FORMACIÓN BRUT…</td><td>&quot;SECTOR PRIVADO…</td><td>&quot;EN MILLONES DE…</td><td>1</td></tr></tbody></table></div>"
      ],
      "text/plain": [
       "shape: (16, 8)\n",
       "┌──────────┬──────────┬─────────────┬───────┬─────────────┬─────────────┬─────────────┬────────────┐\n",
       "│ Niv_Gr_1 ┆ Niv_Gr_2 ┆ Niv_Descr_1 ┆ Id    ┆ Niv_Descr_2 ┆ Niv_Descr_3 ┆ Niv_Descr_4 ┆ N_Variable │\n",
       "│ ---      ┆ ---      ┆ ---         ┆ ---   ┆ ---         ┆ ---         ┆ ---         ┆ s          │\n",
       "│ str      ┆ str      ┆ str         ┆ i64   ┆ str         ┆ str         ┆ str         ┆ ---        │\n",
       "│          ┆          ┆             ┆       ┆             ┆             ┆             ┆ u32        │\n",
       "╞══════════╪══════════╪═════════════╪═══════╪═════════════╪═════════════╪═════════════╪════════════╡\n",
       "│ ESR      ┆ ODA      ┆ DEMANDA     ┆ 11464 ┆ GASTOS DE   ┆ SECTOR      ┆ EN MILLONES ┆ 1          │\n",
       "│          ┆          ┆ GLOBAL      ┆       ┆ CONSUMO     ┆ PRIVADO     ┆ DE LEMPIRAS ┆            │\n",
       "│          ┆          ┆             ┆       ┆ FINAL       ┆             ┆ CONSTANT…   ┆            │\n",
       "│ ESR      ┆ ODA      ┆ DEMANDA     ┆ 11460 ┆ FORMACIÓN   ┆ SECTOR      ┆ EN MILLONES ┆ 1          │\n",
       "│          ┆          ┆ GLOBAL      ┆       ┆ BRUTA DE    ┆ PÚBLICO     ┆ DE LEMPIRAS ┆            │\n",
       "│          ┆          ┆             ┆       ┆ CAPITAL     ┆             ┆ CONSTANT…   ┆            │\n",
       "│          ┆          ┆             ┆       ┆ FIJO        ┆             ┆             ┆            │\n",
       "│ ESR      ┆ ODA      ┆ DEMANDA     ┆ 11468 ┆ GASTOS DE   ┆ SECTOR      ┆ EN MILLONES ┆ 1          │\n",
       "│          ┆          ┆ GLOBAL      ┆       ┆ CONSUMO     ┆ PÚBLICO     ┆ DE LEMPIRAS ┆            │\n",
       "│          ┆          ┆             ┆       ┆ FINAL       ┆             ┆ CONSTANT…   ┆            │\n",
       "│ ESR      ┆ ODA      ┆ DEMANDA     ┆ 11457 ┆ FORMACIÓN   ┆ SECTOR      ┆ EN MILLONES ┆ 1          │\n",
       "│          ┆          ┆ GLOBAL      ┆       ┆ BRUTA DE    ┆ PRIVADO     ┆ DE LEMPIRAS ┆            │\n",
       "│          ┆          ┆             ┆       ┆ CAPITAL     ┆             ┆ CORRIENT…   ┆            │\n",
       "│          ┆          ┆             ┆       ┆ FIJO        ┆             ┆             ┆            │\n",
       "│ ESR      ┆ ODA      ┆ DEMANDA     ┆ 11458 ┆ FORMACIÓN   ┆ SECTOR      ┆ VARIACIONES ┆ 1          │\n",
       "│          ┆          ┆ GLOBAL      ┆       ┆ BRUTA DE    ┆ PRIVADO     ┆ RELATIVAS   ┆            │\n",
       "│          ┆          ┆             ┆       ┆ CAPITAL     ┆             ┆ CONSTANTE   ┆            │\n",
       "│          ┆          ┆             ┆       ┆ FIJO        ┆             ┆             ┆            │\n",
       "│ …        ┆ …        ┆ …           ┆ …     ┆ …           ┆ …           ┆ …           ┆ …          │\n",
       "│ ESR      ┆ ODA      ┆ DEMANDA     ┆ 11459 ┆ FORMACIÓN   ┆ SECTOR      ┆ VARIACIONES ┆ 1          │\n",
       "│          ┆          ┆ GLOBAL      ┆       ┆ BRUTA DE    ┆ PRIVADO     ┆ RELATIVAS   ┆            │\n",
       "│          ┆          ┆             ┆       ┆ CAPITAL     ┆             ┆ CORRIENTES  ┆            │\n",
       "│          ┆          ┆             ┆       ┆ FIJO        ┆             ┆             ┆            │\n",
       "│ ESR      ┆ ODA      ┆ DEMANDA     ┆ 11470 ┆ GASTOS DE   ┆ SECTOR      ┆ VARIACIONES ┆ 1          │\n",
       "│          ┆          ┆ GLOBAL      ┆       ┆ CONSUMO     ┆ PÚBLICO     ┆ RELATIVAS   ┆            │\n",
       "│          ┆          ┆             ┆       ┆ FINAL       ┆             ┆ CONSTANTE   ┆            │\n",
       "│ ESR      ┆ ODA      ┆ DEMANDA     ┆ 11467 ┆ GASTOS DE   ┆ SECTOR      ┆ VARIACIONES ┆ 1          │\n",
       "│          ┆          ┆ GLOBAL      ┆       ┆ CONSUMO     ┆ PRIVADO     ┆ RELATIVAS   ┆            │\n",
       "│          ┆          ┆             ┆       ┆ FINAL       ┆             ┆ CORRIENTES  ┆            │\n",
       "│ ESR      ┆ ODA      ┆ DEMANDA     ┆ 11469 ┆ GASTOS DE   ┆ SECTOR      ┆ EN MILLONES ┆ 1          │\n",
       "│          ┆          ┆ GLOBAL      ┆       ┆ CONSUMO     ┆ PÚBLICO     ┆ DE LEMPIRAS ┆            │\n",
       "│          ┆          ┆             ┆       ┆ FINAL       ┆             ┆ CORRIENT…   ┆            │\n",
       "│ ESR      ┆ ODA      ┆ DEMANDA     ┆ 11456 ┆ FORMACIÓN   ┆ SECTOR      ┆ EN MILLONES ┆ 1          │\n",
       "│          ┆          ┆ GLOBAL      ┆       ┆ BRUTA DE    ┆ PRIVADO     ┆ DE LEMPIRAS ┆            │\n",
       "│          ┆          ┆             ┆       ┆ CAPITAL     ┆             ┆ CONSTANT…   ┆            │\n",
       "│          ┆          ┆             ┆       ┆ FIJO        ┆             ┆             ┆            │\n",
       "└──────────┴──────────┴─────────────┴───────┴─────────────┴─────────────┴─────────────┴────────────┘"
      ]
     },
     "execution_count": 77,
     "metadata": {},
     "output_type": "execute_result"
    }
   ],
   "source": [
    "res_nivel_7(\n",
    "    \"ESR\",\"ODA\",\n",
    "    \"Niv_Descr_1\",\n",
    "    \"DEMANDA GLOBAL\",\n",
    "    \"Id\",\"Niv_Descr_2\",\"Niv_Descr_3\",\"Niv_Descr_4\"\n",
    "    ).filter((pl.col('Niv_Descr_2') != \"\"))"
   ]
  },
  {
   "cell_type": "markdown",
   "id": "e05d21af",
   "metadata": {},
   "source": [
    "Resultados de una sola variable:\n"
   ]
  },
  {
   "cell_type": "code",
   "execution_count": 78,
   "id": "e44ff142",
   "metadata": {},
   "outputs": [
    {
     "name": "stderr",
     "output_type": "stream",
     "text": [
      "<string>:29: FutureWarning:\n",
      "\n",
      "Passing literal json to 'read_json' is deprecated and will be removed in a future version. To read from a literal string, wrap it in a 'StringIO' object.\n",
      "\n"
     ]
    },
    {
     "name": "stderr",
     "output_type": "stream",
     "text": [
      "<string>:29: FutureWarning:\n",
      "\n",
      "Passing literal json to 'read_json' is deprecated and will be removed in a future version. To read from a literal string, wrap it in a 'StringIO' object.\n",
      "\n"
     ]
    },
    {
     "data": {
      "text/html": [
       "<div><style>\n",
       ".dataframe > thead > tr,\n",
       ".dataframe > tbody > tr {\n",
       "  text-align: right;\n",
       "  white-space: pre-wrap;\n",
       "}\n",
       "</style>\n",
       "<small>shape: (24, 2)</small><table border=\"1\" class=\"dataframe\"><thead><tr><th>Fecha</th><th>DEMANDA GLOBAL-FORMACIÓN BRUTA DE CAPITAL FIJO-SECTOR PRIVADO-EN MILLONES DE LEMPIRAS CORRIENTES</th></tr><tr><td>date</td><td>f64</td></tr></thead><tbody><tr><td>2023-01-01</td><td>173970.0</td></tr><tr><td>2022-01-01</td><td>155255.9</td></tr><tr><td>2021-01-01</td><td>132749.6</td></tr><tr><td>2020-01-01</td><td>89277.4</td></tr><tr><td>2019-01-01</td><td>121220.5</td></tr><tr><td>&hellip;</td><td>&hellip;</td></tr><tr><td>2004-01-01</td><td>34118.0</td></tr><tr><td>2003-01-01</td><td>25758.4</td></tr><tr><td>2002-01-01</td><td>23425.3</td></tr><tr><td>2001-01-01</td><td>21859.9</td></tr><tr><td>2000-01-01</td><td>21630.4</td></tr></tbody></table></div>"
      ],
      "text/plain": [
       "shape: (24, 2)\n",
       "┌────────────┬───────────────────────────────────┐\n",
       "│ Fecha      ┆ DEMANDA GLOBAL-FORMACIÓN BRUTA D… │\n",
       "│ ---        ┆ ---                               │\n",
       "│ date       ┆ f64                               │\n",
       "╞════════════╪═══════════════════════════════════╡\n",
       "│ 2023-01-01 ┆ 173970.0                          │\n",
       "│ 2022-01-01 ┆ 155255.9                          │\n",
       "│ 2021-01-01 ┆ 132749.6                          │\n",
       "│ 2020-01-01 ┆ 89277.4                           │\n",
       "│ 2019-01-01 ┆ 121220.5                          │\n",
       "│ …          ┆ …                                 │\n",
       "│ 2004-01-01 ┆ 34118.0                           │\n",
       "│ 2003-01-01 ┆ 25758.4                           │\n",
       "│ 2002-01-01 ┆ 23425.3                           │\n",
       "│ 2001-01-01 ┆ 21859.9                           │\n",
       "│ 2000-01-01 ┆ 21630.4                           │\n",
       "└────────────┴───────────────────────────────────┘"
      ]
     },
     "execution_count": 78,
     "metadata": {},
     "output_type": "execute_result"
    }
   ],
   "source": [
    "Id = 11457\n",
    "df = get_df(Id)\n",
    "# get_plot(Id)\n",
    "df"
   ]
  },
  {
   "cell_type": "markdown",
   "id": "94546a63",
   "metadata": {},
   "source": [
    "2. Variables sin valores en \"Niv_Descr_2\" y \"Niv_Descr_3\", corresponde a las siguientes series:\n",
    "\n",
    "* DEMANDA EXTERNA\n",
    "* DEMANDA GLOBAL\n",
    "* DEMANDA INTERNA\n",
    "* EXPORTACIÓN DE BIENES Y SERVICIOS F.O.B.\n",
    "* FORMACIÓN BRUTA DE CAPITAL FIJO\n",
    "* GASTOS DE CONSUMO FINAL\n",
    "* INVERSIÓN INTERNA BRUTA\n",
    "* VARIACIÓN DE EXISTENCIAS\n",
    "\n",
    "El tipo de valor de dichas variables es:\n",
    "\n",
    "* EN MILLONES DE LEMPIRAS CONSTANTES\n",
    "* EN MILLONES DE LEMPIRAS CORRIENTES\n",
    "* VARIACIONES RELATIVAS CONSTANTE\n",
    "* VARIACIONES RELATIVAS CORRIENTES\n",
    "\n",
    "Para saber el contenido de todas las variables:\n"
   ]
  },
  {
   "cell_type": "code",
   "execution_count": 79,
   "id": "d88fcae6",
   "metadata": {},
   "outputs": [
    {
     "name": "stderr",
     "output_type": "stream",
     "text": [
      "<string>:29: FutureWarning:\n",
      "\n",
      "Passing literal json to 'read_json' is deprecated and will be removed in a future version. To read from a literal string, wrap it in a 'StringIO' object.\n",
      "\n"
     ]
    },
    {
     "data": {
      "text/html": [
       "<div><style>\n",
       ".dataframe > thead > tr,\n",
       ".dataframe > tbody > tr {\n",
       "  text-align: right;\n",
       "  white-space: pre-wrap;\n",
       "}\n",
       "</style>\n",
       "<small>shape: (30, 8)</small><table border=\"1\" class=\"dataframe\"><thead><tr><th>Niv_Gr_1</th><th>Niv_Gr_2</th><th>Niv_Descr_1</th><th>Id</th><th>Niv_Descr_2</th><th>Niv_Descr_4</th><th>Niv_Descr_5</th><th>N_Variables</th></tr><tr><td>str</td><td>str</td><td>str</td><td>i64</td><td>str</td><td>str</td><td>str</td><td>u32</td></tr></thead><tbody><tr><td>&quot;ESR&quot;</td><td>&quot;ODA&quot;</td><td>&quot;DEMANDA GLOBAL…</td><td>11428</td><td>&quot;&quot;</td><td>&quot;DEMANDA EXTERN…</td><td>&quot;VARIACIONES RE…</td><td>1</td></tr><tr><td>&quot;ESR&quot;</td><td>&quot;ODA&quot;</td><td>&quot;DEMANDA GLOBAL…</td><td>11448</td><td>&quot;&quot;</td><td>&quot;GASTOS DE CONS…</td><td>&quot;VARIACIONES RE…</td><td>1</td></tr><tr><td>&quot;ESR&quot;</td><td>&quot;ODA&quot;</td><td>&quot;DEMANDA GLOBAL…</td><td>11445</td><td>&quot;&quot;</td><td>&quot;FORMACIÓN BRUT…</td><td>&quot;VARIACIONES RE…</td><td>1</td></tr><tr><td>&quot;ESR&quot;</td><td>&quot;ODA&quot;</td><td>&quot;DEMANDA GLOBAL…</td><td>11446</td><td>&quot;&quot;</td><td>&quot;GASTOS DE CONS…</td><td>&quot;EN MILLONES DE…</td><td>1</td></tr><tr><td>&quot;ESR&quot;</td><td>&quot;ODA&quot;</td><td>&quot;DEMANDA GLOBAL…</td><td>11455</td><td>&quot;&quot;</td><td>&quot;VARIACIÓN DE E…</td><td>&quot;EN MILLONES DE…</td><td>1</td></tr><tr><td>&hellip;</td><td>&hellip;</td><td>&hellip;</td><td>&hellip;</td><td>&hellip;</td><td>&hellip;</td><td>&hellip;</td><td>&hellip;</td></tr><tr><td>&quot;ESR&quot;</td><td>&quot;ODA&quot;</td><td>&quot;DEMANDA GLOBAL…</td><td>11443</td><td>&quot;&quot;</td><td>&quot;FORMACIÓN BRUT…</td><td>&quot;EN MILLONES DE…</td><td>1</td></tr><tr><td>&quot;ESR&quot;</td><td>&quot;ODA&quot;</td><td>&quot;DEMANDA GLOBAL…</td><td>11451</td><td>&quot;&quot;</td><td>&quot;INVERSIÓN INTE…</td><td>&quot;EN MILLONES DE…</td><td>1</td></tr><tr><td>&quot;ESR&quot;</td><td>&quot;ODA&quot;</td><td>&quot;DEMANDA GLOBAL…</td><td>11453</td><td>&quot;&quot;</td><td>&quot;INVERSIÓN INTE…</td><td>&quot;VARIACIONES RE…</td><td>1</td></tr><tr><td>&quot;ESR&quot;</td><td>&quot;ODA&quot;</td><td>&quot;DEMANDA GLOBAL…</td><td>11435</td><td>&quot;&quot;</td><td>&quot;DEMANDA INTERN…</td><td>&quot;EN MILLONES DE…</td><td>1</td></tr><tr><td>&quot;ESR&quot;</td><td>&quot;ODA&quot;</td><td>&quot;DEMANDA GLOBAL…</td><td>11447</td><td>&quot;&quot;</td><td>&quot;GASTOS DE CONS…</td><td>&quot;EN MILLONES DE…</td><td>1</td></tr></tbody></table></div>"
      ],
      "text/plain": [
       "shape: (30, 8)\n",
       "┌──────────┬──────────┬─────────────┬───────┬─────────────┬─────────────┬─────────────┬────────────┐\n",
       "│ Niv_Gr_1 ┆ Niv_Gr_2 ┆ Niv_Descr_1 ┆ Id    ┆ Niv_Descr_2 ┆ Niv_Descr_4 ┆ Niv_Descr_5 ┆ N_Variable │\n",
       "│ ---      ┆ ---      ┆ ---         ┆ ---   ┆ ---         ┆ ---         ┆ ---         ┆ s          │\n",
       "│ str      ┆ str      ┆ str         ┆ i64   ┆ str         ┆ str         ┆ str         ┆ ---        │\n",
       "│          ┆          ┆             ┆       ┆             ┆             ┆             ┆ u32        │\n",
       "╞══════════╪══════════╪═════════════╪═══════╪═════════════╪═════════════╪═════════════╪════════════╡\n",
       "│ ESR      ┆ ODA      ┆ DEMANDA     ┆ 11428 ┆             ┆ DEMANDA     ┆ VARIACIONES ┆ 1          │\n",
       "│          ┆          ┆ GLOBAL      ┆       ┆             ┆ EXTERNA     ┆ RELATIVAS   ┆            │\n",
       "│          ┆          ┆             ┆       ┆             ┆             ┆ CONSTANTE   ┆            │\n",
       "│ ESR      ┆ ODA      ┆ DEMANDA     ┆ 11448 ┆             ┆ GASTOS DE   ┆ VARIACIONES ┆ 1          │\n",
       "│          ┆          ┆ GLOBAL      ┆       ┆             ┆ CONSUMO     ┆ RELATIVAS   ┆            │\n",
       "│          ┆          ┆             ┆       ┆             ┆ FINAL       ┆ CONSTANTE   ┆            │\n",
       "│ ESR      ┆ ODA      ┆ DEMANDA     ┆ 11445 ┆             ┆ FORMACIÓN   ┆ VARIACIONES ┆ 1          │\n",
       "│          ┆          ┆ GLOBAL      ┆       ┆             ┆ BRUTA DE    ┆ RELATIVAS   ┆            │\n",
       "│          ┆          ┆             ┆       ┆             ┆ CAPITAL     ┆ CORRIENTES  ┆            │\n",
       "│          ┆          ┆             ┆       ┆             ┆ FIJO        ┆             ┆            │\n",
       "│ ESR      ┆ ODA      ┆ DEMANDA     ┆ 11446 ┆             ┆ GASTOS DE   ┆ EN MILLONES ┆ 1          │\n",
       "│          ┆          ┆ GLOBAL      ┆       ┆             ┆ CONSUMO     ┆ DE LEMPIRAS ┆            │\n",
       "│          ┆          ┆             ┆       ┆             ┆ FINAL       ┆ CONSTANT…   ┆            │\n",
       "│ ESR      ┆ ODA      ┆ DEMANDA     ┆ 11455 ┆             ┆ VARIACIÓN   ┆ EN MILLONES ┆ 1          │\n",
       "│          ┆          ┆ GLOBAL      ┆       ┆             ┆ DE          ┆ DE LEMPIRAS ┆            │\n",
       "│          ┆          ┆             ┆       ┆             ┆ EXISTENCIAS ┆ CORRIENT…   ┆            │\n",
       "│ …        ┆ …        ┆ …           ┆ …     ┆ …           ┆ …           ┆ …           ┆ …          │\n",
       "│ ESR      ┆ ODA      ┆ DEMANDA     ┆ 11443 ┆             ┆ FORMACIÓN   ┆ EN MILLONES ┆ 1          │\n",
       "│          ┆          ┆ GLOBAL      ┆       ┆             ┆ BRUTA DE    ┆ DE LEMPIRAS ┆            │\n",
       "│          ┆          ┆             ┆       ┆             ┆ CAPITAL     ┆ CORRIENT…   ┆            │\n",
       "│          ┆          ┆             ┆       ┆             ┆ FIJO        ┆             ┆            │\n",
       "│ ESR      ┆ ODA      ┆ DEMANDA     ┆ 11451 ┆             ┆ INVERSIÓN   ┆ EN MILLONES ┆ 1          │\n",
       "│          ┆          ┆ GLOBAL      ┆       ┆             ┆ INTERNA     ┆ DE LEMPIRAS ┆            │\n",
       "│          ┆          ┆             ┆       ┆             ┆ BRUTA       ┆ CORRIENT…   ┆            │\n",
       "│ ESR      ┆ ODA      ┆ DEMANDA     ┆ 11453 ┆             ┆ INVERSIÓN   ┆ VARIACIONES ┆ 1          │\n",
       "│          ┆          ┆ GLOBAL      ┆       ┆             ┆ INTERNA     ┆ RELATIVAS   ┆            │\n",
       "│          ┆          ┆             ┆       ┆             ┆ BRUTA       ┆ CORRIENTES  ┆            │\n",
       "│ ESR      ┆ ODA      ┆ DEMANDA     ┆ 11435 ┆             ┆ DEMANDA     ┆ EN MILLONES ┆ 1          │\n",
       "│          ┆          ┆ GLOBAL      ┆       ┆             ┆ INTERNA     ┆ DE LEMPIRAS ┆            │\n",
       "│          ┆          ┆             ┆       ┆             ┆             ┆ CORRIENT…   ┆            │\n",
       "│ ESR      ┆ ODA      ┆ DEMANDA     ┆ 11447 ┆             ┆ GASTOS DE   ┆ EN MILLONES ┆ 1          │\n",
       "│          ┆          ┆ GLOBAL      ┆       ┆             ┆ CONSUMO     ┆ DE LEMPIRAS ┆            │\n",
       "│          ┆          ┆             ┆       ┆             ┆ FINAL       ┆ CORRIENT…   ┆            │\n",
       "└──────────┴──────────┴─────────────┴───────┴─────────────┴─────────────┴─────────────┴────────────┘"
      ]
     },
     "execution_count": 79,
     "metadata": {},
     "output_type": "execute_result"
    }
   ],
   "source": [
    "res_nivel_7(\n",
    "    \"ESR\",\"ODA\",\n",
    "    \"Niv_Descr_1\",\n",
    "    \"DEMANDA GLOBAL\",\n",
    "    \"Id\",\"Niv_Descr_2\",\"Niv_Descr_4\",\"Niv_Descr_5\"\n",
    "    ).filter((pl.col('Niv_Descr_2') == \"\"))"
   ]
  },
  {
   "cell_type": "markdown",
   "id": "d2045001",
   "metadata": {},
   "source": [
    "Resultados de una sola variable:\n"
   ]
  },
  {
   "cell_type": "code",
   "execution_count": 80,
   "id": "ae75d5b7",
   "metadata": {},
   "outputs": [
    {
     "name": "stderr",
     "output_type": "stream",
     "text": [
      "<string>:29: FutureWarning:\n",
      "\n",
      "Passing literal json to 'read_json' is deprecated and will be removed in a future version. To read from a literal string, wrap it in a 'StringIO' object.\n",
      "\n"
     ]
    },
    {
     "name": "stderr",
     "output_type": "stream",
     "text": [
      "<string>:29: FutureWarning:\n",
      "\n",
      "Passing literal json to 'read_json' is deprecated and will be removed in a future version. To read from a literal string, wrap it in a 'StringIO' object.\n",
      "\n"
     ]
    },
    {
     "data": {
      "text/html": [
       "<div><style>\n",
       ".dataframe > thead > tr,\n",
       ".dataframe > tbody > tr {\n",
       "  text-align: right;\n",
       "  white-space: pre-wrap;\n",
       "}\n",
       "</style>\n",
       "<small>shape: (23, 2)</small><table border=\"1\" class=\"dataframe\"><thead><tr><th>Fecha</th><th>DEMANDA GLOBAL---EXPORTACIÓN DE BIENES Y SERVICIOS F.O.B.-VARIACIONES RELATIVAS CONSTANTE</th></tr><tr><td>date</td><td>f64</td></tr></thead><tbody><tr><td>2023-01-01</td><td>-7.5</td></tr><tr><td>2022-01-01</td><td>6.6</td></tr><tr><td>2021-01-01</td><td>23.2</td></tr><tr><td>2020-01-01</td><td>-21.0</td></tr><tr><td>2019-01-01</td><td>1.0</td></tr><tr><td>&hellip;</td><td>&hellip;</td></tr><tr><td>2005-01-01</td><td>5.3</td></tr><tr><td>2004-01-01</td><td>13.2</td></tr><tr><td>2003-01-01</td><td>8.7</td></tr><tr><td>2002-01-01</td><td>10.0</td></tr><tr><td>2001-01-01</td><td>4.0</td></tr></tbody></table></div>"
      ],
      "text/plain": [
       "shape: (23, 2)\n",
       "┌────────────┬───────────────────────────────────┐\n",
       "│ Fecha      ┆ DEMANDA GLOBAL---EXPORTACIÓN DE … │\n",
       "│ ---        ┆ ---                               │\n",
       "│ date       ┆ f64                               │\n",
       "╞════════════╪═══════════════════════════════════╡\n",
       "│ 2023-01-01 ┆ -7.5                              │\n",
       "│ 2022-01-01 ┆ 6.6                               │\n",
       "│ 2021-01-01 ┆ 23.2                              │\n",
       "│ 2020-01-01 ┆ -21.0                             │\n",
       "│ 2019-01-01 ┆ 1.0                               │\n",
       "│ …          ┆ …                                 │\n",
       "│ 2005-01-01 ┆ 5.3                               │\n",
       "│ 2004-01-01 ┆ 13.2                              │\n",
       "│ 2003-01-01 ┆ 8.7                               │\n",
       "│ 2002-01-01 ┆ 10.0                              │\n",
       "│ 2001-01-01 ┆ 4.0                               │\n",
       "└────────────┴───────────────────────────────────┘"
      ]
     },
     "execution_count": 80,
     "metadata": {},
     "output_type": "execute_result"
    }
   ],
   "source": [
    "Id = 11440\n",
    "df = get_df(Id)\n",
    "# get_plot(Id)\n",
    "df"
   ]
  },
  {
   "cell_type": "markdown",
   "id": "aad0872e",
   "metadata": {},
   "source": [
    "#### IMAE = Índice Mensual de la Actividad Económica\n",
    "\n",
    "Las actividades (\"Niv_Descr_4\") son:\n",
    "\n",
    "* Agricultura, Ganaderia, Silvicultura y Pesca \n",
    "* Minas y Canteras \n",
    "*  Industria Manufacturera \n",
    "* Electricidad y Agua \n",
    "* ConstrucciÃ³n \n",
    "* Comercio \n",
    "* Hoteles y Restaurantes \n",
    "* Transporte y Almacenamiento \n",
    "* Correo y Telecomunicaciones \n",
    "* Inter. Financiera, Seguros y Fondos de Pensiones \n",
    "* Otros Servicios \n",
    "* Serie Original \n",
    "* Tendencia Ciclo \n",
    "\n",
    "El tipo de valor (\"Niv_Descr_5\") de dichas variables es:\n",
    "\n",
    "* Acumulada\n",
    "* Interanual\n",
    "* Índice\n"
   ]
  },
  {
   "cell_type": "code",
   "execution_count": 81,
   "id": "0850a8d1",
   "metadata": {},
   "outputs": [
    {
     "name": "stdout",
     "output_type": "stream",
     "text": [
      "1 subgrupos\n",
      "39 variables\n"
     ]
    },
    {
     "name": "stderr",
     "output_type": "stream",
     "text": [
      "<string>:29: FutureWarning:\n",
      "\n",
      "Passing literal json to 'read_json' is deprecated and will be removed in a future version. To read from a literal string, wrap it in a 'StringIO' object.\n",
      "\n"
     ]
    },
    {
     "data": {
      "text/html": [
       "<div><style>\n",
       ".dataframe > thead > tr,\n",
       ".dataframe > tbody > tr {\n",
       "  text-align: right;\n",
       "  white-space: pre-wrap;\n",
       "}\n",
       "</style>\n",
       "<small>shape: (1, 4)</small><table border=\"1\" class=\"dataframe\"><thead><tr><th>Niv_Gr_1</th><th>Niv_Gr_2</th><th>Niv_Descr_2</th><th>N_Variables</th></tr><tr><td>str</td><td>str</td><td>str</td><td>u32</td></tr></thead><tbody><tr><td>&quot;ESR&quot;</td><td>&quot;IMAE&quot;</td><td>&quot;IMAE&quot;</td><td>39</td></tr></tbody></table></div>"
      ],
      "text/plain": [
       "shape: (1, 4)\n",
       "┌──────────┬──────────┬─────────────┬─────────────┐\n",
       "│ Niv_Gr_1 ┆ Niv_Gr_2 ┆ Niv_Descr_2 ┆ N_Variables │\n",
       "│ ---      ┆ ---      ┆ ---         ┆ ---         │\n",
       "│ str      ┆ str      ┆ str         ┆ u32         │\n",
       "╞══════════╪══════════╪═════════════╪═════════════╡\n",
       "│ ESR      ┆ IMAE     ┆ IMAE        ┆ 39          │\n",
       "└──────────┴──────────┴─────────────┴─────────────┘"
      ]
     },
     "execution_count": 81,
     "metadata": {},
     "output_type": "execute_result"
    }
   ],
   "source": [
    "res_nivel_3(\"ESR\",\"IMAE\",\"Niv_Descr_2\")"
   ]
  },
  {
   "cell_type": "markdown",
   "id": "3ce990f6",
   "metadata": {},
   "source": [
    "Para saber el contenido de todas las variables:\n"
   ]
  },
  {
   "cell_type": "code",
   "execution_count": 82,
   "id": "4ffdc105",
   "metadata": {},
   "outputs": [
    {
     "name": "stderr",
     "output_type": "stream",
     "text": [
      "<string>:29: FutureWarning:\n",
      "\n",
      "Passing literal json to 'read_json' is deprecated and will be removed in a future version. To read from a literal string, wrap it in a 'StringIO' object.\n",
      "\n"
     ]
    },
    {
     "data": {
      "text/html": [
       "<div><style>\n",
       ".dataframe > thead > tr,\n",
       ".dataframe > tbody > tr {\n",
       "  text-align: right;\n",
       "  white-space: pre-wrap;\n",
       "}\n",
       "</style>\n",
       "<small>shape: (39, 7)</small><table border=\"1\" class=\"dataframe\"><thead><tr><th>Niv_Gr_1</th><th>Niv_Gr_2</th><th>Niv_Descr_2</th><th>Id</th><th>Niv_Descr_4</th><th>Niv_Descr_5</th><th>N_Variables</th></tr><tr><td>str</td><td>str</td><td>str</td><td>i64</td><td>str</td><td>str</td><td>u32</td></tr></thead><tbody><tr><td>&quot;ESR&quot;</td><td>&quot;IMAE&quot;</td><td>&quot;IMAE&quot;</td><td>344</td><td>&quot; Industria Man…</td><td>&quot; Interanual&quot;</td><td>1</td></tr><tr><td>&quot;ESR&quot;</td><td>&quot;IMAE&quot;</td><td>&quot;IMAE&quot;</td><td>348</td><td>&quot; Electricidad …</td><td>&quot; Índice&quot;</td><td>1</td></tr><tr><td>&quot;ESR&quot;</td><td>&quot;IMAE&quot;</td><td>&quot;IMAE&quot;</td><td>361</td><td>&quot; Correo y Tele…</td><td>&quot; Acumulada&quot;</td><td>1</td></tr><tr><td>&quot;ESR&quot;</td><td>&quot;IMAE&quot;</td><td>&quot;IMAE&quot;</td><td>367</td><td>&quot; Otros Servici…</td><td>&quot; Acumulada&quot;</td><td>1</td></tr><tr><td>&quot;ESR&quot;</td><td>&quot;IMAE&quot;</td><td>&quot;IMAE&quot;</td><td>371</td><td>&quot; Serie Origina…</td><td>&quot; Interanual&quot;</td><td>1</td></tr><tr><td>&hellip;</td><td>&hellip;</td><td>&hellip;</td><td>&hellip;</td><td>&hellip;</td><td>&hellip;</td><td>&hellip;</td></tr><tr><td>&quot;ESR&quot;</td><td>&quot;IMAE&quot;</td><td>&quot;IMAE&quot;</td><td>340</td><td>&quot; Minas y Cante…</td><td>&quot; Acumulada&quot;</td><td>1</td></tr><tr><td>&quot;ESR&quot;</td><td>&quot;IMAE&quot;</td><td>&quot;IMAE&quot;</td><td>342</td><td>&quot; Minas y Cante…</td><td>&quot; Índice&quot;</td><td>1</td></tr><tr><td>&quot;ESR&quot;</td><td>&quot;IMAE&quot;</td><td>&quot;IMAE&quot;</td><td>355</td><td>&quot; Hoteles y Res…</td><td>&quot; Acumulada&quot;</td><td>1</td></tr><tr><td>&quot;ESR&quot;</td><td>&quot;IMAE&quot;</td><td>&quot;IMAE&quot;</td><td>370</td><td>&quot; Serie Origina…</td><td>&quot; Acumulada&quot;</td><td>1</td></tr><tr><td>&quot;ESR&quot;</td><td>&quot;IMAE&quot;</td><td>&quot;IMAE&quot;</td><td>362</td><td>&quot; Correo y Tele…</td><td>&quot; Interanual&quot;</td><td>1</td></tr></tbody></table></div>"
      ],
      "text/plain": [
       "shape: (39, 7)\n",
       "┌──────────┬──────────┬─────────────┬─────┬────────────────────────────┬─────────────┬─────────────┐\n",
       "│ Niv_Gr_1 ┆ Niv_Gr_2 ┆ Niv_Descr_2 ┆ Id  ┆ Niv_Descr_4                ┆ Niv_Descr_5 ┆ N_Variables │\n",
       "│ ---      ┆ ---      ┆ ---         ┆ --- ┆ ---                        ┆ ---         ┆ ---         │\n",
       "│ str      ┆ str      ┆ str         ┆ i64 ┆ str                        ┆ str         ┆ u32         │\n",
       "╞══════════╪══════════╪═════════════╪═════╪════════════════════════════╪═════════════╪═════════════╡\n",
       "│ ESR      ┆ IMAE     ┆ IMAE        ┆ 344 ┆  Industria Manufacturera   ┆  Interanual ┆ 1           │\n",
       "│ ESR      ┆ IMAE     ┆ IMAE        ┆ 348 ┆  Electricidad y Agua       ┆  Índice     ┆ 1           │\n",
       "│ ESR      ┆ IMAE     ┆ IMAE        ┆ 361 ┆ Correo y                   ┆  Acumulada  ┆ 1           │\n",
       "│          ┆          ┆             ┆     ┆ Telecomunicaciones         ┆             ┆             │\n",
       "│ ESR      ┆ IMAE     ┆ IMAE        ┆ 367 ┆  Otros Servicios           ┆  Acumulada  ┆ 1           │\n",
       "│ ESR      ┆ IMAE     ┆ IMAE        ┆ 371 ┆  Serie Original            ┆  Interanual ┆ 1           │\n",
       "│ …        ┆ …        ┆ …           ┆ …   ┆ …                          ┆ …           ┆ …           │\n",
       "│ ESR      ┆ IMAE     ┆ IMAE        ┆ 340 ┆  Minas y Canteras          ┆  Acumulada  ┆ 1           │\n",
       "│ ESR      ┆ IMAE     ┆ IMAE        ┆ 342 ┆  Minas y Canteras          ┆  Índice     ┆ 1           │\n",
       "│ ESR      ┆ IMAE     ┆ IMAE        ┆ 355 ┆  Hoteles y Restaurantes    ┆  Acumulada  ┆ 1           │\n",
       "│ ESR      ┆ IMAE     ┆ IMAE        ┆ 370 ┆  Serie Original            ┆  Acumulada  ┆ 1           │\n",
       "│ ESR      ┆ IMAE     ┆ IMAE        ┆ 362 ┆ Correo y                   ┆  Interanual ┆ 1           │\n",
       "│          ┆          ┆             ┆     ┆ Telecomunicaciones         ┆             ┆             │\n",
       "└──────────┴──────────┴─────────────┴─────┴────────────────────────────┴─────────────┴─────────────┘"
      ]
     },
     "execution_count": 82,
     "metadata": {},
     "output_type": "execute_result"
    }
   ],
   "source": [
    "res_nivel_6(\n",
    "    \"ESR\",\"IMAE\",\n",
    "    \"Niv_Descr_2\",\n",
    "    \"IMAE\",\n",
    "    \"Id\",\"Niv_Descr_4\",\"Niv_Descr_5\")"
   ]
  },
  {
   "cell_type": "markdown",
   "id": "f9f9741f",
   "metadata": {},
   "source": [
    "Resultados de una sola variable:\n"
   ]
  },
  {
   "cell_type": "code",
   "execution_count": 83,
   "id": "fbeb6989",
   "metadata": {},
   "outputs": [
    {
     "name": "stderr",
     "output_type": "stream",
     "text": [
      "<string>:29: FutureWarning:\n",
      "\n",
      "Passing literal json to 'read_json' is deprecated and will be removed in a future version. To read from a literal string, wrap it in a 'StringIO' object.\n",
      "\n"
     ]
    },
    {
     "name": "stderr",
     "output_type": "stream",
     "text": [
      "<string>:29: FutureWarning:\n",
      "\n",
      "Passing literal json to 'read_json' is deprecated and will be removed in a future version. To read from a literal string, wrap it in a 'StringIO' object.\n",
      "\n"
     ]
    },
    {
     "data": {
      "text/html": [
       "<div><style>\n",
       ".dataframe > thead > tr,\n",
       ".dataframe > tbody > tr {\n",
       "  text-align: right;\n",
       "  white-space: pre-wrap;\n",
       "}\n",
       "</style>\n",
       "<small>shape: (580, 2)</small><table border=\"1\" class=\"dataframe\"><thead><tr><th>Fecha</th><th>ESR-IMAE-01 - Serie Original - Índice</th></tr><tr><td>date</td><td>f64</td></tr></thead><tbody><tr><td>2024-02-01</td><td>272.8435</td></tr><tr><td>2024-02-01</td><td>272.8435</td></tr><tr><td>2024-01-01</td><td>262.5582</td></tr><tr><td>2024-01-01</td><td>262.5582</td></tr><tr><td>2023-12-01</td><td>304.4677</td></tr><tr><td>&hellip;</td><td>&hellip;</td></tr><tr><td>2000-03-01</td><td>103.7134</td></tr><tr><td>2000-02-01</td><td>100.354</td></tr><tr><td>2000-02-01</td><td>100.354</td></tr><tr><td>2000-01-01</td><td>96.0836</td></tr><tr><td>2000-01-01</td><td>96.0836</td></tr></tbody></table></div>"
      ],
      "text/plain": [
       "shape: (580, 2)\n",
       "┌────────────┬───────────────────────────────────┐\n",
       "│ Fecha      ┆ ESR-IMAE-01 - Serie Original - Í… │\n",
       "│ ---        ┆ ---                               │\n",
       "│ date       ┆ f64                               │\n",
       "╞════════════╪═══════════════════════════════════╡\n",
       "│ 2024-02-01 ┆ 272.8435                          │\n",
       "│ 2024-02-01 ┆ 272.8435                          │\n",
       "│ 2024-01-01 ┆ 262.5582                          │\n",
       "│ 2024-01-01 ┆ 262.5582                          │\n",
       "│ 2023-12-01 ┆ 304.4677                          │\n",
       "│ …          ┆ …                                 │\n",
       "│ 2000-03-01 ┆ 103.7134                          │\n",
       "│ 2000-02-01 ┆ 100.354                           │\n",
       "│ 2000-02-01 ┆ 100.354                           │\n",
       "│ 2000-01-01 ┆ 96.0836                           │\n",
       "│ 2000-01-01 ┆ 96.0836                           │\n",
       "└────────────┴───────────────────────────────────┘"
      ]
     },
     "execution_count": 83,
     "metadata": {},
     "output_type": "execute_result"
    }
   ],
   "source": [
    "Id = 372\n",
    "df = get_df(Id)\n",
    "# get_plot(Id)\n",
    "df"
   ]
  },
  {
   "cell_type": "markdown",
   "id": "d980ad14",
   "metadata": {},
   "source": [
    "### ESE = Estadísticas del Sector Externo\n"
   ]
  },
  {
   "cell_type": "code",
   "execution_count": 84,
   "id": "41a8d689",
   "metadata": {},
   "outputs": [
    {
     "name": "stdout",
     "output_type": "stream",
     "text": [
      "11519 variables\n",
      "54 grupos\n",
      "12 variables\n",
      "6 grupos\n",
      "12 subgrupos\n"
     ]
    },
    {
     "name": "stderr",
     "output_type": "stream",
     "text": [
      "<string>:29: FutureWarning:\n",
      "\n",
      "Passing literal json to 'read_json' is deprecated and will be removed in a future version. To read from a literal string, wrap it in a 'StringIO' object.\n",
      "\n"
     ]
    },
    {
     "data": {
      "text/html": [
       "<div><style>\n",
       ".dataframe > thead > tr,\n",
       ".dataframe > tbody > tr {\n",
       "  text-align: right;\n",
       "  white-space: pre-wrap;\n",
       "}\n",
       "</style>\n",
       "<small>shape: (6, 4)</small><table border=\"1\" class=\"dataframe\"><thead><tr><th>Niv_Gr_1</th><th>Niv_Gr_2</th><th>N_Variables</th><th>N_Niv_Gr_2</th></tr><tr><td>str</td><td>str</td><td>u32</td><td>u32</td></tr></thead><tbody><tr><td>&quot;ESE&quot;</td><td>&quot;CEB&quot;</td><td>4</td><td>4</td></tr><tr><td>&quot;ESE&quot;</td><td>&quot;DE&quot;</td><td>4</td><td>4</td></tr><tr><td>&quot;ESE&quot;</td><td>&quot;IED&quot;</td><td>1</td><td>1</td></tr><tr><td>&quot;ESE&quot;</td><td>&quot;BP&quot;</td><td>1</td><td>1</td></tr><tr><td>&quot;ESE&quot;</td><td>&quot;IES&quot;</td><td>1</td><td>1</td></tr><tr><td>&quot;ESE&quot;</td><td>&quot;PII&quot;</td><td>1</td><td>1</td></tr></tbody></table></div>"
      ],
      "text/plain": [
       "shape: (6, 4)\n",
       "┌──────────┬──────────┬─────────────┬────────────┐\n",
       "│ Niv_Gr_1 ┆ Niv_Gr_2 ┆ N_Variables ┆ N_Niv_Gr_2 │\n",
       "│ ---      ┆ ---      ┆ ---         ┆ ---        │\n",
       "│ str      ┆ str      ┆ u32         ┆ u32        │\n",
       "╞══════════╪══════════╪═════════════╪════════════╡\n",
       "│ ESE      ┆ CEB      ┆ 4           ┆ 4          │\n",
       "│ ESE      ┆ DE       ┆ 4           ┆ 4          │\n",
       "│ ESE      ┆ IED      ┆ 1           ┆ 1          │\n",
       "│ ESE      ┆ BP       ┆ 1           ┆ 1          │\n",
       "│ ESE      ┆ IES      ┆ 1           ┆ 1          │\n",
       "│ ESE      ┆ PII      ┆ 1           ┆ 1          │\n",
       "└──────────┴──────────┴─────────────┴────────────┘"
      ]
     },
     "execution_count": 84,
     "metadata": {},
     "output_type": "execute_result"
    }
   ],
   "source": [
    "res_nivel_2(\"ESE\")"
   ]
  },
  {
   "cell_type": "markdown",
   "id": "daa97e1b",
   "metadata": {},
   "source": [
    "* DE = Deuda Externa\n",
    "* CEB = Comercio Exterior de Bienes\n",
    "* BP = Balanza de Pagos\n",
    "* IES = Ingresos y Egresos de Servicios\n",
    "* PII = Posición de Inversión Inernacional\n",
    "* IED = Inversión Extranjera Directa\n",
    "\n",
    "#### DE = Deuda Externa\n"
   ]
  },
  {
   "cell_type": "code",
   "execution_count": 85,
   "id": "b90f5dbf",
   "metadata": {},
   "outputs": [
    {
     "name": "stdout",
     "output_type": "stream",
     "text": [
      "4 subgrupos\n",
      "737 variables\n"
     ]
    },
    {
     "name": "stderr",
     "output_type": "stream",
     "text": [
      "<string>:29: FutureWarning:\n",
      "\n",
      "Passing literal json to 'read_json' is deprecated and will be removed in a future version. To read from a literal string, wrap it in a 'StringIO' object.\n",
      "\n"
     ]
    },
    {
     "data": {
      "text/html": [
       "<div><style>\n",
       ".dataframe > thead > tr,\n",
       ".dataframe > tbody > tr {\n",
       "  text-align: right;\n",
       "  white-space: pre-wrap;\n",
       "}\n",
       "</style>\n",
       "<small>shape: (4, 4)</small><table border=\"1\" class=\"dataframe\"><thead><tr><th>Niv_Gr_1</th><th>Niv_Gr_2</th><th>Niv_Gr_3</th><th>N_Variables</th></tr><tr><td>str</td><td>str</td><td>str</td><td>u32</td></tr></thead><tbody><tr><td>&quot;ESE&quot;</td><td>&quot;DE&quot;</td><td>&quot;03&quot;</td><td>672</td></tr><tr><td>&quot;ESE&quot;</td><td>&quot;DE&quot;</td><td>&quot;04&quot;</td><td>55</td></tr><tr><td>&quot;ESE&quot;</td><td>&quot;DE&quot;</td><td>&quot;02&quot;</td><td>6</td></tr><tr><td>&quot;ESE&quot;</td><td>&quot;DE&quot;</td><td>&quot;01&quot;</td><td>4</td></tr></tbody></table></div>"
      ],
      "text/plain": [
       "shape: (4, 4)\n",
       "┌──────────┬──────────┬──────────┬─────────────┐\n",
       "│ Niv_Gr_1 ┆ Niv_Gr_2 ┆ Niv_Gr_3 ┆ N_Variables │\n",
       "│ ---      ┆ ---      ┆ ---      ┆ ---         │\n",
       "│ str      ┆ str      ┆ str      ┆ u32         │\n",
       "╞══════════╪══════════╪══════════╪═════════════╡\n",
       "│ ESE      ┆ DE       ┆ 03       ┆ 672         │\n",
       "│ ESE      ┆ DE       ┆ 04       ┆ 55          │\n",
       "│ ESE      ┆ DE       ┆ 02       ┆ 6           │\n",
       "│ ESE      ┆ DE       ┆ 01       ┆ 4           │\n",
       "└──────────┴──────────┴──────────┴─────────────┘"
      ]
     },
     "execution_count": 85,
     "metadata": {},
     "output_type": "execute_result"
    }
   ],
   "source": [
    "res_nivel_3(\"ESE\",\"DE\",\"Niv_Gr_3\")"
   ]
  },
  {
   "cell_type": "markdown",
   "id": "45dfd97e",
   "metadata": {},
   "source": [
    "##### 01 - Deudor\n",
    "\n",
    "Para ver todas las variables:\n"
   ]
  },
  {
   "cell_type": "code",
   "execution_count": 86,
   "id": "f1a0fe58",
   "metadata": {},
   "outputs": [
    {
     "name": "stderr",
     "output_type": "stream",
     "text": [
      "<string>:29: FutureWarning:\n",
      "\n",
      "Passing literal json to 'read_json' is deprecated and will be removed in a future version. To read from a literal string, wrap it in a 'StringIO' object.\n",
      "\n"
     ]
    },
    {
     "data": {
      "text/html": [
       "<div><style>\n",
       ".dataframe > thead > tr,\n",
       ".dataframe > tbody > tr {\n",
       "  text-align: right;\n",
       "  white-space: pre-wrap;\n",
       "}\n",
       "</style>\n",
       "<small>shape: (4, 8)</small><table border=\"1\" class=\"dataframe\"><thead><tr><th>Niv_Gr_1</th><th>Niv_Gr_2</th><th>Niv_Gr_3</th><th>Id</th><th>Nombre</th><th>Niv_Descr_1</th><th>Niv_Descr_2</th><th>N_Variables</th></tr><tr><td>str</td><td>str</td><td>str</td><td>i64</td><td>str</td><td>str</td><td>str</td><td>u32</td></tr></thead><tbody><tr><td>&quot;ESE&quot;</td><td>&quot;DE&quot;</td><td>&quot;01&quot;</td><td>6710</td><td>&quot;ESE-DE-01-1&quot;</td><td>&quot;Deudor&quot;</td><td>&quot;Autoridad Mone…</td><td>1</td></tr><tr><td>&quot;ESE&quot;</td><td>&quot;DE&quot;</td><td>&quot;01&quot;</td><td>6711</td><td>&quot;ESE-DE-01-2&quot;</td><td>&quot;Deudor&quot;</td><td>&quot;Empresas Públi…</td><td>1</td></tr><tr><td>&quot;ESE&quot;</td><td>&quot;DE&quot;</td><td>&quot;01&quot;</td><td>6712</td><td>&quot;ESE-DE-01-3&quot;</td><td>&quot;Deudor&quot;</td><td>&quot;Gobierno Gener…</td><td>1</td></tr><tr><td>&quot;ESE&quot;</td><td>&quot;DE&quot;</td><td>&quot;01&quot;</td><td>6713</td><td>&quot;ESE-DE-01-4&quot;</td><td>&quot;Deudor&quot;</td><td>&quot;Instituciones …</td><td>1</td></tr></tbody></table></div>"
      ],
      "text/plain": [
       "shape: (4, 8)\n",
       "┌──────────┬──────────┬──────────┬──────┬─────────────┬─────────────┬────────────────┬─────────────┐\n",
       "│ Niv_Gr_1 ┆ Niv_Gr_2 ┆ Niv_Gr_3 ┆ Id   ┆ Nombre      ┆ Niv_Descr_1 ┆ Niv_Descr_2    ┆ N_Variables │\n",
       "│ ---      ┆ ---      ┆ ---      ┆ ---  ┆ ---         ┆ ---         ┆ ---            ┆ ---         │\n",
       "│ str      ┆ str      ┆ str      ┆ i64  ┆ str         ┆ str         ┆ str            ┆ u32         │\n",
       "╞══════════╪══════════╪══════════╪══════╪═════════════╪═════════════╪════════════════╪═════════════╡\n",
       "│ ESE      ┆ DE       ┆ 01       ┆ 6710 ┆ ESE-DE-01-1 ┆ Deudor      ┆ Autoridad      ┆ 1           │\n",
       "│          ┆          ┆          ┆      ┆             ┆             ┆ Monetaria      ┆             │\n",
       "│ ESE      ┆ DE       ┆ 01       ┆ 6711 ┆ ESE-DE-01-2 ┆ Deudor      ┆ Empresas       ┆ 1           │\n",
       "│          ┆          ┆          ┆      ┆             ┆             ┆ Públicas no    ┆             │\n",
       "│          ┆          ┆          ┆      ┆             ┆             ┆ Financieras    ┆             │\n",
       "│ ESE      ┆ DE       ┆ 01       ┆ 6712 ┆ ESE-DE-01-3 ┆ Deudor      ┆ Gobierno       ┆ 1           │\n",
       "│          ┆          ┆          ┆      ┆             ┆             ┆ General        ┆             │\n",
       "│ ESE      ┆ DE       ┆ 01       ┆ 6713 ┆ ESE-DE-01-4 ┆ Deudor      ┆ Instituciones  ┆ 1           │\n",
       "│          ┆          ┆          ┆      ┆             ┆             ┆ Públicas       ┆             │\n",
       "│          ┆          ┆          ┆      ┆             ┆             ┆ Financier…     ┆             │\n",
       "└──────────┴──────────┴──────────┴──────┴─────────────┴─────────────┴────────────────┴─────────────┘"
      ]
     },
     "execution_count": 86,
     "metadata": {},
     "output_type": "execute_result"
    }
   ],
   "source": [
    "res_nivel_7(\n",
    "    \"ESE\",\"DE\",\n",
    "    \"Niv_Gr_3\",\"01\",\n",
    "    \"Id\",\"Nombre\",\"Niv_Descr_1\",\"Niv_Descr_2\").sort(\"Nombre\")"
   ]
  },
  {
   "cell_type": "markdown",
   "id": "1268cb4f",
   "metadata": {},
   "source": [
    "Resultados de una sola variable:\n"
   ]
  },
  {
   "cell_type": "code",
   "execution_count": 87,
   "id": "dd4dae38",
   "metadata": {},
   "outputs": [
    {
     "name": "stderr",
     "output_type": "stream",
     "text": [
      "<string>:29: FutureWarning:\n",
      "\n",
      "Passing literal json to 'read_json' is deprecated and will be removed in a future version. To read from a literal string, wrap it in a 'StringIO' object.\n",
      "\n"
     ]
    },
    {
     "name": "stderr",
     "output_type": "stream",
     "text": [
      "<string>:29: FutureWarning:\n",
      "\n",
      "Passing literal json to 'read_json' is deprecated and will be removed in a future version. To read from a literal string, wrap it in a 'StringIO' object.\n",
      "\n"
     ]
    },
    {
     "data": {
      "text/html": [
       "<div><style>\n",
       ".dataframe > thead > tr,\n",
       ".dataframe > tbody > tr {\n",
       "  text-align: right;\n",
       "  white-space: pre-wrap;\n",
       "}\n",
       "</style>\n",
       "<small>shape: (197, 2)</small><table border=\"1\" class=\"dataframe\"><thead><tr><th>Fecha</th><th>Deudor-Autoridad Monetaria </th></tr><tr><td>date</td><td>f64</td></tr></thead><tbody><tr><td>2024-03-31</td><td>702.0</td></tr><tr><td>2024-02-29</td><td>692.2</td></tr><tr><td>2024-01-31</td><td>643.3</td></tr><tr><td>2023-12-31</td><td>648.7</td></tr><tr><td>2023-12-30</td><td>648.4</td></tr><tr><td>&hellip;</td><td>&hellip;</td></tr><tr><td>2008-05-31</td><td>171.9</td></tr><tr><td>2008-04-30</td><td>173.4</td></tr><tr><td>2008-03-31</td><td>173.8</td></tr><tr><td>2008-02-29</td><td>173.2</td></tr><tr><td>2008-01-31</td><td>172.8</td></tr></tbody></table></div>"
      ],
      "text/plain": [
       "shape: (197, 2)\n",
       "┌────────────┬─────────────────────────────┐\n",
       "│ Fecha      ┆ Deudor-Autoridad Monetaria  │\n",
       "│ ---        ┆ ---                         │\n",
       "│ date       ┆ f64                         │\n",
       "╞════════════╪═════════════════════════════╡\n",
       "│ 2024-03-31 ┆ 702.0                       │\n",
       "│ 2024-02-29 ┆ 692.2                       │\n",
       "│ 2024-01-31 ┆ 643.3                       │\n",
       "│ 2023-12-31 ┆ 648.7                       │\n",
       "│ 2023-12-30 ┆ 648.4                       │\n",
       "│ …          ┆ …                           │\n",
       "│ 2008-05-31 ┆ 171.9                       │\n",
       "│ 2008-04-30 ┆ 173.4                       │\n",
       "│ 2008-03-31 ┆ 173.8                       │\n",
       "│ 2008-02-29 ┆ 173.2                       │\n",
       "│ 2008-01-31 ┆ 172.8                       │\n",
       "└────────────┴─────────────────────────────┘"
      ]
     },
     "execution_count": 87,
     "metadata": {},
     "output_type": "execute_result"
    }
   ],
   "source": [
    "Id = 6710\n",
    "df = get_df(Id)\n",
    "# get_plot(Id)\n",
    "df"
   ]
  },
  {
   "cell_type": "markdown",
   "id": "4247d22e",
   "metadata": {},
   "source": [
    "##### 02 - Acreedor\n",
    "\n",
    "Para ver todas las variables:\n"
   ]
  },
  {
   "cell_type": "code",
   "execution_count": 88,
   "id": "e9e624e0",
   "metadata": {},
   "outputs": [
    {
     "name": "stderr",
     "output_type": "stream",
     "text": [
      "<string>:29: FutureWarning:\n",
      "\n",
      "Passing literal json to 'read_json' is deprecated and will be removed in a future version. To read from a literal string, wrap it in a 'StringIO' object.\n",
      "\n"
     ]
    },
    {
     "data": {
      "text/html": [
       "<div><style>\n",
       ".dataframe > thead > tr,\n",
       ".dataframe > tbody > tr {\n",
       "  text-align: right;\n",
       "  white-space: pre-wrap;\n",
       "}\n",
       "</style>\n",
       "<small>shape: (6, 8)</small><table border=\"1\" class=\"dataframe\"><thead><tr><th>Niv_Gr_1</th><th>Niv_Gr_2</th><th>Niv_Gr_3</th><th>Id</th><th>Nombre</th><th>Niv_Descr_1</th><th>Niv_Descr_2</th><th>N_Variables</th></tr><tr><td>str</td><td>str</td><td>str</td><td>i64</td><td>str</td><td>str</td><td>str</td><td>u32</td></tr></thead><tbody><tr><td>&quot;ESE&quot;</td><td>&quot;DE&quot;</td><td>&quot;02&quot;</td><td>6714</td><td>&quot;ESE-DE-02-1&quot;</td><td>&quot;Acreedor&quot;</td><td>&quot;Sector Privado…</td><td>1</td></tr><tr><td>&quot;ESE&quot;</td><td>&quot;DE&quot;</td><td>&quot;02&quot;</td><td>6715</td><td>&quot;ESE-DE-02-2&quot;</td><td>&quot;Acreedor&quot;</td><td>&quot;Sector Público…</td><td>1</td></tr><tr><td>&quot;ESE&quot;</td><td>&quot;DE&quot;</td><td>&quot;02&quot;</td><td>6716</td><td>&quot;ESE-DE-02-3&quot;</td><td>&quot;Acreedor&quot;</td><td>&quot;Sector Público…</td><td>1</td></tr><tr><td>&quot;ESE&quot;</td><td>&quot;DE&quot;</td><td>&quot;02&quot;</td><td>6717</td><td>&quot;ESE-DE-02-4&quot;</td><td>&quot;Acreedor&quot;</td><td>&quot;Sector Privado…</td><td>1</td></tr><tr><td>&quot;ESE&quot;</td><td>&quot;DE&quot;</td><td>&quot;02&quot;</td><td>6718</td><td>&quot;ESE-DE-02-5&quot;</td><td>&quot;Acreedor&quot;</td><td>&quot;Sector Público…</td><td>1</td></tr><tr><td>&quot;ESE&quot;</td><td>&quot;DE&quot;</td><td>&quot;02&quot;</td><td>6719</td><td>&quot;ESE-DE-02-6&quot;</td><td>&quot;Acreedor&quot;</td><td>&quot;Sector Privado…</td><td>1</td></tr></tbody></table></div>"
      ],
      "text/plain": [
       "shape: (6, 8)\n",
       "┌──────────┬──────────┬──────────┬──────┬─────────────┬─────────────┬────────────────┬─────────────┐\n",
       "│ Niv_Gr_1 ┆ Niv_Gr_2 ┆ Niv_Gr_3 ┆ Id   ┆ Nombre      ┆ Niv_Descr_1 ┆ Niv_Descr_2    ┆ N_Variables │\n",
       "│ ---      ┆ ---      ┆ ---      ┆ ---  ┆ ---         ┆ ---         ┆ ---            ┆ ---         │\n",
       "│ str      ┆ str      ┆ str      ┆ i64  ┆ str         ┆ str         ┆ str            ┆ u32         │\n",
       "╞══════════╪══════════╪══════════╪══════╪═════════════╪═════════════╪════════════════╪═════════════╡\n",
       "│ ESE      ┆ DE       ┆ 02       ┆ 6714 ┆ ESE-DE-02-1 ┆ Acreedor    ┆ Sector Privado ┆ 1           │\n",
       "│          ┆          ┆          ┆      ┆             ┆             ┆ Bilateral      ┆             │\n",
       "│ ESE      ┆ DE       ┆ 02       ┆ 6715 ┆ ESE-DE-02-2 ┆ Acreedor    ┆ Sector Público ┆ 1           │\n",
       "│          ┆          ┆          ┆      ┆             ┆             ┆ Bilateral      ┆             │\n",
       "│ ESE      ┆ DE       ┆ 02       ┆ 6716 ┆ ESE-DE-02-3 ┆ Acreedor    ┆ Sector Público ┆ 1           │\n",
       "│          ┆          ┆          ┆      ┆             ┆             ┆ Comercial      ┆             │\n",
       "│ ESE      ┆ DE       ┆ 02       ┆ 6717 ┆ ESE-DE-02-4 ┆ Acreedor    ┆ Sector Privado ┆ 1           │\n",
       "│          ┆          ┆          ┆      ┆             ┆             ┆ Comercial      ┆             │\n",
       "│ ESE      ┆ DE       ┆ 02       ┆ 6718 ┆ ESE-DE-02-5 ┆ Acreedor    ┆ Sector Público ┆ 1           │\n",
       "│          ┆          ┆          ┆      ┆             ┆             ┆ Multilateral   ┆             │\n",
       "│ ESE      ┆ DE       ┆ 02       ┆ 6719 ┆ ESE-DE-02-6 ┆ Acreedor    ┆ Sector Privado ┆ 1           │\n",
       "│          ┆          ┆          ┆      ┆             ┆             ┆ Multilateral   ┆             │\n",
       "└──────────┴──────────┴──────────┴──────┴─────────────┴─────────────┴────────────────┴─────────────┘"
      ]
     },
     "execution_count": 88,
     "metadata": {},
     "output_type": "execute_result"
    }
   ],
   "source": [
    "res_nivel_7(\n",
    "    \"ESE\",\"DE\",\n",
    "    \"Niv_Gr_3\",\"02\",\n",
    "    \"Id\",\"Nombre\",\"Niv_Descr_1\",\"Niv_Descr_2\").sort(\"Nombre\")"
   ]
  },
  {
   "cell_type": "markdown",
   "id": "5c73b704",
   "metadata": {},
   "source": [
    "Resultados de una sola variable:\n"
   ]
  },
  {
   "cell_type": "code",
   "execution_count": 89,
   "id": "a371ff2f",
   "metadata": {},
   "outputs": [
    {
     "name": "stderr",
     "output_type": "stream",
     "text": [
      "<string>:29: FutureWarning:\n",
      "\n",
      "Passing literal json to 'read_json' is deprecated and will be removed in a future version. To read from a literal string, wrap it in a 'StringIO' object.\n",
      "\n"
     ]
    },
    {
     "name": "stderr",
     "output_type": "stream",
     "text": [
      "<string>:29: FutureWarning:\n",
      "\n",
      "Passing literal json to 'read_json' is deprecated and will be removed in a future version. To read from a literal string, wrap it in a 'StringIO' object.\n",
      "\n"
     ]
    },
    {
     "data": {
      "text/html": [
       "<div><style>\n",
       ".dataframe > thead > tr,\n",
       ".dataframe > tbody > tr {\n",
       "  text-align: right;\n",
       "  white-space: pre-wrap;\n",
       "}\n",
       "</style>\n",
       "<small>shape: (65, 2)</small><table border=\"1\" class=\"dataframe\"><thead><tr><th>Fecha</th><th>Acreedor-Sector Privado Bilateral</th></tr><tr><td>date</td><td>f64</td></tr></thead><tbody><tr><td>2023-12-31</td><td>145.3</td></tr><tr><td>2023-12-30</td><td>172.5</td></tr><tr><td>2023-09-30</td><td>153.4</td></tr><tr><td>2023-06-30</td><td>144.7</td></tr><tr><td>2023-03-31</td><td>162.6</td></tr><tr><td>&hellip;</td><td>&hellip;</td></tr><tr><td>2009-03-31</td><td>34.3</td></tr><tr><td>2008-12-31</td><td>30.7</td></tr><tr><td>2008-09-30</td><td>23.1</td></tr><tr><td>2008-06-30</td><td>28.8</td></tr><tr><td>2008-03-31</td><td>30.7</td></tr></tbody></table></div>"
      ],
      "text/plain": [
       "shape: (65, 2)\n",
       "┌────────────┬───────────────────────────────────┐\n",
       "│ Fecha      ┆ Acreedor-Sector Privado Bilatera… │\n",
       "│ ---        ┆ ---                               │\n",
       "│ date       ┆ f64                               │\n",
       "╞════════════╪═══════════════════════════════════╡\n",
       "│ 2023-12-31 ┆ 145.3                             │\n",
       "│ 2023-12-30 ┆ 172.5                             │\n",
       "│ 2023-09-30 ┆ 153.4                             │\n",
       "│ 2023-06-30 ┆ 144.7                             │\n",
       "│ 2023-03-31 ┆ 162.6                             │\n",
       "│ …          ┆ …                                 │\n",
       "│ 2009-03-31 ┆ 34.3                              │\n",
       "│ 2008-12-31 ┆ 30.7                              │\n",
       "│ 2008-09-30 ┆ 23.1                              │\n",
       "│ 2008-06-30 ┆ 28.8                              │\n",
       "│ 2008-03-31 ┆ 30.7                              │\n",
       "└────────────┴───────────────────────────────────┘"
      ]
     },
     "execution_count": 89,
     "metadata": {},
     "output_type": "execute_result"
    }
   ],
   "source": [
    "Id = 6714\n",
    "df = get_df(Id)\n",
    "# get_plot(Id)\n",
    "df"
   ]
  },
  {
   "cell_type": "markdown",
   "id": "a5e7dd74",
   "metadata": {},
   "source": [
    "##### 03 - Por Institución\n",
    "\n",
    "* Banco Central\n",
    "* Gobierno general\n",
    "* Otras sociedades financieras\n",
    "* Otros Sectores\n",
    "* Saldo bruto de la deuda externa\n",
    "* Sociedades no financieras\n"
   ]
  },
  {
   "cell_type": "code",
   "execution_count": 90,
   "id": "47ff3e96",
   "metadata": {},
   "outputs": [
    {
     "name": "stderr",
     "output_type": "stream",
     "text": [
      "<string>:29: FutureWarning:\n",
      "\n",
      "Passing literal json to 'read_json' is deprecated and will be removed in a future version. To read from a literal string, wrap it in a 'StringIO' object.\n",
      "\n"
     ]
    },
    {
     "data": {
      "text/html": [
       "<div><style>\n",
       ".dataframe > thead > tr,\n",
       ".dataframe > tbody > tr {\n",
       "  text-align: right;\n",
       "  white-space: pre-wrap;\n",
       "}\n",
       "</style>\n",
       "<small>shape: (6, 5)</small><table border=\"1\" class=\"dataframe\"><thead><tr><th>Niv_Gr_1</th><th>Niv_Gr_2</th><th>Niv_Gr_3</th><th>Niv_Descr_1</th><th>N_Variables</th></tr><tr><td>str</td><td>str</td><td>str</td><td>str</td><td>u32</td></tr></thead><tbody><tr><td>&quot;ESE&quot;</td><td>&quot;DE&quot;</td><td>&quot;03&quot;</td><td>&quot;Banco Central&quot;</td><td>144</td></tr><tr><td>&quot;ESE&quot;</td><td>&quot;DE&quot;</td><td>&quot;03&quot;</td><td>&quot;Gobierno gener…</td><td>144</td></tr><tr><td>&quot;ESE&quot;</td><td>&quot;DE&quot;</td><td>&quot;03&quot;</td><td>&quot;Otras sociedad…</td><td>120</td></tr><tr><td>&quot;ESE&quot;</td><td>&quot;DE&quot;</td><td>&quot;03&quot;</td><td>&quot;Sociedades no …</td><td>120</td></tr><tr><td>&quot;ESE&quot;</td><td>&quot;DE&quot;</td><td>&quot;03&quot;</td><td>&quot;Otros Sectores…</td><td>120</td></tr><tr><td>&quot;ESE&quot;</td><td>&quot;DE&quot;</td><td>&quot;03&quot;</td><td>&quot;Saldo bruto de…</td><td>24</td></tr></tbody></table></div>"
      ],
      "text/plain": [
       "shape: (6, 5)\n",
       "┌──────────┬──────────┬──────────┬─────────────────────────────────┬─────────────┐\n",
       "│ Niv_Gr_1 ┆ Niv_Gr_2 ┆ Niv_Gr_3 ┆ Niv_Descr_1                     ┆ N_Variables │\n",
       "│ ---      ┆ ---      ┆ ---      ┆ ---                             ┆ ---         │\n",
       "│ str      ┆ str      ┆ str      ┆ str                             ┆ u32         │\n",
       "╞══════════╪══════════╪══════════╪═════════════════════════════════╪═════════════╡\n",
       "│ ESE      ┆ DE       ┆ 03       ┆ Banco Central                   ┆ 144         │\n",
       "│ ESE      ┆ DE       ┆ 03       ┆ Gobierno general                ┆ 144         │\n",
       "│ ESE      ┆ DE       ┆ 03       ┆ Otras sociedades financieras    ┆ 120         │\n",
       "│ ESE      ┆ DE       ┆ 03       ┆ Sociedades no financieras       ┆ 120         │\n",
       "│ ESE      ┆ DE       ┆ 03       ┆ Otros Sectores                  ┆ 120         │\n",
       "│ ESE      ┆ DE       ┆ 03       ┆ Saldo bruto de la deuda externa ┆ 24          │\n",
       "└──────────┴──────────┴──────────┴─────────────────────────────────┴─────────────┘"
      ]
     },
     "execution_count": 90,
     "metadata": {},
     "output_type": "execute_result"
    }
   ],
   "source": [
    "res_nivel_4(\n",
    "    \"ESE\",\"DE\",\n",
    "    \"Niv_Gr_3\",\n",
    "    \"03\",\n",
    "    \"Niv_Descr_1\")"
   ]
  },
  {
   "cell_type": "markdown",
   "id": "cb44000a",
   "metadata": {},
   "source": [
    "* Asignación de Derechos especiales de giro\n",
    "* Asignación de Derechos especiales de giro \n",
    "* Créditos y anticipos comerciales\n",
    "* Créditos y anticipos comerciales \n",
    "* Moneda y depósitos\n",
    "* Moneda y depósitos \n",
    "* Otros pasivos de deuda\n",
    "* Otros pasivos de deuda \n",
    "* Préstamos\n",
    "* Préstamos \n",
    "* Tí­tulos de deuda\n",
    "* Tí­tulos de deuda \n",
    "* Saldo bruto de la deuda externa\n",
    "* Saldo bruto de la deuda externa \n"
   ]
  },
  {
   "cell_type": "code",
   "execution_count": 91,
   "id": "3b679031",
   "metadata": {},
   "outputs": [
    {
     "name": "stderr",
     "output_type": "stream",
     "text": [
      "<string>:29: FutureWarning:\n",
      "\n",
      "Passing literal json to 'read_json' is deprecated and will be removed in a future version. To read from a literal string, wrap it in a 'StringIO' object.\n",
      "\n"
     ]
    },
    {
     "data": {
      "text/html": [
       "<div><style>\n",
       ".dataframe > thead > tr,\n",
       ".dataframe > tbody > tr {\n",
       "  text-align: right;\n",
       "  white-space: pre-wrap;\n",
       "}\n",
       "</style>\n",
       "<small>shape: (14, 5)</small><table border=\"1\" class=\"dataframe\"><thead><tr><th>Niv_Gr_1</th><th>Niv_Gr_2</th><th>Niv_Gr_3</th><th>Niv_Descr_2</th><th>N_Variables</th></tr><tr><td>str</td><td>str</td><td>str</td><td>str</td><td>u32</td></tr></thead><tbody><tr><td>&quot;ESE&quot;</td><td>&quot;DE&quot;</td><td>&quot;03&quot;</td><td>&quot;Títulos de deu…</td><td>80</td></tr><tr><td>&quot;ESE&quot;</td><td>&quot;DE&quot;</td><td>&quot;03&quot;</td><td>&quot;Otros pasivos …</td><td>80</td></tr><tr><td>&quot;ESE&quot;</td><td>&quot;DE&quot;</td><td>&quot;03&quot;</td><td>&quot;Créditos y ant…</td><td>80</td></tr><tr><td>&quot;ESE&quot;</td><td>&quot;DE&quot;</td><td>&quot;03&quot;</td><td>&quot;Moneda y depós…</td><td>80</td></tr><tr><td>&quot;ESE&quot;</td><td>&quot;DE&quot;</td><td>&quot;03&quot;</td><td>&quot;Préstamos &quot;</td><td>80</td></tr><tr><td>&hellip;</td><td>&hellip;</td><td>&hellip;</td><td>&hellip;</td><td>&hellip;</td></tr><tr><td>&quot;ESE&quot;</td><td>&quot;DE&quot;</td><td>&quot;03&quot;</td><td>&quot;Moneda y depós…</td><td>40</td></tr><tr><td>&quot;ESE&quot;</td><td>&quot;DE&quot;</td><td>&quot;03&quot;</td><td>&quot;Asignación de …</td><td>32</td></tr><tr><td>&quot;ESE&quot;</td><td>&quot;DE&quot;</td><td>&quot;03&quot;</td><td>&quot;Saldo bruto de…</td><td>16</td></tr><tr><td>&quot;ESE&quot;</td><td>&quot;DE&quot;</td><td>&quot;03&quot;</td><td>&quot;Asignación de …</td><td>16</td></tr><tr><td>&quot;ESE&quot;</td><td>&quot;DE&quot;</td><td>&quot;03&quot;</td><td>&quot;Saldo bruto de…</td><td>8</td></tr></tbody></table></div>"
      ],
      "text/plain": [
       "shape: (14, 5)\n",
       "┌──────────┬──────────┬──────────┬───────────────────────────────────┬─────────────┐\n",
       "│ Niv_Gr_1 ┆ Niv_Gr_2 ┆ Niv_Gr_3 ┆ Niv_Descr_2                       ┆ N_Variables │\n",
       "│ ---      ┆ ---      ┆ ---      ┆ ---                               ┆ ---         │\n",
       "│ str      ┆ str      ┆ str      ┆ str                               ┆ u32         │\n",
       "╞══════════╪══════════╪══════════╪═══════════════════════════════════╪═════════════╡\n",
       "│ ESE      ┆ DE       ┆ 03       ┆ Títulos de deuda                  ┆ 80          │\n",
       "│ ESE      ┆ DE       ┆ 03       ┆ Otros pasivos de deuda            ┆ 80          │\n",
       "│ ESE      ┆ DE       ┆ 03       ┆ Créditos y anticipos comerciales… ┆ 80          │\n",
       "│ ESE      ┆ DE       ┆ 03       ┆ Moneda y depósitos                ┆ 80          │\n",
       "│ ESE      ┆ DE       ┆ 03       ┆ Préstamos                         ┆ 80          │\n",
       "│ …        ┆ …        ┆ …        ┆ …                                 ┆ …           │\n",
       "│ ESE      ┆ DE       ┆ 03       ┆ Moneda y depósitos                ┆ 40          │\n",
       "│ ESE      ┆ DE       ┆ 03       ┆ Asignación de Derechos especiale… ┆ 32          │\n",
       "│ ESE      ┆ DE       ┆ 03       ┆ Saldo bruto de la deuda externa   ┆ 16          │\n",
       "│ ESE      ┆ DE       ┆ 03       ┆ Asignación de Derechos especiale… ┆ 16          │\n",
       "│ ESE      ┆ DE       ┆ 03       ┆ Saldo bruto de la deuda externa   ┆ 8           │\n",
       "└──────────┴──────────┴──────────┴───────────────────────────────────┴─────────────┘"
      ]
     },
     "execution_count": 91,
     "metadata": {},
     "output_type": "execute_result"
    }
   ],
   "source": [
    "res_nivel_4(\n",
    "    \"ESE\",\"DE\",\n",
    "    \"Niv_Gr_3\",\n",
    "    \"03\",\n",
    "    \"Niv_Descr_2\")"
   ]
  },
  {
   "cell_type": "code",
   "execution_count": 92,
   "id": "6414eeae",
   "metadata": {},
   "outputs": [
    {
     "name": "stderr",
     "output_type": "stream",
     "text": [
      "<string>:29: FutureWarning:\n",
      "\n",
      "Passing literal json to 'read_json' is deprecated and will be removed in a future version. To read from a literal string, wrap it in a 'StringIO' object.\n",
      "\n"
     ]
    },
    {
     "data": {
      "text/html": [
       "<div><style>\n",
       ".dataframe > thead > tr,\n",
       ".dataframe > tbody > tr {\n",
       "  text-align: right;\n",
       "  white-space: pre-wrap;\n",
       "}\n",
       "</style>\n",
       "<small>shape: (672, 8)</small><table border=\"1\" class=\"dataframe\"><thead><tr><th>Niv_Gr_1</th><th>Niv_Gr_2</th><th>Niv_Gr_3</th><th>Id</th><th>Niv_Descr_1</th><th>Niv_Descr_2</th><th>Niv_Descr_3</th><th>N_Variables</th></tr><tr><td>str</td><td>str</td><td>str</td><td>i64</td><td>str</td><td>str</td><td>str</td><td>u32</td></tr></thead><tbody><tr><td>&quot;ESE&quot;</td><td>&quot;DE&quot;</td><td>&quot;03&quot;</td><td>6724</td><td>&quot;Banco Central&quot;</td><td>&quot;Asignación de …</td><td>&quot;3&quot;</td><td>1</td></tr><tr><td>&quot;ESE&quot;</td><td>&quot;DE&quot;</td><td>&quot;03&quot;</td><td>6725</td><td>&quot;Banco Central&quot;</td><td>&quot;Asignación de …</td><td>&quot;6&quot;</td><td>1</td></tr><tr><td>&quot;ESE&quot;</td><td>&quot;DE&quot;</td><td>&quot;03&quot;</td><td>6734</td><td>&quot;Banco Central&quot;</td><td>&quot;Asignación de …</td><td>&quot; Intereses&quot;</td><td>1</td></tr><tr><td>&quot;ESE&quot;</td><td>&quot;DE&quot;</td><td>&quot;03&quot;</td><td>6738</td><td>&quot;Banco Central&quot;</td><td>&quot;Asignación de …</td><td>&quot; Principal&quot;</td><td>1</td></tr><tr><td>&quot;ESE&quot;</td><td>&quot;DE&quot;</td><td>&quot;03&quot;</td><td>6742</td><td>&quot;Banco Central&quot;</td><td>&quot;Asignación de …</td><td>&quot; Principal&quot;</td><td>1</td></tr><tr><td>&hellip;</td><td>&hellip;</td><td>&hellip;</td><td>&hellip;</td><td>&hellip;</td><td>&hellip;</td><td>&hellip;</td><td>&hellip;</td></tr><tr><td>&quot;ESE&quot;</td><td>&quot;DE&quot;</td><td>&quot;03&quot;</td><td>7327</td><td>&quot;Sociedades no …</td><td>&quot;Otros pasivos …</td><td>&quot;De pago inmedi…</td><td>1</td></tr><tr><td>&quot;ESE&quot;</td><td>&quot;DE&quot;</td><td>&quot;03&quot;</td><td>7329</td><td>&quot;Sociedades no …</td><td>&quot;Otros pasivos …</td><td>&quot; Intereses&quot;</td><td>1</td></tr><tr><td>&quot;ESE&quot;</td><td>&quot;DE&quot;</td><td>&quot;03&quot;</td><td>7336</td><td>&quot;Sociedades no …</td><td>&quot;Otros pasivos …</td><td>&quot; Principal&quot;</td><td>1</td></tr><tr><td>&quot;ESE&quot;</td><td>&quot;DE&quot;</td><td>&quot;03&quot;</td><td>7344</td><td>&quot;Sociedades no …</td><td>&quot;Préstamos&quot;</td><td>&quot;0&quot;</td><td>1</td></tr><tr><td>&quot;ESE&quot;</td><td>&quot;DE&quot;</td><td>&quot;03&quot;</td><td>7375</td><td>&quot;Sociedades no …</td><td>&quot;Títulos de deu…</td><td>&quot;De pago inmedi…</td><td>1</td></tr></tbody></table></div>"
      ],
      "text/plain": [
       "shape: (672, 8)\n",
       "┌──────────┬──────────┬──────────┬──────┬──────────────┬──────────────┬──────────────┬─────────────┐\n",
       "│ Niv_Gr_1 ┆ Niv_Gr_2 ┆ Niv_Gr_3 ┆ Id   ┆ Niv_Descr_1  ┆ Niv_Descr_2  ┆ Niv_Descr_3  ┆ N_Variables │\n",
       "│ ---      ┆ ---      ┆ ---      ┆ ---  ┆ ---          ┆ ---          ┆ ---          ┆ ---         │\n",
       "│ str      ┆ str      ┆ str      ┆ i64  ┆ str          ┆ str          ┆ str          ┆ u32         │\n",
       "╞══════════╪══════════╪══════════╪══════╪══════════════╪══════════════╪══════════════╪═════════════╡\n",
       "│ ESE      ┆ DE       ┆ 03       ┆ 6724 ┆ Banco        ┆ Asignación   ┆ 3            ┆ 1           │\n",
       "│          ┆          ┆          ┆      ┆ Central      ┆ de Derechos  ┆              ┆             │\n",
       "│          ┆          ┆          ┆      ┆              ┆ especiale…   ┆              ┆             │\n",
       "│ ESE      ┆ DE       ┆ 03       ┆ 6725 ┆ Banco        ┆ Asignación   ┆ 6            ┆ 1           │\n",
       "│          ┆          ┆          ┆      ┆ Central      ┆ de Derechos  ┆              ┆             │\n",
       "│          ┆          ┆          ┆      ┆              ┆ especiale…   ┆              ┆             │\n",
       "│ ESE      ┆ DE       ┆ 03       ┆ 6734 ┆ Banco        ┆ Asignación   ┆  Intereses   ┆ 1           │\n",
       "│          ┆          ┆          ┆      ┆ Central      ┆ de Derechos  ┆              ┆             │\n",
       "│          ┆          ┆          ┆      ┆              ┆ especiale…   ┆              ┆             │\n",
       "│ ESE      ┆ DE       ┆ 03       ┆ 6738 ┆ Banco        ┆ Asignación   ┆  Principal   ┆ 1           │\n",
       "│          ┆          ┆          ┆      ┆ Central      ┆ de Derechos  ┆              ┆             │\n",
       "│          ┆          ┆          ┆      ┆              ┆ especiale…   ┆              ┆             │\n",
       "│ ESE      ┆ DE       ┆ 03       ┆ 6742 ┆ Banco        ┆ Asignación   ┆  Principal   ┆ 1           │\n",
       "│          ┆          ┆          ┆      ┆ Central      ┆ de Derechos  ┆              ┆             │\n",
       "│          ┆          ┆          ┆      ┆              ┆ especiale…   ┆              ┆             │\n",
       "│ …        ┆ …        ┆ …        ┆ …    ┆ …            ┆ …            ┆ …            ┆ …           │\n",
       "│ ESE      ┆ DE       ┆ 03       ┆ 7327 ┆ Sociedades   ┆ Otros        ┆ De pago      ┆ 1           │\n",
       "│          ┆          ┆          ┆      ┆ no           ┆ pasivos de   ┆ inmediato    ┆             │\n",
       "│          ┆          ┆          ┆      ┆ financieras  ┆ deuda        ┆              ┆             │\n",
       "│ ESE      ┆ DE       ┆ 03       ┆ 7329 ┆ Sociedades   ┆ Otros        ┆  Intereses   ┆ 1           │\n",
       "│          ┆          ┆          ┆      ┆ no           ┆ pasivos de   ┆              ┆             │\n",
       "│          ┆          ┆          ┆      ┆ financieras  ┆ deuda        ┆              ┆             │\n",
       "│ ESE      ┆ DE       ┆ 03       ┆ 7336 ┆ Sociedades   ┆ Otros        ┆  Principal   ┆ 1           │\n",
       "│          ┆          ┆          ┆      ┆ no           ┆ pasivos de   ┆              ┆             │\n",
       "│          ┆          ┆          ┆      ┆ financieras  ┆ deuda        ┆              ┆             │\n",
       "│ ESE      ┆ DE       ┆ 03       ┆ 7344 ┆ Sociedades   ┆ Préstamos    ┆ 0            ┆ 1           │\n",
       "│          ┆          ┆          ┆      ┆ no           ┆              ┆              ┆             │\n",
       "│          ┆          ┆          ┆      ┆ financieras  ┆              ┆              ┆             │\n",
       "│ ESE      ┆ DE       ┆ 03       ┆ 7375 ┆ Sociedades   ┆ Títulos de   ┆ De pago      ┆ 1           │\n",
       "│          ┆          ┆          ┆      ┆ no           ┆ deuda        ┆ inmediato    ┆             │\n",
       "│          ┆          ┆          ┆      ┆ financieras  ┆              ┆              ┆             │\n",
       "└──────────┴──────────┴──────────┴──────┴──────────────┴──────────────┴──────────────┴─────────────┘"
      ]
     },
     "execution_count": 92,
     "metadata": {},
     "output_type": "execute_result"
    }
   ],
   "source": [
    "res_nivel_7(\n",
    "    \"ESE\",\"DE\",\n",
    "    \"Niv_Gr_3\",\"03\",\n",
    "    \"Id\",\"Niv_Descr_1\",\"Niv_Descr_2\",\"Niv_Descr_3\")"
   ]
  },
  {
   "cell_type": "markdown",
   "id": "28ef7bd0",
   "metadata": {},
   "source": [
    "Para ver todas las variables (Nota: el nivel de descripción sigue):\n"
   ]
  },
  {
   "cell_type": "code",
   "execution_count": 93,
   "id": "e5b92a1b",
   "metadata": {},
   "outputs": [
    {
     "data": {
      "text/html": [
       "<div><style>\n",
       ".dataframe > thead > tr,\n",
       ".dataframe > tbody > tr {\n",
       "  text-align: right;\n",
       "  white-space: pre-wrap;\n",
       "}\n",
       "</style>\n",
       "<small>shape: (672, 16)</small><table border=\"1\" class=\"dataframe\"><thead><tr><th>Id</th><th>Nombre</th><th>Descripcion</th><th>Periodicidad</th><th>Grupo</th><th>CorrelativoGrupo</th><th>Niv_Descr_1</th><th>Niv_Descr_2</th><th>Niv_Descr_3</th><th>Niv_Descr_4</th><th>Niv_Descr_5</th><th>Niv_Descr</th><th>Niv_Gr_1</th><th>Niv_Gr_2</th><th>Niv_Gr_3</th><th>Niv_Gr</th></tr><tr><td>i64</td><td>str</td><td>str</td><td>str</td><td>str</td><td>str</td><td>str</td><td>str</td><td>str</td><td>str</td><td>str</td><td>i64</td><td>str</td><td>str</td><td>str</td><td>i64</td></tr></thead><tbody><tr><td>6720</td><td>&quot;ESE-DE-03-1&quot;</td><td>&quot;Banco Central-…</td><td>&quot;Trimestral&quot;</td><td>&quot;ESE-DE-03&quot;</td><td>&quot;1&quot;</td><td>&quot;Banco Central&quot;</td><td>&quot;Asignación de …</td><td>&quot;0&quot;</td><td>&quot;3 meses&quot;</td><td>null</td><td>4</td><td>&quot;ESE&quot;</td><td>&quot;DE&quot;</td><td>&quot;03&quot;</td><td>12</td></tr><tr><td>6721</td><td>&quot;ESE-DE-03-2&quot;</td><td>&quot;Banco Central-…</td><td>&quot;Trimestral&quot;</td><td>&quot;ESE-DE-03&quot;</td><td>&quot;2&quot;</td><td>&quot;Banco Central&quot;</td><td>&quot;Asignación de …</td><td>&quot;12&quot;</td><td>&quot;18 meses&quot;</td><td>null</td><td>4</td><td>&quot;ESE&quot;</td><td>&quot;DE&quot;</td><td>&quot;03&quot;</td><td>12</td></tr><tr><td>6722</td><td>&quot;ESE-DE-03-3&quot;</td><td>&quot;Banco Central-…</td><td>&quot;Trimestral&quot;</td><td>&quot;ESE-DE-03&quot;</td><td>&quot;3&quot;</td><td>&quot;Banco Central&quot;</td><td>&quot;Asignación de …</td><td>&quot;18&quot;</td><td>&quot;24 meses&quot;</td><td>null</td><td>4</td><td>&quot;ESE&quot;</td><td>&quot;DE&quot;</td><td>&quot;03&quot;</td><td>12</td></tr><tr><td>6723</td><td>&quot;ESE-DE-03-4&quot;</td><td>&quot;Banco Central-…</td><td>&quot;Trimestral&quot;</td><td>&quot;ESE-DE-03&quot;</td><td>&quot;4&quot;</td><td>&quot;Banco Central&quot;</td><td>&quot;Asignación de …</td><td>&quot;2 años en adel…</td><td>null</td><td>null</td><td>3</td><td>&quot;ESE&quot;</td><td>&quot;DE&quot;</td><td>&quot;03&quot;</td><td>11</td></tr><tr><td>6724</td><td>&quot;ESE-DE-03-5&quot;</td><td>&quot;Banco Central-…</td><td>&quot;Trimestral&quot;</td><td>&quot;ESE-DE-03&quot;</td><td>&quot;5&quot;</td><td>&quot;Banco Central&quot;</td><td>&quot;Asignación de …</td><td>&quot;3&quot;</td><td>&quot;6 meses&quot;</td><td>null</td><td>4</td><td>&quot;ESE&quot;</td><td>&quot;DE&quot;</td><td>&quot;03&quot;</td><td>12</td></tr><tr><td>&hellip;</td><td>&hellip;</td><td>&hellip;</td><td>&hellip;</td><td>&hellip;</td><td>&hellip;</td><td>&hellip;</td><td>&hellip;</td><td>&hellip;</td><td>&hellip;</td><td>&hellip;</td><td>&hellip;</td><td>&hellip;</td><td>&hellip;</td><td>&hellip;</td><td>&hellip;</td></tr><tr><td>7387</td><td>&quot;ESE-DE-03-668&quot;</td><td>&quot;Sociedades no …</td><td>&quot;Trimestral&quot;</td><td>&quot;ESE-DE-03&quot;</td><td>&quot;668&quot;</td><td>&quot;Sociedades no …</td><td>&quot;Títulos de deu…</td><td>&quot; Principal&quot;</td><td>&quot;2 años en adel…</td><td>null</td><td>4</td><td>&quot;ESE&quot;</td><td>&quot;DE&quot;</td><td>&quot;03&quot;</td><td>12</td></tr><tr><td>7388</td><td>&quot;ESE-DE-03-669&quot;</td><td>&quot;Sociedades no …</td><td>&quot;Trimestral&quot;</td><td>&quot;ESE-DE-03&quot;</td><td>&quot;669&quot;</td><td>&quot;Sociedades no …</td><td>&quot;Títulos de deu…</td><td>&quot; Principal&quot;</td><td>&quot;3&quot;</td><td>&quot;6 meses&quot;</td><td>5</td><td>&quot;ESE&quot;</td><td>&quot;DE&quot;</td><td>&quot;03&quot;</td><td>13</td></tr><tr><td>7389</td><td>&quot;ESE-DE-03-670&quot;</td><td>&quot;Sociedades no …</td><td>&quot;Trimestral&quot;</td><td>&quot;ESE-DE-03&quot;</td><td>&quot;670&quot;</td><td>&quot;Sociedades no …</td><td>&quot;Títulos de deu…</td><td>&quot; Principal&quot;</td><td>&quot;6&quot;</td><td>&quot;9 meses&quot;</td><td>5</td><td>&quot;ESE&quot;</td><td>&quot;DE&quot;</td><td>&quot;03&quot;</td><td>13</td></tr><tr><td>7390</td><td>&quot;ESE-DE-03-671&quot;</td><td>&quot;Sociedades no …</td><td>&quot;Trimestral&quot;</td><td>&quot;ESE-DE-03&quot;</td><td>&quot;671&quot;</td><td>&quot;Sociedades no …</td><td>&quot;Títulos de deu…</td><td>&quot; Principal&quot;</td><td>&quot;9&quot;</td><td>&quot;12 meses&quot;</td><td>5</td><td>&quot;ESE&quot;</td><td>&quot;DE&quot;</td><td>&quot;03&quot;</td><td>13</td></tr><tr><td>7391</td><td>&quot;ESE-DE-03-672&quot;</td><td>&quot;Sociedades no …</td><td>&quot;Trimestral&quot;</td><td>&quot;ESE-DE-03&quot;</td><td>&quot;672&quot;</td><td>&quot;Sociedades no …</td><td>&quot;Títulos de deu…</td><td>&quot; Principal&quot;</td><td>&quot;De pago inmedi…</td><td>null</td><td>4</td><td>&quot;ESE&quot;</td><td>&quot;DE&quot;</td><td>&quot;03&quot;</td><td>12</td></tr></tbody></table></div>"
      ],
      "text/plain": [
       "shape: (672, 16)\n",
       "┌──────┬───────────────┬──────────────┬──────────────┬───┬──────────┬──────────┬──────────┬────────┐\n",
       "│ Id   ┆ Nombre        ┆ Descripcion  ┆ Periodicidad ┆ … ┆ Niv_Gr_1 ┆ Niv_Gr_2 ┆ Niv_Gr_3 ┆ Niv_Gr │\n",
       "│ ---  ┆ ---           ┆ ---          ┆ ---          ┆   ┆ ---      ┆ ---      ┆ ---      ┆ ---    │\n",
       "│ i64  ┆ str           ┆ str          ┆ str          ┆   ┆ str      ┆ str      ┆ str      ┆ i64    │\n",
       "╞══════╪═══════════════╪══════════════╪══════════════╪═══╪══════════╪══════════╪══════════╪════════╡\n",
       "│ 6720 ┆ ESE-DE-03-1   ┆ Banco Centra ┆ Trimestral   ┆ … ┆ ESE      ┆ DE       ┆ 03       ┆ 12     │\n",
       "│      ┆               ┆ l-Asignación ┆              ┆   ┆          ┆          ┆          ┆        │\n",
       "│      ┆               ┆ de Dere…     ┆              ┆   ┆          ┆          ┆          ┆        │\n",
       "│ 6721 ┆ ESE-DE-03-2   ┆ Banco Centra ┆ Trimestral   ┆ … ┆ ESE      ┆ DE       ┆ 03       ┆ 12     │\n",
       "│      ┆               ┆ l-Asignación ┆              ┆   ┆          ┆          ┆          ┆        │\n",
       "│      ┆               ┆ de Dere…     ┆              ┆   ┆          ┆          ┆          ┆        │\n",
       "│ 6722 ┆ ESE-DE-03-3   ┆ Banco Centra ┆ Trimestral   ┆ … ┆ ESE      ┆ DE       ┆ 03       ┆ 12     │\n",
       "│      ┆               ┆ l-Asignación ┆              ┆   ┆          ┆          ┆          ┆        │\n",
       "│      ┆               ┆ de Dere…     ┆              ┆   ┆          ┆          ┆          ┆        │\n",
       "│ 6723 ┆ ESE-DE-03-4   ┆ Banco Centra ┆ Trimestral   ┆ … ┆ ESE      ┆ DE       ┆ 03       ┆ 11     │\n",
       "│      ┆               ┆ l-Asignación ┆              ┆   ┆          ┆          ┆          ┆        │\n",
       "│      ┆               ┆ de Dere…     ┆              ┆   ┆          ┆          ┆          ┆        │\n",
       "│ 6724 ┆ ESE-DE-03-5   ┆ Banco Centra ┆ Trimestral   ┆ … ┆ ESE      ┆ DE       ┆ 03       ┆ 12     │\n",
       "│      ┆               ┆ l-Asignación ┆              ┆   ┆          ┆          ┆          ┆        │\n",
       "│      ┆               ┆ de Dere…     ┆              ┆   ┆          ┆          ┆          ┆        │\n",
       "│ …    ┆ …             ┆ …            ┆ …            ┆ … ┆ …        ┆ …        ┆ …        ┆ …      │\n",
       "│ 7387 ┆ ESE-DE-03-668 ┆ Sociedades   ┆ Trimestral   ┆ … ┆ ESE      ┆ DE       ┆ 03       ┆ 12     │\n",
       "│      ┆               ┆ no financier ┆              ┆   ┆          ┆          ┆          ┆        │\n",
       "│      ┆               ┆ as-Título…   ┆              ┆   ┆          ┆          ┆          ┆        │\n",
       "│ 7388 ┆ ESE-DE-03-669 ┆ Sociedades   ┆ Trimestral   ┆ … ┆ ESE      ┆ DE       ┆ 03       ┆ 13     │\n",
       "│      ┆               ┆ no financier ┆              ┆   ┆          ┆          ┆          ┆        │\n",
       "│      ┆               ┆ as-Título…   ┆              ┆   ┆          ┆          ┆          ┆        │\n",
       "│ 7389 ┆ ESE-DE-03-670 ┆ Sociedades   ┆ Trimestral   ┆ … ┆ ESE      ┆ DE       ┆ 03       ┆ 13     │\n",
       "│      ┆               ┆ no financier ┆              ┆   ┆          ┆          ┆          ┆        │\n",
       "│      ┆               ┆ as-Título…   ┆              ┆   ┆          ┆          ┆          ┆        │\n",
       "│ 7390 ┆ ESE-DE-03-671 ┆ Sociedades   ┆ Trimestral   ┆ … ┆ ESE      ┆ DE       ┆ 03       ┆ 13     │\n",
       "│      ┆               ┆ no financier ┆              ┆   ┆          ┆          ┆          ┆        │\n",
       "│      ┆               ┆ as-Título…   ┆              ┆   ┆          ┆          ┆          ┆        │\n",
       "│ 7391 ┆ ESE-DE-03-672 ┆ Sociedades   ┆ Trimestral   ┆ … ┆ ESE      ┆ DE       ┆ 03       ┆ 12     │\n",
       "│      ┆               ┆ no financier ┆              ┆   ┆          ┆          ┆          ┆        │\n",
       "│      ┆               ┆ as-Título…   ┆              ┆   ┆          ┆          ┆          ┆        │\n",
       "└──────┴───────────────┴──────────────┴──────────────┴───┴──────────┴──────────┴──────────┴────────┘"
      ]
     },
     "execution_count": 93,
     "metadata": {},
     "output_type": "execute_result"
    }
   ],
   "source": [
    "df_all.filter(\n",
    "    pl.col(\"Niv_Gr_1\") == \"ESE\",\n",
    "    pl.col(\"Niv_Gr_2\") == \"DE\",\n",
    "    pl.col(\"Niv_Gr_3\") == \"03\"\n",
    "    ).select(pl.all().exclude(\n",
    "        \"Niv_Descr_6\",\"Niv_Descr_7\",\"Niv_Descr_8\",\n",
    "        \"Niv_Gr_4\",\"Niv_Gr_5\"))"
   ]
  },
  {
   "cell_type": "markdown",
   "id": "2d548a6e",
   "metadata": {},
   "source": [
    "Resultados de una sola variable:\n"
   ]
  },
  {
   "cell_type": "code",
   "execution_count": 94,
   "id": "5156586f",
   "metadata": {},
   "outputs": [
    {
     "name": "stderr",
     "output_type": "stream",
     "text": [
      "<string>:29: FutureWarning:\n",
      "\n",
      "Passing literal json to 'read_json' is deprecated and will be removed in a future version. To read from a literal string, wrap it in a 'StringIO' object.\n",
      "\n"
     ]
    },
    {
     "name": "stderr",
     "output_type": "stream",
     "text": [
      "<string>:29: FutureWarning:\n",
      "\n",
      "Passing literal json to 'read_json' is deprecated and will be removed in a future version. To read from a literal string, wrap it in a 'StringIO' object.\n",
      "\n"
     ]
    },
    {
     "data": {
      "text/html": [
       "<div><style>\n",
       ".dataframe > thead > tr,\n",
       ".dataframe > tbody > tr {\n",
       "  text-align: right;\n",
       "  white-space: pre-wrap;\n",
       "}\n",
       "</style>\n",
       "<small>shape: (1, 2)</small><table border=\"1\" class=\"dataframe\"><thead><tr><th>Fecha</th><th>Banco Central-Asignación de Derechos especiales de giro-0-3 meses</th></tr><tr><td>date</td><td>i64</td></tr></thead><tbody><tr><td>2024-04-19</td><td>0</td></tr></tbody></table></div>"
      ],
      "text/plain": [
       "shape: (1, 2)\n",
       "┌────────────┬───────────────────────────────────┐\n",
       "│ Fecha      ┆ Banco Central-Asignación de Dere… │\n",
       "│ ---        ┆ ---                               │\n",
       "│ date       ┆ i64                               │\n",
       "╞════════════╪═══════════════════════════════════╡\n",
       "│ 2024-04-19 ┆ 0                                 │\n",
       "└────────────┴───────────────────────────────────┘"
      ]
     },
     "execution_count": 94,
     "metadata": {},
     "output_type": "execute_result"
    }
   ],
   "source": [
    "Id = 6720\n",
    "df = get_df(Id)\n",
    "# get_plot(Id)\n",
    "df"
   ]
  },
  {
   "cell_type": "markdown",
   "id": "ef850c25",
   "metadata": {},
   "source": [
    "##### 04 - Pagos que vencen en un año o menos\n",
    "\n",
    "* Gobierno general\n",
    "* Banco Central\n",
    "* Otros Sectores\n",
    "* Otras sociedades financieras\n",
    "* Sociedades no financieras\n",
    "* Deuda externa total a corto plazo\n"
   ]
  },
  {
   "cell_type": "code",
   "execution_count": 95,
   "id": "22dce171",
   "metadata": {},
   "outputs": [
    {
     "name": "stderr",
     "output_type": "stream",
     "text": [
      "<string>:29: FutureWarning:\n",
      "\n",
      "Passing literal json to 'read_json' is deprecated and will be removed in a future version. To read from a literal string, wrap it in a 'StringIO' object.\n",
      "\n"
     ]
    },
    {
     "data": {
      "text/html": [
       "<div><style>\n",
       ".dataframe > thead > tr,\n",
       ".dataframe > tbody > tr {\n",
       "  text-align: right;\n",
       "  white-space: pre-wrap;\n",
       "}\n",
       "</style>\n",
       "<small>shape: (6, 5)</small><table border=\"1\" class=\"dataframe\"><thead><tr><th>Niv_Gr_1</th><th>Niv_Gr_2</th><th>Niv_Gr_3</th><th>Niv_Descr_1</th><th>N_Variables</th></tr><tr><td>str</td><td>str</td><td>str</td><td>str</td><td>u32</td></tr></thead><tbody><tr><td>&quot;ESE&quot;</td><td>&quot;DE&quot;</td><td>&quot;04&quot;</td><td>&quot;Gobierno gener…</td><td>12</td></tr><tr><td>&quot;ESE&quot;</td><td>&quot;DE&quot;</td><td>&quot;04&quot;</td><td>&quot;Banco Central&quot;</td><td>12</td></tr><tr><td>&quot;ESE&quot;</td><td>&quot;DE&quot;</td><td>&quot;04&quot;</td><td>&quot;Sociedades no …</td><td>10</td></tr><tr><td>&quot;ESE&quot;</td><td>&quot;DE&quot;</td><td>&quot;04&quot;</td><td>&quot;Otros Sectores…</td><td>10</td></tr><tr><td>&quot;ESE&quot;</td><td>&quot;DE&quot;</td><td>&quot;04&quot;</td><td>&quot;Otras sociedad…</td><td>10</td></tr><tr><td>&quot;ESE&quot;</td><td>&quot;DE&quot;</td><td>&quot;04&quot;</td><td>&quot;Deuda externa …</td><td>1</td></tr></tbody></table></div>"
      ],
      "text/plain": [
       "shape: (6, 5)\n",
       "┌──────────┬──────────┬──────────┬───────────────────────────────────┬─────────────┐\n",
       "│ Niv_Gr_1 ┆ Niv_Gr_2 ┆ Niv_Gr_3 ┆ Niv_Descr_1                       ┆ N_Variables │\n",
       "│ ---      ┆ ---      ┆ ---      ┆ ---                               ┆ ---         │\n",
       "│ str      ┆ str      ┆ str      ┆ str                               ┆ u32         │\n",
       "╞══════════╪══════════╪══════════╪═══════════════════════════════════╪═════════════╡\n",
       "│ ESE      ┆ DE       ┆ 04       ┆ Gobierno general                  ┆ 12          │\n",
       "│ ESE      ┆ DE       ┆ 04       ┆ Banco Central                     ┆ 12          │\n",
       "│ ESE      ┆ DE       ┆ 04       ┆ Sociedades no financieras         ┆ 10          │\n",
       "│ ESE      ┆ DE       ┆ 04       ┆ Otros Sectores                    ┆ 10          │\n",
       "│ ESE      ┆ DE       ┆ 04       ┆ Otras sociedades financieras      ┆ 10          │\n",
       "│ ESE      ┆ DE       ┆ 04       ┆ Deuda externa total a corto plaz… ┆ 1           │\n",
       "└──────────┴──────────┴──────────┴───────────────────────────────────┴─────────────┘"
      ]
     },
     "execution_count": 95,
     "metadata": {},
     "output_type": "execute_result"
    }
   ],
   "source": [
    "res_nivel_4(\n",
    "    \"ESE\",\"DE\",\n",
    "    \"Niv_Gr_3\",\n",
    "    \"04\",\n",
    "    \"Niv_Descr_1\")"
   ]
  },
  {
   "cell_type": "markdown",
   "id": "2cf8e388",
   "metadata": {},
   "source": [
    "* A corto plazo según el vencimiento original\n",
    "* A largo plazo exigible dentro de un año o antes\n",
    "* Deuda externa total a corto plazo\n"
   ]
  },
  {
   "cell_type": "code",
   "execution_count": 96,
   "id": "b8a4e7af",
   "metadata": {},
   "outputs": [
    {
     "name": "stderr",
     "output_type": "stream",
     "text": [
      "<string>:29: FutureWarning:\n",
      "\n",
      "Passing literal json to 'read_json' is deprecated and will be removed in a future version. To read from a literal string, wrap it in a 'StringIO' object.\n",
      "\n"
     ]
    },
    {
     "data": {
      "text/html": [
       "<div><style>\n",
       ".dataframe > thead > tr,\n",
       ".dataframe > tbody > tr {\n",
       "  text-align: right;\n",
       "  white-space: pre-wrap;\n",
       "}\n",
       "</style>\n",
       "<small>shape: (3, 5)</small><table border=\"1\" class=\"dataframe\"><thead><tr><th>Niv_Gr_1</th><th>Niv_Gr_2</th><th>Niv_Gr_3</th><th>Niv_Descr_2</th><th>N_Variables</th></tr><tr><td>str</td><td>str</td><td>str</td><td>str</td><td>u32</td></tr></thead><tbody><tr><td>&quot;ESE&quot;</td><td>&quot;DE&quot;</td><td>&quot;04&quot;</td><td>&quot;A corto plazo …</td><td>27</td></tr><tr><td>&quot;ESE&quot;</td><td>&quot;DE&quot;</td><td>&quot;04&quot;</td><td>&quot;A largo plazo …</td><td>27</td></tr><tr><td>&quot;ESE&quot;</td><td>&quot;DE&quot;</td><td>&quot;04&quot;</td><td>&quot;Deuda externa …</td><td>1</td></tr></tbody></table></div>"
      ],
      "text/plain": [
       "shape: (3, 5)\n",
       "┌──────────┬──────────┬──────────┬───────────────────────────────────┬─────────────┐\n",
       "│ Niv_Gr_1 ┆ Niv_Gr_2 ┆ Niv_Gr_3 ┆ Niv_Descr_2                       ┆ N_Variables │\n",
       "│ ---      ┆ ---      ┆ ---      ┆ ---                               ┆ ---         │\n",
       "│ str      ┆ str      ┆ str      ┆ str                               ┆ u32         │\n",
       "╞══════════╪══════════╪══════════╪═══════════════════════════════════╪═════════════╡\n",
       "│ ESE      ┆ DE       ┆ 04       ┆ A corto plazo según el vencimien… ┆ 27          │\n",
       "│ ESE      ┆ DE       ┆ 04       ┆ A largo plazo exigible dentro de… ┆ 27          │\n",
       "│ ESE      ┆ DE       ┆ 04       ┆ Deuda externa total a corto plaz… ┆ 1           │\n",
       "└──────────┴──────────┴──────────┴───────────────────────────────────┴─────────────┘"
      ]
     },
     "execution_count": 96,
     "metadata": {},
     "output_type": "execute_result"
    }
   ],
   "source": [
    "res_nivel_4(\n",
    "    \"ESE\",\"DE\",\n",
    "    \"Niv_Gr_3\",\n",
    "    \"04\",\n",
    "    \"Niv_Descr_2\")"
   ]
  },
  {
   "cell_type": "markdown",
   "id": "584ecce0",
   "metadata": {},
   "source": [
    "* Asignación de Derechos especiales de giro\n",
    "* Moneda y depósitos\n",
    "* Tí­tulos de deuda\n",
    "* Préstamos\n",
    "* Créditos y anticipos comerciales\n",
    "* Otros pasivos de deuda\n",
    "* Deuda externa total a corto plazo (según el vencimiento residual)\n"
   ]
  },
  {
   "cell_type": "code",
   "execution_count": 97,
   "id": "6f939e07",
   "metadata": {},
   "outputs": [
    {
     "name": "stderr",
     "output_type": "stream",
     "text": [
      "<string>:29: FutureWarning:\n",
      "\n",
      "Passing literal json to 'read_json' is deprecated and will be removed in a future version. To read from a literal string, wrap it in a 'StringIO' object.\n",
      "\n"
     ]
    },
    {
     "data": {
      "text/html": [
       "<div><style>\n",
       ".dataframe > thead > tr,\n",
       ".dataframe > tbody > tr {\n",
       "  text-align: right;\n",
       "  white-space: pre-wrap;\n",
       "}\n",
       "</style>\n",
       "<small>shape: (7, 5)</small><table border=\"1\" class=\"dataframe\"><thead><tr><th>Niv_Gr_1</th><th>Niv_Gr_2</th><th>Niv_Gr_3</th><th>Niv_Descr_3</th><th>N_Variables</th></tr><tr><td>str</td><td>str</td><td>str</td><td>str</td><td>u32</td></tr></thead><tbody><tr><td>&quot;ESE&quot;</td><td>&quot;DE&quot;</td><td>&quot;04&quot;</td><td>&quot;Otros pasivos …</td><td>10</td></tr><tr><td>&quot;ESE&quot;</td><td>&quot;DE&quot;</td><td>&quot;04&quot;</td><td>&quot;Créditos y ant…</td><td>10</td></tr><tr><td>&quot;ESE&quot;</td><td>&quot;DE&quot;</td><td>&quot;04&quot;</td><td>&quot;Moneda y depós…</td><td>10</td></tr><tr><td>&quot;ESE&quot;</td><td>&quot;DE&quot;</td><td>&quot;04&quot;</td><td>&quot;Títulos de deu…</td><td>10</td></tr><tr><td>&quot;ESE&quot;</td><td>&quot;DE&quot;</td><td>&quot;04&quot;</td><td>&quot;Préstamos&quot;</td><td>10</td></tr><tr><td>&quot;ESE&quot;</td><td>&quot;DE&quot;</td><td>&quot;04&quot;</td><td>&quot;Asignación de …</td><td>4</td></tr><tr><td>&quot;ESE&quot;</td><td>&quot;DE&quot;</td><td>&quot;04&quot;</td><td>&quot;Deuda externa …</td><td>1</td></tr></tbody></table></div>"
      ],
      "text/plain": [
       "shape: (7, 5)\n",
       "┌──────────┬──────────┬──────────┬───────────────────────────────────┬─────────────┐\n",
       "│ Niv_Gr_1 ┆ Niv_Gr_2 ┆ Niv_Gr_3 ┆ Niv_Descr_3                       ┆ N_Variables │\n",
       "│ ---      ┆ ---      ┆ ---      ┆ ---                               ┆ ---         │\n",
       "│ str      ┆ str      ┆ str      ┆ str                               ┆ u32         │\n",
       "╞══════════╪══════════╪══════════╪═══════════════════════════════════╪═════════════╡\n",
       "│ ESE      ┆ DE       ┆ 04       ┆ Otros pasivos de deuda            ┆ 10          │\n",
       "│ ESE      ┆ DE       ┆ 04       ┆ Créditos y anticipos comerciales  ┆ 10          │\n",
       "│ ESE      ┆ DE       ┆ 04       ┆ Moneda y depósitos                ┆ 10          │\n",
       "│ ESE      ┆ DE       ┆ 04       ┆ Títulos de deuda                  ┆ 10          │\n",
       "│ ESE      ┆ DE       ┆ 04       ┆ Préstamos                         ┆ 10          │\n",
       "│ ESE      ┆ DE       ┆ 04       ┆ Asignación de Derechos especiale… ┆ 4           │\n",
       "│ ESE      ┆ DE       ┆ 04       ┆ Deuda externa total a corto plaz… ┆ 1           │\n",
       "└──────────┴──────────┴──────────┴───────────────────────────────────┴─────────────┘"
      ]
     },
     "execution_count": 97,
     "metadata": {},
     "output_type": "execute_result"
    }
   ],
   "source": [
    "res_nivel_4(\n",
    "    \"ESE\",\"DE\",\n",
    "    \"Niv_Gr_3\",\n",
    "    \"04\",\n",
    "    \"Niv_Descr_3\")"
   ]
  },
  {
   "cell_type": "markdown",
   "id": "ed0b2a02",
   "metadata": {},
   "source": [
    "Para ver todas las variables:\n"
   ]
  },
  {
   "cell_type": "code",
   "execution_count": 98,
   "id": "110e02e3",
   "metadata": {},
   "outputs": [
    {
     "name": "stderr",
     "output_type": "stream",
     "text": [
      "<string>:29: FutureWarning:\n",
      "\n",
      "Passing literal json to 'read_json' is deprecated and will be removed in a future version. To read from a literal string, wrap it in a 'StringIO' object.\n",
      "\n"
     ]
    },
    {
     "data": {
      "text/html": [
       "<div><style>\n",
       ".dataframe > thead > tr,\n",
       ".dataframe > tbody > tr {\n",
       "  text-align: right;\n",
       "  white-space: pre-wrap;\n",
       "}\n",
       "</style>\n",
       "<small>shape: (55, 8)</small><table border=\"1\" class=\"dataframe\"><thead><tr><th>Niv_Gr_1</th><th>Niv_Gr_2</th><th>Niv_Gr_3</th><th>Id</th><th>Niv_Descr_1</th><th>Niv_Descr_2</th><th>Niv_Descr_3</th><th>N_Variables</th></tr><tr><td>str</td><td>str</td><td>str</td><td>i64</td><td>str</td><td>str</td><td>str</td><td>u32</td></tr></thead><tbody><tr><td>&quot;ESE&quot;</td><td>&quot;DE&quot;</td><td>&quot;04&quot;</td><td>7392</td><td>&quot;Gobierno gener…</td><td>&quot;A corto plazo …</td><td>&quot;Asignación de …</td><td>1</td></tr><tr><td>&quot;ESE&quot;</td><td>&quot;DE&quot;</td><td>&quot;04&quot;</td><td>7393</td><td>&quot;Gobierno gener…</td><td>&quot;A corto plazo …</td><td>&quot;Moneda y depós…</td><td>1</td></tr><tr><td>&quot;ESE&quot;</td><td>&quot;DE&quot;</td><td>&quot;04&quot;</td><td>7394</td><td>&quot;Gobierno gener…</td><td>&quot;A corto plazo …</td><td>&quot;Títulos de deu…</td><td>1</td></tr><tr><td>&quot;ESE&quot;</td><td>&quot;DE&quot;</td><td>&quot;04&quot;</td><td>7395</td><td>&quot;Gobierno gener…</td><td>&quot;A corto plazo …</td><td>&quot;Préstamos&quot;</td><td>1</td></tr><tr><td>&quot;ESE&quot;</td><td>&quot;DE&quot;</td><td>&quot;04&quot;</td><td>7396</td><td>&quot;Gobierno gener…</td><td>&quot;A corto plazo …</td><td>&quot;Créditos y ant…</td><td>1</td></tr><tr><td>&hellip;</td><td>&hellip;</td><td>&hellip;</td><td>&hellip;</td><td>&hellip;</td><td>&hellip;</td><td>&hellip;</td><td>&hellip;</td></tr><tr><td>&quot;ESE&quot;</td><td>&quot;DE&quot;</td><td>&quot;04&quot;</td><td>7442</td><td>&quot;Sociedades no …</td><td>&quot;A largo plazo …</td><td>&quot;Títulos de deu…</td><td>1</td></tr><tr><td>&quot;ESE&quot;</td><td>&quot;DE&quot;</td><td>&quot;04&quot;</td><td>7443</td><td>&quot;Sociedades no …</td><td>&quot;A largo plazo …</td><td>&quot;Préstamos&quot;</td><td>1</td></tr><tr><td>&quot;ESE&quot;</td><td>&quot;DE&quot;</td><td>&quot;04&quot;</td><td>7444</td><td>&quot;Sociedades no …</td><td>&quot;A largo plazo …</td><td>&quot;Créditos y ant…</td><td>1</td></tr><tr><td>&quot;ESE&quot;</td><td>&quot;DE&quot;</td><td>&quot;04&quot;</td><td>7445</td><td>&quot;Sociedades no …</td><td>&quot;A largo plazo …</td><td>&quot;Otros pasivos …</td><td>1</td></tr><tr><td>&quot;ESE&quot;</td><td>&quot;DE&quot;</td><td>&quot;04&quot;</td><td>7446</td><td>&quot;Deuda externa …</td><td>&quot;Deuda externa …</td><td>&quot;Deuda externa …</td><td>1</td></tr></tbody></table></div>"
      ],
      "text/plain": [
       "shape: (55, 8)\n",
       "┌──────────┬──────────┬──────────┬──────┬──────────────┬──────────────┬──────────────┬─────────────┐\n",
       "│ Niv_Gr_1 ┆ Niv_Gr_2 ┆ Niv_Gr_3 ┆ Id   ┆ Niv_Descr_1  ┆ Niv_Descr_2  ┆ Niv_Descr_3  ┆ N_Variables │\n",
       "│ ---      ┆ ---      ┆ ---      ┆ ---  ┆ ---          ┆ ---          ┆ ---          ┆ ---         │\n",
       "│ str      ┆ str      ┆ str      ┆ i64  ┆ str          ┆ str          ┆ str          ┆ u32         │\n",
       "╞══════════╪══════════╪══════════╪══════╪══════════════╪══════════════╪══════════════╪═════════════╡\n",
       "│ ESE      ┆ DE       ┆ 04       ┆ 7392 ┆ Gobierno     ┆ A corto      ┆ Asignación   ┆ 1           │\n",
       "│          ┆          ┆          ┆      ┆ general      ┆ plazo según  ┆ de Derechos  ┆             │\n",
       "│          ┆          ┆          ┆      ┆              ┆ el           ┆ especiale…   ┆             │\n",
       "│          ┆          ┆          ┆      ┆              ┆ vencimien…   ┆              ┆             │\n",
       "│ ESE      ┆ DE       ┆ 04       ┆ 7393 ┆ Gobierno     ┆ A corto      ┆ Moneda y     ┆ 1           │\n",
       "│          ┆          ┆          ┆      ┆ general      ┆ plazo según  ┆ depósitos    ┆             │\n",
       "│          ┆          ┆          ┆      ┆              ┆ el           ┆              ┆             │\n",
       "│          ┆          ┆          ┆      ┆              ┆ vencimien…   ┆              ┆             │\n",
       "│ ESE      ┆ DE       ┆ 04       ┆ 7394 ┆ Gobierno     ┆ A corto      ┆ Títulos de   ┆ 1           │\n",
       "│          ┆          ┆          ┆      ┆ general      ┆ plazo según  ┆ deuda        ┆             │\n",
       "│          ┆          ┆          ┆      ┆              ┆ el           ┆              ┆             │\n",
       "│          ┆          ┆          ┆      ┆              ┆ vencimien…   ┆              ┆             │\n",
       "│ ESE      ┆ DE       ┆ 04       ┆ 7395 ┆ Gobierno     ┆ A corto      ┆ Préstamos    ┆ 1           │\n",
       "│          ┆          ┆          ┆      ┆ general      ┆ plazo según  ┆              ┆             │\n",
       "│          ┆          ┆          ┆      ┆              ┆ el           ┆              ┆             │\n",
       "│          ┆          ┆          ┆      ┆              ┆ vencimien…   ┆              ┆             │\n",
       "│ ESE      ┆ DE       ┆ 04       ┆ 7396 ┆ Gobierno     ┆ A corto      ┆ Créditos y   ┆ 1           │\n",
       "│          ┆          ┆          ┆      ┆ general      ┆ plazo según  ┆ anticipos    ┆             │\n",
       "│          ┆          ┆          ┆      ┆              ┆ el           ┆ comerciales  ┆             │\n",
       "│          ┆          ┆          ┆      ┆              ┆ vencimien…   ┆              ┆             │\n",
       "│ …        ┆ …        ┆ …        ┆ …    ┆ …            ┆ …            ┆ …            ┆ …           │\n",
       "│ ESE      ┆ DE       ┆ 04       ┆ 7442 ┆ Sociedades   ┆ A largo      ┆ Títulos de   ┆ 1           │\n",
       "│          ┆          ┆          ┆      ┆ no           ┆ plazo        ┆ deuda        ┆             │\n",
       "│          ┆          ┆          ┆      ┆ financieras  ┆ exigible     ┆              ┆             │\n",
       "│          ┆          ┆          ┆      ┆              ┆ dentro de…   ┆              ┆             │\n",
       "│ ESE      ┆ DE       ┆ 04       ┆ 7443 ┆ Sociedades   ┆ A largo      ┆ Préstamos    ┆ 1           │\n",
       "│          ┆          ┆          ┆      ┆ no           ┆ plazo        ┆              ┆             │\n",
       "│          ┆          ┆          ┆      ┆ financieras  ┆ exigible     ┆              ┆             │\n",
       "│          ┆          ┆          ┆      ┆              ┆ dentro de…   ┆              ┆             │\n",
       "│ ESE      ┆ DE       ┆ 04       ┆ 7444 ┆ Sociedades   ┆ A largo      ┆ Créditos y   ┆ 1           │\n",
       "│          ┆          ┆          ┆      ┆ no           ┆ plazo        ┆ anticipos    ┆             │\n",
       "│          ┆          ┆          ┆      ┆ financieras  ┆ exigible     ┆ comerciales  ┆             │\n",
       "│          ┆          ┆          ┆      ┆              ┆ dentro de…   ┆              ┆             │\n",
       "│ ESE      ┆ DE       ┆ 04       ┆ 7445 ┆ Sociedades   ┆ A largo      ┆ Otros        ┆ 1           │\n",
       "│          ┆          ┆          ┆      ┆ no           ┆ plazo        ┆ pasivos de   ┆             │\n",
       "│          ┆          ┆          ┆      ┆ financieras  ┆ exigible     ┆ deuda        ┆             │\n",
       "│          ┆          ┆          ┆      ┆              ┆ dentro de…   ┆              ┆             │\n",
       "│ ESE      ┆ DE       ┆ 04       ┆ 7446 ┆ Deuda        ┆ Deuda        ┆ Deuda        ┆ 1           │\n",
       "│          ┆          ┆          ┆      ┆ externa      ┆ externa      ┆ externa      ┆             │\n",
       "│          ┆          ┆          ┆      ┆ total a      ┆ total a      ┆ total a      ┆             │\n",
       "│          ┆          ┆          ┆      ┆ corto plaz…  ┆ corto plaz…  ┆ corto plaz…  ┆             │\n",
       "└──────────┴──────────┴──────────┴──────┴──────────────┴──────────────┴──────────────┴─────────────┘"
      ]
     },
     "execution_count": 98,
     "metadata": {},
     "output_type": "execute_result"
    }
   ],
   "source": [
    "res_nivel_7(\n",
    "    \"ESE\",\"DE\",\n",
    "    \"Niv_Gr_3\",\n",
    "    \"04\",\n",
    "    \"Id\",\"Niv_Descr_1\",\"Niv_Descr_2\",\"Niv_Descr_3\").sort(\"Id\")"
   ]
  },
  {
   "cell_type": "markdown",
   "id": "d934aff1",
   "metadata": {},
   "source": [
    "**OJO: REVISAR LA CONSULTA A PARTIR DE 7392 HASTA 7446**\n",
    "\n",
    "Resultados de una sola variable:\n"
   ]
  },
  {
   "cell_type": "code",
   "execution_count": 99,
   "id": "cd709839",
   "metadata": {},
   "outputs": [
    {
     "name": "stderr",
     "output_type": "stream",
     "text": [
      "<string>:29: FutureWarning:\n",
      "\n",
      "Passing literal json to 'read_json' is deprecated and will be removed in a future version. To read from a literal string, wrap it in a 'StringIO' object.\n",
      "\n"
     ]
    },
    {
     "name": "stderr",
     "output_type": "stream",
     "text": [
      "<string>:29: FutureWarning:\n",
      "\n",
      "Passing literal json to 'read_json' is deprecated and will be removed in a future version. To read from a literal string, wrap it in a 'StringIO' object.\n",
      "\n"
     ]
    },
    {
     "data": {
      "text/html": [
       "<div><style>\n",
       ".dataframe > thead > tr,\n",
       ".dataframe > tbody > tr {\n",
       "  text-align: right;\n",
       "  white-space: pre-wrap;\n",
       "}\n",
       "</style>\n",
       "<small>shape: (20, 2)</small><table border=\"1\" class=\"dataframe\"><thead><tr><th>Fecha</th><th>Consumo Intermedio-Actividades Inmobiliarias y Empresariales-Economía Total</th></tr><tr><td>date</td><td>f64</td></tr></thead><tbody><tr><td>2019-01-01</td><td>7775.6</td></tr><tr><td>2018-01-01</td><td>7224.4</td></tr><tr><td>2017-01-01</td><td>6647.1</td></tr><tr><td>2016-01-01</td><td>6028.2</td></tr><tr><td>2015-01-01</td><td>5587.1</td></tr><tr><td>&hellip;</td><td>&hellip;</td></tr><tr><td>2004-01-01</td><td>2002.3782</td></tr><tr><td>2003-01-01</td><td>1700.5176</td></tr><tr><td>2002-01-01</td><td>1405.3519</td></tr><tr><td>2001-01-01</td><td>1308.8859</td></tr><tr><td>2000-01-01</td><td>1151.179</td></tr></tbody></table></div>"
      ],
      "text/plain": [
       "shape: (20, 2)\n",
       "┌────────────┬───────────────────────────────────┐\n",
       "│ Fecha      ┆ Consumo Intermedio-Actividades I… │\n",
       "│ ---        ┆ ---                               │\n",
       "│ date       ┆ f64                               │\n",
       "╞════════════╪═══════════════════════════════════╡\n",
       "│ 2019-01-01 ┆ 7775.6                            │\n",
       "│ 2018-01-01 ┆ 7224.4                            │\n",
       "│ 2017-01-01 ┆ 6647.1                            │\n",
       "│ 2016-01-01 ┆ 6028.2                            │\n",
       "│ 2015-01-01 ┆ 5587.1                            │\n",
       "│ …          ┆ …                                 │\n",
       "│ 2004-01-01 ┆ 2002.3782                         │\n",
       "│ 2003-01-01 ┆ 1700.5176                         │\n",
       "│ 2002-01-01 ┆ 1405.3519                         │\n",
       "│ 2001-01-01 ┆ 1308.8859                         │\n",
       "│ 2000-01-01 ┆ 1151.179                          │\n",
       "└────────────┴───────────────────────────────────┘"
      ]
     },
     "execution_count": 99,
     "metadata": {},
     "output_type": "execute_result"
    }
   ],
   "source": [
    "Id = 7447 # 7392 - 7446\n",
    "df = get_df(Id)\n",
    "# get_plot(Id)\n",
    "df"
   ]
  },
  {
   "cell_type": "markdown",
   "id": "257563d9",
   "metadata": {},
   "source": [
    "#### CEB = Comercio Exterior de Bienes\n"
   ]
  },
  {
   "cell_type": "code",
   "execution_count": 100,
   "id": "eb027de4",
   "metadata": {},
   "outputs": [
    {
     "name": "stdout",
     "output_type": "stream",
     "text": [
      "4 subgrupos\n",
      "339 variables\n"
     ]
    },
    {
     "name": "stderr",
     "output_type": "stream",
     "text": [
      "<string>:29: FutureWarning:\n",
      "\n",
      "Passing literal json to 'read_json' is deprecated and will be removed in a future version. To read from a literal string, wrap it in a 'StringIO' object.\n",
      "\n"
     ]
    },
    {
     "data": {
      "text/html": [
       "<div><style>\n",
       ".dataframe > thead > tr,\n",
       ".dataframe > tbody > tr {\n",
       "  text-align: right;\n",
       "  white-space: pre-wrap;\n",
       "}\n",
       "</style>\n",
       "<small>shape: (4, 4)</small><table border=\"1\" class=\"dataframe\"><thead><tr><th>Niv_Gr_1</th><th>Niv_Gr_2</th><th>Niv_Gr_3</th><th>N_Variables</th></tr><tr><td>str</td><td>str</td><td>str</td><td>u32</td></tr></thead><tbody><tr><td>&quot;ESE&quot;</td><td>&quot;CEB&quot;</td><td>&quot;04&quot;</td><td>159</td></tr><tr><td>&quot;ESE&quot;</td><td>&quot;CEB&quot;</td><td>&quot;03&quot;</td><td>93</td></tr><tr><td>&quot;ESE&quot;</td><td>&quot;CEB&quot;</td><td>&quot;01&quot;</td><td>66</td></tr><tr><td>&quot;ESE&quot;</td><td>&quot;CEB&quot;</td><td>&quot;02&quot;</td><td>21</td></tr></tbody></table></div>"
      ],
      "text/plain": [
       "shape: (4, 4)\n",
       "┌──────────┬──────────┬──────────┬─────────────┐\n",
       "│ Niv_Gr_1 ┆ Niv_Gr_2 ┆ Niv_Gr_3 ┆ N_Variables │\n",
       "│ ---      ┆ ---      ┆ ---      ┆ ---         │\n",
       "│ str      ┆ str      ┆ str      ┆ u32         │\n",
       "╞══════════╪══════════╪══════════╪═════════════╡\n",
       "│ ESE      ┆ CEB      ┆ 04       ┆ 159         │\n",
       "│ ESE      ┆ CEB      ┆ 03       ┆ 93          │\n",
       "│ ESE      ┆ CEB      ┆ 01       ┆ 66          │\n",
       "│ ESE      ┆ CEB      ┆ 02       ┆ 21          │\n",
       "└──────────┴──────────┴──────────┴─────────────┘"
      ]
     },
     "execution_count": 100,
     "metadata": {},
     "output_type": "execute_result"
    }
   ],
   "source": [
    "res_nivel_3(\"ESE\",\"CEB\",\"Niv_Gr_3\")"
   ]
  },
  {
   "cell_type": "markdown",
   "id": "69629a38",
   "metadata": {},
   "source": [
    "##### 01 - Productos\n",
    "\n",
    "* Banano\n",
    "* Café\n",
    "* Aceite de Palma\n",
    "* Camarones\n",
    "* Melones y Sandí­as\n",
    "* Legumbres y Hortalizas\n",
    "* Puros o Cigarros\n",
    "* Textiles\n",
    "* Jabones\n",
    "* Plásticos y su Manufacturas\n",
    "* Papel y Cartón\n"
   ]
  },
  {
   "cell_type": "code",
   "execution_count": 101,
   "id": "6cb6ae9c",
   "metadata": {},
   "outputs": [
    {
     "name": "stderr",
     "output_type": "stream",
     "text": [
      "<string>:29: FutureWarning:\n",
      "\n",
      "Passing literal json to 'read_json' is deprecated and will be removed in a future version. To read from a literal string, wrap it in a 'StringIO' object.\n",
      "\n"
     ]
    },
    {
     "data": {
      "text/html": [
       "<div><style>\n",
       ".dataframe > thead > tr,\n",
       ".dataframe > tbody > tr {\n",
       "  text-align: right;\n",
       "  white-space: pre-wrap;\n",
       "}\n",
       "</style>\n",
       "<small>shape: (11, 5)</small><table border=\"1\" class=\"dataframe\"><thead><tr><th>Niv_Gr_1</th><th>Niv_Gr_2</th><th>Niv_Gr_3</th><th>Niv_Descr_5</th><th>N_Variables</th></tr><tr><td>str</td><td>str</td><td>str</td><td>str</td><td>u32</td></tr></thead><tbody><tr><td>&quot;ESE&quot;</td><td>&quot;CEB&quot;</td><td>&quot;01&quot;</td><td>&quot;Café&quot;</td><td>6</td></tr><tr><td>&quot;ESE&quot;</td><td>&quot;CEB&quot;</td><td>&quot;01&quot;</td><td>&quot;Banano&quot;</td><td>6</td></tr><tr><td>&quot;ESE&quot;</td><td>&quot;CEB&quot;</td><td>&quot;01&quot;</td><td>&quot;Camarones&quot;</td><td>6</td></tr><tr><td>&quot;ESE&quot;</td><td>&quot;CEB&quot;</td><td>&quot;01&quot;</td><td>&quot;Aceite de Palm…</td><td>6</td></tr><tr><td>&quot;ESE&quot;</td><td>&quot;CEB&quot;</td><td>&quot;01&quot;</td><td>&quot;Melones y Sand…</td><td>6</td></tr><tr><td>&hellip;</td><td>&hellip;</td><td>&hellip;</td><td>&hellip;</td><td>&hellip;</td></tr><tr><td>&quot;ESE&quot;</td><td>&quot;CEB&quot;</td><td>&quot;01&quot;</td><td>&quot;Jabones&quot;</td><td>6</td></tr><tr><td>&quot;ESE&quot;</td><td>&quot;CEB&quot;</td><td>&quot;01&quot;</td><td>&quot;Papel y Cartón…</td><td>6</td></tr><tr><td>&quot;ESE&quot;</td><td>&quot;CEB&quot;</td><td>&quot;01&quot;</td><td>&quot;Plásticos y su…</td><td>6</td></tr><tr><td>&quot;ESE&quot;</td><td>&quot;CEB&quot;</td><td>&quot;01&quot;</td><td>&quot;Puros o Cigarr…</td><td>6</td></tr><tr><td>&quot;ESE&quot;</td><td>&quot;CEB&quot;</td><td>&quot;01&quot;</td><td>&quot;Textiles&quot;</td><td>6</td></tr></tbody></table></div>"
      ],
      "text/plain": [
       "shape: (11, 5)\n",
       "┌──────────┬──────────┬──────────┬─────────────────────────────┬─────────────┐\n",
       "│ Niv_Gr_1 ┆ Niv_Gr_2 ┆ Niv_Gr_3 ┆ Niv_Descr_5                 ┆ N_Variables │\n",
       "│ ---      ┆ ---      ┆ ---      ┆ ---                         ┆ ---         │\n",
       "│ str      ┆ str      ┆ str      ┆ str                         ┆ u32         │\n",
       "╞══════════╪══════════╪══════════╪═════════════════════════════╪═════════════╡\n",
       "│ ESE      ┆ CEB      ┆ 01       ┆ Café                        ┆ 6           │\n",
       "│ ESE      ┆ CEB      ┆ 01       ┆ Banano                      ┆ 6           │\n",
       "│ ESE      ┆ CEB      ┆ 01       ┆ Camarones                   ┆ 6           │\n",
       "│ ESE      ┆ CEB      ┆ 01       ┆ Aceite de Palma             ┆ 6           │\n",
       "│ ESE      ┆ CEB      ┆ 01       ┆ Melones y Sandías           ┆ 6           │\n",
       "│ …        ┆ …        ┆ …        ┆ …                           ┆ …           │\n",
       "│ ESE      ┆ CEB      ┆ 01       ┆ Jabones                     ┆ 6           │\n",
       "│ ESE      ┆ CEB      ┆ 01       ┆ Papel y Cartón              ┆ 6           │\n",
       "│ ESE      ┆ CEB      ┆ 01       ┆ Plásticos y su Manufacturas ┆ 6           │\n",
       "│ ESE      ┆ CEB      ┆ 01       ┆ Puros o Cigarros            ┆ 6           │\n",
       "│ ESE      ┆ CEB      ┆ 01       ┆ Textiles                    ┆ 6           │\n",
       "└──────────┴──────────┴──────────┴─────────────────────────────┴─────────────┘"
      ]
     },
     "execution_count": 101,
     "metadata": {},
     "output_type": "execute_result"
    }
   ],
   "source": [
    "res_nivel_4(\n",
    "    \"ESE\",\"CEB\",\n",
    "    \"Niv_Gr_3\",\n",
    "    \"01\",\n",
    "    \"Niv_Descr_5\")"
   ]
  },
  {
   "cell_type": "markdown",
   "id": "00a66438",
   "metadata": {},
   "source": [
    "* Volumen\n",
    "* Valor\n",
    "* Precio\n"
   ]
  },
  {
   "cell_type": "code",
   "execution_count": 102,
   "id": "ea5ea9cf",
   "metadata": {},
   "outputs": [
    {
     "name": "stderr",
     "output_type": "stream",
     "text": [
      "<string>:29: FutureWarning:\n",
      "\n",
      "Passing literal json to 'read_json' is deprecated and will be removed in a future version. To read from a literal string, wrap it in a 'StringIO' object.\n",
      "\n"
     ]
    },
    {
     "data": {
      "text/html": [
       "<div><style>\n",
       ".dataframe > thead > tr,\n",
       ".dataframe > tbody > tr {\n",
       "  text-align: right;\n",
       "  white-space: pre-wrap;\n",
       "}\n",
       "</style>\n",
       "<small>shape: (3, 5)</small><table border=\"1\" class=\"dataframe\"><thead><tr><th>Niv_Gr_1</th><th>Niv_Gr_2</th><th>Niv_Gr_3</th><th>Niv_Descr_6</th><th>N_Variables</th></tr><tr><td>str</td><td>str</td><td>str</td><td>str</td><td>u32</td></tr></thead><tbody><tr><td>&quot;ESE&quot;</td><td>&quot;CEB&quot;</td><td>&quot;01&quot;</td><td>&quot;Precio&quot;</td><td>22</td></tr><tr><td>&quot;ESE&quot;</td><td>&quot;CEB&quot;</td><td>&quot;01&quot;</td><td>&quot;Valor&quot;</td><td>22</td></tr><tr><td>&quot;ESE&quot;</td><td>&quot;CEB&quot;</td><td>&quot;01&quot;</td><td>&quot;Volumen&quot;</td><td>22</td></tr></tbody></table></div>"
      ],
      "text/plain": [
       "shape: (3, 5)\n",
       "┌──────────┬──────────┬──────────┬─────────────┬─────────────┐\n",
       "│ Niv_Gr_1 ┆ Niv_Gr_2 ┆ Niv_Gr_3 ┆ Niv_Descr_6 ┆ N_Variables │\n",
       "│ ---      ┆ ---      ┆ ---      ┆ ---         ┆ ---         │\n",
       "│ str      ┆ str      ┆ str      ┆ str         ┆ u32         │\n",
       "╞══════════╪══════════╪══════════╪═════════════╪═════════════╡\n",
       "│ ESE      ┆ CEB      ┆ 01       ┆ Precio      ┆ 22          │\n",
       "│ ESE      ┆ CEB      ┆ 01       ┆ Valor       ┆ 22          │\n",
       "│ ESE      ┆ CEB      ┆ 01       ┆ Volumen     ┆ 22          │\n",
       "└──────────┴──────────┴──────────┴─────────────┴─────────────┘"
      ]
     },
     "execution_count": 102,
     "metadata": {},
     "output_type": "execute_result"
    }
   ],
   "source": [
    "res_nivel_4(\n",
    "    \"ESE\",\"CEB\",\n",
    "    \"Niv_Gr_3\",\n",
    "    \"01\",\n",
    "    \"Niv_Descr_6\")"
   ]
  },
  {
   "cell_type": "markdown",
   "id": "33c59cb5",
   "metadata": {},
   "source": [
    "* Trimestral\n",
    "* Anual\n"
   ]
  },
  {
   "cell_type": "code",
   "execution_count": 103,
   "id": "ac18504d",
   "metadata": {},
   "outputs": [
    {
     "name": "stderr",
     "output_type": "stream",
     "text": [
      "<string>:29: FutureWarning:\n",
      "\n",
      "Passing literal json to 'read_json' is deprecated and will be removed in a future version. To read from a literal string, wrap it in a 'StringIO' object.\n",
      "\n"
     ]
    },
    {
     "data": {
      "text/html": [
       "<div><style>\n",
       ".dataframe > thead > tr,\n",
       ".dataframe > tbody > tr {\n",
       "  text-align: right;\n",
       "  white-space: pre-wrap;\n",
       "}\n",
       "</style>\n",
       "<small>shape: (2, 5)</small><table border=\"1\" class=\"dataframe\"><thead><tr><th>Niv_Gr_1</th><th>Niv_Gr_2</th><th>Niv_Gr_3</th><th>Niv_Descr_7</th><th>N_Variables</th></tr><tr><td>str</td><td>str</td><td>str</td><td>str</td><td>u32</td></tr></thead><tbody><tr><td>&quot;ESE&quot;</td><td>&quot;CEB&quot;</td><td>&quot;01&quot;</td><td>&quot;Anual&quot;</td><td>33</td></tr><tr><td>&quot;ESE&quot;</td><td>&quot;CEB&quot;</td><td>&quot;01&quot;</td><td>&quot;Trimestral&quot;</td><td>33</td></tr></tbody></table></div>"
      ],
      "text/plain": [
       "shape: (2, 5)\n",
       "┌──────────┬──────────┬──────────┬─────────────┬─────────────┐\n",
       "│ Niv_Gr_1 ┆ Niv_Gr_2 ┆ Niv_Gr_3 ┆ Niv_Descr_7 ┆ N_Variables │\n",
       "│ ---      ┆ ---      ┆ ---      ┆ ---         ┆ ---         │\n",
       "│ str      ┆ str      ┆ str      ┆ str         ┆ u32         │\n",
       "╞══════════╪══════════╪══════════╪═════════════╪═════════════╡\n",
       "│ ESE      ┆ CEB      ┆ 01       ┆ Anual       ┆ 33          │\n",
       "│ ESE      ┆ CEB      ┆ 01       ┆ Trimestral  ┆ 33          │\n",
       "└──────────┴──────────┴──────────┴─────────────┴─────────────┘"
      ]
     },
     "execution_count": 103,
     "metadata": {},
     "output_type": "execute_result"
    }
   ],
   "source": [
    "res_nivel_4(\n",
    "    \"ESE\",\"CEB\",\n",
    "    \"Niv_Gr_3\",\n",
    "    \"01\",\n",
    "    \"Niv_Descr_7\")"
   ]
  },
  {
   "cell_type": "markdown",
   "id": "ed8a88ee",
   "metadata": {},
   "source": [
    "**OJO: \"Niv_Descr_7\" y \"Niv_Descr_8\" son iguales**\n",
    "\n",
    "Para ver todas las variables:\n"
   ]
  },
  {
   "cell_type": "code",
   "execution_count": 104,
   "id": "d3d0ea7e",
   "metadata": {},
   "outputs": [
    {
     "name": "stderr",
     "output_type": "stream",
     "text": [
      "<string>:29: FutureWarning:\n",
      "\n",
      "Passing literal json to 'read_json' is deprecated and will be removed in a future version. To read from a literal string, wrap it in a 'StringIO' object.\n",
      "\n"
     ]
    },
    {
     "data": {
      "text/html": [
       "<div><style>\n",
       ".dataframe > thead > tr,\n",
       ".dataframe > tbody > tr {\n",
       "  text-align: right;\n",
       "  white-space: pre-wrap;\n",
       "}\n",
       "</style>\n",
       "<small>shape: (66, 8)</small><table border=\"1\" class=\"dataframe\"><thead><tr><th>Niv_Gr_1</th><th>Niv_Gr_2</th><th>Niv_Gr_3</th><th>Id</th><th>Niv_Descr_5</th><th>Niv_Descr_6</th><th>Niv_Descr_7</th><th>N_Variables</th></tr><tr><td>str</td><td>str</td><td>str</td><td>i64</td><td>str</td><td>str</td><td>str</td><td>u32</td></tr></thead><tbody><tr><td>&quot;ESE&quot;</td><td>&quot;CEB&quot;</td><td>&quot;01&quot;</td><td>453</td><td>&quot;Puros o Cigarr…</td><td>&quot;Volumen&quot;</td><td>&quot;Trimestral&quot;</td><td>1</td></tr><tr><td>&quot;ESE&quot;</td><td>&quot;CEB&quot;</td><td>&quot;01&quot;</td><td>476</td><td>&quot;Papel y Cartón…</td><td>&quot;Volumen&quot;</td><td>&quot;Anual&quot;</td><td>1</td></tr><tr><td>&quot;ESE&quot;</td><td>&quot;CEB&quot;</td><td>&quot;01&quot;</td><td>423</td><td>&quot;Café&quot;</td><td>&quot;Volumen&quot;</td><td>&quot;Trimestral&quot;</td><td>1</td></tr><tr><td>&quot;ESE&quot;</td><td>&quot;CEB&quot;</td><td>&quot;01&quot;</td><td>431</td><td>&quot;Aceite de Palm…</td><td>&quot;Precio&quot;</td><td>&quot;Trimestral&quot;</td><td>1</td></tr><tr><td>&quot;ESE&quot;</td><td>&quot;CEB&quot;</td><td>&quot;01&quot;</td><td>436</td><td>&quot;Camarones&quot;</td><td>&quot;Precio&quot;</td><td>&quot;Anual&quot;</td><td>1</td></tr><tr><td>&hellip;</td><td>&hellip;</td><td>&hellip;</td><td>&hellip;</td><td>&hellip;</td><td>&hellip;</td><td>&hellip;</td><td>&hellip;</td></tr><tr><td>&quot;ESE&quot;</td><td>&quot;CEB&quot;</td><td>&quot;01&quot;</td><td>455</td><td>&quot;Puros o Cigarr…</td><td>&quot;Precio&quot;</td><td>&quot;Anual&quot;</td><td>1</td></tr><tr><td>&quot;ESE&quot;</td><td>&quot;CEB&quot;</td><td>&quot;01&quot;</td><td>456</td><td>&quot;Textiles&quot;</td><td>&quot;Valor&quot;</td><td>&quot;Anual&quot;</td><td>1</td></tr><tr><td>&quot;ESE&quot;</td><td>&quot;CEB&quot;</td><td>&quot;01&quot;</td><td>460</td><td>&quot;Textiles&quot;</td><td>&quot;Precio&quot;</td><td>&quot;Anual&quot;</td><td>1</td></tr><tr><td>&quot;ESE&quot;</td><td>&quot;CEB&quot;</td><td>&quot;01&quot;</td><td>462</td><td>&quot;Jabones&quot;</td><td>&quot;Valor&quot;</td><td>&quot;Trimestral&quot;</td><td>1</td></tr><tr><td>&quot;ESE&quot;</td><td>&quot;CEB&quot;</td><td>&quot;01&quot;</td><td>475</td><td>&quot;Papel y Cartón…</td><td>&quot;Valor&quot;</td><td>&quot;Anual&quot;</td><td>1</td></tr></tbody></table></div>"
      ],
      "text/plain": [
       "shape: (66, 8)\n",
       "┌──────────┬──────────┬──────────┬─────┬─────────────────┬─────────────┬─────────────┬─────────────┐\n",
       "│ Niv_Gr_1 ┆ Niv_Gr_2 ┆ Niv_Gr_3 ┆ Id  ┆ Niv_Descr_5     ┆ Niv_Descr_6 ┆ Niv_Descr_7 ┆ N_Variables │\n",
       "│ ---      ┆ ---      ┆ ---      ┆ --- ┆ ---             ┆ ---         ┆ ---         ┆ ---         │\n",
       "│ str      ┆ str      ┆ str      ┆ i64 ┆ str             ┆ str         ┆ str         ┆ u32         │\n",
       "╞══════════╪══════════╪══════════╪═════╪═════════════════╪═════════════╪═════════════╪═════════════╡\n",
       "│ ESE      ┆ CEB      ┆ 01       ┆ 453 ┆ Puros o         ┆ Volumen     ┆ Trimestral  ┆ 1           │\n",
       "│          ┆          ┆          ┆     ┆ Cigarros        ┆             ┆             ┆             │\n",
       "│ ESE      ┆ CEB      ┆ 01       ┆ 476 ┆ Papel y Cartón  ┆ Volumen     ┆ Anual       ┆ 1           │\n",
       "│ ESE      ┆ CEB      ┆ 01       ┆ 423 ┆ Café            ┆ Volumen     ┆ Trimestral  ┆ 1           │\n",
       "│ ESE      ┆ CEB      ┆ 01       ┆ 431 ┆ Aceite de Palma ┆ Precio      ┆ Trimestral  ┆ 1           │\n",
       "│ ESE      ┆ CEB      ┆ 01       ┆ 436 ┆ Camarones       ┆ Precio      ┆ Anual       ┆ 1           │\n",
       "│ …        ┆ …        ┆ …        ┆ …   ┆ …               ┆ …           ┆ …           ┆ …           │\n",
       "│ ESE      ┆ CEB      ┆ 01       ┆ 455 ┆ Puros o         ┆ Precio      ┆ Anual       ┆ 1           │\n",
       "│          ┆          ┆          ┆     ┆ Cigarros        ┆             ┆             ┆             │\n",
       "│ ESE      ┆ CEB      ┆ 01       ┆ 456 ┆ Textiles        ┆ Valor       ┆ Anual       ┆ 1           │\n",
       "│ ESE      ┆ CEB      ┆ 01       ┆ 460 ┆ Textiles        ┆ Precio      ┆ Anual       ┆ 1           │\n",
       "│ ESE      ┆ CEB      ┆ 01       ┆ 462 ┆ Jabones         ┆ Valor       ┆ Trimestral  ┆ 1           │\n",
       "│ ESE      ┆ CEB      ┆ 01       ┆ 475 ┆ Papel y Cartón  ┆ Valor       ┆ Anual       ┆ 1           │\n",
       "└──────────┴──────────┴──────────┴─────┴─────────────────┴─────────────┴─────────────┴─────────────┘"
      ]
     },
     "execution_count": 104,
     "metadata": {},
     "output_type": "execute_result"
    }
   ],
   "source": [
    "res_nivel_7(\n",
    "    \"ESE\",\"CEB\",\n",
    "    \"Niv_Gr_3\",\n",
    "    \"01\",\"Id\",\"Niv_Descr_5\",\"Niv_Descr_6\",\"Niv_Descr_7\")"
   ]
  },
  {
   "cell_type": "markdown",
   "id": "5f481cbf",
   "metadata": {},
   "source": [
    "Resultados de una sola variable:\n"
   ]
  },
  {
   "cell_type": "code",
   "execution_count": 105,
   "id": "5fd098ec",
   "metadata": {},
   "outputs": [
    {
     "name": "stderr",
     "output_type": "stream",
     "text": [
      "<string>:29: FutureWarning:\n",
      "\n",
      "Passing literal json to 'read_json' is deprecated and will be removed in a future version. To read from a literal string, wrap it in a 'StringIO' object.\n",
      "\n"
     ]
    },
    {
     "name": "stderr",
     "output_type": "stream",
     "text": [
      "<string>:29: FutureWarning:\n",
      "\n",
      "Passing literal json to 'read_json' is deprecated and will be removed in a future version. To read from a literal string, wrap it in a 'StringIO' object.\n",
      "\n"
     ]
    },
    {
     "data": {
      "text/html": [
       "<div><style>\n",
       ".dataframe > thead > tr,\n",
       ".dataframe > tbody > tr {\n",
       "  text-align: right;\n",
       "  white-space: pre-wrap;\n",
       "}\n",
       "</style>\n",
       "<small>shape: (160, 2)</small><table border=\"1\" class=\"dataframe\"><thead><tr><th>Fecha</th><th>ESE-CEB-01-28-Melones y Sandías-Volumen-Trimestral-Trimestral</th></tr><tr><td>date</td><td>f64</td></tr></thead><tbody><tr><td>2023-12-01</td><td>4023.5</td></tr><tr><td>2023-12-01</td><td>4023.5</td></tr><tr><td>2023-09-01</td><td>8101.3</td></tr><tr><td>2023-09-01</td><td>8101.3</td></tr><tr><td>2023-06-01</td><td>71660.4</td></tr><tr><td>&hellip;</td><td>&hellip;</td></tr><tr><td>2004-09-01</td><td>740.8</td></tr><tr><td>2004-06-01</td><td>77639.6</td></tr><tr><td>2004-06-01</td><td>77639.6</td></tr><tr><td>2004-03-01</td><td>102961.3</td></tr><tr><td>2004-03-01</td><td>102961.3</td></tr></tbody></table></div>"
      ],
      "text/plain": [
       "shape: (160, 2)\n",
       "┌────────────┬───────────────────────────────────┐\n",
       "│ Fecha      ┆ ESE-CEB-01-28-Melones y Sandías-… │\n",
       "│ ---        ┆ ---                               │\n",
       "│ date       ┆ f64                               │\n",
       "╞════════════╪═══════════════════════════════════╡\n",
       "│ 2023-12-01 ┆ 4023.5                            │\n",
       "│ 2023-12-01 ┆ 4023.5                            │\n",
       "│ 2023-09-01 ┆ 8101.3                            │\n",
       "│ 2023-09-01 ┆ 8101.3                            │\n",
       "│ 2023-06-01 ┆ 71660.4                           │\n",
       "│ …          ┆ …                                 │\n",
       "│ 2004-09-01 ┆ 740.8                             │\n",
       "│ 2004-06-01 ┆ 77639.6                           │\n",
       "│ 2004-06-01 ┆ 77639.6                           │\n",
       "│ 2004-03-01 ┆ 102961.3                          │\n",
       "│ 2004-03-01 ┆ 102961.3                          │\n",
       "└────────────┴───────────────────────────────────┘"
      ]
     },
     "execution_count": 105,
     "metadata": {},
     "output_type": "execute_result"
    }
   ],
   "source": [
    "Id = 441\n",
    "df = get_df(Id)\n",
    "# get_plot(Id)\n",
    "df"
   ]
  },
  {
   "cell_type": "markdown",
   "id": "f21f0b99",
   "metadata": {},
   "source": [
    "##### 02 - Combustibles\n",
    "\n",
    "* Gasolina regular\n",
    "* Bunker\n",
    "* Diesel\n",
    "* Total combustibles\n",
    "* Gasolina superior\n",
    "* Kerosene\n",
    "* LPG\n"
   ]
  },
  {
   "cell_type": "code",
   "execution_count": 106,
   "id": "2ddf08fe",
   "metadata": {},
   "outputs": [
    {
     "name": "stderr",
     "output_type": "stream",
     "text": [
      "<string>:29: FutureWarning:\n",
      "\n",
      "Passing literal json to 'read_json' is deprecated and will be removed in a future version. To read from a literal string, wrap it in a 'StringIO' object.\n",
      "\n"
     ]
    },
    {
     "data": {
      "text/html": [
       "<div><style>\n",
       ".dataframe > thead > tr,\n",
       ".dataframe > tbody > tr {\n",
       "  text-align: right;\n",
       "  white-space: pre-wrap;\n",
       "}\n",
       "</style>\n",
       "<small>shape: (7, 5)</small><table border=\"1\" class=\"dataframe\"><thead><tr><th>Niv_Gr_1</th><th>Niv_Gr_2</th><th>Niv_Gr_3</th><th>Niv_Descr_5</th><th>N_Variables</th></tr><tr><td>str</td><td>str</td><td>str</td><td>str</td><td>u32</td></tr></thead><tbody><tr><td>&quot;ESE&quot;</td><td>&quot;CEB&quot;</td><td>&quot;02&quot;</td><td>&quot;Kerosene&quot;</td><td>3</td></tr><tr><td>&quot;ESE&quot;</td><td>&quot;CEB&quot;</td><td>&quot;02&quot;</td><td>&quot;Gasolina super…</td><td>3</td></tr><tr><td>&quot;ESE&quot;</td><td>&quot;CEB&quot;</td><td>&quot;02&quot;</td><td>&quot;LPG&quot;</td><td>3</td></tr><tr><td>&quot;ESE&quot;</td><td>&quot;CEB&quot;</td><td>&quot;02&quot;</td><td>&quot;Bunker&quot;</td><td>3</td></tr><tr><td>&quot;ESE&quot;</td><td>&quot;CEB&quot;</td><td>&quot;02&quot;</td><td>&quot;Diésel&quot;</td><td>3</td></tr><tr><td>&quot;ESE&quot;</td><td>&quot;CEB&quot;</td><td>&quot;02&quot;</td><td>&quot;Gasolina regul…</td><td>3</td></tr><tr><td>&quot;ESE&quot;</td><td>&quot;CEB&quot;</td><td>&quot;02&quot;</td><td>&quot;Total combusti…</td><td>3</td></tr></tbody></table></div>"
      ],
      "text/plain": [
       "shape: (7, 5)\n",
       "┌──────────┬──────────┬──────────┬────────────────────┬─────────────┐\n",
       "│ Niv_Gr_1 ┆ Niv_Gr_2 ┆ Niv_Gr_3 ┆ Niv_Descr_5        ┆ N_Variables │\n",
       "│ ---      ┆ ---      ┆ ---      ┆ ---                ┆ ---         │\n",
       "│ str      ┆ str      ┆ str      ┆ str                ┆ u32         │\n",
       "╞══════════╪══════════╪══════════╪════════════════════╪═════════════╡\n",
       "│ ESE      ┆ CEB      ┆ 02       ┆ Kerosene           ┆ 3           │\n",
       "│ ESE      ┆ CEB      ┆ 02       ┆ Gasolina superior  ┆ 3           │\n",
       "│ ESE      ┆ CEB      ┆ 02       ┆ LPG                ┆ 3           │\n",
       "│ ESE      ┆ CEB      ┆ 02       ┆ Bunker             ┆ 3           │\n",
       "│ ESE      ┆ CEB      ┆ 02       ┆ Diésel             ┆ 3           │\n",
       "│ ESE      ┆ CEB      ┆ 02       ┆ Gasolina regular   ┆ 3           │\n",
       "│ ESE      ┆ CEB      ┆ 02       ┆ Total combustibles ┆ 3           │\n",
       "└──────────┴──────────┴──────────┴────────────────────┴─────────────┘"
      ]
     },
     "execution_count": 106,
     "metadata": {},
     "output_type": "execute_result"
    }
   ],
   "source": [
    "res_nivel_4(\n",
    "    \"ESE\",\"CEB\",\n",
    "    \"Niv_Gr_3\",\n",
    "    \"02\",\n",
    "    \"Niv_Descr_5\")"
   ]
  },
  {
   "cell_type": "markdown",
   "id": "20441e38",
   "metadata": {},
   "source": [
    "* Barriles\n",
    "* Valor\n",
    "* Precio\n"
   ]
  },
  {
   "cell_type": "code",
   "execution_count": 107,
   "id": "51cf062c",
   "metadata": {},
   "outputs": [
    {
     "name": "stderr",
     "output_type": "stream",
     "text": [
      "<string>:29: FutureWarning:\n",
      "\n",
      "Passing literal json to 'read_json' is deprecated and will be removed in a future version. To read from a literal string, wrap it in a 'StringIO' object.\n",
      "\n"
     ]
    },
    {
     "data": {
      "text/html": [
       "<div><style>\n",
       ".dataframe > thead > tr,\n",
       ".dataframe > tbody > tr {\n",
       "  text-align: right;\n",
       "  white-space: pre-wrap;\n",
       "}\n",
       "</style>\n",
       "<small>shape: (3, 5)</small><table border=\"1\" class=\"dataframe\"><thead><tr><th>Niv_Gr_1</th><th>Niv_Gr_2</th><th>Niv_Gr_3</th><th>Niv_Descr_6</th><th>N_Variables</th></tr><tr><td>str</td><td>str</td><td>str</td><td>str</td><td>u32</td></tr></thead><tbody><tr><td>&quot;ESE&quot;</td><td>&quot;CEB&quot;</td><td>&quot;02&quot;</td><td>&quot;Valor&quot;</td><td>7</td></tr><tr><td>&quot;ESE&quot;</td><td>&quot;CEB&quot;</td><td>&quot;02&quot;</td><td>&quot;Barriles&quot;</td><td>7</td></tr><tr><td>&quot;ESE&quot;</td><td>&quot;CEB&quot;</td><td>&quot;02&quot;</td><td>&quot;Precio&quot;</td><td>7</td></tr></tbody></table></div>"
      ],
      "text/plain": [
       "shape: (3, 5)\n",
       "┌──────────┬──────────┬──────────┬─────────────┬─────────────┐\n",
       "│ Niv_Gr_1 ┆ Niv_Gr_2 ┆ Niv_Gr_3 ┆ Niv_Descr_6 ┆ N_Variables │\n",
       "│ ---      ┆ ---      ┆ ---      ┆ ---         ┆ ---         │\n",
       "│ str      ┆ str      ┆ str      ┆ str         ┆ u32         │\n",
       "╞══════════╪══════════╪══════════╪═════════════╪═════════════╡\n",
       "│ ESE      ┆ CEB      ┆ 02       ┆ Valor       ┆ 7           │\n",
       "│ ESE      ┆ CEB      ┆ 02       ┆ Barriles    ┆ 7           │\n",
       "│ ESE      ┆ CEB      ┆ 02       ┆ Precio      ┆ 7           │\n",
       "└──────────┴──────────┴──────────┴─────────────┴─────────────┘"
      ]
     },
     "execution_count": 107,
     "metadata": {},
     "output_type": "execute_result"
    }
   ],
   "source": [
    "res_nivel_4(\n",
    "    \"ESE\",\"CEB\",\n",
    "    \"Niv_Gr_3\",\n",
    "    \"02\",\n",
    "    \"Niv_Descr_6\")"
   ]
  },
  {
   "cell_type": "markdown",
   "id": "4a8b5a1a",
   "metadata": {},
   "source": [
    "Para ver todas las variables:\n"
   ]
  },
  {
   "cell_type": "code",
   "execution_count": 108,
   "id": "c53e6f1d",
   "metadata": {},
   "outputs": [
    {
     "name": "stderr",
     "output_type": "stream",
     "text": [
      "<string>:29: FutureWarning:\n",
      "\n",
      "Passing literal json to 'read_json' is deprecated and will be removed in a future version. To read from a literal string, wrap it in a 'StringIO' object.\n",
      "\n"
     ]
    },
    {
     "data": {
      "text/html": [
       "<div><style>\n",
       ".dataframe > thead > tr,\n",
       ".dataframe > tbody > tr {\n",
       "  text-align: right;\n",
       "  white-space: pre-wrap;\n",
       "}\n",
       "</style>\n",
       "<small>shape: (21, 8)</small><table border=\"1\" class=\"dataframe\"><thead><tr><th>Niv_Gr_1</th><th>Niv_Gr_2</th><th>Niv_Gr_3</th><th>Id</th><th>Nombre</th><th>Niv_Descr_5</th><th>Niv_Descr_6</th><th>N_Variables</th></tr><tr><td>str</td><td>str</td><td>str</td><td>i64</td><td>str</td><td>str</td><td>str</td><td>u32</td></tr></thead><tbody><tr><td>&quot;ESE&quot;</td><td>&quot;CEB&quot;</td><td>&quot;02&quot;</td><td>503</td><td>&quot;ESE-CEB-02-15&quot;</td><td>&quot;Kerosene&quot;</td><td>&quot;Valor&quot;</td><td>1</td></tr><tr><td>&quot;ESE&quot;</td><td>&quot;CEB&quot;</td><td>&quot;02&quot;</td><td>509</td><td>&quot;ESE-CEB-02-20&quot;</td><td>&quot;Gasolina regul…</td><td>&quot;Valor&quot;</td><td>1</td></tr><tr><td>&quot;ESE&quot;</td><td>&quot;CEB&quot;</td><td>&quot;02&quot;</td><td>506</td><td>&quot;ESE-CEB-02-18&quot;</td><td>&quot;Bunker&quot;</td><td>&quot;Valor&quot;</td><td>1</td></tr><tr><td>&quot;ESE&quot;</td><td>&quot;CEB&quot;</td><td>&quot;02&quot;</td><td>504</td><td>&quot;ESE-CEB-02-16&quot;</td><td>&quot;Total combusti…</td><td>&quot;Valor&quot;</td><td>1</td></tr><tr><td>&quot;ESE&quot;</td><td>&quot;CEB&quot;</td><td>&quot;02&quot;</td><td>511</td><td>&quot;ESE-CEB-02-3&quot;</td><td>&quot;Diésel&quot;</td><td>&quot;Barriles&quot;</td><td>1</td></tr><tr><td>&hellip;</td><td>&hellip;</td><td>&hellip;</td><td>&hellip;</td><td>&hellip;</td><td>&hellip;</td><td>&hellip;</td><td>&hellip;</td></tr><tr><td>&quot;ESE&quot;</td><td>&quot;CEB&quot;</td><td>&quot;02&quot;</td><td>502</td><td>&quot;ESE-CEB-02-14&quot;</td><td>&quot;Gasolina super…</td><td>&quot;Precio&quot;</td><td>1</td></tr><tr><td>&quot;ESE&quot;</td><td>&quot;CEB&quot;</td><td>&quot;02&quot;</td><td>508</td><td>&quot;ESE-CEB-02-2&quot;</td><td>&quot;Total combusti…</td><td>&quot;Barriles&quot;</td><td>1</td></tr><tr><td>&quot;ESE&quot;</td><td>&quot;CEB&quot;</td><td>&quot;02&quot;</td><td>514</td><td>&quot;ESE-CEB-02-6&quot;</td><td>&quot;Bunker&quot;</td><td>&quot;Barriles&quot;</td><td>1</td></tr><tr><td>&quot;ESE&quot;</td><td>&quot;CEB&quot;</td><td>&quot;02&quot;</td><td>516</td><td>&quot;ESE-CEB-02-8&quot;</td><td>&quot;LPG&quot;</td><td>&quot;Precio&quot;</td><td>1</td></tr><tr><td>&quot;ESE&quot;</td><td>&quot;CEB&quot;</td><td>&quot;02&quot;</td><td>517</td><td>&quot;ESE-CEB-02-9&quot;</td><td>&quot;Kerosene&quot;</td><td>&quot;Precio&quot;</td><td>1</td></tr></tbody></table></div>"
      ],
      "text/plain": [
       "shape: (21, 8)\n",
       "┌──────────┬──────────┬──────────┬─────┬───────────────┬───────────────┬─────────────┬─────────────┐\n",
       "│ Niv_Gr_1 ┆ Niv_Gr_2 ┆ Niv_Gr_3 ┆ Id  ┆ Nombre        ┆ Niv_Descr_5   ┆ Niv_Descr_6 ┆ N_Variables │\n",
       "│ ---      ┆ ---      ┆ ---      ┆ --- ┆ ---           ┆ ---           ┆ ---         ┆ ---         │\n",
       "│ str      ┆ str      ┆ str      ┆ i64 ┆ str           ┆ str           ┆ str         ┆ u32         │\n",
       "╞══════════╪══════════╪══════════╪═════╪═══════════════╪═══════════════╪═════════════╪═════════════╡\n",
       "│ ESE      ┆ CEB      ┆ 02       ┆ 503 ┆ ESE-CEB-02-15 ┆ Kerosene      ┆ Valor       ┆ 1           │\n",
       "│ ESE      ┆ CEB      ┆ 02       ┆ 509 ┆ ESE-CEB-02-20 ┆ Gasolina      ┆ Valor       ┆ 1           │\n",
       "│          ┆          ┆          ┆     ┆               ┆ regular       ┆             ┆             │\n",
       "│ ESE      ┆ CEB      ┆ 02       ┆ 506 ┆ ESE-CEB-02-18 ┆ Bunker        ┆ Valor       ┆ 1           │\n",
       "│ ESE      ┆ CEB      ┆ 02       ┆ 504 ┆ ESE-CEB-02-16 ┆ Total         ┆ Valor       ┆ 1           │\n",
       "│          ┆          ┆          ┆     ┆               ┆ combustibles  ┆             ┆             │\n",
       "│ ESE      ┆ CEB      ┆ 02       ┆ 511 ┆ ESE-CEB-02-3  ┆ Diésel        ┆ Barriles    ┆ 1           │\n",
       "│ …        ┆ …        ┆ …        ┆ …   ┆ …             ┆ …             ┆ …           ┆ …           │\n",
       "│ ESE      ┆ CEB      ┆ 02       ┆ 502 ┆ ESE-CEB-02-14 ┆ Gasolina      ┆ Precio      ┆ 1           │\n",
       "│          ┆          ┆          ┆     ┆               ┆ superior      ┆             ┆             │\n",
       "│ ESE      ┆ CEB      ┆ 02       ┆ 508 ┆ ESE-CEB-02-2  ┆ Total         ┆ Barriles    ┆ 1           │\n",
       "│          ┆          ┆          ┆     ┆               ┆ combustibles  ┆             ┆             │\n",
       "│ ESE      ┆ CEB      ┆ 02       ┆ 514 ┆ ESE-CEB-02-6  ┆ Bunker        ┆ Barriles    ┆ 1           │\n",
       "│ ESE      ┆ CEB      ┆ 02       ┆ 516 ┆ ESE-CEB-02-8  ┆ LPG           ┆ Precio      ┆ 1           │\n",
       "│ ESE      ┆ CEB      ┆ 02       ┆ 517 ┆ ESE-CEB-02-9  ┆ Kerosene      ┆ Precio      ┆ 1           │\n",
       "└──────────┴──────────┴──────────┴─────┴───────────────┴───────────────┴─────────────┴─────────────┘"
      ]
     },
     "execution_count": 108,
     "metadata": {},
     "output_type": "execute_result"
    }
   ],
   "source": [
    "res_nivel_7(\n",
    "    \"ESE\",\"CEB\",\n",
    "    \"Niv_Gr_3\",\n",
    "    \"02\",\"Id\",\"Nombre\",\"Niv_Descr_5\",\"Niv_Descr_6\")"
   ]
  },
  {
   "cell_type": "markdown",
   "id": "6ca13bd5",
   "metadata": {},
   "source": [
    "Resultados de una sola variable:\n"
   ]
  },
  {
   "cell_type": "code",
   "execution_count": 109,
   "id": "958ad16c",
   "metadata": {},
   "outputs": [
    {
     "name": "stderr",
     "output_type": "stream",
     "text": [
      "<string>:29: FutureWarning:\n",
      "\n",
      "Passing literal json to 'read_json' is deprecated and will be removed in a future version. To read from a literal string, wrap it in a 'StringIO' object.\n",
      "\n"
     ]
    },
    {
     "name": "stderr",
     "output_type": "stream",
     "text": [
      "<string>:29: FutureWarning:\n",
      "\n",
      "Passing literal json to 'read_json' is deprecated and will be removed in a future version. To read from a literal string, wrap it in a 'StringIO' object.\n",
      "\n"
     ]
    },
    {
     "data": {
      "text/html": [
       "<div><style>\n",
       ".dataframe > thead > tr,\n",
       ".dataframe > tbody > tr {\n",
       "  text-align: right;\n",
       "  white-space: pre-wrap;\n",
       "}\n",
       "</style>\n",
       "<small>shape: (192, 2)</small><table border=\"1\" class=\"dataframe\"><thead><tr><th>Fecha</th><th>ESE-CEB-02-15-Kerosene-Valor</th></tr><tr><td>date</td><td>f64</td></tr></thead><tbody><tr><td>2023-12-01</td><td>2757.78</td></tr><tr><td>2023-12-01</td><td>2757.78</td></tr><tr><td>2023-11-01</td><td>8071.3</td></tr><tr><td>2023-11-01</td><td>8071.3</td></tr><tr><td>2023-10-01</td><td>4686.2</td></tr><tr><td>&hellip;</td><td>&hellip;</td></tr><tr><td>2016-03-01</td><td>3450.34</td></tr><tr><td>2016-02-01</td><td>1461.25</td></tr><tr><td>2016-02-01</td><td>1461.25</td></tr><tr><td>2016-01-01</td><td>1921.3</td></tr><tr><td>2016-01-01</td><td>1921.3</td></tr></tbody></table></div>"
      ],
      "text/plain": [
       "shape: (192, 2)\n",
       "┌────────────┬──────────────────────────────┐\n",
       "│ Fecha      ┆ ESE-CEB-02-15-Kerosene-Valor │\n",
       "│ ---        ┆ ---                          │\n",
       "│ date       ┆ f64                          │\n",
       "╞════════════╪══════════════════════════════╡\n",
       "│ 2023-12-01 ┆ 2757.78                      │\n",
       "│ 2023-12-01 ┆ 2757.78                      │\n",
       "│ 2023-11-01 ┆ 8071.3                       │\n",
       "│ 2023-11-01 ┆ 8071.3                       │\n",
       "│ 2023-10-01 ┆ 4686.2                       │\n",
       "│ …          ┆ …                            │\n",
       "│ 2016-03-01 ┆ 3450.34                      │\n",
       "│ 2016-02-01 ┆ 1461.25                      │\n",
       "│ 2016-02-01 ┆ 1461.25                      │\n",
       "│ 2016-01-01 ┆ 1921.3                       │\n",
       "│ 2016-01-01 ┆ 1921.3                       │\n",
       "└────────────┴──────────────────────────────┘"
      ]
     },
     "execution_count": 109,
     "metadata": {},
     "output_type": "execute_result"
    }
   ],
   "source": [
    "Id = 503\n",
    "df = get_df(Id)\n",
    "# get_plot(Id)\n",
    "df"
   ]
  },
  {
   "cell_type": "markdown",
   "id": "1036f0cf",
   "metadata": {},
   "source": [
    "##### 03\n",
    "\n",
    "* Importaciones AE \n",
    "* Importaciones BT Sección \n",
    "* Importaciones Secciones \n"
   ]
  },
  {
   "cell_type": "code",
   "execution_count": 110,
   "id": "3ff4e7f9",
   "metadata": {},
   "outputs": [
    {
     "name": "stderr",
     "output_type": "stream",
     "text": [
      "<string>:29: FutureWarning:\n",
      "\n",
      "Passing literal json to 'read_json' is deprecated and will be removed in a future version. To read from a literal string, wrap it in a 'StringIO' object.\n",
      "\n"
     ]
    },
    {
     "data": {
      "text/html": [
       "<div><style>\n",
       ".dataframe > thead > tr,\n",
       ".dataframe > tbody > tr {\n",
       "  text-align: right;\n",
       "  white-space: pre-wrap;\n",
       "}\n",
       "</style>\n",
       "<small>shape: (3, 5)</small><table border=\"1\" class=\"dataframe\"><thead><tr><th>Niv_Gr_1</th><th>Niv_Gr_2</th><th>Niv_Gr_3</th><th>Niv_Descr_1</th><th>N_Variables</th></tr><tr><td>str</td><td>str</td><td>str</td><td>str</td><td>u32</td></tr></thead><tbody><tr><td>&quot;ESE&quot;</td><td>&quot;CEB&quot;</td><td>&quot;03&quot;</td><td>&quot;Importaciones …</td><td>50</td></tr><tr><td>&quot;ESE&quot;</td><td>&quot;CEB&quot;</td><td>&quot;03&quot;</td><td>&quot;Importaciones …</td><td>30</td></tr><tr><td>&quot;ESE&quot;</td><td>&quot;CEB&quot;</td><td>&quot;03&quot;</td><td>&quot;Importaciones …</td><td>13</td></tr></tbody></table></div>"
      ],
      "text/plain": [
       "shape: (3, 5)\n",
       "┌──────────┬──────────┬──────────┬───────────────────────────┬─────────────┐\n",
       "│ Niv_Gr_1 ┆ Niv_Gr_2 ┆ Niv_Gr_3 ┆ Niv_Descr_1               ┆ N_Variables │\n",
       "│ ---      ┆ ---      ┆ ---      ┆ ---                       ┆ ---         │\n",
       "│ str      ┆ str      ┆ str      ┆ str                       ┆ u32         │\n",
       "╞══════════╪══════════╪══════════╪═══════════════════════════╪═════════════╡\n",
       "│ ESE      ┆ CEB      ┆ 03       ┆ Importaciones Secciones   ┆ 50          │\n",
       "│ ESE      ┆ CEB      ┆ 03       ┆ Importaciones AE          ┆ 30          │\n",
       "│ ESE      ┆ CEB      ┆ 03       ┆ Importaciones BT Sección  ┆ 13          │\n",
       "└──────────┴──────────┴──────────┴───────────────────────────┴─────────────┘"
      ]
     },
     "execution_count": 110,
     "metadata": {},
     "output_type": "execute_result"
    }
   ],
   "source": [
    "res_nivel_4(\n",
    "    \"ESE\",\"CEB\",\n",
    "    \"Niv_Gr_3\",\n",
    "    \"03\",\n",
    "    \"Niv_Descr_1\")"
   ]
  },
  {
   "cell_type": "markdown",
   "id": "261b37e9",
   "metadata": {},
   "source": [
    "Los dos primeros grupos solamente tienen un nivel de descripción:\n",
    "\n",
    "###### Importaciones AE\n"
   ]
  },
  {
   "cell_type": "code",
   "execution_count": 111,
   "id": "8198cb71",
   "metadata": {},
   "outputs": [
    {
     "name": "stderr",
     "output_type": "stream",
     "text": [
      "<string>:29: FutureWarning:\n",
      "\n",
      "Passing literal json to 'read_json' is deprecated and will be removed in a future version. To read from a literal string, wrap it in a 'StringIO' object.\n",
      "\n"
     ]
    },
    {
     "data": {
      "text/html": [
       "<div><style>\n",
       ".dataframe > thead > tr,\n",
       ".dataframe > tbody > tr {\n",
       "  text-align: right;\n",
       "  white-space: pre-wrap;\n",
       "}\n",
       "</style>\n",
       "<small>shape: (30, 8)</small><table border=\"1\" class=\"dataframe\"><thead><tr><th>Niv_Gr_1</th><th>Niv_Gr_2</th><th>Niv_Gr_3</th><th>Id</th><th>Nombre</th><th>Niv_Descr_1</th><th>Niv_Descr_2</th><th>N_Variables</th></tr><tr><td>str</td><td>str</td><td>str</td><td>i64</td><td>str</td><td>str</td><td>str</td><td>u32</td></tr></thead><tbody><tr><td>&quot;ESE&quot;</td><td>&quot;CEB&quot;</td><td>&quot;03&quot;</td><td>6459</td><td>&quot;ESE-CEB-03-2&quot;</td><td>&quot;Importaciones …</td><td>&quot; 1.1 Sector Pr…</td><td>1</td></tr><tr><td>&quot;ESE&quot;</td><td>&quot;CEB&quot;</td><td>&quot;03&quot;</td><td>6470</td><td>&quot;ESE-CEB-03-13&quot;</td><td>&quot;Importaciones …</td><td>&quot; 3.2 Procesado…</td><td>1</td></tr><tr><td>&quot;ESE&quot;</td><td>&quot;CEB&quot;</td><td>&quot;03&quot;</td><td>6481</td><td>&quot;ESE-CEB-03-24&quot;</td><td>&quot;Importaciones …</td><td>&quot; 5.3 Partes y …</td><td>1</td></tr><tr><td>&quot;ESE&quot;</td><td>&quot;CEB&quot;</td><td>&quot;03&quot;</td><td>6462</td><td>&quot;ESE-CEB-03-5&quot;</td><td>&quot;Importaciones …</td><td>&quot; 1.2 Procesado…</td><td>1</td></tr><tr><td>&quot;ESE&quot;</td><td>&quot;CEB&quot;</td><td>&quot;03&quot;</td><td>6469</td><td>&quot;ESE-CEB-03-12&quot;</td><td>&quot;Importaciones …</td><td>&quot; 3.1 Sector Pr…</td><td>1</td></tr><tr><td>&hellip;</td><td>&hellip;</td><td>&hellip;</td><td>&hellip;</td><td>&hellip;</td><td>&hellip;</td><td>&hellip;</td><td>&hellip;</td></tr><tr><td>&quot;ESE&quot;</td><td>&quot;CEB&quot;</td><td>&quot;03&quot;</td><td>6483</td><td>&quot;ESE-CEB-03-26&quot;</td><td>&quot;Importaciones …</td><td>&quot; 6.1 Duraderos…</td><td>1</td></tr><tr><td>&quot;ESE&quot;</td><td>&quot;CEB&quot;</td><td>&quot;03&quot;</td><td>6458</td><td>&quot;ESE-CEB-03-1&quot;</td><td>&quot;Importaciones …</td><td>&quot; 1. Alimentos …</td><td>1</td></tr><tr><td>&quot;ESE&quot;</td><td>&quot;CEB&quot;</td><td>&quot;03&quot;</td><td>6465</td><td>&quot;ESE-CEB-03-8&quot;</td><td>&quot;Importaciones …</td><td>&quot; 2. Suministro…</td><td>1</td></tr><tr><td>&quot;ESE&quot;</td><td>&quot;CEB&quot;</td><td>&quot;03&quot;</td><td>6478</td><td>&quot;ESE-CEB-03-21&quot;</td><td>&quot;Importaciones …</td><td>&quot; 5.2 Otros&quot;</td><td>1</td></tr><tr><td>&quot;ESE&quot;</td><td>&quot;CEB&quot;</td><td>&quot;03&quot;</td><td>6484</td><td>&quot;ESE-CEB-03-27&quot;</td><td>&quot;Importaciones …</td><td>&quot; 6.2 Semidurad…</td><td>1</td></tr></tbody></table></div>"
      ],
      "text/plain": [
       "shape: (30, 8)\n",
       "┌──────────┬──────────┬──────────┬──────┬──────────────┬──────────────┬──────────────┬─────────────┐\n",
       "│ Niv_Gr_1 ┆ Niv_Gr_2 ┆ Niv_Gr_3 ┆ Id   ┆ Nombre       ┆ Niv_Descr_1  ┆ Niv_Descr_2  ┆ N_Variables │\n",
       "│ ---      ┆ ---      ┆ ---      ┆ ---  ┆ ---          ┆ ---          ┆ ---          ┆ ---         │\n",
       "│ str      ┆ str      ┆ str      ┆ i64  ┆ str          ┆ str          ┆ str          ┆ u32         │\n",
       "╞══════════╪══════════╪══════════╪══════╪══════════════╪══════════════╪══════════════╪═════════════╡\n",
       "│ ESE      ┆ CEB      ┆ 03       ┆ 6459 ┆ ESE-CEB-03-2 ┆ Importacione ┆ 1.1 Sector   ┆ 1           │\n",
       "│          ┆          ┆          ┆      ┆              ┆ s AE         ┆ Primario     ┆             │\n",
       "│ ESE      ┆ CEB      ┆ 03       ┆ 6470 ┆ ESE-CEB-03-1 ┆ Importacione ┆ 3.2          ┆ 1           │\n",
       "│          ┆          ┆          ┆      ┆ 3            ┆ s AE         ┆ Procesados   ┆             │\n",
       "│ ESE      ┆ CEB      ┆ 03       ┆ 6481 ┆ ESE-CEB-03-2 ┆ Importacione ┆ 5.3 Partes y ┆ 1           │\n",
       "│          ┆          ┆          ┆      ┆ 4            ┆ s AE         ┆ accesorios   ┆             │\n",
       "│          ┆          ┆          ┆      ┆              ┆              ┆ de equi…     ┆             │\n",
       "│ ESE      ┆ CEB      ┆ 03       ┆ 6462 ┆ ESE-CEB-03-5 ┆ Importacione ┆ 1.2          ┆ 1           │\n",
       "│          ┆          ┆          ┆      ┆              ┆ s AE         ┆ Procesados   ┆             │\n",
       "│ ESE      ┆ CEB      ┆ 03       ┆ 6469 ┆ ESE-CEB-03-1 ┆ Importacione ┆ 3.1 Sector   ┆ 1           │\n",
       "│          ┆          ┆          ┆      ┆ 2            ┆ s AE         ┆ Primario     ┆             │\n",
       "│ …        ┆ …        ┆ …        ┆ …    ┆ …            ┆ …            ┆ …            ┆ …           │\n",
       "│ ESE      ┆ CEB      ┆ 03       ┆ 6483 ┆ ESE-CEB-03-2 ┆ Importacione ┆ 6.1          ┆ 1           │\n",
       "│          ┆          ┆          ┆      ┆ 6            ┆ s AE         ┆ Duraderos    ┆             │\n",
       "│ ESE      ┆ CEB      ┆ 03       ┆ 6458 ┆ ESE-CEB-03-1 ┆ Importacione ┆ 1. Alimentos ┆ 1           │\n",
       "│          ┆          ┆          ┆      ┆              ┆ s AE         ┆ y bebidas    ┆             │\n",
       "│ ESE      ┆ CEB      ┆ 03       ┆ 6465 ┆ ESE-CEB-03-8 ┆ Importacione ┆ 2.           ┆ 1           │\n",
       "│          ┆          ┆          ┆      ┆              ┆ s AE         ┆ Suministros  ┆             │\n",
       "│          ┆          ┆          ┆      ┆              ┆              ┆ industriales ┆             │\n",
       "│          ┆          ┆          ┆      ┆              ┆              ┆ no …         ┆             │\n",
       "│ ESE      ┆ CEB      ┆ 03       ┆ 6478 ┆ ESE-CEB-03-2 ┆ Importacione ┆  5.2 Otros   ┆ 1           │\n",
       "│          ┆          ┆          ┆      ┆ 1            ┆ s AE         ┆              ┆             │\n",
       "│ ESE      ┆ CEB      ┆ 03       ┆ 6484 ┆ ESE-CEB-03-2 ┆ Importacione ┆ 6.2 Semidura ┆ 1           │\n",
       "│          ┆          ┆          ┆      ┆ 7            ┆ s AE         ┆ deros        ┆             │\n",
       "└──────────┴──────────┴──────────┴──────┴──────────────┴──────────────┴──────────────┴─────────────┘"
      ]
     },
     "execution_count": 111,
     "metadata": {},
     "output_type": "execute_result"
    }
   ],
   "source": [
    "res_nivel_7(\n",
    "    \"ESE\",\"CEB\",\n",
    "    \"Niv_Gr_3\",\n",
    "    \"03\",\"Id\",\"Nombre\",\"Niv_Descr_1\",\"Niv_Descr_2\"\n",
    "    ).filter(\n",
    "    pl.col(\"Niv_Descr_1\") == \"Importaciones AE \")"
   ]
  },
  {
   "cell_type": "markdown",
   "id": "4373ed2a",
   "metadata": {},
   "source": [
    "###### Importaciones BT Sección \n"
   ]
  },
  {
   "cell_type": "code",
   "execution_count": 112,
   "id": "f24f4699",
   "metadata": {},
   "outputs": [
    {
     "name": "stderr",
     "output_type": "stream",
     "text": [
      "<string>:29: FutureWarning:\n",
      "\n",
      "Passing literal json to 'read_json' is deprecated and will be removed in a future version. To read from a literal string, wrap it in a 'StringIO' object.\n",
      "\n"
     ]
    },
    {
     "data": {
      "text/html": [
       "<div><style>\n",
       ".dataframe > thead > tr,\n",
       ".dataframe > tbody > tr {\n",
       "  text-align: right;\n",
       "  white-space: pre-wrap;\n",
       "}\n",
       "</style>\n",
       "<small>shape: (13, 8)</small><table border=\"1\" class=\"dataframe\"><thead><tr><th>Niv_Gr_1</th><th>Niv_Gr_2</th><th>Niv_Gr_3</th><th>Id</th><th>Nombre</th><th>Niv_Descr_1</th><th>Niv_Descr_2</th><th>N_Variables</th></tr><tr><td>str</td><td>str</td><td>str</td><td>i64</td><td>str</td><td>str</td><td>str</td><td>u32</td></tr></thead><tbody><tr><td>&quot;ESE&quot;</td><td>&quot;CEB&quot;</td><td>&quot;03&quot;</td><td>6490</td><td>&quot;ESE-CEB-03-33&quot;</td><td>&quot;Importaciones …</td><td>&quot; 7 Plástico y …</td><td>1</td></tr><tr><td>&quot;ESE&quot;</td><td>&quot;CEB&quot;</td><td>&quot;03&quot;</td><td>6491</td><td>&quot;ESE-CEB-03-34&quot;</td><td>&quot;Importaciones …</td><td>&quot; 9 Madera, car…</td><td>1</td></tr><tr><td>&quot;ESE&quot;</td><td>&quot;CEB&quot;</td><td>&quot;03&quot;</td><td>6488</td><td>&quot;ESE-CEB-03-31&quot;</td><td>&quot;Importaciones …</td><td>&quot; 5 Productos m…</td><td>1</td></tr><tr><td>&quot;ESE&quot;</td><td>&quot;CEB&quot;</td><td>&quot;03&quot;</td><td>6497</td><td>&quot;ESE-CEB-03-40&quot;</td><td>&quot;Importaciones …</td><td>&quot; 17 Material d…</td><td>1</td></tr><tr><td>&quot;ESE&quot;</td><td>&quot;CEB&quot;</td><td>&quot;03&quot;</td><td>6500</td><td>&quot;ESE-CEB-03-43&quot;</td><td>&quot;Importaciones …</td><td>&quot;  TOTAL&quot;</td><td>1</td></tr><tr><td>&hellip;</td><td>&hellip;</td><td>&hellip;</td><td>&hellip;</td><td>&hellip;</td><td>&hellip;</td><td>&hellip;</td><td>&hellip;</td></tr><tr><td>&quot;ESE&quot;</td><td>&quot;CEB&quot;</td><td>&quot;03&quot;</td><td>6494</td><td>&quot;ESE-CEB-03-37&quot;</td><td>&quot;Importaciones …</td><td>&quot; 13 Manufactur…</td><td>1</td></tr><tr><td>&quot;ESE&quot;</td><td>&quot;CEB&quot;</td><td>&quot;03&quot;</td><td>6499</td><td>&quot;ESE-CEB-03-42&quot;</td><td>&quot;Importaciones …</td><td>&quot; 20 Mercancías…</td><td>1</td></tr><tr><td>&quot;ESE&quot;</td><td>&quot;CEB&quot;</td><td>&quot;03&quot;</td><td>6493</td><td>&quot;ESE-CEB-03-36&quot;</td><td>&quot;Importaciones …</td><td>&quot; 11 Materias t…</td><td>1</td></tr><tr><td>&quot;ESE&quot;</td><td>&quot;CEB&quot;</td><td>&quot;03&quot;</td><td>6489</td><td>&quot;ESE-CEB-03-32&quot;</td><td>&quot;Importaciones …</td><td>&quot; 6 Produtos de…</td><td>1</td></tr><tr><td>&quot;ESE&quot;</td><td>&quot;CEB&quot;</td><td>&quot;03&quot;</td><td>6498</td><td>&quot;ESE-CEB-03-41&quot;</td><td>&quot;Importaciones …</td><td>&quot; 18 Instrumene…</td><td>1</td></tr></tbody></table></div>"
      ],
      "text/plain": [
       "shape: (13, 8)\n",
       "┌──────────┬──────────┬──────────┬──────┬──────────────┬──────────────┬──────────────┬─────────────┐\n",
       "│ Niv_Gr_1 ┆ Niv_Gr_2 ┆ Niv_Gr_3 ┆ Id   ┆ Nombre       ┆ Niv_Descr_1  ┆ Niv_Descr_2  ┆ N_Variables │\n",
       "│ ---      ┆ ---      ┆ ---      ┆ ---  ┆ ---          ┆ ---          ┆ ---          ┆ ---         │\n",
       "│ str      ┆ str      ┆ str      ┆ i64  ┆ str          ┆ str          ┆ str          ┆ u32         │\n",
       "╞══════════╪══════════╪══════════╪══════╪══════════════╪══════════════╪══════════════╪═════════════╡\n",
       "│ ESE      ┆ CEB      ┆ 03       ┆ 6490 ┆ ESE-CEB-03-3 ┆ Importacione ┆ 7 Plástico y ┆ 1           │\n",
       "│          ┆          ┆          ┆      ┆ 3            ┆ s BT Sección ┆ sus          ┆             │\n",
       "│          ┆          ┆          ┆      ┆              ┆              ┆ manufacturas ┆             │\n",
       "│ ESE      ┆ CEB      ┆ 03       ┆ 6491 ┆ ESE-CEB-03-3 ┆ Importacione ┆ 9 Madera,    ┆ 1           │\n",
       "│          ┆          ┆          ┆      ┆ 4            ┆ s BT Sección ┆ carbón       ┆             │\n",
       "│          ┆          ┆          ┆      ┆              ┆              ┆ vegetal y    ┆             │\n",
       "│          ┆          ┆          ┆      ┆              ┆              ┆ manu…        ┆             │\n",
       "│ ESE      ┆ CEB      ┆ 03       ┆ 6488 ┆ ESE-CEB-03-3 ┆ Importacione ┆ 5 Productos  ┆ 1           │\n",
       "│          ┆          ┆          ┆      ┆ 1            ┆ s BT Sección ┆ minerales    ┆             │\n",
       "│ ESE      ┆ CEB      ┆ 03       ┆ 6497 ┆ ESE-CEB-03-4 ┆ Importacione ┆ 17 Material  ┆ 1           │\n",
       "│          ┆          ┆          ┆      ┆ 0            ┆ s BT Sección ┆ de           ┆             │\n",
       "│          ┆          ┆          ┆      ┆              ┆              ┆ transporte   ┆             │\n",
       "│ ESE      ┆ CEB      ┆ 03       ┆ 6500 ┆ ESE-CEB-03-4 ┆ Importacione ┆   TOTAL      ┆ 1           │\n",
       "│          ┆          ┆          ┆      ┆ 3            ┆ s BT Sección ┆              ┆             │\n",
       "│ …        ┆ …        ┆ …        ┆ …    ┆ …            ┆ …            ┆ …            ┆ …           │\n",
       "│ ESE      ┆ CEB      ┆ 03       ┆ 6494 ┆ ESE-CEB-03-3 ┆ Importacione ┆ 13           ┆ 1           │\n",
       "│          ┆          ┆          ┆      ┆ 7            ┆ s BT Sección ┆ Manufactura  ┆             │\n",
       "│          ┆          ┆          ┆      ┆              ┆              ┆ de piedra,   ┆             │\n",
       "│          ┆          ┆          ┆      ┆              ┆              ┆ yeso,…       ┆             │\n",
       "│ ESE      ┆ CEB      ┆ 03       ┆ 6499 ┆ ESE-CEB-03-4 ┆ Importacione ┆ 20           ┆ 1           │\n",
       "│          ┆          ┆          ┆      ┆ 2            ┆ s BT Sección ┆ Mercancías y ┆             │\n",
       "│          ┆          ┆          ┆      ┆              ┆              ┆ productos    ┆             │\n",
       "│          ┆          ┆          ┆      ┆              ┆              ┆ diver…       ┆             │\n",
       "│ ESE      ┆ CEB      ┆ 03       ┆ 6493 ┆ ESE-CEB-03-3 ┆ Importacione ┆ 11 Materias  ┆ 1           │\n",
       "│          ┆          ┆          ┆      ┆ 6            ┆ s BT Sección ┆ textiles y   ┆             │\n",
       "│          ┆          ┆          ┆      ┆              ┆              ┆ sus manu…    ┆             │\n",
       "│ ESE      ┆ CEB      ┆ 03       ┆ 6489 ┆ ESE-CEB-03-3 ┆ Importacione ┆ 6 Produtos   ┆ 1           │\n",
       "│          ┆          ┆          ┆      ┆ 2            ┆ s BT Sección ┆ de           ┆             │\n",
       "│          ┆          ┆          ┆      ┆              ┆              ┆ industrias   ┆             │\n",
       "│          ┆          ┆          ┆      ┆              ┆              ┆ químic…      ┆             │\n",
       "│ ESE      ┆ CEB      ┆ 03       ┆ 6498 ┆ ESE-CEB-03-4 ┆ Importacione ┆ 18 Instrumen ┆ 1           │\n",
       "│          ┆          ┆          ┆      ┆ 1            ┆ s BT Sección ┆ eto. de      ┆             │\n",
       "│          ┆          ┆          ┆      ┆              ┆              ┆ óptica, fot… ┆             │\n",
       "└──────────┴──────────┴──────────┴──────┴──────────────┴──────────────┴──────────────┴─────────────┘"
      ]
     },
     "execution_count": 112,
     "metadata": {},
     "output_type": "execute_result"
    }
   ],
   "source": [
    "res_nivel_7(\n",
    "    \"ESE\",\"CEB\",\n",
    "    \"Niv_Gr_3\",\n",
    "    \"03\",\"Id\",\"Nombre\",\"Niv_Descr_1\",\"Niv_Descr_2\"\n",
    "    ).filter(\n",
    "    pl.col(\"Niv_Descr_1\") == \"Importaciones BT Sección \")"
   ]
  },
  {
   "cell_type": "markdown",
   "id": "b82e73be",
   "metadata": {},
   "source": [
    "El tercer grupo tiene dos niveles de descripción\n",
    "\n",
    "###### Importaciones Secciones \n",
    "\n",
    "* Valores en Millones de USD\n",
    "* Peso en Kilos\n"
   ]
  },
  {
   "cell_type": "code",
   "execution_count": 113,
   "id": "09d808ad",
   "metadata": {},
   "outputs": [
    {
     "name": "stderr",
     "output_type": "stream",
     "text": [
      "<string>:29: FutureWarning:\n",
      "\n",
      "Passing literal json to 'read_json' is deprecated and will be removed in a future version. To read from a literal string, wrap it in a 'StringIO' object.\n",
      "\n"
     ]
    },
    {
     "data": {
      "text/html": [
       "<div><style>\n",
       ".dataframe > thead > tr,\n",
       ".dataframe > tbody > tr {\n",
       "  text-align: right;\n",
       "  white-space: pre-wrap;\n",
       "}\n",
       "</style>\n",
       "<small>shape: (50, 8)</small><table border=\"1\" class=\"dataframe\"><thead><tr><th>Niv_Gr_1</th><th>Niv_Gr_2</th><th>Niv_Gr_3</th><th>Id</th><th>Niv_Descr_1</th><th>Niv_Descr_2</th><th>Niv_Descr_3</th><th>N_Variables</th></tr><tr><td>str</td><td>str</td><td>str</td><td>i64</td><td>str</td><td>str</td><td>str</td><td>u32</td></tr></thead><tbody><tr><td>&quot;ESE&quot;</td><td>&quot;CEB&quot;</td><td>&quot;03&quot;</td><td>6519</td><td>&quot;Importaciones …</td><td>&quot; Valores en Mi…</td><td>&quot; 17 Material d…</td><td>1</td></tr><tr><td>&quot;ESE&quot;</td><td>&quot;CEB&quot;</td><td>&quot;03&quot;</td><td>6546</td><td>&quot;Importaciones …</td><td>&quot; Peso en Kilos…</td><td>&quot; 19 Armas y mu…</td><td>1</td></tr><tr><td>&quot;ESE&quot;</td><td>&quot;CEB&quot;</td><td>&quot;03&quot;</td><td>6506</td><td>&quot;Importaciones …</td><td>&quot; Valores en Mi…</td><td>&quot; 5.1 Combustib…</td><td>1</td></tr><tr><td>&quot;ESE&quot;</td><td>&quot;CEB&quot;</td><td>&quot;03&quot;</td><td>6514</td><td>&quot;Importaciones …</td><td>&quot; Valores en Mi…</td><td>&quot; 12 Calzado, s…</td><td>1</td></tr><tr><td>&quot;ESE&quot;</td><td>&quot;CEB&quot;</td><td>&quot;03&quot;</td><td>6520</td><td>&quot;Importaciones …</td><td>&quot; Valores en Mi…</td><td>&quot; 18 Inst. de ó…</td><td>1</td></tr><tr><td>&hellip;</td><td>&hellip;</td><td>&hellip;</td><td>&hellip;</td><td>&hellip;</td><td>&hellip;</td><td>&hellip;</td><td>&hellip;</td></tr><tr><td>&quot;ESE&quot;</td><td>&quot;CEB&quot;</td><td>&quot;03&quot;</td><td>6511</td><td>&quot;Importaciones …</td><td>&quot; Valores en Mi…</td><td>&quot; 9 Madera, car…</td><td>1</td></tr><tr><td>&quot;ESE&quot;</td><td>&quot;CEB&quot;</td><td>&quot;03&quot;</td><td>6518</td><td>&quot;Importaciones …</td><td>&quot; Valores en Mi…</td><td>&quot; 16 Máquinas y…</td><td>1</td></tr><tr><td>&quot;ESE&quot;</td><td>&quot;CEB&quot;</td><td>&quot;03&quot;</td><td>6515</td><td>&quot;Importaciones …</td><td>&quot; Valores en Mi…</td><td>&quot; 13 Manuf. de …</td><td>1</td></tr><tr><td>&quot;ESE&quot;</td><td>&quot;CEB&quot;</td><td>&quot;03&quot;</td><td>6550</td><td>&quot;Importaciones …</td><td>&quot; Peso en Kilos…</td><td>&quot;  Total sin Co…</td><td>1</td></tr><tr><td>&quot;ESE&quot;</td><td>&quot;CEB&quot;</td><td>&quot;03&quot;</td><td>6540</td><td>&quot;Importaciones …</td><td>&quot; Peso en Kilos…</td><td>&quot; 13 Manuf. de …</td><td>1</td></tr></tbody></table></div>"
      ],
      "text/plain": [
       "shape: (50, 8)\n",
       "┌──────────┬──────────┬──────────┬──────┬──────────────┬──────────────┬──────────────┬─────────────┐\n",
       "│ Niv_Gr_1 ┆ Niv_Gr_2 ┆ Niv_Gr_3 ┆ Id   ┆ Niv_Descr_1  ┆ Niv_Descr_2  ┆ Niv_Descr_3  ┆ N_Variables │\n",
       "│ ---      ┆ ---      ┆ ---      ┆ ---  ┆ ---          ┆ ---          ┆ ---          ┆ ---         │\n",
       "│ str      ┆ str      ┆ str      ┆ i64  ┆ str          ┆ str          ┆ str          ┆ u32         │\n",
       "╞══════════╪══════════╪══════════╪══════╪══════════════╪══════════════╪══════════════╪═════════════╡\n",
       "│ ESE      ┆ CEB      ┆ 03       ┆ 6519 ┆ Importacione ┆ Valores en   ┆ 17 Material  ┆ 1           │\n",
       "│          ┆          ┆          ┆      ┆ s Secciones  ┆ Millones de  ┆ de           ┆             │\n",
       "│          ┆          ┆          ┆      ┆              ┆ USD          ┆ transporte   ┆             │\n",
       "│ ESE      ┆ CEB      ┆ 03       ┆ 6546 ┆ Importacione ┆ Peso en      ┆ 19 Armas y   ┆ 1           │\n",
       "│          ┆          ┆          ┆      ┆ s Secciones  ┆ Kilos        ┆ municiones;  ┆             │\n",
       "│          ┆          ┆          ┆      ┆              ┆              ┆ y sus pa…    ┆             │\n",
       "│ ESE      ┆ CEB      ┆ 03       ┆ 6506 ┆ Importacione ┆ Valores en   ┆ 5.1 Combusti ┆ 1           │\n",
       "│          ┆          ┆          ┆      ┆ s Secciones  ┆ Millones de  ┆ bles,        ┆             │\n",
       "│          ┆          ┆          ┆      ┆              ┆ USD          ┆ lubricantes  ┆             │\n",
       "│          ┆          ┆          ┆      ┆              ┆              ┆ y…           ┆             │\n",
       "│ ESE      ┆ CEB      ┆ 03       ┆ 6514 ┆ Importacione ┆ Valores en   ┆ 12 Calzado,  ┆ 1           │\n",
       "│          ┆          ┆          ┆      ┆ s Secciones  ┆ Millones de  ┆ sombreria,   ┆             │\n",
       "│          ┆          ┆          ┆      ┆              ┆ USD          ┆ plumas, …    ┆             │\n",
       "│ ESE      ┆ CEB      ┆ 03       ┆ 6520 ┆ Importacione ┆ Valores en   ┆ 18 Inst. de  ┆ 1           │\n",
       "│          ┆          ┆          ┆      ┆ s Secciones  ┆ Millones de  ┆ óptica,      ┆             │\n",
       "│          ┆          ┆          ┆      ┆              ┆ USD          ┆ fotografía,… ┆             │\n",
       "│ …        ┆ …        ┆ …        ┆ …    ┆ …            ┆ …            ┆ …            ┆ …           │\n",
       "│ ESE      ┆ CEB      ┆ 03       ┆ 6511 ┆ Importacione ┆ Valores en   ┆ 9 Madera,    ┆ 1           │\n",
       "│          ┆          ┆          ┆      ┆ s Secciones  ┆ Millones de  ┆ carbón       ┆             │\n",
       "│          ┆          ┆          ┆      ┆              ┆ USD          ┆ vegetal y    ┆             │\n",
       "│          ┆          ┆          ┆      ┆              ┆              ┆ manu…        ┆             │\n",
       "│ ESE      ┆ CEB      ┆ 03       ┆ 6518 ┆ Importacione ┆ Valores en   ┆ 16 Máquinas  ┆ 1           │\n",
       "│          ┆          ┆          ┆      ┆ s Secciones  ┆ Millones de  ┆ y aparatos,  ┆             │\n",
       "│          ┆          ┆          ┆      ┆              ┆ USD          ┆ materia…     ┆             │\n",
       "│ ESE      ┆ CEB      ┆ 03       ┆ 6515 ┆ Importacione ┆ Valores en   ┆ 13 Manuf. de ┆ 1           │\n",
       "│          ┆          ┆          ┆      ┆ s Secciones  ┆ Millones de  ┆ piedra,      ┆             │\n",
       "│          ┆          ┆          ┆      ┆              ┆ USD          ┆ yeso, ceme…  ┆             │\n",
       "│ ESE      ┆ CEB      ┆ 03       ┆ 6550 ┆ Importacione ┆ Peso en      ┆ Total sin    ┆ 1           │\n",
       "│          ┆          ┆          ┆      ┆ s Secciones  ┆ Kilos        ┆ Combustibles ┆             │\n",
       "│          ┆          ┆          ┆      ┆              ┆              ┆ , Lubric…    ┆             │\n",
       "│ ESE      ┆ CEB      ┆ 03       ┆ 6540 ┆ Importacione ┆ Peso en      ┆ 13 Manuf. de ┆ 1           │\n",
       "│          ┆          ┆          ┆      ┆ s Secciones  ┆ Kilos        ┆ piedra,      ┆             │\n",
       "│          ┆          ┆          ┆      ┆              ┆              ┆ yeso, ceme…  ┆             │\n",
       "└──────────┴──────────┴──────────┴──────┴──────────────┴──────────────┴──────────────┴─────────────┘"
      ]
     },
     "execution_count": 113,
     "metadata": {},
     "output_type": "execute_result"
    }
   ],
   "source": [
    "res_nivel_7(\n",
    "    \"ESE\",\"CEB\",\n",
    "    \"Niv_Gr_3\",\n",
    "    \"03\",\"Id\",\"Niv_Descr_1\",\"Niv_Descr_2\",\"Niv_Descr_3\"\n",
    "    ).filter(\n",
    "    pl.col(\"Niv_Descr_1\") == \"Importaciones Secciones \")"
   ]
  },
  {
   "cell_type": "markdown",
   "id": "1dd4e1d6",
   "metadata": {},
   "source": [
    "Para ver todas las variables:\n"
   ]
  },
  {
   "cell_type": "code",
   "execution_count": 114,
   "id": "ae7fb672",
   "metadata": {},
   "outputs": [
    {
     "name": "stderr",
     "output_type": "stream",
     "text": [
      "<string>:29: FutureWarning:\n",
      "\n",
      "Passing literal json to 'read_json' is deprecated and will be removed in a future version. To read from a literal string, wrap it in a 'StringIO' object.\n",
      "\n"
     ]
    },
    {
     "data": {
      "text/html": [
       "<div><style>\n",
       ".dataframe > thead > tr,\n",
       ".dataframe > tbody > tr {\n",
       "  text-align: right;\n",
       "  white-space: pre-wrap;\n",
       "}\n",
       "</style>\n",
       "<small>shape: (93, 8)</small><table border=\"1\" class=\"dataframe\"><thead><tr><th>Niv_Gr_1</th><th>Niv_Gr_2</th><th>Niv_Gr_3</th><th>Id</th><th>Niv_Descr_1</th><th>Niv_Descr_2</th><th>Niv_Descr_3</th><th>N_Variables</th></tr><tr><td>str</td><td>str</td><td>str</td><td>i64</td><td>str</td><td>str</td><td>str</td><td>u32</td></tr></thead><tbody><tr><td>&quot;ESE&quot;</td><td>&quot;CEB&quot;</td><td>&quot;03&quot;</td><td>6484</td><td>&quot;Importaciones …</td><td>&quot; 6.2 Semidurad…</td><td>null</td><td>1</td></tr><tr><td>&quot;ESE&quot;</td><td>&quot;CEB&quot;</td><td>&quot;03&quot;</td><td>6488</td><td>&quot;Importaciones …</td><td>&quot; 5 Productos m…</td><td>null</td><td>1</td></tr><tr><td>&quot;ESE&quot;</td><td>&quot;CEB&quot;</td><td>&quot;03&quot;</td><td>6489</td><td>&quot;Importaciones …</td><td>&quot; 6 Produtos de…</td><td>null</td><td>1</td></tr><tr><td>&quot;ESE&quot;</td><td>&quot;CEB&quot;</td><td>&quot;03&quot;</td><td>6470</td><td>&quot;Importaciones …</td><td>&quot; 3.2 Procesado…</td><td>null</td><td>1</td></tr><tr><td>&quot;ESE&quot;</td><td>&quot;CEB&quot;</td><td>&quot;03&quot;</td><td>6485</td><td>&quot;Importaciones …</td><td>&quot; 6.3 No durade…</td><td>null</td><td>1</td></tr><tr><td>&hellip;</td><td>&hellip;</td><td>&hellip;</td><td>&hellip;</td><td>&hellip;</td><td>&hellip;</td><td>&hellip;</td><td>&hellip;</td></tr><tr><td>&quot;ESE&quot;</td><td>&quot;CEB&quot;</td><td>&quot;03&quot;</td><td>6490</td><td>&quot;Importaciones …</td><td>&quot; 7 Plástico y …</td><td>null</td><td>1</td></tr><tr><td>&quot;ESE&quot;</td><td>&quot;CEB&quot;</td><td>&quot;03&quot;</td><td>6506</td><td>&quot;Importaciones …</td><td>&quot; Valores en Mi…</td><td>&quot; 5.1 Combustib…</td><td>1</td></tr><tr><td>&quot;ESE&quot;</td><td>&quot;CEB&quot;</td><td>&quot;03&quot;</td><td>6508</td><td>&quot;Importaciones …</td><td>&quot; Valores en Mi…</td><td>&quot; 6 Productos d…</td><td>1</td></tr><tr><td>&quot;ESE&quot;</td><td>&quot;CEB&quot;</td><td>&quot;03&quot;</td><td>6524</td><td>&quot;Importaciones …</td><td>&quot; Valores en Mi…</td><td>&quot;  TOTAL&quot;</td><td>1</td></tr><tr><td>&quot;ESE&quot;</td><td>&quot;CEB&quot;</td><td>&quot;03&quot;</td><td>6538</td><td>&quot;Importaciones …</td><td>&quot; Peso en Kilos…</td><td>&quot; 11 Materias t…</td><td>1</td></tr></tbody></table></div>"
      ],
      "text/plain": [
       "shape: (93, 8)\n",
       "┌──────────┬──────────┬──────────┬──────┬──────────────┬──────────────┬──────────────┬─────────────┐\n",
       "│ Niv_Gr_1 ┆ Niv_Gr_2 ┆ Niv_Gr_3 ┆ Id   ┆ Niv_Descr_1  ┆ Niv_Descr_2  ┆ Niv_Descr_3  ┆ N_Variables │\n",
       "│ ---      ┆ ---      ┆ ---      ┆ ---  ┆ ---          ┆ ---          ┆ ---          ┆ ---         │\n",
       "│ str      ┆ str      ┆ str      ┆ i64  ┆ str          ┆ str          ┆ str          ┆ u32         │\n",
       "╞══════════╪══════════╪══════════╪══════╪══════════════╪══════════════╪══════════════╪═════════════╡\n",
       "│ ESE      ┆ CEB      ┆ 03       ┆ 6484 ┆ Importacione ┆ 6.2 Semidura ┆ null         ┆ 1           │\n",
       "│          ┆          ┆          ┆      ┆ s AE         ┆ deros        ┆              ┆             │\n",
       "│ ESE      ┆ CEB      ┆ 03       ┆ 6488 ┆ Importacione ┆ 5 Productos  ┆ null         ┆ 1           │\n",
       "│          ┆          ┆          ┆      ┆ s BT Sección ┆ minerales    ┆              ┆             │\n",
       "│ ESE      ┆ CEB      ┆ 03       ┆ 6489 ┆ Importacione ┆ 6 Produtos   ┆ null         ┆ 1           │\n",
       "│          ┆          ┆          ┆      ┆ s BT Sección ┆ de           ┆              ┆             │\n",
       "│          ┆          ┆          ┆      ┆              ┆ industrias   ┆              ┆             │\n",
       "│          ┆          ┆          ┆      ┆              ┆ químic…      ┆              ┆             │\n",
       "│ ESE      ┆ CEB      ┆ 03       ┆ 6470 ┆ Importacione ┆ 3.2          ┆ null         ┆ 1           │\n",
       "│          ┆          ┆          ┆      ┆ s AE         ┆ Procesados   ┆              ┆             │\n",
       "│ ESE      ┆ CEB      ┆ 03       ┆ 6485 ┆ Importacione ┆ 6.3 No       ┆ null         ┆ 1           │\n",
       "│          ┆          ┆          ┆      ┆ s AE         ┆ duraderos    ┆              ┆             │\n",
       "│ …        ┆ …        ┆ …        ┆ …    ┆ …            ┆ …            ┆ …            ┆ …           │\n",
       "│ ESE      ┆ CEB      ┆ 03       ┆ 6490 ┆ Importacione ┆ 7 Plástico y ┆ null         ┆ 1           │\n",
       "│          ┆          ┆          ┆      ┆ s BT Sección ┆ sus          ┆              ┆             │\n",
       "│          ┆          ┆          ┆      ┆              ┆ manufacturas ┆              ┆             │\n",
       "│ ESE      ┆ CEB      ┆ 03       ┆ 6506 ┆ Importacione ┆ Valores en   ┆ 5.1 Combusti ┆ 1           │\n",
       "│          ┆          ┆          ┆      ┆ s Secciones  ┆ Millones de  ┆ bles,        ┆             │\n",
       "│          ┆          ┆          ┆      ┆              ┆ USD          ┆ lubricantes  ┆             │\n",
       "│          ┆          ┆          ┆      ┆              ┆              ┆ y…           ┆             │\n",
       "│ ESE      ┆ CEB      ┆ 03       ┆ 6508 ┆ Importacione ┆ Valores en   ┆ 6 Productos  ┆ 1           │\n",
       "│          ┆          ┆          ┆      ┆ s Secciones  ┆ Millones de  ┆ de           ┆             │\n",
       "│          ┆          ┆          ┆      ┆              ┆ USD          ┆ industrias   ┆             │\n",
       "│          ┆          ┆          ┆      ┆              ┆              ┆ quími…       ┆             │\n",
       "│ ESE      ┆ CEB      ┆ 03       ┆ 6524 ┆ Importacione ┆ Valores en   ┆   TOTAL      ┆ 1           │\n",
       "│          ┆          ┆          ┆      ┆ s Secciones  ┆ Millones de  ┆              ┆             │\n",
       "│          ┆          ┆          ┆      ┆              ┆ USD          ┆              ┆             │\n",
       "│ ESE      ┆ CEB      ┆ 03       ┆ 6538 ┆ Importacione ┆ Peso en      ┆ 11 Materias  ┆ 1           │\n",
       "│          ┆          ┆          ┆      ┆ s Secciones  ┆ Kilos        ┆ textiles y   ┆             │\n",
       "│          ┆          ┆          ┆      ┆              ┆              ┆ sus manu…    ┆             │\n",
       "└──────────┴──────────┴──────────┴──────┴──────────────┴──────────────┴──────────────┴─────────────┘"
      ]
     },
     "execution_count": 114,
     "metadata": {},
     "output_type": "execute_result"
    }
   ],
   "source": [
    "res_nivel_7(\n",
    "    \"ESE\",\"CEB\",\n",
    "    \"Niv_Gr_3\",\n",
    "    \"03\",\"Id\",\"Niv_Descr_1\",\"Niv_Descr_2\",\"Niv_Descr_3\"\n",
    "    )"
   ]
  },
  {
   "cell_type": "markdown",
   "id": "8789125a",
   "metadata": {},
   "source": [
    "Resultados de una sola variable:\n"
   ]
  },
  {
   "cell_type": "code",
   "execution_count": 115,
   "id": "38c755fe",
   "metadata": {},
   "outputs": [
    {
     "name": "stderr",
     "output_type": "stream",
     "text": [
      "<string>:29: FutureWarning:\n",
      "\n",
      "Passing literal json to 'read_json' is deprecated and will be removed in a future version. To read from a literal string, wrap it in a 'StringIO' object.\n",
      "\n"
     ]
    },
    {
     "name": "stderr",
     "output_type": "stream",
     "text": [
      "<string>:29: FutureWarning:\n",
      "\n",
      "Passing literal json to 'read_json' is deprecated and will be removed in a future version. To read from a literal string, wrap it in a 'StringIO' object.\n",
      "\n"
     ]
    },
    {
     "data": {
      "text/html": [
       "<div><style>\n",
       ".dataframe > thead > tr,\n",
       ".dataframe > tbody > tr {\n",
       "  text-align: right;\n",
       "  white-space: pre-wrap;\n",
       "}\n",
       "</style>\n",
       "<small>shape: (36, 2)</small><table border=\"1\" class=\"dataframe\"><thead><tr><th>Fecha</th><th>Importaciones Secciones - Valores en Millones de USD - 15 Metales comunes y sus manufacturas</th></tr><tr><td>date</td><td>f64</td></tr></thead><tbody><tr><td>2023-12-01</td><td>89.435</td></tr><tr><td>2023-11-01</td><td>86.1909</td></tr><tr><td>2023-10-01</td><td>86.7132</td></tr><tr><td>2023-09-01</td><td>114.9642</td></tr><tr><td>2023-08-01</td><td>95.8238</td></tr><tr><td>&hellip;</td><td>&hellip;</td></tr><tr><td>2021-05-01</td><td>120.7819</td></tr><tr><td>2021-04-01</td><td>72.5089</td></tr><tr><td>2021-03-01</td><td>93.2076</td></tr><tr><td>2021-02-01</td><td>72.4471</td></tr><tr><td>2021-01-01</td><td>75.2166</td></tr></tbody></table></div>"
      ],
      "text/plain": [
       "shape: (36, 2)\n",
       "┌────────────┬───────────────────────────────────┐\n",
       "│ Fecha      ┆ Importaciones Secciones - Valore… │\n",
       "│ ---        ┆ ---                               │\n",
       "│ date       ┆ f64                               │\n",
       "╞════════════╪═══════════════════════════════════╡\n",
       "│ 2023-12-01 ┆ 89.435                            │\n",
       "│ 2023-11-01 ┆ 86.1909                           │\n",
       "│ 2023-10-01 ┆ 86.7132                           │\n",
       "│ 2023-09-01 ┆ 114.9642                          │\n",
       "│ 2023-08-01 ┆ 95.8238                           │\n",
       "│ …          ┆ …                                 │\n",
       "│ 2021-05-01 ┆ 120.7819                          │\n",
       "│ 2021-04-01 ┆ 72.5089                           │\n",
       "│ 2021-03-01 ┆ 93.2076                           │\n",
       "│ 2021-02-01 ┆ 72.4471                           │\n",
       "│ 2021-01-01 ┆ 75.2166                           │\n",
       "└────────────┴───────────────────────────────────┘"
      ]
     },
     "execution_count": 115,
     "metadata": {},
     "output_type": "execute_result"
    }
   ],
   "source": [
    "Id = 6517\n",
    "df = get_df(Id)\n",
    "# get_plot(Id)\n",
    "df"
   ]
  },
  {
   "cell_type": "markdown",
   "id": "2cc17886",
   "metadata": {},
   "source": [
    "##### 04 AE y BT\n",
    "\n",
    "* Exportaciones AE\n",
    "* Exportaciones BT\n"
   ]
  },
  {
   "cell_type": "code",
   "execution_count": 116,
   "id": "126a1ba2",
   "metadata": {},
   "outputs": [
    {
     "name": "stderr",
     "output_type": "stream",
     "text": [
      "<string>:29: FutureWarning:\n",
      "\n",
      "Passing literal json to 'read_json' is deprecated and will be removed in a future version. To read from a literal string, wrap it in a 'StringIO' object.\n",
      "\n"
     ]
    },
    {
     "data": {
      "text/html": [
       "<div><style>\n",
       ".dataframe > thead > tr,\n",
       ".dataframe > tbody > tr {\n",
       "  text-align: right;\n",
       "  white-space: pre-wrap;\n",
       "}\n",
       "</style>\n",
       "<small>shape: (2, 5)</small><table border=\"1\" class=\"dataframe\"><thead><tr><th>Niv_Gr_1</th><th>Niv_Gr_2</th><th>Niv_Gr_3</th><th>Niv_Descr_1</th><th>N_Variables</th></tr><tr><td>str</td><td>str</td><td>str</td><td>str</td><td>u32</td></tr></thead><tbody><tr><td>&quot;ESE&quot;</td><td>&quot;CEB&quot;</td><td>&quot;04&quot;</td><td>&quot;Exportaciones …</td><td>137</td></tr><tr><td>&quot;ESE&quot;</td><td>&quot;CEB&quot;</td><td>&quot;04&quot;</td><td>&quot;Exportaciones …</td><td>22</td></tr></tbody></table></div>"
      ],
      "text/plain": [
       "shape: (2, 5)\n",
       "┌──────────┬──────────┬──────────┬──────────────────┬─────────────┐\n",
       "│ Niv_Gr_1 ┆ Niv_Gr_2 ┆ Niv_Gr_3 ┆ Niv_Descr_1      ┆ N_Variables │\n",
       "│ ---      ┆ ---      ┆ ---      ┆ ---              ┆ ---         │\n",
       "│ str      ┆ str      ┆ str      ┆ str              ┆ u32         │\n",
       "╞══════════╪══════════╪══════════╪══════════════════╪═════════════╡\n",
       "│ ESE      ┆ CEB      ┆ 04       ┆ Exportaciones AE ┆ 137         │\n",
       "│ ESE      ┆ CEB      ┆ 04       ┆ Exportaciones BT ┆ 22          │\n",
       "└──────────┴──────────┴──────────┴──────────────────┴─────────────┘"
      ]
     },
     "execution_count": 116,
     "metadata": {},
     "output_type": "execute_result"
    }
   ],
   "source": [
    "res_nivel_4(\n",
    "    \"ESE\",\"CEB\",\n",
    "    \"Niv_Gr_3\",\n",
    "    \"04\",\n",
    "    \"Niv_Descr_1\")"
   ]
  },
  {
   "cell_type": "markdown",
   "id": "f20b7838",
   "metadata": {},
   "source": [
    "* Producto\n",
    "* Grupo Producto\n"
   ]
  },
  {
   "cell_type": "code",
   "execution_count": 117,
   "id": "45263232",
   "metadata": {},
   "outputs": [
    {
     "name": "stderr",
     "output_type": "stream",
     "text": [
      "<string>:29: FutureWarning:\n",
      "\n",
      "Passing literal json to 'read_json' is deprecated and will be removed in a future version. To read from a literal string, wrap it in a 'StringIO' object.\n",
      "\n"
     ]
    },
    {
     "data": {
      "text/html": [
       "<div><style>\n",
       ".dataframe > thead > tr,\n",
       ".dataframe > tbody > tr {\n",
       "  text-align: right;\n",
       "  white-space: pre-wrap;\n",
       "}\n",
       "</style>\n",
       "<small>shape: (2, 5)</small><table border=\"1\" class=\"dataframe\"><thead><tr><th>Niv_Gr_1</th><th>Niv_Gr_2</th><th>Niv_Gr_3</th><th>Niv_Descr_2</th><th>N_Variables</th></tr><tr><td>str</td><td>str</td><td>str</td><td>str</td><td>u32</td></tr></thead><tbody><tr><td>&quot;ESE&quot;</td><td>&quot;CEB&quot;</td><td>&quot;04&quot;</td><td>&quot; Producto &quot;</td><td>137</td></tr><tr><td>&quot;ESE&quot;</td><td>&quot;CEB&quot;</td><td>&quot;04&quot;</td><td>&quot;Grupo Producto…</td><td>22</td></tr></tbody></table></div>"
      ],
      "text/plain": [
       "shape: (2, 5)\n",
       "┌──────────┬──────────┬──────────┬─────────────────┬─────────────┐\n",
       "│ Niv_Gr_1 ┆ Niv_Gr_2 ┆ Niv_Gr_3 ┆ Niv_Descr_2     ┆ N_Variables │\n",
       "│ ---      ┆ ---      ┆ ---      ┆ ---             ┆ ---         │\n",
       "│ str      ┆ str      ┆ str      ┆ str             ┆ u32         │\n",
       "╞══════════╪══════════╪══════════╪═════════════════╪═════════════╡\n",
       "│ ESE      ┆ CEB      ┆ 04       ┆  Producto       ┆ 137         │\n",
       "│ ESE      ┆ CEB      ┆ 04       ┆ Grupo Producto  ┆ 22          │\n",
       "└──────────┴──────────┴──────────┴─────────────────┴─────────────┘"
      ]
     },
     "execution_count": 117,
     "metadata": {},
     "output_type": "execute_result"
    }
   ],
   "source": [
    "res_nivel_4(\n",
    "    \"ESE\",\"CEB\",\n",
    "    \"Niv_Gr_3\",\n",
    "    \"04\",\n",
    "    \"Niv_Descr_2\")"
   ]
  },
  {
   "cell_type": "markdown",
   "id": "e0ed659e",
   "metadata": {},
   "source": [
    "Para ver todas las variables:\n"
   ]
  },
  {
   "cell_type": "code",
   "execution_count": 118,
   "id": "1a8a2090",
   "metadata": {},
   "outputs": [
    {
     "name": "stderr",
     "output_type": "stream",
     "text": [
      "<string>:29: FutureWarning:\n",
      "\n",
      "Passing literal json to 'read_json' is deprecated and will be removed in a future version. To read from a literal string, wrap it in a 'StringIO' object.\n",
      "\n"
     ]
    },
    {
     "data": {
      "text/html": [
       "<div><style>\n",
       ".dataframe > thead > tr,\n",
       ".dataframe > tbody > tr {\n",
       "  text-align: right;\n",
       "  white-space: pre-wrap;\n",
       "}\n",
       "</style>\n",
       "<small>shape: (159, 8)</small><table border=\"1\" class=\"dataframe\"><thead><tr><th>Niv_Gr_1</th><th>Niv_Gr_2</th><th>Niv_Gr_3</th><th>Id</th><th>Niv_Descr_1</th><th>Niv_Descr_2</th><th>Niv_Descr_3</th><th>N_Variables</th></tr><tr><td>str</td><td>str</td><td>str</td><td>i64</td><td>str</td><td>str</td><td>str</td><td>u32</td></tr></thead><tbody><tr><td>&quot;ESE&quot;</td><td>&quot;CEB&quot;</td><td>&quot;04&quot;</td><td>6556</td><td>&quot;Exportaciones …</td><td>&quot; Producto &quot;</td><td>&quot; 1.5 Piña&quot;</td><td>1</td></tr><tr><td>&quot;ESE&quot;</td><td>&quot;CEB&quot;</td><td>&quot;04&quot;</td><td>6562</td><td>&quot;Exportaciones …</td><td>&quot; Producto &quot;</td><td>&quot; 1.11 Frijoles…</td><td>1</td></tr><tr><td>&quot;ESE&quot;</td><td>&quot;CEB&quot;</td><td>&quot;04&quot;</td><td>6563</td><td>&quot;Exportaciones …</td><td>&quot; Producto &quot;</td><td>&quot; 1.12 Otras fr…</td><td>1</td></tr><tr><td>&quot;ESE&quot;</td><td>&quot;CEB&quot;</td><td>&quot;04&quot;</td><td>6629</td><td>&quot;Exportaciones …</td><td>&quot; Producto &quot;</td><td>&quot; 3.42 Otros pr…</td><td>1</td></tr><tr><td>&quot;ESE&quot;</td><td>&quot;CEB&quot;</td><td>&quot;04&quot;</td><td>6640</td><td>&quot;Exportaciones …</td><td>&quot; Producto &quot;</td><td>&quot; 3.53 Insectic…</td><td>1</td></tr><tr><td>&hellip;</td><td>&hellip;</td><td>&hellip;</td><td>&hellip;</td><td>&hellip;</td><td>&hellip;</td><td>&hellip;</td><td>&hellip;</td></tr><tr><td>&quot;ESE&quot;</td><td>&quot;CEB&quot;</td><td>&quot;04&quot;</td><td>6620</td><td>&quot;Exportaciones …</td><td>&quot; Producto &quot;</td><td>&quot; 3.33 Artículo…</td><td>1</td></tr><tr><td>&quot;ESE&quot;</td><td>&quot;CEB&quot;</td><td>&quot;04&quot;</td><td>6626</td><td>&quot;Exportaciones …</td><td>&quot; Producto &quot;</td><td>&quot; 3.39 Aceite v…</td><td>1</td></tr><tr><td>&quot;ESE&quot;</td><td>&quot;CEB&quot;</td><td>&quot;04&quot;</td><td>6637</td><td>&quot;Exportaciones …</td><td>&quot; Producto &quot;</td><td>&quot; 3.50 Artículo…</td><td>1</td></tr><tr><td>&quot;ESE&quot;</td><td>&quot;CEB&quot;</td><td>&quot;04&quot;</td><td>6660</td><td>&quot;Exportaciones …</td><td>&quot; Producto &quot;</td><td>&quot; 3.73 Maquinar…</td><td>1</td></tr><tr><td>&quot;ESE&quot;</td><td>&quot;CEB&quot;</td><td>&quot;04&quot;</td><td>6678</td><td>&quot;Exportaciones …</td><td>&quot; Producto &quot;</td><td>&quot; 3.92 Sal refi…</td><td>1</td></tr></tbody></table></div>"
      ],
      "text/plain": [
       "shape: (159, 8)\n",
       "┌──────────┬──────────┬──────────┬──────┬───────────────┬─────────────┬──────────────┬─────────────┐\n",
       "│ Niv_Gr_1 ┆ Niv_Gr_2 ┆ Niv_Gr_3 ┆ Id   ┆ Niv_Descr_1   ┆ Niv_Descr_2 ┆ Niv_Descr_3  ┆ N_Variables │\n",
       "│ ---      ┆ ---      ┆ ---      ┆ ---  ┆ ---           ┆ ---         ┆ ---          ┆ ---         │\n",
       "│ str      ┆ str      ┆ str      ┆ i64  ┆ str           ┆ str         ┆ str          ┆ u32         │\n",
       "╞══════════╪══════════╪══════════╪══════╪═══════════════╪═════════════╪══════════════╪═════════════╡\n",
       "│ ESE      ┆ CEB      ┆ 04       ┆ 6556 ┆ Exportaciones ┆  Producto   ┆  1.5 Piña    ┆ 1           │\n",
       "│          ┆          ┆          ┆      ┆ AE            ┆             ┆              ┆             │\n",
       "│ ESE      ┆ CEB      ┆ 04       ┆ 6562 ┆ Exportaciones ┆  Producto   ┆ 1.11         ┆ 1           │\n",
       "│          ┆          ┆          ┆      ┆ AE            ┆             ┆ Frijoles     ┆             │\n",
       "│          ┆          ┆          ┆      ┆               ┆             ┆ secos        ┆             │\n",
       "│ ESE      ┆ CEB      ┆ 04       ┆ 6563 ┆ Exportaciones ┆  Producto   ┆ 1.12 Otras   ┆ 1           │\n",
       "│          ┆          ┆          ┆      ┆ AE            ┆             ┆ frutas y     ┆             │\n",
       "│          ┆          ┆          ┆      ┆               ┆             ┆ semillas de… ┆             │\n",
       "│ ESE      ┆ CEB      ┆ 04       ┆ 6629 ┆ Exportaciones ┆  Producto   ┆ 3.42 Otros   ┆ 1           │\n",
       "│          ┆          ┆          ┆      ┆ AE            ┆             ┆ productos    ┆             │\n",
       "│          ┆          ┆          ┆      ┆               ┆             ┆ manufactur…  ┆             │\n",
       "│ ESE      ┆ CEB      ┆ 04       ┆ 6640 ┆ Exportaciones ┆  Producto   ┆ 3.53 Insecti ┆ 1           │\n",
       "│          ┆          ┆          ┆      ┆ AE            ┆             ┆ cidas,       ┆             │\n",
       "│          ┆          ┆          ┆      ┆               ┆             ┆ fungicidas,  ┆             │\n",
       "│          ┆          ┆          ┆      ┆               ┆             ┆ …            ┆             │\n",
       "│ …        ┆ …        ┆ …        ┆ …    ┆ …             ┆ …           ┆ …            ┆ …           │\n",
       "│ ESE      ┆ CEB      ┆ 04       ┆ 6620 ┆ Exportaciones ┆  Producto   ┆ 3.33         ┆ 1           │\n",
       "│          ┆          ┆          ┆      ┆ AE            ┆             ┆ Artículos de ┆             │\n",
       "│          ┆          ┆          ┆      ┆               ┆             ┆ hormigón, de ┆             │\n",
       "│          ┆          ┆          ┆      ┆               ┆             ┆ …            ┆             │\n",
       "│ ESE      ┆ CEB      ┆ 04       ┆ 6626 ┆ Exportaciones ┆  Producto   ┆ 3.39 Aceite  ┆ 1           │\n",
       "│          ┆          ┆          ┆      ┆ AE            ┆             ┆ vegetal de   ┆             │\n",
       "│          ┆          ┆          ┆      ┆               ┆             ┆ palma        ┆             │\n",
       "│ ESE      ┆ CEB      ┆ 04       ┆ 6637 ┆ Exportaciones ┆  Producto   ┆ 3.50         ┆ 1           │\n",
       "│          ┆          ┆          ┆      ┆ AE            ┆             ┆ Artículos    ┆             │\n",
       "│          ┆          ┆          ┆      ┆               ┆             ┆ textiles,    ┆             │\n",
       "│          ┆          ┆          ┆      ┆               ┆             ┆ excluy…      ┆             │\n",
       "│ ESE      ┆ CEB      ┆ 04       ┆ 6660 ┆ Exportaciones ┆  Producto   ┆ 3.73         ┆ 1           │\n",
       "│          ┆          ┆          ┆      ┆ AE            ┆             ┆ Maquinaria   ┆             │\n",
       "│          ┆          ┆          ┆      ┆               ┆             ┆ para la      ┆             │\n",
       "│          ┆          ┆          ┆      ┆               ┆             ┆ minería…     ┆             │\n",
       "│ ESE      ┆ CEB      ┆ 04       ┆ 6678 ┆ Exportaciones ┆  Producto   ┆ 3.92 Sal     ┆ 1           │\n",
       "│          ┆          ┆          ┆      ┆ AE            ┆             ┆ refinada     ┆             │\n",
       "└──────────┴──────────┴──────────┴──────┴───────────────┴─────────────┴──────────────┴─────────────┘"
      ]
     },
     "execution_count": 118,
     "metadata": {},
     "output_type": "execute_result"
    }
   ],
   "source": [
    "res_nivel_7(\n",
    "    \"ESE\",\"CEB\",\n",
    "    \"Niv_Gr_3\",\n",
    "    \"04\",\"Id\",\"Niv_Descr_1\",\"Niv_Descr_2\",\"Niv_Descr_3\")"
   ]
  },
  {
   "cell_type": "markdown",
   "id": "d9ee3a65",
   "metadata": {},
   "source": [
    "Resultados de una sola variable:\n"
   ]
  },
  {
   "cell_type": "code",
   "execution_count": 119,
   "id": "c7ca9110",
   "metadata": {},
   "outputs": [
    {
     "name": "stderr",
     "output_type": "stream",
     "text": [
      "<string>:29: FutureWarning:\n",
      "\n",
      "Passing literal json to 'read_json' is deprecated and will be removed in a future version. To read from a literal string, wrap it in a 'StringIO' object.\n",
      "\n"
     ]
    },
    {
     "name": "stderr",
     "output_type": "stream",
     "text": [
      "<string>:29: FutureWarning:\n",
      "\n",
      "Passing literal json to 'read_json' is deprecated and will be removed in a future version. To read from a literal string, wrap it in a 'StringIO' object.\n",
      "\n"
     ]
    },
    {
     "data": {
      "text/html": [
       "<div><style>\n",
       ".dataframe > thead > tr,\n",
       ".dataframe > tbody > tr {\n",
       "  text-align: right;\n",
       "  white-space: pre-wrap;\n",
       "}\n",
       "</style>\n",
       "<small>shape: (36, 2)</small><table border=\"1\" class=\"dataframe\"><thead><tr><th>Fecha</th><th>Exportaciones AE- Producto - 1.3 Otras hortalizas, legumbres y demás vegetales y semillas de hortalizas</th></tr><tr><td>date</td><td>f64</td></tr></thead><tbody><tr><td>2023-12-01</td><td>2331.321</td></tr><tr><td>2023-11-01</td><td>2083.6031</td></tr><tr><td>2023-10-01</td><td>2589.7748</td></tr><tr><td>2023-09-01</td><td>1473.4386</td></tr><tr><td>2023-08-01</td><td>2825.6754</td></tr><tr><td>&hellip;</td><td>&hellip;</td></tr><tr><td>2021-05-01</td><td>6966.3106</td></tr><tr><td>2021-04-01</td><td>5373.3219</td></tr><tr><td>2021-03-01</td><td>7928.1926</td></tr><tr><td>2021-02-01</td><td>6190.9441</td></tr><tr><td>2021-01-01</td><td>6049.6537</td></tr></tbody></table></div>"
      ],
      "text/plain": [
       "shape: (36, 2)\n",
       "┌────────────┬───────────────────────────────────┐\n",
       "│ Fecha      ┆ Exportaciones AE- Producto - 1.3… │\n",
       "│ ---        ┆ ---                               │\n",
       "│ date       ┆ f64                               │\n",
       "╞════════════╪═══════════════════════════════════╡\n",
       "│ 2023-12-01 ┆ 2331.321                          │\n",
       "│ 2023-11-01 ┆ 2083.6031                         │\n",
       "│ 2023-10-01 ┆ 2589.7748                         │\n",
       "│ 2023-09-01 ┆ 1473.4386                         │\n",
       "│ 2023-08-01 ┆ 2825.6754                         │\n",
       "│ …          ┆ …                                 │\n",
       "│ 2021-05-01 ┆ 6966.3106                         │\n",
       "│ 2021-04-01 ┆ 5373.3219                         │\n",
       "│ 2021-03-01 ┆ 7928.1926                         │\n",
       "│ 2021-02-01 ┆ 6190.9441                         │\n",
       "│ 2021-01-01 ┆ 6049.6537                         │\n",
       "└────────────┴───────────────────────────────────┘"
      ]
     },
     "execution_count": 119,
     "metadata": {},
     "output_type": "execute_result"
    }
   ],
   "source": [
    "Id = 6554\n",
    "df = get_df(Id)\n",
    "# get_plot(Id)\n",
    "df"
   ]
  },
  {
   "cell_type": "markdown",
   "id": "14e4bcd6",
   "metadata": {},
   "source": [
    "#### BP = Balanza de Pagos\n"
   ]
  },
  {
   "cell_type": "code",
   "execution_count": 120,
   "id": "7d9fbe79",
   "metadata": {},
   "outputs": [
    {
     "name": "stdout",
     "output_type": "stream",
     "text": [
      "1 subgrupos\n",
      "182 variables\n"
     ]
    },
    {
     "name": "stderr",
     "output_type": "stream",
     "text": [
      "<string>:29: FutureWarning:\n",
      "\n",
      "Passing literal json to 'read_json' is deprecated and will be removed in a future version. To read from a literal string, wrap it in a 'StringIO' object.\n",
      "\n"
     ]
    },
    {
     "data": {
      "text/html": [
       "<div><style>\n",
       ".dataframe > thead > tr,\n",
       ".dataframe > tbody > tr {\n",
       "  text-align: right;\n",
       "  white-space: pre-wrap;\n",
       "}\n",
       "</style>\n",
       "<small>shape: (1, 4)</small><table border=\"1\" class=\"dataframe\"><thead><tr><th>Niv_Gr_1</th><th>Niv_Gr_2</th><th>Niv_Gr_3</th><th>N_Variables</th></tr><tr><td>str</td><td>str</td><td>str</td><td>u32</td></tr></thead><tbody><tr><td>&quot;ESE&quot;</td><td>&quot;BP&quot;</td><td>&quot;01&quot;</td><td>182</td></tr></tbody></table></div>"
      ],
      "text/plain": [
       "shape: (1, 4)\n",
       "┌──────────┬──────────┬──────────┬─────────────┐\n",
       "│ Niv_Gr_1 ┆ Niv_Gr_2 ┆ Niv_Gr_3 ┆ N_Variables │\n",
       "│ ---      ┆ ---      ┆ ---      ┆ ---         │\n",
       "│ str      ┆ str      ┆ str      ┆ u32         │\n",
       "╞══════════╪══════════╪══════════╪═════════════╡\n",
       "│ ESE      ┆ BP       ┆ 01       ┆ 182         │\n",
       "└──────────┴──────────┴──────────┴─────────────┘"
      ]
     },
     "execution_count": 120,
     "metadata": {},
     "output_type": "execute_result"
    }
   ],
   "source": [
    "res_nivel_3(\"ESE\",\"BP\",\"Niv_Gr_3\")"
   ]
  },
  {
   "cell_type": "markdown",
   "id": "da2aa9aa",
   "metadata": {},
   "source": [
    "* Anual\n",
    "* Mensual\n"
   ]
  },
  {
   "cell_type": "code",
   "execution_count": 121,
   "id": "3d3e9cfa",
   "metadata": {},
   "outputs": [
    {
     "name": "stderr",
     "output_type": "stream",
     "text": [
      "<string>:29: FutureWarning:\n",
      "\n",
      "Passing literal json to 'read_json' is deprecated and will be removed in a future version. To read from a literal string, wrap it in a 'StringIO' object.\n",
      "\n"
     ]
    },
    {
     "data": {
      "text/html": [
       "<div><style>\n",
       ".dataframe > thead > tr,\n",
       ".dataframe > tbody > tr {\n",
       "  text-align: right;\n",
       "  white-space: pre-wrap;\n",
       "}\n",
       "</style>\n",
       "<small>shape: (2, 5)</small><table border=\"1\" class=\"dataframe\"><thead><tr><th>Niv_Gr_1</th><th>Niv_Gr_2</th><th>Niv_Gr_3</th><th>Niv_Descr_2</th><th>N_Variables</th></tr><tr><td>str</td><td>str</td><td>str</td><td>str</td><td>u32</td></tr></thead><tbody><tr><td>&quot;ESE&quot;</td><td>&quot;BP&quot;</td><td>&quot;01&quot;</td><td>&quot; Mensual&quot;</td><td>91</td></tr><tr><td>&quot;ESE&quot;</td><td>&quot;BP&quot;</td><td>&quot;01&quot;</td><td>&quot; Anual&quot;</td><td>91</td></tr></tbody></table></div>"
      ],
      "text/plain": [
       "shape: (2, 5)\n",
       "┌──────────┬──────────┬──────────┬─────────────┬─────────────┐\n",
       "│ Niv_Gr_1 ┆ Niv_Gr_2 ┆ Niv_Gr_3 ┆ Niv_Descr_2 ┆ N_Variables │\n",
       "│ ---      ┆ ---      ┆ ---      ┆ ---         ┆ ---         │\n",
       "│ str      ┆ str      ┆ str      ┆ str         ┆ u32         │\n",
       "╞══════════╪══════════╪══════════╪═════════════╪═════════════╡\n",
       "│ ESE      ┆ BP       ┆ 01       ┆  Mensual    ┆ 91          │\n",
       "│ ESE      ┆ BP       ┆ 01       ┆  Anual      ┆ 91          │\n",
       "└──────────┴──────────┴──────────┴─────────────┴─────────────┘"
      ]
     },
     "execution_count": 121,
     "metadata": {},
     "output_type": "execute_result"
    }
   ],
   "source": [
    "res_nivel_4(\n",
    "    \"ESE\",\"BP\",\n",
    "    \"Niv_Gr_3\",\n",
    "    \"01\",\n",
    "    \"Niv_Descr_2\")"
   ]
  },
  {
   "cell_type": "markdown",
   "id": "03dc597f",
   "metadata": {},
   "source": [
    "Por Componentes:\n"
   ]
  },
  {
   "cell_type": "code",
   "execution_count": 122,
   "id": "0c9ea163",
   "metadata": {},
   "outputs": [
    {
     "name": "stderr",
     "output_type": "stream",
     "text": [
      "<string>:29: FutureWarning:\n",
      "\n",
      "Passing literal json to 'read_json' is deprecated and will be removed in a future version. To read from a literal string, wrap it in a 'StringIO' object.\n",
      "\n"
     ]
    },
    {
     "data": {
      "text/html": [
       "<div><style>\n",
       ".dataframe > thead > tr,\n",
       ".dataframe > tbody > tr {\n",
       "  text-align: right;\n",
       "  white-space: pre-wrap;\n",
       "}\n",
       "</style>\n",
       "<small>shape: (90, 5)</small><table border=\"1\" class=\"dataframe\"><thead><tr><th>Niv_Gr_1</th><th>Niv_Gr_2</th><th>Niv_Gr_3</th><th>Niv_Descr_1</th><th>N_Variables</th></tr><tr><td>str</td><td>str</td><td>str</td><td>str</td><td>u32</td></tr></thead><tbody><tr><td>&quot;ESE&quot;</td><td>&quot;BP&quot;</td><td>&quot;01&quot;</td><td>&quot;1. Ingresos &quot;</td><td>4</td></tr><tr><td>&quot;ESE&quot;</td><td>&quot;BP&quot;</td><td>&quot;01&quot;</td><td>&quot; 2.1 Intereses…</td><td>2</td></tr><tr><td>&quot;ESE&quot;</td><td>&quot;BP&quot;</td><td>&quot;01&quot;</td><td>&quot;2. Débito &quot;</td><td>2</td></tr><tr><td>&quot;ESE&quot;</td><td>&quot;BP&quot;</td><td>&quot;01&quot;</td><td>&quot;3.1.2.2 Gobier…</td><td>2</td></tr><tr><td>&quot;ESE&quot;</td><td>&quot;BP&quot;</td><td>&quot;01&quot;</td><td>&quot;3.1.3  Moneda …</td><td>2</td></tr><tr><td>&hellip;</td><td>&hellip;</td><td>&hellip;</td><td>&hellip;</td><td>&hellip;</td></tr><tr><td>&quot;ESE&quot;</td><td>&quot;BP&quot;</td><td>&quot;01&quot;</td><td>&quot;3.2.4 Otros Pa…</td><td>2</td></tr><tr><td>&quot;ESE&quot;</td><td>&quot;BP&quot;</td><td>&quot;01&quot;</td><td>&quot;RESERVAS Y RUB…</td><td>2</td></tr><tr><td>&quot;ESE&quot;</td><td>&quot;BP&quot;</td><td>&quot;01&quot;</td><td>&quot;2. Uso de créd…</td><td>2</td></tr><tr><td>&quot;ESE&quot;</td><td>&quot;BP&quot;</td><td>&quot;01&quot;</td><td>&quot;CUENTA CORRIEN…</td><td>2</td></tr><tr><td>&quot;ESE&quot;</td><td>&quot;BP&quot;</td><td>&quot;01&quot;</td><td>&quot;3.1.4.2 Gobier…</td><td>2</td></tr></tbody></table></div>"
      ],
      "text/plain": [
       "shape: (90, 5)\n",
       "┌──────────┬──────────┬──────────┬─────────────────────────────────┬─────────────┐\n",
       "│ Niv_Gr_1 ┆ Niv_Gr_2 ┆ Niv_Gr_3 ┆ Niv_Descr_1                     ┆ N_Variables │\n",
       "│ ---      ┆ ---      ┆ ---      ┆ ---                             ┆ ---         │\n",
       "│ str      ┆ str      ┆ str      ┆ str                             ┆ u32         │\n",
       "╞══════════╪══════════╪══════════╪═════════════════════════════════╪═════════════╡\n",
       "│ ESE      ┆ BP       ┆ 01       ┆ 1. Ingresos                     ┆ 4           │\n",
       "│ ESE      ┆ BP       ┆ 01       ┆  2.1 Intereses                  ┆ 2           │\n",
       "│ ESE      ┆ BP       ┆ 01       ┆ 2. Débito                       ┆ 2           │\n",
       "│ ESE      ┆ BP       ┆ 01       ┆ 3.1.2.2 Gobierno General        ┆ 2           │\n",
       "│ ESE      ┆ BP       ┆ 01       ┆ 3.1.3  Moneda y Depósitos       ┆ 2           │\n",
       "│ …        ┆ …        ┆ …        ┆ …                               ┆ …           │\n",
       "│ ESE      ┆ BP       ┆ 01       ┆ 3.2.4 Otros Pasivos             ┆ 2           │\n",
       "│ ESE      ┆ BP       ┆ 01       ┆ RESERVAS Y RUBROS RELACIONADOS  ┆ 2           │\n",
       "│ ESE      ┆ BP       ┆ 01       ┆ 2. Uso de crédito del FMI       ┆ 2           │\n",
       "│ ESE      ┆ BP       ┆ 01       ┆ CUENTA CORRIENTE                ┆ 2           │\n",
       "│ ESE      ┆ BP       ┆ 01       ┆ 3.1.4.2 Gobierno General        ┆ 2           │\n",
       "└──────────┴──────────┴──────────┴─────────────────────────────────┴─────────────┘"
      ]
     },
     "execution_count": 122,
     "metadata": {},
     "output_type": "execute_result"
    }
   ],
   "source": [
    "res_nivel_4(\n",
    "    \"ESE\",\"BP\",\n",
    "    \"Niv_Gr_3\",\n",
    "    \"01\",\n",
    "    \"Niv_Descr_1\")"
   ]
  },
  {
   "cell_type": "markdown",
   "id": "52fe77f5",
   "metadata": {},
   "source": [
    "Para ver todas las variables:\n"
   ]
  },
  {
   "cell_type": "code",
   "execution_count": 123,
   "id": "2c16bc81",
   "metadata": {},
   "outputs": [
    {
     "name": "stderr",
     "output_type": "stream",
     "text": [
      "<string>:29: FutureWarning:\n",
      "\n",
      "Passing literal json to 'read_json' is deprecated and will be removed in a future version. To read from a literal string, wrap it in a 'StringIO' object.\n",
      "\n"
     ]
    },
    {
     "data": {
      "text/html": [
       "<div><style>\n",
       ".dataframe > thead > tr,\n",
       ".dataframe > tbody > tr {\n",
       "  text-align: right;\n",
       "  white-space: pre-wrap;\n",
       "}\n",
       "</style>\n",
       "<small>shape: (182, 8)</small><table border=\"1\" class=\"dataframe\"><thead><tr><th>Niv_Gr_1</th><th>Niv_Gr_2</th><th>Niv_Gr_3</th><th>Id</th><th>Nombre</th><th>Niv_Descr_2</th><th>Niv_Descr_1</th><th>N_Variables</th></tr><tr><td>str</td><td>str</td><td>str</td><td>i64</td><td>str</td><td>str</td><td>str</td><td>u32</td></tr></thead><tbody><tr><td>&quot;ESE&quot;</td><td>&quot;BP&quot;</td><td>&quot;01&quot;</td><td>6369</td><td>&quot;ESE-BP-01-94&quot;</td><td>&quot; Anual&quot;</td><td>&quot;1. Exportacion…</td><td>1</td></tr><tr><td>&quot;ESE&quot;</td><td>&quot;BP&quot;</td><td>&quot;01&quot;</td><td>6398</td><td>&quot;ESE-BP-01-123&quot;</td><td>&quot; Anual&quot;</td><td>&quot;d.c. Ingreso p…</td><td>1</td></tr><tr><td>&quot;ESE&quot;</td><td>&quot;BP&quot;</td><td>&quot;01&quot;</td><td>6404</td><td>&quot;ESE-BP-01-129&quot;</td><td>&quot; Anual&quot;</td><td>&quot;1.  Inversión …</td><td>1</td></tr><tr><td>&quot;ESE&quot;</td><td>&quot;BP&quot;</td><td>&quot;01&quot;</td><td>6409</td><td>&quot;ESE-BP-01-134&quot;</td><td>&quot; Anual&quot;</td><td>&quot;2.1.1 Acciones…</td><td>1</td></tr><tr><td>&quot;ESE&quot;</td><td>&quot;BP&quot;</td><td>&quot;01&quot;</td><td>6422</td><td>&quot;ESE-BP-01-147&quot;</td><td>&quot; Anual&quot;</td><td>&quot;3.1.2.4 Otros …</td><td>1</td></tr><tr><td>&hellip;</td><td>&hellip;</td><td>&hellip;</td><td>&hellip;</td><td>&hellip;</td><td>&hellip;</td><td>&hellip;</td><td>&hellip;</td></tr><tr><td>&quot;ESE&quot;</td><td>&quot;BP&quot;</td><td>&quot;01&quot;</td><td>6313</td><td>&quot;ESE-BP-01-38&quot;</td><td>&quot; Mensual&quot;</td><td>&quot;1.  Inversión …</td><td>1</td></tr><tr><td>&quot;ESE&quot;</td><td>&quot;BP&quot;</td><td>&quot;01&quot;</td><td>6317</td><td>&quot;ESE-BP-01-42&quot;</td><td>&quot; Mensual&quot;</td><td>&quot;2.1 Activos &quot;</td><td>1</td></tr><tr><td>&quot;ESE&quot;</td><td>&quot;BP&quot;</td><td>&quot;01&quot;</td><td>6325</td><td>&quot;ESE-BP-01-50&quot;</td><td>&quot; Mensual&quot;</td><td>&quot;3.1.1.1 Gobier…</td><td>1</td></tr><tr><td>&quot;ESE&quot;</td><td>&quot;BP&quot;</td><td>&quot;01&quot;</td><td>6335</td><td>&quot;ESE-BP-01-60&quot;</td><td>&quot; Mensual&quot;</td><td>&quot;3.1.3.3 Sector…</td><td>1</td></tr><tr><td>&quot;ESE&quot;</td><td>&quot;BP&quot;</td><td>&quot;01&quot;</td><td>6356</td><td>&quot;ESE-BP-01-81&quot;</td><td>&quot; Mensual&quot;</td><td>&quot;3.2.4 Otros Pa…</td><td>1</td></tr></tbody></table></div>"
      ],
      "text/plain": [
       "shape: (182, 8)\n",
       "┌──────────┬──────────┬──────────┬──────┬───────────────┬─────────────┬──────────────┬─────────────┐\n",
       "│ Niv_Gr_1 ┆ Niv_Gr_2 ┆ Niv_Gr_3 ┆ Id   ┆ Nombre        ┆ Niv_Descr_2 ┆ Niv_Descr_1  ┆ N_Variables │\n",
       "│ ---      ┆ ---      ┆ ---      ┆ ---  ┆ ---           ┆ ---         ┆ ---          ┆ ---         │\n",
       "│ str      ┆ str      ┆ str      ┆ i64  ┆ str           ┆ str         ┆ str          ┆ u32         │\n",
       "╞══════════╪══════════╪══════════╪══════╪═══════════════╪═════════════╪══════════════╪═════════════╡\n",
       "│ ESE      ┆ BP       ┆ 01       ┆ 6369 ┆ ESE-BP-01-94  ┆  Anual      ┆ 1. Exportaci ┆ 1           │\n",
       "│          ┆          ┆          ┆      ┆               ┆             ┆ ones FOB     ┆             │\n",
       "│ ESE      ┆ BP       ┆ 01       ┆ 6398 ┆ ESE-BP-01-123 ┆  Anual      ┆ d.c. Ingreso ┆ 1           │\n",
       "│          ┆          ┆          ┆      ┆               ┆             ┆ por Remesas  ┆             │\n",
       "│          ┆          ┆          ┆      ┆               ┆             ┆ Familia…     ┆             │\n",
       "│ ESE      ┆ BP       ┆ 01       ┆ 6404 ┆ ESE-BP-01-129 ┆  Anual      ┆ 1.           ┆ 1           │\n",
       "│          ┆          ┆          ┆      ┆               ┆             ┆ Inversión    ┆             │\n",
       "│          ┆          ┆          ┆      ┆               ┆             ┆ Directa      ┆             │\n",
       "│ ESE      ┆ BP       ┆ 01       ┆ 6409 ┆ ESE-BP-01-134 ┆  Anual      ┆ 2.1.1        ┆ 1           │\n",
       "│          ┆          ┆          ┆      ┆               ┆             ┆ Acciones y   ┆             │\n",
       "│          ┆          ┆          ┆      ┆               ┆             ┆ otras        ┆             │\n",
       "│          ┆          ┆          ┆      ┆               ┆             ┆ participa…   ┆             │\n",
       "│ ESE      ┆ BP       ┆ 01       ┆ 6422 ┆ ESE-BP-01-147 ┆  Anual      ┆ 3.1.2.4      ┆ 1           │\n",
       "│          ┆          ┆          ┆      ┆               ┆             ┆ Otros        ┆             │\n",
       "│          ┆          ┆          ┆      ┆               ┆             ┆ Sectores     ┆             │\n",
       "│ …        ┆ …        ┆ …        ┆ …    ┆ …             ┆ …           ┆ …            ┆ …           │\n",
       "│ ESE      ┆ BP       ┆ 01       ┆ 6313 ┆ ESE-BP-01-38  ┆  Mensual    ┆ 1.           ┆ 1           │\n",
       "│          ┆          ┆          ┆      ┆               ┆             ┆ Inversión    ┆             │\n",
       "│          ┆          ┆          ┆      ┆               ┆             ┆ Directa      ┆             │\n",
       "│ ESE      ┆ BP       ┆ 01       ┆ 6317 ┆ ESE-BP-01-42  ┆  Mensual    ┆ 2.1 Activos  ┆ 1           │\n",
       "│ ESE      ┆ BP       ┆ 01       ┆ 6325 ┆ ESE-BP-01-50  ┆  Mensual    ┆ 3.1.1.1      ┆ 1           │\n",
       "│          ┆          ┆          ┆      ┆               ┆             ┆ Gobierno     ┆             │\n",
       "│          ┆          ┆          ┆      ┆               ┆             ┆ General      ┆             │\n",
       "│ ESE      ┆ BP       ┆ 01       ┆ 6335 ┆ ESE-BP-01-60  ┆  Mensual    ┆ 3.1.3.3      ┆ 1           │\n",
       "│          ┆          ┆          ┆      ┆               ┆             ┆ Sector       ┆             │\n",
       "│          ┆          ┆          ┆      ┆               ┆             ┆ Financiero   ┆             │\n",
       "│ ESE      ┆ BP       ┆ 01       ┆ 6356 ┆ ESE-BP-01-81  ┆  Mensual    ┆ 3.2.4 Otros  ┆ 1           │\n",
       "│          ┆          ┆          ┆      ┆               ┆             ┆ Pasivos      ┆             │\n",
       "└──────────┴──────────┴──────────┴──────┴───────────────┴─────────────┴──────────────┴─────────────┘"
      ]
     },
     "execution_count": 123,
     "metadata": {},
     "output_type": "execute_result"
    }
   ],
   "source": [
    "res_nivel_7(\n",
    "    \"ESE\",\"BP\",\n",
    "    \"Niv_Gr_3\",\n",
    "    \"01\",\"Id\",\"Nombre\",\"Niv_Descr_2\",\"Niv_Descr_1\").sort(\"Niv_Descr_2\")"
   ]
  },
  {
   "cell_type": "markdown",
   "id": "cf17826b",
   "metadata": {},
   "source": [
    "Resultados de una sola variable:\n"
   ]
  },
  {
   "cell_type": "code",
   "execution_count": 124,
   "id": "d72dcd82",
   "metadata": {},
   "outputs": [
    {
     "name": "stderr",
     "output_type": "stream",
     "text": [
      "<string>:29: FutureWarning:\n",
      "\n",
      "Passing literal json to 'read_json' is deprecated and will be removed in a future version. To read from a literal string, wrap it in a 'StringIO' object.\n",
      "\n"
     ]
    },
    {
     "name": "stderr",
     "output_type": "stream",
     "text": [
      "<string>:29: FutureWarning:\n",
      "\n",
      "Passing literal json to 'read_json' is deprecated and will be removed in a future version. To read from a literal string, wrap it in a 'StringIO' object.\n",
      "\n"
     ]
    },
    {
     "data": {
      "text/html": [
       "<div><style>\n",
       ".dataframe > thead > tr,\n",
       ".dataframe > tbody > tr {\n",
       "  text-align: right;\n",
       "  white-space: pre-wrap;\n",
       "}\n",
       "</style>\n",
       "<small>shape: (80, 2)</small><table border=\"1\" class=\"dataframe\"><thead><tr><th>Fecha</th><th>2.1 Transporte - Mensual</th></tr><tr><td>date</td><td>f64</td></tr></thead><tbody><tr><td>2023-12-01</td><td>535.2</td></tr><tr><td>2023-09-01</td><td>491.4</td></tr><tr><td>2023-06-01</td><td>477.0</td></tr><tr><td>2023-03-01</td><td>461.7</td></tr><tr><td>2022-12-01</td><td>581.3</td></tr><tr><td>&hellip;</td><td>&hellip;</td></tr><tr><td>2005-03-01</td><td>116.1</td></tr><tr><td>2004-12-01</td><td>123.2</td></tr><tr><td>2004-09-01</td><td>113.6</td></tr><tr><td>2004-06-01</td><td>104.5</td></tr><tr><td>2004-03-01</td><td>98.1</td></tr></tbody></table></div>"
      ],
      "text/plain": [
       "shape: (80, 2)\n",
       "┌────────────┬──────────────────────────┐\n",
       "│ Fecha      ┆ 2.1 Transporte - Mensual │\n",
       "│ ---        ┆ ---                      │\n",
       "│ date       ┆ f64                      │\n",
       "╞════════════╪══════════════════════════╡\n",
       "│ 2023-12-01 ┆ 535.2                    │\n",
       "│ 2023-09-01 ┆ 491.4                    │\n",
       "│ 2023-06-01 ┆ 477.0                    │\n",
       "│ 2023-03-01 ┆ 461.7                    │\n",
       "│ 2022-12-01 ┆ 581.3                    │\n",
       "│ …          ┆ …                        │\n",
       "│ 2005-03-01 ┆ 116.1                    │\n",
       "│ 2004-12-01 ┆ 123.2                    │\n",
       "│ 2004-09-01 ┆ 113.6                    │\n",
       "│ 2004-06-01 ┆ 104.5                    │\n",
       "│ 2004-03-01 ┆ 98.1                     │\n",
       "└────────────┴──────────────────────────┘"
      ]
     },
     "execution_count": 124,
     "metadata": {},
     "output_type": "execute_result"
    }
   ],
   "source": [
    "Id = 6292\n",
    "df = get_df(Id)\n",
    "# get_plot(Id)\n",
    "df"
   ]
  },
  {
   "cell_type": "markdown",
   "id": "df6e6f8f",
   "metadata": {},
   "source": [
    "#### IES - Ingresos y Egresos de Servicios\n"
   ]
  },
  {
   "cell_type": "code",
   "execution_count": 125,
   "id": "d383af75",
   "metadata": {},
   "outputs": [
    {
     "name": "stdout",
     "output_type": "stream",
     "text": [
      "1 subgrupos\n",
      "28 variables\n"
     ]
    },
    {
     "name": "stderr",
     "output_type": "stream",
     "text": [
      "<string>:29: FutureWarning:\n",
      "\n",
      "Passing literal json to 'read_json' is deprecated and will be removed in a future version. To read from a literal string, wrap it in a 'StringIO' object.\n",
      "\n"
     ]
    },
    {
     "data": {
      "text/html": [
       "<div><style>\n",
       ".dataframe > thead > tr,\n",
       ".dataframe > tbody > tr {\n",
       "  text-align: right;\n",
       "  white-space: pre-wrap;\n",
       "}\n",
       "</style>\n",
       "<small>shape: (1, 4)</small><table border=\"1\" class=\"dataframe\"><thead><tr><th>Niv_Gr_1</th><th>Niv_Gr_2</th><th>Niv_Gr_3</th><th>N_Variables</th></tr><tr><td>str</td><td>str</td><td>str</td><td>u32</td></tr></thead><tbody><tr><td>&quot;ESE&quot;</td><td>&quot;IES&quot;</td><td>&quot;01&quot;</td><td>28</td></tr></tbody></table></div>"
      ],
      "text/plain": [
       "shape: (1, 4)\n",
       "┌──────────┬──────────┬──────────┬─────────────┐\n",
       "│ Niv_Gr_1 ┆ Niv_Gr_2 ┆ Niv_Gr_3 ┆ N_Variables │\n",
       "│ ---      ┆ ---      ┆ ---      ┆ ---         │\n",
       "│ str      ┆ str      ┆ str      ┆ u32         │\n",
       "╞══════════╪══════════╪══════════╪═════════════╡\n",
       "│ ESE      ┆ IES      ┆ 01       ┆ 28          │\n",
       "└──────────┴──────────┴──────────┴─────────────┘"
      ]
     },
     "execution_count": 125,
     "metadata": {},
     "output_type": "execute_result"
    }
   ],
   "source": [
    "res_nivel_3(\"ESE\",\"IES\",\"Niv_Gr_3\")"
   ]
  },
  {
   "cell_type": "markdown",
   "id": "1034b5dc",
   "metadata": {},
   "source": [
    "Periodicidad:\n",
    "\n",
    "* Anual\n",
    "* Trimestral\n"
   ]
  },
  {
   "cell_type": "code",
   "execution_count": 126,
   "id": "ec083ee9",
   "metadata": {},
   "outputs": [
    {
     "name": "stderr",
     "output_type": "stream",
     "text": [
      "<string>:29: FutureWarning:\n",
      "\n",
      "Passing literal json to 'read_json' is deprecated and will be removed in a future version. To read from a literal string, wrap it in a 'StringIO' object.\n",
      "\n"
     ]
    },
    {
     "data": {
      "text/html": [
       "<div><style>\n",
       ".dataframe > thead > tr,\n",
       ".dataframe > tbody > tr {\n",
       "  text-align: right;\n",
       "  white-space: pre-wrap;\n",
       "}\n",
       "</style>\n",
       "<small>shape: (2, 5)</small><table border=\"1\" class=\"dataframe\"><thead><tr><th>Niv_Gr_1</th><th>Niv_Gr_2</th><th>Niv_Descr_3</th><th>Niv_Descr_5</th><th>N_Variables</th></tr><tr><td>str</td><td>str</td><td>str</td><td>str</td><td>u32</td></tr></thead><tbody><tr><td>&quot;ESE&quot;</td><td>&quot;IES&quot;</td><td>&quot;01&quot;</td><td>&quot;Trimestral&quot;</td><td>14</td></tr><tr><td>&quot;ESE&quot;</td><td>&quot;IES&quot;</td><td>&quot;01&quot;</td><td>&quot;Anual&quot;</td><td>14</td></tr></tbody></table></div>"
      ],
      "text/plain": [
       "shape: (2, 5)\n",
       "┌──────────┬──────────┬─────────────┬─────────────┬─────────────┐\n",
       "│ Niv_Gr_1 ┆ Niv_Gr_2 ┆ Niv_Descr_3 ┆ Niv_Descr_5 ┆ N_Variables │\n",
       "│ ---      ┆ ---      ┆ ---         ┆ ---         ┆ ---         │\n",
       "│ str      ┆ str      ┆ str         ┆ str         ┆ u32         │\n",
       "╞══════════╪══════════╪═════════════╪═════════════╪═════════════╡\n",
       "│ ESE      ┆ IES      ┆ 01          ┆ Trimestral  ┆ 14          │\n",
       "│ ESE      ┆ IES      ┆ 01          ┆ Anual       ┆ 14          │\n",
       "└──────────┴──────────┴─────────────┴─────────────┴─────────────┘"
      ]
     },
     "execution_count": 126,
     "metadata": {},
     "output_type": "execute_result"
    }
   ],
   "source": [
    "res_nivel_4(\n",
    "    \"ESE\",\"IES\",\n",
    "    \"Niv_Descr_3\",\n",
    "    \"01\",\"Niv_Descr_5\")"
   ]
  },
  {
   "cell_type": "markdown",
   "id": "d298199c",
   "metadata": {},
   "source": [
    "Ingresos y Egresos:\n",
    "\n",
    "* Exportaciones (Ingresos)\n",
    "* Importaciones (Egresos)\n"
   ]
  },
  {
   "cell_type": "code",
   "execution_count": 127,
   "id": "382d401e",
   "metadata": {},
   "outputs": [
    {
     "name": "stderr",
     "output_type": "stream",
     "text": [
      "<string>:29: FutureWarning:\n",
      "\n",
      "Passing literal json to 'read_json' is deprecated and will be removed in a future version. To read from a literal string, wrap it in a 'StringIO' object.\n",
      "\n"
     ]
    },
    {
     "data": {
      "text/html": [
       "<div><style>\n",
       ".dataframe > thead > tr,\n",
       ".dataframe > tbody > tr {\n",
       "  text-align: right;\n",
       "  white-space: pre-wrap;\n",
       "}\n",
       "</style>\n",
       "<small>shape: (2, 5)</small><table border=\"1\" class=\"dataframe\"><thead><tr><th>Niv_Gr_1</th><th>Niv_Gr_2</th><th>Niv_Descr_3</th><th>Niv_Descr_6</th><th>N_Variables</th></tr><tr><td>str</td><td>str</td><td>str</td><td>str</td><td>u32</td></tr></thead><tbody><tr><td>&quot;ESE&quot;</td><td>&quot;IES&quot;</td><td>&quot;01&quot;</td><td>&quot;Importaciones …</td><td>16</td></tr><tr><td>&quot;ESE&quot;</td><td>&quot;IES&quot;</td><td>&quot;01&quot;</td><td>&quot;Exportaciones …</td><td>12</td></tr></tbody></table></div>"
      ],
      "text/plain": [
       "shape: (2, 5)\n",
       "┌──────────┬──────────┬─────────────┬──────────────────────────┬─────────────┐\n",
       "│ Niv_Gr_1 ┆ Niv_Gr_2 ┆ Niv_Descr_3 ┆ Niv_Descr_6              ┆ N_Variables │\n",
       "│ ---      ┆ ---      ┆ ---         ┆ ---                      ┆ ---         │\n",
       "│ str      ┆ str      ┆ str         ┆ str                      ┆ u32         │\n",
       "╞══════════╪══════════╪═════════════╪══════════════════════════╪═════════════╡\n",
       "│ ESE      ┆ IES      ┆ 01          ┆ Importaciones (Egresos)  ┆ 16          │\n",
       "│ ESE      ┆ IES      ┆ 01          ┆ Exportaciones (Ingresos) ┆ 12          │\n",
       "└──────────┴──────────┴─────────────┴──────────────────────────┴─────────────┘"
      ]
     },
     "execution_count": 127,
     "metadata": {},
     "output_type": "execute_result"
    }
   ],
   "source": [
    "res_nivel_4(\n",
    "    \"ESE\",\"IES\",\n",
    "    \"Niv_Descr_3\",\n",
    "    \"01\",\"Niv_Descr_6\")"
   ]
  },
  {
   "cell_type": "markdown",
   "id": "aba2c5c1",
   "metadata": {},
   "source": [
    "Variables:\n",
    "\n",
    "* Transporte\n",
    "* Viajes\n",
    "* Servicios de Comunicaciones\n",
    "* Otros Servicios Empresariales\n",
    "* Servicios de Gobierno\n",
    "* Otros Servicios\n",
    "* Servicios de Seguro\n",
    "* Servicios de InformÃ¡tica e Información\n",
    "* Servicios de RegalÃ­as y Derechos de Licencia\n"
   ]
  },
  {
   "cell_type": "code",
   "execution_count": 128,
   "id": "9283159c",
   "metadata": {},
   "outputs": [
    {
     "name": "stderr",
     "output_type": "stream",
     "text": [
      "<string>:29: FutureWarning:\n",
      "\n",
      "Passing literal json to 'read_json' is deprecated and will be removed in a future version. To read from a literal string, wrap it in a 'StringIO' object.\n",
      "\n"
     ]
    },
    {
     "data": {
      "text/html": [
       "<div><style>\n",
       ".dataframe > thead > tr,\n",
       ".dataframe > tbody > tr {\n",
       "  text-align: right;\n",
       "  white-space: pre-wrap;\n",
       "}\n",
       "</style>\n",
       "<small>shape: (9, 5)</small><table border=\"1\" class=\"dataframe\"><thead><tr><th>Niv_Gr_1</th><th>Niv_Gr_2</th><th>Niv_Descr_3</th><th>Niv_Descr_7</th><th>N_Variables</th></tr><tr><td>str</td><td>str</td><td>str</td><td>str</td><td>u32</td></tr></thead><tbody><tr><td>&quot;ESE&quot;</td><td>&quot;IES&quot;</td><td>&quot;01&quot;</td><td>&quot;Viajes&quot;</td><td>4</td></tr><tr><td>&quot;ESE&quot;</td><td>&quot;IES&quot;</td><td>&quot;01&quot;</td><td>&quot;Transporte&quot;</td><td>4</td></tr><tr><td>&quot;ESE&quot;</td><td>&quot;IES&quot;</td><td>&quot;01&quot;</td><td>&quot;Servicios de C…</td><td>4</td></tr><tr><td>&quot;ESE&quot;</td><td>&quot;IES&quot;</td><td>&quot;01&quot;</td><td>&quot;Otros Servicio…</td><td>4</td></tr><tr><td>&quot;ESE&quot;</td><td>&quot;IES&quot;</td><td>&quot;01&quot;</td><td>&quot;Otros Servicio…</td><td>4</td></tr><tr><td>&quot;ESE&quot;</td><td>&quot;IES&quot;</td><td>&quot;01&quot;</td><td>&quot;Servicios de G…</td><td>2</td></tr><tr><td>&quot;ESE&quot;</td><td>&quot;IES&quot;</td><td>&quot;01&quot;</td><td>&quot;Servicios de S…</td><td>2</td></tr><tr><td>&quot;ESE&quot;</td><td>&quot;IES&quot;</td><td>&quot;01&quot;</td><td>&quot;Servicios de I…</td><td>2</td></tr><tr><td>&quot;ESE&quot;</td><td>&quot;IES&quot;</td><td>&quot;01&quot;</td><td>&quot;Servicios de R…</td><td>2</td></tr></tbody></table></div>"
      ],
      "text/plain": [
       "shape: (9, 5)\n",
       "┌──────────┬──────────┬─────────────┬───────────────────────────────────┬─────────────┐\n",
       "│ Niv_Gr_1 ┆ Niv_Gr_2 ┆ Niv_Descr_3 ┆ Niv_Descr_7                       ┆ N_Variables │\n",
       "│ ---      ┆ ---      ┆ ---         ┆ ---                               ┆ ---         │\n",
       "│ str      ┆ str      ┆ str         ┆ str                               ┆ u32         │\n",
       "╞══════════╪══════════╪═════════════╪═══════════════════════════════════╪═════════════╡\n",
       "│ ESE      ┆ IES      ┆ 01          ┆ Viajes                            ┆ 4           │\n",
       "│ ESE      ┆ IES      ┆ 01          ┆ Transporte                        ┆ 4           │\n",
       "│ ESE      ┆ IES      ┆ 01          ┆ Servicios de Comunicaciones       ┆ 4           │\n",
       "│ ESE      ┆ IES      ┆ 01          ┆ Otros Servicios                   ┆ 4           │\n",
       "│ ESE      ┆ IES      ┆ 01          ┆ Otros Servicios Empresariales     ┆ 4           │\n",
       "│ ESE      ┆ IES      ┆ 01          ┆ Servicios de Gobierno             ┆ 2           │\n",
       "│ ESE      ┆ IES      ┆ 01          ┆ Servicios de Seguro               ┆ 2           │\n",
       "│ ESE      ┆ IES      ┆ 01          ┆ Servicios de Informática e Infor… ┆ 2           │\n",
       "│ ESE      ┆ IES      ┆ 01          ┆ Servicios de Regalías y Derechos… ┆ 2           │\n",
       "└──────────┴──────────┴─────────────┴───────────────────────────────────┴─────────────┘"
      ]
     },
     "execution_count": 128,
     "metadata": {},
     "output_type": "execute_result"
    }
   ],
   "source": [
    "res_nivel_4(\n",
    "    \"ESE\",\"IES\",\n",
    "    \"Niv_Descr_3\",\n",
    "    \"01\",\"Niv_Descr_7\")"
   ]
  },
  {
   "cell_type": "markdown",
   "id": "a8ef2169",
   "metadata": {},
   "source": [
    "Para ver todas las variables:\n"
   ]
  },
  {
   "cell_type": "code",
   "execution_count": 129,
   "id": "b629dafe",
   "metadata": {},
   "outputs": [
    {
     "name": "stderr",
     "output_type": "stream",
     "text": [
      "<string>:29: FutureWarning:\n",
      "\n",
      "Passing literal json to 'read_json' is deprecated and will be removed in a future version. To read from a literal string, wrap it in a 'StringIO' object.\n",
      "\n"
     ]
    },
    {
     "data": {
      "text/html": [
       "<div><style>\n",
       ".dataframe > thead > tr,\n",
       ".dataframe > tbody > tr {\n",
       "  text-align: right;\n",
       "  white-space: pre-wrap;\n",
       "}\n",
       "</style>\n",
       "<small>shape: (28, 8)</small><table border=\"1\" class=\"dataframe\"><thead><tr><th>Niv_Gr_1</th><th>Niv_Gr_2</th><th>Niv_Gr_3</th><th>Id</th><th>Niv_Descr_5</th><th>Niv_Descr_6</th><th>Niv_Descr_7</th><th>N_Variables</th></tr><tr><td>str</td><td>str</td><td>str</td><td>i64</td><td>str</td><td>str</td><td>str</td><td>u32</td></tr></thead><tbody><tr><td>&quot;ESE&quot;</td><td>&quot;IES&quot;</td><td>&quot;01&quot;</td><td>396</td><td>&quot;Trimestral&quot;</td><td>&quot;Importaciones …</td><td>&quot;Transporte&quot;</td><td>1</td></tr><tr><td>&quot;ESE&quot;</td><td>&quot;IES&quot;</td><td>&quot;01&quot;</td><td>399</td><td>&quot;Trimestral&quot;</td><td>&quot;Importaciones …</td><td>&quot;Servicios de S…</td><td>1</td></tr><tr><td>&quot;ESE&quot;</td><td>&quot;IES&quot;</td><td>&quot;01&quot;</td><td>380</td><td>&quot;Anual&quot;</td><td>&quot;Exportaciones …</td><td>&quot;Servicios de G…</td><td>1</td></tr><tr><td>&quot;ESE&quot;</td><td>&quot;IES&quot;</td><td>&quot;01&quot;</td><td>388</td><td>&quot;Anual&quot;</td><td>&quot;Importaciones …</td><td>&quot;Otros Servicio…</td><td>1</td></tr><tr><td>&quot;ESE&quot;</td><td>&quot;IES&quot;</td><td>&quot;01&quot;</td><td>389</td><td>&quot;Anual&quot;</td><td>&quot;Importaciones …</td><td>&quot;Otros Servicio…</td><td>1</td></tr><tr><td>&hellip;</td><td>&hellip;</td><td>&hellip;</td><td>&hellip;</td><td>&hellip;</td><td>&hellip;</td><td>&hellip;</td><td>&hellip;</td></tr><tr><td>&quot;ESE&quot;</td><td>&quot;IES&quot;</td><td>&quot;01&quot;</td><td>394</td><td>&quot;Trimestral&quot;</td><td>&quot;Exportaciones …</td><td>&quot;Servicios de G…</td><td>1</td></tr><tr><td>&quot;ESE&quot;</td><td>&quot;IES&quot;</td><td>&quot;01&quot;</td><td>392</td><td>&quot;Trimestral&quot;</td><td>&quot;Exportaciones …</td><td>&quot;Servicios de C…</td><td>1</td></tr><tr><td>&quot;ESE&quot;</td><td>&quot;IES&quot;</td><td>&quot;01&quot;</td><td>397</td><td>&quot;Trimestral&quot;</td><td>&quot;Importaciones …</td><td>&quot;Viajes&quot;</td><td>1</td></tr><tr><td>&quot;ESE&quot;</td><td>&quot;IES&quot;</td><td>&quot;01&quot;</td><td>398</td><td>&quot;Trimestral&quot;</td><td>&quot;Importaciones …</td><td>&quot;Servicios de C…</td><td>1</td></tr><tr><td>&quot;ESE&quot;</td><td>&quot;IES&quot;</td><td>&quot;01&quot;</td><td>400</td><td>&quot;Trimestral&quot;</td><td>&quot;Importaciones …</td><td>&quot;Servicios de I…</td><td>1</td></tr></tbody></table></div>"
      ],
      "text/plain": [
       "shape: (28, 8)\n",
       "┌──────────┬──────────┬──────────┬─────┬─────────────┬───────────────┬───────────────┬─────────────┐\n",
       "│ Niv_Gr_1 ┆ Niv_Gr_2 ┆ Niv_Gr_3 ┆ Id  ┆ Niv_Descr_5 ┆ Niv_Descr_6   ┆ Niv_Descr_7   ┆ N_Variables │\n",
       "│ ---      ┆ ---      ┆ ---      ┆ --- ┆ ---         ┆ ---           ┆ ---           ┆ ---         │\n",
       "│ str      ┆ str      ┆ str      ┆ i64 ┆ str         ┆ str           ┆ str           ┆ u32         │\n",
       "╞══════════╪══════════╪══════════╪═════╪═════════════╪═══════════════╪═══════════════╪═════════════╡\n",
       "│ ESE      ┆ IES      ┆ 01       ┆ 396 ┆ Trimestral  ┆ Importaciones ┆ Transporte    ┆ 1           │\n",
       "│          ┆          ┆          ┆     ┆             ┆ (Egresos)     ┆               ┆             │\n",
       "│ ESE      ┆ IES      ┆ 01       ┆ 399 ┆ Trimestral  ┆ Importaciones ┆ Servicios de  ┆ 1           │\n",
       "│          ┆          ┆          ┆     ┆             ┆ (Egresos)     ┆ Seguro        ┆             │\n",
       "│ ESE      ┆ IES      ┆ 01       ┆ 380 ┆ Anual       ┆ Exportaciones ┆ Servicios de  ┆ 1           │\n",
       "│          ┆          ┆          ┆     ┆             ┆ (Ingresos)    ┆ Gobierno      ┆             │\n",
       "│ ESE      ┆ IES      ┆ 01       ┆ 388 ┆ Anual       ┆ Importaciones ┆ Otros         ┆ 1           │\n",
       "│          ┆          ┆          ┆     ┆             ┆ (Egresos)     ┆ Servicios     ┆             │\n",
       "│          ┆          ┆          ┆     ┆             ┆               ┆ Empresariales ┆             │\n",
       "│ ESE      ┆ IES      ┆ 01       ┆ 389 ┆ Anual       ┆ Importaciones ┆ Otros         ┆ 1           │\n",
       "│          ┆          ┆          ┆     ┆             ┆ (Egresos)     ┆ Servicios     ┆             │\n",
       "│ …        ┆ …        ┆ …        ┆ …   ┆ …           ┆ …             ┆ …             ┆ …           │\n",
       "│ ESE      ┆ IES      ┆ 01       ┆ 394 ┆ Trimestral  ┆ Exportaciones ┆ Servicios de  ┆ 1           │\n",
       "│          ┆          ┆          ┆     ┆             ┆ (Ingresos)    ┆ Gobierno      ┆             │\n",
       "│ ESE      ┆ IES      ┆ 01       ┆ 392 ┆ Trimestral  ┆ Exportaciones ┆ Servicios de  ┆ 1           │\n",
       "│          ┆          ┆          ┆     ┆             ┆ (Ingresos)    ┆ Comunicacione ┆             │\n",
       "│          ┆          ┆          ┆     ┆             ┆               ┆ s             ┆             │\n",
       "│ ESE      ┆ IES      ┆ 01       ┆ 397 ┆ Trimestral  ┆ Importaciones ┆ Viajes        ┆ 1           │\n",
       "│          ┆          ┆          ┆     ┆             ┆ (Egresos)     ┆               ┆             │\n",
       "│ ESE      ┆ IES      ┆ 01       ┆ 398 ┆ Trimestral  ┆ Importaciones ┆ Servicios de  ┆ 1           │\n",
       "│          ┆          ┆          ┆     ┆             ┆ (Egresos)     ┆ Comunicacione ┆             │\n",
       "│          ┆          ┆          ┆     ┆             ┆               ┆ s             ┆             │\n",
       "│ ESE      ┆ IES      ┆ 01       ┆ 400 ┆ Trimestral  ┆ Importaciones ┆ Servicios de  ┆ 1           │\n",
       "│          ┆          ┆          ┆     ┆             ┆ (Egresos)     ┆ Informática e ┆             │\n",
       "│          ┆          ┆          ┆     ┆             ┆               ┆ Infor…        ┆             │\n",
       "└──────────┴──────────┴──────────┴─────┴─────────────┴───────────────┴───────────────┴─────────────┘"
      ]
     },
     "execution_count": 129,
     "metadata": {},
     "output_type": "execute_result"
    }
   ],
   "source": [
    "res_nivel_7(\n",
    "    \"ESE\",\"IES\",\n",
    "    \"Niv_Gr_3\",\n",
    "    \"01\",\"Id\",\"Niv_Descr_5\",\"Niv_Descr_6\",\"Niv_Descr_7\")"
   ]
  },
  {
   "cell_type": "markdown",
   "id": "d3d71952",
   "metadata": {},
   "source": [
    "Resultados de una sola variable:\n"
   ]
  },
  {
   "cell_type": "code",
   "execution_count": 130,
   "id": "3a525a1f",
   "metadata": {},
   "outputs": [
    {
     "name": "stderr",
     "output_type": "stream",
     "text": [
      "<string>:29: FutureWarning:\n",
      "\n",
      "Passing literal json to 'read_json' is deprecated and will be removed in a future version. To read from a literal string, wrap it in a 'StringIO' object.\n",
      "\n"
     ]
    },
    {
     "name": "stderr",
     "output_type": "stream",
     "text": [
      "<string>:29: FutureWarning:\n",
      "\n",
      "Passing literal json to 'read_json' is deprecated and will be removed in a future version. To read from a literal string, wrap it in a 'StringIO' object.\n",
      "\n"
     ]
    },
    {
     "data": {
      "text/html": [
       "<div><style>\n",
       ".dataframe > thead > tr,\n",
       ".dataframe > tbody > tr {\n",
       "  text-align: right;\n",
       "  white-space: pre-wrap;\n",
       "}\n",
       "</style>\n",
       "<small>shape: (48, 2)</small><table border=\"1\" class=\"dataframe\"><thead><tr><th>Fecha</th><th>ESE-IES-01-13-Anual-Importaciones (Egresos)-Otros Servicios Empresariales</th></tr><tr><td>date</td><td>f64</td></tr></thead><tbody><tr><td>2023-01-01</td><td>275.1</td></tr><tr><td>2023-01-01</td><td>275.1</td></tr><tr><td>2022-01-01</td><td>237.9</td></tr><tr><td>2022-01-01</td><td>237.9</td></tr><tr><td>2021-01-01</td><td>227.2</td></tr><tr><td>&hellip;</td><td>&hellip;</td></tr><tr><td>2002-01-01</td><td>48.1</td></tr><tr><td>2001-01-01</td><td>57.0</td></tr><tr><td>2001-01-01</td><td>57.0</td></tr><tr><td>2000-01-01</td><td>46.2</td></tr><tr><td>2000-01-01</td><td>46.2</td></tr></tbody></table></div>"
      ],
      "text/plain": [
       "shape: (48, 2)\n",
       "┌────────────┬───────────────────────────────────┐\n",
       "│ Fecha      ┆ ESE-IES-01-13-Anual-Importacione… │\n",
       "│ ---        ┆ ---                               │\n",
       "│ date       ┆ f64                               │\n",
       "╞════════════╪═══════════════════════════════════╡\n",
       "│ 2023-01-01 ┆ 275.1                             │\n",
       "│ 2023-01-01 ┆ 275.1                             │\n",
       "│ 2022-01-01 ┆ 237.9                             │\n",
       "│ 2022-01-01 ┆ 237.9                             │\n",
       "│ 2021-01-01 ┆ 227.2                             │\n",
       "│ …          ┆ …                                 │\n",
       "│ 2002-01-01 ┆ 48.1                              │\n",
       "│ 2001-01-01 ┆ 57.0                              │\n",
       "│ 2001-01-01 ┆ 57.0                              │\n",
       "│ 2000-01-01 ┆ 46.2                              │\n",
       "│ 2000-01-01 ┆ 46.2                              │\n",
       "└────────────┴───────────────────────────────────┘"
      ]
     },
     "execution_count": 130,
     "metadata": {},
     "output_type": "execute_result"
    }
   ],
   "source": [
    "Id = 388\n",
    "df = get_df(Id)\n",
    "# get_plot(Id)\n",
    "df"
   ]
  },
  {
   "cell_type": "markdown",
   "id": "12fe66c6",
   "metadata": {},
   "source": [
    "#### PII = Posición de Inversión Inernacional\n"
   ]
  },
  {
   "cell_type": "code",
   "execution_count": 131,
   "id": "48087001",
   "metadata": {},
   "outputs": [
    {
     "name": "stdout",
     "output_type": "stream",
     "text": [
      "1 subgrupos\n",
      "17 variables\n"
     ]
    },
    {
     "name": "stderr",
     "output_type": "stream",
     "text": [
      "<string>:29: FutureWarning:\n",
      "\n",
      "Passing literal json to 'read_json' is deprecated and will be removed in a future version. To read from a literal string, wrap it in a 'StringIO' object.\n",
      "\n"
     ]
    },
    {
     "data": {
      "text/html": [
       "<div><style>\n",
       ".dataframe > thead > tr,\n",
       ".dataframe > tbody > tr {\n",
       "  text-align: right;\n",
       "  white-space: pre-wrap;\n",
       "}\n",
       "</style>\n",
       "<small>shape: (1, 4)</small><table border=\"1\" class=\"dataframe\"><thead><tr><th>Niv_Gr_1</th><th>Niv_Gr_2</th><th>Niv_Gr_3</th><th>N_Variables</th></tr><tr><td>str</td><td>str</td><td>str</td><td>u32</td></tr></thead><tbody><tr><td>&quot;ESE&quot;</td><td>&quot;PII&quot;</td><td>&quot;01&quot;</td><td>17</td></tr></tbody></table></div>"
      ],
      "text/plain": [
       "shape: (1, 4)\n",
       "┌──────────┬──────────┬──────────┬─────────────┐\n",
       "│ Niv_Gr_1 ┆ Niv_Gr_2 ┆ Niv_Gr_3 ┆ N_Variables │\n",
       "│ ---      ┆ ---      ┆ ---      ┆ ---         │\n",
       "│ str      ┆ str      ┆ str      ┆ u32         │\n",
       "╞══════════╪══════════╪══════════╪═════════════╡\n",
       "│ ESE      ┆ PII      ┆ 01       ┆ 17          │\n",
       "└──────────┴──────────┴──────────┴─────────────┘"
      ]
     },
     "execution_count": 131,
     "metadata": {},
     "output_type": "execute_result"
    }
   ],
   "source": [
    "res_nivel_3(\"ESE\",\"PII\",\"Niv_Gr_3\")"
   ]
  },
  {
   "cell_type": "markdown",
   "id": "326650e3",
   "metadata": {},
   "source": [
    "Agrupación:\n",
    "\n",
    "* Posición de Inversión Internacional por Categorí­a  \n",
    "* Posición de los Activos Financieros con no Residentes por Componente \n",
    "* Posición de los Pasivos Financieros con no Residentes por Componente \n",
    "* Posición de Inversión Internacional Neta por Componente \n"
   ]
  },
  {
   "cell_type": "code",
   "execution_count": 132,
   "id": "22b2f5ed",
   "metadata": {},
   "outputs": [
    {
     "name": "stderr",
     "output_type": "stream",
     "text": [
      "<string>:29: FutureWarning:\n",
      "\n",
      "Passing literal json to 'read_json' is deprecated and will be removed in a future version. To read from a literal string, wrap it in a 'StringIO' object.\n",
      "\n"
     ]
    },
    {
     "data": {
      "text/html": [
       "<div><style>\n",
       ".dataframe > thead > tr,\n",
       ".dataframe > tbody > tr {\n",
       "  text-align: right;\n",
       "  white-space: pre-wrap;\n",
       "}\n",
       "</style>\n",
       "<small>shape: (4, 5)</small><table border=\"1\" class=\"dataframe\"><thead><tr><th>Niv_Gr_1</th><th>Niv_Gr_2</th><th>Niv_Gr_3</th><th>Niv_Descr_5</th><th>N_Variables</th></tr><tr><td>str</td><td>str</td><td>str</td><td>str</td><td>u32</td></tr></thead><tbody><tr><td>&quot;ESE&quot;</td><td>&quot;PII&quot;</td><td>&quot;01&quot;</td><td>&quot; Posición de l…</td><td>5</td></tr><tr><td>&quot;ESE&quot;</td><td>&quot;PII&quot;</td><td>&quot;01&quot;</td><td>&quot; Posición de I…</td><td>5</td></tr><tr><td>&quot;ESE&quot;</td><td>&quot;PII&quot;</td><td>&quot;01&quot;</td><td>&quot; Posición de l…</td><td>4</td></tr><tr><td>&quot;ESE&quot;</td><td>&quot;PII&quot;</td><td>&quot;01&quot;</td><td>&quot; Posición de I…</td><td>3</td></tr></tbody></table></div>"
      ],
      "text/plain": [
       "shape: (4, 5)\n",
       "┌──────────┬──────────┬──────────┬───────────────────────────────────┬─────────────┐\n",
       "│ Niv_Gr_1 ┆ Niv_Gr_2 ┆ Niv_Gr_3 ┆ Niv_Descr_5                       ┆ N_Variables │\n",
       "│ ---      ┆ ---      ┆ ---      ┆ ---                               ┆ ---         │\n",
       "│ str      ┆ str      ┆ str      ┆ str                               ┆ u32         │\n",
       "╞══════════╪══════════╪══════════╪═══════════════════════════════════╪═════════════╡\n",
       "│ ESE      ┆ PII      ┆ 01       ┆  Posición de los Activos Financi… ┆ 5           │\n",
       "│ ESE      ┆ PII      ┆ 01       ┆  Posición de Inversión Internaci… ┆ 5           │\n",
       "│ ESE      ┆ PII      ┆ 01       ┆  Posición de los Pasivos Financi… ┆ 4           │\n",
       "│ ESE      ┆ PII      ┆ 01       ┆  Posición de Inversión Internaci… ┆ 3           │\n",
       "└──────────┴──────────┴──────────┴───────────────────────────────────┴─────────────┘"
      ]
     },
     "execution_count": 132,
     "metadata": {},
     "output_type": "execute_result"
    }
   ],
   "source": [
    "res_nivel_4(\n",
    "    \"ESE\",\"PII\",\n",
    "    \"Niv_Gr_3\",\n",
    "    \"01\",\"Niv_Descr_5\")"
   ]
  },
  {
   "cell_type": "markdown",
   "id": "8523e52e",
   "metadata": {},
   "source": [
    "Cuentas:\n",
    "\n",
    "* Activos \n",
    "* Pasivos\n",
    "* PII Neta\n",
    "* Inversió³n extranjera directa\n",
    "* Inversión de cartera\n",
    "* Derivados financieros\n",
    "* Otra inversión\n",
    "* Activos de reservas lí­quidos oficiales\n"
   ]
  },
  {
   "cell_type": "code",
   "execution_count": 133,
   "id": "2084b5ce",
   "metadata": {},
   "outputs": [
    {
     "name": "stderr",
     "output_type": "stream",
     "text": [
      "<string>:29: FutureWarning:\n",
      "\n",
      "Passing literal json to 'read_json' is deprecated and will be removed in a future version. To read from a literal string, wrap it in a 'StringIO' object.\n",
      "\n"
     ]
    },
    {
     "data": {
      "text/html": [
       "<div><style>\n",
       ".dataframe > thead > tr,\n",
       ".dataframe > tbody > tr {\n",
       "  text-align: right;\n",
       "  white-space: pre-wrap;\n",
       "}\n",
       "</style>\n",
       "<small>shape: (8, 5)</small><table border=\"1\" class=\"dataframe\"><thead><tr><th>Niv_Gr_1</th><th>Niv_Gr_2</th><th>Niv_Gr_3</th><th>Niv_Descr_6</th><th>N_Variables</th></tr><tr><td>str</td><td>str</td><td>str</td><td>str</td><td>u32</td></tr></thead><tbody><tr><td>&quot;ESE&quot;</td><td>&quot;PII&quot;</td><td>&quot;01&quot;</td><td>&quot; Derivados fin…</td><td>3</td></tr><tr><td>&quot;ESE&quot;</td><td>&quot;PII&quot;</td><td>&quot;01&quot;</td><td>&quot; Otra inversió…</td><td>3</td></tr><tr><td>&quot;ESE&quot;</td><td>&quot;PII&quot;</td><td>&quot;01&quot;</td><td>&quot; Inversión de …</td><td>3</td></tr><tr><td>&quot;ESE&quot;</td><td>&quot;PII&quot;</td><td>&quot;01&quot;</td><td>&quot; Inversión ext…</td><td>3</td></tr><tr><td>&quot;ESE&quot;</td><td>&quot;PII&quot;</td><td>&quot;01&quot;</td><td>&quot; Activos de re…</td><td>2</td></tr><tr><td>&quot;ESE&quot;</td><td>&quot;PII&quot;</td><td>&quot;01&quot;</td><td>&quot; PII Neta&quot;</td><td>1</td></tr><tr><td>&quot;ESE&quot;</td><td>&quot;PII&quot;</td><td>&quot;01&quot;</td><td>&quot; Pasivos&quot;</td><td>1</td></tr><tr><td>&quot;ESE&quot;</td><td>&quot;PII&quot;</td><td>&quot;01&quot;</td><td>&quot; Activos &quot;</td><td>1</td></tr></tbody></table></div>"
      ],
      "text/plain": [
       "shape: (8, 5)\n",
       "┌──────────┬──────────┬──────────┬───────────────────────────────────┬─────────────┐\n",
       "│ Niv_Gr_1 ┆ Niv_Gr_2 ┆ Niv_Gr_3 ┆ Niv_Descr_6                       ┆ N_Variables │\n",
       "│ ---      ┆ ---      ┆ ---      ┆ ---                               ┆ ---         │\n",
       "│ str      ┆ str      ┆ str      ┆ str                               ┆ u32         │\n",
       "╞══════════╪══════════╪══════════╪═══════════════════════════════════╪═════════════╡\n",
       "│ ESE      ┆ PII      ┆ 01       ┆  Derivados financieros            ┆ 3           │\n",
       "│ ESE      ┆ PII      ┆ 01       ┆  Otra inversión                   ┆ 3           │\n",
       "│ ESE      ┆ PII      ┆ 01       ┆  Inversión de cartera             ┆ 3           │\n",
       "│ ESE      ┆ PII      ┆ 01       ┆  Inversión extranjera directa     ┆ 3           │\n",
       "│ ESE      ┆ PII      ┆ 01       ┆  Activos de reservas líquidos of… ┆ 2           │\n",
       "│ ESE      ┆ PII      ┆ 01       ┆  PII Neta                         ┆ 1           │\n",
       "│ ESE      ┆ PII      ┆ 01       ┆  Pasivos                          ┆ 1           │\n",
       "│ ESE      ┆ PII      ┆ 01       ┆  Activos                          ┆ 1           │\n",
       "└──────────┴──────────┴──────────┴───────────────────────────────────┴─────────────┘"
      ]
     },
     "execution_count": 133,
     "metadata": {},
     "output_type": "execute_result"
    }
   ],
   "source": [
    "res_nivel_4(\n",
    "    \"ESE\",\"PII\",\n",
    "    \"Niv_Gr_3\",\n",
    "    \"01\",\"Niv_Descr_6\")"
   ]
  },
  {
   "cell_type": "markdown",
   "id": "70b0e1bf",
   "metadata": {},
   "source": [
    "Para ver todas las variables:\n"
   ]
  },
  {
   "cell_type": "code",
   "execution_count": 134,
   "id": "81b5d4b9",
   "metadata": {},
   "outputs": [
    {
     "name": "stderr",
     "output_type": "stream",
     "text": [
      "<string>:29: FutureWarning:\n",
      "\n",
      "Passing literal json to 'read_json' is deprecated and will be removed in a future version. To read from a literal string, wrap it in a 'StringIO' object.\n",
      "\n"
     ]
    },
    {
     "data": {
      "text/html": [
       "<div><style>\n",
       ".dataframe > thead > tr,\n",
       ".dataframe > tbody > tr {\n",
       "  text-align: right;\n",
       "  white-space: pre-wrap;\n",
       "}\n",
       "</style>\n",
       "<small>shape: (17, 8)</small><table border=\"1\" class=\"dataframe\"><thead><tr><th>Niv_Gr_1</th><th>Niv_Gr_2</th><th>Niv_Gr_3</th><th>Id</th><th>Nombre</th><th>Niv_Descr_5</th><th>Niv_Descr_6</th><th>N_Variables</th></tr><tr><td>str</td><td>str</td><td>str</td><td>i64</td><td>str</td><td>str</td><td>str</td><td>u32</td></tr></thead><tbody><tr><td>&quot;ESE&quot;</td><td>&quot;PII&quot;</td><td>&quot;01&quot;</td><td>487</td><td>&quot;ESE-PII-01-A8&quot;</td><td>&quot; Posición de l…</td><td>&quot; Activos de re…</td><td>1</td></tr><tr><td>&quot;ESE&quot;</td><td>&quot;PII&quot;</td><td>&quot;01&quot;</td><td>489</td><td>&quot;ESE-PII-01-A10…</td><td>&quot; Posición de l…</td><td>&quot; Inversión de …</td><td>1</td></tr><tr><td>&quot;ESE&quot;</td><td>&quot;PII&quot;</td><td>&quot;01&quot;</td><td>486</td><td>&quot;ESE-PII-01-A7&quot;</td><td>&quot; Posición de l…</td><td>&quot; Otra inversió…</td><td>1</td></tr><tr><td>&quot;ESE&quot;</td><td>&quot;PII&quot;</td><td>&quot;01&quot;</td><td>480</td><td>&quot;ESE-PII-01-A1&quot;</td><td>&quot; Posición de I…</td><td>&quot; Activos &quot;</td><td>1</td></tr><tr><td>&quot;ESE&quot;</td><td>&quot;PII&quot;</td><td>&quot;01&quot;</td><td>493</td><td>&quot;ESE-PII-01-A14…</td><td>&quot; Posición de I…</td><td>&quot; Inversión de …</td><td>1</td></tr><tr><td>&hellip;</td><td>&hellip;</td><td>&hellip;</td><td>&hellip;</td><td>&hellip;</td><td>&hellip;</td><td>&hellip;</td><td>&hellip;</td></tr><tr><td>&quot;ESE&quot;</td><td>&quot;PII&quot;</td><td>&quot;01&quot;</td><td>494</td><td>&quot;ESE-PII-01-A15…</td><td>&quot; Posición de I…</td><td>&quot; Derivados fin…</td><td>1</td></tr><tr><td>&quot;ESE&quot;</td><td>&quot;PII&quot;</td><td>&quot;01&quot;</td><td>482</td><td>&quot;ESE-PII-01-A3&quot;</td><td>&quot; Posición de I…</td><td>&quot; PII Neta&quot;</td><td>1</td></tr><tr><td>&quot;ESE&quot;</td><td>&quot;PII&quot;</td><td>&quot;01&quot;</td><td>491</td><td>&quot;ESE-PII-01-A12…</td><td>&quot; Posición de l…</td><td>&quot; Otra inversió…</td><td>1</td></tr><tr><td>&quot;ESE&quot;</td><td>&quot;PII&quot;</td><td>&quot;01&quot;</td><td>496</td><td>&quot;ESE-PII-01-A17…</td><td>&quot; Posición de I…</td><td>&quot; Activos de re…</td><td>1</td></tr><tr><td>&quot;ESE&quot;</td><td>&quot;PII&quot;</td><td>&quot;01&quot;</td><td>484</td><td>&quot;ESE-PII-01-A5&quot;</td><td>&quot; Posición de l…</td><td>&quot; Inversión de …</td><td>1</td></tr></tbody></table></div>"
      ],
      "text/plain": [
       "shape: (17, 8)\n",
       "┌──────────┬──────────┬──────────┬─────┬───────────────┬──────────────┬──────────────┬─────────────┐\n",
       "│ Niv_Gr_1 ┆ Niv_Gr_2 ┆ Niv_Gr_3 ┆ Id  ┆ Nombre        ┆ Niv_Descr_5  ┆ Niv_Descr_6  ┆ N_Variables │\n",
       "│ ---      ┆ ---      ┆ ---      ┆ --- ┆ ---           ┆ ---          ┆ ---          ┆ ---         │\n",
       "│ str      ┆ str      ┆ str      ┆ i64 ┆ str           ┆ str          ┆ str          ┆ u32         │\n",
       "╞══════════╪══════════╪══════════╪═════╪═══════════════╪══════════════╪══════════════╪═════════════╡\n",
       "│ ESE      ┆ PII      ┆ 01       ┆ 487 ┆ ESE-PII-01-A8 ┆ Posición de  ┆ Activos de   ┆ 1           │\n",
       "│          ┆          ┆          ┆     ┆               ┆ los Activos  ┆ reservas     ┆             │\n",
       "│          ┆          ┆          ┆     ┆               ┆ Financi…     ┆ líquidos of… ┆             │\n",
       "│ ESE      ┆ PII      ┆ 01       ┆ 489 ┆ ESE-PII-01-A1 ┆ Posición de  ┆ Inversión de ┆ 1           │\n",
       "│          ┆          ┆          ┆     ┆ 0             ┆ los Pasivos  ┆ cartera      ┆             │\n",
       "│          ┆          ┆          ┆     ┆               ┆ Financi…     ┆              ┆             │\n",
       "│ ESE      ┆ PII      ┆ 01       ┆ 486 ┆ ESE-PII-01-A7 ┆ Posición de  ┆ Otra         ┆ 1           │\n",
       "│          ┆          ┆          ┆     ┆               ┆ los Activos  ┆ inversión    ┆             │\n",
       "│          ┆          ┆          ┆     ┆               ┆ Financi…     ┆              ┆             │\n",
       "│ ESE      ┆ PII      ┆ 01       ┆ 480 ┆ ESE-PII-01-A1 ┆ Posición de  ┆  Activos     ┆ 1           │\n",
       "│          ┆          ┆          ┆     ┆               ┆ Inversión    ┆              ┆             │\n",
       "│          ┆          ┆          ┆     ┆               ┆ Internaci…   ┆              ┆             │\n",
       "│ ESE      ┆ PII      ┆ 01       ┆ 493 ┆ ESE-PII-01-A1 ┆ Posición de  ┆ Inversión de ┆ 1           │\n",
       "│          ┆          ┆          ┆     ┆ 4             ┆ Inversión    ┆ cartera      ┆             │\n",
       "│          ┆          ┆          ┆     ┆               ┆ Internaci…   ┆              ┆             │\n",
       "│ …        ┆ …        ┆ …        ┆ …   ┆ …             ┆ …            ┆ …            ┆ …           │\n",
       "│ ESE      ┆ PII      ┆ 01       ┆ 494 ┆ ESE-PII-01-A1 ┆ Posición de  ┆ Derivados    ┆ 1           │\n",
       "│          ┆          ┆          ┆     ┆ 5             ┆ Inversión    ┆ financieros  ┆             │\n",
       "│          ┆          ┆          ┆     ┆               ┆ Internaci…   ┆              ┆             │\n",
       "│ ESE      ┆ PII      ┆ 01       ┆ 482 ┆ ESE-PII-01-A3 ┆ Posición de  ┆  PII Neta    ┆ 1           │\n",
       "│          ┆          ┆          ┆     ┆               ┆ Inversión    ┆              ┆             │\n",
       "│          ┆          ┆          ┆     ┆               ┆ Internaci…   ┆              ┆             │\n",
       "│ ESE      ┆ PII      ┆ 01       ┆ 491 ┆ ESE-PII-01-A1 ┆ Posición de  ┆ Otra         ┆ 1           │\n",
       "│          ┆          ┆          ┆     ┆ 2             ┆ los Pasivos  ┆ inversión    ┆             │\n",
       "│          ┆          ┆          ┆     ┆               ┆ Financi…     ┆              ┆             │\n",
       "│ ESE      ┆ PII      ┆ 01       ┆ 496 ┆ ESE-PII-01-A1 ┆ Posición de  ┆ Activos de   ┆ 1           │\n",
       "│          ┆          ┆          ┆     ┆ 7             ┆ Inversión    ┆ reservas     ┆             │\n",
       "│          ┆          ┆          ┆     ┆               ┆ Internaci…   ┆ líquidos of… ┆             │\n",
       "│ ESE      ┆ PII      ┆ 01       ┆ 484 ┆ ESE-PII-01-A5 ┆ Posición de  ┆ Inversión de ┆ 1           │\n",
       "│          ┆          ┆          ┆     ┆               ┆ los Activos  ┆ cartera      ┆             │\n",
       "│          ┆          ┆          ┆     ┆               ┆ Financi…     ┆              ┆             │\n",
       "└──────────┴──────────┴──────────┴─────┴───────────────┴──────────────┴──────────────┴─────────────┘"
      ]
     },
     "execution_count": 134,
     "metadata": {},
     "output_type": "execute_result"
    }
   ],
   "source": [
    "res_nivel_7(\n",
    "    \"ESE\",\"PII\",\n",
    "    \"Niv_Gr_3\",\n",
    "    \"01\",\"Id\",\"Nombre\",\"Niv_Descr_5\",\"Niv_Descr_6\")"
   ]
  },
  {
   "cell_type": "markdown",
   "id": "45cc9313",
   "metadata": {},
   "source": [
    "Resultados de una sola variable:\n"
   ]
  },
  {
   "cell_type": "code",
   "execution_count": 135,
   "id": "6845551b",
   "metadata": {},
   "outputs": [
    {
     "name": "stderr",
     "output_type": "stream",
     "text": [
      "<string>:29: FutureWarning:\n",
      "\n",
      "Passing literal json to 'read_json' is deprecated and will be removed in a future version. To read from a literal string, wrap it in a 'StringIO' object.\n",
      "\n"
     ]
    },
    {
     "name": "stderr",
     "output_type": "stream",
     "text": [
      "<string>:29: FutureWarning:\n",
      "\n",
      "Passing literal json to 'read_json' is deprecated and will be removed in a future version. To read from a literal string, wrap it in a 'StringIO' object.\n",
      "\n"
     ]
    },
    {
     "data": {
      "text/html": [
       "<div><style>\n",
       ".dataframe > thead > tr,\n",
       ".dataframe > tbody > tr {\n",
       "  text-align: right;\n",
       "  white-space: pre-wrap;\n",
       "}\n",
       "</style>\n",
       "<small>shape: (128, 2)</small><table border=\"1\" class=\"dataframe\"><thead><tr><th>Fecha</th><th>ESE-PII-01 - D - Posición de Inversión Internacional Neta por Componente - Activos de reservas líquidos oficiales</th></tr><tr><td>date</td><td>f64</td></tr></thead><tbody><tr><td>2023-12-01</td><td>7543.8</td></tr><tr><td>2023-12-01</td><td>7543.8</td></tr><tr><td>2023-09-01</td><td>7675.0</td></tr><tr><td>2023-09-01</td><td>7675.0</td></tr><tr><td>2023-06-01</td><td>7902.2</td></tr><tr><td>&hellip;</td><td>&hellip;</td></tr><tr><td>2008-09-01</td><td>2350.1</td></tr><tr><td>2008-06-01</td><td>2541.4</td></tr><tr><td>2008-06-01</td><td>2541.4</td></tr><tr><td>2008-03-01</td><td>2512.7</td></tr><tr><td>2008-03-01</td><td>2512.7</td></tr></tbody></table></div>"
      ],
      "text/plain": [
       "shape: (128, 2)\n",
       "┌────────────┬───────────────────────────────────┐\n",
       "│ Fecha      ┆ ESE-PII-01 - D - Posición de Inv… │\n",
       "│ ---        ┆ ---                               │\n",
       "│ date       ┆ f64                               │\n",
       "╞════════════╪═══════════════════════════════════╡\n",
       "│ 2023-12-01 ┆ 7543.8                            │\n",
       "│ 2023-12-01 ┆ 7543.8                            │\n",
       "│ 2023-09-01 ┆ 7675.0                            │\n",
       "│ 2023-09-01 ┆ 7675.0                            │\n",
       "│ 2023-06-01 ┆ 7902.2                            │\n",
       "│ …          ┆ …                                 │\n",
       "│ 2008-09-01 ┆ 2350.1                            │\n",
       "│ 2008-06-01 ┆ 2541.4                            │\n",
       "│ 2008-06-01 ┆ 2541.4                            │\n",
       "│ 2008-03-01 ┆ 2512.7                            │\n",
       "│ 2008-03-01 ┆ 2512.7                            │\n",
       "└────────────┴───────────────────────────────────┘"
      ]
     },
     "execution_count": 135,
     "metadata": {},
     "output_type": "execute_result"
    }
   ],
   "source": [
    "Id = 496\n",
    "df = get_df(Id)\n",
    "# get_plot(Id)\n",
    "df"
   ]
  },
  {
   "cell_type": "markdown",
   "id": "b8e08bfc",
   "metadata": {},
   "source": [
    "#### IED = Inversión Extranjera Directa\n"
   ]
  },
  {
   "cell_type": "code",
   "execution_count": 136,
   "id": "787fe7fe",
   "metadata": {},
   "outputs": [
    {
     "name": "stdout",
     "output_type": "stream",
     "text": [
      "1 subgrupos\n",
      "10 variables\n"
     ]
    },
    {
     "name": "stderr",
     "output_type": "stream",
     "text": [
      "<string>:29: FutureWarning:\n",
      "\n",
      "Passing literal json to 'read_json' is deprecated and will be removed in a future version. To read from a literal string, wrap it in a 'StringIO' object.\n",
      "\n"
     ]
    },
    {
     "data": {
      "text/html": [
       "<div><style>\n",
       ".dataframe > thead > tr,\n",
       ".dataframe > tbody > tr {\n",
       "  text-align: right;\n",
       "  white-space: pre-wrap;\n",
       "}\n",
       "</style>\n",
       "<small>shape: (1, 4)</small><table border=\"1\" class=\"dataframe\"><thead><tr><th>Niv_Gr_1</th><th>Niv_Gr_2</th><th>Niv_Gr_3</th><th>N_Variables</th></tr><tr><td>str</td><td>str</td><td>str</td><td>u32</td></tr></thead><tbody><tr><td>&quot;ESE&quot;</td><td>&quot;IED&quot;</td><td>&quot;01&quot;</td><td>10</td></tr></tbody></table></div>"
      ],
      "text/plain": [
       "shape: (1, 4)\n",
       "┌──────────┬──────────┬──────────┬─────────────┐\n",
       "│ Niv_Gr_1 ┆ Niv_Gr_2 ┆ Niv_Gr_3 ┆ N_Variables │\n",
       "│ ---      ┆ ---      ┆ ---      ┆ ---         │\n",
       "│ str      ┆ str      ┆ str      ┆ u32         │\n",
       "╞══════════╪══════════╪══════════╪═════════════╡\n",
       "│ ESE      ┆ IED      ┆ 01       ┆ 10          │\n",
       "└──────────┴──────────┴──────────┴─────────────┘"
      ]
     },
     "execution_count": 136,
     "metadata": {},
     "output_type": "execute_result"
    }
   ],
   "source": [
    "res_nivel_3(\"ESE\",\"IED\",\"Niv_Gr_3\")"
   ]
  },
  {
   "cell_type": "markdown",
   "id": "ccacdc59",
   "metadata": {},
   "source": [
    "Para ver todas las variables:\n"
   ]
  },
  {
   "cell_type": "code",
   "execution_count": 137,
   "id": "b997b0e9",
   "metadata": {},
   "outputs": [
    {
     "name": "stderr",
     "output_type": "stream",
     "text": [
      "<string>:29: FutureWarning:\n",
      "\n",
      "Passing literal json to 'read_json' is deprecated and will be removed in a future version. To read from a literal string, wrap it in a 'StringIO' object.\n",
      "\n"
     ]
    },
    {
     "data": {
      "text/html": [
       "<div><style>\n",
       ".dataframe > thead > tr,\n",
       ".dataframe > tbody > tr {\n",
       "  text-align: right;\n",
       "  white-space: pre-wrap;\n",
       "}\n",
       "</style>\n",
       "<small>shape: (10, 7)</small><table border=\"1\" class=\"dataframe\"><thead><tr><th>Niv_Gr_1</th><th>Niv_Gr_2</th><th>Niv_Gr_3</th><th>Id</th><th>Nombre</th><th>Niv_Descr_4</th><th>N_Variables</th></tr><tr><td>str</td><td>str</td><td>str</td><td>i64</td><td>str</td><td>str</td><td>u32</td></tr></thead><tbody><tr><td>&quot;ESE&quot;</td><td>&quot;IED&quot;</td><td>&quot;01&quot;</td><td>413</td><td>&quot;ESE-IED-01-9&quot;</td><td>&quot; IED Total&quot;</td><td>1</td></tr><tr><td>&quot;ESE&quot;</td><td>&quot;IED&quot;</td><td>&quot;01&quot;</td><td>404</td><td>&quot;ESE-IED-01-1&quot;</td><td>&quot; Agricultura, …</td><td>1</td></tr><tr><td>&quot;ESE&quot;</td><td>&quot;IED&quot;</td><td>&quot;01&quot;</td><td>409</td><td>&quot;ESE-IED-01-5&quot;</td><td>&quot; Industria de …</td><td>1</td></tr><tr><td>&quot;ESE&quot;</td><td>&quot;IED&quot;</td><td>&quot;01&quot;</td><td>411</td><td>&quot;ESE-IED-01-7&quot;</td><td>&quot; Minas y Cante…</td><td>1</td></tr><tr><td>&quot;ESE&quot;</td><td>&quot;IED&quot;</td><td>&quot;01&quot;</td><td>412</td><td>&quot;ESE-IED-01-8&quot;</td><td>&quot; Servicios&quot;</td><td>1</td></tr><tr><td>&quot;ESE&quot;</td><td>&quot;IED&quot;</td><td>&quot;01&quot;</td><td>406</td><td>&quot;ESE-IED-01-2&quot;</td><td>&quot; Comercio, Res…</td><td>1</td></tr><tr><td>&quot;ESE&quot;</td><td>&quot;IED&quot;</td><td>&quot;01&quot;</td><td>405</td><td>&quot;ESE-IED-01-10&quot;</td><td>&quot; Transporte, A…</td><td>1</td></tr><tr><td>&quot;ESE&quot;</td><td>&quot;IED&quot;</td><td>&quot;01&quot;</td><td>408</td><td>&quot;ESE-IED-01-4&quot;</td><td>&quot; Electricidad,…</td><td>1</td></tr><tr><td>&quot;ESE&quot;</td><td>&quot;IED&quot;</td><td>&quot;01&quot;</td><td>407</td><td>&quot;ESE-IED-01-3&quot;</td><td>&quot; Construcción&quot;</td><td>1</td></tr><tr><td>&quot;ESE&quot;</td><td>&quot;IED&quot;</td><td>&quot;01&quot;</td><td>410</td><td>&quot;ESE-IED-01-6&quot;</td><td>&quot; Industria Man…</td><td>1</td></tr></tbody></table></div>"
      ],
      "text/plain": [
       "shape: (10, 7)\n",
       "┌──────────┬──────────┬──────────┬─────┬───────────────┬─────────────────────────────┬─────────────┐\n",
       "│ Niv_Gr_1 ┆ Niv_Gr_2 ┆ Niv_Gr_3 ┆ Id  ┆ Nombre        ┆ Niv_Descr_4                 ┆ N_Variables │\n",
       "│ ---      ┆ ---      ┆ ---      ┆ --- ┆ ---           ┆ ---                         ┆ ---         │\n",
       "│ str      ┆ str      ┆ str      ┆ i64 ┆ str           ┆ str                         ┆ u32         │\n",
       "╞══════════╪══════════╪══════════╪═════╪═══════════════╪═════════════════════════════╪═════════════╡\n",
       "│ ESE      ┆ IED      ┆ 01       ┆ 413 ┆ ESE-IED-01-9  ┆  IED Total                  ┆ 1           │\n",
       "│ ESE      ┆ IED      ┆ 01       ┆ 404 ┆ ESE-IED-01-1  ┆ Agricultura, Silvicultura,  ┆ 1           │\n",
       "│          ┆          ┆          ┆     ┆               ┆ Caza…                       ┆             │\n",
       "│ ESE      ┆ IED      ┆ 01       ┆ 409 ┆ ESE-IED-01-5  ┆ Industria de Bienes para    ┆ 1           │\n",
       "│          ┆          ┆          ┆     ┆               ┆ Transf…                     ┆             │\n",
       "│ ESE      ┆ IED      ┆ 01       ┆ 411 ┆ ESE-IED-01-7  ┆  Minas y Canteras           ┆ 1           │\n",
       "│ ESE      ┆ IED      ┆ 01       ┆ 412 ┆ ESE-IED-01-8  ┆  Servicios                  ┆ 1           │\n",
       "│ ESE      ┆ IED      ┆ 01       ┆ 406 ┆ ESE-IED-01-2  ┆ Comercio, Restaurantes y    ┆ 1           │\n",
       "│          ┆          ┆          ┆     ┆               ┆ Hotele…                     ┆             │\n",
       "│ ESE      ┆ IED      ┆ 01       ┆ 405 ┆ ESE-IED-01-10 ┆ Transporte, Almacenaje y    ┆ 1           │\n",
       "│          ┆          ┆          ┆     ┆               ┆ Teleco…                     ┆             │\n",
       "│ ESE      ┆ IED      ┆ 01       ┆ 408 ┆ ESE-IED-01-4  ┆  Electricidad, Gas y Agua   ┆ 1           │\n",
       "│ ESE      ┆ IED      ┆ 01       ┆ 407 ┆ ESE-IED-01-3  ┆  Construcción               ┆ 1           │\n",
       "│ ESE      ┆ IED      ┆ 01       ┆ 410 ┆ ESE-IED-01-6  ┆  Industria Manufacturera    ┆ 1           │\n",
       "└──────────┴──────────┴──────────┴─────┴───────────────┴─────────────────────────────┴─────────────┘"
      ]
     },
     "execution_count": 137,
     "metadata": {},
     "output_type": "execute_result"
    }
   ],
   "source": [
    "res_nivel_6(\n",
    "    \"ESE\",\"IED\",\n",
    "    \"Niv_Gr_3\",\n",
    "    \"01\",\"Id\",\"Nombre\",\"Niv_Descr_4\")"
   ]
  },
  {
   "cell_type": "markdown",
   "id": "b717c0f0",
   "metadata": {},
   "source": [
    "Resultados de una sola variable:\n"
   ]
  },
  {
   "cell_type": "code",
   "execution_count": 138,
   "id": "11abed66",
   "metadata": {},
   "outputs": [
    {
     "name": "stderr",
     "output_type": "stream",
     "text": [
      "<string>:29: FutureWarning:\n",
      "\n",
      "Passing literal json to 'read_json' is deprecated and will be removed in a future version. To read from a literal string, wrap it in a 'StringIO' object.\n",
      "\n"
     ]
    },
    {
     "name": "stderr",
     "output_type": "stream",
     "text": [
      "<string>:29: FutureWarning:\n",
      "\n",
      "Passing literal json to 'read_json' is deprecated and will be removed in a future version. To read from a literal string, wrap it in a 'StringIO' object.\n",
      "\n"
     ]
    },
    {
     "data": {
      "text/html": [
       "<div><style>\n",
       ".dataframe > thead > tr,\n",
       ".dataframe > tbody > tr {\n",
       "  text-align: right;\n",
       "  white-space: pre-wrap;\n",
       "}\n",
       "</style>\n",
       "<small>shape: (48, 2)</small><table border=\"1\" class=\"dataframe\"><thead><tr><th>Fecha</th><th>ESE-IED-01 - Industria de Bienes para Transformación (Maquila)</th></tr><tr><td>date</td><td>f64</td></tr></thead><tbody><tr><td>2023-01-01</td><td>-86.7</td></tr><tr><td>2023-01-01</td><td>-86.7</td></tr><tr><td>2022-01-01</td><td>14.6</td></tr><tr><td>2022-01-01</td><td>14.6</td></tr><tr><td>2021-01-01</td><td>77.4</td></tr><tr><td>&hellip;</td><td>&hellip;</td></tr><tr><td>2002-01-01</td><td>73.3</td></tr><tr><td>2001-01-01</td><td>73.9</td></tr><tr><td>2001-01-01</td><td>73.9</td></tr><tr><td>2000-01-01</td><td>50.7</td></tr><tr><td>2000-01-01</td><td>50.7</td></tr></tbody></table></div>"
      ],
      "text/plain": [
       "shape: (48, 2)\n",
       "┌────────────┬───────────────────────────────────┐\n",
       "│ Fecha      ┆ ESE-IED-01 - Industria de Bienes… │\n",
       "│ ---        ┆ ---                               │\n",
       "│ date       ┆ f64                               │\n",
       "╞════════════╪═══════════════════════════════════╡\n",
       "│ 2023-01-01 ┆ -86.7                             │\n",
       "│ 2023-01-01 ┆ -86.7                             │\n",
       "│ 2022-01-01 ┆ 14.6                              │\n",
       "│ 2022-01-01 ┆ 14.6                              │\n",
       "│ 2021-01-01 ┆ 77.4                              │\n",
       "│ …          ┆ …                                 │\n",
       "│ 2002-01-01 ┆ 73.3                              │\n",
       "│ 2001-01-01 ┆ 73.9                              │\n",
       "│ 2001-01-01 ┆ 73.9                              │\n",
       "│ 2000-01-01 ┆ 50.7                              │\n",
       "│ 2000-01-01 ┆ 50.7                              │\n",
       "└────────────┴───────────────────────────────────┘"
      ]
     },
     "execution_count": 138,
     "metadata": {},
     "output_type": "execute_result"
    }
   ],
   "source": [
    "Id = 409\n",
    "df = get_df(Id)\n",
    "# get_plot(Id)\n",
    "df"
   ]
  },
  {
   "cell_type": "markdown",
   "id": "a8b63be6",
   "metadata": {},
   "source": [
    "### EMF = Estadísiticas Monetarias y Financieras\n"
   ]
  },
  {
   "cell_type": "code",
   "execution_count": 139,
   "id": "517135e4",
   "metadata": {},
   "outputs": [
    {
     "name": "stdout",
     "output_type": "stream",
     "text": [
      "11519 variables\n",
      "54 grupos\n",
      "12 variables\n",
      "4 grupos\n",
      "12 subgrupos\n"
     ]
    },
    {
     "name": "stderr",
     "output_type": "stream",
     "text": [
      "<string>:29: FutureWarning:\n",
      "\n",
      "Passing literal json to 'read_json' is deprecated and will be removed in a future version. To read from a literal string, wrap it in a 'StringIO' object.\n",
      "\n"
     ]
    },
    {
     "data": {
      "text/html": [
       "<div><style>\n",
       ".dataframe > thead > tr,\n",
       ".dataframe > tbody > tr {\n",
       "  text-align: right;\n",
       "  white-space: pre-wrap;\n",
       "}\n",
       "</style>\n",
       "<small>shape: (4, 4)</small><table border=\"1\" class=\"dataframe\"><thead><tr><th>Niv_Gr_1</th><th>Niv_Gr_2</th><th>N_Variables</th><th>N_Niv_Gr_2</th></tr><tr><td>str</td><td>str</td><td>u32</td><td>u32</td></tr></thead><tbody><tr><td>&quot;EMF&quot;</td><td>&quot;AMCC&quot;</td><td>6</td><td>6</td></tr><tr><td>&quot;EMF&quot;</td><td>&quot;TI&quot;</td><td>3</td><td>3</td></tr><tr><td>&quot;EMF&quot;</td><td>&quot;PFS&quot;</td><td>2</td><td>2</td></tr><tr><td>&quot;EMF&quot;</td><td>&quot;EBM&quot;</td><td>1</td><td>1</td></tr></tbody></table></div>"
      ],
      "text/plain": [
       "shape: (4, 4)\n",
       "┌──────────┬──────────┬─────────────┬────────────┐\n",
       "│ Niv_Gr_1 ┆ Niv_Gr_2 ┆ N_Variables ┆ N_Niv_Gr_2 │\n",
       "│ ---      ┆ ---      ┆ ---         ┆ ---        │\n",
       "│ str      ┆ str      ┆ u32         ┆ u32        │\n",
       "╞══════════╪══════════╪═════════════╪════════════╡\n",
       "│ EMF      ┆ AMCC     ┆ 6           ┆ 6          │\n",
       "│ EMF      ┆ TI       ┆ 3           ┆ 3          │\n",
       "│ EMF      ┆ PFS      ┆ 2           ┆ 2          │\n",
       "│ EMF      ┆ EBM      ┆ 1           ┆ 1          │\n",
       "└──────────┴──────────┴─────────────┴────────────┘"
      ]
     },
     "execution_count": 139,
     "metadata": {},
     "output_type": "execute_result"
    }
   ],
   "source": [
    "res_nivel_2(\"EMF\")"
   ]
  },
  {
   "cell_type": "markdown",
   "id": "297049e4",
   "metadata": {},
   "source": [
    "#### AMCC = Agregados Monetarios, Crédito y Captación\n"
   ]
  },
  {
   "cell_type": "code",
   "execution_count": 140,
   "id": "98d524ec",
   "metadata": {},
   "outputs": [
    {
     "name": "stdout",
     "output_type": "stream",
     "text": [
      "6 subgrupos\n",
      "102 variables\n"
     ]
    },
    {
     "name": "stderr",
     "output_type": "stream",
     "text": [
      "<string>:29: FutureWarning:\n",
      "\n",
      "Passing literal json to 'read_json' is deprecated and will be removed in a future version. To read from a literal string, wrap it in a 'StringIO' object.\n",
      "\n"
     ]
    },
    {
     "data": {
      "text/html": [
       "<div><style>\n",
       ".dataframe > thead > tr,\n",
       ".dataframe > tbody > tr {\n",
       "  text-align: right;\n",
       "  white-space: pre-wrap;\n",
       "}\n",
       "</style>\n",
       "<small>shape: (6, 4)</small><table border=\"1\" class=\"dataframe\"><thead><tr><th>Niv_Gr_1</th><th>Niv_Gr_2</th><th>Niv_Gr_3</th><th>N_Variables</th></tr><tr><td>str</td><td>str</td><td>str</td><td>u32</td></tr></thead><tbody><tr><td>&quot;EMF&quot;</td><td>&quot;AMCC&quot;</td><td>&quot;01&quot;</td><td>46</td></tr><tr><td>&quot;EMF&quot;</td><td>&quot;AMCC&quot;</td><td>&quot;02&quot;</td><td>16</td></tr><tr><td>&quot;EMF&quot;</td><td>&quot;AMCC&quot;</td><td>&quot;03&quot;</td><td>6</td></tr><tr><td>&quot;EMF&quot;</td><td>&quot;AMCC&quot;</td><td>&quot;04&quot;</td><td>6</td></tr><tr><td>&quot;EMF&quot;</td><td>&quot;AMCC&quot;</td><td>&quot;05&quot;</td><td>14</td></tr><tr><td>&quot;EMF&quot;</td><td>&quot;AMCC&quot;</td><td>&quot;06&quot;</td><td>14</td></tr></tbody></table></div>"
      ],
      "text/plain": [
       "shape: (6, 4)\n",
       "┌──────────┬──────────┬──────────┬─────────────┐\n",
       "│ Niv_Gr_1 ┆ Niv_Gr_2 ┆ Niv_Gr_3 ┆ N_Variables │\n",
       "│ ---      ┆ ---      ┆ ---      ┆ ---         │\n",
       "│ str      ┆ str      ┆ str      ┆ u32         │\n",
       "╞══════════╪══════════╪══════════╪═════════════╡\n",
       "│ EMF      ┆ AMCC     ┆ 01       ┆ 46          │\n",
       "│ EMF      ┆ AMCC     ┆ 02       ┆ 16          │\n",
       "│ EMF      ┆ AMCC     ┆ 03       ┆ 6           │\n",
       "│ EMF      ┆ AMCC     ┆ 04       ┆ 6           │\n",
       "│ EMF      ┆ AMCC     ┆ 05       ┆ 14          │\n",
       "│ EMF      ┆ AMCC     ┆ 06       ┆ 14          │\n",
       "└──────────┴──────────┴──────────┴─────────────┘"
      ]
     },
     "execution_count": 140,
     "metadata": {},
     "output_type": "execute_result"
    }
   ],
   "source": [
    "res_nivel_3(\"EMF\",\"AMCC\",\"Niv_Gr_3\").sort(\"Niv_Gr_3\")"
   ]
  },
  {
   "cell_type": "markdown",
   "id": "921c2cab",
   "metadata": {},
   "source": [
    "##### 01 Agregados Monetarios, Crédito y Captación\n",
    "\n",
    "Grupos:\n"
   ]
  },
  {
   "cell_type": "code",
   "execution_count": 141,
   "id": "0d75dcd3",
   "metadata": {},
   "outputs": [
    {
     "name": "stderr",
     "output_type": "stream",
     "text": [
      "<string>:29: FutureWarning:\n",
      "\n",
      "Passing literal json to 'read_json' is deprecated and will be removed in a future version. To read from a literal string, wrap it in a 'StringIO' object.\n",
      "\n"
     ]
    },
    {
     "data": {
      "text/html": [
       "<div><style>\n",
       ".dataframe > thead > tr,\n",
       ".dataframe > tbody > tr {\n",
       "  text-align: right;\n",
       "  white-space: pre-wrap;\n",
       "}\n",
       "</style>\n",
       "<small>shape: (7, 5)</small><table border=\"1\" class=\"dataframe\"><thead><tr><th>Niv_Gr_1</th><th>Niv_Gr_2</th><th>Niv_Gr_3</th><th>Niv_Descr_5</th><th>N_Variables</th></tr><tr><td>str</td><td>str</td><td>str</td><td>str</td><td>u32</td></tr></thead><tbody><tr><td>&quot;EMF&quot;</td><td>&quot;AMCC&quot;</td><td>&quot;01&quot;</td><td>&quot; Captación Otr…</td><td>8</td></tr><tr><td>&quot;EMF&quot;</td><td>&quot;AMCC&quot;</td><td>&quot;01&quot;</td><td>&quot; Captación Ban…</td><td>8</td></tr><tr><td>&quot;EMF&quot;</td><td>&quot;AMCC&quot;</td><td>&quot;01&quot;</td><td>&quot; Crédito Otras…</td><td>6</td></tr><tr><td>&quot;EMF&quot;</td><td>&quot;AMCC&quot;</td><td>&quot;01&quot;</td><td>&quot; Agregados Mon…</td><td>6</td></tr><tr><td>&quot;EMF&quot;</td><td>&quot;AMCC&quot;</td><td>&quot;01&quot;</td><td>&quot; Crédito Secto…</td><td>6</td></tr><tr><td>&quot;EMF&quot;</td><td>&quot;AMCC&quot;</td><td>&quot;01&quot;</td><td>&quot; Crédito Otras…</td><td>6</td></tr><tr><td>&quot;EMF&quot;</td><td>&quot;AMCC&quot;</td><td>&quot;01&quot;</td><td>&quot; Crédito de lo…</td><td>6</td></tr></tbody></table></div>"
      ],
      "text/plain": [
       "shape: (7, 5)\n",
       "┌──────────┬──────────┬──────────┬───────────────────────────────────┬─────────────┐\n",
       "│ Niv_Gr_1 ┆ Niv_Gr_2 ┆ Niv_Gr_3 ┆ Niv_Descr_5                       ┆ N_Variables │\n",
       "│ ---      ┆ ---      ┆ ---      ┆ ---                               ┆ ---         │\n",
       "│ str      ┆ str      ┆ str      ┆ str                               ┆ u32         │\n",
       "╞══════════╪══════════╪══════════╪═══════════════════════════════════╪═════════════╡\n",
       "│ EMF      ┆ AMCC     ┆ 01       ┆  Captación Otras Sociedades de D… ┆ 8           │\n",
       "│ EMF      ┆ AMCC     ┆ 01       ┆  Captación Bancos Comerciales     ┆ 8           │\n",
       "│ EMF      ┆ AMCC     ┆ 01       ┆  Crédito Otras Sociedades de Dep… ┆ 6           │\n",
       "│ EMF      ┆ AMCC     ┆ 01       ┆  Agregados Monetarios             ┆ 6           │\n",
       "│ EMF      ┆ AMCC     ┆ 01       ┆  Crédito Sector Financiero        ┆ 6           │\n",
       "│ EMF      ┆ AMCC     ┆ 01       ┆  Crédito Otras Sociedades Financ… ┆ 6           │\n",
       "│ EMF      ┆ AMCC     ┆ 01       ┆  Crédito de los Bancos Comercial… ┆ 6           │\n",
       "└──────────┴──────────┴──────────┴───────────────────────────────────┴─────────────┘"
      ]
     },
     "execution_count": 141,
     "metadata": {},
     "output_type": "execute_result"
    }
   ],
   "source": [
    "res_nivel_4(\n",
    "    \"EMF\",\"AMCC\",\n",
    "    \"Niv_Gr_3\",\"01\",\n",
    "    \"Niv_Descr_5\")"
   ]
  },
  {
   "cell_type": "markdown",
   "id": "1a5e96e5",
   "metadata": {},
   "source": [
    "Variables:\n"
   ]
  },
  {
   "cell_type": "code",
   "execution_count": 142,
   "id": "2a3feb33",
   "metadata": {},
   "outputs": [
    {
     "name": "stderr",
     "output_type": "stream",
     "text": [
      "<string>:29: FutureWarning:\n",
      "\n",
      "Passing literal json to 'read_json' is deprecated and will be removed in a future version. To read from a literal string, wrap it in a 'StringIO' object.\n",
      "\n"
     ]
    },
    {
     "data": {
      "text/html": [
       "<div><style>\n",
       ".dataframe > thead > tr,\n",
       ".dataframe > tbody > tr {\n",
       "  text-align: right;\n",
       "  white-space: pre-wrap;\n",
       "}\n",
       "</style>\n",
       "<small>shape: (7, 5)</small><table border=\"1\" class=\"dataframe\"><thead><tr><th>Niv_Gr_1</th><th>Niv_Gr_2</th><th>Niv_Gr_3</th><th>Niv_Descr_6</th><th>N_Variables</th></tr><tr><td>str</td><td>str</td><td>str</td><td>str</td><td>u32</td></tr></thead><tbody><tr><td>&quot;EMF&quot;</td><td>&quot;AMCC&quot;</td><td>&quot;01&quot;</td><td>&quot; Hogares&quot;</td><td>12</td></tr><tr><td>&quot;EMF&quot;</td><td>&quot;AMCC&quot;</td><td>&quot;01&quot;</td><td>&quot; Total&quot;</td><td>12</td></tr><tr><td>&quot;EMF&quot;</td><td>&quot;AMCC&quot;</td><td>&quot;01&quot;</td><td>&quot; Empresas Priv…</td><td>12</td></tr><tr><td>&quot;EMF&quot;</td><td>&quot;AMCC&quot;</td><td>&quot;01&quot;</td><td>&quot; Otros Sectore…</td><td>4</td></tr><tr><td>&quot;EMF&quot;</td><td>&quot;AMCC&quot;</td><td>&quot;01&quot;</td><td>&quot; M1&quot;</td><td>2</td></tr><tr><td>&quot;EMF&quot;</td><td>&quot;AMCC&quot;</td><td>&quot;01&quot;</td><td>&quot; M3&quot;</td><td>2</td></tr><tr><td>&quot;EMF&quot;</td><td>&quot;AMCC&quot;</td><td>&quot;01&quot;</td><td>&quot; M2&quot;</td><td>2</td></tr></tbody></table></div>"
      ],
      "text/plain": [
       "shape: (7, 5)\n",
       "┌──────────┬──────────┬──────────┬────────────────────┬─────────────┐\n",
       "│ Niv_Gr_1 ┆ Niv_Gr_2 ┆ Niv_Gr_3 ┆ Niv_Descr_6        ┆ N_Variables │\n",
       "│ ---      ┆ ---      ┆ ---      ┆ ---                ┆ ---         │\n",
       "│ str      ┆ str      ┆ str      ┆ str                ┆ u32         │\n",
       "╞══════════╪══════════╪══════════╪════════════════════╪═════════════╡\n",
       "│ EMF      ┆ AMCC     ┆ 01       ┆  Hogares           ┆ 12          │\n",
       "│ EMF      ┆ AMCC     ┆ 01       ┆  Total             ┆ 12          │\n",
       "│ EMF      ┆ AMCC     ┆ 01       ┆  Empresas Privadas ┆ 12          │\n",
       "│ EMF      ┆ AMCC     ┆ 01       ┆  Otros Sectores    ┆ 4           │\n",
       "│ EMF      ┆ AMCC     ┆ 01       ┆  M1                ┆ 2           │\n",
       "│ EMF      ┆ AMCC     ┆ 01       ┆  M3                ┆ 2           │\n",
       "│ EMF      ┆ AMCC     ┆ 01       ┆  M2                ┆ 2           │\n",
       "└──────────┴──────────┴──────────┴────────────────────┴─────────────┘"
      ]
     },
     "execution_count": 142,
     "metadata": {},
     "output_type": "execute_result"
    }
   ],
   "source": [
    "res_nivel_4(\n",
    "    \"EMF\",\"AMCC\",\n",
    "    \"Niv_Gr_3\",\"01\",\n",
    "    \"Niv_Descr_6\")"
   ]
  },
  {
   "cell_type": "markdown",
   "id": "e54407ae",
   "metadata": {},
   "source": [
    "Para ver todas las variables:\n"
   ]
  },
  {
   "cell_type": "code",
   "execution_count": 143,
   "id": "1ac822df",
   "metadata": {},
   "outputs": [
    {
     "name": "stderr",
     "output_type": "stream",
     "text": [
      "<string>:29: FutureWarning:\n",
      "\n",
      "Passing literal json to 'read_json' is deprecated and will be removed in a future version. To read from a literal string, wrap it in a 'StringIO' object.\n",
      "\n"
     ]
    },
    {
     "data": {
      "text/html": [
       "<div><style>\n",
       ".dataframe > thead > tr,\n",
       ".dataframe > tbody > tr {\n",
       "  text-align: right;\n",
       "  white-space: pre-wrap;\n",
       "}\n",
       "</style>\n",
       "<small>shape: (46, 8)</small><table border=\"1\" class=\"dataframe\"><thead><tr><th>Niv_Gr_1</th><th>Niv_Gr_2</th><th>Niv_Gr_3</th><th>Id</th><th>Niv_Descr_5</th><th>Niv_Descr_6</th><th>Niv_Descr_4</th><th>N_Variables</th></tr><tr><td>str</td><td>str</td><td>str</td><td>i64</td><td>str</td><td>str</td><td>str</td><td>u32</td></tr></thead><tbody><tr><td>&quot;EMF&quot;</td><td>&quot;AMCC&quot;</td><td>&quot;01&quot;</td><td>534</td><td>&quot; Agregados Mon…</td><td>&quot; M1&quot;</td><td>&quot; VariaciónM1 &quot;</td><td>1</td></tr><tr><td>&quot;EMF&quot;</td><td>&quot;AMCC&quot;</td><td>&quot;01&quot;</td><td>535</td><td>&quot; Agregados Mon…</td><td>&quot; M1&quot;</td><td>&quot; M1 &quot;</td><td>1</td></tr><tr><td>&quot;EMF&quot;</td><td>&quot;AMCC&quot;</td><td>&quot;01&quot;</td><td>553</td><td>&quot; Crédito de lo…</td><td>&quot; Hogares&quot;</td><td>&quot; CréditoBCHoga…</td><td>1</td></tr><tr><td>&quot;EMF&quot;</td><td>&quot;AMCC&quot;</td><td>&quot;01&quot;</td><td>556</td><td>&quot; Crédito Otras…</td><td>&quot; Hogares&quot;</td><td>&quot; CréditodelasO…</td><td>1</td></tr><tr><td>&quot;EMF&quot;</td><td>&quot;AMCC&quot;</td><td>&quot;01&quot;</td><td>561</td><td>&quot; Crédito Secto…</td><td>&quot; Empresas Priv…</td><td>&quot; VariaciónCréd…</td><td>1</td></tr><tr><td>&hellip;</td><td>&hellip;</td><td>&hellip;</td><td>&hellip;</td><td>&hellip;</td><td>&hellip;</td><td>&hellip;</td><td>&hellip;</td></tr><tr><td>&quot;EMF&quot;</td><td>&quot;AMCC&quot;</td><td>&quot;01&quot;</td><td>574</td><td>&quot; Captación Otr…</td><td>&quot; Hogares&quot;</td><td>&quot; VariaciónCapt…</td><td>1</td></tr><tr><td>&quot;EMF&quot;</td><td>&quot;AMCC&quot;</td><td>&quot;01&quot;</td><td>537</td><td>&quot; Agregados Mon…</td><td>&quot; M2&quot;</td><td>&quot; M2 &quot;</td><td>1</td></tr><tr><td>&quot;EMF&quot;</td><td>&quot;AMCC&quot;</td><td>&quot;01&quot;</td><td>570</td><td>&quot; Captación Otr…</td><td>&quot; Empresas Priv…</td><td>&quot; VariaciónCapt…</td><td>1</td></tr><tr><td>&quot;EMF&quot;</td><td>&quot;AMCC&quot;</td><td>&quot;01&quot;</td><td>549</td><td>&quot; Crédito Secto…</td><td>&quot; Total&quot;</td><td>&quot; CréditodelSFT…</td><td>1</td></tr><tr><td>&quot;EMF&quot;</td><td>&quot;AMCC&quot;</td><td>&quot;01&quot;</td><td>575</td><td>&quot; Captación Otr…</td><td>&quot; Hogares&quot;</td><td>&quot; CaptaciónOSDH…</td><td>1</td></tr></tbody></table></div>"
      ],
      "text/plain": [
       "shape: (46, 8)\n",
       "┌──────────┬──────────┬──────────┬─────┬───────────────┬──────────────┬──────────────┬─────────────┐\n",
       "│ Niv_Gr_1 ┆ Niv_Gr_2 ┆ Niv_Gr_3 ┆ Id  ┆ Niv_Descr_5   ┆ Niv_Descr_6  ┆ Niv_Descr_4  ┆ N_Variables │\n",
       "│ ---      ┆ ---      ┆ ---      ┆ --- ┆ ---           ┆ ---          ┆ ---          ┆ ---         │\n",
       "│ str      ┆ str      ┆ str      ┆ i64 ┆ str           ┆ str          ┆ str          ┆ u32         │\n",
       "╞══════════╪══════════╪══════════╪═════╪═══════════════╪══════════════╪══════════════╪═════════════╡\n",
       "│ EMF      ┆ AMCC     ┆ 01       ┆ 534 ┆ Agregados     ┆  M1          ┆ VariaciónM1  ┆ 1           │\n",
       "│          ┆          ┆          ┆     ┆ Monetarios    ┆              ┆              ┆             │\n",
       "│ EMF      ┆ AMCC     ┆ 01       ┆ 535 ┆ Agregados     ┆  M1          ┆  M1          ┆ 1           │\n",
       "│          ┆          ┆          ┆     ┆ Monetarios    ┆              ┆              ┆             │\n",
       "│ EMF      ┆ AMCC     ┆ 01       ┆ 553 ┆ Crédito de    ┆  Hogares     ┆ CréditoBCHog ┆ 1           │\n",
       "│          ┆          ┆          ┆     ┆ los Bancos    ┆              ┆ ares         ┆             │\n",
       "│          ┆          ┆          ┆     ┆ Comercial…    ┆              ┆              ┆             │\n",
       "│ EMF      ┆ AMCC     ┆ 01       ┆ 556 ┆ Crédito Otras ┆  Hogares     ┆ Créditodelas ┆ 1           │\n",
       "│          ┆          ┆          ┆     ┆ Sociedades de ┆              ┆ OSDaHogares  ┆             │\n",
       "│          ┆          ┆          ┆     ┆ Dep…          ┆              ┆              ┆             │\n",
       "│ EMF      ┆ AMCC     ┆ 01       ┆ 561 ┆ Crédito       ┆ Empresas     ┆ VariaciónCré ┆ 1           │\n",
       "│          ┆          ┆          ┆     ┆ Sector        ┆ Privadas     ┆ ditodelSFaEm ┆             │\n",
       "│          ┆          ┆          ┆     ┆ Financiero    ┆              ┆ presasP…     ┆             │\n",
       "│ …        ┆ …        ┆ …        ┆ …   ┆ …             ┆ …            ┆ …            ┆ …           │\n",
       "│ EMF      ┆ AMCC     ┆ 01       ┆ 574 ┆ Captación     ┆  Hogares     ┆ VariaciónCap ┆ 1           │\n",
       "│          ┆          ┆          ┆     ┆ Otras         ┆              ┆ taciónOSDHog ┆             │\n",
       "│          ┆          ┆          ┆     ┆ Sociedades de ┆              ┆ ares         ┆             │\n",
       "│          ┆          ┆          ┆     ┆ D…            ┆              ┆              ┆             │\n",
       "│ EMF      ┆ AMCC     ┆ 01       ┆ 537 ┆ Agregados     ┆  M2          ┆  M2          ┆ 1           │\n",
       "│          ┆          ┆          ┆     ┆ Monetarios    ┆              ┆              ┆             │\n",
       "│ EMF      ┆ AMCC     ┆ 01       ┆ 570 ┆ Captación     ┆ Empresas     ┆ VariaciónCap ┆ 1           │\n",
       "│          ┆          ┆          ┆     ┆ Otras         ┆ Privadas     ┆ taciónOSDOtr ┆             │\n",
       "│          ┆          ┆          ┆     ┆ Sociedades de ┆              ┆ asSocie…     ┆             │\n",
       "│          ┆          ┆          ┆     ┆ D…            ┆              ┆              ┆             │\n",
       "│ EMF      ┆ AMCC     ┆ 01       ┆ 549 ┆ Crédito       ┆  Total       ┆ CréditodelSF ┆ 1           │\n",
       "│          ┆          ┆          ┆     ┆ Sector        ┆              ┆ Total        ┆             │\n",
       "│          ┆          ┆          ┆     ┆ Financiero    ┆              ┆              ┆             │\n",
       "│ EMF      ┆ AMCC     ┆ 01       ┆ 575 ┆ Captación     ┆  Hogares     ┆ CaptaciónOSD ┆ 1           │\n",
       "│          ┆          ┆          ┆     ┆ Otras         ┆              ┆ Hogares      ┆             │\n",
       "│          ┆          ┆          ┆     ┆ Sociedades de ┆              ┆              ┆             │\n",
       "│          ┆          ┆          ┆     ┆ D…            ┆              ┆              ┆             │\n",
       "└──────────┴──────────┴──────────┴─────┴───────────────┴──────────────┴──────────────┴─────────────┘"
      ]
     },
     "execution_count": 143,
     "metadata": {},
     "output_type": "execute_result"
    }
   ],
   "source": [
    "res_nivel_7(\n",
    "    \"EMF\",\"AMCC\",\n",
    "    \"Niv_Gr_3\",\"01\",\n",
    "    \"Id\",\"Niv_Descr_5\",\"Niv_Descr_6\",\"Niv_Descr_4\")"
   ]
  },
  {
   "cell_type": "markdown",
   "id": "fb4f4f3b",
   "metadata": {},
   "source": [
    "Resultados de una sola variable:\n"
   ]
  },
  {
   "cell_type": "code",
   "execution_count": 144,
   "id": "ab982fbd",
   "metadata": {},
   "outputs": [
    {
     "name": "stderr",
     "output_type": "stream",
     "text": [
      "<string>:29: FutureWarning:\n",
      "\n",
      "Passing literal json to 'read_json' is deprecated and will be removed in a future version. To read from a literal string, wrap it in a 'StringIO' object.\n",
      "\n"
     ]
    },
    {
     "name": "stderr",
     "output_type": "stream",
     "text": [
      "<string>:29: FutureWarning:\n",
      "\n",
      "Passing literal json to 'read_json' is deprecated and will be removed in a future version. To read from a literal string, wrap it in a 'StringIO' object.\n",
      "\n"
     ]
    },
    {
     "data": {
      "text/html": [
       "<div><style>\n",
       ".dataframe > thead > tr,\n",
       ".dataframe > tbody > tr {\n",
       "  text-align: right;\n",
       "  white-space: pre-wrap;\n",
       "}\n",
       "</style>\n",
       "<small>shape: (363, 2)</small><table border=\"1\" class=\"dataframe\"><thead><tr><th>Fecha</th><th>EMF-AMCC-01 - CaptacióndelasOSDTotal - Captación Otras Sociedades de Depósito - Total</th></tr><tr><td>date</td><td>f64</td></tr></thead><tbody><tr><td>2024-02-01</td><td>568256.0198</td></tr><tr><td>2024-01-01</td><td>562707.5954</td></tr><tr><td>2024-01-01</td><td>562707.5954</td></tr><tr><td>2023-12-01</td><td>559471.0519</td></tr><tr><td>2023-12-01</td><td>559471.0519</td></tr><tr><td>&hellip;</td><td>&hellip;</td></tr><tr><td>2009-03-01</td><td>123678.236</td></tr><tr><td>2009-02-01</td><td>122857.7616</td></tr><tr><td>2009-02-01</td><td>122857.7616</td></tr><tr><td>2009-01-01</td><td>121098.9568</td></tr><tr><td>2009-01-01</td><td>121098.9568</td></tr></tbody></table></div>"
      ],
      "text/plain": [
       "shape: (363, 2)\n",
       "┌────────────┬───────────────────────────────────┐\n",
       "│ Fecha      ┆ EMF-AMCC-01 - CaptacióndelasOSDT… │\n",
       "│ ---        ┆ ---                               │\n",
       "│ date       ┆ f64                               │\n",
       "╞════════════╪═══════════════════════════════════╡\n",
       "│ 2024-02-01 ┆ 568256.0198                       │\n",
       "│ 2024-01-01 ┆ 562707.5954                       │\n",
       "│ 2024-01-01 ┆ 562707.5954                       │\n",
       "│ 2023-12-01 ┆ 559471.0519                       │\n",
       "│ 2023-12-01 ┆ 559471.0519                       │\n",
       "│ …          ┆ …                                 │\n",
       "│ 2009-03-01 ┆ 123678.236                        │\n",
       "│ 2009-02-01 ┆ 122857.7616                       │\n",
       "│ 2009-02-01 ┆ 122857.7616                       │\n",
       "│ 2009-01-01 ┆ 121098.9568                       │\n",
       "│ 2009-01-01 ┆ 121098.9568                       │\n",
       "└────────────┴───────────────────────────────────┘"
      ]
     },
     "execution_count": 144,
     "metadata": {},
     "output_type": "execute_result"
    }
   ],
   "source": [
    "Id = 548\n",
    "df = get_df(Id)\n",
    "# get_plot(Id)\n",
    "df"
   ]
  },
  {
   "cell_type": "markdown",
   "id": "31f767e1",
   "metadata": {},
   "source": [
    "##### 02 Captación: Bancos Comerciales y Otras Sociedades de Depósito (Variación y Saldo)\n"
   ]
  },
  {
   "cell_type": "code",
   "execution_count": 145,
   "id": "a1a349ce",
   "metadata": {},
   "outputs": [
    {
     "name": "stderr",
     "output_type": "stream",
     "text": [
      "<string>:29: FutureWarning:\n",
      "\n",
      "Passing literal json to 'read_json' is deprecated and will be removed in a future version. To read from a literal string, wrap it in a 'StringIO' object.\n",
      "\n"
     ]
    },
    {
     "data": {
      "text/html": [
       "<div><style>\n",
       ".dataframe > thead > tr,\n",
       ".dataframe > tbody > tr {\n",
       "  text-align: right;\n",
       "  white-space: pre-wrap;\n",
       "}\n",
       "</style>\n",
       "<small>shape: (2, 5)</small><table border=\"1\" class=\"dataframe\"><thead><tr><th>Niv_Gr_1</th><th>Niv_Gr_2</th><th>Niv_Gr_3</th><th>Niv_Descr_1</th><th>N_Variables</th></tr><tr><td>str</td><td>str</td><td>str</td><td>str</td><td>u32</td></tr></thead><tbody><tr><td>&quot;EMF&quot;</td><td>&quot;AMCC&quot;</td><td>&quot;02&quot;</td><td>&quot;Captación Banc…</td><td>8</td></tr><tr><td>&quot;EMF&quot;</td><td>&quot;AMCC&quot;</td><td>&quot;02&quot;</td><td>&quot;Captación Otra…</td><td>8</td></tr></tbody></table></div>"
      ],
      "text/plain": [
       "shape: (2, 5)\n",
       "┌──────────┬──────────┬──────────┬───────────────────────────────────┬─────────────┐\n",
       "│ Niv_Gr_1 ┆ Niv_Gr_2 ┆ Niv_Gr_3 ┆ Niv_Descr_1                       ┆ N_Variables │\n",
       "│ ---      ┆ ---      ┆ ---      ┆ ---                               ┆ ---         │\n",
       "│ str      ┆ str      ┆ str      ┆ str                               ┆ u32         │\n",
       "╞══════════╪══════════╪══════════╪═══════════════════════════════════╪═════════════╡\n",
       "│ EMF      ┆ AMCC     ┆ 02       ┆ Captación Bancos Comerciales      ┆ 8           │\n",
       "│ EMF      ┆ AMCC     ┆ 02       ┆ Captación Otras Sociedades de De… ┆ 8           │\n",
       "└──────────┴──────────┴──────────┴───────────────────────────────────┴─────────────┘"
      ]
     },
     "execution_count": 145,
     "metadata": {},
     "output_type": "execute_result"
    }
   ],
   "source": [
    "res_nivel_4(\n",
    "    \"EMF\",\"AMCC\",\n",
    "    \"Niv_Gr_3\",\"02\",\n",
    "    \"Niv_Descr_1\")"
   ]
  },
  {
   "cell_type": "code",
   "execution_count": 146,
   "id": "3e429ee3",
   "metadata": {},
   "outputs": [
    {
     "name": "stderr",
     "output_type": "stream",
     "text": [
      "<string>:29: FutureWarning:\n",
      "\n",
      "Passing literal json to 'read_json' is deprecated and will be removed in a future version. To read from a literal string, wrap it in a 'StringIO' object.\n",
      "\n"
     ]
    },
    {
     "data": {
      "text/html": [
       "<div><style>\n",
       ".dataframe > thead > tr,\n",
       ".dataframe > tbody > tr {\n",
       "  text-align: right;\n",
       "  white-space: pre-wrap;\n",
       "}\n",
       "</style>\n",
       "<small>shape: (4, 5)</small><table border=\"1\" class=\"dataframe\"><thead><tr><th>Niv_Gr_1</th><th>Niv_Gr_2</th><th>Niv_Gr_3</th><th>Niv_Descr_3</th><th>N_Variables</th></tr><tr><td>str</td><td>str</td><td>str</td><td>str</td><td>u32</td></tr></thead><tbody><tr><td>&quot;EMF&quot;</td><td>&quot;AMCC&quot;</td><td>&quot;02&quot;</td><td>&quot;Hogares&quot;</td><td>4</td></tr><tr><td>&quot;EMF&quot;</td><td>&quot;AMCC&quot;</td><td>&quot;02&quot;</td><td>&quot;Total&quot;</td><td>4</td></tr><tr><td>&quot;EMF&quot;</td><td>&quot;AMCC&quot;</td><td>&quot;02&quot;</td><td>&quot;Otros Sectores…</td><td>4</td></tr><tr><td>&quot;EMF&quot;</td><td>&quot;AMCC&quot;</td><td>&quot;02&quot;</td><td>&quot;Empresas Priva…</td><td>4</td></tr></tbody></table></div>"
      ],
      "text/plain": [
       "shape: (4, 5)\n",
       "┌──────────┬──────────┬──────────┬───────────────────┬─────────────┐\n",
       "│ Niv_Gr_1 ┆ Niv_Gr_2 ┆ Niv_Gr_3 ┆ Niv_Descr_3       ┆ N_Variables │\n",
       "│ ---      ┆ ---      ┆ ---      ┆ ---               ┆ ---         │\n",
       "│ str      ┆ str      ┆ str      ┆ str               ┆ u32         │\n",
       "╞══════════╪══════════╪══════════╪═══════════════════╪═════════════╡\n",
       "│ EMF      ┆ AMCC     ┆ 02       ┆ Hogares           ┆ 4           │\n",
       "│ EMF      ┆ AMCC     ┆ 02       ┆ Total             ┆ 4           │\n",
       "│ EMF      ┆ AMCC     ┆ 02       ┆ Otros Sectores    ┆ 4           │\n",
       "│ EMF      ┆ AMCC     ┆ 02       ┆ Empresas Privadas ┆ 4           │\n",
       "└──────────┴──────────┴──────────┴───────────────────┴─────────────┘"
      ]
     },
     "execution_count": 146,
     "metadata": {},
     "output_type": "execute_result"
    }
   ],
   "source": [
    "res_nivel_4(\n",
    "    \"EMF\",\"AMCC\",\n",
    "    \"Niv_Gr_3\",\"02\",\n",
    "    \"Niv_Descr_3\")"
   ]
  },
  {
   "cell_type": "code",
   "execution_count": 147,
   "id": "2e8c80d5",
   "metadata": {},
   "outputs": [
    {
     "name": "stderr",
     "output_type": "stream",
     "text": [
      "<string>:29: FutureWarning:\n",
      "\n",
      "Passing literal json to 'read_json' is deprecated and will be removed in a future version. To read from a literal string, wrap it in a 'StringIO' object.\n",
      "\n"
     ]
    },
    {
     "data": {
      "text/html": [
       "<div><style>\n",
       ".dataframe > thead > tr,\n",
       ".dataframe > tbody > tr {\n",
       "  text-align: right;\n",
       "  white-space: pre-wrap;\n",
       "}\n",
       "</style>\n",
       "<small>shape: (2, 5)</small><table border=\"1\" class=\"dataframe\"><thead><tr><th>Niv_Gr_1</th><th>Niv_Gr_2</th><th>Niv_Gr_3</th><th>Niv_Descr_4</th><th>N_Variables</th></tr><tr><td>str</td><td>str</td><td>str</td><td>str</td><td>u32</td></tr></thead><tbody><tr><td>&quot;EMF&quot;</td><td>&quot;AMCC&quot;</td><td>&quot;02&quot;</td><td>&quot;Saldo&quot;</td><td>8</td></tr><tr><td>&quot;EMF&quot;</td><td>&quot;AMCC&quot;</td><td>&quot;02&quot;</td><td>&quot;Variación&quot;</td><td>8</td></tr></tbody></table></div>"
      ],
      "text/plain": [
       "shape: (2, 5)\n",
       "┌──────────┬──────────┬──────────┬─────────────┬─────────────┐\n",
       "│ Niv_Gr_1 ┆ Niv_Gr_2 ┆ Niv_Gr_3 ┆ Niv_Descr_4 ┆ N_Variables │\n",
       "│ ---      ┆ ---      ┆ ---      ┆ ---         ┆ ---         │\n",
       "│ str      ┆ str      ┆ str      ┆ str         ┆ u32         │\n",
       "╞══════════╪══════════╪══════════╪═════════════╪═════════════╡\n",
       "│ EMF      ┆ AMCC     ┆ 02       ┆ Saldo       ┆ 8           │\n",
       "│ EMF      ┆ AMCC     ┆ 02       ┆ Variación   ┆ 8           │\n",
       "└──────────┴──────────┴──────────┴─────────────┴─────────────┘"
      ]
     },
     "execution_count": 147,
     "metadata": {},
     "output_type": "execute_result"
    }
   ],
   "source": [
    "res_nivel_4(\n",
    "    \"EMF\",\"AMCC\",\n",
    "    \"Niv_Gr_3\",\"02\",\n",
    "    \"Niv_Descr_4\")"
   ]
  },
  {
   "cell_type": "markdown",
   "id": "768cf370",
   "metadata": {},
   "source": [
    "Para ver todas las variables:\n"
   ]
  },
  {
   "cell_type": "code",
   "execution_count": 148,
   "id": "9f9222bb",
   "metadata": {},
   "outputs": [
    {
     "name": "stderr",
     "output_type": "stream",
     "text": [
      "<string>:29: FutureWarning:\n",
      "\n",
      "Passing literal json to 'read_json' is deprecated and will be removed in a future version. To read from a literal string, wrap it in a 'StringIO' object.\n",
      "\n"
     ]
    },
    {
     "data": {
      "text/html": [
       "<div><style>\n",
       ".dataframe > thead > tr,\n",
       ".dataframe > tbody > tr {\n",
       "  text-align: right;\n",
       "  white-space: pre-wrap;\n",
       "}\n",
       "</style>\n",
       "<small>shape: (16, 8)</small><table border=\"1\" class=\"dataframe\"><thead><tr><th>Niv_Gr_1</th><th>Niv_Gr_2</th><th>Niv_Gr_3</th><th>Id</th><th>Niv_Descr_1</th><th>Niv_Descr_3</th><th>Niv_Descr_4</th><th>N_Variables</th></tr><tr><td>str</td><td>str</td><td>str</td><td>i64</td><td>str</td><td>str</td><td>str</td><td>u32</td></tr></thead><tbody><tr><td>&quot;EMF&quot;</td><td>&quot;AMCC&quot;</td><td>&quot;02&quot;</td><td>622</td><td>&quot;Captación Banc…</td><td>&quot;Empresas Priva…</td><td>&quot;Saldo&quot;</td><td>1</td></tr><tr><td>&quot;EMF&quot;</td><td>&quot;AMCC&quot;</td><td>&quot;02&quot;</td><td>628</td><td>&quot;Captación Banc…</td><td>&quot;Total&quot;</td><td>&quot;Variación&quot;</td><td>1</td></tr><tr><td>&quot;EMF&quot;</td><td>&quot;AMCC&quot;</td><td>&quot;02&quot;</td><td>635</td><td>&quot;Captación Otra…</td><td>&quot;Empresas Priva…</td><td>&quot;Variación&quot;</td><td>1</td></tr><tr><td>&quot;EMF&quot;</td><td>&quot;AMCC&quot;</td><td>&quot;02&quot;</td><td>634</td><td>&quot;Captación Otra…</td><td>&quot;Hogares&quot;</td><td>&quot;Variación&quot;</td><td>1</td></tr><tr><td>&quot;EMF&quot;</td><td>&quot;AMCC&quot;</td><td>&quot;02&quot;</td><td>636</td><td>&quot;Captación Otra…</td><td>&quot;Otros Sectores…</td><td>&quot;Variación&quot;</td><td>1</td></tr><tr><td>&hellip;</td><td>&hellip;</td><td>&hellip;</td><td>&hellip;</td><td>&hellip;</td><td>&hellip;</td><td>&hellip;</td><td>&hellip;</td></tr><tr><td>&quot;EMF&quot;</td><td>&quot;AMCC&quot;</td><td>&quot;02&quot;</td><td>621</td><td>&quot;Captación Banc…</td><td>&quot;Hogares&quot;</td><td>&quot;Saldo&quot;</td><td>1</td></tr><tr><td>&quot;EMF&quot;</td><td>&quot;AMCC&quot;</td><td>&quot;02&quot;</td><td>624</td><td>&quot;Captación Banc…</td><td>&quot;Total&quot;</td><td>&quot;Saldo&quot;</td><td>1</td></tr><tr><td>&quot;EMF&quot;</td><td>&quot;AMCC&quot;</td><td>&quot;02&quot;</td><td>625</td><td>&quot;Captación Banc…</td><td>&quot;Hogares&quot;</td><td>&quot;Variación&quot;</td><td>1</td></tr><tr><td>&quot;EMF&quot;</td><td>&quot;AMCC&quot;</td><td>&quot;02&quot;</td><td>632</td><td>&quot;Captación Otra…</td><td>&quot;Otros Sectores…</td><td>&quot;Saldo&quot;</td><td>1</td></tr><tr><td>&quot;EMF&quot;</td><td>&quot;AMCC&quot;</td><td>&quot;02&quot;</td><td>623</td><td>&quot;Captación Banc…</td><td>&quot;Otros Sectores…</td><td>&quot;Saldo&quot;</td><td>1</td></tr></tbody></table></div>"
      ],
      "text/plain": [
       "shape: (16, 8)\n",
       "┌──────────┬──────────┬──────────┬─────┬───────────────┬───────────────┬─────────────┬─────────────┐\n",
       "│ Niv_Gr_1 ┆ Niv_Gr_2 ┆ Niv_Gr_3 ┆ Id  ┆ Niv_Descr_1   ┆ Niv_Descr_3   ┆ Niv_Descr_4 ┆ N_Variables │\n",
       "│ ---      ┆ ---      ┆ ---      ┆ --- ┆ ---           ┆ ---           ┆ ---         ┆ ---         │\n",
       "│ str      ┆ str      ┆ str      ┆ i64 ┆ str           ┆ str           ┆ str         ┆ u32         │\n",
       "╞══════════╪══════════╪══════════╪═════╪═══════════════╪═══════════════╪═════════════╪═════════════╡\n",
       "│ EMF      ┆ AMCC     ┆ 02       ┆ 622 ┆ Captación     ┆ Empresas      ┆ Saldo       ┆ 1           │\n",
       "│          ┆          ┆          ┆     ┆ Bancos        ┆ Privadas      ┆             ┆             │\n",
       "│          ┆          ┆          ┆     ┆ Comerciales   ┆               ┆             ┆             │\n",
       "│ EMF      ┆ AMCC     ┆ 02       ┆ 628 ┆ Captación     ┆ Total         ┆ Variación   ┆ 1           │\n",
       "│          ┆          ┆          ┆     ┆ Bancos        ┆               ┆             ┆             │\n",
       "│          ┆          ┆          ┆     ┆ Comerciales   ┆               ┆             ┆             │\n",
       "│ EMF      ┆ AMCC     ┆ 02       ┆ 635 ┆ Captación     ┆ Empresas      ┆ Variación   ┆ 1           │\n",
       "│          ┆          ┆          ┆     ┆ Otras         ┆ Privadas      ┆             ┆             │\n",
       "│          ┆          ┆          ┆     ┆ Sociedades de ┆               ┆             ┆             │\n",
       "│          ┆          ┆          ┆     ┆ De…           ┆               ┆             ┆             │\n",
       "│ EMF      ┆ AMCC     ┆ 02       ┆ 634 ┆ Captación     ┆ Hogares       ┆ Variación   ┆ 1           │\n",
       "│          ┆          ┆          ┆     ┆ Otras         ┆               ┆             ┆             │\n",
       "│          ┆          ┆          ┆     ┆ Sociedades de ┆               ┆             ┆             │\n",
       "│          ┆          ┆          ┆     ┆ De…           ┆               ┆             ┆             │\n",
       "│ EMF      ┆ AMCC     ┆ 02       ┆ 636 ┆ Captación     ┆ Otros         ┆ Variación   ┆ 1           │\n",
       "│          ┆          ┆          ┆     ┆ Otras         ┆ Sectores      ┆             ┆             │\n",
       "│          ┆          ┆          ┆     ┆ Sociedades de ┆               ┆             ┆             │\n",
       "│          ┆          ┆          ┆     ┆ De…           ┆               ┆             ┆             │\n",
       "│ …        ┆ …        ┆ …        ┆ …   ┆ …             ┆ …             ┆ …           ┆ …           │\n",
       "│ EMF      ┆ AMCC     ┆ 02       ┆ 621 ┆ Captación     ┆ Hogares       ┆ Saldo       ┆ 1           │\n",
       "│          ┆          ┆          ┆     ┆ Bancos        ┆               ┆             ┆             │\n",
       "│          ┆          ┆          ┆     ┆ Comerciales   ┆               ┆             ┆             │\n",
       "│ EMF      ┆ AMCC     ┆ 02       ┆ 624 ┆ Captación     ┆ Total         ┆ Saldo       ┆ 1           │\n",
       "│          ┆          ┆          ┆     ┆ Bancos        ┆               ┆             ┆             │\n",
       "│          ┆          ┆          ┆     ┆ Comerciales   ┆               ┆             ┆             │\n",
       "│ EMF      ┆ AMCC     ┆ 02       ┆ 625 ┆ Captación     ┆ Hogares       ┆ Variación   ┆ 1           │\n",
       "│          ┆          ┆          ┆     ┆ Bancos        ┆               ┆             ┆             │\n",
       "│          ┆          ┆          ┆     ┆ Comerciales   ┆               ┆             ┆             │\n",
       "│ EMF      ┆ AMCC     ┆ 02       ┆ 632 ┆ Captación     ┆ Otros         ┆ Saldo       ┆ 1           │\n",
       "│          ┆          ┆          ┆     ┆ Otras         ┆ Sectores      ┆             ┆             │\n",
       "│          ┆          ┆          ┆     ┆ Sociedades de ┆               ┆             ┆             │\n",
       "│          ┆          ┆          ┆     ┆ De…           ┆               ┆             ┆             │\n",
       "│ EMF      ┆ AMCC     ┆ 02       ┆ 623 ┆ Captación     ┆ Otros         ┆ Saldo       ┆ 1           │\n",
       "│          ┆          ┆          ┆     ┆ Bancos        ┆ Sectores      ┆             ┆             │\n",
       "│          ┆          ┆          ┆     ┆ Comerciales   ┆               ┆             ┆             │\n",
       "└──────────┴──────────┴──────────┴─────┴───────────────┴───────────────┴─────────────┴─────────────┘"
      ]
     },
     "execution_count": 148,
     "metadata": {},
     "output_type": "execute_result"
    }
   ],
   "source": [
    "res_nivel_7(\n",
    "    \"EMF\",\"AMCC\",\n",
    "    \"Niv_Gr_3\",\"02\",\n",
    "    \"Id\",\"Niv_Descr_1\",\"Niv_Descr_3\",\"Niv_Descr_4\")"
   ]
  },
  {
   "cell_type": "markdown",
   "id": "689813af",
   "metadata": {},
   "source": [
    "Resultados de una sola variable:\n"
   ]
  },
  {
   "cell_type": "code",
   "execution_count": 149,
   "id": "7e6bfbed",
   "metadata": {},
   "outputs": [
    {
     "name": "stderr",
     "output_type": "stream",
     "text": [
      "<string>:29: FutureWarning:\n",
      "\n",
      "Passing literal json to 'read_json' is deprecated and will be removed in a future version. To read from a literal string, wrap it in a 'StringIO' object.\n",
      "\n"
     ]
    },
    {
     "name": "stderr",
     "output_type": "stream",
     "text": [
      "<string>:29: FutureWarning:\n",
      "\n",
      "Passing literal json to 'read_json' is deprecated and will be removed in a future version. To read from a literal string, wrap it in a 'StringIO' object.\n",
      "\n"
     ]
    },
    {
     "data": {
      "text/html": [
       "<div><style>\n",
       ".dataframe > thead > tr,\n",
       ".dataframe > tbody > tr {\n",
       "  text-align: right;\n",
       "  white-space: pre-wrap;\n",
       "}\n",
       "</style>\n",
       "<small>shape: (182, 2)</small><table border=\"1\" class=\"dataframe\"><thead><tr><th>Fecha</th><th>Captación Bancos Comerciales-CaptaciónBCOtrasSociedadesnoFinancieras-Empresas Privadas-Saldo</th></tr><tr><td>date</td><td>f64</td></tr></thead><tbody><tr><td>2024-02-01</td><td>164611.0291</td></tr><tr><td>2024-01-01</td><td>164128.4025</td></tr><tr><td>2023-12-01</td><td>159703.4382</td></tr><tr><td>2023-11-01</td><td>155805.7389</td></tr><tr><td>2023-10-01</td><td>148887.9533</td></tr><tr><td>&hellip;</td><td>&hellip;</td></tr><tr><td>2009-05-01</td><td>36938.7292</td></tr><tr><td>2009-04-01</td><td>36897.5217</td></tr><tr><td>2009-03-01</td><td>35268.8324</td></tr><tr><td>2009-02-01</td><td>35448.6052</td></tr><tr><td>2009-01-01</td><td>34027.9427</td></tr></tbody></table></div>"
      ],
      "text/plain": [
       "shape: (182, 2)\n",
       "┌────────────┬───────────────────────────────────┐\n",
       "│ Fecha      ┆ Captación Bancos Comerciales-Cap… │\n",
       "│ ---        ┆ ---                               │\n",
       "│ date       ┆ f64                               │\n",
       "╞════════════╪═══════════════════════════════════╡\n",
       "│ 2024-02-01 ┆ 164611.0291                       │\n",
       "│ 2024-01-01 ┆ 164128.4025                       │\n",
       "│ 2023-12-01 ┆ 159703.4382                       │\n",
       "│ 2023-11-01 ┆ 155805.7389                       │\n",
       "│ 2023-10-01 ┆ 148887.9533                       │\n",
       "│ …          ┆ …                                 │\n",
       "│ 2009-05-01 ┆ 36938.7292                        │\n",
       "│ 2009-04-01 ┆ 36897.5217                        │\n",
       "│ 2009-03-01 ┆ 35268.8324                        │\n",
       "│ 2009-02-01 ┆ 35448.6052                        │\n",
       "│ 2009-01-01 ┆ 34027.9427                        │\n",
       "└────────────┴───────────────────────────────────┘"
      ]
     },
     "execution_count": 149,
     "metadata": {},
     "output_type": "execute_result"
    }
   ],
   "source": [
    "Id = 622\n",
    "df = get_df(Id)\n",
    "# get_plot(Id)\n",
    "df"
   ]
  },
  {
   "cell_type": "markdown",
   "id": "b266c0f8",
   "metadata": {},
   "source": [
    "##### 03 Crédito de los Bancos Comerciales\n"
   ]
  },
  {
   "cell_type": "code",
   "execution_count": 150,
   "id": "ce409ddf",
   "metadata": {},
   "outputs": [
    {
     "name": "stderr",
     "output_type": "stream",
     "text": [
      "<string>:29: FutureWarning:\n",
      "\n",
      "Passing literal json to 'read_json' is deprecated and will be removed in a future version. To read from a literal string, wrap it in a 'StringIO' object.\n",
      "\n"
     ]
    },
    {
     "data": {
      "text/html": [
       "<div><style>\n",
       ".dataframe > thead > tr,\n",
       ".dataframe > tbody > tr {\n",
       "  text-align: right;\n",
       "  white-space: pre-wrap;\n",
       "}\n",
       "</style>\n",
       "<small>shape: (1, 5)</small><table border=\"1\" class=\"dataframe\"><thead><tr><th>Niv_Gr_1</th><th>Niv_Gr_2</th><th>Niv_Gr_3</th><th>Niv_Descr_1</th><th>N_Variables</th></tr><tr><td>str</td><td>str</td><td>str</td><td>str</td><td>u32</td></tr></thead><tbody><tr><td>&quot;EMF&quot;</td><td>&quot;AMCC&quot;</td><td>&quot;03&quot;</td><td>&quot;Crédito de los…</td><td>6</td></tr></tbody></table></div>"
      ],
      "text/plain": [
       "shape: (1, 5)\n",
       "┌──────────┬──────────┬──────────┬───────────────────────────────────┬─────────────┐\n",
       "│ Niv_Gr_1 ┆ Niv_Gr_2 ┆ Niv_Gr_3 ┆ Niv_Descr_1                       ┆ N_Variables │\n",
       "│ ---      ┆ ---      ┆ ---      ┆ ---                               ┆ ---         │\n",
       "│ str      ┆ str      ┆ str      ┆ str                               ┆ u32         │\n",
       "╞══════════╪══════════╪══════════╪═══════════════════════════════════╪═════════════╡\n",
       "│ EMF      ┆ AMCC     ┆ 03       ┆ Crédito de los Bancos Comerciale… ┆ 6           │\n",
       "└──────────┴──────────┴──────────┴───────────────────────────────────┴─────────────┘"
      ]
     },
     "execution_count": 150,
     "metadata": {},
     "output_type": "execute_result"
    }
   ],
   "source": [
    "res_nivel_4(\n",
    "    \"EMF\",\"AMCC\",\n",
    "    \"Niv_Gr_3\",\"03\",\n",
    "    \"Niv_Descr_1\")"
   ]
  },
  {
   "cell_type": "code",
   "execution_count": 151,
   "id": "85671027",
   "metadata": {},
   "outputs": [
    {
     "name": "stderr",
     "output_type": "stream",
     "text": [
      "<string>:29: FutureWarning:\n",
      "\n",
      "Passing literal json to 'read_json' is deprecated and will be removed in a future version. To read from a literal string, wrap it in a 'StringIO' object.\n",
      "\n"
     ]
    },
    {
     "data": {
      "text/html": [
       "<div><style>\n",
       ".dataframe > thead > tr,\n",
       ".dataframe > tbody > tr {\n",
       "  text-align: right;\n",
       "  white-space: pre-wrap;\n",
       "}\n",
       "</style>\n",
       "<small>shape: (2, 5)</small><table border=\"1\" class=\"dataframe\"><thead><tr><th>Niv_Gr_1</th><th>Niv_Gr_2</th><th>Niv_Gr_3</th><th>Niv_Descr_4</th><th>N_Variables</th></tr><tr><td>str</td><td>str</td><td>str</td><td>str</td><td>u32</td></tr></thead><tbody><tr><td>&quot;EMF&quot;</td><td>&quot;AMCC&quot;</td><td>&quot;03&quot;</td><td>&quot;Saldo&quot;</td><td>3</td></tr><tr><td>&quot;EMF&quot;</td><td>&quot;AMCC&quot;</td><td>&quot;03&quot;</td><td>&quot;Variación&quot;</td><td>3</td></tr></tbody></table></div>"
      ],
      "text/plain": [
       "shape: (2, 5)\n",
       "┌──────────┬──────────┬──────────┬─────────────┬─────────────┐\n",
       "│ Niv_Gr_1 ┆ Niv_Gr_2 ┆ Niv_Gr_3 ┆ Niv_Descr_4 ┆ N_Variables │\n",
       "│ ---      ┆ ---      ┆ ---      ┆ ---         ┆ ---         │\n",
       "│ str      ┆ str      ┆ str      ┆ str         ┆ u32         │\n",
       "╞══════════╪══════════╪══════════╪═════════════╪═════════════╡\n",
       "│ EMF      ┆ AMCC     ┆ 03       ┆ Saldo       ┆ 3           │\n",
       "│ EMF      ┆ AMCC     ┆ 03       ┆ Variación   ┆ 3           │\n",
       "└──────────┴──────────┴──────────┴─────────────┴─────────────┘"
      ]
     },
     "execution_count": 151,
     "metadata": {},
     "output_type": "execute_result"
    }
   ],
   "source": [
    "res_nivel_4(\n",
    "    \"EMF\",\"AMCC\",\n",
    "    \"Niv_Gr_3\",\"03\",\n",
    "    \"Niv_Descr_4\")"
   ]
  },
  {
   "cell_type": "code",
   "execution_count": 152,
   "id": "fe779f69",
   "metadata": {},
   "outputs": [
    {
     "name": "stderr",
     "output_type": "stream",
     "text": [
      "<string>:29: FutureWarning:\n",
      "\n",
      "Passing literal json to 'read_json' is deprecated and will be removed in a future version. To read from a literal string, wrap it in a 'StringIO' object.\n",
      "\n"
     ]
    },
    {
     "data": {
      "text/html": [
       "<div><style>\n",
       ".dataframe > thead > tr,\n",
       ".dataframe > tbody > tr {\n",
       "  text-align: right;\n",
       "  white-space: pre-wrap;\n",
       "}\n",
       "</style>\n",
       "<small>shape: (3, 5)</small><table border=\"1\" class=\"dataframe\"><thead><tr><th>Niv_Gr_1</th><th>Niv_Gr_2</th><th>Niv_Gr_3</th><th>Niv_Descr_3</th><th>N_Variables</th></tr><tr><td>str</td><td>str</td><td>str</td><td>str</td><td>u32</td></tr></thead><tbody><tr><td>&quot;EMF&quot;</td><td>&quot;AMCC&quot;</td><td>&quot;03&quot;</td><td>&quot;Hogares&quot;</td><td>2</td></tr><tr><td>&quot;EMF&quot;</td><td>&quot;AMCC&quot;</td><td>&quot;03&quot;</td><td>&quot;Empresas Priva…</td><td>2</td></tr><tr><td>&quot;EMF&quot;</td><td>&quot;AMCC&quot;</td><td>&quot;03&quot;</td><td>&quot;Total&quot;</td><td>2</td></tr></tbody></table></div>"
      ],
      "text/plain": [
       "shape: (3, 5)\n",
       "┌──────────┬──────────┬──────────┬───────────────────┬─────────────┐\n",
       "│ Niv_Gr_1 ┆ Niv_Gr_2 ┆ Niv_Gr_3 ┆ Niv_Descr_3       ┆ N_Variables │\n",
       "│ ---      ┆ ---      ┆ ---      ┆ ---               ┆ ---         │\n",
       "│ str      ┆ str      ┆ str      ┆ str               ┆ u32         │\n",
       "╞══════════╪══════════╪══════════╪═══════════════════╪═════════════╡\n",
       "│ EMF      ┆ AMCC     ┆ 03       ┆ Hogares           ┆ 2           │\n",
       "│ EMF      ┆ AMCC     ┆ 03       ┆ Empresas Privadas ┆ 2           │\n",
       "│ EMF      ┆ AMCC     ┆ 03       ┆ Total             ┆ 2           │\n",
       "└──────────┴──────────┴──────────┴───────────────────┴─────────────┘"
      ]
     },
     "execution_count": 152,
     "metadata": {},
     "output_type": "execute_result"
    }
   ],
   "source": [
    "res_nivel_4(\n",
    "    \"EMF\",\"AMCC\",\n",
    "    \"Niv_Gr_3\",\"03\",\n",
    "    \"Niv_Descr_3\")"
   ]
  },
  {
   "cell_type": "markdown",
   "id": "0f51eca7",
   "metadata": {},
   "source": [
    "Para ver todas las variables:\n"
   ]
  },
  {
   "cell_type": "code",
   "execution_count": 153,
   "id": "76d3d83f",
   "metadata": {},
   "outputs": [
    {
     "name": "stderr",
     "output_type": "stream",
     "text": [
      "<string>:29: FutureWarning:\n",
      "\n",
      "Passing literal json to 'read_json' is deprecated and will be removed in a future version. To read from a literal string, wrap it in a 'StringIO' object.\n",
      "\n"
     ]
    },
    {
     "data": {
      "text/html": [
       "<div><style>\n",
       ".dataframe > thead > tr,\n",
       ".dataframe > tbody > tr {\n",
       "  text-align: right;\n",
       "  white-space: pre-wrap;\n",
       "}\n",
       "</style>\n",
       "<small>shape: (6, 8)</small><table border=\"1\" class=\"dataframe\"><thead><tr><th>Niv_Gr_1</th><th>Niv_Gr_2</th><th>Niv_Gr_3</th><th>Id</th><th>Niv_Descr_1</th><th>Niv_Descr_3</th><th>Niv_Descr_4</th><th>N_Variables</th></tr><tr><td>str</td><td>str</td><td>str</td><td>i64</td><td>str</td><td>str</td><td>str</td><td>u32</td></tr></thead><tbody><tr><td>&quot;EMF&quot;</td><td>&quot;AMCC&quot;</td><td>&quot;03&quot;</td><td>642</td><td>&quot;Crédito de los…</td><td>&quot;Total&quot;</td><td>&quot;Variación&quot;</td><td>1</td></tr><tr><td>&quot;EMF&quot;</td><td>&quot;AMCC&quot;</td><td>&quot;03&quot;</td><td>641</td><td>&quot;Crédito de los…</td><td>&quot;Hogares&quot;</td><td>&quot;Variación&quot;</td><td>1</td></tr><tr><td>&quot;EMF&quot;</td><td>&quot;AMCC&quot;</td><td>&quot;03&quot;</td><td>640</td><td>&quot;Crédito de los…</td><td>&quot;Empresas Priva…</td><td>&quot;Variación&quot;</td><td>1</td></tr><tr><td>&quot;EMF&quot;</td><td>&quot;AMCC&quot;</td><td>&quot;03&quot;</td><td>638</td><td>&quot;Crédito de los…</td><td>&quot;Hogares&quot;</td><td>&quot;Saldo&quot;</td><td>1</td></tr><tr><td>&quot;EMF&quot;</td><td>&quot;AMCC&quot;</td><td>&quot;03&quot;</td><td>637</td><td>&quot;Crédito de los…</td><td>&quot;Empresas Priva…</td><td>&quot;Saldo&quot;</td><td>1</td></tr><tr><td>&quot;EMF&quot;</td><td>&quot;AMCC&quot;</td><td>&quot;03&quot;</td><td>639</td><td>&quot;Crédito de los…</td><td>&quot;Total&quot;</td><td>&quot;Saldo&quot;</td><td>1</td></tr></tbody></table></div>"
      ],
      "text/plain": [
       "shape: (6, 8)\n",
       "┌──────────┬──────────┬──────────┬─────┬───────────────┬───────────────┬─────────────┬─────────────┐\n",
       "│ Niv_Gr_1 ┆ Niv_Gr_2 ┆ Niv_Gr_3 ┆ Id  ┆ Niv_Descr_1   ┆ Niv_Descr_3   ┆ Niv_Descr_4 ┆ N_Variables │\n",
       "│ ---      ┆ ---      ┆ ---      ┆ --- ┆ ---           ┆ ---           ┆ ---         ┆ ---         │\n",
       "│ str      ┆ str      ┆ str      ┆ i64 ┆ str           ┆ str           ┆ str         ┆ u32         │\n",
       "╞══════════╪══════════╪══════════╪═════╪═══════════════╪═══════════════╪═════════════╪═════════════╡\n",
       "│ EMF      ┆ AMCC     ┆ 03       ┆ 642 ┆ Crédito de    ┆ Total         ┆ Variación   ┆ 1           │\n",
       "│          ┆          ┆          ┆     ┆ los Bancos    ┆               ┆             ┆             │\n",
       "│          ┆          ┆          ┆     ┆ Comerciale…   ┆               ┆             ┆             │\n",
       "│ EMF      ┆ AMCC     ┆ 03       ┆ 641 ┆ Crédito de    ┆ Hogares       ┆ Variación   ┆ 1           │\n",
       "│          ┆          ┆          ┆     ┆ los Bancos    ┆               ┆             ┆             │\n",
       "│          ┆          ┆          ┆     ┆ Comerciale…   ┆               ┆             ┆             │\n",
       "│ EMF      ┆ AMCC     ┆ 03       ┆ 640 ┆ Crédito de    ┆ Empresas      ┆ Variación   ┆ 1           │\n",
       "│          ┆          ┆          ┆     ┆ los Bancos    ┆ Privadas      ┆             ┆             │\n",
       "│          ┆          ┆          ┆     ┆ Comerciale…   ┆               ┆             ┆             │\n",
       "│ EMF      ┆ AMCC     ┆ 03       ┆ 638 ┆ Crédito de    ┆ Hogares       ┆ Saldo       ┆ 1           │\n",
       "│          ┆          ┆          ┆     ┆ los Bancos    ┆               ┆             ┆             │\n",
       "│          ┆          ┆          ┆     ┆ Comerciale…   ┆               ┆             ┆             │\n",
       "│ EMF      ┆ AMCC     ┆ 03       ┆ 637 ┆ Crédito de    ┆ Empresas      ┆ Saldo       ┆ 1           │\n",
       "│          ┆          ┆          ┆     ┆ los Bancos    ┆ Privadas      ┆             ┆             │\n",
       "│          ┆          ┆          ┆     ┆ Comerciale…   ┆               ┆             ┆             │\n",
       "│ EMF      ┆ AMCC     ┆ 03       ┆ 639 ┆ Crédito de    ┆ Total         ┆ Saldo       ┆ 1           │\n",
       "│          ┆          ┆          ┆     ┆ los Bancos    ┆               ┆             ┆             │\n",
       "│          ┆          ┆          ┆     ┆ Comerciale…   ┆               ┆             ┆             │\n",
       "└──────────┴──────────┴──────────┴─────┴───────────────┴───────────────┴─────────────┴─────────────┘"
      ]
     },
     "execution_count": 153,
     "metadata": {},
     "output_type": "execute_result"
    }
   ],
   "source": [
    "res_nivel_7(\n",
    "    \"EMF\",\"AMCC\",\n",
    "    \"Niv_Gr_3\",\"03\",\n",
    "    \"Id\",\"Niv_Descr_1\",\"Niv_Descr_3\",\"Niv_Descr_4\")"
   ]
  },
  {
   "cell_type": "markdown",
   "id": "f97fc1b6",
   "metadata": {},
   "source": [
    "Resultados de una sola variable:\n"
   ]
  },
  {
   "cell_type": "code",
   "execution_count": 154,
   "id": "b3305c23",
   "metadata": {},
   "outputs": [
    {
     "name": "stderr",
     "output_type": "stream",
     "text": [
      "<string>:29: FutureWarning:\n",
      "\n",
      "Passing literal json to 'read_json' is deprecated and will be removed in a future version. To read from a literal string, wrap it in a 'StringIO' object.\n",
      "\n"
     ]
    },
    {
     "name": "stderr",
     "output_type": "stream",
     "text": [
      "<string>:29: FutureWarning:\n",
      "\n",
      "Passing literal json to 'read_json' is deprecated and will be removed in a future version. To read from a literal string, wrap it in a 'StringIO' object.\n",
      "\n"
     ]
    },
    {
     "data": {
      "text/html": [
       "<div><style>\n",
       ".dataframe > thead > tr,\n",
       ".dataframe > tbody > tr {\n",
       "  text-align: right;\n",
       "  white-space: pre-wrap;\n",
       "}\n",
       "</style>\n",
       "<small>shape: (182, 2)</small><table border=\"1\" class=\"dataframe\"><thead><tr><th>Fecha</th><th>Crédito de los Bancos Comerciales-CréditoBCHogares-Hogares-Saldo</th></tr><tr><td>date</td><td>f64</td></tr></thead><tbody><tr><td>2024-02-01</td><td>256892.0197</td></tr><tr><td>2024-01-01</td><td>253037.8958</td></tr><tr><td>2023-12-01</td><td>250488.4006</td></tr><tr><td>2023-11-01</td><td>245899.9323</td></tr><tr><td>2023-10-01</td><td>239930.1704</td></tr><tr><td>&hellip;</td><td>&hellip;</td></tr><tr><td>2009-05-01</td><td>56863.5362</td></tr><tr><td>2009-04-01</td><td>56912.6855</td></tr><tr><td>2009-03-01</td><td>55864.692</td></tr><tr><td>2009-02-01</td><td>54470.0449</td></tr><tr><td>2009-01-01</td><td>55678.9931</td></tr></tbody></table></div>"
      ],
      "text/plain": [
       "shape: (182, 2)\n",
       "┌────────────┬───────────────────────────────────┐\n",
       "│ Fecha      ┆ Crédito de los Bancos Comerciale… │\n",
       "│ ---        ┆ ---                               │\n",
       "│ date       ┆ f64                               │\n",
       "╞════════════╪═══════════════════════════════════╡\n",
       "│ 2024-02-01 ┆ 256892.0197                       │\n",
       "│ 2024-01-01 ┆ 253037.8958                       │\n",
       "│ 2023-12-01 ┆ 250488.4006                       │\n",
       "│ 2023-11-01 ┆ 245899.9323                       │\n",
       "│ 2023-10-01 ┆ 239930.1704                       │\n",
       "│ …          ┆ …                                 │\n",
       "│ 2009-05-01 ┆ 56863.5362                        │\n",
       "│ 2009-04-01 ┆ 56912.6855                        │\n",
       "│ 2009-03-01 ┆ 55864.692                         │\n",
       "│ 2009-02-01 ┆ 54470.0449                        │\n",
       "│ 2009-01-01 ┆ 55678.9931                        │\n",
       "└────────────┴───────────────────────────────────┘"
      ]
     },
     "execution_count": 154,
     "metadata": {},
     "output_type": "execute_result"
    }
   ],
   "source": [
    "Id = 638\n",
    "df = get_df(Id)\n",
    "# get_plot(Id)\n",
    "df"
   ]
  },
  {
   "cell_type": "markdown",
   "id": "43db62e3",
   "metadata": {},
   "source": [
    "##### 04 Crédito Otras Sociedades de Depósito\n"
   ]
  },
  {
   "cell_type": "code",
   "execution_count": 155,
   "id": "9b8912e3",
   "metadata": {},
   "outputs": [
    {
     "name": "stderr",
     "output_type": "stream",
     "text": [
      "<string>:29: FutureWarning:\n",
      "\n",
      "Passing literal json to 'read_json' is deprecated and will be removed in a future version. To read from a literal string, wrap it in a 'StringIO' object.\n",
      "\n"
     ]
    },
    {
     "data": {
      "text/html": [
       "<div><style>\n",
       ".dataframe > thead > tr,\n",
       ".dataframe > tbody > tr {\n",
       "  text-align: right;\n",
       "  white-space: pre-wrap;\n",
       "}\n",
       "</style>\n",
       "<small>shape: (1, 5)</small><table border=\"1\" class=\"dataframe\"><thead><tr><th>Niv_Gr_1</th><th>Niv_Gr_2</th><th>Niv_Gr_3</th><th>Niv_Descr_1</th><th>N_Variables</th></tr><tr><td>str</td><td>str</td><td>str</td><td>str</td><td>u32</td></tr></thead><tbody><tr><td>&quot;EMF&quot;</td><td>&quot;AMCC&quot;</td><td>&quot;04&quot;</td><td>&quot;Crédito Otras …</td><td>6</td></tr></tbody></table></div>"
      ],
      "text/plain": [
       "shape: (1, 5)\n",
       "┌──────────┬──────────┬──────────┬───────────────────────────────────┬─────────────┐\n",
       "│ Niv_Gr_1 ┆ Niv_Gr_2 ┆ Niv_Gr_3 ┆ Niv_Descr_1                       ┆ N_Variables │\n",
       "│ ---      ┆ ---      ┆ ---      ┆ ---                               ┆ ---         │\n",
       "│ str      ┆ str      ┆ str      ┆ str                               ┆ u32         │\n",
       "╞══════════╪══════════╪══════════╪═══════════════════════════════════╪═════════════╡\n",
       "│ EMF      ┆ AMCC     ┆ 04       ┆ Crédito Otras Sociedades de Depó… ┆ 6           │\n",
       "└──────────┴──────────┴──────────┴───────────────────────────────────┴─────────────┘"
      ]
     },
     "execution_count": 155,
     "metadata": {},
     "output_type": "execute_result"
    }
   ],
   "source": [
    "res_nivel_4(\n",
    "    \"EMF\",\"AMCC\",\n",
    "    \"Niv_Gr_3\",\"04\",\n",
    "    \"Niv_Descr_1\")"
   ]
  },
  {
   "cell_type": "code",
   "execution_count": 156,
   "id": "b7f482a9",
   "metadata": {},
   "outputs": [
    {
     "name": "stderr",
     "output_type": "stream",
     "text": [
      "<string>:29: FutureWarning:\n",
      "\n",
      "Passing literal json to 'read_json' is deprecated and will be removed in a future version. To read from a literal string, wrap it in a 'StringIO' object.\n",
      "\n"
     ]
    },
    {
     "data": {
      "text/html": [
       "<div><style>\n",
       ".dataframe > thead > tr,\n",
       ".dataframe > tbody > tr {\n",
       "  text-align: right;\n",
       "  white-space: pre-wrap;\n",
       "}\n",
       "</style>\n",
       "<small>shape: (6, 6)</small><table border=\"1\" class=\"dataframe\"><thead><tr><th>Niv_Gr_1</th><th>Niv_Gr_2</th><th>Niv_Gr_3</th><th>Niv_Descr_3</th><th>Niv_Descr_4</th><th>N_Variables</th></tr><tr><td>str</td><td>str</td><td>str</td><td>str</td><td>str</td><td>u32</td></tr></thead><tbody><tr><td>&quot;EMF&quot;</td><td>&quot;AMCC&quot;</td><td>&quot;04&quot;</td><td>&quot;Empresas Priva…</td><td>&quot;Saldo&quot;</td><td>1</td></tr><tr><td>&quot;EMF&quot;</td><td>&quot;AMCC&quot;</td><td>&quot;04&quot;</td><td>&quot;Hogares&quot;</td><td>&quot;Saldo&quot;</td><td>1</td></tr><tr><td>&quot;EMF&quot;</td><td>&quot;AMCC&quot;</td><td>&quot;04&quot;</td><td>&quot;Hogares&quot;</td><td>&quot;Variación&quot;</td><td>1</td></tr><tr><td>&quot;EMF&quot;</td><td>&quot;AMCC&quot;</td><td>&quot;04&quot;</td><td>&quot;Empresas Priva…</td><td>&quot;Variación&quot;</td><td>1</td></tr><tr><td>&quot;EMF&quot;</td><td>&quot;AMCC&quot;</td><td>&quot;04&quot;</td><td>&quot;Total&quot;</td><td>&quot;Variación&quot;</td><td>1</td></tr><tr><td>&quot;EMF&quot;</td><td>&quot;AMCC&quot;</td><td>&quot;04&quot;</td><td>&quot;Total&quot;</td><td>&quot;Saldo&quot;</td><td>1</td></tr></tbody></table></div>"
      ],
      "text/plain": [
       "shape: (6, 6)\n",
       "┌──────────┬──────────┬──────────┬───────────────────┬─────────────┬─────────────┐\n",
       "│ Niv_Gr_1 ┆ Niv_Gr_2 ┆ Niv_Gr_3 ┆ Niv_Descr_3       ┆ Niv_Descr_4 ┆ N_Variables │\n",
       "│ ---      ┆ ---      ┆ ---      ┆ ---               ┆ ---         ┆ ---         │\n",
       "│ str      ┆ str      ┆ str      ┆ str               ┆ str         ┆ u32         │\n",
       "╞══════════╪══════════╪══════════╪═══════════════════╪═════════════╪═════════════╡\n",
       "│ EMF      ┆ AMCC     ┆ 04       ┆ Empresas Privadas ┆ Saldo       ┆ 1           │\n",
       "│ EMF      ┆ AMCC     ┆ 04       ┆ Hogares           ┆ Saldo       ┆ 1           │\n",
       "│ EMF      ┆ AMCC     ┆ 04       ┆ Hogares           ┆ Variación   ┆ 1           │\n",
       "│ EMF      ┆ AMCC     ┆ 04       ┆ Empresas Privadas ┆ Variación   ┆ 1           │\n",
       "│ EMF      ┆ AMCC     ┆ 04       ┆ Total             ┆ Variación   ┆ 1           │\n",
       "│ EMF      ┆ AMCC     ┆ 04       ┆ Total             ┆ Saldo       ┆ 1           │\n",
       "└──────────┴──────────┴──────────┴───────────────────┴─────────────┴─────────────┘"
      ]
     },
     "execution_count": 156,
     "metadata": {},
     "output_type": "execute_result"
    }
   ],
   "source": [
    "res_nivel_5(\n",
    "    \"EMF\",\"AMCC\",\n",
    "    \"Niv_Gr_3\",\"04\",\n",
    "    \"Niv_Descr_3\",\"Niv_Descr_4\")"
   ]
  },
  {
   "cell_type": "markdown",
   "id": "2d598c4e",
   "metadata": {},
   "source": [
    "Para ver todas las variables:\n"
   ]
  },
  {
   "cell_type": "code",
   "execution_count": 157,
   "id": "8a188c07",
   "metadata": {},
   "outputs": [
    {
     "name": "stderr",
     "output_type": "stream",
     "text": [
      "<string>:29: FutureWarning:\n",
      "\n",
      "Passing literal json to 'read_json' is deprecated and will be removed in a future version. To read from a literal string, wrap it in a 'StringIO' object.\n",
      "\n"
     ]
    },
    {
     "data": {
      "text/html": [
       "<div><style>\n",
       ".dataframe > thead > tr,\n",
       ".dataframe > tbody > tr {\n",
       "  text-align: right;\n",
       "  white-space: pre-wrap;\n",
       "}\n",
       "</style>\n",
       "<small>shape: (6, 8)</small><table border=\"1\" class=\"dataframe\"><thead><tr><th>Niv_Gr_1</th><th>Niv_Gr_2</th><th>Niv_Gr_3</th><th>Id</th><th>Niv_Descr_1</th><th>Niv_Descr_3</th><th>Niv_Descr_4</th><th>N_Variables</th></tr><tr><td>str</td><td>str</td><td>str</td><td>i64</td><td>str</td><td>str</td><td>str</td><td>u32</td></tr></thead><tbody><tr><td>&quot;EMF&quot;</td><td>&quot;AMCC&quot;</td><td>&quot;04&quot;</td><td>643</td><td>&quot;Crédito Otras …</td><td>&quot;Empresas Priva…</td><td>&quot;Saldo&quot;</td><td>1</td></tr><tr><td>&quot;EMF&quot;</td><td>&quot;AMCC&quot;</td><td>&quot;04&quot;</td><td>648</td><td>&quot;Crédito Otras …</td><td>&quot;Total&quot;</td><td>&quot;Variación&quot;</td><td>1</td></tr><tr><td>&quot;EMF&quot;</td><td>&quot;AMCC&quot;</td><td>&quot;04&quot;</td><td>645</td><td>&quot;Crédito Otras …</td><td>&quot;Total&quot;</td><td>&quot;Saldo&quot;</td><td>1</td></tr><tr><td>&quot;EMF&quot;</td><td>&quot;AMCC&quot;</td><td>&quot;04&quot;</td><td>646</td><td>&quot;Crédito Otras …</td><td>&quot;Empresas Priva…</td><td>&quot;Variación&quot;</td><td>1</td></tr><tr><td>&quot;EMF&quot;</td><td>&quot;AMCC&quot;</td><td>&quot;04&quot;</td><td>647</td><td>&quot;Crédito Otras …</td><td>&quot;Hogares&quot;</td><td>&quot;Variación&quot;</td><td>1</td></tr><tr><td>&quot;EMF&quot;</td><td>&quot;AMCC&quot;</td><td>&quot;04&quot;</td><td>644</td><td>&quot;Crédito Otras …</td><td>&quot;Hogares&quot;</td><td>&quot;Saldo&quot;</td><td>1</td></tr></tbody></table></div>"
      ],
      "text/plain": [
       "shape: (6, 8)\n",
       "┌──────────┬──────────┬──────────┬─────┬───────────────┬───────────────┬─────────────┬─────────────┐\n",
       "│ Niv_Gr_1 ┆ Niv_Gr_2 ┆ Niv_Gr_3 ┆ Id  ┆ Niv_Descr_1   ┆ Niv_Descr_3   ┆ Niv_Descr_4 ┆ N_Variables │\n",
       "│ ---      ┆ ---      ┆ ---      ┆ --- ┆ ---           ┆ ---           ┆ ---         ┆ ---         │\n",
       "│ str      ┆ str      ┆ str      ┆ i64 ┆ str           ┆ str           ┆ str         ┆ u32         │\n",
       "╞══════════╪══════════╪══════════╪═════╪═══════════════╪═══════════════╪═════════════╪═════════════╡\n",
       "│ EMF      ┆ AMCC     ┆ 04       ┆ 643 ┆ Crédito Otras ┆ Empresas      ┆ Saldo       ┆ 1           │\n",
       "│          ┆          ┆          ┆     ┆ Sociedades de ┆ Privadas      ┆             ┆             │\n",
       "│          ┆          ┆          ┆     ┆ Depó…         ┆               ┆             ┆             │\n",
       "│ EMF      ┆ AMCC     ┆ 04       ┆ 648 ┆ Crédito Otras ┆ Total         ┆ Variación   ┆ 1           │\n",
       "│          ┆          ┆          ┆     ┆ Sociedades de ┆               ┆             ┆             │\n",
       "│          ┆          ┆          ┆     ┆ Depó…         ┆               ┆             ┆             │\n",
       "│ EMF      ┆ AMCC     ┆ 04       ┆ 645 ┆ Crédito Otras ┆ Total         ┆ Saldo       ┆ 1           │\n",
       "│          ┆          ┆          ┆     ┆ Sociedades de ┆               ┆             ┆             │\n",
       "│          ┆          ┆          ┆     ┆ Depó…         ┆               ┆             ┆             │\n",
       "│ EMF      ┆ AMCC     ┆ 04       ┆ 646 ┆ Crédito Otras ┆ Empresas      ┆ Variación   ┆ 1           │\n",
       "│          ┆          ┆          ┆     ┆ Sociedades de ┆ Privadas      ┆             ┆             │\n",
       "│          ┆          ┆          ┆     ┆ Depó…         ┆               ┆             ┆             │\n",
       "│ EMF      ┆ AMCC     ┆ 04       ┆ 647 ┆ Crédito Otras ┆ Hogares       ┆ Variación   ┆ 1           │\n",
       "│          ┆          ┆          ┆     ┆ Sociedades de ┆               ┆             ┆             │\n",
       "│          ┆          ┆          ┆     ┆ Depó…         ┆               ┆             ┆             │\n",
       "│ EMF      ┆ AMCC     ┆ 04       ┆ 644 ┆ Crédito Otras ┆ Hogares       ┆ Saldo       ┆ 1           │\n",
       "│          ┆          ┆          ┆     ┆ Sociedades de ┆               ┆             ┆             │\n",
       "│          ┆          ┆          ┆     ┆ Depó…         ┆               ┆             ┆             │\n",
       "└──────────┴──────────┴──────────┴─────┴───────────────┴───────────────┴─────────────┴─────────────┘"
      ]
     },
     "execution_count": 157,
     "metadata": {},
     "output_type": "execute_result"
    }
   ],
   "source": [
    "res_nivel_7(\n",
    "    \"EMF\",\"AMCC\",\n",
    "    \"Niv_Gr_3\",\"04\",\n",
    "    \"Id\",\"Niv_Descr_1\",\"Niv_Descr_3\",\"Niv_Descr_4\")"
   ]
  },
  {
   "cell_type": "markdown",
   "id": "605af7f1",
   "metadata": {},
   "source": [
    "Resultados de una sola variable:\n"
   ]
  },
  {
   "cell_type": "code",
   "execution_count": 158,
   "id": "60ecdf4d",
   "metadata": {},
   "outputs": [
    {
     "name": "stderr",
     "output_type": "stream",
     "text": [
      "<string>:29: FutureWarning:\n",
      "\n",
      "Passing literal json to 'read_json' is deprecated and will be removed in a future version. To read from a literal string, wrap it in a 'StringIO' object.\n",
      "\n"
     ]
    },
    {
     "name": "stderr",
     "output_type": "stream",
     "text": [
      "<string>:29: FutureWarning:\n",
      "\n",
      "Passing literal json to 'read_json' is deprecated and will be removed in a future version. To read from a literal string, wrap it in a 'StringIO' object.\n",
      "\n"
     ]
    },
    {
     "data": {
      "text/html": [
       "<div><style>\n",
       ".dataframe > thead > tr,\n",
       ".dataframe > tbody > tr {\n",
       "  text-align: right;\n",
       "  white-space: pre-wrap;\n",
       "}\n",
       "</style>\n",
       "<small>shape: (170, 2)</small><table border=\"1\" class=\"dataframe\"><thead><tr><th>Fecha</th><th>Crédito Otras Sociedades de Depósito-VariaciónCréditodelasOSDTotal-Total-Variación</th></tr><tr><td>date</td><td>f64</td></tr></thead><tbody><tr><td>2024-02-01</td><td>17.5987</td></tr><tr><td>2024-01-01</td><td>18.5811</td></tr><tr><td>2023-12-01</td><td>18.7543</td></tr><tr><td>2023-11-01</td><td>18.591</td></tr><tr><td>2023-10-01</td><td>19.4767</td></tr><tr><td>&hellip;</td><td>&hellip;</td></tr><tr><td>2010-05-01</td><td>3.1448</td></tr><tr><td>2010-04-01</td><td>3.0188</td></tr><tr><td>2010-03-01</td><td>2.3382</td></tr><tr><td>2010-02-01</td><td>2.1975</td></tr><tr><td>2010-01-01</td><td>2.4085</td></tr></tbody></table></div>"
      ],
      "text/plain": [
       "shape: (170, 2)\n",
       "┌────────────┬───────────────────────────────────┐\n",
       "│ Fecha      ┆ Crédito Otras Sociedades de Depó… │\n",
       "│ ---        ┆ ---                               │\n",
       "│ date       ┆ f64                               │\n",
       "╞════════════╪═══════════════════════════════════╡\n",
       "│ 2024-02-01 ┆ 17.5987                           │\n",
       "│ 2024-01-01 ┆ 18.5811                           │\n",
       "│ 2023-12-01 ┆ 18.7543                           │\n",
       "│ 2023-11-01 ┆ 18.591                            │\n",
       "│ 2023-10-01 ┆ 19.4767                           │\n",
       "│ …          ┆ …                                 │\n",
       "│ 2010-05-01 ┆ 3.1448                            │\n",
       "│ 2010-04-01 ┆ 3.0188                            │\n",
       "│ 2010-03-01 ┆ 2.3382                            │\n",
       "│ 2010-02-01 ┆ 2.1975                            │\n",
       "│ 2010-01-01 ┆ 2.4085                            │\n",
       "└────────────┴───────────────────────────────────┘"
      ]
     },
     "execution_count": 158,
     "metadata": {},
     "output_type": "execute_result"
    }
   ],
   "source": [
    "Id = 648\n",
    "df = get_df(Id)\n",
    "# get_plot(Id)\n",
    "df"
   ]
  },
  {
   "cell_type": "markdown",
   "id": "dd38dd83",
   "metadata": {},
   "source": [
    "##### 05 Saldo de Préstamos (Millones de Lempiras)\n"
   ]
  },
  {
   "cell_type": "code",
   "execution_count": 159,
   "id": "6fcb8d9d",
   "metadata": {},
   "outputs": [
    {
     "name": "stderr",
     "output_type": "stream",
     "text": [
      "<string>:29: FutureWarning:\n",
      "\n",
      "Passing literal json to 'read_json' is deprecated and will be removed in a future version. To read from a literal string, wrap it in a 'StringIO' object.\n",
      "\n"
     ]
    },
    {
     "data": {
      "text/html": [
       "<div><style>\n",
       ".dataframe > thead > tr,\n",
       ".dataframe > tbody > tr {\n",
       "  text-align: right;\n",
       "  white-space: pre-wrap;\n",
       "}\n",
       "</style>\n",
       "<small>shape: (1, 5)</small><table border=\"1\" class=\"dataframe\"><thead><tr><th>Niv_Gr_1</th><th>Niv_Gr_2</th><th>Niv_Gr_3</th><th>Niv_Descr_1</th><th>N_Variables</th></tr><tr><td>str</td><td>str</td><td>str</td><td>str</td><td>u32</td></tr></thead><tbody><tr><td>&quot;EMF&quot;</td><td>&quot;AMCC&quot;</td><td>&quot;05&quot;</td><td>&quot;Saldo de prést…</td><td>14</td></tr></tbody></table></div>"
      ],
      "text/plain": [
       "shape: (1, 5)\n",
       "┌──────────┬──────────┬──────────┬────────────────────┬─────────────┐\n",
       "│ Niv_Gr_1 ┆ Niv_Gr_2 ┆ Niv_Gr_3 ┆ Niv_Descr_1        ┆ N_Variables │\n",
       "│ ---      ┆ ---      ┆ ---      ┆ ---                ┆ ---         │\n",
       "│ str      ┆ str      ┆ str      ┆ str                ┆ u32         │\n",
       "╞══════════╪══════════╪══════════╪════════════════════╪═════════════╡\n",
       "│ EMF      ┆ AMCC     ┆ 05       ┆ Saldo de préstamos ┆ 14          │\n",
       "└──────────┴──────────┴──────────┴────────────────────┴─────────────┘"
      ]
     },
     "execution_count": 159,
     "metadata": {},
     "output_type": "execute_result"
    }
   ],
   "source": [
    "res_nivel_4(\n",
    "    \"EMF\",\"AMCC\",\n",
    "    \"Niv_Gr_3\",\"05\",\n",
    "    \"Niv_Descr_1\")"
   ]
  },
  {
   "cell_type": "markdown",
   "id": "ebc01406",
   "metadata": {},
   "source": [
    "* Variación\n",
    "* Saldo\n",
    "\n",
    "De los siguientes sectores:\n",
    "\n",
    "* Agropecuaria\n",
    "* Comercio\n",
    "* Consumo\n",
    "* Industria\n",
    "* Propiedad Raí­z\n",
    "* Servicios\n",
    "* Total\n",
    "\n",
    "Para ver todas las variables:\n"
   ]
  },
  {
   "cell_type": "code",
   "execution_count": 160,
   "id": "cf004522",
   "metadata": {},
   "outputs": [
    {
     "name": "stderr",
     "output_type": "stream",
     "text": [
      "<string>:29: FutureWarning:\n",
      "\n",
      "Passing literal json to 'read_json' is deprecated and will be removed in a future version. To read from a literal string, wrap it in a 'StringIO' object.\n",
      "\n"
     ]
    },
    {
     "data": {
      "text/html": [
       "<div><style>\n",
       ".dataframe > thead > tr,\n",
       ".dataframe > tbody > tr {\n",
       "  text-align: right;\n",
       "  white-space: pre-wrap;\n",
       "}\n",
       "</style>\n",
       "<small>shape: (14, 8)</small><table border=\"1\" class=\"dataframe\"><thead><tr><th>Niv_Gr_1</th><th>Niv_Gr_2</th><th>Niv_Gr_3</th><th>Id</th><th>Niv_Descr_1</th><th>Niv_Descr_3</th><th>Niv_Descr_4</th><th>N_Variables</th></tr><tr><td>str</td><td>str</td><td>str</td><td>i64</td><td>str</td><td>str</td><td>str</td><td>u32</td></tr></thead><tbody><tr><td>&quot;EMF&quot;</td><td>&quot;AMCC&quot;</td><td>&quot;05&quot;</td><td>651</td><td>&quot;Saldo de prést…</td><td>&quot;Consumo&quot;</td><td>&quot;Saldo&quot;</td><td>1</td></tr><tr><td>&quot;EMF&quot;</td><td>&quot;AMCC&quot;</td><td>&quot;05&quot;</td><td>653</td><td>&quot;Saldo de prést…</td><td>&quot;PropiedadRaíz&quot;</td><td>&quot;Saldo&quot;</td><td>1</td></tr><tr><td>&quot;EMF&quot;</td><td>&quot;AMCC&quot;</td><td>&quot;05&quot;</td><td>652</td><td>&quot;Saldo de prést…</td><td>&quot;Industria&quot;</td><td>&quot;Saldo&quot;</td><td>1</td></tr><tr><td>&quot;EMF&quot;</td><td>&quot;AMCC&quot;</td><td>&quot;05&quot;</td><td>654</td><td>&quot;Saldo de prést…</td><td>&quot;Servicios&quot;</td><td>&quot;Saldo&quot;</td><td>1</td></tr><tr><td>&quot;EMF&quot;</td><td>&quot;AMCC&quot;</td><td>&quot;05&quot;</td><td>650</td><td>&quot;Saldo de prést…</td><td>&quot;Comercio&quot;</td><td>&quot;Saldo&quot;</td><td>1</td></tr><tr><td>&hellip;</td><td>&hellip;</td><td>&hellip;</td><td>&hellip;</td><td>&hellip;</td><td>&hellip;</td><td>&hellip;</td><td>&hellip;</td></tr><tr><td>&quot;EMF&quot;</td><td>&quot;AMCC&quot;</td><td>&quot;05&quot;</td><td>658</td><td>&quot;Saldo de prést…</td><td>&quot;VariaciónConsu…</td><td>&quot;Variación&quot;</td><td>1</td></tr><tr><td>&quot;EMF&quot;</td><td>&quot;AMCC&quot;</td><td>&quot;05&quot;</td><td>660</td><td>&quot;Saldo de prést…</td><td>&quot;VariaciónPropi…</td><td>&quot;Variación&quot;</td><td>1</td></tr><tr><td>&quot;EMF&quot;</td><td>&quot;AMCC&quot;</td><td>&quot;05&quot;</td><td>661</td><td>&quot;Saldo de prést…</td><td>&quot;VariaciónServi…</td><td>&quot;Variación&quot;</td><td>1</td></tr><tr><td>&quot;EMF&quot;</td><td>&quot;AMCC&quot;</td><td>&quot;05&quot;</td><td>656</td><td>&quot;Saldo de prést…</td><td>&quot;VariaciónAgrop…</td><td>&quot;Variación&quot;</td><td>1</td></tr><tr><td>&quot;EMF&quot;</td><td>&quot;AMCC&quot;</td><td>&quot;05&quot;</td><td>657</td><td>&quot;Saldo de prést…</td><td>&quot;VariaciónComer…</td><td>&quot;Variación&quot;</td><td>1</td></tr></tbody></table></div>"
      ],
      "text/plain": [
       "shape: (14, 8)\n",
       "┌──────────┬──────────┬──────────┬─────┬───────────────┬───────────────┬─────────────┬─────────────┐\n",
       "│ Niv_Gr_1 ┆ Niv_Gr_2 ┆ Niv_Gr_3 ┆ Id  ┆ Niv_Descr_1   ┆ Niv_Descr_3   ┆ Niv_Descr_4 ┆ N_Variables │\n",
       "│ ---      ┆ ---      ┆ ---      ┆ --- ┆ ---           ┆ ---           ┆ ---         ┆ ---         │\n",
       "│ str      ┆ str      ┆ str      ┆ i64 ┆ str           ┆ str           ┆ str         ┆ u32         │\n",
       "╞══════════╪══════════╪══════════╪═════╪═══════════════╪═══════════════╪═════════════╪═════════════╡\n",
       "│ EMF      ┆ AMCC     ┆ 05       ┆ 651 ┆ Saldo de      ┆ Consumo       ┆ Saldo       ┆ 1           │\n",
       "│          ┆          ┆          ┆     ┆ préstamos     ┆               ┆             ┆             │\n",
       "│ EMF      ┆ AMCC     ┆ 05       ┆ 653 ┆ Saldo de      ┆ PropiedadRaíz ┆ Saldo       ┆ 1           │\n",
       "│          ┆          ┆          ┆     ┆ préstamos     ┆               ┆             ┆             │\n",
       "│ EMF      ┆ AMCC     ┆ 05       ┆ 652 ┆ Saldo de      ┆ Industria     ┆ Saldo       ┆ 1           │\n",
       "│          ┆          ┆          ┆     ┆ préstamos     ┆               ┆             ┆             │\n",
       "│ EMF      ┆ AMCC     ┆ 05       ┆ 654 ┆ Saldo de      ┆ Servicios     ┆ Saldo       ┆ 1           │\n",
       "│          ┆          ┆          ┆     ┆ préstamos     ┆               ┆             ┆             │\n",
       "│ EMF      ┆ AMCC     ┆ 05       ┆ 650 ┆ Saldo de      ┆ Comercio      ┆ Saldo       ┆ 1           │\n",
       "│          ┆          ┆          ┆     ┆ préstamos     ┆               ┆             ┆             │\n",
       "│ …        ┆ …        ┆ …        ┆ …   ┆ …             ┆ …             ┆ …           ┆ …           │\n",
       "│ EMF      ┆ AMCC     ┆ 05       ┆ 658 ┆ Saldo de      ┆ VariaciónCons ┆ Variación   ┆ 1           │\n",
       "│          ┆          ┆          ┆     ┆ préstamos     ┆ umo           ┆             ┆             │\n",
       "│ EMF      ┆ AMCC     ┆ 05       ┆ 660 ┆ Saldo de      ┆ VariaciónProp ┆ Variación   ┆ 1           │\n",
       "│          ┆          ┆          ┆     ┆ préstamos     ┆ iedadRaíz     ┆             ┆             │\n",
       "│ EMF      ┆ AMCC     ┆ 05       ┆ 661 ┆ Saldo de      ┆ VariaciónServ ┆ Variación   ┆ 1           │\n",
       "│          ┆          ┆          ┆     ┆ préstamos     ┆ icios         ┆             ┆             │\n",
       "│ EMF      ┆ AMCC     ┆ 05       ┆ 656 ┆ Saldo de      ┆ VariaciónAgro ┆ Variación   ┆ 1           │\n",
       "│          ┆          ┆          ┆     ┆ préstamos     ┆ pecuaria      ┆             ┆             │\n",
       "│ EMF      ┆ AMCC     ┆ 05       ┆ 657 ┆ Saldo de      ┆ VariaciónCome ┆ Variación   ┆ 1           │\n",
       "│          ┆          ┆          ┆     ┆ préstamos     ┆ rcio          ┆             ┆             │\n",
       "└──────────┴──────────┴──────────┴─────┴───────────────┴───────────────┴─────────────┴─────────────┘"
      ]
     },
     "execution_count": 160,
     "metadata": {},
     "output_type": "execute_result"
    }
   ],
   "source": [
    "res_nivel_7(\n",
    "    \"EMF\",\"AMCC\",\n",
    "    \"Niv_Gr_3\",\"05\",\n",
    "    \"Id\",\"Niv_Descr_1\",\"Niv_Descr_3\",\"Niv_Descr_4\").sort(\"Niv_Descr_4\")"
   ]
  },
  {
   "cell_type": "markdown",
   "id": "cf8e3ad4",
   "metadata": {},
   "source": [
    "Resultados de una sola variable:\n"
   ]
  },
  {
   "cell_type": "code",
   "execution_count": 161,
   "id": "85f17358",
   "metadata": {},
   "outputs": [
    {
     "name": "stderr",
     "output_type": "stream",
     "text": [
      "<string>:29: FutureWarning:\n",
      "\n",
      "Passing literal json to 'read_json' is deprecated and will be removed in a future version. To read from a literal string, wrap it in a 'StringIO' object.\n",
      "\n"
     ]
    },
    {
     "name": "stderr",
     "output_type": "stream",
     "text": [
      "<string>:29: FutureWarning:\n",
      "\n",
      "Passing literal json to 'read_json' is deprecated and will be removed in a future version. To read from a literal string, wrap it in a 'StringIO' object.\n",
      "\n"
     ]
    },
    {
     "data": {
      "text/html": [
       "<div><style>\n",
       ".dataframe > thead > tr,\n",
       ".dataframe > tbody > tr {\n",
       "  text-align: right;\n",
       "  white-space: pre-wrap;\n",
       "}\n",
       "</style>\n",
       "<small>shape: (84, 2)</small><table border=\"1\" class=\"dataframe\"><thead><tr><th>Fecha</th><th>Saldo de préstamos-Saldos en millones de lempiras-Comercio-Saldo</th></tr><tr><td>date</td><td>f64</td></tr></thead><tbody><tr><td>2023-12-01</td><td>97441.3</td></tr><tr><td>2023-11-01</td><td>92529.6</td></tr><tr><td>2023-10-01</td><td>90823.6</td></tr><tr><td>2023-09-01</td><td>90088.3</td></tr><tr><td>2023-08-01</td><td>90128.6</td></tr><tr><td>&hellip;</td><td>&hellip;</td></tr><tr><td>2017-05-01</td><td>39759.4</td></tr><tr><td>2017-04-01</td><td>40674.4</td></tr><tr><td>2017-03-01</td><td>40997.5</td></tr><tr><td>2017-02-01</td><td>40690.6</td></tr><tr><td>2017-01-01</td><td>40207.1</td></tr></tbody></table></div>"
      ],
      "text/plain": [
       "shape: (84, 2)\n",
       "┌────────────┬───────────────────────────────────┐\n",
       "│ Fecha      ┆ Saldo de préstamos-Saldos en mil… │\n",
       "│ ---        ┆ ---                               │\n",
       "│ date       ┆ f64                               │\n",
       "╞════════════╪═══════════════════════════════════╡\n",
       "│ 2023-12-01 ┆ 97441.3                           │\n",
       "│ 2023-11-01 ┆ 92529.6                           │\n",
       "│ 2023-10-01 ┆ 90823.6                           │\n",
       "│ 2023-09-01 ┆ 90088.3                           │\n",
       "│ 2023-08-01 ┆ 90128.6                           │\n",
       "│ …          ┆ …                                 │\n",
       "│ 2017-05-01 ┆ 39759.4                           │\n",
       "│ 2017-04-01 ┆ 40674.4                           │\n",
       "│ 2017-03-01 ┆ 40997.5                           │\n",
       "│ 2017-02-01 ┆ 40690.6                           │\n",
       "│ 2017-01-01 ┆ 40207.1                           │\n",
       "└────────────┴───────────────────────────────────┘"
      ]
     },
     "execution_count": 161,
     "metadata": {},
     "output_type": "execute_result"
    }
   ],
   "source": [
    "Id = 650\n",
    "df = get_df(Id)\n",
    "# get_plot(Id)\n",
    "df"
   ]
  },
  {
   "cell_type": "markdown",
   "id": "cb50abfb",
   "metadata": {},
   "source": [
    "##### 06 Préstamos Nuevos (Flujos acumulados en millones de lempiras)\n"
   ]
  },
  {
   "cell_type": "code",
   "execution_count": 162,
   "id": "92da7094",
   "metadata": {},
   "outputs": [
    {
     "name": "stderr",
     "output_type": "stream",
     "text": [
      "<string>:29: FutureWarning:\n",
      "\n",
      "Passing literal json to 'read_json' is deprecated and will be removed in a future version. To read from a literal string, wrap it in a 'StringIO' object.\n",
      "\n"
     ]
    },
    {
     "data": {
      "text/html": [
       "<div><style>\n",
       ".dataframe > thead > tr,\n",
       ".dataframe > tbody > tr {\n",
       "  text-align: right;\n",
       "  white-space: pre-wrap;\n",
       "}\n",
       "</style>\n",
       "<small>shape: (1, 5)</small><table border=\"1\" class=\"dataframe\"><thead><tr><th>Niv_Gr_1</th><th>Niv_Gr_2</th><th>Niv_Gr_3</th><th>Niv_Descr_1</th><th>N_Variables</th></tr><tr><td>str</td><td>str</td><td>str</td><td>str</td><td>u32</td></tr></thead><tbody><tr><td>&quot;EMF&quot;</td><td>&quot;AMCC&quot;</td><td>&quot;06&quot;</td><td>&quot;Préstamos nuev…</td><td>14</td></tr></tbody></table></div>"
      ],
      "text/plain": [
       "shape: (1, 5)\n",
       "┌──────────┬──────────┬──────────┬──────────────────┬─────────────┐\n",
       "│ Niv_Gr_1 ┆ Niv_Gr_2 ┆ Niv_Gr_3 ┆ Niv_Descr_1      ┆ N_Variables │\n",
       "│ ---      ┆ ---      ┆ ---      ┆ ---              ┆ ---         │\n",
       "│ str      ┆ str      ┆ str      ┆ str              ┆ u32         │\n",
       "╞══════════╪══════════╪══════════╪══════════════════╪═════════════╡\n",
       "│ EMF      ┆ AMCC     ┆ 06       ┆ Préstamos nuevos ┆ 14          │\n",
       "└──────────┴──────────┴──────────┴──────────────────┴─────────────┘"
      ]
     },
     "execution_count": 162,
     "metadata": {},
     "output_type": "execute_result"
    }
   ],
   "source": [
    "res_nivel_4(\n",
    "    \"EMF\",\"AMCC\",\n",
    "    \"Niv_Gr_3\",\"06\",\n",
    "    \"Niv_Descr_1\")"
   ]
  },
  {
   "cell_type": "markdown",
   "id": "747e5226",
   "metadata": {},
   "source": [
    "* Variación\n",
    "* Saldo\n",
    "\n",
    "De los siguientes sectores:\n",
    "\n",
    "* Agropecuaria\n",
    "* Comercio\n",
    "* Consumo\n",
    "* Industria\n",
    "* Propiedad Raí­z\n",
    "* Servicios\n",
    "* Total\n"
   ]
  },
  {
   "cell_type": "code",
   "execution_count": 163,
   "id": "27359c86",
   "metadata": {},
   "outputs": [
    {
     "name": "stderr",
     "output_type": "stream",
     "text": [
      "<string>:29: FutureWarning:\n",
      "\n",
      "Passing literal json to 'read_json' is deprecated and will be removed in a future version. To read from a literal string, wrap it in a 'StringIO' object.\n",
      "\n"
     ]
    },
    {
     "data": {
      "text/html": [
       "<div><style>\n",
       ".dataframe > thead > tr,\n",
       ".dataframe > tbody > tr {\n",
       "  text-align: right;\n",
       "  white-space: pre-wrap;\n",
       "}\n",
       "</style>\n",
       "<small>shape: (2, 6)</small><table border=\"1\" class=\"dataframe\"><thead><tr><th>Niv_Gr_1</th><th>Niv_Gr_2</th><th>Niv_Gr_3</th><th>Niv_Descr_1</th><th>Niv_Descr_4</th><th>N_Variables</th></tr><tr><td>str</td><td>str</td><td>str</td><td>str</td><td>str</td><td>u32</td></tr></thead><tbody><tr><td>&quot;EMF&quot;</td><td>&quot;AMCC&quot;</td><td>&quot;06&quot;</td><td>&quot;Préstamos nuev…</td><td>&quot;Variación&quot;</td><td>7</td></tr><tr><td>&quot;EMF&quot;</td><td>&quot;AMCC&quot;</td><td>&quot;06&quot;</td><td>&quot;Préstamos nuev…</td><td>&quot;Saldo&quot;</td><td>7</td></tr></tbody></table></div>"
      ],
      "text/plain": [
       "shape: (2, 6)\n",
       "┌──────────┬──────────┬──────────┬──────────────────┬─────────────┬─────────────┐\n",
       "│ Niv_Gr_1 ┆ Niv_Gr_2 ┆ Niv_Gr_3 ┆ Niv_Descr_1      ┆ Niv_Descr_4 ┆ N_Variables │\n",
       "│ ---      ┆ ---      ┆ ---      ┆ ---              ┆ ---         ┆ ---         │\n",
       "│ str      ┆ str      ┆ str      ┆ str              ┆ str         ┆ u32         │\n",
       "╞══════════╪══════════╪══════════╪══════════════════╪═════════════╪═════════════╡\n",
       "│ EMF      ┆ AMCC     ┆ 06       ┆ Préstamos nuevos ┆ Variación   ┆ 7           │\n",
       "│ EMF      ┆ AMCC     ┆ 06       ┆ Préstamos nuevos ┆ Saldo       ┆ 7           │\n",
       "└──────────┴──────────┴──────────┴──────────────────┴─────────────┴─────────────┘"
      ]
     },
     "execution_count": 163,
     "metadata": {},
     "output_type": "execute_result"
    }
   ],
   "source": [
    "res_nivel_5(\n",
    "    \"EMF\",\"AMCC\",\n",
    "    \"Niv_Gr_3\",\"06\",\n",
    "    \"Niv_Descr_1\",\"Niv_Descr_4\")"
   ]
  },
  {
   "cell_type": "markdown",
   "id": "ee9744a2",
   "metadata": {},
   "source": [
    "Para ver todas las variables:\n"
   ]
  },
  {
   "cell_type": "code",
   "execution_count": 164,
   "id": "abc11a31",
   "metadata": {},
   "outputs": [
    {
     "name": "stderr",
     "output_type": "stream",
     "text": [
      "<string>:29: FutureWarning:\n",
      "\n",
      "Passing literal json to 'read_json' is deprecated and will be removed in a future version. To read from a literal string, wrap it in a 'StringIO' object.\n",
      "\n"
     ]
    },
    {
     "data": {
      "text/html": [
       "<div><style>\n",
       ".dataframe > thead > tr,\n",
       ".dataframe > tbody > tr {\n",
       "  text-align: right;\n",
       "  white-space: pre-wrap;\n",
       "}\n",
       "</style>\n",
       "<small>shape: (14, 8)</small><table border=\"1\" class=\"dataframe\"><thead><tr><th>Niv_Gr_1</th><th>Niv_Gr_2</th><th>Niv_Gr_3</th><th>Id</th><th>Niv_Descr_1</th><th>Niv_Descr_3</th><th>Niv_Descr_4</th><th>N_Variables</th></tr><tr><td>str</td><td>str</td><td>str</td><td>i64</td><td>str</td><td>str</td><td>str</td><td>u32</td></tr></thead><tbody><tr><td>&quot;EMF&quot;</td><td>&quot;AMCC&quot;</td><td>&quot;06&quot;</td><td>668</td><td>&quot;Préstamos nuev…</td><td>&quot;Servicios&quot;</td><td>&quot;Saldo&quot;</td><td>1</td></tr><tr><td>&quot;EMF&quot;</td><td>&quot;AMCC&quot;</td><td>&quot;06&quot;</td><td>664</td><td>&quot;Préstamos nuev…</td><td>&quot;Comercio&quot;</td><td>&quot;Saldo&quot;</td><td>1</td></tr><tr><td>&quot;EMF&quot;</td><td>&quot;AMCC&quot;</td><td>&quot;06&quot;</td><td>663</td><td>&quot;Préstamos nuev…</td><td>&quot;Agropecuaria&quot;</td><td>&quot;Saldo&quot;</td><td>1</td></tr><tr><td>&quot;EMF&quot;</td><td>&quot;AMCC&quot;</td><td>&quot;06&quot;</td><td>666</td><td>&quot;Préstamos nuev…</td><td>&quot;Industria&quot;</td><td>&quot;Saldo&quot;</td><td>1</td></tr><tr><td>&quot;EMF&quot;</td><td>&quot;AMCC&quot;</td><td>&quot;06&quot;</td><td>665</td><td>&quot;Préstamos nuev…</td><td>&quot;Consumo&quot;</td><td>&quot;Saldo&quot;</td><td>1</td></tr><tr><td>&hellip;</td><td>&hellip;</td><td>&hellip;</td><td>&hellip;</td><td>&hellip;</td><td>&hellip;</td><td>&hellip;</td><td>&hellip;</td></tr><tr><td>&quot;EMF&quot;</td><td>&quot;AMCC&quot;</td><td>&quot;06&quot;</td><td>671</td><td>&quot;Préstamos nuev…</td><td>&quot;VariaciónComer…</td><td>&quot;Variación&quot;</td><td>1</td></tr><tr><td>&quot;EMF&quot;</td><td>&quot;AMCC&quot;</td><td>&quot;06&quot;</td><td>675</td><td>&quot;Préstamos nuev…</td><td>&quot;VariaciónServi…</td><td>&quot;Variación&quot;</td><td>1</td></tr><tr><td>&quot;EMF&quot;</td><td>&quot;AMCC&quot;</td><td>&quot;06&quot;</td><td>670</td><td>&quot;Préstamos nuev…</td><td>&quot;VariaciónAgrop…</td><td>&quot;Variación&quot;</td><td>1</td></tr><tr><td>&quot;EMF&quot;</td><td>&quot;AMCC&quot;</td><td>&quot;06&quot;</td><td>674</td><td>&quot;Préstamos nuev…</td><td>&quot;VariaciónPropi…</td><td>&quot;Variación&quot;</td><td>1</td></tr><tr><td>&quot;EMF&quot;</td><td>&quot;AMCC&quot;</td><td>&quot;06&quot;</td><td>676</td><td>&quot;Préstamos nuev…</td><td>&quot;VariaciónTotal…</td><td>&quot;Variación&quot;</td><td>1</td></tr></tbody></table></div>"
      ],
      "text/plain": [
       "shape: (14, 8)\n",
       "┌──────────┬──────────┬──────────┬─────┬───────────────┬───────────────┬─────────────┬─────────────┐\n",
       "│ Niv_Gr_1 ┆ Niv_Gr_2 ┆ Niv_Gr_3 ┆ Id  ┆ Niv_Descr_1   ┆ Niv_Descr_3   ┆ Niv_Descr_4 ┆ N_Variables │\n",
       "│ ---      ┆ ---      ┆ ---      ┆ --- ┆ ---           ┆ ---           ┆ ---         ┆ ---         │\n",
       "│ str      ┆ str      ┆ str      ┆ i64 ┆ str           ┆ str           ┆ str         ┆ u32         │\n",
       "╞══════════╪══════════╪══════════╪═════╪═══════════════╪═══════════════╪═════════════╪═════════════╡\n",
       "│ EMF      ┆ AMCC     ┆ 06       ┆ 668 ┆ Préstamos     ┆ Servicios     ┆ Saldo       ┆ 1           │\n",
       "│          ┆          ┆          ┆     ┆ nuevos        ┆               ┆             ┆             │\n",
       "│ EMF      ┆ AMCC     ┆ 06       ┆ 664 ┆ Préstamos     ┆ Comercio      ┆ Saldo       ┆ 1           │\n",
       "│          ┆          ┆          ┆     ┆ nuevos        ┆               ┆             ┆             │\n",
       "│ EMF      ┆ AMCC     ┆ 06       ┆ 663 ┆ Préstamos     ┆ Agropecuaria  ┆ Saldo       ┆ 1           │\n",
       "│          ┆          ┆          ┆     ┆ nuevos        ┆               ┆             ┆             │\n",
       "│ EMF      ┆ AMCC     ┆ 06       ┆ 666 ┆ Préstamos     ┆ Industria     ┆ Saldo       ┆ 1           │\n",
       "│          ┆          ┆          ┆     ┆ nuevos        ┆               ┆             ┆             │\n",
       "│ EMF      ┆ AMCC     ┆ 06       ┆ 665 ┆ Préstamos     ┆ Consumo       ┆ Saldo       ┆ 1           │\n",
       "│          ┆          ┆          ┆     ┆ nuevos        ┆               ┆             ┆             │\n",
       "│ …        ┆ …        ┆ …        ┆ …   ┆ …             ┆ …             ┆ …           ┆ …           │\n",
       "│ EMF      ┆ AMCC     ┆ 06       ┆ 671 ┆ Préstamos     ┆ VariaciónCome ┆ Variación   ┆ 1           │\n",
       "│          ┆          ┆          ┆     ┆ nuevos        ┆ rcio          ┆             ┆             │\n",
       "│ EMF      ┆ AMCC     ┆ 06       ┆ 675 ┆ Préstamos     ┆ VariaciónServ ┆ Variación   ┆ 1           │\n",
       "│          ┆          ┆          ┆     ┆ nuevos        ┆ icios         ┆             ┆             │\n",
       "│ EMF      ┆ AMCC     ┆ 06       ┆ 670 ┆ Préstamos     ┆ VariaciónAgro ┆ Variación   ┆ 1           │\n",
       "│          ┆          ┆          ┆     ┆ nuevos        ┆ pecuaria      ┆             ┆             │\n",
       "│ EMF      ┆ AMCC     ┆ 06       ┆ 674 ┆ Préstamos     ┆ VariaciónProp ┆ Variación   ┆ 1           │\n",
       "│          ┆          ┆          ┆     ┆ nuevos        ┆ iedadRaíz     ┆             ┆             │\n",
       "│ EMF      ┆ AMCC     ┆ 06       ┆ 676 ┆ Préstamos     ┆ VariaciónTota ┆ Variación   ┆ 1           │\n",
       "│          ┆          ┆          ┆     ┆ nuevos        ┆ l             ┆             ┆             │\n",
       "└──────────┴──────────┴──────────┴─────┴───────────────┴───────────────┴─────────────┴─────────────┘"
      ]
     },
     "execution_count": 164,
     "metadata": {},
     "output_type": "execute_result"
    }
   ],
   "source": [
    "res_nivel_7(\n",
    "    \"EMF\",\"AMCC\",\n",
    "    \"Niv_Gr_3\",\"06\",\n",
    "    \"Id\",\"Niv_Descr_1\",\"Niv_Descr_3\",\"Niv_Descr_4\").sort(\"Niv_Descr_4\")"
   ]
  },
  {
   "cell_type": "markdown",
   "id": "1960fd99",
   "metadata": {},
   "source": [
    "Resultados de una sola variable:\n"
   ]
  },
  {
   "cell_type": "code",
   "execution_count": 165,
   "id": "2a99a7ad",
   "metadata": {},
   "outputs": [
    {
     "name": "stderr",
     "output_type": "stream",
     "text": [
      "<string>:29: FutureWarning:\n",
      "\n",
      "Passing literal json to 'read_json' is deprecated and will be removed in a future version. To read from a literal string, wrap it in a 'StringIO' object.\n",
      "\n"
     ]
    },
    {
     "name": "stderr",
     "output_type": "stream",
     "text": [
      "<string>:29: FutureWarning:\n",
      "\n",
      "Passing literal json to 'read_json' is deprecated and will be removed in a future version. To read from a literal string, wrap it in a 'StringIO' object.\n",
      "\n"
     ]
    },
    {
     "data": {
      "text/html": [
       "<div><style>\n",
       ".dataframe > thead > tr,\n",
       ".dataframe > tbody > tr {\n",
       "  text-align: right;\n",
       "  white-space: pre-wrap;\n",
       "}\n",
       "</style>\n",
       "<small>shape: (84, 2)</small><table border=\"1\" class=\"dataframe\"><thead><tr><th>Fecha</th><th>Préstamos nuevos-Flujos acumulados en millones de lempiras-Agropecuaria-Saldo</th></tr><tr><td>date</td><td>f64</td></tr></thead><tbody><tr><td>2023-12-01</td><td>15346.5</td></tr><tr><td>2023-11-01</td><td>14126.0</td></tr><tr><td>2023-10-01</td><td>13187.9</td></tr><tr><td>2023-09-01</td><td>12141.2</td></tr><tr><td>2023-08-01</td><td>11386.5</td></tr><tr><td>&hellip;</td><td>&hellip;</td></tr><tr><td>2017-05-01</td><td>4787.8</td></tr><tr><td>2017-04-01</td><td>3727.6</td></tr><tr><td>2017-03-01</td><td>2709.4</td></tr><tr><td>2017-02-01</td><td>1859.6</td></tr><tr><td>2017-01-01</td><td>1326.8</td></tr></tbody></table></div>"
      ],
      "text/plain": [
       "shape: (84, 2)\n",
       "┌────────────┬───────────────────────────────────┐\n",
       "│ Fecha      ┆ Préstamos nuevos-Flujos acumulad… │\n",
       "│ ---        ┆ ---                               │\n",
       "│ date       ┆ f64                               │\n",
       "╞════════════╪═══════════════════════════════════╡\n",
       "│ 2023-12-01 ┆ 15346.5                           │\n",
       "│ 2023-11-01 ┆ 14126.0                           │\n",
       "│ 2023-10-01 ┆ 13187.9                           │\n",
       "│ 2023-09-01 ┆ 12141.2                           │\n",
       "│ 2023-08-01 ┆ 11386.5                           │\n",
       "│ …          ┆ …                                 │\n",
       "│ 2017-05-01 ┆ 4787.8                            │\n",
       "│ 2017-04-01 ┆ 3727.6                            │\n",
       "│ 2017-03-01 ┆ 2709.4                            │\n",
       "│ 2017-02-01 ┆ 1859.6                            │\n",
       "│ 2017-01-01 ┆ 1326.8                            │\n",
       "└────────────┴───────────────────────────────────┘"
      ]
     },
     "execution_count": 165,
     "metadata": {},
     "output_type": "execute_result"
    }
   ],
   "source": [
    "Id = 663\n",
    "df = get_df(Id)\n",
    "# get_plot(Id)\n",
    "df"
   ]
  },
  {
   "cell_type": "markdown",
   "id": "6de3739f",
   "metadata": {},
   "source": [
    "#### TI = Tasas de Interés\n"
   ]
  },
  {
   "cell_type": "code",
   "execution_count": 166,
   "id": "497b136d",
   "metadata": {},
   "outputs": [
    {
     "name": "stdout",
     "output_type": "stream",
     "text": [
      "3 subgrupos\n",
      "38 variables\n"
     ]
    },
    {
     "name": "stderr",
     "output_type": "stream",
     "text": [
      "<string>:29: FutureWarning:\n",
      "\n",
      "Passing literal json to 'read_json' is deprecated and will be removed in a future version. To read from a literal string, wrap it in a 'StringIO' object.\n",
      "\n"
     ]
    },
    {
     "data": {
      "text/html": [
       "<div><style>\n",
       ".dataframe > thead > tr,\n",
       ".dataframe > tbody > tr {\n",
       "  text-align: right;\n",
       "  white-space: pre-wrap;\n",
       "}\n",
       "</style>\n",
       "<small>shape: (3, 4)</small><table border=\"1\" class=\"dataframe\"><thead><tr><th>Niv_Gr_1</th><th>Niv_Gr_2</th><th>Niv_Gr_3</th><th>N_Variables</th></tr><tr><td>str</td><td>str</td><td>str</td><td>u32</td></tr></thead><tbody><tr><td>&quot;EMF&quot;</td><td>&quot;TI&quot;</td><td>&quot;01&quot;</td><td>8</td></tr><tr><td>&quot;EMF&quot;</td><td>&quot;TI&quot;</td><td>&quot;02&quot;</td><td>20</td></tr><tr><td>&quot;EMF&quot;</td><td>&quot;TI&quot;</td><td>&quot;03&quot;</td><td>10</td></tr></tbody></table></div>"
      ],
      "text/plain": [
       "shape: (3, 4)\n",
       "┌──────────┬──────────┬──────────┬─────────────┐\n",
       "│ Niv_Gr_1 ┆ Niv_Gr_2 ┆ Niv_Gr_3 ┆ N_Variables │\n",
       "│ ---      ┆ ---      ┆ ---      ┆ ---         │\n",
       "│ str      ┆ str      ┆ str      ┆ u32         │\n",
       "╞══════════╪══════════╪══════════╪═════════════╡\n",
       "│ EMF      ┆ TI       ┆ 01       ┆ 8           │\n",
       "│ EMF      ┆ TI       ┆ 02       ┆ 20          │\n",
       "│ EMF      ┆ TI       ┆ 03       ┆ 10          │\n",
       "└──────────┴──────────┴──────────┴─────────────┘"
      ]
     },
     "execution_count": 166,
     "metadata": {},
     "output_type": "execute_result"
    }
   ],
   "source": [
    "res_nivel_3(\"EMF\",\"TI\",\"Niv_Gr_3\").sort(\"Niv_Gr_3\")"
   ]
  },
  {
   "cell_type": "markdown",
   "id": "bf4ffd98",
   "metadata": {},
   "source": [
    "##### 01 Tasas de Interés, Activa y Pasiva, por Moneda\n",
    "\n",
    "Por Tipo:\n",
    "\n",
    "* Activa Préstamos \n",
    "* Pasiva Ahorros \n",
    "* Pasiva Cheques \n",
    "* Pasiva Plazo \n"
   ]
  },
  {
   "cell_type": "code",
   "execution_count": 167,
   "id": "9f52bc19",
   "metadata": {},
   "outputs": [
    {
     "name": "stderr",
     "output_type": "stream",
     "text": [
      "<string>:29: FutureWarning:\n",
      "\n",
      "Passing literal json to 'read_json' is deprecated and will be removed in a future version. To read from a literal string, wrap it in a 'StringIO' object.\n",
      "\n"
     ]
    },
    {
     "data": {
      "text/html": [
       "<div><style>\n",
       ".dataframe > thead > tr,\n",
       ".dataframe > tbody > tr {\n",
       "  text-align: right;\n",
       "  white-space: pre-wrap;\n",
       "}\n",
       "</style>\n",
       "<small>shape: (4, 5)</small><table border=\"1\" class=\"dataframe\"><thead><tr><th>Niv_Gr_1</th><th>Niv_Gr_2</th><th>Niv_Gr_3</th><th>Niv_Descr_5</th><th>N_Variables</th></tr><tr><td>str</td><td>str</td><td>str</td><td>str</td><td>u32</td></tr></thead><tbody><tr><td>&quot;EMF&quot;</td><td>&quot;TI&quot;</td><td>&quot;01&quot;</td><td>&quot; Activa Présta…</td><td>2</td></tr><tr><td>&quot;EMF&quot;</td><td>&quot;TI&quot;</td><td>&quot;01&quot;</td><td>&quot; Pasiva Cheque…</td><td>2</td></tr><tr><td>&quot;EMF&quot;</td><td>&quot;TI&quot;</td><td>&quot;01&quot;</td><td>&quot; Pasiva Plazo …</td><td>2</td></tr><tr><td>&quot;EMF&quot;</td><td>&quot;TI&quot;</td><td>&quot;01&quot;</td><td>&quot; Pasiva Ahorro…</td><td>2</td></tr></tbody></table></div>"
      ],
      "text/plain": [
       "shape: (4, 5)\n",
       "┌──────────┬──────────┬──────────┬────────────────────┬─────────────┐\n",
       "│ Niv_Gr_1 ┆ Niv_Gr_2 ┆ Niv_Gr_3 ┆ Niv_Descr_5        ┆ N_Variables │\n",
       "│ ---      ┆ ---      ┆ ---      ┆ ---                ┆ ---         │\n",
       "│ str      ┆ str      ┆ str      ┆ str                ┆ u32         │\n",
       "╞══════════╪══════════╪══════════╪════════════════════╪═════════════╡\n",
       "│ EMF      ┆ TI       ┆ 01       ┆  Activa Préstamos  ┆ 2           │\n",
       "│ EMF      ┆ TI       ┆ 01       ┆  Pasiva Cheques    ┆ 2           │\n",
       "│ EMF      ┆ TI       ┆ 01       ┆  Pasiva Plazo      ┆ 2           │\n",
       "│ EMF      ┆ TI       ┆ 01       ┆  Pasiva Ahorros    ┆ 2           │\n",
       "└──────────┴──────────┴──────────┴────────────────────┴─────────────┘"
      ]
     },
     "execution_count": 167,
     "metadata": {},
     "output_type": "execute_result"
    }
   ],
   "source": [
    "res_nivel_4(\n",
    "    \"EMF\",\"TI\",\n",
    "    \"Niv_Gr_3\",\"01\",\n",
    "    \"Niv_Descr_5\")"
   ]
  },
  {
   "cell_type": "markdown",
   "id": "6bc3d263",
   "metadata": {},
   "source": [
    "Por Moneda:\n",
    "\n",
    "* Moneda Nacional\n",
    "* Moneda Extranjera\n",
    "\n",
    "Para ver todas las variables:\n"
   ]
  },
  {
   "cell_type": "code",
   "execution_count": 168,
   "id": "341067ce",
   "metadata": {},
   "outputs": [
    {
     "name": "stderr",
     "output_type": "stream",
     "text": [
      "<string>:29: FutureWarning:\n",
      "\n",
      "Passing literal json to 'read_json' is deprecated and will be removed in a future version. To read from a literal string, wrap it in a 'StringIO' object.\n",
      "\n"
     ]
    },
    {
     "data": {
      "text/html": [
       "<div><style>\n",
       ".dataframe > thead > tr,\n",
       ".dataframe > tbody > tr {\n",
       "  text-align: right;\n",
       "  white-space: pre-wrap;\n",
       "}\n",
       "</style>\n",
       "<small>shape: (8, 8)</small><table border=\"1\" class=\"dataframe\"><thead><tr><th>Niv_Gr_1</th><th>Niv_Gr_2</th><th>Niv_Gr_3</th><th>Id</th><th>Nombre</th><th>Niv_Descr_5</th><th>Niv_Descr_6</th><th>N_Variables</th></tr><tr><td>str</td><td>str</td><td>str</td><td>i64</td><td>str</td><td>str</td><td>str</td><td>u32</td></tr></thead><tbody><tr><td>&quot;EMF&quot;</td><td>&quot;TI&quot;</td><td>&quot;01&quot;</td><td>580</td><td>&quot;EMF-TI-01-2&quot;</td><td>&quot; Activa Présta…</td><td>&quot; Moneda Nacion…</td><td>1</td></tr><tr><td>&quot;EMF&quot;</td><td>&quot;TI&quot;</td><td>&quot;01&quot;</td><td>585</td><td>&quot;EMF-TI-01-7&quot;</td><td>&quot; Pasiva Cheque…</td><td>&quot; Moneda Extran…</td><td>1</td></tr><tr><td>&quot;EMF&quot;</td><td>&quot;TI&quot;</td><td>&quot;01&quot;</td><td>586</td><td>&quot;EMF-TI-01-4&quot;</td><td>&quot; Pasiva Plazo …</td><td>&quot; Moneda Nacion…</td><td>1</td></tr><tr><td>&quot;EMF&quot;</td><td>&quot;TI&quot;</td><td>&quot;01&quot;</td><td>583</td><td>&quot;EMF-TI-01-5&quot;</td><td>&quot; Pasiva Ahorro…</td><td>&quot; Moneda Extran…</td><td>1</td></tr><tr><td>&quot;EMF&quot;</td><td>&quot;TI&quot;</td><td>&quot;01&quot;</td><td>582</td><td>&quot;EMF-TI-01-6&quot;</td><td>&quot; Pasiva Ahorro…</td><td>&quot; Moneda Nacion…</td><td>1</td></tr><tr><td>&quot;EMF&quot;</td><td>&quot;TI&quot;</td><td>&quot;01&quot;</td><td>581</td><td>&quot;EMF-TI-01-1&quot;</td><td>&quot; Activa Présta…</td><td>&quot; Moneda Extran…</td><td>1</td></tr><tr><td>&quot;EMF&quot;</td><td>&quot;TI&quot;</td><td>&quot;01&quot;</td><td>587</td><td>&quot;EMF-TI-01-3&quot;</td><td>&quot; Pasiva Plazo …</td><td>&quot; Moneda Extran…</td><td>1</td></tr><tr><td>&quot;EMF&quot;</td><td>&quot;TI&quot;</td><td>&quot;01&quot;</td><td>584</td><td>&quot;EMF-TI-01-8&quot;</td><td>&quot; Pasiva Cheque…</td><td>&quot; Moneda Nacion…</td><td>1</td></tr></tbody></table></div>"
      ],
      "text/plain": [
       "shape: (8, 8)\n",
       "┌──────────┬──────────┬──────────┬─────┬─────────────┬───────────────┬───────────────┬─────────────┐\n",
       "│ Niv_Gr_1 ┆ Niv_Gr_2 ┆ Niv_Gr_3 ┆ Id  ┆ Nombre      ┆ Niv_Descr_5   ┆ Niv_Descr_6   ┆ N_Variables │\n",
       "│ ---      ┆ ---      ┆ ---      ┆ --- ┆ ---         ┆ ---           ┆ ---           ┆ ---         │\n",
       "│ str      ┆ str      ┆ str      ┆ i64 ┆ str         ┆ str           ┆ str           ┆ u32         │\n",
       "╞══════════╪══════════╪══════════╪═════╪═════════════╪═══════════════╪═══════════════╪═════════════╡\n",
       "│ EMF      ┆ TI       ┆ 01       ┆ 580 ┆ EMF-TI-01-2 ┆ Activa        ┆ Moneda        ┆ 1           │\n",
       "│          ┆          ┆          ┆     ┆             ┆ Préstamos     ┆ Nacional      ┆             │\n",
       "│ EMF      ┆ TI       ┆ 01       ┆ 585 ┆ EMF-TI-01-7 ┆ Pasiva        ┆ Moneda        ┆ 1           │\n",
       "│          ┆          ┆          ┆     ┆             ┆ Cheques       ┆ Extranjera    ┆             │\n",
       "│ EMF      ┆ TI       ┆ 01       ┆ 586 ┆ EMF-TI-01-4 ┆ Pasiva Plazo  ┆ Moneda        ┆ 1           │\n",
       "│          ┆          ┆          ┆     ┆             ┆               ┆ Nacional      ┆             │\n",
       "│ EMF      ┆ TI       ┆ 01       ┆ 583 ┆ EMF-TI-01-5 ┆ Pasiva        ┆ Moneda        ┆ 1           │\n",
       "│          ┆          ┆          ┆     ┆             ┆ Ahorros       ┆ Extranjera    ┆             │\n",
       "│ EMF      ┆ TI       ┆ 01       ┆ 582 ┆ EMF-TI-01-6 ┆ Pasiva        ┆ Moneda        ┆ 1           │\n",
       "│          ┆          ┆          ┆     ┆             ┆ Ahorros       ┆ Nacional      ┆             │\n",
       "│ EMF      ┆ TI       ┆ 01       ┆ 581 ┆ EMF-TI-01-1 ┆ Activa        ┆ Moneda        ┆ 1           │\n",
       "│          ┆          ┆          ┆     ┆             ┆ Préstamos     ┆ Extranjera    ┆             │\n",
       "│ EMF      ┆ TI       ┆ 01       ┆ 587 ┆ EMF-TI-01-3 ┆ Pasiva Plazo  ┆ Moneda        ┆ 1           │\n",
       "│          ┆          ┆          ┆     ┆             ┆               ┆ Extranjera    ┆             │\n",
       "│ EMF      ┆ TI       ┆ 01       ┆ 584 ┆ EMF-TI-01-8 ┆ Pasiva        ┆ Moneda        ┆ 1           │\n",
       "│          ┆          ┆          ┆     ┆             ┆ Cheques       ┆ Nacional      ┆             │\n",
       "└──────────┴──────────┴──────────┴─────┴─────────────┴───────────────┴───────────────┴─────────────┘"
      ]
     },
     "execution_count": 168,
     "metadata": {},
     "output_type": "execute_result"
    }
   ],
   "source": [
    "res_nivel_7(\n",
    "    \"EMF\",\"TI\",\n",
    "    \"Niv_Gr_3\",\"01\",\n",
    "    \"Id\",\"Nombre\",\"Niv_Descr_5\",\"Niv_Descr_6\")"
   ]
  },
  {
   "cell_type": "markdown",
   "id": "386a1f8c",
   "metadata": {},
   "source": [
    "Resultados de una sola variable:\n"
   ]
  },
  {
   "cell_type": "code",
   "execution_count": 169,
   "id": "db994c28",
   "metadata": {},
   "outputs": [
    {
     "name": "stderr",
     "output_type": "stream",
     "text": [
      "<string>:29: FutureWarning:\n",
      "\n",
      "Passing literal json to 'read_json' is deprecated and will be removed in a future version. To read from a literal string, wrap it in a 'StringIO' object.\n",
      "\n"
     ]
    },
    {
     "name": "stderr",
     "output_type": "stream",
     "text": [
      "<string>:29: FutureWarning:\n",
      "\n",
      "Passing literal json to 'read_json' is deprecated and will be removed in a future version. To read from a literal string, wrap it in a 'StringIO' object.\n",
      "\n"
     ]
    },
    {
     "data": {
      "text/html": [
       "<div><style>\n",
       ".dataframe > thead > tr,\n",
       ".dataframe > tbody > tr {\n",
       "  text-align: right;\n",
       "  white-space: pre-wrap;\n",
       "}\n",
       "</style>\n",
       "<small>shape: (627, 2)</small><table border=\"1\" class=\"dataframe\"><thead><tr><th>Fecha</th><th>EMF-TI-01 - PasivaaPlazoMonedaExtranjera  - Pasiva Plazo - Moneda Extranjera</th></tr><tr><td>date</td><td>f64</td></tr></thead><tbody><tr><td>2024-02-01</td><td>5.45</td></tr><tr><td>2024-01-01</td><td>5.29</td></tr><tr><td>2024-01-01</td><td>5.29</td></tr><tr><td>2023-12-01</td><td>5.12</td></tr><tr><td>2023-12-01</td><td>5.12</td></tr><tr><td>&hellip;</td><td>&hellip;</td></tr><tr><td>1998-03-01</td><td>9.33</td></tr><tr><td>1998-02-01</td><td>8.76</td></tr><tr><td>1998-02-01</td><td>8.76</td></tr><tr><td>1998-01-01</td><td>9.3</td></tr><tr><td>1998-01-01</td><td>9.3</td></tr></tbody></table></div>"
      ],
      "text/plain": [
       "shape: (627, 2)\n",
       "┌────────────┬───────────────────────────────────┐\n",
       "│ Fecha      ┆ EMF-TI-01 - PasivaaPlazoMonedaEx… │\n",
       "│ ---        ┆ ---                               │\n",
       "│ date       ┆ f64                               │\n",
       "╞════════════╪═══════════════════════════════════╡\n",
       "│ 2024-02-01 ┆ 5.45                              │\n",
       "│ 2024-01-01 ┆ 5.29                              │\n",
       "│ 2024-01-01 ┆ 5.29                              │\n",
       "│ 2023-12-01 ┆ 5.12                              │\n",
       "│ 2023-12-01 ┆ 5.12                              │\n",
       "│ …          ┆ …                                 │\n",
       "│ 1998-03-01 ┆ 9.33                              │\n",
       "│ 1998-02-01 ┆ 8.76                              │\n",
       "│ 1998-02-01 ┆ 8.76                              │\n",
       "│ 1998-01-01 ┆ 9.3                               │\n",
       "│ 1998-01-01 ┆ 9.3                               │\n",
       "└────────────┴───────────────────────────────────┘"
      ]
     },
     "execution_count": 169,
     "metadata": {},
     "output_type": "execute_result"
    }
   ],
   "source": [
    "Id = 587\n",
    "df = get_df(Id)\n",
    "# get_plot(Id)\n",
    "df"
   ]
  },
  {
   "cell_type": "markdown",
   "id": "7763794d",
   "metadata": {},
   "source": [
    "##### 02 Por Actividad\n"
   ]
  },
  {
   "cell_type": "code",
   "execution_count": 170,
   "id": "56478bdf",
   "metadata": {},
   "outputs": [
    {
     "name": "stderr",
     "output_type": "stream",
     "text": [
      "<string>:29: FutureWarning:\n",
      "\n",
      "Passing literal json to 'read_json' is deprecated and will be removed in a future version. To read from a literal string, wrap it in a 'StringIO' object.\n",
      "\n"
     ]
    },
    {
     "data": {
      "text/html": [
       "<div><style>\n",
       ".dataframe > thead > tr,\n",
       ".dataframe > tbody > tr {\n",
       "  text-align: right;\n",
       "  white-space: pre-wrap;\n",
       "}\n",
       "</style>\n",
       "<small>shape: (10, 5)</small><table border=\"1\" class=\"dataframe\"><thead><tr><th>Niv_Gr_1</th><th>Niv_Gr_2</th><th>Niv_Gr_3</th><th>Niv_Descr_5</th><th>N_Variables</th></tr><tr><td>str</td><td>str</td><td>str</td><td>str</td><td>u32</td></tr></thead><tbody><tr><td>&quot;EMF&quot;</td><td>&quot;TI&quot;</td><td>&quot;02&quot;</td><td>&quot; Transporte, A…</td><td>2</td></tr><tr><td>&quot;EMF&quot;</td><td>&quot;TI&quot;</td><td>&quot;02&quot;</td><td>&quot; Industrias Ma…</td><td>2</td></tr><tr><td>&quot;EMF&quot;</td><td>&quot;TI&quot;</td><td>&quot;02&quot;</td><td>&quot; Agricultura, …</td><td>2</td></tr><tr><td>&quot;EMF&quot;</td><td>&quot;TI&quot;</td><td>&quot;02&quot;</td><td>&quot; Explotación d…</td><td>2</td></tr><tr><td>&quot;EMF&quot;</td><td>&quot;TI&quot;</td><td>&quot;02&quot;</td><td>&quot; Otros Sectore…</td><td>2</td></tr><tr><td>&quot;EMF&quot;</td><td>&quot;TI&quot;</td><td>&quot;02&quot;</td><td>&quot; Consumo&quot;</td><td>2</td></tr><tr><td>&quot;EMF&quot;</td><td>&quot;TI&quot;</td><td>&quot;02&quot;</td><td>&quot; Construcción&quot;</td><td>2</td></tr><tr><td>&quot;EMF&quot;</td><td>&quot;TI&quot;</td><td>&quot;02&quot;</td><td>&quot; Vivienda&quot;</td><td>2</td></tr><tr><td>&quot;EMF&quot;</td><td>&quot;TI&quot;</td><td>&quot;02&quot;</td><td>&quot; Comercio&quot;</td><td>2</td></tr><tr><td>&quot;EMF&quot;</td><td>&quot;TI&quot;</td><td>&quot;02&quot;</td><td>&quot; Actividades A…</td><td>2</td></tr></tbody></table></div>"
      ],
      "text/plain": [
       "shape: (10, 5)\n",
       "┌──────────┬──────────┬──────────┬───────────────────────────────────┬─────────────┐\n",
       "│ Niv_Gr_1 ┆ Niv_Gr_2 ┆ Niv_Gr_3 ┆ Niv_Descr_5                       ┆ N_Variables │\n",
       "│ ---      ┆ ---      ┆ ---      ┆ ---                               ┆ ---         │\n",
       "│ str      ┆ str      ┆ str      ┆ str                               ┆ u32         │\n",
       "╞══════════╪══════════╪══════════╪═══════════════════════════════════╪═════════════╡\n",
       "│ EMF      ┆ TI       ┆ 02       ┆  Transporte, Almacenamiento, Inf… ┆ 2           │\n",
       "│ EMF      ┆ TI       ┆ 02       ┆  Industrias Manufactureras        ┆ 2           │\n",
       "│ EMF      ┆ TI       ┆ 02       ┆  Agricultura, Ganadería, Silvicu… ┆ 2           │\n",
       "│ EMF      ┆ TI       ┆ 02       ┆  Explotación de Minas y Canteras  ┆ 2           │\n",
       "│ EMF      ┆ TI       ┆ 02       ┆  Otros Sectores                   ┆ 2           │\n",
       "│ EMF      ┆ TI       ┆ 02       ┆  Consumo                          ┆ 2           │\n",
       "│ EMF      ┆ TI       ┆ 02       ┆  Construcción                     ┆ 2           │\n",
       "│ EMF      ┆ TI       ┆ 02       ┆  Vivienda                         ┆ 2           │\n",
       "│ EMF      ┆ TI       ┆ 02       ┆  Comercio                         ┆ 2           │\n",
       "│ EMF      ┆ TI       ┆ 02       ┆  Actividades Alojamiento y Servi… ┆ 2           │\n",
       "└──────────┴──────────┴──────────┴───────────────────────────────────┴─────────────┘"
      ]
     },
     "execution_count": 170,
     "metadata": {},
     "output_type": "execute_result"
    }
   ],
   "source": [
    "res_nivel_4(\n",
    "    \"EMF\",\"TI\",\n",
    "    \"Niv_Gr_3\",\"02\",\n",
    "    \"Niv_Descr_5\")"
   ]
  },
  {
   "cell_type": "markdown",
   "id": "65758afb",
   "metadata": {},
   "source": [
    "Por Moneda:\n",
    "\n",
    "* Moneda Nacional\n",
    "* Moneda Extranjera\n"
   ]
  },
  {
   "cell_type": "code",
   "execution_count": 171,
   "id": "db02f745",
   "metadata": {},
   "outputs": [
    {
     "name": "stderr",
     "output_type": "stream",
     "text": [
      "<string>:29: FutureWarning:\n",
      "\n",
      "Passing literal json to 'read_json' is deprecated and will be removed in a future version. To read from a literal string, wrap it in a 'StringIO' object.\n",
      "\n"
     ]
    },
    {
     "data": {
      "text/html": [
       "<div><style>\n",
       ".dataframe > thead > tr,\n",
       ".dataframe > tbody > tr {\n",
       "  text-align: right;\n",
       "  white-space: pre-wrap;\n",
       "}\n",
       "</style>\n",
       "<small>shape: (2, 6)</small><table border=\"1\" class=\"dataframe\"><thead><tr><th>Niv_Gr_1</th><th>Niv_Gr_2</th><th>Niv_Gr_3</th><th>Niv_Descr_1</th><th>Niv_Descr_4</th><th>N_Variables</th></tr><tr><td>str</td><td>str</td><td>str</td><td>str</td><td>str</td><td>u32</td></tr></thead><tbody><tr><td>&quot;EMF&quot;</td><td>&quot;TI&quot;</td><td>&quot;02&quot;</td><td>&quot;EMF&quot;</td><td>&quot; Extranjera &quot;</td><td>10</td></tr><tr><td>&quot;EMF&quot;</td><td>&quot;TI&quot;</td><td>&quot;02&quot;</td><td>&quot;EMF&quot;</td><td>&quot; Nacional &quot;</td><td>10</td></tr></tbody></table></div>"
      ],
      "text/plain": [
       "shape: (2, 6)\n",
       "┌──────────┬──────────┬──────────┬─────────────┬──────────────┬─────────────┐\n",
       "│ Niv_Gr_1 ┆ Niv_Gr_2 ┆ Niv_Gr_3 ┆ Niv_Descr_1 ┆ Niv_Descr_4  ┆ N_Variables │\n",
       "│ ---      ┆ ---      ┆ ---      ┆ ---         ┆ ---          ┆ ---         │\n",
       "│ str      ┆ str      ┆ str      ┆ str         ┆ str          ┆ u32         │\n",
       "╞══════════╪══════════╪══════════╪═════════════╪══════════════╪═════════════╡\n",
       "│ EMF      ┆ TI       ┆ 02       ┆ EMF         ┆  Extranjera  ┆ 10          │\n",
       "│ EMF      ┆ TI       ┆ 02       ┆ EMF         ┆  Nacional    ┆ 10          │\n",
       "└──────────┴──────────┴──────────┴─────────────┴──────────────┴─────────────┘"
      ]
     },
     "execution_count": 171,
     "metadata": {},
     "output_type": "execute_result"
    }
   ],
   "source": [
    "res_nivel_5(\n",
    "    \"EMF\",\"TI\",\n",
    "    \"Niv_Gr_3\",\"02\",\n",
    "    \"Niv_Descr_1\",\"Niv_Descr_4\")"
   ]
  },
  {
   "cell_type": "markdown",
   "id": "9054a352",
   "metadata": {},
   "source": [
    "Para ver todas las variables:\n"
   ]
  },
  {
   "cell_type": "code",
   "execution_count": 172,
   "id": "0e31f21f",
   "metadata": {},
   "outputs": [
    {
     "name": "stderr",
     "output_type": "stream",
     "text": [
      "<string>:29: FutureWarning:\n",
      "\n",
      "Passing literal json to 'read_json' is deprecated and will be removed in a future version. To read from a literal string, wrap it in a 'StringIO' object.\n",
      "\n"
     ]
    },
    {
     "data": {
      "text/html": [
       "<div><style>\n",
       ".dataframe > thead > tr,\n",
       ".dataframe > tbody > tr {\n",
       "  text-align: right;\n",
       "  white-space: pre-wrap;\n",
       "}\n",
       "</style>\n",
       "<small>shape: (20, 8)</small><table border=\"1\" class=\"dataframe\"><thead><tr><th>Niv_Gr_1</th><th>Niv_Gr_2</th><th>Niv_Gr_3</th><th>Id</th><th>Nombre</th><th>Niv_Descr_5</th><th>Niv_Descr_4</th><th>N_Variables</th></tr><tr><td>str</td><td>str</td><td>str</td><td>i64</td><td>str</td><td>str</td><td>str</td><td>u32</td></tr></thead><tbody><tr><td>&quot;EMF&quot;</td><td>&quot;TI&quot;</td><td>&quot;02&quot;</td><td>604</td><td>&quot;EMF-TI-02-9&quot;</td><td>&quot; Transporte, A…</td><td>&quot; Extranjera &quot;</td><td>1</td></tr><tr><td>&quot;EMF&quot;</td><td>&quot;TI&quot;</td><td>&quot;02&quot;</td><td>606</td><td>&quot;EMF-TI-02-11&quot;</td><td>&quot; Vivienda&quot;</td><td>&quot; Extranjera &quot;</td><td>1</td></tr><tr><td>&quot;EMF&quot;</td><td>&quot;TI&quot;</td><td>&quot;02&quot;</td><td>603</td><td>&quot;EMF-TI-02-8&quot;</td><td>&quot; Comercio&quot;</td><td>&quot; Extranjera &quot;</td><td>1</td></tr><tr><td>&quot;EMF&quot;</td><td>&quot;TI&quot;</td><td>&quot;02&quot;</td><td>601</td><td>&quot;EMF-TI-02-6&quot;</td><td>&quot; Construcción&quot;</td><td>&quot; Extranjera &quot;</td><td>1</td></tr><tr><td>&quot;EMF&quot;</td><td>&quot;TI&quot;</td><td>&quot;02&quot;</td><td>605</td><td>&quot;EMF-TI-02-10&quot;</td><td>&quot; Actividades A…</td><td>&quot; Extranjera &quot;</td><td>1</td></tr><tr><td>&hellip;</td><td>&hellip;</td><td>&hellip;</td><td>&hellip;</td><td>&hellip;</td><td>&hellip;</td><td>&hellip;</td><td>&hellip;</td></tr><tr><td>&quot;EMF&quot;</td><td>&quot;TI&quot;</td><td>&quot;02&quot;</td><td>592</td><td>&quot;EMF-TI-02-16&quot;</td><td>&quot; Consumo&quot;</td><td>&quot; Nacional &quot;</td><td>1</td></tr><tr><td>&quot;EMF&quot;</td><td>&quot;TI&quot;</td><td>&quot;02&quot;</td><td>595</td><td>&quot;EMF-TI-02-19&quot;</td><td>&quot; Actividades A…</td><td>&quot; Nacional &quot;</td><td>1</td></tr><tr><td>&quot;EMF&quot;</td><td>&quot;TI&quot;</td><td>&quot;02&quot;</td><td>597</td><td>&quot;EMF-TI-02-2&quot;</td><td>&quot; Otros Sectore…</td><td>&quot; Nacional &quot;</td><td>1</td></tr><tr><td>&quot;EMF&quot;</td><td>&quot;TI&quot;</td><td>&quot;02&quot;</td><td>593</td><td>&quot;EMF-TI-02-17&quot;</td><td>&quot; Comercio&quot;</td><td>&quot; Nacional &quot;</td><td>1</td></tr><tr><td>&quot;EMF&quot;</td><td>&quot;TI&quot;</td><td>&quot;02&quot;</td><td>590</td><td>&quot;EMF-TI-02-14&quot;</td><td>&quot; Industrias Ma…</td><td>&quot; Nacional &quot;</td><td>1</td></tr></tbody></table></div>"
      ],
      "text/plain": [
       "shape: (20, 8)\n",
       "┌──────────┬──────────┬──────────┬─────┬──────────────┬───────────────┬──────────────┬─────────────┐\n",
       "│ Niv_Gr_1 ┆ Niv_Gr_2 ┆ Niv_Gr_3 ┆ Id  ┆ Nombre       ┆ Niv_Descr_5   ┆ Niv_Descr_4  ┆ N_Variables │\n",
       "│ ---      ┆ ---      ┆ ---      ┆ --- ┆ ---          ┆ ---           ┆ ---          ┆ ---         │\n",
       "│ str      ┆ str      ┆ str      ┆ i64 ┆ str          ┆ str           ┆ str          ┆ u32         │\n",
       "╞══════════╪══════════╪══════════╪═════╪══════════════╪═══════════════╪══════════════╪═════════════╡\n",
       "│ EMF      ┆ TI       ┆ 02       ┆ 604 ┆ EMF-TI-02-9  ┆ Transporte,   ┆  Extranjera  ┆ 1           │\n",
       "│          ┆          ┆          ┆     ┆              ┆ Almacenamient ┆              ┆             │\n",
       "│          ┆          ┆          ┆     ┆              ┆ o, Inf…       ┆              ┆             │\n",
       "│ EMF      ┆ TI       ┆ 02       ┆ 606 ┆ EMF-TI-02-11 ┆  Vivienda     ┆  Extranjera  ┆ 1           │\n",
       "│ EMF      ┆ TI       ┆ 02       ┆ 603 ┆ EMF-TI-02-8  ┆  Comercio     ┆  Extranjera  ┆ 1           │\n",
       "│ EMF      ┆ TI       ┆ 02       ┆ 601 ┆ EMF-TI-02-6  ┆  Construcción ┆  Extranjera  ┆ 1           │\n",
       "│ EMF      ┆ TI       ┆ 02       ┆ 605 ┆ EMF-TI-02-10 ┆ Actividades   ┆  Extranjera  ┆ 1           │\n",
       "│          ┆          ┆          ┆     ┆              ┆ Alojamiento y ┆              ┆             │\n",
       "│          ┆          ┆          ┆     ┆              ┆ Servi…        ┆              ┆             │\n",
       "│ …        ┆ …        ┆ …        ┆ …   ┆ …            ┆ …             ┆ …            ┆ …           │\n",
       "│ EMF      ┆ TI       ┆ 02       ┆ 592 ┆ EMF-TI-02-16 ┆  Consumo      ┆  Nacional    ┆ 1           │\n",
       "│ EMF      ┆ TI       ┆ 02       ┆ 595 ┆ EMF-TI-02-19 ┆ Actividades   ┆  Nacional    ┆ 1           │\n",
       "│          ┆          ┆          ┆     ┆              ┆ Alojamiento y ┆              ┆             │\n",
       "│          ┆          ┆          ┆     ┆              ┆ Servi…        ┆              ┆             │\n",
       "│ EMF      ┆ TI       ┆ 02       ┆ 597 ┆ EMF-TI-02-2  ┆ Otros         ┆  Nacional    ┆ 1           │\n",
       "│          ┆          ┆          ┆     ┆              ┆ Sectores      ┆              ┆             │\n",
       "│ EMF      ┆ TI       ┆ 02       ┆ 593 ┆ EMF-TI-02-17 ┆  Comercio     ┆  Nacional    ┆ 1           │\n",
       "│ EMF      ┆ TI       ┆ 02       ┆ 590 ┆ EMF-TI-02-14 ┆ Industrias    ┆  Nacional    ┆ 1           │\n",
       "│          ┆          ┆          ┆     ┆              ┆ Manufacturera ┆              ┆             │\n",
       "│          ┆          ┆          ┆     ┆              ┆ s             ┆              ┆             │\n",
       "└──────────┴──────────┴──────────┴─────┴──────────────┴───────────────┴──────────────┴─────────────┘"
      ]
     },
     "execution_count": 172,
     "metadata": {},
     "output_type": "execute_result"
    }
   ],
   "source": [
    "res_nivel_7(\n",
    "    \"EMF\",\"TI\",\n",
    "    \"Niv_Gr_3\",\"02\",\n",
    "    \"Id\",\"Nombre\",\"Niv_Descr_5\",\"Niv_Descr_4\").sort(\"Niv_Descr_4\")"
   ]
  },
  {
   "cell_type": "markdown",
   "id": "d7b6fc1c",
   "metadata": {},
   "source": [
    "Resultados de una sola variable:\n"
   ]
  },
  {
   "cell_type": "code",
   "execution_count": 173,
   "id": "7aeeab30",
   "metadata": {},
   "outputs": [
    {
     "name": "stderr",
     "output_type": "stream",
     "text": [
      "<string>:29: FutureWarning:\n",
      "\n",
      "Passing literal json to 'read_json' is deprecated and will be removed in a future version. To read from a literal string, wrap it in a 'StringIO' object.\n",
      "\n"
     ]
    },
    {
     "name": "stderr",
     "output_type": "stream",
     "text": [
      "<string>:29: FutureWarning:\n",
      "\n",
      "Passing literal json to 'read_json' is deprecated and will be removed in a future version. To read from a literal string, wrap it in a 'StringIO' object.\n",
      "\n"
     ]
    },
    {
     "data": {
      "text/html": [
       "<div><style>\n",
       ".dataframe > thead > tr,\n",
       ".dataframe > tbody > tr {\n",
       "  text-align: right;\n",
       "  white-space: pre-wrap;\n",
       "}\n",
       "</style>\n",
       "<small>shape: (123, 2)</small><table border=\"1\" class=\"dataframe\"><thead><tr><th>Fecha</th><th>EMF-TI-02 - Extranjera - Actividades Alojamiento y Servicios Comida</th></tr><tr><td>date</td><td>f64</td></tr></thead><tbody><tr><td>2024-02-01</td><td>6.75</td></tr><tr><td>2024-01-01</td><td>6.6022</td></tr><tr><td>2024-01-01</td><td>6.6022</td></tr><tr><td>2023-12-01</td><td>6.3507</td></tr><tr><td>2023-12-01</td><td>6.3507</td></tr><tr><td>&hellip;</td><td>&hellip;</td></tr><tr><td>2019-03-01</td><td>6.1944</td></tr><tr><td>2019-02-01</td><td>6.2271</td></tr><tr><td>2019-02-01</td><td>6.2271</td></tr><tr><td>2019-01-01</td><td>6.2445</td></tr><tr><td>2019-01-01</td><td>6.2445</td></tr></tbody></table></div>"
      ],
      "text/plain": [
       "shape: (123, 2)\n",
       "┌────────────┬───────────────────────────────────┐\n",
       "│ Fecha      ┆ EMF-TI-02 - Extranjera - Activid… │\n",
       "│ ---        ┆ ---                               │\n",
       "│ date       ┆ f64                               │\n",
       "╞════════════╪═══════════════════════════════════╡\n",
       "│ 2024-02-01 ┆ 6.75                              │\n",
       "│ 2024-01-01 ┆ 6.6022                            │\n",
       "│ 2024-01-01 ┆ 6.6022                            │\n",
       "│ 2023-12-01 ┆ 6.3507                            │\n",
       "│ 2023-12-01 ┆ 6.3507                            │\n",
       "│ …          ┆ …                                 │\n",
       "│ 2019-03-01 ┆ 6.1944                            │\n",
       "│ 2019-02-01 ┆ 6.2271                            │\n",
       "│ 2019-02-01 ┆ 6.2271                            │\n",
       "│ 2019-01-01 ┆ 6.2445                            │\n",
       "│ 2019-01-01 ┆ 6.2445                            │\n",
       "└────────────┴───────────────────────────────────┘"
      ]
     },
     "execution_count": 173,
     "metadata": {},
     "output_type": "execute_result"
    }
   ],
   "source": [
    "Id = 605\n",
    "df = get_df(Id)\n",
    "# get_plot(Id)\n",
    "df"
   ]
  },
  {
   "cell_type": "markdown",
   "id": "809f332c",
   "metadata": {},
   "source": [
    "##### 03 Tasas de Interés Anuales\n",
    "\n",
    "* Tasas de Interés Anuales Mí­nimas y Máximas del Sistema Bancario Comercial\n",
    "* Tasas de Interés Anuales Promedio Ponderadas del Sistema Financiero\n"
   ]
  },
  {
   "cell_type": "code",
   "execution_count": 174,
   "id": "041b4e7a",
   "metadata": {},
   "outputs": [
    {
     "name": "stderr",
     "output_type": "stream",
     "text": [
      "<string>:29: FutureWarning:\n",
      "\n",
      "Passing literal json to 'read_json' is deprecated and will be removed in a future version. To read from a literal string, wrap it in a 'StringIO' object.\n",
      "\n"
     ]
    },
    {
     "data": {
      "text/html": [
       "<div><style>\n",
       ".dataframe > thead > tr,\n",
       ".dataframe > tbody > tr {\n",
       "  text-align: right;\n",
       "  white-space: pre-wrap;\n",
       "}\n",
       "</style>\n",
       "<small>shape: (2, 5)</small><table border=\"1\" class=\"dataframe\"><thead><tr><th>Niv_Gr_1</th><th>Niv_Gr_2</th><th>Niv_Gr_3</th><th>Niv_Descr_6</th><th>N_Variables</th></tr><tr><td>str</td><td>str</td><td>str</td><td>str</td><td>u32</td></tr></thead><tbody><tr><td>&quot;EMF&quot;</td><td>&quot;TI&quot;</td><td>&quot;03&quot;</td><td>&quot; Tasas de Inte…</td><td>8</td></tr><tr><td>&quot;EMF&quot;</td><td>&quot;TI&quot;</td><td>&quot;03&quot;</td><td>&quot; Tasas de Inte…</td><td>2</td></tr></tbody></table></div>"
      ],
      "text/plain": [
       "shape: (2, 5)\n",
       "┌──────────┬──────────┬──────────┬───────────────────────────────────┬─────────────┐\n",
       "│ Niv_Gr_1 ┆ Niv_Gr_2 ┆ Niv_Gr_3 ┆ Niv_Descr_6                       ┆ N_Variables │\n",
       "│ ---      ┆ ---      ┆ ---      ┆ ---                               ┆ ---         │\n",
       "│ str      ┆ str      ┆ str      ┆ str                               ┆ u32         │\n",
       "╞══════════╪══════════╪══════════╪═══════════════════════════════════╪═════════════╡\n",
       "│ EMF      ┆ TI       ┆ 03       ┆  Tasas de Interés Anuales Mínima… ┆ 8           │\n",
       "│ EMF      ┆ TI       ┆ 03       ┆  Tasas de Interés Anuales Promed… ┆ 2           │\n",
       "└──────────┴──────────┴──────────┴───────────────────────────────────┴─────────────┘"
      ]
     },
     "execution_count": 174,
     "metadata": {},
     "output_type": "execute_result"
    }
   ],
   "source": [
    "res_nivel_4(\n",
    "    \"EMF\",\"TI\",\n",
    "    \"Niv_Gr_3\",\"03\",\n",
    "    \"Niv_Descr_6\")"
   ]
  },
  {
   "cell_type": "markdown",
   "id": "545680dc",
   "metadata": {},
   "source": [
    "* Activa\n",
    "* Pasiva\n",
    "\n",
    "Por Unidad de Medida:\n",
    "\n",
    "* Máxima\n",
    "* Mínima\n",
    "* Promedio\n",
    "\n",
    "Por Moneda:\n",
    "\n",
    "* Nacional\n",
    "* Extranjera\n",
    "\n",
    "Para ver todas las variables:\n"
   ]
  },
  {
   "cell_type": "code",
   "execution_count": 175,
   "id": "bcfbdd30",
   "metadata": {},
   "outputs": [
    {
     "name": "stderr",
     "output_type": "stream",
     "text": [
      "<string>:29: FutureWarning:\n",
      "\n",
      "Passing literal json to 'read_json' is deprecated and will be removed in a future version. To read from a literal string, wrap it in a 'StringIO' object.\n",
      "\n"
     ]
    },
    {
     "data": {
      "text/html": [
       "<div><style>\n",
       ".dataframe > thead > tr,\n",
       ".dataframe > tbody > tr {\n",
       "  text-align: right;\n",
       "  white-space: pre-wrap;\n",
       "}\n",
       "</style>\n",
       "<small>shape: (10, 8)</small><table border=\"1\" class=\"dataframe\"><thead><tr><th>Niv_Gr_1</th><th>Niv_Gr_2</th><th>Niv_Gr_3</th><th>Id</th><th>Nombre</th><th>Niv_Descr_6</th><th>Niv_Descr_5</th><th>N_Variables</th></tr><tr><td>str</td><td>str</td><td>str</td><td>i64</td><td>str</td><td>str</td><td>str</td><td>u32</td></tr></thead><tbody><tr><td>&quot;EMF&quot;</td><td>&quot;TI&quot;</td><td>&quot;03&quot;</td><td>694</td><td>&quot;EMF-TI-03-6&quot;</td><td>&quot; Tasas de Inte…</td><td>&quot;Activa Máxima …</td><td>1</td></tr><tr><td>&quot;EMF&quot;</td><td>&quot;TI&quot;</td><td>&quot;03&quot;</td><td>695</td><td>&quot;EMF-TI-03-7&quot;</td><td>&quot; Tasas de Inte…</td><td>&quot;Pasiva Mínima …</td><td>1</td></tr><tr><td>&quot;EMF&quot;</td><td>&quot;TI&quot;</td><td>&quot;03&quot;</td><td>693</td><td>&quot;EMF-TI-03-5&quot;</td><td>&quot; Tasas de Inte…</td><td>&quot;Activa Mínima …</td><td>1</td></tr><tr><td>&quot;EMF&quot;</td><td>&quot;TI&quot;</td><td>&quot;03&quot;</td><td>690</td><td>&quot;EMF-TI-03-2&quot;</td><td>&quot; Tasas de Inte…</td><td>&quot;Activa Máxima …</td><td>1</td></tr><tr><td>&quot;EMF&quot;</td><td>&quot;TI&quot;</td><td>&quot;03&quot;</td><td>689</td><td>&quot;EMF-TI-03-1&quot;</td><td>&quot; Tasas de Inte…</td><td>&quot;Activa Mínima …</td><td>1</td></tr><tr><td>&quot;EMF&quot;</td><td>&quot;TI&quot;</td><td>&quot;03&quot;</td><td>691</td><td>&quot;EMF-TI-03-3&quot;</td><td>&quot; Tasas de Inte…</td><td>&quot;Pasiva Mínima …</td><td>1</td></tr><tr><td>&quot;EMF&quot;</td><td>&quot;TI&quot;</td><td>&quot;03&quot;</td><td>692</td><td>&quot;EMF-TI-03-4&quot;</td><td>&quot; Tasas de Inte…</td><td>&quot;Pasiva Máxima …</td><td>1</td></tr><tr><td>&quot;EMF&quot;</td><td>&quot;TI&quot;</td><td>&quot;03&quot;</td><td>696</td><td>&quot;EMF-TI-03-8&quot;</td><td>&quot; Tasas de Inte…</td><td>&quot;Pasiva Máxima …</td><td>1</td></tr><tr><td>&quot;EMF&quot;</td><td>&quot;TI&quot;</td><td>&quot;03&quot;</td><td>698</td><td>&quot;EMF-TI-03-10&quot;</td><td>&quot; Tasas de Inte…</td><td>&quot;Activa Promedi…</td><td>1</td></tr><tr><td>&quot;EMF&quot;</td><td>&quot;TI&quot;</td><td>&quot;03&quot;</td><td>697</td><td>&quot;EMF-TI-03-9&quot;</td><td>&quot; Tasas de Inte…</td><td>&quot;Activa Promedi…</td><td>1</td></tr></tbody></table></div>"
      ],
      "text/plain": [
       "shape: (10, 8)\n",
       "┌──────────┬──────────┬──────────┬─────┬──────────────┬───────────────┬──────────────┬─────────────┐\n",
       "│ Niv_Gr_1 ┆ Niv_Gr_2 ┆ Niv_Gr_3 ┆ Id  ┆ Nombre       ┆ Niv_Descr_6   ┆ Niv_Descr_5  ┆ N_Variables │\n",
       "│ ---      ┆ ---      ┆ ---      ┆ --- ┆ ---          ┆ ---           ┆ ---          ┆ ---         │\n",
       "│ str      ┆ str      ┆ str      ┆ i64 ┆ str          ┆ str           ┆ str          ┆ u32         │\n",
       "╞══════════╪══════════╪══════════╪═════╪══════════════╪═══════════════╪══════════════╪═════════════╡\n",
       "│ EMF      ┆ TI       ┆ 03       ┆ 694 ┆ EMF-TI-03-6  ┆ Tasas de      ┆ Activa       ┆ 1           │\n",
       "│          ┆          ┆          ┆     ┆              ┆ Interés       ┆ Máxima en    ┆             │\n",
       "│          ┆          ┆          ┆     ┆              ┆ Anuales       ┆ Moneda       ┆             │\n",
       "│          ┆          ┆          ┆     ┆              ┆ Mínima…       ┆ Extranje…    ┆             │\n",
       "│ EMF      ┆ TI       ┆ 03       ┆ 695 ┆ EMF-TI-03-7  ┆ Tasas de      ┆ Pasiva       ┆ 1           │\n",
       "│          ┆          ┆          ┆     ┆              ┆ Interés       ┆ Mínima Plazo ┆             │\n",
       "│          ┆          ┆          ┆     ┆              ┆ Anuales       ┆ 180 días     ┆             │\n",
       "│          ┆          ┆          ┆     ┆              ┆ Mínima…       ┆ Mon…         ┆             │\n",
       "│ EMF      ┆ TI       ┆ 03       ┆ 693 ┆ EMF-TI-03-5  ┆ Tasas de      ┆ Activa       ┆ 1           │\n",
       "│          ┆          ┆          ┆     ┆              ┆ Interés       ┆ Mínima en    ┆             │\n",
       "│          ┆          ┆          ┆     ┆              ┆ Anuales       ┆ Moneda       ┆             │\n",
       "│          ┆          ┆          ┆     ┆              ┆ Mínima…       ┆ Extranje…    ┆             │\n",
       "│ EMF      ┆ TI       ┆ 03       ┆ 690 ┆ EMF-TI-03-2  ┆ Tasas de      ┆ Activa       ┆ 1           │\n",
       "│          ┆          ┆          ┆     ┆              ┆ Interés       ┆ Máxima en    ┆             │\n",
       "│          ┆          ┆          ┆     ┆              ┆ Anuales       ┆ Moneda       ┆             │\n",
       "│          ┆          ┆          ┆     ┆              ┆ Mínima…       ┆ Nacional…    ┆             │\n",
       "│ EMF      ┆ TI       ┆ 03       ┆ 689 ┆ EMF-TI-03-1  ┆ Tasas de      ┆ Activa       ┆ 1           │\n",
       "│          ┆          ┆          ┆     ┆              ┆ Interés       ┆ Mínima en    ┆             │\n",
       "│          ┆          ┆          ┆     ┆              ┆ Anuales       ┆ Moneda       ┆             │\n",
       "│          ┆          ┆          ┆     ┆              ┆ Mínima…       ┆ Nacional…    ┆             │\n",
       "│ EMF      ┆ TI       ┆ 03       ┆ 691 ┆ EMF-TI-03-3  ┆ Tasas de      ┆ Pasiva       ┆ 1           │\n",
       "│          ┆          ┆          ┆     ┆              ┆ Interés       ┆ Mínima Plazo ┆             │\n",
       "│          ┆          ┆          ┆     ┆              ┆ Anuales       ┆ 180 días     ┆             │\n",
       "│          ┆          ┆          ┆     ┆              ┆ Mínima…       ┆ Mon…         ┆             │\n",
       "│ EMF      ┆ TI       ┆ 03       ┆ 692 ┆ EMF-TI-03-4  ┆ Tasas de      ┆ Pasiva       ┆ 1           │\n",
       "│          ┆          ┆          ┆     ┆              ┆ Interés       ┆ Máxima Plazo ┆             │\n",
       "│          ┆          ┆          ┆     ┆              ┆ Anuales       ┆ 180 días     ┆             │\n",
       "│          ┆          ┆          ┆     ┆              ┆ Mínima…       ┆ Mon…         ┆             │\n",
       "│ EMF      ┆ TI       ┆ 03       ┆ 696 ┆ EMF-TI-03-8  ┆ Tasas de      ┆ Pasiva       ┆ 1           │\n",
       "│          ┆          ┆          ┆     ┆              ┆ Interés       ┆ Máxima Plazo ┆             │\n",
       "│          ┆          ┆          ┆     ┆              ┆ Anuales       ┆ 180 días     ┆             │\n",
       "│          ┆          ┆          ┆     ┆              ┆ Mínima…       ┆ Mon…         ┆             │\n",
       "│ EMF      ┆ TI       ┆ 03       ┆ 698 ┆ EMF-TI-03-10 ┆ Tasas de      ┆ Activa       ┆ 1           │\n",
       "│          ┆          ┆          ┆     ┆              ┆ Interés       ┆ Promedio     ┆             │\n",
       "│          ┆          ┆          ┆     ┆              ┆ Anuales       ┆ Ponderada    ┆             │\n",
       "│          ┆          ┆          ┆     ┆              ┆ Promed…       ┆ Moneda…      ┆             │\n",
       "│ EMF      ┆ TI       ┆ 03       ┆ 697 ┆ EMF-TI-03-9  ┆ Tasas de      ┆ Activa       ┆ 1           │\n",
       "│          ┆          ┆          ┆     ┆              ┆ Interés       ┆ Promedio     ┆             │\n",
       "│          ┆          ┆          ┆     ┆              ┆ Anuales       ┆ Ponderada en ┆             │\n",
       "│          ┆          ┆          ┆     ┆              ┆ Promed…       ┆ Mon…         ┆             │\n",
       "└──────────┴──────────┴──────────┴─────┴──────────────┴───────────────┴──────────────┴─────────────┘"
      ]
     },
     "execution_count": 175,
     "metadata": {},
     "output_type": "execute_result"
    }
   ],
   "source": [
    "res_nivel_7(\n",
    "    \"EMF\",\"TI\",\n",
    "    \"Niv_Gr_3\",\"03\",\n",
    "    \"Id\",\"Nombre\",\"Niv_Descr_6\",\"Niv_Descr_5\").sort(\"Niv_Descr_6\")"
   ]
  },
  {
   "cell_type": "markdown",
   "id": "8e7558cc",
   "metadata": {},
   "source": [
    "Resultados de una sola variable:\n"
   ]
  },
  {
   "cell_type": "code",
   "execution_count": 176,
   "id": "18641d33",
   "metadata": {},
   "outputs": [
    {
     "name": "stderr",
     "output_type": "stream",
     "text": [
      "<string>:29: FutureWarning:\n",
      "\n",
      "Passing literal json to 'read_json' is deprecated and will be removed in a future version. To read from a literal string, wrap it in a 'StringIO' object.\n",
      "\n"
     ]
    },
    {
     "name": "stderr",
     "output_type": "stream",
     "text": [
      "<string>:29: FutureWarning:\n",
      "\n",
      "Passing literal json to 'read_json' is deprecated and will be removed in a future version. To read from a literal string, wrap it in a 'StringIO' object.\n",
      "\n"
     ]
    },
    {
     "data": {
      "text/html": [
       "<div><style>\n",
       ".dataframe > thead > tr,\n",
       ".dataframe > tbody > tr {\n",
       "  text-align: right;\n",
       "  white-space: pre-wrap;\n",
       "}\n",
       "</style>\n",
       "<small>shape: (73, 2)</small><table border=\"1\" class=\"dataframe\"><thead><tr><th>Fecha</th><th>EMF-TI-03-1-Activa Mínima en Moneda Nacional - Tasas de Interés Anuales Mínimas y Máximas del Sistema Bancario Comercial-C1</th></tr><tr><td>date</td><td>f64</td></tr></thead><tbody><tr><td>2024-01-01</td><td>10.21</td></tr><tr><td>2023-12-01</td><td>5.11</td></tr><tr><td>2023-11-01</td><td>6.76</td></tr><tr><td>2023-10-01</td><td>7.63</td></tr><tr><td>2023-09-01</td><td>4.94</td></tr><tr><td>&hellip;</td><td>&hellip;</td></tr><tr><td>2018-05-01</td><td>12.71</td></tr><tr><td>2018-04-01</td><td>12.58</td></tr><tr><td>2018-03-01</td><td>12.86</td></tr><tr><td>2018-02-01</td><td>9.75</td></tr><tr><td>2018-01-01</td><td>9.17</td></tr></tbody></table></div>"
      ],
      "text/plain": [
       "shape: (73, 2)\n",
       "┌────────────┬───────────────────────────────────┐\n",
       "│ Fecha      ┆ EMF-TI-03-1-Activa Mínima en Mon… │\n",
       "│ ---        ┆ ---                               │\n",
       "│ date       ┆ f64                               │\n",
       "╞════════════╪═══════════════════════════════════╡\n",
       "│ 2024-01-01 ┆ 10.21                             │\n",
       "│ 2023-12-01 ┆ 5.11                              │\n",
       "│ 2023-11-01 ┆ 6.76                              │\n",
       "│ 2023-10-01 ┆ 7.63                              │\n",
       "│ 2023-09-01 ┆ 4.94                              │\n",
       "│ …          ┆ …                                 │\n",
       "│ 2018-05-01 ┆ 12.71                             │\n",
       "│ 2018-04-01 ┆ 12.58                             │\n",
       "│ 2018-03-01 ┆ 12.86                             │\n",
       "│ 2018-02-01 ┆ 9.75                              │\n",
       "│ 2018-01-01 ┆ 9.17                              │\n",
       "└────────────┴───────────────────────────────────┘"
      ]
     },
     "execution_count": 176,
     "metadata": {},
     "output_type": "execute_result"
    }
   ],
   "source": [
    "Id = 689\n",
    "df = get_df(Id)\n",
    "# get_plot(Id)\n",
    "df"
   ]
  },
  {
   "cell_type": "markdown",
   "id": "c9fa2927",
   "metadata": {},
   "source": [
    "#### PFS = Panorama de las Sociedades Financieras\n"
   ]
  },
  {
   "cell_type": "code",
   "execution_count": 177,
   "id": "ada2281f",
   "metadata": {},
   "outputs": [
    {
     "name": "stdout",
     "output_type": "stream",
     "text": [
      "2 subgrupos\n",
      "12 variables\n"
     ]
    },
    {
     "name": "stderr",
     "output_type": "stream",
     "text": [
      "<string>:29: FutureWarning:\n",
      "\n",
      "Passing literal json to 'read_json' is deprecated and will be removed in a future version. To read from a literal string, wrap it in a 'StringIO' object.\n",
      "\n"
     ]
    },
    {
     "data": {
      "text/html": [
       "<div><style>\n",
       ".dataframe > thead > tr,\n",
       ".dataframe > tbody > tr {\n",
       "  text-align: right;\n",
       "  white-space: pre-wrap;\n",
       "}\n",
       "</style>\n",
       "<small>shape: (2, 4)</small><table border=\"1\" class=\"dataframe\"><thead><tr><th>Niv_Gr_1</th><th>Niv_Gr_2</th><th>Niv_Gr_3</th><th>N_Variables</th></tr><tr><td>str</td><td>str</td><td>str</td><td>u32</td></tr></thead><tbody><tr><td>&quot;EMF&quot;</td><td>&quot;PFS&quot;</td><td>&quot;01&quot;</td><td>3</td></tr><tr><td>&quot;EMF&quot;</td><td>&quot;PFS&quot;</td><td>&quot;02&quot;</td><td>9</td></tr></tbody></table></div>"
      ],
      "text/plain": [
       "shape: (2, 4)\n",
       "┌──────────┬──────────┬──────────┬─────────────┐\n",
       "│ Niv_Gr_1 ┆ Niv_Gr_2 ┆ Niv_Gr_3 ┆ N_Variables │\n",
       "│ ---      ┆ ---      ┆ ---      ┆ ---         │\n",
       "│ str      ┆ str      ┆ str      ┆ u32         │\n",
       "╞══════════╪══════════╪══════════╪═════════════╡\n",
       "│ EMF      ┆ PFS      ┆ 01       ┆ 3           │\n",
       "│ EMF      ┆ PFS      ┆ 02       ┆ 9           │\n",
       "└──────────┴──────────┴──────────┴─────────────┘"
      ]
     },
     "execution_count": 177,
     "metadata": {},
     "output_type": "execute_result"
    }
   ],
   "source": [
    "res_nivel_3(\"EMF\",\"PFS\",\"Niv_Gr_3\").sort(\"Niv_Gr_3\")"
   ]
  },
  {
   "cell_type": "markdown",
   "id": "16011e1c",
   "metadata": {},
   "source": [
    "##### 01 Bancos Comerciales, Activos y Pasivos Externos\n",
    "\n",
    "Para ver todas las variables:\n"
   ]
  },
  {
   "cell_type": "code",
   "execution_count": 178,
   "id": "85c7f4cb",
   "metadata": {},
   "outputs": [
    {
     "name": "stderr",
     "output_type": "stream",
     "text": [
      "<string>:29: FutureWarning:\n",
      "\n",
      "Passing literal json to 'read_json' is deprecated and will be removed in a future version. To read from a literal string, wrap it in a 'StringIO' object.\n",
      "\n"
     ]
    },
    {
     "data": {
      "text/html": [
       "<div><style>\n",
       ".dataframe > thead > tr,\n",
       ".dataframe > tbody > tr {\n",
       "  text-align: right;\n",
       "  white-space: pre-wrap;\n",
       "}\n",
       "</style>\n",
       "<small>shape: (3, 8)</small><table border=\"1\" class=\"dataframe\"><thead><tr><th>Niv_Gr_1</th><th>Niv_Gr_2</th><th>Niv_Gr_3</th><th>Id</th><th>Nombre</th><th>Niv_Descr_2</th><th>Niv_Descr_1</th><th>N_Variables</th></tr><tr><td>str</td><td>str</td><td>str</td><td>i64</td><td>str</td><td>str</td><td>str</td><td>u32</td></tr></thead><tbody><tr><td>&quot;EMF&quot;</td><td>&quot;PFS&quot;</td><td>&quot;01&quot;</td><td>677</td><td>&quot;EMF-PFS-01-1&quot;</td><td>&quot;Bancos Comerci…</td><td>&quot;Activos Extern…</td><td>1</td></tr><tr><td>&quot;EMF&quot;</td><td>&quot;PFS&quot;</td><td>&quot;01&quot;</td><td>678</td><td>&quot;EMF-PFS-01-2&quot;</td><td>&quot;Bancos Comerci…</td><td>&quot;Activos Extern…</td><td>1</td></tr><tr><td>&quot;EMF&quot;</td><td>&quot;PFS&quot;</td><td>&quot;01&quot;</td><td>679</td><td>&quot;EMF-PFS-01-3&quot;</td><td>&quot;Bancos Comerci…</td><td>&quot;Pasivos Extern…</td><td>1</td></tr></tbody></table></div>"
      ],
      "text/plain": [
       "shape: (3, 8)\n",
       "┌──────────┬──────────┬──────────┬─────┬──────────────┬───────────────┬──────────────┬─────────────┐\n",
       "│ Niv_Gr_1 ┆ Niv_Gr_2 ┆ Niv_Gr_3 ┆ Id  ┆ Nombre       ┆ Niv_Descr_2   ┆ Niv_Descr_1  ┆ N_Variables │\n",
       "│ ---      ┆ ---      ┆ ---      ┆ --- ┆ ---          ┆ ---           ┆ ---          ┆ ---         │\n",
       "│ str      ┆ str      ┆ str      ┆ i64 ┆ str          ┆ str           ┆ str          ┆ u32         │\n",
       "╞══════════╪══════════╪══════════╪═════╪══════════════╪═══════════════╪══════════════╪═════════════╡\n",
       "│ EMF      ┆ PFS      ┆ 01       ┆ 677 ┆ EMF-PFS-01-1 ┆ Bancos        ┆ Activos      ┆ 1           │\n",
       "│          ┆          ┆          ┆     ┆              ┆ Comerciales   ┆ Externos     ┆             │\n",
       "│          ┆          ┆          ┆     ┆              ┆               ┆ Netos        ┆             │\n",
       "│ EMF      ┆ PFS      ┆ 01       ┆ 678 ┆ EMF-PFS-01-2 ┆ Bancos        ┆ Activos      ┆ 1           │\n",
       "│          ┆          ┆          ┆     ┆              ┆ Comerciales   ┆ Externos     ┆             │\n",
       "│ EMF      ┆ PFS      ┆ 01       ┆ 679 ┆ EMF-PFS-01-3 ┆ Bancos        ┆ Pasivos      ┆ 1           │\n",
       "│          ┆          ┆          ┆     ┆              ┆ Comerciales   ┆ Externos     ┆             │\n",
       "└──────────┴──────────┴──────────┴─────┴──────────────┴───────────────┴──────────────┴─────────────┘"
      ]
     },
     "execution_count": 178,
     "metadata": {},
     "output_type": "execute_result"
    }
   ],
   "source": [
    "res_nivel_7(\n",
    "    \"EMF\",\"PFS\",\n",
    "    \"Niv_Gr_3\",\"01\",\n",
    "    \"Id\",\"Nombre\",\"Niv_Descr_2\",\"Niv_Descr_1\").sort(\"Nombre\")"
   ]
  },
  {
   "cell_type": "markdown",
   "id": "fe006745",
   "metadata": {},
   "source": [
    "Resultados de una sola variable:\n"
   ]
  },
  {
   "cell_type": "code",
   "execution_count": 179,
   "id": "91e3884a",
   "metadata": {},
   "outputs": [
    {
     "name": "stderr",
     "output_type": "stream",
     "text": [
      "<string>:29: FutureWarning:\n",
      "\n",
      "Passing literal json to 'read_json' is deprecated and will be removed in a future version. To read from a literal string, wrap it in a 'StringIO' object.\n",
      "\n"
     ]
    },
    {
     "name": "stderr",
     "output_type": "stream",
     "text": [
      "<string>:29: FutureWarning:\n",
      "\n",
      "Passing literal json to 'read_json' is deprecated and will be removed in a future version. To read from a literal string, wrap it in a 'StringIO' object.\n",
      "\n"
     ]
    },
    {
     "data": {
      "text/html": [
       "<div><style>\n",
       ".dataframe > thead > tr,\n",
       ".dataframe > tbody > tr {\n",
       "  text-align: right;\n",
       "  white-space: pre-wrap;\n",
       "}\n",
       "</style>\n",
       "<small>shape: (182, 2)</small><table border=\"1\" class=\"dataframe\"><thead><tr><th>Fecha</th><th>Activos Externos Netos-Bancos Comerciales</th></tr><tr><td>date</td><td>f64</td></tr></thead><tbody><tr><td>2024-02-01</td><td>-36526.3968</td></tr><tr><td>2024-01-01</td><td>-37030.809</td></tr><tr><td>2023-12-01</td><td>-36239.6994</td></tr><tr><td>2023-11-01</td><td>-32943.865</td></tr><tr><td>2023-10-01</td><td>-32023.5671</td></tr><tr><td>&hellip;</td><td>&hellip;</td></tr><tr><td>2009-05-01</td><td>792.7156</td></tr><tr><td>2009-04-01</td><td>80.2026</td></tr><tr><td>2009-03-01</td><td>-862.9082</td></tr><tr><td>2009-02-01</td><td>-723.8547</td></tr><tr><td>2009-01-01</td><td>-1855.5907</td></tr></tbody></table></div>"
      ],
      "text/plain": [
       "shape: (182, 2)\n",
       "┌────────────┬───────────────────────────────────┐\n",
       "│ Fecha      ┆ Activos Externos Netos-Bancos Co… │\n",
       "│ ---        ┆ ---                               │\n",
       "│ date       ┆ f64                               │\n",
       "╞════════════╪═══════════════════════════════════╡\n",
       "│ 2024-02-01 ┆ -36526.3968                       │\n",
       "│ 2024-01-01 ┆ -37030.809                        │\n",
       "│ 2023-12-01 ┆ -36239.6994                       │\n",
       "│ 2023-11-01 ┆ -32943.865                        │\n",
       "│ 2023-10-01 ┆ -32023.5671                       │\n",
       "│ …          ┆ …                                 │\n",
       "│ 2009-05-01 ┆ 792.7156                          │\n",
       "│ 2009-04-01 ┆ 80.2026                           │\n",
       "│ 2009-03-01 ┆ -862.9082                         │\n",
       "│ 2009-02-01 ┆ -723.8547                         │\n",
       "│ 2009-01-01 ┆ -1855.5907                        │\n",
       "└────────────┴───────────────────────────────────┘"
      ]
     },
     "execution_count": 179,
     "metadata": {},
     "output_type": "execute_result"
    }
   ],
   "source": [
    "Id = 677\n",
    "df = get_df(Id)\n",
    "# get_plot(Id)\n",
    "df"
   ]
  },
  {
   "cell_type": "markdown",
   "id": "c89da1ba",
   "metadata": {},
   "source": [
    "##### 02 Activos y Pasivos Externos\n"
   ]
  },
  {
   "cell_type": "code",
   "execution_count": 180,
   "id": "fbae8c5d",
   "metadata": {},
   "outputs": [
    {
     "name": "stderr",
     "output_type": "stream",
     "text": [
      "<string>:29: FutureWarning:\n",
      "\n",
      "Passing literal json to 'read_json' is deprecated and will be removed in a future version. To read from a literal string, wrap it in a 'StringIO' object.\n",
      "\n"
     ]
    },
    {
     "data": {
      "text/html": [
       "<div><style>\n",
       ".dataframe > thead > tr,\n",
       ".dataframe > tbody > tr {\n",
       "  text-align: right;\n",
       "  white-space: pre-wrap;\n",
       "}\n",
       "</style>\n",
       "<small>shape: (3, 5)</small><table border=\"1\" class=\"dataframe\"><thead><tr><th>Niv_Gr_1</th><th>Niv_Gr_2</th><th>Niv_Gr_3</th><th>Niv_Descr_1</th><th>N_Variables</th></tr><tr><td>str</td><td>str</td><td>str</td><td>str</td><td>u32</td></tr></thead><tbody><tr><td>&quot;EMF&quot;</td><td>&quot;PFS&quot;</td><td>&quot;02&quot;</td><td>&quot;Activos Extern…</td><td>3</td></tr><tr><td>&quot;EMF&quot;</td><td>&quot;PFS&quot;</td><td>&quot;02&quot;</td><td>&quot;Pasivos Extern…</td><td>3</td></tr><tr><td>&quot;EMF&quot;</td><td>&quot;PFS&quot;</td><td>&quot;02&quot;</td><td>&quot;Activos Extern…</td><td>3</td></tr></tbody></table></div>"
      ],
      "text/plain": [
       "shape: (3, 5)\n",
       "┌──────────┬──────────┬──────────┬────────────────────────┬─────────────┐\n",
       "│ Niv_Gr_1 ┆ Niv_Gr_2 ┆ Niv_Gr_3 ┆ Niv_Descr_1            ┆ N_Variables │\n",
       "│ ---      ┆ ---      ┆ ---      ┆ ---                    ┆ ---         │\n",
       "│ str      ┆ str      ┆ str      ┆ str                    ┆ u32         │\n",
       "╞══════════╪══════════╪══════════╪════════════════════════╪═════════════╡\n",
       "│ EMF      ┆ PFS      ┆ 02       ┆ Activos Externos Netos ┆ 3           │\n",
       "│ EMF      ┆ PFS      ┆ 02       ┆ Pasivos Externos       ┆ 3           │\n",
       "│ EMF      ┆ PFS      ┆ 02       ┆ Activos Externos       ┆ 3           │\n",
       "└──────────┴──────────┴──────────┴────────────────────────┴─────────────┘"
      ]
     },
     "execution_count": 180,
     "metadata": {},
     "output_type": "execute_result"
    }
   ],
   "source": [
    "res_nivel_4(\n",
    "    \"EMF\",\"PFS\",\n",
    "    \"Niv_Gr_3\",\"02\",\n",
    "    \"Niv_Descr_1\")"
   ]
  },
  {
   "cell_type": "code",
   "execution_count": 181,
   "id": "07a1eb9e",
   "metadata": {},
   "outputs": [
    {
     "name": "stderr",
     "output_type": "stream",
     "text": [
      "<string>:29: FutureWarning:\n",
      "\n",
      "Passing literal json to 'read_json' is deprecated and will be removed in a future version. To read from a literal string, wrap it in a 'StringIO' object.\n",
      "\n"
     ]
    },
    {
     "data": {
      "text/html": [
       "<div><style>\n",
       ".dataframe > thead > tr,\n",
       ".dataframe > tbody > tr {\n",
       "  text-align: right;\n",
       "  white-space: pre-wrap;\n",
       "}\n",
       "</style>\n",
       "<small>shape: (3, 5)</small><table border=\"1\" class=\"dataframe\"><thead><tr><th>Niv_Gr_1</th><th>Niv_Gr_2</th><th>Niv_Gr_3</th><th>Niv_Descr_2</th><th>N_Variables</th></tr><tr><td>str</td><td>str</td><td>str</td><td>str</td><td>u32</td></tr></thead><tbody><tr><td>&quot;EMF&quot;</td><td>&quot;PFS&quot;</td><td>&quot;02&quot;</td><td>&quot;Banco Central …</td><td>3</td></tr><tr><td>&quot;EMF&quot;</td><td>&quot;PFS&quot;</td><td>&quot;02&quot;</td><td>&quot;Otras Sociedad…</td><td>3</td></tr><tr><td>&quot;EMF&quot;</td><td>&quot;PFS&quot;</td><td>&quot;02&quot;</td><td>&quot;Sociedades de …</td><td>3</td></tr></tbody></table></div>"
      ],
      "text/plain": [
       "shape: (3, 5)\n",
       "┌──────────┬──────────┬──────────┬──────────────────────────────┬─────────────┐\n",
       "│ Niv_Gr_1 ┆ Niv_Gr_2 ┆ Niv_Gr_3 ┆ Niv_Descr_2                  ┆ N_Variables │\n",
       "│ ---      ┆ ---      ┆ ---      ┆ ---                          ┆ ---         │\n",
       "│ str      ┆ str      ┆ str      ┆ str                          ┆ u32         │\n",
       "╞══════════╪══════════╪══════════╪══════════════════════════════╪═════════════╡\n",
       "│ EMF      ┆ PFS      ┆ 02       ┆ Banco Central de Honduras    ┆ 3           │\n",
       "│ EMF      ┆ PFS      ┆ 02       ┆ Otras Sociedades de Depósito ┆ 3           │\n",
       "│ EMF      ┆ PFS      ┆ 02       ┆ Sociedades de Depósito       ┆ 3           │\n",
       "└──────────┴──────────┴──────────┴──────────────────────────────┴─────────────┘"
      ]
     },
     "execution_count": 181,
     "metadata": {},
     "output_type": "execute_result"
    }
   ],
   "source": [
    "res_nivel_4(\n",
    "    \"EMF\",\"PFS\",\n",
    "    \"Niv_Gr_3\",\"02\",\n",
    "    \"Niv_Descr_2\")"
   ]
  },
  {
   "cell_type": "markdown",
   "id": "74b2fd0c",
   "metadata": {},
   "source": [
    "Para ver todas las variables:\n"
   ]
  },
  {
   "cell_type": "code",
   "execution_count": 182,
   "id": "fcb7226f",
   "metadata": {},
   "outputs": [
    {
     "name": "stderr",
     "output_type": "stream",
     "text": [
      "<string>:29: FutureWarning:\n",
      "\n",
      "Passing literal json to 'read_json' is deprecated and will be removed in a future version. To read from a literal string, wrap it in a 'StringIO' object.\n",
      "\n"
     ]
    },
    {
     "data": {
      "text/html": [
       "<div><style>\n",
       ".dataframe > thead > tr,\n",
       ".dataframe > tbody > tr {\n",
       "  text-align: right;\n",
       "  white-space: pre-wrap;\n",
       "}\n",
       "</style>\n",
       "<small>shape: (9, 8)</small><table border=\"1\" class=\"dataframe\"><thead><tr><th>Niv_Gr_1</th><th>Niv_Gr_2</th><th>Niv_Gr_3</th><th>Id</th><th>Nombre</th><th>Niv_Descr_1</th><th>Niv_Descr_2</th><th>N_Variables</th></tr><tr><td>str</td><td>str</td><td>str</td><td>i64</td><td>str</td><td>str</td><td>str</td><td>u32</td></tr></thead><tbody><tr><td>&quot;EMF&quot;</td><td>&quot;PFS&quot;</td><td>&quot;02&quot;</td><td>683</td><td>&quot;EMF-PFS-02-4&quot;</td><td>&quot;Activos Extern…</td><td>&quot;Banco Central …</td><td>1</td></tr><tr><td>&quot;EMF&quot;</td><td>&quot;PFS&quot;</td><td>&quot;02&quot;</td><td>685</td><td>&quot;EMF-PFS-02-6&quot;</td><td>&quot;Activos Extern…</td><td>&quot;Sociedades de …</td><td>1</td></tr><tr><td>&quot;EMF&quot;</td><td>&quot;PFS&quot;</td><td>&quot;02&quot;</td><td>684</td><td>&quot;EMF-PFS-02-5&quot;</td><td>&quot;Activos Extern…</td><td>&quot;Otras Sociedad…</td><td>1</td></tr><tr><td>&quot;EMF&quot;</td><td>&quot;PFS&quot;</td><td>&quot;02&quot;</td><td>687</td><td>&quot;EMF-PFS-02-8&quot;</td><td>&quot;Pasivos Extern…</td><td>&quot;Otras Sociedad…</td><td>1</td></tr><tr><td>&quot;EMF&quot;</td><td>&quot;PFS&quot;</td><td>&quot;02&quot;</td><td>682</td><td>&quot;EMF-PFS-02-3&quot;</td><td>&quot;Activos Extern…</td><td>&quot;Sociedades de …</td><td>1</td></tr><tr><td>&quot;EMF&quot;</td><td>&quot;PFS&quot;</td><td>&quot;02&quot;</td><td>686</td><td>&quot;EMF-PFS-02-7&quot;</td><td>&quot;Pasivos Extern…</td><td>&quot;Banco Central …</td><td>1</td></tr><tr><td>&quot;EMF&quot;</td><td>&quot;PFS&quot;</td><td>&quot;02&quot;</td><td>681</td><td>&quot;EMF-PFS-02-2&quot;</td><td>&quot;Activos Extern…</td><td>&quot;Otras Sociedad…</td><td>1</td></tr><tr><td>&quot;EMF&quot;</td><td>&quot;PFS&quot;</td><td>&quot;02&quot;</td><td>680</td><td>&quot;EMF-PFS-02-1&quot;</td><td>&quot;Activos Extern…</td><td>&quot;Banco Central …</td><td>1</td></tr><tr><td>&quot;EMF&quot;</td><td>&quot;PFS&quot;</td><td>&quot;02&quot;</td><td>688</td><td>&quot;EMF-PFS-02-9&quot;</td><td>&quot;Pasivos Extern…</td><td>&quot;Sociedades de …</td><td>1</td></tr></tbody></table></div>"
      ],
      "text/plain": [
       "shape: (9, 8)\n",
       "┌──────────┬──────────┬──────────┬─────┬──────────────┬───────────────┬──────────────┬─────────────┐\n",
       "│ Niv_Gr_1 ┆ Niv_Gr_2 ┆ Niv_Gr_3 ┆ Id  ┆ Nombre       ┆ Niv_Descr_1   ┆ Niv_Descr_2  ┆ N_Variables │\n",
       "│ ---      ┆ ---      ┆ ---      ┆ --- ┆ ---          ┆ ---           ┆ ---          ┆ ---         │\n",
       "│ str      ┆ str      ┆ str      ┆ i64 ┆ str          ┆ str           ┆ str          ┆ u32         │\n",
       "╞══════════╪══════════╪══════════╪═════╪══════════════╪═══════════════╪══════════════╪═════════════╡\n",
       "│ EMF      ┆ PFS      ┆ 02       ┆ 683 ┆ EMF-PFS-02-4 ┆ Activos       ┆ Banco        ┆ 1           │\n",
       "│          ┆          ┆          ┆     ┆              ┆ Externos      ┆ Central de   ┆             │\n",
       "│          ┆          ┆          ┆     ┆              ┆               ┆ Honduras     ┆             │\n",
       "│ EMF      ┆ PFS      ┆ 02       ┆ 685 ┆ EMF-PFS-02-6 ┆ Activos       ┆ Sociedades   ┆ 1           │\n",
       "│          ┆          ┆          ┆     ┆              ┆ Externos      ┆ de Depósito  ┆             │\n",
       "│ EMF      ┆ PFS      ┆ 02       ┆ 684 ┆ EMF-PFS-02-5 ┆ Activos       ┆ Otras        ┆ 1           │\n",
       "│          ┆          ┆          ┆     ┆              ┆ Externos      ┆ Sociedades   ┆             │\n",
       "│          ┆          ┆          ┆     ┆              ┆               ┆ de Depósito  ┆             │\n",
       "│ EMF      ┆ PFS      ┆ 02       ┆ 687 ┆ EMF-PFS-02-8 ┆ Pasivos       ┆ Otras        ┆ 1           │\n",
       "│          ┆          ┆          ┆     ┆              ┆ Externos      ┆ Sociedades   ┆             │\n",
       "│          ┆          ┆          ┆     ┆              ┆               ┆ de Depósito  ┆             │\n",
       "│ EMF      ┆ PFS      ┆ 02       ┆ 682 ┆ EMF-PFS-02-3 ┆ Activos       ┆ Sociedades   ┆ 1           │\n",
       "│          ┆          ┆          ┆     ┆              ┆ Externos      ┆ de Depósito  ┆             │\n",
       "│          ┆          ┆          ┆     ┆              ┆ Netos         ┆              ┆             │\n",
       "│ EMF      ┆ PFS      ┆ 02       ┆ 686 ┆ EMF-PFS-02-7 ┆ Pasivos       ┆ Banco        ┆ 1           │\n",
       "│          ┆          ┆          ┆     ┆              ┆ Externos      ┆ Central de   ┆             │\n",
       "│          ┆          ┆          ┆     ┆              ┆               ┆ Honduras     ┆             │\n",
       "│ EMF      ┆ PFS      ┆ 02       ┆ 681 ┆ EMF-PFS-02-2 ┆ Activos       ┆ Otras        ┆ 1           │\n",
       "│          ┆          ┆          ┆     ┆              ┆ Externos      ┆ Sociedades   ┆             │\n",
       "│          ┆          ┆          ┆     ┆              ┆ Netos         ┆ de Depósito  ┆             │\n",
       "│ EMF      ┆ PFS      ┆ 02       ┆ 680 ┆ EMF-PFS-02-1 ┆ Activos       ┆ Banco        ┆ 1           │\n",
       "│          ┆          ┆          ┆     ┆              ┆ Externos      ┆ Central de   ┆             │\n",
       "│          ┆          ┆          ┆     ┆              ┆ Netos         ┆ Honduras     ┆             │\n",
       "│ EMF      ┆ PFS      ┆ 02       ┆ 688 ┆ EMF-PFS-02-9 ┆ Pasivos       ┆ Sociedades   ┆ 1           │\n",
       "│          ┆          ┆          ┆     ┆              ┆ Externos      ┆ de Depósito  ┆             │\n",
       "└──────────┴──────────┴──────────┴─────┴──────────────┴───────────────┴──────────────┴─────────────┘"
      ]
     },
     "execution_count": 182,
     "metadata": {},
     "output_type": "execute_result"
    }
   ],
   "source": [
    "res_nivel_7(\n",
    "    \"EMF\",\"PFS\",\n",
    "    \"Niv_Gr_3\",\"02\",\n",
    "    \"Id\",\"Nombre\",\"Niv_Descr_1\",\"Niv_Descr_2\")"
   ]
  },
  {
   "cell_type": "markdown",
   "id": "03e208a4",
   "metadata": {},
   "source": [
    "Resultados de una sola variable:\n"
   ]
  },
  {
   "cell_type": "code",
   "execution_count": 183,
   "id": "fd3642b1",
   "metadata": {},
   "outputs": [
    {
     "name": "stderr",
     "output_type": "stream",
     "text": [
      "<string>:29: FutureWarning:\n",
      "\n",
      "Passing literal json to 'read_json' is deprecated and will be removed in a future version. To read from a literal string, wrap it in a 'StringIO' object.\n",
      "\n"
     ]
    },
    {
     "name": "stderr",
     "output_type": "stream",
     "text": [
      "<string>:29: FutureWarning:\n",
      "\n",
      "Passing literal json to 'read_json' is deprecated and will be removed in a future version. To read from a literal string, wrap it in a 'StringIO' object.\n",
      "\n"
     ]
    },
    {
     "data": {
      "text/html": [
       "<div><style>\n",
       ".dataframe > thead > tr,\n",
       ".dataframe > tbody > tr {\n",
       "  text-align: right;\n",
       "  white-space: pre-wrap;\n",
       "}\n",
       "</style>\n",
       "<small>shape: (182, 2)</small><table border=\"1\" class=\"dataframe\"><thead><tr><th>Fecha</th><th>Pasivos Externos-Otras Sociedades de Depósito</th></tr><tr><td>date</td><td>f64</td></tr></thead><tbody><tr><td>2024-02-01</td><td>55320.0751</td></tr><tr><td>2024-01-01</td><td>56699.17</td></tr><tr><td>2023-12-01</td><td>56670.0158</td></tr><tr><td>2023-11-01</td><td>52769.2959</td></tr><tr><td>2023-10-01</td><td>53500.0305</td></tr><tr><td>&hellip;</td><td>&hellip;</td></tr><tr><td>2009-05-01</td><td>13918.5834</td></tr><tr><td>2009-04-01</td><td>14237.5792</td></tr><tr><td>2009-03-01</td><td>14597.5965</td></tr><tr><td>2009-02-01</td><td>15135.3623</td></tr><tr><td>2009-01-01</td><td>15258.1141</td></tr></tbody></table></div>"
      ],
      "text/plain": [
       "shape: (182, 2)\n",
       "┌────────────┬───────────────────────────────────┐\n",
       "│ Fecha      ┆ Pasivos Externos-Otras Sociedade… │\n",
       "│ ---        ┆ ---                               │\n",
       "│ date       ┆ f64                               │\n",
       "╞════════════╪═══════════════════════════════════╡\n",
       "│ 2024-02-01 ┆ 55320.0751                        │\n",
       "│ 2024-01-01 ┆ 56699.17                          │\n",
       "│ 2023-12-01 ┆ 56670.0158                        │\n",
       "│ 2023-11-01 ┆ 52769.2959                        │\n",
       "│ 2023-10-01 ┆ 53500.0305                        │\n",
       "│ …          ┆ …                                 │\n",
       "│ 2009-05-01 ┆ 13918.5834                        │\n",
       "│ 2009-04-01 ┆ 14237.5792                        │\n",
       "│ 2009-03-01 ┆ 14597.5965                        │\n",
       "│ 2009-02-01 ┆ 15135.3623                        │\n",
       "│ 2009-01-01 ┆ 15258.1141                        │\n",
       "└────────────┴───────────────────────────────────┘"
      ]
     },
     "execution_count": 183,
     "metadata": {},
     "output_type": "execute_result"
    }
   ],
   "source": [
    "Id = 687\n",
    "df = get_df(Id)\n",
    "# get_plot(Id)\n",
    "df"
   ]
  },
  {
   "cell_type": "markdown",
   "id": "77664c00",
   "metadata": {},
   "source": [
    "#### EBM = Emisión y Base Monetaria\n"
   ]
  },
  {
   "cell_type": "code",
   "execution_count": 184,
   "id": "3775fcb7",
   "metadata": {},
   "outputs": [
    {
     "name": "stdout",
     "output_type": "stream",
     "text": [
      "1 subgrupos\n",
      "6 variables\n"
     ]
    },
    {
     "name": "stderr",
     "output_type": "stream",
     "text": [
      "<string>:29: FutureWarning:\n",
      "\n",
      "Passing literal json to 'read_json' is deprecated and will be removed in a future version. To read from a literal string, wrap it in a 'StringIO' object.\n",
      "\n"
     ]
    },
    {
     "data": {
      "text/html": [
       "<div><style>\n",
       ".dataframe > thead > tr,\n",
       ".dataframe > tbody > tr {\n",
       "  text-align: right;\n",
       "  white-space: pre-wrap;\n",
       "}\n",
       "</style>\n",
       "<small>shape: (1, 4)</small><table border=\"1\" class=\"dataframe\"><thead><tr><th>Niv_Gr_1</th><th>Niv_Gr_2</th><th>Niv_Gr_3</th><th>N_Variables</th></tr><tr><td>str</td><td>str</td><td>str</td><td>u32</td></tr></thead><tbody><tr><td>&quot;EMF&quot;</td><td>&quot;EBM&quot;</td><td>&quot;01&quot;</td><td>6</td></tr></tbody></table></div>"
      ],
      "text/plain": [
       "shape: (1, 4)\n",
       "┌──────────┬──────────┬──────────┬─────────────┐\n",
       "│ Niv_Gr_1 ┆ Niv_Gr_2 ┆ Niv_Gr_3 ┆ N_Variables │\n",
       "│ ---      ┆ ---      ┆ ---      ┆ ---         │\n",
       "│ str      ┆ str      ┆ str      ┆ u32         │\n",
       "╞══════════╪══════════╪══════════╪═════════════╡\n",
       "│ EMF      ┆ EBM      ┆ 01       ┆ 6           │\n",
       "└──────────┴──────────┴──────────┴─────────────┘"
      ]
     },
     "execution_count": 184,
     "metadata": {},
     "output_type": "execute_result"
    }
   ],
   "source": [
    "res_nivel_3(\"EMF\",\"EBM\",\"Niv_Gr_3\").sort(\"Niv_Gr_3\")"
   ]
  },
  {
   "cell_type": "code",
   "execution_count": 185,
   "id": "e524f91e",
   "metadata": {},
   "outputs": [
    {
     "name": "stderr",
     "output_type": "stream",
     "text": [
      "<string>:29: FutureWarning:\n",
      "\n",
      "Passing literal json to 'read_json' is deprecated and will be removed in a future version. To read from a literal string, wrap it in a 'StringIO' object.\n",
      "\n"
     ]
    },
    {
     "data": {
      "text/html": [
       "<div><style>\n",
       ".dataframe > thead > tr,\n",
       ".dataframe > tbody > tr {\n",
       "  text-align: right;\n",
       "  white-space: pre-wrap;\n",
       "}\n",
       "</style>\n",
       "<small>shape: (3, 5)</small><table border=\"1\" class=\"dataframe\"><thead><tr><th>Niv_Gr_1</th><th>Niv_Gr_2</th><th>Niv_Gr_3</th><th>Niv_Descr_4</th><th>N_Variables</th></tr><tr><td>str</td><td>str</td><td>str</td><td>str</td><td>u32</td></tr></thead><tbody><tr><td>&quot;EMF&quot;</td><td>&quot;EBM&quot;</td><td>&quot;01&quot;</td><td>&quot;Emision Moneta…</td><td>2</td></tr><tr><td>&quot;EMF&quot;</td><td>&quot;EBM&quot;</td><td>&quot;01&quot;</td><td>&quot;Base Monetaria…</td><td>2</td></tr><tr><td>&quot;EMF&quot;</td><td>&quot;EBM&quot;</td><td>&quot;01&quot;</td><td>&quot;Base Monetaria…</td><td>2</td></tr></tbody></table></div>"
      ],
      "text/plain": [
       "shape: (3, 5)\n",
       "┌──────────┬──────────┬──────────┬────────────────────────────┬─────────────┐\n",
       "│ Niv_Gr_1 ┆ Niv_Gr_2 ┆ Niv_Gr_3 ┆ Niv_Descr_4                ┆ N_Variables │\n",
       "│ ---      ┆ ---      ┆ ---      ┆ ---                        ┆ ---         │\n",
       "│ str      ┆ str      ┆ str      ┆ str                        ┆ u32         │\n",
       "╞══════════╪══════════╪══════════╪════════════════════════════╪═════════════╡\n",
       "│ EMF      ┆ EBM      ┆ 01       ┆ Emision Monetaria          ┆ 2           │\n",
       "│ EMF      ┆ EBM      ┆ 01       ┆ Base Monetaria Restringida ┆ 2           │\n",
       "│ EMF      ┆ EBM      ┆ 01       ┆ Base Monetaria Amplia      ┆ 2           │\n",
       "└──────────┴──────────┴──────────┴────────────────────────────┴─────────────┘"
      ]
     },
     "execution_count": 185,
     "metadata": {},
     "output_type": "execute_result"
    }
   ],
   "source": [
    "res_nivel_4(\n",
    "    \"EMF\",\"EBM\",\n",
    "    \"Niv_Gr_3\",\"01\",\n",
    "    \"Niv_Descr_4\")"
   ]
  },
  {
   "cell_type": "code",
   "execution_count": 186,
   "id": "93086f16",
   "metadata": {},
   "outputs": [
    {
     "name": "stderr",
     "output_type": "stream",
     "text": [
      "<string>:29: FutureWarning:\n",
      "\n",
      "Passing literal json to 'read_json' is deprecated and will be removed in a future version. To read from a literal string, wrap it in a 'StringIO' object.\n",
      "\n"
     ]
    },
    {
     "data": {
      "text/html": [
       "<div><style>\n",
       ".dataframe > thead > tr,\n",
       ".dataframe > tbody > tr {\n",
       "  text-align: right;\n",
       "  white-space: pre-wrap;\n",
       "}\n",
       "</style>\n",
       "<small>shape: (6, 6)</small><table border=\"1\" class=\"dataframe\"><thead><tr><th>Niv_Gr_1</th><th>Niv_Gr_2</th><th>Niv_Gr_3</th><th>Niv_Descr_4</th><th>Niv_Descr_5</th><th>N_Variables</th></tr><tr><td>str</td><td>str</td><td>str</td><td>str</td><td>str</td><td>u32</td></tr></thead><tbody><tr><td>&quot;EMF&quot;</td><td>&quot;EBM&quot;</td><td>&quot;01&quot;</td><td>&quot;Base Monetaria…</td><td>&quot;Saldo&quot;</td><td>1</td></tr><tr><td>&quot;EMF&quot;</td><td>&quot;EBM&quot;</td><td>&quot;01&quot;</td><td>&quot;Emision Moneta…</td><td>&quot;Variación&quot;</td><td>1</td></tr><tr><td>&quot;EMF&quot;</td><td>&quot;EBM&quot;</td><td>&quot;01&quot;</td><td>&quot;Base Monetaria…</td><td>&quot;Variación&quot;</td><td>1</td></tr><tr><td>&quot;EMF&quot;</td><td>&quot;EBM&quot;</td><td>&quot;01&quot;</td><td>&quot;Emision Moneta…</td><td>&quot;Saldo&quot;</td><td>1</td></tr><tr><td>&quot;EMF&quot;</td><td>&quot;EBM&quot;</td><td>&quot;01&quot;</td><td>&quot;Base Monetaria…</td><td>&quot;Variación&quot;</td><td>1</td></tr><tr><td>&quot;EMF&quot;</td><td>&quot;EBM&quot;</td><td>&quot;01&quot;</td><td>&quot;Base Monetaria…</td><td>&quot;Saldo&quot;</td><td>1</td></tr></tbody></table></div>"
      ],
      "text/plain": [
       "shape: (6, 6)\n",
       "┌──────────┬──────────┬──────────┬────────────────────────────┬─────────────┬─────────────┐\n",
       "│ Niv_Gr_1 ┆ Niv_Gr_2 ┆ Niv_Gr_3 ┆ Niv_Descr_4                ┆ Niv_Descr_5 ┆ N_Variables │\n",
       "│ ---      ┆ ---      ┆ ---      ┆ ---                        ┆ ---         ┆ ---         │\n",
       "│ str      ┆ str      ┆ str      ┆ str                        ┆ str         ┆ u32         │\n",
       "╞══════════╪══════════╪══════════╪════════════════════════════╪═════════════╪═════════════╡\n",
       "│ EMF      ┆ EBM      ┆ 01       ┆ Base Monetaria Restringida ┆ Saldo       ┆ 1           │\n",
       "│ EMF      ┆ EBM      ┆ 01       ┆ Emision Monetaria          ┆ Variación   ┆ 1           │\n",
       "│ EMF      ┆ EBM      ┆ 01       ┆ Base Monetaria Amplia      ┆ Variación   ┆ 1           │\n",
       "│ EMF      ┆ EBM      ┆ 01       ┆ Emision Monetaria          ┆ Saldo       ┆ 1           │\n",
       "│ EMF      ┆ EBM      ┆ 01       ┆ Base Monetaria Restringida ┆ Variación   ┆ 1           │\n",
       "│ EMF      ┆ EBM      ┆ 01       ┆ Base Monetaria Amplia      ┆ Saldo       ┆ 1           │\n",
       "└──────────┴──────────┴──────────┴────────────────────────────┴─────────────┴─────────────┘"
      ]
     },
     "execution_count": 186,
     "metadata": {},
     "output_type": "execute_result"
    }
   ],
   "source": [
    "res_nivel_5(\n",
    "    \"EMF\",\"EBM\",\n",
    "    \"Niv_Gr_3\",\"01\",\n",
    "    \"Niv_Descr_4\",\"Niv_Descr_5\")"
   ]
  },
  {
   "cell_type": "markdown",
   "id": "1643860d",
   "metadata": {},
   "source": [
    "Para ver todas las variables:\n"
   ]
  },
  {
   "cell_type": "code",
   "execution_count": 187,
   "id": "e157da5c",
   "metadata": {},
   "outputs": [
    {
     "name": "stderr",
     "output_type": "stream",
     "text": [
      "<string>:29: FutureWarning:\n",
      "\n",
      "Passing literal json to 'read_json' is deprecated and will be removed in a future version. To read from a literal string, wrap it in a 'StringIO' object.\n",
      "\n"
     ]
    },
    {
     "data": {
      "text/html": [
       "<div><style>\n",
       ".dataframe > thead > tr,\n",
       ".dataframe > tbody > tr {\n",
       "  text-align: right;\n",
       "  white-space: pre-wrap;\n",
       "}\n",
       "</style>\n",
       "<small>shape: (6, 8)</small><table border=\"1\" class=\"dataframe\"><thead><tr><th>Niv_Gr_1</th><th>Niv_Gr_2</th><th>Niv_Gr_3</th><th>Id</th><th>Nombre</th><th>Niv_Descr_4</th><th>Niv_Descr_5</th><th>N_Variables</th></tr><tr><td>str</td><td>str</td><td>str</td><td>i64</td><td>str</td><td>str</td><td>str</td><td>u32</td></tr></thead><tbody><tr><td>&quot;EMF&quot;</td><td>&quot;EBM&quot;</td><td>&quot;01&quot;</td><td>518</td><td>&quot;EMF-EBM-01-1&quot;</td><td>&quot;Emision Moneta…</td><td>&quot;Saldo&quot;</td><td>1</td></tr><tr><td>&quot;EMF&quot;</td><td>&quot;EBM&quot;</td><td>&quot;01&quot;</td><td>519</td><td>&quot;EMF-EBM-01-4&quot;</td><td>&quot;Emision Moneta…</td><td>&quot;Variación&quot;</td><td>1</td></tr><tr><td>&quot;EMF&quot;</td><td>&quot;EBM&quot;</td><td>&quot;01&quot;</td><td>521</td><td>&quot;EMF-EBM-01-5&quot;</td><td>&quot;Base Monetaria…</td><td>&quot;Variación&quot;</td><td>1</td></tr><tr><td>&quot;EMF&quot;</td><td>&quot;EBM&quot;</td><td>&quot;01&quot;</td><td>523</td><td>&quot;EMF-EBM-01-6&quot;</td><td>&quot;Base Monetaria…</td><td>&quot;Variación&quot;</td><td>1</td></tr><tr><td>&quot;EMF&quot;</td><td>&quot;EBM&quot;</td><td>&quot;01&quot;</td><td>520</td><td>&quot;EMF-EBM-01-2&quot;</td><td>&quot;Base Monetaria…</td><td>&quot;Saldo&quot;</td><td>1</td></tr><tr><td>&quot;EMF&quot;</td><td>&quot;EBM&quot;</td><td>&quot;01&quot;</td><td>522</td><td>&quot;EMF-EBM-01-3&quot;</td><td>&quot;Base Monetaria…</td><td>&quot;Saldo&quot;</td><td>1</td></tr></tbody></table></div>"
      ],
      "text/plain": [
       "shape: (6, 8)\n",
       "┌──────────┬──────────┬──────────┬─────┬──────────────┬────────────────┬─────────────┬─────────────┐\n",
       "│ Niv_Gr_1 ┆ Niv_Gr_2 ┆ Niv_Gr_3 ┆ Id  ┆ Nombre       ┆ Niv_Descr_4    ┆ Niv_Descr_5 ┆ N_Variables │\n",
       "│ ---      ┆ ---      ┆ ---      ┆ --- ┆ ---          ┆ ---            ┆ ---         ┆ ---         │\n",
       "│ str      ┆ str      ┆ str      ┆ i64 ┆ str          ┆ str            ┆ str         ┆ u32         │\n",
       "╞══════════╪══════════╪══════════╪═════╪══════════════╪════════════════╪═════════════╪═════════════╡\n",
       "│ EMF      ┆ EBM      ┆ 01       ┆ 518 ┆ EMF-EBM-01-1 ┆ Emision        ┆ Saldo       ┆ 1           │\n",
       "│          ┆          ┆          ┆     ┆              ┆ Monetaria      ┆             ┆             │\n",
       "│ EMF      ┆ EBM      ┆ 01       ┆ 519 ┆ EMF-EBM-01-4 ┆ Emision        ┆ Variación   ┆ 1           │\n",
       "│          ┆          ┆          ┆     ┆              ┆ Monetaria      ┆             ┆             │\n",
       "│ EMF      ┆ EBM      ┆ 01       ┆ 521 ┆ EMF-EBM-01-5 ┆ Base Monetaria ┆ Variación   ┆ 1           │\n",
       "│          ┆          ┆          ┆     ┆              ┆ Restringida    ┆             ┆             │\n",
       "│ EMF      ┆ EBM      ┆ 01       ┆ 523 ┆ EMF-EBM-01-6 ┆ Base Monetaria ┆ Variación   ┆ 1           │\n",
       "│          ┆          ┆          ┆     ┆              ┆ Amplia         ┆             ┆             │\n",
       "│ EMF      ┆ EBM      ┆ 01       ┆ 520 ┆ EMF-EBM-01-2 ┆ Base Monetaria ┆ Saldo       ┆ 1           │\n",
       "│          ┆          ┆          ┆     ┆              ┆ Restringida    ┆             ┆             │\n",
       "│ EMF      ┆ EBM      ┆ 01       ┆ 522 ┆ EMF-EBM-01-3 ┆ Base Monetaria ┆ Saldo       ┆ 1           │\n",
       "│          ┆          ┆          ┆     ┆              ┆ Amplia         ┆             ┆             │\n",
       "└──────────┴──────────┴──────────┴─────┴──────────────┴────────────────┴─────────────┴─────────────┘"
      ]
     },
     "execution_count": 187,
     "metadata": {},
     "output_type": "execute_result"
    }
   ],
   "source": [
    "res_nivel_7(\n",
    "    \"EMF\",\"EBM\",\n",
    "    \"Niv_Gr_3\",\"01\",\n",
    "    \"Id\",\"Nombre\",\"Niv_Descr_4\",\"Niv_Descr_5\")"
   ]
  },
  {
   "cell_type": "markdown",
   "id": "af10ed62",
   "metadata": {},
   "source": [
    "Resultados de una sola variable:\n"
   ]
  },
  {
   "cell_type": "code",
   "execution_count": 188,
   "id": "534d5fae",
   "metadata": {},
   "outputs": [
    {
     "name": "stderr",
     "output_type": "stream",
     "text": [
      "<string>:29: FutureWarning:\n",
      "\n",
      "Passing literal json to 'read_json' is deprecated and will be removed in a future version. To read from a literal string, wrap it in a 'StringIO' object.\n",
      "\n"
     ]
    },
    {
     "name": "stderr",
     "output_type": "stream",
     "text": [
      "<string>:29: FutureWarning:\n",
      "\n",
      "Passing literal json to 'read_json' is deprecated and will be removed in a future version. To read from a literal string, wrap it in a 'StringIO' object.\n",
      "\n"
     ]
    },
    {
     "data": {
      "text/html": [
       "<div><style>\n",
       ".dataframe > thead > tr,\n",
       ".dataframe > tbody > tr {\n",
       "  text-align: right;\n",
       "  white-space: pre-wrap;\n",
       "}\n",
       "</style>\n",
       "<small>shape: (341, 2)</small><table border=\"1\" class=\"dataframe\"><thead><tr><th>Fecha</th><th>EMF-EBM-01-Base Monetaria Amplia-Variación</th></tr><tr><td>date</td><td>f64</td></tr></thead><tbody><tr><td>2024-02-01</td><td>-2.0822</td></tr><tr><td>2024-01-01</td><td>-0.8613</td></tr><tr><td>2024-01-01</td><td>-0.8613</td></tr><tr><td>2023-12-01</td><td>-0.3203</td></tr><tr><td>2023-12-01</td><td>-0.3203</td></tr><tr><td>&hellip;</td><td>&hellip;</td></tr><tr><td>2010-02-01</td><td>9.6529</td></tr><tr><td>2010-01-01</td><td>6.7993</td></tr><tr><td>2010-01-01</td><td>6.7993</td></tr><tr><td>2009-12-01</td><td>7.7574</td></tr><tr><td>2009-12-01</td><td>7.7574</td></tr></tbody></table></div>"
      ],
      "text/plain": [
       "shape: (341, 2)\n",
       "┌────────────┬───────────────────────────────────┐\n",
       "│ Fecha      ┆ EMF-EBM-01-Base Monetaria Amplia… │\n",
       "│ ---        ┆ ---                               │\n",
       "│ date       ┆ f64                               │\n",
       "╞════════════╪═══════════════════════════════════╡\n",
       "│ 2024-02-01 ┆ -2.0822                           │\n",
       "│ 2024-01-01 ┆ -0.8613                           │\n",
       "│ 2024-01-01 ┆ -0.8613                           │\n",
       "│ 2023-12-01 ┆ -0.3203                           │\n",
       "│ 2023-12-01 ┆ -0.3203                           │\n",
       "│ …          ┆ …                                 │\n",
       "│ 2010-02-01 ┆ 9.6529                            │\n",
       "│ 2010-01-01 ┆ 6.7993                            │\n",
       "│ 2010-01-01 ┆ 6.7993                            │\n",
       "│ 2009-12-01 ┆ 7.7574                            │\n",
       "│ 2009-12-01 ┆ 7.7574                            │\n",
       "└────────────┴───────────────────────────────────┘"
      ]
     },
     "execution_count": 188,
     "metadata": {},
     "output_type": "execute_result"
    }
   ],
   "source": [
    "Id = 523\n",
    "df = get_df(Id)\n",
    "# get_plot(Id)\n",
    "df"
   ]
  },
  {
   "cell_type": "markdown",
   "id": "efff0435",
   "metadata": {},
   "source": [
    "### ESP = Estadísticas de Sistema de Pagos\n"
   ]
  },
  {
   "cell_type": "code",
   "execution_count": 189,
   "id": "27e41be9",
   "metadata": {},
   "outputs": [
    {
     "name": "stdout",
     "output_type": "stream",
     "text": [
      "11519 variables\n",
      "54 grupos\n",
      "2 variables\n",
      "2 grupos\n",
      "2 subgrupos\n"
     ]
    },
    {
     "name": "stderr",
     "output_type": "stream",
     "text": [
      "<string>:29: FutureWarning:\n",
      "\n",
      "Passing literal json to 'read_json' is deprecated and will be removed in a future version. To read from a literal string, wrap it in a 'StringIO' object.\n",
      "\n"
     ]
    },
    {
     "data": {
      "text/html": [
       "<div><style>\n",
       ".dataframe > thead > tr,\n",
       ".dataframe > tbody > tr {\n",
       "  text-align: right;\n",
       "  white-space: pre-wrap;\n",
       "}\n",
       "</style>\n",
       "<small>shape: (2, 4)</small><table border=\"1\" class=\"dataframe\"><thead><tr><th>Niv_Gr_1</th><th>Niv_Gr_2</th><th>N_Variables</th><th>N_Niv_Gr_2</th></tr><tr><td>str</td><td>str</td><td>u32</td><td>u32</td></tr></thead><tbody><tr><td>&quot;ESP&quot;</td><td>&quot;CCECH&quot;</td><td>1</td><td>1</td></tr><tr><td>&quot;ESP&quot;</td><td>&quot;ACH&quot;</td><td>1</td><td>1</td></tr></tbody></table></div>"
      ],
      "text/plain": [
       "shape: (2, 4)\n",
       "┌──────────┬──────────┬─────────────┬────────────┐\n",
       "│ Niv_Gr_1 ┆ Niv_Gr_2 ┆ N_Variables ┆ N_Niv_Gr_2 │\n",
       "│ ---      ┆ ---      ┆ ---         ┆ ---        │\n",
       "│ str      ┆ str      ┆ u32         ┆ u32        │\n",
       "╞══════════╪══════════╪═════════════╪════════════╡\n",
       "│ ESP      ┆ CCECH    ┆ 1           ┆ 1          │\n",
       "│ ESP      ┆ ACH      ┆ 1           ┆ 1          │\n",
       "└──────────┴──────────┴─────────────┴────────────┘"
      ]
     },
     "execution_count": 189,
     "metadata": {},
     "output_type": "execute_result"
    }
   ],
   "source": [
    "res_nivel_2(\"ESP\")"
   ]
  },
  {
   "cell_type": "markdown",
   "id": "f4014874",
   "metadata": {},
   "source": [
    "#### ACH = Operaciones de Crédito Compensadas en Ceproban y Liquidadas en BCH\n"
   ]
  },
  {
   "cell_type": "code",
   "execution_count": 190,
   "id": "17b00398",
   "metadata": {},
   "outputs": [
    {
     "name": "stdout",
     "output_type": "stream",
     "text": [
      "1 subgrupos\n",
      "4 variables\n"
     ]
    },
    {
     "name": "stderr",
     "output_type": "stream",
     "text": [
      "<string>:29: FutureWarning:\n",
      "\n",
      "Passing literal json to 'read_json' is deprecated and will be removed in a future version. To read from a literal string, wrap it in a 'StringIO' object.\n",
      "\n"
     ]
    },
    {
     "data": {
      "text/html": [
       "<div><style>\n",
       ".dataframe > thead > tr,\n",
       ".dataframe > tbody > tr {\n",
       "  text-align: right;\n",
       "  white-space: pre-wrap;\n",
       "}\n",
       "</style>\n",
       "<small>shape: (1, 4)</small><table border=\"1\" class=\"dataframe\"><thead><tr><th>Niv_Gr_1</th><th>Niv_Gr_2</th><th>Niv_Gr_3</th><th>N_Variables</th></tr><tr><td>str</td><td>str</td><td>str</td><td>u32</td></tr></thead><tbody><tr><td>&quot;ESP&quot;</td><td>&quot;ACH&quot;</td><td>&quot;01&quot;</td><td>4</td></tr></tbody></table></div>"
      ],
      "text/plain": [
       "shape: (1, 4)\n",
       "┌──────────┬──────────┬──────────┬─────────────┐\n",
       "│ Niv_Gr_1 ┆ Niv_Gr_2 ┆ Niv_Gr_3 ┆ N_Variables │\n",
       "│ ---      ┆ ---      ┆ ---      ┆ ---         │\n",
       "│ str      ┆ str      ┆ str      ┆ u32         │\n",
       "╞══════════╪══════════╪══════════╪═════════════╡\n",
       "│ ESP      ┆ ACH      ┆ 01       ┆ 4           │\n",
       "└──────────┴──────────┴──────────┴─────────────┘"
      ]
     },
     "execution_count": 190,
     "metadata": {},
     "output_type": "execute_result"
    }
   ],
   "source": [
    "res_nivel_3(\"ESP\",\"ACH\",\"Niv_Gr_3\").sort(\"Niv_Gr_3\")"
   ]
  },
  {
   "cell_type": "code",
   "execution_count": 191,
   "id": "ad334a67",
   "metadata": {},
   "outputs": [
    {
     "name": "stderr",
     "output_type": "stream",
     "text": [
      "<string>:29: FutureWarning:\n",
      "\n",
      "Passing literal json to 'read_json' is deprecated and will be removed in a future version. To read from a literal string, wrap it in a 'StringIO' object.\n",
      "\n"
     ]
    },
    {
     "data": {
      "text/html": [
       "<div><style>\n",
       ".dataframe > thead > tr,\n",
       ".dataframe > tbody > tr {\n",
       "  text-align: right;\n",
       "  white-space: pre-wrap;\n",
       "}\n",
       "</style>\n",
       "<small>shape: (2, 5)</small><table border=\"1\" class=\"dataframe\"><thead><tr><th>Niv_Gr_1</th><th>Niv_Gr_2</th><th>Niv_Gr_3</th><th>Niv_Descr_5</th><th>N_Variables</th></tr><tr><td>str</td><td>str</td><td>str</td><td>str</td><td>u32</td></tr></thead><tbody><tr><td>&quot;ESP&quot;</td><td>&quot;ACH&quot;</td><td>&quot;01&quot;</td><td>&quot;Monto&quot;</td><td>2</td></tr><tr><td>&quot;ESP&quot;</td><td>&quot;ACH&quot;</td><td>&quot;01&quot;</td><td>&quot;Cantidad&quot;</td><td>2</td></tr></tbody></table></div>"
      ],
      "text/plain": [
       "shape: (2, 5)\n",
       "┌──────────┬──────────┬──────────┬─────────────┬─────────────┐\n",
       "│ Niv_Gr_1 ┆ Niv_Gr_2 ┆ Niv_Gr_3 ┆ Niv_Descr_5 ┆ N_Variables │\n",
       "│ ---      ┆ ---      ┆ ---      ┆ ---         ┆ ---         │\n",
       "│ str      ┆ str      ┆ str      ┆ str         ┆ u32         │\n",
       "╞══════════╪══════════╪══════════╪═════════════╪═════════════╡\n",
       "│ ESP      ┆ ACH      ┆ 01       ┆ Monto       ┆ 2           │\n",
       "│ ESP      ┆ ACH      ┆ 01       ┆ Cantidad    ┆ 2           │\n",
       "└──────────┴──────────┴──────────┴─────────────┴─────────────┘"
      ]
     },
     "execution_count": 191,
     "metadata": {},
     "output_type": "execute_result"
    }
   ],
   "source": [
    "res_nivel_4(\n",
    "    \"ESP\",\"ACH\",\n",
    "    \"Niv_Gr_3\",\"01\",\n",
    "    \"Niv_Descr_5\")"
   ]
  },
  {
   "cell_type": "code",
   "execution_count": 192,
   "id": "412b46f2",
   "metadata": {},
   "outputs": [
    {
     "name": "stderr",
     "output_type": "stream",
     "text": [
      "<string>:29: FutureWarning:\n",
      "\n",
      "Passing literal json to 'read_json' is deprecated and will be removed in a future version. To read from a literal string, wrap it in a 'StringIO' object.\n",
      "\n"
     ]
    },
    {
     "data": {
      "text/html": [
       "<div><style>\n",
       ".dataframe > thead > tr,\n",
       ".dataframe > tbody > tr {\n",
       "  text-align: right;\n",
       "  white-space: pre-wrap;\n",
       "}\n",
       "</style>\n",
       "<small>shape: (2, 5)</small><table border=\"1\" class=\"dataframe\"><thead><tr><th>Niv_Gr_1</th><th>Niv_Gr_2</th><th>Niv_Gr_3</th><th>Niv_Descr_6</th><th>N_Variables</th></tr><tr><td>str</td><td>str</td><td>str</td><td>str</td><td>u32</td></tr></thead><tbody><tr><td>&quot;ESP&quot;</td><td>&quot;ACH&quot;</td><td>&quot;01&quot;</td><td>&quot;Lempiras&quot;</td><td>2</td></tr><tr><td>&quot;ESP&quot;</td><td>&quot;ACH&quot;</td><td>&quot;01&quot;</td><td>&quot;Dólares&quot;</td><td>2</td></tr></tbody></table></div>"
      ],
      "text/plain": [
       "shape: (2, 5)\n",
       "┌──────────┬──────────┬──────────┬─────────────┬─────────────┐\n",
       "│ Niv_Gr_1 ┆ Niv_Gr_2 ┆ Niv_Gr_3 ┆ Niv_Descr_6 ┆ N_Variables │\n",
       "│ ---      ┆ ---      ┆ ---      ┆ ---         ┆ ---         │\n",
       "│ str      ┆ str      ┆ str      ┆ str         ┆ u32         │\n",
       "╞══════════╪══════════╪══════════╪═════════════╪═════════════╡\n",
       "│ ESP      ┆ ACH      ┆ 01       ┆ Lempiras    ┆ 2           │\n",
       "│ ESP      ┆ ACH      ┆ 01       ┆ Dólares     ┆ 2           │\n",
       "└──────────┴──────────┴──────────┴─────────────┴─────────────┘"
      ]
     },
     "execution_count": 192,
     "metadata": {},
     "output_type": "execute_result"
    }
   ],
   "source": [
    "res_nivel_4(\n",
    "    \"ESP\",\"ACH\",\n",
    "    \"Niv_Gr_3\",\"01\",\n",
    "    \"Niv_Descr_6\")"
   ]
  },
  {
   "cell_type": "markdown",
   "id": "6f47dcef",
   "metadata": {},
   "source": [
    "Para ver todas las variables:\n"
   ]
  },
  {
   "cell_type": "code",
   "execution_count": 193,
   "id": "26fbea40",
   "metadata": {},
   "outputs": [
    {
     "name": "stderr",
     "output_type": "stream",
     "text": [
      "<string>:29: FutureWarning:\n",
      "\n",
      "Passing literal json to 'read_json' is deprecated and will be removed in a future version. To read from a literal string, wrap it in a 'StringIO' object.\n",
      "\n"
     ]
    },
    {
     "data": {
      "text/html": [
       "<div><style>\n",
       ".dataframe > thead > tr,\n",
       ".dataframe > tbody > tr {\n",
       "  text-align: right;\n",
       "  white-space: pre-wrap;\n",
       "}\n",
       "</style>\n",
       "<small>shape: (4, 8)</small><table border=\"1\" class=\"dataframe\"><thead><tr><th>Niv_Gr_1</th><th>Niv_Gr_2</th><th>Niv_Gr_3</th><th>Id</th><th>Nombre</th><th>Niv_Descr_5</th><th>Niv_Descr_6</th><th>N_Variables</th></tr><tr><td>str</td><td>str</td><td>str</td><td>i64</td><td>str</td><td>str</td><td>str</td><td>u32</td></tr></thead><tbody><tr><td>&quot;ESP&quot;</td><td>&quot;ACH&quot;</td><td>&quot;01&quot;</td><td>611</td><td>&quot;ESP-ACH-01-1&quot;</td><td>&quot;Cantidad&quot;</td><td>&quot;Dólares&quot;</td><td>1</td></tr><tr><td>&quot;ESP&quot;</td><td>&quot;ACH&quot;</td><td>&quot;01&quot;</td><td>612</td><td>&quot;ESP-ACH-01-2&quot;</td><td>&quot;Cantidad&quot;</td><td>&quot;Lempiras&quot;</td><td>1</td></tr><tr><td>&quot;ESP&quot;</td><td>&quot;ACH&quot;</td><td>&quot;01&quot;</td><td>613</td><td>&quot;ESP-ACH-01-3&quot;</td><td>&quot;Monto&quot;</td><td>&quot;Dólares&quot;</td><td>1</td></tr><tr><td>&quot;ESP&quot;</td><td>&quot;ACH&quot;</td><td>&quot;01&quot;</td><td>614</td><td>&quot;ESP-ACH-01-4&quot;</td><td>&quot;Monto&quot;</td><td>&quot;Lempiras&quot;</td><td>1</td></tr></tbody></table></div>"
      ],
      "text/plain": [
       "shape: (4, 8)\n",
       "┌──────────┬──────────┬──────────┬─────┬──────────────┬─────────────┬─────────────┬─────────────┐\n",
       "│ Niv_Gr_1 ┆ Niv_Gr_2 ┆ Niv_Gr_3 ┆ Id  ┆ Nombre       ┆ Niv_Descr_5 ┆ Niv_Descr_6 ┆ N_Variables │\n",
       "│ ---      ┆ ---      ┆ ---      ┆ --- ┆ ---          ┆ ---         ┆ ---         ┆ ---         │\n",
       "│ str      ┆ str      ┆ str      ┆ i64 ┆ str          ┆ str         ┆ str         ┆ u32         │\n",
       "╞══════════╪══════════╪══════════╪═════╪══════════════╪═════════════╪═════════════╪═════════════╡\n",
       "│ ESP      ┆ ACH      ┆ 01       ┆ 611 ┆ ESP-ACH-01-1 ┆ Cantidad    ┆ Dólares     ┆ 1           │\n",
       "│ ESP      ┆ ACH      ┆ 01       ┆ 612 ┆ ESP-ACH-01-2 ┆ Cantidad    ┆ Lempiras    ┆ 1           │\n",
       "│ ESP      ┆ ACH      ┆ 01       ┆ 613 ┆ ESP-ACH-01-3 ┆ Monto       ┆ Dólares     ┆ 1           │\n",
       "│ ESP      ┆ ACH      ┆ 01       ┆ 614 ┆ ESP-ACH-01-4 ┆ Monto       ┆ Lempiras    ┆ 1           │\n",
       "└──────────┴──────────┴──────────┴─────┴──────────────┴─────────────┴─────────────┴─────────────┘"
      ]
     },
     "execution_count": 193,
     "metadata": {},
     "output_type": "execute_result"
    }
   ],
   "source": [
    "res_nivel_7(\n",
    "    \"ESP\",\"ACH\",\n",
    "    \"Niv_Gr_3\",\"01\",\n",
    "    \"Id\",\"Nombre\",\"Niv_Descr_5\",\"Niv_Descr_6\").sort(\"Nombre\")"
   ]
  },
  {
   "cell_type": "markdown",
   "id": "8c365756",
   "metadata": {},
   "source": [
    "Resultados de una sola variable:\n"
   ]
  },
  {
   "cell_type": "code",
   "execution_count": 194,
   "id": "a7c42cea",
   "metadata": {},
   "outputs": [
    {
     "name": "stderr",
     "output_type": "stream",
     "text": [
      "<string>:29: FutureWarning:\n",
      "\n",
      "Passing literal json to 'read_json' is deprecated and will be removed in a future version. To read from a literal string, wrap it in a 'StringIO' object.\n",
      "\n"
     ]
    },
    {
     "name": "stderr",
     "output_type": "stream",
     "text": [
      "<string>:29: FutureWarning:\n",
      "\n",
      "Passing literal json to 'read_json' is deprecated and will be removed in a future version. To read from a literal string, wrap it in a 'StringIO' object.\n",
      "\n"
     ]
    },
    {
     "data": {
      "text/html": [
       "<div><style>\n",
       ".dataframe > thead > tr,\n",
       ".dataframe > tbody > tr {\n",
       "  text-align: right;\n",
       "  white-space: pre-wrap;\n",
       "}\n",
       "</style>\n",
       "<small>shape: (340, 2)</small><table border=\"1\" class=\"dataframe\"><thead><tr><th>Fecha</th><th>ESP-ACH-01-1-Cantidad-Dólares</th></tr><tr><td>date</td><td>i64</td></tr></thead><tbody><tr><td>2024-02-01</td><td>33718</td></tr><tr><td>2024-02-01</td><td>33718</td></tr><tr><td>2024-01-01</td><td>37225</td></tr><tr><td>2024-01-01</td><td>37225</td></tr><tr><td>2023-12-01</td><td>31208</td></tr><tr><td>&hellip;</td><td>&hellip;</td></tr><tr><td>2010-03-01</td><td>34</td></tr><tr><td>2010-02-01</td><td>9</td></tr><tr><td>2010-02-01</td><td>9</td></tr><tr><td>2010-01-01</td><td>3</td></tr><tr><td>2010-01-01</td><td>3</td></tr></tbody></table></div>"
      ],
      "text/plain": [
       "shape: (340, 2)\n",
       "┌────────────┬───────────────────────────────┐\n",
       "│ Fecha      ┆ ESP-ACH-01-1-Cantidad-Dólares │\n",
       "│ ---        ┆ ---                           │\n",
       "│ date       ┆ i64                           │\n",
       "╞════════════╪═══════════════════════════════╡\n",
       "│ 2024-02-01 ┆ 33718                         │\n",
       "│ 2024-02-01 ┆ 33718                         │\n",
       "│ 2024-01-01 ┆ 37225                         │\n",
       "│ 2024-01-01 ┆ 37225                         │\n",
       "│ 2023-12-01 ┆ 31208                         │\n",
       "│ …          ┆ …                             │\n",
       "│ 2010-03-01 ┆ 34                            │\n",
       "│ 2010-02-01 ┆ 9                             │\n",
       "│ 2010-02-01 ┆ 9                             │\n",
       "│ 2010-01-01 ┆ 3                             │\n",
       "│ 2010-01-01 ┆ 3                             │\n",
       "└────────────┴───────────────────────────────┘"
      ]
     },
     "execution_count": 194,
     "metadata": {},
     "output_type": "execute_result"
    }
   ],
   "source": [
    "Id = 611\n",
    "df = get_df(Id)\n",
    "# get_plot(Id)\n",
    "df"
   ]
  },
  {
   "cell_type": "markdown",
   "id": "f1e8d477",
   "metadata": {},
   "source": [
    "#### CCECH = Cheques Compensados en Ceproban y Liquidados en BCH\n"
   ]
  },
  {
   "cell_type": "code",
   "execution_count": 195,
   "id": "76a2d726",
   "metadata": {},
   "outputs": [
    {
     "name": "stdout",
     "output_type": "stream",
     "text": [
      "1 subgrupos\n",
      "4 variables\n"
     ]
    },
    {
     "name": "stderr",
     "output_type": "stream",
     "text": [
      "<string>:29: FutureWarning:\n",
      "\n",
      "Passing literal json to 'read_json' is deprecated and will be removed in a future version. To read from a literal string, wrap it in a 'StringIO' object.\n",
      "\n"
     ]
    },
    {
     "data": {
      "text/html": [
       "<div><style>\n",
       ".dataframe > thead > tr,\n",
       ".dataframe > tbody > tr {\n",
       "  text-align: right;\n",
       "  white-space: pre-wrap;\n",
       "}\n",
       "</style>\n",
       "<small>shape: (1, 4)</small><table border=\"1\" class=\"dataframe\"><thead><tr><th>Niv_Gr_1</th><th>Niv_Gr_2</th><th>Niv_Gr_3</th><th>N_Variables</th></tr><tr><td>str</td><td>str</td><td>str</td><td>u32</td></tr></thead><tbody><tr><td>&quot;ESP&quot;</td><td>&quot;CCECH&quot;</td><td>&quot;01&quot;</td><td>4</td></tr></tbody></table></div>"
      ],
      "text/plain": [
       "shape: (1, 4)\n",
       "┌──────────┬──────────┬──────────┬─────────────┐\n",
       "│ Niv_Gr_1 ┆ Niv_Gr_2 ┆ Niv_Gr_3 ┆ N_Variables │\n",
       "│ ---      ┆ ---      ┆ ---      ┆ ---         │\n",
       "│ str      ┆ str      ┆ str      ┆ u32         │\n",
       "╞══════════╪══════════╪══════════╪═════════════╡\n",
       "│ ESP      ┆ CCECH    ┆ 01       ┆ 4           │\n",
       "└──────────┴──────────┴──────────┴─────────────┘"
      ]
     },
     "execution_count": 195,
     "metadata": {},
     "output_type": "execute_result"
    }
   ],
   "source": [
    "res_nivel_3(\"ESP\",\"CCECH\",\"Niv_Gr_3\")"
   ]
  },
  {
   "cell_type": "code",
   "execution_count": 196,
   "id": "e519263b",
   "metadata": {},
   "outputs": [
    {
     "name": "stderr",
     "output_type": "stream",
     "text": [
      "<string>:29: FutureWarning:\n",
      "\n",
      "Passing literal json to 'read_json' is deprecated and will be removed in a future version. To read from a literal string, wrap it in a 'StringIO' object.\n",
      "\n"
     ]
    },
    {
     "data": {
      "text/html": [
       "<div><style>\n",
       ".dataframe > thead > tr,\n",
       ".dataframe > tbody > tr {\n",
       "  text-align: right;\n",
       "  white-space: pre-wrap;\n",
       "}\n",
       "</style>\n",
       "<small>shape: (2, 5)</small><table border=\"1\" class=\"dataframe\"><thead><tr><th>Niv_Gr_1</th><th>Niv_Gr_2</th><th>Niv_Gr_3</th><th>Niv_Descr_5</th><th>N_Variables</th></tr><tr><td>str</td><td>str</td><td>str</td><td>str</td><td>u32</td></tr></thead><tbody><tr><td>&quot;ESP&quot;</td><td>&quot;CCECH&quot;</td><td>&quot;01&quot;</td><td>&quot;Monto&quot;</td><td>2</td></tr><tr><td>&quot;ESP&quot;</td><td>&quot;CCECH&quot;</td><td>&quot;01&quot;</td><td>&quot;Cantidad&quot;</td><td>2</td></tr></tbody></table></div>"
      ],
      "text/plain": [
       "shape: (2, 5)\n",
       "┌──────────┬──────────┬──────────┬─────────────┬─────────────┐\n",
       "│ Niv_Gr_1 ┆ Niv_Gr_2 ┆ Niv_Gr_3 ┆ Niv_Descr_5 ┆ N_Variables │\n",
       "│ ---      ┆ ---      ┆ ---      ┆ ---         ┆ ---         │\n",
       "│ str      ┆ str      ┆ str      ┆ str         ┆ u32         │\n",
       "╞══════════╪══════════╪══════════╪═════════════╪═════════════╡\n",
       "│ ESP      ┆ CCECH    ┆ 01       ┆ Monto       ┆ 2           │\n",
       "│ ESP      ┆ CCECH    ┆ 01       ┆ Cantidad    ┆ 2           │\n",
       "└──────────┴──────────┴──────────┴─────────────┴─────────────┘"
      ]
     },
     "execution_count": 196,
     "metadata": {},
     "output_type": "execute_result"
    }
   ],
   "source": [
    "res_nivel_4(\n",
    "    \"ESP\",\"CCECH\",\n",
    "    \"Niv_Gr_3\",\"01\",\n",
    "    \"Niv_Descr_5\")"
   ]
  },
  {
   "cell_type": "code",
   "execution_count": 197,
   "id": "e99b92e1",
   "metadata": {},
   "outputs": [
    {
     "name": "stderr",
     "output_type": "stream",
     "text": [
      "<string>:29: FutureWarning:\n",
      "\n",
      "Passing literal json to 'read_json' is deprecated and will be removed in a future version. To read from a literal string, wrap it in a 'StringIO' object.\n",
      "\n"
     ]
    },
    {
     "data": {
      "text/html": [
       "<div><style>\n",
       ".dataframe > thead > tr,\n",
       ".dataframe > tbody > tr {\n",
       "  text-align: right;\n",
       "  white-space: pre-wrap;\n",
       "}\n",
       "</style>\n",
       "<small>shape: (2, 5)</small><table border=\"1\" class=\"dataframe\"><thead><tr><th>Niv_Gr_1</th><th>Niv_Gr_2</th><th>Niv_Gr_3</th><th>Niv_Descr_6</th><th>N_Variables</th></tr><tr><td>str</td><td>str</td><td>str</td><td>str</td><td>u32</td></tr></thead><tbody><tr><td>&quot;ESP&quot;</td><td>&quot;CCECH&quot;</td><td>&quot;01&quot;</td><td>&quot;Dólares&quot;</td><td>2</td></tr><tr><td>&quot;ESP&quot;</td><td>&quot;CCECH&quot;</td><td>&quot;01&quot;</td><td>&quot;Lempiras&quot;</td><td>2</td></tr></tbody></table></div>"
      ],
      "text/plain": [
       "shape: (2, 5)\n",
       "┌──────────┬──────────┬──────────┬─────────────┬─────────────┐\n",
       "│ Niv_Gr_1 ┆ Niv_Gr_2 ┆ Niv_Gr_3 ┆ Niv_Descr_6 ┆ N_Variables │\n",
       "│ ---      ┆ ---      ┆ ---      ┆ ---         ┆ ---         │\n",
       "│ str      ┆ str      ┆ str      ┆ str         ┆ u32         │\n",
       "╞══════════╪══════════╪══════════╪═════════════╪═════════════╡\n",
       "│ ESP      ┆ CCECH    ┆ 01       ┆ Dólares     ┆ 2           │\n",
       "│ ESP      ┆ CCECH    ┆ 01       ┆ Lempiras    ┆ 2           │\n",
       "└──────────┴──────────┴──────────┴─────────────┴─────────────┘"
      ]
     },
     "execution_count": 197,
     "metadata": {},
     "output_type": "execute_result"
    }
   ],
   "source": [
    "res_nivel_4(\n",
    "    \"ESP\",\"CCECH\",\n",
    "    \"Niv_Gr_3\",\"01\",\n",
    "    \"Niv_Descr_6\")"
   ]
  },
  {
   "cell_type": "markdown",
   "id": "9f9ec9ad",
   "metadata": {},
   "source": [
    "Para ver todas las variables:\n"
   ]
  },
  {
   "cell_type": "code",
   "execution_count": 198,
   "id": "d044daee",
   "metadata": {},
   "outputs": [
    {
     "name": "stderr",
     "output_type": "stream",
     "text": [
      "<string>:29: FutureWarning:\n",
      "\n",
      "Passing literal json to 'read_json' is deprecated and will be removed in a future version. To read from a literal string, wrap it in a 'StringIO' object.\n",
      "\n"
     ]
    },
    {
     "data": {
      "text/html": [
       "<div><style>\n",
       ".dataframe > thead > tr,\n",
       ".dataframe > tbody > tr {\n",
       "  text-align: right;\n",
       "  white-space: pre-wrap;\n",
       "}\n",
       "</style>\n",
       "<small>shape: (4, 8)</small><table border=\"1\" class=\"dataframe\"><thead><tr><th>Niv_Gr_1</th><th>Niv_Gr_2</th><th>Niv_Gr_3</th><th>Id</th><th>Nombre</th><th>Niv_Descr_5</th><th>Niv_Descr_6</th><th>N_Variables</th></tr><tr><td>str</td><td>str</td><td>str</td><td>i64</td><td>str</td><td>str</td><td>str</td><td>u32</td></tr></thead><tbody><tr><td>&quot;ESP&quot;</td><td>&quot;CCECH&quot;</td><td>&quot;01&quot;</td><td>618</td><td>&quot;ESP-CCECH-01-4…</td><td>&quot;Monto&quot;</td><td>&quot;Lempiras&quot;</td><td>1</td></tr><tr><td>&quot;ESP&quot;</td><td>&quot;CCECH&quot;</td><td>&quot;01&quot;</td><td>616</td><td>&quot;ESP-CCECH-01-2…</td><td>&quot;Cantidad&quot;</td><td>&quot;Lempiras&quot;</td><td>1</td></tr><tr><td>&quot;ESP&quot;</td><td>&quot;CCECH&quot;</td><td>&quot;01&quot;</td><td>615</td><td>&quot;ESP-CCECH-01-1…</td><td>&quot;Cantidad&quot;</td><td>&quot;Dólares&quot;</td><td>1</td></tr><tr><td>&quot;ESP&quot;</td><td>&quot;CCECH&quot;</td><td>&quot;01&quot;</td><td>617</td><td>&quot;ESP-CCECH-01-3…</td><td>&quot;Monto&quot;</td><td>&quot;Dólares&quot;</td><td>1</td></tr></tbody></table></div>"
      ],
      "text/plain": [
       "shape: (4, 8)\n",
       "┌──────────┬──────────┬──────────┬─────┬────────────────┬─────────────┬─────────────┬─────────────┐\n",
       "│ Niv_Gr_1 ┆ Niv_Gr_2 ┆ Niv_Gr_3 ┆ Id  ┆ Nombre         ┆ Niv_Descr_5 ┆ Niv_Descr_6 ┆ N_Variables │\n",
       "│ ---      ┆ ---      ┆ ---      ┆ --- ┆ ---            ┆ ---         ┆ ---         ┆ ---         │\n",
       "│ str      ┆ str      ┆ str      ┆ i64 ┆ str            ┆ str         ┆ str         ┆ u32         │\n",
       "╞══════════╪══════════╪══════════╪═════╪════════════════╪═════════════╪═════════════╪═════════════╡\n",
       "│ ESP      ┆ CCECH    ┆ 01       ┆ 618 ┆ ESP-CCECH-01-4 ┆ Monto       ┆ Lempiras    ┆ 1           │\n",
       "│ ESP      ┆ CCECH    ┆ 01       ┆ 616 ┆ ESP-CCECH-01-2 ┆ Cantidad    ┆ Lempiras    ┆ 1           │\n",
       "│ ESP      ┆ CCECH    ┆ 01       ┆ 615 ┆ ESP-CCECH-01-1 ┆ Cantidad    ┆ Dólares     ┆ 1           │\n",
       "│ ESP      ┆ CCECH    ┆ 01       ┆ 617 ┆ ESP-CCECH-01-3 ┆ Monto       ┆ Dólares     ┆ 1           │\n",
       "└──────────┴──────────┴──────────┴─────┴────────────────┴─────────────┴─────────────┴─────────────┘"
      ]
     },
     "execution_count": 198,
     "metadata": {},
     "output_type": "execute_result"
    }
   ],
   "source": [
    "res_nivel_7(\n",
    "    \"ESP\",\"CCECH\",\n",
    "    \"Niv_Gr_3\",\"01\",\n",
    "    \"Id\",\"Nombre\",\"Niv_Descr_5\",\"Niv_Descr_6\")"
   ]
  },
  {
   "cell_type": "markdown",
   "id": "f37bfdf0",
   "metadata": {},
   "source": [
    "Resultados de una sola variable:\n"
   ]
  },
  {
   "cell_type": "code",
   "execution_count": 199,
   "id": "e1a7e948",
   "metadata": {},
   "outputs": [
    {
     "name": "stderr",
     "output_type": "stream",
     "text": [
      "<string>:29: FutureWarning:\n",
      "\n",
      "Passing literal json to 'read_json' is deprecated and will be removed in a future version. To read from a literal string, wrap it in a 'StringIO' object.\n",
      "\n"
     ]
    },
    {
     "name": "stderr",
     "output_type": "stream",
     "text": [
      "<string>:29: FutureWarning:\n",
      "\n",
      "Passing literal json to 'read_json' is deprecated and will be removed in a future version. To read from a literal string, wrap it in a 'StringIO' object.\n",
      "\n"
     ]
    },
    {
     "data": {
      "text/html": [
       "<div><style>\n",
       ".dataframe > thead > tr,\n",
       ".dataframe > tbody > tr {\n",
       "  text-align: right;\n",
       "  white-space: pre-wrap;\n",
       "}\n",
       "</style>\n",
       "<small>shape: (340, 2)</small><table border=\"1\" class=\"dataframe\"><thead><tr><th>Fecha</th><th>ESP-CCECH-01-1-Cantidad-Dólares</th></tr><tr><td>date</td><td>i64</td></tr></thead><tbody><tr><td>2024-02-01</td><td>1412</td></tr><tr><td>2024-02-01</td><td>1412</td></tr><tr><td>2024-01-01</td><td>1490</td></tr><tr><td>2024-01-01</td><td>1490</td></tr><tr><td>2023-12-01</td><td>1472</td></tr><tr><td>&hellip;</td><td>&hellip;</td></tr><tr><td>2010-03-01</td><td>11828</td></tr><tr><td>2010-02-01</td><td>10124</td></tr><tr><td>2010-02-01</td><td>10124</td></tr><tr><td>2010-01-01</td><td>9344</td></tr><tr><td>2010-01-01</td><td>9344</td></tr></tbody></table></div>"
      ],
      "text/plain": [
       "shape: (340, 2)\n",
       "┌────────────┬─────────────────────────────────┐\n",
       "│ Fecha      ┆ ESP-CCECH-01-1-Cantidad-Dólares │\n",
       "│ ---        ┆ ---                             │\n",
       "│ date       ┆ i64                             │\n",
       "╞════════════╪═════════════════════════════════╡\n",
       "│ 2024-02-01 ┆ 1412                            │\n",
       "│ 2024-02-01 ┆ 1412                            │\n",
       "│ 2024-01-01 ┆ 1490                            │\n",
       "│ 2024-01-01 ┆ 1490                            │\n",
       "│ 2023-12-01 ┆ 1472                            │\n",
       "│ …          ┆ …                               │\n",
       "│ 2010-03-01 ┆ 11828                           │\n",
       "│ 2010-02-01 ┆ 10124                           │\n",
       "│ 2010-02-01 ┆ 10124                           │\n",
       "│ 2010-01-01 ┆ 9344                            │\n",
       "│ 2010-01-01 ┆ 9344                            │\n",
       "└────────────┴─────────────────────────────────┘"
      ]
     },
     "execution_count": 199,
     "metadata": {},
     "output_type": "execute_result"
    }
   ],
   "source": [
    "Id = 615\n",
    "df = get_df(Id)\n",
    "# get_plot(Id)\n",
    "df"
   ]
  },
  {
   "cell_type": "markdown",
   "id": "f2bef67e",
   "metadata": {},
   "source": [
    "### EM = Estadísticas Monetarias (TPM y RIN)\n"
   ]
  },
  {
   "cell_type": "code",
   "execution_count": 200,
   "id": "f82a7bbd",
   "metadata": {},
   "outputs": [
    {
     "name": "stdout",
     "output_type": "stream",
     "text": [
      "11519 variables\n",
      "54 grupos\n",
      "2 variables\n",
      "2 grupos\n",
      "2 subgrupos\n"
     ]
    },
    {
     "name": "stderr",
     "output_type": "stream",
     "text": [
      "<string>:29: FutureWarning:\n",
      "\n",
      "Passing literal json to 'read_json' is deprecated and will be removed in a future version. To read from a literal string, wrap it in a 'StringIO' object.\n",
      "\n"
     ]
    },
    {
     "data": {
      "text/html": [
       "<div><style>\n",
       ".dataframe > thead > tr,\n",
       ".dataframe > tbody > tr {\n",
       "  text-align: right;\n",
       "  white-space: pre-wrap;\n",
       "}\n",
       "</style>\n",
       "<small>shape: (2, 4)</small><table border=\"1\" class=\"dataframe\"><thead><tr><th>Niv_Gr_1</th><th>Niv_Gr_2</th><th>N_Variables</th><th>N_Niv_Gr_2</th></tr><tr><td>str</td><td>str</td><td>u32</td><td>u32</td></tr></thead><tbody><tr><td>&quot;EM&quot;</td><td>&quot;TPM&quot;</td><td>1</td><td>1</td></tr><tr><td>&quot;EM&quot;</td><td>&quot;RIN&quot;</td><td>1</td><td>1</td></tr></tbody></table></div>"
      ],
      "text/plain": [
       "shape: (2, 4)\n",
       "┌──────────┬──────────┬─────────────┬────────────┐\n",
       "│ Niv_Gr_1 ┆ Niv_Gr_2 ┆ N_Variables ┆ N_Niv_Gr_2 │\n",
       "│ ---      ┆ ---      ┆ ---         ┆ ---        │\n",
       "│ str      ┆ str      ┆ u32         ┆ u32        │\n",
       "╞══════════╪══════════╪═════════════╪════════════╡\n",
       "│ EM       ┆ TPM      ┆ 1           ┆ 1          │\n",
       "│ EM       ┆ RIN      ┆ 1           ┆ 1          │\n",
       "└──────────┴──────────┴─────────────┴────────────┘"
      ]
     },
     "execution_count": 200,
     "metadata": {},
     "output_type": "execute_result"
    }
   ],
   "source": [
    "res_nivel_2(\"EM\")"
   ]
  },
  {
   "cell_type": "markdown",
   "id": "d73b392b",
   "metadata": {},
   "source": [
    "#### RIN = Reservas Internacionales Netas\n"
   ]
  },
  {
   "cell_type": "code",
   "execution_count": 201,
   "id": "206d2430",
   "metadata": {},
   "outputs": [
    {
     "name": "stdout",
     "output_type": "stream",
     "text": [
      "1 subgrupos\n",
      "10 variables\n"
     ]
    },
    {
     "name": "stderr",
     "output_type": "stream",
     "text": [
      "<string>:29: FutureWarning:\n",
      "\n",
      "Passing literal json to 'read_json' is deprecated and will be removed in a future version. To read from a literal string, wrap it in a 'StringIO' object.\n",
      "\n"
     ]
    },
    {
     "data": {
      "text/html": [
       "<div><style>\n",
       ".dataframe > thead > tr,\n",
       ".dataframe > tbody > tr {\n",
       "  text-align: right;\n",
       "  white-space: pre-wrap;\n",
       "}\n",
       "</style>\n",
       "<small>shape: (1, 4)</small><table border=\"1\" class=\"dataframe\"><thead><tr><th>Niv_Gr_1</th><th>Niv_Gr_2</th><th>Niv_Gr_3</th><th>N_Variables</th></tr><tr><td>str</td><td>str</td><td>str</td><td>u32</td></tr></thead><tbody><tr><td>&quot;EM&quot;</td><td>&quot;RIN&quot;</td><td>&quot;01&quot;</td><td>10</td></tr></tbody></table></div>"
      ],
      "text/plain": [
       "shape: (1, 4)\n",
       "┌──────────┬──────────┬──────────┬─────────────┐\n",
       "│ Niv_Gr_1 ┆ Niv_Gr_2 ┆ Niv_Gr_3 ┆ N_Variables │\n",
       "│ ---      ┆ ---      ┆ ---      ┆ ---         │\n",
       "│ str      ┆ str      ┆ str      ┆ u32         │\n",
       "╞══════════╪══════════╪══════════╪═════════════╡\n",
       "│ EM       ┆ RIN      ┆ 01       ┆ 10          │\n",
       "└──────────┴──────────┴──────────┴─────────────┘"
      ]
     },
     "execution_count": 201,
     "metadata": {},
     "output_type": "execute_result"
    }
   ],
   "source": [
    "res_nivel_3(\"EM\",\"RIN\",\"Niv_Gr_3\").sort(\"Niv_Gr_3\")"
   ]
  },
  {
   "cell_type": "markdown",
   "id": "8cd0d533",
   "metadata": {},
   "source": [
    "* Saldo\n",
    "* Variación\n",
    "\n",
    "Variables:\n",
    "\n",
    "* Reservas Internacionales Netas\n",
    "* Activos de Reserva Oficial\n"
   ]
  },
  {
   "cell_type": "code",
   "execution_count": 202,
   "id": "b661ae9b",
   "metadata": {},
   "outputs": [
    {
     "name": "stderr",
     "output_type": "stream",
     "text": [
      "<string>:29: FutureWarning:\n",
      "\n",
      "Passing literal json to 'read_json' is deprecated and will be removed in a future version. To read from a literal string, wrap it in a 'StringIO' object.\n",
      "\n"
     ]
    },
    {
     "data": {
      "text/html": [
       "<div><style>\n",
       ".dataframe > thead > tr,\n",
       ".dataframe > tbody > tr {\n",
       "  text-align: right;\n",
       "  white-space: pre-wrap;\n",
       "}\n",
       "</style>\n",
       "<small>shape: (2, 5)</small><table border=\"1\" class=\"dataframe\"><thead><tr><th>Niv_Gr_1</th><th>Niv_Gr_2</th><th>Niv_Gr_3</th><th>Niv_Descr_4</th><th>N_Variables</th></tr><tr><td>str</td><td>str</td><td>str</td><td>str</td><td>u32</td></tr></thead><tbody><tr><td>&quot;EM&quot;</td><td>&quot;RIN&quot;</td><td>&quot;01&quot;</td><td>&quot; Reservas Inte…</td><td>5</td></tr><tr><td>&quot;EM&quot;</td><td>&quot;RIN&quot;</td><td>&quot;01&quot;</td><td>&quot; Activos de Re…</td><td>5</td></tr></tbody></table></div>"
      ],
      "text/plain": [
       "shape: (2, 5)\n",
       "┌──────────┬──────────┬──────────┬──────────────────────────────────┬─────────────┐\n",
       "│ Niv_Gr_1 ┆ Niv_Gr_2 ┆ Niv_Gr_3 ┆ Niv_Descr_4                      ┆ N_Variables │\n",
       "│ ---      ┆ ---      ┆ ---      ┆ ---                              ┆ ---         │\n",
       "│ str      ┆ str      ┆ str      ┆ str                              ┆ u32         │\n",
       "╞══════════╪══════════╪══════════╪══════════════════════════════════╪═════════════╡\n",
       "│ EM       ┆ RIN      ┆ 01       ┆  Reservas Internacionales Netas  ┆ 5           │\n",
       "│ EM       ┆ RIN      ┆ 01       ┆  Activos de Reserva Oficial      ┆ 5           │\n",
       "└──────────┴──────────┴──────────┴──────────────────────────────────┴─────────────┘"
      ]
     },
     "execution_count": 202,
     "metadata": {},
     "output_type": "execute_result"
    }
   ],
   "source": [
    "res_nivel_4(\n",
    "    \"EM\",\"RIN\",\n",
    "    \"Niv_Gr_3\",\"01\",\n",
    "    \"Niv_Descr_4\")"
   ]
  },
  {
   "cell_type": "code",
   "execution_count": 203,
   "id": "37f049b9",
   "metadata": {},
   "outputs": [
    {
     "name": "stderr",
     "output_type": "stream",
     "text": [
      "<string>:29: FutureWarning:\n",
      "\n",
      "Passing literal json to 'read_json' is deprecated and will be removed in a future version. To read from a literal string, wrap it in a 'StringIO' object.\n",
      "\n"
     ]
    },
    {
     "data": {
      "text/html": [
       "<div><style>\n",
       ".dataframe > thead > tr,\n",
       ".dataframe > tbody > tr {\n",
       "  text-align: right;\n",
       "  white-space: pre-wrap;\n",
       "}\n",
       "</style>\n",
       "<small>shape: (5, 5)</small><table border=\"1\" class=\"dataframe\"><thead><tr><th>Niv_Gr_1</th><th>Niv_Gr_2</th><th>Niv_Gr_3</th><th>Niv_Descr_5</th><th>N_Variables</th></tr><tr><td>str</td><td>str</td><td>str</td><td>str</td><td>u32</td></tr></thead><tbody><tr><td>&quot;EM&quot;</td><td>&quot;RIN&quot;</td><td>&quot;01&quot;</td><td>&quot; Saldo&quot;</td><td>2</td></tr><tr><td>&quot;EM&quot;</td><td>&quot;RIN&quot;</td><td>&quot;01&quot;</td><td>&quot; Variación Abs…</td><td>2</td></tr><tr><td>&quot;EM&quot;</td><td>&quot;RIN&quot;</td><td>&quot;01&quot;</td><td>&quot; Variación Abs…</td><td>2</td></tr><tr><td>&quot;EM&quot;</td><td>&quot;RIN&quot;</td><td>&quot;01&quot;</td><td>&quot; Variación Int…</td><td>2</td></tr><tr><td>&quot;EM&quot;</td><td>&quot;RIN&quot;</td><td>&quot;01&quot;</td><td>&quot; Variación Abs…</td><td>2</td></tr></tbody></table></div>"
      ],
      "text/plain": [
       "shape: (5, 5)\n",
       "┌──────────┬──────────┬──────────┬───────────────────────────────────┬─────────────┐\n",
       "│ Niv_Gr_1 ┆ Niv_Gr_2 ┆ Niv_Gr_3 ┆ Niv_Descr_5                       ┆ N_Variables │\n",
       "│ ---      ┆ ---      ┆ ---      ┆ ---                               ┆ ---         │\n",
       "│ str      ┆ str      ┆ str      ┆ str                               ┆ u32         │\n",
       "╞══════════╪══════════╪══════════╪═══════════════════════════════════╪═════════════╡\n",
       "│ EM       ┆ RIN      ┆ 01       ┆  Saldo                            ┆ 2           │\n",
       "│ EM       ┆ RIN      ┆ 01       ┆  Variación Absoluta Acumulada     ┆ 2           │\n",
       "│ EM       ┆ RIN      ┆ 01       ┆  Variación Absoluta Interanual    ┆ 2           │\n",
       "│ EM       ┆ RIN      ┆ 01       ┆  Variación Interanual en porcent… ┆ 2           │\n",
       "│ EM       ┆ RIN      ┆ 01       ┆  Variación Absoluta Mensual       ┆ 2           │\n",
       "└──────────┴──────────┴──────────┴───────────────────────────────────┴─────────────┘"
      ]
     },
     "execution_count": 203,
     "metadata": {},
     "output_type": "execute_result"
    }
   ],
   "source": [
    "res_nivel_4(\n",
    "    \"EM\",\"RIN\",\n",
    "    \"Niv_Gr_3\",\"01\",\n",
    "    \"Niv_Descr_5\")"
   ]
  },
  {
   "cell_type": "markdown",
   "id": "6cc2600f",
   "metadata": {},
   "source": [
    "Para ver todas las variables:\n"
   ]
  },
  {
   "cell_type": "code",
   "execution_count": 204,
   "id": "f4d21bb6",
   "metadata": {},
   "outputs": [
    {
     "name": "stderr",
     "output_type": "stream",
     "text": [
      "<string>:29: FutureWarning:\n",
      "\n",
      "Passing literal json to 'read_json' is deprecated and will be removed in a future version. To read from a literal string, wrap it in a 'StringIO' object.\n",
      "\n"
     ]
    },
    {
     "data": {
      "text/html": [
       "<div><style>\n",
       ".dataframe > thead > tr,\n",
       ".dataframe > tbody > tr {\n",
       "  text-align: right;\n",
       "  white-space: pre-wrap;\n",
       "}\n",
       "</style>\n",
       "<small>shape: (10, 8)</small><table border=\"1\" class=\"dataframe\"><thead><tr><th>Niv_Gr_1</th><th>Niv_Gr_2</th><th>Niv_Gr_3</th><th>Id</th><th>Nombre</th><th>Niv_Descr_4</th><th>Niv_Descr_5</th><th>N_Variables</th></tr><tr><td>str</td><td>str</td><td>str</td><td>i64</td><td>str</td><td>str</td><td>str</td><td>u32</td></tr></thead><tbody><tr><td>&quot;EM&quot;</td><td>&quot;RIN&quot;</td><td>&quot;01&quot;</td><td>527</td><td>&quot;EM-RIN-01-5&quot;</td><td>&quot; Reservas Inte…</td><td>&quot; Variación Abs…</td><td>1</td></tr><tr><td>&quot;EM&quot;</td><td>&quot;RIN&quot;</td><td>&quot;01&quot;</td><td>531</td><td>&quot;EM-RIN-01-9&quot;</td><td>&quot; Activos de Re…</td><td>&quot; Variación Abs…</td><td>1</td></tr><tr><td>&quot;EM&quot;</td><td>&quot;RIN&quot;</td><td>&quot;01&quot;</td><td>532</td><td>&quot;EM-RIN-01-10&quot;</td><td>&quot; Activos de Re…</td><td>&quot; Variación Abs…</td><td>1</td></tr><tr><td>&quot;EM&quot;</td><td>&quot;RIN&quot;</td><td>&quot;01&quot;</td><td>524</td><td>&quot;EM-RIN-01-1&quot;</td><td>&quot; Reservas Inte…</td><td>&quot; Saldo&quot;</td><td>1</td></tr><tr><td>&quot;EM&quot;</td><td>&quot;RIN&quot;</td><td>&quot;01&quot;</td><td>526</td><td>&quot;EM-RIN-01-4&quot;</td><td>&quot; Reservas Inte…</td><td>&quot; Variación Abs…</td><td>1</td></tr><tr><td>&quot;EM&quot;</td><td>&quot;RIN&quot;</td><td>&quot;01&quot;</td><td>533</td><td>&quot;EM-RIN-01-2&quot;</td><td>&quot; Activos de Re…</td><td>&quot; Variación Int…</td><td>1</td></tr><tr><td>&quot;EM&quot;</td><td>&quot;RIN&quot;</td><td>&quot;01&quot;</td><td>528</td><td>&quot;EM-RIN-01-6&quot;</td><td>&quot; Reservas Inte…</td><td>&quot; Variación Int…</td><td>1</td></tr><tr><td>&quot;EM&quot;</td><td>&quot;RIN&quot;</td><td>&quot;01&quot;</td><td>529</td><td>&quot;EM-RIN-01-7&quot;</td><td>&quot; Activos de Re…</td><td>&quot; Saldo&quot;</td><td>1</td></tr><tr><td>&quot;EM&quot;</td><td>&quot;RIN&quot;</td><td>&quot;01&quot;</td><td>530</td><td>&quot;EM-RIN-01-8&quot;</td><td>&quot; Activos de Re…</td><td>&quot; Variación Abs…</td><td>1</td></tr><tr><td>&quot;EM&quot;</td><td>&quot;RIN&quot;</td><td>&quot;01&quot;</td><td>525</td><td>&quot;EM-RIN-01-3&quot;</td><td>&quot; Reservas Inte…</td><td>&quot; Variación Abs…</td><td>1</td></tr></tbody></table></div>"
      ],
      "text/plain": [
       "shape: (10, 8)\n",
       "┌──────────┬──────────┬──────────┬─────┬──────────────┬───────────────┬──────────────┬─────────────┐\n",
       "│ Niv_Gr_1 ┆ Niv_Gr_2 ┆ Niv_Gr_3 ┆ Id  ┆ Nombre       ┆ Niv_Descr_4   ┆ Niv_Descr_5  ┆ N_Variables │\n",
       "│ ---      ┆ ---      ┆ ---      ┆ --- ┆ ---          ┆ ---           ┆ ---          ┆ ---         │\n",
       "│ str      ┆ str      ┆ str      ┆ i64 ┆ str          ┆ str           ┆ str          ┆ u32         │\n",
       "╞══════════╪══════════╪══════════╪═════╪══════════════╪═══════════════╪══════════════╪═════════════╡\n",
       "│ EM       ┆ RIN      ┆ 01       ┆ 527 ┆ EM-RIN-01-5  ┆ Reservas Inte ┆ Variación    ┆ 1           │\n",
       "│          ┆          ┆          ┆     ┆              ┆ rnacionales   ┆ Absoluta     ┆             │\n",
       "│          ┆          ┆          ┆     ┆              ┆ Netas         ┆ Interanual   ┆             │\n",
       "│ EM       ┆ RIN      ┆ 01       ┆ 531 ┆ EM-RIN-01-9  ┆ Activos de    ┆ Variación    ┆ 1           │\n",
       "│          ┆          ┆          ┆     ┆              ┆ Reserva       ┆ Absoluta     ┆             │\n",
       "│          ┆          ┆          ┆     ┆              ┆ Oficial       ┆ Acumulada    ┆             │\n",
       "│ EM       ┆ RIN      ┆ 01       ┆ 532 ┆ EM-RIN-01-10 ┆ Activos de    ┆ Variación    ┆ 1           │\n",
       "│          ┆          ┆          ┆     ┆              ┆ Reserva       ┆ Absoluta     ┆             │\n",
       "│          ┆          ┆          ┆     ┆              ┆ Oficial       ┆ Interanual   ┆             │\n",
       "│ EM       ┆ RIN      ┆ 01       ┆ 524 ┆ EM-RIN-01-1  ┆ Reservas Inte ┆  Saldo       ┆ 1           │\n",
       "│          ┆          ┆          ┆     ┆              ┆ rnacionales   ┆              ┆             │\n",
       "│          ┆          ┆          ┆     ┆              ┆ Netas         ┆              ┆             │\n",
       "│ EM       ┆ RIN      ┆ 01       ┆ 526 ┆ EM-RIN-01-4  ┆ Reservas Inte ┆ Variación    ┆ 1           │\n",
       "│          ┆          ┆          ┆     ┆              ┆ rnacionales   ┆ Absoluta     ┆             │\n",
       "│          ┆          ┆          ┆     ┆              ┆ Netas         ┆ Acumulada    ┆             │\n",
       "│ EM       ┆ RIN      ┆ 01       ┆ 533 ┆ EM-RIN-01-2  ┆ Activos de    ┆ Variación    ┆ 1           │\n",
       "│          ┆          ┆          ┆     ┆              ┆ Reserva       ┆ Interanual   ┆             │\n",
       "│          ┆          ┆          ┆     ┆              ┆ Oficial       ┆ en porcent…  ┆             │\n",
       "│ EM       ┆ RIN      ┆ 01       ┆ 528 ┆ EM-RIN-01-6  ┆ Reservas Inte ┆ Variación    ┆ 1           │\n",
       "│          ┆          ┆          ┆     ┆              ┆ rnacionales   ┆ Interanual   ┆             │\n",
       "│          ┆          ┆          ┆     ┆              ┆ Netas         ┆ en porcent…  ┆             │\n",
       "│ EM       ┆ RIN      ┆ 01       ┆ 529 ┆ EM-RIN-01-7  ┆ Activos de    ┆  Saldo       ┆ 1           │\n",
       "│          ┆          ┆          ┆     ┆              ┆ Reserva       ┆              ┆             │\n",
       "│          ┆          ┆          ┆     ┆              ┆ Oficial       ┆              ┆             │\n",
       "│ EM       ┆ RIN      ┆ 01       ┆ 530 ┆ EM-RIN-01-8  ┆ Activos de    ┆ Variación    ┆ 1           │\n",
       "│          ┆          ┆          ┆     ┆              ┆ Reserva       ┆ Absoluta     ┆             │\n",
       "│          ┆          ┆          ┆     ┆              ┆ Oficial       ┆ Mensual      ┆             │\n",
       "│ EM       ┆ RIN      ┆ 01       ┆ 525 ┆ EM-RIN-01-3  ┆ Reservas Inte ┆ Variación    ┆ 1           │\n",
       "│          ┆          ┆          ┆     ┆              ┆ rnacionales   ┆ Absoluta     ┆             │\n",
       "│          ┆          ┆          ┆     ┆              ┆ Netas         ┆ Mensual      ┆             │\n",
       "└──────────┴──────────┴──────────┴─────┴──────────────┴───────────────┴──────────────┴─────────────┘"
      ]
     },
     "execution_count": 204,
     "metadata": {},
     "output_type": "execute_result"
    }
   ],
   "source": [
    "res_nivel_7(\n",
    "    \"EM\",\"RIN\",\n",
    "    \"Niv_Gr_3\",\"01\",\n",
    "    \"Id\",\"Nombre\",\"Niv_Descr_4\",\"Niv_Descr_5\")"
   ]
  },
  {
   "cell_type": "markdown",
   "id": "5623f48c",
   "metadata": {},
   "source": [
    "Resultados de una sola variable:\n"
   ]
  },
  {
   "cell_type": "code",
   "execution_count": 205,
   "id": "5262de1a",
   "metadata": {},
   "outputs": [
    {
     "name": "stderr",
     "output_type": "stream",
     "text": [
      "<string>:29: FutureWarning:\n",
      "\n",
      "Passing literal json to 'read_json' is deprecated and will be removed in a future version. To read from a literal string, wrap it in a 'StringIO' object.\n",
      "\n"
     ]
    },
    {
     "name": "stderr",
     "output_type": "stream",
     "text": [
      "<string>:29: FutureWarning:\n",
      "\n",
      "Passing literal json to 'read_json' is deprecated and will be removed in a future version. To read from a literal string, wrap it in a 'StringIO' object.\n",
      "\n"
     ]
    },
    {
     "data": {
      "text/html": [
       "<div><style>\n",
       ".dataframe > thead > tr,\n",
       ".dataframe > tbody > tr {\n",
       "  text-align: right;\n",
       "  white-space: pre-wrap;\n",
       "}\n",
       "</style>\n",
       "<small>shape: (532, 2)</small><table border=\"1\" class=\"dataframe\"><thead><tr><th>Fecha</th><th>EM-RIN-01 - Activos de Reserva Oficial - Variación Absoluta Interanual</th></tr><tr><td>date</td><td>f64</td></tr></thead><tbody><tr><td>2024-03-01</td><td>-993.6543</td></tr><tr><td>2024-02-01</td><td>-953.5449</td></tr><tr><td>2024-01-01</td><td>-948.2284</td></tr><tr><td>2024-01-01</td><td>-948.2284</td></tr><tr><td>2023-12-01</td><td>-863.6644</td></tr><tr><td>&hellip;</td><td>&hellip;</td></tr><tr><td>2002-03-01</td><td>1600.73</td></tr><tr><td>2002-02-01</td><td>1570.3292</td></tr><tr><td>2002-02-01</td><td>1570.3292</td></tr><tr><td>2002-01-01</td><td>1547.119</td></tr><tr><td>2002-01-01</td><td>1547.119</td></tr></tbody></table></div>"
      ],
      "text/plain": [
       "shape: (532, 2)\n",
       "┌────────────┬───────────────────────────────────┐\n",
       "│ Fecha      ┆ EM-RIN-01 - Activos de Reserva O… │\n",
       "│ ---        ┆ ---                               │\n",
       "│ date       ┆ f64                               │\n",
       "╞════════════╪═══════════════════════════════════╡\n",
       "│ 2024-03-01 ┆ -993.6543                         │\n",
       "│ 2024-02-01 ┆ -953.5449                         │\n",
       "│ 2024-01-01 ┆ -948.2284                         │\n",
       "│ 2024-01-01 ┆ -948.2284                         │\n",
       "│ 2023-12-01 ┆ -863.6644                         │\n",
       "│ …          ┆ …                                 │\n",
       "│ 2002-03-01 ┆ 1600.73                           │\n",
       "│ 2002-02-01 ┆ 1570.3292                         │\n",
       "│ 2002-02-01 ┆ 1570.3292                         │\n",
       "│ 2002-01-01 ┆ 1547.119                          │\n",
       "│ 2002-01-01 ┆ 1547.119                          │\n",
       "└────────────┴───────────────────────────────────┘"
      ]
     },
     "execution_count": 205,
     "metadata": {},
     "output_type": "execute_result"
    }
   ],
   "source": [
    "Id = 532\n",
    "df = get_df(Id)\n",
    "# get_plot(Id)\n",
    "df"
   ]
  },
  {
   "cell_type": "markdown",
   "id": "847c5cae",
   "metadata": {},
   "source": [
    "#### TPM = Tasa de Política Monetaria\n"
   ]
  },
  {
   "cell_type": "code",
   "execution_count": 206,
   "id": "a0282e04",
   "metadata": {},
   "outputs": [
    {
     "name": "stdout",
     "output_type": "stream",
     "text": [
      "1 subgrupos\n",
      "2 variables\n"
     ]
    },
    {
     "name": "stderr",
     "output_type": "stream",
     "text": [
      "<string>:29: FutureWarning:\n",
      "\n",
      "Passing literal json to 'read_json' is deprecated and will be removed in a future version. To read from a literal string, wrap it in a 'StringIO' object.\n",
      "\n"
     ]
    },
    {
     "data": {
      "text/html": [
       "<div><style>\n",
       ".dataframe > thead > tr,\n",
       ".dataframe > tbody > tr {\n",
       "  text-align: right;\n",
       "  white-space: pre-wrap;\n",
       "}\n",
       "</style>\n",
       "<small>shape: (1, 4)</small><table border=\"1\" class=\"dataframe\"><thead><tr><th>Niv_Gr_1</th><th>Niv_Gr_2</th><th>Niv_Gr_3</th><th>N_Variables</th></tr><tr><td>str</td><td>str</td><td>str</td><td>u32</td></tr></thead><tbody><tr><td>&quot;EM&quot;</td><td>&quot;TPM&quot;</td><td>&quot;01&quot;</td><td>2</td></tr></tbody></table></div>"
      ],
      "text/plain": [
       "shape: (1, 4)\n",
       "┌──────────┬──────────┬──────────┬─────────────┐\n",
       "│ Niv_Gr_1 ┆ Niv_Gr_2 ┆ Niv_Gr_3 ┆ N_Variables │\n",
       "│ ---      ┆ ---      ┆ ---      ┆ ---         │\n",
       "│ str      ┆ str      ┆ str      ┆ u32         │\n",
       "╞══════════╪══════════╪══════════╪═════════════╡\n",
       "│ EM       ┆ TPM      ┆ 01       ┆ 2           │\n",
       "└──────────┴──────────┴──────────┴─────────────┘"
      ]
     },
     "execution_count": 206,
     "metadata": {},
     "output_type": "execute_result"
    }
   ],
   "source": [
    "res_nivel_3(\"EM\",\"TPM\",\"Niv_Gr_3\")"
   ]
  },
  {
   "cell_type": "markdown",
   "id": "391050a0",
   "metadata": {},
   "source": [
    "Para ver todas las variables:\n"
   ]
  },
  {
   "cell_type": "code",
   "execution_count": 207,
   "id": "8305f853",
   "metadata": {},
   "outputs": [
    {
     "name": "stderr",
     "output_type": "stream",
     "text": [
      "<string>:29: FutureWarning:\n",
      "\n",
      "Passing literal json to 'read_json' is deprecated and will be removed in a future version. To read from a literal string, wrap it in a 'StringIO' object.\n",
      "\n"
     ]
    },
    {
     "data": {
      "text/html": [
       "<div><style>\n",
       ".dataframe > thead > tr,\n",
       ".dataframe > tbody > tr {\n",
       "  text-align: right;\n",
       "  white-space: pre-wrap;\n",
       "}\n",
       "</style>\n",
       "<small>shape: (2, 8)</small><table border=\"1\" class=\"dataframe\"><thead><tr><th>Niv_Gr_1</th><th>Niv_Gr_2</th><th>Niv_Gr_3</th><th>Id</th><th>Nombre</th><th>Niv_Descr_1</th><th>Niv_Descr_2</th><th>N_Variables</th></tr><tr><td>str</td><td>str</td><td>str</td><td>i64</td><td>str</td><td>str</td><td>str</td><td>u32</td></tr></thead><tbody><tr><td>&quot;EM&quot;</td><td>&quot;TPM&quot;</td><td>&quot;01&quot;</td><td>699</td><td>&quot;EM-TPM-01-1&quot;</td><td>&quot;Tasa Politica …</td><td>&quot; Diario&quot;</td><td>1</td></tr><tr><td>&quot;EM&quot;</td><td>&quot;TPM&quot;</td><td>&quot;01&quot;</td><td>700</td><td>&quot;EM-TPM-01-2&quot;</td><td>&quot;Tasa Politica …</td><td>&quot; Mensual&quot;</td><td>1</td></tr></tbody></table></div>"
      ],
      "text/plain": [
       "shape: (2, 8)\n",
       "┌──────────┬──────────┬──────────┬─────┬─────────────┬─────────────────┬─────────────┬─────────────┐\n",
       "│ Niv_Gr_1 ┆ Niv_Gr_2 ┆ Niv_Gr_3 ┆ Id  ┆ Nombre      ┆ Niv_Descr_1     ┆ Niv_Descr_2 ┆ N_Variables │\n",
       "│ ---      ┆ ---      ┆ ---      ┆ --- ┆ ---         ┆ ---             ┆ ---         ┆ ---         │\n",
       "│ str      ┆ str      ┆ str      ┆ i64 ┆ str         ┆ str             ┆ str         ┆ u32         │\n",
       "╞══════════╪══════════╪══════════╪═════╪═════════════╪═════════════════╪═════════════╪═════════════╡\n",
       "│ EM       ┆ TPM      ┆ 01       ┆ 699 ┆ EM-TPM-01-1 ┆ Tasa Politica   ┆  Diario     ┆ 1           │\n",
       "│          ┆          ┆          ┆     ┆             ┆ Monetaria       ┆             ┆             │\n",
       "│ EM       ┆ TPM      ┆ 01       ┆ 700 ┆ EM-TPM-01-2 ┆ Tasa Politica   ┆  Mensual    ┆ 1           │\n",
       "│          ┆          ┆          ┆     ┆             ┆ Monetaria       ┆             ┆             │\n",
       "└──────────┴──────────┴──────────┴─────┴─────────────┴─────────────────┴─────────────┴─────────────┘"
      ]
     },
     "execution_count": 207,
     "metadata": {},
     "output_type": "execute_result"
    }
   ],
   "source": [
    "res_nivel_7(\n",
    "    \"EM\",\"TPM\",\n",
    "    \"Niv_Gr_3\",\"01\",\n",
    "    \"Id\",\"Nombre\",\"Niv_Descr_1\",\"Niv_Descr_2\").sort(\"Niv_Descr_2\")"
   ]
  },
  {
   "cell_type": "markdown",
   "id": "50df6624",
   "metadata": {},
   "source": [
    "Resultados de una sola variable:\n"
   ]
  },
  {
   "cell_type": "code",
   "execution_count": 208,
   "id": "d10ac458",
   "metadata": {},
   "outputs": [
    {
     "name": "stderr",
     "output_type": "stream",
     "text": [
      "<string>:29: FutureWarning:\n",
      "\n",
      "Passing literal json to 'read_json' is deprecated and will be removed in a future version. To read from a literal string, wrap it in a 'StringIO' object.\n",
      "\n"
     ]
    },
    {
     "name": "stderr",
     "output_type": "stream",
     "text": [
      "<string>:29: FutureWarning:\n",
      "\n",
      "Passing literal json to 'read_json' is deprecated and will be removed in a future version. To read from a literal string, wrap it in a 'StringIO' object.\n",
      "\n"
     ]
    },
    {
     "data": {
      "text/html": [
       "<div><style>\n",
       ".dataframe > thead > tr,\n",
       ".dataframe > tbody > tr {\n",
       "  text-align: right;\n",
       "  white-space: pre-wrap;\n",
       "}\n",
       "</style>\n",
       "<small>shape: (6_720, 2)</small><table border=\"1\" class=\"dataframe\"><thead><tr><th>Fecha</th><th>Tasa Politica Monetaria - Diario</th></tr><tr><td>date</td><td>f64</td></tr></thead><tbody><tr><td>2024-05-16</td><td>0.03</td></tr><tr><td>2024-05-15</td><td>0.03</td></tr><tr><td>2024-05-14</td><td>0.03</td></tr><tr><td>2024-05-13</td><td>0.03</td></tr><tr><td>2024-05-10</td><td>0.03</td></tr><tr><td>&hellip;</td><td>&hellip;</td></tr><tr><td>2005-06-04</td><td>0.07</td></tr><tr><td>2005-06-03</td><td>0.07</td></tr><tr><td>2005-06-02</td><td>0.07</td></tr><tr><td>2005-06-01</td><td>0.07</td></tr><tr><td>2005-05-31</td><td>0.07</td></tr></tbody></table></div>"
      ],
      "text/plain": [
       "shape: (6_720, 2)\n",
       "┌────────────┬──────────────────────────────────┐\n",
       "│ Fecha      ┆ Tasa Politica Monetaria - Diario │\n",
       "│ ---        ┆ ---                              │\n",
       "│ date       ┆ f64                              │\n",
       "╞════════════╪══════════════════════════════════╡\n",
       "│ 2024-05-16 ┆ 0.03                             │\n",
       "│ 2024-05-15 ┆ 0.03                             │\n",
       "│ 2024-05-14 ┆ 0.03                             │\n",
       "│ 2024-05-13 ┆ 0.03                             │\n",
       "│ 2024-05-10 ┆ 0.03                             │\n",
       "│ …          ┆ …                                │\n",
       "│ 2005-06-04 ┆ 0.07                             │\n",
       "│ 2005-06-03 ┆ 0.07                             │\n",
       "│ 2005-06-02 ┆ 0.07                             │\n",
       "│ 2005-06-01 ┆ 0.07                             │\n",
       "│ 2005-05-31 ┆ 0.07                             │\n",
       "└────────────┴──────────────────────────────────┘"
      ]
     },
     "execution_count": 208,
     "metadata": {},
     "output_type": "execute_result"
    }
   ],
   "source": [
    "Id = 699\n",
    "df = get_df(Id)\n",
    "# get_plot(Id)\n",
    "df"
   ]
  },
  {
   "cell_type": "markdown",
   "id": "4c1cf98e",
   "metadata": {},
   "source": [
    "### EC = Estadísticas Cambiarias\n"
   ]
  },
  {
   "cell_type": "code",
   "execution_count": 209,
   "id": "d18505c3",
   "metadata": {},
   "outputs": [
    {
     "name": "stdout",
     "output_type": "stream",
     "text": [
      "11519 variables\n",
      "54 grupos\n",
      "2 variables\n",
      "2 grupos\n",
      "2 subgrupos\n"
     ]
    },
    {
     "name": "stderr",
     "output_type": "stream",
     "text": [
      "<string>:29: FutureWarning:\n",
      "\n",
      "Passing literal json to 'read_json' is deprecated and will be removed in a future version. To read from a literal string, wrap it in a 'StringIO' object.\n",
      "\n"
     ]
    },
    {
     "data": {
      "text/html": [
       "<div><style>\n",
       ".dataframe > thead > tr,\n",
       ".dataframe > tbody > tr {\n",
       "  text-align: right;\n",
       "  white-space: pre-wrap;\n",
       "}\n",
       "</style>\n",
       "<small>shape: (2, 4)</small><table border=\"1\" class=\"dataframe\"><thead><tr><th>Niv_Gr_1</th><th>Niv_Gr_2</th><th>N_Variables</th><th>N_Niv_Gr_2</th></tr><tr><td>str</td><td>str</td><td>u32</td><td>u32</td></tr></thead><tbody><tr><td>&quot;EC&quot;</td><td>&quot;TCN&quot;</td><td>1</td><td>1</td></tr><tr><td>&quot;EC&quot;</td><td>&quot;TCR&quot;</td><td>1</td><td>1</td></tr></tbody></table></div>"
      ],
      "text/plain": [
       "shape: (2, 4)\n",
       "┌──────────┬──────────┬─────────────┬────────────┐\n",
       "│ Niv_Gr_1 ┆ Niv_Gr_2 ┆ N_Variables ┆ N_Niv_Gr_2 │\n",
       "│ ---      ┆ ---      ┆ ---         ┆ ---        │\n",
       "│ str      ┆ str      ┆ u32         ┆ u32        │\n",
       "╞══════════╪══════════╪═════════════╪════════════╡\n",
       "│ EC       ┆ TCN      ┆ 1           ┆ 1          │\n",
       "│ EC       ┆ TCR      ┆ 1           ┆ 1          │\n",
       "└──────────┴──────────┴─────────────┴────────────┘"
      ]
     },
     "execution_count": 209,
     "metadata": {},
     "output_type": "execute_result"
    }
   ],
   "source": [
    "res_nivel_2(\"EC\")"
   ]
  },
  {
   "cell_type": "markdown",
   "id": "b0f573e2",
   "metadata": {},
   "source": [
    "#### TCR = Tipo de Cambio de Referencia\n"
   ]
  },
  {
   "cell_type": "code",
   "execution_count": 210,
   "id": "cd33c5e8",
   "metadata": {},
   "outputs": [
    {
     "name": "stdout",
     "output_type": "stream",
     "text": [
      "1 subgrupos\n",
      "1 variables\n"
     ]
    },
    {
     "name": "stderr",
     "output_type": "stream",
     "text": [
      "<string>:29: FutureWarning:\n",
      "\n",
      "Passing literal json to 'read_json' is deprecated and will be removed in a future version. To read from a literal string, wrap it in a 'StringIO' object.\n",
      "\n"
     ]
    },
    {
     "data": {
      "text/html": [
       "<div><style>\n",
       ".dataframe > thead > tr,\n",
       ".dataframe > tbody > tr {\n",
       "  text-align: right;\n",
       "  white-space: pre-wrap;\n",
       "}\n",
       "</style>\n",
       "<small>shape: (1, 4)</small><table border=\"1\" class=\"dataframe\"><thead><tr><th>Niv_Gr_1</th><th>Niv_Gr_2</th><th>Niv_Gr_3</th><th>N_Variables</th></tr><tr><td>str</td><td>str</td><td>str</td><td>u32</td></tr></thead><tbody><tr><td>&quot;EC&quot;</td><td>&quot;TCR&quot;</td><td>null</td><td>1</td></tr></tbody></table></div>"
      ],
      "text/plain": [
       "shape: (1, 4)\n",
       "┌──────────┬──────────┬──────────┬─────────────┐\n",
       "│ Niv_Gr_1 ┆ Niv_Gr_2 ┆ Niv_Gr_3 ┆ N_Variables │\n",
       "│ ---      ┆ ---      ┆ ---      ┆ ---         │\n",
       "│ str      ┆ str      ┆ str      ┆ u32         │\n",
       "╞══════════╪══════════╪══════════╪═════════════╡\n",
       "│ EC       ┆ TCR      ┆ null     ┆ 1           │\n",
       "└──────────┴──────────┴──────────┴─────────────┘"
      ]
     },
     "execution_count": 210,
     "metadata": {},
     "output_type": "execute_result"
    }
   ],
   "source": [
    "res_nivel_3(\"EC\",\"TCR\",\"Niv_Gr_3\").sort(\"Niv_Gr_3\")"
   ]
  },
  {
   "cell_type": "markdown",
   "id": "525054f9",
   "metadata": {},
   "source": [
    "Para ver todas las variables:\n"
   ]
  },
  {
   "cell_type": "code",
   "execution_count": 211,
   "id": "c765151c",
   "metadata": {},
   "outputs": [
    {
     "data": {
      "text/html": [
       "<div><style>\n",
       ".dataframe > thead > tr,\n",
       ".dataframe > tbody > tr {\n",
       "  text-align: right;\n",
       "  white-space: pre-wrap;\n",
       "}\n",
       "</style>\n",
       "<small>shape: (1, 11)</small><table border=\"1\" class=\"dataframe\"><thead><tr><th>Id</th><th>Nombre</th><th>Descripcion</th><th>Periodicidad</th><th>Grupo</th><th>CorrelativoGrupo</th><th>Niv_Descr_1</th><th>Niv_Descr</th><th>Niv_Gr_1</th><th>Niv_Gr_2</th><th>Niv_Gr</th></tr><tr><td>i64</td><td>str</td><td>str</td><td>str</td><td>str</td><td>str</td><td>str</td><td>i64</td><td>str</td><td>str</td><td>i64</td></tr></thead><tbody><tr><td>97</td><td>&quot;EC-TCR-01&quot;</td><td>&quot;Estadísticas C…</td><td>&quot;Diario&quot;</td><td>&quot;EC-TCR&quot;</td><td>&quot;01&quot;</td><td>&quot;Estadísticas C…</td><td>2</td><td>&quot;EC&quot;</td><td>&quot;TCR&quot;</td><td>9</td></tr></tbody></table></div>"
      ],
      "text/plain": [
       "shape: (1, 11)\n",
       "┌─────┬───────────┬──────────────┬──────────────┬───┬───────────┬──────────┬──────────┬────────┐\n",
       "│ Id  ┆ Nombre    ┆ Descripcion  ┆ Periodicidad ┆ … ┆ Niv_Descr ┆ Niv_Gr_1 ┆ Niv_Gr_2 ┆ Niv_Gr │\n",
       "│ --- ┆ ---       ┆ ---          ┆ ---          ┆   ┆ ---       ┆ ---      ┆ ---      ┆ ---    │\n",
       "│ i64 ┆ str       ┆ str          ┆ str          ┆   ┆ i64       ┆ str      ┆ str      ┆ i64    │\n",
       "╞═════╪═══════════╪══════════════╪══════════════╪═══╪═══════════╪══════════╪══════════╪════════╡\n",
       "│ 97  ┆ EC-TCR-01 ┆ Estadísticas ┆ Diario       ┆ … ┆ 2         ┆ EC       ┆ TCR      ┆ 9      │\n",
       "│     ┆           ┆ Cambiarias - ┆              ┆   ┆           ┆          ┆          ┆        │\n",
       "│     ┆           ┆ Tipo d…      ┆              ┆   ┆           ┆          ┆          ┆        │\n",
       "└─────┴───────────┴──────────────┴──────────────┴───┴───────────┴──────────┴──────────┴────────┘"
      ]
     },
     "execution_count": 211,
     "metadata": {},
     "output_type": "execute_result"
    }
   ],
   "source": [
    "# df_all.filter(pl.col(\"Nombre\") == \"EC-TCR-01\").select(pl.all().is_not_null())\n",
    "df_all.filter(pl.col(\"Nombre\") == \"EC-TCR-01\")[:, df_all.select(pl.all().is_not_null().all()).row(0)]"
   ]
  },
  {
   "cell_type": "markdown",
   "id": "2a68bd95",
   "metadata": {},
   "source": [
    "Resultados de una sola variable:\n"
   ]
  },
  {
   "cell_type": "code",
   "execution_count": 212,
   "id": "0dcee7df",
   "metadata": {},
   "outputs": [
    {
     "name": "stderr",
     "output_type": "stream",
     "text": [
      "<string>:29: FutureWarning:\n",
      "\n",
      "Passing literal json to 'read_json' is deprecated and will be removed in a future version. To read from a literal string, wrap it in a 'StringIO' object.\n",
      "\n"
     ]
    },
    {
     "name": "stderr",
     "output_type": "stream",
     "text": [
      "<string>:29: FutureWarning:\n",
      "\n",
      "Passing literal json to 'read_json' is deprecated and will be removed in a future version. To read from a literal string, wrap it in a 'StringIO' object.\n",
      "\n"
     ]
    },
    {
     "data": {
      "text/html": [
       "<div><style>\n",
       ".dataframe > thead > tr,\n",
       ".dataframe > tbody > tr {\n",
       "  text-align: right;\n",
       "  white-space: pre-wrap;\n",
       "}\n",
       "</style>\n",
       "<small>shape: (1_311, 2)</small><table border=\"1\" class=\"dataframe\"><thead><tr><th>Fecha</th><th>Estadísticas Cambiarias - Tipo de Cambio de Referencia</th></tr><tr><td>date</td><td>f64</td></tr></thead><tbody><tr><td>2024-05-21</td><td>24.6941</td></tr><tr><td>2024-05-18</td><td>24.6945</td></tr><tr><td>2024-05-17</td><td>24.6949</td></tr><tr><td>2024-05-16</td><td>24.6958</td></tr><tr><td>2024-05-15</td><td>24.6965</td></tr><tr><td>&hellip;</td><td>&hellip;</td></tr><tr><td>2019-02-26</td><td>24.4218</td></tr><tr><td>2019-02-23</td><td>24.4184</td></tr><tr><td>2019-02-22</td><td>24.409</td></tr><tr><td>2019-02-21</td><td>24.4009</td></tr><tr><td>2019-02-20</td><td>24.3944</td></tr></tbody></table></div>"
      ],
      "text/plain": [
       "shape: (1_311, 2)\n",
       "┌────────────┬───────────────────────────────────┐\n",
       "│ Fecha      ┆ Estadísticas Cambiarias - Tipo d… │\n",
       "│ ---        ┆ ---                               │\n",
       "│ date       ┆ f64                               │\n",
       "╞════════════╪═══════════════════════════════════╡\n",
       "│ 2024-05-21 ┆ 24.6941                           │\n",
       "│ 2024-05-18 ┆ 24.6945                           │\n",
       "│ 2024-05-17 ┆ 24.6949                           │\n",
       "│ 2024-05-16 ┆ 24.6958                           │\n",
       "│ 2024-05-15 ┆ 24.6965                           │\n",
       "│ …          ┆ …                                 │\n",
       "│ 2019-02-26 ┆ 24.4218                           │\n",
       "│ 2019-02-23 ┆ 24.4184                           │\n",
       "│ 2019-02-22 ┆ 24.409                            │\n",
       "│ 2019-02-21 ┆ 24.4009                           │\n",
       "│ 2019-02-20 ┆ 24.3944                           │\n",
       "└────────────┴───────────────────────────────────┘"
      ]
     },
     "execution_count": 212,
     "metadata": {},
     "output_type": "execute_result"
    }
   ],
   "source": [
    "Id = 97\n",
    "df = get_df(Id)\n",
    "# get_plot(Id)\n",
    "df"
   ]
  },
  {
   "cell_type": "markdown",
   "id": "02cac8a1",
   "metadata": {},
   "source": [
    "#### TCN = Tipo de Cambio Nominal\n"
   ]
  },
  {
   "cell_type": "code",
   "execution_count": 213,
   "id": "73b9652f",
   "metadata": {},
   "outputs": [
    {
     "name": "stdout",
     "output_type": "stream",
     "text": [
      "1 subgrupos\n",
      "2 variables\n"
     ]
    },
    {
     "name": "stderr",
     "output_type": "stream",
     "text": [
      "<string>:29: FutureWarning:\n",
      "\n",
      "Passing literal json to 'read_json' is deprecated and will be removed in a future version. To read from a literal string, wrap it in a 'StringIO' object.\n",
      "\n"
     ]
    },
    {
     "data": {
      "text/html": [
       "<div><style>\n",
       ".dataframe > thead > tr,\n",
       ".dataframe > tbody > tr {\n",
       "  text-align: right;\n",
       "  white-space: pre-wrap;\n",
       "}\n",
       "</style>\n",
       "<small>shape: (1, 4)</small><table border=\"1\" class=\"dataframe\"><thead><tr><th>Niv_Gr_1</th><th>Niv_Gr_2</th><th>Niv_Gr_3</th><th>N_Variables</th></tr><tr><td>str</td><td>str</td><td>str</td><td>u32</td></tr></thead><tbody><tr><td>&quot;EC&quot;</td><td>&quot;TCN&quot;</td><td>&quot;01&quot;</td><td>2</td></tr></tbody></table></div>"
      ],
      "text/plain": [
       "shape: (1, 4)\n",
       "┌──────────┬──────────┬──────────┬─────────────┐\n",
       "│ Niv_Gr_1 ┆ Niv_Gr_2 ┆ Niv_Gr_3 ┆ N_Variables │\n",
       "│ ---      ┆ ---      ┆ ---      ┆ ---         │\n",
       "│ str      ┆ str      ┆ str      ┆ u32         │\n",
       "╞══════════╪══════════╪══════════╪═════════════╡\n",
       "│ EC       ┆ TCN      ┆ 01       ┆ 2           │\n",
       "└──────────┴──────────┴──────────┴─────────────┘"
      ]
     },
     "execution_count": 213,
     "metadata": {},
     "output_type": "execute_result"
    }
   ],
   "source": [
    "res_nivel_3(\"EC\",\"TCN\",\"Niv_Gr_3\")"
   ]
  },
  {
   "cell_type": "markdown",
   "id": "c46362ac",
   "metadata": {},
   "source": [
    "Para ver todas las variables:\n"
   ]
  },
  {
   "cell_type": "code",
   "execution_count": 214,
   "id": "4dc7a5cf",
   "metadata": {},
   "outputs": [
    {
     "name": "stderr",
     "output_type": "stream",
     "text": [
      "<string>:29: FutureWarning:\n",
      "\n",
      "Passing literal json to 'read_json' is deprecated and will be removed in a future version. To read from a literal string, wrap it in a 'StringIO' object.\n",
      "\n"
     ]
    },
    {
     "data": {
      "text/html": [
       "<div><style>\n",
       ".dataframe > thead > tr,\n",
       ".dataframe > tbody > tr {\n",
       "  text-align: right;\n",
       "  white-space: pre-wrap;\n",
       "}\n",
       "</style>\n",
       "<small>shape: (2, 8)</small><table border=\"1\" class=\"dataframe\"><thead><tr><th>Niv_Gr_1</th><th>Niv_Gr_2</th><th>Niv_Gr_3</th><th>Id</th><th>Nombre</th><th>Niv_Descr_1</th><th>Niv_Descr_2</th><th>N_Variables</th></tr><tr><td>str</td><td>str</td><td>str</td><td>i64</td><td>str</td><td>str</td><td>str</td><td>u32</td></tr></thead><tbody><tr><td>&quot;EC&quot;</td><td>&quot;TCN&quot;</td><td>&quot;01&quot;</td><td>619</td><td>&quot;EC-TCN-01-1&quot;</td><td>&quot;Tipo de Cambio…</td><td>&quot; Compra&quot;</td><td>1</td></tr><tr><td>&quot;EC&quot;</td><td>&quot;TCN&quot;</td><td>&quot;01&quot;</td><td>620</td><td>&quot;EC-TCN-01-2&quot;</td><td>&quot;Tipo de Cambio…</td><td>&quot; Venta&quot;</td><td>1</td></tr></tbody></table></div>"
      ],
      "text/plain": [
       "shape: (2, 8)\n",
       "┌──────────┬──────────┬──────────┬─────┬─────────────┬─────────────────┬─────────────┬─────────────┐\n",
       "│ Niv_Gr_1 ┆ Niv_Gr_2 ┆ Niv_Gr_3 ┆ Id  ┆ Nombre      ┆ Niv_Descr_1     ┆ Niv_Descr_2 ┆ N_Variables │\n",
       "│ ---      ┆ ---      ┆ ---      ┆ --- ┆ ---         ┆ ---             ┆ ---         ┆ ---         │\n",
       "│ str      ┆ str      ┆ str      ┆ i64 ┆ str         ┆ str             ┆ str         ┆ u32         │\n",
       "╞══════════╪══════════╪══════════╪═════╪═════════════╪═════════════════╪═════════════╪═════════════╡\n",
       "│ EC       ┆ TCN      ┆ 01       ┆ 619 ┆ EC-TCN-01-1 ┆ Tipo de Cambio  ┆  Compra     ┆ 1           │\n",
       "│          ┆          ┆          ┆     ┆             ┆ Nominal         ┆             ┆             │\n",
       "│ EC       ┆ TCN      ┆ 01       ┆ 620 ┆ EC-TCN-01-2 ┆ Tipo de Cambio  ┆  Venta      ┆ 1           │\n",
       "│          ┆          ┆          ┆     ┆             ┆ Nominal         ┆             ┆             │\n",
       "└──────────┴──────────┴──────────┴─────┴─────────────┴─────────────────┴─────────────┴─────────────┘"
      ]
     },
     "execution_count": 214,
     "metadata": {},
     "output_type": "execute_result"
    }
   ],
   "source": [
    "res_nivel_7(\n",
    "    \"EC\",\"TCN\",\n",
    "    \"Niv_Gr_3\",\"01\",\n",
    "    \"Id\",\"Nombre\",\"Niv_Descr_1\",\"Niv_Descr_2\").sort(\"Niv_Descr_2\")"
   ]
  },
  {
   "cell_type": "markdown",
   "id": "2f448d93",
   "metadata": {},
   "source": [
    "Resultados de una sola variable:\n"
   ]
  },
  {
   "cell_type": "code",
   "execution_count": 215,
   "id": "f8789bfa",
   "metadata": {},
   "outputs": [
    {
     "name": "stderr",
     "output_type": "stream",
     "text": [
      "<string>:29: FutureWarning:\n",
      "\n",
      "Passing literal json to 'read_json' is deprecated and will be removed in a future version. To read from a literal string, wrap it in a 'StringIO' object.\n",
      "\n"
     ]
    },
    {
     "name": "stderr",
     "output_type": "stream",
     "text": [
      "<string>:29: FutureWarning:\n",
      "\n",
      "Passing literal json to 'read_json' is deprecated and will be removed in a future version. To read from a literal string, wrap it in a 'StringIO' object.\n",
      "\n"
     ]
    },
    {
     "data": {
      "text/html": [
       "<div><style>\n",
       ".dataframe > thead > tr,\n",
       ".dataframe > tbody > tr {\n",
       "  text-align: right;\n",
       "  white-space: pre-wrap;\n",
       "}\n",
       "</style>\n",
       "<small>shape: (6_139, 2)</small><table border=\"1\" class=\"dataframe\"><thead><tr><th>Fecha</th><th>Tipo de Cambio Nominal - Compra</th></tr><tr><td>date</td><td>f64</td></tr></thead><tbody><tr><td>2024-05-21</td><td>24.6941</td></tr><tr><td>2024-05-20</td><td>24.6945</td></tr><tr><td>2024-05-17</td><td>24.6949</td></tr><tr><td>2024-05-16</td><td>24.6958</td></tr><tr><td>2024-05-15</td><td>24.6965</td></tr><tr><td>&hellip;</td><td>&hellip;</td></tr><tr><td>2000-01-07</td><td>14.51</td></tr><tr><td>2000-01-06</td><td>14.51</td></tr><tr><td>2000-01-05</td><td>14.51</td></tr><tr><td>2000-01-04</td><td>14.5</td></tr><tr><td>2000-01-03</td><td>14.5</td></tr></tbody></table></div>"
      ],
      "text/plain": [
       "shape: (6_139, 2)\n",
       "┌────────────┬─────────────────────────────────┐\n",
       "│ Fecha      ┆ Tipo de Cambio Nominal - Compra │\n",
       "│ ---        ┆ ---                             │\n",
       "│ date       ┆ f64                             │\n",
       "╞════════════╪═════════════════════════════════╡\n",
       "│ 2024-05-21 ┆ 24.6941                         │\n",
       "│ 2024-05-20 ┆ 24.6945                         │\n",
       "│ 2024-05-17 ┆ 24.6949                         │\n",
       "│ 2024-05-16 ┆ 24.6958                         │\n",
       "│ 2024-05-15 ┆ 24.6965                         │\n",
       "│ …          ┆ …                               │\n",
       "│ 2000-01-07 ┆ 14.51                           │\n",
       "│ 2000-01-06 ┆ 14.51                           │\n",
       "│ 2000-01-05 ┆ 14.51                           │\n",
       "│ 2000-01-04 ┆ 14.5                            │\n",
       "│ 2000-01-03 ┆ 14.5                            │\n",
       "└────────────┴─────────────────────────────────┘"
      ]
     },
     "execution_count": 215,
     "metadata": {},
     "output_type": "execute_result"
    }
   ],
   "source": [
    "Id = 619\n",
    "df = get_df(Id)\n",
    "# get_plot(Id)\n",
    "df"
   ]
  },
  {
   "cell_type": "markdown",
   "id": "c1fc7148",
   "metadata": {},
   "source": [
    "### EP = EStadísticas de Precios\n"
   ]
  },
  {
   "cell_type": "code",
   "execution_count": 216,
   "id": "ac1e039a",
   "metadata": {},
   "outputs": [
    {
     "name": "stdout",
     "output_type": "stream",
     "text": [
      "11519 variables\n",
      "54 grupos\n",
      "1 variables\n",
      "1 grupos\n",
      "1 subgrupos\n"
     ]
    },
    {
     "name": "stderr",
     "output_type": "stream",
     "text": [
      "<string>:29: FutureWarning:\n",
      "\n",
      "Passing literal json to 'read_json' is deprecated and will be removed in a future version. To read from a literal string, wrap it in a 'StringIO' object.\n",
      "\n"
     ]
    },
    {
     "data": {
      "text/html": [
       "<div><style>\n",
       ".dataframe > thead > tr,\n",
       ".dataframe > tbody > tr {\n",
       "  text-align: right;\n",
       "  white-space: pre-wrap;\n",
       "}\n",
       "</style>\n",
       "<small>shape: (1, 4)</small><table border=\"1\" class=\"dataframe\"><thead><tr><th>Niv_Gr_1</th><th>Niv_Gr_2</th><th>N_Variables</th><th>N_Niv_Gr_2</th></tr><tr><td>str</td><td>str</td><td>u32</td><td>u32</td></tr></thead><tbody><tr><td>&quot;EP&quot;</td><td>&quot;IPC&quot;</td><td>1</td><td>1</td></tr></tbody></table></div>"
      ],
      "text/plain": [
       "shape: (1, 4)\n",
       "┌──────────┬──────────┬─────────────┬────────────┐\n",
       "│ Niv_Gr_1 ┆ Niv_Gr_2 ┆ N_Variables ┆ N_Niv_Gr_2 │\n",
       "│ ---      ┆ ---      ┆ ---         ┆ ---        │\n",
       "│ str      ┆ str      ┆ u32         ┆ u32        │\n",
       "╞══════════╪══════════╪═════════════╪════════════╡\n",
       "│ EP       ┆ IPC      ┆ 1           ┆ 1          │\n",
       "└──────────┴──────────┴─────────────┴────────────┘"
      ]
     },
     "execution_count": 216,
     "metadata": {},
     "output_type": "execute_result"
    }
   ],
   "source": [
    "res_nivel_2(\"EP\")"
   ]
  },
  {
   "cell_type": "markdown",
   "id": "9c009b61",
   "metadata": {},
   "source": [
    "#### IPC  Índice de Precios al Consumidor\n"
   ]
  },
  {
   "cell_type": "code",
   "execution_count": 217,
   "id": "e145cfca",
   "metadata": {},
   "outputs": [
    {
     "name": "stdout",
     "output_type": "stream",
     "text": [
      "1 subgrupos\n",
      "3 variables\n"
     ]
    },
    {
     "name": "stderr",
     "output_type": "stream",
     "text": [
      "<string>:29: FutureWarning:\n",
      "\n",
      "Passing literal json to 'read_json' is deprecated and will be removed in a future version. To read from a literal string, wrap it in a 'StringIO' object.\n",
      "\n"
     ]
    },
    {
     "data": {
      "text/html": [
       "<div><style>\n",
       ".dataframe > thead > tr,\n",
       ".dataframe > tbody > tr {\n",
       "  text-align: right;\n",
       "  white-space: pre-wrap;\n",
       "}\n",
       "</style>\n",
       "<small>shape: (1, 4)</small><table border=\"1\" class=\"dataframe\"><thead><tr><th>Niv_Gr_1</th><th>Niv_Gr_2</th><th>Niv_Gr_3</th><th>N_Variables</th></tr><tr><td>str</td><td>str</td><td>str</td><td>u32</td></tr></thead><tbody><tr><td>&quot;EP&quot;</td><td>&quot;IPC&quot;</td><td>&quot;01&quot;</td><td>3</td></tr></tbody></table></div>"
      ],
      "text/plain": [
       "shape: (1, 4)\n",
       "┌──────────┬──────────┬──────────┬─────────────┐\n",
       "│ Niv_Gr_1 ┆ Niv_Gr_2 ┆ Niv_Gr_3 ┆ N_Variables │\n",
       "│ ---      ┆ ---      ┆ ---      ┆ ---         │\n",
       "│ str      ┆ str      ┆ str      ┆ u32         │\n",
       "╞══════════╪══════════╪══════════╪═════════════╡\n",
       "│ EP       ┆ IPC      ┆ 01       ┆ 3           │\n",
       "└──────────┴──────────┴──────────┴─────────────┘"
      ]
     },
     "execution_count": 217,
     "metadata": {},
     "output_type": "execute_result"
    }
   ],
   "source": [
    "res_nivel_3(\"EP\",\"IPC\",\"Niv_Gr_3\")"
   ]
  },
  {
   "cell_type": "markdown",
   "id": "c1a01c9a",
   "metadata": {},
   "source": [
    "Para ver todas las variables:\n"
   ]
  },
  {
   "cell_type": "code",
   "execution_count": 218,
   "id": "dc820bab",
   "metadata": {},
   "outputs": [
    {
     "name": "stderr",
     "output_type": "stream",
     "text": [
      "<string>:29: FutureWarning:\n",
      "\n",
      "Passing literal json to 'read_json' is deprecated and will be removed in a future version. To read from a literal string, wrap it in a 'StringIO' object.\n",
      "\n"
     ]
    },
    {
     "data": {
      "text/html": [
       "<div><style>\n",
       ".dataframe > thead > tr,\n",
       ".dataframe > tbody > tr {\n",
       "  text-align: right;\n",
       "  white-space: pre-wrap;\n",
       "}\n",
       "</style>\n",
       "<small>shape: (3, 8)</small><table border=\"1\" class=\"dataframe\"><thead><tr><th>Niv_Gr_1</th><th>Niv_Gr_2</th><th>Niv_Gr_3</th><th>Id</th><th>Nombre</th><th>Niv_Descr_2</th><th>Niv_Descr_4</th><th>N_Variables</th></tr><tr><td>str</td><td>str</td><td>str</td><td>i64</td><td>str</td><td>str</td><td>str</td><td>u32</td></tr></thead><tbody><tr><td>&quot;EP&quot;</td><td>&quot;IPC&quot;</td><td>&quot;01&quot;</td><td>610</td><td>&quot;EP-IPC-01-3&quot;</td><td>&quot;IPC&quot;</td><td>&quot; Variación men…</td><td>1</td></tr><tr><td>&quot;EP&quot;</td><td>&quot;IPC&quot;</td><td>&quot;01&quot;</td><td>608</td><td>&quot;EP-IPC-01-1&quot;</td><td>&quot;IPC&quot;</td><td>&quot; Índice&quot;</td><td>1</td></tr><tr><td>&quot;EP&quot;</td><td>&quot;IPC&quot;</td><td>&quot;01&quot;</td><td>609</td><td>&quot;EP-IPC-01-2&quot;</td><td>&quot;IPC&quot;</td><td>&quot; Variación int…</td><td>1</td></tr></tbody></table></div>"
      ],
      "text/plain": [
       "shape: (3, 8)\n",
       "┌──────────┬──────────┬──────────┬─────┬─────────────┬─────────────┬─────────────┬─────────────┐\n",
       "│ Niv_Gr_1 ┆ Niv_Gr_2 ┆ Niv_Gr_3 ┆ Id  ┆ Nombre      ┆ Niv_Descr_2 ┆ Niv_Descr_4 ┆ N_Variables │\n",
       "│ ---      ┆ ---      ┆ ---      ┆ --- ┆ ---         ┆ ---         ┆ ---         ┆ ---         │\n",
       "│ str      ┆ str      ┆ str      ┆ i64 ┆ str         ┆ str         ┆ str         ┆ u32         │\n",
       "╞══════════╪══════════╪══════════╪═════╪═════════════╪═════════════╪═════════════╪═════════════╡\n",
       "│ EP       ┆ IPC      ┆ 01       ┆ 610 ┆ EP-IPC-01-3 ┆ IPC         ┆ Variación   ┆ 1           │\n",
       "│          ┆          ┆          ┆     ┆             ┆             ┆ mensual     ┆             │\n",
       "│ EP       ┆ IPC      ┆ 01       ┆ 608 ┆ EP-IPC-01-1 ┆ IPC         ┆  Índice     ┆ 1           │\n",
       "│ EP       ┆ IPC      ┆ 01       ┆ 609 ┆ EP-IPC-01-2 ┆ IPC         ┆ Variación   ┆ 1           │\n",
       "│          ┆          ┆          ┆     ┆             ┆             ┆ interanual  ┆             │\n",
       "└──────────┴──────────┴──────────┴─────┴─────────────┴─────────────┴─────────────┴─────────────┘"
      ]
     },
     "execution_count": 218,
     "metadata": {},
     "output_type": "execute_result"
    }
   ],
   "source": [
    "res_nivel_7(\n",
    "    \"EP\",\"IPC\",\n",
    "    \"Niv_Gr_3\",\"01\",\n",
    "    \"Id\",\"Nombre\",\"Niv_Descr_2\",\"Niv_Descr_4\").sort(\"Niv_Descr_2\")"
   ]
  },
  {
   "cell_type": "markdown",
   "id": "251fe490",
   "metadata": {},
   "source": [
    "Resultados de una sola variable:\n"
   ]
  },
  {
   "cell_type": "code",
   "execution_count": 219,
   "id": "d5665532",
   "metadata": {},
   "outputs": [
    {
     "name": "stderr",
     "output_type": "stream",
     "text": [
      "<string>:29: FutureWarning:\n",
      "\n",
      "Passing literal json to 'read_json' is deprecated and will be removed in a future version. To read from a literal string, wrap it in a 'StringIO' object.\n",
      "\n"
     ]
    },
    {
     "name": "stderr",
     "output_type": "stream",
     "text": [
      "<string>:29: FutureWarning:\n",
      "\n",
      "Passing literal json to 'read_json' is deprecated and will be removed in a future version. To read from a literal string, wrap it in a 'StringIO' object.\n",
      "\n"
     ]
    },
    {
     "name": "stderr",
     "output_type": "stream",
     "text": [
      "<string>:29: FutureWarning:\n",
      "\n",
      "Passing literal json to 'read_json' is deprecated and will be removed in a future version. To read from a literal string, wrap it in a 'StringIO' object.\n",
      "\n"
     ]
    },
    {
     "name": "stderr",
     "output_type": "stream",
     "text": [
      "<string>:29: FutureWarning:\n",
      "\n",
      "Passing literal json to 'read_json' is deprecated and will be removed in a future version. To read from a literal string, wrap it in a 'StringIO' object.\n",
      "\n"
     ]
    },
    {
     "data": {
      "text/html": [
       "        <script type=\"text/javascript\">\n",
       "        window.PlotlyConfig = {MathJaxConfig: 'local'};\n",
       "        if (window.MathJax && window.MathJax.Hub && window.MathJax.Hub.Config) {window.MathJax.Hub.Config({SVG: {font: \"STIX-Web\"}});}\n",
       "        if (typeof require !== 'undefined') {\n",
       "        require.undef(\"plotly\");\n",
       "        requirejs.config({\n",
       "            paths: {\n",
       "                'plotly': ['https://cdn.plot.ly/plotly-2.29.1.min']\n",
       "            }\n",
       "        });\n",
       "        require(['plotly'], function(Plotly) {\n",
       "            window._Plotly = Plotly;\n",
       "        });\n",
       "        }\n",
       "        </script>\n",
       "        "
      ]
     },
     "metadata": {},
     "output_type": "display_data"
    },
    {
     "data": {
      "text/html": [
       "<div>                            <div id=\"ce5137cd-1bed-4a27-97d9-b2be47a4047c\" class=\"plotly-graph-div\" style=\"height:500px; width:800px;\"></div>            <script type=\"text/javascript\">                require([\"plotly\"], function(Plotly) {                    window.PLOTLYENV=window.PLOTLYENV || {};                                    if (document.getElementById(\"ce5137cd-1bed-4a27-97d9-b2be47a4047c\")) {                    Plotly.newPlot(                        \"ce5137cd-1bed-4a27-97d9-b2be47a4047c\",                        [{\"hovertemplate\":\"variable=0\\u003cbr\\u003eFecha=%{x}\\u003cbr\\u003evalue=%{y}\\u003cextra\\u003e\\u003c\\u002fextra\\u003e\",\"legendgroup\":\"0\",\"line\":{\"color\":\"#636efa\",\"dash\":\"solid\"},\"marker\":{\"symbol\":\"circle\"},\"mode\":\"lines\",\"name\":\"0\",\"orientation\":\"v\",\"showlegend\":true,\"x\":[\"2024-04-01T00:00:00\",\"2024-03-01T00:00:00\",\"2024-03-01T00:00:00\",\"2024-02-01T00:00:00\",\"2024-02-01T00:00:00\",\"2024-01-01T00:00:00\",\"2024-01-01T00:00:00\",\"2023-12-01T00:00:00\",\"2023-12-01T00:00:00\",\"2023-11-01T00:00:00\",\"2023-11-01T00:00:00\",\"2023-10-01T00:00:00\",\"2023-10-01T00:00:00\",\"2023-09-01T00:00:00\",\"2023-09-01T00:00:00\",\"2023-08-01T00:00:00\",\"2023-08-01T00:00:00\",\"2023-07-01T00:00:00\",\"2023-07-01T00:00:00\",\"2023-06-01T00:00:00\",\"2023-06-01T00:00:00\",\"2023-05-01T00:00:00\",\"2023-05-01T00:00:00\",\"2023-04-01T00:00:00\",\"2023-04-01T00:00:00\",\"2023-03-01T00:00:00\",\"2023-03-01T00:00:00\",\"2023-02-01T00:00:00\",\"2023-02-01T00:00:00\",\"2023-01-01T00:00:00\",\"2023-01-01T00:00:00\",\"2022-12-01T00:00:00\",\"2022-12-01T00:00:00\",\"2022-11-01T00:00:00\",\"2022-11-01T00:00:00\",\"2022-10-01T00:00:00\",\"2022-10-01T00:00:00\",\"2022-09-01T00:00:00\",\"2022-09-01T00:00:00\",\"2022-08-01T00:00:00\",\"2022-08-01T00:00:00\",\"2022-07-01T00:00:00\",\"2022-07-01T00:00:00\",\"2022-06-01T00:00:00\",\"2022-06-01T00:00:00\",\"2022-05-01T00:00:00\",\"2022-05-01T00:00:00\",\"2022-04-01T00:00:00\",\"2022-04-01T00:00:00\",\"2022-03-01T00:00:00\",\"2022-03-01T00:00:00\",\"2022-02-01T00:00:00\",\"2022-02-01T00:00:00\",\"2022-01-01T00:00:00\",\"2022-01-01T00:00:00\",\"2021-12-01T00:00:00\",\"2021-12-01T00:00:00\",\"2021-11-01T00:00:00\",\"2021-11-01T00:00:00\",\"2021-10-01T00:00:00\",\"2021-10-01T00:00:00\",\"2021-09-01T00:00:00\",\"2021-09-01T00:00:00\",\"2021-08-01T00:00:00\",\"2021-08-01T00:00:00\",\"2021-07-01T00:00:00\",\"2021-07-01T00:00:00\",\"2021-06-01T00:00:00\",\"2021-06-01T00:00:00\",\"2021-05-01T00:00:00\",\"2021-05-01T00:00:00\",\"2021-04-01T00:00:00\",\"2021-04-01T00:00:00\",\"2021-03-01T00:00:00\",\"2021-03-01T00:00:00\",\"2021-02-01T00:00:00\",\"2021-02-01T00:00:00\",\"2021-01-01T00:00:00\",\"2021-01-01T00:00:00\",\"2020-12-01T00:00:00\",\"2020-12-01T00:00:00\",\"2020-11-01T00:00:00\",\"2020-11-01T00:00:00\",\"2020-10-01T00:00:00\",\"2020-10-01T00:00:00\",\"2020-09-01T00:00:00\",\"2020-09-01T00:00:00\",\"2020-08-01T00:00:00\",\"2020-08-01T00:00:00\",\"2020-07-01T00:00:00\",\"2020-07-01T00:00:00\",\"2020-06-01T00:00:00\",\"2020-06-01T00:00:00\",\"2020-05-01T00:00:00\",\"2020-05-01T00:00:00\",\"2020-04-01T00:00:00\",\"2020-04-01T00:00:00\",\"2020-03-01T00:00:00\",\"2020-03-01T00:00:00\",\"2020-02-01T00:00:00\",\"2020-02-01T00:00:00\",\"2020-01-01T00:00:00\",\"2020-01-01T00:00:00\",\"2019-12-01T00:00:00\",\"2019-12-01T00:00:00\",\"2019-11-01T00:00:00\",\"2019-11-01T00:00:00\",\"2019-10-01T00:00:00\",\"2019-10-01T00:00:00\",\"2019-09-01T00:00:00\",\"2019-09-01T00:00:00\",\"2019-08-01T00:00:00\",\"2019-08-01T00:00:00\",\"2019-07-01T00:00:00\",\"2019-07-01T00:00:00\",\"2019-06-01T00:00:00\",\"2019-06-01T00:00:00\",\"2019-05-01T00:00:00\",\"2019-05-01T00:00:00\",\"2019-04-01T00:00:00\",\"2019-04-01T00:00:00\",\"2019-03-01T00:00:00\",\"2019-03-01T00:00:00\",\"2019-02-01T00:00:00\",\"2019-02-01T00:00:00\",\"2019-01-01T00:00:00\",\"2019-01-01T00:00:00\",\"2018-12-01T00:00:00\",\"2018-12-01T00:00:00\",\"2018-11-01T00:00:00\",\"2018-11-01T00:00:00\",\"2018-10-01T00:00:00\",\"2018-10-01T00:00:00\",\"2018-09-01T00:00:00\",\"2018-09-01T00:00:00\",\"2018-08-01T00:00:00\",\"2018-08-01T00:00:00\",\"2018-07-01T00:00:00\",\"2018-07-01T00:00:00\",\"2018-06-01T00:00:00\",\"2018-06-01T00:00:00\",\"2018-05-01T00:00:00\",\"2018-05-01T00:00:00\",\"2018-04-01T00:00:00\",\"2018-04-01T00:00:00\",\"2018-03-01T00:00:00\",\"2018-03-01T00:00:00\",\"2018-02-01T00:00:00\",\"2018-02-01T00:00:00\",\"2018-01-01T00:00:00\",\"2018-01-01T00:00:00\",\"2017-12-01T00:00:00\",\"2017-12-01T00:00:00\",\"2017-11-01T00:00:00\",\"2017-11-01T00:00:00\",\"2017-10-01T00:00:00\",\"2017-10-01T00:00:00\",\"2017-09-01T00:00:00\",\"2017-09-01T00:00:00\",\"2017-08-01T00:00:00\",\"2017-08-01T00:00:00\",\"2017-07-01T00:00:00\",\"2017-07-01T00:00:00\",\"2017-06-01T00:00:00\",\"2017-06-01T00:00:00\",\"2017-05-01T00:00:00\",\"2017-05-01T00:00:00\",\"2017-04-01T00:00:00\",\"2017-04-01T00:00:00\",\"2017-03-01T00:00:00\",\"2017-03-01T00:00:00\",\"2017-02-01T00:00:00\",\"2017-02-01T00:00:00\",\"2017-01-01T00:00:00\",\"2017-01-01T00:00:00\",\"2016-12-01T00:00:00\",\"2016-12-01T00:00:00\",\"2016-11-01T00:00:00\",\"2016-11-01T00:00:00\",\"2016-10-01T00:00:00\",\"2016-10-01T00:00:00\",\"2016-09-01T00:00:00\",\"2016-09-01T00:00:00\",\"2016-08-01T00:00:00\",\"2016-08-01T00:00:00\",\"2016-07-01T00:00:00\",\"2016-07-01T00:00:00\",\"2016-06-01T00:00:00\",\"2016-06-01T00:00:00\",\"2016-05-01T00:00:00\",\"2016-05-01T00:00:00\",\"2016-04-01T00:00:00\",\"2016-04-01T00:00:00\",\"2016-03-01T00:00:00\",\"2016-03-01T00:00:00\",\"2016-02-01T00:00:00\",\"2016-02-01T00:00:00\",\"2016-01-01T00:00:00\",\"2016-01-01T00:00:00\",\"2015-12-01T00:00:00\",\"2015-12-01T00:00:00\",\"2015-11-01T00:00:00\",\"2015-11-01T00:00:00\",\"2015-10-01T00:00:00\",\"2015-10-01T00:00:00\",\"2015-09-01T00:00:00\",\"2015-09-01T00:00:00\",\"2015-08-01T00:00:00\",\"2015-08-01T00:00:00\",\"2015-07-01T00:00:00\",\"2015-07-01T00:00:00\",\"2015-06-01T00:00:00\",\"2015-06-01T00:00:00\",\"2015-05-01T00:00:00\",\"2015-05-01T00:00:00\",\"2015-04-01T00:00:00\",\"2015-04-01T00:00:00\",\"2015-03-01T00:00:00\",\"2015-03-01T00:00:00\",\"2015-02-01T00:00:00\",\"2015-02-01T00:00:00\",\"2015-01-01T00:00:00\",\"2015-01-01T00:00:00\",\"2014-12-01T00:00:00\",\"2014-12-01T00:00:00\",\"2014-11-01T00:00:00\",\"2014-11-01T00:00:00\",\"2014-10-01T00:00:00\",\"2014-10-01T00:00:00\",\"2014-09-01T00:00:00\",\"2014-09-01T00:00:00\",\"2014-08-01T00:00:00\",\"2014-08-01T00:00:00\",\"2014-07-01T00:00:00\",\"2014-07-01T00:00:00\",\"2014-06-01T00:00:00\",\"2014-06-01T00:00:00\",\"2014-05-01T00:00:00\",\"2014-05-01T00:00:00\",\"2014-04-01T00:00:00\",\"2014-04-01T00:00:00\",\"2014-03-01T00:00:00\",\"2014-03-01T00:00:00\",\"2014-02-01T00:00:00\",\"2014-02-01T00:00:00\",\"2014-01-01T00:00:00\",\"2014-01-01T00:00:00\",\"2013-12-01T00:00:00\",\"2013-12-01T00:00:00\",\"2013-11-01T00:00:00\",\"2013-11-01T00:00:00\",\"2013-10-01T00:00:00\",\"2013-10-01T00:00:00\",\"2013-09-01T00:00:00\",\"2013-09-01T00:00:00\",\"2013-08-01T00:00:00\",\"2013-08-01T00:00:00\",\"2013-07-01T00:00:00\",\"2013-07-01T00:00:00\",\"2013-06-01T00:00:00\",\"2013-06-01T00:00:00\",\"2013-05-01T00:00:00\",\"2013-05-01T00:00:00\",\"2013-04-01T00:00:00\",\"2013-04-01T00:00:00\",\"2013-03-01T00:00:00\",\"2013-03-01T00:00:00\",\"2013-02-01T00:00:00\",\"2013-02-01T00:00:00\",\"2013-01-01T00:00:00\",\"2013-01-01T00:00:00\",\"2012-12-01T00:00:00\",\"2012-12-01T00:00:00\",\"2012-11-01T00:00:00\",\"2012-11-01T00:00:00\",\"2012-10-01T00:00:00\",\"2012-10-01T00:00:00\",\"2012-09-01T00:00:00\",\"2012-09-01T00:00:00\",\"2012-08-01T00:00:00\",\"2012-08-01T00:00:00\",\"2012-07-01T00:00:00\",\"2012-07-01T00:00:00\",\"2012-06-01T00:00:00\",\"2012-06-01T00:00:00\",\"2012-05-01T00:00:00\",\"2012-05-01T00:00:00\",\"2012-04-01T00:00:00\",\"2012-04-01T00:00:00\",\"2012-03-01T00:00:00\",\"2012-03-01T00:00:00\",\"2012-02-01T00:00:00\",\"2012-02-01T00:00:00\",\"2012-01-01T00:00:00\",\"2012-01-01T00:00:00\",\"2011-12-01T00:00:00\",\"2011-12-01T00:00:00\",\"2011-11-01T00:00:00\",\"2011-11-01T00:00:00\",\"2011-10-01T00:00:00\",\"2011-10-01T00:00:00\",\"2011-09-01T00:00:00\",\"2011-09-01T00:00:00\",\"2011-08-01T00:00:00\",\"2011-08-01T00:00:00\",\"2011-07-01T00:00:00\",\"2011-07-01T00:00:00\",\"2011-06-01T00:00:00\",\"2011-06-01T00:00:00\",\"2011-05-01T00:00:00\",\"2011-05-01T00:00:00\",\"2011-04-01T00:00:00\",\"2011-04-01T00:00:00\",\"2011-03-01T00:00:00\",\"2011-03-01T00:00:00\",\"2011-02-01T00:00:00\",\"2011-02-01T00:00:00\",\"2011-01-01T00:00:00\",\"2011-01-01T00:00:00\",\"2010-12-01T00:00:00\",\"2010-12-01T00:00:00\",\"2010-11-01T00:00:00\",\"2010-11-01T00:00:00\",\"2010-10-01T00:00:00\",\"2010-10-01T00:00:00\",\"2010-09-01T00:00:00\",\"2010-09-01T00:00:00\",\"2010-08-01T00:00:00\",\"2010-08-01T00:00:00\",\"2010-07-01T00:00:00\",\"2010-07-01T00:00:00\",\"2010-06-01T00:00:00\",\"2010-06-01T00:00:00\",\"2010-05-01T00:00:00\",\"2010-05-01T00:00:00\",\"2010-04-01T00:00:00\",\"2010-04-01T00:00:00\",\"2010-03-01T00:00:00\",\"2010-03-01T00:00:00\",\"2010-02-01T00:00:00\",\"2010-02-01T00:00:00\",\"2010-01-01T00:00:00\",\"2010-01-01T00:00:00\",\"2009-12-01T00:00:00\",\"2009-12-01T00:00:00\",\"2009-11-01T00:00:00\",\"2009-11-01T00:00:00\",\"2009-10-01T00:00:00\",\"2009-10-01T00:00:00\",\"2009-09-01T00:00:00\",\"2009-09-01T00:00:00\",\"2009-08-01T00:00:00\",\"2009-08-01T00:00:00\",\"2009-07-01T00:00:00\",\"2009-07-01T00:00:00\",\"2009-06-01T00:00:00\",\"2009-06-01T00:00:00\",\"2009-05-01T00:00:00\",\"2009-05-01T00:00:00\",\"2009-04-01T00:00:00\",\"2009-04-01T00:00:00\",\"2009-03-01T00:00:00\",\"2009-03-01T00:00:00\",\"2009-02-01T00:00:00\",\"2009-02-01T00:00:00\",\"2009-01-01T00:00:00\",\"2009-01-01T00:00:00\",\"2008-12-01T00:00:00\",\"2008-12-01T00:00:00\",\"2008-11-01T00:00:00\",\"2008-11-01T00:00:00\",\"2008-10-01T00:00:00\",\"2008-10-01T00:00:00\",\"2008-09-01T00:00:00\",\"2008-09-01T00:00:00\",\"2008-08-01T00:00:00\",\"2008-08-01T00:00:00\",\"2008-07-01T00:00:00\",\"2008-07-01T00:00:00\",\"2008-06-01T00:00:00\",\"2008-06-01T00:00:00\",\"2008-05-01T00:00:00\",\"2008-05-01T00:00:00\",\"2008-04-01T00:00:00\",\"2008-04-01T00:00:00\",\"2008-03-01T00:00:00\",\"2008-03-01T00:00:00\",\"2008-02-01T00:00:00\",\"2008-02-01T00:00:00\",\"2008-01-01T00:00:00\",\"2008-01-01T00:00:00\",\"2007-12-01T00:00:00\",\"2007-12-01T00:00:00\",\"2007-11-01T00:00:00\",\"2007-11-01T00:00:00\",\"2007-10-01T00:00:00\",\"2007-10-01T00:00:00\",\"2007-09-01T00:00:00\",\"2007-09-01T00:00:00\",\"2007-08-01T00:00:00\",\"2007-08-01T00:00:00\",\"2007-07-01T00:00:00\",\"2007-07-01T00:00:00\",\"2007-06-01T00:00:00\",\"2007-06-01T00:00:00\",\"2007-05-01T00:00:00\",\"2007-05-01T00:00:00\",\"2007-04-01T00:00:00\",\"2007-04-01T00:00:00\",\"2007-03-01T00:00:00\",\"2007-03-01T00:00:00\",\"2007-02-01T00:00:00\",\"2007-02-01T00:00:00\",\"2007-01-01T00:00:00\",\"2007-01-01T00:00:00\",\"2006-12-01T00:00:00\",\"2006-12-01T00:00:00\",\"2006-11-01T00:00:00\",\"2006-11-01T00:00:00\",\"2006-10-01T00:00:00\",\"2006-10-01T00:00:00\",\"2006-09-01T00:00:00\",\"2006-09-01T00:00:00\",\"2006-08-01T00:00:00\",\"2006-08-01T00:00:00\",\"2006-07-01T00:00:00\",\"2006-07-01T00:00:00\",\"2006-06-01T00:00:00\",\"2006-06-01T00:00:00\",\"2006-05-01T00:00:00\",\"2006-05-01T00:00:00\",\"2006-04-01T00:00:00\",\"2006-04-01T00:00:00\",\"2006-03-01T00:00:00\",\"2006-03-01T00:00:00\",\"2006-02-01T00:00:00\",\"2006-02-01T00:00:00\",\"2006-01-01T00:00:00\",\"2006-01-01T00:00:00\",\"2005-12-01T00:00:00\",\"2005-12-01T00:00:00\",\"2005-11-01T00:00:00\",\"2005-11-01T00:00:00\",\"2005-10-01T00:00:00\",\"2005-10-01T00:00:00\",\"2005-09-01T00:00:00\",\"2005-09-01T00:00:00\",\"2005-08-01T00:00:00\",\"2005-08-01T00:00:00\",\"2005-07-01T00:00:00\",\"2005-07-01T00:00:00\",\"2005-06-01T00:00:00\",\"2005-06-01T00:00:00\",\"2005-05-01T00:00:00\",\"2005-05-01T00:00:00\",\"2005-04-01T00:00:00\",\"2005-04-01T00:00:00\",\"2005-03-01T00:00:00\",\"2005-03-01T00:00:00\",\"2005-02-01T00:00:00\",\"2005-02-01T00:00:00\",\"2005-01-01T00:00:00\",\"2005-01-01T00:00:00\",\"2004-12-01T00:00:00\",\"2004-12-01T00:00:00\",\"2004-11-01T00:00:00\",\"2004-11-01T00:00:00\",\"2004-10-01T00:00:00\",\"2004-10-01T00:00:00\",\"2004-09-01T00:00:00\",\"2004-09-01T00:00:00\",\"2004-08-01T00:00:00\",\"2004-08-01T00:00:00\",\"2004-07-01T00:00:00\",\"2004-07-01T00:00:00\",\"2004-06-01T00:00:00\",\"2004-06-01T00:00:00\",\"2004-05-01T00:00:00\",\"2004-05-01T00:00:00\",\"2004-04-01T00:00:00\",\"2004-04-01T00:00:00\",\"2004-03-01T00:00:00\",\"2004-03-01T00:00:00\",\"2004-02-01T00:00:00\",\"2004-02-01T00:00:00\",\"2004-01-01T00:00:00\",\"2004-01-01T00:00:00\",\"2003-12-01T00:00:00\",\"2003-12-01T00:00:00\",\"2003-11-01T00:00:00\",\"2003-11-01T00:00:00\",\"2003-10-01T00:00:00\",\"2003-10-01T00:00:00\",\"2003-09-01T00:00:00\",\"2003-09-01T00:00:00\",\"2003-08-01T00:00:00\",\"2003-08-01T00:00:00\",\"2003-07-01T00:00:00\",\"2003-07-01T00:00:00\",\"2003-06-01T00:00:00\",\"2003-06-01T00:00:00\",\"2003-05-01T00:00:00\",\"2003-05-01T00:00:00\",\"2003-04-01T00:00:00\",\"2003-04-01T00:00:00\",\"2003-03-01T00:00:00\",\"2003-03-01T00:00:00\",\"2003-02-01T00:00:00\",\"2003-02-01T00:00:00\",\"2003-01-01T00:00:00\",\"2003-01-01T00:00:00\",\"2002-12-01T00:00:00\",\"2002-12-01T00:00:00\",\"2002-11-01T00:00:00\",\"2002-11-01T00:00:00\",\"2002-10-01T00:00:00\",\"2002-10-01T00:00:00\",\"2002-09-01T00:00:00\",\"2002-09-01T00:00:00\",\"2002-08-01T00:00:00\",\"2002-08-01T00:00:00\",\"2002-07-01T00:00:00\",\"2002-07-01T00:00:00\",\"2002-06-01T00:00:00\",\"2002-06-01T00:00:00\",\"2002-05-01T00:00:00\",\"2002-05-01T00:00:00\",\"2002-04-01T00:00:00\",\"2002-04-01T00:00:00\",\"2002-03-01T00:00:00\",\"2002-03-01T00:00:00\",\"2002-02-01T00:00:00\",\"2002-02-01T00:00:00\",\"2002-01-01T00:00:00\",\"2002-01-01T00:00:00\",\"2001-12-01T00:00:00\",\"2001-12-01T00:00:00\",\"2001-11-01T00:00:00\",\"2001-11-01T00:00:00\",\"2001-10-01T00:00:00\",\"2001-10-01T00:00:00\",\"2001-09-01T00:00:00\",\"2001-09-01T00:00:00\",\"2001-08-01T00:00:00\",\"2001-08-01T00:00:00\",\"2001-07-01T00:00:00\",\"2001-07-01T00:00:00\",\"2001-06-01T00:00:00\",\"2001-06-01T00:00:00\",\"2001-05-01T00:00:00\",\"2001-05-01T00:00:00\",\"2001-04-01T00:00:00\",\"2001-04-01T00:00:00\",\"2001-03-01T00:00:00\",\"2001-03-01T00:00:00\",\"2001-02-01T00:00:00\",\"2001-02-01T00:00:00\",\"2001-01-01T00:00:00\",\"2001-01-01T00:00:00\",\"2000-12-01T00:00:00\",\"2000-12-01T00:00:00\",\"2000-11-01T00:00:00\",\"2000-11-01T00:00:00\",\"2000-10-01T00:00:00\",\"2000-10-01T00:00:00\",\"2000-09-01T00:00:00\",\"2000-09-01T00:00:00\",\"2000-08-01T00:00:00\",\"2000-08-01T00:00:00\",\"2000-07-01T00:00:00\",\"2000-07-01T00:00:00\",\"2000-06-01T00:00:00\",\"2000-06-01T00:00:00\",\"2000-05-01T00:00:00\",\"2000-05-01T00:00:00\",\"2000-04-01T00:00:00\",\"2000-04-01T00:00:00\",\"2000-03-01T00:00:00\",\"2000-03-01T00:00:00\",\"2000-02-01T00:00:00\",\"2000-02-01T00:00:00\",\"2000-01-01T00:00:00\",\"2000-01-01T00:00:00\",\"1999-12-01T00:00:00\",\"1999-12-01T00:00:00\",\"1999-11-01T00:00:00\",\"1999-11-01T00:00:00\",\"1999-10-01T00:00:00\",\"1999-10-01T00:00:00\",\"1999-09-01T00:00:00\",\"1999-09-01T00:00:00\",\"1999-08-01T00:00:00\",\"1999-08-01T00:00:00\",\"1999-07-01T00:00:00\",\"1999-07-01T00:00:00\",\"1999-06-01T00:00:00\",\"1999-06-01T00:00:00\",\"1999-05-01T00:00:00\",\"1999-05-01T00:00:00\",\"1999-04-01T00:00:00\",\"1999-04-01T00:00:00\",\"1999-03-01T00:00:00\",\"1999-03-01T00:00:00\",\"1999-02-01T00:00:00\",\"1999-02-01T00:00:00\",\"1999-01-01T00:00:00\",\"1999-01-01T00:00:00\",\"1998-12-01T00:00:00\",\"1998-12-01T00:00:00\",\"1998-11-01T00:00:00\",\"1998-11-01T00:00:00\",\"1998-10-01T00:00:00\",\"1998-10-01T00:00:00\",\"1998-09-01T00:00:00\",\"1998-09-01T00:00:00\",\"1998-08-01T00:00:00\",\"1998-08-01T00:00:00\",\"1998-07-01T00:00:00\",\"1998-07-01T00:00:00\",\"1998-06-01T00:00:00\",\"1998-06-01T00:00:00\",\"1998-05-01T00:00:00\",\"1998-05-01T00:00:00\",\"1998-04-01T00:00:00\",\"1998-04-01T00:00:00\",\"1998-03-01T00:00:00\",\"1998-03-01T00:00:00\",\"1998-02-01T00:00:00\",\"1998-02-01T00:00:00\",\"1998-01-01T00:00:00\",\"1998-01-01T00:00:00\",\"1997-12-01T00:00:00\",\"1997-12-01T00:00:00\",\"1997-11-01T00:00:00\",\"1997-11-01T00:00:00\",\"1997-10-01T00:00:00\",\"1997-10-01T00:00:00\",\"1997-09-01T00:00:00\",\"1997-09-01T00:00:00\",\"1997-08-01T00:00:00\",\"1997-08-01T00:00:00\",\"1997-07-01T00:00:00\",\"1997-07-01T00:00:00\",\"1997-06-01T00:00:00\",\"1997-06-01T00:00:00\",\"1997-05-01T00:00:00\",\"1997-05-01T00:00:00\",\"1997-04-01T00:00:00\",\"1997-04-01T00:00:00\",\"1997-03-01T00:00:00\",\"1997-03-01T00:00:00\",\"1997-02-01T00:00:00\",\"1997-02-01T00:00:00\",\"1997-01-01T00:00:00\",\"1997-01-01T00:00:00\",\"1996-12-01T00:00:00\",\"1996-12-01T00:00:00\",\"1996-11-01T00:00:00\",\"1996-11-01T00:00:00\",\"1996-10-01T00:00:00\",\"1996-10-01T00:00:00\",\"1996-09-01T00:00:00\",\"1996-09-01T00:00:00\",\"1996-08-01T00:00:00\",\"1996-08-01T00:00:00\",\"1996-07-01T00:00:00\",\"1996-07-01T00:00:00\",\"1996-06-01T00:00:00\",\"1996-06-01T00:00:00\",\"1996-05-01T00:00:00\",\"1996-05-01T00:00:00\",\"1996-04-01T00:00:00\",\"1996-04-01T00:00:00\",\"1996-03-01T00:00:00\",\"1996-03-01T00:00:00\",\"1996-02-01T00:00:00\",\"1996-02-01T00:00:00\",\"1996-01-01T00:00:00\",\"1996-01-01T00:00:00\",\"1995-12-01T00:00:00\",\"1995-12-01T00:00:00\",\"1995-11-01T00:00:00\",\"1995-11-01T00:00:00\",\"1995-10-01T00:00:00\",\"1995-10-01T00:00:00\",\"1995-09-01T00:00:00\",\"1995-09-01T00:00:00\",\"1995-08-01T00:00:00\",\"1995-08-01T00:00:00\",\"1995-07-01T00:00:00\",\"1995-07-01T00:00:00\",\"1995-06-01T00:00:00\",\"1995-06-01T00:00:00\",\"1995-05-01T00:00:00\",\"1995-05-01T00:00:00\",\"1995-04-01T00:00:00\",\"1995-04-01T00:00:00\",\"1995-03-01T00:00:00\",\"1995-03-01T00:00:00\",\"1995-02-01T00:00:00\",\"1995-02-01T00:00:00\",\"1995-01-01T00:00:00\",\"1995-01-01T00:00:00\",\"1994-12-01T00:00:00\",\"1994-12-01T00:00:00\",\"1994-11-01T00:00:00\",\"1994-11-01T00:00:00\",\"1994-10-01T00:00:00\",\"1994-10-01T00:00:00\",\"1994-09-01T00:00:00\",\"1994-09-01T00:00:00\",\"1994-08-01T00:00:00\",\"1994-08-01T00:00:00\",\"1994-07-01T00:00:00\",\"1994-07-01T00:00:00\",\"1994-06-01T00:00:00\",\"1994-06-01T00:00:00\",\"1994-05-01T00:00:00\",\"1994-05-01T00:00:00\",\"1994-04-01T00:00:00\",\"1994-04-01T00:00:00\",\"1994-03-01T00:00:00\",\"1994-03-01T00:00:00\",\"1994-02-01T00:00:00\",\"1994-02-01T00:00:00\",\"1994-01-01T00:00:00\",\"1994-01-01T00:00:00\",\"1993-12-01T00:00:00\",\"1993-12-01T00:00:00\",\"1993-11-01T00:00:00\",\"1993-11-01T00:00:00\",\"1993-10-01T00:00:00\",\"1993-10-01T00:00:00\",\"1993-09-01T00:00:00\",\"1993-09-01T00:00:00\",\"1993-08-01T00:00:00\",\"1993-08-01T00:00:00\",\"1993-07-01T00:00:00\",\"1993-07-01T00:00:00\",\"1993-06-01T00:00:00\",\"1993-06-01T00:00:00\",\"1993-05-01T00:00:00\",\"1993-05-01T00:00:00\",\"1993-04-01T00:00:00\",\"1993-04-01T00:00:00\",\"1993-03-01T00:00:00\",\"1993-03-01T00:00:00\",\"1993-02-01T00:00:00\",\"1993-02-01T00:00:00\",\"1993-01-01T00:00:00\",\"1993-01-01T00:00:00\",\"1992-12-01T00:00:00\",\"1992-12-01T00:00:00\",\"1992-11-01T00:00:00\",\"1992-11-01T00:00:00\",\"1992-10-01T00:00:00\",\"1992-10-01T00:00:00\",\"1992-09-01T00:00:00\",\"1992-09-01T00:00:00\",\"1992-08-01T00:00:00\",\"1992-08-01T00:00:00\",\"1992-07-01T00:00:00\",\"1992-07-01T00:00:00\",\"1992-06-01T00:00:00\",\"1992-06-01T00:00:00\",\"1992-05-01T00:00:00\",\"1992-05-01T00:00:00\",\"1992-04-01T00:00:00\",\"1992-04-01T00:00:00\",\"1992-03-01T00:00:00\",\"1992-03-01T00:00:00\",\"1992-02-01T00:00:00\",\"1992-02-01T00:00:00\",\"1992-01-01T00:00:00\",\"1992-01-01T00:00:00\",\"1991-12-01T00:00:00\",\"1991-12-01T00:00:00\",\"1991-11-01T00:00:00\",\"1991-11-01T00:00:00\",\"1991-10-01T00:00:00\",\"1991-10-01T00:00:00\",\"1991-09-01T00:00:00\",\"1991-09-01T00:00:00\",\"1991-08-01T00:00:00\",\"1991-08-01T00:00:00\",\"1991-07-01T00:00:00\",\"1991-07-01T00:00:00\",\"1991-06-01T00:00:00\",\"1991-06-01T00:00:00\",\"1991-05-01T00:00:00\",\"1991-05-01T00:00:00\",\"1991-04-01T00:00:00\",\"1991-04-01T00:00:00\",\"1991-03-01T00:00:00\",\"1991-03-01T00:00:00\",\"1991-02-01T00:00:00\",\"1991-02-01T00:00:00\",\"1991-01-01T00:00:00\",\"1991-01-01T00:00:00\"],\"xaxis\":\"x\",\"y\":[432.8,431.6,431.6,429.5,429.5,426.6,426.6,425.6,425.6,423.4,423.4,422.5,422.5,420.9,420.9,418.7,418.7,416.6,416.6,414.7,414.7,413.1,413.1,412.8,412.8,412.0,412.0,411.0,411.0,406.3,406.3,404.6,404.6,403.1,403.1,399.2,399.2,396.6,396.6,396.1,396.1,396.2,396.2,392.7,392.7,387.6,387.6,384.2,384.2,377.8,377.8,374.3,374.3,373.0,373.0,368.5,368.5,365.0,365.0,362.3,362.3,360.4,360.4,358.8,358.8,357.4,357.4,356.3,356.3,355.3,355.3,354.6,354.6,353.2,353.2,351.9,351.9,351.3,351.3,349.9,349.9,347.8,347.8,346.2,346.2,344.5,344.5,343.4,343.4,342.8,342.8,340.4,340.4,338.9,338.9,341.1,341.1,339.8,339.8,338.8,338.8,337.2,337.2,336.4,336.4,335.0,335.0,334.0,334.0,333.2,333.2,332.7,332.7,332.5,332.5,331.6,331.6,331.3,331.3,330.1,330.1,327.1,327.1,325.8,325.8,323.3,323.3,323.2,323.2,322.6,322.6,320.9,320.9,319.1,319.1,319.0,319.0,317.6,317.6,316.4,316.4,315.1,315.1,314.8,314.8,314.1,314.1,313.0,313.0,311.0,311.0,310.1,310.1,308.1,308.1,306.6,306.6,305.7,305.7,305.7,305.7,304.7,304.7,303.8,303.8,303.0,303.0,302.1,302.1,301.0,301.0,300.0,300.0,297.4,297.4,296.1,296.1,295.3,295.3,294.9,294.9,294.9,294.9,294.4,294.4,294.0,294.0,293.1,293.1,291.2,291.2,290.2,290.2,289.6,289.6,288.9,288.9,287.5,287.5,286.6,286.6,286.6,286.6,286.8,286.8,286.6,286.6,287.2,287.2,287.1,287.1,286.1,286.1,284.5,284.5,283.3,283.3,282.6,282.6,280.7,280.7,278.9,278.9,280.0,280.0,280.7,280.7,279.7,279.7,278.9,278.9,278.6,278.6,278.2,278.2,276.1,276.1,274.9,274.9,273.5,273.5,272.4,272.4,270.8,270.8,268.6,268.6,264.6,264.6,263.8,263.8,263.1,263.1,262.8,262.8,262.0,262.0,261.0,261.0,259.9,259.9,258.8,258.8,258.1,258.1,257.5,257.5,256.1,256.1,253.4,253.4,252.2,252.2,251.9,251.9,251.5,251.5,250.4,250.4,248.6,248.6,247.1,247.1,246.9,246.9,246.9,246.9,246.6,246.6,243.9,243.9,242.1,242.1,239.8,239.8,239.3,239.3,238.9,238.9,238.0,238.0,237.8,237.8,238.3,238.3,237.4,237.4,235.8,235.8,234.8,234.8,233.4,233.4,230.8,230.8,229.2,229.2,227.6,227.6,226.6,226.6,226.6,226.6,224.7,224.7,222.6,222.6,221.3,221.3,220.3,220.3,218.9,218.9,218.0,218.0,217.6,217.6,216.5,216.5,215.5,215.5,214.0,214.0,212.8,212.8,212.9,212.9,212.4,212.4,211.9,211.9,211.7,211.7,211.5,211.5,210.0,210.0,208.9,208.9,208.9,208.9,208.2,208.2,208.2,208.2,206.6,206.6,206.7,206.7,206.5,206.5,206.9,206.9,205.6,205.6,205.3,205.3,203.4,203.4,199.2,199.2,196.8,196.8,193.3,193.3,191.4,191.4,189.7,189.7,187.7,187.7,186.5,186.5,186.2,186.2,183.0,183.0,180.8,180.8,180.1,180.1,178.8,178.8,177.6,177.6,176.9,176.9,176.2,176.2,175.2,175.2,173.9,173.9,172.4,172.4,171.3,171.3,169.9,169.9,169.0,169.0,168.8,168.8,168.8,168.8,168.2,168.2,167.3,167.3,166.8,166.8,165.7,165.7,164.8,164.8,164.4,164.4,163.3,163.3,162.7,162.7,162.0,162.0,161.7,161.7,161.6,161.6,161.0,161.0,159.7,159.7,158.3,158.3,157.2,157.2,156.6,156.6,155.2,155.2,154.0,154.0,152.2,152.2,151.0,151.0,150.4,150.4,149.1,149.1,147.8,147.8,147.6,147.6,147.1,147.1,145.2,145.2,144.3,144.3,143.2,143.2,141.7,141.7,141.2,141.2,139.6,139.6,138.3,138.3,137.9,137.9,137.0,137.0,136.4,136.4,135.8,135.8,134.6,134.6,134.1,134.1,133.7,133.7,133.5,133.5,132.8,132.8,132.3,132.3,130.6,130.6,129.5,129.5,128.6,128.6,127.8,127.8,127.1,127.1,126.9,126.9,126.1,126.1,125.1,125.1,123.7,123.7,123.1,123.1,122.2,122.2,121.5,121.5,120.2,120.2,119.8,119.8,119.4,119.4,118.8,118.8,118.6,118.6,117.7,117.7,116.9,116.9,116.3,116.3,115.6,115.6,114.2,114.2,113.5,113.5,112.5,112.5,111.1,111.1,110.1,110.1,109.5,109.5,108.3,108.3,107.7,107.7,107.5,107.5,107.0,107.0,106.3,106.3,105.3,105.3,104.3,104.3,103.0,103.0,102.0,102.0,100.5,100.5,100.0,100.0,99.0,99.0,98.0,98.0,97.1,97.1,96.4,96.4,95.7,95.7,94.9,94.9,93.8,93.8,93.1,93.1,92.8,92.8,92.5,92.5,91.7,91.7,90.14,90.14,89.49,89.49,88.38,88.38,87.88,87.88,87.62,87.62,87.49,87.49,85.8,85.8,84.32,84.32,83.32,83.32,81.9,81.9,80.54,80.54,78.59,78.59,77.94,77.94,77.78,77.78,77.19,77.19,77.39,77.39,77.15,77.15,76.2,76.2,75.15,75.15,74.2,74.2,73.28,73.28,72.85,72.85,72.3,72.3,70.56,70.56,69.12,69.12,68.43,68.43,67.09,67.09,66.12,66.12,65.01,65.01,63.25,63.25,61.83,61.83,60.31,60.31,59.08,59.08,57.89,57.89,57.0,57.0,55.43,55.43,55.15,55.15,54.32,54.32,53.57,53.57,52.59,52.59,51.54,51.54,50.86,50.86,50.19,50.19,49.73,49.73,48.84,48.84,47.62,47.62,46.96,46.96,44.74,44.74,43.5,43.5,42.97,42.97,41.68,41.68,40.97,40.97,40.71,40.71,39.86,39.86,38.8,38.8,38.03,38.03,36.59,36.59,35.6,35.6,35.24,35.24,34.21,34.21,33.74,33.74,33.53,33.53,33.21,33.21,32.98,32.98,33.17,33.17,32.81,32.81,31.85,31.85,31.39,31.39,31.12,31.12,30.51,30.51,30.3,30.3,30.02,30.02,29.86,29.86,29.58,29.58,29.25,29.25,29.1,29.1,29.09,29.09,28.98,28.98,28.87,28.87,28.85,28.85,28.74,28.74,28.45,28.45,28.38,28.38,28.07,28.07,28.03,28.03,27.96,27.96,27.73,27.73,27.46,27.46,27.57,27.57,27.23,27.23,26.81,26.81,26.34,26.34,26.04,26.04,25.21,25.21,24.88,24.88,24.09,24.09],\"yaxis\":\"y\",\"type\":\"scatter\"}],                        {\"template\":{\"data\":{\"barpolar\":[{\"marker\":{\"line\":{\"color\":\"white\",\"width\":0.5},\"pattern\":{\"fillmode\":\"overlay\",\"size\":10,\"solidity\":0.2}},\"type\":\"barpolar\"}],\"bar\":[{\"error_x\":{\"color\":\"#2a3f5f\"},\"error_y\":{\"color\":\"#2a3f5f\"},\"marker\":{\"line\":{\"color\":\"white\",\"width\":0.5},\"pattern\":{\"fillmode\":\"overlay\",\"size\":10,\"solidity\":0.2}},\"type\":\"bar\"}],\"carpet\":[{\"aaxis\":{\"endlinecolor\":\"#2a3f5f\",\"gridcolor\":\"#C8D4E3\",\"linecolor\":\"#C8D4E3\",\"minorgridcolor\":\"#C8D4E3\",\"startlinecolor\":\"#2a3f5f\"},\"baxis\":{\"endlinecolor\":\"#2a3f5f\",\"gridcolor\":\"#C8D4E3\",\"linecolor\":\"#C8D4E3\",\"minorgridcolor\":\"#C8D4E3\",\"startlinecolor\":\"#2a3f5f\"},\"type\":\"carpet\"}],\"choropleth\":[{\"colorbar\":{\"outlinewidth\":0,\"ticks\":\"\"},\"type\":\"choropleth\"}],\"contourcarpet\":[{\"colorbar\":{\"outlinewidth\":0,\"ticks\":\"\"},\"type\":\"contourcarpet\"}],\"contour\":[{\"colorbar\":{\"outlinewidth\":0,\"ticks\":\"\"},\"colorscale\":[[0.0,\"#0d0887\"],[0.1111111111111111,\"#46039f\"],[0.2222222222222222,\"#7201a8\"],[0.3333333333333333,\"#9c179e\"],[0.4444444444444444,\"#bd3786\"],[0.5555555555555556,\"#d8576b\"],[0.6666666666666666,\"#ed7953\"],[0.7777777777777778,\"#fb9f3a\"],[0.8888888888888888,\"#fdca26\"],[1.0,\"#f0f921\"]],\"type\":\"contour\"}],\"heatmapgl\":[{\"colorbar\":{\"outlinewidth\":0,\"ticks\":\"\"},\"colorscale\":[[0.0,\"#0d0887\"],[0.1111111111111111,\"#46039f\"],[0.2222222222222222,\"#7201a8\"],[0.3333333333333333,\"#9c179e\"],[0.4444444444444444,\"#bd3786\"],[0.5555555555555556,\"#d8576b\"],[0.6666666666666666,\"#ed7953\"],[0.7777777777777778,\"#fb9f3a\"],[0.8888888888888888,\"#fdca26\"],[1.0,\"#f0f921\"]],\"type\":\"heatmapgl\"}],\"heatmap\":[{\"colorbar\":{\"outlinewidth\":0,\"ticks\":\"\"},\"colorscale\":[[0.0,\"#0d0887\"],[0.1111111111111111,\"#46039f\"],[0.2222222222222222,\"#7201a8\"],[0.3333333333333333,\"#9c179e\"],[0.4444444444444444,\"#bd3786\"],[0.5555555555555556,\"#d8576b\"],[0.6666666666666666,\"#ed7953\"],[0.7777777777777778,\"#fb9f3a\"],[0.8888888888888888,\"#fdca26\"],[1.0,\"#f0f921\"]],\"type\":\"heatmap\"}],\"histogram2dcontour\":[{\"colorbar\":{\"outlinewidth\":0,\"ticks\":\"\"},\"colorscale\":[[0.0,\"#0d0887\"],[0.1111111111111111,\"#46039f\"],[0.2222222222222222,\"#7201a8\"],[0.3333333333333333,\"#9c179e\"],[0.4444444444444444,\"#bd3786\"],[0.5555555555555556,\"#d8576b\"],[0.6666666666666666,\"#ed7953\"],[0.7777777777777778,\"#fb9f3a\"],[0.8888888888888888,\"#fdca26\"],[1.0,\"#f0f921\"]],\"type\":\"histogram2dcontour\"}],\"histogram2d\":[{\"colorbar\":{\"outlinewidth\":0,\"ticks\":\"\"},\"colorscale\":[[0.0,\"#0d0887\"],[0.1111111111111111,\"#46039f\"],[0.2222222222222222,\"#7201a8\"],[0.3333333333333333,\"#9c179e\"],[0.4444444444444444,\"#bd3786\"],[0.5555555555555556,\"#d8576b\"],[0.6666666666666666,\"#ed7953\"],[0.7777777777777778,\"#fb9f3a\"],[0.8888888888888888,\"#fdca26\"],[1.0,\"#f0f921\"]],\"type\":\"histogram2d\"}],\"histogram\":[{\"marker\":{\"pattern\":{\"fillmode\":\"overlay\",\"size\":10,\"solidity\":0.2}},\"type\":\"histogram\"}],\"mesh3d\":[{\"colorbar\":{\"outlinewidth\":0,\"ticks\":\"\"},\"type\":\"mesh3d\"}],\"parcoords\":[{\"line\":{\"colorbar\":{\"outlinewidth\":0,\"ticks\":\"\"}},\"type\":\"parcoords\"}],\"pie\":[{\"automargin\":true,\"type\":\"pie\"}],\"scatter3d\":[{\"line\":{\"colorbar\":{\"outlinewidth\":0,\"ticks\":\"\"}},\"marker\":{\"colorbar\":{\"outlinewidth\":0,\"ticks\":\"\"}},\"type\":\"scatter3d\"}],\"scattercarpet\":[{\"marker\":{\"colorbar\":{\"outlinewidth\":0,\"ticks\":\"\"}},\"type\":\"scattercarpet\"}],\"scattergeo\":[{\"marker\":{\"colorbar\":{\"outlinewidth\":0,\"ticks\":\"\"}},\"type\":\"scattergeo\"}],\"scattergl\":[{\"marker\":{\"colorbar\":{\"outlinewidth\":0,\"ticks\":\"\"}},\"type\":\"scattergl\"}],\"scattermapbox\":[{\"marker\":{\"colorbar\":{\"outlinewidth\":0,\"ticks\":\"\"}},\"type\":\"scattermapbox\"}],\"scatterpolargl\":[{\"marker\":{\"colorbar\":{\"outlinewidth\":0,\"ticks\":\"\"}},\"type\":\"scatterpolargl\"}],\"scatterpolar\":[{\"marker\":{\"colorbar\":{\"outlinewidth\":0,\"ticks\":\"\"}},\"type\":\"scatterpolar\"}],\"scatter\":[{\"fillpattern\":{\"fillmode\":\"overlay\",\"size\":10,\"solidity\":0.2},\"type\":\"scatter\"}],\"scatterternary\":[{\"marker\":{\"colorbar\":{\"outlinewidth\":0,\"ticks\":\"\"}},\"type\":\"scatterternary\"}],\"surface\":[{\"colorbar\":{\"outlinewidth\":0,\"ticks\":\"\"},\"colorscale\":[[0.0,\"#0d0887\"],[0.1111111111111111,\"#46039f\"],[0.2222222222222222,\"#7201a8\"],[0.3333333333333333,\"#9c179e\"],[0.4444444444444444,\"#bd3786\"],[0.5555555555555556,\"#d8576b\"],[0.6666666666666666,\"#ed7953\"],[0.7777777777777778,\"#fb9f3a\"],[0.8888888888888888,\"#fdca26\"],[1.0,\"#f0f921\"]],\"type\":\"surface\"}],\"table\":[{\"cells\":{\"fill\":{\"color\":\"#EBF0F8\"},\"line\":{\"color\":\"white\"}},\"header\":{\"fill\":{\"color\":\"#C8D4E3\"},\"line\":{\"color\":\"white\"}},\"type\":\"table\"}]},\"layout\":{\"annotationdefaults\":{\"arrowcolor\":\"#2a3f5f\",\"arrowhead\":0,\"arrowwidth\":1},\"autotypenumbers\":\"strict\",\"coloraxis\":{\"colorbar\":{\"outlinewidth\":0,\"ticks\":\"\"}},\"colorscale\":{\"diverging\":[[0,\"#8e0152\"],[0.1,\"#c51b7d\"],[0.2,\"#de77ae\"],[0.3,\"#f1b6da\"],[0.4,\"#fde0ef\"],[0.5,\"#f7f7f7\"],[0.6,\"#e6f5d0\"],[0.7,\"#b8e186\"],[0.8,\"#7fbc41\"],[0.9,\"#4d9221\"],[1,\"#276419\"]],\"sequential\":[[0.0,\"#0d0887\"],[0.1111111111111111,\"#46039f\"],[0.2222222222222222,\"#7201a8\"],[0.3333333333333333,\"#9c179e\"],[0.4444444444444444,\"#bd3786\"],[0.5555555555555556,\"#d8576b\"],[0.6666666666666666,\"#ed7953\"],[0.7777777777777778,\"#fb9f3a\"],[0.8888888888888888,\"#fdca26\"],[1.0,\"#f0f921\"]],\"sequentialminus\":[[0.0,\"#0d0887\"],[0.1111111111111111,\"#46039f\"],[0.2222222222222222,\"#7201a8\"],[0.3333333333333333,\"#9c179e\"],[0.4444444444444444,\"#bd3786\"],[0.5555555555555556,\"#d8576b\"],[0.6666666666666666,\"#ed7953\"],[0.7777777777777778,\"#fb9f3a\"],[0.8888888888888888,\"#fdca26\"],[1.0,\"#f0f921\"]]},\"colorway\":[\"#636efa\",\"#EF553B\",\"#00cc96\",\"#ab63fa\",\"#FFA15A\",\"#19d3f3\",\"#FF6692\",\"#B6E880\",\"#FF97FF\",\"#FECB52\"],\"font\":{\"color\":\"#2a3f5f\"},\"geo\":{\"bgcolor\":\"white\",\"lakecolor\":\"white\",\"landcolor\":\"white\",\"showlakes\":true,\"showland\":true,\"subunitcolor\":\"#C8D4E3\"},\"hoverlabel\":{\"align\":\"left\"},\"hovermode\":\"closest\",\"mapbox\":{\"style\":\"light\"},\"paper_bgcolor\":\"white\",\"plot_bgcolor\":\"white\",\"polar\":{\"angularaxis\":{\"gridcolor\":\"#EBF0F8\",\"linecolor\":\"#EBF0F8\",\"ticks\":\"\"},\"bgcolor\":\"white\",\"radialaxis\":{\"gridcolor\":\"#EBF0F8\",\"linecolor\":\"#EBF0F8\",\"ticks\":\"\"}},\"scene\":{\"xaxis\":{\"backgroundcolor\":\"white\",\"gridcolor\":\"#DFE8F3\",\"gridwidth\":2,\"linecolor\":\"#EBF0F8\",\"showbackground\":true,\"ticks\":\"\",\"zerolinecolor\":\"#EBF0F8\"},\"yaxis\":{\"backgroundcolor\":\"white\",\"gridcolor\":\"#DFE8F3\",\"gridwidth\":2,\"linecolor\":\"#EBF0F8\",\"showbackground\":true,\"ticks\":\"\",\"zerolinecolor\":\"#EBF0F8\"},\"zaxis\":{\"backgroundcolor\":\"white\",\"gridcolor\":\"#DFE8F3\",\"gridwidth\":2,\"linecolor\":\"#EBF0F8\",\"showbackground\":true,\"ticks\":\"\",\"zerolinecolor\":\"#EBF0F8\"}},\"shapedefaults\":{\"line\":{\"color\":\"#2a3f5f\"}},\"ternary\":{\"aaxis\":{\"gridcolor\":\"#DFE8F3\",\"linecolor\":\"#A2B1C6\",\"ticks\":\"\"},\"baxis\":{\"gridcolor\":\"#DFE8F3\",\"linecolor\":\"#A2B1C6\",\"ticks\":\"\"},\"bgcolor\":\"white\",\"caxis\":{\"gridcolor\":\"#DFE8F3\",\"linecolor\":\"#A2B1C6\",\"ticks\":\"\"}},\"title\":{\"x\":0.05},\"xaxis\":{\"automargin\":true,\"gridcolor\":\"#EBF0F8\",\"linecolor\":\"#EBF0F8\",\"ticks\":\"\",\"title\":{\"standoff\":15},\"zerolinecolor\":\"#EBF0F8\",\"zerolinewidth\":2},\"yaxis\":{\"automargin\":true,\"gridcolor\":\"#EBF0F8\",\"linecolor\":\"#EBF0F8\",\"ticks\":\"\",\"title\":{\"standoff\":15},\"zerolinecolor\":\"#EBF0F8\",\"zerolinewidth\":2}}},\"xaxis\":{\"anchor\":\"y\",\"domain\":[0.0,1.0],\"title\":{}},\"yaxis\":{\"anchor\":\"x\",\"domain\":[0.0,1.0],\"title\":{}},\"legend\":{\"title\":{\"text\":\"variable\"},\"tracegroupgap\":0},\"title\":{\"text\":\"EP-IPC-01 - \\u00cdndice\"},\"autosize\":false,\"width\":800,\"height\":500,\"showlegend\":false},                        {\"responsive\": true}                    ).then(function(){\n",
       "                            \n",
       "var gd = document.getElementById('ce5137cd-1bed-4a27-97d9-b2be47a4047c');\n",
       "var x = new MutationObserver(function (mutations, observer) {{\n",
       "        var display = window.getComputedStyle(gd).display;\n",
       "        if (!display || display === 'none') {{\n",
       "            console.log([gd, 'removed!']);\n",
       "            Plotly.purge(gd);\n",
       "            observer.disconnect();\n",
       "        }}\n",
       "}});\n",
       "\n",
       "// Listen for the removal of the full notebook cells\n",
       "var notebookContainer = gd.closest('#notebook-container');\n",
       "if (notebookContainer) {{\n",
       "    x.observe(notebookContainer, {childList: true});\n",
       "}}\n",
       "\n",
       "// Listen for the clearing of the current output cell\n",
       "var outputEl = gd.closest('.output');\n",
       "if (outputEl) {{\n",
       "    x.observe(outputEl, {childList: true});\n",
       "}}\n",
       "\n",
       "                        })                };                });            </script>        </div>"
      ]
     },
     "metadata": {},
     "output_type": "display_data"
    },
    {
     "data": {
      "text/html": [
       "<div><style>\n",
       ".dataframe > thead > tr,\n",
       ".dataframe > tbody > tr {\n",
       "  text-align: right;\n",
       "  white-space: pre-wrap;\n",
       "}\n",
       "</style>\n",
       "<small>shape: (799, 2)</small><table border=\"1\" class=\"dataframe\"><thead><tr><th>Fecha</th><th>EP-IPC-01 - Índice</th></tr><tr><td>date</td><td>f64</td></tr></thead><tbody><tr><td>2024-04-01</td><td>432.8</td></tr><tr><td>2024-03-01</td><td>431.6</td></tr><tr><td>2024-03-01</td><td>431.6</td></tr><tr><td>2024-02-01</td><td>429.5</td></tr><tr><td>2024-02-01</td><td>429.5</td></tr><tr><td>&hellip;</td><td>&hellip;</td></tr><tr><td>1991-03-01</td><td>25.21</td></tr><tr><td>1991-02-01</td><td>24.88</td></tr><tr><td>1991-02-01</td><td>24.88</td></tr><tr><td>1991-01-01</td><td>24.09</td></tr><tr><td>1991-01-01</td><td>24.09</td></tr></tbody></table></div>"
      ],
      "text/plain": [
       "shape: (799, 2)\n",
       "┌────────────┬────────────────────┐\n",
       "│ Fecha      ┆ EP-IPC-01 - Índice │\n",
       "│ ---        ┆ ---                │\n",
       "│ date       ┆ f64                │\n",
       "╞════════════╪════════════════════╡\n",
       "│ 2024-04-01 ┆ 432.8              │\n",
       "│ 2024-03-01 ┆ 431.6              │\n",
       "│ 2024-03-01 ┆ 431.6              │\n",
       "│ 2024-02-01 ┆ 429.5              │\n",
       "│ 2024-02-01 ┆ 429.5              │\n",
       "│ …          ┆ …                  │\n",
       "│ 1991-03-01 ┆ 25.21              │\n",
       "│ 1991-02-01 ┆ 24.88              │\n",
       "│ 1991-02-01 ┆ 24.88              │\n",
       "│ 1991-01-01 ┆ 24.09              │\n",
       "│ 1991-01-01 ┆ 24.09              │\n",
       "└────────────┴────────────────────┘"
      ]
     },
     "execution_count": 219,
     "metadata": {},
     "output_type": "execute_result"
    }
   ],
   "source": [
    "Id = 608\n",
    "df = get_df(Id)\n",
    "get_plot(Id)\n",
    "df"
   ]
  },
  {
   "cell_type": "markdown",
   "id": "9dcac68b",
   "metadata": {},
   "source": [
    "## Nombre\n",
    "\n",
    "El campo \"Nombre\" es un código que contiene hasta 8 niveles de agrupación (tomando en cuenta una separación por \"-\"), siendo los primeros 7 iguales a las definiciones del campo \"Grupo\".\n"
   ]
  },
  {
   "cell_type": "code",
   "execution_count": 220,
   "id": "b5c0a285",
   "metadata": {},
   "outputs": [
    {
     "data": {
      "text/html": [
       "<div><style>\n",
       ".dataframe > thead > tr,\n",
       ".dataframe > tbody > tr {\n",
       "  text-align: right;\n",
       "  white-space: pre-wrap;\n",
       "}\n",
       "</style>\n",
       "<small>shape: (11_519, 11)</small><table border=\"1\" class=\"dataframe\"><thead><tr><th>Niv_Gr_1</th><th>Niv_Gr_2</th><th>Nombre</th><th>Niv_Descr_1</th><th>Niv_Descr_2</th><th>Niv_Descr_3</th><th>Niv_Descr_4</th><th>Niv_Descr_5</th><th>Niv_Descr_6</th><th>Niv_Descr_7</th><th>Niv_Descr_8</th></tr><tr><td>str</td><td>str</td><td>str</td><td>str</td><td>str</td><td>str</td><td>str</td><td>str</td><td>str</td><td>str</td><td>str</td></tr></thead><tbody><tr><td>&quot;EC&quot;</td><td>&quot;TCR&quot;</td><td>&quot;EC-TCR-01&quot;</td><td>&quot;Estadísticas C…</td><td>&quot; Tipo de Cambi…</td><td>null</td><td>null</td><td>null</td><td>null</td><td>null</td><td>null</td></tr><tr><td>&quot;EC&quot;</td><td>&quot;TCN&quot;</td><td>&quot;EC-TCN-01-1&quot;</td><td>&quot;Tipo de Cambio…</td><td>&quot; Compra&quot;</td><td>null</td><td>null</td><td>null</td><td>null</td><td>null</td><td>null</td></tr><tr><td>&quot;EC&quot;</td><td>&quot;TCN&quot;</td><td>&quot;EC-TCN-01-2&quot;</td><td>&quot;Tipo de Cambio…</td><td>&quot; Venta&quot;</td><td>null</td><td>null</td><td>null</td><td>null</td><td>null</td><td>null</td></tr><tr><td>&quot;EM&quot;</td><td>&quot;RIN&quot;</td><td>&quot;EM-RIN-01-1&quot;</td><td>&quot;EM&quot;</td><td>&quot;RIN&quot;</td><td>&quot;01 &quot;</td><td>&quot; Reservas Inte…</td><td>&quot; Saldo&quot;</td><td>null</td><td>null</td><td>null</td></tr><tr><td>&quot;EM&quot;</td><td>&quot;RIN&quot;</td><td>&quot;EM-RIN-01-3&quot;</td><td>&quot;EM&quot;</td><td>&quot;RIN&quot;</td><td>&quot;01 &quot;</td><td>&quot; Reservas Inte…</td><td>&quot; Variación Abs…</td><td>null</td><td>null</td><td>null</td></tr><tr><td>&hellip;</td><td>&hellip;</td><td>&hellip;</td><td>&hellip;</td><td>&hellip;</td><td>&hellip;</td><td>&hellip;</td><td>&hellip;</td><td>&hellip;</td><td>&hellip;</td><td>&hellip;</td></tr><tr><td>&quot;ESR&quot;</td><td>&quot;ODA&quot;</td><td>&quot;ESR-ODA-01-90&quot;</td><td>&quot;OFERTA GLOBAL&quot;</td><td>&quot;VALOR AGREGADO…</td><td>&quot;INDUSTRIA MANU…</td><td>&quot;VARIACIONES RE…</td><td>null</td><td>null</td><td>null</td><td>null</td></tr><tr><td>&quot;ESR&quot;</td><td>&quot;ODA&quot;</td><td>&quot;ESR-ODA-01-91&quot;</td><td>&quot;OFERTA GLOBAL&quot;</td><td>&quot;VALOR AGREGADO…</td><td>&quot;MENOS: SERVICI…</td><td>&quot;EN MILLONES DE…</td><td>null</td><td>null</td><td>null</td><td>null</td></tr><tr><td>&quot;ESR&quot;</td><td>&quot;ODA&quot;</td><td>&quot;ESR-ODA-01-92&quot;</td><td>&quot;OFERTA GLOBAL&quot;</td><td>&quot;VALOR AGREGADO…</td><td>&quot;MENOS: SERVICI…</td><td>&quot;EN MILLONES DE…</td><td>null</td><td>null</td><td>null</td><td>null</td></tr><tr><td>&quot;ESR&quot;</td><td>&quot;ODA&quot;</td><td>&quot;ESR-ODA-01-93&quot;</td><td>&quot;OFERTA GLOBAL&quot;</td><td>&quot;VALOR AGREGADO…</td><td>&quot;MENOS: SERVICI…</td><td>&quot;VARIACIONES RE…</td><td>null</td><td>null</td><td>null</td><td>null</td></tr><tr><td>&quot;ESR&quot;</td><td>&quot;ODA&quot;</td><td>&quot;ESR-ODA-01-94&quot;</td><td>&quot;OFERTA GLOBAL&quot;</td><td>&quot;VALOR AGREGADO…</td><td>&quot;MENOS: SERVICI…</td><td>&quot;VARIACIONES RE…</td><td>null</td><td>null</td><td>null</td><td>null</td></tr></tbody></table></div>"
      ],
      "text/plain": [
       "shape: (11_519, 11)\n",
       "┌──────────┬──────────┬────────────┬───────────┬───┬───────────┬───────────┬───────────┬───────────┐\n",
       "│ Niv_Gr_1 ┆ Niv_Gr_2 ┆ Nombre     ┆ Niv_Descr ┆ … ┆ Niv_Descr ┆ Niv_Descr ┆ Niv_Descr ┆ Niv_Descr │\n",
       "│ ---      ┆ ---      ┆ ---        ┆ _1        ┆   ┆ _5        ┆ _6        ┆ _7        ┆ _8        │\n",
       "│ str      ┆ str      ┆ str        ┆ ---       ┆   ┆ ---       ┆ ---       ┆ ---       ┆ ---       │\n",
       "│          ┆          ┆            ┆ str       ┆   ┆ str       ┆ str       ┆ str       ┆ str       │\n",
       "╞══════════╪══════════╪════════════╪═══════════╪═══╪═══════════╪═══════════╪═══════════╪═══════════╡\n",
       "│ EC       ┆ TCR      ┆ EC-TCR-01  ┆ Estadísti ┆ … ┆ null      ┆ null      ┆ null      ┆ null      │\n",
       "│          ┆          ┆            ┆ cas Cambi ┆   ┆           ┆           ┆           ┆           │\n",
       "│          ┆          ┆            ┆ arias     ┆   ┆           ┆           ┆           ┆           │\n",
       "│ EC       ┆ TCN      ┆ EC-TCN-01- ┆ Tipo de   ┆ … ┆ null      ┆ null      ┆ null      ┆ null      │\n",
       "│          ┆          ┆ 1          ┆ Cambio    ┆   ┆           ┆           ┆           ┆           │\n",
       "│          ┆          ┆            ┆ Nominal   ┆   ┆           ┆           ┆           ┆           │\n",
       "│ EC       ┆ TCN      ┆ EC-TCN-01- ┆ Tipo de   ┆ … ┆ null      ┆ null      ┆ null      ┆ null      │\n",
       "│          ┆          ┆ 2          ┆ Cambio    ┆   ┆           ┆           ┆           ┆           │\n",
       "│          ┆          ┆            ┆ Nominal   ┆   ┆           ┆           ┆           ┆           │\n",
       "│ EM       ┆ RIN      ┆ EM-RIN-01- ┆ EM        ┆ … ┆  Saldo    ┆ null      ┆ null      ┆ null      │\n",
       "│          ┆          ┆ 1          ┆           ┆   ┆           ┆           ┆           ┆           │\n",
       "│ EM       ┆ RIN      ┆ EM-RIN-01- ┆ EM        ┆ … ┆ Variación ┆ null      ┆ null      ┆ null      │\n",
       "│          ┆          ┆ 3          ┆           ┆   ┆ Absoluta  ┆           ┆           ┆           │\n",
       "│          ┆          ┆            ┆           ┆   ┆ Mensual   ┆           ┆           ┆           │\n",
       "│ …        ┆ …        ┆ …          ┆ …         ┆ … ┆ …         ┆ …         ┆ …         ┆ …         │\n",
       "│ ESR      ┆ ODA      ┆ ESR-ODA-01 ┆ OFERTA    ┆ … ┆ null      ┆ null      ┆ null      ┆ null      │\n",
       "│          ┆          ┆ -90        ┆ GLOBAL    ┆   ┆           ┆           ┆           ┆           │\n",
       "│ ESR      ┆ ODA      ┆ ESR-ODA-01 ┆ OFERTA    ┆ … ┆ null      ┆ null      ┆ null      ┆ null      │\n",
       "│          ┆          ┆ -91        ┆ GLOBAL    ┆   ┆           ┆           ┆           ┆           │\n",
       "│ ESR      ┆ ODA      ┆ ESR-ODA-01 ┆ OFERTA    ┆ … ┆ null      ┆ null      ┆ null      ┆ null      │\n",
       "│          ┆          ┆ -92        ┆ GLOBAL    ┆   ┆           ┆           ┆           ┆           │\n",
       "│ ESR      ┆ ODA      ┆ ESR-ODA-01 ┆ OFERTA    ┆ … ┆ null      ┆ null      ┆ null      ┆ null      │\n",
       "│          ┆          ┆ -93        ┆ GLOBAL    ┆   ┆           ┆           ┆           ┆           │\n",
       "│ ESR      ┆ ODA      ┆ ESR-ODA-01 ┆ OFERTA    ┆ … ┆ null      ┆ null      ┆ null      ┆ null      │\n",
       "│          ┆          ┆ -94        ┆ GLOBAL    ┆   ┆           ┆           ┆           ┆           │\n",
       "└──────────┴──────────┴────────────┴───────────┴───┴───────────┴───────────┴───────────┴───────────┘"
      ]
     },
     "execution_count": 220,
     "metadata": {},
     "output_type": "execute_result"
    }
   ],
   "source": [
    "df_all.select(\n",
    "    \"Niv_Gr_1\",\"Niv_Gr_2\",\"Nombre\",\n",
    "    \"Niv_Descr_1\",\"Niv_Descr_2\",\"Niv_Descr_3\",\"Niv_Descr_4\",\"Niv_Descr_5\",\"Niv_Descr_6\",\"Niv_Descr_7\",\"Niv_Descr_8\").sort(\"Niv_Gr_1\")"
   ]
  },
  {
   "cell_type": "markdown",
   "id": "e09281f5",
   "metadata": {},
   "source": [
    "## Periodicidad\n"
   ]
  },
  {
   "cell_type": "code",
   "execution_count": 221,
   "id": "tbl-periodicidad",
   "metadata": {},
   "outputs": [
    {
     "name": "stdout",
     "output_type": "stream",
     "text": [
      "11519 variables\n"
     ]
    },
    {
     "data": {
      "text/html": [
       "<div><style>\n",
       ".dataframe > thead > tr,\n",
       ".dataframe > tbody > tr {\n",
       "  text-align: right;\n",
       "  white-space: pre-wrap;\n",
       "}\n",
       "</style>\n",
       "<small>shape: (4, 2)</small><table border=\"1\" class=\"dataframe\"><thead><tr><th>Periodicidad</th><th>N_Variables</th></tr><tr><td>str</td><td>u32</td></tr></thead><tbody><tr><td>&quot;Diario&quot;</td><td>5579</td></tr><tr><td>&quot;Anual&quot;</td><td>4435</td></tr><tr><td>&quot;Trimestral&quot;</td><td>1261</td></tr><tr><td>&quot;Mensual&quot;</td><td>244</td></tr></tbody></table></div>"
      ],
      "text/plain": [
       "shape: (4, 2)\n",
       "┌──────────────┬─────────────┐\n",
       "│ Periodicidad ┆ N_Variables │\n",
       "│ ---          ┆ ---         │\n",
       "│ str          ┆ u32         │\n",
       "╞══════════════╪═════════════╡\n",
       "│ Diario       ┆ 5579        │\n",
       "│ Anual        ┆ 4435        │\n",
       "│ Trimestral   ┆ 1261        │\n",
       "│ Mensual      ┆ 244         │\n",
       "└──────────────┴─────────────┘"
      ]
     },
     "execution_count": 221,
     "metadata": {},
     "output_type": "execute_result"
    }
   ],
   "source": [
    "#| label: tbl-periodicidad\n",
    "#| tbl-cap: Número de Variables por Periodicidad\n",
    "\n",
    "# dfmeta = pl.DataFrame(dfmeta)\n",
    "variable = \"Periodicidad\"\n",
    "res = df_all.group_by(variable\n",
    "    ).agg(\n",
    "    pl.col(\"Periodicidad\").len().alias(\"N_Variables\"),\n",
    "    # pl.col(\"Monto\").sum().alias(\"Millones_USD\")\n",
    "    ).sort(\"N_Variables\",descending=True)\n",
    "pd.DataFrame(res).to_csv(\n",
    "        \"api/periodicidad.csv\",\n",
    "        sep=\";\")\n",
    "print(str(res[\"N_Variables\"].sum()) + \" variables\")\n",
    "res"
   ]
  },
  {
   "cell_type": "markdown",
   "id": "7bfc6f20",
   "metadata": {},
   "source": [
    "# Obtener Variables por Id\n",
    "\n",
    "## Una sola variable\n"
   ]
  },
  {
   "cell_type": "code",
   "execution_count": 222,
   "id": "568fa42d",
   "metadata": {},
   "outputs": [
    {
     "name": "stderr",
     "output_type": "stream",
     "text": [
      "<string>:29: FutureWarning:\n",
      "\n",
      "Passing literal json to 'read_json' is deprecated and will be removed in a future version. To read from a literal string, wrap it in a 'StringIO' object.\n",
      "\n"
     ]
    },
    {
     "name": "stderr",
     "output_type": "stream",
     "text": [
      "<string>:29: FutureWarning:\n",
      "\n",
      "Passing literal json to 'read_json' is deprecated and will be removed in a future version. To read from a literal string, wrap it in a 'StringIO' object.\n",
      "\n"
     ]
    },
    {
     "name": "stderr",
     "output_type": "stream",
     "text": [
      "<string>:29: FutureWarning:\n",
      "\n",
      "Passing literal json to 'read_json' is deprecated and will be removed in a future version. To read from a literal string, wrap it in a 'StringIO' object.\n",
      "\n"
     ]
    },
    {
     "name": "stderr",
     "output_type": "stream",
     "text": [
      "<string>:29: FutureWarning:\n",
      "\n",
      "Passing literal json to 'read_json' is deprecated and will be removed in a future version. To read from a literal string, wrap it in a 'StringIO' object.\n",
      "\n"
     ]
    },
    {
     "name": "stderr",
     "output_type": "stream",
     "text": [
      "<string>:29: FutureWarning:\n",
      "\n",
      "Passing literal json to 'read_json' is deprecated and will be removed in a future version. To read from a literal string, wrap it in a 'StringIO' object.\n",
      "\n"
     ]
    },
    {
     "data": {
      "text/html": [
       "<div>                            <div id=\"7ce79118-faec-4470-ac62-d6391c70699d\" class=\"plotly-graph-div\" style=\"height:500px; width:800px;\"></div>            <script type=\"text/javascript\">                require([\"plotly\"], function(Plotly) {                    window.PLOTLYENV=window.PLOTLYENV || {};                                    if (document.getElementById(\"7ce79118-faec-4470-ac62-d6391c70699d\")) {                    Plotly.newPlot(                        \"7ce79118-faec-4470-ac62-d6391c70699d\",                        [{\"hovertemplate\":\"variable=0\\u003cbr\\u003eFecha=%{x}\\u003cbr\\u003evalue=%{y}\\u003cextra\\u003e\\u003c\\u002fextra\\u003e\",\"legendgroup\":\"0\",\"line\":{\"color\":\"#636efa\",\"dash\":\"solid\"},\"marker\":{\"symbol\":\"circle\"},\"mode\":\"lines\",\"name\":\"0\",\"orientation\":\"v\",\"showlegend\":true,\"x\":[\"2023-01-01T00:00:00\",\"2023-01-01T00:00:00\",\"2022-01-01T00:00:00\",\"2022-01-01T00:00:00\",\"2021-01-01T00:00:00\",\"2021-01-01T00:00:00\",\"2020-01-01T00:00:00\",\"2020-01-01T00:00:00\",\"2019-01-01T00:00:00\",\"2019-01-01T00:00:00\",\"2018-01-01T00:00:00\",\"2018-01-01T00:00:00\",\"2017-01-01T00:00:00\",\"2017-01-01T00:00:00\",\"2016-01-01T00:00:00\",\"2016-01-01T00:00:00\",\"2015-01-01T00:00:00\",\"2015-01-01T00:00:00\",\"2014-01-01T00:00:00\",\"2014-01-01T00:00:00\",\"2013-01-01T00:00:00\",\"2013-01-01T00:00:00\",\"2012-01-01T00:00:00\",\"2012-01-01T00:00:00\",\"2011-01-01T00:00:00\",\"2011-01-01T00:00:00\",\"2010-01-01T00:00:00\",\"2010-01-01T00:00:00\",\"2009-01-01T00:00:00\",\"2009-01-01T00:00:00\",\"2008-01-01T00:00:00\",\"2008-01-01T00:00:00\",\"2007-01-01T00:00:00\",\"2007-01-01T00:00:00\",\"2006-01-01T00:00:00\",\"2006-01-01T00:00:00\",\"2005-01-01T00:00:00\",\"2005-01-01T00:00:00\",\"2004-01-01T00:00:00\",\"2004-01-01T00:00:00\",\"2003-01-01T00:00:00\",\"2003-01-01T00:00:00\",\"2002-01-01T00:00:00\",\"2002-01-01T00:00:00\",\"2001-01-01T00:00:00\",\"2001-01-01T00:00:00\",\"2000-01-01T00:00:00\",\"2000-01-01T00:00:00\"],\"xaxis\":\"x\",\"y\":[855131.7,855131.7,776635.6,776635.6,684203.8,684203.8,585733.6,585733.6,614917.7,614917.7,575284.9,575284.9,543403.0,543403.0,495921.9,495921.9,460405.2,460405.2,414633.5,414633.5,376539.4,376539.4,361348.5,361348.5,335027.8,335027.8,299286.0,299286.0,275632.2,275632.2,262416.9,262416.9,233567.2,233567.2,206288.0,206288.0,183747.4,183747.4,161507.5,161507.5,142817.8,142817.8,129166.6,129166.6,118415.7,118415.7,106654.2,106654.2],\"yaxis\":\"y\",\"type\":\"scatter\"}],                        {\"template\":{\"data\":{\"barpolar\":[{\"marker\":{\"line\":{\"color\":\"white\",\"width\":0.5},\"pattern\":{\"fillmode\":\"overlay\",\"size\":10,\"solidity\":0.2}},\"type\":\"barpolar\"}],\"bar\":[{\"error_x\":{\"color\":\"#2a3f5f\"},\"error_y\":{\"color\":\"#2a3f5f\"},\"marker\":{\"line\":{\"color\":\"white\",\"width\":0.5},\"pattern\":{\"fillmode\":\"overlay\",\"size\":10,\"solidity\":0.2}},\"type\":\"bar\"}],\"carpet\":[{\"aaxis\":{\"endlinecolor\":\"#2a3f5f\",\"gridcolor\":\"#C8D4E3\",\"linecolor\":\"#C8D4E3\",\"minorgridcolor\":\"#C8D4E3\",\"startlinecolor\":\"#2a3f5f\"},\"baxis\":{\"endlinecolor\":\"#2a3f5f\",\"gridcolor\":\"#C8D4E3\",\"linecolor\":\"#C8D4E3\",\"minorgridcolor\":\"#C8D4E3\",\"startlinecolor\":\"#2a3f5f\"},\"type\":\"carpet\"}],\"choropleth\":[{\"colorbar\":{\"outlinewidth\":0,\"ticks\":\"\"},\"type\":\"choropleth\"}],\"contourcarpet\":[{\"colorbar\":{\"outlinewidth\":0,\"ticks\":\"\"},\"type\":\"contourcarpet\"}],\"contour\":[{\"colorbar\":{\"outlinewidth\":0,\"ticks\":\"\"},\"colorscale\":[[0.0,\"#0d0887\"],[0.1111111111111111,\"#46039f\"],[0.2222222222222222,\"#7201a8\"],[0.3333333333333333,\"#9c179e\"],[0.4444444444444444,\"#bd3786\"],[0.5555555555555556,\"#d8576b\"],[0.6666666666666666,\"#ed7953\"],[0.7777777777777778,\"#fb9f3a\"],[0.8888888888888888,\"#fdca26\"],[1.0,\"#f0f921\"]],\"type\":\"contour\"}],\"heatmapgl\":[{\"colorbar\":{\"outlinewidth\":0,\"ticks\":\"\"},\"colorscale\":[[0.0,\"#0d0887\"],[0.1111111111111111,\"#46039f\"],[0.2222222222222222,\"#7201a8\"],[0.3333333333333333,\"#9c179e\"],[0.4444444444444444,\"#bd3786\"],[0.5555555555555556,\"#d8576b\"],[0.6666666666666666,\"#ed7953\"],[0.7777777777777778,\"#fb9f3a\"],[0.8888888888888888,\"#fdca26\"],[1.0,\"#f0f921\"]],\"type\":\"heatmapgl\"}],\"heatmap\":[{\"colorbar\":{\"outlinewidth\":0,\"ticks\":\"\"},\"colorscale\":[[0.0,\"#0d0887\"],[0.1111111111111111,\"#46039f\"],[0.2222222222222222,\"#7201a8\"],[0.3333333333333333,\"#9c179e\"],[0.4444444444444444,\"#bd3786\"],[0.5555555555555556,\"#d8576b\"],[0.6666666666666666,\"#ed7953\"],[0.7777777777777778,\"#fb9f3a\"],[0.8888888888888888,\"#fdca26\"],[1.0,\"#f0f921\"]],\"type\":\"heatmap\"}],\"histogram2dcontour\":[{\"colorbar\":{\"outlinewidth\":0,\"ticks\":\"\"},\"colorscale\":[[0.0,\"#0d0887\"],[0.1111111111111111,\"#46039f\"],[0.2222222222222222,\"#7201a8\"],[0.3333333333333333,\"#9c179e\"],[0.4444444444444444,\"#bd3786\"],[0.5555555555555556,\"#d8576b\"],[0.6666666666666666,\"#ed7953\"],[0.7777777777777778,\"#fb9f3a\"],[0.8888888888888888,\"#fdca26\"],[1.0,\"#f0f921\"]],\"type\":\"histogram2dcontour\"}],\"histogram2d\":[{\"colorbar\":{\"outlinewidth\":0,\"ticks\":\"\"},\"colorscale\":[[0.0,\"#0d0887\"],[0.1111111111111111,\"#46039f\"],[0.2222222222222222,\"#7201a8\"],[0.3333333333333333,\"#9c179e\"],[0.4444444444444444,\"#bd3786\"],[0.5555555555555556,\"#d8576b\"],[0.6666666666666666,\"#ed7953\"],[0.7777777777777778,\"#fb9f3a\"],[0.8888888888888888,\"#fdca26\"],[1.0,\"#f0f921\"]],\"type\":\"histogram2d\"}],\"histogram\":[{\"marker\":{\"pattern\":{\"fillmode\":\"overlay\",\"size\":10,\"solidity\":0.2}},\"type\":\"histogram\"}],\"mesh3d\":[{\"colorbar\":{\"outlinewidth\":0,\"ticks\":\"\"},\"type\":\"mesh3d\"}],\"parcoords\":[{\"line\":{\"colorbar\":{\"outlinewidth\":0,\"ticks\":\"\"}},\"type\":\"parcoords\"}],\"pie\":[{\"automargin\":true,\"type\":\"pie\"}],\"scatter3d\":[{\"line\":{\"colorbar\":{\"outlinewidth\":0,\"ticks\":\"\"}},\"marker\":{\"colorbar\":{\"outlinewidth\":0,\"ticks\":\"\"}},\"type\":\"scatter3d\"}],\"scattercarpet\":[{\"marker\":{\"colorbar\":{\"outlinewidth\":0,\"ticks\":\"\"}},\"type\":\"scattercarpet\"}],\"scattergeo\":[{\"marker\":{\"colorbar\":{\"outlinewidth\":0,\"ticks\":\"\"}},\"type\":\"scattergeo\"}],\"scattergl\":[{\"marker\":{\"colorbar\":{\"outlinewidth\":0,\"ticks\":\"\"}},\"type\":\"scattergl\"}],\"scattermapbox\":[{\"marker\":{\"colorbar\":{\"outlinewidth\":0,\"ticks\":\"\"}},\"type\":\"scattermapbox\"}],\"scatterpolargl\":[{\"marker\":{\"colorbar\":{\"outlinewidth\":0,\"ticks\":\"\"}},\"type\":\"scatterpolargl\"}],\"scatterpolar\":[{\"marker\":{\"colorbar\":{\"outlinewidth\":0,\"ticks\":\"\"}},\"type\":\"scatterpolar\"}],\"scatter\":[{\"fillpattern\":{\"fillmode\":\"overlay\",\"size\":10,\"solidity\":0.2},\"type\":\"scatter\"}],\"scatterternary\":[{\"marker\":{\"colorbar\":{\"outlinewidth\":0,\"ticks\":\"\"}},\"type\":\"scatterternary\"}],\"surface\":[{\"colorbar\":{\"outlinewidth\":0,\"ticks\":\"\"},\"colorscale\":[[0.0,\"#0d0887\"],[0.1111111111111111,\"#46039f\"],[0.2222222222222222,\"#7201a8\"],[0.3333333333333333,\"#9c179e\"],[0.4444444444444444,\"#bd3786\"],[0.5555555555555556,\"#d8576b\"],[0.6666666666666666,\"#ed7953\"],[0.7777777777777778,\"#fb9f3a\"],[0.8888888888888888,\"#fdca26\"],[1.0,\"#f0f921\"]],\"type\":\"surface\"}],\"table\":[{\"cells\":{\"fill\":{\"color\":\"#EBF0F8\"},\"line\":{\"color\":\"white\"}},\"header\":{\"fill\":{\"color\":\"#C8D4E3\"},\"line\":{\"color\":\"white\"}},\"type\":\"table\"}]},\"layout\":{\"annotationdefaults\":{\"arrowcolor\":\"#2a3f5f\",\"arrowhead\":0,\"arrowwidth\":1},\"autotypenumbers\":\"strict\",\"coloraxis\":{\"colorbar\":{\"outlinewidth\":0,\"ticks\":\"\"}},\"colorscale\":{\"diverging\":[[0,\"#8e0152\"],[0.1,\"#c51b7d\"],[0.2,\"#de77ae\"],[0.3,\"#f1b6da\"],[0.4,\"#fde0ef\"],[0.5,\"#f7f7f7\"],[0.6,\"#e6f5d0\"],[0.7,\"#b8e186\"],[0.8,\"#7fbc41\"],[0.9,\"#4d9221\"],[1,\"#276419\"]],\"sequential\":[[0.0,\"#0d0887\"],[0.1111111111111111,\"#46039f\"],[0.2222222222222222,\"#7201a8\"],[0.3333333333333333,\"#9c179e\"],[0.4444444444444444,\"#bd3786\"],[0.5555555555555556,\"#d8576b\"],[0.6666666666666666,\"#ed7953\"],[0.7777777777777778,\"#fb9f3a\"],[0.8888888888888888,\"#fdca26\"],[1.0,\"#f0f921\"]],\"sequentialminus\":[[0.0,\"#0d0887\"],[0.1111111111111111,\"#46039f\"],[0.2222222222222222,\"#7201a8\"],[0.3333333333333333,\"#9c179e\"],[0.4444444444444444,\"#bd3786\"],[0.5555555555555556,\"#d8576b\"],[0.6666666666666666,\"#ed7953\"],[0.7777777777777778,\"#fb9f3a\"],[0.8888888888888888,\"#fdca26\"],[1.0,\"#f0f921\"]]},\"colorway\":[\"#636efa\",\"#EF553B\",\"#00cc96\",\"#ab63fa\",\"#FFA15A\",\"#19d3f3\",\"#FF6692\",\"#B6E880\",\"#FF97FF\",\"#FECB52\"],\"font\":{\"color\":\"#2a3f5f\"},\"geo\":{\"bgcolor\":\"white\",\"lakecolor\":\"white\",\"landcolor\":\"white\",\"showlakes\":true,\"showland\":true,\"subunitcolor\":\"#C8D4E3\"},\"hoverlabel\":{\"align\":\"left\"},\"hovermode\":\"closest\",\"mapbox\":{\"style\":\"light\"},\"paper_bgcolor\":\"white\",\"plot_bgcolor\":\"white\",\"polar\":{\"angularaxis\":{\"gridcolor\":\"#EBF0F8\",\"linecolor\":\"#EBF0F8\",\"ticks\":\"\"},\"bgcolor\":\"white\",\"radialaxis\":{\"gridcolor\":\"#EBF0F8\",\"linecolor\":\"#EBF0F8\",\"ticks\":\"\"}},\"scene\":{\"xaxis\":{\"backgroundcolor\":\"white\",\"gridcolor\":\"#DFE8F3\",\"gridwidth\":2,\"linecolor\":\"#EBF0F8\",\"showbackground\":true,\"ticks\":\"\",\"zerolinecolor\":\"#EBF0F8\"},\"yaxis\":{\"backgroundcolor\":\"white\",\"gridcolor\":\"#DFE8F3\",\"gridwidth\":2,\"linecolor\":\"#EBF0F8\",\"showbackground\":true,\"ticks\":\"\",\"zerolinecolor\":\"#EBF0F8\"},\"zaxis\":{\"backgroundcolor\":\"white\",\"gridcolor\":\"#DFE8F3\",\"gridwidth\":2,\"linecolor\":\"#EBF0F8\",\"showbackground\":true,\"ticks\":\"\",\"zerolinecolor\":\"#EBF0F8\"}},\"shapedefaults\":{\"line\":{\"color\":\"#2a3f5f\"}},\"ternary\":{\"aaxis\":{\"gridcolor\":\"#DFE8F3\",\"linecolor\":\"#A2B1C6\",\"ticks\":\"\"},\"baxis\":{\"gridcolor\":\"#DFE8F3\",\"linecolor\":\"#A2B1C6\",\"ticks\":\"\"},\"bgcolor\":\"white\",\"caxis\":{\"gridcolor\":\"#DFE8F3\",\"linecolor\":\"#A2B1C6\",\"ticks\":\"\"}},\"title\":{\"x\":0.05},\"xaxis\":{\"automargin\":true,\"gridcolor\":\"#EBF0F8\",\"linecolor\":\"#EBF0F8\",\"ticks\":\"\",\"title\":{\"standoff\":15},\"zerolinecolor\":\"#EBF0F8\",\"zerolinewidth\":2},\"yaxis\":{\"automargin\":true,\"gridcolor\":\"#EBF0F8\",\"linecolor\":\"#EBF0F8\",\"ticks\":\"\",\"title\":{\"standoff\":15},\"zerolinecolor\":\"#EBF0F8\",\"zerolinewidth\":2}}},\"xaxis\":{\"anchor\":\"y\",\"domain\":[0.0,1.0],\"title\":{}},\"yaxis\":{\"anchor\":\"x\",\"domain\":[0.0,1.0],\"title\":{}},\"legend\":{\"title\":{\"text\":\"variable\"},\"tracegroupgap\":0},\"title\":{\"text\":\"ESR-PIBA-03 - Precio - Producto Interno Bruto (pm)\"},\"autosize\":false,\"width\":800,\"height\":500,\"showlegend\":false},                        {\"responsive\": true}                    ).then(function(){\n",
       "                            \n",
       "var gd = document.getElementById('7ce79118-faec-4470-ac62-d6391c70699d');\n",
       "var x = new MutationObserver(function (mutations, observer) {{\n",
       "        var display = window.getComputedStyle(gd).display;\n",
       "        if (!display || display === 'none') {{\n",
       "            console.log([gd, 'removed!']);\n",
       "            Plotly.purge(gd);\n",
       "            observer.disconnect();\n",
       "        }}\n",
       "}});\n",
       "\n",
       "// Listen for the removal of the full notebook cells\n",
       "var notebookContainer = gd.closest('#notebook-container');\n",
       "if (notebookContainer) {{\n",
       "    x.observe(notebookContainer, {childList: true});\n",
       "}}\n",
       "\n",
       "// Listen for the clearing of the current output cell\n",
       "var outputEl = gd.closest('.output');\n",
       "if (outputEl) {{\n",
       "    x.observe(outputEl, {childList: true});\n",
       "}}\n",
       "\n",
       "                        })                };                });            </script>        </div>"
      ]
     },
     "metadata": {},
     "output_type": "display_data"
    },
    {
     "data": {
      "text/html": [
       "<div><style>\n",
       ".dataframe > thead > tr,\n",
       ".dataframe > tbody > tr {\n",
       "  text-align: right;\n",
       "  white-space: pre-wrap;\n",
       "}\n",
       "</style>\n",
       "<small>shape: (48, 2)</small><table border=\"1\" class=\"dataframe\"><thead><tr><th>Fecha</th><th>ESR-PIBA-03 - Precio - Producto Interno Bruto (pm)</th></tr><tr><td>date</td><td>f64</td></tr></thead><tbody><tr><td>2023-01-01</td><td>855131.7</td></tr><tr><td>2023-01-01</td><td>855131.7</td></tr><tr><td>2022-01-01</td><td>776635.6</td></tr><tr><td>2022-01-01</td><td>776635.6</td></tr><tr><td>2021-01-01</td><td>684203.8</td></tr><tr><td>&hellip;</td><td>&hellip;</td></tr><tr><td>2002-01-01</td><td>129166.6</td></tr><tr><td>2001-01-01</td><td>118415.7</td></tr><tr><td>2001-01-01</td><td>118415.7</td></tr><tr><td>2000-01-01</td><td>106654.2</td></tr><tr><td>2000-01-01</td><td>106654.2</td></tr></tbody></table></div>"
      ],
      "text/plain": [
       "shape: (48, 2)\n",
       "┌────────────┬───────────────────────────────────┐\n",
       "│ Fecha      ┆ ESR-PIBA-03 - Precio - Producto … │\n",
       "│ ---        ┆ ---                               │\n",
       "│ date       ┆ f64                               │\n",
       "╞════════════╪═══════════════════════════════════╡\n",
       "│ 2023-01-01 ┆ 855131.7                          │\n",
       "│ 2023-01-01 ┆ 855131.7                          │\n",
       "│ 2022-01-01 ┆ 776635.6                          │\n",
       "│ 2022-01-01 ┆ 776635.6                          │\n",
       "│ 2021-01-01 ┆ 684203.8                          │\n",
       "│ …          ┆ …                                 │\n",
       "│ 2002-01-01 ┆ 129166.6                          │\n",
       "│ 2001-01-01 ┆ 118415.7                          │\n",
       "│ 2001-01-01 ┆ 118415.7                          │\n",
       "│ 2000-01-01 ┆ 106654.2                          │\n",
       "│ 2000-01-01 ┆ 106654.2                          │\n",
       "└────────────┴───────────────────────────────────┘"
      ]
     },
     "execution_count": 222,
     "metadata": {},
     "output_type": "execute_result"
    }
   ],
   "source": [
    "# df_all = save_variables()\n",
    "df_all = save_variables_vscode()\n",
    "Id = 204\n",
    "df = get_df(Id)\n",
    "get_plot(Id)\n",
    "df.columns\n",
    "df.write_csv(\n",
    "    file_path + \"/api/data.csv\",\n",
    "    separator=\";\")\n",
    "df "
   ]
  },
  {
   "cell_type": "code",
   "execution_count": 223,
   "id": "47e61989",
   "metadata": {},
   "outputs": [
    {
     "name": "stderr",
     "output_type": "stream",
     "text": [
      "<string>:29: FutureWarning:\n",
      "\n",
      "Passing literal json to 'read_json' is deprecated and will be removed in a future version. To read from a literal string, wrap it in a 'StringIO' object.\n",
      "\n"
     ]
    },
    {
     "name": "stderr",
     "output_type": "stream",
     "text": [
      "<string>:29: FutureWarning:\n",
      "\n",
      "Passing literal json to 'read_json' is deprecated and will be removed in a future version. To read from a literal string, wrap it in a 'StringIO' object.\n",
      "\n"
     ]
    },
    {
     "name": "stderr",
     "output_type": "stream",
     "text": [
      "<string>:29: FutureWarning:\n",
      "\n",
      "Passing literal json to 'read_json' is deprecated and will be removed in a future version. To read from a literal string, wrap it in a 'StringIO' object.\n",
      "\n"
     ]
    },
    {
     "name": "stderr",
     "output_type": "stream",
     "text": [
      "<string>:29: FutureWarning:\n",
      "\n",
      "Passing literal json to 'read_json' is deprecated and will be removed in a future version. To read from a literal string, wrap it in a 'StringIO' object.\n",
      "\n"
     ]
    },
    {
     "data": {
      "text/html": [
       "<div>                            <div id=\"494579ad-1ec6-4a55-a7d3-588e743c40bc\" class=\"plotly-graph-div\" style=\"height:500px; width:800px;\"></div>            <script type=\"text/javascript\">                require([\"plotly\"], function(Plotly) {                    window.PLOTLYENV=window.PLOTLYENV || {};                                    if (document.getElementById(\"494579ad-1ec6-4a55-a7d3-588e743c40bc\")) {                    Plotly.newPlot(                        \"494579ad-1ec6-4a55-a7d3-588e743c40bc\",                        [{\"hovertemplate\":\"variable=0\\u003cbr\\u003eFecha=%{x}\\u003cbr\\u003evalue=%{y}\\u003cextra\\u003e\\u003c\\u002fextra\\u003e\",\"legendgroup\":\"0\",\"line\":{\"color\":\"#636efa\",\"dash\":\"solid\"},\"marker\":{\"symbol\":\"circle\"},\"mode\":\"lines\",\"name\":\"0\",\"orientation\":\"v\",\"showlegend\":true,\"x\":[\"2023-12-01T00:00:00\",\"2023-09-01T00:00:00\",\"2023-06-01T00:00:00\",\"2023-03-01T00:00:00\",\"2022-12-01T00:00:00\",\"2022-09-01T00:00:00\",\"2022-06-01T00:00:00\",\"2022-03-01T00:00:00\",\"2021-12-01T00:00:00\",\"2021-09-01T00:00:00\",\"2021-06-01T00:00:00\",\"2021-03-01T00:00:00\",\"2020-12-01T00:00:00\",\"2020-09-01T00:00:00\",\"2020-06-01T00:00:00\",\"2020-03-01T00:00:00\",\"2019-12-01T00:00:00\",\"2019-09-01T00:00:00\",\"2019-06-01T00:00:00\",\"2019-03-01T00:00:00\",\"2018-12-01T00:00:00\",\"2018-09-01T00:00:00\",\"2018-06-01T00:00:00\",\"2018-03-01T00:00:00\",\"2017-12-01T00:00:00\",\"2017-09-01T00:00:00\",\"2017-06-01T00:00:00\",\"2017-03-01T00:00:00\",\"2016-12-01T00:00:00\",\"2016-09-01T00:00:00\",\"2016-06-01T00:00:00\",\"2016-03-01T00:00:00\",\"2015-12-01T00:00:00\",\"2015-09-01T00:00:00\",\"2015-06-01T00:00:00\",\"2015-03-01T00:00:00\",\"2014-12-01T00:00:00\",\"2014-09-01T00:00:00\",\"2014-06-01T00:00:00\",\"2014-03-01T00:00:00\",\"2013-12-01T00:00:00\",\"2013-09-01T00:00:00\",\"2013-06-01T00:00:00\",\"2013-03-01T00:00:00\",\"2012-12-01T00:00:00\",\"2012-09-01T00:00:00\",\"2012-06-01T00:00:00\",\"2012-03-01T00:00:00\",\"2011-12-01T00:00:00\",\"2011-09-01T00:00:00\",\"2011-06-01T00:00:00\",\"2011-03-01T00:00:00\",\"2010-12-01T00:00:00\",\"2010-09-01T00:00:00\",\"2010-06-01T00:00:00\",\"2010-03-01T00:00:00\",\"2009-12-01T00:00:00\",\"2009-09-01T00:00:00\",\"2009-06-01T00:00:00\",\"2009-03-01T00:00:00\",\"2008-12-01T00:00:00\",\"2008-09-01T00:00:00\",\"2008-06-01T00:00:00\",\"2008-03-01T00:00:00\",\"2007-12-01T00:00:00\",\"2007-09-01T00:00:00\",\"2007-06-01T00:00:00\",\"2007-03-01T00:00:00\",\"2006-12-01T00:00:00\",\"2006-09-01T00:00:00\",\"2006-06-01T00:00:00\",\"2006-03-01T00:00:00\",\"2005-12-01T00:00:00\",\"2005-09-01T00:00:00\",\"2005-06-01T00:00:00\",\"2005-03-01T00:00:00\",\"2004-12-01T00:00:00\",\"2004-09-01T00:00:00\",\"2004-06-01T00:00:00\",\"2004-03-01T00:00:00\",\"2003-12-01T00:00:00\",\"2003-09-01T00:00:00\",\"2003-06-01T00:00:00\",\"2003-03-01T00:00:00\",\"2002-12-01T00:00:00\",\"2002-09-01T00:00:00\",\"2002-06-01T00:00:00\",\"2002-03-01T00:00:00\",\"2001-12-01T00:00:00\",\"2001-09-01T00:00:00\",\"2001-06-01T00:00:00\",\"2001-03-01T00:00:00\",\"2000-12-01T00:00:00\",\"2000-09-01T00:00:00\",\"2000-06-01T00:00:00\",\"2000-03-01T00:00:00\"],\"xaxis\":\"x\",\"y\":[219381.4,213129.5,209919.4,203879.0,201538.6,196549.1,188921.9,182490.1,179063.7,173854.3,165494.3,157525.5,151065.7,144805.0,127011.4,151161.0,155868.4,154234.9,150565.4,149158.3,147946.9,144337.8,143770.1,139230.1,138625.8,138182.3,134474.8,132120.2,130282.2,125256.7,121827.0,118556.1,118777.6,115404.3,113394.9,112828.4,108426.7,104424.2,102826.5,98956.1,95358.7,94628.3,94118.3,92434.2,90485.5,91352.0,90670.3,88840.8,87870.7,84518.5,82651.7,79987.0,79179.4,75332.5,73336.3,71437.8,69517.1,68561.2,68749.4,68804.5,68245.9,65018.7,66358.6,62793.6,61096.8,59033.0,57607.2,55830.2,54718.6,51526.7,50664.9,49377.9,47944.8,46227.2,44977.6,44597.8,42075.1,41050.0,40109.4,38272.9,37614.0,36258.9,35147.9,33797.1,33322.5,33275.7,31986.7,30581.7,30818.6,29764.7,29389.0,28443.4,27230.4,26849.0,26554.2,26020.6],\"yaxis\":\"y\",\"type\":\"scatter\"}],                        {\"template\":{\"data\":{\"barpolar\":[{\"marker\":{\"line\":{\"color\":\"white\",\"width\":0.5},\"pattern\":{\"fillmode\":\"overlay\",\"size\":10,\"solidity\":0.2}},\"type\":\"barpolar\"}],\"bar\":[{\"error_x\":{\"color\":\"#2a3f5f\"},\"error_y\":{\"color\":\"#2a3f5f\"},\"marker\":{\"line\":{\"color\":\"white\",\"width\":0.5},\"pattern\":{\"fillmode\":\"overlay\",\"size\":10,\"solidity\":0.2}},\"type\":\"bar\"}],\"carpet\":[{\"aaxis\":{\"endlinecolor\":\"#2a3f5f\",\"gridcolor\":\"#C8D4E3\",\"linecolor\":\"#C8D4E3\",\"minorgridcolor\":\"#C8D4E3\",\"startlinecolor\":\"#2a3f5f\"},\"baxis\":{\"endlinecolor\":\"#2a3f5f\",\"gridcolor\":\"#C8D4E3\",\"linecolor\":\"#C8D4E3\",\"minorgridcolor\":\"#C8D4E3\",\"startlinecolor\":\"#2a3f5f\"},\"type\":\"carpet\"}],\"choropleth\":[{\"colorbar\":{\"outlinewidth\":0,\"ticks\":\"\"},\"type\":\"choropleth\"}],\"contourcarpet\":[{\"colorbar\":{\"outlinewidth\":0,\"ticks\":\"\"},\"type\":\"contourcarpet\"}],\"contour\":[{\"colorbar\":{\"outlinewidth\":0,\"ticks\":\"\"},\"colorscale\":[[0.0,\"#0d0887\"],[0.1111111111111111,\"#46039f\"],[0.2222222222222222,\"#7201a8\"],[0.3333333333333333,\"#9c179e\"],[0.4444444444444444,\"#bd3786\"],[0.5555555555555556,\"#d8576b\"],[0.6666666666666666,\"#ed7953\"],[0.7777777777777778,\"#fb9f3a\"],[0.8888888888888888,\"#fdca26\"],[1.0,\"#f0f921\"]],\"type\":\"contour\"}],\"heatmapgl\":[{\"colorbar\":{\"outlinewidth\":0,\"ticks\":\"\"},\"colorscale\":[[0.0,\"#0d0887\"],[0.1111111111111111,\"#46039f\"],[0.2222222222222222,\"#7201a8\"],[0.3333333333333333,\"#9c179e\"],[0.4444444444444444,\"#bd3786\"],[0.5555555555555556,\"#d8576b\"],[0.6666666666666666,\"#ed7953\"],[0.7777777777777778,\"#fb9f3a\"],[0.8888888888888888,\"#fdca26\"],[1.0,\"#f0f921\"]],\"type\":\"heatmapgl\"}],\"heatmap\":[{\"colorbar\":{\"outlinewidth\":0,\"ticks\":\"\"},\"colorscale\":[[0.0,\"#0d0887\"],[0.1111111111111111,\"#46039f\"],[0.2222222222222222,\"#7201a8\"],[0.3333333333333333,\"#9c179e\"],[0.4444444444444444,\"#bd3786\"],[0.5555555555555556,\"#d8576b\"],[0.6666666666666666,\"#ed7953\"],[0.7777777777777778,\"#fb9f3a\"],[0.8888888888888888,\"#fdca26\"],[1.0,\"#f0f921\"]],\"type\":\"heatmap\"}],\"histogram2dcontour\":[{\"colorbar\":{\"outlinewidth\":0,\"ticks\":\"\"},\"colorscale\":[[0.0,\"#0d0887\"],[0.1111111111111111,\"#46039f\"],[0.2222222222222222,\"#7201a8\"],[0.3333333333333333,\"#9c179e\"],[0.4444444444444444,\"#bd3786\"],[0.5555555555555556,\"#d8576b\"],[0.6666666666666666,\"#ed7953\"],[0.7777777777777778,\"#fb9f3a\"],[0.8888888888888888,\"#fdca26\"],[1.0,\"#f0f921\"]],\"type\":\"histogram2dcontour\"}],\"histogram2d\":[{\"colorbar\":{\"outlinewidth\":0,\"ticks\":\"\"},\"colorscale\":[[0.0,\"#0d0887\"],[0.1111111111111111,\"#46039f\"],[0.2222222222222222,\"#7201a8\"],[0.3333333333333333,\"#9c179e\"],[0.4444444444444444,\"#bd3786\"],[0.5555555555555556,\"#d8576b\"],[0.6666666666666666,\"#ed7953\"],[0.7777777777777778,\"#fb9f3a\"],[0.8888888888888888,\"#fdca26\"],[1.0,\"#f0f921\"]],\"type\":\"histogram2d\"}],\"histogram\":[{\"marker\":{\"pattern\":{\"fillmode\":\"overlay\",\"size\":10,\"solidity\":0.2}},\"type\":\"histogram\"}],\"mesh3d\":[{\"colorbar\":{\"outlinewidth\":0,\"ticks\":\"\"},\"type\":\"mesh3d\"}],\"parcoords\":[{\"line\":{\"colorbar\":{\"outlinewidth\":0,\"ticks\":\"\"}},\"type\":\"parcoords\"}],\"pie\":[{\"automargin\":true,\"type\":\"pie\"}],\"scatter3d\":[{\"line\":{\"colorbar\":{\"outlinewidth\":0,\"ticks\":\"\"}},\"marker\":{\"colorbar\":{\"outlinewidth\":0,\"ticks\":\"\"}},\"type\":\"scatter3d\"}],\"scattercarpet\":[{\"marker\":{\"colorbar\":{\"outlinewidth\":0,\"ticks\":\"\"}},\"type\":\"scattercarpet\"}],\"scattergeo\":[{\"marker\":{\"colorbar\":{\"outlinewidth\":0,\"ticks\":\"\"}},\"type\":\"scattergeo\"}],\"scattergl\":[{\"marker\":{\"colorbar\":{\"outlinewidth\":0,\"ticks\":\"\"}},\"type\":\"scattergl\"}],\"scattermapbox\":[{\"marker\":{\"colorbar\":{\"outlinewidth\":0,\"ticks\":\"\"}},\"type\":\"scattermapbox\"}],\"scatterpolargl\":[{\"marker\":{\"colorbar\":{\"outlinewidth\":0,\"ticks\":\"\"}},\"type\":\"scatterpolargl\"}],\"scatterpolar\":[{\"marker\":{\"colorbar\":{\"outlinewidth\":0,\"ticks\":\"\"}},\"type\":\"scatterpolar\"}],\"scatter\":[{\"fillpattern\":{\"fillmode\":\"overlay\",\"size\":10,\"solidity\":0.2},\"type\":\"scatter\"}],\"scatterternary\":[{\"marker\":{\"colorbar\":{\"outlinewidth\":0,\"ticks\":\"\"}},\"type\":\"scatterternary\"}],\"surface\":[{\"colorbar\":{\"outlinewidth\":0,\"ticks\":\"\"},\"colorscale\":[[0.0,\"#0d0887\"],[0.1111111111111111,\"#46039f\"],[0.2222222222222222,\"#7201a8\"],[0.3333333333333333,\"#9c179e\"],[0.4444444444444444,\"#bd3786\"],[0.5555555555555556,\"#d8576b\"],[0.6666666666666666,\"#ed7953\"],[0.7777777777777778,\"#fb9f3a\"],[0.8888888888888888,\"#fdca26\"],[1.0,\"#f0f921\"]],\"type\":\"surface\"}],\"table\":[{\"cells\":{\"fill\":{\"color\":\"#EBF0F8\"},\"line\":{\"color\":\"white\"}},\"header\":{\"fill\":{\"color\":\"#C8D4E3\"},\"line\":{\"color\":\"white\"}},\"type\":\"table\"}]},\"layout\":{\"annotationdefaults\":{\"arrowcolor\":\"#2a3f5f\",\"arrowhead\":0,\"arrowwidth\":1},\"autotypenumbers\":\"strict\",\"coloraxis\":{\"colorbar\":{\"outlinewidth\":0,\"ticks\":\"\"}},\"colorscale\":{\"diverging\":[[0,\"#8e0152\"],[0.1,\"#c51b7d\"],[0.2,\"#de77ae\"],[0.3,\"#f1b6da\"],[0.4,\"#fde0ef\"],[0.5,\"#f7f7f7\"],[0.6,\"#e6f5d0\"],[0.7,\"#b8e186\"],[0.8,\"#7fbc41\"],[0.9,\"#4d9221\"],[1,\"#276419\"]],\"sequential\":[[0.0,\"#0d0887\"],[0.1111111111111111,\"#46039f\"],[0.2222222222222222,\"#7201a8\"],[0.3333333333333333,\"#9c179e\"],[0.4444444444444444,\"#bd3786\"],[0.5555555555555556,\"#d8576b\"],[0.6666666666666666,\"#ed7953\"],[0.7777777777777778,\"#fb9f3a\"],[0.8888888888888888,\"#fdca26\"],[1.0,\"#f0f921\"]],\"sequentialminus\":[[0.0,\"#0d0887\"],[0.1111111111111111,\"#46039f\"],[0.2222222222222222,\"#7201a8\"],[0.3333333333333333,\"#9c179e\"],[0.4444444444444444,\"#bd3786\"],[0.5555555555555556,\"#d8576b\"],[0.6666666666666666,\"#ed7953\"],[0.7777777777777778,\"#fb9f3a\"],[0.8888888888888888,\"#fdca26\"],[1.0,\"#f0f921\"]]},\"colorway\":[\"#636efa\",\"#EF553B\",\"#00cc96\",\"#ab63fa\",\"#FFA15A\",\"#19d3f3\",\"#FF6692\",\"#B6E880\",\"#FF97FF\",\"#FECB52\"],\"font\":{\"color\":\"#2a3f5f\"},\"geo\":{\"bgcolor\":\"white\",\"lakecolor\":\"white\",\"landcolor\":\"white\",\"showlakes\":true,\"showland\":true,\"subunitcolor\":\"#C8D4E3\"},\"hoverlabel\":{\"align\":\"left\"},\"hovermode\":\"closest\",\"mapbox\":{\"style\":\"light\"},\"paper_bgcolor\":\"white\",\"plot_bgcolor\":\"white\",\"polar\":{\"angularaxis\":{\"gridcolor\":\"#EBF0F8\",\"linecolor\":\"#EBF0F8\",\"ticks\":\"\"},\"bgcolor\":\"white\",\"radialaxis\":{\"gridcolor\":\"#EBF0F8\",\"linecolor\":\"#EBF0F8\",\"ticks\":\"\"}},\"scene\":{\"xaxis\":{\"backgroundcolor\":\"white\",\"gridcolor\":\"#DFE8F3\",\"gridwidth\":2,\"linecolor\":\"#EBF0F8\",\"showbackground\":true,\"ticks\":\"\",\"zerolinecolor\":\"#EBF0F8\"},\"yaxis\":{\"backgroundcolor\":\"white\",\"gridcolor\":\"#DFE8F3\",\"gridwidth\":2,\"linecolor\":\"#EBF0F8\",\"showbackground\":true,\"ticks\":\"\",\"zerolinecolor\":\"#EBF0F8\"},\"zaxis\":{\"backgroundcolor\":\"white\",\"gridcolor\":\"#DFE8F3\",\"gridwidth\":2,\"linecolor\":\"#EBF0F8\",\"showbackground\":true,\"ticks\":\"\",\"zerolinecolor\":\"#EBF0F8\"}},\"shapedefaults\":{\"line\":{\"color\":\"#2a3f5f\"}},\"ternary\":{\"aaxis\":{\"gridcolor\":\"#DFE8F3\",\"linecolor\":\"#A2B1C6\",\"ticks\":\"\"},\"baxis\":{\"gridcolor\":\"#DFE8F3\",\"linecolor\":\"#A2B1C6\",\"ticks\":\"\"},\"bgcolor\":\"white\",\"caxis\":{\"gridcolor\":\"#DFE8F3\",\"linecolor\":\"#A2B1C6\",\"ticks\":\"\"}},\"title\":{\"x\":0.05},\"xaxis\":{\"automargin\":true,\"gridcolor\":\"#EBF0F8\",\"linecolor\":\"#EBF0F8\",\"ticks\":\"\",\"title\":{\"standoff\":15},\"zerolinecolor\":\"#EBF0F8\",\"zerolinewidth\":2},\"yaxis\":{\"automargin\":true,\"gridcolor\":\"#EBF0F8\",\"linecolor\":\"#EBF0F8\",\"ticks\":\"\",\"title\":{\"standoff\":15},\"zerolinecolor\":\"#EBF0F8\",\"zerolinewidth\":2}}},\"xaxis\":{\"anchor\":\"y\",\"domain\":[0.0,1.0],\"title\":{}},\"yaxis\":{\"anchor\":\"x\",\"domain\":[0.0,1.0],\"title\":{}},\"legend\":{\"title\":{\"text\":\"variable\"},\"tracegroupgap\":0},\"title\":{\"text\":\"Serie Desestacionalizada-VALORES CORRIENTES-23-Producto Interno Bruto a precios de mercado\"},\"autosize\":false,\"width\":800,\"height\":500,\"showlegend\":false},                        {\"responsive\": true}                    ).then(function(){\n",
       "                            \n",
       "var gd = document.getElementById('494579ad-1ec6-4a55-a7d3-588e743c40bc');\n",
       "var x = new MutationObserver(function (mutations, observer) {{\n",
       "        var display = window.getComputedStyle(gd).display;\n",
       "        if (!display || display === 'none') {{\n",
       "            console.log([gd, 'removed!']);\n",
       "            Plotly.purge(gd);\n",
       "            observer.disconnect();\n",
       "        }}\n",
       "}});\n",
       "\n",
       "// Listen for the removal of the full notebook cells\n",
       "var notebookContainer = gd.closest('#notebook-container');\n",
       "if (notebookContainer) {{\n",
       "    x.observe(notebookContainer, {childList: true});\n",
       "}}\n",
       "\n",
       "// Listen for the clearing of the current output cell\n",
       "var outputEl = gd.closest('.output');\n",
       "if (outputEl) {{\n",
       "    x.observe(outputEl, {childList: true});\n",
       "}}\n",
       "\n",
       "                        })                };                });            </script>        </div>"
      ]
     },
     "metadata": {},
     "output_type": "display_data"
    },
    {
     "data": {
      "text/html": [
       "<div><style>\n",
       ".dataframe > thead > tr,\n",
       ".dataframe > tbody > tr {\n",
       "  text-align: right;\n",
       "  white-space: pre-wrap;\n",
       "}\n",
       "</style>\n",
       "<small>shape: (96, 2)</small><table border=\"1\" class=\"dataframe\"><thead><tr><th>Fecha</th><th>Serie Desestacionalizada-VALORES CORRIENTES-23-Producto Interno Bruto a precios de mercado</th></tr><tr><td>date</td><td>f64</td></tr></thead><tbody><tr><td>2023-12-01</td><td>219381.4</td></tr><tr><td>2023-09-01</td><td>213129.5</td></tr><tr><td>2023-06-01</td><td>209919.4</td></tr><tr><td>2023-03-01</td><td>203879.0</td></tr><tr><td>2022-12-01</td><td>201538.6</td></tr><tr><td>&hellip;</td><td>&hellip;</td></tr><tr><td>2001-03-01</td><td>28443.4</td></tr><tr><td>2000-12-01</td><td>27230.4</td></tr><tr><td>2000-09-01</td><td>26849.0</td></tr><tr><td>2000-06-01</td><td>26554.2</td></tr><tr><td>2000-03-01</td><td>26020.6</td></tr></tbody></table></div>"
      ],
      "text/plain": [
       "shape: (96, 2)\n",
       "┌────────────┬───────────────────────────────────┐\n",
       "│ Fecha      ┆ Serie Desestacionalizada-VALORES… │\n",
       "│ ---        ┆ ---                               │\n",
       "│ date       ┆ f64                               │\n",
       "╞════════════╪═══════════════════════════════════╡\n",
       "│ 2023-12-01 ┆ 219381.4                          │\n",
       "│ 2023-09-01 ┆ 213129.5                          │\n",
       "│ 2023-06-01 ┆ 209919.4                          │\n",
       "│ 2023-03-01 ┆ 203879.0                          │\n",
       "│ 2022-12-01 ┆ 201538.6                          │\n",
       "│ …          ┆ …                                 │\n",
       "│ 2001-03-01 ┆ 28443.4                           │\n",
       "│ 2000-12-01 ┆ 27230.4                           │\n",
       "│ 2000-09-01 ┆ 26849.0                           │\n",
       "│ 2000-06-01 ┆ 26554.2                           │\n",
       "│ 2000-03-01 ┆ 26020.6                           │\n",
       "└────────────┴───────────────────────────────────┘"
      ]
     },
     "execution_count": 223,
     "metadata": {},
     "output_type": "execute_result"
    }
   ],
   "source": [
    "Id = 7\n",
    "df = get_df(Id)\n",
    "get_plot(Id)\n",
    "df.columns\n",
    "df.write_csv(\n",
    "    file_path + \"/api/data.csv\",\n",
    "    separator=\";\")\n",
    "df"
   ]
  },
  {
   "cell_type": "markdown",
   "id": "37fcd63c",
   "metadata": {},
   "source": [
    "## Varias variables\n"
   ]
  },
  {
   "cell_type": "code",
   "execution_count": 224,
   "id": "792152e3",
   "metadata": {},
   "outputs": [
    {
     "name": "stderr",
     "output_type": "stream",
     "text": [
      "<string>:29: FutureWarning:\n",
      "\n",
      "Passing literal json to 'read_json' is deprecated and will be removed in a future version. To read from a literal string, wrap it in a 'StringIO' object.\n",
      "\n"
     ]
    },
    {
     "name": "stderr",
     "output_type": "stream",
     "text": [
      "<string>:29: FutureWarning:\n",
      "\n",
      "Passing literal json to 'read_json' is deprecated and will be removed in a future version. To read from a literal string, wrap it in a 'StringIO' object.\n",
      "\n"
     ]
    },
    {
     "name": "stderr",
     "output_type": "stream",
     "text": [
      "<string>:29: FutureWarning:\n",
      "\n",
      "Passing literal json to 'read_json' is deprecated and will be removed in a future version. To read from a literal string, wrap it in a 'StringIO' object.\n",
      "\n"
     ]
    },
    {
     "name": "stderr",
     "output_type": "stream",
     "text": [
      "<string>:29: FutureWarning:\n",
      "\n",
      "Passing literal json to 'read_json' is deprecated and will be removed in a future version. To read from a literal string, wrap it in a 'StringIO' object.\n",
      "\n"
     ]
    },
    {
     "name": "stderr",
     "output_type": "stream",
     "text": [
      "<string>:29: FutureWarning:\n",
      "\n",
      "Passing literal json to 'read_json' is deprecated and will be removed in a future version. To read from a literal string, wrap it in a 'StringIO' object.\n",
      "\n"
     ]
    },
    {
     "name": "stderr",
     "output_type": "stream",
     "text": [
      "<string>:29: FutureWarning:\n",
      "\n",
      "Passing literal json to 'read_json' is deprecated and will be removed in a future version. To read from a literal string, wrap it in a 'StringIO' object.\n",
      "\n"
     ]
    },
    {
     "data": {
      "text/html": [
       "<div><style>\n",
       ".dataframe > thead > tr,\n",
       ".dataframe > tbody > tr {\n",
       "  text-align: right;\n",
       "  white-space: pre-wrap;\n",
       "}\n",
       "</style>\n",
       "<small>shape: (96, 4)</small><table border=\"1\" class=\"dataframe\"><thead><tr><th>Fecha</th><th>Serie Desestacionalizada-VALORES CONSTANTES-21-Valor Agregado Bruto a precios básicos</th><th>Serie Desestacionalizada-VALORES CORRIENTES-14-Servicios de Enseñanza Servicios Sociales y de Salud</th><th>Serie Desestacionalizada-VALORES CORRIENTES-16-Servicios Comunitarios Sociales y Personales</th></tr><tr><td>date</td><td>f64</td><td>f64</td><td>f64</td></tr></thead><tbody><tr><td>2023-12-01</td><td>56154.8</td><td>20086.5</td><td>5680.1</td></tr><tr><td>2023-09-01</td><td>56164.6</td><td>19802.0</td><td>5661.4</td></tr><tr><td>2023-06-01</td><td>55014.6</td><td>19374.7</td><td>5470.3</td></tr><tr><td>2023-03-01</td><td>54039.6</td><td>18732.8</td><td>5322.8</td></tr><tr><td>2022-12-01</td><td>54209.0</td><td>18497.7</td><td>5151.8</td></tr><tr><td>&hellip;</td><td>&hellip;</td><td>&hellip;</td><td>&hellip;</td></tr><tr><td>2001-03-01</td><td>24646.1</td><td>2250.4</td><td>636.2</td></tr><tr><td>2000-12-01</td><td>24489.7</td><td>1938.9</td><td>622.2</td></tr><tr><td>2000-09-01</td><td>24375.5</td><td>1939.6</td><td>608.6</td></tr><tr><td>2000-06-01</td><td>23878.1</td><td>1871.8</td><td>579.4</td></tr><tr><td>2000-03-01</td><td>23792.5</td><td>1754.8</td><td>573.8</td></tr></tbody></table></div>"
      ],
      "text/plain": [
       "shape: (96, 4)\n",
       "┌────────────┬────────────────────────────┬────────────────────────────┬───────────────────────────┐\n",
       "│ Fecha      ┆ Serie Desestacionalizada-V ┆ Serie Desestacionalizada-V ┆ Serie Desestacionalizada- │\n",
       "│ ---        ┆ ALORES…                    ┆ ALORES…                    ┆ VALORES…                  │\n",
       "│ date       ┆ ---                        ┆ ---                        ┆ ---                       │\n",
       "│            ┆ f64                        ┆ f64                        ┆ f64                       │\n",
       "╞════════════╪════════════════════════════╪════════════════════════════╪═══════════════════════════╡\n",
       "│ 2023-12-01 ┆ 56154.8                    ┆ 20086.5                    ┆ 5680.1                    │\n",
       "│ 2023-09-01 ┆ 56164.6                    ┆ 19802.0                    ┆ 5661.4                    │\n",
       "│ 2023-06-01 ┆ 55014.6                    ┆ 19374.7                    ┆ 5470.3                    │\n",
       "│ 2023-03-01 ┆ 54039.6                    ┆ 18732.8                    ┆ 5322.8                    │\n",
       "│ 2022-12-01 ┆ 54209.0                    ┆ 18497.7                    ┆ 5151.8                    │\n",
       "│ …          ┆ …                          ┆ …                          ┆ …                         │\n",
       "│ 2001-03-01 ┆ 24646.1                    ┆ 2250.4                     ┆ 636.2                     │\n",
       "│ 2000-12-01 ┆ 24489.7                    ┆ 1938.9                     ┆ 622.2                     │\n",
       "│ 2000-09-01 ┆ 24375.5                    ┆ 1939.6                     ┆ 608.6                     │\n",
       "│ 2000-06-01 ┆ 23878.1                    ┆ 1871.8                     ┆ 579.4                     │\n",
       "│ 2000-03-01 ┆ 23792.5                    ┆ 1754.8                     ┆ 573.8                     │\n",
       "└────────────┴────────────────────────────┴────────────────────────────┴───────────────────────────┘"
      ]
     },
     "execution_count": 224,
     "metadata": {},
     "output_type": "execute_result"
    }
   ],
   "source": [
    "Id = [1,2,3]\n",
    "# Id = [6282,204,1]\n",
    "# Id = [608,609,610]\n",
    "\n",
    "df = get_df(Id[0])\n",
    "for i in range(1,len(Id)):\n",
    "    df = df.join(\n",
    "        get_df(Id[i]), \n",
    "        left_on=['Fecha'], \n",
    "        right_on=['Fecha'], \n",
    "        how='left')\n",
    "df.write_csv(\n",
    "    file_path + \"/api/data.csv\",\n",
    "    separator=\";\")\n",
    "df    "
   ]
  }
 ],
 "metadata": {
  "kernelspec": {
   "display_name": "Python 3 (ipykernel)",
   "language": "python",
   "name": "python3"
  },
  "language_info": {
   "codemirror_mode": {
    "name": "ipython",
    "version": 3
   },
   "file_extension": ".py",
   "mimetype": "text/x-python",
   "name": "python",
   "nbconvert_exporter": "python",
   "pygments_lexer": "ipython3",
   "version": "3.12.2"
  }
 },
 "nbformat": 4,
 "nbformat_minor": 5
}
