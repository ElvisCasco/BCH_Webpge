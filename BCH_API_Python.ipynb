{
  "cells": [
    {
      "cell_type": "raw",
      "metadata": {},
      "source": [
        "---\n",
        "title: Estadísticas del Banco Central de Honduras\n",
        "authors:\n",
        "  - Gabriela Margoth López Gutierrez\n",
        "  - Elvis Teodoro Casco Alfaro\n",
        "institute: Banco Central de Honduras\n",
        "execute:\n",
        "  echo: false\n",
        "crossref:\n",
        "  fig-title: Gráfico\n",
        "  tbl-title: Tabla\n",
        "  fig-prefix: Gráfico\n",
        "  tbl-prefix: Tabla\n",
        "format:\n",
        "  html:\n",
        "    echo: true\n",
        "    toc: true\n",
        "    toc-depth: 7\n",
        "    code-fold: true\n",
        "    warnings: false\n",
        "keep-ipynb: true\n",
        "---"
      ],
      "id": "048e447b"
    },
    {
      "cell_type": "markdown",
      "metadata": {},
      "source": [
        "En este proceso se explica la forma en que pueden descargarse los datos disponibles en la [API](https://bchapi-am.developer.azure-api.net/) del Banco Central de Honduras (BCH), utilizando Python.\n",
        "\n",
        "# Funciones\n"
      ],
      "id": "f81144f0"
    },
    {
      "cell_type": "code",
      "metadata": {},
      "source": [
        "import urllib.request, json\n",
        "import pandas as pd\n",
        "import plotly.express as px\n",
        "import polars as pl\n",
        "import subprocess\n",
        "import os\n",
        "\n",
        "from IPython.display import Markdown\n",
        "from tabulate import tabulate\n",
        "\n",
        "clave_asignada = \"ff34cff7b0024ea39eb565fccb9f03b6\" #Favor ingresar la clave proporcionada.\n",
        "\n",
        "# Las funciones que ejecutan los procesos están guardadas\n",
        "# en el archivo \"/functions/bch_api.py\";\n",
        "# si se ejecuta este código en otra ruta, debe sustituirse el path:\n",
        "# file_path + \"/functions/bch_api.py\"\n",
        "# file_path = os.path.dirname(__file__)\n",
        "file_path = os.getcwd()\n",
        "exec(open(file_path + \"/functions/bch_api.py\").read())"
      ],
      "id": "3483b998",
      "execution_count": null,
      "outputs": []
    },
    {
      "cell_type": "code",
      "metadata": {},
      "source": [
        "# # A partir de código elaborado por Gabriela López:\n",
        "# # https://colab.research.google.com/drive/1R3zpo3L27ypjD7v_FO7GeFPQ_2GeEFKd?usp=sharing\n",
        "# def get_info(url, hdr):\n",
        "#     header = hdr\n",
        "#     req = urllib.request.Request(url, headers=header)\n",
        "#     req.get_method = lambda: 'GET'\n",
        "#     response = urllib.request.urlopen(req)\n",
        "#     jsondata = response.read()\n",
        "#     bytes_data = jsondata\n",
        "#     data_str = bytes_data.decode('utf-8')\n",
        "#     data = json.loads(data_str)\n",
        "#     df = pd.read_json(json.dumps(data))\n",
        "#     idslist = df['Id'].unique()\n",
        "#     return df\n",
        "\n",
        "# def get_df(id):\n",
        "#     url_0 = \"https://bchapi-am.azure-api.net/api/v1/indicadores?formato=Json\"\n",
        "#     url = f'https://bchapi-am.azure-api.net/api/v1/indicadores/{id}/cifras'\n",
        "#     all_variables = get_info(url_0, hdr)\n",
        "#     data = get_info(url, hdr)\n",
        "#     df = pd.DataFrame(\n",
        "#         data = data['Valor'].values, \n",
        "#         index = pd.DatetimeIndex(data['Fecha']))\n",
        "#     df.columns = [all_variables[\"Descripcion\"][id-1]]\n",
        "#     df = pl.from_pandas(df,include_index=True\n",
        "#         ).with_columns(\n",
        "#             pl.col(\"Fecha\").cast(pl.Date))\n",
        "#     return df\n",
        "\n",
        "# def get_plot(id):\n",
        "#     url_0 = \"https://bchapi-am.azure-api.net/api/v1/indicadores?formato=Json\"\n",
        "#     url = f'https://bchapi-am.azure-api.net/api/v1/indicadores/{id}/cifras'\n",
        "#     all_variables = get_info(url_0, hdr)\n",
        "#     data = get_info(url, hdr)\n",
        "#     df = pd.DataFrame(\n",
        "#         data = data['Valor'].values, \n",
        "#         index = pd.DatetimeIndex(data['Fecha']))\n",
        "#     fig = px.line(\n",
        "#         df, \n",
        "#         # title = all_variables['Descripcion'].unique()[0],\n",
        "#         title = all_variables[\"Descripcion\"][id-1]\n",
        "#         )\n",
        "#     fig.update_layout(\n",
        "#         autosize=False,\n",
        "#         width=800,\n",
        "#         height=500,\n",
        "#         template = 'plotly_white',\n",
        "#         showlegend=False)\n",
        "#     fig.update_xaxes(title=None)\n",
        "#     fig.update_yaxes(title=None)\n",
        "#     fig.show()"
      ],
      "id": "a57752e6",
      "execution_count": null,
      "outputs": []
    },
    {
      "cell_type": "code",
      "metadata": {},
      "source": [
        "# def res_nivel_1():\n",
        "#     df = pl.DataFrame(df_all)\n",
        "#     variable_0 = \"Niv_Gr_1\"\n",
        "#     variable_1 = \"Niv_Gr_2\"\n",
        "#     variable_2 = \"Niv_Gr_3\"\n",
        "#     df = df.group_by(variable_0\n",
        "#         ).agg(\n",
        "#             pl.col(variable_0).len().alias(\"N_Variables\"),\n",
        "#             pl.col(variable_1).n_unique().alias(\"N_Subgrupos\")\n",
        "#         ).sort([\"N_Variables\",\"N_Subgrupos\",],descending=[True,True])\n",
        "#     print(str(df[\"N_Variables\"].sum()) + \" variables\")\n",
        "#     print(str(df[\"Niv_Gr_1\"].len()) + \" grupos\")\n",
        "#     print(str(df[\"N_Subgrupos\"].sum()) + \" subgrupos\")\n",
        "#     return df\n",
        "\n",
        "# def res_nivel_2(nivel_1):\n",
        "#     df = pl.DataFrame(df_all)\n",
        "#     variable_0 = \"Niv_Gr_1\"\n",
        "#     variable_1 = \"Niv_Gr_2\"\n",
        "#     variable_2 = \"Niv_Gr_3\"\n",
        "#     df = df.filter(\n",
        "#             pl.col(\"Niv_Gr_1\") == nivel_1,\n",
        "#         ).group_by(variable_0,variable_1\n",
        "#         ).agg(\n",
        "#             pl.col(variable_0).len().alias(\"N_Variables\"),\n",
        "#             pl.col(variable_2).n_unique().alias(\"N_Niv_Gr_2\")\n",
        "#         ).sort([\"N_Variables\",\"N_Niv_Gr_2\",],descending=[True,True])\n",
        "#     print(str(df[\"N_Variables\"].sum()) + \" variables\")\n",
        "#     print(str(df[\"Niv_Gr_1\"].len()) + \" grupos\")\n",
        "#     print(str(df[\"N_Niv_Gr_2\"].sum()) + \" subgrupos\")\n",
        "#     return df\n",
        "\n",
        "# def res_nivel_3(nivel_1,nivel_2,variable_2):\n",
        "#     df = pl.DataFrame(df_all)\n",
        "#     variable_0 = \"Niv_Gr_1\"\n",
        "#     variable_1 = \"Niv_Gr_2\"\n",
        "#     df = df.filter(\n",
        "#             pl.col(\"Niv_Gr_1\") == nivel_1,\n",
        "#             pl.col(\"Niv_Gr_2\") == nivel_2\n",
        "#         ).group_by(\n",
        "#             [variable_0,variable_1,variable_2]\n",
        "#         ).agg(\n",
        "#             # pl.col(\"Niv_Gr_1\").len().alias(\"N_Niv_Gr_2\"),\n",
        "#             pl.col(\"Niv_Gr_2\").len().alias(\"N_Variables\"),\n",
        "#         ).sort(\"N_Variables\",descending=True)\n",
        "#     print(str(len(df)) + \" subgrupos\")\n",
        "#     # print(str(df[\"N_Niv_Gr_2\"].sum()) + \" niveles\")\n",
        "#     print(str(df[\"N_Variables\"].sum()) + \" variables\")\n",
        "#     return df\n",
        "\n",
        "# def res_nivel_4(nivel_1,nivel_2,variable_2,def_variable_2,variable_3):\n",
        "#     df = pl.DataFrame(df_all)\n",
        "#     variable_0 = \"Niv_Gr_1\"\n",
        "#     variable_1 = \"Niv_Gr_2\"\n",
        "#     df = df.filter(\n",
        "#             pl.col(\"Niv_Gr_1\") == nivel_1,\n",
        "#             pl.col(\"Niv_Gr_2\") == nivel_2,\n",
        "#             pl.col(variable_2) == def_variable_2,\n",
        "#         ).group_by(\n",
        "#             [variable_0,variable_1,variable_2,variable_3]\n",
        "#         ).agg(\n",
        "#             pl.col(variable_3).len().alias(\"N_Variables\"),\n",
        "#         ).sort(\"N_Variables\",descending=True)\n",
        "#     return df\n",
        "\n",
        "# def res_nivel_5(\n",
        "#     nivel_1,nivel_2,\n",
        "#     variable_2,def_variable_2,\n",
        "#     variable_3,variable_4):\n",
        "#     df = pl.DataFrame(df_all)\n",
        "#     variable_0 = \"Niv_Gr_1\"\n",
        "#     variable_1 = \"Niv_Gr_2\"\n",
        "#     df = df.filter(\n",
        "#             pl.col(\"Niv_Gr_1\") == nivel_1,\n",
        "#             pl.col(\"Niv_Gr_2\") == nivel_2,\n",
        "#             pl.col(variable_2) == def_variable_2,\n",
        "#             # pl.col(variable_3) == def_variable_3,\n",
        "#         ).group_by(\n",
        "#             [variable_0,variable_1,variable_2,variable_3,variable_4]\n",
        "#         ).agg(\n",
        "#             pl.col(variable_4).len().alias(\"N_Variables\"),\n",
        "#         ).sort(\"N_Variables\",descending=True)\n",
        "#     return df\n",
        "\n",
        "# def res_nivel_6(\n",
        "#     nivel_1,nivel_2,\n",
        "#     variable_2,def_variable_2,\n",
        "#     variable_3,variable_4,variable_5):\n",
        "#     df = pl.DataFrame(df_all)\n",
        "#     variable_0 = \"Niv_Gr_1\"\n",
        "#     variable_1 = \"Niv_Gr_2\"\n",
        "#     df = df.filter(\n",
        "#             pl.col(\"Niv_Gr_1\") == nivel_1,\n",
        "#             pl.col(\"Niv_Gr_2\") == nivel_2,\n",
        "#             pl.col(variable_2) == def_variable_2,\n",
        "#             # pl.col(variable_3) == variable_3,\n",
        "#             # pl.col(variable_3) == def_variable_3,\n",
        "#         ).group_by(\n",
        "#             [variable_0,variable_1,variable_2,variable_3,variable_4,variable_5]\n",
        "#         ).agg(\n",
        "#             pl.col(variable_5).len().alias(\"N_Variables\"),\n",
        "#         ).sort(\"N_Variables\",descending=True)\n",
        "#     return df\n",
        "\n",
        "# def res_nivel_7(\n",
        "#     nivel_1,nivel_2,\n",
        "#     variable_2,def_variable_2,\n",
        "#     variable_3,variable_4,variable_5,variable_6):\n",
        "#     df = pl.DataFrame(df_all)\n",
        "#     variable_0 = \"Niv_Gr_1\"\n",
        "#     variable_1 = \"Niv_Gr_2\"\n",
        "#     df = df.filter(\n",
        "#             pl.col(\"Niv_Gr_1\") == nivel_1,\n",
        "#             pl.col(\"Niv_Gr_2\") == nivel_2,\n",
        "#             pl.col(variable_2) == def_variable_2,\n",
        "#             # pl.col(variable_3) == variable_3,\n",
        "#             # pl.col(variable_3) == def_variable_3,\n",
        "#         ).group_by(\n",
        "#             [variable_0,variable_1,variable_2,variable_3,variable_4,variable_5,variable_6]\n",
        "#         ).agg(\n",
        "#             pl.col(variable_5).len().alias(\"N_Variables\"),\n",
        "#         ).sort(\"N_Variables\",descending=True)\n",
        "#     return df"
      ],
      "id": "b0e30aa6",
      "execution_count": null,
      "outputs": []
    },
    {
      "cell_type": "code",
      "metadata": {},
      "source": [
        "# clave_asignada = \"ff34cff7b0024ea39eb565fccb9f03b6\"\n",
        "# url = \"https://bchapi-am.azure-api.net/api/v1/indicadores?formato=Json\"\n",
        "# hdr ={'Cache-Control': 'no-cache',\n",
        "#       'clave': clave_asignada,}\n",
        "# dfmeta = get_info(url, hdr)\n",
        "# dfmeta"
      ],
      "id": "4c93a2b6",
      "execution_count": null,
      "outputs": []
    },
    {
      "cell_type": "markdown",
      "metadata": {},
      "source": [
        "# Acceso a los Datos\n",
        "\n",
        "Una vez que se crea el registro de usuario (usar el botón \"Suscribirse\" en el [sitio web](https://bchapi-am.developer.azure-api.net/), puede verse el procedimiento de registro e inicio de sesión en [YouTube](https://www.youtube.com/watch?v=8ZBllMSsKw4)), se necesita obtener una clave (ver explicación en [YouTube](https://www.youtube.com/watch?v=mV90s74OCfc)), ejecutando una consulta al catálogo de indicadores. Favor sustituir en el código la clave actual por su clave asignada.\n",
        "\n",
        "Para conocer los datos disponibles, se debe ejecutar una consulta al catálogo de indicadores, que contiene información sobre las series disponibles:\n",
        "\n",
        "* Nombre (código)\n",
        "* Descripción\n",
        "* Periodicidad\n",
        "* Grupo\n",
        "* Correlativo del Grupo\n",
        "\n",
        "Como ejemplo de la consulta que contiene todas las variables, se muestran los primeros cinco elementos:\n"
      ],
      "id": "ee959e48"
    },
    {
      "cell_type": "code",
      "metadata": {},
      "source": [
        "# url = \"https://bchapi-am.azure-api.net/api/v1/indicadores?formato=Json\"\n",
        "# hdr ={'Cache-Control': 'no-cache',\n",
        "#       'clave': clave_asignada,}\n",
        "# dfmeta = get_info(url, hdr)\n",
        "dfmeta = get_groups_vscode()\n",
        "dfmeta.head()"
      ],
      "id": "37bcf1e1",
      "execution_count": null,
      "outputs": []
    },
    {
      "cell_type": "markdown",
      "metadata": {},
      "source": [
        "# Grupos\n",
        "\n",
        "Las variables están categorizadas en 8 grupos principales y 54 subgrupos. La nomenclatura utilizada permite dividir estos en un máximo de cinco niveles, tomando en cuenta el separador (-). Se explicarán los mismos a continuacion, ordenando de acuerdo al número de niveles (número de subgrupos).\n"
      ],
      "id": "a61e1ccb"
    },
    {
      "cell_type": "code",
      "metadata": {},
      "source": [
        "# Agregar niveles de Descripción y Grupo\n",
        "# df_all = dfmeta\n",
        "# df_all[['Niv_Descr_1','Niv_Descr_2','Niv_Descr_3','Niv_Descr_4','Niv_Descr_5','Niv_Descr_6','Niv_Descr_7','Niv_Descr_8']] = df_all['Descripcion'].str.split(\n",
        "#     '-',expand=True)\n",
        "# df_all[\"Niv_Descr\"] = df_all.notnull().sum(axis=1) - 6\n",
        "# df_all[\n",
        "#     ['Niv_Gr_1','Niv_Gr_2','Niv_Gr_3','Niv_Gr_4','Niv_Gr_5']]  = df_all['Grupo'].str.split('-',expand=True)\n",
        "# df_all[\"Niv_Gr\"] = df_all.notnull().sum(axis=1) - 2\n",
        "# df_all = pl.DataFrame(df_all)\n",
        "# df_all.write_csv(\n",
        "#         \"api/variables.csv\",\n",
        "#         separator=\";\")\n",
        "\n",
        "# # Resumen por Grupo\n",
        "# variable = \"Grupo\"\n",
        "# res_grupo = df_all.group_by(variable\n",
        "#     ).agg(\n",
        "#     pl.col(\"Id\").len().alias(\"N_Variables\"),\n",
        "#     ).sort(\"N_Variables\",descending=True)\n",
        "# print(str(res_grupo[\"N_Variables\"].sum()) + \" variables\")\n",
        "# print(str(len(res_grupo)) + \" grupos\")\n",
        "# res_grupo = pd.DataFrame(res_grupo)\n",
        "# res_grupo.columns = [\"Grupo\",\"N_Variables\"]\n",
        "# res_grupo[\n",
        "#     ['Niv_Gr_1','Niv_Gr_2','Niv_Gr_3','Niv_Gr_4','Niv_Gr_5']]  = res_grupo['Grupo'].str.split('-',expand=True)\n",
        "# res_grupo[\"Niv_Gr\"] = res_grupo.notnull().sum(axis=1) - 2\n",
        "# res_grupo = res_grupo.sort_values(\n",
        "#     [\"Niv_Gr\",\"N_Variables\"], \n",
        "#     ascending=[False,False])\n",
        "# res_grupo = pl.DataFrame(res_grupo)\n",
        "# res_grupo.write_csv(\n",
        "#     file_path + \"/api/grupos.csv\",\n",
        "#     separator=\";\")\n",
        "res_grupo = save_groups_vscode()\n",
        "print(res_grupo)"
      ],
      "id": "37d5b92d",
      "execution_count": null,
      "outputs": []
    },
    {
      "cell_type": "markdown",
      "metadata": {},
      "source": [
        "Los 8 grupos mencionados permiten consolidar los archivos de acuerdo con el origen de los datos en la página web del BCH, que en su mayoría pueden consultarse en los [reportes dinámicos](https://www.bch.hn/estadisticas-y-publicaciones-economicas/reportes-dinamicos).\n",
        "\n",
        "1. EOM = [Estadísticas de Operaciones Monetarias](https://www.bch.hn/estadisticas-y-publicaciones-economicas/reportes-dinamicos/operaciones-de-mercado-abierto)\n",
        "2. ESR = [Estadísticas del Sector Real](https://www.bch.hn/estadisticas-y-publicaciones-economicas/reportes-dinamicos/sector-real)\n",
        "3. ESE = [Estadísticas del Sector Externo](https://www.bch.hn/estadisticas-y-publicaciones-economicas/reportes-dinamicos/sector-externo)\n",
        "4. EMF = [Estadísiticas Monetarias y Financieras (Sector Fiscal)](https://www.bch.hn/estadisticas-y-publicaciones-economicas/reportes-dinamicos/sector-fiscal)\n",
        "5. EM = [Estadísticas Monetarias (TPM y RIN)](https://www.bch.hn/estadisticas-y-publicaciones-economicas/reportes-dinamicos/sector-monetario)\n",
        "6. ESP = [Estadísticas de Sistema de Pagos](https://www.bch.hn/estadisticas-y-publicaciones-economicas/reportes-dinamicos/sistema-de-pagos)\n",
        "7. EC = [Estadísticas de Tipo de Cambio](https://www.bch.hn/estadisticas-y-publicaciones-economicas/reportes-dinamicos/tipo-de-cambio)\n",
        "8. EP = [Estadísticas de Precios](https://www.bch.hn/estadisticas-y-publicaciones-economicas/reportes-dinamicos/precios)\n",
        "\n",
        "Los grupos se subdividen en 25 subgrupos:\n"
      ],
      "id": "7d5345c5"
    },
    {
      "cell_type": "code",
      "metadata": {},
      "source": [
        "res = res_nivel_1()\n",
        "res"
      ],
      "id": "c935108f",
      "execution_count": null,
      "outputs": []
    },
    {
      "cell_type": "markdown",
      "metadata": {},
      "source": [
        "# Descripción de los Datos\n",
        "\n",
        "A continuación se presentan los detalles de los grupos por nivel de agregación, ordenados de acuerdo al número de variables que contienen.\n",
        "\n",
        "### EOM = Estadísticas de Operaciones Monetarias\n",
        "\n",
        "Los datos están disponibles en la [página web del BCH](https://www.bch.hn/estadisticas-y-publicaciones-economicas/reportes-dinamicos/operaciones-de-mercado-abierto).\n"
      ],
      "id": "0394095b"
    },
    {
      "cell_type": "code",
      "metadata": {},
      "source": [
        "res_nivel_2(\"EOM\")"
      ],
      "id": "276474c1",
      "execution_count": null,
      "outputs": []
    },
    {
      "cell_type": "markdown",
      "metadata": {},
      "source": [
        "Contiene solamente un subgrupo:\n",
        "\n",
        "- OMA = Operaciones de Mercado Abierto\n",
        "\n",
        "#### OMA = Operaciones de Mercado Abierto\n",
        "\n",
        "Cuatro niveles de agregación:\n",
        "\n",
        "* 01 = Tasas de Rendimiento Diario de Valores Gubernamentales\n",
        "* 02 = Créditos (Niv_Descr_4 = 1-3) e Inversiones (Niv_Descr_4 = 4-6): Monto, Número de Solicitudes y Tasa\n",
        "* 03 = Monto, Número de Operaciones y Tasa\n",
        "* 04 = Monto, Número de Operaciones y Tasa (Dólares - Lempiras)\n",
        "\n",
        "En cada una de las tablas subsiguientes, la columna N_Variables corresponde al número de variables que contiene cada nivel.\n"
      ],
      "id": "3290b48b"
    },
    {
      "cell_type": "code",
      "metadata": {},
      "source": [
        "res_nivel_3(\"EOM\",\"OMA\",\"Niv_Gr_3\").sort(\"Niv_Gr_3\")"
      ],
      "id": "a3741768",
      "execution_count": null,
      "outputs": []
    },
    {
      "cell_type": "markdown",
      "metadata": {},
      "source": [
        "###### 01 = Tasas de Rendimiento Diario de Valores Gubernamentales \n",
        "\n",
        "Este es el nivel que contiene más variables, todas corresponden a las \"Tasas de Rendimiento Diario de Valores Gubernamentales\":\n"
      ],
      "id": "84cd3ba7"
    },
    {
      "cell_type": "code",
      "metadata": {},
      "source": [
        "res_nivel_4(\n",
        "    \"EOM\",\"OMA\",\n",
        "    \"Niv_Gr_3\",\"01\",\n",
        "    \"Niv_Descr_1\")"
      ],
      "id": "bb9ca8e9",
      "execution_count": null,
      "outputs": []
    },
    {
      "cell_type": "markdown",
      "metadata": {},
      "source": [
        "Para listar todas las variables:\n"
      ],
      "id": "5d4ccb2c"
    },
    {
      "cell_type": "code",
      "metadata": {},
      "source": [
        "res_nivel_6(\n",
        "    \"EOM\",\"OMA\",\n",
        "    \"Niv_Gr_3\",\"01\",\n",
        "    \"Id\",\"Nombre\",\"Niv_Descr_1\").sort(\"Nombre\")"
      ],
      "id": "9c279e18",
      "execution_count": null,
      "outputs": []
    },
    {
      "cell_type": "markdown",
      "metadata": {},
      "source": [
        "La consulta para una serie individual puede realizarse solamente mediante el uso de la \"Id\" correspondiente; por ejemplo, el Id 701 da como resultado:\n"
      ],
      "id": "3bce2f2a"
    },
    {
      "cell_type": "code",
      "metadata": {},
      "source": [
        "Id = 1701\n",
        "df = get_df(Id)\n",
        "get_plot(Id)\n",
        "df"
      ],
      "id": "37d8c398",
      "execution_count": null,
      "outputs": []
    },
    {
      "cell_type": "markdown",
      "metadata": {},
      "source": [
        "###### 02 = Créditos (Niv_Descr_4 = 1-3) e Inversiones (Niv_Descr_4 = 4-6): Monto, Número de Solicitudes y Tasa\n"
      ],
      "id": "b7921a27"
    },
    {
      "cell_type": "code",
      "metadata": {},
      "source": [
        "res_nivel_4(\n",
        "    \"EOM\",\"OMA\",\n",
        "    \"Niv_Gr_3\",\"02\",\n",
        "    \"Niv_Descr_5\")"
      ],
      "id": "ca147ffa",
      "execution_count": null,
      "outputs": []
    },
    {
      "cell_type": "markdown",
      "metadata": {},
      "source": [
        "Todas las variables:\n"
      ],
      "id": "d426a76a"
    },
    {
      "cell_type": "code",
      "metadata": {},
      "source": [
        "res_nivel_7(\n",
        "    \"EOM\",\"OMA\",\n",
        "    \"Niv_Gr_3\",\"02\",\n",
        "    \"Id\",\"Nombre\",\"Niv_Descr_5\",\"Niv_Descr_6\").sort(\"Nombre\")"
      ],
      "id": "fbcbec67",
      "execution_count": null,
      "outputs": []
    },
    {
      "cell_type": "markdown",
      "metadata": {},
      "source": [
        "Resultados de una sola variable:\n"
      ],
      "id": "be64d257"
    },
    {
      "cell_type": "code",
      "metadata": {},
      "source": [
        "Id = 6261\n",
        "df = get_df(Id)\n",
        "get_plot(Id)\n",
        "df"
      ],
      "id": "a34a5641",
      "execution_count": null,
      "outputs": []
    },
    {
      "cell_type": "markdown",
      "metadata": {},
      "source": [
        "###### 03 = Monto, Número de Operaciones y Tasa\n"
      ],
      "id": "232ee8e5"
    },
    {
      "cell_type": "code",
      "metadata": {},
      "source": [
        "res_nivel_4(\n",
        "    \"EOM\",\"OMA\",\n",
        "    \"Niv_Gr_3\",\"03\",\n",
        "    \"Niv_Descr_5\")"
      ],
      "id": "c28845e6",
      "execution_count": null,
      "outputs": []
    },
    {
      "cell_type": "markdown",
      "metadata": {},
      "source": [
        "Todas las variables:\n"
      ],
      "id": "78553e91"
    },
    {
      "cell_type": "code",
      "metadata": {},
      "source": [
        "res_nivel_6(\n",
        "    \"EOM\",\"OMA\",\n",
        "    \"Niv_Gr_3\",\"03\",\n",
        "    \"Id\",\"Nombre\",\"Niv_Descr_5\").sort(\"Nombre\")"
      ],
      "id": "461aceb4",
      "execution_count": null,
      "outputs": []
    },
    {
      "cell_type": "markdown",
      "metadata": {},
      "source": [
        "Resultados de una sola variable:\n"
      ],
      "id": "2b77c1b1"
    },
    {
      "cell_type": "code",
      "metadata": {},
      "source": [
        "Id = 6267\n",
        "df = get_df(Id)\n",
        "# get_plot(Id)\n",
        "df"
      ],
      "id": "beba4d59",
      "execution_count": null,
      "outputs": []
    },
    {
      "cell_type": "markdown",
      "metadata": {},
      "source": [
        "###### 04 = Monto, Número de Operaciones y Tasa (Dólares - Lempiras)\n"
      ],
      "id": "8e98f10b"
    },
    {
      "cell_type": "code",
      "metadata": {},
      "source": [
        "res_nivel_4(\n",
        "    \"EOM\",\"OMA\",\n",
        "    \"Niv_Gr_3\",\n",
        "    \"04\",\n",
        "    \"Niv_Descr_5\")"
      ],
      "id": "b3729e03",
      "execution_count": null,
      "outputs": []
    },
    {
      "cell_type": "code",
      "metadata": {},
      "source": [
        "res_nivel_5(\n",
        "    \"EOM\",\"OMA\",\n",
        "    \"Niv_Gr_3\",\"04\",\n",
        "    \"Niv_Descr_5\",\"Niv_Descr_6\")"
      ],
      "id": "5d2d34ac",
      "execution_count": null,
      "outputs": []
    },
    {
      "cell_type": "markdown",
      "metadata": {},
      "source": [
        "Todas las variables:\n"
      ],
      "id": "f4bbac30"
    },
    {
      "cell_type": "code",
      "metadata": {},
      "source": [
        "res_nivel_7(\n",
        "    \"EOM\",\"OMA\",\n",
        "    \"Niv_Gr_3\",\"04\",\n",
        "    \"Id\",\"Nombre\",\"Niv_Descr_5\",\"Niv_Descr_6\").sort(\"Nombre\")"
      ],
      "id": "38c25d39",
      "execution_count": null,
      "outputs": []
    },
    {
      "cell_type": "markdown",
      "metadata": {},
      "source": [
        "Resultados de una sola variable:\n"
      ],
      "id": "cc137eb6"
    },
    {
      "cell_type": "code",
      "metadata": {},
      "source": [
        "Id = 6270\n",
        "df = get_df(Id)\n",
        "# get_plot(Id)\n",
        "df"
      ],
      "id": "006bba1d",
      "execution_count": null,
      "outputs": []
    },
    {
      "cell_type": "markdown",
      "metadata": {},
      "source": [
        "### ESR = Estadísticas del Sector Real\n"
      ],
      "id": "76df07a1"
    },
    {
      "cell_type": "code",
      "metadata": {},
      "source": [
        "res_nivel_2(\"ESR\")"
      ],
      "id": "4d2db9dd",
      "execution_count": null,
      "outputs": []
    },
    {
      "cell_type": "markdown",
      "metadata": {},
      "source": [
        "* COU = Cuadro de Oferta y Utilización\n",
        "* CCI = Clasificación Cruzada Industria\n",
        "* VAB = Valor Agregado Bruto\n",
        "* PIBA = PIB Anual\n",
        "* PIBT = PIB Trimestral\n",
        "* ODA = Oferta y Demanda Agregada\n",
        "* IMAE = Índice Mensual de la Actividad Económica\n",
        "\n",
        "#### COU = Cuadro de Oferta y Utilización\n"
      ],
      "id": "8242644c"
    },
    {
      "cell_type": "code",
      "metadata": {},
      "source": [
        "res_nivel_3(\"ESR\",\"COU\",\"Niv_Gr_3\")"
      ],
      "id": "4385e12a",
      "execution_count": null,
      "outputs": []
    },
    {
      "cell_type": "markdown",
      "metadata": {},
      "source": [
        "Detalla la interacción del producto con la actividad (el detalle se toma de acuerdo con la estructura de la columna \"Nombre\"). Para conocer la estructura de las estadísticas derivadas de este cuadro, consultar en la [página web del BCH](https://www.bch.hn/estadisticas-y-publicaciones-economicas/sector-real/cuentas-nacionales-anuales-base-2000/cuadro-oferta-y-utilizacion).\n",
        "\n",
        "El orden está de acuerdo con el Nivel de Descripción 2 (Niv_Descr_2) y Nivel de Descripción 3 (Niv_Descr_3) de la columna Nombre, para los casos de:\n",
        "\n",
        "* VALOR BRUTO DE PRODUCCIÓN\n",
        "* CONSUMO INTERMEDIO\n",
        "* VALOR AGREGADO\n",
        "* OFERTA\n",
        "* UTILIZACIÓN\n",
        "\n",
        "Cada uno de estos detalles corresponde a una hoja de Excel en el archivo anual correspondiente.\n"
      ],
      "id": "d10286dc"
    },
    {
      "cell_type": "code",
      "metadata": {},
      "source": [
        "res_nivel_4(\n",
        "    \"ESR\",\"COU\",\n",
        "    \"Niv_Gr_3\",\n",
        "    \"01\",\n",
        "    \"Niv_Descr_1\")"
      ],
      "id": "98463661",
      "execution_count": null,
      "outputs": []
    },
    {
      "cell_type": "markdown",
      "metadata": {},
      "source": [
        "##### VALOR BRUTO DE PRODUCCIÓN\n",
        "\n",
        "En el cuadro original, las filas son los productos a un nivel de dos dígitos de la Nomenclatura de Productos de Honduras (NPH) y las columnas son las actiivades económicas tomando en cuenta la Nomenclatura de Actividades Económicas de Honduras (NAEH).\n"
      ],
      "id": "771e2255"
    },
    {
      "cell_type": "code",
      "metadata": {},
      "source": [
        "res_nivel_7(\n",
        "    \"ESR\",\"COU\",\n",
        "    \"Niv_Gr_3\",\n",
        "    \"01\",\n",
        "    \"Niv_Descr_1\",\"Id\",\"Nombre\",\"Descripcion\").filter(pl.col(\"Niv_Descr_1\") == \"VALOR BRUTO DE PRODUCCIÓN\")"
      ],
      "id": "253682fe",
      "execution_count": null,
      "outputs": []
    },
    {
      "cell_type": "markdown",
      "metadata": {},
      "source": [
        "Resultados de una sola variable:\n"
      ],
      "id": "b5e24f4e"
    },
    {
      "cell_type": "code",
      "metadata": {},
      "source": [
        "Id = 10410\n",
        "df = get_df(Id)\n",
        "# get_plot(Id)\n",
        "df"
      ],
      "id": "01bc9f0e",
      "execution_count": null,
      "outputs": []
    },
    {
      "cell_type": "markdown",
      "metadata": {},
      "source": [
        "##### CONSUMO INTERMEDIO\n",
        "\n",
        "En el cuadro original, las filas son los productos a un nivel de dos dígitos de la Nomenclatura de Productos de Honduras (NPH) y las columnas son las actiivades económicas tomando en cuenta la Nomenclatura de Actividades Económicas de Honduras (NAEH).\n"
      ],
      "id": "92b01137"
    },
    {
      "cell_type": "code",
      "metadata": {},
      "source": [
        "res_nivel_7(\n",
        "    \"ESR\",\"COU\",\n",
        "    \"Niv_Gr_3\",\n",
        "    \"01\",\n",
        "    \"Niv_Descr_1\",\"Id\",\"Nombre\",\"Descripcion\").filter(pl.col(\"Niv_Descr_1\") == \"CONSUMO INTERMEDIO\")"
      ],
      "id": "2668c217",
      "execution_count": null,
      "outputs": []
    },
    {
      "cell_type": "markdown",
      "metadata": {},
      "source": [
        "Resultados de una sola variable:\n"
      ],
      "id": "ef463a54"
    },
    {
      "cell_type": "code",
      "metadata": {},
      "source": [
        "Id = 7835\n",
        "df = get_df(Id)\n",
        "# get_plot(Id)\n",
        "df"
      ],
      "id": "5267b949",
      "execution_count": null,
      "outputs": []
    },
    {
      "cell_type": "markdown",
      "metadata": {},
      "source": [
        "##### VALOR AGREGADO\n",
        "\n",
        "En el cuadro original, las filas son los elementos indispensables para calcular el Valor Agregado Bruto, VAB (Remuneración de los Asalariados, Impuestos sobre la Producción y las Importaciones, Subvenciones, Excedente de Explotación, Ingreso Mixto y Consumo de Capital Fijo) y las columnas son las actiivades económicas tomando en cuenta la Nomenclatura de Actividades Económicas de Honduras (NAEH).\n"
      ],
      "id": "f73e40e6"
    },
    {
      "cell_type": "code",
      "metadata": {},
      "source": [
        "res_nivel_7(\n",
        "    \"ESR\",\"COU\",\n",
        "    \"Niv_Gr_3\",\n",
        "    \"01\",\n",
        "    \"Niv_Descr_1\",\"Id\",\"Nombre\",\"Descripcion\").filter(pl.col(\"Niv_Descr_1\") == \"VALOR AGREGADO\")"
      ],
      "id": "bc31d9d7",
      "execution_count": null,
      "outputs": []
    },
    {
      "cell_type": "markdown",
      "metadata": {},
      "source": [
        "Resultados de una sola variable:\n"
      ],
      "id": "a941c77c"
    },
    {
      "cell_type": "code",
      "metadata": {},
      "source": [
        "Id = 10024\n",
        "df = get_df(Id)\n",
        "# get_plot(Id)\n",
        "df"
      ],
      "id": "6fe4a6a6",
      "execution_count": null,
      "outputs": []
    },
    {
      "cell_type": "markdown",
      "metadata": {},
      "source": [
        "##### OFERTA\n",
        "\n",
        "En el cuadro original, las filas son los productos a un nivel de dos dígitos de la Nomenclatura de Productos de Honduras (NPH) y las columnas son los componentes de la Oferta Agregada a Precios de Comprador (Producción, Importaciones CIF, Ajuste CIF/FOB, Impuestos y Subvenciones a los Productos y Márgenes de Distribución).\n"
      ],
      "id": "383b3e95"
    },
    {
      "cell_type": "code",
      "metadata": {},
      "source": [
        "res_nivel_7(\n",
        "    \"ESR\",\"COU\",\n",
        "    \"Niv_Gr_3\",\n",
        "    \"01\",\n",
        "    \"Niv_Descr_1\",\"Id\",\"Nombre\",\"Descripcion\").filter(pl.col(\"Niv_Descr_1\") == \"OFERTA\")"
      ],
      "id": "289bbc22",
      "execution_count": null,
      "outputs": []
    },
    {
      "cell_type": "markdown",
      "metadata": {},
      "source": [
        "Resultados de una sola variable:\n"
      ],
      "id": "ef4ba78e"
    },
    {
      "cell_type": "code",
      "metadata": {},
      "source": [
        "Id = 8878\n",
        "df = get_df(Id)\n",
        "# get_plot(Id)\n",
        "df"
      ],
      "id": "f5d484b8",
      "execution_count": null,
      "outputs": []
    },
    {
      "cell_type": "markdown",
      "metadata": {},
      "source": [
        "##### UTILIZACIÓN\n",
        "\n",
        "En el cuadro original, las filas son los productos a un nivel de dos dígitos de la Nomenclatura de Productos de Honduras (NPH) y las columnas son los componentes de la Utilización Agregada a Precios de Comprador (Consumo Intermedio, Exportciones FOB, Gasto de Consumo Final y Formación Bruta de Capital).\n"
      ],
      "id": "118443ed"
    },
    {
      "cell_type": "code",
      "metadata": {},
      "source": [
        "res_nivel_7(\n",
        "    \"ESR\",\"COU\",\n",
        "    \"Niv_Gr_3\",\n",
        "    \"01\",\n",
        "    \"Niv_Descr_1\",\"Id\",\"Nombre\",\"Descripcion\").filter(pl.col(\"Niv_Descr_1\") == \"UTILIZACIÓN\")"
      ],
      "id": "186fb355",
      "execution_count": null,
      "outputs": []
    },
    {
      "cell_type": "markdown",
      "metadata": {},
      "source": [
        "Tomar en cuenta que, para realizar el cálculo del VAB por NAEH, se debe sumar las columnas de Valor Bruto de Producción y restar las de Consumo Intermedio; adicionalmente, como los datos correspondientes a Impuestos sobre los Productos y los Márgenes de Distribución solamente se encuentran a nivel de NPH, no se puede tener un VAB total que se obtenga por suma de VAB a nivel de actividad individual, en vista que debe restarse las de Subvenciones a los productos, mismas que se encuentran en el Cuadro de Oferta solamente a nivel de NPH. Esta forma de obtener el VAB se conoce como el cálculo del PIB por el enfoque del Ingreso.\n",
        "\n",
        "Como la Oferta y Utilización están detalladas a nivel de NPH, el VAB por NPH a partir de los dos detalles previos, se puede obtener por dos métodos:\n",
        "\n",
        "1. Suma de Producción + Impuestos - Subvenciones a los Productos + Márgenes de Distribución (Oferta) - Consumo Intermedio (Utilización) => PIB por el enfoque de la Produccion.\n",
        "2. Exportaciones FOB + Gasto de Consumo Final + Formación Bruta de Capital (Utilización) - Importaciones CIF - Ajuste CIF/FOB (Oferta) => PIB por el enfoque del Gasto.\n",
        "\n",
        "Para saber el contenido de todas las variables:\n"
      ],
      "id": "6cd85f90"
    },
    {
      "cell_type": "code",
      "metadata": {},
      "source": [
        "res_nivel_7(\n",
        "    \"ESR\",\"COU\",\n",
        "    \"Niv_Gr_3\",\n",
        "    \"01\",\n",
        "    \"Id\",\"Niv_Descr_1\",\"Nombre\",\"Descripcion\").sort(\"Id\")"
      ],
      "id": "c88b2e78",
      "execution_count": null,
      "outputs": []
    },
    {
      "cell_type": "markdown",
      "metadata": {},
      "source": [
        "Resultados de una sola variable:\n"
      ],
      "id": "a8f15e82"
    },
    {
      "cell_type": "code",
      "metadata": {},
      "source": [
        "Id = 9465\n",
        "df = get_df(Id)\n",
        "# get_plot(Id)\n",
        "df"
      ],
      "id": "563fc67d",
      "execution_count": null,
      "outputs": []
    },
    {
      "cell_type": "markdown",
      "metadata": {},
      "source": [
        "#### CCI = Clasificación Cruzada Industria Sector Institucional\n",
        "\n",
        "Para conocer la estructura de las estadísticas derivadas de este cuadro, consultar en la [página web del BCH](https://www.bch.hn/estadisticas-y-publicaciones-economicas/sector-real/cuentas-nacionales-anuales-base-2000/clasificacion-cruzada-industria-sector-institucional).\n",
        "\n",
        "El archivo contiene 3 hojas, que pueden filtrarse de acuerdo con el Nivel de Descripción 1 (Niv_Descr_1) de la variable:\n",
        "\n",
        "* Producción Bruta\n",
        "* Consumo Intermedio\n",
        "* Valor Agregado\n",
        "\n",
        "Los cuadros en cada hoja contienen los valores a nivel de Industria en las filas y a nivel de Sector Institucional en las columnas.\n",
        "\n",
        "Debido a que el VAB implica tomar en cuenta impuestos y subvenciones a nivel de NPH, no es posible obtener el cálculo de esta variable por suma a partir de los cuadros del CCI (ver explicación en el apartado del COU).\n"
      ],
      "id": "40def37e"
    },
    {
      "cell_type": "code",
      "metadata": {},
      "source": [
        "res_nivel_3(\"ESR\",\"CCI\",\"Niv_Descr_1\")"
      ],
      "id": "ffac7fc2",
      "execution_count": null,
      "outputs": []
    },
    {
      "cell_type": "markdown",
      "metadata": {},
      "source": [
        "\"Niv_Descr_2\" es la Industria (filas).\n"
      ],
      "id": "5a9174ed"
    },
    {
      "cell_type": "code",
      "metadata": {},
      "source": [
        "res_nivel_5(\n",
        "    \"ESR\",\"CCI\",\n",
        "    \"Niv_Gr_3\",\n",
        "    \"01\",\n",
        "    \"Niv_Descr_1\",\"Niv_Descr_2\")"
      ],
      "id": "a43783b1",
      "execution_count": null,
      "outputs": []
    },
    {
      "cell_type": "markdown",
      "metadata": {},
      "source": [
        "\"Niv_Descr_3\" es el Sector Institucional (columnas).\n"
      ],
      "id": "62897c52"
    },
    {
      "cell_type": "code",
      "metadata": {},
      "source": [
        "res_nivel_5(\n",
        "    \"ESR\",\"CCI\",\n",
        "    \"Niv_Gr_3\",\n",
        "    \"01\",\n",
        "    \"Niv_Descr_1\",\"Niv_Descr_3\")"
      ],
      "id": "0504971f",
      "execution_count": null,
      "outputs": []
    },
    {
      "cell_type": "markdown",
      "metadata": {},
      "source": [
        "Para saber el contenido de todas las variables:\n"
      ],
      "id": "b9fea126"
    },
    {
      "cell_type": "code",
      "metadata": {},
      "source": [
        "res_nivel_7(\n",
        "    \"ESR\",\"CCI\",\n",
        "    \"Niv_Gr_3\",\n",
        "    \"01\",\n",
        "    \"Id\",\"Niv_Descr_1\",\"Niv_Descr_2\",\"Niv_Descr_3\")"
      ],
      "id": "12566e5e",
      "execution_count": null,
      "outputs": []
    },
    {
      "cell_type": "markdown",
      "metadata": {},
      "source": [
        "Resultados de una sola variable:\n"
      ],
      "id": "c0546879"
    },
    {
      "cell_type": "code",
      "metadata": {},
      "source": [
        "Id = 7467\n",
        "df = get_df(Id)\n",
        "# get_plot(Id)\n",
        "df"
      ],
      "id": "61d02c33",
      "execution_count": null,
      "outputs": []
    },
    {
      "cell_type": "markdown",
      "metadata": {},
      "source": [
        "#### VAB = Valor Agregado Bruto\n"
      ],
      "id": "610ad40a"
    },
    {
      "cell_type": "code",
      "metadata": {},
      "source": [
        "res_nivel_3(\"ESR\",\"VAB\",\"Niv_Gr_3\")"
      ],
      "id": "3a2c1c3e",
      "execution_count": null,
      "outputs": []
    },
    {
      "cell_type": "markdown",
      "metadata": {},
      "source": [
        "##### Valor y Variación, Corrientes y Constantes, por NAEH\n"
      ],
      "id": "25ad343e"
    },
    {
      "cell_type": "code",
      "metadata": {},
      "source": [
        "res_nivel_4(\n",
        "    \"ESR\",\"VAB\",\n",
        "    \"Niv_Gr_3\",\n",
        "    \"01\",\n",
        "    \"Niv_Descr_4\")"
      ],
      "id": "f5b9e3fc",
      "execution_count": null,
      "outputs": []
    },
    {
      "cell_type": "code",
      "metadata": {},
      "source": [
        "res_nivel_5(\n",
        "    \"ESR\",\"VAB\",\n",
        "    \"Niv_Gr_3\",\n",
        "    \"01\",\n",
        "    \"Niv_Descr_4\",\"Niv_Descr_5\")"
      ],
      "id": "9cdc496f",
      "execution_count": null,
      "outputs": []
    },
    {
      "cell_type": "markdown",
      "metadata": {},
      "source": [
        "Para saber el contenido de todas las variables:\n"
      ],
      "id": "748685a0"
    },
    {
      "cell_type": "code",
      "metadata": {},
      "source": [
        "res_nivel_7(\n",
        "    \"ESR\",\"VAB\",\n",
        "    \"Niv_Gr_3\",\n",
        "    \"01\",\n",
        "    \"Id\",\"Niv_Descr_4\",\"Niv_Descr_5\",\"Niv_Descr_6\")"
      ],
      "id": "7943d51c",
      "execution_count": null,
      "outputs": []
    },
    {
      "cell_type": "markdown",
      "metadata": {},
      "source": [
        "Resultados de una sola variable:\n"
      ],
      "id": "e147f2c6"
    },
    {
      "cell_type": "code",
      "metadata": {},
      "source": [
        "Id = 220\n",
        "df = get_df(Id)\n",
        "# get_plot(Id)\n",
        "df"
      ],
      "id": "8d6f8041",
      "execution_count": null,
      "outputs": []
    },
    {
      "cell_type": "markdown",
      "metadata": {},
      "source": [
        "##### Precio y Variación, Corrientes y Constantes, por NAEH\n"
      ],
      "id": "f6ae0167"
    },
    {
      "cell_type": "code",
      "metadata": {},
      "source": [
        "res_nivel_4(\n",
        "    \"ESR\",\"VAB\",\n",
        "    \"Niv_Gr_3\",\n",
        "    \"02\",\n",
        "    \"Niv_Descr_4\")"
      ],
      "id": "7200c71b",
      "execution_count": null,
      "outputs": []
    },
    {
      "cell_type": "code",
      "metadata": {},
      "source": [
        "res_nivel_5(\n",
        "    \"ESR\",\"VAB\",\n",
        "    \"Niv_Gr_3\",\n",
        "    \"02\",\n",
        "    \"Niv_Descr_4\",\"Niv_Descr_5\")"
      ],
      "id": "148e6bec",
      "execution_count": null,
      "outputs": []
    },
    {
      "cell_type": "markdown",
      "metadata": {},
      "source": [
        "Notar que aquí el Nivel de Descripción 6 (Niv_Descr_6) no es una buena opción de desagregación, puesto que los componentes son \"Actividad Económica\" y \"Productos Alimenticios, Bebidas y Tabaco\"; esta última está detallada en mayor grado en el Nivel de Descripción 7 (Niv_Descr_7).\n",
        "\n",
        "Para saber el contenido de todas las variables:\n"
      ],
      "id": "052cd2cf"
    },
    {
      "cell_type": "code",
      "metadata": {},
      "source": [
        "res_nivel_7(\n",
        "    \"ESR\",\"VAB\",\n",
        "    \"Niv_Gr_3\",\n",
        "    \"02\",\n",
        "    \"Id\",\"Niv_Descr_4\",\"Niv_Descr_5\",\"Niv_Descr_7\")"
      ],
      "id": "b7510988",
      "execution_count": null,
      "outputs": []
    },
    {
      "cell_type": "markdown",
      "metadata": {},
      "source": [
        "Resultados de una sola variable:\n"
      ],
      "id": "5cec8a25"
    },
    {
      "cell_type": "code",
      "metadata": {},
      "source": [
        "Id = 273\n",
        "df = get_df(Id)\n",
        "# get_plot(Id)\n",
        "df"
      ],
      "id": "cb32cbea",
      "execution_count": null,
      "outputs": []
    },
    {
      "cell_type": "markdown",
      "metadata": {},
      "source": [
        "#### PIBA = PIB Anual\n",
        "\n",
        "La información se encuentra en la viñeta \"Sector Real\" de la [página web del BCH](https://www.bch.hn/estadisticas-y-publicaciones-economicas/reportes-dinamicos/sector-real).\n"
      ],
      "id": "aac2b21e"
    },
    {
      "cell_type": "code",
      "metadata": {},
      "source": [
        "res_nivel_3(\"ESR\",\"PIBA\",\"Niv_Descr_3\")"
      ],
      "id": "326b39af",
      "execution_count": null,
      "outputs": []
    },
    {
      "cell_type": "markdown",
      "metadata": {},
      "source": [
        "##### 01 Valores Corrientes y Constantes, por Actividad Económica\n"
      ],
      "id": "8adc72c9"
    },
    {
      "cell_type": "code",
      "metadata": {},
      "source": [
        "res_nivel_4(\n",
        "    \"ESR\",\"PIBA\",\n",
        "    \"Niv_Gr_3\",\n",
        "    \"01\",\n",
        "    \"Niv_Descr_4\")"
      ],
      "id": "5744bb30",
      "execution_count": null,
      "outputs": []
    },
    {
      "cell_type": "markdown",
      "metadata": {},
      "source": [
        "* Rama de Actividad Económica (RAE)\n",
        "* Series Agregadas\n",
        "* Variación RAE\n",
        "* Variación Series Agregadas\n"
      ],
      "id": "b3370a30"
    },
    {
      "cell_type": "code",
      "metadata": {},
      "source": [
        "res_nivel_6(\n",
        "    \"ESR\",\"PIBA\",\n",
        "    \"Niv_Gr_3\",\n",
        "    \"01\",\n",
        "    \"Niv_Descr_4\",\"Niv_Descr_5\",\"Niv_Descr_6\")"
      ],
      "id": "c36e0986",
      "execution_count": null,
      "outputs": []
    },
    {
      "cell_type": "markdown",
      "metadata": {},
      "source": [
        "Para saber el contenido de todas las variables:\n"
      ],
      "id": "992c88cb"
    },
    {
      "cell_type": "code",
      "metadata": {},
      "source": [
        "res_nivel_7(\n",
        "    \"ESR\",\"PIBA\",\n",
        "    \"Niv_Gr_3\",\n",
        "    \"01\",\n",
        "    \"Id\",\"Niv_Descr_4\",\"Niv_Descr_5\",\"Niv_Descr_6\")"
      ],
      "id": "cf2d5c0e",
      "execution_count": null,
      "outputs": []
    },
    {
      "cell_type": "markdown",
      "metadata": {},
      "source": [
        "Resultados de una sola variable:\n"
      ],
      "id": "153b427b"
    },
    {
      "cell_type": "code",
      "metadata": {},
      "source": [
        "Id = 101\n",
        "df = get_df(Id)\n",
        "# get_plot(Id)\n",
        "df"
      ],
      "id": "d5abca56",
      "execution_count": null,
      "outputs": []
    },
    {
      "cell_type": "markdown",
      "metadata": {},
      "source": [
        "##### 02 Precios y Variación, por Componente del Gasto\n"
      ],
      "id": "f1838290"
    },
    {
      "cell_type": "code",
      "metadata": {},
      "source": [
        "res_nivel_4(\n",
        "    \"ESR\",\"PIBA\",\n",
        "    \"Niv_Gr_3\",\n",
        "    \"02\",\n",
        "    \"Niv_Descr_4\")"
      ],
      "id": "0b08b7e1",
      "execution_count": null,
      "outputs": []
    },
    {
      "cell_type": "markdown",
      "metadata": {},
      "source": [
        "Tipo de Valores (\"Niv_Descr_5\"):\n",
        "\n",
        "* Corrientes\n",
        "* Constantes\n"
      ],
      "id": "ebe05afc"
    },
    {
      "cell_type": "code",
      "metadata": {},
      "source": [
        "res_nivel_6(\n",
        "    \"ESR\",\"PIBA\",\n",
        "    \"Niv_Gr_3\",\n",
        "    \"02\",\n",
        "    \"Niv_Descr_4\",\"Niv_Descr_5\",\"Niv_Descr_6\")"
      ],
      "id": "c9df2f3f",
      "execution_count": null,
      "outputs": []
    },
    {
      "cell_type": "markdown",
      "metadata": {},
      "source": [
        "Para saber el contenido de todas las variables:\n"
      ],
      "id": "7e109625"
    },
    {
      "cell_type": "code",
      "metadata": {},
      "source": [
        "res_nivel_7(\n",
        "    \"ESR\",\"PIBA\",\n",
        "    \"Niv_Gr_3\",\n",
        "    \"02\",\n",
        "    \"Id\",\"Niv_Descr_4\",\"Niv_Descr_5\",\"Niv_Descr_6\")"
      ],
      "id": "6bc86485",
      "execution_count": null,
      "outputs": []
    },
    {
      "cell_type": "markdown",
      "metadata": {},
      "source": [
        "Resultados de una sola variable:\n"
      ],
      "id": "f7c396f2"
    },
    {
      "cell_type": "code",
      "metadata": {},
      "source": [
        "Id = 194\n",
        "df = get_df(Id)\n",
        "# get_plot(Id)\n",
        "df"
      ],
      "id": "6e4c2977",
      "execution_count": null,
      "outputs": []
    },
    {
      "cell_type": "markdown",
      "metadata": {},
      "source": [
        "##### 03 Precios y Variación, por Componente del Ingreso\n"
      ],
      "id": "312e344a"
    },
    {
      "cell_type": "code",
      "metadata": {},
      "source": [
        "res_nivel_4(\n",
        "    \"ESR\",\"PIBA\",\n",
        "    \"Niv_Gr_3\",\n",
        "    \"03\",\n",
        "    \"Niv_Descr_4\")"
      ],
      "id": "5a000685",
      "execution_count": null,
      "outputs": []
    },
    {
      "cell_type": "markdown",
      "metadata": {},
      "source": [
        "* Remuneración de los asalariados\n",
        "* Impuestos netos de subvenciones sobre la producción y las importaciones\n",
        "* Excedente de Explotación bruto\n",
        "* Ingreso Mixto bruto\n",
        "* Producto Interno Bruto (pm)\n"
      ],
      "id": "7a21f43e"
    },
    {
      "cell_type": "code",
      "metadata": {},
      "source": [
        "res_nivel_5(\n",
        "    \"ESR\",\"PIBA\",\n",
        "    \"Niv_Gr_3\",\n",
        "    \"03\",\n",
        "    \"Niv_Descr_4\",\"Niv_Descr_5\")"
      ],
      "id": "b0274ff4",
      "execution_count": null,
      "outputs": []
    },
    {
      "cell_type": "markdown",
      "metadata": {},
      "source": [
        "Para saber el contenido de todas las variables:\n"
      ],
      "id": "09a5f714"
    },
    {
      "cell_type": "code",
      "metadata": {},
      "source": [
        "res_nivel_7(\n",
        "    \"ESR\",\"PIBA\",\n",
        "    \"Niv_Gr_3\",\n",
        "    \"03\",\n",
        "    \"Id\",\"Nombre\",\"Niv_Descr_4\",\"Niv_Descr_5\")"
      ],
      "id": "b4d3a761",
      "execution_count": null,
      "outputs": []
    },
    {
      "cell_type": "markdown",
      "metadata": {},
      "source": [
        "Resultados de una sola variable:\n"
      ],
      "id": "989ab772"
    },
    {
      "cell_type": "code",
      "metadata": {},
      "source": [
        "Id = 202\n",
        "df = get_df(Id)\n",
        "# get_plot(Id)\n",
        "df"
      ],
      "id": "3a5712c6",
      "execution_count": null,
      "outputs": []
    },
    {
      "cell_type": "markdown",
      "metadata": {},
      "source": [
        "##### 04 Dólares y Lempiras\n"
      ],
      "id": "34682cff"
    },
    {
      "cell_type": "code",
      "metadata": {},
      "source": [
        "res_nivel_4(\n",
        "    \"ESR\",\"PIBA\",\n",
        "    \"Niv_Gr_3\",\n",
        "    \"04\",\n",
        "    \"Niv_Descr_4\")"
      ],
      "id": "354f81d3",
      "execution_count": null,
      "outputs": []
    },
    {
      "cell_type": "markdown",
      "metadata": {},
      "source": [
        "* Ingreso Nacional\n",
        "* Producto Interno Bruto\n",
        "* Producto Nacional Bruto\n"
      ],
      "id": "c1cb6ee8"
    },
    {
      "cell_type": "code",
      "metadata": {},
      "source": [
        "res_nivel_5(\n",
        "    \"ESR\",\"PIBA\",\n",
        "    \"Niv_Gr_3\",\n",
        "    \"04\",\n",
        "    \"Niv_Descr_4\",\"Niv_Descr_6\")"
      ],
      "id": "eb715e8f",
      "execution_count": null,
      "outputs": []
    },
    {
      "cell_type": "markdown",
      "metadata": {},
      "source": [
        "Para saber el contenido de todas las variables:\n"
      ],
      "id": "f3384928"
    },
    {
      "cell_type": "code",
      "metadata": {},
      "source": [
        "res_nivel_7(\n",
        "    \"ESR\",\"PIBA\",\n",
        "    \"Niv_Gr_3\",\n",
        "    \"04\",\n",
        "    \"Id\",\"Nombre\",\"Niv_Descr_4\",\"Niv_Descr_6\")"
      ],
      "id": "fe9e1aa0",
      "execution_count": null,
      "outputs": []
    },
    {
      "cell_type": "markdown",
      "metadata": {},
      "source": [
        "Resultados de una sola variable:\n"
      ],
      "id": "99ce5ca5"
    },
    {
      "cell_type": "code",
      "metadata": {},
      "source": [
        "Id = 211\n",
        "df = get_df(Id)\n",
        "# get_plot(Id)\n",
        "df"
      ],
      "id": "11e8a747",
      "execution_count": null,
      "outputs": []
    },
    {
      "cell_type": "markdown",
      "metadata": {},
      "source": [
        "#### PIBT = PIB Trimestral\n",
        "\n",
        "Esta información se obtiene a partir de los datos del [Portal de Consulta del Sistema de Cuentas Trimestrales](https://sisee.bch.hn/SCNT/PortalPrincipal.aspx).\n"
      ],
      "id": "bdacdbad"
    },
    {
      "cell_type": "code",
      "metadata": {},
      "source": [
        "res_nivel_3(\"ESR\",\"PIBT\",\"Niv_Gr_3\")"
      ],
      "id": "0350724e",
      "execution_count": null,
      "outputs": []
    },
    {
      "cell_type": "markdown",
      "metadata": {},
      "source": [
        "* PROD = PIB Trimestral por el Enfoque de la Producción\n",
        "* GAST = PIB Trimestral por el Enfoque del Gasto\n",
        "* TDC = Tasas de Crecimiento\n",
        "\n",
        "##### PROD = PIB Trimestral por el Enfoque de la Producción\n",
        "\n",
        "* Serie Original\n",
        "* Serie Desestacionalizada\n",
        "* Valores Corrientes\n",
        "* Valores Constantes\n",
        "\n",
        "Para saber el contenido de todas las variables:\n"
      ],
      "id": "071ab522"
    },
    {
      "cell_type": "code",
      "metadata": {},
      "source": [
        "res_nivel_7(\n",
        "    \"ESR\",\"PIBT\",\n",
        "    \"Niv_Gr_3\",\n",
        "    \"PROD\",\n",
        "    \"Id\",\"Niv_Descr_1\",\"Niv_Descr_2\",\"Niv_Descr_4\")"
      ],
      "id": "aba7cde4",
      "execution_count": null,
      "outputs": []
    },
    {
      "cell_type": "markdown",
      "metadata": {},
      "source": [
        "Resultados de una sola variable:\n"
      ],
      "id": "75536693"
    },
    {
      "cell_type": "code",
      "metadata": {},
      "source": [
        "Id = 2\n",
        "df = get_df(Id)\n",
        "# get_plot(Id)\n",
        "df"
      ],
      "id": "aa2401cc",
      "execution_count": null,
      "outputs": []
    },
    {
      "cell_type": "markdown",
      "metadata": {},
      "source": [
        "##### GAST = PIB Trimestral por el Enfoque del Gasto\n",
        "\n",
        "* Serie Original\n",
        "* Serie Desestacionalizada\n",
        "* Valores Corrientes\n",
        "* Valores Constantes\n",
        "\n",
        "Para saber el contenido de todas las variables:\n"
      ],
      "id": "adb289e6"
    },
    {
      "cell_type": "code",
      "metadata": {},
      "source": [
        "res_nivel_7(\n",
        "    \"ESR\",\"PIBT\",\n",
        "    \"Niv_Gr_3\",\n",
        "    \"GAST\",\n",
        "    \"Id\",\"Niv_Descr_1\",\"Niv_Descr_2\",\"Niv_Descr_4\")"
      ],
      "id": "f328d081",
      "execution_count": null,
      "outputs": []
    },
    {
      "cell_type": "markdown",
      "metadata": {},
      "source": [
        "Resultados de una sola variable:\n"
      ],
      "id": "5bbb338a"
    },
    {
      "cell_type": "code",
      "metadata": {},
      "source": [
        "Id = 8\n",
        "df = get_df(Id)\n",
        "# get_plot(Id)\n",
        "df"
      ],
      "id": "271f14b4",
      "execution_count": null,
      "outputs": []
    },
    {
      "cell_type": "markdown",
      "metadata": {},
      "source": [
        "##### TDC = Tasas de Crecimiento\n",
        "\n",
        "* Serie Original\n",
        "* Serie Desestacionalizada\n",
        "* Valores Corrientes\n",
        "* Valores Constantes\n",
        "\n",
        "Para saber el contenido de todas las variables:\n"
      ],
      "id": "e2b148ea"
    },
    {
      "cell_type": "code",
      "metadata": {},
      "source": [
        "res_nivel_6(\n",
        "    \"ESR\",\"PIBT\",\n",
        "    \"Niv_Gr_3\",\n",
        "    \"TDC\",\n",
        "    \"Id\",\"Nombre\",\"Niv_Descr_1\")"
      ],
      "id": "aff561c1",
      "execution_count": null,
      "outputs": []
    },
    {
      "cell_type": "markdown",
      "metadata": {},
      "source": [
        "Resultados de una sola variable:\n"
      ],
      "id": "80a43d1f"
    },
    {
      "cell_type": "code",
      "metadata": {},
      "source": [
        "Id = 98\n",
        "df = get_df(Id)\n",
        "# get_plot(Id)\n",
        "df"
      ],
      "id": "bf3547b4",
      "execution_count": null,
      "outputs": []
    },
    {
      "cell_type": "markdown",
      "metadata": {},
      "source": [
        "#### ODA = Oferta y Demanda Agregada\n",
        "\n",
        "* Oferta Global\n",
        "* Demanda Global\n"
      ],
      "id": "c722caf9"
    },
    {
      "cell_type": "code",
      "metadata": {},
      "source": [
        "res_nivel_3(\"ESR\",\"ODA\",\"Niv_Descr_1\")"
      ],
      "id": "c0bb7288",
      "execution_count": null,
      "outputs": []
    },
    {
      "cell_type": "markdown",
      "metadata": {},
      "source": [
        "##### Oferta Global\n",
        "\n",
        "Estas tablas están agrupadas de dos maneras:\n",
        "\n",
        "1. Variables con valores en \"Niv_Descr_2\" y \"Niv_Descr_3\", corresponde a las siguientes series:\n",
        "\n",
        "* AGRICULTURA, GANADERÍA, CAZA, SILVICULTURA Y PESCA (A PRECIOS BÁSICOS)\n",
        "* COMERCIO, HOTELES Y RESTAURANTES (A PRECIOS BÁSICOS)\n",
        "* CONSTRUCCIÓN (A PRECIOS BÁSICOS)\n",
        "* EXPLOTACIÓN DE MINAS Y CANTERAS (A PRECIOS BÁSICOS)\n",
        "* INDUSTRIA MANUFACTURERA (A PRECIOS BÁSICOS)\n",
        "* MENOS: SERVICIOS DE INTERMEDIACIÓN FINANCIERA MEDIDOS INDIRECTAMENTE (A PRECIOS BÁSICOS)\n",
        "\n",
        "El tipo de valor (\"Niv_Descr_4\") de dichas variables es:\n",
        "\n",
        "* EN MILLONES DE LEMPIRAS CONSTANTES\n",
        "* EN MILLONES DE LEMPIRAS CORRIENTES\n",
        "* VARIACIONES RELATIVAS CONSTANTE\n",
        "* VARIACIONES RELATIVAS CORRIENTES\n"
      ],
      "id": "595cc426"
    },
    {
      "cell_type": "code",
      "metadata": {},
      "source": [
        "res_nivel_7(\n",
        "    \"ESR\",\"ODA\",\n",
        "    \"Niv_Descr_1\",\n",
        "    \"OFERTA GLOBAL\",\n",
        "    \"Id\",\"Niv_Descr_2\",\"Niv_Descr_3\",\"Niv_Descr_4\"\n",
        "    ).filter((pl.col('Niv_Descr_2') != \"\"))"
      ],
      "id": "4d60d937",
      "execution_count": null,
      "outputs": []
    },
    {
      "cell_type": "markdown",
      "metadata": {},
      "source": [
        "Resultados de una sola variable:\n"
      ],
      "id": "0e5f097b"
    },
    {
      "cell_type": "code",
      "metadata": {},
      "source": [
        "Id = 11518\n",
        "df = get_df(Id)\n",
        "# get_plot(Id)\n",
        "df"
      ],
      "id": "cdb4df77",
      "execution_count": null,
      "outputs": []
    },
    {
      "cell_type": "markdown",
      "metadata": {},
      "source": [
        "2. Variables sin valores en \"Niv_Descr_2\" y \"Niv_Descr_3\", corresponde a las siguientes series:\n",
        "\n",
        "* IMPORTACIONES DE BIENES Y SERVICIOS C.I.F.\n",
        "* IMPUESTOS NETOS DE SUBVENCIONES SOBRE LA PRODUCCIÓN Y LAS IMPORTACIONES\n",
        "* OFERTA GLOBAL\n",
        "* OTROS SERVICIOS (A PRECIOS BÃSICOS)\n",
        "* PRODUCTO INTERNO BRUTO A PRECIOS DE MERCADO\n",
        "* TOTAL VALOR AGREGADO BRUTO A PRECIOS BÁSICOS\n",
        "* VALOR AGREGADO BRUTO\n",
        "* VALOR AGREGADO BRUTO A PRECIOS BÁSICOS\n",
        "\n",
        "El tipo de valor (\"Niv_Descr_5\") de dichas variables es:\n",
        "\n",
        "* EN MILLONES DE LEMPIRAS CONSTANTES\n",
        "* EN MILLONES DE LEMPIRAS CORRIENTES\n",
        "* VARIACIONES RELATIVAS CONSTANTE\n",
        "* VARIACIONES RELATIVAS CORRIENTES\n",
        "\n",
        "Para saber el contenido de todas las variables:\n"
      ],
      "id": "fbe3c429"
    },
    {
      "cell_type": "code",
      "metadata": {},
      "source": [
        "res_nivel_7(\n",
        "    \"ESR\",\"ODA\",\n",
        "    \"Niv_Descr_1\",\n",
        "    \"OFERTA GLOBAL\",\n",
        "    \"Id\",\"Niv_Descr_2\",\"Niv_Descr_4\",\"Niv_Descr_5\"\n",
        "    ).filter((pl.col('Niv_Descr_2') == \"\"))"
      ],
      "id": "fcf052e4",
      "execution_count": null,
      "outputs": []
    },
    {
      "cell_type": "markdown",
      "metadata": {},
      "source": [
        "Resultados de una sola variable:\n"
      ],
      "id": "3e6376d4"
    },
    {
      "cell_type": "code",
      "metadata": {},
      "source": [
        "Id = 11473\n",
        "df = get_df(Id)\n",
        "# get_plot(Id)\n",
        "df"
      ],
      "id": "3f9e2a04",
      "execution_count": null,
      "outputs": []
    },
    {
      "cell_type": "markdown",
      "metadata": {},
      "source": [
        "##### Demanda Global\n",
        "\n",
        "Estas tablas están agrupadas de dos maneras:\n",
        "\n",
        "1. Variables con valores en \"Niv_Descr_2\" y \"Niv_Descr_3\", corresponde a las siguientes series:\n",
        "\n",
        "* FORMACIÓN BRUTA DE CAPITAL FIJO\n",
        "* GASTOS DE CONSUMO FINAL\n",
        "\n",
        "De \"Niv_Descr_3\" se obtiene:\n",
        "\n",
        "* SECTOR PRIVADO\n",
        "* SECTOR PÚBLICO\n",
        "\n",
        "El tipo de valor (\"Niv_Descr_4\") de dichas variables es:\n",
        "\n",
        "* EN MILLONES DE LEMPIRAS CONSTANTES\n",
        "* EN MILLONES DE LEMPIRAS CORRIENTES\n",
        "* VARIACIONES RELATIVAS CONSTANTE\n",
        "* VARIACIONES RELATIVAS CORRIENTES\n"
      ],
      "id": "4bc21052"
    },
    {
      "cell_type": "code",
      "metadata": {},
      "source": [
        "res_nivel_7(\n",
        "    \"ESR\",\"ODA\",\n",
        "    \"Niv_Descr_1\",\n",
        "    \"DEMANDA GLOBAL\",\n",
        "    \"Id\",\"Niv_Descr_2\",\"Niv_Descr_3\",\"Niv_Descr_4\"\n",
        "    ).filter((pl.col('Niv_Descr_2') != \"\"))"
      ],
      "id": "0cb49fdd",
      "execution_count": null,
      "outputs": []
    },
    {
      "cell_type": "markdown",
      "metadata": {},
      "source": [
        "Resultados de una sola variable:\n"
      ],
      "id": "aa3d8160"
    },
    {
      "cell_type": "code",
      "metadata": {},
      "source": [
        "Id = 11457\n",
        "df = get_df(Id)\n",
        "# get_plot(Id)\n",
        "df"
      ],
      "id": "1d29c8f1",
      "execution_count": null,
      "outputs": []
    },
    {
      "cell_type": "markdown",
      "metadata": {},
      "source": [
        "2. Variables sin valores en \"Niv_Descr_2\" y \"Niv_Descr_3\", corresponde a las siguientes series:\n",
        "\n",
        "* DEMANDA EXTERNA\n",
        "* DEMANDA GLOBAL\n",
        "* DEMANDA INTERNA\n",
        "* EXPORTACIÓN DE BIENES Y SERVICIOS F.O.B.\n",
        "* FORMACIÓN BRUTA DE CAPITAL FIJO\n",
        "* GASTOS DE CONSUMO FINAL\n",
        "* INVERSIÓN INTERNA BRUTA\n",
        "* VARIACIÓN DE EXISTENCIAS\n",
        "\n",
        "El tipo de valor de dichas variables es:\n",
        "\n",
        "* EN MILLONES DE LEMPIRAS CONSTANTES\n",
        "* EN MILLONES DE LEMPIRAS CORRIENTES\n",
        "* VARIACIONES RELATIVAS CONSTANTE\n",
        "* VARIACIONES RELATIVAS CORRIENTES\n",
        "\n",
        "Para saber el contenido de todas las variables:\n"
      ],
      "id": "6e45f19f"
    },
    {
      "cell_type": "code",
      "metadata": {},
      "source": [
        "res_nivel_7(\n",
        "    \"ESR\",\"ODA\",\n",
        "    \"Niv_Descr_1\",\n",
        "    \"DEMANDA GLOBAL\",\n",
        "    \"Id\",\"Niv_Descr_2\",\"Niv_Descr_4\",\"Niv_Descr_5\"\n",
        "    ).filter((pl.col('Niv_Descr_2') == \"\"))"
      ],
      "id": "745f25b0",
      "execution_count": null,
      "outputs": []
    },
    {
      "cell_type": "markdown",
      "metadata": {},
      "source": [
        "Resultados de una sola variable:\n"
      ],
      "id": "8bb1ce97"
    },
    {
      "cell_type": "code",
      "metadata": {},
      "source": [
        "Id = 11440\n",
        "df = get_df(Id)\n",
        "# get_plot(Id)\n",
        "df"
      ],
      "id": "61cf2311",
      "execution_count": null,
      "outputs": []
    },
    {
      "cell_type": "markdown",
      "metadata": {},
      "source": [
        "#### IMAE = Índice Mensual de la Actividad Económica\n",
        "\n",
        "Las actividades (\"Niv_Descr_4\") son:\n",
        "\n",
        "* Agricultura, Ganaderia, Silvicultura y Pesca \n",
        "* Minas y Canteras \n",
        "*  Industria Manufacturera \n",
        "* Electricidad y Agua \n",
        "* ConstrucciÃ³n \n",
        "* Comercio \n",
        "* Hoteles y Restaurantes \n",
        "* Transporte y Almacenamiento \n",
        "* Correo y Telecomunicaciones \n",
        "* Inter. Financiera, Seguros y Fondos de Pensiones \n",
        "* Otros Servicios \n",
        "* Serie Original \n",
        "* Tendencia Ciclo \n",
        "\n",
        "El tipo de valor (\"Niv_Descr_5\") de dichas variables es:\n",
        "\n",
        "* Acumulada\n",
        "* Interanual\n",
        "* Índice\n"
      ],
      "id": "9cb4c822"
    },
    {
      "cell_type": "code",
      "metadata": {},
      "source": [
        "res_nivel_3(\"ESR\",\"IMAE\",\"Niv_Descr_2\")"
      ],
      "id": "4a0fa38d",
      "execution_count": null,
      "outputs": []
    },
    {
      "cell_type": "markdown",
      "metadata": {},
      "source": [
        "Para saber el contenido de todas las variables:\n"
      ],
      "id": "f1fbe40a"
    },
    {
      "cell_type": "code",
      "metadata": {},
      "source": [
        "res_nivel_6(\n",
        "    \"ESR\",\"IMAE\",\n",
        "    \"Niv_Descr_2\",\n",
        "    \"IMAE\",\n",
        "    \"Id\",\"Niv_Descr_4\",\"Niv_Descr_5\")"
      ],
      "id": "73fa1766",
      "execution_count": null,
      "outputs": []
    },
    {
      "cell_type": "markdown",
      "metadata": {},
      "source": [
        "Resultados de una sola variable:\n"
      ],
      "id": "ecfcd099"
    },
    {
      "cell_type": "code",
      "metadata": {},
      "source": [
        "Id = 372\n",
        "df = get_df(Id)\n",
        "# get_plot(Id)\n",
        "df"
      ],
      "id": "3ece6bea",
      "execution_count": null,
      "outputs": []
    },
    {
      "cell_type": "markdown",
      "metadata": {},
      "source": [
        "### ESE = Estadísticas del Sector Externo\n"
      ],
      "id": "9886f4f7"
    },
    {
      "cell_type": "code",
      "metadata": {},
      "source": [
        "res_nivel_2(\"ESE\")"
      ],
      "id": "02d10811",
      "execution_count": null,
      "outputs": []
    },
    {
      "cell_type": "markdown",
      "metadata": {},
      "source": [
        "* DE = Deuda Externa\n",
        "* CEB = Comercio Exterior de Bienes\n",
        "* BP = Balanza de Pagos\n",
        "* IES = Ingresos y Egresos de Servicios\n",
        "* PII = Posición de Inversión Inernacional\n",
        "* IED = Inversión Extranjera Directa\n",
        "\n",
        "#### DE = Deuda Externa\n"
      ],
      "id": "a22541c4"
    },
    {
      "cell_type": "code",
      "metadata": {},
      "source": [
        "res_nivel_3(\"ESE\",\"DE\",\"Niv_Gr_3\")"
      ],
      "id": "13589f5d",
      "execution_count": null,
      "outputs": []
    },
    {
      "cell_type": "markdown",
      "metadata": {},
      "source": [
        "##### 01 - Deudor\n",
        "\n",
        "Para ver todas las variables:\n"
      ],
      "id": "cde8951d"
    },
    {
      "cell_type": "code",
      "metadata": {},
      "source": [
        "res_nivel_7(\n",
        "    \"ESE\",\"DE\",\n",
        "    \"Niv_Gr_3\",\"01\",\n",
        "    \"Id\",\"Nombre\",\"Niv_Descr_1\",\"Niv_Descr_2\").sort(\"Nombre\")"
      ],
      "id": "acd5ec14",
      "execution_count": null,
      "outputs": []
    },
    {
      "cell_type": "markdown",
      "metadata": {},
      "source": [
        "Resultados de una sola variable:\n"
      ],
      "id": "a39b2266"
    },
    {
      "cell_type": "code",
      "metadata": {},
      "source": [
        "Id = 6710\n",
        "df = get_df(Id)\n",
        "# get_plot(Id)\n",
        "df"
      ],
      "id": "28acfbea",
      "execution_count": null,
      "outputs": []
    },
    {
      "cell_type": "markdown",
      "metadata": {},
      "source": [
        "##### 02 - Acreedor\n",
        "\n",
        "Para ver todas las variables:\n"
      ],
      "id": "4f4f513d"
    },
    {
      "cell_type": "code",
      "metadata": {},
      "source": [
        "res_nivel_7(\n",
        "    \"ESE\",\"DE\",\n",
        "    \"Niv_Gr_3\",\"02\",\n",
        "    \"Id\",\"Nombre\",\"Niv_Descr_1\",\"Niv_Descr_2\").sort(\"Nombre\")"
      ],
      "id": "8fb21899",
      "execution_count": null,
      "outputs": []
    },
    {
      "cell_type": "markdown",
      "metadata": {},
      "source": [
        "Resultados de una sola variable:\n"
      ],
      "id": "fc717c8a"
    },
    {
      "cell_type": "code",
      "metadata": {},
      "source": [
        "Id = 6714\n",
        "df = get_df(Id)\n",
        "# get_plot(Id)\n",
        "df"
      ],
      "id": "0024a1be",
      "execution_count": null,
      "outputs": []
    },
    {
      "cell_type": "markdown",
      "metadata": {},
      "source": [
        "##### 03 - Por Institución\n",
        "\n",
        "* Banco Central\n",
        "* Gobierno general\n",
        "* Otras sociedades financieras\n",
        "* Otros Sectores\n",
        "* Saldo bruto de la deuda externa\n",
        "* Sociedades no financieras\n"
      ],
      "id": "72336925"
    },
    {
      "cell_type": "code",
      "metadata": {},
      "source": [
        "res_nivel_4(\n",
        "    \"ESE\",\"DE\",\n",
        "    \"Niv_Gr_3\",\n",
        "    \"03\",\n",
        "    \"Niv_Descr_1\")"
      ],
      "id": "7303d64c",
      "execution_count": null,
      "outputs": []
    },
    {
      "cell_type": "markdown",
      "metadata": {},
      "source": [
        "* Asignación de Derechos especiales de giro\n",
        "* Asignación de Derechos especiales de giro \n",
        "* Créditos y anticipos comerciales\n",
        "* Créditos y anticipos comerciales \n",
        "* Moneda y depósitos\n",
        "* Moneda y depósitos \n",
        "* Otros pasivos de deuda\n",
        "* Otros pasivos de deuda \n",
        "* Préstamos\n",
        "* Préstamos \n",
        "* Tí­tulos de deuda\n",
        "* Tí­tulos de deuda \n",
        "* Saldo bruto de la deuda externa\n",
        "* Saldo bruto de la deuda externa \n"
      ],
      "id": "6e3c2fa0"
    },
    {
      "cell_type": "code",
      "metadata": {},
      "source": [
        "res_nivel_4(\n",
        "    \"ESE\",\"DE\",\n",
        "    \"Niv_Gr_3\",\n",
        "    \"03\",\n",
        "    \"Niv_Descr_2\")"
      ],
      "id": "bd4da6cb",
      "execution_count": null,
      "outputs": []
    },
    {
      "cell_type": "code",
      "metadata": {},
      "source": [
        "res_nivel_7(\n",
        "    \"ESE\",\"DE\",\n",
        "    \"Niv_Gr_3\",\"03\",\n",
        "    \"Id\",\"Niv_Descr_1\",\"Niv_Descr_2\",\"Niv_Descr_3\")"
      ],
      "id": "23a1665f",
      "execution_count": null,
      "outputs": []
    },
    {
      "cell_type": "markdown",
      "metadata": {},
      "source": [
        "Para ver todas las variables (Nota: el nivel de descripción sigue):\n"
      ],
      "id": "1717d29e"
    },
    {
      "cell_type": "code",
      "metadata": {},
      "source": [
        "df_all.filter(\n",
        "    pl.col(\"Niv_Gr_1\") == \"ESE\",\n",
        "    pl.col(\"Niv_Gr_2\") == \"DE\",\n",
        "    pl.col(\"Niv_Gr_3\") == \"03\"\n",
        "    ).select(pl.all().exclude(\n",
        "        \"Niv_Descr_6\",\"Niv_Descr_7\",\"Niv_Descr_8\",\n",
        "        \"Niv_Gr_4\",\"Niv_Gr_5\"))"
      ],
      "id": "1600968d",
      "execution_count": null,
      "outputs": []
    },
    {
      "cell_type": "markdown",
      "metadata": {},
      "source": [
        "Resultados de una sola variable:\n"
      ],
      "id": "23eca961"
    },
    {
      "cell_type": "code",
      "metadata": {},
      "source": [
        "Id = 6720\n",
        "df = get_df(Id)\n",
        "# get_plot(Id)\n",
        "df"
      ],
      "id": "257bb904",
      "execution_count": null,
      "outputs": []
    },
    {
      "cell_type": "markdown",
      "metadata": {},
      "source": [
        "##### 04 - Pagos que vencen en un año o menos\n",
        "\n",
        "* Gobierno general\n",
        "* Banco Central\n",
        "* Otros Sectores\n",
        "* Otras sociedades financieras\n",
        "* Sociedades no financieras\n",
        "* Deuda externa total a corto plazo\n"
      ],
      "id": "237e946c"
    },
    {
      "cell_type": "code",
      "metadata": {},
      "source": [
        "res_nivel_4(\n",
        "    \"ESE\",\"DE\",\n",
        "    \"Niv_Gr_3\",\n",
        "    \"04\",\n",
        "    \"Niv_Descr_1\")"
      ],
      "id": "967ed4ac",
      "execution_count": null,
      "outputs": []
    },
    {
      "cell_type": "markdown",
      "metadata": {},
      "source": [
        "* A corto plazo según el vencimiento original\n",
        "* A largo plazo exigible dentro de un año o antes\n",
        "* Deuda externa total a corto plazo\n"
      ],
      "id": "d3eabd6c"
    },
    {
      "cell_type": "code",
      "metadata": {},
      "source": [
        "res_nivel_4(\n",
        "    \"ESE\",\"DE\",\n",
        "    \"Niv_Gr_3\",\n",
        "    \"04\",\n",
        "    \"Niv_Descr_2\")"
      ],
      "id": "c4dbb4a3",
      "execution_count": null,
      "outputs": []
    },
    {
      "cell_type": "markdown",
      "metadata": {},
      "source": [
        "* Asignación de Derechos especiales de giro\n",
        "* Moneda y depósitos\n",
        "* Tí­tulos de deuda\n",
        "* Préstamos\n",
        "* Créditos y anticipos comerciales\n",
        "* Otros pasivos de deuda\n",
        "* Deuda externa total a corto plazo (según el vencimiento residual)\n"
      ],
      "id": "5fe99acd"
    },
    {
      "cell_type": "code",
      "metadata": {},
      "source": [
        "res_nivel_4(\n",
        "    \"ESE\",\"DE\",\n",
        "    \"Niv_Gr_3\",\n",
        "    \"04\",\n",
        "    \"Niv_Descr_3\")"
      ],
      "id": "ab22439b",
      "execution_count": null,
      "outputs": []
    },
    {
      "cell_type": "markdown",
      "metadata": {},
      "source": [
        "Para ver todas las variables:\n"
      ],
      "id": "fa33ea3a"
    },
    {
      "cell_type": "code",
      "metadata": {},
      "source": [
        "res_nivel_7(\n",
        "    \"ESE\",\"DE\",\n",
        "    \"Niv_Gr_3\",\n",
        "    \"04\",\n",
        "    \"Id\",\"Niv_Descr_1\",\"Niv_Descr_2\",\"Niv_Descr_3\").sort(\"Id\")"
      ],
      "id": "652f392b",
      "execution_count": null,
      "outputs": []
    },
    {
      "cell_type": "markdown",
      "metadata": {},
      "source": [
        "**OJO: REVISAR LA CONSULTA A PARTIR DE 7392 HASTA 7446**\n",
        "\n",
        "Resultados de una sola variable:\n"
      ],
      "id": "48c355fb"
    },
    {
      "cell_type": "code",
      "metadata": {},
      "source": [
        "Id = 7447 # 7392 - 7446\n",
        "df = get_df(Id)\n",
        "# get_plot(Id)\n",
        "df"
      ],
      "id": "9b517f2b",
      "execution_count": null,
      "outputs": []
    },
    {
      "cell_type": "markdown",
      "metadata": {},
      "source": [
        "#### CEB = Comercio Exterior de Bienes\n"
      ],
      "id": "0a3c16b4"
    },
    {
      "cell_type": "code",
      "metadata": {},
      "source": [
        "res_nivel_3(\"ESE\",\"CEB\",\"Niv_Gr_3\")"
      ],
      "id": "d08fea80",
      "execution_count": null,
      "outputs": []
    },
    {
      "cell_type": "markdown",
      "metadata": {},
      "source": [
        "##### 01 - Productos\n",
        "\n",
        "* Banano\n",
        "* Café\n",
        "* Aceite de Palma\n",
        "* Camarones\n",
        "* Melones y Sandí­as\n",
        "* Legumbres y Hortalizas\n",
        "* Puros o Cigarros\n",
        "* Textiles\n",
        "* Jabones\n",
        "* Plásticos y su Manufacturas\n",
        "* Papel y Cartón\n"
      ],
      "id": "606d42fc"
    },
    {
      "cell_type": "code",
      "metadata": {},
      "source": [
        "res_nivel_4(\n",
        "    \"ESE\",\"CEB\",\n",
        "    \"Niv_Gr_3\",\n",
        "    \"01\",\n",
        "    \"Niv_Descr_5\")"
      ],
      "id": "ff65eea0",
      "execution_count": null,
      "outputs": []
    },
    {
      "cell_type": "markdown",
      "metadata": {},
      "source": [
        "* Volumen\n",
        "* Valor\n",
        "* Precio\n"
      ],
      "id": "1e70b6d0"
    },
    {
      "cell_type": "code",
      "metadata": {},
      "source": [
        "res_nivel_4(\n",
        "    \"ESE\",\"CEB\",\n",
        "    \"Niv_Gr_3\",\n",
        "    \"01\",\n",
        "    \"Niv_Descr_6\")"
      ],
      "id": "7075ea04",
      "execution_count": null,
      "outputs": []
    },
    {
      "cell_type": "markdown",
      "metadata": {},
      "source": [
        "* Trimestral\n",
        "* Anual\n"
      ],
      "id": "6016a3b8"
    },
    {
      "cell_type": "code",
      "metadata": {},
      "source": [
        "res_nivel_4(\n",
        "    \"ESE\",\"CEB\",\n",
        "    \"Niv_Gr_3\",\n",
        "    \"01\",\n",
        "    \"Niv_Descr_7\")"
      ],
      "id": "1e78a328",
      "execution_count": null,
      "outputs": []
    },
    {
      "cell_type": "markdown",
      "metadata": {},
      "source": [
        "**OJO: \"Niv_Descr_7\" y \"Niv_Descr_8\" son iguales**\n",
        "\n",
        "Para ver todas las variables:\n"
      ],
      "id": "9f323120"
    },
    {
      "cell_type": "code",
      "metadata": {},
      "source": [
        "res_nivel_7(\n",
        "    \"ESE\",\"CEB\",\n",
        "    \"Niv_Gr_3\",\n",
        "    \"01\",\"Id\",\"Niv_Descr_5\",\"Niv_Descr_6\",\"Niv_Descr_7\")"
      ],
      "id": "4a3a0f76",
      "execution_count": null,
      "outputs": []
    },
    {
      "cell_type": "markdown",
      "metadata": {},
      "source": [
        "Resultados de una sola variable:\n"
      ],
      "id": "0e653992"
    },
    {
      "cell_type": "code",
      "metadata": {},
      "source": [
        "Id = 441\n",
        "df = get_df(Id)\n",
        "get_plot(Id)\n",
        "df"
      ],
      "id": "8cc07433",
      "execution_count": null,
      "outputs": []
    },
    {
      "cell_type": "markdown",
      "metadata": {},
      "source": [
        "##### 02 - Combustibles\n",
        "\n",
        "* Gasolina regular\n",
        "* Bunker\n",
        "* Diesel\n",
        "* Total combustibles\n",
        "* Gasolina superior\n",
        "* Kerosene\n",
        "* LPG\n"
      ],
      "id": "74138861"
    },
    {
      "cell_type": "code",
      "metadata": {},
      "source": [
        "res_nivel_4(\n",
        "    \"ESE\",\"CEB\",\n",
        "    \"Niv_Gr_3\",\n",
        "    \"02\",\n",
        "    \"Niv_Descr_5\")"
      ],
      "id": "6d13d74e",
      "execution_count": null,
      "outputs": []
    },
    {
      "cell_type": "markdown",
      "metadata": {},
      "source": [
        "* Barriles\n",
        "* Valor\n",
        "* Precio\n"
      ],
      "id": "e2d115ba"
    },
    {
      "cell_type": "code",
      "metadata": {},
      "source": [
        "res_nivel_4(\n",
        "    \"ESE\",\"CEB\",\n",
        "    \"Niv_Gr_3\",\n",
        "    \"02\",\n",
        "    \"Niv_Descr_6\")"
      ],
      "id": "341c41d1",
      "execution_count": null,
      "outputs": []
    },
    {
      "cell_type": "markdown",
      "metadata": {},
      "source": [
        "Para ver todas las variables:\n"
      ],
      "id": "f1228c59"
    },
    {
      "cell_type": "code",
      "metadata": {},
      "source": [
        "res_nivel_7(\n",
        "    \"ESE\",\"CEB\",\n",
        "    \"Niv_Gr_3\",\n",
        "    \"02\",\"Id\",\"Nombre\",\"Niv_Descr_5\",\"Niv_Descr_6\")"
      ],
      "id": "2c25abb3",
      "execution_count": null,
      "outputs": []
    },
    {
      "cell_type": "markdown",
      "metadata": {},
      "source": [
        "Resultados de una sola variable:\n"
      ],
      "id": "e9858424"
    },
    {
      "cell_type": "code",
      "metadata": {},
      "source": [
        "Id = 503\n",
        "df = get_df(Id)\n",
        "get_plot(Id)\n",
        "df"
      ],
      "id": "2899a47f",
      "execution_count": null,
      "outputs": []
    },
    {
      "cell_type": "markdown",
      "metadata": {},
      "source": [
        "##### 03\n",
        "\n",
        "* Importaciones AE \n",
        "* Importaciones BT Sección \n",
        "* Importaciones Secciones \n"
      ],
      "id": "88fb3d54"
    },
    {
      "cell_type": "code",
      "metadata": {},
      "source": [
        "res_nivel_4(\n",
        "    \"ESE\",\"CEB\",\n",
        "    \"Niv_Gr_3\",\n",
        "    \"03\",\n",
        "    \"Niv_Descr_1\")"
      ],
      "id": "1ba18aff",
      "execution_count": null,
      "outputs": []
    },
    {
      "cell_type": "markdown",
      "metadata": {},
      "source": [
        "Los dos primeros grupos solamente tienen un nivel de descripción:\n",
        "\n",
        "###### Importaciones AE\n"
      ],
      "id": "0dbb128d"
    },
    {
      "cell_type": "code",
      "metadata": {},
      "source": [
        "res_nivel_7(\n",
        "    \"ESE\",\"CEB\",\n",
        "    \"Niv_Gr_3\",\n",
        "    \"03\",\"Id\",\"Nombre\",\"Niv_Descr_1\",\"Niv_Descr_2\"\n",
        "    ).filter(\n",
        "    pl.col(\"Niv_Descr_1\") == \"Importaciones AE \")"
      ],
      "id": "cfbc861f",
      "execution_count": null,
      "outputs": []
    },
    {
      "cell_type": "markdown",
      "metadata": {},
      "source": [
        "###### Importaciones BT Sección \n"
      ],
      "id": "df570ecd"
    },
    {
      "cell_type": "code",
      "metadata": {},
      "source": [
        "res_nivel_7(\n",
        "    \"ESE\",\"CEB\",\n",
        "    \"Niv_Gr_3\",\n",
        "    \"03\",\"Id\",\"Nombre\",\"Niv_Descr_1\",\"Niv_Descr_2\"\n",
        "    ).filter(\n",
        "    pl.col(\"Niv_Descr_1\") == \"Importaciones BT Sección \")"
      ],
      "id": "6b9725e3",
      "execution_count": null,
      "outputs": []
    },
    {
      "cell_type": "markdown",
      "metadata": {},
      "source": [
        "El tercer grupo tiene dos niveles de descripción\n",
        "\n",
        "###### Importaciones Secciones \n",
        "\n",
        "* Valores en Millones de USD\n",
        "* Peso en Kilos\n"
      ],
      "id": "87fa0f97"
    },
    {
      "cell_type": "code",
      "metadata": {},
      "source": [
        "res_nivel_7(\n",
        "    \"ESE\",\"CEB\",\n",
        "    \"Niv_Gr_3\",\n",
        "    \"03\",\"Id\",\"Niv_Descr_1\",\"Niv_Descr_2\",\"Niv_Descr_3\"\n",
        "    ).filter(\n",
        "    pl.col(\"Niv_Descr_1\") == \"Importaciones Secciones \")"
      ],
      "id": "02c7a055",
      "execution_count": null,
      "outputs": []
    },
    {
      "cell_type": "markdown",
      "metadata": {},
      "source": [
        "Para ver todas las variables:\n"
      ],
      "id": "fea76cb7"
    },
    {
      "cell_type": "code",
      "metadata": {},
      "source": [
        "res_nivel_7(\n",
        "    \"ESE\",\"CEB\",\n",
        "    \"Niv_Gr_3\",\n",
        "    \"03\",\"Id\",\"Niv_Descr_1\",\"Niv_Descr_2\",\"Niv_Descr_3\"\n",
        "    )"
      ],
      "id": "419dce82",
      "execution_count": null,
      "outputs": []
    },
    {
      "cell_type": "markdown",
      "metadata": {},
      "source": [
        "Resultados de una sola variable:\n"
      ],
      "id": "f2008dd6"
    },
    {
      "cell_type": "code",
      "metadata": {},
      "source": [
        "Id = 6517\n",
        "df = get_df(Id)\n",
        "# get_plot(Id)\n",
        "df"
      ],
      "id": "20327007",
      "execution_count": null,
      "outputs": []
    },
    {
      "cell_type": "markdown",
      "metadata": {},
      "source": [
        "##### 04 AE y BT\n",
        "\n",
        "* Exportaciones AE\n",
        "* Exportaciones BT\n"
      ],
      "id": "f80db7ac"
    },
    {
      "cell_type": "code",
      "metadata": {},
      "source": [
        "res_nivel_4(\n",
        "    \"ESE\",\"CEB\",\n",
        "    \"Niv_Gr_3\",\n",
        "    \"04\",\n",
        "    \"Niv_Descr_1\")"
      ],
      "id": "991d9084",
      "execution_count": null,
      "outputs": []
    },
    {
      "cell_type": "markdown",
      "metadata": {},
      "source": [
        "* Producto\n",
        "* Grupo Producto\n"
      ],
      "id": "957598cb"
    },
    {
      "cell_type": "code",
      "metadata": {},
      "source": [
        "res_nivel_4(\n",
        "    \"ESE\",\"CEB\",\n",
        "    \"Niv_Gr_3\",\n",
        "    \"04\",\n",
        "    \"Niv_Descr_2\")"
      ],
      "id": "5a57d55f",
      "execution_count": null,
      "outputs": []
    },
    {
      "cell_type": "markdown",
      "metadata": {},
      "source": [
        "Para ver todas las variables:\n"
      ],
      "id": "af8a0b0e"
    },
    {
      "cell_type": "code",
      "metadata": {},
      "source": [
        "res_nivel_7(\n",
        "    \"ESE\",\"CEB\",\n",
        "    \"Niv_Gr_3\",\n",
        "    \"04\",\"Id\",\"Niv_Descr_1\",\"Niv_Descr_2\",\"Niv_Descr_3\"\n",
        "    )"
      ],
      "id": "3bba3f19",
      "execution_count": null,
      "outputs": []
    },
    {
      "cell_type": "markdown",
      "metadata": {},
      "source": [
        "Resultados de una sola variable:\n"
      ],
      "id": "87296199"
    },
    {
      "cell_type": "code",
      "metadata": {},
      "source": [
        "Id = 6554\n",
        "df = get_df(Id)\n",
        "# get_plot(Id)\n",
        "df"
      ],
      "id": "8c7b4311",
      "execution_count": null,
      "outputs": []
    },
    {
      "cell_type": "markdown",
      "metadata": {},
      "source": [
        "#### BP = Balanza de Pagos\n"
      ],
      "id": "756cb6c7"
    },
    {
      "cell_type": "code",
      "metadata": {},
      "source": [
        "res_nivel_3(\"ESE\",\"BP\",\"Niv_Gr_3\")"
      ],
      "id": "e79ab12e",
      "execution_count": null,
      "outputs": []
    },
    {
      "cell_type": "markdown",
      "metadata": {},
      "source": [
        "* Anual\n",
        "* Mensual\n"
      ],
      "id": "aa5ccc3b"
    },
    {
      "cell_type": "code",
      "metadata": {},
      "source": [
        "res_nivel_4(\n",
        "    \"ESE\",\"BP\",\n",
        "    \"Niv_Gr_3\",\n",
        "    \"01\",\n",
        "    \"Niv_Descr_2\")"
      ],
      "id": "a82db770",
      "execution_count": null,
      "outputs": []
    },
    {
      "cell_type": "markdown",
      "metadata": {},
      "source": [
        "Por Componentes:\n"
      ],
      "id": "319e4d7a"
    },
    {
      "cell_type": "code",
      "metadata": {},
      "source": [
        "res_nivel_4(\n",
        "    \"ESE\",\"BP\",\n",
        "    \"Niv_Gr_3\",\n",
        "    \"01\",\n",
        "    \"Niv_Descr_1\")"
      ],
      "id": "d363e3e0",
      "execution_count": null,
      "outputs": []
    },
    {
      "cell_type": "markdown",
      "metadata": {},
      "source": [
        "Para ver todas las variables:\n"
      ],
      "id": "ad24e8bd"
    },
    {
      "cell_type": "code",
      "metadata": {},
      "source": [
        "res_nivel_7(\n",
        "    \"ESE\",\"BP\",\n",
        "    \"Niv_Gr_3\",\n",
        "    \"01\",\"Id\",\"Nombre\",\"Niv_Descr_2\",\"Niv_Descr_1\").sort(\"Niv_Descr_2\")"
      ],
      "id": "7b3ade26",
      "execution_count": null,
      "outputs": []
    },
    {
      "cell_type": "markdown",
      "metadata": {},
      "source": [
        "Resultados de una sola variable:\n"
      ],
      "id": "d61efb44"
    },
    {
      "cell_type": "code",
      "metadata": {},
      "source": [
        "Id = 6292\n",
        "df = get_df(Id)\n",
        "# get_plot(Id)\n",
        "df"
      ],
      "id": "a93db92d",
      "execution_count": null,
      "outputs": []
    },
    {
      "cell_type": "markdown",
      "metadata": {},
      "source": [
        "#### IES - Ingresos y Egresos de Servicios\n"
      ],
      "id": "e5e83097"
    },
    {
      "cell_type": "code",
      "metadata": {},
      "source": [
        "res_nivel_3(\"ESE\",\"IES\",\"Niv_Gr_3\")"
      ],
      "id": "77514b05",
      "execution_count": null,
      "outputs": []
    },
    {
      "cell_type": "markdown",
      "metadata": {},
      "source": [
        "Periodicidad:\n",
        "\n",
        "* Anual\n",
        "* Trimestral\n"
      ],
      "id": "aff6edb6"
    },
    {
      "cell_type": "code",
      "metadata": {},
      "source": [
        "res_nivel_4(\n",
        "    \"ESE\",\"IES\",\n",
        "    \"Niv_Descr_3\",\n",
        "    \"01\",\"Niv_Descr_5\")"
      ],
      "id": "67bb9c68",
      "execution_count": null,
      "outputs": []
    },
    {
      "cell_type": "markdown",
      "metadata": {},
      "source": [
        "Ingresos y Egresos:\n",
        "\n",
        "* Exportaciones (Ingresos)\n",
        "* Importaciones (Egresos)\n"
      ],
      "id": "25a0f6bb"
    },
    {
      "cell_type": "code",
      "metadata": {},
      "source": [
        "res_nivel_4(\n",
        "    \"ESE\",\"IES\",\n",
        "    \"Niv_Descr_3\",\n",
        "    \"01\",\"Niv_Descr_6\")"
      ],
      "id": "b6b5e6c2",
      "execution_count": null,
      "outputs": []
    },
    {
      "cell_type": "markdown",
      "metadata": {},
      "source": [
        "Variables:\n",
        "\n",
        "* Transporte\n",
        "* Viajes\n",
        "* Servicios de Comunicaciones\n",
        "* Otros Servicios Empresariales\n",
        "* Servicios de Gobierno\n",
        "* Otros Servicios\n",
        "* Servicios de Seguro\n",
        "* Servicios de InformÃ¡tica e Información\n",
        "* Servicios de RegalÃ­as y Derechos de Licencia\n"
      ],
      "id": "0b89aa09"
    },
    {
      "cell_type": "code",
      "metadata": {},
      "source": [
        "res_nivel_4(\n",
        "    \"ESE\",\"IES\",\n",
        "    \"Niv_Descr_3\",\n",
        "    \"01\",\"Niv_Descr_7\")"
      ],
      "id": "443616a6",
      "execution_count": null,
      "outputs": []
    },
    {
      "cell_type": "markdown",
      "metadata": {},
      "source": [
        "Para ver todas las variables:\n"
      ],
      "id": "471d14f5"
    },
    {
      "cell_type": "code",
      "metadata": {},
      "source": [
        "res_nivel_7(\n",
        "    \"ESE\",\"IES\",\n",
        "    \"Niv_Gr_3\",\n",
        "    \"01\",\"Id\",\"Niv_Descr_5\",\"Niv_Descr_6\",\"Niv_Descr_7\")"
      ],
      "id": "2e473544",
      "execution_count": null,
      "outputs": []
    },
    {
      "cell_type": "markdown",
      "metadata": {},
      "source": [
        "Resultados de una sola variable:\n"
      ],
      "id": "aa5b936b"
    },
    {
      "cell_type": "code",
      "metadata": {},
      "source": [
        "Id = 388\n",
        "# df = get_df(Id)\n",
        "get_plot(Id)\n",
        "df"
      ],
      "id": "4dc672b7",
      "execution_count": null,
      "outputs": []
    },
    {
      "cell_type": "markdown",
      "metadata": {},
      "source": [
        "#### PII = Posición de Inversión Inernacional\n"
      ],
      "id": "bef89a92"
    },
    {
      "cell_type": "code",
      "metadata": {},
      "source": [
        "res_nivel_3(\"ESE\",\"PII\",\"Niv_Gr_3\")"
      ],
      "id": "ac93d340",
      "execution_count": null,
      "outputs": []
    },
    {
      "cell_type": "markdown",
      "metadata": {},
      "source": [
        "Agrupación:\n",
        "\n",
        "* Posición de Inversión Internacional por Categorí­a  \n",
        "* Posición de los Activos Financieros con no Residentes por Componente \n",
        "* Posición de los Pasivos Financieros con no Residentes por Componente \n",
        "* Posición de Inversión Internacional Neta por Componente \n"
      ],
      "id": "c92f5647"
    },
    {
      "cell_type": "code",
      "metadata": {},
      "source": [
        "res_nivel_4(\n",
        "    \"ESE\",\"PII\",\n",
        "    \"Niv_Gr_3\",\n",
        "    \"01\",\"Niv_Descr_5\")"
      ],
      "id": "c7fd9faf",
      "execution_count": null,
      "outputs": []
    },
    {
      "cell_type": "markdown",
      "metadata": {},
      "source": [
        "Cuentas:\n",
        "\n",
        "* Activos \n",
        "* Pasivos\n",
        "* PII Neta\n",
        "* Inversió³n extranjera directa\n",
        "* Inversión de cartera\n",
        "* Derivados financieros\n",
        "* Otra inversión\n",
        "* Activos de reservas lí­quidos oficiales\n"
      ],
      "id": "b5951cd0"
    },
    {
      "cell_type": "code",
      "metadata": {},
      "source": [
        "res_nivel_4(\n",
        "    \"ESE\",\"PII\",\n",
        "    \"Niv_Gr_3\",\n",
        "    \"01\",\"Niv_Descr_6\")"
      ],
      "id": "5d702388",
      "execution_count": null,
      "outputs": []
    },
    {
      "cell_type": "markdown",
      "metadata": {},
      "source": [
        "Para ver todas las variables:\n"
      ],
      "id": "07069dae"
    },
    {
      "cell_type": "code",
      "metadata": {},
      "source": [
        "res_nivel_7(\n",
        "    \"ESE\",\"PII\",\n",
        "    \"Niv_Gr_3\",\n",
        "    \"01\",\"Id\",\"Nombre\",\"Niv_Descr_5\",\"Niv_Descr_6\")"
      ],
      "id": "cfb28098",
      "execution_count": null,
      "outputs": []
    },
    {
      "cell_type": "markdown",
      "metadata": {},
      "source": [
        "Resultados de una sola variable:\n"
      ],
      "id": "5a838855"
    },
    {
      "cell_type": "code",
      "metadata": {},
      "source": [
        "Id = 496\n",
        "df = get_df(Id)\n",
        "# get_plot(Id)\n",
        "df"
      ],
      "id": "75ef4ea6",
      "execution_count": null,
      "outputs": []
    },
    {
      "cell_type": "markdown",
      "metadata": {},
      "source": [
        "#### IED = Inversión Extranjera Directa\n"
      ],
      "id": "7088e43d"
    },
    {
      "cell_type": "code",
      "metadata": {},
      "source": [
        "res_nivel_3(\"ESE\",\"IED\",\"Niv_Gr_3\")"
      ],
      "id": "ac6e468c",
      "execution_count": null,
      "outputs": []
    },
    {
      "cell_type": "markdown",
      "metadata": {},
      "source": [
        "Para ver todas las variables:\n"
      ],
      "id": "989906ca"
    },
    {
      "cell_type": "code",
      "metadata": {},
      "source": [
        "res_nivel_6(\n",
        "    \"ESE\",\"IED\",\n",
        "    \"Niv_Gr_3\",\n",
        "    \"01\",\"Id\",\"Nombre\",\"Niv_Descr_4\")"
      ],
      "id": "27c7e67a",
      "execution_count": null,
      "outputs": []
    },
    {
      "cell_type": "markdown",
      "metadata": {},
      "source": [
        "Resultados de una sola variable:\n"
      ],
      "id": "059e9ad3"
    },
    {
      "cell_type": "code",
      "metadata": {},
      "source": [
        "Id = 409\n",
        "df = get_df(Id)\n",
        "# get_plot(Id)\n",
        "df"
      ],
      "id": "afde4dc9",
      "execution_count": null,
      "outputs": []
    },
    {
      "cell_type": "markdown",
      "metadata": {},
      "source": [
        "### EMF = Estadísiticas Monetarias y Financieras\n"
      ],
      "id": "d6bf6d59"
    },
    {
      "cell_type": "code",
      "metadata": {},
      "source": [
        "res_nivel_2(\"EMF\")"
      ],
      "id": "ae078fc8",
      "execution_count": null,
      "outputs": []
    },
    {
      "cell_type": "markdown",
      "metadata": {},
      "source": [
        "#### AMCC = Agregados Monetarios, Crédito y Captación\n"
      ],
      "id": "1776c24b"
    },
    {
      "cell_type": "code",
      "metadata": {},
      "source": [
        "res_nivel_3(\"EMF\",\"AMCC\",\"Niv_Gr_3\").sort(\"Niv_Gr_3\")"
      ],
      "id": "a789a49f",
      "execution_count": null,
      "outputs": []
    },
    {
      "cell_type": "markdown",
      "metadata": {},
      "source": [
        "##### 01 Agregados Monetarios, Crédito y Captación\n",
        "\n",
        "Grupos:\n"
      ],
      "id": "a9eea0cd"
    },
    {
      "cell_type": "code",
      "metadata": {},
      "source": [
        "res_nivel_4(\n",
        "    \"EMF\",\"AMCC\",\n",
        "    \"Niv_Gr_3\",\"01\",\n",
        "    \"Niv_Descr_5\")"
      ],
      "id": "cedf092c",
      "execution_count": null,
      "outputs": []
    },
    {
      "cell_type": "markdown",
      "metadata": {},
      "source": [
        "Variables:\n"
      ],
      "id": "e725532b"
    },
    {
      "cell_type": "code",
      "metadata": {},
      "source": [
        "res_nivel_4(\n",
        "    \"EMF\",\"AMCC\",\n",
        "    \"Niv_Gr_3\",\"01\",\n",
        "    \"Niv_Descr_6\")"
      ],
      "id": "b406d1d6",
      "execution_count": null,
      "outputs": []
    },
    {
      "cell_type": "markdown",
      "metadata": {},
      "source": [
        "Para ver todas las variables:\n"
      ],
      "id": "3da4bb17"
    },
    {
      "cell_type": "code",
      "metadata": {},
      "source": [
        "res_nivel_7(\n",
        "    \"EMF\",\"AMCC\",\n",
        "    \"Niv_Gr_3\",\"01\",\n",
        "    \"Id\",\"Niv_Descr_5\",\"Niv_Descr_6\",\"Niv_Descr_4\")"
      ],
      "id": "dae5ea06",
      "execution_count": null,
      "outputs": []
    },
    {
      "cell_type": "markdown",
      "metadata": {},
      "source": [
        "Resultados de una sola variable:\n"
      ],
      "id": "6fba8a76"
    },
    {
      "cell_type": "code",
      "metadata": {},
      "source": [
        "Id = 548\n",
        "# df = get_df(Id)\n",
        "get_plot(Id)\n",
        "df"
      ],
      "id": "a0880554",
      "execution_count": null,
      "outputs": []
    },
    {
      "cell_type": "markdown",
      "metadata": {},
      "source": [
        "##### 02 Captación: Bancos Comerciales y Otras Sociedades de Depósito (Variación y Saldo)\n"
      ],
      "id": "ee286648"
    },
    {
      "cell_type": "code",
      "metadata": {},
      "source": [
        "res_nivel_4(\n",
        "    \"EMF\",\"AMCC\",\n",
        "    \"Niv_Gr_3\",\"02\",\n",
        "    \"Niv_Descr_1\")"
      ],
      "id": "9b58fc1f",
      "execution_count": null,
      "outputs": []
    },
    {
      "cell_type": "code",
      "metadata": {},
      "source": [
        "res_nivel_4(\n",
        "    \"EMF\",\"AMCC\",\n",
        "    \"Niv_Gr_3\",\"02\",\n",
        "    \"Niv_Descr_3\")"
      ],
      "id": "6766b174",
      "execution_count": null,
      "outputs": []
    },
    {
      "cell_type": "code",
      "metadata": {},
      "source": [
        "res_nivel_4(\n",
        "    \"EMF\",\"AMCC\",\n",
        "    \"Niv_Gr_3\",\"02\",\n",
        "    \"Niv_Descr_4\")"
      ],
      "id": "ac8d2437",
      "execution_count": null,
      "outputs": []
    },
    {
      "cell_type": "markdown",
      "metadata": {},
      "source": [
        "Para ver todas las variables:\n"
      ],
      "id": "298c49aa"
    },
    {
      "cell_type": "code",
      "metadata": {},
      "source": [
        "res_nivel_7(\n",
        "    \"EMF\",\"AMCC\",\n",
        "    \"Niv_Gr_3\",\"02\",\n",
        "    \"Id\",\"Niv_Descr_1\",\"Niv_Descr_3\",\"Niv_Descr_4\")"
      ],
      "id": "fef7dee0",
      "execution_count": null,
      "outputs": []
    },
    {
      "cell_type": "markdown",
      "metadata": {},
      "source": [
        "Resultados de una sola variable:\n"
      ],
      "id": "bd0ad3e9"
    },
    {
      "cell_type": "code",
      "metadata": {},
      "source": [
        "Id = 622\n",
        "df = get_df(Id)\n",
        "# get_plot(Id)\n",
        "df"
      ],
      "id": "5b97adc8",
      "execution_count": null,
      "outputs": []
    },
    {
      "cell_type": "markdown",
      "metadata": {},
      "source": [
        "##### 03 Crédito de los Bancos Comerciales\n"
      ],
      "id": "8d21a7af"
    },
    {
      "cell_type": "code",
      "metadata": {},
      "source": [
        "res_nivel_4(\n",
        "    \"EMF\",\"AMCC\",\n",
        "    \"Niv_Gr_3\",\"03\",\n",
        "    \"Niv_Descr_1\")"
      ],
      "id": "fad8aa17",
      "execution_count": null,
      "outputs": []
    },
    {
      "cell_type": "code",
      "metadata": {},
      "source": [
        "res_nivel_4(\n",
        "    \"EMF\",\"AMCC\",\n",
        "    \"Niv_Gr_3\",\"03\",\n",
        "    \"Niv_Descr_4\")"
      ],
      "id": "d661e359",
      "execution_count": null,
      "outputs": []
    },
    {
      "cell_type": "code",
      "metadata": {},
      "source": [
        "res_nivel_4(\n",
        "    \"EMF\",\"AMCC\",\n",
        "    \"Niv_Gr_3\",\"03\",\n",
        "    \"Niv_Descr_3\")"
      ],
      "id": "10ff257a",
      "execution_count": null,
      "outputs": []
    },
    {
      "cell_type": "markdown",
      "metadata": {},
      "source": [
        "Para ver todas las variables:\n"
      ],
      "id": "521f89e0"
    },
    {
      "cell_type": "code",
      "metadata": {},
      "source": [
        "res_nivel_7(\n",
        "    \"EMF\",\"AMCC\",\n",
        "    \"Niv_Gr_3\",\"03\",\n",
        "    \"Id\",\"Niv_Descr_1\",\"Niv_Descr_3\",\"Niv_Descr_4\")"
      ],
      "id": "951aee85",
      "execution_count": null,
      "outputs": []
    },
    {
      "cell_type": "markdown",
      "metadata": {},
      "source": [
        "Resultados de una sola variable:\n"
      ],
      "id": "ed93a8a0"
    },
    {
      "cell_type": "code",
      "metadata": {},
      "source": [
        "Id = 638\n",
        "df = get_df(Id)\n",
        "# get_plot(Id)\n",
        "df"
      ],
      "id": "1b91d15e",
      "execution_count": null,
      "outputs": []
    },
    {
      "cell_type": "markdown",
      "metadata": {},
      "source": [
        "##### 04 Crédito Otras Sociedades de Depósito\n"
      ],
      "id": "bf69c236"
    },
    {
      "cell_type": "code",
      "metadata": {},
      "source": [
        "res_nivel_4(\n",
        "    \"EMF\",\"AMCC\",\n",
        "    \"Niv_Gr_3\",\"04\",\n",
        "    \"Niv_Descr_1\")"
      ],
      "id": "83611419",
      "execution_count": null,
      "outputs": []
    },
    {
      "cell_type": "code",
      "metadata": {},
      "source": [
        "res_nivel_5(\n",
        "    \"EMF\",\"AMCC\",\n",
        "    \"Niv_Gr_3\",\"04\",\n",
        "    \"Niv_Descr_3\",\"Niv_Descr_4\")"
      ],
      "id": "f46d172c",
      "execution_count": null,
      "outputs": []
    },
    {
      "cell_type": "markdown",
      "metadata": {},
      "source": [
        "Para ver todas las variables:\n"
      ],
      "id": "6afc135e"
    },
    {
      "cell_type": "code",
      "metadata": {},
      "source": [
        "res_nivel_7(\n",
        "    \"EMF\",\"AMCC\",\n",
        "    \"Niv_Gr_3\",\"04\",\n",
        "    \"Id\",\"Niv_Descr_1\",\"Niv_Descr_3\",\"Niv_Descr_4\")"
      ],
      "id": "8064549a",
      "execution_count": null,
      "outputs": []
    },
    {
      "cell_type": "markdown",
      "metadata": {},
      "source": [
        "Resultados de una sola variable:\n"
      ],
      "id": "955a4493"
    },
    {
      "cell_type": "code",
      "metadata": {},
      "source": [
        "Id = 648\n",
        "df = get_df(Id)\n",
        "# get_plot(Id)\n",
        "df"
      ],
      "id": "47f8b361",
      "execution_count": null,
      "outputs": []
    },
    {
      "cell_type": "markdown",
      "metadata": {},
      "source": [
        "##### 05 Saldo de Préstamos (Millones de Lempiras)\n"
      ],
      "id": "934b97fb"
    },
    {
      "cell_type": "code",
      "metadata": {},
      "source": [
        "res_nivel_4(\n",
        "    \"EMF\",\"AMCC\",\n",
        "    \"Niv_Gr_3\",\"05\",\n",
        "    \"Niv_Descr_1\")"
      ],
      "id": "f9d7b64b",
      "execution_count": null,
      "outputs": []
    },
    {
      "cell_type": "markdown",
      "metadata": {},
      "source": [
        "* Variación\n",
        "* Saldo\n",
        "\n",
        "De los siguientes sectores:\n",
        "\n",
        "* Agropecuaria\n",
        "* Comercio\n",
        "* Consumo\n",
        "* Industria\n",
        "* Propiedad Raí­z\n",
        "* Servicios\n",
        "* Total\n",
        "\n",
        "Para ver todas las variables:\n"
      ],
      "id": "3c9c3e32"
    },
    {
      "cell_type": "code",
      "metadata": {},
      "source": [
        "res_nivel_7(\n",
        "    \"EMF\",\"AMCC\",\n",
        "    \"Niv_Gr_3\",\"05\",\n",
        "    \"Id\",\"Niv_Descr_1\",\"Niv_Descr_3\",\"Niv_Descr_4\").sort(\"Niv_Descr_4\")"
      ],
      "id": "49ac6fc6",
      "execution_count": null,
      "outputs": []
    },
    {
      "cell_type": "markdown",
      "metadata": {},
      "source": [
        "Resultados de una sola variable:\n"
      ],
      "id": "0c5fd6c6"
    },
    {
      "cell_type": "code",
      "metadata": {},
      "source": [
        "Id = 650\n",
        "df = get_df(Id)\n",
        "# get_plot(Id)\n",
        "df"
      ],
      "id": "9f1187de",
      "execution_count": null,
      "outputs": []
    },
    {
      "cell_type": "markdown",
      "metadata": {},
      "source": [
        "##### 06 Préstamos Nuevos (Flujos acumulados en millones de lempiras)\n"
      ],
      "id": "b5ca60ff"
    },
    {
      "cell_type": "code",
      "metadata": {},
      "source": [
        "res_nivel_4(\n",
        "    \"EMF\",\"AMCC\",\n",
        "    \"Niv_Gr_3\",\"06\",\n",
        "    \"Niv_Descr_1\")"
      ],
      "id": "387baca4",
      "execution_count": null,
      "outputs": []
    },
    {
      "cell_type": "markdown",
      "metadata": {},
      "source": [
        "* Variación\n",
        "* Saldo\n",
        "\n",
        "De los siguientes sectores:\n",
        "\n",
        "* Agropecuaria\n",
        "* Comercio\n",
        "* Consumo\n",
        "* Industria\n",
        "* Propiedad Raí­z\n",
        "* Servicios\n",
        "* Total\n"
      ],
      "id": "932b118f"
    },
    {
      "cell_type": "code",
      "metadata": {},
      "source": [
        "res_nivel_5(\n",
        "    \"EMF\",\"AMCC\",\n",
        "    \"Niv_Gr_3\",\"06\",\n",
        "    \"Niv_Descr_1\",\"Niv_Descr_4\")"
      ],
      "id": "6207f290",
      "execution_count": null,
      "outputs": []
    },
    {
      "cell_type": "markdown",
      "metadata": {},
      "source": [
        "Para ver todas las variables:\n"
      ],
      "id": "8714ca3c"
    },
    {
      "cell_type": "code",
      "metadata": {},
      "source": [
        "res_nivel_7(\n",
        "    \"EMF\",\"AMCC\",\n",
        "    \"Niv_Gr_3\",\"06\",\n",
        "    \"Id\",\"Niv_Descr_1\",\"Niv_Descr_3\",\"Niv_Descr_4\").sort(\"Niv_Descr_4\")"
      ],
      "id": "491b39b3",
      "execution_count": null,
      "outputs": []
    },
    {
      "cell_type": "markdown",
      "metadata": {},
      "source": [
        "Resultados de una sola variable:\n"
      ],
      "id": "95d8a17e"
    },
    {
      "cell_type": "code",
      "metadata": {},
      "source": [
        "Id = 663\n",
        "df = get_df(Id)\n",
        "# get_plot(Id)\n",
        "df"
      ],
      "id": "e4456301",
      "execution_count": null,
      "outputs": []
    },
    {
      "cell_type": "markdown",
      "metadata": {},
      "source": [
        "#### TI = Tasas de Interés\n"
      ],
      "id": "0cbe1965"
    },
    {
      "cell_type": "code",
      "metadata": {},
      "source": [
        "res_nivel_3(\"EMF\",\"TI\",\"Niv_Gr_3\").sort(\"Niv_Gr_3\")"
      ],
      "id": "d7a52df1",
      "execution_count": null,
      "outputs": []
    },
    {
      "cell_type": "markdown",
      "metadata": {},
      "source": [
        "##### 01 Tasas de Interés, Activa y Pasiva, por Moneda\n",
        "\n",
        "Por Tipo:\n",
        "\n",
        "* Activa Préstamos \n",
        "* Pasiva Ahorros \n",
        "* Pasiva Cheques \n",
        "* Pasiva Plazo \n"
      ],
      "id": "04fcaaf0"
    },
    {
      "cell_type": "code",
      "metadata": {},
      "source": [
        "res_nivel_4(\n",
        "    \"EMF\",\"TI\",\n",
        "    \"Niv_Gr_3\",\"01\",\n",
        "    \"Niv_Descr_5\")"
      ],
      "id": "322d51c6",
      "execution_count": null,
      "outputs": []
    },
    {
      "cell_type": "markdown",
      "metadata": {},
      "source": [
        "Por Moneda:\n",
        "\n",
        "* Moneda Nacional\n",
        "* Moneda Extranjera\n",
        "\n",
        "Para ver todas las variables:\n"
      ],
      "id": "c792ad7b"
    },
    {
      "cell_type": "code",
      "metadata": {},
      "source": [
        "res_nivel_7(\n",
        "    \"EMF\",\"TI\",\n",
        "    \"Niv_Gr_3\",\"01\",\n",
        "    \"Id\",\"Nombre\",\"Niv_Descr_5\",\"Niv_Descr_6\")"
      ],
      "id": "2632350e",
      "execution_count": null,
      "outputs": []
    },
    {
      "cell_type": "markdown",
      "metadata": {},
      "source": [
        "Resultados de una sola variable:\n"
      ],
      "id": "4df73d3d"
    },
    {
      "cell_type": "code",
      "metadata": {},
      "source": [
        "Id = 587\n",
        "df = get_df(Id)\n",
        "# get_plot(Id)\n",
        "df"
      ],
      "id": "a0aa827a",
      "execution_count": null,
      "outputs": []
    },
    {
      "cell_type": "markdown",
      "metadata": {},
      "source": [
        "##### 02 Por Actividad\n"
      ],
      "id": "10fd922e"
    },
    {
      "cell_type": "code",
      "metadata": {},
      "source": [
        "res_nivel_4(\n",
        "    \"EMF\",\"TI\",\n",
        "    \"Niv_Gr_3\",\"02\",\n",
        "    \"Niv_Descr_5\")"
      ],
      "id": "dda0ae8d",
      "execution_count": null,
      "outputs": []
    },
    {
      "cell_type": "markdown",
      "metadata": {},
      "source": [
        "Por Moneda:\n",
        "\n",
        "* Moneda Nacional\n",
        "* Moneda Extranjera\n"
      ],
      "id": "30af7ae9"
    },
    {
      "cell_type": "code",
      "metadata": {},
      "source": [
        "res_nivel_5(\n",
        "    \"EMF\",\"TI\",\n",
        "    \"Niv_Gr_3\",\"02\",\n",
        "    \"Niv_Descr_1\",\"Niv_Descr_4\")"
      ],
      "id": "ceffec27",
      "execution_count": null,
      "outputs": []
    },
    {
      "cell_type": "markdown",
      "metadata": {},
      "source": [
        "Para ver todas las variables:\n"
      ],
      "id": "e6ff057e"
    },
    {
      "cell_type": "code",
      "metadata": {},
      "source": [
        "res_nivel_7(\n",
        "    \"EMF\",\"TI\",\n",
        "    \"Niv_Gr_3\",\"02\",\n",
        "    \"Id\",\"Nombre\",\"Niv_Descr_5\",\"Niv_Descr_4\").sort(\"Niv_Descr_4\")"
      ],
      "id": "9d40bcab",
      "execution_count": null,
      "outputs": []
    },
    {
      "cell_type": "markdown",
      "metadata": {},
      "source": [
        "Resultados de una sola variable:\n"
      ],
      "id": "abb65274"
    },
    {
      "cell_type": "code",
      "metadata": {},
      "source": [
        "Id = 605\n",
        "df = get_df(Id)\n",
        "# get_plot(Id)\n",
        "df"
      ],
      "id": "4ccc1c18",
      "execution_count": null,
      "outputs": []
    },
    {
      "cell_type": "markdown",
      "metadata": {},
      "source": [
        "##### 03 Tasas de Interés Anuales\n",
        "\n",
        "* Tasas de Interés Anuales Mí­nimas y Máximas del Sistema Bancario Comercial\n",
        "* Tasas de Interés Anuales Promedio Ponderadas del Sistema Financiero\n"
      ],
      "id": "bfe09aa8"
    },
    {
      "cell_type": "code",
      "metadata": {},
      "source": [
        "res_nivel_4(\n",
        "    \"EMF\",\"TI\",\n",
        "    \"Niv_Gr_3\",\"03\",\n",
        "    \"Niv_Descr_6\")"
      ],
      "id": "d0b5fd54",
      "execution_count": null,
      "outputs": []
    },
    {
      "cell_type": "markdown",
      "metadata": {},
      "source": [
        "* Activa\n",
        "* Pasiva\n",
        "\n",
        "Por Unidad de Medida:\n",
        "\n",
        "* Máxima\n",
        "* Mínima\n",
        "* Promedio\n",
        "\n",
        "Por Moneda:\n",
        "\n",
        "* Nacional\n",
        "* Extranjera\n",
        "\n",
        "Para ver todas las variables:\n"
      ],
      "id": "8da24389"
    },
    {
      "cell_type": "code",
      "metadata": {},
      "source": [
        "res_nivel_7(\n",
        "    \"EMF\",\"TI\",\n",
        "    \"Niv_Gr_3\",\"03\",\n",
        "    \"Id\",\"Nombre\",\"Niv_Descr_6\",\"Niv_Descr_5\").sort(\"Niv_Descr_6\")"
      ],
      "id": "fced5537",
      "execution_count": null,
      "outputs": []
    },
    {
      "cell_type": "markdown",
      "metadata": {},
      "source": [
        "Resultados de una sola variable:\n"
      ],
      "id": "3be9ac57"
    },
    {
      "cell_type": "code",
      "metadata": {},
      "source": [
        "Id = 689\n",
        "df = get_df(Id)\n",
        "# get_plot(Id)\n",
        "df"
      ],
      "id": "59c2ee6a",
      "execution_count": null,
      "outputs": []
    },
    {
      "cell_type": "markdown",
      "metadata": {},
      "source": [
        "#### PFS = Panorama de las Sociedades Financieras\n"
      ],
      "id": "20246f6e"
    },
    {
      "cell_type": "code",
      "metadata": {},
      "source": [
        "res_nivel_3(\"EMF\",\"PFS\",\"Niv_Gr_3\").sort(\"Niv_Gr_3\")"
      ],
      "id": "bed89654",
      "execution_count": null,
      "outputs": []
    },
    {
      "cell_type": "markdown",
      "metadata": {},
      "source": [
        "##### 01 Bancos Comerciales, Activos y Pasivos Externos\n",
        "\n",
        "Para ver todas las variables:\n"
      ],
      "id": "d162a4fd"
    },
    {
      "cell_type": "code",
      "metadata": {},
      "source": [
        "res_nivel_7(\n",
        "    \"EMF\",\"PFS\",\n",
        "    \"Niv_Gr_3\",\"01\",\n",
        "    \"Id\",\"Nombre\",\"Niv_Descr_2\",\"Niv_Descr_1\").sort(\"Nombre\")"
      ],
      "id": "8eb3ebd2",
      "execution_count": null,
      "outputs": []
    },
    {
      "cell_type": "markdown",
      "metadata": {},
      "source": [
        "Resultados de una sola variable:\n"
      ],
      "id": "99ec1861"
    },
    {
      "cell_type": "code",
      "metadata": {},
      "source": [
        "Id = 677\n",
        "df = get_df(Id)\n",
        "# get_plot(Id)\n",
        "df"
      ],
      "id": "27a01573",
      "execution_count": null,
      "outputs": []
    },
    {
      "cell_type": "markdown",
      "metadata": {},
      "source": [
        "##### 02 Activos y Pasivos Externos\n"
      ],
      "id": "67e0617e"
    },
    {
      "cell_type": "code",
      "metadata": {},
      "source": [
        "res_nivel_4(\n",
        "    \"EMF\",\"PFS\",\n",
        "    \"Niv_Gr_3\",\"02\",\n",
        "    \"Niv_Descr_1\")"
      ],
      "id": "1224fef3",
      "execution_count": null,
      "outputs": []
    },
    {
      "cell_type": "code",
      "metadata": {},
      "source": [
        "res_nivel_4(\n",
        "    \"EMF\",\"PFS\",\n",
        "    \"Niv_Gr_3\",\"02\",\n",
        "    \"Niv_Descr_2\")"
      ],
      "id": "c3375713",
      "execution_count": null,
      "outputs": []
    },
    {
      "cell_type": "markdown",
      "metadata": {},
      "source": [
        "Para ver todas las variables:\n"
      ],
      "id": "dd287765"
    },
    {
      "cell_type": "code",
      "metadata": {},
      "source": [
        "res_nivel_7(\n",
        "    \"EMF\",\"PFS\",\n",
        "    \"Niv_Gr_3\",\"02\",\n",
        "    \"Id\",\"Nombre\",\"Niv_Descr_1\",\"Niv_Descr_2\")"
      ],
      "id": "b033dade",
      "execution_count": null,
      "outputs": []
    },
    {
      "cell_type": "markdown",
      "metadata": {},
      "source": [
        "Resultados de una sola variable:\n"
      ],
      "id": "265bbb7d"
    },
    {
      "cell_type": "code",
      "metadata": {},
      "source": [
        "Id = 687\n",
        "df = get_df(Id)\n",
        "# get_plot(Id)\n",
        "df"
      ],
      "id": "e5e182e7",
      "execution_count": null,
      "outputs": []
    },
    {
      "cell_type": "markdown",
      "metadata": {},
      "source": [
        "#### EBM = Emisión y Base Monetaria\n"
      ],
      "id": "17702285"
    },
    {
      "cell_type": "code",
      "metadata": {},
      "source": [
        "res_nivel_3(\"EMF\",\"EBM\",\"Niv_Gr_3\").sort(\"Niv_Gr_3\")"
      ],
      "id": "92af042e",
      "execution_count": null,
      "outputs": []
    },
    {
      "cell_type": "code",
      "metadata": {},
      "source": [
        "res_nivel_4(\n",
        "    \"EMF\",\"EBM\",\n",
        "    \"Niv_Gr_3\",\"01\",\n",
        "    \"Niv_Descr_4\")"
      ],
      "id": "eb7373a7",
      "execution_count": null,
      "outputs": []
    },
    {
      "cell_type": "code",
      "metadata": {},
      "source": [
        "res_nivel_5(\n",
        "    \"EMF\",\"EBM\",\n",
        "    \"Niv_Gr_3\",\"01\",\n",
        "    \"Niv_Descr_4\",\"Niv_Descr_5\")"
      ],
      "id": "7e1475bf",
      "execution_count": null,
      "outputs": []
    },
    {
      "cell_type": "markdown",
      "metadata": {},
      "source": [
        "Para ver todas las variables:\n"
      ],
      "id": "b1c2e88e"
    },
    {
      "cell_type": "code",
      "metadata": {},
      "source": [
        "res_nivel_7(\n",
        "    \"EMF\",\"EBM\",\n",
        "    \"Niv_Gr_3\",\"01\",\n",
        "    \"Id\",\"Nombre\",\"Niv_Descr_4\",\"Niv_Descr_5\")"
      ],
      "id": "2d1756e9",
      "execution_count": null,
      "outputs": []
    },
    {
      "cell_type": "markdown",
      "metadata": {},
      "source": [
        "Resultados de una sola variable:\n"
      ],
      "id": "f07a9b2f"
    },
    {
      "cell_type": "code",
      "metadata": {},
      "source": [
        "Id = 523\n",
        "df = get_df(Id)\n",
        "# get_plot(Id)\n",
        "df"
      ],
      "id": "a8ba5c2c",
      "execution_count": null,
      "outputs": []
    },
    {
      "cell_type": "markdown",
      "metadata": {},
      "source": [
        "### ESP = Estadísticas de Sistema de Pagos\n"
      ],
      "id": "f95dda22"
    },
    {
      "cell_type": "code",
      "metadata": {},
      "source": [
        "res_nivel_2(\"ESP\")"
      ],
      "id": "bcbbed7e",
      "execution_count": null,
      "outputs": []
    },
    {
      "cell_type": "markdown",
      "metadata": {},
      "source": [
        "#### ACH = Operaciones de Crédito Compensadas en Ceproban y Liquidadas en BCH\n"
      ],
      "id": "236a921e"
    },
    {
      "cell_type": "code",
      "metadata": {},
      "source": [
        "res_nivel_3(\"ESP\",\"ACH\",\"Niv_Gr_3\").sort(\"Niv_Gr_3\")"
      ],
      "id": "f3f6eaed",
      "execution_count": null,
      "outputs": []
    },
    {
      "cell_type": "code",
      "metadata": {},
      "source": [
        "res_nivel_4(\n",
        "    \"ESP\",\"ACH\",\n",
        "    \"Niv_Gr_3\",\"01\",\n",
        "    \"Niv_Descr_5\")"
      ],
      "id": "6f181cad",
      "execution_count": null,
      "outputs": []
    },
    {
      "cell_type": "code",
      "metadata": {},
      "source": [
        "res_nivel_4(\n",
        "    \"ESP\",\"ACH\",\n",
        "    \"Niv_Gr_3\",\"01\",\n",
        "    \"Niv_Descr_6\")"
      ],
      "id": "4c407e14",
      "execution_count": null,
      "outputs": []
    },
    {
      "cell_type": "markdown",
      "metadata": {},
      "source": [
        "Para ver todas las variables:\n"
      ],
      "id": "cd37b6fc"
    },
    {
      "cell_type": "code",
      "metadata": {},
      "source": [
        "res_nivel_7(\n",
        "    \"ESP\",\"ACH\",\n",
        "    \"Niv_Gr_3\",\"01\",\n",
        "    \"Id\",\"Nombre\",\"Niv_Descr_5\",\"Niv_Descr_6\").sort(\"Nombre\")"
      ],
      "id": "4286c14e",
      "execution_count": null,
      "outputs": []
    },
    {
      "cell_type": "markdown",
      "metadata": {},
      "source": [
        "Resultados de una sola variable:\n"
      ],
      "id": "e82214ce"
    },
    {
      "cell_type": "code",
      "metadata": {},
      "source": [
        "Id = 611\n",
        "df = get_df(Id)\n",
        "# get_plot(Id)\n",
        "df"
      ],
      "id": "548bdd05",
      "execution_count": null,
      "outputs": []
    },
    {
      "cell_type": "markdown",
      "metadata": {},
      "source": [
        "#### CCECH = Cheques Compensados en Ceproban y Liquidados en BCH\n"
      ],
      "id": "a5a95e9d"
    },
    {
      "cell_type": "code",
      "metadata": {},
      "source": [
        "res_nivel_3(\"ESP\",\"CCECH\",\"Niv_Gr_3\")"
      ],
      "id": "eb87d8a0",
      "execution_count": null,
      "outputs": []
    },
    {
      "cell_type": "code",
      "metadata": {},
      "source": [
        "res_nivel_4(\n",
        "    \"ESP\",\"CCECH\",\n",
        "    \"Niv_Gr_3\",\"01\",\n",
        "    \"Niv_Descr_5\")"
      ],
      "id": "878a73ed",
      "execution_count": null,
      "outputs": []
    },
    {
      "cell_type": "code",
      "metadata": {},
      "source": [
        "res_nivel_4(\n",
        "    \"ESP\",\"CCECH\",\n",
        "    \"Niv_Gr_3\",\"01\",\n",
        "    \"Niv_Descr_6\")"
      ],
      "id": "0a9de9b2",
      "execution_count": null,
      "outputs": []
    },
    {
      "cell_type": "markdown",
      "metadata": {},
      "source": [
        "Para ver todas las variables:\n"
      ],
      "id": "c71d202b"
    },
    {
      "cell_type": "code",
      "metadata": {},
      "source": [
        "res_nivel_7(\n",
        "    \"ESP\",\"CCECH\",\n",
        "    \"Niv_Gr_3\",\"01\",\n",
        "    \"Id\",\"Nombre\",\"Niv_Descr_5\",\"Niv_Descr_6\")"
      ],
      "id": "de5528c9",
      "execution_count": null,
      "outputs": []
    },
    {
      "cell_type": "markdown",
      "metadata": {},
      "source": [
        "Resultados de una sola variable:\n"
      ],
      "id": "77ae82fa"
    },
    {
      "cell_type": "code",
      "metadata": {},
      "source": [
        "Id = 615\n",
        "df = get_df(Id)\n",
        "# get_plot(Id)\n",
        "df"
      ],
      "id": "371df518",
      "execution_count": null,
      "outputs": []
    },
    {
      "cell_type": "markdown",
      "metadata": {},
      "source": [
        "### EM = Estadísticas Monetarias (TPM y RIN)\n"
      ],
      "id": "24ba5701"
    },
    {
      "cell_type": "code",
      "metadata": {},
      "source": [
        "res_nivel_2(\"EM\")"
      ],
      "id": "dad59d1f",
      "execution_count": null,
      "outputs": []
    },
    {
      "cell_type": "markdown",
      "metadata": {},
      "source": [
        "#### RIN = Reservas Internacionales Netas\n"
      ],
      "id": "c58d4bcb"
    },
    {
      "cell_type": "code",
      "metadata": {},
      "source": [
        "res_nivel_3(\"EM\",\"RIN\",\"Niv_Gr_3\").sort(\"Niv_Gr_3\")"
      ],
      "id": "7bf8a864",
      "execution_count": null,
      "outputs": []
    },
    {
      "cell_type": "markdown",
      "metadata": {},
      "source": [
        "* Saldo\n",
        "* Variación\n",
        "\n",
        "Variables:\n",
        "\n",
        "* Reservas Internacionales Netas\n",
        "* Activos de Reserva Oficial\n"
      ],
      "id": "ec6fb7a8"
    },
    {
      "cell_type": "code",
      "metadata": {},
      "source": [
        "res_nivel_4(\n",
        "    \"EM\",\"RIN\",\n",
        "    \"Niv_Gr_3\",\"01\",\n",
        "    \"Niv_Descr_4\")"
      ],
      "id": "568f6e56",
      "execution_count": null,
      "outputs": []
    },
    {
      "cell_type": "code",
      "metadata": {},
      "source": [
        "res_nivel_4(\n",
        "    \"EM\",\"RIN\",\n",
        "    \"Niv_Gr_3\",\"01\",\n",
        "    \"Niv_Descr_5\")"
      ],
      "id": "aac90b6a",
      "execution_count": null,
      "outputs": []
    },
    {
      "cell_type": "markdown",
      "metadata": {},
      "source": [
        "Para ver todas las variables:\n"
      ],
      "id": "98d6398f"
    },
    {
      "cell_type": "code",
      "metadata": {},
      "source": [
        "res_nivel_7(\n",
        "    \"EM\",\"RIN\",\n",
        "    \"Niv_Gr_3\",\"01\",\n",
        "    \"Id\",\"Nombre\",\"Niv_Descr_4\",\"Niv_Descr_5\")"
      ],
      "id": "6694ded9",
      "execution_count": null,
      "outputs": []
    },
    {
      "cell_type": "markdown",
      "metadata": {},
      "source": [
        "Resultados de una sola variable:\n"
      ],
      "id": "338b284a"
    },
    {
      "cell_type": "code",
      "metadata": {},
      "source": [
        "Id = 532\n",
        "df = get_df(Id)\n",
        "# get_plot(Id)\n",
        "df"
      ],
      "id": "0e5547f2",
      "execution_count": null,
      "outputs": []
    },
    {
      "cell_type": "markdown",
      "metadata": {},
      "source": [
        "#### TPM = Tasa de Política Monetaria\n"
      ],
      "id": "785dc08a"
    },
    {
      "cell_type": "code",
      "metadata": {},
      "source": [
        "res_nivel_3(\"EM\",\"TPM\",\"Niv_Gr_3\")"
      ],
      "id": "c7494cad",
      "execution_count": null,
      "outputs": []
    },
    {
      "cell_type": "markdown",
      "metadata": {},
      "source": [
        "Para ver todas las variables:\n"
      ],
      "id": "dd846f3c"
    },
    {
      "cell_type": "code",
      "metadata": {},
      "source": [
        "res_nivel_7(\n",
        "    \"EM\",\"TPM\",\n",
        "    \"Niv_Gr_3\",\"01\",\n",
        "    \"Id\",\"Nombre\",\"Niv_Descr_1\",\"Niv_Descr_2\").sort(\"Niv_Descr_2\")"
      ],
      "id": "5a76d24b",
      "execution_count": null,
      "outputs": []
    },
    {
      "cell_type": "markdown",
      "metadata": {},
      "source": [
        "Resultados de una sola variable:\n"
      ],
      "id": "bd2a8695"
    },
    {
      "cell_type": "code",
      "metadata": {},
      "source": [
        "Id = 699\n",
        "df = get_df(Id)\n",
        "# get_plot(Id)\n",
        "df"
      ],
      "id": "0b4bcbd2",
      "execution_count": null,
      "outputs": []
    },
    {
      "cell_type": "markdown",
      "metadata": {},
      "source": [
        "### EC = Estadísticas Cambiarias\n"
      ],
      "id": "d960d92d"
    },
    {
      "cell_type": "code",
      "metadata": {},
      "source": [
        "res_nivel_2(\"EC\")"
      ],
      "id": "780b408f",
      "execution_count": null,
      "outputs": []
    },
    {
      "cell_type": "markdown",
      "metadata": {},
      "source": [
        "#### TCR = Tipo de Cambio de Referencia\n"
      ],
      "id": "4b38b42d"
    },
    {
      "cell_type": "code",
      "metadata": {},
      "source": [
        "res_nivel_3(\"EC\",\"TCR\",\"Niv_Gr_3\").sort(\"Niv_Gr_3\")"
      ],
      "id": "ea1f9676",
      "execution_count": null,
      "outputs": []
    },
    {
      "cell_type": "markdown",
      "metadata": {},
      "source": [
        "Para ver todas las variables:\n"
      ],
      "id": "b2d49a31"
    },
    {
      "cell_type": "code",
      "metadata": {},
      "source": [
        "# df_all.filter(pl.col(\"Nombre\") == \"EC-TCR-01\").select(pl.all().is_not_null())\n",
        "df_all.filter(pl.col(\"Nombre\") == \"EC-TCR-01\")[:, df_all.select(pl.all().is_not_null().all()).row(0)]"
      ],
      "id": "111b3d88",
      "execution_count": null,
      "outputs": []
    },
    {
      "cell_type": "markdown",
      "metadata": {},
      "source": [
        "Resultados de una sola variable:\n"
      ],
      "id": "5ec03943"
    },
    {
      "cell_type": "code",
      "metadata": {},
      "source": [
        "Id = 97\n",
        "df = get_df(Id)\n",
        "# get_plot(Id)\n",
        "df"
      ],
      "id": "5e9c6d47",
      "execution_count": null,
      "outputs": []
    },
    {
      "cell_type": "markdown",
      "metadata": {},
      "source": [
        "#### TCN = Tipo de Cambio Nominal\n"
      ],
      "id": "92a99023"
    },
    {
      "cell_type": "code",
      "metadata": {},
      "source": [
        "res_nivel_3(\"EC\",\"TCN\",\"Niv_Gr_3\")"
      ],
      "id": "3f9df13c",
      "execution_count": null,
      "outputs": []
    },
    {
      "cell_type": "markdown",
      "metadata": {},
      "source": [
        "Para ver todas las variables:\n"
      ],
      "id": "40d6ce74"
    },
    {
      "cell_type": "code",
      "metadata": {},
      "source": [
        "res_nivel_7(\n",
        "    \"EC\",\"TCN\",\n",
        "    \"Niv_Gr_3\",\"01\",\n",
        "    \"Id\",\"Nombre\",\"Niv_Descr_1\",\"Niv_Descr_2\").sort(\"Niv_Descr_2\")"
      ],
      "id": "e4d7905b",
      "execution_count": null,
      "outputs": []
    },
    {
      "cell_type": "markdown",
      "metadata": {},
      "source": [
        "Resultados de una sola variable:\n"
      ],
      "id": "bc2c5f3c"
    },
    {
      "cell_type": "code",
      "metadata": {},
      "source": [
        "Id = 619\n",
        "df = get_df(Id)\n",
        "# get_plot(Id)\n",
        "df"
      ],
      "id": "19842bf8",
      "execution_count": null,
      "outputs": []
    },
    {
      "cell_type": "markdown",
      "metadata": {},
      "source": [
        "### EP = EStadísticas de Precios\n"
      ],
      "id": "11bc14b0"
    },
    {
      "cell_type": "code",
      "metadata": {},
      "source": [
        "res_nivel_2(\"EP\")"
      ],
      "id": "38243643",
      "execution_count": null,
      "outputs": []
    },
    {
      "cell_type": "markdown",
      "metadata": {},
      "source": [
        "#### IPC  Índice de Precios al Consumidor\n"
      ],
      "id": "a36375d3"
    },
    {
      "cell_type": "code",
      "metadata": {},
      "source": [
        "res_nivel_3(\"EP\",\"IPC\",\"Niv_Gr_3\")"
      ],
      "id": "a0bb3a2a",
      "execution_count": null,
      "outputs": []
    },
    {
      "cell_type": "markdown",
      "metadata": {},
      "source": [
        "Para ver todas las variables:\n"
      ],
      "id": "b495f8a8"
    },
    {
      "cell_type": "code",
      "metadata": {},
      "source": [
        "res_nivel_7(\n",
        "    \"EP\",\"IPC\",\n",
        "    \"Niv_Gr_3\",\"01\",\n",
        "    \"Id\",\"Nombre\",\"Niv_Descr_2\",\"Niv_Descr_4\").sort(\"Niv_Descr_2\")"
      ],
      "id": "feea8771",
      "execution_count": null,
      "outputs": []
    },
    {
      "cell_type": "markdown",
      "metadata": {},
      "source": [
        "Resultados de una sola variable:\n"
      ],
      "id": "2daee4fc"
    },
    {
      "cell_type": "code",
      "metadata": {},
      "source": [
        "Id = 608\n",
        "df = get_df(Id)\n",
        "get_plot(Id)\n",
        "df"
      ],
      "id": "d3c4e13c",
      "execution_count": null,
      "outputs": []
    },
    {
      "cell_type": "markdown",
      "metadata": {},
      "source": [
        "## Nombre\n",
        "\n",
        "El campo \"Nombre\" es un código que contiene hasta 8 niveles de agrupación (tomando en cuenta una separación por \"-\"), siendo los primeros 7 iguales a las definiciones del campo \"Grupo\".\n"
      ],
      "id": "341bab2a"
    },
    {
      "cell_type": "code",
      "metadata": {},
      "source": [
        "df_all.select(\n",
        "    \"Niv_Gr_1\",\"Niv_Gr_2\",\"Nombre\",\n",
        "    \"Niv_Descr_1\",\"Niv_Descr_2\",\"Niv_Descr_3\",\"Niv_Descr_4\",\"Niv_Descr_5\",\"Niv_Descr_6\",\"Niv_Descr_7\",\"Niv_Descr_8\").sort(\"Niv_Gr_1\")"
      ],
      "id": "cab1dcbc",
      "execution_count": null,
      "outputs": []
    },
    {
      "cell_type": "markdown",
      "metadata": {},
      "source": [
        "## Periodicidad\n"
      ],
      "id": "82188451"
    },
    {
      "cell_type": "code",
      "metadata": {},
      "source": [
        "#| label: tbl-periodicidad\n",
        "#| tbl-cap: Número de Variables por Periodicidad\n",
        "\n",
        "# dfmeta = pl.DataFrame(dfmeta)\n",
        "variable = \"Periodicidad\"\n",
        "res = df_all.group_by(variable\n",
        "    ).agg(\n",
        "    pl.col(\"Periodicidad\").len().alias(\"N_Variables\"),\n",
        "    # pl.col(\"Monto\").sum().alias(\"Millones_USD\")\n",
        "    ).sort(\"N_Variables\",descending=True)\n",
        "pd.DataFrame(res).to_csv(\n",
        "        \"api/periodicidad.csv\",\n",
        "        sep=\";\")\n",
        "print(str(res[\"N_Variables\"].sum()) + \" variables\")\n",
        "res"
      ],
      "id": "tbl-periodicidad",
      "execution_count": null,
      "outputs": []
    },
    {
      "cell_type": "markdown",
      "metadata": {},
      "source": [
        "# Obtener Variables por Id\n",
        "\n",
        "## Una sola variable\n"
      ],
      "id": "778dd233"
    },
    {
      "cell_type": "code",
      "metadata": {},
      "source": [
        "df_all = save_variables()\n",
        "Id = 204\n",
        "df = get_df(Id)\n",
        "get_plot(Id)\n",
        "df.columns\n",
        "df.write_csv(\n",
        "    file_path + \"/api/data.csv\",\n",
        "    separator=\";\")\n",
        "df "
      ],
      "id": "7fcf9278",
      "execution_count": null,
      "outputs": []
    },
    {
      "cell_type": "code",
      "metadata": {},
      "source": [
        "Id = 7\n",
        "df = get_df(Id)\n",
        "get_plot(Id)\n",
        "df.columns\n",
        "df.write_csv(\n",
        "    file_path + \"/api/data.csv\",\n",
        "    separator=\";\")\n",
        "df"
      ],
      "id": "7064ed8b",
      "execution_count": null,
      "outputs": []
    },
    {
      "cell_type": "markdown",
      "metadata": {},
      "source": [
        "## Varias variables\n"
      ],
      "id": "6b28654f"
    },
    {
      "cell_type": "code",
      "metadata": {},
      "source": [
        "Id = [1,2,3]\n",
        "# Id = [6282,204,1]\n",
        "# Id = [608,609,610]\n",
        "\n",
        "df = get_df(Id[0])\n",
        "for i in range(1,len(Id)):\n",
        "    df = df.join(\n",
        "        get_df(Id[i]), \n",
        "        left_on=['Fecha'], \n",
        "        right_on=['Fecha'], \n",
        "        how='left')\n",
        "df.write_csv(\n",
        "    file_path + \"api/data.csv\",\n",
        "    separator=\";\")\n",
        "df    "
      ],
      "id": "7d56f7ff",
      "execution_count": null,
      "outputs": []
    }
  ],
  "metadata": {
    "kernelspec": {
      "name": "python3",
      "language": "python",
      "display_name": "Python 3 (ipykernel)"
    }
  },
  "nbformat": 4,
  "nbformat_minor": 5
}