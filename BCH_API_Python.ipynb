{
  "cells": [
    {
      "cell_type": "raw",
      "metadata": {},
      "source": [
        "---\n",
        "title: Estadísticas del Banco Central de Honduras\n",
        "authors:\n",
        "  - Gabriela Margoth López Gutierrez\n",
        "  - Elvis Teodoro Casco Alfaro\n",
        "institute: Banco Central de Honduras\n",
        "execute:\n",
        "  echo: false\n",
        "crossref:\n",
        "  fig-title: Gráfico\n",
        "  tbl-title: Tabla\n",
        "  fig-prefix: Gráfico\n",
        "  tbl-prefix: Tabla\n",
        "format:\n",
        "  html:\n",
        "    echo: true\n",
        "    toc: true\n",
        "    toc-depth: 7\n",
        "    code-fold: true\n",
        "    warnings: false\n",
        "keep-ipynb: true\n",
        "---"
      ],
      "id": "11da48bc"
    },
    {
      "cell_type": "markdown",
      "metadata": {},
      "source": [
        "En este proceso se explica la forma en que pueden descargarse los datos disponibles en la [API](https://bchapi-am.developer.azure-api.net/) del Banco Central de Honduras (BCH), utilizando Python.\n",
        "\n",
        "# Funciones\n"
      ],
      "id": "24a39e7b"
    },
    {
      "cell_type": "code",
      "metadata": {},
      "source": [
        "import urllib.request, json\n",
        "import pandas as pd\n",
        "import plotly.express as px\n",
        "import polars as pl\n",
        "import subprocess\n",
        "import os\n",
        "\n",
        "from IPython.display import Markdown\n",
        "from tabulate import tabulate\n",
        "\n",
        "clave_asignada = \"ff34cff7b0024ea39eb565fccb9f03b6\" #Favor ingresar la clave proporcionada.\n",
        "\n",
        "# Las funciones que ejecutan los procesos están guardadas\n",
        "# en el archivo \"/functions/bch_api.py\";\n",
        "# si se ejecuta este código en otra ruta, debe sustituirse el path:\n",
        "# file_path + \"/functions/bch_api.py\"\n",
        "# file_path = os.path.dirname(__file__)\n",
        "file_path = os.getcwd()\n",
        "exec(open(file_path + \"/functions/bch_api.py\").read())"
      ],
      "id": "9654ca69",
      "execution_count": null,
      "outputs": []
    },
    {
      "cell_type": "code",
      "metadata": {},
      "source": [
        "# # A partir de código elaborado por Gabriela López:\n",
        "# # https://colab.research.google.com/drive/1R3zpo3L27ypjD7v_FO7GeFPQ_2GeEFKd?usp=sharing\n",
        "# def get_info(url, hdr):\n",
        "#     header = hdr\n",
        "#     req = urllib.request.Request(url, headers=header)\n",
        "#     req.get_method = lambda: 'GET'\n",
        "#     response = urllib.request.urlopen(req)\n",
        "#     jsondata = response.read()\n",
        "#     bytes_data = jsondata\n",
        "#     data_str = bytes_data.decode('utf-8')\n",
        "#     data = json.loads(data_str)\n",
        "#     df = pd.read_json(json.dumps(data))\n",
        "#     idslist = df['Id'].unique()\n",
        "#     return df\n",
        "\n",
        "# def get_df(id):\n",
        "#     url_0 = \"https://bchapi-am.azure-api.net/api/v1/indicadores?formato=Json\"\n",
        "#     url = f'https://bchapi-am.azure-api.net/api/v1/indicadores/{id}/cifras'\n",
        "#     all_variables = get_info(url_0, hdr)\n",
        "#     data = get_info(url, hdr)\n",
        "#     df = pd.DataFrame(\n",
        "#         data = data['Valor'].values, \n",
        "#         index = pd.DatetimeIndex(data['Fecha']))\n",
        "#     df.columns = [all_variables[\"Descripcion\"][id-1]]\n",
        "#     df = pl.from_pandas(df,include_index=True\n",
        "#         ).with_columns(\n",
        "#             pl.col(\"Fecha\").cast(pl.Date))\n",
        "#     return df\n",
        "\n",
        "# def get_plot(id):\n",
        "#     url_0 = \"https://bchapi-am.azure-api.net/api/v1/indicadores?formato=Json\"\n",
        "#     url = f'https://bchapi-am.azure-api.net/api/v1/indicadores/{id}/cifras'\n",
        "#     all_variables = get_info(url_0, hdr)\n",
        "#     data = get_info(url, hdr)\n",
        "#     df = pd.DataFrame(\n",
        "#         data = data['Valor'].values, \n",
        "#         index = pd.DatetimeIndex(data['Fecha']))\n",
        "#     fig = px.line(\n",
        "#         df, \n",
        "#         # title = all_variables['Descripcion'].unique()[0],\n",
        "#         title = all_variables[\"Descripcion\"][id-1]\n",
        "#         )\n",
        "#     fig.update_layout(\n",
        "#         autosize=False,\n",
        "#         width=800,\n",
        "#         height=500,\n",
        "#         template = 'plotly_white',\n",
        "#         showlegend=False)\n",
        "#     fig.update_xaxes(title=None)\n",
        "#     fig.update_yaxes(title=None)\n",
        "#     fig.show()"
      ],
      "id": "be41e820",
      "execution_count": null,
      "outputs": []
    },
    {
      "cell_type": "code",
      "metadata": {},
      "source": [
        "# def res_nivel_1():\n",
        "#     df = pl.DataFrame(df_all)\n",
        "#     variable_0 = \"Niv_Gr_1\"\n",
        "#     variable_1 = \"Niv_Gr_2\"\n",
        "#     variable_2 = \"Niv_Gr_3\"\n",
        "#     df = df.group_by(variable_0\n",
        "#         ).agg(\n",
        "#             pl.col(variable_0).len().alias(\"N_Variables\"),\n",
        "#             pl.col(variable_1).n_unique().alias(\"N_Subgrupos\")\n",
        "#         ).sort([\"N_Variables\",\"N_Subgrupos\",],descending=[True,True])\n",
        "#     print(str(df[\"N_Variables\"].sum()) + \" variables\")\n",
        "#     print(str(df[\"Niv_Gr_1\"].len()) + \" grupos\")\n",
        "#     print(str(df[\"N_Subgrupos\"].sum()) + \" subgrupos\")\n",
        "#     return df\n",
        "\n",
        "# def res_nivel_2(nivel_1):\n",
        "#     df = pl.DataFrame(df_all)\n",
        "#     variable_0 = \"Niv_Gr_1\"\n",
        "#     variable_1 = \"Niv_Gr_2\"\n",
        "#     variable_2 = \"Niv_Gr_3\"\n",
        "#     df = df.filter(\n",
        "#             pl.col(\"Niv_Gr_1\") == nivel_1,\n",
        "#         ).group_by(variable_0,variable_1\n",
        "#         ).agg(\n",
        "#             pl.col(variable_0).len().alias(\"N_Variables\"),\n",
        "#             pl.col(variable_2).n_unique().alias(\"N_Niv_Gr_2\")\n",
        "#         ).sort([\"N_Variables\",\"N_Niv_Gr_2\",],descending=[True,True])\n",
        "#     print(str(df[\"N_Variables\"].sum()) + \" variables\")\n",
        "#     print(str(df[\"Niv_Gr_1\"].len()) + \" grupos\")\n",
        "#     print(str(df[\"N_Niv_Gr_2\"].sum()) + \" subgrupos\")\n",
        "#     return df\n",
        "\n",
        "# def res_nivel_3(nivel_1,nivel_2,variable_2):\n",
        "#     df = pl.DataFrame(df_all)\n",
        "#     variable_0 = \"Niv_Gr_1\"\n",
        "#     variable_1 = \"Niv_Gr_2\"\n",
        "#     df = df.filter(\n",
        "#             pl.col(\"Niv_Gr_1\") == nivel_1,\n",
        "#             pl.col(\"Niv_Gr_2\") == nivel_2\n",
        "#         ).group_by(\n",
        "#             [variable_0,variable_1,variable_2]\n",
        "#         ).agg(\n",
        "#             # pl.col(\"Niv_Gr_1\").len().alias(\"N_Niv_Gr_2\"),\n",
        "#             pl.col(\"Niv_Gr_2\").len().alias(\"N_Variables\"),\n",
        "#         ).sort(\"N_Variables\",descending=True)\n",
        "#     print(str(len(df)) + \" subgrupos\")\n",
        "#     # print(str(df[\"N_Niv_Gr_2\"].sum()) + \" niveles\")\n",
        "#     print(str(df[\"N_Variables\"].sum()) + \" variables\")\n",
        "#     return df\n",
        "\n",
        "# def res_nivel_4(nivel_1,nivel_2,variable_2,def_variable_2,variable_3):\n",
        "#     df = pl.DataFrame(df_all)\n",
        "#     variable_0 = \"Niv_Gr_1\"\n",
        "#     variable_1 = \"Niv_Gr_2\"\n",
        "#     df = df.filter(\n",
        "#             pl.col(\"Niv_Gr_1\") == nivel_1,\n",
        "#             pl.col(\"Niv_Gr_2\") == nivel_2,\n",
        "#             pl.col(variable_2) == def_variable_2,\n",
        "#         ).group_by(\n",
        "#             [variable_0,variable_1,variable_2,variable_3]\n",
        "#         ).agg(\n",
        "#             pl.col(variable_3).len().alias(\"N_Variables\"),\n",
        "#         ).sort(\"N_Variables\",descending=True)\n",
        "#     return df\n",
        "\n",
        "# def res_nivel_5(\n",
        "#     nivel_1,nivel_2,\n",
        "#     variable_2,def_variable_2,\n",
        "#     variable_3,variable_4):\n",
        "#     df = pl.DataFrame(df_all)\n",
        "#     variable_0 = \"Niv_Gr_1\"\n",
        "#     variable_1 = \"Niv_Gr_2\"\n",
        "#     df = df.filter(\n",
        "#             pl.col(\"Niv_Gr_1\") == nivel_1,\n",
        "#             pl.col(\"Niv_Gr_2\") == nivel_2,\n",
        "#             pl.col(variable_2) == def_variable_2,\n",
        "#             # pl.col(variable_3) == def_variable_3,\n",
        "#         ).group_by(\n",
        "#             [variable_0,variable_1,variable_2,variable_3,variable_4]\n",
        "#         ).agg(\n",
        "#             pl.col(variable_4).len().alias(\"N_Variables\"),\n",
        "#         ).sort(\"N_Variables\",descending=True)\n",
        "#     return df\n",
        "\n",
        "# def res_nivel_6(\n",
        "#     nivel_1,nivel_2,\n",
        "#     variable_2,def_variable_2,\n",
        "#     variable_3,variable_4,variable_5):\n",
        "#     df = pl.DataFrame(df_all)\n",
        "#     variable_0 = \"Niv_Gr_1\"\n",
        "#     variable_1 = \"Niv_Gr_2\"\n",
        "#     df = df.filter(\n",
        "#             pl.col(\"Niv_Gr_1\") == nivel_1,\n",
        "#             pl.col(\"Niv_Gr_2\") == nivel_2,\n",
        "#             pl.col(variable_2) == def_variable_2,\n",
        "#             # pl.col(variable_3) == variable_3,\n",
        "#             # pl.col(variable_3) == def_variable_3,\n",
        "#         ).group_by(\n",
        "#             [variable_0,variable_1,variable_2,variable_3,variable_4,variable_5]\n",
        "#         ).agg(\n",
        "#             pl.col(variable_5).len().alias(\"N_Variables\"),\n",
        "#         ).sort(\"N_Variables\",descending=True)\n",
        "#     return df\n",
        "\n",
        "# def res_nivel_7(\n",
        "#     nivel_1,nivel_2,\n",
        "#     variable_2,def_variable_2,\n",
        "#     variable_3,variable_4,variable_5,variable_6):\n",
        "#     df = pl.DataFrame(df_all)\n",
        "#     variable_0 = \"Niv_Gr_1\"\n",
        "#     variable_1 = \"Niv_Gr_2\"\n",
        "#     df = df.filter(\n",
        "#             pl.col(\"Niv_Gr_1\") == nivel_1,\n",
        "#             pl.col(\"Niv_Gr_2\") == nivel_2,\n",
        "#             pl.col(variable_2) == def_variable_2,\n",
        "#             # pl.col(variable_3) == variable_3,\n",
        "#             # pl.col(variable_3) == def_variable_3,\n",
        "#         ).group_by(\n",
        "#             [variable_0,variable_1,variable_2,variable_3,variable_4,variable_5,variable_6]\n",
        "#         ).agg(\n",
        "#             pl.col(variable_5).len().alias(\"N_Variables\"),\n",
        "#         ).sort(\"N_Variables\",descending=True)\n",
        "#     return df"
      ],
      "id": "e0c9a7e1",
      "execution_count": null,
      "outputs": []
    },
    {
      "cell_type": "code",
      "metadata": {},
      "source": [
        "# clave_asignada = \"ff34cff7b0024ea39eb565fccb9f03b6\"\n",
        "# url = \"https://bchapi-am.azure-api.net/api/v1/indicadores?formato=Json\"\n",
        "# hdr ={'Cache-Control': 'no-cache',\n",
        "#       'clave': clave_asignada,}\n",
        "# dfmeta = get_info(url, hdr)\n",
        "# dfmeta"
      ],
      "id": "d5a8a53f",
      "execution_count": null,
      "outputs": []
    },
    {
      "cell_type": "markdown",
      "metadata": {},
      "source": [
        "# Acceso a los Datos\n",
        "\n",
        "Una vez que se crea el registro de usuario (usar el botón \"Suscribirse\" en el [sitio web](https://bchapi-am.developer.azure-api.net/), puede verse el procedimiento de registro e inicio de sesión en [YouTube](https://www.youtube.com/watch?v=8ZBllMSsKw4)), se necesita obtener una clave (ver explicación en [YouTube](https://www.youtube.com/watch?v=mV90s74OCfc)), ejecutando una consulta al catálogo de indicadores. Favor sustituir en el código la clave actual por su clave asignada.\n",
        "\n",
        "Para conocer los datos disponibles, se debe ejecutar una consulta al catálogo de indicadores, que contiene información sobre las series disponibles:\n",
        "\n",
        "* Nombre (código)\n",
        "* Descripción\n",
        "* Periodicidad\n",
        "* Grupo\n",
        "* Correlativo del Grupo\n",
        "\n",
        "Como ejemplo de la consulta que contiene todas las variables, se muestran los primeros cinco elementos:\n"
      ],
      "id": "cc4125e7"
    },
    {
      "cell_type": "code",
      "metadata": {},
      "source": [
        "# url = \"https://bchapi-am.azure-api.net/api/v1/indicadores?formato=Json\"\n",
        "# hdr ={'Cache-Control': 'no-cache',\n",
        "#       'clave': clave_asignada,}\n",
        "# dfmeta = get_info(url, hdr)\n",
        "dfmeta = get_groups_vscode()\n",
        "dfmeta.head()"
      ],
      "id": "939d0911",
      "execution_count": null,
      "outputs": []
    },
    {
      "cell_type": "markdown",
      "metadata": {},
      "source": [
        "# Grupos\n",
        "\n",
        "Las variables están categorizadas en 8 grupos principales y 54 subgrupos. La nomenclatura utilizada permite dividir estos en un máximo de cinco niveles, tomando en cuenta el separador (-). Se explicarán los mismos a continuacion, ordenando de acuerdo al número de niveles (número de subgrupos).\n"
      ],
      "id": "f717365f"
    },
    {
      "cell_type": "code",
      "metadata": {},
      "source": [
        "# Agregar niveles de Descripción y Grupo\n",
        "# df_all = dfmeta\n",
        "# df_all[['Niv_Descr_1','Niv_Descr_2','Niv_Descr_3','Niv_Descr_4','Niv_Descr_5','Niv_Descr_6','Niv_Descr_7','Niv_Descr_8']] = df_all['Descripcion'].str.split(\n",
        "#     '-',expand=True)\n",
        "# df_all[\"Niv_Descr\"] = df_all.notnull().sum(axis=1) - 6\n",
        "# df_all[\n",
        "#     ['Niv_Gr_1','Niv_Gr_2','Niv_Gr_3','Niv_Gr_4','Niv_Gr_5']]  = df_all['Grupo'].str.split('-',expand=True)\n",
        "# df_all[\"Niv_Gr\"] = df_all.notnull().sum(axis=1) - 2\n",
        "# df_all = pl.DataFrame(df_all)\n",
        "# df_all.write_csv(\n",
        "#         \"api/variables.csv\",\n",
        "#         separator=\";\")\n",
        "\n",
        "# # Resumen por Grupo\n",
        "# variable = \"Grupo\"\n",
        "# res_grupo = df_all.group_by(variable\n",
        "#     ).agg(\n",
        "#     pl.col(\"Id\").len().alias(\"N_Variables\"),\n",
        "#     ).sort(\"N_Variables\",descending=True)\n",
        "# print(str(res_grupo[\"N_Variables\"].sum()) + \" variables\")\n",
        "# print(str(len(res_grupo)) + \" grupos\")\n",
        "# res_grupo = pd.DataFrame(res_grupo)\n",
        "# res_grupo.columns = [\"Grupo\",\"N_Variables\"]\n",
        "# res_grupo[\n",
        "#     ['Niv_Gr_1','Niv_Gr_2','Niv_Gr_3','Niv_Gr_4','Niv_Gr_5']]  = res_grupo['Grupo'].str.split('-',expand=True)\n",
        "# res_grupo[\"Niv_Gr\"] = res_grupo.notnull().sum(axis=1) - 2\n",
        "# res_grupo = res_grupo.sort_values(\n",
        "#     [\"Niv_Gr\",\"N_Variables\"], \n",
        "#     ascending=[False,False])\n",
        "# res_grupo = pl.DataFrame(res_grupo)\n",
        "# res_grupo.write_csv(\n",
        "#     file_path + \"/api/grupos.csv\",\n",
        "#     separator=\";\")\n",
        "res_grupo = save_groups_vscode()\n",
        "print(res_grupo)"
      ],
      "id": "3f0588a5",
      "execution_count": null,
      "outputs": []
    },
    {
      "cell_type": "markdown",
      "metadata": {},
      "source": [
        "Los 8 grupos mencionados permiten consolidar los archivos de acuerdo con el origen de los datos en la página web del BCH, que en su mayoría pueden consultarse en los [reportes dinámicos](https://www.bch.hn/estadisticas-y-publicaciones-economicas/reportes-dinamicos).\n",
        "\n",
        "1. EOM = [Estadísticas de Operaciones Monetarias](https://www.bch.hn/estadisticas-y-publicaciones-economicas/reportes-dinamicos/operaciones-de-mercado-abierto)\n",
        "2. ESR = [Estadísticas del Sector Real](https://www.bch.hn/estadisticas-y-publicaciones-economicas/reportes-dinamicos/sector-real)\n",
        "3. ESE = [Estadísticas del Sector Externo](https://www.bch.hn/estadisticas-y-publicaciones-economicas/reportes-dinamicos/sector-externo)\n",
        "4. EMF = [Estadísiticas Monetarias y Financieras (Sector Fiscal)](https://www.bch.hn/estadisticas-y-publicaciones-economicas/reportes-dinamicos/sector-fiscal)\n",
        "5. EM = [Estadísticas Monetarias (TPM y RIN)](https://www.bch.hn/estadisticas-y-publicaciones-economicas/reportes-dinamicos/sector-monetario)\n",
        "6. ESP = [Estadísticas de Sistema de Pagos](https://www.bch.hn/estadisticas-y-publicaciones-economicas/reportes-dinamicos/sistema-de-pagos)\n",
        "7. EC = [Estadísticas de Tipo de Cambio](https://www.bch.hn/estadisticas-y-publicaciones-economicas/reportes-dinamicos/tipo-de-cambio)\n",
        "8. EP = [Estadísticas de Precios](https://www.bch.hn/estadisticas-y-publicaciones-economicas/reportes-dinamicos/precios)\n",
        "\n",
        "Los grupos se subdividen en 25 subgrupos:\n"
      ],
      "id": "75db0ad3"
    },
    {
      "cell_type": "code",
      "metadata": {},
      "source": [
        "res = res_nivel_1()\n",
        "res"
      ],
      "id": "5df19834",
      "execution_count": null,
      "outputs": []
    },
    {
      "cell_type": "markdown",
      "metadata": {},
      "source": [
        "# Descripción de los Datos\n",
        "\n",
        "A continuación se presentan los detalles de los grupos por nivel de agregación, ordenados de acuerdo al número de variables que contienen.\n",
        "\n",
        "### EOM = Estadísticas de Operaciones Monetarias\n",
        "\n",
        "Los datos están disponibles en la [página web del BCH](https://www.bch.hn/estadisticas-y-publicaciones-economicas/reportes-dinamicos/operaciones-de-mercado-abierto).\n"
      ],
      "id": "f843b9ca"
    },
    {
      "cell_type": "code",
      "metadata": {},
      "source": [
        "res_nivel_2(\"EOM\")"
      ],
      "id": "13e5d38d",
      "execution_count": null,
      "outputs": []
    },
    {
      "cell_type": "markdown",
      "metadata": {},
      "source": [
        "Contiene solamente un subgrupo:\n",
        "\n",
        "- OMA = Operaciones de Mercado Abierto\n",
        "\n",
        "#### OMA = Operaciones de Mercado Abierto\n",
        "\n",
        "Cuatro niveles de agregación:\n",
        "\n",
        "* 01 = Tasas de Rendimiento Diario de Valores Gubernamentales\n",
        "* 02 = Créditos (Niv_Descr_4 = 1-3) e Inversiones (Niv_Descr_4 = 4-6): Monto, Número de Solicitudes y Tasa\n",
        "* 03 = Monto, Número de Operaciones y Tasa\n",
        "* 04 = Monto, Número de Operaciones y Tasa (Dólares - Lempiras)\n",
        "\n",
        "En cada una de las tablas subsiguientes, la columna N_Variables corresponde al número de variables que contiene cada nivel.\n"
      ],
      "id": "3e507cfd"
    },
    {
      "cell_type": "code",
      "metadata": {},
      "source": [
        "res_nivel_3(\"EOM\",\"OMA\",\"Niv_Gr_3\").sort(\"Niv_Gr_3\")"
      ],
      "id": "2b1cb53a",
      "execution_count": null,
      "outputs": []
    },
    {
      "cell_type": "markdown",
      "metadata": {},
      "source": [
        "###### 01 = Tasas de Rendimiento Diario de Valores Gubernamentales \n",
        "\n",
        "Este es el nivel que contiene más variables, todas corresponden a las \"Tasas de Rendimiento Diario de Valores Gubernamentales\":\n"
      ],
      "id": "1d643713"
    },
    {
      "cell_type": "code",
      "metadata": {},
      "source": [
        "res_nivel_4(\n",
        "    \"EOM\",\"OMA\",\n",
        "    \"Niv_Gr_3\",\"01\",\n",
        "    \"Niv_Descr_1\")"
      ],
      "id": "f6ceb9c3",
      "execution_count": null,
      "outputs": []
    },
    {
      "cell_type": "markdown",
      "metadata": {},
      "source": [
        "Para listar todas las variables:\n"
      ],
      "id": "7be8849b"
    },
    {
      "cell_type": "code",
      "metadata": {},
      "source": [
        "res_nivel_6(\n",
        "    \"EOM\",\"OMA\",\n",
        "    \"Niv_Gr_3\",\"01\",\n",
        "    \"Id\",\"Nombre\",\"Niv_Descr_1\").sort(\"Nombre\")"
      ],
      "id": "8474a1e3",
      "execution_count": null,
      "outputs": []
    },
    {
      "cell_type": "markdown",
      "metadata": {},
      "source": [
        "La consulta para una serie individual puede realizarse solamente mediante el uso de la \"Id\" correspondiente; por ejemplo, el Id 701 da como resultado:\n"
      ],
      "id": "1448aaae"
    },
    {
      "cell_type": "code",
      "metadata": {},
      "source": [
        "Id = 1701\n",
        "df = get_df(Id)\n",
        "get_plot(Id)\n",
        "df"
      ],
      "id": "4be2c42c",
      "execution_count": null,
      "outputs": []
    },
    {
      "cell_type": "markdown",
      "metadata": {},
      "source": [
        "###### 02 = Créditos (Niv_Descr_4 = 1-3) e Inversiones (Niv_Descr_4 = 4-6): Monto, Número de Solicitudes y Tasa\n"
      ],
      "id": "ab4922c9"
    },
    {
      "cell_type": "code",
      "metadata": {},
      "source": [
        "res_nivel_4(\n",
        "    \"EOM\",\"OMA\",\n",
        "    \"Niv_Gr_3\",\"02\",\n",
        "    \"Niv_Descr_5\")"
      ],
      "id": "582f6203",
      "execution_count": null,
      "outputs": []
    },
    {
      "cell_type": "markdown",
      "metadata": {},
      "source": [
        "Todas las variables:\n"
      ],
      "id": "76fe3cc1"
    },
    {
      "cell_type": "code",
      "metadata": {},
      "source": [
        "res_nivel_7(\n",
        "    \"EOM\",\"OMA\",\n",
        "    \"Niv_Gr_3\",\"02\",\n",
        "    \"Id\",\"Nombre\",\"Niv_Descr_5\",\"Niv_Descr_6\").sort(\"Nombre\")"
      ],
      "id": "a3145b3e",
      "execution_count": null,
      "outputs": []
    },
    {
      "cell_type": "markdown",
      "metadata": {},
      "source": [
        "Resultados de una sola variable:\n"
      ],
      "id": "fe1e366c"
    },
    {
      "cell_type": "code",
      "metadata": {},
      "source": [
        "Id = 6261\n",
        "df = get_df(Id)\n",
        "get_plot(Id)\n",
        "df"
      ],
      "id": "17004fbb",
      "execution_count": null,
      "outputs": []
    },
    {
      "cell_type": "markdown",
      "metadata": {},
      "source": [
        "###### 03 = Monto, Número de Operaciones y Tasa\n"
      ],
      "id": "b45003cc"
    },
    {
      "cell_type": "code",
      "metadata": {},
      "source": [
        "res_nivel_4(\n",
        "    \"EOM\",\"OMA\",\n",
        "    \"Niv_Gr_3\",\"03\",\n",
        "    \"Niv_Descr_5\")"
      ],
      "id": "82afc37a",
      "execution_count": null,
      "outputs": []
    },
    {
      "cell_type": "markdown",
      "metadata": {},
      "source": [
        "Todas las variables:\n"
      ],
      "id": "534326ad"
    },
    {
      "cell_type": "code",
      "metadata": {},
      "source": [
        "res_nivel_6(\n",
        "    \"EOM\",\"OMA\",\n",
        "    \"Niv_Gr_3\",\"03\",\n",
        "    \"Id\",\"Nombre\",\"Niv_Descr_5\").sort(\"Nombre\")"
      ],
      "id": "d6a5c53f",
      "execution_count": null,
      "outputs": []
    },
    {
      "cell_type": "markdown",
      "metadata": {},
      "source": [
        "Resultados de una sola variable:\n"
      ],
      "id": "7041bfec"
    },
    {
      "cell_type": "code",
      "metadata": {},
      "source": [
        "Id = 6267\n",
        "df = get_df(Id)\n",
        "# get_plot(Id)\n",
        "df"
      ],
      "id": "ba1f1897",
      "execution_count": null,
      "outputs": []
    },
    {
      "cell_type": "markdown",
      "metadata": {},
      "source": [
        "###### 04 = Monto, Número de Operaciones y Tasa (Dólares - Lempiras)\n"
      ],
      "id": "89179692"
    },
    {
      "cell_type": "code",
      "metadata": {},
      "source": [
        "res_nivel_4(\n",
        "    \"EOM\",\"OMA\",\n",
        "    \"Niv_Gr_3\",\n",
        "    \"04\",\n",
        "    \"Niv_Descr_5\")"
      ],
      "id": "dbacd74c",
      "execution_count": null,
      "outputs": []
    },
    {
      "cell_type": "code",
      "metadata": {},
      "source": [
        "res_nivel_5(\n",
        "    \"EOM\",\"OMA\",\n",
        "    \"Niv_Gr_3\",\"04\",\n",
        "    \"Niv_Descr_5\",\"Niv_Descr_6\")"
      ],
      "id": "e0c50599",
      "execution_count": null,
      "outputs": []
    },
    {
      "cell_type": "markdown",
      "metadata": {},
      "source": [
        "Todas las variables:\n"
      ],
      "id": "6e969b9c"
    },
    {
      "cell_type": "code",
      "metadata": {},
      "source": [
        "res_nivel_7(\n",
        "    \"EOM\",\"OMA\",\n",
        "    \"Niv_Gr_3\",\"04\",\n",
        "    \"Id\",\"Nombre\",\"Niv_Descr_5\",\"Niv_Descr_6\").sort(\"Nombre\")"
      ],
      "id": "d5c4adf5",
      "execution_count": null,
      "outputs": []
    },
    {
      "cell_type": "markdown",
      "metadata": {},
      "source": [
        "Resultados de una sola variable:\n"
      ],
      "id": "de07525a"
    },
    {
      "cell_type": "code",
      "metadata": {},
      "source": [
        "Id = 6270\n",
        "df = get_df(Id)\n",
        "# get_plot(Id)\n",
        "df"
      ],
      "id": "9e09f572",
      "execution_count": null,
      "outputs": []
    },
    {
      "cell_type": "markdown",
      "metadata": {},
      "source": [
        "### ESR = Estadísticas del Sector Real\n"
      ],
      "id": "9a8b9f8a"
    },
    {
      "cell_type": "code",
      "metadata": {},
      "source": [
        "res_nivel_2(\"ESR\")"
      ],
      "id": "c7f414b1",
      "execution_count": null,
      "outputs": []
    },
    {
      "cell_type": "markdown",
      "metadata": {},
      "source": [
        "* COU = Cuadro de Oferta y Utilización\n",
        "* CCI = Clasificación Cruzada Industria\n",
        "* VAB = Valor Agregado Bruto\n",
        "* PIBA = PIB Anual\n",
        "* PIBT = PIB Trimestral\n",
        "* ODA = Oferta y Demanda Agregada\n",
        "* IMAE = Índice Mensual de la Actividad Económica\n",
        "\n",
        "#### COU = Cuadro de Oferta y Utilización\n"
      ],
      "id": "795f1ff6"
    },
    {
      "cell_type": "code",
      "metadata": {},
      "source": [
        "res_nivel_3(\"ESR\",\"COU\",\"Niv_Gr_3\")"
      ],
      "id": "7fd0657b",
      "execution_count": null,
      "outputs": []
    },
    {
      "cell_type": "markdown",
      "metadata": {},
      "source": [
        "Detalla la interacción del producto con la actividad (el detalle se toma de acuerdo con la estructura de la columna \"Nombre\"). Para conocer la estructura de las estadísticas derivadas de este cuadro, consultar en la [página web del BCH](https://www.bch.hn/estadisticas-y-publicaciones-economicas/sector-real/cuentas-nacionales-anuales-base-2000/cuadro-oferta-y-utilizacion).\n",
        "\n",
        "El orden está de acuerdo con el Nivel de Descripción 2 (Niv_Descr_2) y Nivel de Descripción 3 (Niv_Descr_3) de la columna Nombre, para los casos de:\n",
        "\n",
        "* VALOR BRUTO DE PRODUCCIÓN\n",
        "* CONSUMO INTERMEDIO\n",
        "* VALOR AGREGADO\n",
        "* OFERTA\n",
        "* UTILIZACIÓN\n",
        "\n",
        "Cada uno de estos detalles corresponde a una hoja de Excel en el archivo anual correspondiente.\n"
      ],
      "id": "0082d6cb"
    },
    {
      "cell_type": "code",
      "metadata": {},
      "source": [
        "res_nivel_4(\n",
        "    \"ESR\",\"COU\",\n",
        "    \"Niv_Gr_3\",\n",
        "    \"01\",\n",
        "    \"Niv_Descr_1\")"
      ],
      "id": "1c05c2a7",
      "execution_count": null,
      "outputs": []
    },
    {
      "cell_type": "markdown",
      "metadata": {},
      "source": [
        "##### VALOR BRUTO DE PRODUCCIÓN\n",
        "\n",
        "En el cuadro original, las filas son los productos a un nivel de dos dígitos de la Nomenclatura de Productos de Honduras (NPH) y las columnas son las actiivades económicas tomando en cuenta la Nomenclatura de Actividades Económicas de Honduras (NAEH).\n"
      ],
      "id": "62d8858f"
    },
    {
      "cell_type": "code",
      "metadata": {},
      "source": [
        "res_nivel_7(\n",
        "    \"ESR\",\"COU\",\n",
        "    \"Niv_Gr_3\",\n",
        "    \"01\",\n",
        "    \"Niv_Descr_1\",\"Id\",\"Nombre\",\"Descripcion\").filter(pl.col(\"Niv_Descr_1\") == \"VALOR BRUTO DE PRODUCCIÓN\")"
      ],
      "id": "4fd7c981",
      "execution_count": null,
      "outputs": []
    },
    {
      "cell_type": "markdown",
      "metadata": {},
      "source": [
        "Resultados de una sola variable:\n"
      ],
      "id": "2e2141be"
    },
    {
      "cell_type": "code",
      "metadata": {},
      "source": [
        "Id = 10410\n",
        "df = get_df(Id)\n",
        "# get_plot(Id)\n",
        "df"
      ],
      "id": "a8d42ece",
      "execution_count": null,
      "outputs": []
    },
    {
      "cell_type": "markdown",
      "metadata": {},
      "source": [
        "##### CONSUMO INTERMEDIO\n",
        "\n",
        "En el cuadro original, las filas son los productos a un nivel de dos dígitos de la Nomenclatura de Productos de Honduras (NPH) y las columnas son las actiivades económicas tomando en cuenta la Nomenclatura de Actividades Económicas de Honduras (NAEH).\n"
      ],
      "id": "e8b0b7ef"
    },
    {
      "cell_type": "code",
      "metadata": {},
      "source": [
        "res_nivel_7(\n",
        "    \"ESR\",\"COU\",\n",
        "    \"Niv_Gr_3\",\n",
        "    \"01\",\n",
        "    \"Niv_Descr_1\",\"Id\",\"Nombre\",\"Descripcion\").filter(pl.col(\"Niv_Descr_1\") == \"CONSUMO INTERMEDIO\")"
      ],
      "id": "63cf852b",
      "execution_count": null,
      "outputs": []
    },
    {
      "cell_type": "markdown",
      "metadata": {},
      "source": [
        "Resultados de una sola variable:\n"
      ],
      "id": "26e432b5"
    },
    {
      "cell_type": "code",
      "metadata": {},
      "source": [
        "Id = 7835\n",
        "df = get_df(Id)\n",
        "# get_plot(Id)\n",
        "df"
      ],
      "id": "83877032",
      "execution_count": null,
      "outputs": []
    },
    {
      "cell_type": "markdown",
      "metadata": {},
      "source": [
        "##### VALOR AGREGADO\n",
        "\n",
        "En el cuadro original, las filas son los elementos indispensables para calcular el Valor Agregado Bruto, VAB (Remuneración de los Asalariados, Impuestos sobre la Producción y las Importaciones, Subvenciones, Excedente de Explotación, Ingreso Mixto y Consumo de Capital Fijo) y las columnas son las actiivades económicas tomando en cuenta la Nomenclatura de Actividades Económicas de Honduras (NAEH).\n"
      ],
      "id": "5f569e6b"
    },
    {
      "cell_type": "code",
      "metadata": {},
      "source": [
        "res_nivel_7(\n",
        "    \"ESR\",\"COU\",\n",
        "    \"Niv_Gr_3\",\n",
        "    \"01\",\n",
        "    \"Niv_Descr_1\",\"Id\",\"Nombre\",\"Descripcion\").filter(pl.col(\"Niv_Descr_1\") == \"VALOR AGREGADO\")"
      ],
      "id": "52674746",
      "execution_count": null,
      "outputs": []
    },
    {
      "cell_type": "markdown",
      "metadata": {},
      "source": [
        "Resultados de una sola variable:\n"
      ],
      "id": "e80e3e9a"
    },
    {
      "cell_type": "code",
      "metadata": {},
      "source": [
        "Id = 10024\n",
        "df = get_df(Id)\n",
        "# get_plot(Id)\n",
        "df"
      ],
      "id": "cdffa16e",
      "execution_count": null,
      "outputs": []
    },
    {
      "cell_type": "markdown",
      "metadata": {},
      "source": [
        "##### OFERTA\n",
        "\n",
        "En el cuadro original, las filas son los productos a un nivel de dos dígitos de la Nomenclatura de Productos de Honduras (NPH) y las columnas son los componentes de la Oferta Agregada a Precios de Comprador (Producción, Importaciones CIF, Ajuste CIF/FOB, Impuestos y Subvenciones a los Productos y Márgenes de Distribución).\n"
      ],
      "id": "50cf75b1"
    },
    {
      "cell_type": "code",
      "metadata": {},
      "source": [
        "res_nivel_7(\n",
        "    \"ESR\",\"COU\",\n",
        "    \"Niv_Gr_3\",\n",
        "    \"01\",\n",
        "    \"Niv_Descr_1\",\"Id\",\"Nombre\",\"Descripcion\").filter(pl.col(\"Niv_Descr_1\") == \"OFERTA\")"
      ],
      "id": "21a8f719",
      "execution_count": null,
      "outputs": []
    },
    {
      "cell_type": "markdown",
      "metadata": {},
      "source": [
        "Resultados de una sola variable:\n"
      ],
      "id": "b0e3431f"
    },
    {
      "cell_type": "code",
      "metadata": {},
      "source": [
        "Id = 8878\n",
        "df = get_df(Id)\n",
        "# get_plot(Id)\n",
        "df"
      ],
      "id": "fc7f9f19",
      "execution_count": null,
      "outputs": []
    },
    {
      "cell_type": "markdown",
      "metadata": {},
      "source": [
        "##### UTILIZACIÓN\n",
        "\n",
        "En el cuadro original, las filas son los productos a un nivel de dos dígitos de la Nomenclatura de Productos de Honduras (NPH) y las columnas son los componentes de la Utilización Agregada a Precios de Comprador (Consumo Intermedio, Exportciones FOB, Gasto de Consumo Final y Formación Bruta de Capital).\n"
      ],
      "id": "f2c5da41"
    },
    {
      "cell_type": "code",
      "metadata": {},
      "source": [
        "res_nivel_7(\n",
        "    \"ESR\",\"COU\",\n",
        "    \"Niv_Gr_3\",\n",
        "    \"01\",\n",
        "    \"Niv_Descr_1\",\"Id\",\"Nombre\",\"Descripcion\").filter(pl.col(\"Niv_Descr_1\") == \"UTILIZACIÓN\")"
      ],
      "id": "0024240c",
      "execution_count": null,
      "outputs": []
    },
    {
      "cell_type": "markdown",
      "metadata": {},
      "source": [
        "Tomar en cuenta que, para realizar el cálculo del VAB por NAEH, se debe sumar las columnas de Valor Bruto de Producción y restar las de Consumo Intermedio; adicionalmente, como los datos correspondientes a Impuestos sobre los Productos y los Márgenes de Distribución solamente se encuentran a nivel de NPH, no se puede tener un VAB total que se obtenga por suma de VAB a nivel de actividad individual, en vista que debe restarse las de Subvenciones a los productos, mismas que se encuentran en el Cuadro de Oferta solamente a nivel de NPH. Esta forma de obtener el VAB se conoce como el cálculo del PIB por el enfoque del Ingreso.\n",
        "\n",
        "Como la Oferta y Utilización están detalladas a nivel de NPH, el VAB por NPH a partir de los dos detalles previos, se puede obtener por dos métodos:\n",
        "\n",
        "1. Suma de Producción + Impuestos - Subvenciones a los Productos + Márgenes de Distribución (Oferta) - Consumo Intermedio (Utilización) => PIB por el enfoque de la Produccion.\n",
        "2. Exportaciones FOB + Gasto de Consumo Final + Formación Bruta de Capital (Utilización) - Importaciones CIF - Ajuste CIF/FOB (Oferta) => PIB por el enfoque del Gasto.\n",
        "\n",
        "Para saber el contenido de todas las variables:\n"
      ],
      "id": "9b82e324"
    },
    {
      "cell_type": "code",
      "metadata": {},
      "source": [
        "res_nivel_7(\n",
        "    \"ESR\",\"COU\",\n",
        "    \"Niv_Gr_3\",\n",
        "    \"01\",\n",
        "    \"Id\",\"Niv_Descr_1\",\"Nombre\",\"Descripcion\").sort(\"Id\")"
      ],
      "id": "c768a301",
      "execution_count": null,
      "outputs": []
    },
    {
      "cell_type": "markdown",
      "metadata": {},
      "source": [
        "Resultados de una sola variable:\n"
      ],
      "id": "535afce6"
    },
    {
      "cell_type": "code",
      "metadata": {},
      "source": [
        "Id = 9465\n",
        "df = get_df(Id)\n",
        "# get_plot(Id)\n",
        "df"
      ],
      "id": "3692e27f",
      "execution_count": null,
      "outputs": []
    },
    {
      "cell_type": "markdown",
      "metadata": {},
      "source": [
        "#### CCI = Clasificación Cruzada Industria Sector Institucional\n",
        "\n",
        "Para conocer la estructura de las estadísticas derivadas de este cuadro, consultar en la [página web del BCH](https://www.bch.hn/estadisticas-y-publicaciones-economicas/sector-real/cuentas-nacionales-anuales-base-2000/clasificacion-cruzada-industria-sector-institucional).\n",
        "\n",
        "El archivo contiene 3 hojas, que pueden filtrarse de acuerdo con el Nivel de Descripción 1 (Niv_Descr_1) de la variable:\n",
        "\n",
        "* Producción Bruta\n",
        "* Consumo Intermedio\n",
        "* Valor Agregado\n",
        "\n",
        "Los cuadros en cada hoja contienen los valores a nivel de Industria en las filas y a nivel de Sector Institucional en las columnas.\n",
        "\n",
        "Debido a que el VAB implica tomar en cuenta impuestos y subvenciones a nivel de NPH, no es posible obtener el cálculo de esta variable por suma a partir de los cuadros del CCI (ver explicación en el apartado del COU).\n"
      ],
      "id": "08da60cd"
    },
    {
      "cell_type": "code",
      "metadata": {},
      "source": [
        "res_nivel_3(\"ESR\",\"CCI\",\"Niv_Descr_1\")"
      ],
      "id": "907ee2c6",
      "execution_count": null,
      "outputs": []
    },
    {
      "cell_type": "markdown",
      "metadata": {},
      "source": [
        "\"Niv_Descr_2\" es la Industria (filas).\n"
      ],
      "id": "dc4cb4be"
    },
    {
      "cell_type": "code",
      "metadata": {},
      "source": [
        "res_nivel_5(\n",
        "    \"ESR\",\"CCI\",\n",
        "    \"Niv_Gr_3\",\n",
        "    \"01\",\n",
        "    \"Niv_Descr_1\",\"Niv_Descr_2\")"
      ],
      "id": "79d130e8",
      "execution_count": null,
      "outputs": []
    },
    {
      "cell_type": "markdown",
      "metadata": {},
      "source": [
        "\"Niv_Descr_3\" es el Sector Institucional (columnas).\n"
      ],
      "id": "bf95d620"
    },
    {
      "cell_type": "code",
      "metadata": {},
      "source": [
        "res_nivel_5(\n",
        "    \"ESR\",\"CCI\",\n",
        "    \"Niv_Gr_3\",\n",
        "    \"01\",\n",
        "    \"Niv_Descr_1\",\"Niv_Descr_3\")"
      ],
      "id": "f166ebd2",
      "execution_count": null,
      "outputs": []
    },
    {
      "cell_type": "markdown",
      "metadata": {},
      "source": [
        "Para saber el contenido de todas las variables:\n"
      ],
      "id": "cb7faac2"
    },
    {
      "cell_type": "code",
      "metadata": {},
      "source": [
        "res_nivel_7(\n",
        "    \"ESR\",\"CCI\",\n",
        "    \"Niv_Gr_3\",\n",
        "    \"01\",\n",
        "    \"Id\",\"Niv_Descr_1\",\"Niv_Descr_2\",\"Niv_Descr_3\")"
      ],
      "id": "f1861dce",
      "execution_count": null,
      "outputs": []
    },
    {
      "cell_type": "markdown",
      "metadata": {},
      "source": [
        "Resultados de una sola variable:\n"
      ],
      "id": "1993b140"
    },
    {
      "cell_type": "code",
      "metadata": {},
      "source": [
        "Id = 7467\n",
        "df = get_df(Id)\n",
        "# get_plot(Id)\n",
        "df"
      ],
      "id": "5367cf7c",
      "execution_count": null,
      "outputs": []
    },
    {
      "cell_type": "markdown",
      "metadata": {},
      "source": [
        "#### VAB = Valor Agregado Bruto\n"
      ],
      "id": "f8fb0bed"
    },
    {
      "cell_type": "code",
      "metadata": {},
      "source": [
        "res_nivel_3(\"ESR\",\"VAB\",\"Niv_Gr_3\")"
      ],
      "id": "e1f32be2",
      "execution_count": null,
      "outputs": []
    },
    {
      "cell_type": "markdown",
      "metadata": {},
      "source": [
        "##### Valor y Variación, Corrientes y Constantes, por NAEH\n"
      ],
      "id": "cf4ea10b"
    },
    {
      "cell_type": "code",
      "metadata": {},
      "source": [
        "res_nivel_4(\n",
        "    \"ESR\",\"VAB\",\n",
        "    \"Niv_Gr_3\",\n",
        "    \"01\",\n",
        "    \"Niv_Descr_4\")"
      ],
      "id": "08133fc0",
      "execution_count": null,
      "outputs": []
    },
    {
      "cell_type": "code",
      "metadata": {},
      "source": [
        "res_nivel_5(\n",
        "    \"ESR\",\"VAB\",\n",
        "    \"Niv_Gr_3\",\n",
        "    \"01\",\n",
        "    \"Niv_Descr_4\",\"Niv_Descr_5\")"
      ],
      "id": "23414467",
      "execution_count": null,
      "outputs": []
    },
    {
      "cell_type": "markdown",
      "metadata": {},
      "source": [
        "Para saber el contenido de todas las variables:\n"
      ],
      "id": "0a01395e"
    },
    {
      "cell_type": "code",
      "metadata": {},
      "source": [
        "res_nivel_7(\n",
        "    \"ESR\",\"VAB\",\n",
        "    \"Niv_Gr_3\",\n",
        "    \"01\",\n",
        "    \"Id\",\"Niv_Descr_4\",\"Niv_Descr_5\",\"Niv_Descr_6\")"
      ],
      "id": "8f3006ec",
      "execution_count": null,
      "outputs": []
    },
    {
      "cell_type": "markdown",
      "metadata": {},
      "source": [
        "Resultados de una sola variable:\n"
      ],
      "id": "b118f20b"
    },
    {
      "cell_type": "code",
      "metadata": {},
      "source": [
        "Id = 220\n",
        "df = get_df(Id)\n",
        "# get_plot(Id)\n",
        "df"
      ],
      "id": "9ec1195c",
      "execution_count": null,
      "outputs": []
    },
    {
      "cell_type": "markdown",
      "metadata": {},
      "source": [
        "##### Precio y Variación, Corrientes y Constantes, por NAEH\n"
      ],
      "id": "9db76667"
    },
    {
      "cell_type": "code",
      "metadata": {},
      "source": [
        "res_nivel_4(\n",
        "    \"ESR\",\"VAB\",\n",
        "    \"Niv_Gr_3\",\n",
        "    \"02\",\n",
        "    \"Niv_Descr_4\")"
      ],
      "id": "af9c636e",
      "execution_count": null,
      "outputs": []
    },
    {
      "cell_type": "code",
      "metadata": {},
      "source": [
        "res_nivel_5(\n",
        "    \"ESR\",\"VAB\",\n",
        "    \"Niv_Gr_3\",\n",
        "    \"02\",\n",
        "    \"Niv_Descr_4\",\"Niv_Descr_5\")"
      ],
      "id": "762db746",
      "execution_count": null,
      "outputs": []
    },
    {
      "cell_type": "markdown",
      "metadata": {},
      "source": [
        "Notar que aquí el Nivel de Descripción 6 (Niv_Descr_6) no es una buena opción de desagregación, puesto que los componentes son \"Actividad Económica\" y \"Productos Alimenticios, Bebidas y Tabaco\"; esta última está detallada en mayor grado en el Nivel de Descripción 7 (Niv_Descr_7).\n",
        "\n",
        "Para saber el contenido de todas las variables:\n"
      ],
      "id": "30fc458a"
    },
    {
      "cell_type": "code",
      "metadata": {},
      "source": [
        "res_nivel_7(\n",
        "    \"ESR\",\"VAB\",\n",
        "    \"Niv_Gr_3\",\n",
        "    \"02\",\n",
        "    \"Id\",\"Niv_Descr_4\",\"Niv_Descr_5\",\"Niv_Descr_7\")"
      ],
      "id": "562645b8",
      "execution_count": null,
      "outputs": []
    },
    {
      "cell_type": "markdown",
      "metadata": {},
      "source": [
        "Resultados de una sola variable:\n"
      ],
      "id": "1eed8309"
    },
    {
      "cell_type": "code",
      "metadata": {},
      "source": [
        "Id = 273\n",
        "df = get_df(Id)\n",
        "# get_plot(Id)\n",
        "df"
      ],
      "id": "1e9352f7",
      "execution_count": null,
      "outputs": []
    },
    {
      "cell_type": "markdown",
      "metadata": {},
      "source": [
        "#### PIBA = PIB Anual\n",
        "\n",
        "La información se encuentra en la viñeta \"Sector Real\" de la [página web del BCH](https://www.bch.hn/estadisticas-y-publicaciones-economicas/reportes-dinamicos/sector-real).\n"
      ],
      "id": "02c4c7cf"
    },
    {
      "cell_type": "code",
      "metadata": {},
      "source": [
        "res_nivel_3(\"ESR\",\"PIBA\",\"Niv_Descr_3\")"
      ],
      "id": "925dc024",
      "execution_count": null,
      "outputs": []
    },
    {
      "cell_type": "markdown",
      "metadata": {},
      "source": [
        "##### 01 Valores Corrientes y Constantes, por Actividad Económica\n"
      ],
      "id": "a33dcdc4"
    },
    {
      "cell_type": "code",
      "metadata": {},
      "source": [
        "res_nivel_4(\n",
        "    \"ESR\",\"PIBA\",\n",
        "    \"Niv_Gr_3\",\n",
        "    \"01\",\n",
        "    \"Niv_Descr_4\")"
      ],
      "id": "3d53c5a1",
      "execution_count": null,
      "outputs": []
    },
    {
      "cell_type": "markdown",
      "metadata": {},
      "source": [
        "* Rama de Actividad Económica (RAE)\n",
        "* Series Agregadas\n",
        "* Variación RAE\n",
        "* Variación Series Agregadas\n"
      ],
      "id": "c4fc07ce"
    },
    {
      "cell_type": "code",
      "metadata": {},
      "source": [
        "res_nivel_6(\n",
        "    \"ESR\",\"PIBA\",\n",
        "    \"Niv_Gr_3\",\n",
        "    \"01\",\n",
        "    \"Niv_Descr_4\",\"Niv_Descr_5\",\"Niv_Descr_6\")"
      ],
      "id": "08e90966",
      "execution_count": null,
      "outputs": []
    },
    {
      "cell_type": "markdown",
      "metadata": {},
      "source": [
        "Para saber el contenido de todas las variables:\n"
      ],
      "id": "039fe34a"
    },
    {
      "cell_type": "code",
      "metadata": {},
      "source": [
        "res_nivel_7(\n",
        "    \"ESR\",\"PIBA\",\n",
        "    \"Niv_Gr_3\",\n",
        "    \"01\",\n",
        "    \"Id\",\"Niv_Descr_4\",\"Niv_Descr_5\",\"Niv_Descr_6\")"
      ],
      "id": "7f3cd821",
      "execution_count": null,
      "outputs": []
    },
    {
      "cell_type": "markdown",
      "metadata": {},
      "source": [
        "Resultados de una sola variable:\n"
      ],
      "id": "7f31fb81"
    },
    {
      "cell_type": "code",
      "metadata": {},
      "source": [
        "Id = 101\n",
        "df = get_df(Id)\n",
        "# get_plot(Id)\n",
        "df"
      ],
      "id": "68be05a8",
      "execution_count": null,
      "outputs": []
    },
    {
      "cell_type": "markdown",
      "metadata": {},
      "source": [
        "##### 02 Precios y Variación, por Componente del Gasto\n"
      ],
      "id": "4996c926"
    },
    {
      "cell_type": "code",
      "metadata": {},
      "source": [
        "res_nivel_4(\n",
        "    \"ESR\",\"PIBA\",\n",
        "    \"Niv_Gr_3\",\n",
        "    \"02\",\n",
        "    \"Niv_Descr_4\")"
      ],
      "id": "f0f1d690",
      "execution_count": null,
      "outputs": []
    },
    {
      "cell_type": "markdown",
      "metadata": {},
      "source": [
        "Tipo de Valores (\"Niv_Descr_5\"):\n",
        "\n",
        "* Corrientes\n",
        "* Constantes\n"
      ],
      "id": "f0e574d0"
    },
    {
      "cell_type": "code",
      "metadata": {},
      "source": [
        "res_nivel_6(\n",
        "    \"ESR\",\"PIBA\",\n",
        "    \"Niv_Gr_3\",\n",
        "    \"02\",\n",
        "    \"Niv_Descr_4\",\"Niv_Descr_5\",\"Niv_Descr_6\")"
      ],
      "id": "4fe97855",
      "execution_count": null,
      "outputs": []
    },
    {
      "cell_type": "markdown",
      "metadata": {},
      "source": [
        "Para saber el contenido de todas las variables:\n"
      ],
      "id": "2826144c"
    },
    {
      "cell_type": "code",
      "metadata": {},
      "source": [
        "res_nivel_7(\n",
        "    \"ESR\",\"PIBA\",\n",
        "    \"Niv_Gr_3\",\n",
        "    \"02\",\n",
        "    \"Id\",\"Niv_Descr_4\",\"Niv_Descr_5\",\"Niv_Descr_6\")"
      ],
      "id": "b22092cd",
      "execution_count": null,
      "outputs": []
    },
    {
      "cell_type": "markdown",
      "metadata": {},
      "source": [
        "Resultados de una sola variable:\n"
      ],
      "id": "45afb269"
    },
    {
      "cell_type": "code",
      "metadata": {},
      "source": [
        "Id = 194\n",
        "df = get_df(Id)\n",
        "# get_plot(Id)\n",
        "df"
      ],
      "id": "1eb0c7be",
      "execution_count": null,
      "outputs": []
    },
    {
      "cell_type": "markdown",
      "metadata": {},
      "source": [
        "##### 03 Precios y Variación, por Componente del Ingreso\n"
      ],
      "id": "9c75bb06"
    },
    {
      "cell_type": "code",
      "metadata": {},
      "source": [
        "res_nivel_4(\n",
        "    \"ESR\",\"PIBA\",\n",
        "    \"Niv_Gr_3\",\n",
        "    \"03\",\n",
        "    \"Niv_Descr_4\")"
      ],
      "id": "60561023",
      "execution_count": null,
      "outputs": []
    },
    {
      "cell_type": "markdown",
      "metadata": {},
      "source": [
        "* Remuneración de los asalariados\n",
        "* Impuestos netos de subvenciones sobre la producción y las importaciones\n",
        "* Excedente de Explotación bruto\n",
        "* Ingreso Mixto bruto\n",
        "* Producto Interno Bruto (pm)\n"
      ],
      "id": "c734a4f9"
    },
    {
      "cell_type": "code",
      "metadata": {},
      "source": [
        "res_nivel_5(\n",
        "    \"ESR\",\"PIBA\",\n",
        "    \"Niv_Gr_3\",\n",
        "    \"03\",\n",
        "    \"Niv_Descr_4\",\"Niv_Descr_5\")"
      ],
      "id": "9f02c11a",
      "execution_count": null,
      "outputs": []
    },
    {
      "cell_type": "markdown",
      "metadata": {},
      "source": [
        "Para saber el contenido de todas las variables:\n"
      ],
      "id": "b8a8df9d"
    },
    {
      "cell_type": "code",
      "metadata": {},
      "source": [
        "res_nivel_7(\n",
        "    \"ESR\",\"PIBA\",\n",
        "    \"Niv_Gr_3\",\n",
        "    \"03\",\n",
        "    \"Id\",\"Nombre\",\"Niv_Descr_4\",\"Niv_Descr_5\")"
      ],
      "id": "5add3e6d",
      "execution_count": null,
      "outputs": []
    },
    {
      "cell_type": "markdown",
      "metadata": {},
      "source": [
        "Resultados de una sola variable:\n"
      ],
      "id": "7983a1ba"
    },
    {
      "cell_type": "code",
      "metadata": {},
      "source": [
        "Id = 202\n",
        "df = get_df(Id)\n",
        "# get_plot(Id)\n",
        "df"
      ],
      "id": "a07a252c",
      "execution_count": null,
      "outputs": []
    },
    {
      "cell_type": "markdown",
      "metadata": {},
      "source": [
        "##### 04 Dólares y Lempiras\n"
      ],
      "id": "a53466da"
    },
    {
      "cell_type": "code",
      "metadata": {},
      "source": [
        "res_nivel_4(\n",
        "    \"ESR\",\"PIBA\",\n",
        "    \"Niv_Gr_3\",\n",
        "    \"04\",\n",
        "    \"Niv_Descr_4\")"
      ],
      "id": "6acfaafc",
      "execution_count": null,
      "outputs": []
    },
    {
      "cell_type": "markdown",
      "metadata": {},
      "source": [
        "* Ingreso Nacional\n",
        "* Producto Interno Bruto\n",
        "* Producto Nacional Bruto\n"
      ],
      "id": "aee7383e"
    },
    {
      "cell_type": "code",
      "metadata": {},
      "source": [
        "res_nivel_5(\n",
        "    \"ESR\",\"PIBA\",\n",
        "    \"Niv_Gr_3\",\n",
        "    \"04\",\n",
        "    \"Niv_Descr_4\",\"Niv_Descr_6\")"
      ],
      "id": "7b07f867",
      "execution_count": null,
      "outputs": []
    },
    {
      "cell_type": "markdown",
      "metadata": {},
      "source": [
        "Para saber el contenido de todas las variables:\n"
      ],
      "id": "61a4fc22"
    },
    {
      "cell_type": "code",
      "metadata": {},
      "source": [
        "res_nivel_7(\n",
        "    \"ESR\",\"PIBA\",\n",
        "    \"Niv_Gr_3\",\n",
        "    \"04\",\n",
        "    \"Id\",\"Nombre\",\"Niv_Descr_4\",\"Niv_Descr_6\")"
      ],
      "id": "6f49278a",
      "execution_count": null,
      "outputs": []
    },
    {
      "cell_type": "markdown",
      "metadata": {},
      "source": [
        "Resultados de una sola variable:\n"
      ],
      "id": "eb5e256c"
    },
    {
      "cell_type": "code",
      "metadata": {},
      "source": [
        "Id = 211\n",
        "df = get_df(Id)\n",
        "# get_plot(Id)\n",
        "df"
      ],
      "id": "6417bb69",
      "execution_count": null,
      "outputs": []
    },
    {
      "cell_type": "markdown",
      "metadata": {},
      "source": [
        "#### PIBT = PIB Trimestral\n",
        "\n",
        "Esta información se obtiene a partir de los datos del [Portal de Consulta del Sistema de Cuentas Trimestrales](https://sisee.bch.hn/SCNT/PortalPrincipal.aspx).\n"
      ],
      "id": "d976077c"
    },
    {
      "cell_type": "code",
      "metadata": {},
      "source": [
        "res_nivel_3(\"ESR\",\"PIBT\",\"Niv_Gr_3\")"
      ],
      "id": "2f550552",
      "execution_count": null,
      "outputs": []
    },
    {
      "cell_type": "markdown",
      "metadata": {},
      "source": [
        "* PROD = PIB Trimestral por el Enfoque de la Producción\n",
        "* GAST = PIB Trimestral por el Enfoque del Gasto\n",
        "* TDC = Tasas de Crecimiento\n",
        "\n",
        "##### PROD = PIB Trimestral por el Enfoque de la Producción\n",
        "\n",
        "* Serie Original\n",
        "* Serie Desestacionalizada\n",
        "* Valores Corrientes\n",
        "* Valores Constantes\n",
        "\n",
        "Para saber el contenido de todas las variables:\n"
      ],
      "id": "759fdeca"
    },
    {
      "cell_type": "code",
      "metadata": {},
      "source": [
        "res_nivel_7(\n",
        "    \"ESR\",\"PIBT\",\n",
        "    \"Niv_Gr_3\",\n",
        "    \"PROD\",\n",
        "    \"Id\",\"Niv_Descr_1\",\"Niv_Descr_2\",\"Niv_Descr_4\")"
      ],
      "id": "afd9b997",
      "execution_count": null,
      "outputs": []
    },
    {
      "cell_type": "markdown",
      "metadata": {},
      "source": [
        "Resultados de una sola variable:\n"
      ],
      "id": "ac3002a4"
    },
    {
      "cell_type": "code",
      "metadata": {},
      "source": [
        "Id = 2\n",
        "df = get_df(Id)\n",
        "# get_plot(Id)\n",
        "df"
      ],
      "id": "5a20936f",
      "execution_count": null,
      "outputs": []
    },
    {
      "cell_type": "markdown",
      "metadata": {},
      "source": [
        "##### GAST = PIB Trimestral por el Enfoque del Gasto\n",
        "\n",
        "* Serie Original\n",
        "* Serie Desestacionalizada\n",
        "* Valores Corrientes\n",
        "* Valores Constantes\n",
        "\n",
        "Para saber el contenido de todas las variables:\n"
      ],
      "id": "b4dad926"
    },
    {
      "cell_type": "code",
      "metadata": {},
      "source": [
        "res_nivel_7(\n",
        "    \"ESR\",\"PIBT\",\n",
        "    \"Niv_Gr_3\",\n",
        "    \"GAST\",\n",
        "    \"Id\",\"Niv_Descr_1\",\"Niv_Descr_2\",\"Niv_Descr_4\")"
      ],
      "id": "76a7ee9e",
      "execution_count": null,
      "outputs": []
    },
    {
      "cell_type": "markdown",
      "metadata": {},
      "source": [
        "Resultados de una sola variable:\n"
      ],
      "id": "1199565d"
    },
    {
      "cell_type": "code",
      "metadata": {},
      "source": [
        "Id = 8\n",
        "df = get_df(Id)\n",
        "# get_plot(Id)\n",
        "df"
      ],
      "id": "34b98600",
      "execution_count": null,
      "outputs": []
    },
    {
      "cell_type": "markdown",
      "metadata": {},
      "source": [
        "##### TDC = Tasas de Crecimiento\n",
        "\n",
        "* Serie Original\n",
        "* Serie Desestacionalizada\n",
        "* Valores Corrientes\n",
        "* Valores Constantes\n",
        "\n",
        "Para saber el contenido de todas las variables:\n"
      ],
      "id": "7b511d9d"
    },
    {
      "cell_type": "code",
      "metadata": {},
      "source": [
        "res_nivel_6(\n",
        "    \"ESR\",\"PIBT\",\n",
        "    \"Niv_Gr_3\",\n",
        "    \"TDC\",\n",
        "    \"Id\",\"Nombre\",\"Niv_Descr_1\")"
      ],
      "id": "7c2ceef9",
      "execution_count": null,
      "outputs": []
    },
    {
      "cell_type": "markdown",
      "metadata": {},
      "source": [
        "Resultados de una sola variable:\n"
      ],
      "id": "79b46cd9"
    },
    {
      "cell_type": "code",
      "metadata": {},
      "source": [
        "Id = 98\n",
        "df = get_df(Id)\n",
        "# get_plot(Id)\n",
        "df"
      ],
      "id": "e1902394",
      "execution_count": null,
      "outputs": []
    },
    {
      "cell_type": "markdown",
      "metadata": {},
      "source": [
        "#### ODA = Oferta y Demanda Agregada\n",
        "\n",
        "* Oferta Global\n",
        "* Demanda Global\n"
      ],
      "id": "97b3edb6"
    },
    {
      "cell_type": "code",
      "metadata": {},
      "source": [
        "res_nivel_3(\"ESR\",\"ODA\",\"Niv_Descr_1\")"
      ],
      "id": "5af111c0",
      "execution_count": null,
      "outputs": []
    },
    {
      "cell_type": "markdown",
      "metadata": {},
      "source": [
        "##### Oferta Global\n",
        "\n",
        "Estas tablas están agrupadas de dos maneras:\n",
        "\n",
        "1. Variables con valores en \"Niv_Descr_2\" y \"Niv_Descr_3\", corresponde a las siguientes series:\n",
        "\n",
        "* AGRICULTURA, GANADERÍA, CAZA, SILVICULTURA Y PESCA (A PRECIOS BÁSICOS)\n",
        "* COMERCIO, HOTELES Y RESTAURANTES (A PRECIOS BÁSICOS)\n",
        "* CONSTRUCCIÓN (A PRECIOS BÁSICOS)\n",
        "* EXPLOTACIÓN DE MINAS Y CANTERAS (A PRECIOS BÁSICOS)\n",
        "* INDUSTRIA MANUFACTURERA (A PRECIOS BÁSICOS)\n",
        "* MENOS: SERVICIOS DE INTERMEDIACIÓN FINANCIERA MEDIDOS INDIRECTAMENTE (A PRECIOS BÁSICOS)\n",
        "\n",
        "El tipo de valor (\"Niv_Descr_4\") de dichas variables es:\n",
        "\n",
        "* EN MILLONES DE LEMPIRAS CONSTANTES\n",
        "* EN MILLONES DE LEMPIRAS CORRIENTES\n",
        "* VARIACIONES RELATIVAS CONSTANTE\n",
        "* VARIACIONES RELATIVAS CORRIENTES\n"
      ],
      "id": "5da5eab5"
    },
    {
      "cell_type": "code",
      "metadata": {},
      "source": [
        "res_nivel_7(\n",
        "    \"ESR\",\"ODA\",\n",
        "    \"Niv_Descr_1\",\n",
        "    \"OFERTA GLOBAL\",\n",
        "    \"Id\",\"Niv_Descr_2\",\"Niv_Descr_3\",\"Niv_Descr_4\"\n",
        "    ).filter((pl.col('Niv_Descr_2') != \"\"))"
      ],
      "id": "9cfa7b8c",
      "execution_count": null,
      "outputs": []
    },
    {
      "cell_type": "markdown",
      "metadata": {},
      "source": [
        "Resultados de una sola variable:\n"
      ],
      "id": "b3d9530c"
    },
    {
      "cell_type": "code",
      "metadata": {},
      "source": [
        "Id = 11518\n",
        "df = get_df(Id)\n",
        "# get_plot(Id)\n",
        "df"
      ],
      "id": "7da4e51c",
      "execution_count": null,
      "outputs": []
    },
    {
      "cell_type": "markdown",
      "metadata": {},
      "source": [
        "2. Variables sin valores en \"Niv_Descr_2\" y \"Niv_Descr_3\", corresponde a las siguientes series:\n",
        "\n",
        "* IMPORTACIONES DE BIENES Y SERVICIOS C.I.F.\n",
        "* IMPUESTOS NETOS DE SUBVENCIONES SOBRE LA PRODUCCIÓN Y LAS IMPORTACIONES\n",
        "* OFERTA GLOBAL\n",
        "* OTROS SERVICIOS (A PRECIOS BÃSICOS)\n",
        "* PRODUCTO INTERNO BRUTO A PRECIOS DE MERCADO\n",
        "* TOTAL VALOR AGREGADO BRUTO A PRECIOS BÁSICOS\n",
        "* VALOR AGREGADO BRUTO\n",
        "* VALOR AGREGADO BRUTO A PRECIOS BÁSICOS\n",
        "\n",
        "El tipo de valor (\"Niv_Descr_5\") de dichas variables es:\n",
        "\n",
        "* EN MILLONES DE LEMPIRAS CONSTANTES\n",
        "* EN MILLONES DE LEMPIRAS CORRIENTES\n",
        "* VARIACIONES RELATIVAS CONSTANTE\n",
        "* VARIACIONES RELATIVAS CORRIENTES\n",
        "\n",
        "Para saber el contenido de todas las variables:\n"
      ],
      "id": "75288079"
    },
    {
      "cell_type": "code",
      "metadata": {},
      "source": [
        "res_nivel_7(\n",
        "    \"ESR\",\"ODA\",\n",
        "    \"Niv_Descr_1\",\n",
        "    \"OFERTA GLOBAL\",\n",
        "    \"Id\",\"Niv_Descr_2\",\"Niv_Descr_4\",\"Niv_Descr_5\"\n",
        "    ).filter((pl.col('Niv_Descr_2') == \"\"))"
      ],
      "id": "af6dc78a",
      "execution_count": null,
      "outputs": []
    },
    {
      "cell_type": "markdown",
      "metadata": {},
      "source": [
        "Resultados de una sola variable:\n"
      ],
      "id": "feb1eb20"
    },
    {
      "cell_type": "code",
      "metadata": {},
      "source": [
        "Id = 11473\n",
        "df = get_df(Id)\n",
        "# get_plot(Id)\n",
        "df"
      ],
      "id": "cb6161e9",
      "execution_count": null,
      "outputs": []
    },
    {
      "cell_type": "markdown",
      "metadata": {},
      "source": [
        "##### Demanda Global\n",
        "\n",
        "Estas tablas están agrupadas de dos maneras:\n",
        "\n",
        "1. Variables con valores en \"Niv_Descr_2\" y \"Niv_Descr_3\", corresponde a las siguientes series:\n",
        "\n",
        "* FORMACIÓN BRUTA DE CAPITAL FIJO\n",
        "* GASTOS DE CONSUMO FINAL\n",
        "\n",
        "De \"Niv_Descr_3\" se obtiene:\n",
        "\n",
        "* SECTOR PRIVADO\n",
        "* SECTOR PÚBLICO\n",
        "\n",
        "El tipo de valor (\"Niv_Descr_4\") de dichas variables es:\n",
        "\n",
        "* EN MILLONES DE LEMPIRAS CONSTANTES\n",
        "* EN MILLONES DE LEMPIRAS CORRIENTES\n",
        "* VARIACIONES RELATIVAS CONSTANTE\n",
        "* VARIACIONES RELATIVAS CORRIENTES\n"
      ],
      "id": "0c1a411d"
    },
    {
      "cell_type": "code",
      "metadata": {},
      "source": [
        "res_nivel_7(\n",
        "    \"ESR\",\"ODA\",\n",
        "    \"Niv_Descr_1\",\n",
        "    \"DEMANDA GLOBAL\",\n",
        "    \"Id\",\"Niv_Descr_2\",\"Niv_Descr_3\",\"Niv_Descr_4\"\n",
        "    ).filter((pl.col('Niv_Descr_2') != \"\"))"
      ],
      "id": "4725e462",
      "execution_count": null,
      "outputs": []
    },
    {
      "cell_type": "markdown",
      "metadata": {},
      "source": [
        "Resultados de una sola variable:\n"
      ],
      "id": "352239e5"
    },
    {
      "cell_type": "code",
      "metadata": {},
      "source": [
        "Id = 11457\n",
        "df = get_df(Id)\n",
        "# get_plot(Id)\n",
        "df"
      ],
      "id": "39214585",
      "execution_count": null,
      "outputs": []
    },
    {
      "cell_type": "markdown",
      "metadata": {},
      "source": [
        "2. Variables sin valores en \"Niv_Descr_2\" y \"Niv_Descr_3\", corresponde a las siguientes series:\n",
        "\n",
        "* DEMANDA EXTERNA\n",
        "* DEMANDA GLOBAL\n",
        "* DEMANDA INTERNA\n",
        "* EXPORTACIÓN DE BIENES Y SERVICIOS F.O.B.\n",
        "* FORMACIÓN BRUTA DE CAPITAL FIJO\n",
        "* GASTOS DE CONSUMO FINAL\n",
        "* INVERSIÓN INTERNA BRUTA\n",
        "* VARIACIÓN DE EXISTENCIAS\n",
        "\n",
        "El tipo de valor de dichas variables es:\n",
        "\n",
        "* EN MILLONES DE LEMPIRAS CONSTANTES\n",
        "* EN MILLONES DE LEMPIRAS CORRIENTES\n",
        "* VARIACIONES RELATIVAS CONSTANTE\n",
        "* VARIACIONES RELATIVAS CORRIENTES\n",
        "\n",
        "Para saber el contenido de todas las variables:\n"
      ],
      "id": "9592dfda"
    },
    {
      "cell_type": "code",
      "metadata": {},
      "source": [
        "res_nivel_7(\n",
        "    \"ESR\",\"ODA\",\n",
        "    \"Niv_Descr_1\",\n",
        "    \"DEMANDA GLOBAL\",\n",
        "    \"Id\",\"Niv_Descr_2\",\"Niv_Descr_4\",\"Niv_Descr_5\"\n",
        "    ).filter((pl.col('Niv_Descr_2') == \"\"))"
      ],
      "id": "8ae5a357",
      "execution_count": null,
      "outputs": []
    },
    {
      "cell_type": "markdown",
      "metadata": {},
      "source": [
        "Resultados de una sola variable:\n"
      ],
      "id": "ca49baad"
    },
    {
      "cell_type": "code",
      "metadata": {},
      "source": [
        "Id = 11440\n",
        "df = get_df(Id)\n",
        "# get_plot(Id)\n",
        "df"
      ],
      "id": "a6f77e17",
      "execution_count": null,
      "outputs": []
    },
    {
      "cell_type": "markdown",
      "metadata": {},
      "source": [
        "#### IMAE = Índice Mensual de la Actividad Económica\n",
        "\n",
        "Las actividades (\"Niv_Descr_4\") son:\n",
        "\n",
        "* Agricultura, Ganaderia, Silvicultura y Pesca \n",
        "* Minas y Canteras \n",
        "*  Industria Manufacturera \n",
        "* Electricidad y Agua \n",
        "* ConstrucciÃ³n \n",
        "* Comercio \n",
        "* Hoteles y Restaurantes \n",
        "* Transporte y Almacenamiento \n",
        "* Correo y Telecomunicaciones \n",
        "* Inter. Financiera, Seguros y Fondos de Pensiones \n",
        "* Otros Servicios \n",
        "* Serie Original \n",
        "* Tendencia Ciclo \n",
        "\n",
        "El tipo de valor (\"Niv_Descr_5\") de dichas variables es:\n",
        "\n",
        "* Acumulada\n",
        "* Interanual\n",
        "* Índice\n"
      ],
      "id": "a7005fec"
    },
    {
      "cell_type": "code",
      "metadata": {},
      "source": [
        "res_nivel_3(\"ESR\",\"IMAE\",\"Niv_Descr_2\")"
      ],
      "id": "4bfeb2cf",
      "execution_count": null,
      "outputs": []
    },
    {
      "cell_type": "markdown",
      "metadata": {},
      "source": [
        "Para saber el contenido de todas las variables:\n"
      ],
      "id": "0c2781bd"
    },
    {
      "cell_type": "code",
      "metadata": {},
      "source": [
        "res_nivel_6(\n",
        "    \"ESR\",\"IMAE\",\n",
        "    \"Niv_Descr_2\",\n",
        "    \"IMAE\",\n",
        "    \"Id\",\"Niv_Descr_4\",\"Niv_Descr_5\")"
      ],
      "id": "0b02641b",
      "execution_count": null,
      "outputs": []
    },
    {
      "cell_type": "markdown",
      "metadata": {},
      "source": [
        "Resultados de una sola variable:\n"
      ],
      "id": "b60461f3"
    },
    {
      "cell_type": "code",
      "metadata": {},
      "source": [
        "Id = 372\n",
        "df = get_df(Id)\n",
        "# get_plot(Id)\n",
        "df"
      ],
      "id": "a760a3c3",
      "execution_count": null,
      "outputs": []
    },
    {
      "cell_type": "markdown",
      "metadata": {},
      "source": [
        "### ESE = Estadísticas del Sector Externo\n"
      ],
      "id": "dd62b3e6"
    },
    {
      "cell_type": "code",
      "metadata": {},
      "source": [
        "res_nivel_2(\"ESE\")"
      ],
      "id": "446faaa1",
      "execution_count": null,
      "outputs": []
    },
    {
      "cell_type": "markdown",
      "metadata": {},
      "source": [
        "* DE = Deuda Externa\n",
        "* CEB = Comercio Exterior de Bienes\n",
        "* BP = Balanza de Pagos\n",
        "* IES = Ingresos y Egresos de Servicios\n",
        "* PII = Posición de Inversión Inernacional\n",
        "* IED = Inversión Extranjera Directa\n",
        "\n",
        "#### DE = Deuda Externa\n"
      ],
      "id": "48acdcaf"
    },
    {
      "cell_type": "code",
      "metadata": {},
      "source": [
        "res_nivel_3(\"ESE\",\"DE\",\"Niv_Gr_3\")"
      ],
      "id": "848eec4a",
      "execution_count": null,
      "outputs": []
    },
    {
      "cell_type": "markdown",
      "metadata": {},
      "source": [
        "##### 01 - Deudor\n",
        "\n",
        "Para ver todas las variables:\n"
      ],
      "id": "049095ba"
    },
    {
      "cell_type": "code",
      "metadata": {},
      "source": [
        "res_nivel_7(\n",
        "    \"ESE\",\"DE\",\n",
        "    \"Niv_Gr_3\",\"01\",\n",
        "    \"Id\",\"Nombre\",\"Niv_Descr_1\",\"Niv_Descr_2\").sort(\"Nombre\")"
      ],
      "id": "c1b7acfe",
      "execution_count": null,
      "outputs": []
    },
    {
      "cell_type": "markdown",
      "metadata": {},
      "source": [
        "Resultados de una sola variable:\n"
      ],
      "id": "5b5fa744"
    },
    {
      "cell_type": "code",
      "metadata": {},
      "source": [
        "Id = 6710\n",
        "df = get_df(Id)\n",
        "# get_plot(Id)\n",
        "df"
      ],
      "id": "53808e09",
      "execution_count": null,
      "outputs": []
    },
    {
      "cell_type": "markdown",
      "metadata": {},
      "source": [
        "##### 02 - Acreedor\n",
        "\n",
        "Para ver todas las variables:\n"
      ],
      "id": "ee624c72"
    },
    {
      "cell_type": "code",
      "metadata": {},
      "source": [
        "res_nivel_7(\n",
        "    \"ESE\",\"DE\",\n",
        "    \"Niv_Gr_3\",\"02\",\n",
        "    \"Id\",\"Nombre\",\"Niv_Descr_1\",\"Niv_Descr_2\").sort(\"Nombre\")"
      ],
      "id": "c509ff86",
      "execution_count": null,
      "outputs": []
    },
    {
      "cell_type": "markdown",
      "metadata": {},
      "source": [
        "Resultados de una sola variable:\n"
      ],
      "id": "d1396e6b"
    },
    {
      "cell_type": "code",
      "metadata": {},
      "source": [
        "Id = 6714\n",
        "df = get_df(Id)\n",
        "# get_plot(Id)\n",
        "df"
      ],
      "id": "104e698e",
      "execution_count": null,
      "outputs": []
    },
    {
      "cell_type": "markdown",
      "metadata": {},
      "source": [
        "##### 03 - Por Institución\n",
        "\n",
        "* Banco Central\n",
        "* Gobierno general\n",
        "* Otras sociedades financieras\n",
        "* Otros Sectores\n",
        "* Saldo bruto de la deuda externa\n",
        "* Sociedades no financieras\n"
      ],
      "id": "78a4ab1c"
    },
    {
      "cell_type": "code",
      "metadata": {},
      "source": [
        "res_nivel_4(\n",
        "    \"ESE\",\"DE\",\n",
        "    \"Niv_Gr_3\",\n",
        "    \"03\",\n",
        "    \"Niv_Descr_1\")"
      ],
      "id": "e1cc7f91",
      "execution_count": null,
      "outputs": []
    },
    {
      "cell_type": "markdown",
      "metadata": {},
      "source": [
        "* Asignación de Derechos especiales de giro\n",
        "* Asignación de Derechos especiales de giro \n",
        "* Créditos y anticipos comerciales\n",
        "* Créditos y anticipos comerciales \n",
        "* Moneda y depósitos\n",
        "* Moneda y depósitos \n",
        "* Otros pasivos de deuda\n",
        "* Otros pasivos de deuda \n",
        "* Préstamos\n",
        "* Préstamos \n",
        "* Tí­tulos de deuda\n",
        "* Tí­tulos de deuda \n",
        "* Saldo bruto de la deuda externa\n",
        "* Saldo bruto de la deuda externa \n"
      ],
      "id": "0ed75021"
    },
    {
      "cell_type": "code",
      "metadata": {},
      "source": [
        "res_nivel_4(\n",
        "    \"ESE\",\"DE\",\n",
        "    \"Niv_Gr_3\",\n",
        "    \"03\",\n",
        "    \"Niv_Descr_2\")"
      ],
      "id": "771ff965",
      "execution_count": null,
      "outputs": []
    },
    {
      "cell_type": "code",
      "metadata": {},
      "source": [
        "res_nivel_7(\n",
        "    \"ESE\",\"DE\",\n",
        "    \"Niv_Gr_3\",\"03\",\n",
        "    \"Id\",\"Niv_Descr_1\",\"Niv_Descr_2\",\"Niv_Descr_3\")"
      ],
      "id": "cb000341",
      "execution_count": null,
      "outputs": []
    },
    {
      "cell_type": "markdown",
      "metadata": {},
      "source": [
        "Para ver todas las variables (Nota: el nivel de descripción sigue):\n"
      ],
      "id": "810af932"
    },
    {
      "cell_type": "code",
      "metadata": {},
      "source": [
        "df_all.filter(\n",
        "    pl.col(\"Niv_Gr_1\") == \"ESE\",\n",
        "    pl.col(\"Niv_Gr_2\") == \"DE\",\n",
        "    pl.col(\"Niv_Gr_3\") == \"03\"\n",
        "    ).select(pl.all().exclude(\n",
        "        \"Niv_Descr_6\",\"Niv_Descr_7\",\"Niv_Descr_8\",\n",
        "        \"Niv_Gr_4\",\"Niv_Gr_5\"))"
      ],
      "id": "469a0cdf",
      "execution_count": null,
      "outputs": []
    },
    {
      "cell_type": "markdown",
      "metadata": {},
      "source": [
        "Resultados de una sola variable:\n"
      ],
      "id": "b360a7d7"
    },
    {
      "cell_type": "code",
      "metadata": {},
      "source": [
        "Id = 6720\n",
        "df = get_df(Id)\n",
        "# get_plot(Id)\n",
        "df"
      ],
      "id": "11fa802d",
      "execution_count": null,
      "outputs": []
    },
    {
      "cell_type": "markdown",
      "metadata": {},
      "source": [
        "##### 04 - Pagos que vencen en un año o menos\n",
        "\n",
        "* Gobierno general\n",
        "* Banco Central\n",
        "* Otros Sectores\n",
        "* Otras sociedades financieras\n",
        "* Sociedades no financieras\n",
        "* Deuda externa total a corto plazo\n"
      ],
      "id": "4caef9e4"
    },
    {
      "cell_type": "code",
      "metadata": {},
      "source": [
        "res_nivel_4(\n",
        "    \"ESE\",\"DE\",\n",
        "    \"Niv_Gr_3\",\n",
        "    \"04\",\n",
        "    \"Niv_Descr_1\")"
      ],
      "id": "101d4f3d",
      "execution_count": null,
      "outputs": []
    },
    {
      "cell_type": "markdown",
      "metadata": {},
      "source": [
        "* A corto plazo según el vencimiento original\n",
        "* A largo plazo exigible dentro de un año o antes\n",
        "* Deuda externa total a corto plazo\n"
      ],
      "id": "0155876f"
    },
    {
      "cell_type": "code",
      "metadata": {},
      "source": [
        "res_nivel_4(\n",
        "    \"ESE\",\"DE\",\n",
        "    \"Niv_Gr_3\",\n",
        "    \"04\",\n",
        "    \"Niv_Descr_2\")"
      ],
      "id": "29520a81",
      "execution_count": null,
      "outputs": []
    },
    {
      "cell_type": "markdown",
      "metadata": {},
      "source": [
        "* Asignación de Derechos especiales de giro\n",
        "* Moneda y depósitos\n",
        "* Tí­tulos de deuda\n",
        "* Préstamos\n",
        "* Créditos y anticipos comerciales\n",
        "* Otros pasivos de deuda\n",
        "* Deuda externa total a corto plazo (según el vencimiento residual)\n"
      ],
      "id": "64e113aa"
    },
    {
      "cell_type": "code",
      "metadata": {},
      "source": [
        "res_nivel_4(\n",
        "    \"ESE\",\"DE\",\n",
        "    \"Niv_Gr_3\",\n",
        "    \"04\",\n",
        "    \"Niv_Descr_3\")"
      ],
      "id": "a787ca69",
      "execution_count": null,
      "outputs": []
    },
    {
      "cell_type": "markdown",
      "metadata": {},
      "source": [
        "Para ver todas las variables:\n"
      ],
      "id": "2d260637"
    },
    {
      "cell_type": "code",
      "metadata": {},
      "source": [
        "res_nivel_7(\n",
        "    \"ESE\",\"DE\",\n",
        "    \"Niv_Gr_3\",\n",
        "    \"04\",\n",
        "    \"Id\",\"Niv_Descr_1\",\"Niv_Descr_2\",\"Niv_Descr_3\").sort(\"Id\")"
      ],
      "id": "a47c52a0",
      "execution_count": null,
      "outputs": []
    },
    {
      "cell_type": "markdown",
      "metadata": {},
      "source": [
        "**OJO: REVISAR LA CONSULTA A PARTIR DE 7392 HASTA 7446**\n",
        "\n",
        "Resultados de una sola variable:\n"
      ],
      "id": "a4e80548"
    },
    {
      "cell_type": "code",
      "metadata": {},
      "source": [
        "Id = 7447 # 7392 - 7446\n",
        "df = get_df(Id)\n",
        "# get_plot(Id)\n",
        "df"
      ],
      "id": "3d4db49b",
      "execution_count": null,
      "outputs": []
    },
    {
      "cell_type": "markdown",
      "metadata": {},
      "source": [
        "#### CEB = Comercio Exterior de Bienes\n"
      ],
      "id": "0ea0c830"
    },
    {
      "cell_type": "code",
      "metadata": {},
      "source": [
        "res_nivel_3(\"ESE\",\"CEB\",\"Niv_Gr_3\")"
      ],
      "id": "8b5f1b93",
      "execution_count": null,
      "outputs": []
    },
    {
      "cell_type": "markdown",
      "metadata": {},
      "source": [
        "##### 01 - Productos\n",
        "\n",
        "* Banano\n",
        "* Café\n",
        "* Aceite de Palma\n",
        "* Camarones\n",
        "* Melones y Sandí­as\n",
        "* Legumbres y Hortalizas\n",
        "* Puros o Cigarros\n",
        "* Textiles\n",
        "* Jabones\n",
        "* Plásticos y su Manufacturas\n",
        "* Papel y Cartón\n"
      ],
      "id": "cda7019b"
    },
    {
      "cell_type": "code",
      "metadata": {},
      "source": [
        "res_nivel_4(\n",
        "    \"ESE\",\"CEB\",\n",
        "    \"Niv_Gr_3\",\n",
        "    \"01\",\n",
        "    \"Niv_Descr_5\")"
      ],
      "id": "315c24a4",
      "execution_count": null,
      "outputs": []
    },
    {
      "cell_type": "markdown",
      "metadata": {},
      "source": [
        "* Volumen\n",
        "* Valor\n",
        "* Precio\n"
      ],
      "id": "222bdc06"
    },
    {
      "cell_type": "code",
      "metadata": {},
      "source": [
        "res_nivel_4(\n",
        "    \"ESE\",\"CEB\",\n",
        "    \"Niv_Gr_3\",\n",
        "    \"01\",\n",
        "    \"Niv_Descr_6\")"
      ],
      "id": "a3468972",
      "execution_count": null,
      "outputs": []
    },
    {
      "cell_type": "markdown",
      "metadata": {},
      "source": [
        "* Trimestral\n",
        "* Anual\n"
      ],
      "id": "1c3ad9c6"
    },
    {
      "cell_type": "code",
      "metadata": {},
      "source": [
        "res_nivel_4(\n",
        "    \"ESE\",\"CEB\",\n",
        "    \"Niv_Gr_3\",\n",
        "    \"01\",\n",
        "    \"Niv_Descr_7\")"
      ],
      "id": "65e5545b",
      "execution_count": null,
      "outputs": []
    },
    {
      "cell_type": "markdown",
      "metadata": {},
      "source": [
        "**OJO: \"Niv_Descr_7\" y \"Niv_Descr_8\" son iguales**\n",
        "\n",
        "Para ver todas las variables:\n"
      ],
      "id": "9269a1d2"
    },
    {
      "cell_type": "code",
      "metadata": {},
      "source": [
        "res_nivel_7(\n",
        "    \"ESE\",\"CEB\",\n",
        "    \"Niv_Gr_3\",\n",
        "    \"01\",\"Id\",\"Niv_Descr_5\",\"Niv_Descr_6\",\"Niv_Descr_7\")"
      ],
      "id": "04e69131",
      "execution_count": null,
      "outputs": []
    },
    {
      "cell_type": "markdown",
      "metadata": {},
      "source": [
        "Resultados de una sola variable:\n"
      ],
      "id": "da745d61"
    },
    {
      "cell_type": "code",
      "metadata": {},
      "source": [
        "Id = 441\n",
        "df = get_df(Id)\n",
        "get_plot(Id)\n",
        "df"
      ],
      "id": "c209ca05",
      "execution_count": null,
      "outputs": []
    },
    {
      "cell_type": "markdown",
      "metadata": {},
      "source": [
        "##### 02 - Combustibles\n",
        "\n",
        "* Gasolina regular\n",
        "* Bunker\n",
        "* Diesel\n",
        "* Total combustibles\n",
        "* Gasolina superior\n",
        "* Kerosene\n",
        "* LPG\n"
      ],
      "id": "166f05ca"
    },
    {
      "cell_type": "code",
      "metadata": {},
      "source": [
        "res_nivel_4(\n",
        "    \"ESE\",\"CEB\",\n",
        "    \"Niv_Gr_3\",\n",
        "    \"02\",\n",
        "    \"Niv_Descr_5\")"
      ],
      "id": "b99fd773",
      "execution_count": null,
      "outputs": []
    },
    {
      "cell_type": "markdown",
      "metadata": {},
      "source": [
        "* Barriles\n",
        "* Valor\n",
        "* Precio\n"
      ],
      "id": "0799a00c"
    },
    {
      "cell_type": "code",
      "metadata": {},
      "source": [
        "res_nivel_4(\n",
        "    \"ESE\",\"CEB\",\n",
        "    \"Niv_Gr_3\",\n",
        "    \"02\",\n",
        "    \"Niv_Descr_6\")"
      ],
      "id": "99f0485a",
      "execution_count": null,
      "outputs": []
    },
    {
      "cell_type": "markdown",
      "metadata": {},
      "source": [
        "Para ver todas las variables:\n"
      ],
      "id": "2b47db69"
    },
    {
      "cell_type": "code",
      "metadata": {},
      "source": [
        "res_nivel_7(\n",
        "    \"ESE\",\"CEB\",\n",
        "    \"Niv_Gr_3\",\n",
        "    \"02\",\"Id\",\"Nombre\",\"Niv_Descr_5\",\"Niv_Descr_6\")"
      ],
      "id": "917cfc37",
      "execution_count": null,
      "outputs": []
    },
    {
      "cell_type": "markdown",
      "metadata": {},
      "source": [
        "Resultados de una sola variable:\n"
      ],
      "id": "07147599"
    },
    {
      "cell_type": "code",
      "metadata": {},
      "source": [
        "Id = 503\n",
        "df = get_df(Id)\n",
        "get_plot(Id)\n",
        "df"
      ],
      "id": "0bf3b45b",
      "execution_count": null,
      "outputs": []
    },
    {
      "cell_type": "markdown",
      "metadata": {},
      "source": [
        "##### 03\n",
        "\n",
        "* Importaciones AE \n",
        "* Importaciones BT Sección \n",
        "* Importaciones Secciones \n"
      ],
      "id": "fa58de2f"
    },
    {
      "cell_type": "code",
      "metadata": {},
      "source": [
        "res_nivel_4(\n",
        "    \"ESE\",\"CEB\",\n",
        "    \"Niv_Gr_3\",\n",
        "    \"03\",\n",
        "    \"Niv_Descr_1\")"
      ],
      "id": "1a567bac",
      "execution_count": null,
      "outputs": []
    },
    {
      "cell_type": "markdown",
      "metadata": {},
      "source": [
        "Los dos primeros grupos solamente tienen un nivel de descripción:\n",
        "\n",
        "###### Importaciones AE\n"
      ],
      "id": "e83cde48"
    },
    {
      "cell_type": "code",
      "metadata": {},
      "source": [
        "res_nivel_7(\n",
        "    \"ESE\",\"CEB\",\n",
        "    \"Niv_Gr_3\",\n",
        "    \"03\",\"Id\",\"Nombre\",\"Niv_Descr_1\",\"Niv_Descr_2\"\n",
        "    ).filter(\n",
        "    pl.col(\"Niv_Descr_1\") == \"Importaciones AE \")"
      ],
      "id": "2ec26d64",
      "execution_count": null,
      "outputs": []
    },
    {
      "cell_type": "markdown",
      "metadata": {},
      "source": [
        "###### Importaciones BT Sección \n"
      ],
      "id": "05d78631"
    },
    {
      "cell_type": "code",
      "metadata": {},
      "source": [
        "res_nivel_7(\n",
        "    \"ESE\",\"CEB\",\n",
        "    \"Niv_Gr_3\",\n",
        "    \"03\",\"Id\",\"Nombre\",\"Niv_Descr_1\",\"Niv_Descr_2\"\n",
        "    ).filter(\n",
        "    pl.col(\"Niv_Descr_1\") == \"Importaciones BT Sección \")"
      ],
      "id": "83e87321",
      "execution_count": null,
      "outputs": []
    },
    {
      "cell_type": "markdown",
      "metadata": {},
      "source": [
        "El tercer grupo tiene dos niveles de descripción\n",
        "\n",
        "###### Importaciones Secciones \n",
        "\n",
        "* Valores en Millones de USD\n",
        "* Peso en Kilos\n"
      ],
      "id": "e75d34fe"
    },
    {
      "cell_type": "code",
      "metadata": {},
      "source": [
        "res_nivel_7(\n",
        "    \"ESE\",\"CEB\",\n",
        "    \"Niv_Gr_3\",\n",
        "    \"03\",\"Id\",\"Niv_Descr_1\",\"Niv_Descr_2\",\"Niv_Descr_3\"\n",
        "    ).filter(\n",
        "    pl.col(\"Niv_Descr_1\") == \"Importaciones Secciones \")"
      ],
      "id": "8fccd09a",
      "execution_count": null,
      "outputs": []
    },
    {
      "cell_type": "markdown",
      "metadata": {},
      "source": [
        "Para ver todas las variables:\n"
      ],
      "id": "348b31bc"
    },
    {
      "cell_type": "code",
      "metadata": {},
      "source": [
        "res_nivel_7(\n",
        "    \"ESE\",\"CEB\",\n",
        "    \"Niv_Gr_3\",\n",
        "    \"03\",\"Id\",\"Niv_Descr_1\",\"Niv_Descr_2\",\"Niv_Descr_3\"\n",
        "    )"
      ],
      "id": "39195d91",
      "execution_count": null,
      "outputs": []
    },
    {
      "cell_type": "markdown",
      "metadata": {},
      "source": [
        "Resultados de una sola variable:\n"
      ],
      "id": "01677f3f"
    },
    {
      "cell_type": "code",
      "metadata": {},
      "source": [
        "Id = 6517\n",
        "df = get_df(Id)\n",
        "# get_plot(Id)\n",
        "df"
      ],
      "id": "8efe0a22",
      "execution_count": null,
      "outputs": []
    },
    {
      "cell_type": "markdown",
      "metadata": {},
      "source": [
        "##### 04 AE y BT\n",
        "\n",
        "* Exportaciones AE\n",
        "* Exportaciones BT\n"
      ],
      "id": "ffeae116"
    },
    {
      "cell_type": "code",
      "metadata": {},
      "source": [
        "res_nivel_4(\n",
        "    \"ESE\",\"CEB\",\n",
        "    \"Niv_Gr_3\",\n",
        "    \"04\",\n",
        "    \"Niv_Descr_1\")"
      ],
      "id": "d5bee777",
      "execution_count": null,
      "outputs": []
    },
    {
      "cell_type": "markdown",
      "metadata": {},
      "source": [
        "* Producto\n",
        "* Grupo Producto\n"
      ],
      "id": "16946d37"
    },
    {
      "cell_type": "code",
      "metadata": {},
      "source": [
        "res_nivel_4(\n",
        "    \"ESE\",\"CEB\",\n",
        "    \"Niv_Gr_3\",\n",
        "    \"04\",\n",
        "    \"Niv_Descr_2\")"
      ],
      "id": "e9d850f8",
      "execution_count": null,
      "outputs": []
    },
    {
      "cell_type": "markdown",
      "metadata": {},
      "source": [
        "Para ver todas las variables:\n"
      ],
      "id": "7fba8552"
    },
    {
      "cell_type": "code",
      "metadata": {},
      "source": [
        "res_nivel_7(\n",
        "    \"ESE\",\"CEB\",\n",
        "    \"Niv_Gr_3\",\n",
        "    \"04\",\"Id\",\"Niv_Descr_1\",\"Niv_Descr_2\",\"Niv_Descr_3\"\n",
        "    )"
      ],
      "id": "597c9641",
      "execution_count": null,
      "outputs": []
    },
    {
      "cell_type": "markdown",
      "metadata": {},
      "source": [
        "Resultados de una sola variable:\n"
      ],
      "id": "ab69c760"
    },
    {
      "cell_type": "code",
      "metadata": {},
      "source": [
        "Id = 6554\n",
        "df = get_df(Id)\n",
        "# get_plot(Id)\n",
        "df"
      ],
      "id": "a4a0ccf6",
      "execution_count": null,
      "outputs": []
    },
    {
      "cell_type": "markdown",
      "metadata": {},
      "source": [
        "#### BP = Balanza de Pagos\n"
      ],
      "id": "2ee09c84"
    },
    {
      "cell_type": "code",
      "metadata": {},
      "source": [
        "res_nivel_3(\"ESE\",\"BP\",\"Niv_Gr_3\")"
      ],
      "id": "bb61e9e9",
      "execution_count": null,
      "outputs": []
    },
    {
      "cell_type": "markdown",
      "metadata": {},
      "source": [
        "* Anual\n",
        "* Mensual\n"
      ],
      "id": "a8d68835"
    },
    {
      "cell_type": "code",
      "metadata": {},
      "source": [
        "res_nivel_4(\n",
        "    \"ESE\",\"BP\",\n",
        "    \"Niv_Gr_3\",\n",
        "    \"01\",\n",
        "    \"Niv_Descr_2\")"
      ],
      "id": "4758a678",
      "execution_count": null,
      "outputs": []
    },
    {
      "cell_type": "markdown",
      "metadata": {},
      "source": [
        "Por Componentes:\n"
      ],
      "id": "dbc5bfb1"
    },
    {
      "cell_type": "code",
      "metadata": {},
      "source": [
        "res_nivel_4(\n",
        "    \"ESE\",\"BP\",\n",
        "    \"Niv_Gr_3\",\n",
        "    \"01\",\n",
        "    \"Niv_Descr_1\")"
      ],
      "id": "d17659ec",
      "execution_count": null,
      "outputs": []
    },
    {
      "cell_type": "markdown",
      "metadata": {},
      "source": [
        "Para ver todas las variables:\n"
      ],
      "id": "4c20cb7d"
    },
    {
      "cell_type": "code",
      "metadata": {},
      "source": [
        "res_nivel_7(\n",
        "    \"ESE\",\"BP\",\n",
        "    \"Niv_Gr_3\",\n",
        "    \"01\",\"Id\",\"Nombre\",\"Niv_Descr_2\",\"Niv_Descr_1\").sort(\"Niv_Descr_2\")"
      ],
      "id": "d416af16",
      "execution_count": null,
      "outputs": []
    },
    {
      "cell_type": "markdown",
      "metadata": {},
      "source": [
        "Resultados de una sola variable:\n"
      ],
      "id": "a8b5cf7f"
    },
    {
      "cell_type": "code",
      "metadata": {},
      "source": [
        "Id = 6292\n",
        "df = get_df(Id)\n",
        "# get_plot(Id)\n",
        "df"
      ],
      "id": "1032c1c6",
      "execution_count": null,
      "outputs": []
    },
    {
      "cell_type": "markdown",
      "metadata": {},
      "source": [
        "#### IES - Ingresos y Egresos de Servicios\n"
      ],
      "id": "95fd6410"
    },
    {
      "cell_type": "code",
      "metadata": {},
      "source": [
        "res_nivel_3(\"ESE\",\"IES\",\"Niv_Gr_3\")"
      ],
      "id": "5675372a",
      "execution_count": null,
      "outputs": []
    },
    {
      "cell_type": "markdown",
      "metadata": {},
      "source": [
        "Periodicidad:\n",
        "\n",
        "* Anual\n",
        "* Trimestral\n"
      ],
      "id": "316ea6be"
    },
    {
      "cell_type": "code",
      "metadata": {},
      "source": [
        "res_nivel_4(\n",
        "    \"ESE\",\"IES\",\n",
        "    \"Niv_Descr_3\",\n",
        "    \"01\",\"Niv_Descr_5\")"
      ],
      "id": "cc5fbdd5",
      "execution_count": null,
      "outputs": []
    },
    {
      "cell_type": "markdown",
      "metadata": {},
      "source": [
        "Ingresos y Egresos:\n",
        "\n",
        "* Exportaciones (Ingresos)\n",
        "* Importaciones (Egresos)\n"
      ],
      "id": "d326f2e0"
    },
    {
      "cell_type": "code",
      "metadata": {},
      "source": [
        "res_nivel_4(\n",
        "    \"ESE\",\"IES\",\n",
        "    \"Niv_Descr_3\",\n",
        "    \"01\",\"Niv_Descr_6\")"
      ],
      "id": "7aacc713",
      "execution_count": null,
      "outputs": []
    },
    {
      "cell_type": "markdown",
      "metadata": {},
      "source": [
        "Variables:\n",
        "\n",
        "* Transporte\n",
        "* Viajes\n",
        "* Servicios de Comunicaciones\n",
        "* Otros Servicios Empresariales\n",
        "* Servicios de Gobierno\n",
        "* Otros Servicios\n",
        "* Servicios de Seguro\n",
        "* Servicios de InformÃ¡tica e Información\n",
        "* Servicios de RegalÃ­as y Derechos de Licencia\n"
      ],
      "id": "4287530d"
    },
    {
      "cell_type": "code",
      "metadata": {},
      "source": [
        "res_nivel_4(\n",
        "    \"ESE\",\"IES\",\n",
        "    \"Niv_Descr_3\",\n",
        "    \"01\",\"Niv_Descr_7\")"
      ],
      "id": "55f76d6c",
      "execution_count": null,
      "outputs": []
    },
    {
      "cell_type": "markdown",
      "metadata": {},
      "source": [
        "Para ver todas las variables:\n"
      ],
      "id": "c234822a"
    },
    {
      "cell_type": "code",
      "metadata": {},
      "source": [
        "res_nivel_7(\n",
        "    \"ESE\",\"IES\",\n",
        "    \"Niv_Gr_3\",\n",
        "    \"01\",\"Id\",\"Niv_Descr_5\",\"Niv_Descr_6\",\"Niv_Descr_7\")"
      ],
      "id": "c656255d",
      "execution_count": null,
      "outputs": []
    },
    {
      "cell_type": "markdown",
      "metadata": {},
      "source": [
        "Resultados de una sola variable:\n"
      ],
      "id": "8a949587"
    },
    {
      "cell_type": "code",
      "metadata": {},
      "source": [
        "Id = 388\n",
        "# df = get_df(Id)\n",
        "get_plot(Id)\n",
        "df"
      ],
      "id": "545063c5",
      "execution_count": null,
      "outputs": []
    },
    {
      "cell_type": "markdown",
      "metadata": {},
      "source": [
        "#### PII = Posición de Inversión Inernacional\n"
      ],
      "id": "1add29a5"
    },
    {
      "cell_type": "code",
      "metadata": {},
      "source": [
        "res_nivel_3(\"ESE\",\"PII\",\"Niv_Gr_3\")"
      ],
      "id": "0331e1bb",
      "execution_count": null,
      "outputs": []
    },
    {
      "cell_type": "markdown",
      "metadata": {},
      "source": [
        "Agrupación:\n",
        "\n",
        "* Posición de Inversión Internacional por Categorí­a  \n",
        "* Posición de los Activos Financieros con no Residentes por Componente \n",
        "* Posición de los Pasivos Financieros con no Residentes por Componente \n",
        "* Posición de Inversión Internacional Neta por Componente \n"
      ],
      "id": "19f63f9e"
    },
    {
      "cell_type": "code",
      "metadata": {},
      "source": [
        "res_nivel_4(\n",
        "    \"ESE\",\"PII\",\n",
        "    \"Niv_Gr_3\",\n",
        "    \"01\",\"Niv_Descr_5\")"
      ],
      "id": "b53898fc",
      "execution_count": null,
      "outputs": []
    },
    {
      "cell_type": "markdown",
      "metadata": {},
      "source": [
        "Cuentas:\n",
        "\n",
        "* Activos \n",
        "* Pasivos\n",
        "* PII Neta\n",
        "* Inversió³n extranjera directa\n",
        "* Inversión de cartera\n",
        "* Derivados financieros\n",
        "* Otra inversión\n",
        "* Activos de reservas lí­quidos oficiales\n"
      ],
      "id": "7a810a8e"
    },
    {
      "cell_type": "code",
      "metadata": {},
      "source": [
        "res_nivel_4(\n",
        "    \"ESE\",\"PII\",\n",
        "    \"Niv_Gr_3\",\n",
        "    \"01\",\"Niv_Descr_6\")"
      ],
      "id": "9ee8294a",
      "execution_count": null,
      "outputs": []
    },
    {
      "cell_type": "markdown",
      "metadata": {},
      "source": [
        "Para ver todas las variables:\n"
      ],
      "id": "0ca06763"
    },
    {
      "cell_type": "code",
      "metadata": {},
      "source": [
        "res_nivel_7(\n",
        "    \"ESE\",\"PII\",\n",
        "    \"Niv_Gr_3\",\n",
        "    \"01\",\"Id\",\"Nombre\",\"Niv_Descr_5\",\"Niv_Descr_6\")"
      ],
      "id": "0d8c556c",
      "execution_count": null,
      "outputs": []
    },
    {
      "cell_type": "markdown",
      "metadata": {},
      "source": [
        "Resultados de una sola variable:\n"
      ],
      "id": "2de4c39b"
    },
    {
      "cell_type": "code",
      "metadata": {},
      "source": [
        "Id = 496\n",
        "df = get_df(Id)\n",
        "# get_plot(Id)\n",
        "df"
      ],
      "id": "32d440c4",
      "execution_count": null,
      "outputs": []
    },
    {
      "cell_type": "markdown",
      "metadata": {},
      "source": [
        "#### IED = Inversión Extranjera Directa\n"
      ],
      "id": "cd4d716f"
    },
    {
      "cell_type": "code",
      "metadata": {},
      "source": [
        "res_nivel_3(\"ESE\",\"IED\",\"Niv_Gr_3\")"
      ],
      "id": "76176490",
      "execution_count": null,
      "outputs": []
    },
    {
      "cell_type": "markdown",
      "metadata": {},
      "source": [
        "Para ver todas las variables:\n"
      ],
      "id": "aef7fda4"
    },
    {
      "cell_type": "code",
      "metadata": {},
      "source": [
        "res_nivel_6(\n",
        "    \"ESE\",\"IED\",\n",
        "    \"Niv_Gr_3\",\n",
        "    \"01\",\"Id\",\"Nombre\",\"Niv_Descr_4\")"
      ],
      "id": "2f69fa18",
      "execution_count": null,
      "outputs": []
    },
    {
      "cell_type": "markdown",
      "metadata": {},
      "source": [
        "Resultados de una sola variable:\n"
      ],
      "id": "aac8fcab"
    },
    {
      "cell_type": "code",
      "metadata": {},
      "source": [
        "Id = 409\n",
        "df = get_df(Id)\n",
        "# get_plot(Id)\n",
        "df"
      ],
      "id": "71716f35",
      "execution_count": null,
      "outputs": []
    },
    {
      "cell_type": "markdown",
      "metadata": {},
      "source": [
        "### EMF = Estadísiticas Monetarias y Financieras\n"
      ],
      "id": "124472a4"
    },
    {
      "cell_type": "code",
      "metadata": {},
      "source": [
        "res_nivel_2(\"EMF\")"
      ],
      "id": "26997b97",
      "execution_count": null,
      "outputs": []
    },
    {
      "cell_type": "markdown",
      "metadata": {},
      "source": [
        "#### AMCC = Agregados Monetarios, Crédito y Captación\n"
      ],
      "id": "c3e1532a"
    },
    {
      "cell_type": "code",
      "metadata": {},
      "source": [
        "res_nivel_3(\"EMF\",\"AMCC\",\"Niv_Gr_3\").sort(\"Niv_Gr_3\")"
      ],
      "id": "522cac19",
      "execution_count": null,
      "outputs": []
    },
    {
      "cell_type": "markdown",
      "metadata": {},
      "source": [
        "##### 01 Agregados Monetarios, Crédito y Captación\n",
        "\n",
        "Grupos:\n"
      ],
      "id": "13b19dc4"
    },
    {
      "cell_type": "code",
      "metadata": {},
      "source": [
        "res_nivel_4(\n",
        "    \"EMF\",\"AMCC\",\n",
        "    \"Niv_Gr_3\",\"01\",\n",
        "    \"Niv_Descr_5\")"
      ],
      "id": "ef01d502",
      "execution_count": null,
      "outputs": []
    },
    {
      "cell_type": "markdown",
      "metadata": {},
      "source": [
        "Variables:\n"
      ],
      "id": "da6472d2"
    },
    {
      "cell_type": "code",
      "metadata": {},
      "source": [
        "res_nivel_4(\n",
        "    \"EMF\",\"AMCC\",\n",
        "    \"Niv_Gr_3\",\"01\",\n",
        "    \"Niv_Descr_6\")"
      ],
      "id": "3438b410",
      "execution_count": null,
      "outputs": []
    },
    {
      "cell_type": "markdown",
      "metadata": {},
      "source": [
        "Para ver todas las variables:\n"
      ],
      "id": "691f5e6c"
    },
    {
      "cell_type": "code",
      "metadata": {},
      "source": [
        "res_nivel_7(\n",
        "    \"EMF\",\"AMCC\",\n",
        "    \"Niv_Gr_3\",\"01\",\n",
        "    \"Id\",\"Niv_Descr_5\",\"Niv_Descr_6\",\"Niv_Descr_4\")"
      ],
      "id": "a2565b48",
      "execution_count": null,
      "outputs": []
    },
    {
      "cell_type": "markdown",
      "metadata": {},
      "source": [
        "Resultados de una sola variable:\n"
      ],
      "id": "9554d17e"
    },
    {
      "cell_type": "code",
      "metadata": {},
      "source": [
        "Id = 548\n",
        "# df = get_df(Id)\n",
        "get_plot(Id)\n",
        "df"
      ],
      "id": "0532e789",
      "execution_count": null,
      "outputs": []
    },
    {
      "cell_type": "markdown",
      "metadata": {},
      "source": [
        "##### 02 Captación: Bancos Comerciales y Otras Sociedades de Depósito (Variación y Saldo)\n"
      ],
      "id": "e3e93339"
    },
    {
      "cell_type": "code",
      "metadata": {},
      "source": [
        "res_nivel_4(\n",
        "    \"EMF\",\"AMCC\",\n",
        "    \"Niv_Gr_3\",\"02\",\n",
        "    \"Niv_Descr_1\")"
      ],
      "id": "b367792a",
      "execution_count": null,
      "outputs": []
    },
    {
      "cell_type": "code",
      "metadata": {},
      "source": [
        "res_nivel_4(\n",
        "    \"EMF\",\"AMCC\",\n",
        "    \"Niv_Gr_3\",\"02\",\n",
        "    \"Niv_Descr_3\")"
      ],
      "id": "f1a3ec72",
      "execution_count": null,
      "outputs": []
    },
    {
      "cell_type": "code",
      "metadata": {},
      "source": [
        "res_nivel_4(\n",
        "    \"EMF\",\"AMCC\",\n",
        "    \"Niv_Gr_3\",\"02\",\n",
        "    \"Niv_Descr_4\")"
      ],
      "id": "aebbfbfa",
      "execution_count": null,
      "outputs": []
    },
    {
      "cell_type": "markdown",
      "metadata": {},
      "source": [
        "Para ver todas las variables:\n"
      ],
      "id": "bec1146b"
    },
    {
      "cell_type": "code",
      "metadata": {},
      "source": [
        "res_nivel_7(\n",
        "    \"EMF\",\"AMCC\",\n",
        "    \"Niv_Gr_3\",\"02\",\n",
        "    \"Id\",\"Niv_Descr_1\",\"Niv_Descr_3\",\"Niv_Descr_4\")"
      ],
      "id": "afae11f8",
      "execution_count": null,
      "outputs": []
    },
    {
      "cell_type": "markdown",
      "metadata": {},
      "source": [
        "Resultados de una sola variable:\n"
      ],
      "id": "287be847"
    },
    {
      "cell_type": "code",
      "metadata": {},
      "source": [
        "Id = 622\n",
        "df = get_df(Id)\n",
        "# get_plot(Id)\n",
        "df"
      ],
      "id": "1b724890",
      "execution_count": null,
      "outputs": []
    },
    {
      "cell_type": "markdown",
      "metadata": {},
      "source": [
        "##### 03 Crédito de los Bancos Comerciales\n"
      ],
      "id": "13f20ff0"
    },
    {
      "cell_type": "code",
      "metadata": {},
      "source": [
        "res_nivel_4(\n",
        "    \"EMF\",\"AMCC\",\n",
        "    \"Niv_Gr_3\",\"03\",\n",
        "    \"Niv_Descr_1\")"
      ],
      "id": "9fcbc6f2",
      "execution_count": null,
      "outputs": []
    },
    {
      "cell_type": "code",
      "metadata": {},
      "source": [
        "res_nivel_4(\n",
        "    \"EMF\",\"AMCC\",\n",
        "    \"Niv_Gr_3\",\"03\",\n",
        "    \"Niv_Descr_4\")"
      ],
      "id": "0cfeff4b",
      "execution_count": null,
      "outputs": []
    },
    {
      "cell_type": "code",
      "metadata": {},
      "source": [
        "res_nivel_4(\n",
        "    \"EMF\",\"AMCC\",\n",
        "    \"Niv_Gr_3\",\"03\",\n",
        "    \"Niv_Descr_3\")"
      ],
      "id": "2f2196f8",
      "execution_count": null,
      "outputs": []
    },
    {
      "cell_type": "markdown",
      "metadata": {},
      "source": [
        "Para ver todas las variables:\n"
      ],
      "id": "6d28e4d6"
    },
    {
      "cell_type": "code",
      "metadata": {},
      "source": [
        "res_nivel_7(\n",
        "    \"EMF\",\"AMCC\",\n",
        "    \"Niv_Gr_3\",\"03\",\n",
        "    \"Id\",\"Niv_Descr_1\",\"Niv_Descr_3\",\"Niv_Descr_4\")"
      ],
      "id": "57ec73f7",
      "execution_count": null,
      "outputs": []
    },
    {
      "cell_type": "markdown",
      "metadata": {},
      "source": [
        "Resultados de una sola variable:\n"
      ],
      "id": "6451b386"
    },
    {
      "cell_type": "code",
      "metadata": {},
      "source": [
        "Id = 638\n",
        "df = get_df(Id)\n",
        "# get_plot(Id)\n",
        "df"
      ],
      "id": "a8c1c531",
      "execution_count": null,
      "outputs": []
    },
    {
      "cell_type": "markdown",
      "metadata": {},
      "source": [
        "##### 04 Crédito Otras Sociedades de Depósito\n"
      ],
      "id": "de417ef2"
    },
    {
      "cell_type": "code",
      "metadata": {},
      "source": [
        "res_nivel_4(\n",
        "    \"EMF\",\"AMCC\",\n",
        "    \"Niv_Gr_3\",\"04\",\n",
        "    \"Niv_Descr_1\")"
      ],
      "id": "46c09bfa",
      "execution_count": null,
      "outputs": []
    },
    {
      "cell_type": "code",
      "metadata": {},
      "source": [
        "res_nivel_5(\n",
        "    \"EMF\",\"AMCC\",\n",
        "    \"Niv_Gr_3\",\"04\",\n",
        "    \"Niv_Descr_3\",\"Niv_Descr_4\")"
      ],
      "id": "9800c323",
      "execution_count": null,
      "outputs": []
    },
    {
      "cell_type": "markdown",
      "metadata": {},
      "source": [
        "Para ver todas las variables:\n"
      ],
      "id": "2f97fc14"
    },
    {
      "cell_type": "code",
      "metadata": {},
      "source": [
        "res_nivel_7(\n",
        "    \"EMF\",\"AMCC\",\n",
        "    \"Niv_Gr_3\",\"04\",\n",
        "    \"Id\",\"Niv_Descr_1\",\"Niv_Descr_3\",\"Niv_Descr_4\")"
      ],
      "id": "403cdd7b",
      "execution_count": null,
      "outputs": []
    },
    {
      "cell_type": "markdown",
      "metadata": {},
      "source": [
        "Resultados de una sola variable:\n"
      ],
      "id": "f2c28a04"
    },
    {
      "cell_type": "code",
      "metadata": {},
      "source": [
        "Id = 648\n",
        "df = get_df(Id)\n",
        "# get_plot(Id)\n",
        "df"
      ],
      "id": "b5adcbb8",
      "execution_count": null,
      "outputs": []
    },
    {
      "cell_type": "markdown",
      "metadata": {},
      "source": [
        "##### 05 Saldo de Préstamos (Millones de Lempiras)\n"
      ],
      "id": "580db82e"
    },
    {
      "cell_type": "code",
      "metadata": {},
      "source": [
        "res_nivel_4(\n",
        "    \"EMF\",\"AMCC\",\n",
        "    \"Niv_Gr_3\",\"05\",\n",
        "    \"Niv_Descr_1\")"
      ],
      "id": "22875ef6",
      "execution_count": null,
      "outputs": []
    },
    {
      "cell_type": "markdown",
      "metadata": {},
      "source": [
        "* Variación\n",
        "* Saldo\n",
        "\n",
        "De los siguientes sectores:\n",
        "\n",
        "* Agropecuaria\n",
        "* Comercio\n",
        "* Consumo\n",
        "* Industria\n",
        "* Propiedad Raí­z\n",
        "* Servicios\n",
        "* Total\n",
        "\n",
        "Para ver todas las variables:\n"
      ],
      "id": "edec179e"
    },
    {
      "cell_type": "code",
      "metadata": {},
      "source": [
        "res_nivel_7(\n",
        "    \"EMF\",\"AMCC\",\n",
        "    \"Niv_Gr_3\",\"05\",\n",
        "    \"Id\",\"Niv_Descr_1\",\"Niv_Descr_3\",\"Niv_Descr_4\").sort(\"Niv_Descr_4\")"
      ],
      "id": "f9ceb5be",
      "execution_count": null,
      "outputs": []
    },
    {
      "cell_type": "markdown",
      "metadata": {},
      "source": [
        "Resultados de una sola variable:\n"
      ],
      "id": "2e10b551"
    },
    {
      "cell_type": "code",
      "metadata": {},
      "source": [
        "Id = 650\n",
        "df = get_df(Id)\n",
        "# get_plot(Id)\n",
        "df"
      ],
      "id": "8055b7c4",
      "execution_count": null,
      "outputs": []
    },
    {
      "cell_type": "markdown",
      "metadata": {},
      "source": [
        "##### 06 Préstamos Nuevos (Flujos acumulados en millones de lempiras)\n"
      ],
      "id": "071d1c03"
    },
    {
      "cell_type": "code",
      "metadata": {},
      "source": [
        "res_nivel_4(\n",
        "    \"EMF\",\"AMCC\",\n",
        "    \"Niv_Gr_3\",\"06\",\n",
        "    \"Niv_Descr_1\")"
      ],
      "id": "4f44bf1b",
      "execution_count": null,
      "outputs": []
    },
    {
      "cell_type": "markdown",
      "metadata": {},
      "source": [
        "* Variación\n",
        "* Saldo\n",
        "\n",
        "De los siguientes sectores:\n",
        "\n",
        "* Agropecuaria\n",
        "* Comercio\n",
        "* Consumo\n",
        "* Industria\n",
        "* Propiedad Raí­z\n",
        "* Servicios\n",
        "* Total\n"
      ],
      "id": "4760006a"
    },
    {
      "cell_type": "code",
      "metadata": {},
      "source": [
        "res_nivel_5(\n",
        "    \"EMF\",\"AMCC\",\n",
        "    \"Niv_Gr_3\",\"06\",\n",
        "    \"Niv_Descr_1\",\"Niv_Descr_4\")"
      ],
      "id": "ac09c113",
      "execution_count": null,
      "outputs": []
    },
    {
      "cell_type": "markdown",
      "metadata": {},
      "source": [
        "Para ver todas las variables:\n"
      ],
      "id": "ff6ed2f7"
    },
    {
      "cell_type": "code",
      "metadata": {},
      "source": [
        "res_nivel_7(\n",
        "    \"EMF\",\"AMCC\",\n",
        "    \"Niv_Gr_3\",\"06\",\n",
        "    \"Id\",\"Niv_Descr_1\",\"Niv_Descr_3\",\"Niv_Descr_4\").sort(\"Niv_Descr_4\")"
      ],
      "id": "4bb79660",
      "execution_count": null,
      "outputs": []
    },
    {
      "cell_type": "markdown",
      "metadata": {},
      "source": [
        "Resultados de una sola variable:\n"
      ],
      "id": "4a878a0e"
    },
    {
      "cell_type": "code",
      "metadata": {},
      "source": [
        "Id = 663\n",
        "df = get_df(Id)\n",
        "# get_plot(Id)\n",
        "df"
      ],
      "id": "470b4f7d",
      "execution_count": null,
      "outputs": []
    },
    {
      "cell_type": "markdown",
      "metadata": {},
      "source": [
        "#### TI = Tasas de Interés\n"
      ],
      "id": "ddce7f2c"
    },
    {
      "cell_type": "code",
      "metadata": {},
      "source": [
        "res_nivel_3(\"EMF\",\"TI\",\"Niv_Gr_3\").sort(\"Niv_Gr_3\")"
      ],
      "id": "df6d8204",
      "execution_count": null,
      "outputs": []
    },
    {
      "cell_type": "markdown",
      "metadata": {},
      "source": [
        "##### 01 Tasas de Interés, Activa y Pasiva, por Moneda\n",
        "\n",
        "Por Tipo:\n",
        "\n",
        "* Activa Préstamos \n",
        "* Pasiva Ahorros \n",
        "* Pasiva Cheques \n",
        "* Pasiva Plazo \n"
      ],
      "id": "86b1482e"
    },
    {
      "cell_type": "code",
      "metadata": {},
      "source": [
        "res_nivel_4(\n",
        "    \"EMF\",\"TI\",\n",
        "    \"Niv_Gr_3\",\"01\",\n",
        "    \"Niv_Descr_5\")"
      ],
      "id": "32ba2ceb",
      "execution_count": null,
      "outputs": []
    },
    {
      "cell_type": "markdown",
      "metadata": {},
      "source": [
        "Por Moneda:\n",
        "\n",
        "* Moneda Nacional\n",
        "* Moneda Extranjera\n",
        "\n",
        "Para ver todas las variables:\n"
      ],
      "id": "5548abd6"
    },
    {
      "cell_type": "code",
      "metadata": {},
      "source": [
        "res_nivel_7(\n",
        "    \"EMF\",\"TI\",\n",
        "    \"Niv_Gr_3\",\"01\",\n",
        "    \"Id\",\"Nombre\",\"Niv_Descr_5\",\"Niv_Descr_6\")"
      ],
      "id": "3d03db45",
      "execution_count": null,
      "outputs": []
    },
    {
      "cell_type": "markdown",
      "metadata": {},
      "source": [
        "Resultados de una sola variable:\n"
      ],
      "id": "5ec4b3b0"
    },
    {
      "cell_type": "code",
      "metadata": {},
      "source": [
        "Id = 587\n",
        "df = get_df(Id)\n",
        "# get_plot(Id)\n",
        "df"
      ],
      "id": "518a281d",
      "execution_count": null,
      "outputs": []
    },
    {
      "cell_type": "markdown",
      "metadata": {},
      "source": [
        "##### 02 Por Actividad\n"
      ],
      "id": "12ba24b2"
    },
    {
      "cell_type": "code",
      "metadata": {},
      "source": [
        "res_nivel_4(\n",
        "    \"EMF\",\"TI\",\n",
        "    \"Niv_Gr_3\",\"02\",\n",
        "    \"Niv_Descr_5\")"
      ],
      "id": "51ad3292",
      "execution_count": null,
      "outputs": []
    },
    {
      "cell_type": "markdown",
      "metadata": {},
      "source": [
        "Por Moneda:\n",
        "\n",
        "* Moneda Nacional\n",
        "* Moneda Extranjera\n"
      ],
      "id": "0112a8af"
    },
    {
      "cell_type": "code",
      "metadata": {},
      "source": [
        "res_nivel_5(\n",
        "    \"EMF\",\"TI\",\n",
        "    \"Niv_Gr_3\",\"02\",\n",
        "    \"Niv_Descr_1\",\"Niv_Descr_4\")"
      ],
      "id": "3f16c541",
      "execution_count": null,
      "outputs": []
    },
    {
      "cell_type": "markdown",
      "metadata": {},
      "source": [
        "Para ver todas las variables:\n"
      ],
      "id": "4e77a996"
    },
    {
      "cell_type": "code",
      "metadata": {},
      "source": [
        "res_nivel_7(\n",
        "    \"EMF\",\"TI\",\n",
        "    \"Niv_Gr_3\",\"02\",\n",
        "    \"Id\",\"Nombre\",\"Niv_Descr_5\",\"Niv_Descr_4\").sort(\"Niv_Descr_4\")"
      ],
      "id": "70195866",
      "execution_count": null,
      "outputs": []
    },
    {
      "cell_type": "markdown",
      "metadata": {},
      "source": [
        "Resultados de una sola variable:\n"
      ],
      "id": "4988f23d"
    },
    {
      "cell_type": "code",
      "metadata": {},
      "source": [
        "Id = 605\n",
        "df = get_df(Id)\n",
        "# get_plot(Id)\n",
        "df"
      ],
      "id": "4fb7e507",
      "execution_count": null,
      "outputs": []
    },
    {
      "cell_type": "markdown",
      "metadata": {},
      "source": [
        "##### 03 Tasas de Interés Anuales\n",
        "\n",
        "* Tasas de Interés Anuales Mí­nimas y Máximas del Sistema Bancario Comercial\n",
        "* Tasas de Interés Anuales Promedio Ponderadas del Sistema Financiero\n"
      ],
      "id": "abe7329e"
    },
    {
      "cell_type": "code",
      "metadata": {},
      "source": [
        "res_nivel_4(\n",
        "    \"EMF\",\"TI\",\n",
        "    \"Niv_Gr_3\",\"03\",\n",
        "    \"Niv_Descr_6\")"
      ],
      "id": "30740ec5",
      "execution_count": null,
      "outputs": []
    },
    {
      "cell_type": "markdown",
      "metadata": {},
      "source": [
        "* Activa\n",
        "* Pasiva\n",
        "\n",
        "Por Unidad de Medida:\n",
        "\n",
        "* Máxima\n",
        "* Mínima\n",
        "* Promedio\n",
        "\n",
        "Por Moneda:\n",
        "\n",
        "* Nacional\n",
        "* Extranjera\n",
        "\n",
        "Para ver todas las variables:\n"
      ],
      "id": "41d004c6"
    },
    {
      "cell_type": "code",
      "metadata": {},
      "source": [
        "res_nivel_7(\n",
        "    \"EMF\",\"TI\",\n",
        "    \"Niv_Gr_3\",\"03\",\n",
        "    \"Id\",\"Nombre\",\"Niv_Descr_6\",\"Niv_Descr_5\").sort(\"Niv_Descr_6\")"
      ],
      "id": "bf16b23a",
      "execution_count": null,
      "outputs": []
    },
    {
      "cell_type": "markdown",
      "metadata": {},
      "source": [
        "Resultados de una sola variable:\n"
      ],
      "id": "ab987186"
    },
    {
      "cell_type": "code",
      "metadata": {},
      "source": [
        "Id = 689\n",
        "df = get_df(Id)\n",
        "# get_plot(Id)\n",
        "df"
      ],
      "id": "bcef99d6",
      "execution_count": null,
      "outputs": []
    },
    {
      "cell_type": "markdown",
      "metadata": {},
      "source": [
        "#### PFS = Panorama de las Sociedades Financieras\n"
      ],
      "id": "3e1a8224"
    },
    {
      "cell_type": "code",
      "metadata": {},
      "source": [
        "res_nivel_3(\"EMF\",\"PFS\",\"Niv_Gr_3\").sort(\"Niv_Gr_3\")"
      ],
      "id": "4866e1f2",
      "execution_count": null,
      "outputs": []
    },
    {
      "cell_type": "markdown",
      "metadata": {},
      "source": [
        "##### 01 Bancos Comerciales, Activos y Pasivos Externos\n",
        "\n",
        "Para ver todas las variables:\n"
      ],
      "id": "a149a193"
    },
    {
      "cell_type": "code",
      "metadata": {},
      "source": [
        "res_nivel_7(\n",
        "    \"EMF\",\"PFS\",\n",
        "    \"Niv_Gr_3\",\"01\",\n",
        "    \"Id\",\"Nombre\",\"Niv_Descr_2\",\"Niv_Descr_1\").sort(\"Nombre\")"
      ],
      "id": "9743bc63",
      "execution_count": null,
      "outputs": []
    },
    {
      "cell_type": "markdown",
      "metadata": {},
      "source": [
        "Resultados de una sola variable:\n"
      ],
      "id": "bca0af45"
    },
    {
      "cell_type": "code",
      "metadata": {},
      "source": [
        "Id = 677\n",
        "df = get_df(Id)\n",
        "# get_plot(Id)\n",
        "df"
      ],
      "id": "3dd137b3",
      "execution_count": null,
      "outputs": []
    },
    {
      "cell_type": "markdown",
      "metadata": {},
      "source": [
        "##### 02 Activos y Pasivos Externos\n"
      ],
      "id": "044601ec"
    },
    {
      "cell_type": "code",
      "metadata": {},
      "source": [
        "res_nivel_4(\n",
        "    \"EMF\",\"PFS\",\n",
        "    \"Niv_Gr_3\",\"02\",\n",
        "    \"Niv_Descr_1\")"
      ],
      "id": "f1b59533",
      "execution_count": null,
      "outputs": []
    },
    {
      "cell_type": "code",
      "metadata": {},
      "source": [
        "res_nivel_4(\n",
        "    \"EMF\",\"PFS\",\n",
        "    \"Niv_Gr_3\",\"02\",\n",
        "    \"Niv_Descr_2\")"
      ],
      "id": "783568b4",
      "execution_count": null,
      "outputs": []
    },
    {
      "cell_type": "markdown",
      "metadata": {},
      "source": [
        "Para ver todas las variables:\n"
      ],
      "id": "94fd6e7b"
    },
    {
      "cell_type": "code",
      "metadata": {},
      "source": [
        "res_nivel_7(\n",
        "    \"EMF\",\"PFS\",\n",
        "    \"Niv_Gr_3\",\"02\",\n",
        "    \"Id\",\"Nombre\",\"Niv_Descr_1\",\"Niv_Descr_2\")"
      ],
      "id": "df423f56",
      "execution_count": null,
      "outputs": []
    },
    {
      "cell_type": "markdown",
      "metadata": {},
      "source": [
        "Resultados de una sola variable:\n"
      ],
      "id": "8344362d"
    },
    {
      "cell_type": "code",
      "metadata": {},
      "source": [
        "Id = 687\n",
        "df = get_df(Id)\n",
        "# get_plot(Id)\n",
        "df"
      ],
      "id": "f925645f",
      "execution_count": null,
      "outputs": []
    },
    {
      "cell_type": "markdown",
      "metadata": {},
      "source": [
        "#### EBM = Emisión y Base Monetaria\n"
      ],
      "id": "4d29f020"
    },
    {
      "cell_type": "code",
      "metadata": {},
      "source": [
        "res_nivel_3(\"EMF\",\"EBM\",\"Niv_Gr_3\").sort(\"Niv_Gr_3\")"
      ],
      "id": "60d9d33f",
      "execution_count": null,
      "outputs": []
    },
    {
      "cell_type": "code",
      "metadata": {},
      "source": [
        "res_nivel_4(\n",
        "    \"EMF\",\"EBM\",\n",
        "    \"Niv_Gr_3\",\"01\",\n",
        "    \"Niv_Descr_4\")"
      ],
      "id": "259a8566",
      "execution_count": null,
      "outputs": []
    },
    {
      "cell_type": "code",
      "metadata": {},
      "source": [
        "res_nivel_5(\n",
        "    \"EMF\",\"EBM\",\n",
        "    \"Niv_Gr_3\",\"01\",\n",
        "    \"Niv_Descr_4\",\"Niv_Descr_5\")"
      ],
      "id": "da9348f2",
      "execution_count": null,
      "outputs": []
    },
    {
      "cell_type": "markdown",
      "metadata": {},
      "source": [
        "Para ver todas las variables:\n"
      ],
      "id": "ad3d31cf"
    },
    {
      "cell_type": "code",
      "metadata": {},
      "source": [
        "res_nivel_7(\n",
        "    \"EMF\",\"EBM\",\n",
        "    \"Niv_Gr_3\",\"01\",\n",
        "    \"Id\",\"Nombre\",\"Niv_Descr_4\",\"Niv_Descr_5\")"
      ],
      "id": "51daf804",
      "execution_count": null,
      "outputs": []
    },
    {
      "cell_type": "markdown",
      "metadata": {},
      "source": [
        "Resultados de una sola variable:\n"
      ],
      "id": "0a250779"
    },
    {
      "cell_type": "code",
      "metadata": {},
      "source": [
        "Id = 523\n",
        "df = get_df(Id)\n",
        "# get_plot(Id)\n",
        "df"
      ],
      "id": "d403f58e",
      "execution_count": null,
      "outputs": []
    },
    {
      "cell_type": "markdown",
      "metadata": {},
      "source": [
        "### ESP = Estadísticas de Sistema de Pagos\n"
      ],
      "id": "080e5522"
    },
    {
      "cell_type": "code",
      "metadata": {},
      "source": [
        "res_nivel_2(\"ESP\")"
      ],
      "id": "adda19e4",
      "execution_count": null,
      "outputs": []
    },
    {
      "cell_type": "markdown",
      "metadata": {},
      "source": [
        "#### ACH = Operaciones de Crédito Compensadas en Ceproban y Liquidadas en BCH\n"
      ],
      "id": "a55fe306"
    },
    {
      "cell_type": "code",
      "metadata": {},
      "source": [
        "res_nivel_3(\"ESP\",\"ACH\",\"Niv_Gr_3\").sort(\"Niv_Gr_3\")"
      ],
      "id": "1efb9b69",
      "execution_count": null,
      "outputs": []
    },
    {
      "cell_type": "code",
      "metadata": {},
      "source": [
        "res_nivel_4(\n",
        "    \"ESP\",\"ACH\",\n",
        "    \"Niv_Gr_3\",\"01\",\n",
        "    \"Niv_Descr_5\")"
      ],
      "id": "d9b484ff",
      "execution_count": null,
      "outputs": []
    },
    {
      "cell_type": "code",
      "metadata": {},
      "source": [
        "res_nivel_4(\n",
        "    \"ESP\",\"ACH\",\n",
        "    \"Niv_Gr_3\",\"01\",\n",
        "    \"Niv_Descr_6\")"
      ],
      "id": "73ca2297",
      "execution_count": null,
      "outputs": []
    },
    {
      "cell_type": "markdown",
      "metadata": {},
      "source": [
        "Para ver todas las variables:\n"
      ],
      "id": "a7627087"
    },
    {
      "cell_type": "code",
      "metadata": {},
      "source": [
        "res_nivel_7(\n",
        "    \"ESP\",\"ACH\",\n",
        "    \"Niv_Gr_3\",\"01\",\n",
        "    \"Id\",\"Nombre\",\"Niv_Descr_5\",\"Niv_Descr_6\").sort(\"Nombre\")"
      ],
      "id": "e292c1ec",
      "execution_count": null,
      "outputs": []
    },
    {
      "cell_type": "markdown",
      "metadata": {},
      "source": [
        "Resultados de una sola variable:\n"
      ],
      "id": "5fc6e6cc"
    },
    {
      "cell_type": "code",
      "metadata": {},
      "source": [
        "Id = 611\n",
        "df = get_df(Id)\n",
        "# get_plot(Id)\n",
        "df"
      ],
      "id": "d9be5ac2",
      "execution_count": null,
      "outputs": []
    },
    {
      "cell_type": "markdown",
      "metadata": {},
      "source": [
        "#### CCECH = Cheques Compensados en Ceproban y Liquidados en BCH\n"
      ],
      "id": "9892a05f"
    },
    {
      "cell_type": "code",
      "metadata": {},
      "source": [
        "res_nivel_3(\"ESP\",\"CCECH\",\"Niv_Gr_3\")"
      ],
      "id": "718081df",
      "execution_count": null,
      "outputs": []
    },
    {
      "cell_type": "code",
      "metadata": {},
      "source": [
        "res_nivel_4(\n",
        "    \"ESP\",\"CCECH\",\n",
        "    \"Niv_Gr_3\",\"01\",\n",
        "    \"Niv_Descr_5\")"
      ],
      "id": "b87ba5c5",
      "execution_count": null,
      "outputs": []
    },
    {
      "cell_type": "code",
      "metadata": {},
      "source": [
        "res_nivel_4(\n",
        "    \"ESP\",\"CCECH\",\n",
        "    \"Niv_Gr_3\",\"01\",\n",
        "    \"Niv_Descr_6\")"
      ],
      "id": "a1e61815",
      "execution_count": null,
      "outputs": []
    },
    {
      "cell_type": "markdown",
      "metadata": {},
      "source": [
        "Para ver todas las variables:\n"
      ],
      "id": "18448d66"
    },
    {
      "cell_type": "code",
      "metadata": {},
      "source": [
        "res_nivel_7(\n",
        "    \"ESP\",\"CCECH\",\n",
        "    \"Niv_Gr_3\",\"01\",\n",
        "    \"Id\",\"Nombre\",\"Niv_Descr_5\",\"Niv_Descr_6\")"
      ],
      "id": "52de17fa",
      "execution_count": null,
      "outputs": []
    },
    {
      "cell_type": "markdown",
      "metadata": {},
      "source": [
        "Resultados de una sola variable:\n"
      ],
      "id": "ea559622"
    },
    {
      "cell_type": "code",
      "metadata": {},
      "source": [
        "Id = 615\n",
        "df = get_df(Id)\n",
        "# get_plot(Id)\n",
        "df"
      ],
      "id": "d325f5f9",
      "execution_count": null,
      "outputs": []
    },
    {
      "cell_type": "markdown",
      "metadata": {},
      "source": [
        "### EM = Estadísticas Monetarias (TPM y RIN)\n"
      ],
      "id": "3536c67e"
    },
    {
      "cell_type": "code",
      "metadata": {},
      "source": [
        "res_nivel_2(\"EM\")"
      ],
      "id": "c0b2924d",
      "execution_count": null,
      "outputs": []
    },
    {
      "cell_type": "markdown",
      "metadata": {},
      "source": [
        "#### RIN = Reservas Internacionales Netas\n"
      ],
      "id": "eb094b2d"
    },
    {
      "cell_type": "code",
      "metadata": {},
      "source": [
        "res_nivel_3(\"EM\",\"RIN\",\"Niv_Gr_3\").sort(\"Niv_Gr_3\")"
      ],
      "id": "4368458e",
      "execution_count": null,
      "outputs": []
    },
    {
      "cell_type": "markdown",
      "metadata": {},
      "source": [
        "* Saldo\n",
        "* Variación\n",
        "\n",
        "Variables:\n",
        "\n",
        "* Reservas Internacionales Netas\n",
        "* Activos de Reserva Oficial\n"
      ],
      "id": "119f4319"
    },
    {
      "cell_type": "code",
      "metadata": {},
      "source": [
        "res_nivel_4(\n",
        "    \"EM\",\"RIN\",\n",
        "    \"Niv_Gr_3\",\"01\",\n",
        "    \"Niv_Descr_4\")"
      ],
      "id": "ce183341",
      "execution_count": null,
      "outputs": []
    },
    {
      "cell_type": "code",
      "metadata": {},
      "source": [
        "res_nivel_4(\n",
        "    \"EM\",\"RIN\",\n",
        "    \"Niv_Gr_3\",\"01\",\n",
        "    \"Niv_Descr_5\")"
      ],
      "id": "f5893d69",
      "execution_count": null,
      "outputs": []
    },
    {
      "cell_type": "markdown",
      "metadata": {},
      "source": [
        "Para ver todas las variables:\n"
      ],
      "id": "bbef6b60"
    },
    {
      "cell_type": "code",
      "metadata": {},
      "source": [
        "res_nivel_7(\n",
        "    \"EM\",\"RIN\",\n",
        "    \"Niv_Gr_3\",\"01\",\n",
        "    \"Id\",\"Nombre\",\"Niv_Descr_4\",\"Niv_Descr_5\")"
      ],
      "id": "c57ec624",
      "execution_count": null,
      "outputs": []
    },
    {
      "cell_type": "markdown",
      "metadata": {},
      "source": [
        "Resultados de una sola variable:\n"
      ],
      "id": "0e5c93ab"
    },
    {
      "cell_type": "code",
      "metadata": {},
      "source": [
        "Id = 532\n",
        "df = get_df(Id)\n",
        "# get_plot(Id)\n",
        "df"
      ],
      "id": "28698158",
      "execution_count": null,
      "outputs": []
    },
    {
      "cell_type": "markdown",
      "metadata": {},
      "source": [
        "#### TPM = Tasa de Política Monetaria\n"
      ],
      "id": "dfbe75a5"
    },
    {
      "cell_type": "code",
      "metadata": {},
      "source": [
        "res_nivel_3(\"EM\",\"TPM\",\"Niv_Gr_3\")"
      ],
      "id": "4cdc342f",
      "execution_count": null,
      "outputs": []
    },
    {
      "cell_type": "markdown",
      "metadata": {},
      "source": [
        "Para ver todas las variables:\n"
      ],
      "id": "55545ffe"
    },
    {
      "cell_type": "code",
      "metadata": {},
      "source": [
        "res_nivel_7(\n",
        "    \"EM\",\"TPM\",\n",
        "    \"Niv_Gr_3\",\"01\",\n",
        "    \"Id\",\"Nombre\",\"Niv_Descr_1\",\"Niv_Descr_2\").sort(\"Niv_Descr_2\")"
      ],
      "id": "31a86115",
      "execution_count": null,
      "outputs": []
    },
    {
      "cell_type": "markdown",
      "metadata": {},
      "source": [
        "Resultados de una sola variable:\n"
      ],
      "id": "f7ecda3f"
    },
    {
      "cell_type": "code",
      "metadata": {},
      "source": [
        "Id = 699\n",
        "df = get_df(Id)\n",
        "# get_plot(Id)\n",
        "df"
      ],
      "id": "9b478928",
      "execution_count": null,
      "outputs": []
    },
    {
      "cell_type": "markdown",
      "metadata": {},
      "source": [
        "### EC = Estadísticas Cambiarias\n"
      ],
      "id": "88837ef1"
    },
    {
      "cell_type": "code",
      "metadata": {},
      "source": [
        "res_nivel_2(\"EC\")"
      ],
      "id": "d2ab5ac1",
      "execution_count": null,
      "outputs": []
    },
    {
      "cell_type": "markdown",
      "metadata": {},
      "source": [
        "#### TCR = Tipo de Cambio de Referencia\n"
      ],
      "id": "7f417720"
    },
    {
      "cell_type": "code",
      "metadata": {},
      "source": [
        "res_nivel_3(\"EC\",\"TCR\",\"Niv_Gr_3\").sort(\"Niv_Gr_3\")"
      ],
      "id": "93760281",
      "execution_count": null,
      "outputs": []
    },
    {
      "cell_type": "markdown",
      "metadata": {},
      "source": [
        "Para ver todas las variables:\n"
      ],
      "id": "63d6bd4d"
    },
    {
      "cell_type": "code",
      "metadata": {},
      "source": [
        "# df_all.filter(pl.col(\"Nombre\") == \"EC-TCR-01\").select(pl.all().is_not_null())\n",
        "df_all.filter(pl.col(\"Nombre\") == \"EC-TCR-01\")[:, df_all.select(pl.all().is_not_null().all()).row(0)]"
      ],
      "id": "40ed5a42",
      "execution_count": null,
      "outputs": []
    },
    {
      "cell_type": "markdown",
      "metadata": {},
      "source": [
        "Resultados de una sola variable:\n"
      ],
      "id": "d3d78565"
    },
    {
      "cell_type": "code",
      "metadata": {},
      "source": [
        "Id = 97\n",
        "df = get_df(Id)\n",
        "# get_plot(Id)\n",
        "df"
      ],
      "id": "fce9bac7",
      "execution_count": null,
      "outputs": []
    },
    {
      "cell_type": "markdown",
      "metadata": {},
      "source": [
        "#### TCN = Tipo de Cambio Nominal\n"
      ],
      "id": "357c0cd1"
    },
    {
      "cell_type": "code",
      "metadata": {},
      "source": [
        "res_nivel_3(\"EC\",\"TCN\",\"Niv_Gr_3\")"
      ],
      "id": "50dfc80e",
      "execution_count": null,
      "outputs": []
    },
    {
      "cell_type": "markdown",
      "metadata": {},
      "source": [
        "Para ver todas las variables:\n"
      ],
      "id": "a1e492ab"
    },
    {
      "cell_type": "code",
      "metadata": {},
      "source": [
        "res_nivel_7(\n",
        "    \"EC\",\"TCN\",\n",
        "    \"Niv_Gr_3\",\"01\",\n",
        "    \"Id\",\"Nombre\",\"Niv_Descr_1\",\"Niv_Descr_2\").sort(\"Niv_Descr_2\")"
      ],
      "id": "4fc8d4a6",
      "execution_count": null,
      "outputs": []
    },
    {
      "cell_type": "markdown",
      "metadata": {},
      "source": [
        "Resultados de una sola variable:\n"
      ],
      "id": "f751af6d"
    },
    {
      "cell_type": "code",
      "metadata": {},
      "source": [
        "Id = 619\n",
        "df = get_df(Id)\n",
        "# get_plot(Id)\n",
        "df"
      ],
      "id": "650e1d62",
      "execution_count": null,
      "outputs": []
    },
    {
      "cell_type": "markdown",
      "metadata": {},
      "source": [
        "### EP = EStadísticas de Precios\n"
      ],
      "id": "41f685ba"
    },
    {
      "cell_type": "code",
      "metadata": {},
      "source": [
        "res_nivel_2(\"EP\")"
      ],
      "id": "d2fff46d",
      "execution_count": null,
      "outputs": []
    },
    {
      "cell_type": "markdown",
      "metadata": {},
      "source": [
        "#### IPC  Índice de Precios al Consumidor\n"
      ],
      "id": "a4dbbe33"
    },
    {
      "cell_type": "code",
      "metadata": {},
      "source": [
        "res_nivel_3(\"EP\",\"IPC\",\"Niv_Gr_3\")"
      ],
      "id": "3141c655",
      "execution_count": null,
      "outputs": []
    },
    {
      "cell_type": "markdown",
      "metadata": {},
      "source": [
        "Para ver todas las variables:\n"
      ],
      "id": "11a2c459"
    },
    {
      "cell_type": "code",
      "metadata": {},
      "source": [
        "res_nivel_7(\n",
        "    \"EP\",\"IPC\",\n",
        "    \"Niv_Gr_3\",\"01\",\n",
        "    \"Id\",\"Nombre\",\"Niv_Descr_2\",\"Niv_Descr_4\").sort(\"Niv_Descr_2\")"
      ],
      "id": "0423562b",
      "execution_count": null,
      "outputs": []
    },
    {
      "cell_type": "markdown",
      "metadata": {},
      "source": [
        "Resultados de una sola variable:\n"
      ],
      "id": "f23a5a01"
    },
    {
      "cell_type": "code",
      "metadata": {},
      "source": [
        "Id = 608\n",
        "df = get_df(Id)\n",
        "get_plot(Id)\n",
        "df"
      ],
      "id": "d0e9ebfe",
      "execution_count": null,
      "outputs": []
    },
    {
      "cell_type": "markdown",
      "metadata": {},
      "source": [
        "## Nombre\n",
        "\n",
        "El campo \"Nombre\" es un código que contiene hasta 8 niveles de agrupación (tomando en cuenta una separación por \"-\"), siendo los primeros 7 iguales a las definiciones del campo \"Grupo\".\n"
      ],
      "id": "00185c80"
    },
    {
      "cell_type": "code",
      "metadata": {},
      "source": [
        "df_all.select(\n",
        "    \"Niv_Gr_1\",\"Niv_Gr_2\",\"Nombre\",\n",
        "    \"Niv_Descr_1\",\"Niv_Descr_2\",\"Niv_Descr_3\",\"Niv_Descr_4\",\"Niv_Descr_5\",\"Niv_Descr_6\",\"Niv_Descr_7\",\"Niv_Descr_8\").sort(\"Niv_Gr_1\")"
      ],
      "id": "0d00b7f3",
      "execution_count": null,
      "outputs": []
    },
    {
      "cell_type": "markdown",
      "metadata": {},
      "source": [
        "## Periodicidad\n"
      ],
      "id": "5f4916ee"
    },
    {
      "cell_type": "code",
      "metadata": {},
      "source": [
        "#| label: tbl-periodicidad\n",
        "#| tbl-cap: Número de Variables por Periodicidad\n",
        "\n",
        "# dfmeta = pl.DataFrame(dfmeta)\n",
        "variable = \"Periodicidad\"\n",
        "res = df_all.group_by(variable\n",
        "    ).agg(\n",
        "    pl.col(\"Periodicidad\").len().alias(\"N_Variables\"),\n",
        "    # pl.col(\"Monto\").sum().alias(\"Millones_USD\")\n",
        "    ).sort(\"N_Variables\",descending=True)\n",
        "pd.DataFrame(res).to_csv(\n",
        "        \"api/periodicidad.csv\",\n",
        "        sep=\";\")\n",
        "print(str(res[\"N_Variables\"].sum()) + \" variables\")\n",
        "res"
      ],
      "id": "tbl-periodicidad",
      "execution_count": null,
      "outputs": []
    },
    {
      "cell_type": "markdown",
      "metadata": {},
      "source": [
        "# Obtener Variables por Id\n",
        "\n",
        "## Una sola variable\n"
      ],
      "id": "1f30b036"
    },
    {
      "cell_type": "code",
      "metadata": {},
      "source": [
        "df_all = save_variables()\n",
        "Id = 204\n",
        "df = get_df(Id)\n",
        "get_plot(Id)\n",
        "df.columns\n",
        "df.write_csv(\n",
        "    file_path + \"/api/data.csv\",\n",
        "    separator=\";\")\n",
        "df "
      ],
      "id": "99706eeb",
      "execution_count": null,
      "outputs": []
    },
    {
      "cell_type": "code",
      "metadata": {},
      "source": [
        "Id = 7\n",
        "df = get_df(Id)\n",
        "get_plot(Id)\n",
        "df.columns\n",
        "df.write_csv(\n",
        "    file_path + \"/api/data.csv\",\n",
        "    separator=\";\")\n",
        "df"
      ],
      "id": "50221252",
      "execution_count": null,
      "outputs": []
    },
    {
      "cell_type": "markdown",
      "metadata": {},
      "source": [
        "## Varias variables\n"
      ],
      "id": "d210bddc"
    },
    {
      "cell_type": "code",
      "metadata": {},
      "source": [
        "Id = [1,2,3]\n",
        "# Id = [6282,204,1]\n",
        "# Id = [608,609,610]\n",
        "\n",
        "df = get_df(Id[0])\n",
        "for i in range(1,len(Id)):\n",
        "    df = df.join(\n",
        "        get_df(Id[i]), \n",
        "        left_on=['Fecha'], \n",
        "        right_on=['Fecha'], \n",
        "        how='left')\n",
        "df.write_csv(\n",
        "    file_path + \"api/data.csv\",\n",
        "    separator=\";\")\n",
        "df    "
      ],
      "id": "78e24dc4",
      "execution_count": null,
      "outputs": []
    }
  ],
  "metadata": {
    "kernelspec": {
      "name": "python3",
      "language": "python",
      "display_name": "Python 3 (ipykernel)"
    }
  },
  "nbformat": 4,
  "nbformat_minor": 5
}